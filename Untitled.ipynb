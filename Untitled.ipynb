{
 "cells": [
  {
   "cell_type": "markdown",
   "metadata": {},
   "source": [
    "# Dynamika wchłaniania się leków - farmakokinetyka"
   ]
  },
  {
   "cell_type": "markdown",
   "metadata": {},
   "source": [
    "### Równania różniczkowe w technice"
   ]
  },
  {
   "cell_type": "markdown",
   "metadata": {},
   "source": [
    "#### Urszula Spik i Natalia Jelito\n",
    "---"
   ]
  },
  {
   "cell_type": "markdown",
   "metadata": {},
   "source": [
    "## Spis treści:"
   ]
  },
  {
   "cell_type": "markdown",
   "metadata": {},
   "source": [
    "1. [Czym jest farmakokinetyka i jej zastosowania](#1)\n",
    "2. [Nota historyczna](#2)\n",
    "3. [Model jednokompartmentowy - pojęcia wstępne](#3)\n",
    "    1. [Pojęcie kompartmentu](#3.1)\n",
    "    2. [otwarty model jednokompartmentowy](#3.2)\n",
    "    3. [założenia dla modelu kompartmentowego](#3.3)\n",
    "4. [Masa (stężenie) leku we krwi jako funkcja czasu](#4)\n",
    "    1. [Dawka jednorazowa dożylna](#4.1)\n",
    "    2. [Dawka jednorazowa pozanaczyniowa](#4.2)\n",
    "5. [Parametry farmakokinetyczne](#5)\n",
    "6. [LADME - procesy farmakinetyczne](#6)\n",
    "    1. [Uwalnianie (L)](#6.1)\n",
    "    2. [Wchłanianie (A)](#6.2)\n",
    "    3. [Rozmieszczanie (D)](#6.3)\n",
    "    4. [Metabolizm (M)](#6.4)\n",
    "    5. [Wydalanie (E)](#6.5)\n",
    "7. [Zastosowanie modelu na przykładach](#7)\n",
    "    1. [Dawka jednorazowa dożylna](#7.1)\n",
    "    2. [Dawka jednorazowa doustna](#7.2)\n",
    "---"
   ]
  },
  {
   "cell_type": "markdown",
   "metadata": {},
   "source": [
    "## 1. Czym jest farmakokinetyka i jej zastosowania <a name=\"1\"></a>"
   ]
  },
  {
   "cell_type": "markdown",
   "metadata": {},
   "source": [
    "**Farmakokinetyka** *(pharmacokinetics)* to dziedzina farmakologii opisująca przebieg procesów dotyczących losów leków i ich metabolitów w czasie.\n",
    "\n",
    "Celem nowoczesnej farmakometrii jest  jest kontrola właściwości leku na każdym etapie jego tworzenia, czyli zaczynając od szukania kandydatów na leki, poprzez projekt i formulację postaci aż do zastosowania u pacjenta i późniejszym zakończeniu terapii i kontroli jej skutków. Obiektywne kontrolowanie właściwości leku jest możliwe dzięki złożonemu opisowi fizykochemicznemu oraz matematycznemu zarówno samego leku jak i zmian jakim ulega na przestrzeni czasu w żywym organizmu.\n",
    "\n",
    "Obecnie analiza parametrów farmakokinetycznych i toksykokinetycznych rozwija się w czterech podstawowych środowiskach badawczych: *in silico*, *in vivo*, *in vitro*, *in situ*.\n"
   ]
  },
  {
   "cell_type": "markdown",
   "metadata": {},
   "source": [
    "## 2. Nota historyczna <a name=\"2\"></a>"
   ]
  },
  {
   "cell_type": "markdown",
   "metadata": {},
   "source": [
    "Termin farmakokinetyka został wprowadzony dopiero 1953 przez Friedricha Hartmuta Dosta, a jej gwałtowny rozwój przypada na okres powojenny, głównie w Stanach Zjednoczonych i Europie Zachodniej. Było to uwarunkowane szerokim zstosowaniem cydrowych i analogowych maszyn matematycznych.\n",
    "\n",
    "Jednym z początkowych, przełomowych wydarzeń było wykazanie przez Erika Widmarka w latach 1920-1932, że jest możliwe przedstawienie zamiany stęzenia we krwi acetonu i alkoholu etylowego w sposób matematyczny za pomocą prostych równań i wykresów.\n",
    "\n",
    "Pierwasza publikacja z zakresu farmakokinetyki miała miejsce w 1937 przez Torstena i Teorell pt. *„Kinetics of distribution of substances administered to the body”.*"
   ]
  },
  {
   "cell_type": "markdown",
   "metadata": {},
   "source": [
    "## 3. Model jednokompartmentowy  <a name=\"3\"></a>"
   ]
  },
  {
   "cell_type": "markdown",
   "metadata": {},
   "source": [
    "### A. Pojęcie kompartmentu <a name=\"3.1\"></a>"
   ]
  },
  {
   "cell_type": "markdown",
   "metadata": {},
   "source": [
    "Aby interpretować wyniki w sposób matematyczny przyjmuje się model w którym organizm składa się z jednego bądź kilku tzw. *kompartmentów*. \n",
    "\n",
    "Stosowane w modelu matematycznym kompartmenty nie zawsze pokrywają się ze strukurami anatomicznymi organizmu. Przyjmuje się, że z uwagi na złożone struktury każdego żywego organizmu stanowią one układ wielokompartmentowy. Jednak można zauważyć, że wiele tkanek wykazuje podobne właściwości w odniesieniu do badanego leku. Dzięki temu możliwe jest łączenie ich w jeden kompartment i w ten sposób redukować liczbę kompartmentów do jedynie kilku.\n",
    "Kompartment nie zawsze dotyczy stanu fizycznego substancji leczniczej, czyli miejsca jej występowania w organizmie a jej różnych form.\n",
    "\n",
    "Biorąc te założenia można podać definicję kompartmentu:\n",
    "\n",
    "*Jeśli lek występuje w układzie biologicznym w kulku rozróżnialnych formach lub miejscach organizmu i jeśli przechodzi z jednej formy lub miejsca w inną formę lub do innego miejsca z mierzalną szybkością, to wtedy każda forma i(lub) każde miejsce są traktowane jako oddzielne kompartmenty*."
   ]
  },
  {
   "cell_type": "markdown",
   "metadata": {},
   "source": [
    "### B. Otwarty model jednokompartmentowy <a name=\"3.2\"></a>"
   ]
  },
  {
   "cell_type": "markdown",
   "metadata": {},
   "source": [
    "To najprostszy model farmakokinetyczny. Składa się on z jednego kompartmentu. Pkreślamy go jako otwarty ponieważ można wprowadzić do organizmu lek różnymi sposobami (dożylnie lub pozanaczyniowo), eliminowany jest również innymi drogami (np. przez nerki z moczem)."
   ]
  },
  {
   "cell_type": "markdown",
   "metadata": {},
   "source": [
    "### C. Założenia dla modelu kompartmentowego <a name=\"3.3\"></a>"
   ]
  },
  {
   "cell_type": "markdown",
   "metadata": {},
   "source": [
    "* Organizm to jeden kompartment którego objętość dystrybucji wynosi $V_d$.\n",
    "* Nastąpuje natychmiastowe i homogeniczne mieszanie leku w krążących płynach i tkankach organizmu.\n",
    "* Badana objętość płynu ustrojowego ma określoną masę leku, która jest cały czas proporcjonalna do stężenia leku w każdym dostępnym płynie ustrojowym lub w każdej liczącej się tkance.\n",
    "* Lek eliminowany jest od razu po wprowadzeniu.\n",
    "* Procesy wchłaniania i eliminacji zachodzą z różnymi szybkościami. Przeważnie wchłanianie jest szybsze od eliminacji.\n",
    "* Stała szybkości eliminacji leku z organizmu ($\\mathrm{K}$) jest sumą wszystkich szybkości wydalania z organizmu"
   ]
  },
  {
   "cell_type": "markdown",
   "metadata": {},
   "source": [
    "## 4. Masa (stężenie) leku we krwi jako funkcja czasu <a name=\"4\"></a>"
   ]
  },
  {
   "cell_type": "markdown",
   "metadata": {},
   "source": [
    "### A. Dawka jednorazowa dożylna w modelu jednokompartmentowym<a name=\"4.1\"></a>"
   ]
  },
  {
   "cell_type": "markdown",
   "metadata": {},
   "source": [
    "Model ten można zobrazować za pomocą poniższego schematu:"
   ]
  },
  {
   "cell_type": "markdown",
   "metadata": {},
   "source": [
    "![Dawka jednorazowa dożyln](obrazy/dozylnaschemat.png)"
   ]
  },
  {
   "cell_type": "markdown",
   "metadata": {},
   "source": [
    "gdzie:\n",
    "\n",
    "$X_0$ - masa leku podana dożylnie (dawka) w postaci jednorazowego wstrzyknięcia,\n",
    "\n",
    "$X$ - masa leku we krwi (reprezentującej cały komparment) w czasie t,\n",
    "\n",
    "$X_u$ - masa leku we krwi (reprezentującej cały kompartment) w czasie t,\n",
    "\n",
    "$X_{nr}$ - masa leku wydalona drogami pozanerkowymi w czasie t, \n",
    "\n",
    "$\\mathrm{k_e}$ - stała szybkości wydalania leku przez nerki zgodnie z procesem pierwszego rzędu, \n",
    "\n",
    "$\\mathrm{k_{nr}}$ - stała szybkości pierwszego rzędu wydalania leku drogami pozanerkowymi, np. z żółcią po metabolizmie w wątrobie."
   ]
  },
  {
   "cell_type": "markdown",
   "metadata": {},
   "source": [
    "Stałą szybkości eliminacji leku z organizmu możemy zapisać jako:\n",
    "$$ \\mathrm{K} = \\mathrm{k_e} + \\mathrm{k_{nr}} \\tag{4.1}$$"
   ]
  },
  {
   "cell_type": "markdown",
   "metadata": {},
   "source": [
    "W ten sposób, przy założeniu, że dystrybucja dawki dożylnej będzie zachodziła natychmiastowo w całym organizmie (kompartmencie), nasz model ulega uproszczeniu:"
   ]
  },
  {
   "cell_type": "markdown",
   "metadata": {},
   "source": [
    "![Dawka dożylna schemat uproszczony](obrazy/dozylnaschematupr.png)"
   ]
  },
  {
   "cell_type": "markdown",
   "metadata": {},
   "source": [
    "W celu wyprowadzenia równania na ilość leku we krwi będącego funkcją czasu należy rozwiązać równanie różniczkowe pierwszego rzędu w postaci:\n",
    "$$ \\frac{dX}{dt} = -\\mathrm{K} \\cdot X \\tag{4.2}$$"
   ]
  },
  {
   "cell_type": "markdown",
   "metadata": {},
   "source": [
    "Korzystając z metody rozdzielenia zmiennych uzyskujemy równanie\n",
    "$$ \\int_{X}^{X_0} \\frac{dX}{X} = -\\mathrm{K} \\cdot \\int_{0}^{t} dt $$\n",
    "\n",
    "Które po scałkowaniu przyjmuje postać\n",
    "$$ \\mathrm{ln}X - \\mathrm{ln}X_0 = -\\mathrm{K} \\cdot t$$\n"
   ]
  },
  {
   "cell_type": "markdown",
   "metadata": {},
   "source": [
    "Następnie można sprowadzić je do równania:\n",
    "\n",
    "$$X = X_0 \\cdot \\mathrm{e}^{-\\mathrm{K} \\cdot t} \\tag{4.3}$$"
   ]
  },
  {
   "cell_type": "markdown",
   "metadata": {},
   "source": [
    "Z czego widać, że masa leku we krwi jest malejącą funkcją wykładniczą czasu."
   ]
  },
  {
   "cell_type": "markdown",
   "metadata": {},
   "source": [
    "Za pomocą doświadczeń w praktyce wyznacza się stężenie leku we krwi ($C$), a nie jego masę. Zatem powyższe równanie jest niepraktyczne. \n",
    "\n",
    "Wprowadżmy jednak pojęcie objętości dystrybucji ($V_d$), czyli hipotetycznej objętości płynów ustrojowych, których po homogenicznym rozmieszczeniu wprowadzanej dawki dożylnej lek miałby takie stężenie jak we krwi. W tym momencie można zapisać, że $$X = V_d \\cdot C \\tag{4.4}$$"
   ]
  },
  {
   "cell_type": "markdown",
   "metadata": {},
   "source": [
    "Używrając tej równości doprowadzamy nasze równanie do postaci \n",
    "\n",
    "$$ C = C_0 \\cdot \\mathrm{e}^{-\\mathrm{K} \\cdot t} \\tag{4.5}$$"
   ]
  },
  {
   "cell_type": "markdown",
   "metadata": {},
   "source": [
    "### 4.2 Dawka pozanaczyniowa<a name=\"4.2\"></a>"
   ]
  },
  {
   "cell_type": "markdown",
   "metadata": {},
   "source": [
    "## 5. Parametry farmakokinetyczne<a name=\"5\"></a>\n",
    "Do parametrów farmakokinetycznych należą:\n",
    "* AUC - wielkość powierzchni pod krzywą zmian stężenia leku we krwi,\n",
    "* maksymalne stężenie leku we krwi ($C_{max}$),\n",
    "* czas, po którym zostaje osiągnięte stężenie maksymalne ($t_{max}$),\n",
    "* objętość dystrybucji\n",
    "* stała szybkość eliminacji ($\\mathrm{K}$)\n",
    "* biologiczny okres półtrwania\n",
    "* klirens leku\n",
    "\n",
    "Powiązane są one z procesami farmakokinetycznymi."
   ]
  },
  {
   "cell_type": "markdown",
   "metadata": {},
   "source": [
    "## 6. LADME - procesy farmakokinetyczne<a name=\"6\"></a>"
   ]
  },
  {
   "cell_type": "markdown",
   "metadata": {},
   "source": [
    "Do opisu procesów farmakokinetycznych używany jest system LADME. \n",
    "Jest to skrót od angielskich słów:\n",
    "* L - liberation (uwalnianie),\n",
    "* A - absorption (wchłanianie),\n",
    "* D - distribution (rozmieszczenie)\n",
    "* M - metabolism (metabolizm), \n",
    "* E - excretion/ elimination (wydalanie, usuwanie).\n",
    "\n",
    "Odzwierciedla on drogę jaką przechodzi lek od podania do wydalenia z organizmu.\n",
    "Często rozbudowany jest do LADMER dla podkreślenia analizy efektu - R (ang. response). Najczęściej obliczane parametry dotyczą procesów mieszczących się w pojęciach A, D, M, E."
   ]
  },
  {
   "cell_type": "markdown",
   "metadata": {},
   "source": [
    "### A. Uwalnianie (L) <a name=\"6.1\"></a>\n",
    "Pierwszym z procesów zachodzących po wprowadzeniu leku do organizmu jest uwalnianie związku leczniczego z postaci leku (np. tabletka, drażetka). Aby lek został wchłonięty do krwioobiegu konieczne jest rozpuszczenie substancji lecznicej.\n",
    "\n",
    "Etapy uwalniania leku:\n",
    "1. rozpad postaci leku - \"Postać leku wprowadzona do organizmu ulega rozpadowi na mniejsze fragmenty. Im mniejsze są elementy tym lepiej są rozpuszczalne i wchłaniane. Stopień rozpadalności postaci leku może mieć wpływ na szybość rozpuszczania\".\n",
    "2. rozpuszczanie substancji leczniczej \n",
    "3. dyfuzja leku do miejsca wchłaniania"
   ]
  },
  {
   "cell_type": "markdown",
   "metadata": {},
   "source": [
    "### B . Wchłanianie (A) <a name=\"6.2\"></a>\n",
    "Wchłanianie to przenoszenie substancji leczniczej z miejsca wchłaniania do krążenia ogólnego. Odbywa się ono na zasadzie przenikania cząstek leku przez błony biologiczne. Jedynie bezpośrednie podanie leku do krwi omija ten proces.\n",
    "\n",
    "\n",
    "\n",
    "1. **Stan stacjonarny (steady state)**\n",
    "\n",
    "    Przy wielokrotnym dawkowaniu leku, w miarę podawania kolejnych dawek, stężenie leku we krwi rośnie i ustala się stan stacjonarny, w którym szybkość i ilość leku dostające się do organizmu równają się szybkości i ilości leku opuszczającej organizm.\n",
    "\n",
    "2. **Efekt pierwszego przejścia (first pass effect)** \n",
    "\n",
    "    Zjawisko zmniejszania ilości leku po jego wchłonięciu z przewodu pokarmowego, a przed dotarciem do krązenia ogólnego. Substancja podana doustnie przechodzi do krwiobiegu przez układ krążenia, co oznacza, że musi najpierw przejść przez wątrobę. W efekcie dawka tego samego leku podana doustnie zazwyczaj jest większa niż równoważna dawka podawana np. dożylnie (rodzaje transportu)\n",
    "3. **Dostępność biologiczna** \n",
    "\n",
    "    Dostęność biologiczna jest określana przez ułamek dawki substancji leczniczej, który dostaje się do krążenia ogólnego i przez szybkość z jaką zachodzi ten proces. Stopień dostępności biologicznej jest zależny od procesu technologicznego produkcji danego preparatu. Charakteryzują ją następujące parametry farmakokinetyczne:\n",
    "    * wielkość pod krzywą zmian stężenia leku we krwi, czyli pole pod krzywą AUC (Area Under the Curve), parametr informuje o całkowitej ilości leku jaka została wchłonięta do organizmu\n",
    "    * maksymalne stężenie leku we krwi ($C_{max}$)\n",
    "    * czas, po którym zostaje osiągnięte stężenie maksymalne ($t_{max}$)\n",
    "    \n",
    "    Warunkiem działania leczniczego jest takie stężenie maksymalnego leku we krwi, które zajmie obszar powyżej minimalnego stężenia terapeutycznego MEC (Minimal Effective Concentration) oraz poniżej minimalnego stężenia toksycznego MTC (Minimal Toxic Concentration) \n",
    "    \n",
    "    Istnieje podział na biodostępność względną i bezwzględną:\n",
    "       \n",
    "    + biodostępność bezwzględną określa się porównując biodostępność leku podanego pozanaczyniowo z tym samym lekiem podanym donaczyniowo, aby ocenić jest wartość leczniczą przy innej niż donaczyniowa drodze podania. (tu wzorek)\n",
    "    + biodostępność względną wyznaczamy porównując preparat badany z preparatem standardowym o znanej dostępności biologicznej (tu wzorek)\n",
    "    "
   ]
  },
  {
   "cell_type": "markdown",
   "metadata": {},
   "source": [
    "### C. Rozmieszczenie (D) <a name=\"6.3\"></a>\n",
    "Kolejnym procesem jest rozmieszczenie wchłoniętej substancji leczniczej w organizmie zapewniające dotarcie leku do miejsca jego działania.\n",
    "1. **Objętość dystrybucji ($V_d$)**\n",
    "\n",
    "    parametr farmakokinetyczny definiowany jako hipotetyczna objętość płynów ustrojowych, w której lek, po równomiernym rozmieszczeniu, osiągałby takie samo stężenie jak we krwi. Wyrażana jest w litrach. W praktyce oznacza to, że gdy objętość dystrybucji wynosi:\n",
    "    * 3 - 5 litrów (4,3% masy ciała) - dystrybucjaleku ograniczona jest do krwi.\n",
    "    * 10 - 20 litrów (23% masy ciała) - lek rozmieszcza się w płynie pozakomórkowym.\n",
    "    * 25 - 30 litrów (34% masy ciała) - lek rozmieszcza się w płynie pozakomórkowym(???????)\n",
    "    * ok. 40 litrów (60% masy ciała) - lek rozmieszcza się we wszystkich płynach organizmu\n",
    "    * 100% masy ciała - lek silnie łączy się z tkankami i kumuluje w narządach.\n",
    "    \n",
    "    Dla wielu leków wartość wartość dystrybucji przekracza realną ilość płynów ustrojowych w organizmie, dlatego zwana jest pozorną. Matematycznie określa się ją jako stosunek całkowitej ilości leku w organizmie ($X$) do stężenia leku we krwi ($C$). $$ V_d = \\frac{X}{C} $$\n",
    "    \n",
    "    Objętość dystrybucji jest współczynnikiem pozwalającym obliczyć stężenie leku we krwi na niedającą się wyznaczyć doświadczalnie ilość (masę) leku w organizmie $$ X = V_d \\cdot C $$\n",
    "    \n",
    "    (dawka nasycająca)\n",
    "    \n",
    "    Objętość dystrybucji zależy w dużym stopniu od masy ciała, dlatego można posługiwać się tzw, względną objętościa dystrybucji (współczynnikiem dystrybucji), $\\Delta '$: $$\\Delta = \\frac{V_d}{BW} $$ gdzie $BW$ jest masą ciała.\n",
    "    \n",
    "    Tak zdefiniowany parametr określa ułamek objętości ciała (całe ciało to 1), gdzie lek dociera. Dla większości leków ten współczynnik jest mniejszy od 1, ponieważ niecałkowita objętość organizmu jest dla tych leków dostęna. Względna objętość dystrybucji większa od 1 jest wielkością charakterystyczną dla leków w znacznym stopniu wiążących się z białkami krwi lub wykazujących duże powinowactwo do tkanki kostnej lub tłuszczowej.\n",
    "\n",
    "\n",
    "2. (Wiązanie się z białkami)"
   ]
  },
  {
   "cell_type": "markdown",
   "metadata": {},
   "source": [
    "### D. Metabolizm (M)<a name=\"6.4\"></a>\n",
    "Metabolizm leku to wszystkie przemiany biochemiczne, którym ulega lek w żywym organizmie, które mają na celu unieczynnienie substancji oraz ułatwienie jego eliminacji z organizmu. Zachodzą głównie w mikrosomach wątroby, ale też w przewodzie pokarmowym, płucach, nerkach, obrębie skóry i innych tkankach. Procesy związane z metabolizmem zachodzą w dwóch fazach.\n",
    "1. Reakcje pierwszej fazy:\n",
    "    * utlenianie, \n",
    "    * redukcja, \n",
    "    * hydroliza.\n",
    "2. Reakcje drugiej fazy można podzielić na reakcje:\n",
    "    * sprzęgania z kwasem glukuronowym, siarkowym, glutaminowym, z glukozą, aminokwasami, glicyną, z grupą metylową,\n",
    "    * acetylacji,\n",
    "    * alkilacji."
   ]
  },
  {
   "cell_type": "markdown",
   "metadata": {},
   "source": [
    "### E. Wydalanie/usuwanie (E)<a name=\"6.5\"></a>\n",
    "Ostatnim etapem jest wydalanie leków z organizmu. Odbywa się ono wieloma kanałami, przez nerki z moczem, przez wątrobę żółcią, przez gruczoły ślinowe ze śliną, przez gruczoły potowe z potem, przez płuca z wydychanym powietrzem, przez gruczoły mleczne z mlekiem.\n",
    "\n",
    "Z procesem usuwania leku powiązane są następujące parametry farmakokinetyczne:\n",
    "1. **Stała szybkość eliminacji ($\\mathrm{K}$)** która jest sumą wszystkich stałych szybkości wydalania leku z organizmu.\n",
    "\n",
    "    Wyznacza się ją z równania (jakiegośtam). Z tego równania możemy wywnioskować, że lnC jest liniową funkcją czasu (t). Współczynnik kierunkowy otrzymanej prostej równa się -K. Po zamianie znaku współczynnika kierunkowego prostej otrzymuje się wartość stałej szybkości eliminacji leku z krwi różnymi drogami. Jej wymiar stanowi odwrotność jednostki czasu ( 1/h). Wartość tej stałej jest więc niezależna od sposobu wyrażania stężeń leku we krwi, co jest cechą charakterystyczną tylko stałej szybkości pierwszego rzędu.\n",
    "\n",
    "2. **Biologiczny okres półtrwania**, który jest czasem, w którym stężenie leku we krwi, surowicy lub w osoczu spadnie do połowy wartości wyjściowej. Parametr ten pozwala określić m.in. dawkowanie leków. Wyprowadza się go z równania $\\mathrm{K} \\cdot t = \\mathrm{ln}C_0 - \\mathrm{ln}C$, wtedy \n",
    "$$ t = \\frac{\\mathrm{ln}\\left(\\frac{C}{C_0}\\right)}{\\mathrm{K}}$$\n",
    "\n",
    "    My szukamy takiego $t$ dla którego $C = \\frac{C_0}{2}$, czyli gdzie stężenie spadnie do połowy początkowego stężenia. $$ t_{\\frac{1}{2}} = \\frac{\\mathrm{ln}\\left(\\frac{2 C_0}{C_0}\\right)}{\\mathrm{K}} = \\frac{\\mathrm{ln}2}{\\mathrm{K}}$$\n",
    "    \n",
    "    Przybliżając $\\mathrm{ln}2 = 0,693$ otrzymujemy $t_{\\frac{1}{2}} = \\frac{0.693}{\\mathrm{K}}$\n",
    "    \n",
    "    Wartość $t_{\\frac{1}{2}}$ jest wartością charakterystyczną dla danego leku, jednak zależy od różnych czynników np. płci, wieku, stanu zdrowotnego czy aktywności fizycznej.\n",
    "    \n",
    "3. **Klirens leku (ang. clearance czyli oczyszczanie)**\n",
    "\n",
    "    Wyraża sprawność, z jaką osocze zostaje oczyszczone z danej substancji. Wyrażany jest jako objętość osocza całkowicie oczyszczonego z danej substancji w jednostce czasu. Wylicza się go z następujących wzorów:\n",
    "    * $ Cl = \\frac{v}{C} $ gdzie $v$ jest szybkością eliminacji leku\n",
    "    * $ Cl = \\mathrm{K} \\cdot V_d$\n",
    "\n",
    "    Rozpatrując narząd, który eliminuje lek oznaczmy szybkość transportu tego leku przez narząd jako $Q$ [ml/min], $Ca$- stężenie leku we krwi tętniczej wpływającej do narządu, $Cv$ - stężenie leku we krwi żylnej opuszczającej narząd. Wtedy iloczyn $Ca \\cdot Q $ określa szybkość transportu do danego narządu, a iloczyn $Cv \\cdot Q$ - szybkość z jaką lek opuszcza ten narząd. Stąd szybkość eliminacji możemy określić jako różnicę $Ca \\cdot Q - Cv \\cdot Q = Q(Ca - Cv)$\n",
    "    \n",
    "    Bezwymiarową wielkość zwaną współczynnikiem ekstrakcji (ang. ER - Extraction Ratio) wyraża się jako \n",
    "$$ER = \\frac{Q(Ca - Cv)}{Q \\cdot Ca} = \\frac{Ca - Cv}{Ca}$$\n",
    "    Gdy ER = 0 to narząd nie eliminuje leku ($Ca = Cv$). Przy niemal całkowitej eliminacji leku przez dany narząd $(Cv = 0)$ $ER = 1$. Współczynnik ekstrakcji można traktować jako wskaźnik skuteczności oczyszczania krwi przez dany narząd.\n",
    "    \n",
    "    Klirens ogólnoustrojowy $(Cls)$ jest sumą poszczególnych klirensów narządowych. Wyraża się go stosunkiem eliminacji wprowadzonej masy ($X$) leku do jego stężenia we krwi lub osoczu.\n",
    "$$Cls = \\frac{1}{C} \\cdot \\frac{\\mathrm{d}X}{\\mathrm{d}t}$$\n",
    "    Całkując powyższe równanie na przedziale czasu od $t = 0$ do $t = \\infty$ uzyskuje sie wyrażenie:\n",
    "    (tu scałkowanie)\n",
    "    Wyrażenie w liczniku odpowiada całkowitej masie wyeliminowanego leku, czyli podanej dożylnie dawce $D$, a mianownik równa się poku pod krzywą stężenia leku we krwi jako funkcji czasu ( AUC):\n",
    "$$Cls = \\frac{D}{AUC}$$\n",
    "    Z równań (których) można wyznaczyć zależność między parametrami Vd, K i Cls:\n",
    "$$Vd = \\frac{Cls}{K}$$\n"
   ]
  },
  {
   "cell_type": "code",
   "execution_count": null,
   "metadata": {},
   "outputs": [],
   "source": []
  },
  {
   "cell_type": "code",
   "execution_count": null,
   "metadata": {},
   "outputs": [],
   "source": []
  }
 ],
 "metadata": {
  "kernelspec": {
   "display_name": "Python 3",
   "language": "python",
   "name": "python3"
  },
  "language_info": {
   "codemirror_mode": {
    "name": "ipython",
    "version": 3
   },
   "file_extension": ".py",
   "mimetype": "text/x-python",
   "name": "python",
   "nbconvert_exporter": "python",
   "pygments_lexer": "ipython3",
   "version": "3.8.5"
  }
 },
 "nbformat": 4,
 "nbformat_minor": 4
}
