{
 "cells": [
  {
   "cell_type": "markdown",
   "metadata": {},
   "source": [
    "# Dynamika wchłaniania się leków - farmakokinetyka"
   ]
  },
  {
   "cell_type": "markdown",
   "metadata": {},
   "source": [
    "### Równania różniczkowe w technice"
   ]
  },
  {
   "cell_type": "markdown",
   "metadata": {},
   "source": [
    "#### Urszula Spik i Natalia Jelito\n",
    "---"
   ]
  },
  {
   "cell_type": "markdown",
   "metadata": {},
   "source": [
    "## Spis treści:"
   ]
  },
  {
   "cell_type": "markdown",
   "metadata": {},
   "source": [
    "1. [Czym jest farmakokinetyka i jej zastosowania](#1)\n",
    "2. [Nota historyczna](#2)\n",
    "3. [Model jednokompartmentowy - pojęcia wstępne](#3)\n",
    "    1. [Pojęcie kompartmentu](#3.1)\n",
    "    2. [Modelowanie kompartmentowe](#3.2)\n",
    "    3. [Otwarty model jednokompartmentowy](#3.3)\n",
    "    4. [Założenia dla modelu kompartmentowego](#3.4)\n",
    "4. [Masa (stężenie) leku we krwi jako funkcja czasu](#4)\n",
    "    1. [Dawka jednorazowa dożylna](#4.1)\n",
    "    2. [Dawka jednorazowa pozanaczyniowa](#4.2)\n",
    "5. [Parametry farmakokinetyczne](#5)\n",
    "6. [LADME - procesy farmakinetyczne](#6)\n",
    "    1. [Uwalnianie (L)](#6.1)\n",
    "    2. [Wchłanianie (A)](#6.2)\n",
    "    3. [Rozmieszczanie (D)](#6.3)\n",
    "    4. [Metabolizm (M)](#6.4)\n",
    "    5. [Wydalanie (E)](#6.5)\n",
    "7. [Metody numeryczne](#6)\n",
    "    1. [Algorytm](#7.1)\n",
    "    2. [Implementacja](#7.2)\n",
    "8. [Zastosowanie modelu na przykładach](#8)\n",
    "    1. [Przykład 1](#8.1)\n",
    "        1. [Dawka jednorazowa dożylna](#8.1.1)\n",
    "        2. [Dawka jednorazowa doustna](#8.1.2)\n",
    "    2. [Przykład 2](#8.2)\n",
    "        1. [Dawka jednorazowa dożylna](#8.2.1)\n",
    "        2. [Dawka jednorazowa doustna](#8.2.2)\n",
    "9. [Bibliografia](#9)\n",
    "---"
   ]
  },
  {
   "cell_type": "markdown",
   "metadata": {},
   "source": [
    "## 1. Czym jest farmakokinetyka i jej zastosowania <a name=\"1\"></a>"
   ]
  },
  {
   "cell_type": "markdown",
   "metadata": {},
   "source": [
    "**Farmakokinetyka** *(pharmacokinetics)* to dziedzina farmakologii opisująca przebieg procesów dotyczących losów leków i ich metabolitów w organizmie w czasie. Oprócz tego, istotnym przedmiotem badań jest wpływ na te losy drogi podania leku oraz jego dawki.[3]\n",
    "\n",
    "Farmakokinetykę stosuje się aby kontrolować właściwości leku podczas jego tworzenia, na które składają się następujące etapy[2] :\n",
    "* szukanie kandydatów na leki  \n",
    "* projekt i formulacja postaci  \n",
    "* zastosowanie u pacjenta \n",
    "* zakończenie terapii\n",
    "* kontrola skutków terapii. \n",
    "\n",
    "Kontrolowanie właściwości leku jest możliwe dzięki matematycznemu i fizykochemicznemu opisowi leku, ale też zmian jakim ulega po wprowadzeniu do organizmu. \n",
    "\n",
    "Obecnie analiza parametrów farmakokinetycznych rozwija się w czterech podstawowych środowiskach badawczych: *in silico* (łac. w krzemie - komputerowo), *in vivo* (łac. na żywym - w organizmie), *in vitro*(łac, w szkle - laboratoryjnie), *in situ*(łac. w miejscu - reakcje biochemiczne w utrwalonym chemicznie organizmie).\n",
    "\n",
    "Zainteresowanie farmakokinetyką ma tendencję wzrostową, co widać w rosnącej liczbie publikacji naukowych zawierających słowo kluczowe *pharmacokinetics* w tytule publikacji.[4] \n",
    "\n",
    "![Występowanie słowa pharmacokinetics](obrazy/wystepowanie.png)"
   ]
  },
  {
   "cell_type": "markdown",
   "metadata": {},
   "source": [
    "## 2. Nota historyczna <a name=\"2\"></a>"
   ]
  },
  {
   "cell_type": "markdown",
   "metadata": {},
   "source": [
    "Termin farmakokinetyka został wprowadzony dopiero 1953 przez Friedricha Hartmuta Dosta, a jej gwałtowny rozwój przypadł na okres powojenny, głównie w Stanach Zjednoczonych i Europie Zachodniej. Było to uwarunkowane szerokim zastosowaniem cyfrowych i analogowych maszyn matematycznych.\n",
    "\n",
    "Farmakokinetyka jest dziedziną, która ma silny związek z osiągnięciami pochodzącymi z innych dziedzin naukowych. Przykład w tej sytuacji będzie stanowić analiza chemiczna, która dała początek podstawowym narzędziom analizy wykorzystywanych w farmakokinetyce.\n",
    "\n",
    "Jednym z początkowych, przełomowych wydarzeń było wykazanie przez Erika Widmarka w latach 1920-1932, że jest możliwe przedstawienie zamiany stęzenia we krwi acetonu i alkoholu etylowego w sposób matematyczny za pomocą prostych równań i wykresów.\n",
    "\n",
    "Pierwasza publikacja z zakresu farmakokinetyki miała miejsce w 1937 przez Torstena i Teorell pt. *„Kinetics of distribution of substances administered to the body”.*"
   ]
  },
  {
   "cell_type": "markdown",
   "metadata": {},
   "source": [
    "## 3. Model jednokompartmentowy  <a name=\"3\"></a>"
   ]
  },
  {
   "cell_type": "markdown",
   "metadata": {},
   "source": [
    "### A. Pojęcie kompartmentu <a name=\"3.1\"></a>"
   ]
  },
  {
   "cell_type": "markdown",
   "metadata": {},
   "source": [
    "Aby interpretować wyniki w sposób matematyczny przyjmuje się model, w którym organizm składa się z jednego bądź kilku tzw. *kompartmentów*. \n",
    "\n",
    "Stosowane w modelu matematycznym kompartmenty nie zawsze pokrywają się ze strukurami anatomicznymi organizmu. Przyjmuje się, że z uwagi na złożoność każdego żywego organizmu stanowią one układ wielokompartmentowy. Jednak można zauważyć, że wiele tkanek wykazuje podobne właściwości w odniesieniu do badanego leku. Dzięki temu możliwe jest łączenie ich w jeden kompartment i w ten sposób redukować liczbę kompartmentów do jedynie kilku.\n",
    "Kompartment nie zawsze dotyczy stanu fizycznego substancji leczniczej, czyli miejsca jej występowania w organizmie ale także jej różnych form.\n",
    "\n",
    "Biorąc te założenia można podać definicję kompartmentu:\n",
    "\n",
    "*Jeśli lek występuje w układzie biologicznym w kulku rozróżnialnych formach lub miejscach organizmu i jeśli przechodzi z jednej formy lub miejsca w inną formę lub do innego miejsca z mierzalną szybkością, to wtedy każda forma i(lub) każde miejsce są traktowane jako oddzielne kompartmenty*."
   ]
  },
  {
   "cell_type": "markdown",
   "metadata": {},
   "source": [
    "### B. Modelowanie kompartmentowe  <a name=\"3.2\"></a> [2]"
   ]
  },
  {
   "cell_type": "markdown",
   "metadata": {},
   "source": [
    "Modelowanie kompartmentowe zazwyczaj obejmuje modele składające się z 1, 2 lub 3 kompartmentów. \n",
    "Model jednokompartmentowy jest najbardziej uproszczony i nie opisuje dokładnie rzeczywistego przebiegu procesów w organizmie. Podstawą tego założenia jest fakt, że modelowanie kompartmentowe nie daje możliwości śledzenia procesów dystrybucji leku.\n",
    "\n",
    "Istnieje model jednokompartmentowy, który bierze pod uwagę istnienie komaprtmentów peryferyjnych. W tym przypadku również nie jest możliwy dokładny opis transportu leku .\n",
    "\n",
    "Bliższe rzeczywistości są modele składające się z 2 lub 3 kompartmentów. Podstawomymi kompartmentami, które składają się na organizm są komartment centralny oraz komaprtment obwodowy. Kompartmentem centralnym jest w zależności od definicji krew lub płyn międzykomórkowy i dobrze ukrwione narządy. Stężenie leku w dobrze unaczynionych narządach jest podobne do tego w osoczu.\n",
    "\n",
    "Kopartment peryferyjny to każda przestrzeń do której zachodzi dystrybucja. \n",
    "\n",
    "Kompartmentem tkankowym są tkanki słabounaczynione w których lek osiąga niższe stężenie i przenika wolniej. Proces przenikania leku do tkanek zależy od czynników takich jak  budowa chemiczna, postać leku czy droga podania.\n",
    "\n",
    "Kompartmentem efektorowym jest każde miejsce do którego dociera lek zapewniające efekt terapeutyczny. Zwykle są to tkanki objęte procesem patologicznym. Na przykłąd dla leków o działaniu miejscowym kompartmentem efektorowym jest powierzchnia skóry i komórki skóry. Trudnym zadaniem jest stworzenie leku, który zagwarantuje zaistnienie substancji leczniczej w konkretnym miejscu - kompartmencie efektorowym w odpowiednim stężeniu przez określony czas."
   ]
  },
  {
   "cell_type": "markdown",
   "metadata": {},
   "source": [
    "### C. Otwarty model jednokompartmentowy <a name=\"3.3\"></a>"
   ]
  },
  {
   "cell_type": "markdown",
   "metadata": {},
   "source": [
    "To najprostszy model farmakokinetyczny. Składa się on z jednego kompartmentu. Określamy go jako otwarty ponieważ można wprowadzić do organizmu lek różnymi sposobami (dożylnie lub pozanaczyniowo), eliminowany jest również innymi drogami (np. przez nerki z moczem)."
   ]
  },
  {
   "cell_type": "markdown",
   "metadata": {},
   "source": [
    "### D. Założenia dla modelu jednokompartmentowego <a name=\"3.4\"></a>"
   ]
  },
  {
   "cell_type": "markdown",
   "metadata": {},
   "source": [
    "* Organizm to jeden kompartment, którego objętość dystrybucji wynosi $V_d$.\n",
    "* Nastąpuje natychmiastowe i homogeniczne mieszanie leku w krążących płynach i tkankach organizmu.\n",
    "* Badana objętość płynu ustrojowego ma określoną masę leku, która jest cały czas proporcjonalna do stężenia leku w każdym dostępnym płynie ustrojowym lub w każdej liczącej się tkance.\n",
    "* Lek eliminowany jest od razu po wprowadzeniu.\n",
    "* Procesy wchłaniania i eliminacji zachodzą z różnymi szybkościami. Przeważnie wchłanianie jest szybsze od eliminacji.\n",
    "* Stosowane modele liniowe są stacjonarne tzn. występujące w równaniach różniczkowych stałe szybkości są nie zależne od czasu\n",
    "* Stała szybkości eliminacji leku z organizmu ($\\mathrm{K}$) jest sumą wszystkich szybkości wydalania z organizmu"
   ]
  },
  {
   "cell_type": "markdown",
   "metadata": {},
   "source": [
    "## 4. Masa (stężenie) leku we krwi jako funkcja czasu <a name=\"4\"></a>"
   ]
  },
  {
   "cell_type": "markdown",
   "metadata": {},
   "source": [
    "### A. Dawka jednorazowa dożylna w modelu jednokompartmentowym<a name=\"4.1\"></a> [3]"
   ]
  },
  {
   "cell_type": "markdown",
   "metadata": {},
   "source": [
    "Model ten można zobrazować za pomocą poniższego schematu:"
   ]
  },
  {
   "cell_type": "markdown",
   "metadata": {},
   "source": [
    "![Dawka jednorazowa dożyln](obrazy/dozylnaschemat.png)"
   ]
  },
  {
   "cell_type": "markdown",
   "metadata": {},
   "source": [
    "gdzie:\n",
    "\n",
    "$X_0$ - masa leku podana dożylnie (dawka) w postaci jednorazowego wstrzyknięcia,\n",
    "\n",
    "$X$ - masa leku we krwi (reprezentującej cały komparment) w czasie t,\n",
    "\n",
    "$X_u$ - masa leku we krwi (reprezentującej cały kompartment) w czasie t,\n",
    "\n",
    "$X_{nr}$ - masa leku wydalona drogami pozanerkowymi w czasie t, \n",
    "\n",
    "$\\mathrm{k_e}$ - stała szybkości wydalania leku przez nerki zgodnie z procesem pierwszego rzędu, \n",
    "\n",
    "$\\mathrm{k_{nr}}$ - stała szybkości pierwszego rzędu wydalania leku drogami pozanerkowymi, np. z żółcią po metabolizmie w wątrobie."
   ]
  },
  {
   "cell_type": "markdown",
   "metadata": {},
   "source": [
    "Stałą szybkości eliminacji leku z organizmu możemy zapisać jako:\n",
    "$$ \\mathrm{K} = \\mathrm{k_e} + \\mathrm{k_{nr}} \\tag{4.1}$$"
   ]
  },
  {
   "cell_type": "markdown",
   "metadata": {},
   "source": [
    "W ten sposób, przy założeniu, że dystrybucja dawki dożylnej będzie zachodziła natychmiastowo w całym organizmie (kompartmencie), nasz model ulega uproszczeniu:"
   ]
  },
  {
   "cell_type": "markdown",
   "metadata": {},
   "source": [
    "![Dawka dożylna schemat uproszczony](obrazy/dozylnaschematupr.png)"
   ]
  },
  {
   "cell_type": "markdown",
   "metadata": {},
   "source": [
    "W celu wyprowadzenia równania na ilość leku we krwi będącego funkcją czasu należy rozwiązać równanie różniczkowe pierwszego rzędu w postaci:\n",
    "$$ \\frac{dX}{dt} = -\\mathrm{K} \\cdot X \\tag{4.2}$$"
   ]
  },
  {
   "cell_type": "markdown",
   "metadata": {},
   "source": [
    "Korzystając z metody rozdzielenia zmiennych uzyskujemy równanie:\n",
    "$$ \\int_{X}^{X_0} \\frac{dX}{X} = -\\mathrm{K} \\cdot \\int_{0}^{t} dt $$\n",
    "\n",
    "Które po scałkowaniu przyjmuje postać:\n",
    "$$ \\mathrm{ln}X - \\mathrm{ln}X_0 = -\\mathrm{K} \\cdot t$$\n"
   ]
  },
  {
   "cell_type": "markdown",
   "metadata": {},
   "source": [
    "Następnie można sprowadzić je do równania:\n",
    "\n",
    "$$X = X_0 \\cdot \\mathrm{e}^{-\\mathrm{K} \\cdot t} \\tag{4.3}$$"
   ]
  },
  {
   "cell_type": "markdown",
   "metadata": {},
   "source": [
    "Z czego widać, że masa leku we krwi jest malejącą funkcją wykładniczą czasu."
   ]
  },
  {
   "cell_type": "markdown",
   "metadata": {},
   "source": [
    "Za pomocą doświadczeń w praktyce wyznacza się stężenie leku we krwi ($C$), a nie jego masę. Zatem powyższe równanie jest niepraktyczne. \n",
    "\n",
    "Wprowadżmy jednak pojęcie objętości dystrybucji ($V_d$), czyli hipotetycznej objętości płynów ustrojowych, których po homogenicznym rozmieszczeniu wprowadzanej dawki dożylnej lek miałby takie stężenie jak we krwi. W tym momencie można zapisać, że $$X = V_d \\cdot C \\tag{4.4}$$"
   ]
  },
  {
   "cell_type": "markdown",
   "metadata": {},
   "source": [
    "Używrając tej równości doprowadzamy nasze równanie do postaci:\n",
    "\n",
    "$$ C(t) = C_0 \\cdot \\mathrm{e}^{-\\mathrm{K} \\cdot t} \\tag{4.5}$$"
   ]
  },
  {
   "cell_type": "markdown",
   "metadata": {},
   "source": [
    "Powyższe równanie można zlogarytmować, wtedy przyjmuje ono postać liniowego równania pierwszego rzędu:\n",
    "$$\\mathrm{ln}C = \\mathrm{ln}C_0 - \\mathrm{K} \\cdot t \\tag{4.6}$$"
   ]
  },
  {
   "cell_type": "markdown",
   "metadata": {},
   "source": [
    "### B Dawka pozanaczyniowa<a name=\"4.2\"></a> [3]\n",
    "Gdy lek podawany jest pozanaczyniowo można przyjać następujący model jednokompartmentowy\n",
    "\n",
    "![Model pozanaczyniowy](obrazy/pozanacz.png)\n",
    "\n",
    "gdzie:\n",
    "$X_D$ - masa (ilość) leku w żołądku (mięśniu, jelicie grubym itp.)\n",
    "$\\mathrm{k}_a$ - stała szybkości pierwszego rzędu wchłaniania leku (absorbcji) do krwi.\n",
    "\n",
    "Naszym celem będzie znalezienie wzorów na $X_D$, $X$, $X_u$ jako funkcje czasu. \n",
    "Aby to osiągnąć zapiszmy odpowiednie równiania różniczkowe:\n",
    "$$-\\frac{\\mathrm{d}X_D}{\\mathrm{d}t} = \\mathrm{k}_a \\cdot X_D \\tag{4.6}$$\n",
    "$$ \\frac{\\mathrm{d}X}{\\mathrm{d}t} = \\mathrm{k}_a \\cdot X_D - \\mathrm{k}_e \\cdot X \\tag{4.7}$$\n",
    "$$\\frac{\\mathrm{d}X_u}{\\mathrm{d}t} = \\mathrm{k}_e \\cdot X \\tag{4.8}$$"
   ]
  },
  {
   "cell_type": "markdown",
   "metadata": {},
   "source": [
    "Z równania (4.6) otrzymujemy, że: $$X_D = X_{D_0} \\cdot \\mathrm{e}^{-\\mathrm{k}_e \\cdot t} \\tag{4.9}$$"
   ]
  },
  {
   "cell_type": "markdown",
   "metadata": {},
   "source": [
    "Aby znaleźć wyrażenie na $X$, różniczkujemy równanie (4.7) względem czasu:\n",
    "$$\\frac{\\mathrm{d}^2 X}{\\mathrm{d} t^2} = \\mathrm{k}_a \\cdot \\frac{\\mathrm{d}X_D}{\\mathrm{d}t} - \\mathrm{k}_e \\cdot \\frac{\\mathrm{d}X}{\\mathrm{d}t}$$"
   ]
  },
  {
   "cell_type": "markdown",
   "metadata": {},
   "source": [
    "Wykorzystamy teraz równanie (4.6) otrzymując:\n",
    "$$\\frac{\\mathrm{d}^2 X}{\\mathrm{d} t^2} + \\mathrm{k}_e \\cdot \\frac{\\mathrm{d}X}{\\mathrm{d}t} + \\mathrm{k}_a \\cdot \\mathrm{k}_a \\cdot X_D = 0$$"
   ]
  },
  {
   "cell_type": "markdown",
   "metadata": {},
   "source": [
    "Następnie ponownie skorzystamy z równania (4.7), dzięki któremu dostaniemy:\n",
    "$$\\frac{\\mathrm{d}^2 X}{\\mathrm{d} t^2} + \\left(\\mathrm{k}_a + \\mathrm{k}_e\\right) \\cdot \\frac{\\mathrm{d}X}{\\mathrm{d}t} + \\mathrm{k}_a \\cdot \\mathrm{k}_e \\cdot X = 0 \\tag{4.10}$$"
   ]
  },
  {
   "cell_type": "markdown",
   "metadata": {},
   "source": [
    "W ten sposób mamy równanie różniczkowe drugiego rzędu o stałych współczynnikach, którego rozwiązaniem będzie: $$X = C_1 \\cdot \\mathrm{e}^{r_1 \\cdot t} + C_2 \\cdot \\mathrm{e}^{r_2 \\cdot t} \\tag{4.11}$$"
   ]
  },
  {
   "cell_type": "markdown",
   "metadata": {},
   "source": [
    "W celu obliczenia $r_1$ i $r_2$ należy rozwiązać następujące równanie kwadratowe: $$r^2 + \\left(\\mathrm{k}_a + \\mathrm{k}_e\\right) \\cdot r + \\mathrm{k}_a \\cdot \\mathrm{k}_e = 0 \\tag{4.12}$$"
   ]
  },
  {
   "cell_type": "markdown",
   "metadata": {},
   "source": [
    "$$\\Delta = \\left(\\mathrm{k}_a - \\mathrm{k}_e\\right)^2 $$\n",
    "$$ r_1 = -\\mathrm{k}_e$$\n",
    "$$ r_2 = -\\mathrm{k}_a$$"
   ]
  },
  {
   "cell_type": "markdown",
   "metadata": {},
   "source": [
    "Stałe całkowania znajdziemy z warunków początkowych. W czasie $t=0$, $X=X_0=0$, co daje nam: $$C_1 + C_2 = 0 \\tag{4.13}$$"
   ]
  },
  {
   "cell_type": "markdown",
   "metadata": {},
   "source": [
    "Ponadto pochodna z równania (4.7) urości się do:\n",
    "$$\\frac{\\mathrm{d}X}{\\mathrm{d}t}\\biggr\\rvert_{t=0} = \\mathrm{k}_a \\cdot \\mathrm{X}_{D_0}$$"
   ]
  },
  {
   "cell_type": "markdown",
   "metadata": {},
   "source": [
    "Powyższą pochodną można obliczyć różniczkując po $t$ wynik równania (4.10):\n",
    "$$ X' = \\left(C_1 \\cdot \\mathrm{e}^{-\\mathrm{k}_e \\cdot t} + C_2 \\cdot \\mathrm{e}^{-\\mathrm{k}_a \\cdot t}\\right)'$$"
   ]
  },
  {
   "cell_type": "markdown",
   "metadata": {},
   "source": [
    "Oblicza się ją jako sumę pochodnych w następujący sposób przez podstawienie: $$u = - \\mathrm{k}_e t$$ $$\\frac{\\mathrm{d}u}{\\mathrm{d}t}=-\\mathrm{k}_e$$ \n",
    "$$\\frac{\\mathrm{d}X}{\\mathrm{d}u} = - C_1 \\cdot \\mathrm{e}^u$$ \n",
    "$$\\frac{\\mathrm{d}X}{\\mathrm{d}u} \\cdot \\frac{\\mathrm{d}u}{\\mathrm{d}t} = - \\mathrm{k}_e \\cdot C_1 \\cdot \\mathrm{e}^{- \\mathrm{k}_e \\cdot t}$$"
   ]
  },
  {
   "cell_type": "markdown",
   "metadata": {},
   "source": [
    "Z czego ostatecznie dostajemy:\n",
    "$$\\frac{\\mathrm{d}X}{\\mathrm{d}t} = - \\mathrm{k}_e \\cdot C_1 \\cdot \\mathrm{e}^{- \\mathrm{k}_e \\cdot t} - \\mathrm{k}_a \\cdot C_2 \\cdot \\mathrm{e}^{- \\mathrm{k}_a \\cdot t}$$"
   ]
  },
  {
   "cell_type": "markdown",
   "metadata": {},
   "source": [
    "Teraz powyższa pochodna w czasie t = 0 wynosi:\n",
    "$$\\frac{\\mathrm{d}X}{\\mathrm{d}t}\\biggr\\rvert_{t=0} = - \\mathrm{k}_e \\cdot C_1 - \\mathrm{k}_a \\cdot C_2$$"
   ]
  },
  {
   "cell_type": "markdown",
   "metadata": {},
   "source": [
    "W ten sposób dostajemy układ równań z dwoma niewiadomymi:"
   ]
  },
  {
   "cell_type": "markdown",
   "metadata": {},
   "source": [
    "$$\\begin{cases}\n",
    "C_1 + C_2\\\\\n",
    "\\mathrm{k}_a \\cdot X_{D_0} = - \\mathrm{k}_e \\cdot C_1 - \\mathrm{k}_a \\cdot C_2\n",
    "\\end{cases}$$"
   ]
  },
  {
   "cell_type": "markdown",
   "metadata": {},
   "source": [
    "Gdzie po rozwiązaniu otrzymujemy wartości stałych $C_1$, $C_2$:\n",
    "$$ C_1 = - \\frac{\\mathrm{k}_a \\cdot X_{D_0}}{\\mathrm{k}_e - \\mathrm{k}_a}$$\n",
    "$$ C_2 = \\frac{\\mathrm{k}_a \\cdot X_{D_0}}{\\mathrm{k}_e - \\mathrm{k}_a}$$"
   ]
  },
  {
   "cell_type": "markdown",
   "metadata": {},
   "source": [
    "Następnie wstawiając uzyskane wartości do równania (4.11) możemy zapisać\n",
    "$$X = \\frac{\\mathrm{k}_a \\cdot X_{D_0}}{\\mathrm{k}_e - \\mathrm{k}_a} \\cdot \\left(\\mathrm{e}^{-\\mathrm{k}_e \\cdot t} - \\mathrm{e}^{-\\mathrm{k}_a \\cdot t}\\right)$$"
   ]
  },
  {
   "cell_type": "markdown",
   "metadata": {},
   "source": [
    "Dzieląc przez $V_d$ i wykorzystując równanie (4.4) otrzymujemy wzór na stężenie leku we krwi:\n",
    "$$ C = \\frac{\\mathrm{k}_a \\cdot X_{D_0}}{V_d \\cdot \\left(\\mathrm{k}_e - \\mathrm{k}_a\\right)} \\cdot \\left(\\mathrm{e}^{-\\mathrm{k}_e \\cdot t} - \\mathrm{e}^{-\\mathrm{k}_a \\cdot t}\\right) \\tag{4.14}$$"
   ]
  },
  {
   "cell_type": "markdown",
   "metadata": {},
   "source": [
    "Powyższy wzór określany jest jako *wzór Batemana*"
   ]
  },
  {
   "cell_type": "markdown",
   "metadata": {},
   "source": [
    "Zróżniczkujmy równanie (4.14). Stężenie w tym modelu osiągnie maksymalną wartość w czasie spełniającym poniższe równanie\n",
    "$$ 0 = A \\cdot \\left(\\mathrm{k}_e \\cdot \\mathrm{e}^{-\\mathrm{k}_e \\cdot t_{max}} - \\mathrm{k}_a\\cdot\\mathrm{e}^{-\\mathrm{k}_a \\cdot t_{max}}\\right)$$ gdzie: $A = \\frac{\\mathrm{k}_a \\cdot X_{D_0}}{V_d \\cdot \\left(\\mathrm{k}_e - \\mathrm{k}_a\\right)}$"
   ]
  },
  {
   "cell_type": "markdown",
   "metadata": {},
   "source": [
    "Dzieląc przez $A$ i logarytmując dostajemy"
   ]
  },
  {
   "cell_type": "markdown",
   "metadata": {},
   "source": [
    "$$\\mathrm{ln}(\\mathrm{k}_a) - \\mathrm{ln}(\\mathrm{k}_e) = \\mathrm{k}_a \\cdot t_{max} - \\mathrm{k}_e \\cdot t_{max}$$"
   ]
  },
  {
   "cell_type": "markdown",
   "metadata": {},
   "source": [
    "Przekształcając dostajemy wzór na $t_{max}$:\n",
    "$$t_{max} = \\frac{ln\\left(\\frac{\\mathrm{k}_a}{\\mathrm{k}_e}\\right)}{\\mathrm{k}_e -\\mathrm{k}_e} \\tag{4.15}$$"
   ]
  },
  {
   "cell_type": "markdown",
   "metadata": {},
   "source": [
    "## 5. Parametry farmakokinetyczne<a name=\"5\"></a> [3]\n",
    "Parametry farmakokinetyczne będą opisywać losy leku w organizmie w sposób ilościowy. Wyznacza je się na podstawie przeprowadzonych badań. Informacje na ten temat są niezbędne w rejestracji nowych leków (niegenerycznych) a także leków odtwórczych (generycznych). Parametry farmakokinetyczne wykorzystuje się również w tzw. terapeutrycznym monitorowaniu leków (TDM), które pozwala na optymalizację dawkowania.\n",
    "Do parametrów farmakokinetycznych należą m.in:\n",
    "* AUC - wielkość powierzchni pod krzywą zmian stężenia leku we krwi,\n",
    "* maksymalne stężenie leku we krwi ($C_{max}$),\n",
    "* czas, po którym zostaje osiągnięte stężenie maksymalne ($t_{max}$),\n",
    "* objętość dystrybucji\n",
    "* stała szybkość eliminacji ($\\mathrm{K}$)\n",
    "* biologiczny okres półtrwania\n",
    "* klirens leku\n",
    "* dostępność biologiczna.\n",
    "\n",
    "Powiązane są one z procesami farmakokinetycznymi."
   ]
  },
  {
   "cell_type": "code",
   "execution_count": null,
   "metadata": {},
   "outputs": [],
   "source": []
  },
  {
   "cell_type": "markdown",
   "metadata": {},
   "source": [
    "## 6. LADME - procesy farmakokinetyczne<a name=\"6\"></a> "
   ]
  },
  {
   "cell_type": "markdown",
   "metadata": {},
   "source": [
    "Do opisu procesów farmakokinetycznych używany jest system LADME. \n",
    "Jest to skrót od angielskich słów:\n",
    "* L - liberation (uwalnianie),\n",
    "* A - absorption (wchłanianie),\n",
    "* D - distribution (rozmieszczenie)\n",
    "* M - metabolism (metabolizm), \n",
    "* E - excretion/ elimination (wydalanie, usuwanie).\n",
    "\n",
    "Odzwierciedla on drogę jaką przechodzi lek od podania do wydalenia z organizmu.\n",
    "Często rozbudowany jest do LADMER dla podkreślenia analizy efektu - R (ang. response). Najczęściej obliczane parametry dotyczą procesów mieszczących się w pojęciach A, D, M, E.[2]"
   ]
  },
  {
   "cell_type": "markdown",
   "metadata": {},
   "source": [
    "### A. Uwalnianie (L) <a name=\"6.1\"></a> [1]\n",
    "Pierwszym z procesów zachodzących po wprowadzeniu leku do organizmu jest uwalnianie związku leczniczego z postaci leku (np. tabletka, drażetka). Aby lek został wchłonięty do krwioobiegu konieczne jest rozpuszczenie substancji lecznicej.\n",
    "\n",
    "Etapy uwalniania leku:\n",
    "1. rozpad postaci leku \n",
    "2. rozpuszczanie substancji leczniczej \n",
    "3. dyfuzja leku do miejsca wchłaniania."
   ]
  },
  {
   "cell_type": "markdown",
   "metadata": {},
   "source": [
    "### B . Wchłanianie (A) <a name=\"6.2\"></a> [1]\n",
    "Wchłanianie to przenoszenie substancji leczniczej z miejsca wchłaniania do krążenia ogólnego. Odbywa się ono na zasadzie przenikania cząstek leku przez błony biologiczne. Jedynie bezpośrednie podanie leku do krwi omija ten proces.\n",
    "\n",
    "\n",
    "\n",
    "1. **Stan stacjonarny (steady state)**\n",
    "\n",
    "    Przy wielokrotnym dawkowaniu leku, w miarę podawania kolejnych dawek, stężenie leku we krwi rośnie i ustala się stan stacjonarny, w którym szybkość i ilość leku dostające się do organizmu równają się szybkości i ilości leku opuszczającej organizm.\n",
    "    <br/><br/>\n",
    "2. **Efekt pierwszego przejścia (first pass effect)** \n",
    "\n",
    "    Zjawisko zmniejszania ilości leku po jego wchłonięciu z przewodu pokarmowego, a przed dotarciem do krązenia ogólnego. Substancja podana doustnie przechodzi do krwiobiegu przez układ krążenia, co oznacza, że musi najpierw przejść przez wątrobę. W efekcie dawka tego samego leku podana doustnie zazwyczaj jest większa niż równoważna dawka podawana np. dożylnie.\n",
    "    <br/><br/>\n",
    "3. **Dostępność biologiczna** \n",
    "\n",
    "    Dostępność biologiczna jest określana przez ułamek dawki substancji leczniczej, który dostaje się do krążenia ogólnego i przez szybkość z jaką zachodzi ten proces. Stopień dostępności biologicznej jest zależny od procesu technologicznego produkcji danego preparatu. Charakteryzują ją następujące parametry farmakokinetyczne:\n",
    "    * wielkość pod krzywą zmian stężenia leku we krwi, czyli pole pod krzywą AUC (Area Under the Curve), parametr informuje o całkowitej ilości leku jaka została wchłonięta do organizmu\n",
    "    * maksymalne stężenie leku we krwi ($C_{max}$)\n",
    "    * czas, po którym zostaje osiągnięte stężenie maksymalne ($t_{max}$)\n",
    "    \n",
    "    Warunkiem działania leczniczego jest takie stężenie maksymalnego leku we krwi, które zajmie obszar powyżej minimalnego stężenia terapeutycznego MEC (Minimal Effective Concentration) oraz poniżej minimalnego stężenia toksycznego MTC (Minimal Toxic Concentration) .\n",
    "    \n",
    "    Istnieje podział na biodostępność względną i bezwzględną:\n",
    "       \n",
    "    + biodostępność bezwzględną określa się porównując biodostępność leku podanego pozanaczyniowo z tym samym lekiem podanym donaczyniowo, aby ocenić jest wartość leczniczą przy innej niż donaczyniowa drodze podania. \n",
    "    $$ EBA = \\frac{AUC_{po}\\cdot D_{iv}}{AUC_{iv}\\cdot D_{po}}\\cdot 100\\% $$\n",
    "    Gdzie $AUC$ - pole pod krzywą,\n",
    "    $D$ - dawka,\n",
    "    *po* - pozanaczyniowo,\n",
    "    *iv* - donaczyniowo.\n",
    "    \n",
    "    + biodostępność względną wyznaczamy porównując preparat badany z preparatem standardowym o znanej dostępności biologicznej \n",
    "    $$ EBA = \\frac{AUC_{A}\\cdot D_{B}}{AUC_{B}\\cdot D_{A}}\\cdot 100\\% $$\n",
    "    Gdzie $AUC$ - pole pod krzywą,\n",
    "    $D$ - dawka,\n",
    "    *A* - lek badany,\n",
    "    *B* - lek standardowy.\n",
    "    "
   ]
  },
  {
   "cell_type": "markdown",
   "metadata": {},
   "source": [
    "### C. Rozmieszczenie (D) <a name=\"6.3\"></a> [1] [3]\n",
    "Kolejnym procesem jest rozmieszczenie wchłoniętej substancji leczniczej w organizmie, zapewniające dotarcie leku do miejsca jego działania. Początkiem procesu dystrybucji jest zazwyczaj moment otrzymania maxymalnego stężenia leku.\n",
    "1. **Objętość dystrybucji ($V_d$)**\n",
    "\n",
    "     to parametr farmakokinetyczny definiowany jako hipotetyczna objętość płynów ustrojowych, w której lek, po równomiernym rozmieszczeniu, osiągałby takie samo stężenie jak we krwi. Wyrażana jest w litrach. W praktyce oznacza to, że gdy objętość dystrybucji wynosi:\n",
    "    * 3 - 5 litrów (4,3% masy ciała) - dystrybucja leku ograniczona jest do krwi,\n",
    "    * 10 - 20 litrów (23% masy ciała) - lek rozmieszcza się w płynie pozakomórkowym,\n",
    "    * 25 - 30 litrów (34% masy ciała) - lek rozmieszcza się w płynie wewnątrzkomórkowym,\n",
    "    * ok. 40 litrów (60% masy ciała) - lek rozmieszcza się we wszystkich płynach organizmu,\n",
    "    * 100% masy ciała - lek silnie łączy się z tkankami i kumuluje w narządach.\n",
    "    \n",
    "    Dla wielu leków wartość wartość dystrybucji przekracza realną ilość płynów ustrojowych w organizmie, dlatego zwana jest pozorną. Matematycznie określa się ją jako stosunek całkowitej ilości leku w organizmie ($X$) do stężenia leku we krwi ($C$). $$ V_d = \\frac{X}{C} $$\n",
    "    \n",
    "    Objętość dystrybucji jest współczynnikiem pozwalającym obliczyć stężenie leku we krwi na niedającą się wyznaczyć doświadczalnie ilość (masę) leku w organizmie $$ X = V_d \\cdot C $$\n",
    "    \n",
    "    Objętość dystrybucji zależy w dużym stopniu od masy ciała, dlatego można posługiwać się tzw, względną objętościa dystrybucji (współczynnikiem dystrybucji), $\\Delta '$: $$\\Delta ' = \\frac{V_d}{BW} $$ gdzie $BW$ jest masą ciała.\n",
    "    \n",
    "    Tak zdefiniowany parametr określa ułamek objętości ciała (całe ciało to 1), gdzie lek dociera. Dla większości leków ten współczynnik jest mniejszy od 1, ponieważ niecałkowita objętość organizmu jest dla tych leków dostępna. Względna objętość dystrybucji większa od 1 jest wielkością charakterystyczną dla leków w znacznym stopniu wiążących się z białkami krwi lub wykazujących duże powinowactwo do tkanki kostnej lub tłuszczowej."
   ]
  },
  {
   "cell_type": "markdown",
   "metadata": {},
   "source": [
    "### D. Metabolizm (M)<a name=\"6.4\"></a> [1]\n",
    "Metabolizm leku to wszystkie przemiany biochemiczne, którym ulega lek w żywym organizmie, które mają na celu unieczynnienie substancji oraz ułatwienie jego eliminacji z organizmu. Zachodzą głównie w mikrosomach wątroby, ale też w przewodzie pokarmowym, płucach, nerkach, obrębie skóry i innych tkankach. Procesy związane z metabolizmem zachodzą w dwóch fazach.\n",
    "1. Reakcje pierwszej fazy:\n",
    "    * utlenianie, \n",
    "    * redukcja, \n",
    "    * hydroliza.\n",
    "    <br/><br/>\n",
    "2. Reakcje drugiej fazy można podzielić na reakcje:\n",
    "    * sprzęgania z kwasem glukuronowym, siarkowym, glutaminowym, z glukozą, aminokwasami, glicyną, z grupą metylową,\n",
    "    * acetylacji,\n",
    "    * alkilacji."
   ]
  },
  {
   "cell_type": "markdown",
   "metadata": {},
   "source": [
    "### E. Wydalanie/usuwanie (E)<a name=\"6.5\"></a> [1] [3]\n",
    "Ostatnim etapem jest wydalanie leków z organizmu. Odbywa się ono wieloma kanałami, m.in. przez nerki z moczem, przez wątrobę żółcią, przez gruczoły ślinowe ze śliną, przez gruczoły potowe z potem, przez płuca z wydychanym powietrzem, przez gruczoły mleczne z mlekiem.\n",
    "\n",
    "Z procesem usuwania leku powiązane są następujące parametry farmakokinetyczne:\n",
    "1. **Stała szybkość eliminacji ($\\mathrm{K}$)**, która jest sumą wszystkich stałych szybkości wydalania leku z organizmu.\n",
    "    Wyznacza się ją z równania $\\mathrm{ln}C  = \\mathrm{ln}C_0 -\\mathrm{K} \\cdot t $ . Z tego równania możemy wywnioskować, że lnC jest liniową funkcją czasu (t). Współczynnik kierunkowy otrzymanej prostej równa się -K. Po zamianie znaku współczynnika kierunkowego prostej otrzymuje się wartość stałej szybkości eliminacji leku z krwi różnymi drogami. Jej wymiar stanowi odwrotność jednostki czasu ( 1/h). Wartość tej stałej jest więc niezależna od sposobu wyrażania stężeń leku we krwi, co jest cechą charakterystyczną tylko stałej szybkości pierwszego rzędu.\n",
    "<br/><br/>\n",
    "\n",
    "2. **Biologiczny okres półtrwania**, który jest czasem, w którym stężenie leku we krwi, surowicy lub w osoczu spadnie do połowy wartości wyjściowej. Parametr ten pozwala określić m.in. dawkowanie leków. Wyprowadza się go z równania $\\mathrm{K} \\cdot t = \\mathrm{ln}C_0 - \\mathrm{ln}C$, wtedy $$ t = \\frac{\\mathrm{ln}\\left(\\frac{C_0}{C}\\right)}{\\mathrm{K}} $$ My szukamy takiego $t$ dla którego $C = \\frac{C_0}{2}$, czyli gdzie stężenie spadnie do połowy początkowego stężenia. $$ t_{\\frac{1}{2}} = \\frac{\\mathrm{ln}\\left(\\frac{2 C_0}{C_0}\\right)}{\\mathrm{K}} = \\frac{\\mathrm{ln}2}{\\mathrm{K}}$$ Przybliżając $\\mathrm{ln}2 = 0,693$ otrzymujemy $$t_{\\frac{1}{2}} = \\frac{0.693}{\\mathrm{K}}$$\n",
    "Wartość $t_{\\frac{1}{2}}$ jest wartością charakterystyczną dla danego leku, jednak zależy od różnych czynników np. płci, wieku, stanu zdrowotnego czy aktywności fizycznej.\n",
    "<br/><br/>\n",
    "\n",
    "3. **Klirens leku (ang. clearance czyli oczyszczanie)**\n",
    "\n",
    "    Wyraża sprawność, z jaką osocze zostaje oczyszczone z danej substancji. Wyrażany jest jako objętość osocza całkowicie oczyszczonego z danej substancji w jednostce czasu. Wylicza się go z następujących wzorów:\n",
    "    * $ Cl = \\frac{v}{C} $ gdzie $v$ jest szybkością eliminacji leku\n",
    "    * $ Cl = \\mathrm{K} \\cdot V_d$\n",
    "\n",
    "    Rozpatrując narząd, który eliminuje lek oznaczmy szybkość transportu tego leku przez narząd jako $Q$ [ml/min], $C_a$- stężenie leku we krwi tętniczej wpływającej do narządu, $C_v$ - stężenie leku we krwi żylnej opuszczającej narząd. Wtedy iloczyn $C_a \\cdot Q $ określa szybkość transportu do danego narządu, a iloczyn $C_v \\cdot Q$ - szybkość z jaką lek opuszcza ten narząd. Stąd szybkość eliminacji możemy określić jako różnicę $$C_a \\cdot Q - C_v \\cdot Q = Q(C_a - C_v)$$\n",
    "    \n",
    "    Bezwymiarową wielkość zwaną współczynnikiem ekstrakcji (ang. ER - Extraction Ratio) wyraża się jako $$ER = \\frac{Q(C_a - C_v)}{Q \\cdot C_a} = \\frac{C_a - C_v}{C_a}$$ Gdy ER = 0 to narząd nie eliminuje leku ($C_a = C_v$). Przy niemal całkowitej eliminacji leku przez dany narząd $(C_v = 0)$ $ER = 1$. Współczynnik ekstrakcji można traktować jako wskaźnik skuteczności oczyszczania krwi przez dany narząd.\n",
    "    \n",
    "    Klirens ogólnoustrojowy $(Cl_s)$ jest sumą poszczególnych klirensów narządowych. Wyraża się go stosunkiem eliminacji wprowadzonej masy ($X$) leku do jego stężenia we krwi lub osoczu. $$Cl_s = \\frac{1}{C} \\cdot \\frac{\\mathrm{d}X}{\\mathrm{d}t}$$ Całkując powyższe równanie na przedziale czasu od $t = 0$ do $t =\\infty$ uzyskuje sie wyrażenie: $$Cl_s = \\frac{\\int_{0}^{t} (\\frac{dX}{dt})\\,dt }{\\int_{0}^{t} C \\,dt}$$\n",
    "    Wyrażenie w liczniku odpowiada całkowitej masie wyeliminowanego leku, czyli podanej dożylnie dawce $D$, a mianownik równa się poku pod krzywą stężenia leku we krwi jako funkcji czasu ( AUC): $$Cl_s = \\frac{D}{AUC}$$\n",
    "    Parametry $V_d$, $K$ i $Cl_s$ można powiązać zależnością $ V_d = \\frac{Cl_s}{K}$.\n"
   ]
  },
  {
   "cell_type": "markdown",
   "metadata": {},
   "source": [
    "## 7. Metody numeryczne"
   ]
  },
  {
   "cell_type": "markdown",
   "metadata": {},
   "source": [
    "### A. Algorytm Rungego-Kutty 4. rzędu"
   ]
  },
  {
   "cell_type": "markdown",
   "metadata": {},
   "source": [
    "Mając równanie w postaci $y' = f(t,y)$ z warunkami początkowymi $y(t_0) = y_0$, przyjmujemy dowolne h, będące wielkością kroku całkowania. Wtedy iteracyjny wzór na y według metody Rungego-Kutty 4. rzędu to: \n",
    "$$ y_{n+1} = y_n + \\Delta y_n,$$\n",
    "$$\\Delta y_n = \\frac{1}{6}\\left(k_1 + 2k_2 + 2k_3 + k_4\\right)$$\n",
    "gdzie:\n",
    "\n",
    "$k_1 = hf(x_n,y_n)$\n",
    "\n",
    "$k_2 = hf\\left(x_n + \\frac{h}{2}, y_n + \\frac{k_1}{2}\\right)$\n",
    "\n",
    "$k_3 = hf\\left(x_n + \\frac{h}{2}, y_n + \\frac{k_2}{2}\\right)$\n",
    "\n",
    "$k_4 = hf(x_n + h, y_n + k_3)$"
   ]
  },
  {
   "cell_type": "markdown",
   "metadata": {},
   "source": [
    "### B. Implementacja"
   ]
  },
  {
   "cell_type": "code",
   "execution_count": null,
   "metadata": {},
   "outputs": [],
   "source": [
    "function runge_kutta(f, t, y₀)\n",
    "    y = fill(NaN, length(t))\n",
    "    y[1] = y₀\n",
    "    h = (t[end] - t[1]) / (length(t)-1)\n",
    "    for n in 1:length(t)-1\n",
    "        k₁ = h * f(t[n], y[n])\n",
    "        k₂ = h * f(t[n] + h/2, y[n] + k₁/2)\n",
    "        k₃ = h * f(t[n] + h/2, y[n] + k₂/2)\n",
    "        k₄ = h * f(t[n] + h, y[n] + k₃)\n",
    "        y[n + 1] = y[n] + (k₁ + 2k₂ + 2k₃ + k₄) / 6\n",
    "    end\n",
    "    return y\n",
    "end"
   ]
  },
  {
   "cell_type": "markdown",
   "metadata": {},
   "source": [
    "## 8. Zastosowanie modelu na przykładach<a name=\"8\"></a>"
   ]
  },
  {
   "cell_type": "code",
   "execution_count": 205,
   "metadata": {},
   "outputs": [],
   "source": [
    "using Plots"
   ]
  },
  {
   "cell_type": "markdown",
   "metadata": {},
   "source": [
    "### A. Przykład 1 - dostosowywanie się modelów do rzeczywistych danych"
   ]
  },
  {
   "cell_type": "markdown",
   "metadata": {},
   "source": [
    "### a. Dawka dożylna"
   ]
  },
  {
   "cell_type": "markdown",
   "metadata": {},
   "source": [
    "Poniższa tabela [3] przedstawia wartośći mierzone stężenia ibuprofenu w osoczu krwi królika ($C$) [mg/l] w różnym czasie ($t$) po podaniu jednorazowej dawki dożylnej soli lizynowej ibuprofenu. $X_0 = 146.3 mg$, $V_d = 0.608 l$, $\\mathrm{K} = 2.44$."
   ]
  },
  {
   "cell_type": "markdown",
   "metadata": {},
   "source": [
    "<table>\n",
    "  <tr>\n",
    "    <th>Czas ($t$)</th>\n",
    "    <td>0,083</td>\n",
    "    <td>0,167</td>\n",
    "    <td>0,250</td>\n",
    "    <td>0,367</td>\n",
    "    <td>0,533</td>\n",
    "    <td>0,667</td>\n",
    "    <td>0,833</td>\n",
    "    <td>1,000</td>\n",
    "    <td>1,330</td>\n",
    "    <td>1,420</td>\n",
    "    <td>1,500</td>\n",
    "  </tr>\n",
    "  <tr>\n",
    "    <th>Stężenie ($C$)</th>\n",
    "    <td>217,9</td>\n",
    "    <td>169,3</td>\n",
    "    <td>118,9</td>\n",
    "    <td>102,9</td>\n",
    "    <td>74,7</td>\n",
    "    <td>55,1</td>\n",
    "    <td>36,2</td>\n",
    "    <td>22,8</td>\n",
    "    <td>16,1</td>\n",
    "    <td>9,1</td>\n",
    "    <td>7,3</td>\n",
    "  </tr>\n",
    "</table>"
   ]
  },
  {
   "cell_type": "markdown",
   "metadata": {},
   "source": [
    "Z powyższych informacji możemy wyliczyć $C_0$\n",
    "$$C_0 = \\frac{X_0}{V_d} = 240.6 \\frac{mg}{l}$$"
   ]
  },
  {
   "cell_type": "code",
   "execution_count": 741,
   "metadata": {},
   "outputs": [],
   "source": [
    "t = [0, 0.083, 0.167, 0.250, 0.367, 0.533, 0.667, 0.833, 1.000, 1.330, 1.420, 1.500]\n",
    "C = [240.6, 217.9, 169.3, 118.9, 102.9, 74.7, 55.1, 36.2, 22.8, 16.1, 9.1, 7.3];"
   ]
  },
  {
   "cell_type": "code",
   "execution_count": 742,
   "metadata": {},
   "outputs": [
    {
     "data": {
      "image/svg+xml": [
       "<?xml version=\"1.0\" encoding=\"utf-8\"?>\n",
       "<svg xmlns=\"http://www.w3.org/2000/svg\" xmlns:xlink=\"http://www.w3.org/1999/xlink\" width=\"600\" height=\"400\" viewBox=\"0 0 2400 1600\">\n",
       "<defs>\n",
       "  <clipPath id=\"clip490\">\n",
       "    <rect x=\"0\" y=\"0\" width=\"2400\" height=\"1600\"/>\n",
       "  </clipPath>\n",
       "</defs>\n",
       "<path clip-path=\"url(#clip490)\" d=\"\n",
       "M0 1600 L2400 1600 L2400 0 L0 0  Z\n",
       "  \" fill=\"#ffffff\" fill-rule=\"evenodd\" fill-opacity=\"1\"/>\n",
       "<defs>\n",
       "  <clipPath id=\"clip491\">\n",
       "    <rect x=\"480\" y=\"0\" width=\"1681\" height=\"1600\"/>\n",
       "  </clipPath>\n",
       "</defs>\n",
       "<path clip-path=\"url(#clip490)\" d=\"\n",
       "M226.232 1423.18 L2352.76 1423.18 L2352.76 47.2441 L226.232 47.2441  Z\n",
       "  \" fill=\"#ffffff\" fill-rule=\"evenodd\" fill-opacity=\"1\"/>\n",
       "<defs>\n",
       "  <clipPath id=\"clip492\">\n",
       "    <rect x=\"226\" y=\"47\" width=\"2128\" height=\"1377\"/>\n",
       "  </clipPath>\n",
       "</defs>\n",
       "<polyline clip-path=\"url(#clip492)\" style=\"stroke:#000000; stroke-width:2; stroke-opacity:0.1; fill:none\" points=\"\n",
       "  286.417,1423.18 286.417,47.2441 \n",
       "  \"/>\n",
       "<polyline clip-path=\"url(#clip492)\" style=\"stroke:#000000; stroke-width:2; stroke-opacity:0.1; fill:none\" points=\"\n",
       "  955.135,1423.18 955.135,47.2441 \n",
       "  \"/>\n",
       "<polyline clip-path=\"url(#clip492)\" style=\"stroke:#000000; stroke-width:2; stroke-opacity:0.1; fill:none\" points=\"\n",
       "  1623.85,1423.18 1623.85,47.2441 \n",
       "  \"/>\n",
       "<polyline clip-path=\"url(#clip492)\" style=\"stroke:#000000; stroke-width:2; stroke-opacity:0.1; fill:none\" points=\"\n",
       "  2292.57,1423.18 2292.57,47.2441 \n",
       "  \"/>\n",
       "<polyline clip-path=\"url(#clip490)\" style=\"stroke:#000000; stroke-width:4; stroke-opacity:1; fill:none\" points=\"\n",
       "  226.232,1423.18 2352.76,1423.18 \n",
       "  \"/>\n",
       "<polyline clip-path=\"url(#clip490)\" style=\"stroke:#000000; stroke-width:4; stroke-opacity:1; fill:none\" points=\"\n",
       "  286.417,1423.18 286.417,1406.67 \n",
       "  \"/>\n",
       "<polyline clip-path=\"url(#clip490)\" style=\"stroke:#000000; stroke-width:4; stroke-opacity:1; fill:none\" points=\"\n",
       "  955.135,1423.18 955.135,1406.67 \n",
       "  \"/>\n",
       "<polyline clip-path=\"url(#clip490)\" style=\"stroke:#000000; stroke-width:4; stroke-opacity:1; fill:none\" points=\"\n",
       "  1623.85,1423.18 1623.85,1406.67 \n",
       "  \"/>\n",
       "<polyline clip-path=\"url(#clip490)\" style=\"stroke:#000000; stroke-width:4; stroke-opacity:1; fill:none\" points=\"\n",
       "  2292.57,1423.18 2292.57,1406.67 \n",
       "  \"/>\n",
       "<path clip-path=\"url(#clip490)\" d=\"M 0 0 M267.933 1452.37 Q264.322 1452.37 262.493 1455.94 Q260.688 1459.48 260.688 1466.61 Q260.688 1473.71 262.493 1477.28 Q264.322 1480.82 267.933 1480.82 Q271.567 1480.82 273.373 1477.28 Q275.201 1473.71 275.201 1466.61 Q275.201 1459.48 273.373 1455.94 Q271.567 1452.37 267.933 1452.37 M267.933 1448.67 Q273.743 1448.67 276.799 1453.27 Q279.877 1457.86 279.877 1466.61 Q279.877 1475.33 276.799 1479.94 Q273.743 1484.52 267.933 1484.52 Q262.123 1484.52 259.044 1479.94 Q255.989 1475.33 255.989 1466.61 Q255.989 1457.86 259.044 1453.27 Q262.123 1448.67 267.933 1448.67 Z\" fill=\"#000000\" fill-rule=\"evenodd\" fill-opacity=\"1\" /><path clip-path=\"url(#clip490)\" d=\"M 0 0 M284.947 1477.97 L289.831 1477.97 L289.831 1483.85 L284.947 1483.85 L284.947 1477.97 Z\" fill=\"#000000\" fill-rule=\"evenodd\" fill-opacity=\"1\" /><path clip-path=\"url(#clip490)\" d=\"M 0 0 M304.9 1452.37 Q301.289 1452.37 299.461 1455.94 Q297.655 1459.48 297.655 1466.61 Q297.655 1473.71 299.461 1477.28 Q301.289 1480.82 304.9 1480.82 Q308.535 1480.82 310.34 1477.28 Q312.169 1473.71 312.169 1466.61 Q312.169 1459.48 310.34 1455.94 Q308.535 1452.37 304.9 1452.37 M304.9 1448.67 Q310.71 1448.67 313.766 1453.27 Q316.845 1457.86 316.845 1466.61 Q316.845 1475.33 313.766 1479.94 Q310.71 1484.52 304.9 1484.52 Q299.09 1484.52 296.011 1479.94 Q292.956 1475.33 292.956 1466.61 Q292.956 1457.86 296.011 1453.27 Q299.09 1448.67 304.9 1448.67 Z\" fill=\"#000000\" fill-rule=\"evenodd\" fill-opacity=\"1\" /><path clip-path=\"url(#clip490)\" d=\"M 0 0 M937.149 1452.37 Q933.538 1452.37 931.709 1455.94 Q929.903 1459.48 929.903 1466.61 Q929.903 1473.71 931.709 1477.28 Q933.538 1480.82 937.149 1480.82 Q940.783 1480.82 942.589 1477.28 Q944.417 1473.71 944.417 1466.61 Q944.417 1459.48 942.589 1455.94 Q940.783 1452.37 937.149 1452.37 M937.149 1448.67 Q942.959 1448.67 946.015 1453.27 Q949.093 1457.86 949.093 1466.61 Q949.093 1475.33 946.015 1479.94 Q942.959 1484.52 937.149 1484.52 Q931.339 1484.52 928.26 1479.94 Q925.204 1475.33 925.204 1466.61 Q925.204 1457.86 928.26 1453.27 Q931.339 1448.67 937.149 1448.67 Z\" fill=\"#000000\" fill-rule=\"evenodd\" fill-opacity=\"1\" /><path clip-path=\"url(#clip490)\" d=\"M 0 0 M954.163 1477.97 L959.047 1477.97 L959.047 1483.85 L954.163 1483.85 L954.163 1477.97 Z\" fill=\"#000000\" fill-rule=\"evenodd\" fill-opacity=\"1\" /><path clip-path=\"url(#clip490)\" d=\"M 0 0 M964.163 1449.29 L982.519 1449.29 L982.519 1453.23 L968.445 1453.23 L968.445 1461.7 Q969.463 1461.35 970.482 1461.19 Q971.5 1461 972.519 1461 Q978.306 1461 981.686 1464.18 Q985.065 1467.35 985.065 1472.76 Q985.065 1478.34 981.593 1481.44 Q978.121 1484.52 971.801 1484.52 Q969.625 1484.52 967.357 1484.15 Q965.112 1483.78 962.704 1483.04 L962.704 1478.34 Q964.788 1479.48 967.01 1480.03 Q969.232 1480.59 971.709 1480.59 Q975.713 1480.59 978.051 1478.48 Q980.389 1476.38 980.389 1472.76 Q980.389 1469.15 978.051 1467.05 Q975.713 1464.94 971.709 1464.94 Q969.834 1464.94 967.959 1465.36 Q966.107 1465.77 964.163 1466.65 L964.163 1449.29 Z\" fill=\"#000000\" fill-rule=\"evenodd\" fill-opacity=\"1\" /><path clip-path=\"url(#clip490)\" d=\"M 0 0 M1595.75 1479.92 L1603.39 1479.92 L1603.39 1453.55 L1595.08 1455.22 L1595.08 1450.96 L1603.34 1449.29 L1608.02 1449.29 L1608.02 1479.92 L1615.66 1479.92 L1615.66 1483.85 L1595.75 1483.85 L1595.75 1479.92 Z\" fill=\"#000000\" fill-rule=\"evenodd\" fill-opacity=\"1\" /><path clip-path=\"url(#clip490)\" d=\"M 0 0 M1620.73 1477.97 L1625.61 1477.97 L1625.61 1483.85 L1620.73 1483.85 L1620.73 1477.97 Z\" fill=\"#000000\" fill-rule=\"evenodd\" fill-opacity=\"1\" /><path clip-path=\"url(#clip490)\" d=\"M 0 0 M1640.68 1452.37 Q1637.07 1452.37 1635.24 1455.94 Q1633.44 1459.48 1633.44 1466.61 Q1633.44 1473.71 1635.24 1477.28 Q1637.07 1480.82 1640.68 1480.82 Q1644.32 1480.82 1646.12 1477.28 Q1647.95 1473.71 1647.95 1466.61 Q1647.95 1459.48 1646.12 1455.94 Q1644.32 1452.37 1640.68 1452.37 M1640.68 1448.67 Q1646.49 1448.67 1649.55 1453.27 Q1652.63 1457.86 1652.63 1466.61 Q1652.63 1475.33 1649.55 1479.94 Q1646.49 1484.52 1640.68 1484.52 Q1634.87 1484.52 1631.79 1479.94 Q1628.74 1475.33 1628.74 1466.61 Q1628.74 1457.86 1631.79 1453.27 Q1634.87 1448.67 1640.68 1448.67 Z\" fill=\"#000000\" fill-rule=\"evenodd\" fill-opacity=\"1\" /><path clip-path=\"url(#clip490)\" d=\"M 0 0 M2264.97 1479.92 L2272.61 1479.92 L2272.61 1453.55 L2264.3 1455.22 L2264.3 1450.96 L2272.56 1449.29 L2277.24 1449.29 L2277.24 1479.92 L2284.87 1479.92 L2284.87 1483.85 L2264.97 1483.85 L2264.97 1479.92 Z\" fill=\"#000000\" fill-rule=\"evenodd\" fill-opacity=\"1\" /><path clip-path=\"url(#clip490)\" d=\"M 0 0 M2289.94 1477.97 L2294.83 1477.97 L2294.83 1483.85 L2289.94 1483.85 L2289.94 1477.97 Z\" fill=\"#000000\" fill-rule=\"evenodd\" fill-opacity=\"1\" /><path clip-path=\"url(#clip490)\" d=\"M 0 0 M2299.94 1449.29 L2318.3 1449.29 L2318.3 1453.23 L2304.23 1453.23 L2304.23 1461.7 Q2305.24 1461.35 2306.26 1461.19 Q2307.28 1461 2308.3 1461 Q2314.09 1461 2317.47 1464.18 Q2320.85 1467.35 2320.85 1472.76 Q2320.85 1478.34 2317.37 1481.44 Q2313.9 1484.52 2307.58 1484.52 Q2305.41 1484.52 2303.14 1484.15 Q2300.89 1483.78 2298.49 1483.04 L2298.49 1478.34 Q2300.57 1479.48 2302.79 1480.03 Q2305.01 1480.59 2307.49 1480.59 Q2311.49 1480.59 2313.83 1478.48 Q2316.17 1476.38 2316.17 1472.76 Q2316.17 1469.15 2313.83 1467.05 Q2311.49 1464.94 2307.49 1464.94 Q2305.62 1464.94 2303.74 1465.36 Q2301.89 1465.77 2299.94 1466.65 L2299.94 1449.29 Z\" fill=\"#000000\" fill-rule=\"evenodd\" fill-opacity=\"1\" /><path clip-path=\"url(#clip490)\" d=\"M 0 0 M1240.84 1522.27 L1240.84 1532.4 L1252.91 1532.4 L1252.91 1536.95 L1240.84 1536.95 L1240.84 1556.3 Q1240.84 1560.66 1242.02 1561.9 Q1243.23 1563.14 1246.89 1563.14 L1252.91 1563.14 L1252.91 1568.04 L1246.89 1568.04 Q1240.11 1568.04 1237.53 1565.53 Q1234.96 1562.98 1234.96 1556.3 L1234.96 1536.95 L1230.66 1536.95 L1230.66 1532.4 L1234.96 1532.4 L1234.96 1522.27 L1240.84 1522.27 Z\" fill=\"#000000\" fill-rule=\"evenodd\" fill-opacity=\"1\" /><path clip-path=\"url(#clip490)\" d=\"M 0 0 M1279.23 1518.52 L1292.72 1518.52 L1292.72 1523.07 L1285.09 1523.07 L1285.09 1572.09 L1292.72 1572.09 L1292.72 1576.64 L1279.23 1576.64 L1279.23 1518.52 Z\" fill=\"#000000\" fill-rule=\"evenodd\" fill-opacity=\"1\" /><path clip-path=\"url(#clip490)\" d=\"M 0 0 M1328.5 1546.53 L1328.5 1568.04 L1322.64 1568.04 L1322.64 1546.72 Q1322.64 1541.66 1320.67 1539.14 Q1318.7 1536.63 1314.75 1536.63 Q1310.01 1536.63 1307.27 1539.65 Q1304.53 1542.68 1304.53 1547.9 L1304.53 1568.04 L1298.64 1568.04 L1298.64 1518.52 L1304.53 1518.52 L1304.53 1537.93 Q1306.63 1534.72 1309.47 1533.13 Q1312.33 1531.54 1316.05 1531.54 Q1322.2 1531.54 1325.35 1535.36 Q1328.5 1539.14 1328.5 1546.53 Z\" fill=\"#000000\" fill-rule=\"evenodd\" fill-opacity=\"1\" /><path clip-path=\"url(#clip490)\" d=\"M 0 0 M1348.33 1518.52 L1348.33 1576.64 L1334.83 1576.64 L1334.83 1572.09 L1342.44 1572.09 L1342.44 1523.07 L1334.83 1523.07 L1334.83 1518.52 L1348.33 1518.52 Z\" fill=\"#000000\" fill-rule=\"evenodd\" fill-opacity=\"1\" /><polyline clip-path=\"url(#clip492)\" style=\"stroke:#000000; stroke-width:2; stroke-opacity:0.1; fill:none\" points=\"\n",
       "  226.232,1146.66 2352.76,1146.66 \n",
       "  \"/>\n",
       "<polyline clip-path=\"url(#clip492)\" style=\"stroke:#000000; stroke-width:2; stroke-opacity:0.1; fill:none\" points=\"\n",
       "  226.232,868.467 2352.76,868.467 \n",
       "  \"/>\n",
       "<polyline clip-path=\"url(#clip492)\" style=\"stroke:#000000; stroke-width:2; stroke-opacity:0.1; fill:none\" points=\"\n",
       "  226.232,590.273 2352.76,590.273 \n",
       "  \"/>\n",
       "<polyline clip-path=\"url(#clip492)\" style=\"stroke:#000000; stroke-width:2; stroke-opacity:0.1; fill:none\" points=\"\n",
       "  226.232,312.079 2352.76,312.079 \n",
       "  \"/>\n",
       "<polyline clip-path=\"url(#clip490)\" style=\"stroke:#000000; stroke-width:4; stroke-opacity:1; fill:none\" points=\"\n",
       "  226.232,1423.18 226.232,47.2441 \n",
       "  \"/>\n",
       "<polyline clip-path=\"url(#clip490)\" style=\"stroke:#000000; stroke-width:4; stroke-opacity:1; fill:none\" points=\"\n",
       "  226.232,1146.66 251.75,1146.66 \n",
       "  \"/>\n",
       "<polyline clip-path=\"url(#clip490)\" style=\"stroke:#000000; stroke-width:4; stroke-opacity:1; fill:none\" points=\"\n",
       "  226.232,868.467 251.75,868.467 \n",
       "  \"/>\n",
       "<polyline clip-path=\"url(#clip490)\" style=\"stroke:#000000; stroke-width:4; stroke-opacity:1; fill:none\" points=\"\n",
       "  226.232,590.273 251.75,590.273 \n",
       "  \"/>\n",
       "<polyline clip-path=\"url(#clip490)\" style=\"stroke:#000000; stroke-width:4; stroke-opacity:1; fill:none\" points=\"\n",
       "  226.232,312.079 251.75,312.079 \n",
       "  \"/>\n",
       "<path clip-path=\"url(#clip490)\" d=\"M 0 0 M142.316 1129.38 L160.672 1129.38 L160.672 1133.32 L146.598 1133.32 L146.598 1141.79 Q147.616 1141.44 148.635 1141.28 Q149.653 1141.09 150.672 1141.09 Q156.459 1141.09 159.839 1144.26 Q163.218 1147.44 163.218 1152.85 Q163.218 1158.43 159.746 1161.53 Q156.274 1164.61 149.954 1164.61 Q147.778 1164.61 145.51 1164.24 Q143.265 1163.87 140.857 1163.13 L140.857 1158.43 Q142.941 1159.57 145.163 1160.12 Q147.385 1160.68 149.862 1160.68 Q153.866 1160.68 156.204 1158.57 Q158.542 1156.46 158.542 1152.85 Q158.542 1149.24 156.204 1147.14 Q153.866 1145.03 149.862 1145.03 Q147.987 1145.03 146.112 1145.45 Q144.26 1145.86 142.316 1146.74 L142.316 1129.38 Z\" fill=\"#000000\" fill-rule=\"evenodd\" fill-opacity=\"1\" /><path clip-path=\"url(#clip490)\" d=\"M 0 0 M178.288 1132.46 Q174.677 1132.46 172.848 1136.02 Q171.042 1139.57 171.042 1146.7 Q171.042 1153.8 172.848 1157.37 Q174.677 1160.91 178.288 1160.91 Q181.922 1160.91 183.727 1157.37 Q185.556 1153.8 185.556 1146.7 Q185.556 1139.57 183.727 1136.02 Q181.922 1132.46 178.288 1132.46 M178.288 1128.76 Q184.098 1128.76 187.153 1133.36 Q190.232 1137.95 190.232 1146.7 Q190.232 1155.42 187.153 1160.03 Q184.098 1164.61 178.288 1164.61 Q172.477 1164.61 169.399 1160.03 Q166.343 1155.42 166.343 1146.7 Q166.343 1137.95 169.399 1133.36 Q172.477 1128.76 178.288 1128.76 Z\" fill=\"#000000\" fill-rule=\"evenodd\" fill-opacity=\"1\" /><path clip-path=\"url(#clip490)\" d=\"M 0 0 M116.297 881.812 L123.936 881.812 L123.936 855.446 L115.626 857.113 L115.626 852.853 L123.89 851.187 L128.566 851.187 L128.566 881.812 L136.204 881.812 L136.204 885.747 L116.297 885.747 L116.297 881.812 Z\" fill=\"#000000\" fill-rule=\"evenodd\" fill-opacity=\"1\" /><path clip-path=\"url(#clip490)\" d=\"M 0 0 M151.274 854.266 Q147.663 854.266 145.834 857.83 Q144.029 861.372 144.029 868.502 Q144.029 875.608 145.834 879.173 Q147.663 882.714 151.274 882.714 Q154.908 882.714 156.714 879.173 Q158.542 875.608 158.542 868.502 Q158.542 861.372 156.714 857.83 Q154.908 854.266 151.274 854.266 M151.274 850.562 Q157.084 850.562 160.14 855.168 Q163.218 859.752 163.218 868.502 Q163.218 877.228 160.14 881.835 Q157.084 886.418 151.274 886.418 Q145.464 886.418 142.385 881.835 Q139.329 877.228 139.329 868.502 Q139.329 859.752 142.385 855.168 Q145.464 850.562 151.274 850.562 Z\" fill=\"#000000\" fill-rule=\"evenodd\" fill-opacity=\"1\" /><path clip-path=\"url(#clip490)\" d=\"M 0 0 M178.288 854.266 Q174.677 854.266 172.848 857.83 Q171.042 861.372 171.042 868.502 Q171.042 875.608 172.848 879.173 Q174.677 882.714 178.288 882.714 Q181.922 882.714 183.727 879.173 Q185.556 875.608 185.556 868.502 Q185.556 861.372 183.727 857.83 Q181.922 854.266 178.288 854.266 M178.288 850.562 Q184.098 850.562 187.153 855.168 Q190.232 859.752 190.232 868.502 Q190.232 877.228 187.153 881.835 Q184.098 886.418 178.288 886.418 Q172.477 886.418 169.399 881.835 Q166.343 877.228 166.343 868.502 Q166.343 859.752 169.399 855.168 Q172.477 850.562 178.288 850.562 Z\" fill=\"#000000\" fill-rule=\"evenodd\" fill-opacity=\"1\" /><path clip-path=\"url(#clip490)\" d=\"M 0 0 M117.293 603.618 L124.931 603.618 L124.931 577.252 L116.621 578.919 L116.621 574.66 L124.885 572.993 L129.561 572.993 L129.561 603.618 L137.2 603.618 L137.2 607.553 L117.293 607.553 L117.293 603.618 Z\" fill=\"#000000\" fill-rule=\"evenodd\" fill-opacity=\"1\" /><path clip-path=\"url(#clip490)\" d=\"M 0 0 M142.316 572.993 L160.672 572.993 L160.672 576.928 L146.598 576.928 L146.598 585.4 Q147.616 585.053 148.635 584.891 Q149.653 584.706 150.672 584.706 Q156.459 584.706 159.839 587.877 Q163.218 591.048 163.218 596.465 Q163.218 602.044 159.746 605.146 Q156.274 608.224 149.954 608.224 Q147.778 608.224 145.51 607.854 Q143.265 607.484 140.857 606.743 L140.857 602.044 Q142.941 603.178 145.163 603.734 Q147.385 604.289 149.862 604.289 Q153.866 604.289 156.204 602.183 Q158.542 600.076 158.542 596.465 Q158.542 592.854 156.204 590.747 Q153.866 588.641 149.862 588.641 Q147.987 588.641 146.112 589.058 Q144.26 589.474 142.316 590.354 L142.316 572.993 Z\" fill=\"#000000\" fill-rule=\"evenodd\" fill-opacity=\"1\" /><path clip-path=\"url(#clip490)\" d=\"M 0 0 M178.288 576.072 Q174.677 576.072 172.848 579.636 Q171.042 583.178 171.042 590.308 Q171.042 597.414 172.848 600.979 Q174.677 604.521 178.288 604.521 Q181.922 604.521 183.727 600.979 Q185.556 597.414 185.556 590.308 Q185.556 583.178 183.727 579.636 Q181.922 576.072 178.288 576.072 M178.288 572.368 Q184.098 572.368 187.153 576.974 Q190.232 581.558 190.232 590.308 Q190.232 599.034 187.153 603.641 Q184.098 608.224 178.288 608.224 Q172.477 608.224 169.399 603.641 Q166.343 599.034 166.343 590.308 Q166.343 581.558 169.399 576.974 Q172.477 572.368 178.288 572.368 Z\" fill=\"#000000\" fill-rule=\"evenodd\" fill-opacity=\"1\" /><path clip-path=\"url(#clip490)\" d=\"M 0 0 M119.885 325.424 L136.204 325.424 L136.204 329.359 L114.26 329.359 L114.26 325.424 Q116.922 322.669 121.505 318.04 Q126.112 313.387 127.292 312.044 Q129.538 309.521 130.417 307.785 Q131.32 306.026 131.32 304.336 Q131.32 301.581 129.376 299.845 Q127.455 298.109 124.353 298.109 Q122.154 298.109 119.7 298.873 Q117.269 299.637 114.492 301.188 L114.492 296.466 Q117.316 295.331 119.769 294.753 Q122.223 294.174 124.26 294.174 Q129.63 294.174 132.825 296.859 Q136.019 299.544 136.019 304.035 Q136.019 306.165 135.209 308.086 Q134.422 309.984 132.316 312.577 Q131.737 313.248 128.635 316.466 Q125.533 319.66 119.885 325.424 Z\" fill=\"#000000\" fill-rule=\"evenodd\" fill-opacity=\"1\" /><path clip-path=\"url(#clip490)\" d=\"M 0 0 M151.274 297.878 Q147.663 297.878 145.834 301.443 Q144.029 304.984 144.029 312.114 Q144.029 319.22 145.834 322.785 Q147.663 326.327 151.274 326.327 Q154.908 326.327 156.714 322.785 Q158.542 319.22 158.542 312.114 Q158.542 304.984 156.714 301.443 Q154.908 297.878 151.274 297.878 M151.274 294.174 Q157.084 294.174 160.14 298.781 Q163.218 303.364 163.218 312.114 Q163.218 320.841 160.14 325.447 Q157.084 330.03 151.274 330.03 Q145.464 330.03 142.385 325.447 Q139.329 320.841 139.329 312.114 Q139.329 303.364 142.385 298.781 Q145.464 294.174 151.274 294.174 Z\" fill=\"#000000\" fill-rule=\"evenodd\" fill-opacity=\"1\" /><path clip-path=\"url(#clip490)\" d=\"M 0 0 M178.288 297.878 Q174.677 297.878 172.848 301.443 Q171.042 304.984 171.042 312.114 Q171.042 319.22 172.848 322.785 Q174.677 326.327 178.288 326.327 Q181.922 326.327 183.727 322.785 Q185.556 319.22 185.556 312.114 Q185.556 304.984 183.727 301.443 Q181.922 297.878 178.288 297.878 M178.288 294.174 Q184.098 294.174 187.153 298.781 Q190.232 303.364 190.232 312.114 Q190.232 320.841 187.153 325.447 Q184.098 330.03 178.288 330.03 Q172.477 330.03 169.399 325.447 Q166.343 320.841 166.343 312.114 Q166.343 303.364 169.399 298.781 Q172.477 294.174 178.288 294.174 Z\" fill=\"#000000\" fill-rule=\"evenodd\" fill-opacity=\"1\" /><path clip-path=\"url(#clip490)\" d=\"M 0 0 M20.1444 809.563 L26.9239 809.563 Q23.9002 812.81 22.4043 816.502 Q20.9083 820.162 20.9083 824.3 Q20.9083 832.448 25.9054 836.777 Q30.8707 841.105 40.2919 841.105 Q49.6813 841.105 54.6784 836.777 Q59.6436 832.448 59.6436 824.3 Q59.6436 820.162 58.1477 816.502 Q56.6518 812.81 53.6281 809.563 L60.3439 809.563 Q62.6355 812.937 63.7814 816.725 Q64.9272 820.481 64.9272 824.682 Q64.9272 835.472 58.3387 841.678 Q51.7183 847.885 40.2919 847.885 Q28.8336 847.885 22.2451 841.678 Q15.6248 835.472 15.6248 824.682 Q15.6248 820.417 16.7706 816.661 Q17.8846 812.874 20.1444 809.563 Z\" fill=\"#000000\" fill-rule=\"evenodd\" fill-opacity=\"1\" /><path clip-path=\"url(#clip490)\" d=\"M 0 0 M14.479 783.241 L14.479 769.746 L19.0304 769.746 L19.0304 777.385 L68.0464 777.385 L68.0464 769.746 L72.5979 769.746 L72.5979 783.241 L14.479 783.241 Z\" fill=\"#000000\" fill-rule=\"evenodd\" fill-opacity=\"1\" /><path clip-path=\"url(#clip490)\" d=\"M 0 0 M35.1993 735.849 Q31.2526 733.652 29.3747 730.597 Q27.4968 727.541 27.4968 723.404 Q27.4968 717.834 31.4117 714.81 Q35.2948 711.786 42.4881 711.786 L64.0042 711.786 L64.0042 717.674 L42.679 717.674 Q37.5546 717.674 35.072 719.489 Q32.5894 721.303 32.5894 725.027 Q32.5894 729.578 35.6131 732.22 Q38.6368 734.862 43.8567 734.862 L64.0042 734.862 L64.0042 740.75 L42.679 740.75 Q37.5228 740.75 35.072 742.564 Q32.5894 744.379 32.5894 748.166 Q32.5894 752.654 35.6449 755.296 Q38.6686 757.938 43.8567 757.938 L64.0042 757.938 L64.0042 763.826 L28.3562 763.826 L28.3562 757.938 L33.8944 757.938 Q30.616 755.932 29.0564 753.131 Q27.4968 750.331 27.4968 746.479 Q27.4968 742.596 29.4702 739.891 Q31.4436 737.154 35.1993 735.849 Z\" fill=\"#000000\" fill-rule=\"evenodd\" fill-opacity=\"1\" /><path clip-path=\"url(#clip490)\" d=\"M 0 0 M45.7664 682.186 Q39.4007 682.186 35.8996 684.827 Q32.3984 687.437 32.3984 692.18 Q32.3984 696.89 35.8996 699.532 Q39.4007 702.142 45.7664 702.142 Q52.1003 702.142 55.6014 699.532 Q59.1026 696.89 59.1026 692.18 Q59.1026 687.437 55.6014 684.827 Q52.1003 682.186 45.7664 682.186 M59.58 676.329 Q68.683 676.329 73.1071 680.371 Q77.5631 684.414 77.5631 692.753 Q77.5631 695.84 77.0857 698.577 Q76.6401 701.315 75.6852 703.893 L69.9879 703.893 Q71.3884 701.315 72.0568 698.8 Q72.7252 696.286 72.7252 693.676 Q72.7252 687.915 69.7015 685.05 Q66.7096 682.186 60.6303 682.186 L57.7339 682.186 Q60.885 684 62.4446 686.833 Q64.0042 689.665 64.0042 693.612 Q64.0042 700.169 59.0071 704.179 Q54.01 708.19 45.7664 708.19 Q37.491 708.19 32.4939 704.179 Q27.4968 700.169 27.4968 693.612 Q27.4968 689.665 29.0564 686.833 Q30.616 684 33.7671 682.186 L28.3562 682.186 L28.3562 676.329 L59.58 676.329 Z\" fill=\"#000000\" fill-rule=\"evenodd\" fill-opacity=\"1\" /><path clip-path=\"url(#clip490)\" d=\"M 0 0 M16.4842 659.778 L16.4842 654.367 L70.0516 670.918 L70.0516 676.329 L16.4842 659.778 Z\" fill=\"#000000\" fill-rule=\"evenodd\" fill-opacity=\"1\" /><path clip-path=\"url(#clip490)\" d=\"M 0 0 M14.479 648.225 L14.479 642.368 L64.0042 642.368 L64.0042 648.225 L14.479 648.225 Z\" fill=\"#000000\" fill-rule=\"evenodd\" fill-opacity=\"1\" /><path clip-path=\"url(#clip490)\" d=\"M 0 0 M14.479 622.539 L72.5979 622.539 L72.5979 636.034 L68.0464 636.034 L68.0464 628.427 L19.0304 628.427 L19.0304 636.034 L14.479 636.034 L14.479 622.539 Z\" fill=\"#000000\" fill-rule=\"evenodd\" fill-opacity=\"1\" /><circle clip-path=\"url(#clip492)\" cx=\"286.417\" cy=\"86.1857\" r=\"14\" fill=\"#da70d6\" fill-rule=\"evenodd\" fill-opacity=\"1\" stroke=\"#000000\" stroke-opacity=\"1\" stroke-width=\"3.2\"/>\n",
       "<circle clip-path=\"url(#clip492)\" cx=\"397.424\" cy=\"212.486\" r=\"14\" fill=\"#da70d6\" fill-rule=\"evenodd\" fill-opacity=\"1\" stroke=\"#000000\" stroke-opacity=\"1\" stroke-width=\"3.2\"/>\n",
       "<circle clip-path=\"url(#clip492)\" cx=\"509.768\" cy=\"482.89\" r=\"14\" fill=\"#da70d6\" fill-rule=\"evenodd\" fill-opacity=\"1\" stroke=\"#000000\" stroke-opacity=\"1\" stroke-width=\"3.2\"/>\n",
       "<circle clip-path=\"url(#clip492)\" cx=\"620.776\" cy=\"763.31\" r=\"14\" fill=\"#da70d6\" fill-rule=\"evenodd\" fill-opacity=\"1\" stroke=\"#000000\" stroke-opacity=\"1\" stroke-width=\"3.2\"/>\n",
       "<circle clip-path=\"url(#clip492)\" cx=\"777.256\" cy=\"852.332\" r=\"14\" fill=\"#da70d6\" fill-rule=\"evenodd\" fill-opacity=\"1\" stroke=\"#000000\" stroke-opacity=\"1\" stroke-width=\"3.2\"/>\n",
       "<circle clip-path=\"url(#clip492)\" cx=\"999.27\" cy=\"1009.23\" r=\"14\" fill=\"#da70d6\" fill-rule=\"evenodd\" fill-opacity=\"1\" stroke=\"#000000\" stroke-opacity=\"1\" stroke-width=\"3.2\"/>\n",
       "<circle clip-path=\"url(#clip492)\" cx=\"1178.49\" cy=\"1118.28\" r=\"14\" fill=\"#da70d6\" fill-rule=\"evenodd\" fill-opacity=\"1\" stroke=\"#000000\" stroke-opacity=\"1\" stroke-width=\"3.2\"/>\n",
       "<circle clip-path=\"url(#clip492)\" cx=\"1400.5\" cy=\"1223.44\" r=\"14\" fill=\"#da70d6\" fill-rule=\"evenodd\" fill-opacity=\"1\" stroke=\"#000000\" stroke-opacity=\"1\" stroke-width=\"3.2\"/>\n",
       "<circle clip-path=\"url(#clip492)\" cx=\"1623.85\" cy=\"1298\" r=\"14\" fill=\"#da70d6\" fill-rule=\"evenodd\" fill-opacity=\"1\" stroke=\"#000000\" stroke-opacity=\"1\" stroke-width=\"3.2\"/>\n",
       "<circle clip-path=\"url(#clip492)\" cx=\"2065.21\" cy=\"1335.28\" r=\"14\" fill=\"#da70d6\" fill-rule=\"evenodd\" fill-opacity=\"1\" stroke=\"#000000\" stroke-opacity=\"1\" stroke-width=\"3.2\"/>\n",
       "<circle clip-path=\"url(#clip492)\" cx=\"2185.58\" cy=\"1374.22\" r=\"14\" fill=\"#da70d6\" fill-rule=\"evenodd\" fill-opacity=\"1\" stroke=\"#000000\" stroke-opacity=\"1\" stroke-width=\"3.2\"/>\n",
       "<circle clip-path=\"url(#clip492)\" cx=\"2292.57\" cy=\"1384.24\" r=\"14\" fill=\"#da70d6\" fill-rule=\"evenodd\" fill-opacity=\"1\" stroke=\"#000000\" stroke-opacity=\"1\" stroke-width=\"3.2\"/>\n",
       "<path clip-path=\"url(#clip490)\" d=\"\n",
       "M1654.46 214.069 L2281.87 214.069 L2281.87 93.1086 L1654.46 93.1086  Z\n",
       "  \" fill=\"#ffffff\" fill-rule=\"evenodd\" fill-opacity=\"1\"/>\n",
       "<polyline clip-path=\"url(#clip490)\" style=\"stroke:#000000; stroke-width:4; stroke-opacity:1; fill:none\" points=\"\n",
       "  1654.46,214.069 2281.87,214.069 2281.87,93.1086 1654.46,93.1086 1654.46,214.069 \n",
       "  \"/>\n",
       "<circle clip-path=\"url(#clip490)\" cx=\"1748.97\" cy=\"153.589\" r=\"23\" fill=\"#da70d6\" fill-rule=\"evenodd\" fill-opacity=\"1\" stroke=\"#000000\" stroke-opacity=\"1\" stroke-width=\"5.12\"/>\n",
       "<path clip-path=\"url(#clip490)\" d=\"M 0 0 M1843.48 144.943 L1847.74 144.943 L1853.07 165.174 L1858.37 144.943 L1863.39 144.943 L1868.71 165.174 L1874.02 144.943 L1878.28 144.943 L1871.49 170.869 L1866.47 170.869 L1860.89 149.619 L1855.29 170.869 L1850.27 170.869 L1843.48 144.943 Z\" fill=\"#000000\" fill-rule=\"evenodd\" fill-opacity=\"1\" /><path clip-path=\"url(#clip490)\" d=\"M 0 0 M1894.52 157.836 Q1889.36 157.836 1887.37 159.017 Q1885.38 160.197 1885.38 163.045 Q1885.38 165.313 1886.86 166.656 Q1888.37 167.975 1890.94 167.975 Q1894.48 167.975 1896.61 165.475 Q1898.76 162.952 1898.76 158.785 L1898.76 157.836 L1894.52 157.836 M1903.02 156.077 L1903.02 170.869 L1898.76 170.869 L1898.76 166.933 Q1897.3 169.295 1895.13 170.429 Q1892.95 171.54 1889.8 171.54 Q1885.82 171.54 1883.46 169.318 Q1881.12 167.072 1881.12 163.322 Q1881.12 158.947 1884.04 156.725 Q1886.98 154.503 1892.79 154.503 L1898.76 154.503 L1898.76 154.086 Q1898.76 151.147 1896.82 149.549 Q1894.9 147.929 1891.4 147.929 Q1889.18 147.929 1887.07 148.461 Q1884.96 148.994 1883.02 150.059 L1883.02 146.123 Q1885.36 145.221 1887.56 144.781 Q1889.76 144.318 1891.84 144.318 Q1897.46 144.318 1900.24 147.234 Q1903.02 150.151 1903.02 156.077 Z\" fill=\"#000000\" fill-rule=\"evenodd\" fill-opacity=\"1\" /><path clip-path=\"url(#clip490)\" d=\"M 0 0 M1922.51 148.924 Q1921.79 148.508 1920.94 148.322 Q1920.1 148.114 1919.08 148.114 Q1915.47 148.114 1913.53 150.475 Q1911.61 152.813 1911.61 157.211 L1911.61 170.869 L1907.33 170.869 L1907.33 144.943 L1911.61 144.943 L1911.61 148.971 Q1912.95 146.609 1915.1 145.475 Q1917.26 144.318 1920.33 144.318 Q1920.77 144.318 1921.31 144.387 Q1921.84 144.434 1922.49 144.549 L1922.51 148.924 Z\" fill=\"#000000\" fill-rule=\"evenodd\" fill-opacity=\"1\" /><path clip-path=\"url(#clip490)\" d=\"M 0 0 M1931.19 137.582 L1931.19 144.943 L1939.96 144.943 L1939.96 148.253 L1931.19 148.253 L1931.19 162.327 Q1931.19 165.498 1932.05 166.401 Q1932.93 167.304 1935.59 167.304 L1939.96 167.304 L1939.96 170.869 L1935.59 170.869 Q1930.66 170.869 1928.78 169.04 Q1926.91 167.188 1926.91 162.327 L1926.91 148.253 L1923.78 148.253 L1923.78 144.943 L1926.91 144.943 L1926.91 137.582 L1931.19 137.582 Z\" fill=\"#000000\" fill-rule=\"evenodd\" fill-opacity=\"1\" /><path clip-path=\"url(#clip490)\" d=\"M 0 0 M1954.48 147.929 Q1951.05 147.929 1949.06 150.614 Q1947.07 153.276 1947.07 157.929 Q1947.07 162.582 1949.04 165.267 Q1951.03 167.929 1954.48 167.929 Q1957.88 167.929 1959.87 165.244 Q1961.86 162.558 1961.86 157.929 Q1961.86 153.322 1959.87 150.637 Q1957.88 147.929 1954.48 147.929 M1954.48 144.318 Q1960.03 144.318 1963.21 147.929 Q1966.38 151.54 1966.38 157.929 Q1966.38 164.295 1963.21 167.929 Q1960.03 171.54 1954.48 171.54 Q1948.9 171.54 1945.73 167.929 Q1942.58 164.295 1942.58 157.929 Q1942.58 151.54 1945.73 147.929 Q1948.9 144.318 1954.48 144.318 Z\" fill=\"#000000\" fill-rule=\"evenodd\" fill-opacity=\"1\" /><path clip-path=\"url(#clip490)\" d=\"M 0 0 M1982.97 132.79 L1987.58 132.79 L1980.03 141.494 L1976.49 141.494 L1982.97 132.79 M1987.37 145.707 L1987.37 149.734 Q1985.57 148.809 1983.62 148.346 Q1981.68 147.883 1979.59 147.883 Q1976.42 147.883 1974.83 148.855 Q1973.25 149.827 1973.25 151.771 Q1973.25 153.253 1974.39 154.109 Q1975.52 154.943 1978.95 155.707 L1980.4 156.031 Q1984.94 157.003 1986.84 158.785 Q1988.76 160.545 1988.76 163.716 Q1988.76 167.327 1985.89 169.433 Q1983.04 171.54 1978.04 171.54 Q1975.96 171.54 1973.69 171.123 Q1971.45 170.73 1968.95 169.92 L1968.95 165.521 Q1971.31 166.748 1973.6 167.373 Q1975.89 167.975 1978.14 167.975 Q1981.14 167.975 1982.77 166.957 Q1984.39 165.915 1984.39 164.04 Q1984.39 162.304 1983.2 161.378 Q1982.05 160.452 1978.09 159.596 L1976.61 159.248 Q1972.65 158.415 1970.89 156.702 Q1969.13 154.966 1969.13 151.957 Q1969.13 148.299 1971.72 146.309 Q1974.32 144.318 1979.08 144.318 Q1981.45 144.318 1983.53 144.665 Q1985.61 145.012 1987.37 145.707 Z\" fill=\"#000000\" fill-rule=\"evenodd\" fill-opacity=\"1\" /><path clip-path=\"url(#clip490)\" d=\"M 0 0 M2011.89 145.938 L2011.89 149.92 Q2010.08 148.924 2008.25 148.438 Q2006.45 147.929 2004.59 147.929 Q2000.45 147.929 1998.16 150.568 Q1995.87 153.184 1995.87 157.929 Q1995.87 162.674 1998.16 165.313 Q2000.45 167.929 2004.59 167.929 Q2006.45 167.929 2008.25 167.443 Q2010.08 166.933 2011.89 165.938 L2011.89 169.873 Q2010.1 170.707 2008.18 171.123 Q2006.28 171.54 2004.13 171.54 Q1998.27 171.54 1994.83 167.859 Q1991.38 164.179 1991.38 157.929 Q1991.38 151.586 1994.85 147.952 Q1998.34 144.318 2004.41 144.318 Q2006.38 144.318 2008.25 144.735 Q2010.13 145.128 2011.89 145.938 Z\" fill=\"#000000\" fill-rule=\"evenodd\" fill-opacity=\"1\" /><path clip-path=\"url(#clip490)\" d=\"M 0 0 M2016.35 144.943 L2020.61 144.943 L2020.61 170.869 L2016.35 170.869 L2016.35 144.943 M2016.35 134.85 L2020.61 134.85 L2020.61 140.244 L2016.35 140.244 L2016.35 134.85 Z\" fill=\"#000000\" fill-rule=\"evenodd\" fill-opacity=\"1\" /><path clip-path=\"url(#clip490)\" d=\"M 0 0 M2060.33 149.92 Q2061.93 147.049 2064.15 145.684 Q2066.38 144.318 2069.39 144.318 Q2073.44 144.318 2075.64 147.165 Q2077.83 149.989 2077.83 155.221 L2077.83 170.869 L2073.55 170.869 L2073.55 155.359 Q2073.55 151.633 2072.23 149.827 Q2070.91 148.022 2068.2 148.022 Q2064.89 148.022 2062.97 150.221 Q2061.05 152.42 2061.05 156.216 L2061.05 170.869 L2056.77 170.869 L2056.77 155.359 Q2056.77 151.609 2055.45 149.827 Q2054.13 148.022 2051.38 148.022 Q2048.11 148.022 2046.19 150.244 Q2044.27 152.443 2044.27 156.216 L2044.27 170.869 L2039.99 170.869 L2039.99 144.943 L2044.27 144.943 L2044.27 148.971 Q2045.73 146.586 2047.76 145.452 Q2049.8 144.318 2052.6 144.318 Q2055.43 144.318 2057.39 145.753 Q2059.39 147.188 2060.33 149.92 Z\" fill=\"#000000\" fill-rule=\"evenodd\" fill-opacity=\"1\" /><path clip-path=\"url(#clip490)\" d=\"M 0 0 M2082.3 144.943 L2086.56 144.943 L2086.56 170.869 L2082.3 170.869 L2082.3 144.943 M2082.3 134.85 L2086.56 134.85 L2086.56 140.244 L2082.3 140.244 L2082.3 134.85 Z\" fill=\"#000000\" fill-rule=\"evenodd\" fill-opacity=\"1\" /><path clip-path=\"url(#clip490)\" d=\"M 0 0 M2113.2 156.841 L2113.2 158.924 L2093.62 158.924 Q2093.9 163.322 2096.26 165.637 Q2098.64 167.929 2102.88 167.929 Q2105.33 167.929 2107.63 167.327 Q2109.94 166.725 2112.21 165.521 L2112.21 169.549 Q2109.92 170.521 2107.51 171.031 Q2105.1 171.54 2102.63 171.54 Q2096.42 171.54 2092.79 167.929 Q2089.18 164.318 2089.18 158.16 Q2089.18 151.795 2092.6 148.068 Q2096.05 144.318 2101.88 144.318 Q2107.12 144.318 2110.15 147.697 Q2113.2 151.054 2113.2 156.841 M2108.95 155.591 Q2108.9 152.096 2106.98 150.012 Q2105.08 147.929 2101.93 147.929 Q2098.37 147.929 2096.21 149.943 Q2094.08 151.957 2093.76 155.614 L2108.95 155.591 Z\" fill=\"#000000\" fill-rule=\"evenodd\" fill-opacity=\"1\" /><path clip-path=\"url(#clip490)\" d=\"M 0 0 M2132.69 148.924 Q2131.98 148.508 2131.12 148.322 Q2130.29 148.114 2129.27 148.114 Q2125.66 148.114 2123.71 150.475 Q2121.79 152.813 2121.79 157.211 L2121.79 170.869 L2117.51 170.869 L2117.51 144.943 L2121.79 144.943 L2121.79 148.971 Q2123.13 146.609 2125.29 145.475 Q2127.44 144.318 2130.52 144.318 Q2130.96 144.318 2131.49 144.387 Q2132.02 144.434 2132.67 144.549 L2132.69 148.924 Z\" fill=\"#000000\" fill-rule=\"evenodd\" fill-opacity=\"1\" /><path clip-path=\"url(#clip490)\" d=\"M 0 0 M2135.31 144.943 L2155.54 144.943 L2155.54 148.832 L2139.52 167.466 L2155.54 167.466 L2155.54 170.869 L2134.73 170.869 L2134.73 166.98 L2150.75 148.346 L2135.31 148.346 L2135.31 144.943 Z\" fill=\"#000000\" fill-rule=\"evenodd\" fill-opacity=\"1\" /><path clip-path=\"url(#clip490)\" d=\"M 0 0 M2170.06 147.929 Q2166.63 147.929 2164.64 150.614 Q2162.65 153.276 2162.65 157.929 Q2162.65 162.582 2164.62 165.267 Q2166.61 167.929 2170.06 167.929 Q2173.46 167.929 2175.45 165.244 Q2177.44 162.558 2177.44 157.929 Q2177.44 153.322 2175.45 150.637 Q2173.46 147.929 2170.06 147.929 M2170.06 144.318 Q2175.61 144.318 2178.78 147.929 Q2181.95 151.54 2181.95 157.929 Q2181.95 164.295 2178.78 167.929 Q2175.61 171.54 2170.06 171.54 Q2164.48 171.54 2161.31 167.929 Q2158.16 164.295 2158.16 157.929 Q2158.16 151.54 2161.31 147.929 Q2164.48 144.318 2170.06 144.318 Z\" fill=\"#000000\" fill-rule=\"evenodd\" fill-opacity=\"1\" /><path clip-path=\"url(#clip490)\" d=\"M 0 0 M2207.97 155.221 L2207.97 170.869 L2203.71 170.869 L2203.71 155.359 Q2203.71 151.679 2202.28 149.85 Q2200.84 148.022 2197.97 148.022 Q2194.52 148.022 2192.53 150.221 Q2190.54 152.42 2190.54 156.216 L2190.54 170.869 L2186.26 170.869 L2186.26 144.943 L2190.54 144.943 L2190.54 148.971 Q2192.07 146.633 2194.13 145.475 Q2196.21 144.318 2198.92 144.318 Q2203.39 144.318 2205.68 147.096 Q2207.97 149.85 2207.97 155.221 Z\" fill=\"#000000\" fill-rule=\"evenodd\" fill-opacity=\"1\" /><path clip-path=\"url(#clip490)\" d=\"M 0 0 M2234.62 156.841 L2234.62 158.924 L2215.03 158.924 Q2215.31 163.322 2217.67 165.637 Q2220.06 167.929 2224.29 167.929 Q2226.75 167.929 2229.04 167.327 Q2231.35 166.725 2233.62 165.521 L2233.62 169.549 Q2231.33 170.521 2228.92 171.031 Q2226.51 171.54 2224.04 171.54 Q2217.83 171.54 2214.2 167.929 Q2210.59 164.318 2210.59 158.16 Q2210.59 151.795 2214.01 148.068 Q2217.46 144.318 2223.3 144.318 Q2228.53 144.318 2231.56 147.697 Q2234.62 151.054 2234.62 156.841 M2230.36 155.591 Q2230.31 152.096 2228.39 150.012 Q2226.49 147.929 2223.34 147.929 Q2219.78 147.929 2217.63 149.943 Q2215.5 151.957 2215.17 155.614 L2230.36 155.591 Z\" fill=\"#000000\" fill-rule=\"evenodd\" fill-opacity=\"1\" /></svg>\n"
      ]
     },
     "execution_count": 742,
     "metadata": {},
     "output_type": "execute_result"
    }
   ],
   "source": [
    "scatter(t, C, xlabel=\"t [h]\", ylabel=\"C [mg/l]\", label = \"wartości mierzone\", color=\"orchid\")"
   ]
  },
  {
   "cell_type": "markdown",
   "metadata": {},
   "source": [
    "Rozpatrzmy teraz model jednokompartmentowy rozważając równanie różniczkowe (4.2) w postaci \n",
    "$$ \\frac{dX}{dt} = -\\mathrm{K} \\cdot X $$"
   ]
  },
  {
   "cell_type": "markdown",
   "metadata": {},
   "source": [
    "Najpierw wykorzystajmy nasze rozwiązanie analityczne\n",
    "$$ C(t) = C_0 \\cdot \\mathrm{e}^{-\\mathrm{K} \\cdot t} $$"
   ]
  },
  {
   "cell_type": "code",
   "execution_count": 743,
   "metadata": {},
   "outputs": [
    {
     "data": {
      "text/plain": [
       "one_comp (generic function with 1 method)"
      ]
     },
     "execution_count": 743,
     "metadata": {},
     "output_type": "execute_result"
    }
   ],
   "source": [
    "function one_comp(t, C, K)\n",
    "    return C*ℯ^(-K*t)\n",
    "end"
   ]
  },
  {
   "cell_type": "code",
   "execution_count": 744,
   "metadata": {},
   "outputs": [
    {
     "data": {
      "text/plain": [
       "one_comp_array (generic function with 1 method)"
      ]
     },
     "execution_count": 744,
     "metadata": {},
     "output_type": "execute_result"
    }
   ],
   "source": [
    "function one_comp_array(t, C, K)\n",
    "    x = fill(NaN, length(t))\n",
    "    for i in 1:(length(t))\n",
    "        x[i] = C*ℯ^(-K*t[i])\n",
    "    end\n",
    "    return x\n",
    "end"
   ]
  },
  {
   "cell_type": "code",
   "execution_count": 745,
   "metadata": {},
   "outputs": [],
   "source": [
    "t_step = Array(0:0.1:1.5)\n",
    "analyt = one_comp_array(t_step, 240.6, 2.44);"
   ]
  },
  {
   "cell_type": "code",
   "execution_count": 746,
   "metadata": {},
   "outputs": [
    {
     "data": {
      "image/svg+xml": [
       "<?xml version=\"1.0\" encoding=\"utf-8\"?>\n",
       "<svg xmlns=\"http://www.w3.org/2000/svg\" xmlns:xlink=\"http://www.w3.org/1999/xlink\" width=\"600\" height=\"400\" viewBox=\"0 0 2400 1600\">\n",
       "<defs>\n",
       "  <clipPath id=\"clip530\">\n",
       "    <rect x=\"0\" y=\"0\" width=\"2400\" height=\"1600\"/>\n",
       "  </clipPath>\n",
       "</defs>\n",
       "<path clip-path=\"url(#clip530)\" d=\"\n",
       "M0 1600 L2400 1600 L2400 0 L0 0  Z\n",
       "  \" fill=\"#ffffff\" fill-rule=\"evenodd\" fill-opacity=\"1\"/>\n",
       "<defs>\n",
       "  <clipPath id=\"clip531\">\n",
       "    <rect x=\"480\" y=\"0\" width=\"1681\" height=\"1600\"/>\n",
       "  </clipPath>\n",
       "</defs>\n",
       "<path clip-path=\"url(#clip530)\" d=\"\n",
       "M226.232 1423.18 L2352.76 1423.18 L2352.76 47.2441 L226.232 47.2441  Z\n",
       "  \" fill=\"#ffffff\" fill-rule=\"evenodd\" fill-opacity=\"1\"/>\n",
       "<defs>\n",
       "  <clipPath id=\"clip532\">\n",
       "    <rect x=\"226\" y=\"47\" width=\"2128\" height=\"1377\"/>\n",
       "  </clipPath>\n",
       "</defs>\n",
       "<polyline clip-path=\"url(#clip532)\" style=\"stroke:#000000; stroke-width:2; stroke-opacity:0.1; fill:none\" points=\"\n",
       "  286.417,1423.18 286.417,47.2441 \n",
       "  \"/>\n",
       "<polyline clip-path=\"url(#clip532)\" style=\"stroke:#000000; stroke-width:2; stroke-opacity:0.1; fill:none\" points=\"\n",
       "  955.135,1423.18 955.135,47.2441 \n",
       "  \"/>\n",
       "<polyline clip-path=\"url(#clip532)\" style=\"stroke:#000000; stroke-width:2; stroke-opacity:0.1; fill:none\" points=\"\n",
       "  1623.85,1423.18 1623.85,47.2441 \n",
       "  \"/>\n",
       "<polyline clip-path=\"url(#clip532)\" style=\"stroke:#000000; stroke-width:2; stroke-opacity:0.1; fill:none\" points=\"\n",
       "  2292.57,1423.18 2292.57,47.2441 \n",
       "  \"/>\n",
       "<polyline clip-path=\"url(#clip530)\" style=\"stroke:#000000; stroke-width:4; stroke-opacity:1; fill:none\" points=\"\n",
       "  226.232,1423.18 2352.76,1423.18 \n",
       "  \"/>\n",
       "<polyline clip-path=\"url(#clip530)\" style=\"stroke:#000000; stroke-width:4; stroke-opacity:1; fill:none\" points=\"\n",
       "  286.417,1423.18 286.417,1406.67 \n",
       "  \"/>\n",
       "<polyline clip-path=\"url(#clip530)\" style=\"stroke:#000000; stroke-width:4; stroke-opacity:1; fill:none\" points=\"\n",
       "  955.135,1423.18 955.135,1406.67 \n",
       "  \"/>\n",
       "<polyline clip-path=\"url(#clip530)\" style=\"stroke:#000000; stroke-width:4; stroke-opacity:1; fill:none\" points=\"\n",
       "  1623.85,1423.18 1623.85,1406.67 \n",
       "  \"/>\n",
       "<polyline clip-path=\"url(#clip530)\" style=\"stroke:#000000; stroke-width:4; stroke-opacity:1; fill:none\" points=\"\n",
       "  2292.57,1423.18 2292.57,1406.67 \n",
       "  \"/>\n",
       "<path clip-path=\"url(#clip530)\" d=\"M 0 0 M267.933 1452.37 Q264.322 1452.37 262.493 1455.94 Q260.688 1459.48 260.688 1466.61 Q260.688 1473.71 262.493 1477.28 Q264.322 1480.82 267.933 1480.82 Q271.567 1480.82 273.373 1477.28 Q275.201 1473.71 275.201 1466.61 Q275.201 1459.48 273.373 1455.94 Q271.567 1452.37 267.933 1452.37 M267.933 1448.67 Q273.743 1448.67 276.799 1453.27 Q279.877 1457.86 279.877 1466.61 Q279.877 1475.33 276.799 1479.94 Q273.743 1484.52 267.933 1484.52 Q262.123 1484.52 259.044 1479.94 Q255.989 1475.33 255.989 1466.61 Q255.989 1457.86 259.044 1453.27 Q262.123 1448.67 267.933 1448.67 Z\" fill=\"#000000\" fill-rule=\"evenodd\" fill-opacity=\"1\" /><path clip-path=\"url(#clip530)\" d=\"M 0 0 M284.947 1477.97 L289.831 1477.97 L289.831 1483.85 L284.947 1483.85 L284.947 1477.97 Z\" fill=\"#000000\" fill-rule=\"evenodd\" fill-opacity=\"1\" /><path clip-path=\"url(#clip530)\" d=\"M 0 0 M304.9 1452.37 Q301.289 1452.37 299.461 1455.94 Q297.655 1459.48 297.655 1466.61 Q297.655 1473.71 299.461 1477.28 Q301.289 1480.82 304.9 1480.82 Q308.535 1480.82 310.34 1477.28 Q312.169 1473.71 312.169 1466.61 Q312.169 1459.48 310.34 1455.94 Q308.535 1452.37 304.9 1452.37 M304.9 1448.67 Q310.71 1448.67 313.766 1453.27 Q316.845 1457.86 316.845 1466.61 Q316.845 1475.33 313.766 1479.94 Q310.71 1484.52 304.9 1484.52 Q299.09 1484.52 296.011 1479.94 Q292.956 1475.33 292.956 1466.61 Q292.956 1457.86 296.011 1453.27 Q299.09 1448.67 304.9 1448.67 Z\" fill=\"#000000\" fill-rule=\"evenodd\" fill-opacity=\"1\" /><path clip-path=\"url(#clip530)\" d=\"M 0 0 M937.149 1452.37 Q933.538 1452.37 931.709 1455.94 Q929.903 1459.48 929.903 1466.61 Q929.903 1473.71 931.709 1477.28 Q933.538 1480.82 937.149 1480.82 Q940.783 1480.82 942.589 1477.28 Q944.417 1473.71 944.417 1466.61 Q944.417 1459.48 942.589 1455.94 Q940.783 1452.37 937.149 1452.37 M937.149 1448.67 Q942.959 1448.67 946.015 1453.27 Q949.093 1457.86 949.093 1466.61 Q949.093 1475.33 946.015 1479.94 Q942.959 1484.52 937.149 1484.52 Q931.339 1484.52 928.26 1479.94 Q925.204 1475.33 925.204 1466.61 Q925.204 1457.86 928.26 1453.27 Q931.339 1448.67 937.149 1448.67 Z\" fill=\"#000000\" fill-rule=\"evenodd\" fill-opacity=\"1\" /><path clip-path=\"url(#clip530)\" d=\"M 0 0 M954.163 1477.97 L959.047 1477.97 L959.047 1483.85 L954.163 1483.85 L954.163 1477.97 Z\" fill=\"#000000\" fill-rule=\"evenodd\" fill-opacity=\"1\" /><path clip-path=\"url(#clip530)\" d=\"M 0 0 M964.163 1449.29 L982.519 1449.29 L982.519 1453.23 L968.445 1453.23 L968.445 1461.7 Q969.463 1461.35 970.482 1461.19 Q971.5 1461 972.519 1461 Q978.306 1461 981.686 1464.18 Q985.065 1467.35 985.065 1472.76 Q985.065 1478.34 981.593 1481.44 Q978.121 1484.52 971.801 1484.52 Q969.625 1484.52 967.357 1484.15 Q965.112 1483.78 962.704 1483.04 L962.704 1478.34 Q964.788 1479.48 967.01 1480.03 Q969.232 1480.59 971.709 1480.59 Q975.713 1480.59 978.051 1478.48 Q980.389 1476.38 980.389 1472.76 Q980.389 1469.15 978.051 1467.05 Q975.713 1464.94 971.709 1464.94 Q969.834 1464.94 967.959 1465.36 Q966.107 1465.77 964.163 1466.65 L964.163 1449.29 Z\" fill=\"#000000\" fill-rule=\"evenodd\" fill-opacity=\"1\" /><path clip-path=\"url(#clip530)\" d=\"M 0 0 M1595.75 1479.92 L1603.39 1479.92 L1603.39 1453.55 L1595.08 1455.22 L1595.08 1450.96 L1603.34 1449.29 L1608.02 1449.29 L1608.02 1479.92 L1615.66 1479.92 L1615.66 1483.85 L1595.75 1483.85 L1595.75 1479.92 Z\" fill=\"#000000\" fill-rule=\"evenodd\" fill-opacity=\"1\" /><path clip-path=\"url(#clip530)\" d=\"M 0 0 M1620.73 1477.97 L1625.61 1477.97 L1625.61 1483.85 L1620.73 1483.85 L1620.73 1477.97 Z\" fill=\"#000000\" fill-rule=\"evenodd\" fill-opacity=\"1\" /><path clip-path=\"url(#clip530)\" d=\"M 0 0 M1640.68 1452.37 Q1637.07 1452.37 1635.24 1455.94 Q1633.44 1459.48 1633.44 1466.61 Q1633.44 1473.71 1635.24 1477.28 Q1637.07 1480.82 1640.68 1480.82 Q1644.32 1480.82 1646.12 1477.28 Q1647.95 1473.71 1647.95 1466.61 Q1647.95 1459.48 1646.12 1455.94 Q1644.32 1452.37 1640.68 1452.37 M1640.68 1448.67 Q1646.49 1448.67 1649.55 1453.27 Q1652.63 1457.86 1652.63 1466.61 Q1652.63 1475.33 1649.55 1479.94 Q1646.49 1484.52 1640.68 1484.52 Q1634.87 1484.52 1631.79 1479.94 Q1628.74 1475.33 1628.74 1466.61 Q1628.74 1457.86 1631.79 1453.27 Q1634.87 1448.67 1640.68 1448.67 Z\" fill=\"#000000\" fill-rule=\"evenodd\" fill-opacity=\"1\" /><path clip-path=\"url(#clip530)\" d=\"M 0 0 M2264.97 1479.92 L2272.61 1479.92 L2272.61 1453.55 L2264.3 1455.22 L2264.3 1450.96 L2272.56 1449.29 L2277.24 1449.29 L2277.24 1479.92 L2284.87 1479.92 L2284.87 1483.85 L2264.97 1483.85 L2264.97 1479.92 Z\" fill=\"#000000\" fill-rule=\"evenodd\" fill-opacity=\"1\" /><path clip-path=\"url(#clip530)\" d=\"M 0 0 M2289.94 1477.97 L2294.83 1477.97 L2294.83 1483.85 L2289.94 1483.85 L2289.94 1477.97 Z\" fill=\"#000000\" fill-rule=\"evenodd\" fill-opacity=\"1\" /><path clip-path=\"url(#clip530)\" d=\"M 0 0 M2299.94 1449.29 L2318.3 1449.29 L2318.3 1453.23 L2304.23 1453.23 L2304.23 1461.7 Q2305.24 1461.35 2306.26 1461.19 Q2307.28 1461 2308.3 1461 Q2314.09 1461 2317.47 1464.18 Q2320.85 1467.35 2320.85 1472.76 Q2320.85 1478.34 2317.37 1481.44 Q2313.9 1484.52 2307.58 1484.52 Q2305.41 1484.52 2303.14 1484.15 Q2300.89 1483.78 2298.49 1483.04 L2298.49 1478.34 Q2300.57 1479.48 2302.79 1480.03 Q2305.01 1480.59 2307.49 1480.59 Q2311.49 1480.59 2313.83 1478.48 Q2316.17 1476.38 2316.17 1472.76 Q2316.17 1469.15 2313.83 1467.05 Q2311.49 1464.94 2307.49 1464.94 Q2305.62 1464.94 2303.74 1465.36 Q2301.89 1465.77 2299.94 1466.65 L2299.94 1449.29 Z\" fill=\"#000000\" fill-rule=\"evenodd\" fill-opacity=\"1\" /><path clip-path=\"url(#clip530)\" d=\"M 0 0 M1240.84 1522.27 L1240.84 1532.4 L1252.91 1532.4 L1252.91 1536.95 L1240.84 1536.95 L1240.84 1556.3 Q1240.84 1560.66 1242.02 1561.9 Q1243.23 1563.14 1246.89 1563.14 L1252.91 1563.14 L1252.91 1568.04 L1246.89 1568.04 Q1240.11 1568.04 1237.53 1565.53 Q1234.96 1562.98 1234.96 1556.3 L1234.96 1536.95 L1230.66 1536.95 L1230.66 1532.4 L1234.96 1532.4 L1234.96 1522.27 L1240.84 1522.27 Z\" fill=\"#000000\" fill-rule=\"evenodd\" fill-opacity=\"1\" /><path clip-path=\"url(#clip530)\" d=\"M 0 0 M1279.23 1518.52 L1292.72 1518.52 L1292.72 1523.07 L1285.09 1523.07 L1285.09 1572.09 L1292.72 1572.09 L1292.72 1576.64 L1279.23 1576.64 L1279.23 1518.52 Z\" fill=\"#000000\" fill-rule=\"evenodd\" fill-opacity=\"1\" /><path clip-path=\"url(#clip530)\" d=\"M 0 0 M1328.5 1546.53 L1328.5 1568.04 L1322.64 1568.04 L1322.64 1546.72 Q1322.64 1541.66 1320.67 1539.14 Q1318.7 1536.63 1314.75 1536.63 Q1310.01 1536.63 1307.27 1539.65 Q1304.53 1542.68 1304.53 1547.9 L1304.53 1568.04 L1298.64 1568.04 L1298.64 1518.52 L1304.53 1518.52 L1304.53 1537.93 Q1306.63 1534.72 1309.47 1533.13 Q1312.33 1531.54 1316.05 1531.54 Q1322.2 1531.54 1325.35 1535.36 Q1328.5 1539.14 1328.5 1546.53 Z\" fill=\"#000000\" fill-rule=\"evenodd\" fill-opacity=\"1\" /><path clip-path=\"url(#clip530)\" d=\"M 0 0 M1348.33 1518.52 L1348.33 1576.64 L1334.83 1576.64 L1334.83 1572.09 L1342.44 1572.09 L1342.44 1523.07 L1334.83 1523.07 L1334.83 1518.52 L1348.33 1518.52 Z\" fill=\"#000000\" fill-rule=\"evenodd\" fill-opacity=\"1\" /><polyline clip-path=\"url(#clip532)\" style=\"stroke:#000000; stroke-width:2; stroke-opacity:0.1; fill:none\" points=\"\n",
       "  226.232,1418.52 2352.76,1418.52 \n",
       "  \"/>\n",
       "<polyline clip-path=\"url(#clip532)\" style=\"stroke:#000000; stroke-width:2; stroke-opacity:0.1; fill:none\" points=\"\n",
       "  226.232,1141.64 2352.76,1141.64 \n",
       "  \"/>\n",
       "<polyline clip-path=\"url(#clip532)\" style=\"stroke:#000000; stroke-width:2; stroke-opacity:0.1; fill:none\" points=\"\n",
       "  226.232,864.767 2352.76,864.767 \n",
       "  \"/>\n",
       "<polyline clip-path=\"url(#clip532)\" style=\"stroke:#000000; stroke-width:2; stroke-opacity:0.1; fill:none\" points=\"\n",
       "  226.232,587.889 2352.76,587.889 \n",
       "  \"/>\n",
       "<polyline clip-path=\"url(#clip532)\" style=\"stroke:#000000; stroke-width:2; stroke-opacity:0.1; fill:none\" points=\"\n",
       "  226.232,311.011 2352.76,311.011 \n",
       "  \"/>\n",
       "<polyline clip-path=\"url(#clip530)\" style=\"stroke:#000000; stroke-width:4; stroke-opacity:1; fill:none\" points=\"\n",
       "  226.232,1423.18 226.232,47.2441 \n",
       "  \"/>\n",
       "<polyline clip-path=\"url(#clip530)\" style=\"stroke:#000000; stroke-width:4; stroke-opacity:1; fill:none\" points=\"\n",
       "  226.232,1418.52 251.75,1418.52 \n",
       "  \"/>\n",
       "<polyline clip-path=\"url(#clip530)\" style=\"stroke:#000000; stroke-width:4; stroke-opacity:1; fill:none\" points=\"\n",
       "  226.232,1141.64 251.75,1141.64 \n",
       "  \"/>\n",
       "<polyline clip-path=\"url(#clip530)\" style=\"stroke:#000000; stroke-width:4; stroke-opacity:1; fill:none\" points=\"\n",
       "  226.232,864.767 251.75,864.767 \n",
       "  \"/>\n",
       "<polyline clip-path=\"url(#clip530)\" style=\"stroke:#000000; stroke-width:4; stroke-opacity:1; fill:none\" points=\"\n",
       "  226.232,587.889 251.75,587.889 \n",
       "  \"/>\n",
       "<polyline clip-path=\"url(#clip530)\" style=\"stroke:#000000; stroke-width:4; stroke-opacity:1; fill:none\" points=\"\n",
       "  226.232,311.011 251.75,311.011 \n",
       "  \"/>\n",
       "<path clip-path=\"url(#clip530)\" d=\"M 0 0 M178.288 1404.32 Q174.677 1404.32 172.848 1407.89 Q171.042 1411.43 171.042 1418.56 Q171.042 1425.66 172.848 1429.23 Q174.677 1432.77 178.288 1432.77 Q181.922 1432.77 183.727 1429.23 Q185.556 1425.66 185.556 1418.56 Q185.556 1411.43 183.727 1407.89 Q181.922 1404.32 178.288 1404.32 M178.288 1400.62 Q184.098 1400.62 187.153 1405.22 Q190.232 1409.81 190.232 1418.56 Q190.232 1427.28 187.153 1431.89 Q184.098 1436.47 178.288 1436.47 Q172.477 1436.47 169.399 1431.89 Q166.343 1427.28 166.343 1418.56 Q166.343 1409.81 169.399 1405.22 Q172.477 1400.62 178.288 1400.62 Z\" fill=\"#000000\" fill-rule=\"evenodd\" fill-opacity=\"1\" /><path clip-path=\"url(#clip530)\" d=\"M 0 0 M142.316 1124.36 L160.672 1124.36 L160.672 1128.3 L146.598 1128.3 L146.598 1136.77 Q147.616 1136.42 148.635 1136.26 Q149.653 1136.08 150.672 1136.08 Q156.459 1136.08 159.839 1139.25 Q163.218 1142.42 163.218 1147.84 Q163.218 1153.42 159.746 1156.52 Q156.274 1159.6 149.954 1159.6 Q147.778 1159.6 145.51 1159.23 Q143.265 1158.86 140.857 1158.11 L140.857 1153.42 Q142.941 1154.55 145.163 1155.11 Q147.385 1155.66 149.862 1155.66 Q153.866 1155.66 156.204 1153.55 Q158.542 1151.45 158.542 1147.84 Q158.542 1144.23 156.204 1142.12 Q153.866 1140.01 149.862 1140.01 Q147.987 1140.01 146.112 1140.43 Q144.26 1140.85 142.316 1141.73 L142.316 1124.36 Z\" fill=\"#000000\" fill-rule=\"evenodd\" fill-opacity=\"1\" /><path clip-path=\"url(#clip530)\" d=\"M 0 0 M178.288 1127.44 Q174.677 1127.44 172.848 1131.01 Q171.042 1134.55 171.042 1141.68 Q171.042 1148.79 172.848 1152.35 Q174.677 1155.89 178.288 1155.89 Q181.922 1155.89 183.727 1152.35 Q185.556 1148.79 185.556 1141.68 Q185.556 1134.55 183.727 1131.01 Q181.922 1127.44 178.288 1127.44 M178.288 1123.74 Q184.098 1123.74 187.153 1128.35 Q190.232 1132.93 190.232 1141.68 Q190.232 1150.41 187.153 1155.01 Q184.098 1159.6 178.288 1159.6 Q172.477 1159.6 169.399 1155.01 Q166.343 1150.41 166.343 1141.68 Q166.343 1132.93 169.399 1128.35 Q172.477 1123.74 178.288 1123.74 Z\" fill=\"#000000\" fill-rule=\"evenodd\" fill-opacity=\"1\" /><path clip-path=\"url(#clip530)\" d=\"M 0 0 M116.297 878.111 L123.936 878.111 L123.936 851.746 L115.626 853.413 L115.626 849.153 L123.89 847.487 L128.566 847.487 L128.566 878.111 L136.204 878.111 L136.204 882.047 L116.297 882.047 L116.297 878.111 Z\" fill=\"#000000\" fill-rule=\"evenodd\" fill-opacity=\"1\" /><path clip-path=\"url(#clip530)\" d=\"M 0 0 M151.274 850.565 Q147.663 850.565 145.834 854.13 Q144.029 857.672 144.029 864.801 Q144.029 871.908 145.834 875.473 Q147.663 879.014 151.274 879.014 Q154.908 879.014 156.714 875.473 Q158.542 871.908 158.542 864.801 Q158.542 857.672 156.714 854.13 Q154.908 850.565 151.274 850.565 M151.274 846.862 Q157.084 846.862 160.14 851.468 Q163.218 856.051 163.218 864.801 Q163.218 873.528 160.14 878.135 Q157.084 882.718 151.274 882.718 Q145.464 882.718 142.385 878.135 Q139.329 873.528 139.329 864.801 Q139.329 856.051 142.385 851.468 Q145.464 846.862 151.274 846.862 Z\" fill=\"#000000\" fill-rule=\"evenodd\" fill-opacity=\"1\" /><path clip-path=\"url(#clip530)\" d=\"M 0 0 M178.288 850.565 Q174.677 850.565 172.848 854.13 Q171.042 857.672 171.042 864.801 Q171.042 871.908 172.848 875.473 Q174.677 879.014 178.288 879.014 Q181.922 879.014 183.727 875.473 Q185.556 871.908 185.556 864.801 Q185.556 857.672 183.727 854.13 Q181.922 850.565 178.288 850.565 M178.288 846.862 Q184.098 846.862 187.153 851.468 Q190.232 856.051 190.232 864.801 Q190.232 873.528 187.153 878.135 Q184.098 882.718 178.288 882.718 Q172.477 882.718 169.399 878.135 Q166.343 873.528 166.343 864.801 Q166.343 856.051 169.399 851.468 Q172.477 846.862 178.288 846.862 Z\" fill=\"#000000\" fill-rule=\"evenodd\" fill-opacity=\"1\" /><path clip-path=\"url(#clip530)\" d=\"M 0 0 M117.293 601.233 L124.931 601.233 L124.931 574.868 L116.621 576.535 L116.621 572.275 L124.885 570.609 L129.561 570.609 L129.561 601.233 L137.2 601.233 L137.2 605.169 L117.293 605.169 L117.293 601.233 Z\" fill=\"#000000\" fill-rule=\"evenodd\" fill-opacity=\"1\" /><path clip-path=\"url(#clip530)\" d=\"M 0 0 M142.316 570.609 L160.672 570.609 L160.672 574.544 L146.598 574.544 L146.598 583.016 Q147.616 582.669 148.635 582.507 Q149.653 582.322 150.672 582.322 Q156.459 582.322 159.839 585.493 Q163.218 588.664 163.218 594.081 Q163.218 599.659 159.746 602.761 Q156.274 605.84 149.954 605.84 Q147.778 605.84 145.51 605.47 Q143.265 605.099 140.857 604.358 L140.857 599.659 Q142.941 600.794 145.163 601.349 Q147.385 601.905 149.862 601.905 Q153.866 601.905 156.204 599.798 Q158.542 597.692 158.542 594.081 Q158.542 590.47 156.204 588.363 Q153.866 586.257 149.862 586.257 Q147.987 586.257 146.112 586.673 Q144.26 587.09 142.316 587.97 L142.316 570.609 Z\" fill=\"#000000\" fill-rule=\"evenodd\" fill-opacity=\"1\" /><path clip-path=\"url(#clip530)\" d=\"M 0 0 M178.288 573.687 Q174.677 573.687 172.848 577.252 Q171.042 580.794 171.042 587.923 Q171.042 595.03 172.848 598.595 Q174.677 602.136 178.288 602.136 Q181.922 602.136 183.727 598.595 Q185.556 595.03 185.556 587.923 Q185.556 580.794 183.727 577.252 Q181.922 573.687 178.288 573.687 M178.288 569.984 Q184.098 569.984 187.153 574.59 Q190.232 579.173 190.232 587.923 Q190.232 596.65 187.153 601.257 Q184.098 605.84 178.288 605.84 Q172.477 605.84 169.399 601.257 Q166.343 596.65 166.343 587.923 Q166.343 579.173 169.399 574.59 Q172.477 569.984 178.288 569.984 Z\" fill=\"#000000\" fill-rule=\"evenodd\" fill-opacity=\"1\" /><path clip-path=\"url(#clip530)\" d=\"M 0 0 M119.885 324.355 L136.204 324.355 L136.204 328.291 L114.26 328.291 L114.26 324.355 Q116.922 321.601 121.505 316.971 Q126.112 312.318 127.292 310.976 Q129.538 308.453 130.417 306.717 Q131.32 304.957 131.32 303.268 Q131.32 300.513 129.376 298.777 Q127.455 297.041 124.353 297.041 Q122.154 297.041 119.7 297.805 Q117.269 298.569 114.492 300.119 L114.492 295.397 Q117.316 294.263 119.769 293.684 Q122.223 293.106 124.26 293.106 Q129.63 293.106 132.825 295.791 Q136.019 298.476 136.019 302.967 Q136.019 305.096 135.209 307.018 Q134.422 308.916 132.316 311.508 Q131.737 312.18 128.635 315.397 Q125.533 318.592 119.885 324.355 Z\" fill=\"#000000\" fill-rule=\"evenodd\" fill-opacity=\"1\" /><path clip-path=\"url(#clip530)\" d=\"M 0 0 M151.274 296.809 Q147.663 296.809 145.834 300.374 Q144.029 303.916 144.029 311.045 Q144.029 318.152 145.834 321.717 Q147.663 325.258 151.274 325.258 Q154.908 325.258 156.714 321.717 Q158.542 318.152 158.542 311.045 Q158.542 303.916 156.714 300.374 Q154.908 296.809 151.274 296.809 M151.274 293.106 Q157.084 293.106 160.14 297.712 Q163.218 302.295 163.218 311.045 Q163.218 319.772 160.14 324.379 Q157.084 328.962 151.274 328.962 Q145.464 328.962 142.385 324.379 Q139.329 319.772 139.329 311.045 Q139.329 302.295 142.385 297.712 Q145.464 293.106 151.274 293.106 Z\" fill=\"#000000\" fill-rule=\"evenodd\" fill-opacity=\"1\" /><path clip-path=\"url(#clip530)\" d=\"M 0 0 M178.288 296.809 Q174.677 296.809 172.848 300.374 Q171.042 303.916 171.042 311.045 Q171.042 318.152 172.848 321.717 Q174.677 325.258 178.288 325.258 Q181.922 325.258 183.727 321.717 Q185.556 318.152 185.556 311.045 Q185.556 303.916 183.727 300.374 Q181.922 296.809 178.288 296.809 M178.288 293.106 Q184.098 293.106 187.153 297.712 Q190.232 302.295 190.232 311.045 Q190.232 319.772 187.153 324.379 Q184.098 328.962 178.288 328.962 Q172.477 328.962 169.399 324.379 Q166.343 319.772 166.343 311.045 Q166.343 302.295 169.399 297.712 Q172.477 293.106 178.288 293.106 Z\" fill=\"#000000\" fill-rule=\"evenodd\" fill-opacity=\"1\" /><path clip-path=\"url(#clip530)\" d=\"M 0 0 M20.1444 809.563 L26.9239 809.563 Q23.9002 812.81 22.4043 816.502 Q20.9083 820.162 20.9083 824.3 Q20.9083 832.448 25.9054 836.777 Q30.8707 841.105 40.2919 841.105 Q49.6813 841.105 54.6784 836.777 Q59.6436 832.448 59.6436 824.3 Q59.6436 820.162 58.1477 816.502 Q56.6518 812.81 53.6281 809.563 L60.3439 809.563 Q62.6355 812.937 63.7814 816.725 Q64.9272 820.481 64.9272 824.682 Q64.9272 835.472 58.3387 841.678 Q51.7183 847.885 40.2919 847.885 Q28.8336 847.885 22.2451 841.678 Q15.6248 835.472 15.6248 824.682 Q15.6248 820.417 16.7706 816.661 Q17.8846 812.874 20.1444 809.563 Z\" fill=\"#000000\" fill-rule=\"evenodd\" fill-opacity=\"1\" /><path clip-path=\"url(#clip530)\" d=\"M 0 0 M14.479 783.241 L14.479 769.746 L19.0304 769.746 L19.0304 777.385 L68.0464 777.385 L68.0464 769.746 L72.5979 769.746 L72.5979 783.241 L14.479 783.241 Z\" fill=\"#000000\" fill-rule=\"evenodd\" fill-opacity=\"1\" /><path clip-path=\"url(#clip530)\" d=\"M 0 0 M35.1993 735.849 Q31.2526 733.652 29.3747 730.597 Q27.4968 727.541 27.4968 723.404 Q27.4968 717.834 31.4117 714.81 Q35.2948 711.786 42.4881 711.786 L64.0042 711.786 L64.0042 717.674 L42.679 717.674 Q37.5546 717.674 35.072 719.489 Q32.5894 721.303 32.5894 725.027 Q32.5894 729.578 35.6131 732.22 Q38.6368 734.862 43.8567 734.862 L64.0042 734.862 L64.0042 740.75 L42.679 740.75 Q37.5228 740.75 35.072 742.564 Q32.5894 744.379 32.5894 748.166 Q32.5894 752.654 35.6449 755.296 Q38.6686 757.938 43.8567 757.938 L64.0042 757.938 L64.0042 763.826 L28.3562 763.826 L28.3562 757.938 L33.8944 757.938 Q30.616 755.932 29.0564 753.131 Q27.4968 750.331 27.4968 746.479 Q27.4968 742.596 29.4702 739.891 Q31.4436 737.154 35.1993 735.849 Z\" fill=\"#000000\" fill-rule=\"evenodd\" fill-opacity=\"1\" /><path clip-path=\"url(#clip530)\" d=\"M 0 0 M45.7664 682.186 Q39.4007 682.186 35.8996 684.827 Q32.3984 687.437 32.3984 692.18 Q32.3984 696.89 35.8996 699.532 Q39.4007 702.142 45.7664 702.142 Q52.1003 702.142 55.6014 699.532 Q59.1026 696.89 59.1026 692.18 Q59.1026 687.437 55.6014 684.827 Q52.1003 682.186 45.7664 682.186 M59.58 676.329 Q68.683 676.329 73.1071 680.371 Q77.5631 684.414 77.5631 692.753 Q77.5631 695.84 77.0857 698.577 Q76.6401 701.315 75.6852 703.893 L69.9879 703.893 Q71.3884 701.315 72.0568 698.8 Q72.7252 696.286 72.7252 693.676 Q72.7252 687.915 69.7015 685.05 Q66.7096 682.186 60.6303 682.186 L57.7339 682.186 Q60.885 684 62.4446 686.833 Q64.0042 689.665 64.0042 693.612 Q64.0042 700.169 59.0071 704.179 Q54.01 708.19 45.7664 708.19 Q37.491 708.19 32.4939 704.179 Q27.4968 700.169 27.4968 693.612 Q27.4968 689.665 29.0564 686.833 Q30.616 684 33.7671 682.186 L28.3562 682.186 L28.3562 676.329 L59.58 676.329 Z\" fill=\"#000000\" fill-rule=\"evenodd\" fill-opacity=\"1\" /><path clip-path=\"url(#clip530)\" d=\"M 0 0 M16.4842 659.778 L16.4842 654.367 L70.0516 670.918 L70.0516 676.329 L16.4842 659.778 Z\" fill=\"#000000\" fill-rule=\"evenodd\" fill-opacity=\"1\" /><path clip-path=\"url(#clip530)\" d=\"M 0 0 M14.479 648.225 L14.479 642.368 L64.0042 642.368 L64.0042 648.225 L14.479 648.225 Z\" fill=\"#000000\" fill-rule=\"evenodd\" fill-opacity=\"1\" /><path clip-path=\"url(#clip530)\" d=\"M 0 0 M14.479 622.539 L72.5979 622.539 L72.5979 636.034 L68.0464 636.034 L68.0464 628.427 L19.0304 628.427 L19.0304 636.034 L14.479 636.034 L14.479 622.539 Z\" fill=\"#000000\" fill-rule=\"evenodd\" fill-opacity=\"1\" /><circle clip-path=\"url(#clip532)\" cx=\"286.417\" cy=\"86.1857\" r=\"14\" fill=\"#da70d6\" fill-rule=\"evenodd\" fill-opacity=\"1\" stroke=\"#000000\" stroke-opacity=\"1\" stroke-width=\"3.2\"/>\n",
       "<circle clip-path=\"url(#clip532)\" cx=\"397.424\" cy=\"211.888\" r=\"14\" fill=\"#da70d6\" fill-rule=\"evenodd\" fill-opacity=\"1\" stroke=\"#000000\" stroke-opacity=\"1\" stroke-width=\"3.2\"/>\n",
       "<circle clip-path=\"url(#clip532)\" cx=\"509.768\" cy=\"481.014\" r=\"14\" fill=\"#da70d6\" fill-rule=\"evenodd\" fill-opacity=\"1\" stroke=\"#000000\" stroke-opacity=\"1\" stroke-width=\"3.2\"/>\n",
       "<circle clip-path=\"url(#clip532)\" cx=\"620.776\" cy=\"760.107\" r=\"14\" fill=\"#da70d6\" fill-rule=\"evenodd\" fill-opacity=\"1\" stroke=\"#000000\" stroke-opacity=\"1\" stroke-width=\"3.2\"/>\n",
       "<circle clip-path=\"url(#clip532)\" cx=\"777.256\" cy=\"848.708\" r=\"14\" fill=\"#da70d6\" fill-rule=\"evenodd\" fill-opacity=\"1\" stroke=\"#000000\" stroke-opacity=\"1\" stroke-width=\"3.2\"/>\n",
       "<circle clip-path=\"url(#clip532)\" cx=\"999.27\" cy=\"1004.87\" r=\"14\" fill=\"#da70d6\" fill-rule=\"evenodd\" fill-opacity=\"1\" stroke=\"#000000\" stroke-opacity=\"1\" stroke-width=\"3.2\"/>\n",
       "<circle clip-path=\"url(#clip532)\" cx=\"1178.49\" cy=\"1113.4\" r=\"14\" fill=\"#da70d6\" fill-rule=\"evenodd\" fill-opacity=\"1\" stroke=\"#000000\" stroke-opacity=\"1\" stroke-width=\"3.2\"/>\n",
       "<circle clip-path=\"url(#clip532)\" cx=\"1400.5\" cy=\"1218.06\" r=\"14\" fill=\"#da70d6\" fill-rule=\"evenodd\" fill-opacity=\"1\" stroke=\"#000000\" stroke-opacity=\"1\" stroke-width=\"3.2\"/>\n",
       "<circle clip-path=\"url(#clip532)\" cx=\"1623.85\" cy=\"1292.27\" r=\"14\" fill=\"#da70d6\" fill-rule=\"evenodd\" fill-opacity=\"1\" stroke=\"#000000\" stroke-opacity=\"1\" stroke-width=\"3.2\"/>\n",
       "<circle clip-path=\"url(#clip532)\" cx=\"2065.21\" cy=\"1329.37\" r=\"14\" fill=\"#da70d6\" fill-rule=\"evenodd\" fill-opacity=\"1\" stroke=\"#000000\" stroke-opacity=\"1\" stroke-width=\"3.2\"/>\n",
       "<circle clip-path=\"url(#clip532)\" cx=\"2185.58\" cy=\"1368.13\" r=\"14\" fill=\"#da70d6\" fill-rule=\"evenodd\" fill-opacity=\"1\" stroke=\"#000000\" stroke-opacity=\"1\" stroke-width=\"3.2\"/>\n",
       "<circle clip-path=\"url(#clip532)\" cx=\"2292.57\" cy=\"1378.1\" r=\"14\" fill=\"#da70d6\" fill-rule=\"evenodd\" fill-opacity=\"1\" stroke=\"#000000\" stroke-opacity=\"1\" stroke-width=\"3.2\"/>\n",
       "<polyline clip-path=\"url(#clip532)\" style=\"stroke:#e26f46; stroke-width:4; stroke-opacity:1; fill:none\" points=\"\n",
       "  286.417,86.1857 420.16,374.653 553.904,600.664 687.648,777.74 821.391,916.478 955.135,1025.18 1088.88,1110.34 1222.62,1177.07 1356.37,1229.34 1490.11,1270.3 \n",
       "  1623.85,1302.4 1757.6,1327.54 1891.34,1347.24 2025.08,1362.67 2158.83,1374.76 2292.57,1384.24 \n",
       "  \"/>\n",
       "<path clip-path=\"url(#clip530)\" d=\"\n",
       "M1617.7 274.549 L2281.87 274.549 L2281.87 93.1086 L1617.7 93.1086  Z\n",
       "  \" fill=\"#ffffff\" fill-rule=\"evenodd\" fill-opacity=\"1\"/>\n",
       "<polyline clip-path=\"url(#clip530)\" style=\"stroke:#000000; stroke-width:4; stroke-opacity:1; fill:none\" points=\"\n",
       "  1617.7,274.549 2281.87,274.549 2281.87,93.1086 1617.7,93.1086 1617.7,274.549 \n",
       "  \"/>\n",
       "<circle clip-path=\"url(#clip530)\" cx=\"1712.21\" cy=\"153.589\" r=\"23\" fill=\"#da70d6\" fill-rule=\"evenodd\" fill-opacity=\"1\" stroke=\"#000000\" stroke-opacity=\"1\" stroke-width=\"5.12\"/>\n",
       "<path clip-path=\"url(#clip530)\" d=\"M 0 0 M1806.72 144.943 L1810.98 144.943 L1816.31 165.174 L1821.61 144.943 L1826.63 144.943 L1831.96 165.174 L1837.26 144.943 L1841.52 144.943 L1834.73 170.869 L1829.71 170.869 L1824.13 149.619 L1818.53 170.869 L1813.51 170.869 L1806.72 144.943 Z\" fill=\"#000000\" fill-rule=\"evenodd\" fill-opacity=\"1\" /><path clip-path=\"url(#clip530)\" d=\"M 0 0 M1857.77 157.836 Q1852.6 157.836 1850.61 159.017 Q1848.62 160.197 1848.62 163.045 Q1848.62 165.313 1850.1 166.656 Q1851.61 167.975 1854.18 167.975 Q1857.72 167.975 1859.85 165.475 Q1862 162.952 1862 158.785 L1862 157.836 L1857.77 157.836 M1866.26 156.077 L1866.26 170.869 L1862 170.869 L1862 166.933 Q1860.54 169.295 1858.37 170.429 Q1856.19 171.54 1853.04 171.54 Q1849.06 171.54 1846.7 169.318 Q1844.36 167.072 1844.36 163.322 Q1844.36 158.947 1847.28 156.725 Q1850.22 154.503 1856.03 154.503 L1862 154.503 L1862 154.086 Q1862 151.147 1860.06 149.549 Q1858.14 147.929 1854.64 147.929 Q1852.42 147.929 1850.31 148.461 Q1848.21 148.994 1846.26 150.059 L1846.26 146.123 Q1848.6 145.221 1850.8 144.781 Q1853 144.318 1855.08 144.318 Q1860.71 144.318 1863.48 147.234 Q1866.26 150.151 1866.26 156.077 Z\" fill=\"#000000\" fill-rule=\"evenodd\" fill-opacity=\"1\" /><path clip-path=\"url(#clip530)\" d=\"M 0 0 M1885.75 148.924 Q1885.03 148.508 1884.18 148.322 Q1883.34 148.114 1882.33 148.114 Q1878.71 148.114 1876.77 150.475 Q1874.85 152.813 1874.85 157.211 L1874.85 170.869 L1870.57 170.869 L1870.57 144.943 L1874.85 144.943 L1874.85 148.971 Q1876.19 146.609 1878.34 145.475 Q1880.5 144.318 1883.58 144.318 Q1884.02 144.318 1884.55 144.387 Q1885.08 144.434 1885.73 144.549 L1885.75 148.924 Z\" fill=\"#000000\" fill-rule=\"evenodd\" fill-opacity=\"1\" /><path clip-path=\"url(#clip530)\" d=\"M 0 0 M1894.43 137.582 L1894.43 144.943 L1903.21 144.943 L1903.21 148.253 L1894.43 148.253 L1894.43 162.327 Q1894.43 165.498 1895.29 166.401 Q1896.17 167.304 1898.83 167.304 L1903.21 167.304 L1903.21 170.869 L1898.83 170.869 Q1893.9 170.869 1892.02 169.04 Q1890.15 167.188 1890.15 162.327 L1890.15 148.253 L1887.02 148.253 L1887.02 144.943 L1890.15 144.943 L1890.15 137.582 L1894.43 137.582 Z\" fill=\"#000000\" fill-rule=\"evenodd\" fill-opacity=\"1\" /><path clip-path=\"url(#clip530)\" d=\"M 0 0 M1917.72 147.929 Q1914.29 147.929 1912.3 150.614 Q1910.31 153.276 1910.31 157.929 Q1910.31 162.582 1912.28 165.267 Q1914.27 167.929 1917.72 167.929 Q1921.12 167.929 1923.11 165.244 Q1925.1 162.558 1925.1 157.929 Q1925.1 153.322 1923.11 150.637 Q1921.12 147.929 1917.72 147.929 M1917.72 144.318 Q1923.27 144.318 1926.45 147.929 Q1929.62 151.54 1929.62 157.929 Q1929.62 164.295 1926.45 167.929 Q1923.27 171.54 1917.72 171.54 Q1912.14 171.54 1908.97 167.929 Q1905.82 164.295 1905.82 157.929 Q1905.82 151.54 1908.97 147.929 Q1912.14 144.318 1917.72 144.318 Z\" fill=\"#000000\" fill-rule=\"evenodd\" fill-opacity=\"1\" /><path clip-path=\"url(#clip530)\" d=\"M 0 0 M1946.21 132.79 L1950.82 132.79 L1943.27 141.494 L1939.73 141.494 L1946.21 132.79 M1950.61 145.707 L1950.61 149.734 Q1948.81 148.809 1946.86 148.346 Q1944.92 147.883 1942.83 147.883 Q1939.66 147.883 1938.07 148.855 Q1936.49 149.827 1936.49 151.771 Q1936.49 153.253 1937.63 154.109 Q1938.76 154.943 1942.19 155.707 L1943.65 156.031 Q1948.18 157.003 1950.08 158.785 Q1952 160.545 1952 163.716 Q1952 167.327 1949.13 169.433 Q1946.28 171.54 1941.28 171.54 Q1939.2 171.54 1936.93 171.123 Q1934.69 170.73 1932.19 169.92 L1932.19 165.521 Q1934.55 166.748 1936.84 167.373 Q1939.13 167.975 1941.38 167.975 Q1944.39 167.975 1946.01 166.957 Q1947.63 165.915 1947.63 164.04 Q1947.63 162.304 1946.45 161.378 Q1945.29 160.452 1941.33 159.596 L1939.85 159.248 Q1935.89 158.415 1934.13 156.702 Q1932.37 154.966 1932.37 151.957 Q1932.37 148.299 1934.96 146.309 Q1937.56 144.318 1942.33 144.318 Q1944.69 144.318 1946.77 144.665 Q1948.85 145.012 1950.61 145.707 Z\" fill=\"#000000\" fill-rule=\"evenodd\" fill-opacity=\"1\" /><path clip-path=\"url(#clip530)\" d=\"M 0 0 M1975.13 145.938 L1975.13 149.92 Q1973.32 148.924 1971.49 148.438 Q1969.69 147.929 1967.83 147.929 Q1963.69 147.929 1961.4 150.568 Q1959.11 153.184 1959.11 157.929 Q1959.11 162.674 1961.4 165.313 Q1963.69 167.929 1967.83 167.929 Q1969.69 167.929 1971.49 167.443 Q1973.32 166.933 1975.13 165.938 L1975.13 169.873 Q1973.34 170.707 1971.42 171.123 Q1969.52 171.54 1967.37 171.54 Q1961.52 171.54 1958.07 167.859 Q1954.62 164.179 1954.62 157.929 Q1954.62 151.586 1958.09 147.952 Q1961.58 144.318 1967.65 144.318 Q1969.62 144.318 1971.49 144.735 Q1973.37 145.128 1975.13 145.938 Z\" fill=\"#000000\" fill-rule=\"evenodd\" fill-opacity=\"1\" /><path clip-path=\"url(#clip530)\" d=\"M 0 0 M1979.59 144.943 L1983.85 144.943 L1983.85 170.869 L1979.59 170.869 L1979.59 144.943 M1979.59 134.85 L1983.85 134.85 L1983.85 140.244 L1979.59 140.244 L1979.59 134.85 Z\" fill=\"#000000\" fill-rule=\"evenodd\" fill-opacity=\"1\" /><path clip-path=\"url(#clip530)\" d=\"M 0 0 M2023.58 149.92 Q2025.17 147.049 2027.39 145.684 Q2029.62 144.318 2032.63 144.318 Q2036.68 144.318 2038.88 147.165 Q2041.08 149.989 2041.08 155.221 L2041.08 170.869 L2036.79 170.869 L2036.79 155.359 Q2036.79 151.633 2035.47 149.827 Q2034.15 148.022 2031.45 148.022 Q2028.14 148.022 2026.21 150.221 Q2024.29 152.42 2024.29 156.216 L2024.29 170.869 L2020.01 170.869 L2020.01 155.359 Q2020.01 151.609 2018.69 149.827 Q2017.37 148.022 2014.62 148.022 Q2011.35 148.022 2009.43 150.244 Q2007.51 152.443 2007.51 156.216 L2007.51 170.869 L2003.23 170.869 L2003.23 144.943 L2007.51 144.943 L2007.51 148.971 Q2008.97 146.586 2011.01 145.452 Q2013.04 144.318 2015.84 144.318 Q2018.67 144.318 2020.64 145.753 Q2022.63 147.188 2023.58 149.92 Z\" fill=\"#000000\" fill-rule=\"evenodd\" fill-opacity=\"1\" /><path clip-path=\"url(#clip530)\" d=\"M 0 0 M2045.54 144.943 L2049.8 144.943 L2049.8 170.869 L2045.54 170.869 L2045.54 144.943 M2045.54 134.85 L2049.8 134.85 L2049.8 140.244 L2045.54 140.244 L2045.54 134.85 Z\" fill=\"#000000\" fill-rule=\"evenodd\" fill-opacity=\"1\" /><path clip-path=\"url(#clip530)\" d=\"M 0 0 M2076.45 156.841 L2076.45 158.924 L2056.86 158.924 Q2057.14 163.322 2059.5 165.637 Q2061.89 167.929 2066.12 167.929 Q2068.57 167.929 2070.87 167.327 Q2073.18 166.725 2075.45 165.521 L2075.45 169.549 Q2073.16 170.521 2070.75 171.031 Q2068.34 171.54 2065.87 171.54 Q2059.66 171.54 2056.03 167.929 Q2052.42 164.318 2052.42 158.16 Q2052.42 151.795 2055.84 148.068 Q2059.29 144.318 2065.13 144.318 Q2070.36 144.318 2073.39 147.697 Q2076.45 151.054 2076.45 156.841 M2072.19 155.591 Q2072.14 152.096 2070.22 150.012 Q2068.32 147.929 2065.17 147.929 Q2061.61 147.929 2059.45 149.943 Q2057.32 151.957 2057 155.614 L2072.19 155.591 Z\" fill=\"#000000\" fill-rule=\"evenodd\" fill-opacity=\"1\" /><path clip-path=\"url(#clip530)\" d=\"M 0 0 M2095.94 148.924 Q2095.22 148.508 2094.36 148.322 Q2093.53 148.114 2092.51 148.114 Q2088.9 148.114 2086.95 150.475 Q2085.03 152.813 2085.03 157.211 L2085.03 170.869 L2080.75 170.869 L2080.75 144.943 L2085.03 144.943 L2085.03 148.971 Q2086.38 146.609 2088.53 145.475 Q2090.68 144.318 2093.76 144.318 Q2094.2 144.318 2094.73 144.387 Q2095.26 144.434 2095.91 144.549 L2095.94 148.924 Z\" fill=\"#000000\" fill-rule=\"evenodd\" fill-opacity=\"1\" /><path clip-path=\"url(#clip530)\" d=\"M 0 0 M2098.55 144.943 L2118.78 144.943 L2118.78 148.832 L2102.76 167.466 L2118.78 167.466 L2118.78 170.869 L2097.97 170.869 L2097.97 166.98 L2113.99 148.346 L2098.55 148.346 L2098.55 144.943 Z\" fill=\"#000000\" fill-rule=\"evenodd\" fill-opacity=\"1\" /><path clip-path=\"url(#clip530)\" d=\"M 0 0 M2133.3 147.929 Q2129.87 147.929 2127.88 150.614 Q2125.89 153.276 2125.89 157.929 Q2125.89 162.582 2127.86 165.267 Q2129.85 167.929 2133.3 167.929 Q2136.7 167.929 2138.69 165.244 Q2140.68 162.558 2140.68 157.929 Q2140.68 153.322 2138.69 150.637 Q2136.7 147.929 2133.3 147.929 M2133.3 144.318 Q2138.85 144.318 2142.02 147.929 Q2145.19 151.54 2145.19 157.929 Q2145.19 164.295 2142.02 167.929 Q2138.85 171.54 2133.3 171.54 Q2127.72 171.54 2124.55 167.929 Q2121.4 164.295 2121.4 157.929 Q2121.4 151.54 2124.55 147.929 Q2127.72 144.318 2133.3 144.318 Z\" fill=\"#000000\" fill-rule=\"evenodd\" fill-opacity=\"1\" /><path clip-path=\"url(#clip530)\" d=\"M 0 0 M2171.21 155.221 L2171.21 170.869 L2166.95 170.869 L2166.95 155.359 Q2166.95 151.679 2165.52 149.85 Q2164.08 148.022 2161.21 148.022 Q2157.76 148.022 2155.77 150.221 Q2153.78 152.42 2153.78 156.216 L2153.78 170.869 L2149.5 170.869 L2149.5 144.943 L2153.78 144.943 L2153.78 148.971 Q2155.31 146.633 2157.37 145.475 Q2159.45 144.318 2162.16 144.318 Q2166.63 144.318 2168.92 147.096 Q2171.21 149.85 2171.21 155.221 Z\" fill=\"#000000\" fill-rule=\"evenodd\" fill-opacity=\"1\" /><path clip-path=\"url(#clip530)\" d=\"M 0 0 M2197.86 156.841 L2197.86 158.924 L2178.27 158.924 Q2178.55 163.322 2180.91 165.637 Q2183.3 167.929 2187.53 167.929 Q2189.99 167.929 2192.28 167.327 Q2194.59 166.725 2196.86 165.521 L2196.86 169.549 Q2194.57 170.521 2192.16 171.031 Q2189.75 171.54 2187.28 171.54 Q2181.07 171.54 2177.44 167.929 Q2173.83 164.318 2173.83 158.16 Q2173.83 151.795 2177.25 148.068 Q2180.7 144.318 2186.54 144.318 Q2191.77 144.318 2194.8 147.697 Q2197.86 151.054 2197.86 156.841 M2193.6 155.591 Q2193.55 152.096 2191.63 150.012 Q2189.73 147.929 2186.58 147.929 Q2183.02 147.929 2180.87 149.943 Q2178.74 151.957 2178.41 155.614 L2193.6 155.591 Z\" fill=\"#000000\" fill-rule=\"evenodd\" fill-opacity=\"1\" /><polyline clip-path=\"url(#clip530)\" style=\"stroke:#e26f46; stroke-width:4; stroke-opacity:1; fill:none\" points=\"\n",
       "  1641.33,214.069 1783.1,214.069 \n",
       "  \"/>\n",
       "<path clip-path=\"url(#clip530)\" d=\"M 0 0 M1806.72 205.423 L1810.98 205.423 L1816.31 225.654 L1821.61 205.423 L1826.63 205.423 L1831.96 225.654 L1837.26 205.423 L1841.52 205.423 L1834.73 231.349 L1829.71 231.349 L1824.13 210.099 L1818.53 231.349 L1813.51 231.349 L1806.72 205.423 Z\" fill=\"#000000\" fill-rule=\"evenodd\" fill-opacity=\"1\" /><path clip-path=\"url(#clip530)\" d=\"M 0 0 M1857.77 218.316 Q1852.6 218.316 1850.61 219.497 Q1848.62 220.677 1848.62 223.525 Q1848.62 225.793 1850.1 227.136 Q1851.61 228.455 1854.18 228.455 Q1857.72 228.455 1859.85 225.955 Q1862 223.432 1862 219.265 L1862 218.316 L1857.77 218.316 M1866.26 216.557 L1866.26 231.349 L1862 231.349 L1862 227.413 Q1860.54 229.775 1858.37 230.909 Q1856.19 232.02 1853.04 232.02 Q1849.06 232.02 1846.7 229.798 Q1844.36 227.552 1844.36 223.802 Q1844.36 219.427 1847.28 217.205 Q1850.22 214.983 1856.03 214.983 L1862 214.983 L1862 214.566 Q1862 211.627 1860.06 210.029 Q1858.14 208.409 1854.64 208.409 Q1852.42 208.409 1850.31 208.941 Q1848.21 209.474 1846.26 210.539 L1846.26 206.603 Q1848.6 205.701 1850.8 205.261 Q1853 204.798 1855.08 204.798 Q1860.71 204.798 1863.48 207.714 Q1866.26 210.631 1866.26 216.557 Z\" fill=\"#000000\" fill-rule=\"evenodd\" fill-opacity=\"1\" /><path clip-path=\"url(#clip530)\" d=\"M 0 0 M1885.75 209.404 Q1885.03 208.988 1884.18 208.802 Q1883.34 208.594 1882.33 208.594 Q1878.71 208.594 1876.77 210.955 Q1874.85 213.293 1874.85 217.691 L1874.85 231.349 L1870.57 231.349 L1870.57 205.423 L1874.85 205.423 L1874.85 209.451 Q1876.19 207.089 1878.34 205.955 Q1880.5 204.798 1883.58 204.798 Q1884.02 204.798 1884.55 204.867 Q1885.08 204.914 1885.73 205.029 L1885.75 209.404 Z\" fill=\"#000000\" fill-rule=\"evenodd\" fill-opacity=\"1\" /><path clip-path=\"url(#clip530)\" d=\"M 0 0 M1894.43 198.062 L1894.43 205.423 L1903.21 205.423 L1903.21 208.733 L1894.43 208.733 L1894.43 222.807 Q1894.43 225.978 1895.29 226.881 Q1896.17 227.784 1898.83 227.784 L1903.21 227.784 L1903.21 231.349 L1898.83 231.349 Q1893.9 231.349 1892.02 229.52 Q1890.15 227.668 1890.15 222.807 L1890.15 208.733 L1887.02 208.733 L1887.02 205.423 L1890.15 205.423 L1890.15 198.062 L1894.43 198.062 Z\" fill=\"#000000\" fill-rule=\"evenodd\" fill-opacity=\"1\" /><path clip-path=\"url(#clip530)\" d=\"M 0 0 M1917.72 208.409 Q1914.29 208.409 1912.3 211.094 Q1910.31 213.756 1910.31 218.409 Q1910.31 223.062 1912.28 225.747 Q1914.27 228.409 1917.72 228.409 Q1921.12 228.409 1923.11 225.724 Q1925.1 223.038 1925.1 218.409 Q1925.1 213.802 1923.11 211.117 Q1921.12 208.409 1917.72 208.409 M1917.72 204.798 Q1923.27 204.798 1926.45 208.409 Q1929.62 212.02 1929.62 218.409 Q1929.62 224.775 1926.45 228.409 Q1923.27 232.02 1917.72 232.02 Q1912.14 232.02 1908.97 228.409 Q1905.82 224.775 1905.82 218.409 Q1905.82 212.02 1908.97 208.409 Q1912.14 204.798 1917.72 204.798 Z\" fill=\"#000000\" fill-rule=\"evenodd\" fill-opacity=\"1\" /><path clip-path=\"url(#clip530)\" d=\"M 0 0 M1946.21 193.27 L1950.82 193.27 L1943.27 201.974 L1939.73 201.974 L1946.21 193.27 M1950.61 206.187 L1950.61 210.214 Q1948.81 209.289 1946.86 208.826 Q1944.92 208.363 1942.83 208.363 Q1939.66 208.363 1938.07 209.335 Q1936.49 210.307 1936.49 212.251 Q1936.49 213.733 1937.63 214.589 Q1938.76 215.423 1942.19 216.187 L1943.65 216.511 Q1948.18 217.483 1950.08 219.265 Q1952 221.025 1952 224.196 Q1952 227.807 1949.13 229.913 Q1946.28 232.02 1941.28 232.02 Q1939.2 232.02 1936.93 231.603 Q1934.69 231.21 1932.19 230.4 L1932.19 226.001 Q1934.55 227.228 1936.84 227.853 Q1939.13 228.455 1941.38 228.455 Q1944.39 228.455 1946.01 227.437 Q1947.63 226.395 1947.63 224.52 Q1947.63 222.784 1946.45 221.858 Q1945.29 220.932 1941.33 220.076 L1939.85 219.728 Q1935.89 218.895 1934.13 217.182 Q1932.37 215.446 1932.37 212.437 Q1932.37 208.779 1934.96 206.789 Q1937.56 204.798 1942.33 204.798 Q1944.69 204.798 1946.77 205.145 Q1948.85 205.492 1950.61 206.187 Z\" fill=\"#000000\" fill-rule=\"evenodd\" fill-opacity=\"1\" /><path clip-path=\"url(#clip530)\" d=\"M 0 0 M1975.13 206.418 L1975.13 210.4 Q1973.32 209.404 1971.49 208.918 Q1969.69 208.409 1967.83 208.409 Q1963.69 208.409 1961.4 211.048 Q1959.11 213.664 1959.11 218.409 Q1959.11 223.154 1961.4 225.793 Q1963.69 228.409 1967.83 228.409 Q1969.69 228.409 1971.49 227.923 Q1973.32 227.413 1975.13 226.418 L1975.13 230.353 Q1973.34 231.187 1971.42 231.603 Q1969.52 232.02 1967.37 232.02 Q1961.52 232.02 1958.07 228.339 Q1954.62 224.659 1954.62 218.409 Q1954.62 212.066 1958.09 208.432 Q1961.58 204.798 1967.65 204.798 Q1969.62 204.798 1971.49 205.215 Q1973.37 205.608 1975.13 206.418 Z\" fill=\"#000000\" fill-rule=\"evenodd\" fill-opacity=\"1\" /><path clip-path=\"url(#clip530)\" d=\"M 0 0 M1979.59 205.423 L1983.85 205.423 L1983.85 231.349 L1979.59 231.349 L1979.59 205.423 M1979.59 195.33 L1983.85 195.33 L1983.85 200.724 L1979.59 200.724 L1979.59 195.33 Z\" fill=\"#000000\" fill-rule=\"evenodd\" fill-opacity=\"1\" /><path clip-path=\"url(#clip530)\" d=\"M 0 0 M2015.17 218.316 Q2010.01 218.316 2008.02 219.497 Q2006.03 220.677 2006.03 223.525 Q2006.03 225.793 2007.51 227.136 Q2009.02 228.455 2011.58 228.455 Q2015.13 228.455 2017.26 225.955 Q2019.41 223.432 2019.41 219.265 L2019.41 218.316 L2015.17 218.316 M2023.67 216.557 L2023.67 231.349 L2019.41 231.349 L2019.41 227.413 Q2017.95 229.775 2015.77 230.909 Q2013.6 232.02 2010.45 232.02 Q2006.47 232.02 2004.11 229.798 Q2001.77 227.552 2001.77 223.802 Q2001.77 219.427 2004.69 217.205 Q2007.63 214.983 2013.44 214.983 L2019.41 214.983 L2019.41 214.566 Q2019.41 211.627 2017.46 210.029 Q2015.54 208.409 2012.05 208.409 Q2009.83 208.409 2007.72 208.941 Q2005.61 209.474 2003.67 210.539 L2003.67 206.603 Q2006.01 205.701 2008.2 205.261 Q2010.4 204.798 2012.49 204.798 Q2018.11 204.798 2020.89 207.714 Q2023.67 210.631 2023.67 216.557 Z\" fill=\"#000000\" fill-rule=\"evenodd\" fill-opacity=\"1\" /><path clip-path=\"url(#clip530)\" d=\"M 0 0 M2049.69 215.701 L2049.69 231.349 L2045.43 231.349 L2045.43 215.839 Q2045.43 212.159 2043.99 210.33 Q2042.56 208.502 2039.69 208.502 Q2036.24 208.502 2034.25 210.701 Q2032.26 212.9 2032.26 216.696 L2032.26 231.349 L2027.97 231.349 L2027.97 205.423 L2032.26 205.423 L2032.26 209.451 Q2033.78 207.113 2035.84 205.955 Q2037.93 204.798 2040.64 204.798 Q2045.1 204.798 2047.39 207.576 Q2049.69 210.33 2049.69 215.701 Z\" fill=\"#000000\" fill-rule=\"evenodd\" fill-opacity=\"1\" /><path clip-path=\"url(#clip530)\" d=\"M 0 0 M2065.94 218.316 Q2060.77 218.316 2058.78 219.497 Q2056.79 220.677 2056.79 223.525 Q2056.79 225.793 2058.27 227.136 Q2059.78 228.455 2062.35 228.455 Q2065.89 228.455 2068.02 225.955 Q2070.17 223.432 2070.17 219.265 L2070.17 218.316 L2065.94 218.316 M2074.43 216.557 L2074.43 231.349 L2070.17 231.349 L2070.17 227.413 Q2068.71 229.775 2066.54 230.909 Q2064.36 232.02 2061.21 232.02 Q2057.23 232.02 2054.87 229.798 Q2052.53 227.552 2052.53 223.802 Q2052.53 219.427 2055.45 217.205 Q2058.39 214.983 2064.2 214.983 L2070.17 214.983 L2070.17 214.566 Q2070.17 211.627 2068.23 210.029 Q2066.31 208.409 2062.81 208.409 Q2060.59 208.409 2058.48 208.941 Q2056.38 209.474 2054.43 210.539 L2054.43 206.603 Q2056.77 205.701 2058.97 205.261 Q2061.17 204.798 2063.25 204.798 Q2068.88 204.798 2071.65 207.714 Q2074.43 210.631 2074.43 216.557 Z\" fill=\"#000000\" fill-rule=\"evenodd\" fill-opacity=\"1\" /><path clip-path=\"url(#clip530)\" d=\"M 0 0 M2078.9 195.33 L2083.16 195.33 L2083.16 231.349 L2078.9 231.349 L2078.9 195.33 Z\" fill=\"#000000\" fill-rule=\"evenodd\" fill-opacity=\"1\" /><path clip-path=\"url(#clip530)\" d=\"M 0 0 M2087.63 205.423 L2091.88 205.423 L2091.88 231.349 L2087.63 231.349 L2087.63 205.423 M2087.63 195.33 L2091.88 195.33 L2091.88 200.724 L2087.63 200.724 L2087.63 195.33 Z\" fill=\"#000000\" fill-rule=\"evenodd\" fill-opacity=\"1\" /><path clip-path=\"url(#clip530)\" d=\"M 0 0 M2100.57 198.062 L2100.57 205.423 L2109.34 205.423 L2109.34 208.733 L2100.57 208.733 L2100.57 222.807 Q2100.57 225.978 2101.42 226.881 Q2102.3 227.784 2104.96 227.784 L2109.34 227.784 L2109.34 231.349 L2104.96 231.349 Q2100.03 231.349 2098.16 229.52 Q2096.28 227.668 2096.28 222.807 L2096.28 208.733 L2093.16 208.733 L2093.16 205.423 L2096.28 205.423 L2096.28 198.062 L2100.57 198.062 Z\" fill=\"#000000\" fill-rule=\"evenodd\" fill-opacity=\"1\" /><path clip-path=\"url(#clip530)\" d=\"M 0 0 M2124.59 233.756 Q2122.79 238.386 2121.07 239.798 Q2119.36 241.21 2116.49 241.21 L2113.09 241.21 L2113.09 237.645 L2115.59 237.645 Q2117.35 237.645 2118.32 236.812 Q2119.29 235.978 2120.47 232.876 L2121.24 230.932 L2110.75 205.423 L2115.26 205.423 L2123.37 225.701 L2131.47 205.423 L2135.98 205.423 L2124.59 233.756 Z\" fill=\"#000000\" fill-rule=\"evenodd\" fill-opacity=\"1\" /><path clip-path=\"url(#clip530)\" d=\"M 0 0 M2159.11 206.418 L2159.11 210.4 Q2157.3 209.404 2155.47 208.918 Q2153.67 208.409 2151.82 208.409 Q2147.67 208.409 2145.38 211.048 Q2143.09 213.664 2143.09 218.409 Q2143.09 223.154 2145.38 225.793 Q2147.67 228.409 2151.82 228.409 Q2153.67 228.409 2155.47 227.923 Q2157.3 227.413 2159.11 226.418 L2159.11 230.353 Q2157.32 231.187 2155.4 231.603 Q2153.51 232.02 2151.35 232.02 Q2145.5 232.02 2142.05 228.339 Q2138.6 224.659 2138.6 218.409 Q2138.6 212.066 2142.07 208.432 Q2145.57 204.798 2151.63 204.798 Q2153.6 204.798 2155.47 205.215 Q2157.35 205.608 2159.11 206.418 Z\" fill=\"#000000\" fill-rule=\"evenodd\" fill-opacity=\"1\" /><path clip-path=\"url(#clip530)\" d=\"M 0 0 M2161.72 205.423 L2181.95 205.423 L2181.95 209.312 L2165.94 227.946 L2181.95 227.946 L2181.95 231.349 L2161.14 231.349 L2161.14 227.46 L2177.16 208.826 L2161.72 208.826 L2161.72 205.423 Z\" fill=\"#000000\" fill-rule=\"evenodd\" fill-opacity=\"1\" /><path clip-path=\"url(#clip530)\" d=\"M 0 0 M2207.97 215.701 L2207.97 231.349 L2203.71 231.349 L2203.71 215.839 Q2203.71 212.159 2202.28 210.33 Q2200.84 208.502 2197.97 208.502 Q2194.52 208.502 2192.53 210.701 Q2190.54 212.9 2190.54 216.696 L2190.54 231.349 L2186.26 231.349 L2186.26 205.423 L2190.54 205.423 L2190.54 209.451 Q2192.07 207.113 2194.13 205.955 Q2196.21 204.798 2198.92 204.798 Q2203.39 204.798 2205.68 207.576 Q2207.97 210.33 2207.97 215.701 Z\" fill=\"#000000\" fill-rule=\"evenodd\" fill-opacity=\"1\" /><path clip-path=\"url(#clip530)\" d=\"M 0 0 M2234.62 217.321 L2234.62 219.404 L2215.03 219.404 Q2215.31 223.802 2217.67 226.117 Q2220.06 228.409 2224.29 228.409 Q2226.75 228.409 2229.04 227.807 Q2231.35 227.205 2233.62 226.001 L2233.62 230.029 Q2231.33 231.001 2228.92 231.511 Q2226.51 232.02 2224.04 232.02 Q2217.83 232.02 2214.2 228.409 Q2210.59 224.798 2210.59 218.64 Q2210.59 212.275 2214.01 208.548 Q2217.46 204.798 2223.3 204.798 Q2228.53 204.798 2231.56 208.177 Q2234.62 211.534 2234.62 217.321 M2230.36 216.071 Q2230.31 212.576 2228.39 210.492 Q2226.49 208.409 2223.34 208.409 Q2219.78 208.409 2217.63 210.423 Q2215.5 212.437 2215.17 216.094 L2230.36 216.071 Z\" fill=\"#000000\" fill-rule=\"evenodd\" fill-opacity=\"1\" /></svg>\n"
      ]
     },
     "execution_count": 746,
     "metadata": {},
     "output_type": "execute_result"
    }
   ],
   "source": [
    "plot!(t_step, analyt, label = \"wartości analityczne\")"
   ]
  },
  {
   "cell_type": "code",
   "execution_count": 747,
   "metadata": {},
   "outputs": [
    {
     "data": {
      "text/plain": [
       "model (generic function with 1 method)"
      ]
     },
     "execution_count": 747,
     "metadata": {},
     "output_type": "execute_result"
    }
   ],
   "source": [
    "function model(t, x)\n",
    "    return -2.44 * x\n",
    "end    "
   ]
  },
  {
   "cell_type": "code",
   "execution_count": 749,
   "metadata": {},
   "outputs": [],
   "source": [
    "numeric = runge_kutta(model, Array(0:0.1:1.5), 240.6);"
   ]
  },
  {
   "cell_type": "code",
   "execution_count": 750,
   "metadata": {},
   "outputs": [
    {
     "data": {
      "image/svg+xml": [
       "<?xml version=\"1.0\" encoding=\"utf-8\"?>\n",
       "<svg xmlns=\"http://www.w3.org/2000/svg\" xmlns:xlink=\"http://www.w3.org/1999/xlink\" width=\"600\" height=\"400\" viewBox=\"0 0 2400 1600\">\n",
       "<defs>\n",
       "  <clipPath id=\"clip570\">\n",
       "    <rect x=\"0\" y=\"0\" width=\"2400\" height=\"1600\"/>\n",
       "  </clipPath>\n",
       "</defs>\n",
       "<path clip-path=\"url(#clip570)\" d=\"\n",
       "M0 1600 L2400 1600 L2400 0 L0 0  Z\n",
       "  \" fill=\"#ffffff\" fill-rule=\"evenodd\" fill-opacity=\"1\"/>\n",
       "<defs>\n",
       "  <clipPath id=\"clip571\">\n",
       "    <rect x=\"480\" y=\"0\" width=\"1681\" height=\"1600\"/>\n",
       "  </clipPath>\n",
       "</defs>\n",
       "<path clip-path=\"url(#clip570)\" d=\"\n",
       "M226.232 1423.18 L2352.76 1423.18 L2352.76 47.2441 L226.232 47.2441  Z\n",
       "  \" fill=\"#ffffff\" fill-rule=\"evenodd\" fill-opacity=\"1\"/>\n",
       "<defs>\n",
       "  <clipPath id=\"clip572\">\n",
       "    <rect x=\"226\" y=\"47\" width=\"2128\" height=\"1377\"/>\n",
       "  </clipPath>\n",
       "</defs>\n",
       "<polyline clip-path=\"url(#clip572)\" style=\"stroke:#000000; stroke-width:2; stroke-opacity:0.1; fill:none\" points=\"\n",
       "  286.417,1423.18 286.417,47.2441 \n",
       "  \"/>\n",
       "<polyline clip-path=\"url(#clip572)\" style=\"stroke:#000000; stroke-width:2; stroke-opacity:0.1; fill:none\" points=\"\n",
       "  955.135,1423.18 955.135,47.2441 \n",
       "  \"/>\n",
       "<polyline clip-path=\"url(#clip572)\" style=\"stroke:#000000; stroke-width:2; stroke-opacity:0.1; fill:none\" points=\"\n",
       "  1623.85,1423.18 1623.85,47.2441 \n",
       "  \"/>\n",
       "<polyline clip-path=\"url(#clip572)\" style=\"stroke:#000000; stroke-width:2; stroke-opacity:0.1; fill:none\" points=\"\n",
       "  2292.57,1423.18 2292.57,47.2441 \n",
       "  \"/>\n",
       "<polyline clip-path=\"url(#clip570)\" style=\"stroke:#000000; stroke-width:4; stroke-opacity:1; fill:none\" points=\"\n",
       "  226.232,1423.18 2352.76,1423.18 \n",
       "  \"/>\n",
       "<polyline clip-path=\"url(#clip570)\" style=\"stroke:#000000; stroke-width:4; stroke-opacity:1; fill:none\" points=\"\n",
       "  286.417,1423.18 286.417,1406.67 \n",
       "  \"/>\n",
       "<polyline clip-path=\"url(#clip570)\" style=\"stroke:#000000; stroke-width:4; stroke-opacity:1; fill:none\" points=\"\n",
       "  955.135,1423.18 955.135,1406.67 \n",
       "  \"/>\n",
       "<polyline clip-path=\"url(#clip570)\" style=\"stroke:#000000; stroke-width:4; stroke-opacity:1; fill:none\" points=\"\n",
       "  1623.85,1423.18 1623.85,1406.67 \n",
       "  \"/>\n",
       "<polyline clip-path=\"url(#clip570)\" style=\"stroke:#000000; stroke-width:4; stroke-opacity:1; fill:none\" points=\"\n",
       "  2292.57,1423.18 2292.57,1406.67 \n",
       "  \"/>\n",
       "<path clip-path=\"url(#clip570)\" d=\"M 0 0 M267.933 1452.37 Q264.322 1452.37 262.493 1455.94 Q260.688 1459.48 260.688 1466.61 Q260.688 1473.71 262.493 1477.28 Q264.322 1480.82 267.933 1480.82 Q271.567 1480.82 273.373 1477.28 Q275.201 1473.71 275.201 1466.61 Q275.201 1459.48 273.373 1455.94 Q271.567 1452.37 267.933 1452.37 M267.933 1448.67 Q273.743 1448.67 276.799 1453.27 Q279.877 1457.86 279.877 1466.61 Q279.877 1475.33 276.799 1479.94 Q273.743 1484.52 267.933 1484.52 Q262.123 1484.52 259.044 1479.94 Q255.989 1475.33 255.989 1466.61 Q255.989 1457.86 259.044 1453.27 Q262.123 1448.67 267.933 1448.67 Z\" fill=\"#000000\" fill-rule=\"evenodd\" fill-opacity=\"1\" /><path clip-path=\"url(#clip570)\" d=\"M 0 0 M284.947 1477.97 L289.831 1477.97 L289.831 1483.85 L284.947 1483.85 L284.947 1477.97 Z\" fill=\"#000000\" fill-rule=\"evenodd\" fill-opacity=\"1\" /><path clip-path=\"url(#clip570)\" d=\"M 0 0 M304.9 1452.37 Q301.289 1452.37 299.461 1455.94 Q297.655 1459.48 297.655 1466.61 Q297.655 1473.71 299.461 1477.28 Q301.289 1480.82 304.9 1480.82 Q308.535 1480.82 310.34 1477.28 Q312.169 1473.71 312.169 1466.61 Q312.169 1459.48 310.34 1455.94 Q308.535 1452.37 304.9 1452.37 M304.9 1448.67 Q310.71 1448.67 313.766 1453.27 Q316.845 1457.86 316.845 1466.61 Q316.845 1475.33 313.766 1479.94 Q310.71 1484.52 304.9 1484.52 Q299.09 1484.52 296.011 1479.94 Q292.956 1475.33 292.956 1466.61 Q292.956 1457.86 296.011 1453.27 Q299.09 1448.67 304.9 1448.67 Z\" fill=\"#000000\" fill-rule=\"evenodd\" fill-opacity=\"1\" /><path clip-path=\"url(#clip570)\" d=\"M 0 0 M937.149 1452.37 Q933.538 1452.37 931.709 1455.94 Q929.903 1459.48 929.903 1466.61 Q929.903 1473.71 931.709 1477.28 Q933.538 1480.82 937.149 1480.82 Q940.783 1480.82 942.589 1477.28 Q944.417 1473.71 944.417 1466.61 Q944.417 1459.48 942.589 1455.94 Q940.783 1452.37 937.149 1452.37 M937.149 1448.67 Q942.959 1448.67 946.015 1453.27 Q949.093 1457.86 949.093 1466.61 Q949.093 1475.33 946.015 1479.94 Q942.959 1484.52 937.149 1484.52 Q931.339 1484.52 928.26 1479.94 Q925.204 1475.33 925.204 1466.61 Q925.204 1457.86 928.26 1453.27 Q931.339 1448.67 937.149 1448.67 Z\" fill=\"#000000\" fill-rule=\"evenodd\" fill-opacity=\"1\" /><path clip-path=\"url(#clip570)\" d=\"M 0 0 M954.163 1477.97 L959.047 1477.97 L959.047 1483.85 L954.163 1483.85 L954.163 1477.97 Z\" fill=\"#000000\" fill-rule=\"evenodd\" fill-opacity=\"1\" /><path clip-path=\"url(#clip570)\" d=\"M 0 0 M964.163 1449.29 L982.519 1449.29 L982.519 1453.23 L968.445 1453.23 L968.445 1461.7 Q969.463 1461.35 970.482 1461.19 Q971.5 1461 972.519 1461 Q978.306 1461 981.686 1464.18 Q985.065 1467.35 985.065 1472.76 Q985.065 1478.34 981.593 1481.44 Q978.121 1484.52 971.801 1484.52 Q969.625 1484.52 967.357 1484.15 Q965.112 1483.78 962.704 1483.04 L962.704 1478.34 Q964.788 1479.48 967.01 1480.03 Q969.232 1480.59 971.709 1480.59 Q975.713 1480.59 978.051 1478.48 Q980.389 1476.38 980.389 1472.76 Q980.389 1469.15 978.051 1467.05 Q975.713 1464.94 971.709 1464.94 Q969.834 1464.94 967.959 1465.36 Q966.107 1465.77 964.163 1466.65 L964.163 1449.29 Z\" fill=\"#000000\" fill-rule=\"evenodd\" fill-opacity=\"1\" /><path clip-path=\"url(#clip570)\" d=\"M 0 0 M1595.75 1479.92 L1603.39 1479.92 L1603.39 1453.55 L1595.08 1455.22 L1595.08 1450.96 L1603.34 1449.29 L1608.02 1449.29 L1608.02 1479.92 L1615.66 1479.92 L1615.66 1483.85 L1595.75 1483.85 L1595.75 1479.92 Z\" fill=\"#000000\" fill-rule=\"evenodd\" fill-opacity=\"1\" /><path clip-path=\"url(#clip570)\" d=\"M 0 0 M1620.73 1477.97 L1625.61 1477.97 L1625.61 1483.85 L1620.73 1483.85 L1620.73 1477.97 Z\" fill=\"#000000\" fill-rule=\"evenodd\" fill-opacity=\"1\" /><path clip-path=\"url(#clip570)\" d=\"M 0 0 M1640.68 1452.37 Q1637.07 1452.37 1635.24 1455.94 Q1633.44 1459.48 1633.44 1466.61 Q1633.44 1473.71 1635.24 1477.28 Q1637.07 1480.82 1640.68 1480.82 Q1644.32 1480.82 1646.12 1477.28 Q1647.95 1473.71 1647.95 1466.61 Q1647.95 1459.48 1646.12 1455.94 Q1644.32 1452.37 1640.68 1452.37 M1640.68 1448.67 Q1646.49 1448.67 1649.55 1453.27 Q1652.63 1457.86 1652.63 1466.61 Q1652.63 1475.33 1649.55 1479.94 Q1646.49 1484.52 1640.68 1484.52 Q1634.87 1484.52 1631.79 1479.94 Q1628.74 1475.33 1628.74 1466.61 Q1628.74 1457.86 1631.79 1453.27 Q1634.87 1448.67 1640.68 1448.67 Z\" fill=\"#000000\" fill-rule=\"evenodd\" fill-opacity=\"1\" /><path clip-path=\"url(#clip570)\" d=\"M 0 0 M2264.97 1479.92 L2272.61 1479.92 L2272.61 1453.55 L2264.3 1455.22 L2264.3 1450.96 L2272.56 1449.29 L2277.24 1449.29 L2277.24 1479.92 L2284.87 1479.92 L2284.87 1483.85 L2264.97 1483.85 L2264.97 1479.92 Z\" fill=\"#000000\" fill-rule=\"evenodd\" fill-opacity=\"1\" /><path clip-path=\"url(#clip570)\" d=\"M 0 0 M2289.94 1477.97 L2294.83 1477.97 L2294.83 1483.85 L2289.94 1483.85 L2289.94 1477.97 Z\" fill=\"#000000\" fill-rule=\"evenodd\" fill-opacity=\"1\" /><path clip-path=\"url(#clip570)\" d=\"M 0 0 M2299.94 1449.29 L2318.3 1449.29 L2318.3 1453.23 L2304.23 1453.23 L2304.23 1461.7 Q2305.24 1461.35 2306.26 1461.19 Q2307.28 1461 2308.3 1461 Q2314.09 1461 2317.47 1464.18 Q2320.85 1467.35 2320.85 1472.76 Q2320.85 1478.34 2317.37 1481.44 Q2313.9 1484.52 2307.58 1484.52 Q2305.41 1484.52 2303.14 1484.15 Q2300.89 1483.78 2298.49 1483.04 L2298.49 1478.34 Q2300.57 1479.48 2302.79 1480.03 Q2305.01 1480.59 2307.49 1480.59 Q2311.49 1480.59 2313.83 1478.48 Q2316.17 1476.38 2316.17 1472.76 Q2316.17 1469.15 2313.83 1467.05 Q2311.49 1464.94 2307.49 1464.94 Q2305.62 1464.94 2303.74 1465.36 Q2301.89 1465.77 2299.94 1466.65 L2299.94 1449.29 Z\" fill=\"#000000\" fill-rule=\"evenodd\" fill-opacity=\"1\" /><path clip-path=\"url(#clip570)\" d=\"M 0 0 M1240.84 1522.27 L1240.84 1532.4 L1252.91 1532.4 L1252.91 1536.95 L1240.84 1536.95 L1240.84 1556.3 Q1240.84 1560.66 1242.02 1561.9 Q1243.23 1563.14 1246.89 1563.14 L1252.91 1563.14 L1252.91 1568.04 L1246.89 1568.04 Q1240.11 1568.04 1237.53 1565.53 Q1234.96 1562.98 1234.96 1556.3 L1234.96 1536.95 L1230.66 1536.95 L1230.66 1532.4 L1234.96 1532.4 L1234.96 1522.27 L1240.84 1522.27 Z\" fill=\"#000000\" fill-rule=\"evenodd\" fill-opacity=\"1\" /><path clip-path=\"url(#clip570)\" d=\"M 0 0 M1279.23 1518.52 L1292.72 1518.52 L1292.72 1523.07 L1285.09 1523.07 L1285.09 1572.09 L1292.72 1572.09 L1292.72 1576.64 L1279.23 1576.64 L1279.23 1518.52 Z\" fill=\"#000000\" fill-rule=\"evenodd\" fill-opacity=\"1\" /><path clip-path=\"url(#clip570)\" d=\"M 0 0 M1328.5 1546.53 L1328.5 1568.04 L1322.64 1568.04 L1322.64 1546.72 Q1322.64 1541.66 1320.67 1539.14 Q1318.7 1536.63 1314.75 1536.63 Q1310.01 1536.63 1307.27 1539.65 Q1304.53 1542.68 1304.53 1547.9 L1304.53 1568.04 L1298.64 1568.04 L1298.64 1518.52 L1304.53 1518.52 L1304.53 1537.93 Q1306.63 1534.72 1309.47 1533.13 Q1312.33 1531.54 1316.05 1531.54 Q1322.2 1531.54 1325.35 1535.36 Q1328.5 1539.14 1328.5 1546.53 Z\" fill=\"#000000\" fill-rule=\"evenodd\" fill-opacity=\"1\" /><path clip-path=\"url(#clip570)\" d=\"M 0 0 M1348.33 1518.52 L1348.33 1576.64 L1334.83 1576.64 L1334.83 1572.09 L1342.44 1572.09 L1342.44 1523.07 L1334.83 1523.07 L1334.83 1518.52 L1348.33 1518.52 Z\" fill=\"#000000\" fill-rule=\"evenodd\" fill-opacity=\"1\" /><polyline clip-path=\"url(#clip572)\" style=\"stroke:#000000; stroke-width:2; stroke-opacity:0.1; fill:none\" points=\"\n",
       "  226.232,1418.52 2352.76,1418.52 \n",
       "  \"/>\n",
       "<polyline clip-path=\"url(#clip572)\" style=\"stroke:#000000; stroke-width:2; stroke-opacity:0.1; fill:none\" points=\"\n",
       "  226.232,1141.64 2352.76,1141.64 \n",
       "  \"/>\n",
       "<polyline clip-path=\"url(#clip572)\" style=\"stroke:#000000; stroke-width:2; stroke-opacity:0.1; fill:none\" points=\"\n",
       "  226.232,864.767 2352.76,864.767 \n",
       "  \"/>\n",
       "<polyline clip-path=\"url(#clip572)\" style=\"stroke:#000000; stroke-width:2; stroke-opacity:0.1; fill:none\" points=\"\n",
       "  226.232,587.889 2352.76,587.889 \n",
       "  \"/>\n",
       "<polyline clip-path=\"url(#clip572)\" style=\"stroke:#000000; stroke-width:2; stroke-opacity:0.1; fill:none\" points=\"\n",
       "  226.232,311.011 2352.76,311.011 \n",
       "  \"/>\n",
       "<polyline clip-path=\"url(#clip570)\" style=\"stroke:#000000; stroke-width:4; stroke-opacity:1; fill:none\" points=\"\n",
       "  226.232,1423.18 226.232,47.2441 \n",
       "  \"/>\n",
       "<polyline clip-path=\"url(#clip570)\" style=\"stroke:#000000; stroke-width:4; stroke-opacity:1; fill:none\" points=\"\n",
       "  226.232,1418.52 251.75,1418.52 \n",
       "  \"/>\n",
       "<polyline clip-path=\"url(#clip570)\" style=\"stroke:#000000; stroke-width:4; stroke-opacity:1; fill:none\" points=\"\n",
       "  226.232,1141.64 251.75,1141.64 \n",
       "  \"/>\n",
       "<polyline clip-path=\"url(#clip570)\" style=\"stroke:#000000; stroke-width:4; stroke-opacity:1; fill:none\" points=\"\n",
       "  226.232,864.767 251.75,864.767 \n",
       "  \"/>\n",
       "<polyline clip-path=\"url(#clip570)\" style=\"stroke:#000000; stroke-width:4; stroke-opacity:1; fill:none\" points=\"\n",
       "  226.232,587.889 251.75,587.889 \n",
       "  \"/>\n",
       "<polyline clip-path=\"url(#clip570)\" style=\"stroke:#000000; stroke-width:4; stroke-opacity:1; fill:none\" points=\"\n",
       "  226.232,311.011 251.75,311.011 \n",
       "  \"/>\n",
       "<path clip-path=\"url(#clip570)\" d=\"M 0 0 M178.288 1404.32 Q174.677 1404.32 172.848 1407.89 Q171.042 1411.43 171.042 1418.56 Q171.042 1425.66 172.848 1429.23 Q174.677 1432.77 178.288 1432.77 Q181.922 1432.77 183.727 1429.23 Q185.556 1425.66 185.556 1418.56 Q185.556 1411.43 183.727 1407.89 Q181.922 1404.32 178.288 1404.32 M178.288 1400.62 Q184.098 1400.62 187.153 1405.22 Q190.232 1409.81 190.232 1418.56 Q190.232 1427.28 187.153 1431.89 Q184.098 1436.47 178.288 1436.47 Q172.477 1436.47 169.399 1431.89 Q166.343 1427.28 166.343 1418.56 Q166.343 1409.81 169.399 1405.22 Q172.477 1400.62 178.288 1400.62 Z\" fill=\"#000000\" fill-rule=\"evenodd\" fill-opacity=\"1\" /><path clip-path=\"url(#clip570)\" d=\"M 0 0 M142.316 1124.36 L160.672 1124.36 L160.672 1128.3 L146.598 1128.3 L146.598 1136.77 Q147.616 1136.42 148.635 1136.26 Q149.653 1136.08 150.672 1136.08 Q156.459 1136.08 159.839 1139.25 Q163.218 1142.42 163.218 1147.84 Q163.218 1153.42 159.746 1156.52 Q156.274 1159.6 149.954 1159.6 Q147.778 1159.6 145.51 1159.23 Q143.265 1158.86 140.857 1158.11 L140.857 1153.42 Q142.941 1154.55 145.163 1155.11 Q147.385 1155.66 149.862 1155.66 Q153.866 1155.66 156.204 1153.55 Q158.542 1151.45 158.542 1147.84 Q158.542 1144.23 156.204 1142.12 Q153.866 1140.01 149.862 1140.01 Q147.987 1140.01 146.112 1140.43 Q144.26 1140.85 142.316 1141.73 L142.316 1124.36 Z\" fill=\"#000000\" fill-rule=\"evenodd\" fill-opacity=\"1\" /><path clip-path=\"url(#clip570)\" d=\"M 0 0 M178.288 1127.44 Q174.677 1127.44 172.848 1131.01 Q171.042 1134.55 171.042 1141.68 Q171.042 1148.79 172.848 1152.35 Q174.677 1155.89 178.288 1155.89 Q181.922 1155.89 183.727 1152.35 Q185.556 1148.79 185.556 1141.68 Q185.556 1134.55 183.727 1131.01 Q181.922 1127.44 178.288 1127.44 M178.288 1123.74 Q184.098 1123.74 187.153 1128.35 Q190.232 1132.93 190.232 1141.68 Q190.232 1150.41 187.153 1155.01 Q184.098 1159.6 178.288 1159.6 Q172.477 1159.6 169.399 1155.01 Q166.343 1150.41 166.343 1141.68 Q166.343 1132.93 169.399 1128.35 Q172.477 1123.74 178.288 1123.74 Z\" fill=\"#000000\" fill-rule=\"evenodd\" fill-opacity=\"1\" /><path clip-path=\"url(#clip570)\" d=\"M 0 0 M116.297 878.111 L123.936 878.111 L123.936 851.746 L115.626 853.413 L115.626 849.153 L123.89 847.487 L128.566 847.487 L128.566 878.111 L136.204 878.111 L136.204 882.047 L116.297 882.047 L116.297 878.111 Z\" fill=\"#000000\" fill-rule=\"evenodd\" fill-opacity=\"1\" /><path clip-path=\"url(#clip570)\" d=\"M 0 0 M151.274 850.565 Q147.663 850.565 145.834 854.13 Q144.029 857.672 144.029 864.801 Q144.029 871.908 145.834 875.473 Q147.663 879.014 151.274 879.014 Q154.908 879.014 156.714 875.473 Q158.542 871.908 158.542 864.801 Q158.542 857.672 156.714 854.13 Q154.908 850.565 151.274 850.565 M151.274 846.862 Q157.084 846.862 160.14 851.468 Q163.218 856.051 163.218 864.801 Q163.218 873.528 160.14 878.135 Q157.084 882.718 151.274 882.718 Q145.464 882.718 142.385 878.135 Q139.329 873.528 139.329 864.801 Q139.329 856.051 142.385 851.468 Q145.464 846.862 151.274 846.862 Z\" fill=\"#000000\" fill-rule=\"evenodd\" fill-opacity=\"1\" /><path clip-path=\"url(#clip570)\" d=\"M 0 0 M178.288 850.565 Q174.677 850.565 172.848 854.13 Q171.042 857.672 171.042 864.801 Q171.042 871.908 172.848 875.473 Q174.677 879.014 178.288 879.014 Q181.922 879.014 183.727 875.473 Q185.556 871.908 185.556 864.801 Q185.556 857.672 183.727 854.13 Q181.922 850.565 178.288 850.565 M178.288 846.862 Q184.098 846.862 187.153 851.468 Q190.232 856.051 190.232 864.801 Q190.232 873.528 187.153 878.135 Q184.098 882.718 178.288 882.718 Q172.477 882.718 169.399 878.135 Q166.343 873.528 166.343 864.801 Q166.343 856.051 169.399 851.468 Q172.477 846.862 178.288 846.862 Z\" fill=\"#000000\" fill-rule=\"evenodd\" fill-opacity=\"1\" /><path clip-path=\"url(#clip570)\" d=\"M 0 0 M117.293 601.233 L124.931 601.233 L124.931 574.868 L116.621 576.535 L116.621 572.275 L124.885 570.609 L129.561 570.609 L129.561 601.233 L137.2 601.233 L137.2 605.169 L117.293 605.169 L117.293 601.233 Z\" fill=\"#000000\" fill-rule=\"evenodd\" fill-opacity=\"1\" /><path clip-path=\"url(#clip570)\" d=\"M 0 0 M142.316 570.609 L160.672 570.609 L160.672 574.544 L146.598 574.544 L146.598 583.016 Q147.616 582.669 148.635 582.507 Q149.653 582.322 150.672 582.322 Q156.459 582.322 159.839 585.493 Q163.218 588.664 163.218 594.081 Q163.218 599.659 159.746 602.761 Q156.274 605.84 149.954 605.84 Q147.778 605.84 145.51 605.47 Q143.265 605.099 140.857 604.358 L140.857 599.659 Q142.941 600.794 145.163 601.349 Q147.385 601.905 149.862 601.905 Q153.866 601.905 156.204 599.798 Q158.542 597.692 158.542 594.081 Q158.542 590.47 156.204 588.363 Q153.866 586.257 149.862 586.257 Q147.987 586.257 146.112 586.673 Q144.26 587.09 142.316 587.97 L142.316 570.609 Z\" fill=\"#000000\" fill-rule=\"evenodd\" fill-opacity=\"1\" /><path clip-path=\"url(#clip570)\" d=\"M 0 0 M178.288 573.687 Q174.677 573.687 172.848 577.252 Q171.042 580.794 171.042 587.923 Q171.042 595.03 172.848 598.595 Q174.677 602.136 178.288 602.136 Q181.922 602.136 183.727 598.595 Q185.556 595.03 185.556 587.923 Q185.556 580.794 183.727 577.252 Q181.922 573.687 178.288 573.687 M178.288 569.984 Q184.098 569.984 187.153 574.59 Q190.232 579.173 190.232 587.923 Q190.232 596.65 187.153 601.257 Q184.098 605.84 178.288 605.84 Q172.477 605.84 169.399 601.257 Q166.343 596.65 166.343 587.923 Q166.343 579.173 169.399 574.59 Q172.477 569.984 178.288 569.984 Z\" fill=\"#000000\" fill-rule=\"evenodd\" fill-opacity=\"1\" /><path clip-path=\"url(#clip570)\" d=\"M 0 0 M119.885 324.355 L136.204 324.355 L136.204 328.291 L114.26 328.291 L114.26 324.355 Q116.922 321.601 121.505 316.971 Q126.112 312.318 127.292 310.976 Q129.538 308.453 130.417 306.717 Q131.32 304.957 131.32 303.268 Q131.32 300.513 129.376 298.777 Q127.455 297.041 124.353 297.041 Q122.154 297.041 119.7 297.805 Q117.269 298.569 114.492 300.119 L114.492 295.397 Q117.316 294.263 119.769 293.684 Q122.223 293.106 124.26 293.106 Q129.63 293.106 132.825 295.791 Q136.019 298.476 136.019 302.967 Q136.019 305.096 135.209 307.018 Q134.422 308.916 132.316 311.508 Q131.737 312.18 128.635 315.397 Q125.533 318.592 119.885 324.355 Z\" fill=\"#000000\" fill-rule=\"evenodd\" fill-opacity=\"1\" /><path clip-path=\"url(#clip570)\" d=\"M 0 0 M151.274 296.809 Q147.663 296.809 145.834 300.374 Q144.029 303.916 144.029 311.045 Q144.029 318.152 145.834 321.717 Q147.663 325.258 151.274 325.258 Q154.908 325.258 156.714 321.717 Q158.542 318.152 158.542 311.045 Q158.542 303.916 156.714 300.374 Q154.908 296.809 151.274 296.809 M151.274 293.106 Q157.084 293.106 160.14 297.712 Q163.218 302.295 163.218 311.045 Q163.218 319.772 160.14 324.379 Q157.084 328.962 151.274 328.962 Q145.464 328.962 142.385 324.379 Q139.329 319.772 139.329 311.045 Q139.329 302.295 142.385 297.712 Q145.464 293.106 151.274 293.106 Z\" fill=\"#000000\" fill-rule=\"evenodd\" fill-opacity=\"1\" /><path clip-path=\"url(#clip570)\" d=\"M 0 0 M178.288 296.809 Q174.677 296.809 172.848 300.374 Q171.042 303.916 171.042 311.045 Q171.042 318.152 172.848 321.717 Q174.677 325.258 178.288 325.258 Q181.922 325.258 183.727 321.717 Q185.556 318.152 185.556 311.045 Q185.556 303.916 183.727 300.374 Q181.922 296.809 178.288 296.809 M178.288 293.106 Q184.098 293.106 187.153 297.712 Q190.232 302.295 190.232 311.045 Q190.232 319.772 187.153 324.379 Q184.098 328.962 178.288 328.962 Q172.477 328.962 169.399 324.379 Q166.343 319.772 166.343 311.045 Q166.343 302.295 169.399 297.712 Q172.477 293.106 178.288 293.106 Z\" fill=\"#000000\" fill-rule=\"evenodd\" fill-opacity=\"1\" /><path clip-path=\"url(#clip570)\" d=\"M 0 0 M20.1444 809.563 L26.9239 809.563 Q23.9002 812.81 22.4043 816.502 Q20.9083 820.162 20.9083 824.3 Q20.9083 832.448 25.9054 836.777 Q30.8707 841.105 40.2919 841.105 Q49.6813 841.105 54.6784 836.777 Q59.6436 832.448 59.6436 824.3 Q59.6436 820.162 58.1477 816.502 Q56.6518 812.81 53.6281 809.563 L60.3439 809.563 Q62.6355 812.937 63.7814 816.725 Q64.9272 820.481 64.9272 824.682 Q64.9272 835.472 58.3387 841.678 Q51.7183 847.885 40.2919 847.885 Q28.8336 847.885 22.2451 841.678 Q15.6248 835.472 15.6248 824.682 Q15.6248 820.417 16.7706 816.661 Q17.8846 812.874 20.1444 809.563 Z\" fill=\"#000000\" fill-rule=\"evenodd\" fill-opacity=\"1\" /><path clip-path=\"url(#clip570)\" d=\"M 0 0 M14.479 783.241 L14.479 769.746 L19.0304 769.746 L19.0304 777.385 L68.0464 777.385 L68.0464 769.746 L72.5979 769.746 L72.5979 783.241 L14.479 783.241 Z\" fill=\"#000000\" fill-rule=\"evenodd\" fill-opacity=\"1\" /><path clip-path=\"url(#clip570)\" d=\"M 0 0 M35.1993 735.849 Q31.2526 733.652 29.3747 730.597 Q27.4968 727.541 27.4968 723.404 Q27.4968 717.834 31.4117 714.81 Q35.2948 711.786 42.4881 711.786 L64.0042 711.786 L64.0042 717.674 L42.679 717.674 Q37.5546 717.674 35.072 719.489 Q32.5894 721.303 32.5894 725.027 Q32.5894 729.578 35.6131 732.22 Q38.6368 734.862 43.8567 734.862 L64.0042 734.862 L64.0042 740.75 L42.679 740.75 Q37.5228 740.75 35.072 742.564 Q32.5894 744.379 32.5894 748.166 Q32.5894 752.654 35.6449 755.296 Q38.6686 757.938 43.8567 757.938 L64.0042 757.938 L64.0042 763.826 L28.3562 763.826 L28.3562 757.938 L33.8944 757.938 Q30.616 755.932 29.0564 753.131 Q27.4968 750.331 27.4968 746.479 Q27.4968 742.596 29.4702 739.891 Q31.4436 737.154 35.1993 735.849 Z\" fill=\"#000000\" fill-rule=\"evenodd\" fill-opacity=\"1\" /><path clip-path=\"url(#clip570)\" d=\"M 0 0 M45.7664 682.186 Q39.4007 682.186 35.8996 684.827 Q32.3984 687.437 32.3984 692.18 Q32.3984 696.89 35.8996 699.532 Q39.4007 702.142 45.7664 702.142 Q52.1003 702.142 55.6014 699.532 Q59.1026 696.89 59.1026 692.18 Q59.1026 687.437 55.6014 684.827 Q52.1003 682.186 45.7664 682.186 M59.58 676.329 Q68.683 676.329 73.1071 680.371 Q77.5631 684.414 77.5631 692.753 Q77.5631 695.84 77.0857 698.577 Q76.6401 701.315 75.6852 703.893 L69.9879 703.893 Q71.3884 701.315 72.0568 698.8 Q72.7252 696.286 72.7252 693.676 Q72.7252 687.915 69.7015 685.05 Q66.7096 682.186 60.6303 682.186 L57.7339 682.186 Q60.885 684 62.4446 686.833 Q64.0042 689.665 64.0042 693.612 Q64.0042 700.169 59.0071 704.179 Q54.01 708.19 45.7664 708.19 Q37.491 708.19 32.4939 704.179 Q27.4968 700.169 27.4968 693.612 Q27.4968 689.665 29.0564 686.833 Q30.616 684 33.7671 682.186 L28.3562 682.186 L28.3562 676.329 L59.58 676.329 Z\" fill=\"#000000\" fill-rule=\"evenodd\" fill-opacity=\"1\" /><path clip-path=\"url(#clip570)\" d=\"M 0 0 M16.4842 659.778 L16.4842 654.367 L70.0516 670.918 L70.0516 676.329 L16.4842 659.778 Z\" fill=\"#000000\" fill-rule=\"evenodd\" fill-opacity=\"1\" /><path clip-path=\"url(#clip570)\" d=\"M 0 0 M14.479 648.225 L14.479 642.368 L64.0042 642.368 L64.0042 648.225 L14.479 648.225 Z\" fill=\"#000000\" fill-rule=\"evenodd\" fill-opacity=\"1\" /><path clip-path=\"url(#clip570)\" d=\"M 0 0 M14.479 622.539 L72.5979 622.539 L72.5979 636.034 L68.0464 636.034 L68.0464 628.427 L19.0304 628.427 L19.0304 636.034 L14.479 636.034 L14.479 622.539 Z\" fill=\"#000000\" fill-rule=\"evenodd\" fill-opacity=\"1\" /><circle clip-path=\"url(#clip572)\" cx=\"286.417\" cy=\"86.1857\" r=\"14\" fill=\"#da70d6\" fill-rule=\"evenodd\" fill-opacity=\"1\" stroke=\"#000000\" stroke-opacity=\"1\" stroke-width=\"3.2\"/>\n",
       "<circle clip-path=\"url(#clip572)\" cx=\"397.424\" cy=\"211.888\" r=\"14\" fill=\"#da70d6\" fill-rule=\"evenodd\" fill-opacity=\"1\" stroke=\"#000000\" stroke-opacity=\"1\" stroke-width=\"3.2\"/>\n",
       "<circle clip-path=\"url(#clip572)\" cx=\"509.768\" cy=\"481.014\" r=\"14\" fill=\"#da70d6\" fill-rule=\"evenodd\" fill-opacity=\"1\" stroke=\"#000000\" stroke-opacity=\"1\" stroke-width=\"3.2\"/>\n",
       "<circle clip-path=\"url(#clip572)\" cx=\"620.776\" cy=\"760.107\" r=\"14\" fill=\"#da70d6\" fill-rule=\"evenodd\" fill-opacity=\"1\" stroke=\"#000000\" stroke-opacity=\"1\" stroke-width=\"3.2\"/>\n",
       "<circle clip-path=\"url(#clip572)\" cx=\"777.256\" cy=\"848.708\" r=\"14\" fill=\"#da70d6\" fill-rule=\"evenodd\" fill-opacity=\"1\" stroke=\"#000000\" stroke-opacity=\"1\" stroke-width=\"3.2\"/>\n",
       "<circle clip-path=\"url(#clip572)\" cx=\"999.27\" cy=\"1004.87\" r=\"14\" fill=\"#da70d6\" fill-rule=\"evenodd\" fill-opacity=\"1\" stroke=\"#000000\" stroke-opacity=\"1\" stroke-width=\"3.2\"/>\n",
       "<circle clip-path=\"url(#clip572)\" cx=\"1178.49\" cy=\"1113.4\" r=\"14\" fill=\"#da70d6\" fill-rule=\"evenodd\" fill-opacity=\"1\" stroke=\"#000000\" stroke-opacity=\"1\" stroke-width=\"3.2\"/>\n",
       "<circle clip-path=\"url(#clip572)\" cx=\"1400.5\" cy=\"1218.06\" r=\"14\" fill=\"#da70d6\" fill-rule=\"evenodd\" fill-opacity=\"1\" stroke=\"#000000\" stroke-opacity=\"1\" stroke-width=\"3.2\"/>\n",
       "<circle clip-path=\"url(#clip572)\" cx=\"1623.85\" cy=\"1292.27\" r=\"14\" fill=\"#da70d6\" fill-rule=\"evenodd\" fill-opacity=\"1\" stroke=\"#000000\" stroke-opacity=\"1\" stroke-width=\"3.2\"/>\n",
       "<circle clip-path=\"url(#clip572)\" cx=\"2065.21\" cy=\"1329.37\" r=\"14\" fill=\"#da70d6\" fill-rule=\"evenodd\" fill-opacity=\"1\" stroke=\"#000000\" stroke-opacity=\"1\" stroke-width=\"3.2\"/>\n",
       "<circle clip-path=\"url(#clip572)\" cx=\"2185.58\" cy=\"1368.13\" r=\"14\" fill=\"#da70d6\" fill-rule=\"evenodd\" fill-opacity=\"1\" stroke=\"#000000\" stroke-opacity=\"1\" stroke-width=\"3.2\"/>\n",
       "<circle clip-path=\"url(#clip572)\" cx=\"2292.57\" cy=\"1378.1\" r=\"14\" fill=\"#da70d6\" fill-rule=\"evenodd\" fill-opacity=\"1\" stroke=\"#000000\" stroke-opacity=\"1\" stroke-width=\"3.2\"/>\n",
       "<polyline clip-path=\"url(#clip572)\" style=\"stroke:#e26f46; stroke-width:4; stroke-opacity:1; fill:none\" points=\"\n",
       "  286.417,86.1857 420.16,374.653 553.904,600.664 687.648,777.74 821.391,916.478 955.135,1025.18 1088.88,1110.34 1222.62,1177.07 1356.37,1229.34 1490.11,1270.3 \n",
       "  1623.85,1302.4 1757.6,1327.54 1891.34,1347.24 2025.08,1362.67 2158.83,1374.76 2292.57,1384.24 \n",
       "  \"/>\n",
       "<polyline clip-path=\"url(#clip572)\" style=\"stroke:#3da44d; stroke-width:4; stroke-opacity:1; fill:none\" points=\"\n",
       "  286.417,86.1857 420.16,374.644 553.904,600.649 687.648,777.723 821.391,916.46 955.135,1025.16 1088.88,1110.32 1222.62,1177.05 1356.37,1229.33 1490.11,1270.29 \n",
       "  1623.85,1302.38 1757.6,1327.53 1891.34,1347.23 2025.08,1362.67 2158.83,1374.76 2292.57,1384.23 \n",
       "  \"/>\n",
       "<path clip-path=\"url(#clip570)\" d=\"\n",
       "M1588.07 335.029 L2281.87 335.029 L2281.87 93.1086 L1588.07 93.1086  Z\n",
       "  \" fill=\"#ffffff\" fill-rule=\"evenodd\" fill-opacity=\"1\"/>\n",
       "<polyline clip-path=\"url(#clip570)\" style=\"stroke:#000000; stroke-width:4; stroke-opacity:1; fill:none\" points=\"\n",
       "  1588.07,335.029 2281.87,335.029 2281.87,93.1086 1588.07,93.1086 1588.07,335.029 \n",
       "  \"/>\n",
       "<circle clip-path=\"url(#clip570)\" cx=\"1682.58\" cy=\"153.589\" r=\"23\" fill=\"#da70d6\" fill-rule=\"evenodd\" fill-opacity=\"1\" stroke=\"#000000\" stroke-opacity=\"1\" stroke-width=\"5.12\"/>\n",
       "<path clip-path=\"url(#clip570)\" d=\"M 0 0 M1777.09 144.943 L1781.35 144.943 L1786.68 165.174 L1791.98 144.943 L1797 144.943 L1802.33 165.174 L1807.63 144.943 L1811.89 144.943 L1805.1 170.869 L1800.08 170.869 L1794.5 149.619 L1788.9 170.869 L1783.88 170.869 L1777.09 144.943 Z\" fill=\"#000000\" fill-rule=\"evenodd\" fill-opacity=\"1\" /><path clip-path=\"url(#clip570)\" d=\"M 0 0 M1828.14 157.836 Q1822.97 157.836 1820.98 159.017 Q1818.99 160.197 1818.99 163.045 Q1818.99 165.313 1820.47 166.656 Q1821.98 167.975 1824.55 167.975 Q1828.09 167.975 1830.22 165.475 Q1832.37 162.952 1832.37 158.785 L1832.37 157.836 L1828.14 157.836 M1836.63 156.077 L1836.63 170.869 L1832.37 170.869 L1832.37 166.933 Q1830.91 169.295 1828.74 170.429 Q1826.56 171.54 1823.41 171.54 Q1819.43 171.54 1817.07 169.318 Q1814.73 167.072 1814.73 163.322 Q1814.73 158.947 1817.65 156.725 Q1820.59 154.503 1826.4 154.503 L1832.37 154.503 L1832.37 154.086 Q1832.37 151.147 1830.43 149.549 Q1828.51 147.929 1825.01 147.929 Q1822.79 147.929 1820.68 148.461 Q1818.58 148.994 1816.63 150.059 L1816.63 146.123 Q1818.97 145.221 1821.17 144.781 Q1823.37 144.318 1825.45 144.318 Q1831.08 144.318 1833.85 147.234 Q1836.63 150.151 1836.63 156.077 Z\" fill=\"#000000\" fill-rule=\"evenodd\" fill-opacity=\"1\" /><path clip-path=\"url(#clip570)\" d=\"M 0 0 M1856.12 148.924 Q1855.4 148.508 1854.55 148.322 Q1853.71 148.114 1852.7 148.114 Q1849.09 148.114 1847.14 150.475 Q1845.22 152.813 1845.22 157.211 L1845.22 170.869 L1840.94 170.869 L1840.94 144.943 L1845.22 144.943 L1845.22 148.971 Q1846.56 146.609 1848.71 145.475 Q1850.87 144.318 1853.95 144.318 Q1854.39 144.318 1854.92 144.387 Q1855.45 144.434 1856.1 144.549 L1856.12 148.924 Z\" fill=\"#000000\" fill-rule=\"evenodd\" fill-opacity=\"1\" /><path clip-path=\"url(#clip570)\" d=\"M 0 0 M1864.8 137.582 L1864.8 144.943 L1873.58 144.943 L1873.58 148.253 L1864.8 148.253 L1864.8 162.327 Q1864.8 165.498 1865.66 166.401 Q1866.54 167.304 1869.2 167.304 L1873.58 167.304 L1873.58 170.869 L1869.2 170.869 Q1864.27 170.869 1862.4 169.04 Q1860.52 167.188 1860.52 162.327 L1860.52 148.253 L1857.4 148.253 L1857.4 144.943 L1860.52 144.943 L1860.52 137.582 L1864.8 137.582 Z\" fill=\"#000000\" fill-rule=\"evenodd\" fill-opacity=\"1\" /><path clip-path=\"url(#clip570)\" d=\"M 0 0 M1888.09 147.929 Q1884.66 147.929 1882.67 150.614 Q1880.68 153.276 1880.68 157.929 Q1880.68 162.582 1882.65 165.267 Q1884.64 167.929 1888.09 167.929 Q1891.49 167.929 1893.48 165.244 Q1895.47 162.558 1895.47 157.929 Q1895.47 153.322 1893.48 150.637 Q1891.49 147.929 1888.09 147.929 M1888.09 144.318 Q1893.65 144.318 1896.82 147.929 Q1899.99 151.54 1899.99 157.929 Q1899.99 164.295 1896.82 167.929 Q1893.65 171.54 1888.09 171.54 Q1882.51 171.54 1879.34 167.929 Q1876.19 164.295 1876.19 157.929 Q1876.19 151.54 1879.34 147.929 Q1882.51 144.318 1888.09 144.318 Z\" fill=\"#000000\" fill-rule=\"evenodd\" fill-opacity=\"1\" /><path clip-path=\"url(#clip570)\" d=\"M 0 0 M1916.58 132.79 L1921.19 132.79 L1913.65 141.494 L1910.1 141.494 L1916.58 132.79 M1920.98 145.707 L1920.98 149.734 Q1919.18 148.809 1917.23 148.346 Q1915.29 147.883 1913.21 147.883 Q1910.03 147.883 1908.44 148.855 Q1906.86 149.827 1906.86 151.771 Q1906.86 153.253 1908 154.109 Q1909.13 154.943 1912.56 155.707 L1914.02 156.031 Q1918.55 157.003 1920.45 158.785 Q1922.37 160.545 1922.37 163.716 Q1922.37 167.327 1919.5 169.433 Q1916.65 171.54 1911.65 171.54 Q1909.57 171.54 1907.3 171.123 Q1905.06 170.73 1902.56 169.92 L1902.56 165.521 Q1904.92 166.748 1907.21 167.373 Q1909.5 167.975 1911.75 167.975 Q1914.76 167.975 1916.38 166.957 Q1918 165.915 1918 164.04 Q1918 162.304 1916.82 161.378 Q1915.66 160.452 1911.7 159.596 L1910.22 159.248 Q1906.26 158.415 1904.5 156.702 Q1902.74 154.966 1902.74 151.957 Q1902.74 148.299 1905.34 146.309 Q1907.93 144.318 1912.7 144.318 Q1915.06 144.318 1917.14 144.665 Q1919.22 145.012 1920.98 145.707 Z\" fill=\"#000000\" fill-rule=\"evenodd\" fill-opacity=\"1\" /><path clip-path=\"url(#clip570)\" d=\"M 0 0 M1945.5 145.938 L1945.5 149.92 Q1943.69 148.924 1941.86 148.438 Q1940.06 147.929 1938.21 147.929 Q1934.06 147.929 1931.77 150.568 Q1929.48 153.184 1929.48 157.929 Q1929.48 162.674 1931.77 165.313 Q1934.06 167.929 1938.21 167.929 Q1940.06 167.929 1941.86 167.443 Q1943.69 166.933 1945.5 165.938 L1945.5 169.873 Q1943.71 170.707 1941.79 171.123 Q1939.9 171.54 1937.74 171.54 Q1931.89 171.54 1928.44 167.859 Q1924.99 164.179 1924.99 157.929 Q1924.99 151.586 1928.46 147.952 Q1931.96 144.318 1938.02 144.318 Q1939.99 144.318 1941.86 144.735 Q1943.74 145.128 1945.5 145.938 Z\" fill=\"#000000\" fill-rule=\"evenodd\" fill-opacity=\"1\" /><path clip-path=\"url(#clip570)\" d=\"M 0 0 M1949.96 144.943 L1954.22 144.943 L1954.22 170.869 L1949.96 170.869 L1949.96 144.943 M1949.96 134.85 L1954.22 134.85 L1954.22 140.244 L1949.96 140.244 L1949.96 134.85 Z\" fill=\"#000000\" fill-rule=\"evenodd\" fill-opacity=\"1\" /><path clip-path=\"url(#clip570)\" d=\"M 0 0 M1993.95 149.92 Q1995.54 147.049 1997.77 145.684 Q1999.99 144.318 2003 144.318 Q2007.05 144.318 2009.25 147.165 Q2011.45 149.989 2011.45 155.221 L2011.45 170.869 L2007.16 170.869 L2007.16 155.359 Q2007.16 151.633 2005.84 149.827 Q2004.52 148.022 2001.82 148.022 Q1998.51 148.022 1996.58 150.221 Q1994.66 152.42 1994.66 156.216 L1994.66 170.869 L1990.38 170.869 L1990.38 155.359 Q1990.38 151.609 1989.06 149.827 Q1987.74 148.022 1984.99 148.022 Q1981.72 148.022 1979.8 150.244 Q1977.88 152.443 1977.88 156.216 L1977.88 170.869 L1973.6 170.869 L1973.6 144.943 L1977.88 144.943 L1977.88 148.971 Q1979.34 146.586 1981.38 145.452 Q1983.41 144.318 1986.21 144.318 Q1989.04 144.318 1991.01 145.753 Q1993 147.188 1993.95 149.92 Z\" fill=\"#000000\" fill-rule=\"evenodd\" fill-opacity=\"1\" /><path clip-path=\"url(#clip570)\" d=\"M 0 0 M2015.91 144.943 L2020.17 144.943 L2020.17 170.869 L2015.91 170.869 L2015.91 144.943 M2015.91 134.85 L2020.17 134.85 L2020.17 140.244 L2015.91 140.244 L2015.91 134.85 Z\" fill=\"#000000\" fill-rule=\"evenodd\" fill-opacity=\"1\" /><path clip-path=\"url(#clip570)\" d=\"M 0 0 M2046.82 156.841 L2046.82 158.924 L2027.23 158.924 Q2027.51 163.322 2029.87 165.637 Q2032.26 167.929 2036.49 167.929 Q2038.95 167.929 2041.24 167.327 Q2043.55 166.725 2045.82 165.521 L2045.82 169.549 Q2043.53 170.521 2041.12 171.031 Q2038.71 171.54 2036.24 171.54 Q2030.03 171.54 2026.4 167.929 Q2022.79 164.318 2022.79 158.16 Q2022.79 151.795 2026.21 148.068 Q2029.66 144.318 2035.5 144.318 Q2040.73 144.318 2043.76 147.697 Q2046.82 151.054 2046.82 156.841 M2042.56 155.591 Q2042.51 152.096 2040.59 150.012 Q2038.69 147.929 2035.54 147.929 Q2031.98 147.929 2029.83 149.943 Q2027.7 151.957 2027.37 155.614 L2042.56 155.591 Z\" fill=\"#000000\" fill-rule=\"evenodd\" fill-opacity=\"1\" /><path clip-path=\"url(#clip570)\" d=\"M 0 0 M2066.31 148.924 Q2065.59 148.508 2064.73 148.322 Q2063.9 148.114 2062.88 148.114 Q2059.27 148.114 2057.32 150.475 Q2055.4 152.813 2055.4 157.211 L2055.4 170.869 L2051.12 170.869 L2051.12 144.943 L2055.4 144.943 L2055.4 148.971 Q2056.75 146.609 2058.9 145.475 Q2061.05 144.318 2064.13 144.318 Q2064.57 144.318 2065.1 144.387 Q2065.64 144.434 2066.28 144.549 L2066.31 148.924 Z\" fill=\"#000000\" fill-rule=\"evenodd\" fill-opacity=\"1\" /><path clip-path=\"url(#clip570)\" d=\"M 0 0 M2068.92 144.943 L2089.15 144.943 L2089.15 148.832 L2073.14 167.466 L2089.15 167.466 L2089.15 170.869 L2068.34 170.869 L2068.34 166.98 L2084.36 148.346 L2068.92 148.346 L2068.92 144.943 Z\" fill=\"#000000\" fill-rule=\"evenodd\" fill-opacity=\"1\" /><path clip-path=\"url(#clip570)\" d=\"M 0 0 M2103.67 147.929 Q2100.24 147.929 2098.25 150.614 Q2096.26 153.276 2096.26 157.929 Q2096.26 162.582 2098.23 165.267 Q2100.22 167.929 2103.67 167.929 Q2107.07 167.929 2109.06 165.244 Q2111.05 162.558 2111.05 157.929 Q2111.05 153.322 2109.06 150.637 Q2107.07 147.929 2103.67 147.929 M2103.67 144.318 Q2109.22 144.318 2112.39 147.929 Q2115.57 151.54 2115.57 157.929 Q2115.57 164.295 2112.39 167.929 Q2109.22 171.54 2103.67 171.54 Q2098.09 171.54 2094.92 167.929 Q2091.77 164.295 2091.77 157.929 Q2091.77 151.54 2094.92 147.929 Q2098.09 144.318 2103.67 144.318 Z\" fill=\"#000000\" fill-rule=\"evenodd\" fill-opacity=\"1\" /><path clip-path=\"url(#clip570)\" d=\"M 0 0 M2141.58 155.221 L2141.58 170.869 L2137.32 170.869 L2137.32 155.359 Q2137.32 151.679 2135.89 149.85 Q2134.45 148.022 2131.58 148.022 Q2128.13 148.022 2126.14 150.221 Q2124.15 152.42 2124.15 156.216 L2124.15 170.869 L2119.87 170.869 L2119.87 144.943 L2124.15 144.943 L2124.15 148.971 Q2125.68 146.633 2127.74 145.475 Q2129.82 144.318 2132.53 144.318 Q2137 144.318 2139.29 147.096 Q2141.58 149.85 2141.58 155.221 Z\" fill=\"#000000\" fill-rule=\"evenodd\" fill-opacity=\"1\" /><path clip-path=\"url(#clip570)\" d=\"M 0 0 M2168.23 156.841 L2168.23 158.924 L2148.64 158.924 Q2148.92 163.322 2151.28 165.637 Q2153.67 167.929 2157.9 167.929 Q2160.36 167.929 2162.65 167.327 Q2164.96 166.725 2167.23 165.521 L2167.23 169.549 Q2164.94 170.521 2162.53 171.031 Q2160.13 171.54 2157.65 171.54 Q2151.44 171.54 2147.81 167.929 Q2144.2 164.318 2144.2 158.16 Q2144.2 151.795 2147.63 148.068 Q2151.07 144.318 2156.91 144.318 Q2162.14 144.318 2165.17 147.697 Q2168.23 151.054 2168.23 156.841 M2163.97 155.591 Q2163.92 152.096 2162 150.012 Q2160.1 147.929 2156.95 147.929 Q2153.39 147.929 2151.24 149.943 Q2149.11 151.957 2148.78 155.614 L2163.97 155.591 Z\" fill=\"#000000\" fill-rule=\"evenodd\" fill-opacity=\"1\" /><polyline clip-path=\"url(#clip570)\" style=\"stroke:#e26f46; stroke-width:4; stroke-opacity:1; fill:none\" points=\"\n",
       "  1611.7,214.069 1753.47,214.069 \n",
       "  \"/>\n",
       "<path clip-path=\"url(#clip570)\" d=\"M 0 0 M1777.09 205.423 L1781.35 205.423 L1786.68 225.654 L1791.98 205.423 L1797 205.423 L1802.33 225.654 L1807.63 205.423 L1811.89 205.423 L1805.1 231.349 L1800.08 231.349 L1794.5 210.099 L1788.9 231.349 L1783.88 231.349 L1777.09 205.423 Z\" fill=\"#000000\" fill-rule=\"evenodd\" fill-opacity=\"1\" /><path clip-path=\"url(#clip570)\" d=\"M 0 0 M1828.14 218.316 Q1822.97 218.316 1820.98 219.497 Q1818.99 220.677 1818.99 223.525 Q1818.99 225.793 1820.47 227.136 Q1821.98 228.455 1824.55 228.455 Q1828.09 228.455 1830.22 225.955 Q1832.37 223.432 1832.37 219.265 L1832.37 218.316 L1828.14 218.316 M1836.63 216.557 L1836.63 231.349 L1832.37 231.349 L1832.37 227.413 Q1830.91 229.775 1828.74 230.909 Q1826.56 232.02 1823.41 232.02 Q1819.43 232.02 1817.07 229.798 Q1814.73 227.552 1814.73 223.802 Q1814.73 219.427 1817.65 217.205 Q1820.59 214.983 1826.4 214.983 L1832.37 214.983 L1832.37 214.566 Q1832.37 211.627 1830.43 210.029 Q1828.51 208.409 1825.01 208.409 Q1822.79 208.409 1820.68 208.941 Q1818.58 209.474 1816.63 210.539 L1816.63 206.603 Q1818.97 205.701 1821.17 205.261 Q1823.37 204.798 1825.45 204.798 Q1831.08 204.798 1833.85 207.714 Q1836.63 210.631 1836.63 216.557 Z\" fill=\"#000000\" fill-rule=\"evenodd\" fill-opacity=\"1\" /><path clip-path=\"url(#clip570)\" d=\"M 0 0 M1856.12 209.404 Q1855.4 208.988 1854.55 208.802 Q1853.71 208.594 1852.7 208.594 Q1849.09 208.594 1847.14 210.955 Q1845.22 213.293 1845.22 217.691 L1845.22 231.349 L1840.94 231.349 L1840.94 205.423 L1845.22 205.423 L1845.22 209.451 Q1846.56 207.089 1848.71 205.955 Q1850.87 204.798 1853.95 204.798 Q1854.39 204.798 1854.92 204.867 Q1855.45 204.914 1856.1 205.029 L1856.12 209.404 Z\" fill=\"#000000\" fill-rule=\"evenodd\" fill-opacity=\"1\" /><path clip-path=\"url(#clip570)\" d=\"M 0 0 M1864.8 198.062 L1864.8 205.423 L1873.58 205.423 L1873.58 208.733 L1864.8 208.733 L1864.8 222.807 Q1864.8 225.978 1865.66 226.881 Q1866.54 227.784 1869.2 227.784 L1873.58 227.784 L1873.58 231.349 L1869.2 231.349 Q1864.27 231.349 1862.4 229.52 Q1860.52 227.668 1860.52 222.807 L1860.52 208.733 L1857.4 208.733 L1857.4 205.423 L1860.52 205.423 L1860.52 198.062 L1864.8 198.062 Z\" fill=\"#000000\" fill-rule=\"evenodd\" fill-opacity=\"1\" /><path clip-path=\"url(#clip570)\" d=\"M 0 0 M1888.09 208.409 Q1884.66 208.409 1882.67 211.094 Q1880.68 213.756 1880.68 218.409 Q1880.68 223.062 1882.65 225.747 Q1884.64 228.409 1888.09 228.409 Q1891.49 228.409 1893.48 225.724 Q1895.47 223.038 1895.47 218.409 Q1895.47 213.802 1893.48 211.117 Q1891.49 208.409 1888.09 208.409 M1888.09 204.798 Q1893.65 204.798 1896.82 208.409 Q1899.99 212.02 1899.99 218.409 Q1899.99 224.775 1896.82 228.409 Q1893.65 232.02 1888.09 232.02 Q1882.51 232.02 1879.34 228.409 Q1876.19 224.775 1876.19 218.409 Q1876.19 212.02 1879.34 208.409 Q1882.51 204.798 1888.09 204.798 Z\" fill=\"#000000\" fill-rule=\"evenodd\" fill-opacity=\"1\" /><path clip-path=\"url(#clip570)\" d=\"M 0 0 M1916.58 193.27 L1921.19 193.27 L1913.65 201.974 L1910.1 201.974 L1916.58 193.27 M1920.98 206.187 L1920.98 210.214 Q1919.18 209.289 1917.23 208.826 Q1915.29 208.363 1913.21 208.363 Q1910.03 208.363 1908.44 209.335 Q1906.86 210.307 1906.86 212.251 Q1906.86 213.733 1908 214.589 Q1909.13 215.423 1912.56 216.187 L1914.02 216.511 Q1918.55 217.483 1920.45 219.265 Q1922.37 221.025 1922.37 224.196 Q1922.37 227.807 1919.5 229.913 Q1916.65 232.02 1911.65 232.02 Q1909.57 232.02 1907.3 231.603 Q1905.06 231.21 1902.56 230.4 L1902.56 226.001 Q1904.92 227.228 1907.21 227.853 Q1909.5 228.455 1911.75 228.455 Q1914.76 228.455 1916.38 227.437 Q1918 226.395 1918 224.52 Q1918 222.784 1916.82 221.858 Q1915.66 220.932 1911.7 220.076 L1910.22 219.728 Q1906.26 218.895 1904.5 217.182 Q1902.74 215.446 1902.74 212.437 Q1902.74 208.779 1905.34 206.789 Q1907.93 204.798 1912.7 204.798 Q1915.06 204.798 1917.14 205.145 Q1919.22 205.492 1920.98 206.187 Z\" fill=\"#000000\" fill-rule=\"evenodd\" fill-opacity=\"1\" /><path clip-path=\"url(#clip570)\" d=\"M 0 0 M1945.5 206.418 L1945.5 210.4 Q1943.69 209.404 1941.86 208.918 Q1940.06 208.409 1938.21 208.409 Q1934.06 208.409 1931.77 211.048 Q1929.48 213.664 1929.48 218.409 Q1929.48 223.154 1931.77 225.793 Q1934.06 228.409 1938.21 228.409 Q1940.06 228.409 1941.86 227.923 Q1943.69 227.413 1945.5 226.418 L1945.5 230.353 Q1943.71 231.187 1941.79 231.603 Q1939.9 232.02 1937.74 232.02 Q1931.89 232.02 1928.44 228.339 Q1924.99 224.659 1924.99 218.409 Q1924.99 212.066 1928.46 208.432 Q1931.96 204.798 1938.02 204.798 Q1939.99 204.798 1941.86 205.215 Q1943.74 205.608 1945.5 206.418 Z\" fill=\"#000000\" fill-rule=\"evenodd\" fill-opacity=\"1\" /><path clip-path=\"url(#clip570)\" d=\"M 0 0 M1949.96 205.423 L1954.22 205.423 L1954.22 231.349 L1949.96 231.349 L1949.96 205.423 M1949.96 195.33 L1954.22 195.33 L1954.22 200.724 L1949.96 200.724 L1949.96 195.33 Z\" fill=\"#000000\" fill-rule=\"evenodd\" fill-opacity=\"1\" /><path clip-path=\"url(#clip570)\" d=\"M 0 0 M1985.54 218.316 Q1980.38 218.316 1978.39 219.497 Q1976.4 220.677 1976.4 223.525 Q1976.4 225.793 1977.88 227.136 Q1979.39 228.455 1981.96 228.455 Q1985.5 228.455 1987.63 225.955 Q1989.78 223.432 1989.78 219.265 L1989.78 218.316 L1985.54 218.316 M1994.04 216.557 L1994.04 231.349 L1989.78 231.349 L1989.78 227.413 Q1988.32 229.775 1986.14 230.909 Q1983.97 232.02 1980.82 232.02 Q1976.84 232.02 1974.48 229.798 Q1972.14 227.552 1972.14 223.802 Q1972.14 219.427 1975.06 217.205 Q1978 214.983 1983.81 214.983 L1989.78 214.983 L1989.78 214.566 Q1989.78 211.627 1987.83 210.029 Q1985.91 208.409 1982.42 208.409 Q1980.2 208.409 1978.09 208.941 Q1975.98 209.474 1974.04 210.539 L1974.04 206.603 Q1976.38 205.701 1978.58 205.261 Q1980.77 204.798 1982.86 204.798 Q1988.48 204.798 1991.26 207.714 Q1994.04 210.631 1994.04 216.557 Z\" fill=\"#000000\" fill-rule=\"evenodd\" fill-opacity=\"1\" /><path clip-path=\"url(#clip570)\" d=\"M 0 0 M2020.06 215.701 L2020.06 231.349 L2015.8 231.349 L2015.8 215.839 Q2015.8 212.159 2014.36 210.33 Q2012.93 208.502 2010.06 208.502 Q2006.61 208.502 2004.62 210.701 Q2002.63 212.9 2002.63 216.696 L2002.63 231.349 L1998.34 231.349 L1998.34 205.423 L2002.63 205.423 L2002.63 209.451 Q2004.15 207.113 2006.21 205.955 Q2008.3 204.798 2011.01 204.798 Q2015.47 204.798 2017.76 207.576 Q2020.06 210.33 2020.06 215.701 Z\" fill=\"#000000\" fill-rule=\"evenodd\" fill-opacity=\"1\" /><path clip-path=\"url(#clip570)\" d=\"M 0 0 M2036.31 218.316 Q2031.14 218.316 2029.15 219.497 Q2027.16 220.677 2027.16 223.525 Q2027.16 225.793 2028.64 227.136 Q2030.15 228.455 2032.72 228.455 Q2036.26 228.455 2038.39 225.955 Q2040.54 223.432 2040.54 219.265 L2040.54 218.316 L2036.31 218.316 M2044.8 216.557 L2044.8 231.349 L2040.54 231.349 L2040.54 227.413 Q2039.08 229.775 2036.91 230.909 Q2034.73 232.02 2031.58 232.02 Q2027.6 232.02 2025.24 229.798 Q2022.9 227.552 2022.9 223.802 Q2022.9 219.427 2025.82 217.205 Q2028.76 214.983 2034.57 214.983 L2040.54 214.983 L2040.54 214.566 Q2040.54 211.627 2038.6 210.029 Q2036.68 208.409 2033.18 208.409 Q2030.96 208.409 2028.85 208.941 Q2026.75 209.474 2024.8 210.539 L2024.8 206.603 Q2027.14 205.701 2029.34 205.261 Q2031.54 204.798 2033.62 204.798 Q2039.25 204.798 2042.02 207.714 Q2044.8 210.631 2044.8 216.557 Z\" fill=\"#000000\" fill-rule=\"evenodd\" fill-opacity=\"1\" /><path clip-path=\"url(#clip570)\" d=\"M 0 0 M2049.27 195.33 L2053.53 195.33 L2053.53 231.349 L2049.27 231.349 L2049.27 195.33 Z\" fill=\"#000000\" fill-rule=\"evenodd\" fill-opacity=\"1\" /><path clip-path=\"url(#clip570)\" d=\"M 0 0 M2058 205.423 L2062.26 205.423 L2062.26 231.349 L2058 231.349 L2058 205.423 M2058 195.33 L2062.26 195.33 L2062.26 200.724 L2058 200.724 L2058 195.33 Z\" fill=\"#000000\" fill-rule=\"evenodd\" fill-opacity=\"1\" /><path clip-path=\"url(#clip570)\" d=\"M 0 0 M2070.94 198.062 L2070.94 205.423 L2079.71 205.423 L2079.71 208.733 L2070.94 208.733 L2070.94 222.807 Q2070.94 225.978 2071.79 226.881 Q2072.67 227.784 2075.33 227.784 L2079.71 227.784 L2079.71 231.349 L2075.33 231.349 Q2070.4 231.349 2068.53 229.52 Q2066.65 227.668 2066.65 222.807 L2066.65 208.733 L2063.53 208.733 L2063.53 205.423 L2066.65 205.423 L2066.65 198.062 L2070.94 198.062 Z\" fill=\"#000000\" fill-rule=\"evenodd\" fill-opacity=\"1\" /><path clip-path=\"url(#clip570)\" d=\"M 0 0 M2094.96 233.756 Q2093.16 238.386 2091.45 239.798 Q2089.73 241.21 2086.86 241.21 L2083.46 241.21 L2083.46 237.645 L2085.96 237.645 Q2087.72 237.645 2088.69 236.812 Q2089.66 235.978 2090.84 232.876 L2091.61 230.932 L2081.12 205.423 L2085.64 205.423 L2093.74 225.701 L2101.84 205.423 L2106.35 205.423 L2094.96 233.756 Z\" fill=\"#000000\" fill-rule=\"evenodd\" fill-opacity=\"1\" /><path clip-path=\"url(#clip570)\" d=\"M 0 0 M2129.48 206.418 L2129.48 210.4 Q2127.67 209.404 2125.84 208.918 Q2124.04 208.409 2122.19 208.409 Q2118.04 208.409 2115.75 211.048 Q2113.46 213.664 2113.46 218.409 Q2113.46 223.154 2115.75 225.793 Q2118.04 228.409 2122.19 228.409 Q2124.04 228.409 2125.84 227.923 Q2127.67 227.413 2129.48 226.418 L2129.48 230.353 Q2127.69 231.187 2125.77 231.603 Q2123.88 232.02 2121.72 232.02 Q2115.87 232.02 2112.42 228.339 Q2108.97 224.659 2108.97 218.409 Q2108.97 212.066 2112.44 208.432 Q2115.94 204.798 2122 204.798 Q2123.97 204.798 2125.84 205.215 Q2127.72 205.608 2129.48 206.418 Z\" fill=\"#000000\" fill-rule=\"evenodd\" fill-opacity=\"1\" /><path clip-path=\"url(#clip570)\" d=\"M 0 0 M2132.09 205.423 L2152.32 205.423 L2152.32 209.312 L2136.31 227.946 L2152.32 227.946 L2152.32 231.349 L2131.51 231.349 L2131.51 227.46 L2147.53 208.826 L2132.09 208.826 L2132.09 205.423 Z\" fill=\"#000000\" fill-rule=\"evenodd\" fill-opacity=\"1\" /><path clip-path=\"url(#clip570)\" d=\"M 0 0 M2178.34 215.701 L2178.34 231.349 L2174.08 231.349 L2174.08 215.839 Q2174.08 212.159 2172.65 210.33 Q2171.21 208.502 2168.34 208.502 Q2164.89 208.502 2162.9 210.701 Q2160.91 212.9 2160.91 216.696 L2160.91 231.349 L2156.63 231.349 L2156.63 205.423 L2160.91 205.423 L2160.91 209.451 Q2162.44 207.113 2164.5 205.955 Q2166.58 204.798 2169.29 204.798 Q2173.76 204.798 2176.05 207.576 Q2178.34 210.33 2178.34 215.701 Z\" fill=\"#000000\" fill-rule=\"evenodd\" fill-opacity=\"1\" /><path clip-path=\"url(#clip570)\" d=\"M 0 0 M2204.99 217.321 L2204.99 219.404 L2185.4 219.404 Q2185.68 223.802 2188.04 226.117 Q2190.43 228.409 2194.66 228.409 Q2197.12 228.409 2199.41 227.807 Q2201.72 227.205 2203.99 226.001 L2203.99 230.029 Q2201.7 231.001 2199.29 231.511 Q2196.88 232.02 2194.41 232.02 Q2188.2 232.02 2184.57 228.409 Q2180.96 224.798 2180.96 218.64 Q2180.96 212.275 2184.38 208.548 Q2187.83 204.798 2193.67 204.798 Q2198.9 204.798 2201.93 208.177 Q2204.99 211.534 2204.99 217.321 M2200.73 216.071 Q2200.68 212.576 2198.76 210.492 Q2196.86 208.409 2193.71 208.409 Q2190.15 208.409 2188 210.423 Q2185.87 212.437 2185.54 216.094 L2200.73 216.071 Z\" fill=\"#000000\" fill-rule=\"evenodd\" fill-opacity=\"1\" /><polyline clip-path=\"url(#clip570)\" style=\"stroke:#3da44d; stroke-width:4; stroke-opacity:1; fill:none\" points=\"\n",
       "  1611.7,274.549 1753.47,274.549 \n",
       "  \"/>\n",
       "<path clip-path=\"url(#clip570)\" d=\"M 0 0 M1777.09 265.903 L1781.35 265.903 L1786.68 286.134 L1791.98 265.903 L1797 265.903 L1802.33 286.134 L1807.63 265.903 L1811.89 265.903 L1805.1 291.829 L1800.08 291.829 L1794.5 270.579 L1788.9 291.829 L1783.88 291.829 L1777.09 265.903 Z\" fill=\"#000000\" fill-rule=\"evenodd\" fill-opacity=\"1\" /><path clip-path=\"url(#clip570)\" d=\"M 0 0 M1828.14 278.796 Q1822.97 278.796 1820.98 279.977 Q1818.99 281.157 1818.99 284.005 Q1818.99 286.273 1820.47 287.616 Q1821.98 288.935 1824.55 288.935 Q1828.09 288.935 1830.22 286.435 Q1832.37 283.912 1832.37 279.745 L1832.37 278.796 L1828.14 278.796 M1836.63 277.037 L1836.63 291.829 L1832.37 291.829 L1832.37 287.893 Q1830.91 290.255 1828.74 291.389 Q1826.56 292.5 1823.41 292.5 Q1819.43 292.5 1817.07 290.278 Q1814.73 288.032 1814.73 284.282 Q1814.73 279.907 1817.65 277.685 Q1820.59 275.463 1826.4 275.463 L1832.37 275.463 L1832.37 275.046 Q1832.37 272.107 1830.43 270.509 Q1828.51 268.889 1825.01 268.889 Q1822.79 268.889 1820.68 269.421 Q1818.58 269.954 1816.63 271.019 L1816.63 267.083 Q1818.97 266.181 1821.17 265.741 Q1823.37 265.278 1825.45 265.278 Q1831.08 265.278 1833.85 268.194 Q1836.63 271.111 1836.63 277.037 Z\" fill=\"#000000\" fill-rule=\"evenodd\" fill-opacity=\"1\" /><path clip-path=\"url(#clip570)\" d=\"M 0 0 M1856.12 269.884 Q1855.4 269.468 1854.55 269.282 Q1853.71 269.074 1852.7 269.074 Q1849.09 269.074 1847.14 271.435 Q1845.22 273.773 1845.22 278.171 L1845.22 291.829 L1840.94 291.829 L1840.94 265.903 L1845.22 265.903 L1845.22 269.931 Q1846.56 267.569 1848.71 266.435 Q1850.87 265.278 1853.95 265.278 Q1854.39 265.278 1854.92 265.347 Q1855.45 265.394 1856.1 265.509 L1856.12 269.884 Z\" fill=\"#000000\" fill-rule=\"evenodd\" fill-opacity=\"1\" /><path clip-path=\"url(#clip570)\" d=\"M 0 0 M1864.8 258.542 L1864.8 265.903 L1873.58 265.903 L1873.58 269.213 L1864.8 269.213 L1864.8 283.287 Q1864.8 286.458 1865.66 287.361 Q1866.54 288.264 1869.2 288.264 L1873.58 288.264 L1873.58 291.829 L1869.2 291.829 Q1864.27 291.829 1862.4 290 Q1860.52 288.148 1860.52 283.287 L1860.52 269.213 L1857.4 269.213 L1857.4 265.903 L1860.52 265.903 L1860.52 258.542 L1864.8 258.542 Z\" fill=\"#000000\" fill-rule=\"evenodd\" fill-opacity=\"1\" /><path clip-path=\"url(#clip570)\" d=\"M 0 0 M1888.09 268.889 Q1884.66 268.889 1882.67 271.574 Q1880.68 274.236 1880.68 278.889 Q1880.68 283.542 1882.65 286.227 Q1884.64 288.889 1888.09 288.889 Q1891.49 288.889 1893.48 286.204 Q1895.47 283.518 1895.47 278.889 Q1895.47 274.282 1893.48 271.597 Q1891.49 268.889 1888.09 268.889 M1888.09 265.278 Q1893.65 265.278 1896.82 268.889 Q1899.99 272.5 1899.99 278.889 Q1899.99 285.255 1896.82 288.889 Q1893.65 292.5 1888.09 292.5 Q1882.51 292.5 1879.34 288.889 Q1876.19 285.255 1876.19 278.889 Q1876.19 272.5 1879.34 268.889 Q1882.51 265.278 1888.09 265.278 Z\" fill=\"#000000\" fill-rule=\"evenodd\" fill-opacity=\"1\" /><path clip-path=\"url(#clip570)\" d=\"M 0 0 M1916.58 253.75 L1921.19 253.75 L1913.65 262.454 L1910.1 262.454 L1916.58 253.75 M1920.98 266.667 L1920.98 270.694 Q1919.18 269.769 1917.23 269.306 Q1915.29 268.843 1913.21 268.843 Q1910.03 268.843 1908.44 269.815 Q1906.86 270.787 1906.86 272.731 Q1906.86 274.213 1908 275.069 Q1909.13 275.903 1912.56 276.667 L1914.02 276.991 Q1918.55 277.963 1920.45 279.745 Q1922.37 281.505 1922.37 284.676 Q1922.37 288.287 1919.5 290.393 Q1916.65 292.5 1911.65 292.5 Q1909.57 292.5 1907.3 292.083 Q1905.06 291.69 1902.56 290.88 L1902.56 286.481 Q1904.92 287.708 1907.21 288.333 Q1909.5 288.935 1911.75 288.935 Q1914.76 288.935 1916.38 287.917 Q1918 286.875 1918 285 Q1918 283.264 1916.82 282.338 Q1915.66 281.412 1911.7 280.556 L1910.22 280.208 Q1906.26 279.375 1904.5 277.662 Q1902.74 275.926 1902.74 272.917 Q1902.74 269.259 1905.34 267.269 Q1907.93 265.278 1912.7 265.278 Q1915.06 265.278 1917.14 265.625 Q1919.22 265.972 1920.98 266.667 Z\" fill=\"#000000\" fill-rule=\"evenodd\" fill-opacity=\"1\" /><path clip-path=\"url(#clip570)\" d=\"M 0 0 M1945.5 266.898 L1945.5 270.88 Q1943.69 269.884 1941.86 269.398 Q1940.06 268.889 1938.21 268.889 Q1934.06 268.889 1931.77 271.528 Q1929.48 274.144 1929.48 278.889 Q1929.48 283.634 1931.77 286.273 Q1934.06 288.889 1938.21 288.889 Q1940.06 288.889 1941.86 288.403 Q1943.69 287.893 1945.5 286.898 L1945.5 290.833 Q1943.71 291.667 1941.79 292.083 Q1939.9 292.5 1937.74 292.5 Q1931.89 292.5 1928.44 288.819 Q1924.99 285.139 1924.99 278.889 Q1924.99 272.546 1928.46 268.912 Q1931.96 265.278 1938.02 265.278 Q1939.99 265.278 1941.86 265.695 Q1943.74 266.088 1945.5 266.898 Z\" fill=\"#000000\" fill-rule=\"evenodd\" fill-opacity=\"1\" /><path clip-path=\"url(#clip570)\" d=\"M 0 0 M1949.96 265.903 L1954.22 265.903 L1954.22 291.829 L1949.96 291.829 L1949.96 265.903 M1949.96 255.81 L1954.22 255.81 L1954.22 261.204 L1949.96 261.204 L1949.96 255.81 Z\" fill=\"#000000\" fill-rule=\"evenodd\" fill-opacity=\"1\" /><path clip-path=\"url(#clip570)\" d=\"M 0 0 M1995.31 276.181 L1995.31 291.829 L1991.05 291.829 L1991.05 276.319 Q1991.05 272.639 1989.62 270.81 Q1988.18 268.982 1985.31 268.982 Q1981.86 268.982 1979.87 271.181 Q1977.88 273.38 1977.88 277.176 L1977.88 291.829 L1973.6 291.829 L1973.6 265.903 L1977.88 265.903 L1977.88 269.931 Q1979.41 267.593 1981.47 266.435 Q1983.55 265.278 1986.26 265.278 Q1990.73 265.278 1993.02 268.056 Q1995.31 270.81 1995.31 276.181 Z\" fill=\"#000000\" fill-rule=\"evenodd\" fill-opacity=\"1\" /><path clip-path=\"url(#clip570)\" d=\"M 0 0 M1999.34 281.597 L1999.34 265.903 L2003.6 265.903 L2003.6 281.435 Q2003.6 285.116 2005.03 286.968 Q2006.47 288.796 2009.34 288.796 Q2012.79 288.796 2014.78 286.597 Q2016.79 284.398 2016.79 280.602 L2016.79 265.903 L2021.05 265.903 L2021.05 291.829 L2016.79 291.829 L2016.79 287.847 Q2015.24 290.208 2013.18 291.366 Q2011.14 292.5 2008.44 292.5 Q2003.97 292.5 2001.65 289.722 Q1999.34 286.944 1999.34 281.597 M2010.06 265.278 L2010.06 265.278 Z\" fill=\"#000000\" fill-rule=\"evenodd\" fill-opacity=\"1\" /><path clip-path=\"url(#clip570)\" d=\"M 0 0 M2045.7 270.88 Q2047.3 268.009 2049.52 266.644 Q2051.75 265.278 2054.76 265.278 Q2058.81 265.278 2061.01 268.125 Q2063.2 270.949 2063.2 276.181 L2063.2 291.829 L2058.92 291.829 L2058.92 276.319 Q2058.92 272.593 2057.6 270.787 Q2056.28 268.982 2053.57 268.982 Q2050.26 268.982 2048.34 271.181 Q2046.42 273.38 2046.42 277.176 L2046.42 291.829 L2042.14 291.829 L2042.14 276.319 Q2042.14 272.569 2040.82 270.787 Q2039.5 268.982 2036.75 268.982 Q2033.48 268.982 2031.56 271.204 Q2029.64 273.403 2029.64 277.176 L2029.64 291.829 L2025.36 291.829 L2025.36 265.903 L2029.64 265.903 L2029.64 269.931 Q2031.1 267.546 2033.14 266.412 Q2035.17 265.278 2037.97 265.278 Q2040.8 265.278 2042.76 266.713 Q2044.76 268.148 2045.7 270.88 Z\" fill=\"#000000\" fill-rule=\"evenodd\" fill-opacity=\"1\" /><path clip-path=\"url(#clip570)\" d=\"M 0 0 M2089.85 277.801 L2089.85 279.884 L2070.26 279.884 Q2070.54 284.282 2072.9 286.597 Q2075.29 288.889 2079.52 288.889 Q2081.98 288.889 2084.27 288.287 Q2086.58 287.685 2088.85 286.481 L2088.85 290.509 Q2086.56 291.481 2084.15 291.991 Q2081.75 292.5 2079.27 292.5 Q2073.07 292.5 2069.43 288.889 Q2065.82 285.278 2065.82 279.12 Q2065.82 272.755 2069.25 269.028 Q2072.7 265.278 2078.53 265.278 Q2083.76 265.278 2086.79 268.657 Q2089.85 272.014 2089.85 277.801 M2085.59 276.551 Q2085.54 273.056 2083.62 270.972 Q2081.72 268.889 2078.57 268.889 Q2075.01 268.889 2072.86 270.903 Q2070.73 272.917 2070.4 276.574 L2085.59 276.551 Z\" fill=\"#000000\" fill-rule=\"evenodd\" fill-opacity=\"1\" /><path clip-path=\"url(#clip570)\" d=\"M 0 0 M2109.34 269.884 Q2108.62 269.468 2107.76 269.282 Q2106.93 269.074 2105.91 269.074 Q2102.3 269.074 2100.36 271.435 Q2098.44 273.773 2098.44 278.171 L2098.44 291.829 L2094.15 291.829 L2094.15 265.903 L2098.44 265.903 L2098.44 269.931 Q2099.78 267.569 2101.93 266.435 Q2104.08 265.278 2107.16 265.278 Q2107.6 265.278 2108.13 265.347 Q2108.67 265.394 2109.32 265.509 L2109.34 269.884 Z\" fill=\"#000000\" fill-rule=\"evenodd\" fill-opacity=\"1\" /><path clip-path=\"url(#clip570)\" d=\"M 0 0 M2124.59 294.236 Q2122.79 298.866 2121.07 300.278 Q2119.36 301.69 2116.49 301.69 L2113.09 301.69 L2113.09 298.125 L2115.59 298.125 Q2117.35 298.125 2118.32 297.292 Q2119.29 296.458 2120.47 293.356 L2121.24 291.412 L2110.75 265.903 L2115.26 265.903 L2123.37 286.181 L2131.47 265.903 L2135.98 265.903 L2124.59 294.236 Z\" fill=\"#000000\" fill-rule=\"evenodd\" fill-opacity=\"1\" /><path clip-path=\"url(#clip570)\" d=\"M 0 0 M2159.11 266.898 L2159.11 270.88 Q2157.3 269.884 2155.47 269.398 Q2153.67 268.889 2151.82 268.889 Q2147.67 268.889 2145.38 271.528 Q2143.09 274.144 2143.09 278.889 Q2143.09 283.634 2145.38 286.273 Q2147.67 288.889 2151.82 288.889 Q2153.67 288.889 2155.47 288.403 Q2157.3 287.893 2159.11 286.898 L2159.11 290.833 Q2157.32 291.667 2155.4 292.083 Q2153.51 292.5 2151.35 292.5 Q2145.5 292.5 2142.05 288.819 Q2138.6 285.139 2138.6 278.889 Q2138.6 272.546 2142.07 268.912 Q2145.57 265.278 2151.63 265.278 Q2153.6 265.278 2155.47 265.695 Q2157.35 266.088 2159.11 266.898 Z\" fill=\"#000000\" fill-rule=\"evenodd\" fill-opacity=\"1\" /><path clip-path=\"url(#clip570)\" d=\"M 0 0 M2161.72 265.903 L2181.95 265.903 L2181.95 269.792 L2165.94 288.426 L2181.95 288.426 L2181.95 291.829 L2161.14 291.829 L2161.14 287.94 L2177.16 269.306 L2161.72 269.306 L2161.72 265.903 Z\" fill=\"#000000\" fill-rule=\"evenodd\" fill-opacity=\"1\" /><path clip-path=\"url(#clip570)\" d=\"M 0 0 M2207.97 276.181 L2207.97 291.829 L2203.71 291.829 L2203.71 276.319 Q2203.71 272.639 2202.28 270.81 Q2200.84 268.982 2197.97 268.982 Q2194.52 268.982 2192.53 271.181 Q2190.54 273.38 2190.54 277.176 L2190.54 291.829 L2186.26 291.829 L2186.26 265.903 L2190.54 265.903 L2190.54 269.931 Q2192.07 267.593 2194.13 266.435 Q2196.21 265.278 2198.92 265.278 Q2203.39 265.278 2205.68 268.056 Q2207.97 270.81 2207.97 276.181 Z\" fill=\"#000000\" fill-rule=\"evenodd\" fill-opacity=\"1\" /><path clip-path=\"url(#clip570)\" d=\"M 0 0 M2234.62 277.801 L2234.62 279.884 L2215.03 279.884 Q2215.31 284.282 2217.67 286.597 Q2220.06 288.889 2224.29 288.889 Q2226.75 288.889 2229.04 288.287 Q2231.35 287.685 2233.62 286.481 L2233.62 290.509 Q2231.33 291.481 2228.92 291.991 Q2226.51 292.5 2224.04 292.5 Q2217.83 292.5 2214.2 288.889 Q2210.59 285.278 2210.59 279.12 Q2210.59 272.755 2214.01 269.028 Q2217.46 265.278 2223.3 265.278 Q2228.53 265.278 2231.56 268.657 Q2234.62 272.014 2234.62 277.801 M2230.36 276.551 Q2230.31 273.056 2228.39 270.972 Q2226.49 268.889 2223.34 268.889 Q2219.78 268.889 2217.63 270.903 Q2215.5 272.917 2215.17 276.574 L2230.36 276.551 Z\" fill=\"#000000\" fill-rule=\"evenodd\" fill-opacity=\"1\" /></svg>\n"
      ]
     },
     "execution_count": 750,
     "metadata": {},
     "output_type": "execute_result"
    }
   ],
   "source": [
    "plot!(t_step, numeric, label = \"wartości numeryczne\")"
   ]
  },
  {
   "cell_type": "markdown",
   "metadata": {},
   "source": [
    "Nasz model stanowi dobre dopasowanie w stosunku to wartości mierzalnych, zarówno wyliczając jego wartości w sposób analityczny jak i numeryczny "
   ]
  },
  {
   "cell_type": "markdown",
   "metadata": {},
   "source": [
    "Możemy obliczyć $t_{\\frac{1}{2}}$"
   ]
  },
  {
   "cell_type": "code",
   "execution_count": 751,
   "metadata": {},
   "outputs": [
    {
     "data": {
      "text/plain": [
       "0.2840163934426229"
      ]
     },
     "execution_count": 751,
     "metadata": {},
     "output_type": "execute_result"
    }
   ],
   "source": [
    "tₕ= 0.693/2.44"
   ]
  },
  {
   "cell_type": "code",
   "execution_count": 752,
   "metadata": {},
   "outputs": [
    {
     "data": {
      "image/svg+xml": [
       "<?xml version=\"1.0\" encoding=\"utf-8\"?>\n",
       "<svg xmlns=\"http://www.w3.org/2000/svg\" xmlns:xlink=\"http://www.w3.org/1999/xlink\" width=\"600\" height=\"400\" viewBox=\"0 0 2400 1600\">\n",
       "<defs>\n",
       "  <clipPath id=\"clip610\">\n",
       "    <rect x=\"0\" y=\"0\" width=\"2400\" height=\"1600\"/>\n",
       "  </clipPath>\n",
       "</defs>\n",
       "<path clip-path=\"url(#clip610)\" d=\"\n",
       "M0 1600 L2400 1600 L2400 0 L0 0  Z\n",
       "  \" fill=\"#ffffff\" fill-rule=\"evenodd\" fill-opacity=\"1\"/>\n",
       "<defs>\n",
       "  <clipPath id=\"clip611\">\n",
       "    <rect x=\"480\" y=\"0\" width=\"1681\" height=\"1600\"/>\n",
       "  </clipPath>\n",
       "</defs>\n",
       "<path clip-path=\"url(#clip610)\" d=\"\n",
       "M226.232 1423.18 L2352.76 1423.18 L2352.76 47.2441 L226.232 47.2441  Z\n",
       "  \" fill=\"#ffffff\" fill-rule=\"evenodd\" fill-opacity=\"1\"/>\n",
       "<defs>\n",
       "  <clipPath id=\"clip612\">\n",
       "    <rect x=\"226\" y=\"47\" width=\"2128\" height=\"1377\"/>\n",
       "  </clipPath>\n",
       "</defs>\n",
       "<polyline clip-path=\"url(#clip612)\" style=\"stroke:#000000; stroke-width:2; stroke-opacity:0.1; fill:none\" points=\"\n",
       "  286.417,1423.18 286.417,47.2441 \n",
       "  \"/>\n",
       "<polyline clip-path=\"url(#clip612)\" style=\"stroke:#000000; stroke-width:2; stroke-opacity:0.1; fill:none\" points=\"\n",
       "  955.135,1423.18 955.135,47.2441 \n",
       "  \"/>\n",
       "<polyline clip-path=\"url(#clip612)\" style=\"stroke:#000000; stroke-width:2; stroke-opacity:0.1; fill:none\" points=\"\n",
       "  1623.85,1423.18 1623.85,47.2441 \n",
       "  \"/>\n",
       "<polyline clip-path=\"url(#clip612)\" style=\"stroke:#000000; stroke-width:2; stroke-opacity:0.1; fill:none\" points=\"\n",
       "  2292.57,1423.18 2292.57,47.2441 \n",
       "  \"/>\n",
       "<polyline clip-path=\"url(#clip610)\" style=\"stroke:#000000; stroke-width:4; stroke-opacity:1; fill:none\" points=\"\n",
       "  226.232,1423.18 2352.76,1423.18 \n",
       "  \"/>\n",
       "<polyline clip-path=\"url(#clip610)\" style=\"stroke:#000000; stroke-width:4; stroke-opacity:1; fill:none\" points=\"\n",
       "  286.417,1423.18 286.417,1406.67 \n",
       "  \"/>\n",
       "<polyline clip-path=\"url(#clip610)\" style=\"stroke:#000000; stroke-width:4; stroke-opacity:1; fill:none\" points=\"\n",
       "  955.135,1423.18 955.135,1406.67 \n",
       "  \"/>\n",
       "<polyline clip-path=\"url(#clip610)\" style=\"stroke:#000000; stroke-width:4; stroke-opacity:1; fill:none\" points=\"\n",
       "  1623.85,1423.18 1623.85,1406.67 \n",
       "  \"/>\n",
       "<polyline clip-path=\"url(#clip610)\" style=\"stroke:#000000; stroke-width:4; stroke-opacity:1; fill:none\" points=\"\n",
       "  2292.57,1423.18 2292.57,1406.67 \n",
       "  \"/>\n",
       "<path clip-path=\"url(#clip610)\" d=\"M 0 0 M267.933 1452.37 Q264.322 1452.37 262.493 1455.94 Q260.688 1459.48 260.688 1466.61 Q260.688 1473.71 262.493 1477.28 Q264.322 1480.82 267.933 1480.82 Q271.567 1480.82 273.373 1477.28 Q275.201 1473.71 275.201 1466.61 Q275.201 1459.48 273.373 1455.94 Q271.567 1452.37 267.933 1452.37 M267.933 1448.67 Q273.743 1448.67 276.799 1453.27 Q279.877 1457.86 279.877 1466.61 Q279.877 1475.33 276.799 1479.94 Q273.743 1484.52 267.933 1484.52 Q262.123 1484.52 259.044 1479.94 Q255.989 1475.33 255.989 1466.61 Q255.989 1457.86 259.044 1453.27 Q262.123 1448.67 267.933 1448.67 Z\" fill=\"#000000\" fill-rule=\"evenodd\" fill-opacity=\"1\" /><path clip-path=\"url(#clip610)\" d=\"M 0 0 M284.947 1477.97 L289.831 1477.97 L289.831 1483.85 L284.947 1483.85 L284.947 1477.97 Z\" fill=\"#000000\" fill-rule=\"evenodd\" fill-opacity=\"1\" /><path clip-path=\"url(#clip610)\" d=\"M 0 0 M304.9 1452.37 Q301.289 1452.37 299.461 1455.94 Q297.655 1459.48 297.655 1466.61 Q297.655 1473.71 299.461 1477.28 Q301.289 1480.82 304.9 1480.82 Q308.535 1480.82 310.34 1477.28 Q312.169 1473.71 312.169 1466.61 Q312.169 1459.48 310.34 1455.94 Q308.535 1452.37 304.9 1452.37 M304.9 1448.67 Q310.71 1448.67 313.766 1453.27 Q316.845 1457.86 316.845 1466.61 Q316.845 1475.33 313.766 1479.94 Q310.71 1484.52 304.9 1484.52 Q299.09 1484.52 296.011 1479.94 Q292.956 1475.33 292.956 1466.61 Q292.956 1457.86 296.011 1453.27 Q299.09 1448.67 304.9 1448.67 Z\" fill=\"#000000\" fill-rule=\"evenodd\" fill-opacity=\"1\" /><path clip-path=\"url(#clip610)\" d=\"M 0 0 M937.149 1452.37 Q933.538 1452.37 931.709 1455.94 Q929.903 1459.48 929.903 1466.61 Q929.903 1473.71 931.709 1477.28 Q933.538 1480.82 937.149 1480.82 Q940.783 1480.82 942.589 1477.28 Q944.417 1473.71 944.417 1466.61 Q944.417 1459.48 942.589 1455.94 Q940.783 1452.37 937.149 1452.37 M937.149 1448.67 Q942.959 1448.67 946.015 1453.27 Q949.093 1457.86 949.093 1466.61 Q949.093 1475.33 946.015 1479.94 Q942.959 1484.52 937.149 1484.52 Q931.339 1484.52 928.26 1479.94 Q925.204 1475.33 925.204 1466.61 Q925.204 1457.86 928.26 1453.27 Q931.339 1448.67 937.149 1448.67 Z\" fill=\"#000000\" fill-rule=\"evenodd\" fill-opacity=\"1\" /><path clip-path=\"url(#clip610)\" d=\"M 0 0 M954.163 1477.97 L959.047 1477.97 L959.047 1483.85 L954.163 1483.85 L954.163 1477.97 Z\" fill=\"#000000\" fill-rule=\"evenodd\" fill-opacity=\"1\" /><path clip-path=\"url(#clip610)\" d=\"M 0 0 M964.163 1449.29 L982.519 1449.29 L982.519 1453.23 L968.445 1453.23 L968.445 1461.7 Q969.463 1461.35 970.482 1461.19 Q971.5 1461 972.519 1461 Q978.306 1461 981.686 1464.18 Q985.065 1467.35 985.065 1472.76 Q985.065 1478.34 981.593 1481.44 Q978.121 1484.52 971.801 1484.52 Q969.625 1484.52 967.357 1484.15 Q965.112 1483.78 962.704 1483.04 L962.704 1478.34 Q964.788 1479.48 967.01 1480.03 Q969.232 1480.59 971.709 1480.59 Q975.713 1480.59 978.051 1478.48 Q980.389 1476.38 980.389 1472.76 Q980.389 1469.15 978.051 1467.05 Q975.713 1464.94 971.709 1464.94 Q969.834 1464.94 967.959 1465.36 Q966.107 1465.77 964.163 1466.65 L964.163 1449.29 Z\" fill=\"#000000\" fill-rule=\"evenodd\" fill-opacity=\"1\" /><path clip-path=\"url(#clip610)\" d=\"M 0 0 M1595.75 1479.92 L1603.39 1479.92 L1603.39 1453.55 L1595.08 1455.22 L1595.08 1450.96 L1603.34 1449.29 L1608.02 1449.29 L1608.02 1479.92 L1615.66 1479.92 L1615.66 1483.85 L1595.75 1483.85 L1595.75 1479.92 Z\" fill=\"#000000\" fill-rule=\"evenodd\" fill-opacity=\"1\" /><path clip-path=\"url(#clip610)\" d=\"M 0 0 M1620.73 1477.97 L1625.61 1477.97 L1625.61 1483.85 L1620.73 1483.85 L1620.73 1477.97 Z\" fill=\"#000000\" fill-rule=\"evenodd\" fill-opacity=\"1\" /><path clip-path=\"url(#clip610)\" d=\"M 0 0 M1640.68 1452.37 Q1637.07 1452.37 1635.24 1455.94 Q1633.44 1459.48 1633.44 1466.61 Q1633.44 1473.71 1635.24 1477.28 Q1637.07 1480.82 1640.68 1480.82 Q1644.32 1480.82 1646.12 1477.28 Q1647.95 1473.71 1647.95 1466.61 Q1647.95 1459.48 1646.12 1455.94 Q1644.32 1452.37 1640.68 1452.37 M1640.68 1448.67 Q1646.49 1448.67 1649.55 1453.27 Q1652.63 1457.86 1652.63 1466.61 Q1652.63 1475.33 1649.55 1479.94 Q1646.49 1484.52 1640.68 1484.52 Q1634.87 1484.52 1631.79 1479.94 Q1628.74 1475.33 1628.74 1466.61 Q1628.74 1457.86 1631.79 1453.27 Q1634.87 1448.67 1640.68 1448.67 Z\" fill=\"#000000\" fill-rule=\"evenodd\" fill-opacity=\"1\" /><path clip-path=\"url(#clip610)\" d=\"M 0 0 M2264.97 1479.92 L2272.61 1479.92 L2272.61 1453.55 L2264.3 1455.22 L2264.3 1450.96 L2272.56 1449.29 L2277.24 1449.29 L2277.24 1479.92 L2284.87 1479.92 L2284.87 1483.85 L2264.97 1483.85 L2264.97 1479.92 Z\" fill=\"#000000\" fill-rule=\"evenodd\" fill-opacity=\"1\" /><path clip-path=\"url(#clip610)\" d=\"M 0 0 M2289.94 1477.97 L2294.83 1477.97 L2294.83 1483.85 L2289.94 1483.85 L2289.94 1477.97 Z\" fill=\"#000000\" fill-rule=\"evenodd\" fill-opacity=\"1\" /><path clip-path=\"url(#clip610)\" d=\"M 0 0 M2299.94 1449.29 L2318.3 1449.29 L2318.3 1453.23 L2304.23 1453.23 L2304.23 1461.7 Q2305.24 1461.35 2306.26 1461.19 Q2307.28 1461 2308.3 1461 Q2314.09 1461 2317.47 1464.18 Q2320.85 1467.35 2320.85 1472.76 Q2320.85 1478.34 2317.37 1481.44 Q2313.9 1484.52 2307.58 1484.52 Q2305.41 1484.52 2303.14 1484.15 Q2300.89 1483.78 2298.49 1483.04 L2298.49 1478.34 Q2300.57 1479.48 2302.79 1480.03 Q2305.01 1480.59 2307.49 1480.59 Q2311.49 1480.59 2313.83 1478.48 Q2316.17 1476.38 2316.17 1472.76 Q2316.17 1469.15 2313.83 1467.05 Q2311.49 1464.94 2307.49 1464.94 Q2305.62 1464.94 2303.74 1465.36 Q2301.89 1465.77 2299.94 1466.65 L2299.94 1449.29 Z\" fill=\"#000000\" fill-rule=\"evenodd\" fill-opacity=\"1\" /><path clip-path=\"url(#clip610)\" d=\"M 0 0 M1240.84 1522.27 L1240.84 1532.4 L1252.91 1532.4 L1252.91 1536.95 L1240.84 1536.95 L1240.84 1556.3 Q1240.84 1560.66 1242.02 1561.9 Q1243.23 1563.14 1246.89 1563.14 L1252.91 1563.14 L1252.91 1568.04 L1246.89 1568.04 Q1240.11 1568.04 1237.53 1565.53 Q1234.96 1562.98 1234.96 1556.3 L1234.96 1536.95 L1230.66 1536.95 L1230.66 1532.4 L1234.96 1532.4 L1234.96 1522.27 L1240.84 1522.27 Z\" fill=\"#000000\" fill-rule=\"evenodd\" fill-opacity=\"1\" /><path clip-path=\"url(#clip610)\" d=\"M 0 0 M1279.23 1518.52 L1292.72 1518.52 L1292.72 1523.07 L1285.09 1523.07 L1285.09 1572.09 L1292.72 1572.09 L1292.72 1576.64 L1279.23 1576.64 L1279.23 1518.52 Z\" fill=\"#000000\" fill-rule=\"evenodd\" fill-opacity=\"1\" /><path clip-path=\"url(#clip610)\" d=\"M 0 0 M1328.5 1546.53 L1328.5 1568.04 L1322.64 1568.04 L1322.64 1546.72 Q1322.64 1541.66 1320.67 1539.14 Q1318.7 1536.63 1314.75 1536.63 Q1310.01 1536.63 1307.27 1539.65 Q1304.53 1542.68 1304.53 1547.9 L1304.53 1568.04 L1298.64 1568.04 L1298.64 1518.52 L1304.53 1518.52 L1304.53 1537.93 Q1306.63 1534.72 1309.47 1533.13 Q1312.33 1531.54 1316.05 1531.54 Q1322.2 1531.54 1325.35 1535.36 Q1328.5 1539.14 1328.5 1546.53 Z\" fill=\"#000000\" fill-rule=\"evenodd\" fill-opacity=\"1\" /><path clip-path=\"url(#clip610)\" d=\"M 0 0 M1348.33 1518.52 L1348.33 1576.64 L1334.83 1576.64 L1334.83 1572.09 L1342.44 1572.09 L1342.44 1523.07 L1334.83 1523.07 L1334.83 1518.52 L1348.33 1518.52 Z\" fill=\"#000000\" fill-rule=\"evenodd\" fill-opacity=\"1\" /><polyline clip-path=\"url(#clip612)\" style=\"stroke:#000000; stroke-width:2; stroke-opacity:0.1; fill:none\" points=\"\n",
       "  226.232,1418.52 2352.76,1418.52 \n",
       "  \"/>\n",
       "<polyline clip-path=\"url(#clip612)\" style=\"stroke:#000000; stroke-width:2; stroke-opacity:0.1; fill:none\" points=\"\n",
       "  226.232,1141.64 2352.76,1141.64 \n",
       "  \"/>\n",
       "<polyline clip-path=\"url(#clip612)\" style=\"stroke:#000000; stroke-width:2; stroke-opacity:0.1; fill:none\" points=\"\n",
       "  226.232,864.767 2352.76,864.767 \n",
       "  \"/>\n",
       "<polyline clip-path=\"url(#clip612)\" style=\"stroke:#000000; stroke-width:2; stroke-opacity:0.1; fill:none\" points=\"\n",
       "  226.232,587.889 2352.76,587.889 \n",
       "  \"/>\n",
       "<polyline clip-path=\"url(#clip612)\" style=\"stroke:#000000; stroke-width:2; stroke-opacity:0.1; fill:none\" points=\"\n",
       "  226.232,311.011 2352.76,311.011 \n",
       "  \"/>\n",
       "<polyline clip-path=\"url(#clip610)\" style=\"stroke:#000000; stroke-width:4; stroke-opacity:1; fill:none\" points=\"\n",
       "  226.232,1423.18 226.232,47.2441 \n",
       "  \"/>\n",
       "<polyline clip-path=\"url(#clip610)\" style=\"stroke:#000000; stroke-width:4; stroke-opacity:1; fill:none\" points=\"\n",
       "  226.232,1418.52 251.75,1418.52 \n",
       "  \"/>\n",
       "<polyline clip-path=\"url(#clip610)\" style=\"stroke:#000000; stroke-width:4; stroke-opacity:1; fill:none\" points=\"\n",
       "  226.232,1141.64 251.75,1141.64 \n",
       "  \"/>\n",
       "<polyline clip-path=\"url(#clip610)\" style=\"stroke:#000000; stroke-width:4; stroke-opacity:1; fill:none\" points=\"\n",
       "  226.232,864.767 251.75,864.767 \n",
       "  \"/>\n",
       "<polyline clip-path=\"url(#clip610)\" style=\"stroke:#000000; stroke-width:4; stroke-opacity:1; fill:none\" points=\"\n",
       "  226.232,587.889 251.75,587.889 \n",
       "  \"/>\n",
       "<polyline clip-path=\"url(#clip610)\" style=\"stroke:#000000; stroke-width:4; stroke-opacity:1; fill:none\" points=\"\n",
       "  226.232,311.011 251.75,311.011 \n",
       "  \"/>\n",
       "<path clip-path=\"url(#clip610)\" d=\"M 0 0 M178.288 1404.32 Q174.677 1404.32 172.848 1407.89 Q171.042 1411.43 171.042 1418.56 Q171.042 1425.66 172.848 1429.23 Q174.677 1432.77 178.288 1432.77 Q181.922 1432.77 183.727 1429.23 Q185.556 1425.66 185.556 1418.56 Q185.556 1411.43 183.727 1407.89 Q181.922 1404.32 178.288 1404.32 M178.288 1400.62 Q184.098 1400.62 187.153 1405.22 Q190.232 1409.81 190.232 1418.56 Q190.232 1427.28 187.153 1431.89 Q184.098 1436.47 178.288 1436.47 Q172.477 1436.47 169.399 1431.89 Q166.343 1427.28 166.343 1418.56 Q166.343 1409.81 169.399 1405.22 Q172.477 1400.62 178.288 1400.62 Z\" fill=\"#000000\" fill-rule=\"evenodd\" fill-opacity=\"1\" /><path clip-path=\"url(#clip610)\" d=\"M 0 0 M142.316 1124.36 L160.672 1124.36 L160.672 1128.3 L146.598 1128.3 L146.598 1136.77 Q147.616 1136.42 148.635 1136.26 Q149.653 1136.08 150.672 1136.08 Q156.459 1136.08 159.839 1139.25 Q163.218 1142.42 163.218 1147.84 Q163.218 1153.42 159.746 1156.52 Q156.274 1159.6 149.954 1159.6 Q147.778 1159.6 145.51 1159.23 Q143.265 1158.86 140.857 1158.11 L140.857 1153.42 Q142.941 1154.55 145.163 1155.11 Q147.385 1155.66 149.862 1155.66 Q153.866 1155.66 156.204 1153.55 Q158.542 1151.45 158.542 1147.84 Q158.542 1144.23 156.204 1142.12 Q153.866 1140.01 149.862 1140.01 Q147.987 1140.01 146.112 1140.43 Q144.26 1140.85 142.316 1141.73 L142.316 1124.36 Z\" fill=\"#000000\" fill-rule=\"evenodd\" fill-opacity=\"1\" /><path clip-path=\"url(#clip610)\" d=\"M 0 0 M178.288 1127.44 Q174.677 1127.44 172.848 1131.01 Q171.042 1134.55 171.042 1141.68 Q171.042 1148.79 172.848 1152.35 Q174.677 1155.89 178.288 1155.89 Q181.922 1155.89 183.727 1152.35 Q185.556 1148.79 185.556 1141.68 Q185.556 1134.55 183.727 1131.01 Q181.922 1127.44 178.288 1127.44 M178.288 1123.74 Q184.098 1123.74 187.153 1128.35 Q190.232 1132.93 190.232 1141.68 Q190.232 1150.41 187.153 1155.01 Q184.098 1159.6 178.288 1159.6 Q172.477 1159.6 169.399 1155.01 Q166.343 1150.41 166.343 1141.68 Q166.343 1132.93 169.399 1128.35 Q172.477 1123.74 178.288 1123.74 Z\" fill=\"#000000\" fill-rule=\"evenodd\" fill-opacity=\"1\" /><path clip-path=\"url(#clip610)\" d=\"M 0 0 M116.297 878.111 L123.936 878.111 L123.936 851.746 L115.626 853.413 L115.626 849.153 L123.89 847.487 L128.566 847.487 L128.566 878.111 L136.204 878.111 L136.204 882.047 L116.297 882.047 L116.297 878.111 Z\" fill=\"#000000\" fill-rule=\"evenodd\" fill-opacity=\"1\" /><path clip-path=\"url(#clip610)\" d=\"M 0 0 M151.274 850.565 Q147.663 850.565 145.834 854.13 Q144.029 857.672 144.029 864.801 Q144.029 871.908 145.834 875.473 Q147.663 879.014 151.274 879.014 Q154.908 879.014 156.714 875.473 Q158.542 871.908 158.542 864.801 Q158.542 857.672 156.714 854.13 Q154.908 850.565 151.274 850.565 M151.274 846.862 Q157.084 846.862 160.14 851.468 Q163.218 856.051 163.218 864.801 Q163.218 873.528 160.14 878.135 Q157.084 882.718 151.274 882.718 Q145.464 882.718 142.385 878.135 Q139.329 873.528 139.329 864.801 Q139.329 856.051 142.385 851.468 Q145.464 846.862 151.274 846.862 Z\" fill=\"#000000\" fill-rule=\"evenodd\" fill-opacity=\"1\" /><path clip-path=\"url(#clip610)\" d=\"M 0 0 M178.288 850.565 Q174.677 850.565 172.848 854.13 Q171.042 857.672 171.042 864.801 Q171.042 871.908 172.848 875.473 Q174.677 879.014 178.288 879.014 Q181.922 879.014 183.727 875.473 Q185.556 871.908 185.556 864.801 Q185.556 857.672 183.727 854.13 Q181.922 850.565 178.288 850.565 M178.288 846.862 Q184.098 846.862 187.153 851.468 Q190.232 856.051 190.232 864.801 Q190.232 873.528 187.153 878.135 Q184.098 882.718 178.288 882.718 Q172.477 882.718 169.399 878.135 Q166.343 873.528 166.343 864.801 Q166.343 856.051 169.399 851.468 Q172.477 846.862 178.288 846.862 Z\" fill=\"#000000\" fill-rule=\"evenodd\" fill-opacity=\"1\" /><path clip-path=\"url(#clip610)\" d=\"M 0 0 M117.293 601.233 L124.931 601.233 L124.931 574.868 L116.621 576.535 L116.621 572.275 L124.885 570.609 L129.561 570.609 L129.561 601.233 L137.2 601.233 L137.2 605.169 L117.293 605.169 L117.293 601.233 Z\" fill=\"#000000\" fill-rule=\"evenodd\" fill-opacity=\"1\" /><path clip-path=\"url(#clip610)\" d=\"M 0 0 M142.316 570.609 L160.672 570.609 L160.672 574.544 L146.598 574.544 L146.598 583.016 Q147.616 582.669 148.635 582.507 Q149.653 582.322 150.672 582.322 Q156.459 582.322 159.839 585.493 Q163.218 588.664 163.218 594.081 Q163.218 599.659 159.746 602.761 Q156.274 605.84 149.954 605.84 Q147.778 605.84 145.51 605.47 Q143.265 605.099 140.857 604.358 L140.857 599.659 Q142.941 600.794 145.163 601.349 Q147.385 601.905 149.862 601.905 Q153.866 601.905 156.204 599.798 Q158.542 597.692 158.542 594.081 Q158.542 590.47 156.204 588.363 Q153.866 586.257 149.862 586.257 Q147.987 586.257 146.112 586.673 Q144.26 587.09 142.316 587.97 L142.316 570.609 Z\" fill=\"#000000\" fill-rule=\"evenodd\" fill-opacity=\"1\" /><path clip-path=\"url(#clip610)\" d=\"M 0 0 M178.288 573.687 Q174.677 573.687 172.848 577.252 Q171.042 580.794 171.042 587.923 Q171.042 595.03 172.848 598.595 Q174.677 602.136 178.288 602.136 Q181.922 602.136 183.727 598.595 Q185.556 595.03 185.556 587.923 Q185.556 580.794 183.727 577.252 Q181.922 573.687 178.288 573.687 M178.288 569.984 Q184.098 569.984 187.153 574.59 Q190.232 579.173 190.232 587.923 Q190.232 596.65 187.153 601.257 Q184.098 605.84 178.288 605.84 Q172.477 605.84 169.399 601.257 Q166.343 596.65 166.343 587.923 Q166.343 579.173 169.399 574.59 Q172.477 569.984 178.288 569.984 Z\" fill=\"#000000\" fill-rule=\"evenodd\" fill-opacity=\"1\" /><path clip-path=\"url(#clip610)\" d=\"M 0 0 M119.885 324.355 L136.204 324.355 L136.204 328.291 L114.26 328.291 L114.26 324.355 Q116.922 321.601 121.505 316.971 Q126.112 312.318 127.292 310.976 Q129.538 308.453 130.417 306.717 Q131.32 304.957 131.32 303.268 Q131.32 300.513 129.376 298.777 Q127.455 297.041 124.353 297.041 Q122.154 297.041 119.7 297.805 Q117.269 298.569 114.492 300.119 L114.492 295.397 Q117.316 294.263 119.769 293.684 Q122.223 293.106 124.26 293.106 Q129.63 293.106 132.825 295.791 Q136.019 298.476 136.019 302.967 Q136.019 305.096 135.209 307.018 Q134.422 308.916 132.316 311.508 Q131.737 312.18 128.635 315.397 Q125.533 318.592 119.885 324.355 Z\" fill=\"#000000\" fill-rule=\"evenodd\" fill-opacity=\"1\" /><path clip-path=\"url(#clip610)\" d=\"M 0 0 M151.274 296.809 Q147.663 296.809 145.834 300.374 Q144.029 303.916 144.029 311.045 Q144.029 318.152 145.834 321.717 Q147.663 325.258 151.274 325.258 Q154.908 325.258 156.714 321.717 Q158.542 318.152 158.542 311.045 Q158.542 303.916 156.714 300.374 Q154.908 296.809 151.274 296.809 M151.274 293.106 Q157.084 293.106 160.14 297.712 Q163.218 302.295 163.218 311.045 Q163.218 319.772 160.14 324.379 Q157.084 328.962 151.274 328.962 Q145.464 328.962 142.385 324.379 Q139.329 319.772 139.329 311.045 Q139.329 302.295 142.385 297.712 Q145.464 293.106 151.274 293.106 Z\" fill=\"#000000\" fill-rule=\"evenodd\" fill-opacity=\"1\" /><path clip-path=\"url(#clip610)\" d=\"M 0 0 M178.288 296.809 Q174.677 296.809 172.848 300.374 Q171.042 303.916 171.042 311.045 Q171.042 318.152 172.848 321.717 Q174.677 325.258 178.288 325.258 Q181.922 325.258 183.727 321.717 Q185.556 318.152 185.556 311.045 Q185.556 303.916 183.727 300.374 Q181.922 296.809 178.288 296.809 M178.288 293.106 Q184.098 293.106 187.153 297.712 Q190.232 302.295 190.232 311.045 Q190.232 319.772 187.153 324.379 Q184.098 328.962 178.288 328.962 Q172.477 328.962 169.399 324.379 Q166.343 319.772 166.343 311.045 Q166.343 302.295 169.399 297.712 Q172.477 293.106 178.288 293.106 Z\" fill=\"#000000\" fill-rule=\"evenodd\" fill-opacity=\"1\" /><path clip-path=\"url(#clip610)\" d=\"M 0 0 M20.1444 809.563 L26.9239 809.563 Q23.9002 812.81 22.4043 816.502 Q20.9083 820.162 20.9083 824.3 Q20.9083 832.448 25.9054 836.777 Q30.8707 841.105 40.2919 841.105 Q49.6813 841.105 54.6784 836.777 Q59.6436 832.448 59.6436 824.3 Q59.6436 820.162 58.1477 816.502 Q56.6518 812.81 53.6281 809.563 L60.3439 809.563 Q62.6355 812.937 63.7814 816.725 Q64.9272 820.481 64.9272 824.682 Q64.9272 835.472 58.3387 841.678 Q51.7183 847.885 40.2919 847.885 Q28.8336 847.885 22.2451 841.678 Q15.6248 835.472 15.6248 824.682 Q15.6248 820.417 16.7706 816.661 Q17.8846 812.874 20.1444 809.563 Z\" fill=\"#000000\" fill-rule=\"evenodd\" fill-opacity=\"1\" /><path clip-path=\"url(#clip610)\" d=\"M 0 0 M14.479 783.241 L14.479 769.746 L19.0304 769.746 L19.0304 777.385 L68.0464 777.385 L68.0464 769.746 L72.5979 769.746 L72.5979 783.241 L14.479 783.241 Z\" fill=\"#000000\" fill-rule=\"evenodd\" fill-opacity=\"1\" /><path clip-path=\"url(#clip610)\" d=\"M 0 0 M35.1993 735.849 Q31.2526 733.652 29.3747 730.597 Q27.4968 727.541 27.4968 723.404 Q27.4968 717.834 31.4117 714.81 Q35.2948 711.786 42.4881 711.786 L64.0042 711.786 L64.0042 717.674 L42.679 717.674 Q37.5546 717.674 35.072 719.489 Q32.5894 721.303 32.5894 725.027 Q32.5894 729.578 35.6131 732.22 Q38.6368 734.862 43.8567 734.862 L64.0042 734.862 L64.0042 740.75 L42.679 740.75 Q37.5228 740.75 35.072 742.564 Q32.5894 744.379 32.5894 748.166 Q32.5894 752.654 35.6449 755.296 Q38.6686 757.938 43.8567 757.938 L64.0042 757.938 L64.0042 763.826 L28.3562 763.826 L28.3562 757.938 L33.8944 757.938 Q30.616 755.932 29.0564 753.131 Q27.4968 750.331 27.4968 746.479 Q27.4968 742.596 29.4702 739.891 Q31.4436 737.154 35.1993 735.849 Z\" fill=\"#000000\" fill-rule=\"evenodd\" fill-opacity=\"1\" /><path clip-path=\"url(#clip610)\" d=\"M 0 0 M45.7664 682.186 Q39.4007 682.186 35.8996 684.827 Q32.3984 687.437 32.3984 692.18 Q32.3984 696.89 35.8996 699.532 Q39.4007 702.142 45.7664 702.142 Q52.1003 702.142 55.6014 699.532 Q59.1026 696.89 59.1026 692.18 Q59.1026 687.437 55.6014 684.827 Q52.1003 682.186 45.7664 682.186 M59.58 676.329 Q68.683 676.329 73.1071 680.371 Q77.5631 684.414 77.5631 692.753 Q77.5631 695.84 77.0857 698.577 Q76.6401 701.315 75.6852 703.893 L69.9879 703.893 Q71.3884 701.315 72.0568 698.8 Q72.7252 696.286 72.7252 693.676 Q72.7252 687.915 69.7015 685.05 Q66.7096 682.186 60.6303 682.186 L57.7339 682.186 Q60.885 684 62.4446 686.833 Q64.0042 689.665 64.0042 693.612 Q64.0042 700.169 59.0071 704.179 Q54.01 708.19 45.7664 708.19 Q37.491 708.19 32.4939 704.179 Q27.4968 700.169 27.4968 693.612 Q27.4968 689.665 29.0564 686.833 Q30.616 684 33.7671 682.186 L28.3562 682.186 L28.3562 676.329 L59.58 676.329 Z\" fill=\"#000000\" fill-rule=\"evenodd\" fill-opacity=\"1\" /><path clip-path=\"url(#clip610)\" d=\"M 0 0 M16.4842 659.778 L16.4842 654.367 L70.0516 670.918 L70.0516 676.329 L16.4842 659.778 Z\" fill=\"#000000\" fill-rule=\"evenodd\" fill-opacity=\"1\" /><path clip-path=\"url(#clip610)\" d=\"M 0 0 M14.479 648.225 L14.479 642.368 L64.0042 642.368 L64.0042 648.225 L14.479 648.225 Z\" fill=\"#000000\" fill-rule=\"evenodd\" fill-opacity=\"1\" /><path clip-path=\"url(#clip610)\" d=\"M 0 0 M14.479 622.539 L72.5979 622.539 L72.5979 636.034 L68.0464 636.034 L68.0464 628.427 L19.0304 628.427 L19.0304 636.034 L14.479 636.034 L14.479 622.539 Z\" fill=\"#000000\" fill-rule=\"evenodd\" fill-opacity=\"1\" /><circle clip-path=\"url(#clip612)\" cx=\"286.417\" cy=\"86.1857\" r=\"14\" fill=\"#da70d6\" fill-rule=\"evenodd\" fill-opacity=\"1\" stroke=\"#000000\" stroke-opacity=\"1\" stroke-width=\"3.2\"/>\n",
       "<circle clip-path=\"url(#clip612)\" cx=\"397.424\" cy=\"211.888\" r=\"14\" fill=\"#da70d6\" fill-rule=\"evenodd\" fill-opacity=\"1\" stroke=\"#000000\" stroke-opacity=\"1\" stroke-width=\"3.2\"/>\n",
       "<circle clip-path=\"url(#clip612)\" cx=\"509.768\" cy=\"481.014\" r=\"14\" fill=\"#da70d6\" fill-rule=\"evenodd\" fill-opacity=\"1\" stroke=\"#000000\" stroke-opacity=\"1\" stroke-width=\"3.2\"/>\n",
       "<circle clip-path=\"url(#clip612)\" cx=\"620.776\" cy=\"760.107\" r=\"14\" fill=\"#da70d6\" fill-rule=\"evenodd\" fill-opacity=\"1\" stroke=\"#000000\" stroke-opacity=\"1\" stroke-width=\"3.2\"/>\n",
       "<circle clip-path=\"url(#clip612)\" cx=\"777.256\" cy=\"848.708\" r=\"14\" fill=\"#da70d6\" fill-rule=\"evenodd\" fill-opacity=\"1\" stroke=\"#000000\" stroke-opacity=\"1\" stroke-width=\"3.2\"/>\n",
       "<circle clip-path=\"url(#clip612)\" cx=\"999.27\" cy=\"1004.87\" r=\"14\" fill=\"#da70d6\" fill-rule=\"evenodd\" fill-opacity=\"1\" stroke=\"#000000\" stroke-opacity=\"1\" stroke-width=\"3.2\"/>\n",
       "<circle clip-path=\"url(#clip612)\" cx=\"1178.49\" cy=\"1113.4\" r=\"14\" fill=\"#da70d6\" fill-rule=\"evenodd\" fill-opacity=\"1\" stroke=\"#000000\" stroke-opacity=\"1\" stroke-width=\"3.2\"/>\n",
       "<circle clip-path=\"url(#clip612)\" cx=\"1400.5\" cy=\"1218.06\" r=\"14\" fill=\"#da70d6\" fill-rule=\"evenodd\" fill-opacity=\"1\" stroke=\"#000000\" stroke-opacity=\"1\" stroke-width=\"3.2\"/>\n",
       "<circle clip-path=\"url(#clip612)\" cx=\"1623.85\" cy=\"1292.27\" r=\"14\" fill=\"#da70d6\" fill-rule=\"evenodd\" fill-opacity=\"1\" stroke=\"#000000\" stroke-opacity=\"1\" stroke-width=\"3.2\"/>\n",
       "<circle clip-path=\"url(#clip612)\" cx=\"2065.21\" cy=\"1329.37\" r=\"14\" fill=\"#da70d6\" fill-rule=\"evenodd\" fill-opacity=\"1\" stroke=\"#000000\" stroke-opacity=\"1\" stroke-width=\"3.2\"/>\n",
       "<circle clip-path=\"url(#clip612)\" cx=\"2185.58\" cy=\"1368.13\" r=\"14\" fill=\"#da70d6\" fill-rule=\"evenodd\" fill-opacity=\"1\" stroke=\"#000000\" stroke-opacity=\"1\" stroke-width=\"3.2\"/>\n",
       "<circle clip-path=\"url(#clip612)\" cx=\"2292.57\" cy=\"1378.1\" r=\"14\" fill=\"#da70d6\" fill-rule=\"evenodd\" fill-opacity=\"1\" stroke=\"#000000\" stroke-opacity=\"1\" stroke-width=\"3.2\"/>\n",
       "<polyline clip-path=\"url(#clip612)\" style=\"stroke:#e26f46; stroke-width:4; stroke-opacity:1; fill:none\" points=\"\n",
       "  286.417,86.1857 420.16,374.653 553.904,600.664 687.648,777.74 821.391,916.478 955.135,1025.18 1088.88,1110.34 1222.62,1177.07 1356.37,1229.34 1490.11,1270.3 \n",
       "  1623.85,1302.4 1757.6,1327.54 1891.34,1347.24 2025.08,1362.67 2158.83,1374.76 2292.57,1384.24 \n",
       "  \"/>\n",
       "<polyline clip-path=\"url(#clip612)\" style=\"stroke:#3da44d; stroke-width:4; stroke-opacity:1; fill:none\" points=\"\n",
       "  286.417,86.1857 420.16,374.644 553.904,600.649 687.648,777.723 821.391,916.46 955.135,1025.16 1088.88,1110.32 1222.62,1177.05 1356.37,1229.33 1490.11,1270.29 \n",
       "  1623.85,1302.38 1757.6,1327.53 1891.34,1347.23 2025.08,1362.67 2158.83,1374.76 2292.57,1384.23 \n",
       "  \"/>\n",
       "<circle clip-path=\"url(#clip612)\" cx=\"666.27\" cy=\"752.256\" r=\"18\" fill=\"#ffff00\" fill-rule=\"evenodd\" fill-opacity=\"1\" stroke=\"#000000\" stroke-opacity=\"1\" stroke-width=\"3.2\"/>\n",
       "<path clip-path=\"url(#clip610)\" d=\"\n",
       "M1588.07 395.509 L2281.87 395.509 L2281.87 93.1086 L1588.07 93.1086  Z\n",
       "  \" fill=\"#ffffff\" fill-rule=\"evenodd\" fill-opacity=\"1\"/>\n",
       "<polyline clip-path=\"url(#clip610)\" style=\"stroke:#000000; stroke-width:4; stroke-opacity:1; fill:none\" points=\"\n",
       "  1588.07,395.509 2281.87,395.509 2281.87,93.1086 1588.07,93.1086 1588.07,395.509 \n",
       "  \"/>\n",
       "<circle clip-path=\"url(#clip610)\" cx=\"1682.58\" cy=\"153.589\" r=\"23\" fill=\"#da70d6\" fill-rule=\"evenodd\" fill-opacity=\"1\" stroke=\"#000000\" stroke-opacity=\"1\" stroke-width=\"5.12\"/>\n",
       "<path clip-path=\"url(#clip610)\" d=\"M 0 0 M1777.09 144.943 L1781.35 144.943 L1786.68 165.174 L1791.98 144.943 L1797 144.943 L1802.33 165.174 L1807.63 144.943 L1811.89 144.943 L1805.1 170.869 L1800.08 170.869 L1794.5 149.619 L1788.9 170.869 L1783.88 170.869 L1777.09 144.943 Z\" fill=\"#000000\" fill-rule=\"evenodd\" fill-opacity=\"1\" /><path clip-path=\"url(#clip610)\" d=\"M 0 0 M1828.14 157.836 Q1822.97 157.836 1820.98 159.017 Q1818.99 160.197 1818.99 163.045 Q1818.99 165.313 1820.47 166.656 Q1821.98 167.975 1824.55 167.975 Q1828.09 167.975 1830.22 165.475 Q1832.37 162.952 1832.37 158.785 L1832.37 157.836 L1828.14 157.836 M1836.63 156.077 L1836.63 170.869 L1832.37 170.869 L1832.37 166.933 Q1830.91 169.295 1828.74 170.429 Q1826.56 171.54 1823.41 171.54 Q1819.43 171.54 1817.07 169.318 Q1814.73 167.072 1814.73 163.322 Q1814.73 158.947 1817.65 156.725 Q1820.59 154.503 1826.4 154.503 L1832.37 154.503 L1832.37 154.086 Q1832.37 151.147 1830.43 149.549 Q1828.51 147.929 1825.01 147.929 Q1822.79 147.929 1820.68 148.461 Q1818.58 148.994 1816.63 150.059 L1816.63 146.123 Q1818.97 145.221 1821.17 144.781 Q1823.37 144.318 1825.45 144.318 Q1831.08 144.318 1833.85 147.234 Q1836.63 150.151 1836.63 156.077 Z\" fill=\"#000000\" fill-rule=\"evenodd\" fill-opacity=\"1\" /><path clip-path=\"url(#clip610)\" d=\"M 0 0 M1856.12 148.924 Q1855.4 148.508 1854.55 148.322 Q1853.71 148.114 1852.7 148.114 Q1849.09 148.114 1847.14 150.475 Q1845.22 152.813 1845.22 157.211 L1845.22 170.869 L1840.94 170.869 L1840.94 144.943 L1845.22 144.943 L1845.22 148.971 Q1846.56 146.609 1848.71 145.475 Q1850.87 144.318 1853.95 144.318 Q1854.39 144.318 1854.92 144.387 Q1855.45 144.434 1856.1 144.549 L1856.12 148.924 Z\" fill=\"#000000\" fill-rule=\"evenodd\" fill-opacity=\"1\" /><path clip-path=\"url(#clip610)\" d=\"M 0 0 M1864.8 137.582 L1864.8 144.943 L1873.58 144.943 L1873.58 148.253 L1864.8 148.253 L1864.8 162.327 Q1864.8 165.498 1865.66 166.401 Q1866.54 167.304 1869.2 167.304 L1873.58 167.304 L1873.58 170.869 L1869.2 170.869 Q1864.27 170.869 1862.4 169.04 Q1860.52 167.188 1860.52 162.327 L1860.52 148.253 L1857.4 148.253 L1857.4 144.943 L1860.52 144.943 L1860.52 137.582 L1864.8 137.582 Z\" fill=\"#000000\" fill-rule=\"evenodd\" fill-opacity=\"1\" /><path clip-path=\"url(#clip610)\" d=\"M 0 0 M1888.09 147.929 Q1884.66 147.929 1882.67 150.614 Q1880.68 153.276 1880.68 157.929 Q1880.68 162.582 1882.65 165.267 Q1884.64 167.929 1888.09 167.929 Q1891.49 167.929 1893.48 165.244 Q1895.47 162.558 1895.47 157.929 Q1895.47 153.322 1893.48 150.637 Q1891.49 147.929 1888.09 147.929 M1888.09 144.318 Q1893.65 144.318 1896.82 147.929 Q1899.99 151.54 1899.99 157.929 Q1899.99 164.295 1896.82 167.929 Q1893.65 171.54 1888.09 171.54 Q1882.51 171.54 1879.34 167.929 Q1876.19 164.295 1876.19 157.929 Q1876.19 151.54 1879.34 147.929 Q1882.51 144.318 1888.09 144.318 Z\" fill=\"#000000\" fill-rule=\"evenodd\" fill-opacity=\"1\" /><path clip-path=\"url(#clip610)\" d=\"M 0 0 M1916.58 132.79 L1921.19 132.79 L1913.65 141.494 L1910.1 141.494 L1916.58 132.79 M1920.98 145.707 L1920.98 149.734 Q1919.18 148.809 1917.23 148.346 Q1915.29 147.883 1913.21 147.883 Q1910.03 147.883 1908.44 148.855 Q1906.86 149.827 1906.86 151.771 Q1906.86 153.253 1908 154.109 Q1909.13 154.943 1912.56 155.707 L1914.02 156.031 Q1918.55 157.003 1920.45 158.785 Q1922.37 160.545 1922.37 163.716 Q1922.37 167.327 1919.5 169.433 Q1916.65 171.54 1911.65 171.54 Q1909.57 171.54 1907.3 171.123 Q1905.06 170.73 1902.56 169.92 L1902.56 165.521 Q1904.92 166.748 1907.21 167.373 Q1909.5 167.975 1911.75 167.975 Q1914.76 167.975 1916.38 166.957 Q1918 165.915 1918 164.04 Q1918 162.304 1916.82 161.378 Q1915.66 160.452 1911.7 159.596 L1910.22 159.248 Q1906.26 158.415 1904.5 156.702 Q1902.74 154.966 1902.74 151.957 Q1902.74 148.299 1905.34 146.309 Q1907.93 144.318 1912.7 144.318 Q1915.06 144.318 1917.14 144.665 Q1919.22 145.012 1920.98 145.707 Z\" fill=\"#000000\" fill-rule=\"evenodd\" fill-opacity=\"1\" /><path clip-path=\"url(#clip610)\" d=\"M 0 0 M1945.5 145.938 L1945.5 149.92 Q1943.69 148.924 1941.86 148.438 Q1940.06 147.929 1938.21 147.929 Q1934.06 147.929 1931.77 150.568 Q1929.48 153.184 1929.48 157.929 Q1929.48 162.674 1931.77 165.313 Q1934.06 167.929 1938.21 167.929 Q1940.06 167.929 1941.86 167.443 Q1943.69 166.933 1945.5 165.938 L1945.5 169.873 Q1943.71 170.707 1941.79 171.123 Q1939.9 171.54 1937.74 171.54 Q1931.89 171.54 1928.44 167.859 Q1924.99 164.179 1924.99 157.929 Q1924.99 151.586 1928.46 147.952 Q1931.96 144.318 1938.02 144.318 Q1939.99 144.318 1941.86 144.735 Q1943.74 145.128 1945.5 145.938 Z\" fill=\"#000000\" fill-rule=\"evenodd\" fill-opacity=\"1\" /><path clip-path=\"url(#clip610)\" d=\"M 0 0 M1949.96 144.943 L1954.22 144.943 L1954.22 170.869 L1949.96 170.869 L1949.96 144.943 M1949.96 134.85 L1954.22 134.85 L1954.22 140.244 L1949.96 140.244 L1949.96 134.85 Z\" fill=\"#000000\" fill-rule=\"evenodd\" fill-opacity=\"1\" /><path clip-path=\"url(#clip610)\" d=\"M 0 0 M1993.95 149.92 Q1995.54 147.049 1997.77 145.684 Q1999.99 144.318 2003 144.318 Q2007.05 144.318 2009.25 147.165 Q2011.45 149.989 2011.45 155.221 L2011.45 170.869 L2007.16 170.869 L2007.16 155.359 Q2007.16 151.633 2005.84 149.827 Q2004.52 148.022 2001.82 148.022 Q1998.51 148.022 1996.58 150.221 Q1994.66 152.42 1994.66 156.216 L1994.66 170.869 L1990.38 170.869 L1990.38 155.359 Q1990.38 151.609 1989.06 149.827 Q1987.74 148.022 1984.99 148.022 Q1981.72 148.022 1979.8 150.244 Q1977.88 152.443 1977.88 156.216 L1977.88 170.869 L1973.6 170.869 L1973.6 144.943 L1977.88 144.943 L1977.88 148.971 Q1979.34 146.586 1981.38 145.452 Q1983.41 144.318 1986.21 144.318 Q1989.04 144.318 1991.01 145.753 Q1993 147.188 1993.95 149.92 Z\" fill=\"#000000\" fill-rule=\"evenodd\" fill-opacity=\"1\" /><path clip-path=\"url(#clip610)\" d=\"M 0 0 M2015.91 144.943 L2020.17 144.943 L2020.17 170.869 L2015.91 170.869 L2015.91 144.943 M2015.91 134.85 L2020.17 134.85 L2020.17 140.244 L2015.91 140.244 L2015.91 134.85 Z\" fill=\"#000000\" fill-rule=\"evenodd\" fill-opacity=\"1\" /><path clip-path=\"url(#clip610)\" d=\"M 0 0 M2046.82 156.841 L2046.82 158.924 L2027.23 158.924 Q2027.51 163.322 2029.87 165.637 Q2032.26 167.929 2036.49 167.929 Q2038.95 167.929 2041.24 167.327 Q2043.55 166.725 2045.82 165.521 L2045.82 169.549 Q2043.53 170.521 2041.12 171.031 Q2038.71 171.54 2036.24 171.54 Q2030.03 171.54 2026.4 167.929 Q2022.79 164.318 2022.79 158.16 Q2022.79 151.795 2026.21 148.068 Q2029.66 144.318 2035.5 144.318 Q2040.73 144.318 2043.76 147.697 Q2046.82 151.054 2046.82 156.841 M2042.56 155.591 Q2042.51 152.096 2040.59 150.012 Q2038.69 147.929 2035.54 147.929 Q2031.98 147.929 2029.83 149.943 Q2027.7 151.957 2027.37 155.614 L2042.56 155.591 Z\" fill=\"#000000\" fill-rule=\"evenodd\" fill-opacity=\"1\" /><path clip-path=\"url(#clip610)\" d=\"M 0 0 M2066.31 148.924 Q2065.59 148.508 2064.73 148.322 Q2063.9 148.114 2062.88 148.114 Q2059.27 148.114 2057.32 150.475 Q2055.4 152.813 2055.4 157.211 L2055.4 170.869 L2051.12 170.869 L2051.12 144.943 L2055.4 144.943 L2055.4 148.971 Q2056.75 146.609 2058.9 145.475 Q2061.05 144.318 2064.13 144.318 Q2064.57 144.318 2065.1 144.387 Q2065.64 144.434 2066.28 144.549 L2066.31 148.924 Z\" fill=\"#000000\" fill-rule=\"evenodd\" fill-opacity=\"1\" /><path clip-path=\"url(#clip610)\" d=\"M 0 0 M2068.92 144.943 L2089.15 144.943 L2089.15 148.832 L2073.14 167.466 L2089.15 167.466 L2089.15 170.869 L2068.34 170.869 L2068.34 166.98 L2084.36 148.346 L2068.92 148.346 L2068.92 144.943 Z\" fill=\"#000000\" fill-rule=\"evenodd\" fill-opacity=\"1\" /><path clip-path=\"url(#clip610)\" d=\"M 0 0 M2103.67 147.929 Q2100.24 147.929 2098.25 150.614 Q2096.26 153.276 2096.26 157.929 Q2096.26 162.582 2098.23 165.267 Q2100.22 167.929 2103.67 167.929 Q2107.07 167.929 2109.06 165.244 Q2111.05 162.558 2111.05 157.929 Q2111.05 153.322 2109.06 150.637 Q2107.07 147.929 2103.67 147.929 M2103.67 144.318 Q2109.22 144.318 2112.39 147.929 Q2115.57 151.54 2115.57 157.929 Q2115.57 164.295 2112.39 167.929 Q2109.22 171.54 2103.67 171.54 Q2098.09 171.54 2094.92 167.929 Q2091.77 164.295 2091.77 157.929 Q2091.77 151.54 2094.92 147.929 Q2098.09 144.318 2103.67 144.318 Z\" fill=\"#000000\" fill-rule=\"evenodd\" fill-opacity=\"1\" /><path clip-path=\"url(#clip610)\" d=\"M 0 0 M2141.58 155.221 L2141.58 170.869 L2137.32 170.869 L2137.32 155.359 Q2137.32 151.679 2135.89 149.85 Q2134.45 148.022 2131.58 148.022 Q2128.13 148.022 2126.14 150.221 Q2124.15 152.42 2124.15 156.216 L2124.15 170.869 L2119.87 170.869 L2119.87 144.943 L2124.15 144.943 L2124.15 148.971 Q2125.68 146.633 2127.74 145.475 Q2129.82 144.318 2132.53 144.318 Q2137 144.318 2139.29 147.096 Q2141.58 149.85 2141.58 155.221 Z\" fill=\"#000000\" fill-rule=\"evenodd\" fill-opacity=\"1\" /><path clip-path=\"url(#clip610)\" d=\"M 0 0 M2168.23 156.841 L2168.23 158.924 L2148.64 158.924 Q2148.92 163.322 2151.28 165.637 Q2153.67 167.929 2157.9 167.929 Q2160.36 167.929 2162.65 167.327 Q2164.96 166.725 2167.23 165.521 L2167.23 169.549 Q2164.94 170.521 2162.53 171.031 Q2160.13 171.54 2157.65 171.54 Q2151.44 171.54 2147.81 167.929 Q2144.2 164.318 2144.2 158.16 Q2144.2 151.795 2147.63 148.068 Q2151.07 144.318 2156.91 144.318 Q2162.14 144.318 2165.17 147.697 Q2168.23 151.054 2168.23 156.841 M2163.97 155.591 Q2163.92 152.096 2162 150.012 Q2160.1 147.929 2156.95 147.929 Q2153.39 147.929 2151.24 149.943 Q2149.11 151.957 2148.78 155.614 L2163.97 155.591 Z\" fill=\"#000000\" fill-rule=\"evenodd\" fill-opacity=\"1\" /><polyline clip-path=\"url(#clip610)\" style=\"stroke:#e26f46; stroke-width:4; stroke-opacity:1; fill:none\" points=\"\n",
       "  1611.7,214.069 1753.47,214.069 \n",
       "  \"/>\n",
       "<path clip-path=\"url(#clip610)\" d=\"M 0 0 M1777.09 205.423 L1781.35 205.423 L1786.68 225.654 L1791.98 205.423 L1797 205.423 L1802.33 225.654 L1807.63 205.423 L1811.89 205.423 L1805.1 231.349 L1800.08 231.349 L1794.5 210.099 L1788.9 231.349 L1783.88 231.349 L1777.09 205.423 Z\" fill=\"#000000\" fill-rule=\"evenodd\" fill-opacity=\"1\" /><path clip-path=\"url(#clip610)\" d=\"M 0 0 M1828.14 218.316 Q1822.97 218.316 1820.98 219.497 Q1818.99 220.677 1818.99 223.525 Q1818.99 225.793 1820.47 227.136 Q1821.98 228.455 1824.55 228.455 Q1828.09 228.455 1830.22 225.955 Q1832.37 223.432 1832.37 219.265 L1832.37 218.316 L1828.14 218.316 M1836.63 216.557 L1836.63 231.349 L1832.37 231.349 L1832.37 227.413 Q1830.91 229.775 1828.74 230.909 Q1826.56 232.02 1823.41 232.02 Q1819.43 232.02 1817.07 229.798 Q1814.73 227.552 1814.73 223.802 Q1814.73 219.427 1817.65 217.205 Q1820.59 214.983 1826.4 214.983 L1832.37 214.983 L1832.37 214.566 Q1832.37 211.627 1830.43 210.029 Q1828.51 208.409 1825.01 208.409 Q1822.79 208.409 1820.68 208.941 Q1818.58 209.474 1816.63 210.539 L1816.63 206.603 Q1818.97 205.701 1821.17 205.261 Q1823.37 204.798 1825.45 204.798 Q1831.08 204.798 1833.85 207.714 Q1836.63 210.631 1836.63 216.557 Z\" fill=\"#000000\" fill-rule=\"evenodd\" fill-opacity=\"1\" /><path clip-path=\"url(#clip610)\" d=\"M 0 0 M1856.12 209.404 Q1855.4 208.988 1854.55 208.802 Q1853.71 208.594 1852.7 208.594 Q1849.09 208.594 1847.14 210.955 Q1845.22 213.293 1845.22 217.691 L1845.22 231.349 L1840.94 231.349 L1840.94 205.423 L1845.22 205.423 L1845.22 209.451 Q1846.56 207.089 1848.71 205.955 Q1850.87 204.798 1853.95 204.798 Q1854.39 204.798 1854.92 204.867 Q1855.45 204.914 1856.1 205.029 L1856.12 209.404 Z\" fill=\"#000000\" fill-rule=\"evenodd\" fill-opacity=\"1\" /><path clip-path=\"url(#clip610)\" d=\"M 0 0 M1864.8 198.062 L1864.8 205.423 L1873.58 205.423 L1873.58 208.733 L1864.8 208.733 L1864.8 222.807 Q1864.8 225.978 1865.66 226.881 Q1866.54 227.784 1869.2 227.784 L1873.58 227.784 L1873.58 231.349 L1869.2 231.349 Q1864.27 231.349 1862.4 229.52 Q1860.52 227.668 1860.52 222.807 L1860.52 208.733 L1857.4 208.733 L1857.4 205.423 L1860.52 205.423 L1860.52 198.062 L1864.8 198.062 Z\" fill=\"#000000\" fill-rule=\"evenodd\" fill-opacity=\"1\" /><path clip-path=\"url(#clip610)\" d=\"M 0 0 M1888.09 208.409 Q1884.66 208.409 1882.67 211.094 Q1880.68 213.756 1880.68 218.409 Q1880.68 223.062 1882.65 225.747 Q1884.64 228.409 1888.09 228.409 Q1891.49 228.409 1893.48 225.724 Q1895.47 223.038 1895.47 218.409 Q1895.47 213.802 1893.48 211.117 Q1891.49 208.409 1888.09 208.409 M1888.09 204.798 Q1893.65 204.798 1896.82 208.409 Q1899.99 212.02 1899.99 218.409 Q1899.99 224.775 1896.82 228.409 Q1893.65 232.02 1888.09 232.02 Q1882.51 232.02 1879.34 228.409 Q1876.19 224.775 1876.19 218.409 Q1876.19 212.02 1879.34 208.409 Q1882.51 204.798 1888.09 204.798 Z\" fill=\"#000000\" fill-rule=\"evenodd\" fill-opacity=\"1\" /><path clip-path=\"url(#clip610)\" d=\"M 0 0 M1916.58 193.27 L1921.19 193.27 L1913.65 201.974 L1910.1 201.974 L1916.58 193.27 M1920.98 206.187 L1920.98 210.214 Q1919.18 209.289 1917.23 208.826 Q1915.29 208.363 1913.21 208.363 Q1910.03 208.363 1908.44 209.335 Q1906.86 210.307 1906.86 212.251 Q1906.86 213.733 1908 214.589 Q1909.13 215.423 1912.56 216.187 L1914.02 216.511 Q1918.55 217.483 1920.45 219.265 Q1922.37 221.025 1922.37 224.196 Q1922.37 227.807 1919.5 229.913 Q1916.65 232.02 1911.65 232.02 Q1909.57 232.02 1907.3 231.603 Q1905.06 231.21 1902.56 230.4 L1902.56 226.001 Q1904.92 227.228 1907.21 227.853 Q1909.5 228.455 1911.75 228.455 Q1914.76 228.455 1916.38 227.437 Q1918 226.395 1918 224.52 Q1918 222.784 1916.82 221.858 Q1915.66 220.932 1911.7 220.076 L1910.22 219.728 Q1906.26 218.895 1904.5 217.182 Q1902.74 215.446 1902.74 212.437 Q1902.74 208.779 1905.34 206.789 Q1907.93 204.798 1912.7 204.798 Q1915.06 204.798 1917.14 205.145 Q1919.22 205.492 1920.98 206.187 Z\" fill=\"#000000\" fill-rule=\"evenodd\" fill-opacity=\"1\" /><path clip-path=\"url(#clip610)\" d=\"M 0 0 M1945.5 206.418 L1945.5 210.4 Q1943.69 209.404 1941.86 208.918 Q1940.06 208.409 1938.21 208.409 Q1934.06 208.409 1931.77 211.048 Q1929.48 213.664 1929.48 218.409 Q1929.48 223.154 1931.77 225.793 Q1934.06 228.409 1938.21 228.409 Q1940.06 228.409 1941.86 227.923 Q1943.69 227.413 1945.5 226.418 L1945.5 230.353 Q1943.71 231.187 1941.79 231.603 Q1939.9 232.02 1937.74 232.02 Q1931.89 232.02 1928.44 228.339 Q1924.99 224.659 1924.99 218.409 Q1924.99 212.066 1928.46 208.432 Q1931.96 204.798 1938.02 204.798 Q1939.99 204.798 1941.86 205.215 Q1943.74 205.608 1945.5 206.418 Z\" fill=\"#000000\" fill-rule=\"evenodd\" fill-opacity=\"1\" /><path clip-path=\"url(#clip610)\" d=\"M 0 0 M1949.96 205.423 L1954.22 205.423 L1954.22 231.349 L1949.96 231.349 L1949.96 205.423 M1949.96 195.33 L1954.22 195.33 L1954.22 200.724 L1949.96 200.724 L1949.96 195.33 Z\" fill=\"#000000\" fill-rule=\"evenodd\" fill-opacity=\"1\" /><path clip-path=\"url(#clip610)\" d=\"M 0 0 M1985.54 218.316 Q1980.38 218.316 1978.39 219.497 Q1976.4 220.677 1976.4 223.525 Q1976.4 225.793 1977.88 227.136 Q1979.39 228.455 1981.96 228.455 Q1985.5 228.455 1987.63 225.955 Q1989.78 223.432 1989.78 219.265 L1989.78 218.316 L1985.54 218.316 M1994.04 216.557 L1994.04 231.349 L1989.78 231.349 L1989.78 227.413 Q1988.32 229.775 1986.14 230.909 Q1983.97 232.02 1980.82 232.02 Q1976.84 232.02 1974.48 229.798 Q1972.14 227.552 1972.14 223.802 Q1972.14 219.427 1975.06 217.205 Q1978 214.983 1983.81 214.983 L1989.78 214.983 L1989.78 214.566 Q1989.78 211.627 1987.83 210.029 Q1985.91 208.409 1982.42 208.409 Q1980.2 208.409 1978.09 208.941 Q1975.98 209.474 1974.04 210.539 L1974.04 206.603 Q1976.38 205.701 1978.58 205.261 Q1980.77 204.798 1982.86 204.798 Q1988.48 204.798 1991.26 207.714 Q1994.04 210.631 1994.04 216.557 Z\" fill=\"#000000\" fill-rule=\"evenodd\" fill-opacity=\"1\" /><path clip-path=\"url(#clip610)\" d=\"M 0 0 M2020.06 215.701 L2020.06 231.349 L2015.8 231.349 L2015.8 215.839 Q2015.8 212.159 2014.36 210.33 Q2012.93 208.502 2010.06 208.502 Q2006.61 208.502 2004.62 210.701 Q2002.63 212.9 2002.63 216.696 L2002.63 231.349 L1998.34 231.349 L1998.34 205.423 L2002.63 205.423 L2002.63 209.451 Q2004.15 207.113 2006.21 205.955 Q2008.3 204.798 2011.01 204.798 Q2015.47 204.798 2017.76 207.576 Q2020.06 210.33 2020.06 215.701 Z\" fill=\"#000000\" fill-rule=\"evenodd\" fill-opacity=\"1\" /><path clip-path=\"url(#clip610)\" d=\"M 0 0 M2036.31 218.316 Q2031.14 218.316 2029.15 219.497 Q2027.16 220.677 2027.16 223.525 Q2027.16 225.793 2028.64 227.136 Q2030.15 228.455 2032.72 228.455 Q2036.26 228.455 2038.39 225.955 Q2040.54 223.432 2040.54 219.265 L2040.54 218.316 L2036.31 218.316 M2044.8 216.557 L2044.8 231.349 L2040.54 231.349 L2040.54 227.413 Q2039.08 229.775 2036.91 230.909 Q2034.73 232.02 2031.58 232.02 Q2027.6 232.02 2025.24 229.798 Q2022.9 227.552 2022.9 223.802 Q2022.9 219.427 2025.82 217.205 Q2028.76 214.983 2034.57 214.983 L2040.54 214.983 L2040.54 214.566 Q2040.54 211.627 2038.6 210.029 Q2036.68 208.409 2033.18 208.409 Q2030.96 208.409 2028.85 208.941 Q2026.75 209.474 2024.8 210.539 L2024.8 206.603 Q2027.14 205.701 2029.34 205.261 Q2031.54 204.798 2033.62 204.798 Q2039.25 204.798 2042.02 207.714 Q2044.8 210.631 2044.8 216.557 Z\" fill=\"#000000\" fill-rule=\"evenodd\" fill-opacity=\"1\" /><path clip-path=\"url(#clip610)\" d=\"M 0 0 M2049.27 195.33 L2053.53 195.33 L2053.53 231.349 L2049.27 231.349 L2049.27 195.33 Z\" fill=\"#000000\" fill-rule=\"evenodd\" fill-opacity=\"1\" /><path clip-path=\"url(#clip610)\" d=\"M 0 0 M2058 205.423 L2062.26 205.423 L2062.26 231.349 L2058 231.349 L2058 205.423 M2058 195.33 L2062.26 195.33 L2062.26 200.724 L2058 200.724 L2058 195.33 Z\" fill=\"#000000\" fill-rule=\"evenodd\" fill-opacity=\"1\" /><path clip-path=\"url(#clip610)\" d=\"M 0 0 M2070.94 198.062 L2070.94 205.423 L2079.71 205.423 L2079.71 208.733 L2070.94 208.733 L2070.94 222.807 Q2070.94 225.978 2071.79 226.881 Q2072.67 227.784 2075.33 227.784 L2079.71 227.784 L2079.71 231.349 L2075.33 231.349 Q2070.4 231.349 2068.53 229.52 Q2066.65 227.668 2066.65 222.807 L2066.65 208.733 L2063.53 208.733 L2063.53 205.423 L2066.65 205.423 L2066.65 198.062 L2070.94 198.062 Z\" fill=\"#000000\" fill-rule=\"evenodd\" fill-opacity=\"1\" /><path clip-path=\"url(#clip610)\" d=\"M 0 0 M2094.96 233.756 Q2093.16 238.386 2091.45 239.798 Q2089.73 241.21 2086.86 241.21 L2083.46 241.21 L2083.46 237.645 L2085.96 237.645 Q2087.72 237.645 2088.69 236.812 Q2089.66 235.978 2090.84 232.876 L2091.61 230.932 L2081.12 205.423 L2085.64 205.423 L2093.74 225.701 L2101.84 205.423 L2106.35 205.423 L2094.96 233.756 Z\" fill=\"#000000\" fill-rule=\"evenodd\" fill-opacity=\"1\" /><path clip-path=\"url(#clip610)\" d=\"M 0 0 M2129.48 206.418 L2129.48 210.4 Q2127.67 209.404 2125.84 208.918 Q2124.04 208.409 2122.19 208.409 Q2118.04 208.409 2115.75 211.048 Q2113.46 213.664 2113.46 218.409 Q2113.46 223.154 2115.75 225.793 Q2118.04 228.409 2122.19 228.409 Q2124.04 228.409 2125.84 227.923 Q2127.67 227.413 2129.48 226.418 L2129.48 230.353 Q2127.69 231.187 2125.77 231.603 Q2123.88 232.02 2121.72 232.02 Q2115.87 232.02 2112.42 228.339 Q2108.97 224.659 2108.97 218.409 Q2108.97 212.066 2112.44 208.432 Q2115.94 204.798 2122 204.798 Q2123.97 204.798 2125.84 205.215 Q2127.72 205.608 2129.48 206.418 Z\" fill=\"#000000\" fill-rule=\"evenodd\" fill-opacity=\"1\" /><path clip-path=\"url(#clip610)\" d=\"M 0 0 M2132.09 205.423 L2152.32 205.423 L2152.32 209.312 L2136.31 227.946 L2152.32 227.946 L2152.32 231.349 L2131.51 231.349 L2131.51 227.46 L2147.53 208.826 L2132.09 208.826 L2132.09 205.423 Z\" fill=\"#000000\" fill-rule=\"evenodd\" fill-opacity=\"1\" /><path clip-path=\"url(#clip610)\" d=\"M 0 0 M2178.34 215.701 L2178.34 231.349 L2174.08 231.349 L2174.08 215.839 Q2174.08 212.159 2172.65 210.33 Q2171.21 208.502 2168.34 208.502 Q2164.89 208.502 2162.9 210.701 Q2160.91 212.9 2160.91 216.696 L2160.91 231.349 L2156.63 231.349 L2156.63 205.423 L2160.91 205.423 L2160.91 209.451 Q2162.44 207.113 2164.5 205.955 Q2166.58 204.798 2169.29 204.798 Q2173.76 204.798 2176.05 207.576 Q2178.34 210.33 2178.34 215.701 Z\" fill=\"#000000\" fill-rule=\"evenodd\" fill-opacity=\"1\" /><path clip-path=\"url(#clip610)\" d=\"M 0 0 M2204.99 217.321 L2204.99 219.404 L2185.4 219.404 Q2185.68 223.802 2188.04 226.117 Q2190.43 228.409 2194.66 228.409 Q2197.12 228.409 2199.41 227.807 Q2201.72 227.205 2203.99 226.001 L2203.99 230.029 Q2201.7 231.001 2199.29 231.511 Q2196.88 232.02 2194.41 232.02 Q2188.2 232.02 2184.57 228.409 Q2180.96 224.798 2180.96 218.64 Q2180.96 212.275 2184.38 208.548 Q2187.83 204.798 2193.67 204.798 Q2198.9 204.798 2201.93 208.177 Q2204.99 211.534 2204.99 217.321 M2200.73 216.071 Q2200.68 212.576 2198.76 210.492 Q2196.86 208.409 2193.71 208.409 Q2190.15 208.409 2188 210.423 Q2185.87 212.437 2185.54 216.094 L2200.73 216.071 Z\" fill=\"#000000\" fill-rule=\"evenodd\" fill-opacity=\"1\" /><polyline clip-path=\"url(#clip610)\" style=\"stroke:#3da44d; stroke-width:4; stroke-opacity:1; fill:none\" points=\"\n",
       "  1611.7,274.549 1753.47,274.549 \n",
       "  \"/>\n",
       "<path clip-path=\"url(#clip610)\" d=\"M 0 0 M1777.09 265.903 L1781.35 265.903 L1786.68 286.134 L1791.98 265.903 L1797 265.903 L1802.33 286.134 L1807.63 265.903 L1811.89 265.903 L1805.1 291.829 L1800.08 291.829 L1794.5 270.579 L1788.9 291.829 L1783.88 291.829 L1777.09 265.903 Z\" fill=\"#000000\" fill-rule=\"evenodd\" fill-opacity=\"1\" /><path clip-path=\"url(#clip610)\" d=\"M 0 0 M1828.14 278.796 Q1822.97 278.796 1820.98 279.977 Q1818.99 281.157 1818.99 284.005 Q1818.99 286.273 1820.47 287.616 Q1821.98 288.935 1824.55 288.935 Q1828.09 288.935 1830.22 286.435 Q1832.37 283.912 1832.37 279.745 L1832.37 278.796 L1828.14 278.796 M1836.63 277.037 L1836.63 291.829 L1832.37 291.829 L1832.37 287.893 Q1830.91 290.255 1828.74 291.389 Q1826.56 292.5 1823.41 292.5 Q1819.43 292.5 1817.07 290.278 Q1814.73 288.032 1814.73 284.282 Q1814.73 279.907 1817.65 277.685 Q1820.59 275.463 1826.4 275.463 L1832.37 275.463 L1832.37 275.046 Q1832.37 272.107 1830.43 270.509 Q1828.51 268.889 1825.01 268.889 Q1822.79 268.889 1820.68 269.421 Q1818.58 269.954 1816.63 271.019 L1816.63 267.083 Q1818.97 266.181 1821.17 265.741 Q1823.37 265.278 1825.45 265.278 Q1831.08 265.278 1833.85 268.194 Q1836.63 271.111 1836.63 277.037 Z\" fill=\"#000000\" fill-rule=\"evenodd\" fill-opacity=\"1\" /><path clip-path=\"url(#clip610)\" d=\"M 0 0 M1856.12 269.884 Q1855.4 269.468 1854.55 269.282 Q1853.71 269.074 1852.7 269.074 Q1849.09 269.074 1847.14 271.435 Q1845.22 273.773 1845.22 278.171 L1845.22 291.829 L1840.94 291.829 L1840.94 265.903 L1845.22 265.903 L1845.22 269.931 Q1846.56 267.569 1848.71 266.435 Q1850.87 265.278 1853.95 265.278 Q1854.39 265.278 1854.92 265.347 Q1855.45 265.394 1856.1 265.509 L1856.12 269.884 Z\" fill=\"#000000\" fill-rule=\"evenodd\" fill-opacity=\"1\" /><path clip-path=\"url(#clip610)\" d=\"M 0 0 M1864.8 258.542 L1864.8 265.903 L1873.58 265.903 L1873.58 269.213 L1864.8 269.213 L1864.8 283.287 Q1864.8 286.458 1865.66 287.361 Q1866.54 288.264 1869.2 288.264 L1873.58 288.264 L1873.58 291.829 L1869.2 291.829 Q1864.27 291.829 1862.4 290 Q1860.52 288.148 1860.52 283.287 L1860.52 269.213 L1857.4 269.213 L1857.4 265.903 L1860.52 265.903 L1860.52 258.542 L1864.8 258.542 Z\" fill=\"#000000\" fill-rule=\"evenodd\" fill-opacity=\"1\" /><path clip-path=\"url(#clip610)\" d=\"M 0 0 M1888.09 268.889 Q1884.66 268.889 1882.67 271.574 Q1880.68 274.236 1880.68 278.889 Q1880.68 283.542 1882.65 286.227 Q1884.64 288.889 1888.09 288.889 Q1891.49 288.889 1893.48 286.204 Q1895.47 283.518 1895.47 278.889 Q1895.47 274.282 1893.48 271.597 Q1891.49 268.889 1888.09 268.889 M1888.09 265.278 Q1893.65 265.278 1896.82 268.889 Q1899.99 272.5 1899.99 278.889 Q1899.99 285.255 1896.82 288.889 Q1893.65 292.5 1888.09 292.5 Q1882.51 292.5 1879.34 288.889 Q1876.19 285.255 1876.19 278.889 Q1876.19 272.5 1879.34 268.889 Q1882.51 265.278 1888.09 265.278 Z\" fill=\"#000000\" fill-rule=\"evenodd\" fill-opacity=\"1\" /><path clip-path=\"url(#clip610)\" d=\"M 0 0 M1916.58 253.75 L1921.19 253.75 L1913.65 262.454 L1910.1 262.454 L1916.58 253.75 M1920.98 266.667 L1920.98 270.694 Q1919.18 269.769 1917.23 269.306 Q1915.29 268.843 1913.21 268.843 Q1910.03 268.843 1908.44 269.815 Q1906.86 270.787 1906.86 272.731 Q1906.86 274.213 1908 275.069 Q1909.13 275.903 1912.56 276.667 L1914.02 276.991 Q1918.55 277.963 1920.45 279.745 Q1922.37 281.505 1922.37 284.676 Q1922.37 288.287 1919.5 290.393 Q1916.65 292.5 1911.65 292.5 Q1909.57 292.5 1907.3 292.083 Q1905.06 291.69 1902.56 290.88 L1902.56 286.481 Q1904.92 287.708 1907.21 288.333 Q1909.5 288.935 1911.75 288.935 Q1914.76 288.935 1916.38 287.917 Q1918 286.875 1918 285 Q1918 283.264 1916.82 282.338 Q1915.66 281.412 1911.7 280.556 L1910.22 280.208 Q1906.26 279.375 1904.5 277.662 Q1902.74 275.926 1902.74 272.917 Q1902.74 269.259 1905.34 267.269 Q1907.93 265.278 1912.7 265.278 Q1915.06 265.278 1917.14 265.625 Q1919.22 265.972 1920.98 266.667 Z\" fill=\"#000000\" fill-rule=\"evenodd\" fill-opacity=\"1\" /><path clip-path=\"url(#clip610)\" d=\"M 0 0 M1945.5 266.898 L1945.5 270.88 Q1943.69 269.884 1941.86 269.398 Q1940.06 268.889 1938.21 268.889 Q1934.06 268.889 1931.77 271.528 Q1929.48 274.144 1929.48 278.889 Q1929.48 283.634 1931.77 286.273 Q1934.06 288.889 1938.21 288.889 Q1940.06 288.889 1941.86 288.403 Q1943.69 287.893 1945.5 286.898 L1945.5 290.833 Q1943.71 291.667 1941.79 292.083 Q1939.9 292.5 1937.74 292.5 Q1931.89 292.5 1928.44 288.819 Q1924.99 285.139 1924.99 278.889 Q1924.99 272.546 1928.46 268.912 Q1931.96 265.278 1938.02 265.278 Q1939.99 265.278 1941.86 265.695 Q1943.74 266.088 1945.5 266.898 Z\" fill=\"#000000\" fill-rule=\"evenodd\" fill-opacity=\"1\" /><path clip-path=\"url(#clip610)\" d=\"M 0 0 M1949.96 265.903 L1954.22 265.903 L1954.22 291.829 L1949.96 291.829 L1949.96 265.903 M1949.96 255.81 L1954.22 255.81 L1954.22 261.204 L1949.96 261.204 L1949.96 255.81 Z\" fill=\"#000000\" fill-rule=\"evenodd\" fill-opacity=\"1\" /><path clip-path=\"url(#clip610)\" d=\"M 0 0 M1995.31 276.181 L1995.31 291.829 L1991.05 291.829 L1991.05 276.319 Q1991.05 272.639 1989.62 270.81 Q1988.18 268.982 1985.31 268.982 Q1981.86 268.982 1979.87 271.181 Q1977.88 273.38 1977.88 277.176 L1977.88 291.829 L1973.6 291.829 L1973.6 265.903 L1977.88 265.903 L1977.88 269.931 Q1979.41 267.593 1981.47 266.435 Q1983.55 265.278 1986.26 265.278 Q1990.73 265.278 1993.02 268.056 Q1995.31 270.81 1995.31 276.181 Z\" fill=\"#000000\" fill-rule=\"evenodd\" fill-opacity=\"1\" /><path clip-path=\"url(#clip610)\" d=\"M 0 0 M1999.34 281.597 L1999.34 265.903 L2003.6 265.903 L2003.6 281.435 Q2003.6 285.116 2005.03 286.968 Q2006.47 288.796 2009.34 288.796 Q2012.79 288.796 2014.78 286.597 Q2016.79 284.398 2016.79 280.602 L2016.79 265.903 L2021.05 265.903 L2021.05 291.829 L2016.79 291.829 L2016.79 287.847 Q2015.24 290.208 2013.18 291.366 Q2011.14 292.5 2008.44 292.5 Q2003.97 292.5 2001.65 289.722 Q1999.34 286.944 1999.34 281.597 M2010.06 265.278 L2010.06 265.278 Z\" fill=\"#000000\" fill-rule=\"evenodd\" fill-opacity=\"1\" /><path clip-path=\"url(#clip610)\" d=\"M 0 0 M2045.7 270.88 Q2047.3 268.009 2049.52 266.644 Q2051.75 265.278 2054.76 265.278 Q2058.81 265.278 2061.01 268.125 Q2063.2 270.949 2063.2 276.181 L2063.2 291.829 L2058.92 291.829 L2058.92 276.319 Q2058.92 272.593 2057.6 270.787 Q2056.28 268.982 2053.57 268.982 Q2050.26 268.982 2048.34 271.181 Q2046.42 273.38 2046.42 277.176 L2046.42 291.829 L2042.14 291.829 L2042.14 276.319 Q2042.14 272.569 2040.82 270.787 Q2039.5 268.982 2036.75 268.982 Q2033.48 268.982 2031.56 271.204 Q2029.64 273.403 2029.64 277.176 L2029.64 291.829 L2025.36 291.829 L2025.36 265.903 L2029.64 265.903 L2029.64 269.931 Q2031.1 267.546 2033.14 266.412 Q2035.17 265.278 2037.97 265.278 Q2040.8 265.278 2042.76 266.713 Q2044.76 268.148 2045.7 270.88 Z\" fill=\"#000000\" fill-rule=\"evenodd\" fill-opacity=\"1\" /><path clip-path=\"url(#clip610)\" d=\"M 0 0 M2089.85 277.801 L2089.85 279.884 L2070.26 279.884 Q2070.54 284.282 2072.9 286.597 Q2075.29 288.889 2079.52 288.889 Q2081.98 288.889 2084.27 288.287 Q2086.58 287.685 2088.85 286.481 L2088.85 290.509 Q2086.56 291.481 2084.15 291.991 Q2081.75 292.5 2079.27 292.5 Q2073.07 292.5 2069.43 288.889 Q2065.82 285.278 2065.82 279.12 Q2065.82 272.755 2069.25 269.028 Q2072.7 265.278 2078.53 265.278 Q2083.76 265.278 2086.79 268.657 Q2089.85 272.014 2089.85 277.801 M2085.59 276.551 Q2085.54 273.056 2083.62 270.972 Q2081.72 268.889 2078.57 268.889 Q2075.01 268.889 2072.86 270.903 Q2070.73 272.917 2070.4 276.574 L2085.59 276.551 Z\" fill=\"#000000\" fill-rule=\"evenodd\" fill-opacity=\"1\" /><path clip-path=\"url(#clip610)\" d=\"M 0 0 M2109.34 269.884 Q2108.62 269.468 2107.76 269.282 Q2106.93 269.074 2105.91 269.074 Q2102.3 269.074 2100.36 271.435 Q2098.44 273.773 2098.44 278.171 L2098.44 291.829 L2094.15 291.829 L2094.15 265.903 L2098.44 265.903 L2098.44 269.931 Q2099.78 267.569 2101.93 266.435 Q2104.08 265.278 2107.16 265.278 Q2107.6 265.278 2108.13 265.347 Q2108.67 265.394 2109.32 265.509 L2109.34 269.884 Z\" fill=\"#000000\" fill-rule=\"evenodd\" fill-opacity=\"1\" /><path clip-path=\"url(#clip610)\" d=\"M 0 0 M2124.59 294.236 Q2122.79 298.866 2121.07 300.278 Q2119.36 301.69 2116.49 301.69 L2113.09 301.69 L2113.09 298.125 L2115.59 298.125 Q2117.35 298.125 2118.32 297.292 Q2119.29 296.458 2120.47 293.356 L2121.24 291.412 L2110.75 265.903 L2115.26 265.903 L2123.37 286.181 L2131.47 265.903 L2135.98 265.903 L2124.59 294.236 Z\" fill=\"#000000\" fill-rule=\"evenodd\" fill-opacity=\"1\" /><path clip-path=\"url(#clip610)\" d=\"M 0 0 M2159.11 266.898 L2159.11 270.88 Q2157.3 269.884 2155.47 269.398 Q2153.67 268.889 2151.82 268.889 Q2147.67 268.889 2145.38 271.528 Q2143.09 274.144 2143.09 278.889 Q2143.09 283.634 2145.38 286.273 Q2147.67 288.889 2151.82 288.889 Q2153.67 288.889 2155.47 288.403 Q2157.3 287.893 2159.11 286.898 L2159.11 290.833 Q2157.32 291.667 2155.4 292.083 Q2153.51 292.5 2151.35 292.5 Q2145.5 292.5 2142.05 288.819 Q2138.6 285.139 2138.6 278.889 Q2138.6 272.546 2142.07 268.912 Q2145.57 265.278 2151.63 265.278 Q2153.6 265.278 2155.47 265.695 Q2157.35 266.088 2159.11 266.898 Z\" fill=\"#000000\" fill-rule=\"evenodd\" fill-opacity=\"1\" /><path clip-path=\"url(#clip610)\" d=\"M 0 0 M2161.72 265.903 L2181.95 265.903 L2181.95 269.792 L2165.94 288.426 L2181.95 288.426 L2181.95 291.829 L2161.14 291.829 L2161.14 287.94 L2177.16 269.306 L2161.72 269.306 L2161.72 265.903 Z\" fill=\"#000000\" fill-rule=\"evenodd\" fill-opacity=\"1\" /><path clip-path=\"url(#clip610)\" d=\"M 0 0 M2207.97 276.181 L2207.97 291.829 L2203.71 291.829 L2203.71 276.319 Q2203.71 272.639 2202.28 270.81 Q2200.84 268.982 2197.97 268.982 Q2194.52 268.982 2192.53 271.181 Q2190.54 273.38 2190.54 277.176 L2190.54 291.829 L2186.26 291.829 L2186.26 265.903 L2190.54 265.903 L2190.54 269.931 Q2192.07 267.593 2194.13 266.435 Q2196.21 265.278 2198.92 265.278 Q2203.39 265.278 2205.68 268.056 Q2207.97 270.81 2207.97 276.181 Z\" fill=\"#000000\" fill-rule=\"evenodd\" fill-opacity=\"1\" /><path clip-path=\"url(#clip610)\" d=\"M 0 0 M2234.62 277.801 L2234.62 279.884 L2215.03 279.884 Q2215.31 284.282 2217.67 286.597 Q2220.06 288.889 2224.29 288.889 Q2226.75 288.889 2229.04 288.287 Q2231.35 287.685 2233.62 286.481 L2233.62 290.509 Q2231.33 291.481 2228.92 291.991 Q2226.51 292.5 2224.04 292.5 Q2217.83 292.5 2214.2 288.889 Q2210.59 285.278 2210.59 279.12 Q2210.59 272.755 2214.01 269.028 Q2217.46 265.278 2223.3 265.278 Q2228.53 265.278 2231.56 268.657 Q2234.62 272.014 2234.62 277.801 M2230.36 276.551 Q2230.31 273.056 2228.39 270.972 Q2226.49 268.889 2223.34 268.889 Q2219.78 268.889 2217.63 270.903 Q2215.5 272.917 2215.17 276.574 L2230.36 276.551 Z\" fill=\"#000000\" fill-rule=\"evenodd\" fill-opacity=\"1\" /><polyline clip-path=\"url(#clip610)\" style=\"stroke:#808080; stroke-width:4; stroke-opacity:1; fill:none\" points=\"\n",
       "  1611.7,335.029 1753.47,335.029 \n",
       "  \"/>\n",
       "<circle clip-path=\"url(#clip610)\" cx=\"1682.58\" cy=\"335.029\" r=\"23\" fill=\"#ffff00\" fill-rule=\"evenodd\" fill-opacity=\"1\" stroke=\"#000000\" stroke-opacity=\"1\" stroke-width=\"4.096\"/>\n",
       "<path clip-path=\"url(#clip610)\" d=\"M 0 0 M1784.5 319.022 L1784.5 326.383 L1793.28 326.383 L1793.28 329.693 L1784.5 329.693 L1784.5 343.767 Q1784.5 346.938 1785.36 347.841 Q1786.24 348.744 1788.9 348.744 L1793.28 348.744 L1793.28 352.309 L1788.9 352.309 Q1783.97 352.309 1782.09 350.48 Q1780.22 348.628 1780.22 343.767 L1780.22 329.693 L1777.09 329.693 L1777.09 326.383 L1780.22 326.383 L1780.22 319.022 L1784.5 319.022 Z\" fill=\"#000000\" fill-rule=\"evenodd\" fill-opacity=\"1\" /><path clip-path=\"url(#clip610)\" d=\"M 0 0 M1809.66 343.536 L1809.66 352.309 L1806.98 352.309 L1806.98 343.628 Q1806.98 341.568 1806.08 340.549 Q1805.17 339.508 1803.37 339.508 Q1801.19 339.508 1799.94 340.758 Q1798.69 341.985 1798.69 344.114 L1798.69 352.309 L1795.98 352.309 L1795.98 332.147 L1798.69 332.147 L1798.69 340.04 Q1799.64 338.744 1800.94 338.096 Q1802.26 337.448 1803.97 337.448 Q1806.77 337.448 1808.21 338.999 Q1809.66 340.549 1809.66 343.536 Z\" fill=\"#000000\" fill-rule=\"evenodd\" fill-opacity=\"1\" /></svg>\n"
      ]
     },
     "execution_count": 752,
     "metadata": {},
     "output_type": "execute_result"
    }
   ],
   "source": [
    "plot!([tₕ], [one_comp(tₕ, 240.6, 2.44)], markers = :circle, color=\"grey\", markersize = 5,\n",
    "markercolor = :yellow,label=\"tₕ\")"
   ]
  },
  {
   "cell_type": "markdown",
   "metadata": {},
   "source": [
    "### b. Dawka pozanaczyniowa"
   ]
  },
  {
   "cell_type": "markdown",
   "metadata": {},
   "source": [
    "Poniższa tabela [3] przedstawia stężenie nimesulidu w surowicy krwi ochotnika ($C$) [mg/l] oznaczone w różnym czasie t [h], po podaniu jednorazowej dawki doustnej."
   ]
  },
  {
   "cell_type": "markdown",
   "metadata": {},
   "source": [
    "<table>\n",
    "  <tr>\n",
    "    <th>Czas ($t$)</th>\n",
    "    <td>0,5</td>\n",
    "    <td>1,0</td>\n",
    "    <td>1,5</td>\n",
    "    <td>2</td>\n",
    "    <td>3</td>\n",
    "    <td>6</td>\n",
    "    <td>9</td>\n",
    "    <td>12</td>\n",
    "    <td>24</td>\n",
    "  </tr>\n",
    "  <tr>\n",
    "    <th>Stężenie ($C$)</th>\n",
    "    <td>2,6</td>\n",
    "    <td>3,95</td>\n",
    "    <td>3,88</td>\n",
    "    <td>3,55</td>\n",
    "    <td>2,83</td>\n",
    "    <td>1,27</td>\n",
    "    <td>0,44</td>\n",
    "    <td>0,17</td>\n",
    "    <td>0,05</td>\n",
    "  </tr>\n",
    "</table>"
   ]
  },
  {
   "cell_type": "code",
   "execution_count": 753,
   "metadata": {},
   "outputs": [],
   "source": [
    "t_2 = [0.5, 1.0, 1.5, 2, 3, 6, 9, 12, 24]\n",
    "C_2 = [2.6, 3.95, 3.88, 3.55, 2.83, 1.27, 0.44, 0.17, 0.05];"
   ]
  },
  {
   "cell_type": "code",
   "execution_count": 754,
   "metadata": {},
   "outputs": [
    {
     "data": {
      "image/svg+xml": [
       "<?xml version=\"1.0\" encoding=\"utf-8\"?>\n",
       "<svg xmlns=\"http://www.w3.org/2000/svg\" xmlns:xlink=\"http://www.w3.org/1999/xlink\" width=\"600\" height=\"400\" viewBox=\"0 0 2400 1600\">\n",
       "<defs>\n",
       "  <clipPath id=\"clip650\">\n",
       "    <rect x=\"0\" y=\"0\" width=\"2400\" height=\"1600\"/>\n",
       "  </clipPath>\n",
       "</defs>\n",
       "<path clip-path=\"url(#clip650)\" d=\"\n",
       "M0 1600 L2400 1600 L2400 0 L0 0  Z\n",
       "  \" fill=\"#ffffff\" fill-rule=\"evenodd\" fill-opacity=\"1\"/>\n",
       "<defs>\n",
       "  <clipPath id=\"clip651\">\n",
       "    <rect x=\"480\" y=\"0\" width=\"1681\" height=\"1600\"/>\n",
       "  </clipPath>\n",
       "</defs>\n",
       "<path clip-path=\"url(#clip650)\" d=\"\n",
       "M175.445 1423.18 L2352.76 1423.18 L2352.76 47.2441 L175.445 47.2441  Z\n",
       "  \" fill=\"#ffffff\" fill-rule=\"evenodd\" fill-opacity=\"1\"/>\n",
       "<defs>\n",
       "  <clipPath id=\"clip652\">\n",
       "    <rect x=\"175\" y=\"47\" width=\"2178\" height=\"1377\"/>\n",
       "  </clipPath>\n",
       "</defs>\n",
       "<polyline clip-path=\"url(#clip652)\" style=\"stroke:#000000; stroke-width:2; stroke-opacity:0.1; fill:none\" points=\"\n",
       "  193.364,1423.18 193.364,47.2441 \n",
       "  \"/>\n",
       "<polyline clip-path=\"url(#clip652)\" style=\"stroke:#000000; stroke-width:2; stroke-opacity:0.1; fill:none\" points=\"\n",
       "  630.399,1423.18 630.399,47.2441 \n",
       "  \"/>\n",
       "<polyline clip-path=\"url(#clip652)\" style=\"stroke:#000000; stroke-width:2; stroke-opacity:0.1; fill:none\" points=\"\n",
       "  1067.43,1423.18 1067.43,47.2441 \n",
       "  \"/>\n",
       "<polyline clip-path=\"url(#clip652)\" style=\"stroke:#000000; stroke-width:2; stroke-opacity:0.1; fill:none\" points=\"\n",
       "  1504.47,1423.18 1504.47,47.2441 \n",
       "  \"/>\n",
       "<polyline clip-path=\"url(#clip652)\" style=\"stroke:#000000; stroke-width:2; stroke-opacity:0.1; fill:none\" points=\"\n",
       "  1941.51,1423.18 1941.51,47.2441 \n",
       "  \"/>\n",
       "<polyline clip-path=\"url(#clip650)\" style=\"stroke:#000000; stroke-width:4; stroke-opacity:1; fill:none\" points=\"\n",
       "  175.445,1423.18 2352.76,1423.18 \n",
       "  \"/>\n",
       "<polyline clip-path=\"url(#clip650)\" style=\"stroke:#000000; stroke-width:4; stroke-opacity:1; fill:none\" points=\"\n",
       "  193.364,1423.18 193.364,1406.67 \n",
       "  \"/>\n",
       "<polyline clip-path=\"url(#clip650)\" style=\"stroke:#000000; stroke-width:4; stroke-opacity:1; fill:none\" points=\"\n",
       "  630.399,1423.18 630.399,1406.67 \n",
       "  \"/>\n",
       "<polyline clip-path=\"url(#clip650)\" style=\"stroke:#000000; stroke-width:4; stroke-opacity:1; fill:none\" points=\"\n",
       "  1067.43,1423.18 1067.43,1406.67 \n",
       "  \"/>\n",
       "<polyline clip-path=\"url(#clip650)\" style=\"stroke:#000000; stroke-width:4; stroke-opacity:1; fill:none\" points=\"\n",
       "  1504.47,1423.18 1504.47,1406.67 \n",
       "  \"/>\n",
       "<polyline clip-path=\"url(#clip650)\" style=\"stroke:#000000; stroke-width:4; stroke-opacity:1; fill:none\" points=\"\n",
       "  1941.51,1423.18 1941.51,1406.67 \n",
       "  \"/>\n",
       "<path clip-path=\"url(#clip650)\" d=\"M 0 0 M193.364 1452.37 Q189.753 1452.37 187.924 1455.94 Q186.118 1459.48 186.118 1466.61 Q186.118 1473.71 187.924 1477.28 Q189.753 1480.82 193.364 1480.82 Q196.998 1480.82 198.803 1477.28 Q200.632 1473.71 200.632 1466.61 Q200.632 1459.48 198.803 1455.94 Q196.998 1452.37 193.364 1452.37 M193.364 1448.67 Q199.174 1448.67 202.229 1453.27 Q205.308 1457.86 205.308 1466.61 Q205.308 1475.33 202.229 1479.94 Q199.174 1484.52 193.364 1484.52 Q187.554 1484.52 184.475 1479.94 Q181.419 1475.33 181.419 1466.61 Q181.419 1457.86 184.475 1453.27 Q187.554 1448.67 193.364 1448.67 Z\" fill=\"#000000\" fill-rule=\"evenodd\" fill-opacity=\"1\" /><path clip-path=\"url(#clip650)\" d=\"M 0 0 M620.677 1449.29 L639.033 1449.29 L639.033 1453.23 L624.959 1453.23 L624.959 1461.7 Q625.978 1461.35 626.996 1461.19 Q628.015 1461 629.033 1461 Q634.82 1461 638.2 1464.18 Q641.58 1467.35 641.58 1472.76 Q641.58 1478.34 638.107 1481.44 Q634.635 1484.52 628.316 1484.52 Q626.14 1484.52 623.871 1484.15 Q621.626 1483.78 619.219 1483.04 L619.219 1478.34 Q621.302 1479.48 623.524 1480.03 Q625.746 1480.59 628.223 1480.59 Q632.228 1480.59 634.566 1478.48 Q636.904 1476.38 636.904 1472.76 Q636.904 1469.15 634.566 1467.05 Q632.228 1464.94 628.223 1464.94 Q626.348 1464.94 624.473 1465.36 Q622.621 1465.77 620.677 1466.65 L620.677 1449.29 Z\" fill=\"#000000\" fill-rule=\"evenodd\" fill-opacity=\"1\" /><path clip-path=\"url(#clip650)\" d=\"M 0 0 M1044.31 1479.92 L1051.95 1479.92 L1051.95 1453.55 L1043.64 1455.22 L1043.64 1450.96 L1051.9 1449.29 L1056.58 1449.29 L1056.58 1479.92 L1064.22 1479.92 L1064.22 1483.85 L1044.31 1483.85 L1044.31 1479.92 Z\" fill=\"#000000\" fill-rule=\"evenodd\" fill-opacity=\"1\" /><path clip-path=\"url(#clip650)\" d=\"M 0 0 M1079.29 1452.37 Q1075.68 1452.37 1073.85 1455.94 Q1072.04 1459.48 1072.04 1466.61 Q1072.04 1473.71 1073.85 1477.28 Q1075.68 1480.82 1079.29 1480.82 Q1082.92 1480.82 1084.73 1477.28 Q1086.55 1473.71 1086.55 1466.61 Q1086.55 1459.48 1084.73 1455.94 Q1082.92 1452.37 1079.29 1452.37 M1079.29 1448.67 Q1085.1 1448.67 1088.15 1453.27 Q1091.23 1457.86 1091.23 1466.61 Q1091.23 1475.33 1088.15 1479.94 Q1085.1 1484.52 1079.29 1484.52 Q1073.48 1484.52 1070.4 1479.94 Q1067.34 1475.33 1067.34 1466.61 Q1067.34 1457.86 1070.4 1453.27 Q1073.48 1448.67 1079.29 1448.67 Z\" fill=\"#000000\" fill-rule=\"evenodd\" fill-opacity=\"1\" /><path clip-path=\"url(#clip650)\" d=\"M 0 0 M1481.84 1479.92 L1489.48 1479.92 L1489.48 1453.55 L1481.17 1455.22 L1481.17 1450.96 L1489.44 1449.29 L1494.11 1449.29 L1494.11 1479.92 L1501.75 1479.92 L1501.75 1483.85 L1481.84 1483.85 L1481.84 1479.92 Z\" fill=\"#000000\" fill-rule=\"evenodd\" fill-opacity=\"1\" /><path clip-path=\"url(#clip650)\" d=\"M 0 0 M1506.87 1449.29 L1525.22 1449.29 L1525.22 1453.23 L1511.15 1453.23 L1511.15 1461.7 Q1512.17 1461.35 1513.19 1461.19 Q1514.2 1461 1515.22 1461 Q1521.01 1461 1524.39 1464.18 Q1527.77 1467.35 1527.77 1472.76 Q1527.77 1478.34 1524.3 1481.44 Q1520.82 1484.52 1514.5 1484.52 Q1512.33 1484.52 1510.06 1484.15 Q1507.81 1483.78 1505.41 1483.04 L1505.41 1478.34 Q1507.49 1479.48 1509.71 1480.03 Q1511.94 1480.59 1514.41 1480.59 Q1518.42 1480.59 1520.75 1478.48 Q1523.09 1476.38 1523.09 1472.76 Q1523.09 1469.15 1520.75 1467.05 Q1518.42 1464.94 1514.41 1464.94 Q1512.54 1464.94 1510.66 1465.36 Q1508.81 1465.77 1506.87 1466.65 L1506.87 1449.29 Z\" fill=\"#000000\" fill-rule=\"evenodd\" fill-opacity=\"1\" /><path clip-path=\"url(#clip650)\" d=\"M 0 0 M1922.65 1479.92 L1938.97 1479.92 L1938.97 1483.85 L1917.03 1483.85 L1917.03 1479.92 Q1919.69 1477.16 1924.27 1472.53 Q1928.88 1467.88 1930.06 1466.54 Q1932.3 1464.01 1933.18 1462.28 Q1934.09 1460.52 1934.09 1458.83 Q1934.09 1456.07 1932.14 1454.34 Q1930.22 1452.6 1927.12 1452.6 Q1924.92 1452.6 1922.47 1453.37 Q1920.04 1454.13 1917.26 1455.68 L1917.26 1450.96 Q1920.08 1449.82 1922.54 1449.25 Q1924.99 1448.67 1927.03 1448.67 Q1932.4 1448.67 1935.59 1451.35 Q1938.79 1454.04 1938.79 1458.53 Q1938.79 1460.66 1937.98 1462.58 Q1937.19 1464.48 1935.08 1467.07 Q1934.5 1467.74 1931.4 1470.96 Q1928.3 1474.15 1922.65 1479.92 Z\" fill=\"#000000\" fill-rule=\"evenodd\" fill-opacity=\"1\" /><path clip-path=\"url(#clip650)\" d=\"M 0 0 M1954.04 1452.37 Q1950.43 1452.37 1948.6 1455.94 Q1946.79 1459.48 1946.79 1466.61 Q1946.79 1473.71 1948.6 1477.28 Q1950.43 1480.82 1954.04 1480.82 Q1957.67 1480.82 1959.48 1477.28 Q1961.31 1473.71 1961.31 1466.61 Q1961.31 1459.48 1959.48 1455.94 Q1957.67 1452.37 1954.04 1452.37 M1954.04 1448.67 Q1959.85 1448.67 1962.91 1453.27 Q1965.98 1457.86 1965.98 1466.61 Q1965.98 1475.33 1962.91 1479.94 Q1959.85 1484.52 1954.04 1484.52 Q1948.23 1484.52 1945.15 1479.94 Q1942.1 1475.33 1942.1 1466.61 Q1942.1 1457.86 1945.15 1453.27 Q1948.23 1448.67 1954.04 1448.67 Z\" fill=\"#000000\" fill-rule=\"evenodd\" fill-opacity=\"1\" /><path clip-path=\"url(#clip650)\" d=\"M 0 0 M1215.45 1522.27 L1215.45 1532.4 L1227.51 1532.4 L1227.51 1536.95 L1215.45 1536.95 L1215.45 1556.3 Q1215.45 1560.66 1216.63 1561.9 Q1217.84 1563.14 1221.5 1563.14 L1227.51 1563.14 L1227.51 1568.04 L1221.5 1568.04 Q1214.72 1568.04 1212.14 1565.53 Q1209.56 1562.98 1209.56 1556.3 L1209.56 1536.95 L1205.27 1536.95 L1205.27 1532.4 L1209.56 1532.4 L1209.56 1522.27 L1215.45 1522.27 Z\" fill=\"#000000\" fill-rule=\"evenodd\" fill-opacity=\"1\" /><path clip-path=\"url(#clip650)\" d=\"M 0 0 M1253.84 1518.52 L1267.33 1518.52 L1267.33 1523.07 L1259.69 1523.07 L1259.69 1572.09 L1267.33 1572.09 L1267.33 1576.64 L1253.84 1576.64 L1253.84 1518.52 Z\" fill=\"#000000\" fill-rule=\"evenodd\" fill-opacity=\"1\" /><path clip-path=\"url(#clip650)\" d=\"M 0 0 M1303.11 1546.53 L1303.11 1568.04 L1297.25 1568.04 L1297.25 1546.72 Q1297.25 1541.66 1295.28 1539.14 Q1293.3 1536.63 1289.36 1536.63 Q1284.61 1536.63 1281.88 1539.65 Q1279.14 1542.68 1279.14 1547.9 L1279.14 1568.04 L1273.25 1568.04 L1273.25 1518.52 L1279.14 1518.52 L1279.14 1537.93 Q1281.24 1534.72 1284.07 1533.13 Q1286.94 1531.54 1290.66 1531.54 Q1296.8 1531.54 1299.96 1535.36 Q1303.11 1539.14 1303.11 1546.53 Z\" fill=\"#000000\" fill-rule=\"evenodd\" fill-opacity=\"1\" /><path clip-path=\"url(#clip650)\" d=\"M 0 0 M1322.94 1518.52 L1322.94 1576.64 L1309.44 1576.64 L1309.44 1572.09 L1317.05 1572.09 L1317.05 1523.07 L1309.44 1523.07 L1309.44 1518.52 L1322.94 1518.52 Z\" fill=\"#000000\" fill-rule=\"evenodd\" fill-opacity=\"1\" /><polyline clip-path=\"url(#clip652)\" style=\"stroke:#000000; stroke-width:2; stroke-opacity:0.1; fill:none\" points=\"\n",
       "  175.445,1400.88 2352.76,1400.88 \n",
       "  \"/>\n",
       "<polyline clip-path=\"url(#clip652)\" style=\"stroke:#000000; stroke-width:2; stroke-opacity:0.1; fill:none\" points=\"\n",
       "  175.445,1068.05 2352.76,1068.05 \n",
       "  \"/>\n",
       "<polyline clip-path=\"url(#clip652)\" style=\"stroke:#000000; stroke-width:2; stroke-opacity:0.1; fill:none\" points=\"\n",
       "  175.445,735.212 2352.76,735.212 \n",
       "  \"/>\n",
       "<polyline clip-path=\"url(#clip652)\" style=\"stroke:#000000; stroke-width:2; stroke-opacity:0.1; fill:none\" points=\"\n",
       "  175.445,402.378 2352.76,402.378 \n",
       "  \"/>\n",
       "<polyline clip-path=\"url(#clip652)\" style=\"stroke:#000000; stroke-width:2; stroke-opacity:0.1; fill:none\" points=\"\n",
       "  175.445,69.544 2352.76,69.544 \n",
       "  \"/>\n",
       "<polyline clip-path=\"url(#clip650)\" style=\"stroke:#000000; stroke-width:4; stroke-opacity:1; fill:none\" points=\"\n",
       "  175.445,1423.18 175.445,47.2441 \n",
       "  \"/>\n",
       "<polyline clip-path=\"url(#clip650)\" style=\"stroke:#000000; stroke-width:4; stroke-opacity:1; fill:none\" points=\"\n",
       "  175.445,1400.88 201.573,1400.88 \n",
       "  \"/>\n",
       "<polyline clip-path=\"url(#clip650)\" style=\"stroke:#000000; stroke-width:4; stroke-opacity:1; fill:none\" points=\"\n",
       "  175.445,1068.05 201.573,1068.05 \n",
       "  \"/>\n",
       "<polyline clip-path=\"url(#clip650)\" style=\"stroke:#000000; stroke-width:4; stroke-opacity:1; fill:none\" points=\"\n",
       "  175.445,735.212 201.573,735.212 \n",
       "  \"/>\n",
       "<polyline clip-path=\"url(#clip650)\" style=\"stroke:#000000; stroke-width:4; stroke-opacity:1; fill:none\" points=\"\n",
       "  175.445,402.378 201.573,402.378 \n",
       "  \"/>\n",
       "<polyline clip-path=\"url(#clip650)\" style=\"stroke:#000000; stroke-width:4; stroke-opacity:1; fill:none\" points=\"\n",
       "  175.445,69.544 201.573,69.544 \n",
       "  \"/>\n",
       "<path clip-path=\"url(#clip650)\" d=\"M 0 0 M127.501 1386.68 Q123.89 1386.68 122.061 1390.24 Q120.255 1393.79 120.255 1400.91 Q120.255 1408.02 122.061 1411.59 Q123.89 1415.13 127.501 1415.13 Q131.135 1415.13 132.941 1411.59 Q134.769 1408.02 134.769 1400.91 Q134.769 1393.79 132.941 1390.24 Q131.135 1386.68 127.501 1386.68 M127.501 1382.97 Q133.311 1382.97 136.367 1387.58 Q139.445 1392.16 139.445 1400.91 Q139.445 1409.64 136.367 1414.25 Q133.311 1418.83 127.501 1418.83 Q121.691 1418.83 118.612 1414.25 Q115.556 1409.64 115.556 1400.91 Q115.556 1392.16 118.612 1387.58 Q121.691 1382.97 127.501 1382.97 Z\" fill=\"#000000\" fill-rule=\"evenodd\" fill-opacity=\"1\" /><path clip-path=\"url(#clip650)\" d=\"M 0 0 M119.538 1081.39 L127.177 1081.39 L127.177 1055.03 L118.867 1056.69 L118.867 1052.43 L127.13 1050.77 L131.806 1050.77 L131.806 1081.39 L139.445 1081.39 L139.445 1085.33 L119.538 1085.33 L119.538 1081.39 Z\" fill=\"#000000\" fill-rule=\"evenodd\" fill-opacity=\"1\" /><path clip-path=\"url(#clip650)\" d=\"M 0 0 M123.126 748.557 L139.445 748.557 L139.445 752.492 L117.501 752.492 L117.501 748.557 Q120.163 745.802 124.746 741.173 Q129.353 736.52 130.533 735.177 Q132.779 732.654 133.658 730.918 Q134.561 729.159 134.561 727.469 Q134.561 724.714 132.617 722.978 Q130.695 721.242 127.593 721.242 Q125.394 721.242 122.941 722.006 Q120.51 722.77 117.732 724.321 L117.732 719.599 Q120.556 718.464 123.01 717.886 Q125.464 717.307 127.501 717.307 Q132.871 717.307 136.066 719.992 Q139.26 722.677 139.26 727.168 Q139.26 729.298 138.45 731.219 Q137.663 733.117 135.556 735.71 Q134.978 736.381 131.876 739.599 Q128.774 742.793 123.126 748.557 Z\" fill=\"#000000\" fill-rule=\"evenodd\" fill-opacity=\"1\" /><path clip-path=\"url(#clip650)\" d=\"M 0 0 M132.316 401.024 Q135.672 401.741 137.547 404.01 Q139.445 406.278 139.445 409.612 Q139.445 414.727 135.927 417.528 Q132.408 420.329 125.927 420.329 Q123.751 420.329 121.436 419.889 Q119.144 419.473 116.691 418.616 L116.691 414.102 Q118.635 415.237 120.95 415.815 Q123.265 416.394 125.788 416.394 Q130.186 416.394 132.478 414.658 Q134.792 412.922 134.792 409.612 Q134.792 406.556 132.64 404.843 Q130.51 403.107 126.691 403.107 L122.663 403.107 L122.663 399.265 L126.876 399.265 Q130.325 399.265 132.154 397.899 Q133.982 396.51 133.982 393.917 Q133.982 391.255 132.084 389.843 Q130.209 388.408 126.691 388.408 Q124.769 388.408 122.57 388.825 Q120.371 389.241 117.732 390.121 L117.732 385.954 Q120.394 385.214 122.709 384.843 Q125.047 384.473 127.107 384.473 Q132.431 384.473 135.533 386.904 Q138.635 389.311 138.635 393.431 Q138.635 396.302 136.992 398.292 Q135.348 400.26 132.316 401.024 Z\" fill=\"#000000\" fill-rule=\"evenodd\" fill-opacity=\"1\" /><path clip-path=\"url(#clip650)\" d=\"M 0 0 M129.862 56.338 L118.056 74.787 L129.862 74.787 L129.862 56.338 M128.635 52.264 L134.515 52.264 L134.515 74.787 L139.445 74.787 L139.445 78.6759 L134.515 78.6759 L134.515 86.824 L129.862 86.824 L129.862 78.6759 L114.26 78.6759 L114.26 74.162 L128.635 52.264 Z\" fill=\"#000000\" fill-rule=\"evenodd\" fill-opacity=\"1\" /><path clip-path=\"url(#clip650)\" d=\"M 0 0 M20.1444 809.563 L26.9239 809.563 Q23.9002 812.81 22.4043 816.502 Q20.9083 820.162 20.9083 824.3 Q20.9083 832.448 25.9054 836.777 Q30.8707 841.105 40.2919 841.105 Q49.6813 841.105 54.6784 836.777 Q59.6436 832.448 59.6436 824.3 Q59.6436 820.162 58.1477 816.502 Q56.6518 812.81 53.6281 809.563 L60.3439 809.563 Q62.6355 812.937 63.7814 816.725 Q64.9272 820.481 64.9272 824.682 Q64.9272 835.472 58.3387 841.678 Q51.7183 847.885 40.2919 847.885 Q28.8336 847.885 22.2451 841.678 Q15.6248 835.472 15.6248 824.682 Q15.6248 820.417 16.7706 816.661 Q17.8846 812.874 20.1444 809.563 Z\" fill=\"#000000\" fill-rule=\"evenodd\" fill-opacity=\"1\" /><path clip-path=\"url(#clip650)\" d=\"M 0 0 M14.479 783.241 L14.479 769.746 L19.0304 769.746 L19.0304 777.385 L68.0464 777.385 L68.0464 769.746 L72.5979 769.746 L72.5979 783.241 L14.479 783.241 Z\" fill=\"#000000\" fill-rule=\"evenodd\" fill-opacity=\"1\" /><path clip-path=\"url(#clip650)\" d=\"M 0 0 M35.1993 735.849 Q31.2526 733.652 29.3747 730.597 Q27.4968 727.541 27.4968 723.404 Q27.4968 717.834 31.4117 714.81 Q35.2948 711.786 42.4881 711.786 L64.0042 711.786 L64.0042 717.674 L42.679 717.674 Q37.5546 717.674 35.072 719.489 Q32.5894 721.303 32.5894 725.027 Q32.5894 729.578 35.6131 732.22 Q38.6368 734.862 43.8567 734.862 L64.0042 734.862 L64.0042 740.75 L42.679 740.75 Q37.5228 740.75 35.072 742.564 Q32.5894 744.379 32.5894 748.166 Q32.5894 752.654 35.6449 755.296 Q38.6686 757.938 43.8567 757.938 L64.0042 757.938 L64.0042 763.826 L28.3562 763.826 L28.3562 757.938 L33.8944 757.938 Q30.616 755.932 29.0564 753.131 Q27.4968 750.331 27.4968 746.479 Q27.4968 742.596 29.4702 739.891 Q31.4436 737.154 35.1993 735.849 Z\" fill=\"#000000\" fill-rule=\"evenodd\" fill-opacity=\"1\" /><path clip-path=\"url(#clip650)\" d=\"M 0 0 M45.7664 682.186 Q39.4007 682.186 35.8996 684.827 Q32.3984 687.437 32.3984 692.18 Q32.3984 696.89 35.8996 699.532 Q39.4007 702.142 45.7664 702.142 Q52.1003 702.142 55.6014 699.532 Q59.1026 696.89 59.1026 692.18 Q59.1026 687.437 55.6014 684.827 Q52.1003 682.186 45.7664 682.186 M59.58 676.329 Q68.683 676.329 73.1071 680.371 Q77.5631 684.414 77.5631 692.753 Q77.5631 695.84 77.0857 698.577 Q76.6401 701.315 75.6852 703.893 L69.9879 703.893 Q71.3884 701.315 72.0568 698.8 Q72.7252 696.286 72.7252 693.676 Q72.7252 687.915 69.7015 685.05 Q66.7096 682.186 60.6303 682.186 L57.7339 682.186 Q60.885 684 62.4446 686.833 Q64.0042 689.665 64.0042 693.612 Q64.0042 700.169 59.0071 704.179 Q54.01 708.19 45.7664 708.19 Q37.491 708.19 32.4939 704.179 Q27.4968 700.169 27.4968 693.612 Q27.4968 689.665 29.0564 686.833 Q30.616 684 33.7671 682.186 L28.3562 682.186 L28.3562 676.329 L59.58 676.329 Z\" fill=\"#000000\" fill-rule=\"evenodd\" fill-opacity=\"1\" /><path clip-path=\"url(#clip650)\" d=\"M 0 0 M16.4842 659.778 L16.4842 654.367 L70.0516 670.918 L70.0516 676.329 L16.4842 659.778 Z\" fill=\"#000000\" fill-rule=\"evenodd\" fill-opacity=\"1\" /><path clip-path=\"url(#clip650)\" d=\"M 0 0 M14.479 648.225 L14.479 642.368 L64.0042 642.368 L64.0042 648.225 L14.479 648.225 Z\" fill=\"#000000\" fill-rule=\"evenodd\" fill-opacity=\"1\" /><path clip-path=\"url(#clip650)\" d=\"M 0 0 M14.479 622.539 L72.5979 622.539 L72.5979 636.034 L68.0464 636.034 L68.0464 628.427 L19.0304 628.427 L19.0304 636.034 L14.479 636.034 L14.479 622.539 Z\" fill=\"#000000\" fill-rule=\"evenodd\" fill-opacity=\"1\" /><circle clip-path=\"url(#clip652)\" cx=\"237.067\" cy=\"535.512\" r=\"14\" fill=\"#009af9\" fill-rule=\"evenodd\" fill-opacity=\"1\" stroke=\"#000000\" stroke-opacity=\"1\" stroke-width=\"3.2\"/>\n",
       "<circle clip-path=\"url(#clip652)\" cx=\"280.771\" cy=\"86.1857\" r=\"14\" fill=\"#009af9\" fill-rule=\"evenodd\" fill-opacity=\"1\" stroke=\"#000000\" stroke-opacity=\"1\" stroke-width=\"3.2\"/>\n",
       "<circle clip-path=\"url(#clip652)\" cx=\"324.474\" cy=\"109.484\" r=\"14\" fill=\"#009af9\" fill-rule=\"evenodd\" fill-opacity=\"1\" stroke=\"#000000\" stroke-opacity=\"1\" stroke-width=\"3.2\"/>\n",
       "<circle clip-path=\"url(#clip652)\" cx=\"368.178\" cy=\"219.319\" r=\"14\" fill=\"#009af9\" fill-rule=\"evenodd\" fill-opacity=\"1\" stroke=\"#000000\" stroke-opacity=\"1\" stroke-width=\"3.2\"/>\n",
       "<circle clip-path=\"url(#clip652)\" cx=\"455.585\" cy=\"458.96\" r=\"14\" fill=\"#009af9\" fill-rule=\"evenodd\" fill-opacity=\"1\" stroke=\"#000000\" stroke-opacity=\"1\" stroke-width=\"3.2\"/>\n",
       "<circle clip-path=\"url(#clip652)\" cx=\"717.806\" cy=\"978.181\" r=\"14\" fill=\"#009af9\" fill-rule=\"evenodd\" fill-opacity=\"1\" stroke=\"#000000\" stroke-opacity=\"1\" stroke-width=\"3.2\"/>\n",
       "<circle clip-path=\"url(#clip652)\" cx=\"980.028\" cy=\"1254.43\" r=\"14\" fill=\"#009af9\" fill-rule=\"evenodd\" fill-opacity=\"1\" stroke=\"#000000\" stroke-opacity=\"1\" stroke-width=\"3.2\"/>\n",
       "<circle clip-path=\"url(#clip652)\" cx=\"1242.25\" cy=\"1344.3\" r=\"14\" fill=\"#009af9\" fill-rule=\"evenodd\" fill-opacity=\"1\" stroke=\"#000000\" stroke-opacity=\"1\" stroke-width=\"3.2\"/>\n",
       "<circle clip-path=\"url(#clip652)\" cx=\"2291.13\" cy=\"1384.24\" r=\"14\" fill=\"#009af9\" fill-rule=\"evenodd\" fill-opacity=\"1\" stroke=\"#000000\" stroke-opacity=\"1\" stroke-width=\"3.2\"/>\n",
       "<path clip-path=\"url(#clip650)\" d=\"\n",
       "M1647.12 214.069 L2280.18 214.069 L2280.18 93.1086 L1647.12 93.1086  Z\n",
       "  \" fill=\"#ffffff\" fill-rule=\"evenodd\" fill-opacity=\"1\"/>\n",
       "<polyline clip-path=\"url(#clip650)\" style=\"stroke:#000000; stroke-width:4; stroke-opacity:1; fill:none\" points=\"\n",
       "  1647.12,214.069 2280.18,214.069 2280.18,93.1086 1647.12,93.1086 1647.12,214.069 \n",
       "  \"/>\n",
       "<circle clip-path=\"url(#clip650)\" cx=\"1743.89\" cy=\"153.589\" r=\"23\" fill=\"#009af9\" fill-rule=\"evenodd\" fill-opacity=\"1\" stroke=\"#000000\" stroke-opacity=\"1\" stroke-width=\"5.12\"/>\n",
       "<path clip-path=\"url(#clip650)\" d=\"M 0 0 M1840.66 144.943 L1844.92 144.943 L1850.25 165.174 L1855.55 144.943 L1860.57 144.943 L1865.89 165.174 L1871.19 144.943 L1875.45 144.943 L1868.67 170.869 L1863.65 170.869 L1858.07 149.619 L1852.47 170.869 L1847.44 170.869 L1840.66 144.943 Z\" fill=\"#000000\" fill-rule=\"evenodd\" fill-opacity=\"1\" /><path clip-path=\"url(#clip650)\" d=\"M 0 0 M1891.7 157.836 Q1886.54 157.836 1884.55 159.017 Q1882.56 160.197 1882.56 163.045 Q1882.56 165.313 1884.04 166.656 Q1885.55 167.975 1888.12 167.975 Q1891.66 167.975 1893.79 165.475 Q1895.94 162.952 1895.94 158.785 L1895.94 157.836 L1891.7 157.836 M1900.2 156.077 L1900.2 170.869 L1895.94 170.869 L1895.94 166.933 Q1894.48 169.295 1892.31 170.429 Q1890.13 171.54 1886.98 171.54 Q1883 171.54 1880.64 169.318 Q1878.3 167.072 1878.3 163.322 Q1878.3 158.947 1881.22 156.725 Q1884.16 154.503 1889.97 154.503 L1895.94 154.503 L1895.94 154.086 Q1895.94 151.147 1894 149.549 Q1892.07 147.929 1888.58 147.929 Q1886.36 147.929 1884.25 148.461 Q1882.14 148.994 1880.2 150.059 L1880.2 146.123 Q1882.54 145.221 1884.74 144.781 Q1886.93 144.318 1889.02 144.318 Q1894.64 144.318 1897.42 147.234 Q1900.2 150.151 1900.2 156.077 Z\" fill=\"#000000\" fill-rule=\"evenodd\" fill-opacity=\"1\" /><path clip-path=\"url(#clip650)\" d=\"M 0 0 M1919.69 148.924 Q1918.97 148.508 1918.12 148.322 Q1917.28 148.114 1916.26 148.114 Q1912.65 148.114 1910.71 150.475 Q1908.79 152.813 1908.79 157.211 L1908.79 170.869 L1904.5 170.869 L1904.5 144.943 L1908.79 144.943 L1908.79 148.971 Q1910.13 146.609 1912.28 145.475 Q1914.43 144.318 1917.51 144.318 Q1917.95 144.318 1918.49 144.387 Q1919.02 144.434 1919.67 144.549 L1919.69 148.924 Z\" fill=\"#000000\" fill-rule=\"evenodd\" fill-opacity=\"1\" /><path clip-path=\"url(#clip650)\" d=\"M 0 0 M1928.37 137.582 L1928.37 144.943 L1937.14 144.943 L1937.14 148.253 L1928.37 148.253 L1928.37 162.327 Q1928.37 165.498 1929.23 166.401 Q1930.11 167.304 1932.77 167.304 L1937.14 167.304 L1937.14 170.869 L1932.77 170.869 Q1927.84 170.869 1925.96 169.04 Q1924.09 167.188 1924.09 162.327 L1924.09 148.253 L1920.96 148.253 L1920.96 144.943 L1924.09 144.943 L1924.09 137.582 L1928.37 137.582 Z\" fill=\"#000000\" fill-rule=\"evenodd\" fill-opacity=\"1\" /><path clip-path=\"url(#clip650)\" d=\"M 0 0 M1951.66 147.929 Q1948.23 147.929 1946.24 150.614 Q1944.25 153.276 1944.25 157.929 Q1944.25 162.582 1946.22 165.267 Q1948.21 167.929 1951.66 167.929 Q1955.06 167.929 1957.05 165.244 Q1959.04 162.558 1959.04 157.929 Q1959.04 153.322 1957.05 150.637 Q1955.06 147.929 1951.66 147.929 M1951.66 144.318 Q1957.21 144.318 1960.38 147.929 Q1963.55 151.54 1963.55 157.929 Q1963.55 164.295 1960.38 167.929 Q1957.21 171.54 1951.66 171.54 Q1946.08 171.54 1942.91 167.929 Q1939.76 164.295 1939.76 157.929 Q1939.76 151.54 1942.91 147.929 Q1946.08 144.318 1951.66 144.318 Z\" fill=\"#000000\" fill-rule=\"evenodd\" fill-opacity=\"1\" /><path clip-path=\"url(#clip650)\" d=\"M 0 0 M1980.15 132.79 L1984.76 132.79 L1977.21 141.494 L1973.67 141.494 L1980.15 132.79 M1984.55 145.707 L1984.55 149.734 Q1982.74 148.809 1980.8 148.346 Q1978.86 147.883 1976.77 147.883 Q1973.6 147.883 1972 148.855 Q1970.43 149.827 1970.43 151.771 Q1970.43 153.253 1971.56 154.109 Q1972.7 154.943 1976.12 155.707 L1977.58 156.031 Q1982.12 157.003 1984.02 158.785 Q1985.94 160.545 1985.94 163.716 Q1985.94 167.327 1983.07 169.433 Q1980.22 171.54 1975.22 171.54 Q1973.14 171.54 1970.87 171.123 Q1968.62 170.73 1966.12 169.92 L1966.12 165.521 Q1968.49 166.748 1970.78 167.373 Q1973.07 167.975 1975.31 167.975 Q1978.32 167.975 1979.94 166.957 Q1981.56 165.915 1981.56 164.04 Q1981.56 162.304 1980.38 161.378 Q1979.23 160.452 1975.27 159.596 L1973.79 159.248 Q1969.83 158.415 1968.07 156.702 Q1966.31 154.966 1966.31 151.957 Q1966.31 148.299 1968.9 146.309 Q1971.49 144.318 1976.26 144.318 Q1978.62 144.318 1980.71 144.665 Q1982.79 145.012 1984.55 145.707 Z\" fill=\"#000000\" fill-rule=\"evenodd\" fill-opacity=\"1\" /><path clip-path=\"url(#clip650)\" d=\"M 0 0 M2009.06 145.938 L2009.06 149.92 Q2007.26 148.924 2005.43 148.438 Q2003.62 147.929 2001.77 147.929 Q1997.63 147.929 1995.34 150.568 Q1993.05 153.184 1993.05 157.929 Q1993.05 162.674 1995.34 165.313 Q1997.63 167.929 2001.77 167.929 Q2003.62 167.929 2005.43 167.443 Q2007.26 166.933 2009.06 165.938 L2009.06 169.873 Q2007.28 170.707 2005.36 171.123 Q2003.46 171.54 2001.31 171.54 Q1995.45 171.54 1992 167.859 Q1988.55 164.179 1988.55 157.929 Q1988.55 151.586 1992.03 147.952 Q1995.52 144.318 2001.59 144.318 Q2003.55 144.318 2005.43 144.735 Q2007.3 145.128 2009.06 145.938 Z\" fill=\"#000000\" fill-rule=\"evenodd\" fill-opacity=\"1\" /><path clip-path=\"url(#clip650)\" d=\"M 0 0 M2013.53 144.943 L2017.79 144.943 L2017.79 170.869 L2013.53 170.869 L2013.53 144.943 M2013.53 134.85 L2017.79 134.85 L2017.79 140.244 L2013.53 140.244 L2013.53 134.85 Z\" fill=\"#000000\" fill-rule=\"evenodd\" fill-opacity=\"1\" /><path clip-path=\"url(#clip650)\" d=\"M 0 0 M2057.51 149.92 Q2059.11 147.049 2061.33 145.684 Q2063.55 144.318 2066.56 144.318 Q2070.61 144.318 2072.81 147.165 Q2075.01 149.989 2075.01 155.221 L2075.01 170.869 L2070.73 170.869 L2070.73 155.359 Q2070.73 151.633 2069.41 149.827 Q2068.09 148.022 2065.38 148.022 Q2062.07 148.022 2060.15 150.221 Q2058.23 152.42 2058.23 156.216 L2058.23 170.869 L2053.95 170.869 L2053.95 155.359 Q2053.95 151.609 2052.63 149.827 Q2051.31 148.022 2048.55 148.022 Q2045.29 148.022 2043.37 150.244 Q2041.45 152.443 2041.45 156.216 L2041.45 170.869 L2037.17 170.869 L2037.17 144.943 L2041.45 144.943 L2041.45 148.971 Q2042.91 146.586 2044.94 145.452 Q2046.98 144.318 2049.78 144.318 Q2052.61 144.318 2054.57 145.753 Q2056.56 147.188 2057.51 149.92 Z\" fill=\"#000000\" fill-rule=\"evenodd\" fill-opacity=\"1\" /><path clip-path=\"url(#clip650)\" d=\"M 0 0 M2079.48 144.943 L2083.74 144.943 L2083.74 170.869 L2079.48 170.869 L2079.48 144.943 M2079.48 134.85 L2083.74 134.85 L2083.74 140.244 L2079.48 140.244 L2079.48 134.85 Z\" fill=\"#000000\" fill-rule=\"evenodd\" fill-opacity=\"1\" /><path clip-path=\"url(#clip650)\" d=\"M 0 0 M2110.38 156.841 L2110.38 158.924 L2090.8 158.924 Q2091.08 163.322 2093.44 165.637 Q2095.82 167.929 2100.06 167.929 Q2102.51 167.929 2104.8 167.327 Q2107.12 166.725 2109.39 165.521 L2109.39 169.549 Q2107.1 170.521 2104.69 171.031 Q2102.28 171.54 2099.8 171.54 Q2093.6 171.54 2089.97 167.929 Q2086.36 164.318 2086.36 158.16 Q2086.36 151.795 2089.78 148.068 Q2093.23 144.318 2099.06 144.318 Q2104.29 144.318 2107.33 147.697 Q2110.38 151.054 2110.38 156.841 M2106.12 155.591 Q2106.08 152.096 2104.16 150.012 Q2102.26 147.929 2099.11 147.929 Q2095.54 147.929 2093.39 149.943 Q2091.26 151.957 2090.94 155.614 L2106.12 155.591 Z\" fill=\"#000000\" fill-rule=\"evenodd\" fill-opacity=\"1\" /><path clip-path=\"url(#clip650)\" d=\"M 0 0 M2129.87 148.924 Q2129.16 148.508 2128.3 148.322 Q2127.47 148.114 2126.45 148.114 Q2122.84 148.114 2120.89 150.475 Q2118.97 152.813 2118.97 157.211 L2118.97 170.869 L2114.69 170.869 L2114.69 144.943 L2118.97 144.943 L2118.97 148.971 Q2120.31 146.609 2122.47 145.475 Q2124.62 144.318 2127.7 144.318 Q2128.14 144.318 2128.67 144.387 Q2129.2 144.434 2129.85 144.549 L2129.87 148.924 Z\" fill=\"#000000\" fill-rule=\"evenodd\" fill-opacity=\"1\" /><path clip-path=\"url(#clip650)\" d=\"M 0 0 M2132.49 144.943 L2152.72 144.943 L2152.72 148.832 L2136.7 167.466 L2152.72 167.466 L2152.72 170.869 L2131.91 170.869 L2131.91 166.98 L2147.93 148.346 L2132.49 148.346 L2132.49 144.943 Z\" fill=\"#000000\" fill-rule=\"evenodd\" fill-opacity=\"1\" /><path clip-path=\"url(#clip650)\" d=\"M 0 0 M2167.23 147.929 Q2163.81 147.929 2161.82 150.614 Q2159.83 153.276 2159.83 157.929 Q2159.83 162.582 2161.79 165.267 Q2163.79 167.929 2167.23 167.929 Q2170.64 167.929 2172.63 165.244 Q2174.62 162.558 2174.62 157.929 Q2174.62 153.322 2172.63 150.637 Q2170.64 147.929 2167.23 147.929 M2167.23 144.318 Q2172.79 144.318 2175.96 147.929 Q2179.13 151.54 2179.13 157.929 Q2179.13 164.295 2175.96 167.929 Q2172.79 171.54 2167.23 171.54 Q2161.66 171.54 2158.48 167.929 Q2155.34 164.295 2155.34 157.929 Q2155.34 151.54 2158.48 147.929 Q2161.66 144.318 2167.23 144.318 Z\" fill=\"#000000\" fill-rule=\"evenodd\" fill-opacity=\"1\" /><path clip-path=\"url(#clip650)\" d=\"M 0 0 M2205.15 155.221 L2205.15 170.869 L2200.89 170.869 L2200.89 155.359 Q2200.89 151.679 2199.46 149.85 Q2198.02 148.022 2195.15 148.022 Q2191.7 148.022 2189.71 150.221 Q2187.72 152.42 2187.72 156.216 L2187.72 170.869 L2183.44 170.869 L2183.44 144.943 L2187.72 144.943 L2187.72 148.971 Q2189.25 146.633 2191.31 145.475 Q2193.39 144.318 2196.1 144.318 Q2200.57 144.318 2202.86 147.096 Q2205.15 149.85 2205.15 155.221 Z\" fill=\"#000000\" fill-rule=\"evenodd\" fill-opacity=\"1\" /><path clip-path=\"url(#clip650)\" d=\"M 0 0 M2231.79 156.841 L2231.79 158.924 L2212.21 158.924 Q2212.49 163.322 2214.85 165.637 Q2217.23 167.929 2221.47 167.929 Q2223.92 167.929 2226.22 167.327 Q2228.53 166.725 2230.8 165.521 L2230.8 169.549 Q2228.51 170.521 2226.1 171.031 Q2223.69 171.54 2221.22 171.54 Q2215.01 171.54 2211.38 167.929 Q2207.77 164.318 2207.77 158.16 Q2207.77 151.795 2211.19 148.068 Q2214.64 144.318 2220.47 144.318 Q2225.71 144.318 2228.74 147.697 Q2231.79 151.054 2231.79 156.841 M2227.53 155.591 Q2227.49 152.096 2225.57 150.012 Q2223.67 147.929 2220.52 147.929 Q2216.96 147.929 2214.8 149.943 Q2212.67 151.957 2212.35 155.614 L2227.53 155.591 Z\" fill=\"#000000\" fill-rule=\"evenodd\" fill-opacity=\"1\" /></svg>\n"
      ]
     },
     "execution_count": 754,
     "metadata": {},
     "output_type": "execute_result"
    }
   ],
   "source": [
    "scatter(t_2, C_2, xlabel=\"t [h]\", ylabel=\"C [mg/l]\", label = \"wartości mierzone\")"
   ]
  },
  {
   "cell_type": "markdown",
   "metadata": {},
   "source": [
    "W naszych analitycznych rozważaniach doszliśmy do wzoru $$ C(t) = \\frac{\\mathrm{k}_a \\cdot X_{D_0}}{V_d \\cdot \\left(\\mathrm{k}_a - \\mathrm{k}_e\\right)} \\cdot \\left(\\mathrm{e}^{-\\mathrm{k}_e \\cdot t} - \\mathrm{e}^{-\\mathrm{k}_a \\cdot t}\\right)$$"
   ]
  },
  {
   "cell_type": "markdown",
   "metadata": {},
   "source": [
    "W przypadku naszych danych $V_d = 18,7l$, $\\mathrm{k}_e = 0,279/h$, $\\mathrm{k}_a = 2,29/h$, $X_{D_0} = 100mg$"
   ]
  },
  {
   "cell_type": "markdown",
   "metadata": {},
   "source": [
    "Wykorzystując analityczne rozwiązanie możemy wyliczyć wartość stężenia w kolejnych okresach czasu"
   ]
  },
  {
   "cell_type": "code",
   "execution_count": 755,
   "metadata": {},
   "outputs": [
    {
     "data": {
      "text/plain": [
       "one_analyt2 (generic function with 1 method)"
      ]
     },
     "execution_count": 755,
     "metadata": {},
     "output_type": "execute_result"
    }
   ],
   "source": [
    "function one_analyt2(t)\n",
    "    x = fill(NaN, length(t))\n",
    "    for i in 1:(length(t))\n",
    "        x[i] = ((2.29*100)/(18.7*(2.29-0.279))*(ℯ^(-0.279*t[i])-ℯ^(-2.29*t[i])))\n",
    "    end\n",
    "    return x\n",
    "end"
   ]
  },
  {
   "cell_type": "code",
   "execution_count": 756,
   "metadata": {},
   "outputs": [
    {
     "data": {
      "image/svg+xml": [
       "<?xml version=\"1.0\" encoding=\"utf-8\"?>\n",
       "<svg xmlns=\"http://www.w3.org/2000/svg\" xmlns:xlink=\"http://www.w3.org/1999/xlink\" width=\"600\" height=\"400\" viewBox=\"0 0 2400 1600\">\n",
       "<defs>\n",
       "  <clipPath id=\"clip690\">\n",
       "    <rect x=\"0\" y=\"0\" width=\"2400\" height=\"1600\"/>\n",
       "  </clipPath>\n",
       "</defs>\n",
       "<path clip-path=\"url(#clip690)\" d=\"\n",
       "M0 1600 L2400 1600 L2400 0 L0 0  Z\n",
       "  \" fill=\"#ffffff\" fill-rule=\"evenodd\" fill-opacity=\"1\"/>\n",
       "<defs>\n",
       "  <clipPath id=\"clip691\">\n",
       "    <rect x=\"480\" y=\"0\" width=\"1681\" height=\"1600\"/>\n",
       "  </clipPath>\n",
       "</defs>\n",
       "<path clip-path=\"url(#clip690)\" d=\"\n",
       "M175.445 1423.18 L2352.76 1423.18 L2352.76 47.2441 L175.445 47.2441  Z\n",
       "  \" fill=\"#ffffff\" fill-rule=\"evenodd\" fill-opacity=\"1\"/>\n",
       "<defs>\n",
       "  <clipPath id=\"clip692\">\n",
       "    <rect x=\"175\" y=\"47\" width=\"2178\" height=\"1377\"/>\n",
       "  </clipPath>\n",
       "</defs>\n",
       "<polyline clip-path=\"url(#clip692)\" style=\"stroke:#000000; stroke-width:2; stroke-opacity:0.1; fill:none\" points=\"\n",
       "  237.067,1423.18 237.067,47.2441 \n",
       "  \"/>\n",
       "<polyline clip-path=\"url(#clip692)\" style=\"stroke:#000000; stroke-width:2; stroke-opacity:0.1; fill:none\" points=\"\n",
       "  664.998,1423.18 664.998,47.2441 \n",
       "  \"/>\n",
       "<polyline clip-path=\"url(#clip692)\" style=\"stroke:#000000; stroke-width:2; stroke-opacity:0.1; fill:none\" points=\"\n",
       "  1092.93,1423.18 1092.93,47.2441 \n",
       "  \"/>\n",
       "<polyline clip-path=\"url(#clip692)\" style=\"stroke:#000000; stroke-width:2; stroke-opacity:0.1; fill:none\" points=\"\n",
       "  1520.86,1423.18 1520.86,47.2441 \n",
       "  \"/>\n",
       "<polyline clip-path=\"url(#clip692)\" style=\"stroke:#000000; stroke-width:2; stroke-opacity:0.1; fill:none\" points=\"\n",
       "  1948.79,1423.18 1948.79,47.2441 \n",
       "  \"/>\n",
       "<polyline clip-path=\"url(#clip690)\" style=\"stroke:#000000; stroke-width:4; stroke-opacity:1; fill:none\" points=\"\n",
       "  175.445,1423.18 2352.76,1423.18 \n",
       "  \"/>\n",
       "<polyline clip-path=\"url(#clip690)\" style=\"stroke:#000000; stroke-width:4; stroke-opacity:1; fill:none\" points=\"\n",
       "  237.067,1423.18 237.067,1406.67 \n",
       "  \"/>\n",
       "<polyline clip-path=\"url(#clip690)\" style=\"stroke:#000000; stroke-width:4; stroke-opacity:1; fill:none\" points=\"\n",
       "  664.998,1423.18 664.998,1406.67 \n",
       "  \"/>\n",
       "<polyline clip-path=\"url(#clip690)\" style=\"stroke:#000000; stroke-width:4; stroke-opacity:1; fill:none\" points=\"\n",
       "  1092.93,1423.18 1092.93,1406.67 \n",
       "  \"/>\n",
       "<polyline clip-path=\"url(#clip690)\" style=\"stroke:#000000; stroke-width:4; stroke-opacity:1; fill:none\" points=\"\n",
       "  1520.86,1423.18 1520.86,1406.67 \n",
       "  \"/>\n",
       "<polyline clip-path=\"url(#clip690)\" style=\"stroke:#000000; stroke-width:4; stroke-opacity:1; fill:none\" points=\"\n",
       "  1948.79,1423.18 1948.79,1406.67 \n",
       "  \"/>\n",
       "<path clip-path=\"url(#clip690)\" d=\"M 0 0 M237.067 1452.37 Q233.456 1452.37 231.627 1455.94 Q229.822 1459.48 229.822 1466.61 Q229.822 1473.71 231.627 1477.28 Q233.456 1480.82 237.067 1480.82 Q240.701 1480.82 242.507 1477.28 Q244.336 1473.71 244.336 1466.61 Q244.336 1459.48 242.507 1455.94 Q240.701 1452.37 237.067 1452.37 M237.067 1448.67 Q242.877 1448.67 245.933 1453.27 Q249.012 1457.86 249.012 1466.61 Q249.012 1475.33 245.933 1479.94 Q242.877 1484.52 237.067 1484.52 Q231.257 1484.52 228.178 1479.94 Q225.123 1475.33 225.123 1466.61 Q225.123 1457.86 228.178 1453.27 Q231.257 1448.67 237.067 1448.67 Z\" fill=\"#000000\" fill-rule=\"evenodd\" fill-opacity=\"1\" /><path clip-path=\"url(#clip690)\" d=\"M 0 0 M655.276 1449.29 L673.632 1449.29 L673.632 1453.23 L659.558 1453.23 L659.558 1461.7 Q660.576 1461.35 661.595 1461.19 Q662.614 1461 663.632 1461 Q669.419 1461 672.799 1464.18 Q676.178 1467.35 676.178 1472.76 Q676.178 1478.34 672.706 1481.44 Q669.234 1484.52 662.914 1484.52 Q660.739 1484.52 658.47 1484.15 Q656.225 1483.78 653.817 1483.04 L653.817 1478.34 Q655.901 1479.48 658.123 1480.03 Q660.345 1480.59 662.822 1480.59 Q666.826 1480.59 669.164 1478.48 Q671.502 1476.38 671.502 1472.76 Q671.502 1469.15 669.164 1467.05 Q666.826 1464.94 662.822 1464.94 Q660.947 1464.94 659.072 1465.36 Q657.22 1465.77 655.276 1466.65 L655.276 1449.29 Z\" fill=\"#000000\" fill-rule=\"evenodd\" fill-opacity=\"1\" /><path clip-path=\"url(#clip690)\" d=\"M 0 0 M1069.8 1479.92 L1077.44 1479.92 L1077.44 1453.55 L1069.13 1455.22 L1069.13 1450.96 L1077.4 1449.29 L1082.07 1449.29 L1082.07 1479.92 L1089.71 1479.92 L1089.71 1483.85 L1069.8 1483.85 L1069.8 1479.92 Z\" fill=\"#000000\" fill-rule=\"evenodd\" fill-opacity=\"1\" /><path clip-path=\"url(#clip690)\" d=\"M 0 0 M1104.78 1452.37 Q1101.17 1452.37 1099.34 1455.94 Q1097.53 1459.48 1097.53 1466.61 Q1097.53 1473.71 1099.34 1477.28 Q1101.17 1480.82 1104.78 1480.82 Q1108.41 1480.82 1110.22 1477.28 Q1112.05 1473.71 1112.05 1466.61 Q1112.05 1459.48 1110.22 1455.94 Q1108.41 1452.37 1104.78 1452.37 M1104.78 1448.67 Q1110.59 1448.67 1113.65 1453.27 Q1116.72 1457.86 1116.72 1466.61 Q1116.72 1475.33 1113.65 1479.94 Q1110.59 1484.52 1104.78 1484.52 Q1098.97 1484.52 1095.89 1479.94 Q1092.84 1475.33 1092.84 1466.61 Q1092.84 1457.86 1095.89 1453.27 Q1098.97 1448.67 1104.78 1448.67 Z\" fill=\"#000000\" fill-rule=\"evenodd\" fill-opacity=\"1\" /><path clip-path=\"url(#clip690)\" d=\"M 0 0 M1498.23 1479.92 L1505.87 1479.92 L1505.87 1453.55 L1497.56 1455.22 L1497.56 1450.96 L1505.82 1449.29 L1510.5 1449.29 L1510.5 1479.92 L1518.14 1479.92 L1518.14 1483.85 L1498.23 1483.85 L1498.23 1479.92 Z\" fill=\"#000000\" fill-rule=\"evenodd\" fill-opacity=\"1\" /><path clip-path=\"url(#clip690)\" d=\"M 0 0 M1523.25 1449.29 L1541.61 1449.29 L1541.61 1453.23 L1527.54 1453.23 L1527.54 1461.7 Q1528.56 1461.35 1529.57 1461.19 Q1530.59 1461 1531.61 1461 Q1537.4 1461 1540.78 1464.18 Q1544.16 1467.35 1544.16 1472.76 Q1544.16 1478.34 1540.69 1481.44 Q1537.21 1484.52 1530.89 1484.52 Q1528.72 1484.52 1526.45 1484.15 Q1524.2 1483.78 1521.8 1483.04 L1521.8 1478.34 Q1523.88 1479.48 1526.1 1480.03 Q1528.32 1480.59 1530.8 1480.59 Q1534.81 1480.59 1537.14 1478.48 Q1539.48 1476.38 1539.48 1472.76 Q1539.48 1469.15 1537.14 1467.05 Q1534.81 1464.94 1530.8 1464.94 Q1528.93 1464.94 1527.05 1465.36 Q1525.2 1465.77 1523.25 1466.65 L1523.25 1449.29 Z\" fill=\"#000000\" fill-rule=\"evenodd\" fill-opacity=\"1\" /><path clip-path=\"url(#clip690)\" d=\"M 0 0 M1929.94 1479.92 L1946.25 1479.92 L1946.25 1483.85 L1924.31 1483.85 L1924.31 1479.92 Q1926.97 1477.16 1931.56 1472.53 Q1936.16 1467.88 1937.34 1466.54 Q1939.59 1464.01 1940.47 1462.28 Q1941.37 1460.52 1941.37 1458.83 Q1941.37 1456.07 1939.43 1454.34 Q1937.5 1452.6 1934.4 1452.6 Q1932.2 1452.6 1929.75 1453.37 Q1927.32 1454.13 1924.54 1455.68 L1924.54 1450.96 Q1927.37 1449.82 1929.82 1449.25 Q1932.27 1448.67 1934.31 1448.67 Q1939.68 1448.67 1942.88 1451.35 Q1946.07 1454.04 1946.07 1458.53 Q1946.07 1460.66 1945.26 1462.58 Q1944.47 1464.48 1942.37 1467.07 Q1941.79 1467.74 1938.69 1470.96 Q1935.58 1474.15 1929.94 1479.92 Z\" fill=\"#000000\" fill-rule=\"evenodd\" fill-opacity=\"1\" /><path clip-path=\"url(#clip690)\" d=\"M 0 0 M1961.32 1452.37 Q1957.71 1452.37 1955.88 1455.94 Q1954.08 1459.48 1954.08 1466.61 Q1954.08 1473.71 1955.88 1477.28 Q1957.71 1480.82 1961.32 1480.82 Q1964.96 1480.82 1966.76 1477.28 Q1968.59 1473.71 1968.59 1466.61 Q1968.59 1459.48 1966.76 1455.94 Q1964.96 1452.37 1961.32 1452.37 M1961.32 1448.67 Q1967.13 1448.67 1970.19 1453.27 Q1973.27 1457.86 1973.27 1466.61 Q1973.27 1475.33 1970.19 1479.94 Q1967.13 1484.52 1961.32 1484.52 Q1955.51 1484.52 1952.44 1479.94 Q1949.38 1475.33 1949.38 1466.61 Q1949.38 1457.86 1952.44 1453.27 Q1955.51 1448.67 1961.32 1448.67 Z\" fill=\"#000000\" fill-rule=\"evenodd\" fill-opacity=\"1\" /><path clip-path=\"url(#clip690)\" d=\"M 0 0 M1215.45 1522.27 L1215.45 1532.4 L1227.51 1532.4 L1227.51 1536.95 L1215.45 1536.95 L1215.45 1556.3 Q1215.45 1560.66 1216.63 1561.9 Q1217.84 1563.14 1221.5 1563.14 L1227.51 1563.14 L1227.51 1568.04 L1221.5 1568.04 Q1214.72 1568.04 1212.14 1565.53 Q1209.56 1562.98 1209.56 1556.3 L1209.56 1536.95 L1205.27 1536.95 L1205.27 1532.4 L1209.56 1532.4 L1209.56 1522.27 L1215.45 1522.27 Z\" fill=\"#000000\" fill-rule=\"evenodd\" fill-opacity=\"1\" /><path clip-path=\"url(#clip690)\" d=\"M 0 0 M1253.84 1518.52 L1267.33 1518.52 L1267.33 1523.07 L1259.69 1523.07 L1259.69 1572.09 L1267.33 1572.09 L1267.33 1576.64 L1253.84 1576.64 L1253.84 1518.52 Z\" fill=\"#000000\" fill-rule=\"evenodd\" fill-opacity=\"1\" /><path clip-path=\"url(#clip690)\" d=\"M 0 0 M1303.11 1546.53 L1303.11 1568.04 L1297.25 1568.04 L1297.25 1546.72 Q1297.25 1541.66 1295.28 1539.14 Q1293.3 1536.63 1289.36 1536.63 Q1284.61 1536.63 1281.88 1539.65 Q1279.14 1542.68 1279.14 1547.9 L1279.14 1568.04 L1273.25 1568.04 L1273.25 1518.52 L1279.14 1518.52 L1279.14 1537.93 Q1281.24 1534.72 1284.07 1533.13 Q1286.94 1531.54 1290.66 1531.54 Q1296.8 1531.54 1299.96 1535.36 Q1303.11 1539.14 1303.11 1546.53 Z\" fill=\"#000000\" fill-rule=\"evenodd\" fill-opacity=\"1\" /><path clip-path=\"url(#clip690)\" d=\"M 0 0 M1322.94 1518.52 L1322.94 1576.64 L1309.44 1576.64 L1309.44 1572.09 L1317.05 1572.09 L1317.05 1523.07 L1309.44 1523.07 L1309.44 1518.52 L1322.94 1518.52 Z\" fill=\"#000000\" fill-rule=\"evenodd\" fill-opacity=\"1\" /><polyline clip-path=\"url(#clip692)\" style=\"stroke:#000000; stroke-width:2; stroke-opacity:0.1; fill:none\" points=\"\n",
       "  175.445,1384.24 2352.76,1384.24 \n",
       "  \"/>\n",
       "<polyline clip-path=\"url(#clip692)\" style=\"stroke:#000000; stroke-width:2; stroke-opacity:0.1; fill:none\" points=\"\n",
       "  175.445,1058.94 2352.76,1058.94 \n",
       "  \"/>\n",
       "<polyline clip-path=\"url(#clip692)\" style=\"stroke:#000000; stroke-width:2; stroke-opacity:0.1; fill:none\" points=\"\n",
       "  175.445,733.632 2352.76,733.632 \n",
       "  \"/>\n",
       "<polyline clip-path=\"url(#clip692)\" style=\"stroke:#000000; stroke-width:2; stroke-opacity:0.1; fill:none\" points=\"\n",
       "  175.445,408.33 2352.76,408.33 \n",
       "  \"/>\n",
       "<polyline clip-path=\"url(#clip692)\" style=\"stroke:#000000; stroke-width:2; stroke-opacity:0.1; fill:none\" points=\"\n",
       "  175.445,83.0267 2352.76,83.0267 \n",
       "  \"/>\n",
       "<polyline clip-path=\"url(#clip690)\" style=\"stroke:#000000; stroke-width:4; stroke-opacity:1; fill:none\" points=\"\n",
       "  175.445,1423.18 175.445,47.2441 \n",
       "  \"/>\n",
       "<polyline clip-path=\"url(#clip690)\" style=\"stroke:#000000; stroke-width:4; stroke-opacity:1; fill:none\" points=\"\n",
       "  175.445,1384.24 201.573,1384.24 \n",
       "  \"/>\n",
       "<polyline clip-path=\"url(#clip690)\" style=\"stroke:#000000; stroke-width:4; stroke-opacity:1; fill:none\" points=\"\n",
       "  175.445,1058.94 201.573,1058.94 \n",
       "  \"/>\n",
       "<polyline clip-path=\"url(#clip690)\" style=\"stroke:#000000; stroke-width:4; stroke-opacity:1; fill:none\" points=\"\n",
       "  175.445,733.632 201.573,733.632 \n",
       "  \"/>\n",
       "<polyline clip-path=\"url(#clip690)\" style=\"stroke:#000000; stroke-width:4; stroke-opacity:1; fill:none\" points=\"\n",
       "  175.445,408.33 201.573,408.33 \n",
       "  \"/>\n",
       "<polyline clip-path=\"url(#clip690)\" style=\"stroke:#000000; stroke-width:4; stroke-opacity:1; fill:none\" points=\"\n",
       "  175.445,83.0267 201.573,83.0267 \n",
       "  \"/>\n",
       "<path clip-path=\"url(#clip690)\" d=\"M 0 0 M127.501 1370.04 Q123.89 1370.04 122.061 1373.6 Q120.255 1377.14 120.255 1384.27 Q120.255 1391.38 122.061 1394.94 Q123.89 1398.49 127.501 1398.49 Q131.135 1398.49 132.941 1394.94 Q134.769 1391.38 134.769 1384.27 Q134.769 1377.14 132.941 1373.6 Q131.135 1370.04 127.501 1370.04 M127.501 1366.33 Q133.311 1366.33 136.367 1370.94 Q139.445 1375.52 139.445 1384.27 Q139.445 1393 136.367 1397.61 Q133.311 1402.19 127.501 1402.19 Q121.691 1402.19 118.612 1397.61 Q115.556 1393 115.556 1384.27 Q115.556 1375.52 118.612 1370.94 Q121.691 1366.33 127.501 1366.33 Z\" fill=\"#000000\" fill-rule=\"evenodd\" fill-opacity=\"1\" /><path clip-path=\"url(#clip690)\" d=\"M 0 0 M119.538 1072.28 L127.177 1072.28 L127.177 1045.91 L118.867 1047.58 L118.867 1043.32 L127.13 1041.66 L131.806 1041.66 L131.806 1072.28 L139.445 1072.28 L139.445 1076.22 L119.538 1076.22 L119.538 1072.28 Z\" fill=\"#000000\" fill-rule=\"evenodd\" fill-opacity=\"1\" /><path clip-path=\"url(#clip690)\" d=\"M 0 0 M123.126 746.977 L139.445 746.977 L139.445 750.912 L117.501 750.912 L117.501 746.977 Q120.163 744.223 124.746 739.593 Q129.353 734.94 130.533 733.598 Q132.779 731.075 133.658 729.339 Q134.561 727.579 134.561 725.889 Q134.561 723.135 132.617 721.399 Q130.695 719.663 127.593 719.663 Q125.394 719.663 122.941 720.427 Q120.51 721.19 117.732 722.741 L117.732 718.019 Q120.556 716.885 123.01 716.306 Q125.464 715.727 127.501 715.727 Q132.871 715.727 136.066 718.413 Q139.26 721.098 139.26 725.589 Q139.26 727.718 138.45 729.639 Q137.663 731.538 135.556 734.13 Q134.978 734.801 131.876 738.019 Q128.774 741.213 123.126 746.977 Z\" fill=\"#000000\" fill-rule=\"evenodd\" fill-opacity=\"1\" /><path clip-path=\"url(#clip690)\" d=\"M 0 0 M132.316 406.975 Q135.672 407.693 137.547 409.962 Q139.445 412.23 139.445 415.563 Q139.445 420.679 135.927 423.48 Q132.408 426.281 125.927 426.281 Q123.751 426.281 121.436 425.841 Q119.144 425.424 116.691 424.568 L116.691 420.054 Q118.635 421.188 120.95 421.767 Q123.265 422.346 125.788 422.346 Q130.186 422.346 132.478 420.61 Q134.792 418.874 134.792 415.563 Q134.792 412.508 132.64 410.795 Q130.51 409.059 126.691 409.059 L122.663 409.059 L122.663 405.216 L126.876 405.216 Q130.325 405.216 132.154 403.85 Q133.982 402.462 133.982 399.869 Q133.982 397.207 132.084 395.795 Q130.209 394.36 126.691 394.36 Q124.769 394.36 122.57 394.776 Q120.371 395.193 117.732 396.073 L117.732 391.906 Q120.394 391.165 122.709 390.795 Q125.047 390.425 127.107 390.425 Q132.431 390.425 135.533 392.855 Q138.635 395.263 138.635 399.383 Q138.635 402.253 136.992 404.244 Q135.348 406.212 132.316 406.975 Z\" fill=\"#000000\" fill-rule=\"evenodd\" fill-opacity=\"1\" /><path clip-path=\"url(#clip690)\" d=\"M 0 0 M129.862 69.8208 L118.056 88.2697 L129.862 88.2697 L129.862 69.8208 M128.635 65.7467 L134.515 65.7467 L134.515 88.2697 L139.445 88.2697 L139.445 92.1586 L134.515 92.1586 L134.515 100.307 L129.862 100.307 L129.862 92.1586 L114.26 92.1586 L114.26 87.6447 L128.635 65.7467 Z\" fill=\"#000000\" fill-rule=\"evenodd\" fill-opacity=\"1\" /><path clip-path=\"url(#clip690)\" d=\"M 0 0 M20.1444 809.563 L26.9239 809.563 Q23.9002 812.81 22.4043 816.502 Q20.9083 820.162 20.9083 824.3 Q20.9083 832.448 25.9054 836.777 Q30.8707 841.105 40.2919 841.105 Q49.6813 841.105 54.6784 836.777 Q59.6436 832.448 59.6436 824.3 Q59.6436 820.162 58.1477 816.502 Q56.6518 812.81 53.6281 809.563 L60.3439 809.563 Q62.6355 812.937 63.7814 816.725 Q64.9272 820.481 64.9272 824.682 Q64.9272 835.472 58.3387 841.678 Q51.7183 847.885 40.2919 847.885 Q28.8336 847.885 22.2451 841.678 Q15.6248 835.472 15.6248 824.682 Q15.6248 820.417 16.7706 816.661 Q17.8846 812.874 20.1444 809.563 Z\" fill=\"#000000\" fill-rule=\"evenodd\" fill-opacity=\"1\" /><path clip-path=\"url(#clip690)\" d=\"M 0 0 M14.479 783.241 L14.479 769.746 L19.0304 769.746 L19.0304 777.385 L68.0464 777.385 L68.0464 769.746 L72.5979 769.746 L72.5979 783.241 L14.479 783.241 Z\" fill=\"#000000\" fill-rule=\"evenodd\" fill-opacity=\"1\" /><path clip-path=\"url(#clip690)\" d=\"M 0 0 M35.1993 735.849 Q31.2526 733.652 29.3747 730.597 Q27.4968 727.541 27.4968 723.404 Q27.4968 717.834 31.4117 714.81 Q35.2948 711.786 42.4881 711.786 L64.0042 711.786 L64.0042 717.674 L42.679 717.674 Q37.5546 717.674 35.072 719.489 Q32.5894 721.303 32.5894 725.027 Q32.5894 729.578 35.6131 732.22 Q38.6368 734.862 43.8567 734.862 L64.0042 734.862 L64.0042 740.75 L42.679 740.75 Q37.5228 740.75 35.072 742.564 Q32.5894 744.379 32.5894 748.166 Q32.5894 752.654 35.6449 755.296 Q38.6686 757.938 43.8567 757.938 L64.0042 757.938 L64.0042 763.826 L28.3562 763.826 L28.3562 757.938 L33.8944 757.938 Q30.616 755.932 29.0564 753.131 Q27.4968 750.331 27.4968 746.479 Q27.4968 742.596 29.4702 739.891 Q31.4436 737.154 35.1993 735.849 Z\" fill=\"#000000\" fill-rule=\"evenodd\" fill-opacity=\"1\" /><path clip-path=\"url(#clip690)\" d=\"M 0 0 M45.7664 682.186 Q39.4007 682.186 35.8996 684.827 Q32.3984 687.437 32.3984 692.18 Q32.3984 696.89 35.8996 699.532 Q39.4007 702.142 45.7664 702.142 Q52.1003 702.142 55.6014 699.532 Q59.1026 696.89 59.1026 692.18 Q59.1026 687.437 55.6014 684.827 Q52.1003 682.186 45.7664 682.186 M59.58 676.329 Q68.683 676.329 73.1071 680.371 Q77.5631 684.414 77.5631 692.753 Q77.5631 695.84 77.0857 698.577 Q76.6401 701.315 75.6852 703.893 L69.9879 703.893 Q71.3884 701.315 72.0568 698.8 Q72.7252 696.286 72.7252 693.676 Q72.7252 687.915 69.7015 685.05 Q66.7096 682.186 60.6303 682.186 L57.7339 682.186 Q60.885 684 62.4446 686.833 Q64.0042 689.665 64.0042 693.612 Q64.0042 700.169 59.0071 704.179 Q54.01 708.19 45.7664 708.19 Q37.491 708.19 32.4939 704.179 Q27.4968 700.169 27.4968 693.612 Q27.4968 689.665 29.0564 686.833 Q30.616 684 33.7671 682.186 L28.3562 682.186 L28.3562 676.329 L59.58 676.329 Z\" fill=\"#000000\" fill-rule=\"evenodd\" fill-opacity=\"1\" /><path clip-path=\"url(#clip690)\" d=\"M 0 0 M16.4842 659.778 L16.4842 654.367 L70.0516 670.918 L70.0516 676.329 L16.4842 659.778 Z\" fill=\"#000000\" fill-rule=\"evenodd\" fill-opacity=\"1\" /><path clip-path=\"url(#clip690)\" d=\"M 0 0 M14.479 648.225 L14.479 642.368 L64.0042 642.368 L64.0042 648.225 L14.479 648.225 Z\" fill=\"#000000\" fill-rule=\"evenodd\" fill-opacity=\"1\" /><path clip-path=\"url(#clip690)\" d=\"M 0 0 M14.479 622.539 L72.5979 622.539 L72.5979 636.034 L68.0464 636.034 L68.0464 628.427 L19.0304 628.427 L19.0304 636.034 L14.479 636.034 L14.479 622.539 Z\" fill=\"#000000\" fill-rule=\"evenodd\" fill-opacity=\"1\" /><circle clip-path=\"url(#clip692)\" cx=\"279.86\" cy=\"538.451\" r=\"14\" fill=\"#009af9\" fill-rule=\"evenodd\" fill-opacity=\"1\" stroke=\"#000000\" stroke-opacity=\"1\" stroke-width=\"3.2\"/>\n",
       "<circle clip-path=\"url(#clip692)\" cx=\"322.653\" cy=\"99.2919\" r=\"14\" fill=\"#009af9\" fill-rule=\"evenodd\" fill-opacity=\"1\" stroke=\"#000000\" stroke-opacity=\"1\" stroke-width=\"3.2\"/>\n",
       "<circle clip-path=\"url(#clip692)\" cx=\"365.446\" cy=\"122.063\" r=\"14\" fill=\"#009af9\" fill-rule=\"evenodd\" fill-opacity=\"1\" stroke=\"#000000\" stroke-opacity=\"1\" stroke-width=\"3.2\"/>\n",
       "<circle clip-path=\"url(#clip692)\" cx=\"408.239\" cy=\"229.413\" r=\"14\" fill=\"#009af9\" fill-rule=\"evenodd\" fill-opacity=\"1\" stroke=\"#000000\" stroke-opacity=\"1\" stroke-width=\"3.2\"/>\n",
       "<circle clip-path=\"url(#clip692)\" cx=\"493.826\" cy=\"463.631\" r=\"14\" fill=\"#009af9\" fill-rule=\"evenodd\" fill-opacity=\"1\" stroke=\"#000000\" stroke-opacity=\"1\" stroke-width=\"3.2\"/>\n",
       "<circle clip-path=\"url(#clip692)\" cx=\"750.584\" cy=\"971.104\" r=\"14\" fill=\"#009af9\" fill-rule=\"evenodd\" fill-opacity=\"1\" stroke=\"#000000\" stroke-opacity=\"1\" stroke-width=\"3.2\"/>\n",
       "<circle clip-path=\"url(#clip692)\" cx=\"1007.34\" cy=\"1241.1\" r=\"14\" fill=\"#009af9\" fill-rule=\"evenodd\" fill-opacity=\"1\" stroke=\"#000000\" stroke-opacity=\"1\" stroke-width=\"3.2\"/>\n",
       "<circle clip-path=\"url(#clip692)\" cx=\"1264.1\" cy=\"1328.94\" r=\"14\" fill=\"#009af9\" fill-rule=\"evenodd\" fill-opacity=\"1\" stroke=\"#000000\" stroke-opacity=\"1\" stroke-width=\"3.2\"/>\n",
       "<circle clip-path=\"url(#clip692)\" cx=\"2291.13\" cy=\"1367.97\" r=\"14\" fill=\"#009af9\" fill-rule=\"evenodd\" fill-opacity=\"1\" stroke=\"#000000\" stroke-opacity=\"1\" stroke-width=\"3.2\"/>\n",
       "<polyline clip-path=\"url(#clip692)\" style=\"stroke:#e26f46; stroke-width:4; stroke-opacity:1; fill:none\" points=\"\n",
       "  237.067,1384.24 245.626,1033.3 254.184,763.848 262.743,558.934 271.302,405.092 279.86,291.617 288.419,210.003 296.977,153.492 305.536,116.715 314.095,95.4078 \n",
       "  322.653,86.1857 331.212,86.3627 339.771,93.8085 348.329,106.834 356.888,124.103 365.446,144.555 374.005,167.355 382.564,191.843 391.122,217.497 399.681,243.91 \n",
       "  408.239,270.76 416.798,297.798 425.357,324.829 433.915,351.701 442.474,378.301 451.032,404.538 459.591,430.349 468.15,455.684 476.708,480.508 485.267,504.797 \n",
       "  493.826,528.537 502.384,551.716 510.943,574.333 519.501,596.386 528.06,617.88 536.619,638.82 545.177,659.214 553.736,679.07 562.294,698.399 570.853,717.211 \n",
       "  579.412,735.518 587.97,753.33 596.529,770.66 605.087,787.519 613.646,803.918 622.205,819.871 630.763,835.387 639.322,850.479 647.881,865.158 656.439,879.434 \n",
       "  664.998,893.319 673.556,906.822 682.115,919.955 690.674,932.727 699.232,945.149 707.791,957.228 716.349,968.976 724.908,980.401 733.467,991.511 742.025,1002.32 \n",
       "  750.584,1012.82 759.142,1023.04 767.701,1032.98 776.26,1042.65 784.818,1052.04 793.377,1061.18 801.936,1070.07 810.494,1078.72 819.053,1087.12 827.611,1095.3 \n",
       "  836.17,1103.25 844.729,1110.98 853.287,1118.5 861.846,1125.81 870.404,1132.92 878.963,1139.83 887.522,1146.56 896.08,1153.1 904.639,1159.46 913.197,1165.64 \n",
       "  921.756,1171.66 930.315,1177.51 938.873,1183.19 947.432,1188.73 955.991,1194.11 964.549,1199.34 973.108,1204.42 981.666,1209.37 990.225,1214.18 998.784,1218.86 \n",
       "  1007.34,1223.41 1015.9,1227.84 1024.46,1232.14 1033.02,1236.33 1041.58,1240.4 1050.14,1244.35 1058.69,1248.2 1067.25,1251.94 1075.81,1255.58 1084.37,1259.12 \n",
       "  1092.93,1262.57 1101.49,1265.91 1110.05,1269.17 1118.6,1272.34 1127.16,1275.42 1135.72,1278.41 1144.28,1281.32 1152.84,1284.15 1161.4,1286.91 1169.96,1289.58 \n",
       "  1178.51,1292.19 1187.07,1294.72 1195.63,1297.18 1204.19,1299.58 1212.75,1301.91 1221.31,1304.17 1229.87,1306.38 1238.42,1308.52 1246.98,1310.6 1255.54,1312.63 \n",
       "  1264.1,1314.6 1272.66,1316.52 1281.22,1318.38 1289.78,1320.19 1298.34,1321.95 1306.89,1323.67 1315.45,1325.33 1324.01,1326.95 1332.57,1328.53 1341.13,1330.06 \n",
       "  1349.69,1331.55 1358.25,1333 1366.8,1334.41 1375.36,1335.78 1383.92,1337.12 1392.48,1338.41 1401.04,1339.67 1409.6,1340.9 1418.16,1342.09 1426.71,1343.25 \n",
       "  1435.27,1344.38 1443.83,1345.48 1452.39,1346.54 1460.95,1347.58 1469.51,1348.59 1478.07,1349.57 1486.62,1350.52 1495.18,1351.45 1503.74,1352.35 1512.3,1353.23 \n",
       "  1520.86,1354.08 1529.42,1354.91 1537.98,1355.72 1546.53,1356.51 1555.09,1357.27 1563.65,1358.01 1572.21,1358.73 1580.77,1359.43 1589.33,1360.12 1597.89,1360.78 \n",
       "  1606.45,1361.43 1615,1362.05 1623.56,1362.66 1632.12,1363.26 1640.68,1363.83 1649.24,1364.4 1657.8,1364.94 1666.36,1365.47 1674.91,1365.99 1683.47,1366.49 \n",
       "  1692.03,1366.98 1700.59,1367.45 1709.15,1367.92 1717.71,1368.37 1726.27,1368.8 1734.82,1369.23 1743.38,1369.64 1751.94,1370.04 1760.5,1370.43 1769.06,1370.81 \n",
       "  1777.62,1371.18 1786.18,1371.54 1794.73,1371.89 1803.29,1372.23 1811.85,1372.56 1820.41,1372.88 1828.97,1373.19 1837.53,1373.5 1846.09,1373.79 1854.64,1374.08 \n",
       "  1863.2,1374.36 1871.76,1374.63 1880.32,1374.9 1888.88,1375.15 1897.44,1375.4 1906,1375.65 1914.56,1375.88 1923.11,1376.11 1931.67,1376.34 1940.23,1376.55 \n",
       "  1948.79,1376.77 1957.35,1376.97 1965.91,1377.17 1974.47,1377.37 1983.02,1377.55 1991.58,1377.74 2000.14,1377.92 2008.7,1378.09 2017.26,1378.26 2025.82,1378.42 \n",
       "  2034.38,1378.58 2042.93,1378.74 2051.49,1378.89 2060.05,1379.04 2068.61,1379.18 2077.17,1379.32 2085.73,1379.46 2094.29,1379.59 2102.84,1379.72 2111.4,1379.84 \n",
       "  2119.96,1379.96 2128.52,1380.08 2137.08,1380.19 2145.64,1380.3 2154.2,1380.41 2162.75,1380.52 2171.31,1380.62 2179.87,1380.72 2188.43,1380.82 2196.99,1380.91 \n",
       "  2205.55,1381 2214.11,1381.09 2222.67,1381.18 2231.22,1381.26 2239.78,1381.34 2248.34,1381.42 2256.9,1381.5 2265.46,1381.58 2274.02,1381.65 2282.58,1381.72 \n",
       "  2291.13,1381.79 \n",
       "  \"/>\n",
       "<path clip-path=\"url(#clip690)\" d=\"\n",
       "M1647.12 274.549 L2280.18 274.549 L2280.18 93.1086 L1647.12 93.1086  Z\n",
       "  \" fill=\"#ffffff\" fill-rule=\"evenodd\" fill-opacity=\"1\"/>\n",
       "<polyline clip-path=\"url(#clip690)\" style=\"stroke:#000000; stroke-width:4; stroke-opacity:1; fill:none\" points=\"\n",
       "  1647.12,274.549 2280.18,274.549 2280.18,93.1086 1647.12,93.1086 1647.12,274.549 \n",
       "  \"/>\n",
       "<circle clip-path=\"url(#clip690)\" cx=\"1743.89\" cy=\"153.589\" r=\"23\" fill=\"#009af9\" fill-rule=\"evenodd\" fill-opacity=\"1\" stroke=\"#000000\" stroke-opacity=\"1\" stroke-width=\"5.12\"/>\n",
       "<path clip-path=\"url(#clip690)\" d=\"M 0 0 M1840.66 144.943 L1844.92 144.943 L1850.25 165.174 L1855.55 144.943 L1860.57 144.943 L1865.89 165.174 L1871.19 144.943 L1875.45 144.943 L1868.67 170.869 L1863.65 170.869 L1858.07 149.619 L1852.47 170.869 L1847.44 170.869 L1840.66 144.943 Z\" fill=\"#000000\" fill-rule=\"evenodd\" fill-opacity=\"1\" /><path clip-path=\"url(#clip690)\" d=\"M 0 0 M1891.7 157.836 Q1886.54 157.836 1884.55 159.017 Q1882.56 160.197 1882.56 163.045 Q1882.56 165.313 1884.04 166.656 Q1885.55 167.975 1888.12 167.975 Q1891.66 167.975 1893.79 165.475 Q1895.94 162.952 1895.94 158.785 L1895.94 157.836 L1891.7 157.836 M1900.2 156.077 L1900.2 170.869 L1895.94 170.869 L1895.94 166.933 Q1894.48 169.295 1892.31 170.429 Q1890.13 171.54 1886.98 171.54 Q1883 171.54 1880.64 169.318 Q1878.3 167.072 1878.3 163.322 Q1878.3 158.947 1881.22 156.725 Q1884.16 154.503 1889.97 154.503 L1895.94 154.503 L1895.94 154.086 Q1895.94 151.147 1894 149.549 Q1892.07 147.929 1888.58 147.929 Q1886.36 147.929 1884.25 148.461 Q1882.14 148.994 1880.2 150.059 L1880.2 146.123 Q1882.54 145.221 1884.74 144.781 Q1886.93 144.318 1889.02 144.318 Q1894.64 144.318 1897.42 147.234 Q1900.2 150.151 1900.2 156.077 Z\" fill=\"#000000\" fill-rule=\"evenodd\" fill-opacity=\"1\" /><path clip-path=\"url(#clip690)\" d=\"M 0 0 M1919.69 148.924 Q1918.97 148.508 1918.12 148.322 Q1917.28 148.114 1916.26 148.114 Q1912.65 148.114 1910.71 150.475 Q1908.79 152.813 1908.79 157.211 L1908.79 170.869 L1904.5 170.869 L1904.5 144.943 L1908.79 144.943 L1908.79 148.971 Q1910.13 146.609 1912.28 145.475 Q1914.43 144.318 1917.51 144.318 Q1917.95 144.318 1918.49 144.387 Q1919.02 144.434 1919.67 144.549 L1919.69 148.924 Z\" fill=\"#000000\" fill-rule=\"evenodd\" fill-opacity=\"1\" /><path clip-path=\"url(#clip690)\" d=\"M 0 0 M1928.37 137.582 L1928.37 144.943 L1937.14 144.943 L1937.14 148.253 L1928.37 148.253 L1928.37 162.327 Q1928.37 165.498 1929.23 166.401 Q1930.11 167.304 1932.77 167.304 L1937.14 167.304 L1937.14 170.869 L1932.77 170.869 Q1927.84 170.869 1925.96 169.04 Q1924.09 167.188 1924.09 162.327 L1924.09 148.253 L1920.96 148.253 L1920.96 144.943 L1924.09 144.943 L1924.09 137.582 L1928.37 137.582 Z\" fill=\"#000000\" fill-rule=\"evenodd\" fill-opacity=\"1\" /><path clip-path=\"url(#clip690)\" d=\"M 0 0 M1951.66 147.929 Q1948.23 147.929 1946.24 150.614 Q1944.25 153.276 1944.25 157.929 Q1944.25 162.582 1946.22 165.267 Q1948.21 167.929 1951.66 167.929 Q1955.06 167.929 1957.05 165.244 Q1959.04 162.558 1959.04 157.929 Q1959.04 153.322 1957.05 150.637 Q1955.06 147.929 1951.66 147.929 M1951.66 144.318 Q1957.21 144.318 1960.38 147.929 Q1963.55 151.54 1963.55 157.929 Q1963.55 164.295 1960.38 167.929 Q1957.21 171.54 1951.66 171.54 Q1946.08 171.54 1942.91 167.929 Q1939.76 164.295 1939.76 157.929 Q1939.76 151.54 1942.91 147.929 Q1946.08 144.318 1951.66 144.318 Z\" fill=\"#000000\" fill-rule=\"evenodd\" fill-opacity=\"1\" /><path clip-path=\"url(#clip690)\" d=\"M 0 0 M1980.15 132.79 L1984.76 132.79 L1977.21 141.494 L1973.67 141.494 L1980.15 132.79 M1984.55 145.707 L1984.55 149.734 Q1982.74 148.809 1980.8 148.346 Q1978.86 147.883 1976.77 147.883 Q1973.6 147.883 1972 148.855 Q1970.43 149.827 1970.43 151.771 Q1970.43 153.253 1971.56 154.109 Q1972.7 154.943 1976.12 155.707 L1977.58 156.031 Q1982.12 157.003 1984.02 158.785 Q1985.94 160.545 1985.94 163.716 Q1985.94 167.327 1983.07 169.433 Q1980.22 171.54 1975.22 171.54 Q1973.14 171.54 1970.87 171.123 Q1968.62 170.73 1966.12 169.92 L1966.12 165.521 Q1968.49 166.748 1970.78 167.373 Q1973.07 167.975 1975.31 167.975 Q1978.32 167.975 1979.94 166.957 Q1981.56 165.915 1981.56 164.04 Q1981.56 162.304 1980.38 161.378 Q1979.23 160.452 1975.27 159.596 L1973.79 159.248 Q1969.83 158.415 1968.07 156.702 Q1966.31 154.966 1966.31 151.957 Q1966.31 148.299 1968.9 146.309 Q1971.49 144.318 1976.26 144.318 Q1978.62 144.318 1980.71 144.665 Q1982.79 145.012 1984.55 145.707 Z\" fill=\"#000000\" fill-rule=\"evenodd\" fill-opacity=\"1\" /><path clip-path=\"url(#clip690)\" d=\"M 0 0 M2009.06 145.938 L2009.06 149.92 Q2007.26 148.924 2005.43 148.438 Q2003.62 147.929 2001.77 147.929 Q1997.63 147.929 1995.34 150.568 Q1993.05 153.184 1993.05 157.929 Q1993.05 162.674 1995.34 165.313 Q1997.63 167.929 2001.77 167.929 Q2003.62 167.929 2005.43 167.443 Q2007.26 166.933 2009.06 165.938 L2009.06 169.873 Q2007.28 170.707 2005.36 171.123 Q2003.46 171.54 2001.31 171.54 Q1995.45 171.54 1992 167.859 Q1988.55 164.179 1988.55 157.929 Q1988.55 151.586 1992.03 147.952 Q1995.52 144.318 2001.59 144.318 Q2003.55 144.318 2005.43 144.735 Q2007.3 145.128 2009.06 145.938 Z\" fill=\"#000000\" fill-rule=\"evenodd\" fill-opacity=\"1\" /><path clip-path=\"url(#clip690)\" d=\"M 0 0 M2013.53 144.943 L2017.79 144.943 L2017.79 170.869 L2013.53 170.869 L2013.53 144.943 M2013.53 134.85 L2017.79 134.85 L2017.79 140.244 L2013.53 140.244 L2013.53 134.85 Z\" fill=\"#000000\" fill-rule=\"evenodd\" fill-opacity=\"1\" /><path clip-path=\"url(#clip690)\" d=\"M 0 0 M2057.51 149.92 Q2059.11 147.049 2061.33 145.684 Q2063.55 144.318 2066.56 144.318 Q2070.61 144.318 2072.81 147.165 Q2075.01 149.989 2075.01 155.221 L2075.01 170.869 L2070.73 170.869 L2070.73 155.359 Q2070.73 151.633 2069.41 149.827 Q2068.09 148.022 2065.38 148.022 Q2062.07 148.022 2060.15 150.221 Q2058.23 152.42 2058.23 156.216 L2058.23 170.869 L2053.95 170.869 L2053.95 155.359 Q2053.95 151.609 2052.63 149.827 Q2051.31 148.022 2048.55 148.022 Q2045.29 148.022 2043.37 150.244 Q2041.45 152.443 2041.45 156.216 L2041.45 170.869 L2037.17 170.869 L2037.17 144.943 L2041.45 144.943 L2041.45 148.971 Q2042.91 146.586 2044.94 145.452 Q2046.98 144.318 2049.78 144.318 Q2052.61 144.318 2054.57 145.753 Q2056.56 147.188 2057.51 149.92 Z\" fill=\"#000000\" fill-rule=\"evenodd\" fill-opacity=\"1\" /><path clip-path=\"url(#clip690)\" d=\"M 0 0 M2079.48 144.943 L2083.74 144.943 L2083.74 170.869 L2079.48 170.869 L2079.48 144.943 M2079.48 134.85 L2083.74 134.85 L2083.74 140.244 L2079.48 140.244 L2079.48 134.85 Z\" fill=\"#000000\" fill-rule=\"evenodd\" fill-opacity=\"1\" /><path clip-path=\"url(#clip690)\" d=\"M 0 0 M2110.38 156.841 L2110.38 158.924 L2090.8 158.924 Q2091.08 163.322 2093.44 165.637 Q2095.82 167.929 2100.06 167.929 Q2102.51 167.929 2104.8 167.327 Q2107.12 166.725 2109.39 165.521 L2109.39 169.549 Q2107.1 170.521 2104.69 171.031 Q2102.28 171.54 2099.8 171.54 Q2093.6 171.54 2089.97 167.929 Q2086.36 164.318 2086.36 158.16 Q2086.36 151.795 2089.78 148.068 Q2093.23 144.318 2099.06 144.318 Q2104.29 144.318 2107.33 147.697 Q2110.38 151.054 2110.38 156.841 M2106.12 155.591 Q2106.08 152.096 2104.16 150.012 Q2102.26 147.929 2099.11 147.929 Q2095.54 147.929 2093.39 149.943 Q2091.26 151.957 2090.94 155.614 L2106.12 155.591 Z\" fill=\"#000000\" fill-rule=\"evenodd\" fill-opacity=\"1\" /><path clip-path=\"url(#clip690)\" d=\"M 0 0 M2129.87 148.924 Q2129.16 148.508 2128.3 148.322 Q2127.47 148.114 2126.45 148.114 Q2122.84 148.114 2120.89 150.475 Q2118.97 152.813 2118.97 157.211 L2118.97 170.869 L2114.69 170.869 L2114.69 144.943 L2118.97 144.943 L2118.97 148.971 Q2120.31 146.609 2122.47 145.475 Q2124.62 144.318 2127.7 144.318 Q2128.14 144.318 2128.67 144.387 Q2129.2 144.434 2129.85 144.549 L2129.87 148.924 Z\" fill=\"#000000\" fill-rule=\"evenodd\" fill-opacity=\"1\" /><path clip-path=\"url(#clip690)\" d=\"M 0 0 M2132.49 144.943 L2152.72 144.943 L2152.72 148.832 L2136.7 167.466 L2152.72 167.466 L2152.72 170.869 L2131.91 170.869 L2131.91 166.98 L2147.93 148.346 L2132.49 148.346 L2132.49 144.943 Z\" fill=\"#000000\" fill-rule=\"evenodd\" fill-opacity=\"1\" /><path clip-path=\"url(#clip690)\" d=\"M 0 0 M2167.23 147.929 Q2163.81 147.929 2161.82 150.614 Q2159.83 153.276 2159.83 157.929 Q2159.83 162.582 2161.79 165.267 Q2163.79 167.929 2167.23 167.929 Q2170.64 167.929 2172.63 165.244 Q2174.62 162.558 2174.62 157.929 Q2174.62 153.322 2172.63 150.637 Q2170.64 147.929 2167.23 147.929 M2167.23 144.318 Q2172.79 144.318 2175.96 147.929 Q2179.13 151.54 2179.13 157.929 Q2179.13 164.295 2175.96 167.929 Q2172.79 171.54 2167.23 171.54 Q2161.66 171.54 2158.48 167.929 Q2155.34 164.295 2155.34 157.929 Q2155.34 151.54 2158.48 147.929 Q2161.66 144.318 2167.23 144.318 Z\" fill=\"#000000\" fill-rule=\"evenodd\" fill-opacity=\"1\" /><path clip-path=\"url(#clip690)\" d=\"M 0 0 M2205.15 155.221 L2205.15 170.869 L2200.89 170.869 L2200.89 155.359 Q2200.89 151.679 2199.46 149.85 Q2198.02 148.022 2195.15 148.022 Q2191.7 148.022 2189.71 150.221 Q2187.72 152.42 2187.72 156.216 L2187.72 170.869 L2183.44 170.869 L2183.44 144.943 L2187.72 144.943 L2187.72 148.971 Q2189.25 146.633 2191.31 145.475 Q2193.39 144.318 2196.1 144.318 Q2200.57 144.318 2202.86 147.096 Q2205.15 149.85 2205.15 155.221 Z\" fill=\"#000000\" fill-rule=\"evenodd\" fill-opacity=\"1\" /><path clip-path=\"url(#clip690)\" d=\"M 0 0 M2231.79 156.841 L2231.79 158.924 L2212.21 158.924 Q2212.49 163.322 2214.85 165.637 Q2217.23 167.929 2221.47 167.929 Q2223.92 167.929 2226.22 167.327 Q2228.53 166.725 2230.8 165.521 L2230.8 169.549 Q2228.51 170.521 2226.1 171.031 Q2223.69 171.54 2221.22 171.54 Q2215.01 171.54 2211.38 167.929 Q2207.77 164.318 2207.77 158.16 Q2207.77 151.795 2211.19 148.068 Q2214.64 144.318 2220.47 144.318 Q2225.71 144.318 2228.74 147.697 Q2231.79 151.054 2231.79 156.841 M2227.53 155.591 Q2227.49 152.096 2225.57 150.012 Q2223.67 147.929 2220.52 147.929 Q2216.96 147.929 2214.8 149.943 Q2212.67 151.957 2212.35 155.614 L2227.53 155.591 Z\" fill=\"#000000\" fill-rule=\"evenodd\" fill-opacity=\"1\" /><polyline clip-path=\"url(#clip690)\" style=\"stroke:#e26f46; stroke-width:4; stroke-opacity:1; fill:none\" points=\"\n",
       "  1671.32,214.069 1816.47,214.069 \n",
       "  \"/>\n",
       "<path clip-path=\"url(#clip690)\" d=\"M 0 0 M1840.66 205.423 L1844.92 205.423 L1850.25 225.654 L1855.55 205.423 L1860.57 205.423 L1865.89 225.654 L1871.19 205.423 L1875.45 205.423 L1868.67 231.349 L1863.65 231.349 L1858.07 210.099 L1852.47 231.349 L1847.44 231.349 L1840.66 205.423 Z\" fill=\"#000000\" fill-rule=\"evenodd\" fill-opacity=\"1\" /><path clip-path=\"url(#clip690)\" d=\"M 0 0 M1891.7 218.316 Q1886.54 218.316 1884.55 219.497 Q1882.56 220.677 1882.56 223.525 Q1882.56 225.793 1884.04 227.136 Q1885.55 228.455 1888.12 228.455 Q1891.66 228.455 1893.79 225.955 Q1895.94 223.432 1895.94 219.265 L1895.94 218.316 L1891.7 218.316 M1900.2 216.557 L1900.2 231.349 L1895.94 231.349 L1895.94 227.413 Q1894.48 229.775 1892.31 230.909 Q1890.13 232.02 1886.98 232.02 Q1883 232.02 1880.64 229.798 Q1878.3 227.552 1878.3 223.802 Q1878.3 219.427 1881.22 217.205 Q1884.16 214.983 1889.97 214.983 L1895.94 214.983 L1895.94 214.566 Q1895.94 211.627 1894 210.029 Q1892.07 208.409 1888.58 208.409 Q1886.36 208.409 1884.25 208.941 Q1882.14 209.474 1880.2 210.539 L1880.2 206.603 Q1882.54 205.701 1884.74 205.261 Q1886.93 204.798 1889.02 204.798 Q1894.64 204.798 1897.42 207.714 Q1900.2 210.631 1900.2 216.557 Z\" fill=\"#000000\" fill-rule=\"evenodd\" fill-opacity=\"1\" /><path clip-path=\"url(#clip690)\" d=\"M 0 0 M1919.69 209.404 Q1918.97 208.988 1918.12 208.802 Q1917.28 208.594 1916.26 208.594 Q1912.65 208.594 1910.71 210.955 Q1908.79 213.293 1908.79 217.691 L1908.79 231.349 L1904.5 231.349 L1904.5 205.423 L1908.79 205.423 L1908.79 209.451 Q1910.13 207.089 1912.28 205.955 Q1914.43 204.798 1917.51 204.798 Q1917.95 204.798 1918.49 204.867 Q1919.02 204.914 1919.67 205.029 L1919.69 209.404 Z\" fill=\"#000000\" fill-rule=\"evenodd\" fill-opacity=\"1\" /><path clip-path=\"url(#clip690)\" d=\"M 0 0 M1928.37 198.062 L1928.37 205.423 L1937.14 205.423 L1937.14 208.733 L1928.37 208.733 L1928.37 222.807 Q1928.37 225.978 1929.23 226.881 Q1930.11 227.784 1932.77 227.784 L1937.14 227.784 L1937.14 231.349 L1932.77 231.349 Q1927.84 231.349 1925.96 229.52 Q1924.09 227.668 1924.09 222.807 L1924.09 208.733 L1920.96 208.733 L1920.96 205.423 L1924.09 205.423 L1924.09 198.062 L1928.37 198.062 Z\" fill=\"#000000\" fill-rule=\"evenodd\" fill-opacity=\"1\" /><path clip-path=\"url(#clip690)\" d=\"M 0 0 M1951.66 208.409 Q1948.23 208.409 1946.24 211.094 Q1944.25 213.756 1944.25 218.409 Q1944.25 223.062 1946.22 225.747 Q1948.21 228.409 1951.66 228.409 Q1955.06 228.409 1957.05 225.724 Q1959.04 223.038 1959.04 218.409 Q1959.04 213.802 1957.05 211.117 Q1955.06 208.409 1951.66 208.409 M1951.66 204.798 Q1957.21 204.798 1960.38 208.409 Q1963.55 212.02 1963.55 218.409 Q1963.55 224.775 1960.38 228.409 Q1957.21 232.02 1951.66 232.02 Q1946.08 232.02 1942.91 228.409 Q1939.76 224.775 1939.76 218.409 Q1939.76 212.02 1942.91 208.409 Q1946.08 204.798 1951.66 204.798 Z\" fill=\"#000000\" fill-rule=\"evenodd\" fill-opacity=\"1\" /><path clip-path=\"url(#clip690)\" d=\"M 0 0 M1980.15 193.27 L1984.76 193.27 L1977.21 201.974 L1973.67 201.974 L1980.15 193.27 M1984.55 206.187 L1984.55 210.214 Q1982.74 209.289 1980.8 208.826 Q1978.86 208.363 1976.77 208.363 Q1973.6 208.363 1972 209.335 Q1970.43 210.307 1970.43 212.251 Q1970.43 213.733 1971.56 214.589 Q1972.7 215.423 1976.12 216.187 L1977.58 216.511 Q1982.12 217.483 1984.02 219.265 Q1985.94 221.025 1985.94 224.196 Q1985.94 227.807 1983.07 229.913 Q1980.22 232.02 1975.22 232.02 Q1973.14 232.02 1970.87 231.603 Q1968.62 231.21 1966.12 230.4 L1966.12 226.001 Q1968.49 227.228 1970.78 227.853 Q1973.07 228.455 1975.31 228.455 Q1978.32 228.455 1979.94 227.437 Q1981.56 226.395 1981.56 224.52 Q1981.56 222.784 1980.38 221.858 Q1979.23 220.932 1975.27 220.076 L1973.79 219.728 Q1969.83 218.895 1968.07 217.182 Q1966.31 215.446 1966.31 212.437 Q1966.31 208.779 1968.9 206.789 Q1971.49 204.798 1976.26 204.798 Q1978.62 204.798 1980.71 205.145 Q1982.79 205.492 1984.55 206.187 Z\" fill=\"#000000\" fill-rule=\"evenodd\" fill-opacity=\"1\" /><path clip-path=\"url(#clip690)\" d=\"M 0 0 M2009.06 206.418 L2009.06 210.4 Q2007.26 209.404 2005.43 208.918 Q2003.62 208.409 2001.77 208.409 Q1997.63 208.409 1995.34 211.048 Q1993.05 213.664 1993.05 218.409 Q1993.05 223.154 1995.34 225.793 Q1997.63 228.409 2001.77 228.409 Q2003.62 228.409 2005.43 227.923 Q2007.26 227.413 2009.06 226.418 L2009.06 230.353 Q2007.28 231.187 2005.36 231.603 Q2003.46 232.02 2001.31 232.02 Q1995.45 232.02 1992 228.339 Q1988.55 224.659 1988.55 218.409 Q1988.55 212.066 1992.03 208.432 Q1995.52 204.798 2001.59 204.798 Q2003.55 204.798 2005.43 205.215 Q2007.3 205.608 2009.06 206.418 Z\" fill=\"#000000\" fill-rule=\"evenodd\" fill-opacity=\"1\" /><path clip-path=\"url(#clip690)\" d=\"M 0 0 M2013.53 205.423 L2017.79 205.423 L2017.79 231.349 L2013.53 231.349 L2013.53 205.423 M2013.53 195.33 L2017.79 195.33 L2017.79 200.724 L2013.53 200.724 L2013.53 195.33 Z\" fill=\"#000000\" fill-rule=\"evenodd\" fill-opacity=\"1\" /><path clip-path=\"url(#clip690)\" d=\"M 0 0 M2047.37 208.409 Q2043.95 208.409 2041.96 211.094 Q2039.97 213.756 2039.97 218.409 Q2039.97 223.062 2041.93 225.747 Q2043.92 228.409 2047.37 228.409 Q2050.78 228.409 2052.77 225.724 Q2054.76 223.038 2054.76 218.409 Q2054.76 213.802 2052.77 211.117 Q2050.78 208.409 2047.37 208.409 M2047.37 204.798 Q2052.93 204.798 2056.1 208.409 Q2059.27 212.02 2059.27 218.409 Q2059.27 224.775 2056.1 228.409 Q2052.93 232.02 2047.37 232.02 Q2041.8 232.02 2038.62 228.409 Q2035.48 224.775 2035.48 218.409 Q2035.48 212.02 2038.62 208.409 Q2041.8 204.798 2047.37 204.798 Z\" fill=\"#000000\" fill-rule=\"evenodd\" fill-opacity=\"1\" /><path clip-path=\"url(#clip690)\" d=\"M 0 0 M2082.35 218.409 Q2082.35 213.71 2080.41 211.048 Q2078.48 208.363 2075.11 208.363 Q2071.73 208.363 2069.78 211.048 Q2067.86 213.71 2067.86 218.409 Q2067.86 223.108 2069.78 225.793 Q2071.73 228.455 2075.11 228.455 Q2078.48 228.455 2080.41 225.793 Q2082.35 223.108 2082.35 218.409 M2067.86 209.358 Q2069.2 207.043 2071.24 205.932 Q2073.3 204.798 2076.15 204.798 Q2080.87 204.798 2083.81 208.548 Q2086.77 212.298 2086.77 218.409 Q2086.77 224.52 2083.81 228.27 Q2080.87 232.02 2076.15 232.02 Q2073.3 232.02 2071.24 230.909 Q2069.2 229.775 2067.86 227.46 L2067.86 231.349 L2063.58 231.349 L2063.58 195.33 L2067.86 195.33 L2067.86 209.358 Z\" fill=\"#000000\" fill-rule=\"evenodd\" fill-opacity=\"1\" /><path clip-path=\"url(#clip690)\" d=\"M 0 0 M2091.24 195.33 L2095.5 195.33 L2095.5 231.349 L2091.24 231.349 L2091.24 195.33 Z\" fill=\"#000000\" fill-rule=\"evenodd\" fill-opacity=\"1\" /><path clip-path=\"url(#clip690)\" d=\"M 0 0 M2099.97 205.423 L2104.23 205.423 L2104.23 231.349 L2099.97 231.349 L2099.97 205.423 M2099.97 195.33 L2104.23 195.33 L2104.23 200.724 L2099.97 200.724 L2099.97 195.33 Z\" fill=\"#000000\" fill-rule=\"evenodd\" fill-opacity=\"1\" /><path clip-path=\"url(#clip690)\" d=\"M 0 0 M2127.35 206.418 L2127.35 210.4 Q2125.54 209.404 2123.72 208.918 Q2121.91 208.409 2120.06 208.409 Q2115.92 208.409 2113.62 211.048 Q2111.33 213.664 2111.33 218.409 Q2111.33 223.154 2113.62 225.793 Q2115.92 228.409 2120.06 228.409 Q2121.91 228.409 2123.72 227.923 Q2125.54 227.413 2127.35 226.418 L2127.35 230.353 Q2125.57 231.187 2123.65 231.603 Q2121.75 232.02 2119.6 232.02 Q2113.74 232.02 2110.29 228.339 Q2106.84 224.659 2106.84 218.409 Q2106.84 212.066 2110.31 208.432 Q2113.81 204.798 2119.87 204.798 Q2121.84 204.798 2123.72 205.215 Q2125.59 205.608 2127.35 206.418 Z\" fill=\"#000000\" fill-rule=\"evenodd\" fill-opacity=\"1\" /><path clip-path=\"url(#clip690)\" d=\"M 0 0 M2129.97 205.423 L2150.2 205.423 L2150.2 209.312 L2134.18 227.946 L2150.2 227.946 L2150.2 231.349 L2129.39 231.349 L2129.39 227.46 L2145.41 208.826 L2129.97 208.826 L2129.97 205.423 Z\" fill=\"#000000\" fill-rule=\"evenodd\" fill-opacity=\"1\" /><path clip-path=\"url(#clip690)\" d=\"M 0 0 M2164.71 208.409 Q2161.29 208.409 2159.29 211.094 Q2157.3 213.756 2157.3 218.409 Q2157.3 223.062 2159.27 225.747 Q2161.26 228.409 2164.71 228.409 Q2168.11 228.409 2170.1 225.724 Q2172.1 223.038 2172.1 218.409 Q2172.1 213.802 2170.1 211.117 Q2168.11 208.409 2164.71 208.409 M2164.71 204.798 Q2170.27 204.798 2173.44 208.409 Q2176.61 212.02 2176.61 218.409 Q2176.61 224.775 2173.44 228.409 Q2170.27 232.02 2164.71 232.02 Q2159.13 232.02 2155.96 228.409 Q2152.81 224.775 2152.81 218.409 Q2152.81 212.02 2155.96 208.409 Q2159.13 204.798 2164.71 204.798 Z\" fill=\"#000000\" fill-rule=\"evenodd\" fill-opacity=\"1\" /><path clip-path=\"url(#clip690)\" d=\"M 0 0 M2202.63 215.701 L2202.63 231.349 L2198.37 231.349 L2198.37 215.839 Q2198.37 212.159 2196.93 210.33 Q2195.5 208.502 2192.63 208.502 Q2189.18 208.502 2187.19 210.701 Q2185.2 212.9 2185.2 216.696 L2185.2 231.349 L2180.91 231.349 L2180.91 205.423 L2185.2 205.423 L2185.2 209.451 Q2186.72 207.113 2188.79 205.955 Q2190.87 204.798 2193.58 204.798 Q2198.04 204.798 2200.34 207.576 Q2202.63 210.33 2202.63 215.701 Z\" fill=\"#000000\" fill-rule=\"evenodd\" fill-opacity=\"1\" /><path clip-path=\"url(#clip690)\" d=\"M 0 0 M2229.27 217.321 L2229.27 219.404 L2209.69 219.404 Q2209.97 223.802 2212.33 226.117 Q2214.71 228.409 2218.95 228.409 Q2221.4 228.409 2223.69 227.807 Q2226.01 227.205 2228.28 226.001 L2228.28 230.029 Q2225.98 231.001 2223.58 231.511 Q2221.17 232.02 2218.69 232.02 Q2212.49 232.02 2208.85 228.409 Q2205.24 224.798 2205.24 218.64 Q2205.24 212.275 2208.67 208.548 Q2212.12 204.798 2217.95 204.798 Q2223.18 204.798 2226.22 208.177 Q2229.27 211.534 2229.27 217.321 M2225.01 216.071 Q2224.97 212.576 2223.04 210.492 Q2221.15 208.409 2218 208.409 Q2214.43 208.409 2212.28 210.423 Q2210.15 212.437 2209.83 216.094 L2225.01 216.071 Z\" fill=\"#000000\" fill-rule=\"evenodd\" fill-opacity=\"1\" /></svg>\n"
      ]
     },
     "execution_count": 756,
     "metadata": {},
     "output_type": "execute_result"
    }
   ],
   "source": [
    "t_step = Array(0:0.1:24)\n",
    "plot!(t_step, one_analyt2(t_step), label=\"wartości obliczone\")"
   ]
  },
  {
   "cell_type": "markdown",
   "metadata": {},
   "source": [
    "Jak widać rozwiązanie analityczne dobrze dopasowuje się do zmierzonych danych"
   ]
  },
  {
   "cell_type": "markdown",
   "metadata": {},
   "source": [
    "### A. Przykład 2 - zastosowanie modelu w planowaniu leczenia"
   ]
  },
  {
   "cell_type": "markdown",
   "metadata": {},
   "source": [
    "### a. Dawka dożylna"
   ]
  },
  {
   "cell_type": "markdown",
   "metadata": {},
   "source": [
    "Weźmy pacjenta o masie ciała 70 kg leczącego się antybiotykiem - Benzylopenicyliną przeciwko bakteriom *Streptococcus pyogenes*. Przyjmijmy następujące dane [5]:\n",
    "* $MIC$ 0.012 mg/l, gdzie $MIC$ to minimalne stężenie hamujące\n",
    "* $V_D$ 7.77 l\n",
    "\n",
    "Wiemy że dla Benzylopenicyliny biologiczny okres półtrwania wynosi 30 minut"
   ]
  },
  {
   "cell_type": "markdown",
   "metadata": {},
   "source": [
    "Zastosujemy model jednokompartmentowy gdzie dawka jest podawana dożylnie"
   ]
  },
  {
   "cell_type": "markdown",
   "metadata": {},
   "source": [
    "W tym celu potrzebujemy wyznaczyć stałą $K$. Wiemy, że $$t_\\frac{1}{2} = \\frac{0.693}{\\mathrm{K}}.$$ Można z tego wyliczyć stałą $\\mathrm{K}$"
   ]
  },
  {
   "cell_type": "code",
   "execution_count": 709,
   "metadata": {},
   "outputs": [
    {
     "data": {
      "text/plain": [
       "k_const (generic function with 1 method)"
      ]
     },
     "execution_count": 709,
     "metadata": {},
     "output_type": "execute_result"
    }
   ],
   "source": [
    "function k_const(tₕ)\n",
    "    return 0.693/tₕ\n",
    "end"
   ]
  },
  {
   "cell_type": "code",
   "execution_count": 710,
   "metadata": {},
   "outputs": [],
   "source": [
    "K = k_const(0.5)\n",
    "MIC = 0.012\n",
    "V = 7.77\n",
    "X₀ = 600;"
   ]
  },
  {
   "cell_type": "code",
   "execution_count": 711,
   "metadata": {},
   "outputs": [
    {
     "data": {
      "text/plain": [
       "model2 (generic function with 1 method)"
      ]
     },
     "execution_count": 711,
     "metadata": {},
     "output_type": "execute_result"
    }
   ],
   "source": [
    "function model2(t, x)\n",
    "    return -K * x\n",
    "end"
   ]
  },
  {
   "cell_type": "markdown",
   "metadata": {},
   "source": [
    "Weźmy dawkę początkową równą 600 mg, a następnie na podstawie wzoru $C_0 = \\frac{X_0}{V_d}$ obliczamy stężenie początkowe"
   ]
  },
  {
   "cell_type": "code",
   "execution_count": 712,
   "metadata": {},
   "outputs": [
    {
     "data": {
      "text/plain": [
       "beginC (generic function with 1 method)"
      ]
     },
     "execution_count": 712,
     "metadata": {},
     "output_type": "execute_result"
    }
   ],
   "source": [
    "function beginC(X, V)\n",
    "    return X/V\n",
    "end"
   ]
  },
  {
   "cell_type": "code",
   "execution_count": 713,
   "metadata": {},
   "outputs": [],
   "source": [
    "t_plot = Array(0:0.1:12);"
   ]
  },
  {
   "cell_type": "code",
   "execution_count": 714,
   "metadata": {},
   "outputs": [],
   "source": [
    "data = runge_kutta(model2, t_plot, beginC(X₀, V));"
   ]
  },
  {
   "cell_type": "code",
   "execution_count": 715,
   "metadata": {},
   "outputs": [
    {
     "data": {
      "image/svg+xml": [
       "<?xml version=\"1.0\" encoding=\"utf-8\"?>\n",
       "<svg xmlns=\"http://www.w3.org/2000/svg\" xmlns:xlink=\"http://www.w3.org/1999/xlink\" width=\"600\" height=\"400\" viewBox=\"0 0 2400 1600\">\n",
       "<defs>\n",
       "  <clipPath id=\"clip090\">\n",
       "    <rect x=\"0\" y=\"0\" width=\"2400\" height=\"1600\"/>\n",
       "  </clipPath>\n",
       "</defs>\n",
       "<path clip-path=\"url(#clip090)\" d=\"\n",
       "M0 1600 L2400 1600 L2400 0 L0 0  Z\n",
       "  \" fill=\"#ffffff\" fill-rule=\"evenodd\" fill-opacity=\"1\"/>\n",
       "<defs>\n",
       "  <clipPath id=\"clip091\">\n",
       "    <rect x=\"480\" y=\"0\" width=\"1681\" height=\"1600\"/>\n",
       "  </clipPath>\n",
       "</defs>\n",
       "<path clip-path=\"url(#clip090)\" d=\"\n",
       "M139.191 1486.45 L2352.76 1486.45 L2352.76 47.2441 L139.191 47.2441  Z\n",
       "  \" fill=\"#ffffff\" fill-rule=\"evenodd\" fill-opacity=\"1\"/>\n",
       "<defs>\n",
       "  <clipPath id=\"clip092\">\n",
       "    <rect x=\"139\" y=\"47\" width=\"2215\" height=\"1440\"/>\n",
       "  </clipPath>\n",
       "</defs>\n",
       "<polyline clip-path=\"url(#clip092)\" style=\"stroke:#000000; stroke-width:2; stroke-opacity:0.1; fill:none\" points=\"\n",
       "  201.839,1486.45 201.839,47.2441 \n",
       "  \"/>\n",
       "<polyline clip-path=\"url(#clip092)\" style=\"stroke:#000000; stroke-width:2; stroke-opacity:0.1; fill:none\" points=\"\n",
       "  636.895,1486.45 636.895,47.2441 \n",
       "  \"/>\n",
       "<polyline clip-path=\"url(#clip092)\" style=\"stroke:#000000; stroke-width:2; stroke-opacity:0.1; fill:none\" points=\"\n",
       "  1071.95,1486.45 1071.95,47.2441 \n",
       "  \"/>\n",
       "<polyline clip-path=\"url(#clip092)\" style=\"stroke:#000000; stroke-width:2; stroke-opacity:0.1; fill:none\" points=\"\n",
       "  1507.01,1486.45 1507.01,47.2441 \n",
       "  \"/>\n",
       "<polyline clip-path=\"url(#clip092)\" style=\"stroke:#000000; stroke-width:2; stroke-opacity:0.1; fill:none\" points=\"\n",
       "  1942.06,1486.45 1942.06,47.2441 \n",
       "  \"/>\n",
       "<polyline clip-path=\"url(#clip090)\" style=\"stroke:#000000; stroke-width:4; stroke-opacity:1; fill:none\" points=\"\n",
       "  139.191,1486.45 2352.76,1486.45 \n",
       "  \"/>\n",
       "<polyline clip-path=\"url(#clip090)\" style=\"stroke:#000000; stroke-width:4; stroke-opacity:1; fill:none\" points=\"\n",
       "  201.839,1486.45 201.839,1469.18 \n",
       "  \"/>\n",
       "<polyline clip-path=\"url(#clip090)\" style=\"stroke:#000000; stroke-width:4; stroke-opacity:1; fill:none\" points=\"\n",
       "  636.895,1486.45 636.895,1469.18 \n",
       "  \"/>\n",
       "<polyline clip-path=\"url(#clip090)\" style=\"stroke:#000000; stroke-width:4; stroke-opacity:1; fill:none\" points=\"\n",
       "  1071.95,1486.45 1071.95,1469.18 \n",
       "  \"/>\n",
       "<polyline clip-path=\"url(#clip090)\" style=\"stroke:#000000; stroke-width:4; stroke-opacity:1; fill:none\" points=\"\n",
       "  1507.01,1486.45 1507.01,1469.18 \n",
       "  \"/>\n",
       "<polyline clip-path=\"url(#clip090)\" style=\"stroke:#000000; stroke-width:4; stroke-opacity:1; fill:none\" points=\"\n",
       "  1942.06,1486.45 1942.06,1469.18 \n",
       "  \"/>\n",
       "<path clip-path=\"url(#clip090)\" d=\"M 0 0 M183.355 1515.64 Q179.744 1515.64 177.916 1519.2 Q176.11 1522.75 176.11 1529.87 Q176.11 1536.98 177.916 1540.55 Q179.744 1544.09 183.355 1544.09 Q186.99 1544.09 188.795 1540.55 Q190.624 1536.98 190.624 1529.87 Q190.624 1522.75 188.795 1519.2 Q186.99 1515.64 183.355 1515.64 M183.355 1511.93 Q189.165 1511.93 192.221 1516.54 Q195.3 1521.12 195.3 1529.87 Q195.3 1538.6 192.221 1543.21 Q189.165 1547.79 183.355 1547.79 Q177.545 1547.79 174.466 1543.21 Q171.411 1538.6 171.411 1529.87 Q171.411 1521.12 174.466 1516.54 Q177.545 1511.93 183.355 1511.93 Z\" fill=\"#000000\" fill-rule=\"evenodd\" fill-opacity=\"1\" /><path clip-path=\"url(#clip090)\" d=\"M 0 0 M200.369 1541.24 L205.253 1541.24 L205.253 1547.12 L200.369 1547.12 L200.369 1541.24 Z\" fill=\"#000000\" fill-rule=\"evenodd\" fill-opacity=\"1\" /><path clip-path=\"url(#clip090)\" d=\"M 0 0 M220.323 1515.64 Q216.712 1515.64 214.883 1519.2 Q213.077 1522.75 213.077 1529.87 Q213.077 1536.98 214.883 1540.55 Q216.712 1544.09 220.323 1544.09 Q223.957 1544.09 225.762 1540.55 Q227.591 1536.98 227.591 1529.87 Q227.591 1522.75 225.762 1519.2 Q223.957 1515.64 220.323 1515.64 M220.323 1511.93 Q226.133 1511.93 229.188 1516.54 Q232.267 1521.12 232.267 1529.87 Q232.267 1538.6 229.188 1543.21 Q226.133 1547.79 220.323 1547.79 Q214.513 1547.79 211.434 1543.21 Q208.378 1538.6 208.378 1529.87 Q208.378 1521.12 211.434 1516.54 Q214.513 1511.93 220.323 1511.93 Z\" fill=\"#000000\" fill-rule=\"evenodd\" fill-opacity=\"1\" /><path clip-path=\"url(#clip090)\" d=\"M 0 0 M613.562 1543.18 L629.881 1543.18 L629.881 1547.12 L607.937 1547.12 L607.937 1543.18 Q610.599 1540.43 615.182 1535.8 Q619.789 1531.15 620.969 1529.81 Q623.215 1527.28 624.094 1525.55 Q624.997 1523.79 624.997 1522.1 Q624.997 1519.34 623.052 1517.61 Q621.131 1515.87 618.029 1515.87 Q615.83 1515.87 613.377 1516.63 Q610.946 1517.4 608.168 1518.95 L608.168 1514.23 Q610.992 1513.09 613.446 1512.51 Q615.9 1511.93 617.937 1511.93 Q623.307 1511.93 626.502 1514.62 Q629.696 1517.31 629.696 1521.8 Q629.696 1523.93 628.886 1525.85 Q628.099 1527.74 625.992 1530.34 Q625.414 1531.01 622.312 1534.23 Q619.21 1537.42 613.562 1543.18 Z\" fill=\"#000000\" fill-rule=\"evenodd\" fill-opacity=\"1\" /><path clip-path=\"url(#clip090)\" d=\"M 0 0 M634.951 1541.24 L639.835 1541.24 L639.835 1547.12 L634.951 1547.12 L634.951 1541.24 Z\" fill=\"#000000\" fill-rule=\"evenodd\" fill-opacity=\"1\" /><path clip-path=\"url(#clip090)\" d=\"M 0 0 M644.951 1512.56 L663.307 1512.56 L663.307 1516.5 L649.233 1516.5 L649.233 1524.97 Q650.251 1524.62 651.27 1524.46 Q652.288 1524.27 653.307 1524.27 Q659.094 1524.27 662.474 1527.44 Q665.853 1530.62 665.853 1536.03 Q665.853 1541.61 662.381 1544.71 Q658.909 1547.79 652.589 1547.79 Q650.413 1547.79 648.145 1547.42 Q645.9 1547.05 643.492 1546.31 L643.492 1541.61 Q645.576 1542.74 647.798 1543.3 Q650.02 1543.86 652.497 1543.86 Q656.501 1543.86 658.839 1541.75 Q661.177 1539.64 661.177 1536.03 Q661.177 1532.42 658.839 1530.31 Q656.501 1528.21 652.497 1528.21 Q650.622 1528.21 648.747 1528.62 Q646.895 1529.04 644.951 1529.92 L644.951 1512.56 Z\" fill=\"#000000\" fill-rule=\"evenodd\" fill-opacity=\"1\" /><path clip-path=\"url(#clip090)\" d=\"M 0 0 M1043.75 1512.56 L1062.1 1512.56 L1062.1 1516.5 L1048.03 1516.5 L1048.03 1524.97 Q1049.05 1524.62 1050.06 1524.46 Q1051.08 1524.27 1052.1 1524.27 Q1057.89 1524.27 1061.27 1527.44 Q1064.65 1530.62 1064.65 1536.03 Q1064.65 1541.61 1061.18 1544.71 Q1057.7 1547.79 1051.38 1547.79 Q1049.21 1547.79 1046.94 1547.42 Q1044.69 1547.05 1042.29 1546.31 L1042.29 1541.61 Q1044.37 1542.74 1046.59 1543.3 Q1048.81 1543.86 1051.29 1543.86 Q1055.3 1543.86 1057.63 1541.75 Q1059.97 1539.64 1059.97 1536.03 Q1059.97 1532.42 1057.63 1530.31 Q1055.3 1528.21 1051.29 1528.21 Q1049.42 1528.21 1047.54 1528.62 Q1045.69 1529.04 1043.75 1529.92 L1043.75 1512.56 Z\" fill=\"#000000\" fill-rule=\"evenodd\" fill-opacity=\"1\" /><path clip-path=\"url(#clip090)\" d=\"M 0 0 M1069.72 1541.24 L1074.6 1541.24 L1074.6 1547.12 L1069.72 1547.12 L1069.72 1541.24 Z\" fill=\"#000000\" fill-rule=\"evenodd\" fill-opacity=\"1\" /><path clip-path=\"url(#clip090)\" d=\"M 0 0 M1089.67 1515.64 Q1086.06 1515.64 1084.23 1519.2 Q1082.43 1522.75 1082.43 1529.87 Q1082.43 1536.98 1084.23 1540.55 Q1086.06 1544.09 1089.67 1544.09 Q1093.31 1544.09 1095.11 1540.55 Q1096.94 1536.98 1096.94 1529.87 Q1096.94 1522.75 1095.11 1519.2 Q1093.31 1515.64 1089.67 1515.64 M1089.67 1511.93 Q1095.48 1511.93 1098.54 1516.54 Q1101.62 1521.12 1101.62 1529.87 Q1101.62 1538.6 1098.54 1543.21 Q1095.48 1547.79 1089.67 1547.79 Q1083.86 1547.79 1080.78 1543.21 Q1077.73 1538.6 1077.73 1529.87 Q1077.73 1521.12 1080.78 1516.54 Q1083.86 1511.93 1089.67 1511.93 Z\" fill=\"#000000\" fill-rule=\"evenodd\" fill-opacity=\"1\" /><path clip-path=\"url(#clip090)\" d=\"M 0 0 M1477.91 1512.56 L1500.13 1512.56 L1500.13 1514.55 L1487.59 1547.12 L1482.7 1547.12 L1494.51 1516.5 L1477.91 1516.5 L1477.91 1512.56 Z\" fill=\"#000000\" fill-rule=\"evenodd\" fill-opacity=\"1\" /><path clip-path=\"url(#clip090)\" d=\"M 0 0 M1505.2 1541.24 L1510.09 1541.24 L1510.09 1547.12 L1505.2 1547.12 L1505.2 1541.24 Z\" fill=\"#000000\" fill-rule=\"evenodd\" fill-opacity=\"1\" /><path clip-path=\"url(#clip090)\" d=\"M 0 0 M1515.2 1512.56 L1533.56 1512.56 L1533.56 1516.5 L1519.48 1516.5 L1519.48 1524.97 Q1520.5 1524.62 1521.52 1524.46 Q1522.54 1524.27 1523.56 1524.27 Q1529.34 1524.27 1532.72 1527.44 Q1536.1 1530.62 1536.1 1536.03 Q1536.1 1541.61 1532.63 1544.71 Q1529.16 1547.79 1522.84 1547.79 Q1520.66 1547.79 1518.4 1547.42 Q1516.15 1547.05 1513.74 1546.31 L1513.74 1541.61 Q1515.83 1542.74 1518.05 1543.3 Q1520.27 1543.86 1522.75 1543.86 Q1526.75 1543.86 1529.09 1541.75 Q1531.43 1539.64 1531.43 1536.03 Q1531.43 1532.42 1529.09 1530.31 Q1526.75 1528.21 1522.75 1528.21 Q1520.87 1528.21 1519 1528.62 Q1517.15 1529.04 1515.2 1529.92 L1515.2 1512.56 Z\" fill=\"#000000\" fill-rule=\"evenodd\" fill-opacity=\"1\" /><path clip-path=\"url(#clip090)\" d=\"M 0 0 M1900.45 1543.18 L1908.09 1543.18 L1908.09 1516.82 L1899.78 1518.49 L1899.78 1514.23 L1908.05 1512.56 L1912.72 1512.56 L1912.72 1543.18 L1920.36 1543.18 L1920.36 1547.12 L1900.45 1547.12 L1900.45 1543.18 Z\" fill=\"#000000\" fill-rule=\"evenodd\" fill-opacity=\"1\" /><path clip-path=\"url(#clip090)\" d=\"M 0 0 M1935.43 1515.64 Q1931.82 1515.64 1929.99 1519.2 Q1928.19 1522.75 1928.19 1529.87 Q1928.19 1536.98 1929.99 1540.55 Q1931.82 1544.09 1935.43 1544.09 Q1939.07 1544.09 1940.87 1540.55 Q1942.7 1536.98 1942.7 1529.87 Q1942.7 1522.75 1940.87 1519.2 Q1939.07 1515.64 1935.43 1515.64 M1935.43 1511.93 Q1941.24 1511.93 1944.3 1516.54 Q1947.38 1521.12 1947.38 1529.87 Q1947.38 1538.6 1944.3 1543.21 Q1941.24 1547.79 1935.43 1547.79 Q1929.62 1547.79 1926.54 1543.21 Q1923.49 1538.6 1923.49 1529.87 Q1923.49 1521.12 1926.54 1516.54 Q1929.62 1511.93 1935.43 1511.93 Z\" fill=\"#000000\" fill-rule=\"evenodd\" fill-opacity=\"1\" /><path clip-path=\"url(#clip090)\" d=\"M 0 0 M1952.44 1541.24 L1957.33 1541.24 L1957.33 1547.12 L1952.44 1547.12 L1952.44 1541.24 Z\" fill=\"#000000\" fill-rule=\"evenodd\" fill-opacity=\"1\" /><path clip-path=\"url(#clip090)\" d=\"M 0 0 M1972.4 1515.64 Q1968.79 1515.64 1966.96 1519.2 Q1965.15 1522.75 1965.15 1529.87 Q1965.15 1536.98 1966.96 1540.55 Q1968.79 1544.09 1972.4 1544.09 Q1976.03 1544.09 1977.84 1540.55 Q1979.67 1536.98 1979.67 1529.87 Q1979.67 1522.75 1977.84 1519.2 Q1976.03 1515.64 1972.4 1515.64 M1972.4 1511.93 Q1978.21 1511.93 1981.26 1516.54 Q1984.34 1521.12 1984.34 1529.87 Q1984.34 1538.6 1981.26 1543.21 Q1978.21 1547.79 1972.4 1547.79 Q1966.59 1547.79 1963.51 1543.21 Q1960.45 1538.6 1960.45 1529.87 Q1960.45 1521.12 1963.51 1516.54 Q1966.59 1511.93 1972.4 1511.93 Z\" fill=\"#000000\" fill-rule=\"evenodd\" fill-opacity=\"1\" /><polyline clip-path=\"url(#clip092)\" style=\"stroke:#000000; stroke-width:2; stroke-opacity:0.1; fill:none\" points=\"\n",
       "  139.191,1445.72 2352.76,1445.72 \n",
       "  \"/>\n",
       "<polyline clip-path=\"url(#clip092)\" style=\"stroke:#000000; stroke-width:2; stroke-opacity:0.1; fill:none\" points=\"\n",
       "  139.191,1094.06 2352.76,1094.06 \n",
       "  \"/>\n",
       "<polyline clip-path=\"url(#clip092)\" style=\"stroke:#000000; stroke-width:2; stroke-opacity:0.1; fill:none\" points=\"\n",
       "  139.191,742.407 2352.76,742.407 \n",
       "  \"/>\n",
       "<polyline clip-path=\"url(#clip092)\" style=\"stroke:#000000; stroke-width:2; stroke-opacity:0.1; fill:none\" points=\"\n",
       "  139.191,390.752 2352.76,390.752 \n",
       "  \"/>\n",
       "<polyline clip-path=\"url(#clip090)\" style=\"stroke:#000000; stroke-width:4; stroke-opacity:1; fill:none\" points=\"\n",
       "  139.191,1486.45 139.191,47.2441 \n",
       "  \"/>\n",
       "<polyline clip-path=\"url(#clip090)\" style=\"stroke:#000000; stroke-width:4; stroke-opacity:1; fill:none\" points=\"\n",
       "  139.191,1445.72 165.754,1445.72 \n",
       "  \"/>\n",
       "<polyline clip-path=\"url(#clip090)\" style=\"stroke:#000000; stroke-width:4; stroke-opacity:1; fill:none\" points=\"\n",
       "  139.191,1094.06 165.754,1094.06 \n",
       "  \"/>\n",
       "<polyline clip-path=\"url(#clip090)\" style=\"stroke:#000000; stroke-width:4; stroke-opacity:1; fill:none\" points=\"\n",
       "  139.191,742.407 165.754,742.407 \n",
       "  \"/>\n",
       "<polyline clip-path=\"url(#clip090)\" style=\"stroke:#000000; stroke-width:4; stroke-opacity:1; fill:none\" points=\"\n",
       "  139.191,390.752 165.754,390.752 \n",
       "  \"/>\n",
       "<path clip-path=\"url(#clip090)\" d=\"M 0 0 M91.2465 1431.51 Q87.6354 1431.51 85.8068 1435.08 Q84.0012 1438.62 84.0012 1445.75 Q84.0012 1452.86 85.8068 1456.42 Q87.6354 1459.96 91.2465 1459.96 Q94.8808 1459.96 96.6863 1456.42 Q98.515 1452.86 98.515 1445.75 Q98.515 1438.62 96.6863 1435.08 Q94.8808 1431.51 91.2465 1431.51 M91.2465 1427.81 Q97.0567 1427.81 100.112 1432.42 Q103.191 1437 103.191 1445.75 Q103.191 1454.48 100.112 1459.08 Q97.0567 1463.67 91.2465 1463.67 Q85.4364 1463.67 82.3577 1459.08 Q79.3022 1454.48 79.3022 1445.75 Q79.3022 1437 82.3577 1432.42 Q85.4364 1427.81 91.2465 1427.81 Z\" fill=\"#000000\" fill-rule=\"evenodd\" fill-opacity=\"1\" /><path clip-path=\"url(#clip090)\" d=\"M 0 0 M59.8578 1107.41 L76.1772 1107.41 L76.1772 1111.34 L54.2328 1111.34 L54.2328 1107.41 Q56.8949 1104.65 61.4782 1100.02 Q66.0846 1095.37 67.2652 1094.03 Q69.5105 1091.5 70.3902 1089.77 Q71.2929 1088.01 71.2929 1086.32 Q71.2929 1083.56 69.3485 1081.83 Q67.4272 1080.09 64.3254 1080.09 Q62.1263 1080.09 59.6726 1080.86 Q57.2421 1081.62 54.4643 1083.17 L54.4643 1078.45 Q57.2884 1077.31 59.7421 1076.73 Q62.1958 1076.16 64.2328 1076.16 Q69.6031 1076.16 72.7976 1078.84 Q75.992 1081.53 75.992 1086.02 Q75.992 1088.15 75.1818 1090.07 Q74.3948 1091.97 72.2883 1094.56 Q71.7096 1095.23 68.6078 1098.45 Q65.5059 1101.64 59.8578 1107.41 Z\" fill=\"#000000\" fill-rule=\"evenodd\" fill-opacity=\"1\" /><path clip-path=\"url(#clip090)\" d=\"M 0 0 M91.2465 1079.86 Q87.6354 1079.86 85.8068 1083.42 Q84.0012 1086.97 84.0012 1094.1 Q84.0012 1101.2 85.8068 1104.77 Q87.6354 1108.31 91.2465 1108.31 Q94.8808 1108.31 96.6863 1104.77 Q98.515 1101.2 98.515 1094.1 Q98.515 1086.97 96.6863 1083.42 Q94.8808 1079.86 91.2465 1079.86 M91.2465 1076.16 Q97.0567 1076.16 100.112 1080.76 Q103.191 1085.35 103.191 1094.1 Q103.191 1102.82 100.112 1107.43 Q97.0567 1112.01 91.2465 1112.01 Q85.4364 1112.01 82.3577 1107.43 Q79.3022 1102.82 79.3022 1094.1 Q79.3022 1085.35 82.3577 1080.76 Q85.4364 1076.16 91.2465 1076.16 Z\" fill=\"#000000\" fill-rule=\"evenodd\" fill-opacity=\"1\" /><path clip-path=\"url(#clip090)\" d=\"M 0 0 M66.5939 729.201 L54.7884 747.65 L66.5939 747.65 L66.5939 729.201 M65.367 725.127 L71.2466 725.127 L71.2466 747.65 L76.1772 747.65 L76.1772 751.539 L71.2466 751.539 L71.2466 759.687 L66.5939 759.687 L66.5939 751.539 L50.9921 751.539 L50.9921 747.025 L65.367 725.127 Z\" fill=\"#000000\" fill-rule=\"evenodd\" fill-opacity=\"1\" /><path clip-path=\"url(#clip090)\" d=\"M 0 0 M91.2465 728.205 Q87.6354 728.205 85.8068 731.77 Q84.0012 735.312 84.0012 742.441 Q84.0012 749.548 85.8068 753.113 Q87.6354 756.654 91.2465 756.654 Q94.8808 756.654 96.6863 753.113 Q98.515 749.548 98.515 742.441 Q98.515 735.312 96.6863 731.77 Q94.8808 728.205 91.2465 728.205 M91.2465 724.502 Q97.0567 724.502 100.112 729.108 Q103.191 733.691 103.191 742.441 Q103.191 751.168 100.112 755.775 Q97.0567 760.358 91.2465 760.358 Q85.4364 760.358 82.3577 755.775 Q79.3022 751.168 79.3022 742.441 Q79.3022 733.691 82.3577 729.108 Q85.4364 724.502 91.2465 724.502 Z\" fill=\"#000000\" fill-rule=\"evenodd\" fill-opacity=\"1\" /><path clip-path=\"url(#clip090)\" d=\"M 0 0 M64.6495 388.889 Q61.5013 388.889 59.6495 391.042 Q57.8208 393.194 57.8208 396.944 Q57.8208 400.671 59.6495 402.847 Q61.5013 405 64.6495 405 Q67.7976 405 69.6263 402.847 Q71.4781 400.671 71.4781 396.944 Q71.4781 393.194 69.6263 391.042 Q67.7976 388.889 64.6495 388.889 M73.9318 374.236 L73.9318 378.495 Q72.1726 377.662 70.367 377.222 Q68.5846 376.782 66.8254 376.782 Q62.1958 376.782 59.7421 379.907 Q57.3115 383.032 56.9643 389.352 Q58.33 387.338 60.3902 386.273 Q62.4504 385.185 64.9272 385.185 Q70.1355 385.185 73.1448 388.356 Q76.1772 391.504 76.1772 396.944 Q76.1772 402.268 73.029 405.486 Q69.8809 408.703 64.6495 408.703 Q58.6541 408.703 55.4828 404.12 Q52.3116 399.514 52.3116 390.787 Q52.3116 382.593 56.2004 377.731 Q60.0893 372.847 66.6402 372.847 Q68.3994 372.847 70.1818 373.194 Q71.9874 373.542 73.9318 374.236 Z\" fill=\"#000000\" fill-rule=\"evenodd\" fill-opacity=\"1\" /><path clip-path=\"url(#clip090)\" d=\"M 0 0 M91.2465 376.551 Q87.6354 376.551 85.8068 380.116 Q84.0012 383.657 84.0012 390.787 Q84.0012 397.893 85.8068 401.458 Q87.6354 405 91.2465 405 Q94.8808 405 96.6863 401.458 Q98.515 397.893 98.515 390.787 Q98.515 383.657 96.6863 380.116 Q94.8808 376.551 91.2465 376.551 M91.2465 372.847 Q97.0567 372.847 100.112 377.454 Q103.191 382.037 103.191 390.787 Q103.191 399.514 100.112 404.12 Q97.0567 408.703 91.2465 408.703 Q85.4364 408.703 82.3577 404.12 Q79.3022 399.514 79.3022 390.787 Q79.3022 382.037 82.3577 377.454 Q85.4364 372.847 91.2465 372.847 Z\" fill=\"#000000\" fill-rule=\"evenodd\" fill-opacity=\"1\" /><polyline clip-path=\"url(#clip092)\" style=\"stroke:#009af9; stroke-width:4; stroke-opacity:1; fill:none\" points=\"\n",
       "  201.839,87.9763 219.241,263.7 236.643,416.68 254.046,549.861 271.448,665.806 288.85,766.744 306.252,854.619 323.655,931.121 341.057,997.722 358.459,1055.7 \n",
       "  375.861,1106.18 393.264,1150.12 410.666,1188.38 428.068,1221.69 445.47,1250.68 462.873,1275.92 480.275,1297.9 497.677,1317.03 515.079,1333.68 532.482,1348.18 \n",
       "  549.884,1360.81 567.286,1371.8 584.688,1381.36 602.091,1389.69 619.493,1396.94 636.895,1403.25 654.297,1408.75 671.699,1413.53 689.102,1417.7 706.504,1421.33 \n",
       "  723.906,1424.48 741.308,1427.23 758.711,1429.62 776.113,1431.71 793.515,1433.52 810.917,1435.1 828.32,1436.47 845.722,1437.67 863.124,1438.71 880.526,1439.62 \n",
       "  897.929,1440.41 915.331,1441.09 932.733,1441.69 950.135,1442.21 967.538,1442.67 984.94,1443.06 1002.34,1443.4 1019.74,1443.7 1037.15,1443.96 1054.55,1444.19 \n",
       "  1071.95,1444.39 1089.35,1444.56 1106.76,1444.71 1124.16,1444.84 1141.56,1444.95 1158.96,1445.05 1176.36,1445.14 1193.77,1445.21 1211.17,1445.28 1228.57,1445.33 \n",
       "  1245.97,1445.38 1263.38,1445.43 1280.78,1445.46 1298.18,1445.5 1315.58,1445.53 1332.98,1445.55 1350.39,1445.57 1367.79,1445.59 1385.19,1445.61 1402.59,1445.62 \n",
       "  1420,1445.63 1437.4,1445.64 1454.8,1445.65 1472.2,1445.66 1489.6,1445.67 1507.01,1445.67 1524.41,1445.68 1541.81,1445.68 1559.21,1445.69 1576.62,1445.69 \n",
       "  1594.02,1445.7 1611.42,1445.7 1628.82,1445.7 1646.22,1445.7 1663.63,1445.7 1681.03,1445.71 1698.43,1445.71 1715.83,1445.71 1733.24,1445.71 1750.64,1445.71 \n",
       "  1768.04,1445.71 1785.44,1445.71 1802.85,1445.71 1820.25,1445.71 1837.65,1445.71 1855.05,1445.71 1872.45,1445.71 1889.86,1445.71 1907.26,1445.71 1924.66,1445.71 \n",
       "  1942.06,1445.71 1959.47,1445.71 1976.87,1445.71 1994.27,1445.71 2011.67,1445.72 2029.07,1445.72 2046.48,1445.72 2063.88,1445.72 2081.28,1445.72 2098.68,1445.72 \n",
       "  2116.09,1445.72 2133.49,1445.72 2150.89,1445.72 2168.29,1445.72 2185.69,1445.72 2203.1,1445.72 2220.5,1445.72 2237.9,1445.72 2255.3,1445.72 2272.71,1445.72 \n",
       "  2290.11,1445.72 \n",
       "  \"/>\n",
       "<path clip-path=\"url(#clip090)\" d=\"\n",
       "M1872.12 216.178 L2278.97 216.178 L2278.97 95.2176 L1872.12 95.2176  Z\n",
       "  \" fill=\"#ffffff\" fill-rule=\"evenodd\" fill-opacity=\"1\"/>\n",
       "<polyline clip-path=\"url(#clip090)\" style=\"stroke:#000000; stroke-width:4; stroke-opacity:1; fill:none\" points=\"\n",
       "  1872.12,216.178 2278.97,216.178 2278.97,95.2176 1872.12,95.2176 1872.12,216.178 \n",
       "  \"/>\n",
       "<polyline clip-path=\"url(#clip090)\" style=\"stroke:#009af9; stroke-width:4; stroke-opacity:1; fill:none\" points=\"\n",
       "  1896.71,155.698 2044.28,155.698 \n",
       "  \"/>\n",
       "<path clip-path=\"url(#clip090)\" d=\"M 0 0 M2081.22 153.834 Q2078.07 153.834 2076.22 155.987 Q2074.39 158.14 2074.39 161.89 Q2074.39 165.616 2076.22 167.792 Q2078.07 169.945 2081.22 169.945 Q2084.36 169.945 2086.19 167.792 Q2088.04 165.616 2088.04 161.89 Q2088.04 158.14 2086.19 155.987 Q2084.36 153.834 2081.22 153.834 M2090.5 139.181 L2090.5 143.441 Q2088.74 142.607 2086.93 142.168 Q2085.15 141.728 2083.39 141.728 Q2078.76 141.728 2076.31 144.853 Q2073.88 147.978 2073.53 154.297 Q2074.9 152.283 2076.96 151.218 Q2079.02 150.13 2081.49 150.13 Q2086.7 150.13 2089.71 153.302 Q2092.74 156.45 2092.74 161.89 Q2092.74 167.214 2089.6 170.431 Q2086.45 173.649 2081.22 173.649 Q2075.22 173.649 2072.05 169.066 Q2068.88 164.459 2068.88 155.732 Q2068.88 147.538 2072.77 142.677 Q2076.66 137.793 2083.21 137.793 Q2084.97 137.793 2086.75 138.14 Q2088.55 138.487 2090.5 139.181 Z\" fill=\"#000000\" fill-rule=\"evenodd\" fill-opacity=\"1\" /><path clip-path=\"url(#clip090)\" d=\"M 0 0 M2107.81 141.496 Q2104.2 141.496 2102.37 145.061 Q2100.57 148.603 2100.57 155.732 Q2100.57 162.839 2102.37 166.404 Q2104.2 169.945 2107.81 169.945 Q2111.45 169.945 2113.25 166.404 Q2115.08 162.839 2115.08 155.732 Q2115.08 148.603 2113.25 145.061 Q2111.45 141.496 2107.81 141.496 M2107.81 137.793 Q2113.62 137.793 2116.68 142.399 Q2119.76 146.982 2119.76 155.732 Q2119.76 164.459 2116.68 169.066 Q2113.62 173.649 2107.81 173.649 Q2102 173.649 2098.92 169.066 Q2095.87 164.459 2095.87 155.732 Q2095.87 146.982 2098.92 142.399 Q2102 137.793 2107.81 137.793 Z\" fill=\"#000000\" fill-rule=\"evenodd\" fill-opacity=\"1\" /><path clip-path=\"url(#clip090)\" d=\"M 0 0 M2134.83 141.496 Q2131.22 141.496 2129.39 145.061 Q2127.58 148.603 2127.58 155.732 Q2127.58 162.839 2129.39 166.404 Q2131.22 169.945 2134.83 169.945 Q2138.46 169.945 2140.27 166.404 Q2142.1 162.839 2142.1 155.732 Q2142.1 148.603 2140.27 145.061 Q2138.46 141.496 2134.83 141.496 M2134.83 137.793 Q2140.64 137.793 2143.69 142.399 Q2146.77 146.982 2146.77 155.732 Q2146.77 164.459 2143.69 169.066 Q2140.64 173.649 2134.83 173.649 Q2129.02 173.649 2125.94 169.066 Q2122.88 164.459 2122.88 155.732 Q2122.88 146.982 2125.94 142.399 Q2129.02 137.793 2134.83 137.793 Z\" fill=\"#000000\" fill-rule=\"evenodd\" fill-opacity=\"1\" /><path clip-path=\"url(#clip090)\" d=\"M 0 0 M2186.49 152.029 Q2188.09 149.158 2190.31 147.793 Q2192.53 146.427 2195.54 146.427 Q2199.6 146.427 2201.79 149.274 Q2203.99 152.098 2203.99 157.329 L2203.99 172.978 L2199.71 172.978 L2199.71 157.468 Q2199.71 153.742 2198.39 151.936 Q2197.07 150.13 2194.36 150.13 Q2191.05 150.13 2189.13 152.33 Q2187.21 154.529 2187.21 158.325 L2187.21 172.978 L2182.93 172.978 L2182.93 157.468 Q2182.93 153.718 2181.61 151.936 Q2180.29 150.13 2177.53 150.13 Q2174.27 150.13 2172.35 152.353 Q2170.43 154.552 2170.43 158.325 L2170.43 172.978 L2166.15 172.978 L2166.15 147.052 L2170.43 147.052 L2170.43 151.08 Q2171.89 148.695 2173.92 147.561 Q2175.96 146.427 2178.76 146.427 Q2181.59 146.427 2183.55 147.862 Q2185.54 149.297 2186.49 152.029 Z\" fill=\"#000000\" fill-rule=\"evenodd\" fill-opacity=\"1\" /><path clip-path=\"url(#clip090)\" d=\"M 0 0 M2225.52 159.714 Q2225.52 155.084 2223.6 152.538 Q2221.7 149.992 2218.25 149.992 Q2214.83 149.992 2212.91 152.538 Q2211.01 155.084 2211.01 159.714 Q2211.01 164.32 2212.91 166.866 Q2214.83 169.413 2218.25 169.413 Q2221.7 169.413 2223.6 166.866 Q2225.52 164.32 2225.52 159.714 M2229.78 169.76 Q2229.78 176.38 2226.84 179.598 Q2223.9 182.839 2217.84 182.839 Q2215.59 182.839 2213.6 182.491 Q2211.61 182.167 2209.73 181.473 L2209.73 177.329 Q2211.61 178.348 2213.44 178.834 Q2215.27 179.32 2217.16 179.32 Q2221.35 179.32 2223.44 177.121 Q2225.52 174.945 2225.52 170.524 L2225.52 168.417 Q2224.2 170.709 2222.14 171.843 Q2220.08 172.978 2217.21 172.978 Q2212.44 172.978 2209.53 169.343 Q2206.61 165.709 2206.61 159.714 Q2206.61 153.695 2209.53 150.061 Q2212.44 146.427 2217.21 146.427 Q2220.08 146.427 2222.14 147.561 Q2224.2 148.695 2225.52 150.987 L2225.52 147.052 L2229.78 147.052 L2229.78 169.76 Z\" fill=\"#000000\" fill-rule=\"evenodd\" fill-opacity=\"1\" /></svg>\n"
      ]
     },
     "execution_count": 715,
     "metadata": {},
     "output_type": "execute_result"
    }
   ],
   "source": [
    "plot(t_plot, data, label=\"$X₀ mg\")"
   ]
  },
  {
   "cell_type": "markdown",
   "metadata": {},
   "source": [
    "Do powyższego wykresu dodajmy minimalną dawkę hamującą."
   ]
  },
  {
   "cell_type": "code",
   "execution_count": 716,
   "metadata": {},
   "outputs": [
    {
     "data": {
      "image/svg+xml": [
       "<?xml version=\"1.0\" encoding=\"utf-8\"?>\n",
       "<svg xmlns=\"http://www.w3.org/2000/svg\" xmlns:xlink=\"http://www.w3.org/1999/xlink\" width=\"600\" height=\"400\" viewBox=\"0 0 2400 1600\">\n",
       "<defs>\n",
       "  <clipPath id=\"clip130\">\n",
       "    <rect x=\"0\" y=\"0\" width=\"2400\" height=\"1600\"/>\n",
       "  </clipPath>\n",
       "</defs>\n",
       "<path clip-path=\"url(#clip130)\" d=\"\n",
       "M0 1600 L2400 1600 L2400 0 L0 0  Z\n",
       "  \" fill=\"#ffffff\" fill-rule=\"evenodd\" fill-opacity=\"1\"/>\n",
       "<defs>\n",
       "  <clipPath id=\"clip131\">\n",
       "    <rect x=\"480\" y=\"0\" width=\"1681\" height=\"1600\"/>\n",
       "  </clipPath>\n",
       "</defs>\n",
       "<path clip-path=\"url(#clip130)\" d=\"\n",
       "M139.191 1486.45 L2352.76 1486.45 L2352.76 47.2441 L139.191 47.2441  Z\n",
       "  \" fill=\"#ffffff\" fill-rule=\"evenodd\" fill-opacity=\"1\"/>\n",
       "<defs>\n",
       "  <clipPath id=\"clip132\">\n",
       "    <rect x=\"139\" y=\"47\" width=\"2215\" height=\"1440\"/>\n",
       "  </clipPath>\n",
       "</defs>\n",
       "<polyline clip-path=\"url(#clip132)\" style=\"stroke:#000000; stroke-width:2; stroke-opacity:0.1; fill:none\" points=\"\n",
       "  201.839,1486.45 201.839,47.2441 \n",
       "  \"/>\n",
       "<polyline clip-path=\"url(#clip132)\" style=\"stroke:#000000; stroke-width:2; stroke-opacity:0.1; fill:none\" points=\"\n",
       "  636.895,1486.45 636.895,47.2441 \n",
       "  \"/>\n",
       "<polyline clip-path=\"url(#clip132)\" style=\"stroke:#000000; stroke-width:2; stroke-opacity:0.1; fill:none\" points=\"\n",
       "  1071.95,1486.45 1071.95,47.2441 \n",
       "  \"/>\n",
       "<polyline clip-path=\"url(#clip132)\" style=\"stroke:#000000; stroke-width:2; stroke-opacity:0.1; fill:none\" points=\"\n",
       "  1507.01,1486.45 1507.01,47.2441 \n",
       "  \"/>\n",
       "<polyline clip-path=\"url(#clip132)\" style=\"stroke:#000000; stroke-width:2; stroke-opacity:0.1; fill:none\" points=\"\n",
       "  1942.06,1486.45 1942.06,47.2441 \n",
       "  \"/>\n",
       "<polyline clip-path=\"url(#clip130)\" style=\"stroke:#000000; stroke-width:4; stroke-opacity:1; fill:none\" points=\"\n",
       "  139.191,1486.45 2352.76,1486.45 \n",
       "  \"/>\n",
       "<polyline clip-path=\"url(#clip130)\" style=\"stroke:#000000; stroke-width:4; stroke-opacity:1; fill:none\" points=\"\n",
       "  201.839,1486.45 201.839,1469.18 \n",
       "  \"/>\n",
       "<polyline clip-path=\"url(#clip130)\" style=\"stroke:#000000; stroke-width:4; stroke-opacity:1; fill:none\" points=\"\n",
       "  636.895,1486.45 636.895,1469.18 \n",
       "  \"/>\n",
       "<polyline clip-path=\"url(#clip130)\" style=\"stroke:#000000; stroke-width:4; stroke-opacity:1; fill:none\" points=\"\n",
       "  1071.95,1486.45 1071.95,1469.18 \n",
       "  \"/>\n",
       "<polyline clip-path=\"url(#clip130)\" style=\"stroke:#000000; stroke-width:4; stroke-opacity:1; fill:none\" points=\"\n",
       "  1507.01,1486.45 1507.01,1469.18 \n",
       "  \"/>\n",
       "<polyline clip-path=\"url(#clip130)\" style=\"stroke:#000000; stroke-width:4; stroke-opacity:1; fill:none\" points=\"\n",
       "  1942.06,1486.45 1942.06,1469.18 \n",
       "  \"/>\n",
       "<path clip-path=\"url(#clip130)\" d=\"M 0 0 M183.355 1515.64 Q179.744 1515.64 177.916 1519.2 Q176.11 1522.75 176.11 1529.87 Q176.11 1536.98 177.916 1540.55 Q179.744 1544.09 183.355 1544.09 Q186.99 1544.09 188.795 1540.55 Q190.624 1536.98 190.624 1529.87 Q190.624 1522.75 188.795 1519.2 Q186.99 1515.64 183.355 1515.64 M183.355 1511.93 Q189.165 1511.93 192.221 1516.54 Q195.3 1521.12 195.3 1529.87 Q195.3 1538.6 192.221 1543.21 Q189.165 1547.79 183.355 1547.79 Q177.545 1547.79 174.466 1543.21 Q171.411 1538.6 171.411 1529.87 Q171.411 1521.12 174.466 1516.54 Q177.545 1511.93 183.355 1511.93 Z\" fill=\"#000000\" fill-rule=\"evenodd\" fill-opacity=\"1\" /><path clip-path=\"url(#clip130)\" d=\"M 0 0 M200.369 1541.24 L205.253 1541.24 L205.253 1547.12 L200.369 1547.12 L200.369 1541.24 Z\" fill=\"#000000\" fill-rule=\"evenodd\" fill-opacity=\"1\" /><path clip-path=\"url(#clip130)\" d=\"M 0 0 M220.323 1515.64 Q216.712 1515.64 214.883 1519.2 Q213.077 1522.75 213.077 1529.87 Q213.077 1536.98 214.883 1540.55 Q216.712 1544.09 220.323 1544.09 Q223.957 1544.09 225.762 1540.55 Q227.591 1536.98 227.591 1529.87 Q227.591 1522.75 225.762 1519.2 Q223.957 1515.64 220.323 1515.64 M220.323 1511.93 Q226.133 1511.93 229.188 1516.54 Q232.267 1521.12 232.267 1529.87 Q232.267 1538.6 229.188 1543.21 Q226.133 1547.79 220.323 1547.79 Q214.513 1547.79 211.434 1543.21 Q208.378 1538.6 208.378 1529.87 Q208.378 1521.12 211.434 1516.54 Q214.513 1511.93 220.323 1511.93 Z\" fill=\"#000000\" fill-rule=\"evenodd\" fill-opacity=\"1\" /><path clip-path=\"url(#clip130)\" d=\"M 0 0 M613.562 1543.18 L629.881 1543.18 L629.881 1547.12 L607.937 1547.12 L607.937 1543.18 Q610.599 1540.43 615.182 1535.8 Q619.789 1531.15 620.969 1529.81 Q623.215 1527.28 624.094 1525.55 Q624.997 1523.79 624.997 1522.1 Q624.997 1519.34 623.052 1517.61 Q621.131 1515.87 618.029 1515.87 Q615.83 1515.87 613.377 1516.63 Q610.946 1517.4 608.168 1518.95 L608.168 1514.23 Q610.992 1513.09 613.446 1512.51 Q615.9 1511.93 617.937 1511.93 Q623.307 1511.93 626.502 1514.62 Q629.696 1517.31 629.696 1521.8 Q629.696 1523.93 628.886 1525.85 Q628.099 1527.74 625.992 1530.34 Q625.414 1531.01 622.312 1534.23 Q619.21 1537.42 613.562 1543.18 Z\" fill=\"#000000\" fill-rule=\"evenodd\" fill-opacity=\"1\" /><path clip-path=\"url(#clip130)\" d=\"M 0 0 M634.951 1541.24 L639.835 1541.24 L639.835 1547.12 L634.951 1547.12 L634.951 1541.24 Z\" fill=\"#000000\" fill-rule=\"evenodd\" fill-opacity=\"1\" /><path clip-path=\"url(#clip130)\" d=\"M 0 0 M644.951 1512.56 L663.307 1512.56 L663.307 1516.5 L649.233 1516.5 L649.233 1524.97 Q650.251 1524.62 651.27 1524.46 Q652.288 1524.27 653.307 1524.27 Q659.094 1524.27 662.474 1527.44 Q665.853 1530.62 665.853 1536.03 Q665.853 1541.61 662.381 1544.71 Q658.909 1547.79 652.589 1547.79 Q650.413 1547.79 648.145 1547.42 Q645.9 1547.05 643.492 1546.31 L643.492 1541.61 Q645.576 1542.74 647.798 1543.3 Q650.02 1543.86 652.497 1543.86 Q656.501 1543.86 658.839 1541.75 Q661.177 1539.64 661.177 1536.03 Q661.177 1532.42 658.839 1530.31 Q656.501 1528.21 652.497 1528.21 Q650.622 1528.21 648.747 1528.62 Q646.895 1529.04 644.951 1529.92 L644.951 1512.56 Z\" fill=\"#000000\" fill-rule=\"evenodd\" fill-opacity=\"1\" /><path clip-path=\"url(#clip130)\" d=\"M 0 0 M1043.75 1512.56 L1062.1 1512.56 L1062.1 1516.5 L1048.03 1516.5 L1048.03 1524.97 Q1049.05 1524.62 1050.06 1524.46 Q1051.08 1524.27 1052.1 1524.27 Q1057.89 1524.27 1061.27 1527.44 Q1064.65 1530.62 1064.65 1536.03 Q1064.65 1541.61 1061.18 1544.71 Q1057.7 1547.79 1051.38 1547.79 Q1049.21 1547.79 1046.94 1547.42 Q1044.69 1547.05 1042.29 1546.31 L1042.29 1541.61 Q1044.37 1542.74 1046.59 1543.3 Q1048.81 1543.86 1051.29 1543.86 Q1055.3 1543.86 1057.63 1541.75 Q1059.97 1539.64 1059.97 1536.03 Q1059.97 1532.42 1057.63 1530.31 Q1055.3 1528.21 1051.29 1528.21 Q1049.42 1528.21 1047.54 1528.62 Q1045.69 1529.04 1043.75 1529.92 L1043.75 1512.56 Z\" fill=\"#000000\" fill-rule=\"evenodd\" fill-opacity=\"1\" /><path clip-path=\"url(#clip130)\" d=\"M 0 0 M1069.72 1541.24 L1074.6 1541.24 L1074.6 1547.12 L1069.72 1547.12 L1069.72 1541.24 Z\" fill=\"#000000\" fill-rule=\"evenodd\" fill-opacity=\"1\" /><path clip-path=\"url(#clip130)\" d=\"M 0 0 M1089.67 1515.64 Q1086.06 1515.64 1084.23 1519.2 Q1082.43 1522.75 1082.43 1529.87 Q1082.43 1536.98 1084.23 1540.55 Q1086.06 1544.09 1089.67 1544.09 Q1093.31 1544.09 1095.11 1540.55 Q1096.94 1536.98 1096.94 1529.87 Q1096.94 1522.75 1095.11 1519.2 Q1093.31 1515.64 1089.67 1515.64 M1089.67 1511.93 Q1095.48 1511.93 1098.54 1516.54 Q1101.62 1521.12 1101.62 1529.87 Q1101.62 1538.6 1098.54 1543.21 Q1095.48 1547.79 1089.67 1547.79 Q1083.86 1547.79 1080.78 1543.21 Q1077.73 1538.6 1077.73 1529.87 Q1077.73 1521.12 1080.78 1516.54 Q1083.86 1511.93 1089.67 1511.93 Z\" fill=\"#000000\" fill-rule=\"evenodd\" fill-opacity=\"1\" /><path clip-path=\"url(#clip130)\" d=\"M 0 0 M1477.91 1512.56 L1500.13 1512.56 L1500.13 1514.55 L1487.59 1547.12 L1482.7 1547.12 L1494.51 1516.5 L1477.91 1516.5 L1477.91 1512.56 Z\" fill=\"#000000\" fill-rule=\"evenodd\" fill-opacity=\"1\" /><path clip-path=\"url(#clip130)\" d=\"M 0 0 M1505.2 1541.24 L1510.09 1541.24 L1510.09 1547.12 L1505.2 1547.12 L1505.2 1541.24 Z\" fill=\"#000000\" fill-rule=\"evenodd\" fill-opacity=\"1\" /><path clip-path=\"url(#clip130)\" d=\"M 0 0 M1515.2 1512.56 L1533.56 1512.56 L1533.56 1516.5 L1519.48 1516.5 L1519.48 1524.97 Q1520.5 1524.62 1521.52 1524.46 Q1522.54 1524.27 1523.56 1524.27 Q1529.34 1524.27 1532.72 1527.44 Q1536.1 1530.62 1536.1 1536.03 Q1536.1 1541.61 1532.63 1544.71 Q1529.16 1547.79 1522.84 1547.79 Q1520.66 1547.79 1518.4 1547.42 Q1516.15 1547.05 1513.74 1546.31 L1513.74 1541.61 Q1515.83 1542.74 1518.05 1543.3 Q1520.27 1543.86 1522.75 1543.86 Q1526.75 1543.86 1529.09 1541.75 Q1531.43 1539.64 1531.43 1536.03 Q1531.43 1532.42 1529.09 1530.31 Q1526.75 1528.21 1522.75 1528.21 Q1520.87 1528.21 1519 1528.62 Q1517.15 1529.04 1515.2 1529.92 L1515.2 1512.56 Z\" fill=\"#000000\" fill-rule=\"evenodd\" fill-opacity=\"1\" /><path clip-path=\"url(#clip130)\" d=\"M 0 0 M1900.45 1543.18 L1908.09 1543.18 L1908.09 1516.82 L1899.78 1518.49 L1899.78 1514.23 L1908.05 1512.56 L1912.72 1512.56 L1912.72 1543.18 L1920.36 1543.18 L1920.36 1547.12 L1900.45 1547.12 L1900.45 1543.18 Z\" fill=\"#000000\" fill-rule=\"evenodd\" fill-opacity=\"1\" /><path clip-path=\"url(#clip130)\" d=\"M 0 0 M1935.43 1515.64 Q1931.82 1515.64 1929.99 1519.2 Q1928.19 1522.75 1928.19 1529.87 Q1928.19 1536.98 1929.99 1540.55 Q1931.82 1544.09 1935.43 1544.09 Q1939.07 1544.09 1940.87 1540.55 Q1942.7 1536.98 1942.7 1529.87 Q1942.7 1522.75 1940.87 1519.2 Q1939.07 1515.64 1935.43 1515.64 M1935.43 1511.93 Q1941.24 1511.93 1944.3 1516.54 Q1947.38 1521.12 1947.38 1529.87 Q1947.38 1538.6 1944.3 1543.21 Q1941.24 1547.79 1935.43 1547.79 Q1929.62 1547.79 1926.54 1543.21 Q1923.49 1538.6 1923.49 1529.87 Q1923.49 1521.12 1926.54 1516.54 Q1929.62 1511.93 1935.43 1511.93 Z\" fill=\"#000000\" fill-rule=\"evenodd\" fill-opacity=\"1\" /><path clip-path=\"url(#clip130)\" d=\"M 0 0 M1952.44 1541.24 L1957.33 1541.24 L1957.33 1547.12 L1952.44 1547.12 L1952.44 1541.24 Z\" fill=\"#000000\" fill-rule=\"evenodd\" fill-opacity=\"1\" /><path clip-path=\"url(#clip130)\" d=\"M 0 0 M1972.4 1515.64 Q1968.79 1515.64 1966.96 1519.2 Q1965.15 1522.75 1965.15 1529.87 Q1965.15 1536.98 1966.96 1540.55 Q1968.79 1544.09 1972.4 1544.09 Q1976.03 1544.09 1977.84 1540.55 Q1979.67 1536.98 1979.67 1529.87 Q1979.67 1522.75 1977.84 1519.2 Q1976.03 1515.64 1972.4 1515.64 M1972.4 1511.93 Q1978.21 1511.93 1981.26 1516.54 Q1984.34 1521.12 1984.34 1529.87 Q1984.34 1538.6 1981.26 1543.21 Q1978.21 1547.79 1972.4 1547.79 Q1966.59 1547.79 1963.51 1543.21 Q1960.45 1538.6 1960.45 1529.87 Q1960.45 1521.12 1963.51 1516.54 Q1966.59 1511.93 1972.4 1511.93 Z\" fill=\"#000000\" fill-rule=\"evenodd\" fill-opacity=\"1\" /><polyline clip-path=\"url(#clip132)\" style=\"stroke:#000000; stroke-width:2; stroke-opacity:0.1; fill:none\" points=\"\n",
       "  139.191,1445.72 2352.76,1445.72 \n",
       "  \"/>\n",
       "<polyline clip-path=\"url(#clip132)\" style=\"stroke:#000000; stroke-width:2; stroke-opacity:0.1; fill:none\" points=\"\n",
       "  139.191,1094.06 2352.76,1094.06 \n",
       "  \"/>\n",
       "<polyline clip-path=\"url(#clip132)\" style=\"stroke:#000000; stroke-width:2; stroke-opacity:0.1; fill:none\" points=\"\n",
       "  139.191,742.407 2352.76,742.407 \n",
       "  \"/>\n",
       "<polyline clip-path=\"url(#clip132)\" style=\"stroke:#000000; stroke-width:2; stroke-opacity:0.1; fill:none\" points=\"\n",
       "  139.191,390.752 2352.76,390.752 \n",
       "  \"/>\n",
       "<polyline clip-path=\"url(#clip130)\" style=\"stroke:#000000; stroke-width:4; stroke-opacity:1; fill:none\" points=\"\n",
       "  139.191,1486.45 139.191,47.2441 \n",
       "  \"/>\n",
       "<polyline clip-path=\"url(#clip130)\" style=\"stroke:#000000; stroke-width:4; stroke-opacity:1; fill:none\" points=\"\n",
       "  139.191,1445.72 165.754,1445.72 \n",
       "  \"/>\n",
       "<polyline clip-path=\"url(#clip130)\" style=\"stroke:#000000; stroke-width:4; stroke-opacity:1; fill:none\" points=\"\n",
       "  139.191,1094.06 165.754,1094.06 \n",
       "  \"/>\n",
       "<polyline clip-path=\"url(#clip130)\" style=\"stroke:#000000; stroke-width:4; stroke-opacity:1; fill:none\" points=\"\n",
       "  139.191,742.407 165.754,742.407 \n",
       "  \"/>\n",
       "<polyline clip-path=\"url(#clip130)\" style=\"stroke:#000000; stroke-width:4; stroke-opacity:1; fill:none\" points=\"\n",
       "  139.191,390.752 165.754,390.752 \n",
       "  \"/>\n",
       "<path clip-path=\"url(#clip130)\" d=\"M 0 0 M91.2465 1431.51 Q87.6354 1431.51 85.8068 1435.08 Q84.0012 1438.62 84.0012 1445.75 Q84.0012 1452.86 85.8068 1456.42 Q87.6354 1459.96 91.2465 1459.96 Q94.8808 1459.96 96.6863 1456.42 Q98.515 1452.86 98.515 1445.75 Q98.515 1438.62 96.6863 1435.08 Q94.8808 1431.51 91.2465 1431.51 M91.2465 1427.81 Q97.0567 1427.81 100.112 1432.42 Q103.191 1437 103.191 1445.75 Q103.191 1454.48 100.112 1459.08 Q97.0567 1463.67 91.2465 1463.67 Q85.4364 1463.67 82.3577 1459.08 Q79.3022 1454.48 79.3022 1445.75 Q79.3022 1437 82.3577 1432.42 Q85.4364 1427.81 91.2465 1427.81 Z\" fill=\"#000000\" fill-rule=\"evenodd\" fill-opacity=\"1\" /><path clip-path=\"url(#clip130)\" d=\"M 0 0 M59.8578 1107.41 L76.1772 1107.41 L76.1772 1111.34 L54.2328 1111.34 L54.2328 1107.41 Q56.8949 1104.65 61.4782 1100.02 Q66.0846 1095.37 67.2652 1094.03 Q69.5105 1091.5 70.3902 1089.77 Q71.2929 1088.01 71.2929 1086.32 Q71.2929 1083.56 69.3485 1081.83 Q67.4272 1080.09 64.3254 1080.09 Q62.1263 1080.09 59.6726 1080.86 Q57.2421 1081.62 54.4643 1083.17 L54.4643 1078.45 Q57.2884 1077.31 59.7421 1076.73 Q62.1958 1076.16 64.2328 1076.16 Q69.6031 1076.16 72.7976 1078.84 Q75.992 1081.53 75.992 1086.02 Q75.992 1088.15 75.1818 1090.07 Q74.3948 1091.97 72.2883 1094.56 Q71.7096 1095.23 68.6078 1098.45 Q65.5059 1101.64 59.8578 1107.41 Z\" fill=\"#000000\" fill-rule=\"evenodd\" fill-opacity=\"1\" /><path clip-path=\"url(#clip130)\" d=\"M 0 0 M91.2465 1079.86 Q87.6354 1079.86 85.8068 1083.42 Q84.0012 1086.97 84.0012 1094.1 Q84.0012 1101.2 85.8068 1104.77 Q87.6354 1108.31 91.2465 1108.31 Q94.8808 1108.31 96.6863 1104.77 Q98.515 1101.2 98.515 1094.1 Q98.515 1086.97 96.6863 1083.42 Q94.8808 1079.86 91.2465 1079.86 M91.2465 1076.16 Q97.0567 1076.16 100.112 1080.76 Q103.191 1085.35 103.191 1094.1 Q103.191 1102.82 100.112 1107.43 Q97.0567 1112.01 91.2465 1112.01 Q85.4364 1112.01 82.3577 1107.43 Q79.3022 1102.82 79.3022 1094.1 Q79.3022 1085.35 82.3577 1080.76 Q85.4364 1076.16 91.2465 1076.16 Z\" fill=\"#000000\" fill-rule=\"evenodd\" fill-opacity=\"1\" /><path clip-path=\"url(#clip130)\" d=\"M 0 0 M66.5939 729.201 L54.7884 747.65 L66.5939 747.65 L66.5939 729.201 M65.367 725.127 L71.2466 725.127 L71.2466 747.65 L76.1772 747.65 L76.1772 751.539 L71.2466 751.539 L71.2466 759.687 L66.5939 759.687 L66.5939 751.539 L50.9921 751.539 L50.9921 747.025 L65.367 725.127 Z\" fill=\"#000000\" fill-rule=\"evenodd\" fill-opacity=\"1\" /><path clip-path=\"url(#clip130)\" d=\"M 0 0 M91.2465 728.205 Q87.6354 728.205 85.8068 731.77 Q84.0012 735.312 84.0012 742.441 Q84.0012 749.548 85.8068 753.113 Q87.6354 756.654 91.2465 756.654 Q94.8808 756.654 96.6863 753.113 Q98.515 749.548 98.515 742.441 Q98.515 735.312 96.6863 731.77 Q94.8808 728.205 91.2465 728.205 M91.2465 724.502 Q97.0567 724.502 100.112 729.108 Q103.191 733.691 103.191 742.441 Q103.191 751.168 100.112 755.775 Q97.0567 760.358 91.2465 760.358 Q85.4364 760.358 82.3577 755.775 Q79.3022 751.168 79.3022 742.441 Q79.3022 733.691 82.3577 729.108 Q85.4364 724.502 91.2465 724.502 Z\" fill=\"#000000\" fill-rule=\"evenodd\" fill-opacity=\"1\" /><path clip-path=\"url(#clip130)\" d=\"M 0 0 M64.6495 388.889 Q61.5013 388.889 59.6495 391.042 Q57.8208 393.194 57.8208 396.944 Q57.8208 400.671 59.6495 402.847 Q61.5013 405 64.6495 405 Q67.7976 405 69.6263 402.847 Q71.4781 400.671 71.4781 396.944 Q71.4781 393.194 69.6263 391.042 Q67.7976 388.889 64.6495 388.889 M73.9318 374.236 L73.9318 378.495 Q72.1726 377.662 70.367 377.222 Q68.5846 376.782 66.8254 376.782 Q62.1958 376.782 59.7421 379.907 Q57.3115 383.032 56.9643 389.352 Q58.33 387.338 60.3902 386.273 Q62.4504 385.185 64.9272 385.185 Q70.1355 385.185 73.1448 388.356 Q76.1772 391.504 76.1772 396.944 Q76.1772 402.268 73.029 405.486 Q69.8809 408.703 64.6495 408.703 Q58.6541 408.703 55.4828 404.12 Q52.3116 399.514 52.3116 390.787 Q52.3116 382.593 56.2004 377.731 Q60.0893 372.847 66.6402 372.847 Q68.3994 372.847 70.1818 373.194 Q71.9874 373.542 73.9318 374.236 Z\" fill=\"#000000\" fill-rule=\"evenodd\" fill-opacity=\"1\" /><path clip-path=\"url(#clip130)\" d=\"M 0 0 M91.2465 376.551 Q87.6354 376.551 85.8068 380.116 Q84.0012 383.657 84.0012 390.787 Q84.0012 397.893 85.8068 401.458 Q87.6354 405 91.2465 405 Q94.8808 405 96.6863 401.458 Q98.515 397.893 98.515 390.787 Q98.515 383.657 96.6863 380.116 Q94.8808 376.551 91.2465 376.551 M91.2465 372.847 Q97.0567 372.847 100.112 377.454 Q103.191 382.037 103.191 390.787 Q103.191 399.514 100.112 404.12 Q97.0567 408.703 91.2465 408.703 Q85.4364 408.703 82.3577 404.12 Q79.3022 399.514 79.3022 390.787 Q79.3022 382.037 82.3577 377.454 Q85.4364 372.847 91.2465 372.847 Z\" fill=\"#000000\" fill-rule=\"evenodd\" fill-opacity=\"1\" /><polyline clip-path=\"url(#clip132)\" style=\"stroke:#009af9; stroke-width:4; stroke-opacity:1; fill:none\" points=\"\n",
       "  201.839,87.9763 219.241,263.7 236.643,416.68 254.046,549.861 271.448,665.806 288.85,766.744 306.252,854.619 323.655,931.121 341.057,997.722 358.459,1055.7 \n",
       "  375.861,1106.18 393.264,1150.12 410.666,1188.38 428.068,1221.69 445.47,1250.68 462.873,1275.92 480.275,1297.9 497.677,1317.03 515.079,1333.68 532.482,1348.18 \n",
       "  549.884,1360.81 567.286,1371.8 584.688,1381.36 602.091,1389.69 619.493,1396.94 636.895,1403.25 654.297,1408.75 671.699,1413.53 689.102,1417.7 706.504,1421.33 \n",
       "  723.906,1424.48 741.308,1427.23 758.711,1429.62 776.113,1431.71 793.515,1433.52 810.917,1435.1 828.32,1436.47 845.722,1437.67 863.124,1438.71 880.526,1439.62 \n",
       "  897.929,1440.41 915.331,1441.09 932.733,1441.69 950.135,1442.21 967.538,1442.67 984.94,1443.06 1002.34,1443.4 1019.74,1443.7 1037.15,1443.96 1054.55,1444.19 \n",
       "  1071.95,1444.39 1089.35,1444.56 1106.76,1444.71 1124.16,1444.84 1141.56,1444.95 1158.96,1445.05 1176.36,1445.14 1193.77,1445.21 1211.17,1445.28 1228.57,1445.33 \n",
       "  1245.97,1445.38 1263.38,1445.43 1280.78,1445.46 1298.18,1445.5 1315.58,1445.53 1332.98,1445.55 1350.39,1445.57 1367.79,1445.59 1385.19,1445.61 1402.59,1445.62 \n",
       "  1420,1445.63 1437.4,1445.64 1454.8,1445.65 1472.2,1445.66 1489.6,1445.67 1507.01,1445.67 1524.41,1445.68 1541.81,1445.68 1559.21,1445.69 1576.62,1445.69 \n",
       "  1594.02,1445.7 1611.42,1445.7 1628.82,1445.7 1646.22,1445.7 1663.63,1445.7 1681.03,1445.71 1698.43,1445.71 1715.83,1445.71 1733.24,1445.71 1750.64,1445.71 \n",
       "  1768.04,1445.71 1785.44,1445.71 1802.85,1445.71 1820.25,1445.71 1837.65,1445.71 1855.05,1445.71 1872.45,1445.71 1889.86,1445.71 1907.26,1445.71 1924.66,1445.71 \n",
       "  1942.06,1445.71 1959.47,1445.71 1976.87,1445.71 1994.27,1445.71 2011.67,1445.72 2029.07,1445.72 2046.48,1445.72 2063.88,1445.72 2081.28,1445.72 2098.68,1445.72 \n",
       "  2116.09,1445.72 2133.49,1445.72 2150.89,1445.72 2168.29,1445.72 2185.69,1445.72 2203.1,1445.72 2220.5,1445.72 2237.9,1445.72 2255.3,1445.72 2272.71,1445.72 \n",
       "  2290.11,1445.72 \n",
       "  \"/>\n",
       "<polyline clip-path=\"url(#clip132)\" style=\"stroke:#e26f46; stroke-width:4; stroke-opacity:1; fill:none\" stroke-dasharray=\"16, 10\" points=\"\n",
       "  201.839,1445.5 219.241,1445.5 236.643,1445.5 254.046,1445.5 271.448,1445.5 288.85,1445.5 306.252,1445.5 323.655,1445.5 341.057,1445.5 358.459,1445.5 \n",
       "  375.861,1445.5 393.264,1445.5 410.666,1445.5 428.068,1445.5 445.47,1445.5 462.873,1445.5 480.275,1445.5 497.677,1445.5 515.079,1445.5 532.482,1445.5 \n",
       "  549.884,1445.5 567.286,1445.5 584.688,1445.5 602.091,1445.5 619.493,1445.5 636.895,1445.5 654.297,1445.5 671.699,1445.5 689.102,1445.5 706.504,1445.5 \n",
       "  723.906,1445.5 741.308,1445.5 758.711,1445.5 776.113,1445.5 793.515,1445.5 810.917,1445.5 828.32,1445.5 845.722,1445.5 863.124,1445.5 880.526,1445.5 \n",
       "  897.929,1445.5 915.331,1445.5 932.733,1445.5 950.135,1445.5 967.538,1445.5 984.94,1445.5 1002.34,1445.5 1019.74,1445.5 1037.15,1445.5 1054.55,1445.5 \n",
       "  1071.95,1445.5 1089.35,1445.5 1106.76,1445.5 1124.16,1445.5 1141.56,1445.5 1158.96,1445.5 1176.36,1445.5 1193.77,1445.5 1211.17,1445.5 1228.57,1445.5 \n",
       "  1245.97,1445.5 1263.38,1445.5 1280.78,1445.5 1298.18,1445.5 1315.58,1445.5 1332.98,1445.5 1350.39,1445.5 1367.79,1445.5 1385.19,1445.5 1402.59,1445.5 \n",
       "  1420,1445.5 1437.4,1445.5 1454.8,1445.5 1472.2,1445.5 1489.6,1445.5 1507.01,1445.5 1524.41,1445.5 1541.81,1445.5 1559.21,1445.5 1576.62,1445.5 \n",
       "  1594.02,1445.5 1611.42,1445.5 1628.82,1445.5 1646.22,1445.5 1663.63,1445.5 1681.03,1445.5 1698.43,1445.5 1715.83,1445.5 1733.24,1445.5 1750.64,1445.5 \n",
       "  1768.04,1445.5 1785.44,1445.5 1802.85,1445.5 1820.25,1445.5 1837.65,1445.5 1855.05,1445.5 1872.45,1445.5 1889.86,1445.5 1907.26,1445.5 1924.66,1445.5 \n",
       "  1942.06,1445.5 1959.47,1445.5 1976.87,1445.5 1994.27,1445.5 2011.67,1445.5 2029.07,1445.5 2046.48,1445.5 2063.88,1445.5 2081.28,1445.5 2098.68,1445.5 \n",
       "  2116.09,1445.5 2133.49,1445.5 2150.89,1445.5 2168.29,1445.5 2185.69,1445.5 2203.1,1445.5 2220.5,1445.5 2237.9,1445.5 2255.3,1445.5 2272.71,1445.5 \n",
       "  2290.11,1445.5 \n",
       "  \"/>\n",
       "<path clip-path=\"url(#clip130)\" d=\"\n",
       "M1872.12 276.658 L2278.97 276.658 L2278.97 95.2176 L1872.12 95.2176  Z\n",
       "  \" fill=\"#ffffff\" fill-rule=\"evenodd\" fill-opacity=\"1\"/>\n",
       "<polyline clip-path=\"url(#clip130)\" style=\"stroke:#000000; stroke-width:4; stroke-opacity:1; fill:none\" points=\"\n",
       "  1872.12,276.658 2278.97,276.658 2278.97,95.2176 1872.12,95.2176 1872.12,276.658 \n",
       "  \"/>\n",
       "<polyline clip-path=\"url(#clip130)\" style=\"stroke:#009af9; stroke-width:4; stroke-opacity:1; fill:none\" points=\"\n",
       "  1896.71,155.698 2044.28,155.698 \n",
       "  \"/>\n",
       "<path clip-path=\"url(#clip130)\" d=\"M 0 0 M2081.22 153.834 Q2078.07 153.834 2076.22 155.987 Q2074.39 158.14 2074.39 161.89 Q2074.39 165.616 2076.22 167.792 Q2078.07 169.945 2081.22 169.945 Q2084.36 169.945 2086.19 167.792 Q2088.04 165.616 2088.04 161.89 Q2088.04 158.14 2086.19 155.987 Q2084.36 153.834 2081.22 153.834 M2090.5 139.181 L2090.5 143.441 Q2088.74 142.607 2086.93 142.168 Q2085.15 141.728 2083.39 141.728 Q2078.76 141.728 2076.31 144.853 Q2073.88 147.978 2073.53 154.297 Q2074.9 152.283 2076.96 151.218 Q2079.02 150.13 2081.49 150.13 Q2086.7 150.13 2089.71 153.302 Q2092.74 156.45 2092.74 161.89 Q2092.74 167.214 2089.6 170.431 Q2086.45 173.649 2081.22 173.649 Q2075.22 173.649 2072.05 169.066 Q2068.88 164.459 2068.88 155.732 Q2068.88 147.538 2072.77 142.677 Q2076.66 137.793 2083.21 137.793 Q2084.97 137.793 2086.75 138.14 Q2088.55 138.487 2090.5 139.181 Z\" fill=\"#000000\" fill-rule=\"evenodd\" fill-opacity=\"1\" /><path clip-path=\"url(#clip130)\" d=\"M 0 0 M2107.81 141.496 Q2104.2 141.496 2102.37 145.061 Q2100.57 148.603 2100.57 155.732 Q2100.57 162.839 2102.37 166.404 Q2104.2 169.945 2107.81 169.945 Q2111.45 169.945 2113.25 166.404 Q2115.08 162.839 2115.08 155.732 Q2115.08 148.603 2113.25 145.061 Q2111.45 141.496 2107.81 141.496 M2107.81 137.793 Q2113.62 137.793 2116.68 142.399 Q2119.76 146.982 2119.76 155.732 Q2119.76 164.459 2116.68 169.066 Q2113.62 173.649 2107.81 173.649 Q2102 173.649 2098.92 169.066 Q2095.87 164.459 2095.87 155.732 Q2095.87 146.982 2098.92 142.399 Q2102 137.793 2107.81 137.793 Z\" fill=\"#000000\" fill-rule=\"evenodd\" fill-opacity=\"1\" /><path clip-path=\"url(#clip130)\" d=\"M 0 0 M2134.83 141.496 Q2131.22 141.496 2129.39 145.061 Q2127.58 148.603 2127.58 155.732 Q2127.58 162.839 2129.39 166.404 Q2131.22 169.945 2134.83 169.945 Q2138.46 169.945 2140.27 166.404 Q2142.1 162.839 2142.1 155.732 Q2142.1 148.603 2140.27 145.061 Q2138.46 141.496 2134.83 141.496 M2134.83 137.793 Q2140.64 137.793 2143.69 142.399 Q2146.77 146.982 2146.77 155.732 Q2146.77 164.459 2143.69 169.066 Q2140.64 173.649 2134.83 173.649 Q2129.02 173.649 2125.94 169.066 Q2122.88 164.459 2122.88 155.732 Q2122.88 146.982 2125.94 142.399 Q2129.02 137.793 2134.83 137.793 Z\" fill=\"#000000\" fill-rule=\"evenodd\" fill-opacity=\"1\" /><path clip-path=\"url(#clip130)\" d=\"M 0 0 M2186.49 152.029 Q2188.09 149.158 2190.31 147.793 Q2192.53 146.427 2195.54 146.427 Q2199.6 146.427 2201.79 149.274 Q2203.99 152.098 2203.99 157.329 L2203.99 172.978 L2199.71 172.978 L2199.71 157.468 Q2199.71 153.742 2198.39 151.936 Q2197.07 150.13 2194.36 150.13 Q2191.05 150.13 2189.13 152.33 Q2187.21 154.529 2187.21 158.325 L2187.21 172.978 L2182.93 172.978 L2182.93 157.468 Q2182.93 153.718 2181.61 151.936 Q2180.29 150.13 2177.53 150.13 Q2174.27 150.13 2172.35 152.353 Q2170.43 154.552 2170.43 158.325 L2170.43 172.978 L2166.15 172.978 L2166.15 147.052 L2170.43 147.052 L2170.43 151.08 Q2171.89 148.695 2173.92 147.561 Q2175.96 146.427 2178.76 146.427 Q2181.59 146.427 2183.55 147.862 Q2185.54 149.297 2186.49 152.029 Z\" fill=\"#000000\" fill-rule=\"evenodd\" fill-opacity=\"1\" /><path clip-path=\"url(#clip130)\" d=\"M 0 0 M2225.52 159.714 Q2225.52 155.084 2223.6 152.538 Q2221.7 149.992 2218.25 149.992 Q2214.83 149.992 2212.91 152.538 Q2211.01 155.084 2211.01 159.714 Q2211.01 164.32 2212.91 166.866 Q2214.83 169.413 2218.25 169.413 Q2221.7 169.413 2223.6 166.866 Q2225.52 164.32 2225.52 159.714 M2229.78 169.76 Q2229.78 176.38 2226.84 179.598 Q2223.9 182.839 2217.84 182.839 Q2215.59 182.839 2213.6 182.491 Q2211.61 182.167 2209.73 181.473 L2209.73 177.329 Q2211.61 178.348 2213.44 178.834 Q2215.27 179.32 2217.16 179.32 Q2221.35 179.32 2223.44 177.121 Q2225.52 174.945 2225.52 170.524 L2225.52 168.417 Q2224.2 170.709 2222.14 171.843 Q2220.08 172.978 2217.21 172.978 Q2212.44 172.978 2209.53 169.343 Q2206.61 165.709 2206.61 159.714 Q2206.61 153.695 2209.53 150.061 Q2212.44 146.427 2217.21 146.427 Q2220.08 146.427 2222.14 147.561 Q2224.2 148.695 2225.52 150.987 L2225.52 147.052 L2229.78 147.052 L2229.78 169.76 Z\" fill=\"#000000\" fill-rule=\"evenodd\" fill-opacity=\"1\" /><polyline clip-path=\"url(#clip130)\" style=\"stroke:#e26f46; stroke-width:4; stroke-opacity:1; fill:none\" stroke-dasharray=\"16, 10\" points=\"\n",
       "  1896.71,216.178 2044.28,216.178 \n",
       "  \"/>\n",
       "<path clip-path=\"url(#clip130)\" d=\"M 0 0 M2068.88 198.898 L2075.85 198.898 L2084.67 222.416 L2093.53 198.898 L2100.5 198.898 L2100.5 233.458 L2095.94 233.458 L2095.94 203.11 L2087.03 226.814 L2082.33 226.814 L2073.42 203.11 L2073.42 233.458 L2068.88 233.458 L2068.88 198.898 Z\" fill=\"#000000\" fill-rule=\"evenodd\" fill-opacity=\"1\" /><path clip-path=\"url(#clip130)\" d=\"M 0 0 M2105.15 198.898 L2109.83 198.898 L2109.83 233.458 L2105.15 233.458 L2105.15 198.898 Z\" fill=\"#000000\" fill-rule=\"evenodd\" fill-opacity=\"1\" /><path clip-path=\"url(#clip130)\" d=\"M 0 0 M2140.36 201.56 L2140.36 206.49 Q2138 204.291 2135.31 203.203 Q2132.65 202.115 2129.64 202.115 Q2123.72 202.115 2120.57 205.749 Q2117.42 209.36 2117.42 216.212 Q2117.42 223.041 2120.57 226.675 Q2123.72 230.286 2129.64 230.286 Q2132.65 230.286 2135.31 229.198 Q2138 228.11 2140.36 225.911 L2140.36 230.796 Q2137.91 232.462 2135.15 233.296 Q2132.42 234.129 2129.36 234.129 Q2121.52 234.129 2117 229.337 Q2112.49 224.522 2112.49 216.212 Q2112.49 207.879 2117 203.087 Q2121.52 198.273 2129.36 198.273 Q2132.47 198.273 2135.2 199.106 Q2137.95 199.916 2140.36 201.56 Z\" fill=\"#000000\" fill-rule=\"evenodd\" fill-opacity=\"1\" /></svg>\n"
      ]
     },
     "execution_count": 716,
     "metadata": {},
     "output_type": "execute_result"
    }
   ],
   "source": [
    "plot!(t_plot, fill(MIC, length(t_plot)), linestyle=:dash, label=\"MIC\")"
   ]
  },
  {
   "cell_type": "markdown",
   "metadata": {},
   "source": [
    "Zmniejszmy i zwiększmy dawkę początką dwukrotnie"
   ]
  },
  {
   "cell_type": "code",
   "execution_count": 717,
   "metadata": {},
   "outputs": [],
   "source": [
    "X₂ = 2*X₀\n",
    "X₃ = X₀/2;"
   ]
  },
  {
   "cell_type": "code",
   "execution_count": 718,
   "metadata": {},
   "outputs": [],
   "source": [
    "data2 = runge_kutta(model2, t_plot, beginC(X₂, V))\n",
    "data3 = runge_kutta(model2, t_plot, beginC(X₃, V));"
   ]
  },
  {
   "cell_type": "code",
   "execution_count": 719,
   "metadata": {},
   "outputs": [
    {
     "data": {
      "image/svg+xml": [
       "<?xml version=\"1.0\" encoding=\"utf-8\"?>\n",
       "<svg xmlns=\"http://www.w3.org/2000/svg\" xmlns:xlink=\"http://www.w3.org/1999/xlink\" width=\"600\" height=\"400\" viewBox=\"0 0 2400 1600\">\n",
       "<defs>\n",
       "  <clipPath id=\"clip170\">\n",
       "    <rect x=\"0\" y=\"0\" width=\"2400\" height=\"1600\"/>\n",
       "  </clipPath>\n",
       "</defs>\n",
       "<path clip-path=\"url(#clip170)\" d=\"\n",
       "M0 1600 L2400 1600 L2400 0 L0 0  Z\n",
       "  \" fill=\"#ffffff\" fill-rule=\"evenodd\" fill-opacity=\"1\"/>\n",
       "<defs>\n",
       "  <clipPath id=\"clip171\">\n",
       "    <rect x=\"480\" y=\"0\" width=\"1681\" height=\"1600\"/>\n",
       "  </clipPath>\n",
       "</defs>\n",
       "<path clip-path=\"url(#clip170)\" d=\"\n",
       "M161.598 1486.45 L2352.76 1486.45 L2352.76 47.2441 L161.598 47.2441  Z\n",
       "  \" fill=\"#ffffff\" fill-rule=\"evenodd\" fill-opacity=\"1\"/>\n",
       "<defs>\n",
       "  <clipPath id=\"clip172\">\n",
       "    <rect x=\"161\" y=\"47\" width=\"2192\" height=\"1440\"/>\n",
       "  </clipPath>\n",
       "</defs>\n",
       "<polyline clip-path=\"url(#clip172)\" style=\"stroke:#000000; stroke-width:2; stroke-opacity:0.1; fill:none\" points=\"\n",
       "  223.612,1486.45 223.612,47.2441 \n",
       "  \"/>\n",
       "<polyline clip-path=\"url(#clip172)\" style=\"stroke:#000000; stroke-width:2; stroke-opacity:0.1; fill:none\" points=\"\n",
       "  654.264,1486.45 654.264,47.2441 \n",
       "  \"/>\n",
       "<polyline clip-path=\"url(#clip172)\" style=\"stroke:#000000; stroke-width:2; stroke-opacity:0.1; fill:none\" points=\"\n",
       "  1084.92,1486.45 1084.92,47.2441 \n",
       "  \"/>\n",
       "<polyline clip-path=\"url(#clip172)\" style=\"stroke:#000000; stroke-width:2; stroke-opacity:0.1; fill:none\" points=\"\n",
       "  1515.57,1486.45 1515.57,47.2441 \n",
       "  \"/>\n",
       "<polyline clip-path=\"url(#clip172)\" style=\"stroke:#000000; stroke-width:2; stroke-opacity:0.1; fill:none\" points=\"\n",
       "  1946.22,1486.45 1946.22,47.2441 \n",
       "  \"/>\n",
       "<polyline clip-path=\"url(#clip170)\" style=\"stroke:#000000; stroke-width:4; stroke-opacity:1; fill:none\" points=\"\n",
       "  161.598,1486.45 2352.76,1486.45 \n",
       "  \"/>\n",
       "<polyline clip-path=\"url(#clip170)\" style=\"stroke:#000000; stroke-width:4; stroke-opacity:1; fill:none\" points=\"\n",
       "  223.612,1486.45 223.612,1469.18 \n",
       "  \"/>\n",
       "<polyline clip-path=\"url(#clip170)\" style=\"stroke:#000000; stroke-width:4; stroke-opacity:1; fill:none\" points=\"\n",
       "  654.264,1486.45 654.264,1469.18 \n",
       "  \"/>\n",
       "<polyline clip-path=\"url(#clip170)\" style=\"stroke:#000000; stroke-width:4; stroke-opacity:1; fill:none\" points=\"\n",
       "  1084.92,1486.45 1084.92,1469.18 \n",
       "  \"/>\n",
       "<polyline clip-path=\"url(#clip170)\" style=\"stroke:#000000; stroke-width:4; stroke-opacity:1; fill:none\" points=\"\n",
       "  1515.57,1486.45 1515.57,1469.18 \n",
       "  \"/>\n",
       "<polyline clip-path=\"url(#clip170)\" style=\"stroke:#000000; stroke-width:4; stroke-opacity:1; fill:none\" points=\"\n",
       "  1946.22,1486.45 1946.22,1469.18 \n",
       "  \"/>\n",
       "<path clip-path=\"url(#clip170)\" d=\"M 0 0 M205.128 1515.64 Q201.517 1515.64 199.689 1519.2 Q197.883 1522.75 197.883 1529.87 Q197.883 1536.98 199.689 1540.55 Q201.517 1544.09 205.128 1544.09 Q208.763 1544.09 210.568 1540.55 Q212.397 1536.98 212.397 1529.87 Q212.397 1522.75 210.568 1519.2 Q208.763 1515.64 205.128 1515.64 M205.128 1511.93 Q210.939 1511.93 213.994 1516.54 Q217.073 1521.12 217.073 1529.87 Q217.073 1538.6 213.994 1543.21 Q210.939 1547.79 205.128 1547.79 Q199.318 1547.79 196.24 1543.21 Q193.184 1538.6 193.184 1529.87 Q193.184 1521.12 196.24 1516.54 Q199.318 1511.93 205.128 1511.93 Z\" fill=\"#000000\" fill-rule=\"evenodd\" fill-opacity=\"1\" /><path clip-path=\"url(#clip170)\" d=\"M 0 0 M222.142 1541.24 L227.026 1541.24 L227.026 1547.12 L222.142 1547.12 L222.142 1541.24 Z\" fill=\"#000000\" fill-rule=\"evenodd\" fill-opacity=\"1\" /><path clip-path=\"url(#clip170)\" d=\"M 0 0 M242.096 1515.64 Q238.485 1515.64 236.656 1519.2 Q234.85 1522.75 234.85 1529.87 Q234.85 1536.98 236.656 1540.55 Q238.485 1544.09 242.096 1544.09 Q245.73 1544.09 247.536 1540.55 Q249.364 1536.98 249.364 1529.87 Q249.364 1522.75 247.536 1519.2 Q245.73 1515.64 242.096 1515.64 M242.096 1511.93 Q247.906 1511.93 250.961 1516.54 Q254.04 1521.12 254.04 1529.87 Q254.04 1538.6 250.961 1543.21 Q247.906 1547.79 242.096 1547.79 Q236.286 1547.79 233.207 1543.21 Q230.151 1538.6 230.151 1529.87 Q230.151 1521.12 233.207 1516.54 Q236.286 1511.93 242.096 1511.93 Z\" fill=\"#000000\" fill-rule=\"evenodd\" fill-opacity=\"1\" /><path clip-path=\"url(#clip170)\" d=\"M 0 0 M630.931 1543.18 L647.25 1543.18 L647.25 1547.12 L625.306 1547.12 L625.306 1543.18 Q627.968 1540.43 632.551 1535.8 Q637.158 1531.15 638.338 1529.81 Q640.584 1527.28 641.463 1525.55 Q642.366 1523.79 642.366 1522.1 Q642.366 1519.34 640.422 1517.61 Q638.5 1515.87 635.399 1515.87 Q633.199 1515.87 630.746 1516.63 Q628.315 1517.4 625.537 1518.95 L625.537 1514.23 Q628.362 1513.09 630.815 1512.51 Q633.269 1511.93 635.306 1511.93 Q640.676 1511.93 643.871 1514.62 Q647.065 1517.31 647.065 1521.8 Q647.065 1523.93 646.255 1525.85 Q645.468 1527.74 643.361 1530.34 Q642.783 1531.01 639.681 1534.23 Q636.579 1537.42 630.931 1543.18 Z\" fill=\"#000000\" fill-rule=\"evenodd\" fill-opacity=\"1\" /><path clip-path=\"url(#clip170)\" d=\"M 0 0 M652.32 1541.24 L657.204 1541.24 L657.204 1547.12 L652.32 1547.12 L652.32 1541.24 Z\" fill=\"#000000\" fill-rule=\"evenodd\" fill-opacity=\"1\" /><path clip-path=\"url(#clip170)\" d=\"M 0 0 M662.32 1512.56 L680.676 1512.56 L680.676 1516.5 L666.602 1516.5 L666.602 1524.97 Q667.621 1524.62 668.639 1524.46 Q669.658 1524.27 670.676 1524.27 Q676.463 1524.27 679.843 1527.44 Q683.222 1530.62 683.222 1536.03 Q683.222 1541.61 679.75 1544.71 Q676.278 1547.79 669.959 1547.79 Q667.783 1547.79 665.514 1547.42 Q663.269 1547.05 660.861 1546.31 L660.861 1541.61 Q662.945 1542.74 665.167 1543.3 Q667.389 1543.86 669.866 1543.86 Q673.871 1543.86 676.208 1541.75 Q678.546 1539.64 678.546 1536.03 Q678.546 1532.42 676.208 1530.31 Q673.871 1528.21 669.866 1528.21 Q667.991 1528.21 666.116 1528.62 Q664.264 1529.04 662.32 1529.92 L662.32 1512.56 Z\" fill=\"#000000\" fill-rule=\"evenodd\" fill-opacity=\"1\" /><path clip-path=\"url(#clip170)\" d=\"M 0 0 M1056.71 1512.56 L1075.07 1512.56 L1075.07 1516.5 L1060.99 1516.5 L1060.99 1524.97 Q1062.01 1524.62 1063.03 1524.46 Q1064.05 1524.27 1065.07 1524.27 Q1070.85 1524.27 1074.23 1527.44 Q1077.61 1530.62 1077.61 1536.03 Q1077.61 1541.61 1074.14 1544.71 Q1070.67 1547.79 1064.35 1547.79 Q1062.17 1547.79 1059.9 1547.42 Q1057.66 1547.05 1055.25 1546.31 L1055.25 1541.61 Q1057.34 1542.74 1059.56 1543.3 Q1061.78 1543.86 1064.26 1543.86 Q1068.26 1543.86 1070.6 1541.75 Q1072.94 1539.64 1072.94 1536.03 Q1072.94 1532.42 1070.6 1530.31 Q1068.26 1528.21 1064.26 1528.21 Q1062.38 1528.21 1060.51 1528.62 Q1058.65 1529.04 1056.71 1529.92 L1056.71 1512.56 Z\" fill=\"#000000\" fill-rule=\"evenodd\" fill-opacity=\"1\" /><path clip-path=\"url(#clip170)\" d=\"M 0 0 M1082.68 1541.24 L1087.57 1541.24 L1087.57 1547.12 L1082.68 1547.12 L1082.68 1541.24 Z\" fill=\"#000000\" fill-rule=\"evenodd\" fill-opacity=\"1\" /><path clip-path=\"url(#clip170)\" d=\"M 0 0 M1102.64 1515.64 Q1099.02 1515.64 1097.2 1519.2 Q1095.39 1522.75 1095.39 1529.87 Q1095.39 1536.98 1097.2 1540.55 Q1099.02 1544.09 1102.64 1544.09 Q1106.27 1544.09 1108.08 1540.55 Q1109.9 1536.98 1109.9 1529.87 Q1109.9 1522.75 1108.08 1519.2 Q1106.27 1515.64 1102.64 1515.64 M1102.64 1511.93 Q1108.45 1511.93 1111.5 1516.54 Q1114.58 1521.12 1114.58 1529.87 Q1114.58 1538.6 1111.5 1543.21 Q1108.45 1547.79 1102.64 1547.79 Q1096.83 1547.79 1093.75 1543.21 Q1090.69 1538.6 1090.69 1529.87 Q1090.69 1521.12 1093.75 1516.54 Q1096.83 1511.93 1102.64 1511.93 Z\" fill=\"#000000\" fill-rule=\"evenodd\" fill-opacity=\"1\" /><path clip-path=\"url(#clip170)\" d=\"M 0 0 M1486.47 1512.56 L1508.69 1512.56 L1508.69 1514.55 L1496.15 1547.12 L1491.26 1547.12 L1503.07 1516.5 L1486.47 1516.5 L1486.47 1512.56 Z\" fill=\"#000000\" fill-rule=\"evenodd\" fill-opacity=\"1\" /><path clip-path=\"url(#clip170)\" d=\"M 0 0 M1513.76 1541.24 L1518.65 1541.24 L1518.65 1547.12 L1513.76 1547.12 L1513.76 1541.24 Z\" fill=\"#000000\" fill-rule=\"evenodd\" fill-opacity=\"1\" /><path clip-path=\"url(#clip170)\" d=\"M 0 0 M1523.76 1512.56 L1542.12 1512.56 L1542.12 1516.5 L1528.05 1516.5 L1528.05 1524.97 Q1529.06 1524.62 1530.08 1524.46 Q1531.1 1524.27 1532.12 1524.27 Q1537.91 1524.27 1541.29 1527.44 Q1544.67 1530.62 1544.67 1536.03 Q1544.67 1541.61 1541.19 1544.71 Q1537.72 1547.79 1531.4 1547.79 Q1529.23 1547.79 1526.96 1547.42 Q1524.71 1547.05 1522.3 1546.31 L1522.3 1541.61 Q1524.39 1542.74 1526.61 1543.3 Q1528.83 1543.86 1531.31 1543.86 Q1535.31 1543.86 1537.65 1541.75 Q1539.99 1539.64 1539.99 1536.03 Q1539.99 1532.42 1537.65 1530.31 Q1535.31 1528.21 1531.31 1528.21 Q1529.43 1528.21 1527.56 1528.62 Q1525.71 1529.04 1523.76 1529.92 L1523.76 1512.56 Z\" fill=\"#000000\" fill-rule=\"evenodd\" fill-opacity=\"1\" /><path clip-path=\"url(#clip170)\" d=\"M 0 0 M1904.61 1543.18 L1912.25 1543.18 L1912.25 1516.82 L1903.94 1518.49 L1903.94 1514.23 L1912.2 1512.56 L1916.88 1512.56 L1916.88 1543.18 L1924.52 1543.18 L1924.52 1547.12 L1904.61 1547.12 L1904.61 1543.18 Z\" fill=\"#000000\" fill-rule=\"evenodd\" fill-opacity=\"1\" /><path clip-path=\"url(#clip170)\" d=\"M 0 0 M1939.59 1515.64 Q1935.98 1515.64 1934.15 1519.2 Q1932.34 1522.75 1932.34 1529.87 Q1932.34 1536.98 1934.15 1540.55 Q1935.98 1544.09 1939.59 1544.09 Q1943.22 1544.09 1945.03 1540.55 Q1946.86 1536.98 1946.86 1529.87 Q1946.86 1522.75 1945.03 1519.2 Q1943.22 1515.64 1939.59 1515.64 M1939.59 1511.93 Q1945.4 1511.93 1948.45 1516.54 Q1951.53 1521.12 1951.53 1529.87 Q1951.53 1538.6 1948.45 1543.21 Q1945.4 1547.79 1939.59 1547.79 Q1933.78 1547.79 1930.7 1543.21 Q1927.64 1538.6 1927.64 1529.87 Q1927.64 1521.12 1930.7 1516.54 Q1933.78 1511.93 1939.59 1511.93 Z\" fill=\"#000000\" fill-rule=\"evenodd\" fill-opacity=\"1\" /><path clip-path=\"url(#clip170)\" d=\"M 0 0 M1956.6 1541.24 L1961.49 1541.24 L1961.49 1547.12 L1956.6 1547.12 L1956.6 1541.24 Z\" fill=\"#000000\" fill-rule=\"evenodd\" fill-opacity=\"1\" /><path clip-path=\"url(#clip170)\" d=\"M 0 0 M1976.56 1515.64 Q1972.94 1515.64 1971.12 1519.2 Q1969.31 1522.75 1969.31 1529.87 Q1969.31 1536.98 1971.12 1540.55 Q1972.94 1544.09 1976.56 1544.09 Q1980.19 1544.09 1982 1540.55 Q1983.82 1536.98 1983.82 1529.87 Q1983.82 1522.75 1982 1519.2 Q1980.19 1515.64 1976.56 1515.64 M1976.56 1511.93 Q1982.37 1511.93 1985.42 1516.54 Q1988.5 1521.12 1988.5 1529.87 Q1988.5 1538.6 1985.42 1543.21 Q1982.37 1547.79 1976.56 1547.79 Q1970.75 1547.79 1967.67 1543.21 Q1964.61 1538.6 1964.61 1529.87 Q1964.61 1521.12 1967.67 1516.54 Q1970.75 1511.93 1976.56 1511.93 Z\" fill=\"#000000\" fill-rule=\"evenodd\" fill-opacity=\"1\" /><polyline clip-path=\"url(#clip172)\" style=\"stroke:#000000; stroke-width:2; stroke-opacity:0.1; fill:none\" points=\"\n",
       "  161.598,1445.72 2352.76,1445.72 \n",
       "  \"/>\n",
       "<polyline clip-path=\"url(#clip172)\" style=\"stroke:#000000; stroke-width:2; stroke-opacity:0.1; fill:none\" points=\"\n",
       "  161.598,1006.15 2352.76,1006.15 \n",
       "  \"/>\n",
       "<polyline clip-path=\"url(#clip172)\" style=\"stroke:#000000; stroke-width:2; stroke-opacity:0.1; fill:none\" points=\"\n",
       "  161.598,566.579 2352.76,566.579 \n",
       "  \"/>\n",
       "<polyline clip-path=\"url(#clip172)\" style=\"stroke:#000000; stroke-width:2; stroke-opacity:0.1; fill:none\" points=\"\n",
       "  161.598,127.011 2352.76,127.011 \n",
       "  \"/>\n",
       "<polyline clip-path=\"url(#clip170)\" style=\"stroke:#000000; stroke-width:4; stroke-opacity:1; fill:none\" points=\"\n",
       "  161.598,1486.45 161.598,47.2441 \n",
       "  \"/>\n",
       "<polyline clip-path=\"url(#clip170)\" style=\"stroke:#000000; stroke-width:4; stroke-opacity:1; fill:none\" points=\"\n",
       "  161.598,1445.72 187.892,1445.72 \n",
       "  \"/>\n",
       "<polyline clip-path=\"url(#clip170)\" style=\"stroke:#000000; stroke-width:4; stroke-opacity:1; fill:none\" points=\"\n",
       "  161.598,1006.15 187.892,1006.15 \n",
       "  \"/>\n",
       "<polyline clip-path=\"url(#clip170)\" style=\"stroke:#000000; stroke-width:4; stroke-opacity:1; fill:none\" points=\"\n",
       "  161.598,566.579 187.892,566.579 \n",
       "  \"/>\n",
       "<polyline clip-path=\"url(#clip170)\" style=\"stroke:#000000; stroke-width:4; stroke-opacity:1; fill:none\" points=\"\n",
       "  161.598,127.011 187.892,127.011 \n",
       "  \"/>\n",
       "<path clip-path=\"url(#clip170)\" d=\"M 0 0 M113.654 1431.51 Q110.043 1431.51 108.214 1435.08 Q106.408 1438.62 106.408 1445.75 Q106.408 1452.86 108.214 1456.42 Q110.043 1459.96 113.654 1459.96 Q117.288 1459.96 119.094 1456.42 Q120.922 1452.86 120.922 1445.75 Q120.922 1438.62 119.094 1435.08 Q117.288 1431.51 113.654 1431.51 M113.654 1427.81 Q119.464 1427.81 122.52 1432.42 Q125.598 1437 125.598 1445.75 Q125.598 1454.48 122.52 1459.08 Q119.464 1463.67 113.654 1463.67 Q107.844 1463.67 104.765 1459.08 Q101.709 1454.48 101.709 1445.75 Q101.709 1437 104.765 1432.42 Q107.844 1427.81 113.654 1427.81 Z\" fill=\"#000000\" fill-rule=\"evenodd\" fill-opacity=\"1\" /><path clip-path=\"url(#clip170)\" d=\"M 0 0 M77.6818 988.868 L96.0382 988.868 L96.0382 992.803 L81.9642 992.803 L81.9642 1001.27 Q82.9827 1000.93 84.0012 1000.77 Q85.0197 1000.58 86.0382 1000.58 Q91.8252 1000.58 95.2049 1003.75 Q98.5845 1006.92 98.5845 1012.34 Q98.5845 1017.92 95.1123 1021.02 Q91.6401 1024.1 85.3206 1024.1 Q83.1447 1024.1 80.8762 1023.73 Q78.6309 1023.36 76.2235 1022.62 L76.2235 1017.92 Q78.3068 1019.05 80.529 1019.61 Q82.7512 1020.16 85.2281 1020.16 Q89.2327 1020.16 91.5706 1018.06 Q93.9086 1015.95 93.9086 1012.34 Q93.9086 1008.73 91.5706 1006.62 Q89.2327 1004.52 85.2281 1004.52 Q83.3531 1004.52 81.4781 1004.93 Q79.6262 1005.35 77.6818 1006.23 L77.6818 988.868 Z\" fill=\"#000000\" fill-rule=\"evenodd\" fill-opacity=\"1\" /><path clip-path=\"url(#clip170)\" d=\"M 0 0 M113.654 991.946 Q110.043 991.946 108.214 995.511 Q106.408 999.053 106.408 1006.18 Q106.408 1013.29 108.214 1016.85 Q110.043 1020.4 113.654 1020.4 Q117.288 1020.4 119.094 1016.85 Q120.922 1013.29 120.922 1006.18 Q120.922 999.053 119.094 995.511 Q117.288 991.946 113.654 991.946 M113.654 988.243 Q119.464 988.243 122.52 992.849 Q125.598 997.432 125.598 1006.18 Q125.598 1014.91 122.52 1019.52 Q119.464 1024.1 113.654 1024.1 Q107.844 1024.1 104.765 1019.52 Q101.709 1014.91 101.709 1006.18 Q101.709 997.432 104.765 992.849 Q107.844 988.243 113.654 988.243 Z\" fill=\"#000000\" fill-rule=\"evenodd\" fill-opacity=\"1\" /><path clip-path=\"url(#clip170)\" d=\"M 0 0 M51.6634 579.924 L59.3023 579.924 L59.3023 553.559 L50.9921 555.225 L50.9921 550.966 L59.256 549.299 L63.9319 549.299 L63.9319 579.924 L71.5707 579.924 L71.5707 583.859 L51.6634 583.859 L51.6634 579.924 Z\" fill=\"#000000\" fill-rule=\"evenodd\" fill-opacity=\"1\" /><path clip-path=\"url(#clip170)\" d=\"M 0 0 M86.6401 552.378 Q83.029 552.378 81.2003 555.943 Q79.3948 559.485 79.3948 566.614 Q79.3948 573.721 81.2003 577.285 Q83.029 580.827 86.6401 580.827 Q90.2743 580.827 92.0799 577.285 Q93.9086 573.721 93.9086 566.614 Q93.9086 559.485 92.0799 555.943 Q90.2743 552.378 86.6401 552.378 M86.6401 548.674 Q92.4502 548.674 95.5058 553.281 Q98.5845 557.864 98.5845 566.614 Q98.5845 575.341 95.5058 579.947 Q92.4502 584.531 86.6401 584.531 Q80.8299 584.531 77.7512 579.947 Q74.6957 575.341 74.6957 566.614 Q74.6957 557.864 77.7512 553.281 Q80.8299 548.674 86.6401 548.674 Z\" fill=\"#000000\" fill-rule=\"evenodd\" fill-opacity=\"1\" /><path clip-path=\"url(#clip170)\" d=\"M 0 0 M113.654 552.378 Q110.043 552.378 108.214 555.943 Q106.408 559.485 106.408 566.614 Q106.408 573.721 108.214 577.285 Q110.043 580.827 113.654 580.827 Q117.288 580.827 119.094 577.285 Q120.922 573.721 120.922 566.614 Q120.922 559.485 119.094 555.943 Q117.288 552.378 113.654 552.378 M113.654 548.674 Q119.464 548.674 122.52 553.281 Q125.598 557.864 125.598 566.614 Q125.598 575.341 122.52 579.947 Q119.464 584.531 113.654 584.531 Q107.844 584.531 104.765 579.947 Q101.709 575.341 101.709 566.614 Q101.709 557.864 104.765 553.281 Q107.844 548.674 113.654 548.674 Z\" fill=\"#000000\" fill-rule=\"evenodd\" fill-opacity=\"1\" /><path clip-path=\"url(#clip170)\" d=\"M 0 0 M52.6588 140.356 L60.2976 140.356 L60.2976 113.991 L51.9875 115.657 L51.9875 111.398 L60.2513 109.731 L64.9272 109.731 L64.9272 140.356 L72.5661 140.356 L72.5661 144.291 L52.6588 144.291 L52.6588 140.356 Z\" fill=\"#000000\" fill-rule=\"evenodd\" fill-opacity=\"1\" /><path clip-path=\"url(#clip170)\" d=\"M 0 0 M77.6818 109.731 L96.0382 109.731 L96.0382 113.666 L81.9642 113.666 L81.9642 122.139 Q82.9827 121.791 84.0012 121.629 Q85.0197 121.444 86.0382 121.444 Q91.8252 121.444 95.2049 124.615 Q98.5845 127.787 98.5845 133.203 Q98.5845 138.782 95.1123 141.884 Q91.6401 144.963 85.3206 144.963 Q83.1447 144.963 80.8762 144.592 Q78.6309 144.222 76.2235 143.481 L76.2235 138.782 Q78.3068 139.916 80.529 140.472 Q82.7512 141.027 85.2281 141.027 Q89.2327 141.027 91.5706 138.921 Q93.9086 136.814 93.9086 133.203 Q93.9086 129.592 91.5706 127.486 Q89.2327 125.379 85.2281 125.379 Q83.3531 125.379 81.4781 125.796 Q79.6262 126.213 77.6818 127.092 L77.6818 109.731 Z\" fill=\"#000000\" fill-rule=\"evenodd\" fill-opacity=\"1\" /><path clip-path=\"url(#clip170)\" d=\"M 0 0 M113.654 112.81 Q110.043 112.81 108.214 116.375 Q106.408 119.916 106.408 127.046 Q106.408 134.152 108.214 137.717 Q110.043 141.259 113.654 141.259 Q117.288 141.259 119.094 137.717 Q120.922 134.152 120.922 127.046 Q120.922 119.916 119.094 116.375 Q117.288 112.81 113.654 112.81 M113.654 109.106 Q119.464 109.106 122.52 113.713 Q125.598 118.296 125.598 127.046 Q125.598 135.773 122.52 140.379 Q119.464 144.963 113.654 144.963 Q107.844 144.963 104.765 140.379 Q101.709 135.773 101.709 127.046 Q101.709 118.296 104.765 113.713 Q107.844 109.106 113.654 109.106 Z\" fill=\"#000000\" fill-rule=\"evenodd\" fill-opacity=\"1\" /><polyline clip-path=\"url(#clip172)\" style=\"stroke:#009af9; stroke-width:4; stroke-opacity:1; fill:none\" points=\"\n",
       "  223.612,766.846 240.838,854.708 258.064,931.198 275.29,997.789 292.516,1055.76 309.743,1106.23 326.969,1150.17 344.195,1188.42 361.421,1221.72 378.647,1250.71 \n",
       "  395.873,1275.95 413.099,1297.92 430.325,1317.05 447.551,1333.7 464.777,1348.2 482.003,1360.82 499.229,1371.81 516.456,1381.37 533.682,1389.7 550.908,1396.95 \n",
       "  568.134,1403.26 585.36,1408.76 602.586,1413.54 619.812,1417.7 637.038,1421.33 654.264,1424.49 671.49,1427.23 688.716,1429.63 705.942,1431.71 723.168,1433.52 \n",
       "  740.395,1435.1 757.621,1436.47 774.847,1437.67 792.073,1438.71 809.299,1439.62 826.525,1440.41 843.751,1441.09 860.977,1441.69 878.203,1442.21 895.429,1442.67 \n",
       "  912.655,1443.06 929.881,1443.4 947.108,1443.7 964.334,1443.96 981.56,1444.19 998.786,1444.39 1016.01,1444.56 1033.24,1444.71 1050.46,1444.84 1067.69,1444.95 \n",
       "  1084.92,1445.05 1102.14,1445.14 1119.37,1445.21 1136.59,1445.28 1153.82,1445.33 1171.05,1445.38 1188.27,1445.43 1205.5,1445.46 1222.72,1445.5 1239.95,1445.52 \n",
       "  1257.18,1445.55 1274.4,1445.57 1291.63,1445.59 1308.86,1445.61 1326.08,1445.62 1343.31,1445.63 1360.53,1445.64 1377.76,1445.65 1394.99,1445.66 1412.21,1445.67 \n",
       "  1429.44,1445.67 1446.66,1445.68 1463.89,1445.68 1481.12,1445.69 1498.34,1445.69 1515.57,1445.69 1532.79,1445.7 1550.02,1445.7 1567.25,1445.7 1584.47,1445.7 \n",
       "  1601.7,1445.71 1618.92,1445.71 1636.15,1445.71 1653.38,1445.71 1670.6,1445.71 1687.83,1445.71 1705.06,1445.71 1722.28,1445.71 1739.51,1445.71 1756.73,1445.71 \n",
       "  1773.96,1445.71 1791.19,1445.71 1808.41,1445.71 1825.64,1445.71 1842.86,1445.71 1860.09,1445.71 1877.32,1445.71 1894.54,1445.71 1911.77,1445.71 1928.99,1445.71 \n",
       "  1946.22,1445.72 1963.45,1445.72 1980.67,1445.72 1997.9,1445.72 2015.12,1445.72 2032.35,1445.72 2049.58,1445.72 2066.8,1445.72 2084.03,1445.72 2101.26,1445.72 \n",
       "  2118.48,1445.72 2135.71,1445.72 2152.93,1445.72 2170.16,1445.72 2187.39,1445.72 2204.61,1445.72 2221.84,1445.72 2239.06,1445.72 2256.29,1445.72 2273.52,1445.72 \n",
       "  2290.74,1445.72 \n",
       "  \"/>\n",
       "<polyline clip-path=\"url(#clip172)\" style=\"stroke:#e26f46; stroke-width:4; stroke-opacity:1; fill:none\" stroke-dasharray=\"16, 10\" points=\"\n",
       "  223.612,1445.61 240.838,1445.61 258.064,1445.61 275.29,1445.61 292.516,1445.61 309.743,1445.61 326.969,1445.61 344.195,1445.61 361.421,1445.61 378.647,1445.61 \n",
       "  395.873,1445.61 413.099,1445.61 430.325,1445.61 447.551,1445.61 464.777,1445.61 482.003,1445.61 499.229,1445.61 516.456,1445.61 533.682,1445.61 550.908,1445.61 \n",
       "  568.134,1445.61 585.36,1445.61 602.586,1445.61 619.812,1445.61 637.038,1445.61 654.264,1445.61 671.49,1445.61 688.716,1445.61 705.942,1445.61 723.168,1445.61 \n",
       "  740.395,1445.61 757.621,1445.61 774.847,1445.61 792.073,1445.61 809.299,1445.61 826.525,1445.61 843.751,1445.61 860.977,1445.61 878.203,1445.61 895.429,1445.61 \n",
       "  912.655,1445.61 929.881,1445.61 947.108,1445.61 964.334,1445.61 981.56,1445.61 998.786,1445.61 1016.01,1445.61 1033.24,1445.61 1050.46,1445.61 1067.69,1445.61 \n",
       "  1084.92,1445.61 1102.14,1445.61 1119.37,1445.61 1136.59,1445.61 1153.82,1445.61 1171.05,1445.61 1188.27,1445.61 1205.5,1445.61 1222.72,1445.61 1239.95,1445.61 \n",
       "  1257.18,1445.61 1274.4,1445.61 1291.63,1445.61 1308.86,1445.61 1326.08,1445.61 1343.31,1445.61 1360.53,1445.61 1377.76,1445.61 1394.99,1445.61 1412.21,1445.61 \n",
       "  1429.44,1445.61 1446.66,1445.61 1463.89,1445.61 1481.12,1445.61 1498.34,1445.61 1515.57,1445.61 1532.79,1445.61 1550.02,1445.61 1567.25,1445.61 1584.47,1445.61 \n",
       "  1601.7,1445.61 1618.92,1445.61 1636.15,1445.61 1653.38,1445.61 1670.6,1445.61 1687.83,1445.61 1705.06,1445.61 1722.28,1445.61 1739.51,1445.61 1756.73,1445.61 \n",
       "  1773.96,1445.61 1791.19,1445.61 1808.41,1445.61 1825.64,1445.61 1842.86,1445.61 1860.09,1445.61 1877.32,1445.61 1894.54,1445.61 1911.77,1445.61 1928.99,1445.61 \n",
       "  1946.22,1445.61 1963.45,1445.61 1980.67,1445.61 1997.9,1445.61 2015.12,1445.61 2032.35,1445.61 2049.58,1445.61 2066.8,1445.61 2084.03,1445.61 2101.26,1445.61 \n",
       "  2118.48,1445.61 2135.71,1445.61 2152.93,1445.61 2170.16,1445.61 2187.39,1445.61 2204.61,1445.61 2221.84,1445.61 2239.06,1445.61 2256.29,1445.61 2273.52,1445.61 \n",
       "  2290.74,1445.61 \n",
       "  \"/>\n",
       "<polyline clip-path=\"url(#clip172)\" style=\"stroke:#3da44d; stroke-width:4; stroke-opacity:1; fill:none\" points=\"\n",
       "  223.612,87.9763 240.838,263.7 258.064,416.68 275.29,549.861 292.516,665.806 309.743,766.744 326.969,854.619 344.195,931.121 361.421,997.722 378.647,1055.7 \n",
       "  395.873,1106.18 413.099,1150.12 430.325,1188.38 447.551,1221.69 464.777,1250.68 482.003,1275.92 499.229,1297.9 516.456,1317.03 533.682,1333.68 550.908,1348.18 \n",
       "  568.134,1360.81 585.36,1371.8 602.586,1381.36 619.812,1389.69 637.038,1396.94 654.264,1403.25 671.49,1408.75 688.716,1413.53 705.942,1417.7 723.168,1421.33 \n",
       "  740.395,1424.48 757.621,1427.23 774.847,1429.62 792.073,1431.71 809.299,1433.52 826.525,1435.1 843.751,1436.47 860.977,1437.67 878.203,1438.71 895.429,1439.62 \n",
       "  912.655,1440.41 929.881,1441.09 947.108,1441.69 964.334,1442.21 981.56,1442.67 998.786,1443.06 1016.01,1443.4 1033.24,1443.7 1050.46,1443.96 1067.69,1444.19 \n",
       "  1084.92,1444.39 1102.14,1444.56 1119.37,1444.71 1136.59,1444.84 1153.82,1444.95 1171.05,1445.05 1188.27,1445.14 1205.5,1445.21 1222.72,1445.28 1239.95,1445.33 \n",
       "  1257.18,1445.38 1274.4,1445.43 1291.63,1445.46 1308.86,1445.5 1326.08,1445.52 1343.31,1445.55 1360.53,1445.57 1377.76,1445.59 1394.99,1445.61 1412.21,1445.62 \n",
       "  1429.44,1445.63 1446.66,1445.64 1463.89,1445.65 1481.12,1445.66 1498.34,1445.67 1515.57,1445.67 1532.79,1445.68 1550.02,1445.68 1567.25,1445.69 1584.47,1445.69 \n",
       "  1601.7,1445.69 1618.92,1445.7 1636.15,1445.7 1653.38,1445.7 1670.6,1445.7 1687.83,1445.71 1705.06,1445.71 1722.28,1445.71 1739.51,1445.71 1756.73,1445.71 \n",
       "  1773.96,1445.71 1791.19,1445.71 1808.41,1445.71 1825.64,1445.71 1842.86,1445.71 1860.09,1445.71 1877.32,1445.71 1894.54,1445.71 1911.77,1445.71 1928.99,1445.71 \n",
       "  1946.22,1445.71 1963.45,1445.71 1980.67,1445.71 1997.9,1445.71 2015.12,1445.71 2032.35,1445.72 2049.58,1445.72 2066.8,1445.72 2084.03,1445.72 2101.26,1445.72 \n",
       "  2118.48,1445.72 2135.71,1445.72 2152.93,1445.72 2170.16,1445.72 2187.39,1445.72 2204.61,1445.72 2221.84,1445.72 2239.06,1445.72 2256.29,1445.72 2273.52,1445.72 \n",
       "  2290.74,1445.72 \n",
       "  \"/>\n",
       "<polyline clip-path=\"url(#clip172)\" style=\"stroke:#c271d2; stroke-width:4; stroke-opacity:1; fill:none\" points=\"\n",
       "  223.612,1106.28 240.838,1150.21 258.064,1188.46 275.29,1221.75 292.516,1250.74 309.743,1275.97 326.969,1297.94 344.195,1317.07 361.421,1333.72 378.647,1348.21 \n",
       "  395.873,1360.83 413.099,1371.82 430.325,1381.38 447.551,1389.71 464.777,1396.96 482.003,1403.27 499.229,1408.76 516.456,1413.54 533.682,1417.71 550.908,1421.33 \n",
       "  568.134,1424.49 585.36,1427.24 602.586,1429.63 619.812,1431.71 637.038,1433.52 654.264,1435.1 671.49,1436.47 688.716,1437.67 705.942,1438.71 723.168,1439.62 \n",
       "  740.395,1440.41 757.621,1441.09 774.847,1441.69 792.073,1442.21 809.299,1442.67 826.525,1443.06 843.751,1443.4 860.977,1443.7 878.203,1443.96 895.429,1444.19 \n",
       "  912.655,1444.39 929.881,1444.56 947.108,1444.71 964.334,1444.84 981.56,1444.95 998.786,1445.05 1016.01,1445.14 1033.24,1445.21 1050.46,1445.28 1067.69,1445.33 \n",
       "  1084.92,1445.38 1102.14,1445.43 1119.37,1445.46 1136.59,1445.5 1153.82,1445.53 1171.05,1445.55 1188.27,1445.57 1205.5,1445.59 1222.72,1445.61 1239.95,1445.62 \n",
       "  1257.18,1445.63 1274.4,1445.64 1291.63,1445.65 1308.86,1445.66 1326.08,1445.67 1343.31,1445.67 1360.53,1445.68 1377.76,1445.68 1394.99,1445.69 1412.21,1445.69 \n",
       "  1429.44,1445.69 1446.66,1445.7 1463.89,1445.7 1481.12,1445.7 1498.34,1445.7 1515.57,1445.71 1532.79,1445.71 1550.02,1445.71 1567.25,1445.71 1584.47,1445.71 \n",
       "  1601.7,1445.71 1618.92,1445.71 1636.15,1445.71 1653.38,1445.71 1670.6,1445.71 1687.83,1445.71 1705.06,1445.71 1722.28,1445.71 1739.51,1445.71 1756.73,1445.71 \n",
       "  1773.96,1445.71 1791.19,1445.71 1808.41,1445.71 1825.64,1445.71 1842.86,1445.71 1860.09,1445.72 1877.32,1445.72 1894.54,1445.72 1911.77,1445.72 1928.99,1445.72 \n",
       "  1946.22,1445.72 1963.45,1445.72 1980.67,1445.72 1997.9,1445.72 2015.12,1445.72 2032.35,1445.72 2049.58,1445.72 2066.8,1445.72 2084.03,1445.72 2101.26,1445.72 \n",
       "  2118.48,1445.72 2135.71,1445.72 2152.93,1445.72 2170.16,1445.72 2187.39,1445.72 2204.61,1445.72 2221.84,1445.72 2239.06,1445.72 2256.29,1445.72 2273.52,1445.72 \n",
       "  2290.74,1445.72 \n",
       "  \"/>\n",
       "<path clip-path=\"url(#clip170)\" d=\"\n",
       "M1839.5 397.618 L2279.72 397.618 L2279.72 95.2176 L1839.5 95.2176  Z\n",
       "  \" fill=\"#ffffff\" fill-rule=\"evenodd\" fill-opacity=\"1\"/>\n",
       "<polyline clip-path=\"url(#clip170)\" style=\"stroke:#000000; stroke-width:4; stroke-opacity:1; fill:none\" points=\"\n",
       "  1839.5,397.618 2279.72,397.618 2279.72,95.2176 1839.5,95.2176 1839.5,397.618 \n",
       "  \"/>\n",
       "<polyline clip-path=\"url(#clip170)\" style=\"stroke:#009af9; stroke-width:4; stroke-opacity:1; fill:none\" points=\"\n",
       "  1863.84,155.698 2009.92,155.698 \n",
       "  \"/>\n",
       "<path clip-path=\"url(#clip170)\" d=\"M 0 0 M2046.6 153.834 Q2043.46 153.834 2041.6 155.987 Q2039.78 158.14 2039.78 161.89 Q2039.78 165.616 2041.6 167.792 Q2043.46 169.945 2046.6 169.945 Q2049.75 169.945 2051.58 167.792 Q2053.43 165.616 2053.43 161.89 Q2053.43 158.14 2051.58 155.987 Q2049.75 153.834 2046.6 153.834 M2055.89 139.181 L2055.89 143.441 Q2054.13 142.607 2052.32 142.168 Q2050.54 141.728 2048.78 141.728 Q2044.15 141.728 2041.7 144.853 Q2039.27 147.978 2038.92 154.297 Q2040.29 152.283 2042.35 151.218 Q2044.41 150.13 2046.88 150.13 Q2052.09 150.13 2055.1 153.302 Q2058.13 156.45 2058.13 161.89 Q2058.13 167.214 2054.98 170.431 Q2051.84 173.649 2046.6 173.649 Q2040.61 173.649 2037.44 169.066 Q2034.27 164.459 2034.27 155.732 Q2034.27 147.538 2038.16 142.677 Q2042.04 137.793 2048.6 137.793 Q2050.35 137.793 2052.14 138.14 Q2053.94 138.487 2055.89 139.181 Z\" fill=\"#000000\" fill-rule=\"evenodd\" fill-opacity=\"1\" /><path clip-path=\"url(#clip170)\" d=\"M 0 0 M2073.2 141.496 Q2069.59 141.496 2067.76 145.061 Q2065.96 148.603 2065.96 155.732 Q2065.96 162.839 2067.76 166.404 Q2069.59 169.945 2073.2 169.945 Q2076.84 169.945 2078.64 166.404 Q2080.47 162.839 2080.47 155.732 Q2080.47 148.603 2078.64 145.061 Q2076.84 141.496 2073.2 141.496 M2073.2 137.793 Q2079.01 137.793 2082.07 142.399 Q2085.15 146.982 2085.15 155.732 Q2085.15 164.459 2082.07 169.066 Q2079.01 173.649 2073.2 173.649 Q2067.39 173.649 2064.31 169.066 Q2061.26 164.459 2061.26 155.732 Q2061.26 146.982 2064.31 142.399 Q2067.39 137.793 2073.2 137.793 Z\" fill=\"#000000\" fill-rule=\"evenodd\" fill-opacity=\"1\" /><path clip-path=\"url(#clip170)\" d=\"M 0 0 M2100.22 141.496 Q2096.6 141.496 2094.78 145.061 Q2092.97 148.603 2092.97 155.732 Q2092.97 162.839 2094.78 166.404 Q2096.6 169.945 2100.22 169.945 Q2103.85 169.945 2105.66 166.404 Q2107.48 162.839 2107.48 155.732 Q2107.48 148.603 2105.66 145.061 Q2103.85 141.496 2100.22 141.496 M2100.22 137.793 Q2106.03 137.793 2109.08 142.399 Q2112.16 146.982 2112.16 155.732 Q2112.16 164.459 2109.08 169.066 Q2106.03 173.649 2100.22 173.649 Q2094.41 173.649 2091.33 169.066 Q2088.27 164.459 2088.27 155.732 Q2088.27 146.982 2091.33 142.399 Q2094.41 137.793 2100.22 137.793 Z\" fill=\"#000000\" fill-rule=\"evenodd\" fill-opacity=\"1\" /><path clip-path=\"url(#clip170)\" d=\"M 0 0 M2151.88 152.029 Q2153.48 149.158 2155.7 147.793 Q2157.92 146.427 2160.93 146.427 Q2164.98 146.427 2167.18 149.274 Q2169.38 152.098 2169.38 157.329 L2169.38 172.978 L2165.1 172.978 L2165.1 157.468 Q2165.1 153.742 2163.78 151.936 Q2162.46 150.13 2159.75 150.13 Q2156.44 150.13 2154.52 152.33 Q2152.6 154.529 2152.6 158.325 L2152.6 172.978 L2148.32 172.978 L2148.32 157.468 Q2148.32 153.718 2147 151.936 Q2145.68 150.13 2142.92 150.13 Q2139.66 150.13 2137.74 152.353 Q2135.82 154.552 2135.82 158.325 L2135.82 172.978 L2131.53 172.978 L2131.53 147.052 L2135.82 147.052 L2135.82 151.08 Q2137.28 148.695 2139.31 147.561 Q2141.35 146.427 2144.15 146.427 Q2146.97 146.427 2148.94 147.862 Q2150.93 149.297 2151.88 152.029 Z\" fill=\"#000000\" fill-rule=\"evenodd\" fill-opacity=\"1\" /><path clip-path=\"url(#clip170)\" d=\"M 0 0 M2190.91 159.714 Q2190.91 155.084 2188.99 152.538 Q2187.09 149.992 2183.64 149.992 Q2180.22 149.992 2178.29 152.538 Q2176.4 155.084 2176.4 159.714 Q2176.4 164.32 2178.29 166.866 Q2180.22 169.413 2183.64 169.413 Q2187.09 169.413 2188.99 166.866 Q2190.91 164.32 2190.91 159.714 M2195.17 169.76 Q2195.17 176.38 2192.23 179.598 Q2189.29 182.839 2183.22 182.839 Q2180.98 182.839 2178.99 182.491 Q2177 182.167 2175.12 181.473 L2175.12 177.329 Q2177 178.348 2178.83 178.834 Q2180.65 179.32 2182.55 179.32 Q2186.74 179.32 2188.83 177.121 Q2190.91 174.945 2190.91 170.524 L2190.91 168.417 Q2189.59 170.709 2187.53 171.843 Q2185.47 172.978 2182.6 172.978 Q2177.83 172.978 2174.91 169.343 Q2172 165.709 2172 159.714 Q2172 153.695 2174.91 150.061 Q2177.83 146.427 2182.6 146.427 Q2185.47 146.427 2187.53 147.561 Q2189.59 148.695 2190.91 150.987 L2190.91 147.052 L2195.17 147.052 L2195.17 169.76 Z\" fill=\"#000000\" fill-rule=\"evenodd\" fill-opacity=\"1\" /><polyline clip-path=\"url(#clip170)\" style=\"stroke:#e26f46; stroke-width:4; stroke-opacity:1; fill:none\" stroke-dasharray=\"16, 10\" points=\"\n",
       "  1863.84,216.178 2009.92,216.178 \n",
       "  \"/>\n",
       "<path clip-path=\"url(#clip170)\" d=\"M 0 0 M2034.27 198.898 L2041.23 198.898 L2050.05 222.416 L2058.92 198.898 L2065.89 198.898 L2065.89 233.458 L2061.33 233.458 L2061.33 203.11 L2052.41 226.814 L2047.72 226.814 L2038.8 203.11 L2038.8 233.458 L2034.27 233.458 L2034.27 198.898 Z\" fill=\"#000000\" fill-rule=\"evenodd\" fill-opacity=\"1\" /><path clip-path=\"url(#clip170)\" d=\"M 0 0 M2070.54 198.898 L2075.22 198.898 L2075.22 233.458 L2070.54 233.458 L2070.54 198.898 Z\" fill=\"#000000\" fill-rule=\"evenodd\" fill-opacity=\"1\" /><path clip-path=\"url(#clip170)\" d=\"M 0 0 M2105.75 201.56 L2105.75 206.49 Q2103.39 204.291 2100.7 203.203 Q2098.04 202.115 2095.03 202.115 Q2089.1 202.115 2085.96 205.749 Q2082.81 209.36 2082.81 216.212 Q2082.81 223.041 2085.96 226.675 Q2089.1 230.286 2095.03 230.286 Q2098.04 230.286 2100.7 229.198 Q2103.39 228.11 2105.75 225.911 L2105.75 230.796 Q2103.29 232.462 2100.54 233.296 Q2097.81 234.129 2094.75 234.129 Q2086.91 234.129 2082.39 229.337 Q2077.88 224.522 2077.88 216.212 Q2077.88 207.879 2082.39 203.087 Q2086.91 198.273 2094.75 198.273 Q2097.85 198.273 2100.59 199.106 Q2103.34 199.916 2105.75 201.56 Z\" fill=\"#000000\" fill-rule=\"evenodd\" fill-opacity=\"1\" /><polyline clip-path=\"url(#clip170)\" style=\"stroke:#3da44d; stroke-width:4; stroke-opacity:1; fill:none\" points=\"\n",
       "  1863.84,276.658 2009.92,276.658 \n",
       "  \"/>\n",
       "<path clip-path=\"url(#clip170)\" d=\"M 0 0 M2034.94 290.002 L2042.58 290.002 L2042.58 263.637 L2034.27 265.303 L2034.27 261.044 L2042.53 259.378 L2047.21 259.378 L2047.21 290.002 L2054.85 290.002 L2054.85 293.938 L2034.94 293.938 L2034.94 290.002 Z\" fill=\"#000000\" fill-rule=\"evenodd\" fill-opacity=\"1\" /><path clip-path=\"url(#clip170)\" d=\"M 0 0 M2063.94 290.002 L2080.26 290.002 L2080.26 293.938 L2058.32 293.938 L2058.32 290.002 Q2060.98 287.248 2065.56 282.618 Q2070.17 277.965 2071.35 276.623 Q2073.6 274.1 2074.47 272.364 Q2075.38 270.604 2075.38 268.915 Q2075.38 266.16 2073.43 264.424 Q2071.51 262.688 2068.41 262.688 Q2066.21 262.688 2063.76 263.452 Q2061.33 264.215 2058.55 265.766 L2058.55 261.044 Q2061.37 259.91 2063.83 259.331 Q2066.28 258.753 2068.32 258.753 Q2073.69 258.753 2076.88 261.438 Q2080.08 264.123 2080.08 268.614 Q2080.08 270.743 2079.27 272.665 Q2078.48 274.563 2076.37 277.155 Q2075.79 277.827 2072.69 281.044 Q2069.59 284.239 2063.94 290.002 Z\" fill=\"#000000\" fill-rule=\"evenodd\" fill-opacity=\"1\" /><path clip-path=\"url(#clip170)\" d=\"M 0 0 M2095.33 262.456 Q2091.72 262.456 2089.89 266.021 Q2088.09 269.563 2088.09 276.692 Q2088.09 283.799 2089.89 287.364 Q2091.72 290.905 2095.33 290.905 Q2098.97 290.905 2100.77 287.364 Q2102.6 283.799 2102.6 276.692 Q2102.6 269.563 2100.77 266.021 Q2098.97 262.456 2095.33 262.456 M2095.33 258.753 Q2101.14 258.753 2104.2 263.359 Q2107.28 267.942 2107.28 276.692 Q2107.28 285.419 2104.2 290.026 Q2101.14 294.609 2095.33 294.609 Q2089.52 294.609 2086.44 290.026 Q2083.39 285.419 2083.39 276.692 Q2083.39 267.942 2086.44 263.359 Q2089.52 258.753 2095.33 258.753 Z\" fill=\"#000000\" fill-rule=\"evenodd\" fill-opacity=\"1\" /><path clip-path=\"url(#clip170)\" d=\"M 0 0 M2122.34 262.456 Q2118.73 262.456 2116.91 266.021 Q2115.1 269.563 2115.1 276.692 Q2115.1 283.799 2116.91 287.364 Q2118.73 290.905 2122.34 290.905 Q2125.98 290.905 2127.78 287.364 Q2129.61 283.799 2129.61 276.692 Q2129.61 269.563 2127.78 266.021 Q2125.98 262.456 2122.34 262.456 M2122.34 258.753 Q2128.16 258.753 2131.21 263.359 Q2134.29 267.942 2134.29 276.692 Q2134.29 285.419 2131.21 290.026 Q2128.16 294.609 2122.34 294.609 Q2116.53 294.609 2113.46 290.026 Q2110.4 285.419 2110.4 276.692 Q2110.4 267.942 2113.46 263.359 Q2116.53 258.753 2122.34 258.753 Z\" fill=\"#000000\" fill-rule=\"evenodd\" fill-opacity=\"1\" /><path clip-path=\"url(#clip170)\" d=\"M 0 0 M2174.01 272.989 Q2175.61 270.118 2177.83 268.753 Q2180.05 267.387 2183.06 267.387 Q2187.11 267.387 2189.31 270.234 Q2191.51 273.058 2191.51 278.289 L2191.51 293.938 L2187.23 293.938 L2187.23 278.428 Q2187.23 274.702 2185.91 272.896 Q2184.59 271.09 2181.88 271.09 Q2178.57 271.09 2176.65 273.29 Q2174.73 275.489 2174.73 279.285 L2174.73 293.938 L2170.45 293.938 L2170.45 278.428 Q2170.45 274.678 2169.13 272.896 Q2167.81 271.09 2165.05 271.09 Q2161.79 271.09 2159.87 273.313 Q2157.95 275.512 2157.95 279.285 L2157.95 293.938 L2153.66 293.938 L2153.66 268.012 L2157.95 268.012 L2157.95 272.04 Q2159.4 269.655 2161.44 268.521 Q2163.48 267.387 2166.28 267.387 Q2169.1 267.387 2171.07 268.822 Q2173.06 270.257 2174.01 272.989 Z\" fill=\"#000000\" fill-rule=\"evenodd\" fill-opacity=\"1\" /><path clip-path=\"url(#clip170)\" d=\"M 0 0 M2213.04 280.674 Q2213.04 276.044 2211.12 273.498 Q2209.22 270.952 2205.77 270.952 Q2202.34 270.952 2200.42 273.498 Q2198.53 276.044 2198.53 280.674 Q2198.53 285.28 2200.42 287.826 Q2202.34 290.373 2205.77 290.373 Q2209.22 290.373 2211.12 287.826 Q2213.04 285.28 2213.04 280.674 M2217.3 290.72 Q2217.3 297.34 2214.36 300.558 Q2211.42 303.799 2205.35 303.799 Q2203.11 303.799 2201.12 303.451 Q2199.13 303.127 2197.25 302.433 L2197.25 298.289 Q2199.13 299.308 2200.96 299.794 Q2202.78 300.28 2204.68 300.28 Q2208.87 300.28 2210.96 298.081 Q2213.04 295.905 2213.04 291.484 L2213.04 289.377 Q2211.72 291.669 2209.66 292.803 Q2207.6 293.938 2204.73 293.938 Q2199.96 293.938 2197.04 290.303 Q2194.13 286.669 2194.13 280.674 Q2194.13 274.655 2197.04 271.021 Q2199.96 267.387 2204.73 267.387 Q2207.6 267.387 2209.66 268.521 Q2211.72 269.655 2213.04 271.947 L2213.04 268.012 L2217.3 268.012 L2217.3 290.72 Z\" fill=\"#000000\" fill-rule=\"evenodd\" fill-opacity=\"1\" /><polyline clip-path=\"url(#clip170)\" style=\"stroke:#c271d2; stroke-width:4; stroke-opacity:1; fill:none\" points=\"\n",
       "  1863.84,337.138 2009.92,337.138 \n",
       "  \"/>\n",
       "<path clip-path=\"url(#clip170)\" d=\"M 0 0 M2049.89 335.783 Q2053.25 336.501 2055.12 338.769 Q2057.02 341.038 2057.02 344.371 Q2057.02 349.487 2053.5 352.288 Q2049.98 355.089 2043.5 355.089 Q2041.33 355.089 2039.01 354.649 Q2036.72 354.232 2034.27 353.376 L2034.27 348.862 Q2036.21 349.996 2038.53 350.575 Q2040.84 351.154 2043.36 351.154 Q2047.76 351.154 2050.05 349.418 Q2052.37 347.681 2052.37 344.371 Q2052.37 341.316 2050.22 339.603 Q2048.09 337.867 2044.27 337.867 L2040.24 337.867 L2040.24 334.024 L2044.45 334.024 Q2047.9 334.024 2049.73 332.658 Q2051.56 331.27 2051.56 328.677 Q2051.56 326.015 2049.66 324.603 Q2047.79 323.168 2044.27 323.168 Q2042.35 323.168 2040.15 323.584 Q2037.95 324.001 2035.31 324.881 L2035.31 320.714 Q2037.97 319.973 2040.29 319.603 Q2042.62 319.233 2044.68 319.233 Q2050.01 319.233 2053.11 321.663 Q2056.21 324.07 2056.21 328.191 Q2056.21 331.061 2054.57 333.052 Q2052.92 335.02 2049.89 335.783 Z\" fill=\"#000000\" fill-rule=\"evenodd\" fill-opacity=\"1\" /><path clip-path=\"url(#clip170)\" d=\"M 0 0 M2072.09 322.936 Q2068.48 322.936 2066.65 326.501 Q2064.85 330.043 2064.85 337.172 Q2064.85 344.279 2066.65 347.844 Q2068.48 351.385 2072.09 351.385 Q2075.72 351.385 2077.53 347.844 Q2079.36 344.279 2079.36 337.172 Q2079.36 330.043 2077.53 326.501 Q2075.72 322.936 2072.09 322.936 M2072.09 319.233 Q2077.9 319.233 2080.96 323.839 Q2084.03 328.422 2084.03 337.172 Q2084.03 345.899 2080.96 350.506 Q2077.9 355.089 2072.09 355.089 Q2066.28 355.089 2063.2 350.506 Q2060.15 345.899 2060.15 337.172 Q2060.15 328.422 2063.2 323.839 Q2066.28 319.233 2072.09 319.233 Z\" fill=\"#000000\" fill-rule=\"evenodd\" fill-opacity=\"1\" /><path clip-path=\"url(#clip170)\" d=\"M 0 0 M2099.1 322.936 Q2095.49 322.936 2093.66 326.501 Q2091.86 330.043 2091.86 337.172 Q2091.86 344.279 2093.66 347.844 Q2095.49 351.385 2099.1 351.385 Q2102.74 351.385 2104.54 347.844 Q2106.37 344.279 2106.37 337.172 Q2106.37 330.043 2104.54 326.501 Q2102.74 322.936 2099.1 322.936 M2099.1 319.233 Q2104.91 319.233 2107.97 323.839 Q2111.05 328.422 2111.05 337.172 Q2111.05 345.899 2107.97 350.506 Q2104.91 355.089 2099.1 355.089 Q2093.29 355.089 2090.22 350.506 Q2087.16 345.899 2087.16 337.172 Q2087.16 328.422 2090.22 323.839 Q2093.29 319.233 2099.1 319.233 Z\" fill=\"#000000\" fill-rule=\"evenodd\" fill-opacity=\"1\" /><path clip-path=\"url(#clip170)\" d=\"M 0 0 M2116.12 348.538 L2121 348.538 L2121 354.418 L2116.12 354.418 L2116.12 348.538 Z\" fill=\"#000000\" fill-rule=\"evenodd\" fill-opacity=\"1\" /><path clip-path=\"url(#clip170)\" d=\"M 0 0 M2136.07 322.936 Q2132.46 322.936 2130.63 326.501 Q2128.83 330.043 2128.83 337.172 Q2128.83 344.279 2130.63 347.844 Q2132.46 351.385 2136.07 351.385 Q2139.71 351.385 2141.51 347.844 Q2143.34 344.279 2143.34 337.172 Q2143.34 330.043 2141.51 326.501 Q2139.71 322.936 2136.07 322.936 M2136.07 319.233 Q2141.88 319.233 2144.94 323.839 Q2148.02 328.422 2148.02 337.172 Q2148.02 345.899 2144.94 350.506 Q2141.88 355.089 2136.07 355.089 Q2130.26 355.089 2127.18 350.506 Q2124.13 345.899 2124.13 337.172 Q2124.13 328.422 2127.18 323.839 Q2130.26 319.233 2136.07 319.233 Z\" fill=\"#000000\" fill-rule=\"evenodd\" fill-opacity=\"1\" /><path clip-path=\"url(#clip170)\" d=\"M 0 0 M2187.74 333.469 Q2189.34 330.598 2191.56 329.233 Q2193.78 327.867 2196.79 327.867 Q2200.84 327.867 2203.04 330.714 Q2205.24 333.538 2205.24 338.769 L2205.24 354.418 L2200.96 354.418 L2200.96 338.908 Q2200.96 335.182 2199.64 333.376 Q2198.32 331.57 2195.61 331.57 Q2192.3 331.57 2190.38 333.77 Q2188.46 335.969 2188.46 339.765 L2188.46 354.418 L2184.17 354.418 L2184.17 338.908 Q2184.17 335.158 2182.85 333.376 Q2181.53 331.57 2178.78 331.57 Q2175.52 331.57 2173.59 333.793 Q2171.67 335.992 2171.67 339.765 L2171.67 354.418 L2167.39 354.418 L2167.39 328.492 L2171.67 328.492 L2171.67 332.52 Q2173.13 330.135 2175.17 329.001 Q2177.21 327.867 2180.01 327.867 Q2182.83 327.867 2184.8 329.302 Q2186.79 330.737 2187.74 333.469 Z\" fill=\"#000000\" fill-rule=\"evenodd\" fill-opacity=\"1\" /><path clip-path=\"url(#clip170)\" d=\"M 0 0 M2226.77 341.154 Q2226.77 336.524 2224.84 333.978 Q2222.95 331.432 2219.5 331.432 Q2216.07 331.432 2214.15 333.978 Q2212.25 336.524 2212.25 341.154 Q2212.25 345.76 2214.15 348.306 Q2216.07 350.853 2219.5 350.853 Q2222.95 350.853 2224.84 348.306 Q2226.77 345.76 2226.77 341.154 M2231.02 351.2 Q2231.02 357.82 2228.09 361.038 Q2225.15 364.279 2219.08 364.279 Q2216.84 364.279 2214.84 363.931 Q2212.85 363.607 2210.98 362.913 L2210.98 358.769 Q2212.85 359.788 2214.68 360.274 Q2216.51 360.76 2218.41 360.76 Q2222.6 360.76 2224.68 358.561 Q2226.77 356.385 2226.77 351.964 L2226.77 349.857 Q2225.45 352.149 2223.39 353.283 Q2221.33 354.418 2218.46 354.418 Q2213.69 354.418 2210.77 350.783 Q2207.85 347.149 2207.85 341.154 Q2207.85 335.135 2210.77 331.501 Q2213.69 327.867 2218.46 327.867 Q2221.33 327.867 2223.39 329.001 Q2225.45 330.135 2226.77 332.427 L2226.77 328.492 L2231.02 328.492 L2231.02 351.2 Z\" fill=\"#000000\" fill-rule=\"evenodd\" fill-opacity=\"1\" /></svg>\n"
      ]
     },
     "execution_count": 719,
     "metadata": {},
     "output_type": "execute_result"
    }
   ],
   "source": [
    "plot!(t_plot, data2, label=\"$X₂ mg\")\n",
    "plot!(t_plot, data3, label=\"$X₃ mg\")"
   ]
  },
  {
   "cell_type": "markdown",
   "metadata": {},
   "source": [
    "Można się teraz zastanowić po jakim czasie dla danej dawki należałoby ją powtórzyć. Będzie to moment gdy osiągniemy  minimalne stężenie hamujące ponieważ wtedy osiągniemy najmniejsze stężenie które będzie hamować rozwój naszych bakterii."
   ]
  },
  {
   "cell_type": "markdown",
   "metadata": {},
   "source": [
    "Skorzystamy w tym celu z wzoru $\\mathrm{ln}C  = \\mathrm{ln}C_0 -\\mathrm{K} \\cdot t $, wtedy:\n",
    "$$ t = \\frac{\\mathrm{ln}\\left(\\frac{C_0}{C}\\right)}{\\mathrm{K}} $$"
   ]
  },
  {
   "cell_type": "code",
   "execution_count": 720,
   "metadata": {},
   "outputs": [
    {
     "data": {
      "text/plain": [
       "time (generic function with 1 method)"
      ]
     },
     "execution_count": 720,
     "metadata": {},
     "output_type": "execute_result"
    }
   ],
   "source": [
    "function time(C, K, X₀, V)\n",
    "    return log(beginC(X₀, V)/C)/K\n",
    "end"
   ]
  },
  {
   "cell_type": "code",
   "execution_count": 721,
   "metadata": {},
   "outputs": [],
   "source": [
    "time₀ = time(MIC, K, X₀, V)\n",
    "time₂ = time(MIC, K, X₂, V)\n",
    "time₃ = time(MIC, K, X₃, V);"
   ]
  },
  {
   "cell_type": "code",
   "execution_count": 722,
   "metadata": {},
   "outputs": [
    {
     "data": {
      "image/svg+xml": [
       "<?xml version=\"1.0\" encoding=\"utf-8\"?>\n",
       "<svg xmlns=\"http://www.w3.org/2000/svg\" xmlns:xlink=\"http://www.w3.org/1999/xlink\" width=\"600\" height=\"400\" viewBox=\"0 0 2400 1600\">\n",
       "<defs>\n",
       "  <clipPath id=\"clip210\">\n",
       "    <rect x=\"0\" y=\"0\" width=\"2400\" height=\"1600\"/>\n",
       "  </clipPath>\n",
       "</defs>\n",
       "<path clip-path=\"url(#clip210)\" d=\"\n",
       "M0 1600 L2400 1600 L2400 0 L0 0  Z\n",
       "  \" fill=\"#ffffff\" fill-rule=\"evenodd\" fill-opacity=\"1\"/>\n",
       "<defs>\n",
       "  <clipPath id=\"clip211\">\n",
       "    <rect x=\"480\" y=\"0\" width=\"1681\" height=\"1600\"/>\n",
       "  </clipPath>\n",
       "</defs>\n",
       "<path clip-path=\"url(#clip210)\" d=\"\n",
       "M161.598 1486.45 L2352.76 1486.45 L2352.76 47.2441 L161.598 47.2441  Z\n",
       "  \" fill=\"#ffffff\" fill-rule=\"evenodd\" fill-opacity=\"1\"/>\n",
       "<defs>\n",
       "  <clipPath id=\"clip212\">\n",
       "    <rect x=\"161\" y=\"47\" width=\"2192\" height=\"1440\"/>\n",
       "  </clipPath>\n",
       "</defs>\n",
       "<polyline clip-path=\"url(#clip212)\" style=\"stroke:#000000; stroke-width:2; stroke-opacity:0.1; fill:none\" points=\"\n",
       "  223.612,1486.45 223.612,47.2441 \n",
       "  \"/>\n",
       "<polyline clip-path=\"url(#clip212)\" style=\"stroke:#000000; stroke-width:2; stroke-opacity:0.1; fill:none\" points=\"\n",
       "  654.264,1486.45 654.264,47.2441 \n",
       "  \"/>\n",
       "<polyline clip-path=\"url(#clip212)\" style=\"stroke:#000000; stroke-width:2; stroke-opacity:0.1; fill:none\" points=\"\n",
       "  1084.92,1486.45 1084.92,47.2441 \n",
       "  \"/>\n",
       "<polyline clip-path=\"url(#clip212)\" style=\"stroke:#000000; stroke-width:2; stroke-opacity:0.1; fill:none\" points=\"\n",
       "  1515.57,1486.45 1515.57,47.2441 \n",
       "  \"/>\n",
       "<polyline clip-path=\"url(#clip212)\" style=\"stroke:#000000; stroke-width:2; stroke-opacity:0.1; fill:none\" points=\"\n",
       "  1946.22,1486.45 1946.22,47.2441 \n",
       "  \"/>\n",
       "<polyline clip-path=\"url(#clip210)\" style=\"stroke:#000000; stroke-width:4; stroke-opacity:1; fill:none\" points=\"\n",
       "  161.598,1486.45 2352.76,1486.45 \n",
       "  \"/>\n",
       "<polyline clip-path=\"url(#clip210)\" style=\"stroke:#000000; stroke-width:4; stroke-opacity:1; fill:none\" points=\"\n",
       "  223.612,1486.45 223.612,1469.18 \n",
       "  \"/>\n",
       "<polyline clip-path=\"url(#clip210)\" style=\"stroke:#000000; stroke-width:4; stroke-opacity:1; fill:none\" points=\"\n",
       "  654.264,1486.45 654.264,1469.18 \n",
       "  \"/>\n",
       "<polyline clip-path=\"url(#clip210)\" style=\"stroke:#000000; stroke-width:4; stroke-opacity:1; fill:none\" points=\"\n",
       "  1084.92,1486.45 1084.92,1469.18 \n",
       "  \"/>\n",
       "<polyline clip-path=\"url(#clip210)\" style=\"stroke:#000000; stroke-width:4; stroke-opacity:1; fill:none\" points=\"\n",
       "  1515.57,1486.45 1515.57,1469.18 \n",
       "  \"/>\n",
       "<polyline clip-path=\"url(#clip210)\" style=\"stroke:#000000; stroke-width:4; stroke-opacity:1; fill:none\" points=\"\n",
       "  1946.22,1486.45 1946.22,1469.18 \n",
       "  \"/>\n",
       "<path clip-path=\"url(#clip210)\" d=\"M 0 0 M205.128 1515.64 Q201.517 1515.64 199.689 1519.2 Q197.883 1522.75 197.883 1529.87 Q197.883 1536.98 199.689 1540.55 Q201.517 1544.09 205.128 1544.09 Q208.763 1544.09 210.568 1540.55 Q212.397 1536.98 212.397 1529.87 Q212.397 1522.75 210.568 1519.2 Q208.763 1515.64 205.128 1515.64 M205.128 1511.93 Q210.939 1511.93 213.994 1516.54 Q217.073 1521.12 217.073 1529.87 Q217.073 1538.6 213.994 1543.21 Q210.939 1547.79 205.128 1547.79 Q199.318 1547.79 196.24 1543.21 Q193.184 1538.6 193.184 1529.87 Q193.184 1521.12 196.24 1516.54 Q199.318 1511.93 205.128 1511.93 Z\" fill=\"#000000\" fill-rule=\"evenodd\" fill-opacity=\"1\" /><path clip-path=\"url(#clip210)\" d=\"M 0 0 M222.142 1541.24 L227.026 1541.24 L227.026 1547.12 L222.142 1547.12 L222.142 1541.24 Z\" fill=\"#000000\" fill-rule=\"evenodd\" fill-opacity=\"1\" /><path clip-path=\"url(#clip210)\" d=\"M 0 0 M242.096 1515.64 Q238.485 1515.64 236.656 1519.2 Q234.85 1522.75 234.85 1529.87 Q234.85 1536.98 236.656 1540.55 Q238.485 1544.09 242.096 1544.09 Q245.73 1544.09 247.536 1540.55 Q249.364 1536.98 249.364 1529.87 Q249.364 1522.75 247.536 1519.2 Q245.73 1515.64 242.096 1515.64 M242.096 1511.93 Q247.906 1511.93 250.961 1516.54 Q254.04 1521.12 254.04 1529.87 Q254.04 1538.6 250.961 1543.21 Q247.906 1547.79 242.096 1547.79 Q236.286 1547.79 233.207 1543.21 Q230.151 1538.6 230.151 1529.87 Q230.151 1521.12 233.207 1516.54 Q236.286 1511.93 242.096 1511.93 Z\" fill=\"#000000\" fill-rule=\"evenodd\" fill-opacity=\"1\" /><path clip-path=\"url(#clip210)\" d=\"M 0 0 M630.931 1543.18 L647.25 1543.18 L647.25 1547.12 L625.306 1547.12 L625.306 1543.18 Q627.968 1540.43 632.551 1535.8 Q637.158 1531.15 638.338 1529.81 Q640.584 1527.28 641.463 1525.55 Q642.366 1523.79 642.366 1522.1 Q642.366 1519.34 640.422 1517.61 Q638.5 1515.87 635.399 1515.87 Q633.199 1515.87 630.746 1516.63 Q628.315 1517.4 625.537 1518.95 L625.537 1514.23 Q628.362 1513.09 630.815 1512.51 Q633.269 1511.93 635.306 1511.93 Q640.676 1511.93 643.871 1514.62 Q647.065 1517.31 647.065 1521.8 Q647.065 1523.93 646.255 1525.85 Q645.468 1527.74 643.361 1530.34 Q642.783 1531.01 639.681 1534.23 Q636.579 1537.42 630.931 1543.18 Z\" fill=\"#000000\" fill-rule=\"evenodd\" fill-opacity=\"1\" /><path clip-path=\"url(#clip210)\" d=\"M 0 0 M652.32 1541.24 L657.204 1541.24 L657.204 1547.12 L652.32 1547.12 L652.32 1541.24 Z\" fill=\"#000000\" fill-rule=\"evenodd\" fill-opacity=\"1\" /><path clip-path=\"url(#clip210)\" d=\"M 0 0 M662.32 1512.56 L680.676 1512.56 L680.676 1516.5 L666.602 1516.5 L666.602 1524.97 Q667.621 1524.62 668.639 1524.46 Q669.658 1524.27 670.676 1524.27 Q676.463 1524.27 679.843 1527.44 Q683.222 1530.62 683.222 1536.03 Q683.222 1541.61 679.75 1544.71 Q676.278 1547.79 669.959 1547.79 Q667.783 1547.79 665.514 1547.42 Q663.269 1547.05 660.861 1546.31 L660.861 1541.61 Q662.945 1542.74 665.167 1543.3 Q667.389 1543.86 669.866 1543.86 Q673.871 1543.86 676.208 1541.75 Q678.546 1539.64 678.546 1536.03 Q678.546 1532.42 676.208 1530.31 Q673.871 1528.21 669.866 1528.21 Q667.991 1528.21 666.116 1528.62 Q664.264 1529.04 662.32 1529.92 L662.32 1512.56 Z\" fill=\"#000000\" fill-rule=\"evenodd\" fill-opacity=\"1\" /><path clip-path=\"url(#clip210)\" d=\"M 0 0 M1056.71 1512.56 L1075.07 1512.56 L1075.07 1516.5 L1060.99 1516.5 L1060.99 1524.97 Q1062.01 1524.62 1063.03 1524.46 Q1064.05 1524.27 1065.07 1524.27 Q1070.85 1524.27 1074.23 1527.44 Q1077.61 1530.62 1077.61 1536.03 Q1077.61 1541.61 1074.14 1544.71 Q1070.67 1547.79 1064.35 1547.79 Q1062.17 1547.79 1059.9 1547.42 Q1057.66 1547.05 1055.25 1546.31 L1055.25 1541.61 Q1057.34 1542.74 1059.56 1543.3 Q1061.78 1543.86 1064.26 1543.86 Q1068.26 1543.86 1070.6 1541.75 Q1072.94 1539.64 1072.94 1536.03 Q1072.94 1532.42 1070.6 1530.31 Q1068.26 1528.21 1064.26 1528.21 Q1062.38 1528.21 1060.51 1528.62 Q1058.65 1529.04 1056.71 1529.92 L1056.71 1512.56 Z\" fill=\"#000000\" fill-rule=\"evenodd\" fill-opacity=\"1\" /><path clip-path=\"url(#clip210)\" d=\"M 0 0 M1082.68 1541.24 L1087.57 1541.24 L1087.57 1547.12 L1082.68 1547.12 L1082.68 1541.24 Z\" fill=\"#000000\" fill-rule=\"evenodd\" fill-opacity=\"1\" /><path clip-path=\"url(#clip210)\" d=\"M 0 0 M1102.64 1515.64 Q1099.02 1515.64 1097.2 1519.2 Q1095.39 1522.75 1095.39 1529.87 Q1095.39 1536.98 1097.2 1540.55 Q1099.02 1544.09 1102.64 1544.09 Q1106.27 1544.09 1108.08 1540.55 Q1109.9 1536.98 1109.9 1529.87 Q1109.9 1522.75 1108.08 1519.2 Q1106.27 1515.64 1102.64 1515.64 M1102.64 1511.93 Q1108.45 1511.93 1111.5 1516.54 Q1114.58 1521.12 1114.58 1529.87 Q1114.58 1538.6 1111.5 1543.21 Q1108.45 1547.79 1102.64 1547.79 Q1096.83 1547.79 1093.75 1543.21 Q1090.69 1538.6 1090.69 1529.87 Q1090.69 1521.12 1093.75 1516.54 Q1096.83 1511.93 1102.64 1511.93 Z\" fill=\"#000000\" fill-rule=\"evenodd\" fill-opacity=\"1\" /><path clip-path=\"url(#clip210)\" d=\"M 0 0 M1486.47 1512.56 L1508.69 1512.56 L1508.69 1514.55 L1496.15 1547.12 L1491.26 1547.12 L1503.07 1516.5 L1486.47 1516.5 L1486.47 1512.56 Z\" fill=\"#000000\" fill-rule=\"evenodd\" fill-opacity=\"1\" /><path clip-path=\"url(#clip210)\" d=\"M 0 0 M1513.76 1541.24 L1518.65 1541.24 L1518.65 1547.12 L1513.76 1547.12 L1513.76 1541.24 Z\" fill=\"#000000\" fill-rule=\"evenodd\" fill-opacity=\"1\" /><path clip-path=\"url(#clip210)\" d=\"M 0 0 M1523.76 1512.56 L1542.12 1512.56 L1542.12 1516.5 L1528.05 1516.5 L1528.05 1524.97 Q1529.06 1524.62 1530.08 1524.46 Q1531.1 1524.27 1532.12 1524.27 Q1537.91 1524.27 1541.29 1527.44 Q1544.67 1530.62 1544.67 1536.03 Q1544.67 1541.61 1541.19 1544.71 Q1537.72 1547.79 1531.4 1547.79 Q1529.23 1547.79 1526.96 1547.42 Q1524.71 1547.05 1522.3 1546.31 L1522.3 1541.61 Q1524.39 1542.74 1526.61 1543.3 Q1528.83 1543.86 1531.31 1543.86 Q1535.31 1543.86 1537.65 1541.75 Q1539.99 1539.64 1539.99 1536.03 Q1539.99 1532.42 1537.65 1530.31 Q1535.31 1528.21 1531.31 1528.21 Q1529.43 1528.21 1527.56 1528.62 Q1525.71 1529.04 1523.76 1529.92 L1523.76 1512.56 Z\" fill=\"#000000\" fill-rule=\"evenodd\" fill-opacity=\"1\" /><path clip-path=\"url(#clip210)\" d=\"M 0 0 M1904.61 1543.18 L1912.25 1543.18 L1912.25 1516.82 L1903.94 1518.49 L1903.94 1514.23 L1912.2 1512.56 L1916.88 1512.56 L1916.88 1543.18 L1924.52 1543.18 L1924.52 1547.12 L1904.61 1547.12 L1904.61 1543.18 Z\" fill=\"#000000\" fill-rule=\"evenodd\" fill-opacity=\"1\" /><path clip-path=\"url(#clip210)\" d=\"M 0 0 M1939.59 1515.64 Q1935.98 1515.64 1934.15 1519.2 Q1932.34 1522.75 1932.34 1529.87 Q1932.34 1536.98 1934.15 1540.55 Q1935.98 1544.09 1939.59 1544.09 Q1943.22 1544.09 1945.03 1540.55 Q1946.86 1536.98 1946.86 1529.87 Q1946.86 1522.75 1945.03 1519.2 Q1943.22 1515.64 1939.59 1515.64 M1939.59 1511.93 Q1945.4 1511.93 1948.45 1516.54 Q1951.53 1521.12 1951.53 1529.87 Q1951.53 1538.6 1948.45 1543.21 Q1945.4 1547.79 1939.59 1547.79 Q1933.78 1547.79 1930.7 1543.21 Q1927.64 1538.6 1927.64 1529.87 Q1927.64 1521.12 1930.7 1516.54 Q1933.78 1511.93 1939.59 1511.93 Z\" fill=\"#000000\" fill-rule=\"evenodd\" fill-opacity=\"1\" /><path clip-path=\"url(#clip210)\" d=\"M 0 0 M1956.6 1541.24 L1961.49 1541.24 L1961.49 1547.12 L1956.6 1547.12 L1956.6 1541.24 Z\" fill=\"#000000\" fill-rule=\"evenodd\" fill-opacity=\"1\" /><path clip-path=\"url(#clip210)\" d=\"M 0 0 M1976.56 1515.64 Q1972.94 1515.64 1971.12 1519.2 Q1969.31 1522.75 1969.31 1529.87 Q1969.31 1536.98 1971.12 1540.55 Q1972.94 1544.09 1976.56 1544.09 Q1980.19 1544.09 1982 1540.55 Q1983.82 1536.98 1983.82 1529.87 Q1983.82 1522.75 1982 1519.2 Q1980.19 1515.64 1976.56 1515.64 M1976.56 1511.93 Q1982.37 1511.93 1985.42 1516.54 Q1988.5 1521.12 1988.5 1529.87 Q1988.5 1538.6 1985.42 1543.21 Q1982.37 1547.79 1976.56 1547.79 Q1970.75 1547.79 1967.67 1543.21 Q1964.61 1538.6 1964.61 1529.87 Q1964.61 1521.12 1967.67 1516.54 Q1970.75 1511.93 1976.56 1511.93 Z\" fill=\"#000000\" fill-rule=\"evenodd\" fill-opacity=\"1\" /><polyline clip-path=\"url(#clip212)\" style=\"stroke:#000000; stroke-width:2; stroke-opacity:0.1; fill:none\" points=\"\n",
       "  161.598,1445.72 2352.76,1445.72 \n",
       "  \"/>\n",
       "<polyline clip-path=\"url(#clip212)\" style=\"stroke:#000000; stroke-width:2; stroke-opacity:0.1; fill:none\" points=\"\n",
       "  161.598,1006.15 2352.76,1006.15 \n",
       "  \"/>\n",
       "<polyline clip-path=\"url(#clip212)\" style=\"stroke:#000000; stroke-width:2; stroke-opacity:0.1; fill:none\" points=\"\n",
       "  161.598,566.579 2352.76,566.579 \n",
       "  \"/>\n",
       "<polyline clip-path=\"url(#clip212)\" style=\"stroke:#000000; stroke-width:2; stroke-opacity:0.1; fill:none\" points=\"\n",
       "  161.598,127.011 2352.76,127.011 \n",
       "  \"/>\n",
       "<polyline clip-path=\"url(#clip210)\" style=\"stroke:#000000; stroke-width:4; stroke-opacity:1; fill:none\" points=\"\n",
       "  161.598,1486.45 161.598,47.2441 \n",
       "  \"/>\n",
       "<polyline clip-path=\"url(#clip210)\" style=\"stroke:#000000; stroke-width:4; stroke-opacity:1; fill:none\" points=\"\n",
       "  161.598,1445.72 187.892,1445.72 \n",
       "  \"/>\n",
       "<polyline clip-path=\"url(#clip210)\" style=\"stroke:#000000; stroke-width:4; stroke-opacity:1; fill:none\" points=\"\n",
       "  161.598,1006.15 187.892,1006.15 \n",
       "  \"/>\n",
       "<polyline clip-path=\"url(#clip210)\" style=\"stroke:#000000; stroke-width:4; stroke-opacity:1; fill:none\" points=\"\n",
       "  161.598,566.579 187.892,566.579 \n",
       "  \"/>\n",
       "<polyline clip-path=\"url(#clip210)\" style=\"stroke:#000000; stroke-width:4; stroke-opacity:1; fill:none\" points=\"\n",
       "  161.598,127.011 187.892,127.011 \n",
       "  \"/>\n",
       "<path clip-path=\"url(#clip210)\" d=\"M 0 0 M113.654 1431.51 Q110.043 1431.51 108.214 1435.08 Q106.408 1438.62 106.408 1445.75 Q106.408 1452.86 108.214 1456.42 Q110.043 1459.96 113.654 1459.96 Q117.288 1459.96 119.094 1456.42 Q120.922 1452.86 120.922 1445.75 Q120.922 1438.62 119.094 1435.08 Q117.288 1431.51 113.654 1431.51 M113.654 1427.81 Q119.464 1427.81 122.52 1432.42 Q125.598 1437 125.598 1445.75 Q125.598 1454.48 122.52 1459.08 Q119.464 1463.67 113.654 1463.67 Q107.844 1463.67 104.765 1459.08 Q101.709 1454.48 101.709 1445.75 Q101.709 1437 104.765 1432.42 Q107.844 1427.81 113.654 1427.81 Z\" fill=\"#000000\" fill-rule=\"evenodd\" fill-opacity=\"1\" /><path clip-path=\"url(#clip210)\" d=\"M 0 0 M77.6818 988.868 L96.0382 988.868 L96.0382 992.803 L81.9642 992.803 L81.9642 1001.27 Q82.9827 1000.93 84.0012 1000.77 Q85.0197 1000.58 86.0382 1000.58 Q91.8252 1000.58 95.2049 1003.75 Q98.5845 1006.92 98.5845 1012.34 Q98.5845 1017.92 95.1123 1021.02 Q91.6401 1024.1 85.3206 1024.1 Q83.1447 1024.1 80.8762 1023.73 Q78.6309 1023.36 76.2235 1022.62 L76.2235 1017.92 Q78.3068 1019.05 80.529 1019.61 Q82.7512 1020.16 85.2281 1020.16 Q89.2327 1020.16 91.5706 1018.06 Q93.9086 1015.95 93.9086 1012.34 Q93.9086 1008.73 91.5706 1006.62 Q89.2327 1004.52 85.2281 1004.52 Q83.3531 1004.52 81.4781 1004.93 Q79.6262 1005.35 77.6818 1006.23 L77.6818 988.868 Z\" fill=\"#000000\" fill-rule=\"evenodd\" fill-opacity=\"1\" /><path clip-path=\"url(#clip210)\" d=\"M 0 0 M113.654 991.946 Q110.043 991.946 108.214 995.511 Q106.408 999.053 106.408 1006.18 Q106.408 1013.29 108.214 1016.85 Q110.043 1020.4 113.654 1020.4 Q117.288 1020.4 119.094 1016.85 Q120.922 1013.29 120.922 1006.18 Q120.922 999.053 119.094 995.511 Q117.288 991.946 113.654 991.946 M113.654 988.243 Q119.464 988.243 122.52 992.849 Q125.598 997.432 125.598 1006.18 Q125.598 1014.91 122.52 1019.52 Q119.464 1024.1 113.654 1024.1 Q107.844 1024.1 104.765 1019.52 Q101.709 1014.91 101.709 1006.18 Q101.709 997.432 104.765 992.849 Q107.844 988.243 113.654 988.243 Z\" fill=\"#000000\" fill-rule=\"evenodd\" fill-opacity=\"1\" /><path clip-path=\"url(#clip210)\" d=\"M 0 0 M51.6634 579.924 L59.3023 579.924 L59.3023 553.559 L50.9921 555.225 L50.9921 550.966 L59.256 549.299 L63.9319 549.299 L63.9319 579.924 L71.5707 579.924 L71.5707 583.859 L51.6634 583.859 L51.6634 579.924 Z\" fill=\"#000000\" fill-rule=\"evenodd\" fill-opacity=\"1\" /><path clip-path=\"url(#clip210)\" d=\"M 0 0 M86.6401 552.378 Q83.029 552.378 81.2003 555.943 Q79.3948 559.485 79.3948 566.614 Q79.3948 573.721 81.2003 577.285 Q83.029 580.827 86.6401 580.827 Q90.2743 580.827 92.0799 577.285 Q93.9086 573.721 93.9086 566.614 Q93.9086 559.485 92.0799 555.943 Q90.2743 552.378 86.6401 552.378 M86.6401 548.674 Q92.4502 548.674 95.5058 553.281 Q98.5845 557.864 98.5845 566.614 Q98.5845 575.341 95.5058 579.947 Q92.4502 584.531 86.6401 584.531 Q80.8299 584.531 77.7512 579.947 Q74.6957 575.341 74.6957 566.614 Q74.6957 557.864 77.7512 553.281 Q80.8299 548.674 86.6401 548.674 Z\" fill=\"#000000\" fill-rule=\"evenodd\" fill-opacity=\"1\" /><path clip-path=\"url(#clip210)\" d=\"M 0 0 M113.654 552.378 Q110.043 552.378 108.214 555.943 Q106.408 559.485 106.408 566.614 Q106.408 573.721 108.214 577.285 Q110.043 580.827 113.654 580.827 Q117.288 580.827 119.094 577.285 Q120.922 573.721 120.922 566.614 Q120.922 559.485 119.094 555.943 Q117.288 552.378 113.654 552.378 M113.654 548.674 Q119.464 548.674 122.52 553.281 Q125.598 557.864 125.598 566.614 Q125.598 575.341 122.52 579.947 Q119.464 584.531 113.654 584.531 Q107.844 584.531 104.765 579.947 Q101.709 575.341 101.709 566.614 Q101.709 557.864 104.765 553.281 Q107.844 548.674 113.654 548.674 Z\" fill=\"#000000\" fill-rule=\"evenodd\" fill-opacity=\"1\" /><path clip-path=\"url(#clip210)\" d=\"M 0 0 M52.6588 140.356 L60.2976 140.356 L60.2976 113.991 L51.9875 115.657 L51.9875 111.398 L60.2513 109.731 L64.9272 109.731 L64.9272 140.356 L72.5661 140.356 L72.5661 144.291 L52.6588 144.291 L52.6588 140.356 Z\" fill=\"#000000\" fill-rule=\"evenodd\" fill-opacity=\"1\" /><path clip-path=\"url(#clip210)\" d=\"M 0 0 M77.6818 109.731 L96.0382 109.731 L96.0382 113.666 L81.9642 113.666 L81.9642 122.139 Q82.9827 121.791 84.0012 121.629 Q85.0197 121.444 86.0382 121.444 Q91.8252 121.444 95.2049 124.615 Q98.5845 127.787 98.5845 133.203 Q98.5845 138.782 95.1123 141.884 Q91.6401 144.963 85.3206 144.963 Q83.1447 144.963 80.8762 144.592 Q78.6309 144.222 76.2235 143.481 L76.2235 138.782 Q78.3068 139.916 80.529 140.472 Q82.7512 141.027 85.2281 141.027 Q89.2327 141.027 91.5706 138.921 Q93.9086 136.814 93.9086 133.203 Q93.9086 129.592 91.5706 127.486 Q89.2327 125.379 85.2281 125.379 Q83.3531 125.379 81.4781 125.796 Q79.6262 126.213 77.6818 127.092 L77.6818 109.731 Z\" fill=\"#000000\" fill-rule=\"evenodd\" fill-opacity=\"1\" /><path clip-path=\"url(#clip210)\" d=\"M 0 0 M113.654 112.81 Q110.043 112.81 108.214 116.375 Q106.408 119.916 106.408 127.046 Q106.408 134.152 108.214 137.717 Q110.043 141.259 113.654 141.259 Q117.288 141.259 119.094 137.717 Q120.922 134.152 120.922 127.046 Q120.922 119.916 119.094 116.375 Q117.288 112.81 113.654 112.81 M113.654 109.106 Q119.464 109.106 122.52 113.713 Q125.598 118.296 125.598 127.046 Q125.598 135.773 122.52 140.379 Q119.464 144.963 113.654 144.963 Q107.844 144.963 104.765 140.379 Q101.709 135.773 101.709 127.046 Q101.709 118.296 104.765 113.713 Q107.844 109.106 113.654 109.106 Z\" fill=\"#000000\" fill-rule=\"evenodd\" fill-opacity=\"1\" /><polyline clip-path=\"url(#clip212)\" style=\"stroke:#009af9; stroke-width:4; stroke-opacity:1; fill:none\" points=\"\n",
       "  223.612,766.846 240.838,854.708 258.064,931.198 275.29,997.789 292.516,1055.76 309.743,1106.23 326.969,1150.17 344.195,1188.42 361.421,1221.72 378.647,1250.71 \n",
       "  395.873,1275.95 413.099,1297.92 430.325,1317.05 447.551,1333.7 464.777,1348.2 482.003,1360.82 499.229,1371.81 516.456,1381.37 533.682,1389.7 550.908,1396.95 \n",
       "  568.134,1403.26 585.36,1408.76 602.586,1413.54 619.812,1417.7 637.038,1421.33 654.264,1424.49 671.49,1427.23 688.716,1429.63 705.942,1431.71 723.168,1433.52 \n",
       "  740.395,1435.1 757.621,1436.47 774.847,1437.67 792.073,1438.71 809.299,1439.62 826.525,1440.41 843.751,1441.09 860.977,1441.69 878.203,1442.21 895.429,1442.67 \n",
       "  912.655,1443.06 929.881,1443.4 947.108,1443.7 964.334,1443.96 981.56,1444.19 998.786,1444.39 1016.01,1444.56 1033.24,1444.71 1050.46,1444.84 1067.69,1444.95 \n",
       "  1084.92,1445.05 1102.14,1445.14 1119.37,1445.21 1136.59,1445.28 1153.82,1445.33 1171.05,1445.38 1188.27,1445.43 1205.5,1445.46 1222.72,1445.5 1239.95,1445.52 \n",
       "  1257.18,1445.55 1274.4,1445.57 1291.63,1445.59 1308.86,1445.61 1326.08,1445.62 1343.31,1445.63 1360.53,1445.64 1377.76,1445.65 1394.99,1445.66 1412.21,1445.67 \n",
       "  1429.44,1445.67 1446.66,1445.68 1463.89,1445.68 1481.12,1445.69 1498.34,1445.69 1515.57,1445.69 1532.79,1445.7 1550.02,1445.7 1567.25,1445.7 1584.47,1445.7 \n",
       "  1601.7,1445.71 1618.92,1445.71 1636.15,1445.71 1653.38,1445.71 1670.6,1445.71 1687.83,1445.71 1705.06,1445.71 1722.28,1445.71 1739.51,1445.71 1756.73,1445.71 \n",
       "  1773.96,1445.71 1791.19,1445.71 1808.41,1445.71 1825.64,1445.71 1842.86,1445.71 1860.09,1445.71 1877.32,1445.71 1894.54,1445.71 1911.77,1445.71 1928.99,1445.71 \n",
       "  1946.22,1445.72 1963.45,1445.72 1980.67,1445.72 1997.9,1445.72 2015.12,1445.72 2032.35,1445.72 2049.58,1445.72 2066.8,1445.72 2084.03,1445.72 2101.26,1445.72 \n",
       "  2118.48,1445.72 2135.71,1445.72 2152.93,1445.72 2170.16,1445.72 2187.39,1445.72 2204.61,1445.72 2221.84,1445.72 2239.06,1445.72 2256.29,1445.72 2273.52,1445.72 \n",
       "  2290.74,1445.72 \n",
       "  \"/>\n",
       "<polyline clip-path=\"url(#clip212)\" style=\"stroke:#e26f46; stroke-width:4; stroke-opacity:1; fill:none\" stroke-dasharray=\"16, 10\" points=\"\n",
       "  223.612,1445.61 240.838,1445.61 258.064,1445.61 275.29,1445.61 292.516,1445.61 309.743,1445.61 326.969,1445.61 344.195,1445.61 361.421,1445.61 378.647,1445.61 \n",
       "  395.873,1445.61 413.099,1445.61 430.325,1445.61 447.551,1445.61 464.777,1445.61 482.003,1445.61 499.229,1445.61 516.456,1445.61 533.682,1445.61 550.908,1445.61 \n",
       "  568.134,1445.61 585.36,1445.61 602.586,1445.61 619.812,1445.61 637.038,1445.61 654.264,1445.61 671.49,1445.61 688.716,1445.61 705.942,1445.61 723.168,1445.61 \n",
       "  740.395,1445.61 757.621,1445.61 774.847,1445.61 792.073,1445.61 809.299,1445.61 826.525,1445.61 843.751,1445.61 860.977,1445.61 878.203,1445.61 895.429,1445.61 \n",
       "  912.655,1445.61 929.881,1445.61 947.108,1445.61 964.334,1445.61 981.56,1445.61 998.786,1445.61 1016.01,1445.61 1033.24,1445.61 1050.46,1445.61 1067.69,1445.61 \n",
       "  1084.92,1445.61 1102.14,1445.61 1119.37,1445.61 1136.59,1445.61 1153.82,1445.61 1171.05,1445.61 1188.27,1445.61 1205.5,1445.61 1222.72,1445.61 1239.95,1445.61 \n",
       "  1257.18,1445.61 1274.4,1445.61 1291.63,1445.61 1308.86,1445.61 1326.08,1445.61 1343.31,1445.61 1360.53,1445.61 1377.76,1445.61 1394.99,1445.61 1412.21,1445.61 \n",
       "  1429.44,1445.61 1446.66,1445.61 1463.89,1445.61 1481.12,1445.61 1498.34,1445.61 1515.57,1445.61 1532.79,1445.61 1550.02,1445.61 1567.25,1445.61 1584.47,1445.61 \n",
       "  1601.7,1445.61 1618.92,1445.61 1636.15,1445.61 1653.38,1445.61 1670.6,1445.61 1687.83,1445.61 1705.06,1445.61 1722.28,1445.61 1739.51,1445.61 1756.73,1445.61 \n",
       "  1773.96,1445.61 1791.19,1445.61 1808.41,1445.61 1825.64,1445.61 1842.86,1445.61 1860.09,1445.61 1877.32,1445.61 1894.54,1445.61 1911.77,1445.61 1928.99,1445.61 \n",
       "  1946.22,1445.61 1963.45,1445.61 1980.67,1445.61 1997.9,1445.61 2015.12,1445.61 2032.35,1445.61 2049.58,1445.61 2066.8,1445.61 2084.03,1445.61 2101.26,1445.61 \n",
       "  2118.48,1445.61 2135.71,1445.61 2152.93,1445.61 2170.16,1445.61 2187.39,1445.61 2204.61,1445.61 2221.84,1445.61 2239.06,1445.61 2256.29,1445.61 2273.52,1445.61 \n",
       "  2290.74,1445.61 \n",
       "  \"/>\n",
       "<polyline clip-path=\"url(#clip212)\" style=\"stroke:#3da44d; stroke-width:4; stroke-opacity:1; fill:none\" points=\"\n",
       "  223.612,87.9763 240.838,263.7 258.064,416.68 275.29,549.861 292.516,665.806 309.743,766.744 326.969,854.619 344.195,931.121 361.421,997.722 378.647,1055.7 \n",
       "  395.873,1106.18 413.099,1150.12 430.325,1188.38 447.551,1221.69 464.777,1250.68 482.003,1275.92 499.229,1297.9 516.456,1317.03 533.682,1333.68 550.908,1348.18 \n",
       "  568.134,1360.81 585.36,1371.8 602.586,1381.36 619.812,1389.69 637.038,1396.94 654.264,1403.25 671.49,1408.75 688.716,1413.53 705.942,1417.7 723.168,1421.33 \n",
       "  740.395,1424.48 757.621,1427.23 774.847,1429.62 792.073,1431.71 809.299,1433.52 826.525,1435.1 843.751,1436.47 860.977,1437.67 878.203,1438.71 895.429,1439.62 \n",
       "  912.655,1440.41 929.881,1441.09 947.108,1441.69 964.334,1442.21 981.56,1442.67 998.786,1443.06 1016.01,1443.4 1033.24,1443.7 1050.46,1443.96 1067.69,1444.19 \n",
       "  1084.92,1444.39 1102.14,1444.56 1119.37,1444.71 1136.59,1444.84 1153.82,1444.95 1171.05,1445.05 1188.27,1445.14 1205.5,1445.21 1222.72,1445.28 1239.95,1445.33 \n",
       "  1257.18,1445.38 1274.4,1445.43 1291.63,1445.46 1308.86,1445.5 1326.08,1445.52 1343.31,1445.55 1360.53,1445.57 1377.76,1445.59 1394.99,1445.61 1412.21,1445.62 \n",
       "  1429.44,1445.63 1446.66,1445.64 1463.89,1445.65 1481.12,1445.66 1498.34,1445.67 1515.57,1445.67 1532.79,1445.68 1550.02,1445.68 1567.25,1445.69 1584.47,1445.69 \n",
       "  1601.7,1445.69 1618.92,1445.7 1636.15,1445.7 1653.38,1445.7 1670.6,1445.7 1687.83,1445.71 1705.06,1445.71 1722.28,1445.71 1739.51,1445.71 1756.73,1445.71 \n",
       "  1773.96,1445.71 1791.19,1445.71 1808.41,1445.71 1825.64,1445.71 1842.86,1445.71 1860.09,1445.71 1877.32,1445.71 1894.54,1445.71 1911.77,1445.71 1928.99,1445.71 \n",
       "  1946.22,1445.71 1963.45,1445.71 1980.67,1445.71 1997.9,1445.71 2015.12,1445.71 2032.35,1445.72 2049.58,1445.72 2066.8,1445.72 2084.03,1445.72 2101.26,1445.72 \n",
       "  2118.48,1445.72 2135.71,1445.72 2152.93,1445.72 2170.16,1445.72 2187.39,1445.72 2204.61,1445.72 2221.84,1445.72 2239.06,1445.72 2256.29,1445.72 2273.52,1445.72 \n",
       "  2290.74,1445.72 \n",
       "  \"/>\n",
       "<polyline clip-path=\"url(#clip212)\" style=\"stroke:#c271d2; stroke-width:4; stroke-opacity:1; fill:none\" points=\"\n",
       "  223.612,1106.28 240.838,1150.21 258.064,1188.46 275.29,1221.75 292.516,1250.74 309.743,1275.97 326.969,1297.94 344.195,1317.07 361.421,1333.72 378.647,1348.21 \n",
       "  395.873,1360.83 413.099,1371.82 430.325,1381.38 447.551,1389.71 464.777,1396.96 482.003,1403.27 499.229,1408.76 516.456,1413.54 533.682,1417.71 550.908,1421.33 \n",
       "  568.134,1424.49 585.36,1427.24 602.586,1429.63 619.812,1431.71 637.038,1433.52 654.264,1435.1 671.49,1436.47 688.716,1437.67 705.942,1438.71 723.168,1439.62 \n",
       "  740.395,1440.41 757.621,1441.09 774.847,1441.69 792.073,1442.21 809.299,1442.67 826.525,1443.06 843.751,1443.4 860.977,1443.7 878.203,1443.96 895.429,1444.19 \n",
       "  912.655,1444.39 929.881,1444.56 947.108,1444.71 964.334,1444.84 981.56,1444.95 998.786,1445.05 1016.01,1445.14 1033.24,1445.21 1050.46,1445.28 1067.69,1445.33 \n",
       "  1084.92,1445.38 1102.14,1445.43 1119.37,1445.46 1136.59,1445.5 1153.82,1445.53 1171.05,1445.55 1188.27,1445.57 1205.5,1445.59 1222.72,1445.61 1239.95,1445.62 \n",
       "  1257.18,1445.63 1274.4,1445.64 1291.63,1445.65 1308.86,1445.66 1326.08,1445.67 1343.31,1445.67 1360.53,1445.68 1377.76,1445.68 1394.99,1445.69 1412.21,1445.69 \n",
       "  1429.44,1445.69 1446.66,1445.7 1463.89,1445.7 1481.12,1445.7 1498.34,1445.7 1515.57,1445.71 1532.79,1445.71 1550.02,1445.71 1567.25,1445.71 1584.47,1445.71 \n",
       "  1601.7,1445.71 1618.92,1445.71 1636.15,1445.71 1653.38,1445.71 1670.6,1445.71 1687.83,1445.71 1705.06,1445.71 1722.28,1445.71 1739.51,1445.71 1756.73,1445.71 \n",
       "  1773.96,1445.71 1791.19,1445.71 1808.41,1445.71 1825.64,1445.71 1842.86,1445.71 1860.09,1445.72 1877.32,1445.72 1894.54,1445.72 1911.77,1445.72 1928.99,1445.72 \n",
       "  1946.22,1445.72 1963.45,1445.72 1980.67,1445.72 1997.9,1445.72 2015.12,1445.72 2032.35,1445.72 2049.58,1445.72 2066.8,1445.72 2084.03,1445.72 2101.26,1445.72 \n",
       "  2118.48,1445.72 2135.71,1445.72 2152.93,1445.72 2170.16,1445.72 2187.39,1445.72 2204.61,1445.72 2221.84,1445.72 2239.06,1445.72 2256.29,1445.72 2273.52,1445.72 \n",
       "  2290.74,1445.72 \n",
       "  \"/>\n",
       "<circle clip-path=\"url(#clip212)\" cx=\"1313.54\" cy=\"1445.61\" r=\"10\" fill=\"#ffff00\" fill-rule=\"evenodd\" fill-opacity=\"1\" stroke=\"#000000\" stroke-opacity=\"1\" stroke-width=\"3.2\"/>\n",
       "<circle clip-path=\"url(#clip212)\" cx=\"1399.69\" cy=\"1445.61\" r=\"10\" fill=\"#ff0000\" fill-rule=\"evenodd\" fill-opacity=\"1\" stroke=\"#000000\" stroke-opacity=\"1\" stroke-width=\"3.2\"/>\n",
       "<circle clip-path=\"url(#clip212)\" cx=\"1227.39\" cy=\"1445.61\" r=\"10\" fill=\"#ffc0cb\" fill-rule=\"evenodd\" fill-opacity=\"1\" stroke=\"#000000\" stroke-opacity=\"1\" stroke-width=\"3.2\"/>\n",
       "<path clip-path=\"url(#clip210)\" d=\"\n",
       "M1813.32 579.058 L2279.72 579.058 L2279.72 95.2176 L1813.32 95.2176  Z\n",
       "  \" fill=\"#ffffff\" fill-rule=\"evenodd\" fill-opacity=\"1\"/>\n",
       "<polyline clip-path=\"url(#clip210)\" style=\"stroke:#000000; stroke-width:4; stroke-opacity:1; fill:none\" points=\"\n",
       "  1813.32,579.058 2279.72,579.058 2279.72,95.2176 1813.32,95.2176 1813.32,579.058 \n",
       "  \"/>\n",
       "<polyline clip-path=\"url(#clip210)\" style=\"stroke:#009af9; stroke-width:4; stroke-opacity:1; fill:none\" points=\"\n",
       "  1837.66,155.698 1983.74,155.698 \n",
       "  \"/>\n",
       "<path clip-path=\"url(#clip210)\" d=\"M 0 0 M2020.42 153.834 Q2017.28 153.834 2015.42 155.987 Q2013.6 158.14 2013.6 161.89 Q2013.6 165.616 2015.42 167.792 Q2017.28 169.945 2020.42 169.945 Q2023.57 169.945 2025.4 167.792 Q2027.25 165.616 2027.25 161.89 Q2027.25 158.14 2025.4 155.987 Q2023.57 153.834 2020.42 153.834 M2029.71 139.181 L2029.71 143.441 Q2027.95 142.607 2026.14 142.168 Q2024.36 141.728 2022.6 141.728 Q2017.97 141.728 2015.52 144.853 Q2013.09 147.978 2012.74 154.297 Q2014.1 152.283 2016.16 151.218 Q2018.23 150.13 2020.7 150.13 Q2025.91 150.13 2028.92 153.302 Q2031.95 156.45 2031.95 161.89 Q2031.95 167.214 2028.8 170.431 Q2025.66 173.649 2020.42 173.649 Q2014.43 173.649 2011.26 169.066 Q2008.09 164.459 2008.09 155.732 Q2008.09 147.538 2011.98 142.677 Q2015.86 137.793 2022.41 137.793 Q2024.17 137.793 2025.96 138.14 Q2027.76 138.487 2029.71 139.181 Z\" fill=\"#000000\" fill-rule=\"evenodd\" fill-opacity=\"1\" /><path clip-path=\"url(#clip210)\" d=\"M 0 0 M2047.02 141.496 Q2043.41 141.496 2041.58 145.061 Q2039.78 148.603 2039.78 155.732 Q2039.78 162.839 2041.58 166.404 Q2043.41 169.945 2047.02 169.945 Q2050.66 169.945 2052.46 166.404 Q2054.29 162.839 2054.29 155.732 Q2054.29 148.603 2052.46 145.061 Q2050.66 141.496 2047.02 141.496 M2047.02 137.793 Q2052.83 137.793 2055.89 142.399 Q2058.97 146.982 2058.97 155.732 Q2058.97 164.459 2055.89 169.066 Q2052.83 173.649 2047.02 173.649 Q2041.21 173.649 2038.13 169.066 Q2035.08 164.459 2035.08 155.732 Q2035.08 146.982 2038.13 142.399 Q2041.21 137.793 2047.02 137.793 Z\" fill=\"#000000\" fill-rule=\"evenodd\" fill-opacity=\"1\" /><path clip-path=\"url(#clip210)\" d=\"M 0 0 M2074.04 141.496 Q2070.42 141.496 2068.6 145.061 Q2066.79 148.603 2066.79 155.732 Q2066.79 162.839 2068.6 166.404 Q2070.42 169.945 2074.04 169.945 Q2077.67 169.945 2079.47 166.404 Q2081.3 162.839 2081.3 155.732 Q2081.3 148.603 2079.47 145.061 Q2077.67 141.496 2074.04 141.496 M2074.04 137.793 Q2079.85 137.793 2082.9 142.399 Q2085.98 146.982 2085.98 155.732 Q2085.98 164.459 2082.9 169.066 Q2079.85 173.649 2074.04 173.649 Q2068.22 173.649 2065.15 169.066 Q2062.09 164.459 2062.09 155.732 Q2062.09 146.982 2065.15 142.399 Q2068.22 137.793 2074.04 137.793 Z\" fill=\"#000000\" fill-rule=\"evenodd\" fill-opacity=\"1\" /><path clip-path=\"url(#clip210)\" d=\"M 0 0 M2125.7 152.029 Q2127.3 149.158 2129.52 147.793 Q2131.74 146.427 2134.75 146.427 Q2138.8 146.427 2141 149.274 Q2143.2 152.098 2143.2 157.329 L2143.2 172.978 L2138.92 172.978 L2138.92 157.468 Q2138.92 153.742 2137.6 151.936 Q2136.28 150.13 2133.57 150.13 Q2130.26 150.13 2128.34 152.33 Q2126.42 154.529 2126.42 158.325 L2126.42 172.978 L2122.14 172.978 L2122.14 157.468 Q2122.14 153.718 2120.82 151.936 Q2119.5 150.13 2116.74 150.13 Q2113.48 150.13 2111.56 152.353 Q2109.64 154.552 2109.64 158.325 L2109.64 172.978 L2105.35 172.978 L2105.35 147.052 L2109.64 147.052 L2109.64 151.08 Q2111.1 148.695 2113.13 147.561 Q2115.17 146.427 2117.97 146.427 Q2120.79 146.427 2122.76 147.862 Q2124.75 149.297 2125.7 152.029 Z\" fill=\"#000000\" fill-rule=\"evenodd\" fill-opacity=\"1\" /><path clip-path=\"url(#clip210)\" d=\"M 0 0 M2164.73 159.714 Q2164.73 155.084 2162.81 152.538 Q2160.91 149.992 2157.46 149.992 Q2154.03 149.992 2152.11 152.538 Q2150.22 155.084 2150.22 159.714 Q2150.22 164.32 2152.11 166.866 Q2154.03 169.413 2157.46 169.413 Q2160.91 169.413 2162.81 166.866 Q2164.73 164.32 2164.73 159.714 M2168.99 169.76 Q2168.99 176.38 2166.05 179.598 Q2163.11 182.839 2157.04 182.839 Q2154.8 182.839 2152.81 182.491 Q2150.82 182.167 2148.94 181.473 L2148.94 177.329 Q2150.82 178.348 2152.65 178.834 Q2154.47 179.32 2156.37 179.32 Q2160.56 179.32 2162.65 177.121 Q2164.73 174.945 2164.73 170.524 L2164.73 168.417 Q2163.41 170.709 2161.35 171.843 Q2159.29 172.978 2156.42 172.978 Q2151.65 172.978 2148.73 169.343 Q2145.82 165.709 2145.82 159.714 Q2145.82 153.695 2148.73 150.061 Q2151.65 146.427 2156.42 146.427 Q2159.29 146.427 2161.35 147.561 Q2163.41 148.695 2164.73 150.987 L2164.73 147.052 L2168.99 147.052 L2168.99 169.76 Z\" fill=\"#000000\" fill-rule=\"evenodd\" fill-opacity=\"1\" /><polyline clip-path=\"url(#clip210)\" style=\"stroke:#e26f46; stroke-width:4; stroke-opacity:1; fill:none\" stroke-dasharray=\"16, 10\" points=\"\n",
       "  1837.66,216.178 1983.74,216.178 \n",
       "  \"/>\n",
       "<path clip-path=\"url(#clip210)\" d=\"M 0 0 M2008.09 198.898 L2015.05 198.898 L2023.87 222.416 L2032.74 198.898 L2039.71 198.898 L2039.71 233.458 L2035.15 233.458 L2035.15 203.11 L2026.23 226.814 L2021.54 226.814 L2012.62 203.11 L2012.62 233.458 L2008.09 233.458 L2008.09 198.898 Z\" fill=\"#000000\" fill-rule=\"evenodd\" fill-opacity=\"1\" /><path clip-path=\"url(#clip210)\" d=\"M 0 0 M2044.36 198.898 L2049.04 198.898 L2049.04 233.458 L2044.36 233.458 L2044.36 198.898 Z\" fill=\"#000000\" fill-rule=\"evenodd\" fill-opacity=\"1\" /><path clip-path=\"url(#clip210)\" d=\"M 0 0 M2079.57 201.56 L2079.57 206.49 Q2077.21 204.291 2074.52 203.203 Q2071.86 202.115 2068.85 202.115 Q2062.92 202.115 2059.78 205.749 Q2056.63 209.36 2056.63 216.212 Q2056.63 223.041 2059.78 226.675 Q2062.92 230.286 2068.85 230.286 Q2071.86 230.286 2074.52 229.198 Q2077.21 228.11 2079.57 225.911 L2079.57 230.796 Q2077.11 232.462 2074.36 233.296 Q2071.63 234.129 2068.57 234.129 Q2060.72 234.129 2056.21 229.337 Q2051.7 224.522 2051.7 216.212 Q2051.7 207.879 2056.21 203.087 Q2060.72 198.273 2068.57 198.273 Q2071.67 198.273 2074.41 199.106 Q2077.16 199.916 2079.57 201.56 Z\" fill=\"#000000\" fill-rule=\"evenodd\" fill-opacity=\"1\" /><polyline clip-path=\"url(#clip210)\" style=\"stroke:#3da44d; stroke-width:4; stroke-opacity:1; fill:none\" points=\"\n",
       "  1837.66,276.658 1983.74,276.658 \n",
       "  \"/>\n",
       "<path clip-path=\"url(#clip210)\" d=\"M 0 0 M2008.76 290.002 L2016.4 290.002 L2016.4 263.637 L2008.09 265.303 L2008.09 261.044 L2016.35 259.378 L2021.03 259.378 L2021.03 290.002 L2028.66 290.002 L2028.66 293.938 L2008.76 293.938 L2008.76 290.002 Z\" fill=\"#000000\" fill-rule=\"evenodd\" fill-opacity=\"1\" /><path clip-path=\"url(#clip210)\" d=\"M 0 0 M2037.76 290.002 L2054.08 290.002 L2054.08 293.938 L2032.14 293.938 L2032.14 290.002 Q2034.8 287.248 2039.38 282.618 Q2043.99 277.965 2045.17 276.623 Q2047.41 274.1 2048.29 272.364 Q2049.2 270.604 2049.2 268.915 Q2049.2 266.16 2047.25 264.424 Q2045.33 262.688 2042.23 262.688 Q2040.03 262.688 2037.58 263.452 Q2035.15 264.215 2032.37 265.766 L2032.37 261.044 Q2035.19 259.91 2037.65 259.331 Q2040.1 258.753 2042.14 258.753 Q2047.51 258.753 2050.7 261.438 Q2053.9 264.123 2053.9 268.614 Q2053.9 270.743 2053.09 272.665 Q2052.3 274.563 2050.19 277.155 Q2049.61 277.827 2046.51 281.044 Q2043.41 284.239 2037.76 290.002 Z\" fill=\"#000000\" fill-rule=\"evenodd\" fill-opacity=\"1\" /><path clip-path=\"url(#clip210)\" d=\"M 0 0 M2069.15 262.456 Q2065.54 262.456 2063.71 266.021 Q2061.91 269.563 2061.91 276.692 Q2061.91 283.799 2063.71 287.364 Q2065.54 290.905 2069.15 290.905 Q2072.79 290.905 2074.59 287.364 Q2076.42 283.799 2076.42 276.692 Q2076.42 269.563 2074.59 266.021 Q2072.79 262.456 2069.15 262.456 M2069.15 258.753 Q2074.96 258.753 2078.02 263.359 Q2081.1 267.942 2081.1 276.692 Q2081.1 285.419 2078.02 290.026 Q2074.96 294.609 2069.15 294.609 Q2063.34 294.609 2060.26 290.026 Q2057.21 285.419 2057.21 276.692 Q2057.21 267.942 2060.26 263.359 Q2063.34 258.753 2069.15 258.753 Z\" fill=\"#000000\" fill-rule=\"evenodd\" fill-opacity=\"1\" /><path clip-path=\"url(#clip210)\" d=\"M 0 0 M2096.16 262.456 Q2092.55 262.456 2090.72 266.021 Q2088.92 269.563 2088.92 276.692 Q2088.92 283.799 2090.72 287.364 Q2092.55 290.905 2096.16 290.905 Q2099.8 290.905 2101.6 287.364 Q2103.43 283.799 2103.43 276.692 Q2103.43 269.563 2101.6 266.021 Q2099.8 262.456 2096.16 262.456 M2096.16 258.753 Q2101.97 258.753 2105.03 263.359 Q2108.11 267.942 2108.11 276.692 Q2108.11 285.419 2105.03 290.026 Q2101.97 294.609 2096.16 294.609 Q2090.35 294.609 2087.28 290.026 Q2084.22 285.419 2084.22 276.692 Q2084.22 267.942 2087.28 263.359 Q2090.35 258.753 2096.16 258.753 Z\" fill=\"#000000\" fill-rule=\"evenodd\" fill-opacity=\"1\" /><path clip-path=\"url(#clip210)\" d=\"M 0 0 M2147.83 272.989 Q2149.43 270.118 2151.65 268.753 Q2153.87 267.387 2156.88 267.387 Q2160.93 267.387 2163.13 270.234 Q2165.33 273.058 2165.33 278.289 L2165.33 293.938 L2161.05 293.938 L2161.05 278.428 Q2161.05 274.702 2159.73 272.896 Q2158.41 271.09 2155.7 271.09 Q2152.39 271.09 2150.47 273.29 Q2148.55 275.489 2148.55 279.285 L2148.55 293.938 L2144.27 293.938 L2144.27 278.428 Q2144.27 274.678 2142.95 272.896 Q2141.63 271.09 2138.87 271.09 Q2135.61 271.09 2133.69 273.313 Q2131.77 275.512 2131.77 279.285 L2131.77 293.938 L2127.48 293.938 L2127.48 268.012 L2131.77 268.012 L2131.77 272.04 Q2133.22 269.655 2135.26 268.521 Q2137.3 267.387 2140.1 267.387 Q2142.92 267.387 2144.89 268.822 Q2146.88 270.257 2147.83 272.989 Z\" fill=\"#000000\" fill-rule=\"evenodd\" fill-opacity=\"1\" /><path clip-path=\"url(#clip210)\" d=\"M 0 0 M2186.86 280.674 Q2186.86 276.044 2184.94 273.498 Q2183.04 270.952 2179.59 270.952 Q2176.16 270.952 2174.24 273.498 Q2172.34 276.044 2172.34 280.674 Q2172.34 285.28 2174.24 287.826 Q2176.16 290.373 2179.59 290.373 Q2183.04 290.373 2184.94 287.826 Q2186.86 285.28 2186.86 280.674 M2191.12 290.72 Q2191.12 297.34 2188.18 300.558 Q2185.24 303.799 2179.17 303.799 Q2176.93 303.799 2174.94 303.451 Q2172.95 303.127 2171.07 302.433 L2171.07 298.289 Q2172.95 299.308 2174.78 299.794 Q2176.6 300.28 2178.5 300.28 Q2182.69 300.28 2184.78 298.081 Q2186.86 295.905 2186.86 291.484 L2186.86 289.377 Q2185.54 291.669 2183.48 292.803 Q2181.42 293.938 2178.55 293.938 Q2173.78 293.938 2170.86 290.303 Q2167.95 286.669 2167.95 280.674 Q2167.95 274.655 2170.86 271.021 Q2173.78 267.387 2178.55 267.387 Q2181.42 267.387 2183.48 268.521 Q2185.54 269.655 2186.86 271.947 L2186.86 268.012 L2191.12 268.012 L2191.12 290.72 Z\" fill=\"#000000\" fill-rule=\"evenodd\" fill-opacity=\"1\" /><polyline clip-path=\"url(#clip210)\" style=\"stroke:#c271d2; stroke-width:4; stroke-opacity:1; fill:none\" points=\"\n",
       "  1837.66,337.138 1983.74,337.138 \n",
       "  \"/>\n",
       "<path clip-path=\"url(#clip210)\" d=\"M 0 0 M2023.71 335.783 Q2027.07 336.501 2028.94 338.769 Q2030.84 341.038 2030.84 344.371 Q2030.84 349.487 2027.32 352.288 Q2023.8 355.089 2017.32 355.089 Q2015.15 355.089 2012.83 354.649 Q2010.54 354.232 2008.09 353.376 L2008.09 348.862 Q2010.03 349.996 2012.35 350.575 Q2014.66 351.154 2017.18 351.154 Q2021.58 351.154 2023.87 349.418 Q2026.19 347.681 2026.19 344.371 Q2026.19 341.316 2024.04 339.603 Q2021.91 337.867 2018.09 337.867 L2014.06 337.867 L2014.06 334.024 L2018.27 334.024 Q2021.72 334.024 2023.55 332.658 Q2025.38 331.27 2025.38 328.677 Q2025.38 326.015 2023.48 324.603 Q2021.6 323.168 2018.09 323.168 Q2016.16 323.168 2013.97 323.584 Q2011.77 324.001 2009.13 324.881 L2009.13 320.714 Q2011.79 319.973 2014.1 319.603 Q2016.44 319.233 2018.5 319.233 Q2023.83 319.233 2026.93 321.663 Q2030.03 324.07 2030.03 328.191 Q2030.03 331.061 2028.39 333.052 Q2026.74 335.02 2023.71 335.783 Z\" fill=\"#000000\" fill-rule=\"evenodd\" fill-opacity=\"1\" /><path clip-path=\"url(#clip210)\" d=\"M 0 0 M2045.91 322.936 Q2042.3 322.936 2040.47 326.501 Q2038.66 330.043 2038.66 337.172 Q2038.66 344.279 2040.47 347.844 Q2042.3 351.385 2045.91 351.385 Q2049.54 351.385 2051.35 347.844 Q2053.18 344.279 2053.18 337.172 Q2053.18 330.043 2051.35 326.501 Q2049.54 322.936 2045.91 322.936 M2045.91 319.233 Q2051.72 319.233 2054.78 323.839 Q2057.85 328.422 2057.85 337.172 Q2057.85 345.899 2054.78 350.506 Q2051.72 355.089 2045.91 355.089 Q2040.1 355.089 2037.02 350.506 Q2033.97 345.899 2033.97 337.172 Q2033.97 328.422 2037.02 323.839 Q2040.1 319.233 2045.91 319.233 Z\" fill=\"#000000\" fill-rule=\"evenodd\" fill-opacity=\"1\" /><path clip-path=\"url(#clip210)\" d=\"M 0 0 M2072.92 322.936 Q2069.31 322.936 2067.48 326.501 Q2065.68 330.043 2065.68 337.172 Q2065.68 344.279 2067.48 347.844 Q2069.31 351.385 2072.92 351.385 Q2076.56 351.385 2078.36 347.844 Q2080.19 344.279 2080.19 337.172 Q2080.19 330.043 2078.36 326.501 Q2076.56 322.936 2072.92 322.936 M2072.92 319.233 Q2078.73 319.233 2081.79 323.839 Q2084.87 328.422 2084.87 337.172 Q2084.87 345.899 2081.79 350.506 Q2078.73 355.089 2072.92 355.089 Q2067.11 355.089 2064.04 350.506 Q2060.98 345.899 2060.98 337.172 Q2060.98 328.422 2064.04 323.839 Q2067.11 319.233 2072.92 319.233 Z\" fill=\"#000000\" fill-rule=\"evenodd\" fill-opacity=\"1\" /><path clip-path=\"url(#clip210)\" d=\"M 0 0 M2089.94 348.538 L2094.82 348.538 L2094.82 354.418 L2089.94 354.418 L2089.94 348.538 Z\" fill=\"#000000\" fill-rule=\"evenodd\" fill-opacity=\"1\" /><path clip-path=\"url(#clip210)\" d=\"M 0 0 M2109.89 322.936 Q2106.28 322.936 2104.45 326.501 Q2102.65 330.043 2102.65 337.172 Q2102.65 344.279 2104.45 347.844 Q2106.28 351.385 2109.89 351.385 Q2113.53 351.385 2115.33 347.844 Q2117.16 344.279 2117.16 337.172 Q2117.16 330.043 2115.33 326.501 Q2113.53 322.936 2109.89 322.936 M2109.89 319.233 Q2115.7 319.233 2118.76 323.839 Q2121.84 328.422 2121.84 337.172 Q2121.84 345.899 2118.76 350.506 Q2115.7 355.089 2109.89 355.089 Q2104.08 355.089 2101 350.506 Q2097.95 345.899 2097.95 337.172 Q2097.95 328.422 2101 323.839 Q2104.08 319.233 2109.89 319.233 Z\" fill=\"#000000\" fill-rule=\"evenodd\" fill-opacity=\"1\" /><path clip-path=\"url(#clip210)\" d=\"M 0 0 M2161.56 333.469 Q2163.15 330.598 2165.38 329.233 Q2167.6 327.867 2170.61 327.867 Q2174.66 327.867 2176.86 330.714 Q2179.06 333.538 2179.06 338.769 L2179.06 354.418 L2174.78 354.418 L2174.78 338.908 Q2174.78 335.182 2173.46 333.376 Q2172.14 331.57 2169.43 331.57 Q2166.12 331.57 2164.2 333.77 Q2162.28 335.969 2162.28 339.765 L2162.28 354.418 L2157.99 354.418 L2157.99 338.908 Q2157.99 335.158 2156.67 333.376 Q2155.35 331.57 2152.6 331.57 Q2149.34 331.57 2147.41 333.793 Q2145.49 335.992 2145.49 339.765 L2145.49 354.418 L2141.21 354.418 L2141.21 328.492 L2145.49 328.492 L2145.49 332.52 Q2146.95 330.135 2148.99 329.001 Q2151.03 327.867 2153.83 327.867 Q2156.65 327.867 2158.62 329.302 Q2160.61 330.737 2161.56 333.469 Z\" fill=\"#000000\" fill-rule=\"evenodd\" fill-opacity=\"1\" /><path clip-path=\"url(#clip210)\" d=\"M 0 0 M2200.59 341.154 Q2200.59 336.524 2198.66 333.978 Q2196.77 331.432 2193.32 331.432 Q2189.89 331.432 2187.97 333.978 Q2186.07 336.524 2186.07 341.154 Q2186.07 345.76 2187.97 348.306 Q2189.89 350.853 2193.32 350.853 Q2196.77 350.853 2198.66 348.306 Q2200.59 345.76 2200.59 341.154 M2204.84 351.2 Q2204.84 357.82 2201.9 361.038 Q2198.96 364.279 2192.9 364.279 Q2190.65 364.279 2188.66 363.931 Q2186.67 363.607 2184.8 362.913 L2184.8 358.769 Q2186.67 359.788 2188.5 360.274 Q2190.33 360.76 2192.23 360.76 Q2196.42 360.76 2198.5 358.561 Q2200.59 356.385 2200.59 351.964 L2200.59 349.857 Q2199.27 352.149 2197.21 353.283 Q2195.15 354.418 2192.28 354.418 Q2187.51 354.418 2184.59 350.783 Q2181.67 347.149 2181.67 341.154 Q2181.67 335.135 2184.59 331.501 Q2187.51 327.867 2192.28 327.867 Q2195.15 327.867 2197.21 329.001 Q2199.27 330.135 2200.59 332.427 L2200.59 328.492 L2204.84 328.492 L2204.84 351.2 Z\" fill=\"#000000\" fill-rule=\"evenodd\" fill-opacity=\"1\" /><polyline clip-path=\"url(#clip210)\" style=\"stroke:#ffff00; stroke-width:4; stroke-opacity:1; fill:none\" points=\"\n",
       "  1837.66,397.618 1983.74,397.618 \n",
       "  \"/>\n",
       "<circle clip-path=\"url(#clip210)\" cx=\"1910.7\" cy=\"397.618\" r=\"23\" fill=\"#ffff00\" fill-rule=\"evenodd\" fill-opacity=\"1\" stroke=\"#000000\" stroke-opacity=\"1\" stroke-width=\"6.82667\"/>\n",
       "<path clip-path=\"url(#clip210)\" d=\"M 0 0 M2015.49 381.611 L2015.49 388.972 L2024.27 388.972 L2024.27 392.282 L2015.49 392.282 L2015.49 406.356 Q2015.49 409.527 2016.35 410.43 Q2017.23 411.333 2019.89 411.333 L2024.27 411.333 L2024.27 414.898 L2019.89 414.898 Q2014.96 414.898 2013.09 413.069 Q2011.21 411.217 2011.21 406.356 L2011.21 392.282 L2008.09 392.282 L2008.09 388.972 L2011.21 388.972 L2011.21 381.611 L2015.49 381.611 Z\" fill=\"#000000\" fill-rule=\"evenodd\" fill-opacity=\"1\" /><path clip-path=\"url(#clip210)\" d=\"M 0 0 M2060.86 392.907 L2060.86 378.879 L2065.12 378.879 L2065.12 414.898 L2060.86 414.898 L2060.86 411.009 Q2059.52 413.323 2057.46 414.458 Q2055.42 415.569 2052.55 415.569 Q2047.85 415.569 2044.89 411.819 Q2041.95 408.069 2041.95 401.958 Q2041.95 395.847 2044.89 392.097 Q2047.85 388.347 2052.55 388.347 Q2055.42 388.347 2057.46 389.481 Q2059.52 390.592 2060.86 392.907 M2046.35 401.958 Q2046.35 406.657 2048.27 409.342 Q2050.22 412.004 2053.6 412.004 Q2056.97 412.004 2058.92 409.342 Q2060.86 406.657 2060.86 401.958 Q2060.86 397.259 2058.92 394.597 Q2056.97 391.912 2053.6 391.912 Q2050.22 391.912 2048.27 394.597 Q2046.35 397.259 2046.35 401.958 Z\" fill=\"#000000\" fill-rule=\"evenodd\" fill-opacity=\"1\" /><path clip-path=\"url(#clip210)\" d=\"M 0 0 M2069.59 378.879 L2073.85 378.879 L2073.85 414.898 L2069.59 414.898 L2069.59 378.879 Z\" fill=\"#000000\" fill-rule=\"evenodd\" fill-opacity=\"1\" /><path clip-path=\"url(#clip210)\" d=\"M 0 0 M2090.1 401.865 Q2084.94 401.865 2082.95 403.046 Q2080.96 404.226 2080.96 407.074 Q2080.96 409.342 2082.44 410.685 Q2083.94 412.004 2086.51 412.004 Q2090.05 412.004 2092.18 409.504 Q2094.34 406.981 2094.34 402.814 L2094.34 401.865 L2090.1 401.865 M2098.6 400.106 L2098.6 414.898 L2094.34 414.898 L2094.34 410.962 Q2092.88 413.323 2090.7 414.458 Q2088.53 415.569 2085.38 415.569 Q2081.4 415.569 2079.03 413.347 Q2076.7 411.101 2076.7 407.351 Q2076.7 402.976 2079.61 400.754 Q2082.55 398.532 2088.36 398.532 L2094.34 398.532 L2094.34 398.115 Q2094.34 395.175 2092.39 393.578 Q2090.47 391.958 2086.97 391.958 Q2084.75 391.958 2082.65 392.49 Q2080.54 393.023 2078.6 394.087 L2078.6 390.152 Q2080.93 389.25 2083.13 388.81 Q2085.33 388.347 2087.41 388.347 Q2093.04 388.347 2095.82 391.263 Q2098.6 394.18 2098.6 400.106 Z\" fill=\"#000000\" fill-rule=\"evenodd\" fill-opacity=\"1\" /><path clip-path=\"url(#clip210)\" d=\"M 0 0 M2129.31 395.754 Q2126.16 395.754 2124.31 397.907 Q2122.48 400.06 2122.48 403.81 Q2122.48 407.536 2124.31 409.712 Q2126.16 411.865 2129.31 411.865 Q2132.46 411.865 2134.29 409.712 Q2136.14 407.536 2136.14 403.81 Q2136.14 400.06 2134.29 397.907 Q2132.46 395.754 2129.31 395.754 M2138.59 381.101 L2138.59 385.361 Q2136.84 384.527 2135.03 384.088 Q2133.25 383.648 2131.49 383.648 Q2126.86 383.648 2124.41 386.773 Q2121.97 389.898 2121.63 396.217 Q2122.99 394.203 2125.05 393.138 Q2127.11 392.05 2129.59 392.05 Q2134.8 392.05 2137.81 395.222 Q2140.84 398.37 2140.84 403.81 Q2140.84 409.134 2137.69 412.351 Q2134.54 415.569 2129.31 415.569 Q2123.32 415.569 2120.15 410.986 Q2116.97 406.379 2116.97 397.652 Q2116.97 389.458 2120.86 384.597 Q2124.75 379.713 2131.3 379.713 Q2133.06 379.713 2134.84 380.06 Q2136.65 380.407 2138.59 381.101 Z\" fill=\"#000000\" fill-rule=\"evenodd\" fill-opacity=\"1\" /><path clip-path=\"url(#clip210)\" d=\"M 0 0 M2155.91 383.416 Q2152.3 383.416 2150.47 386.981 Q2148.66 390.523 2148.66 397.652 Q2148.66 404.759 2150.47 408.324 Q2152.3 411.865 2155.91 411.865 Q2159.54 411.865 2161.35 408.324 Q2163.18 404.759 2163.18 397.652 Q2163.18 390.523 2161.35 386.981 Q2159.54 383.416 2155.91 383.416 M2155.91 379.713 Q2161.72 379.713 2164.78 384.319 Q2167.85 388.902 2167.85 397.652 Q2167.85 406.379 2164.78 410.986 Q2161.72 415.569 2155.91 415.569 Q2150.1 415.569 2147.02 410.986 Q2143.97 406.379 2143.97 397.652 Q2143.97 388.902 2147.02 384.319 Q2150.1 379.713 2155.91 379.713 Z\" fill=\"#000000\" fill-rule=\"evenodd\" fill-opacity=\"1\" /><path clip-path=\"url(#clip210)\" d=\"M 0 0 M2182.92 383.416 Q2179.31 383.416 2177.48 386.981 Q2175.68 390.523 2175.68 397.652 Q2175.68 404.759 2177.48 408.324 Q2179.31 411.865 2182.92 411.865 Q2186.56 411.865 2188.36 408.324 Q2190.19 404.759 2190.19 397.652 Q2190.19 390.523 2188.36 386.981 Q2186.56 383.416 2182.92 383.416 M2182.92 379.713 Q2188.73 379.713 2191.79 384.319 Q2194.87 388.902 2194.87 397.652 Q2194.87 406.379 2191.79 410.986 Q2188.73 415.569 2182.92 415.569 Q2177.11 415.569 2174.03 410.986 Q2170.98 406.379 2170.98 397.652 Q2170.98 388.902 2174.03 384.319 Q2177.11 379.713 2182.92 379.713 Z\" fill=\"#000000\" fill-rule=\"evenodd\" fill-opacity=\"1\" /><polyline clip-path=\"url(#clip210)\" style=\"stroke:#ff0000; stroke-width:4; stroke-opacity:1; fill:none\" points=\"\n",
       "  1837.66,458.098 1983.74,458.098 \n",
       "  \"/>\n",
       "<circle clip-path=\"url(#clip210)\" cx=\"1910.7\" cy=\"458.098\" r=\"23\" fill=\"#ff0000\" fill-rule=\"evenodd\" fill-opacity=\"1\" stroke=\"#000000\" stroke-opacity=\"1\" stroke-width=\"6.82667\"/>\n",
       "<path clip-path=\"url(#clip210)\" d=\"M 0 0 M2015.49 442.091 L2015.49 449.452 L2024.27 449.452 L2024.27 452.762 L2015.49 452.762 L2015.49 466.836 Q2015.49 470.007 2016.35 470.91 Q2017.23 471.813 2019.89 471.813 L2024.27 471.813 L2024.27 475.378 L2019.89 475.378 Q2014.96 475.378 2013.09 473.549 Q2011.21 471.697 2011.21 466.836 L2011.21 452.762 L2008.09 452.762 L2008.09 449.452 L2011.21 449.452 L2011.21 442.091 L2015.49 442.091 Z\" fill=\"#000000\" fill-rule=\"evenodd\" fill-opacity=\"1\" /><path clip-path=\"url(#clip210)\" d=\"M 0 0 M2060.86 453.387 L2060.86 439.359 L2065.12 439.359 L2065.12 475.378 L2060.86 475.378 L2060.86 471.489 Q2059.52 473.803 2057.46 474.938 Q2055.42 476.049 2052.55 476.049 Q2047.85 476.049 2044.89 472.299 Q2041.95 468.549 2041.95 462.438 Q2041.95 456.327 2044.89 452.577 Q2047.85 448.827 2052.55 448.827 Q2055.42 448.827 2057.46 449.961 Q2059.52 451.072 2060.86 453.387 M2046.35 462.438 Q2046.35 467.137 2048.27 469.822 Q2050.22 472.484 2053.6 472.484 Q2056.97 472.484 2058.92 469.822 Q2060.86 467.137 2060.86 462.438 Q2060.86 457.739 2058.92 455.077 Q2056.97 452.392 2053.6 452.392 Q2050.22 452.392 2048.27 455.077 Q2046.35 457.739 2046.35 462.438 Z\" fill=\"#000000\" fill-rule=\"evenodd\" fill-opacity=\"1\" /><path clip-path=\"url(#clip210)\" d=\"M 0 0 M2069.59 439.359 L2073.85 439.359 L2073.85 475.378 L2069.59 475.378 L2069.59 439.359 Z\" fill=\"#000000\" fill-rule=\"evenodd\" fill-opacity=\"1\" /><path clip-path=\"url(#clip210)\" d=\"M 0 0 M2090.1 462.345 Q2084.94 462.345 2082.95 463.526 Q2080.96 464.706 2080.96 467.554 Q2080.96 469.822 2082.44 471.165 Q2083.94 472.484 2086.51 472.484 Q2090.05 472.484 2092.18 469.984 Q2094.34 467.461 2094.34 463.294 L2094.34 462.345 L2090.1 462.345 M2098.6 460.586 L2098.6 475.378 L2094.34 475.378 L2094.34 471.442 Q2092.88 473.803 2090.7 474.938 Q2088.53 476.049 2085.38 476.049 Q2081.4 476.049 2079.03 473.827 Q2076.7 471.581 2076.7 467.831 Q2076.7 463.456 2079.61 461.234 Q2082.55 459.012 2088.36 459.012 L2094.34 459.012 L2094.34 458.595 Q2094.34 455.655 2092.39 454.058 Q2090.47 452.438 2086.97 452.438 Q2084.75 452.438 2082.65 452.97 Q2080.54 453.503 2078.6 454.567 L2078.6 450.632 Q2080.93 449.73 2083.13 449.29 Q2085.33 448.827 2087.41 448.827 Q2093.04 448.827 2095.82 451.743 Q2098.6 454.66 2098.6 460.586 Z\" fill=\"#000000\" fill-rule=\"evenodd\" fill-opacity=\"1\" /><path clip-path=\"url(#clip210)\" d=\"M 0 0 M2119.54 471.442 L2127.18 471.442 L2127.18 445.077 L2118.87 446.743 L2118.87 442.484 L2127.14 440.818 L2131.81 440.818 L2131.81 471.442 L2139.45 471.442 L2139.45 475.378 L2119.54 475.378 L2119.54 471.442 Z\" fill=\"#000000\" fill-rule=\"evenodd\" fill-opacity=\"1\" /><path clip-path=\"url(#clip210)\" d=\"M 0 0 M2148.55 471.442 L2164.87 471.442 L2164.87 475.378 L2142.92 475.378 L2142.92 471.442 Q2145.59 468.688 2150.17 464.058 Q2154.78 459.405 2155.96 458.063 Q2158.2 455.54 2159.08 453.804 Q2159.98 452.044 2159.98 450.355 Q2159.98 447.6 2158.04 445.864 Q2156.12 444.128 2153.02 444.128 Q2150.82 444.128 2148.36 444.892 Q2145.93 445.655 2143.16 447.206 L2143.16 442.484 Q2145.98 441.35 2148.43 440.771 Q2150.89 440.193 2152.92 440.193 Q2158.29 440.193 2161.49 442.878 Q2164.68 445.563 2164.68 450.054 Q2164.68 452.183 2163.87 454.105 Q2163.09 456.003 2160.98 458.595 Q2160.4 459.267 2157.3 462.484 Q2154.2 465.679 2148.55 471.442 Z\" fill=\"#000000\" fill-rule=\"evenodd\" fill-opacity=\"1\" /><path clip-path=\"url(#clip210)\" d=\"M 0 0 M2179.94 443.896 Q2176.33 443.896 2174.5 447.461 Q2172.69 451.003 2172.69 458.132 Q2172.69 465.239 2174.5 468.804 Q2176.33 472.345 2179.94 472.345 Q2183.57 472.345 2185.38 468.804 Q2187.21 465.239 2187.21 458.132 Q2187.21 451.003 2185.38 447.461 Q2183.57 443.896 2179.94 443.896 M2179.94 440.193 Q2185.75 440.193 2188.8 444.799 Q2191.88 449.382 2191.88 458.132 Q2191.88 466.859 2188.8 471.466 Q2185.75 476.049 2179.94 476.049 Q2174.13 476.049 2171.05 471.466 Q2167.99 466.859 2167.99 458.132 Q2167.99 449.382 2171.05 444.799 Q2174.13 440.193 2179.94 440.193 Z\" fill=\"#000000\" fill-rule=\"evenodd\" fill-opacity=\"1\" /><path clip-path=\"url(#clip210)\" d=\"M 0 0 M2206.95 443.896 Q2203.34 443.896 2201.51 447.461 Q2199.71 451.003 2199.71 458.132 Q2199.71 465.239 2201.51 468.804 Q2203.34 472.345 2206.95 472.345 Q2210.59 472.345 2212.39 468.804 Q2214.22 465.239 2214.22 458.132 Q2214.22 451.003 2212.39 447.461 Q2210.59 443.896 2206.95 443.896 M2206.95 440.193 Q2212.76 440.193 2215.82 444.799 Q2218.9 449.382 2218.9 458.132 Q2218.9 466.859 2215.82 471.466 Q2212.76 476.049 2206.95 476.049 Q2201.14 476.049 2198.06 471.466 Q2195.01 466.859 2195.01 458.132 Q2195.01 449.382 2198.06 444.799 Q2201.14 440.193 2206.95 440.193 Z\" fill=\"#000000\" fill-rule=\"evenodd\" fill-opacity=\"1\" /><polyline clip-path=\"url(#clip210)\" style=\"stroke:#ffc0cb; stroke-width:4; stroke-opacity:1; fill:none\" points=\"\n",
       "  1837.66,518.578 1983.74,518.578 \n",
       "  \"/>\n",
       "<circle clip-path=\"url(#clip210)\" cx=\"1910.7\" cy=\"518.578\" r=\"23\" fill=\"#ffc0cb\" fill-rule=\"evenodd\" fill-opacity=\"1\" stroke=\"#000000\" stroke-opacity=\"1\" stroke-width=\"6.82667\"/>\n",
       "<path clip-path=\"url(#clip210)\" d=\"M 0 0 M2015.49 502.571 L2015.49 509.932 L2024.27 509.932 L2024.27 513.242 L2015.49 513.242 L2015.49 527.316 Q2015.49 530.487 2016.35 531.39 Q2017.23 532.293 2019.89 532.293 L2024.27 532.293 L2024.27 535.858 L2019.89 535.858 Q2014.96 535.858 2013.09 534.029 Q2011.21 532.177 2011.21 527.316 L2011.21 513.242 L2008.09 513.242 L2008.09 509.932 L2011.21 509.932 L2011.21 502.571 L2015.49 502.571 Z\" fill=\"#000000\" fill-rule=\"evenodd\" fill-opacity=\"1\" /><path clip-path=\"url(#clip210)\" d=\"M 0 0 M2060.86 513.867 L2060.86 499.839 L2065.12 499.839 L2065.12 535.858 L2060.86 535.858 L2060.86 531.969 Q2059.52 534.283 2057.46 535.418 Q2055.42 536.529 2052.55 536.529 Q2047.85 536.529 2044.89 532.779 Q2041.95 529.029 2041.95 522.918 Q2041.95 516.807 2044.89 513.057 Q2047.85 509.307 2052.55 509.307 Q2055.42 509.307 2057.46 510.441 Q2059.52 511.552 2060.86 513.867 M2046.35 522.918 Q2046.35 527.617 2048.27 530.302 Q2050.22 532.964 2053.6 532.964 Q2056.97 532.964 2058.92 530.302 Q2060.86 527.617 2060.86 522.918 Q2060.86 518.219 2058.92 515.557 Q2056.97 512.872 2053.6 512.872 Q2050.22 512.872 2048.27 515.557 Q2046.35 518.219 2046.35 522.918 Z\" fill=\"#000000\" fill-rule=\"evenodd\" fill-opacity=\"1\" /><path clip-path=\"url(#clip210)\" d=\"M 0 0 M2069.59 499.839 L2073.85 499.839 L2073.85 535.858 L2069.59 535.858 L2069.59 499.839 Z\" fill=\"#000000\" fill-rule=\"evenodd\" fill-opacity=\"1\" /><path clip-path=\"url(#clip210)\" d=\"M 0 0 M2090.1 522.825 Q2084.94 522.825 2082.95 524.006 Q2080.96 525.186 2080.96 528.034 Q2080.96 530.302 2082.44 531.645 Q2083.94 532.964 2086.51 532.964 Q2090.05 532.964 2092.18 530.464 Q2094.34 527.941 2094.34 523.774 L2094.34 522.825 L2090.1 522.825 M2098.6 521.066 L2098.6 535.858 L2094.34 535.858 L2094.34 531.922 Q2092.88 534.283 2090.7 535.418 Q2088.53 536.529 2085.38 536.529 Q2081.4 536.529 2079.03 534.307 Q2076.7 532.061 2076.7 528.311 Q2076.7 523.936 2079.61 521.714 Q2082.55 519.492 2088.36 519.492 L2094.34 519.492 L2094.34 519.075 Q2094.34 516.135 2092.39 514.538 Q2090.47 512.918 2086.97 512.918 Q2084.75 512.918 2082.65 513.45 Q2080.54 513.983 2078.6 515.047 L2078.6 511.112 Q2080.93 510.21 2083.13 509.77 Q2085.33 509.307 2087.41 509.307 Q2093.04 509.307 2095.82 512.223 Q2098.6 515.14 2098.6 521.066 Z\" fill=\"#000000\" fill-rule=\"evenodd\" fill-opacity=\"1\" /><path clip-path=\"url(#clip210)\" d=\"M 0 0 M2132.9 517.223 Q2136.26 517.941 2138.13 520.209 Q2140.03 522.478 2140.03 525.811 Q2140.03 530.927 2136.51 533.728 Q2132.99 536.529 2126.51 536.529 Q2124.34 536.529 2122.02 536.089 Q2119.73 535.672 2117.28 534.816 L2117.28 530.302 Q2119.22 531.436 2121.53 532.015 Q2123.85 532.594 2126.37 532.594 Q2130.77 532.594 2133.06 530.858 Q2135.38 529.121 2135.38 525.811 Q2135.38 522.756 2133.22 521.043 Q2131.09 519.307 2127.28 519.307 L2123.25 519.307 L2123.25 515.464 L2127.46 515.464 Q2130.91 515.464 2132.74 514.098 Q2134.57 512.71 2134.57 510.117 Q2134.57 507.455 2132.67 506.043 Q2130.79 504.608 2127.28 504.608 Q2125.35 504.608 2123.16 505.024 Q2120.96 505.441 2118.32 506.321 L2118.32 502.154 Q2120.98 501.413 2123.29 501.043 Q2125.63 500.673 2127.69 500.673 Q2133.02 500.673 2136.12 503.103 Q2139.22 505.51 2139.22 509.631 Q2139.22 512.501 2137.58 514.492 Q2135.93 516.46 2132.9 517.223 Z\" fill=\"#000000\" fill-rule=\"evenodd\" fill-opacity=\"1\" /><path clip-path=\"url(#clip210)\" d=\"M 0 0 M2155.1 504.376 Q2151.49 504.376 2149.66 507.941 Q2147.85 511.483 2147.85 518.612 Q2147.85 525.719 2149.66 529.284 Q2151.49 532.825 2155.1 532.825 Q2158.73 532.825 2160.54 529.284 Q2162.37 525.719 2162.37 518.612 Q2162.37 511.483 2160.54 507.941 Q2158.73 504.376 2155.1 504.376 M2155.1 500.673 Q2160.91 500.673 2163.97 505.279 Q2167.04 509.862 2167.04 518.612 Q2167.04 527.339 2163.97 531.946 Q2160.91 536.529 2155.1 536.529 Q2149.29 536.529 2146.21 531.946 Q2143.16 527.339 2143.16 518.612 Q2143.16 509.862 2146.21 505.279 Q2149.29 500.673 2155.1 500.673 Z\" fill=\"#000000\" fill-rule=\"evenodd\" fill-opacity=\"1\" /><path clip-path=\"url(#clip210)\" d=\"M 0 0 M2182.11 504.376 Q2178.5 504.376 2176.67 507.941 Q2174.87 511.483 2174.87 518.612 Q2174.87 525.719 2176.67 529.284 Q2178.5 532.825 2182.11 532.825 Q2185.75 532.825 2187.55 529.284 Q2189.38 525.719 2189.38 518.612 Q2189.38 511.483 2187.55 507.941 Q2185.75 504.376 2182.11 504.376 M2182.11 500.673 Q2187.92 500.673 2190.98 505.279 Q2194.06 509.862 2194.06 518.612 Q2194.06 527.339 2190.98 531.946 Q2187.92 536.529 2182.11 536.529 Q2176.3 536.529 2173.22 531.946 Q2170.17 527.339 2170.17 518.612 Q2170.17 509.862 2173.22 505.279 Q2176.3 500.673 2182.11 500.673 Z\" fill=\"#000000\" fill-rule=\"evenodd\" fill-opacity=\"1\" /><path clip-path=\"url(#clip210)\" d=\"M 0 0 M2199.13 529.978 L2204.01 529.978 L2204.01 535.858 L2199.13 535.858 L2199.13 529.978 Z\" fill=\"#000000\" fill-rule=\"evenodd\" fill-opacity=\"1\" /><path clip-path=\"url(#clip210)\" d=\"M 0 0 M2219.08 504.376 Q2215.47 504.376 2213.64 507.941 Q2211.84 511.483 2211.84 518.612 Q2211.84 525.719 2213.64 529.284 Q2215.47 532.825 2219.08 532.825 Q2222.71 532.825 2224.52 529.284 Q2226.35 525.719 2226.35 518.612 Q2226.35 511.483 2224.52 507.941 Q2222.71 504.376 2219.08 504.376 M2219.08 500.673 Q2224.89 500.673 2227.95 505.279 Q2231.02 509.862 2231.02 518.612 Q2231.02 527.339 2227.95 531.946 Q2224.89 536.529 2219.08 536.529 Q2213.27 536.529 2210.19 531.946 Q2207.14 527.339 2207.14 518.612 Q2207.14 509.862 2210.19 505.279 Q2213.27 500.673 2219.08 500.673 Z\" fill=\"#000000\" fill-rule=\"evenodd\" fill-opacity=\"1\" /></svg>\n"
      ]
     },
     "execution_count": 722,
     "metadata": {},
     "output_type": "execute_result"
    }
   ],
   "source": [
    "plot!([time₀], [MIC], markers = :circle, color=\"yellow\", markersize = 3,label=\"t dla $X₀\")\n",
    "plot!([time₂], [MIC], markers = :circle, color=\"red\", markersize = 3,label=\"t dla $X₂\")\n",
    "plot!([time₃], [MIC], markers = :circle, color=\"pink\", markersize = 3,label=\"t dla $X₃\")"
   ]
  },
  {
   "cell_type": "markdown",
   "metadata": {},
   "source": [
    "Można tutaj zauważyć, że im większa dawka tym czas po którym aplikacja leku powinna być powtórzona będzie większy. Nasuwa to na myśl pomysł by dać pacjentowi jak największą dawkę leku. Jednak warto zauważyć, że istnieje coś takiego jak minimalne stężenie toksyczne. \n",
    "\n",
    "Przyjmijmy że w naszych rozważaniach, że będzie ono wynosić 100 mg/l sprawia, że już dawka 1200 mg będzie osiągała to minimum i tym samym będzie już szkodliwa. "
   ]
  },
  {
   "cell_type": "code",
   "execution_count": 724,
   "metadata": {},
   "outputs": [],
   "source": [
    "MTC = 100;"
   ]
  },
  {
   "cell_type": "code",
   "execution_count": 725,
   "metadata": {},
   "outputs": [
    {
     "data": {
      "image/svg+xml": [
       "<?xml version=\"1.0\" encoding=\"utf-8\"?>\n",
       "<svg xmlns=\"http://www.w3.org/2000/svg\" xmlns:xlink=\"http://www.w3.org/1999/xlink\" width=\"600\" height=\"400\" viewBox=\"0 0 2400 1600\">\n",
       "<defs>\n",
       "  <clipPath id=\"clip250\">\n",
       "    <rect x=\"0\" y=\"0\" width=\"2400\" height=\"1600\"/>\n",
       "  </clipPath>\n",
       "</defs>\n",
       "<path clip-path=\"url(#clip250)\" d=\"\n",
       "M0 1600 L2400 1600 L2400 0 L0 0  Z\n",
       "  \" fill=\"#ffffff\" fill-rule=\"evenodd\" fill-opacity=\"1\"/>\n",
       "<defs>\n",
       "  <clipPath id=\"clip251\">\n",
       "    <rect x=\"480\" y=\"0\" width=\"1681\" height=\"1600\"/>\n",
       "  </clipPath>\n",
       "</defs>\n",
       "<path clip-path=\"url(#clip250)\" d=\"\n",
       "M161.598 1486.45 L2352.76 1486.45 L2352.76 47.2441 L161.598 47.2441  Z\n",
       "  \" fill=\"#ffffff\" fill-rule=\"evenodd\" fill-opacity=\"1\"/>\n",
       "<defs>\n",
       "  <clipPath id=\"clip252\">\n",
       "    <rect x=\"161\" y=\"47\" width=\"2192\" height=\"1440\"/>\n",
       "  </clipPath>\n",
       "</defs>\n",
       "<polyline clip-path=\"url(#clip252)\" style=\"stroke:#000000; stroke-width:2; stroke-opacity:0.1; fill:none\" points=\"\n",
       "  223.612,1486.45 223.612,47.2441 \n",
       "  \"/>\n",
       "<polyline clip-path=\"url(#clip252)\" style=\"stroke:#000000; stroke-width:2; stroke-opacity:0.1; fill:none\" points=\"\n",
       "  654.264,1486.45 654.264,47.2441 \n",
       "  \"/>\n",
       "<polyline clip-path=\"url(#clip252)\" style=\"stroke:#000000; stroke-width:2; stroke-opacity:0.1; fill:none\" points=\"\n",
       "  1084.92,1486.45 1084.92,47.2441 \n",
       "  \"/>\n",
       "<polyline clip-path=\"url(#clip252)\" style=\"stroke:#000000; stroke-width:2; stroke-opacity:0.1; fill:none\" points=\"\n",
       "  1515.57,1486.45 1515.57,47.2441 \n",
       "  \"/>\n",
       "<polyline clip-path=\"url(#clip252)\" style=\"stroke:#000000; stroke-width:2; stroke-opacity:0.1; fill:none\" points=\"\n",
       "  1946.22,1486.45 1946.22,47.2441 \n",
       "  \"/>\n",
       "<polyline clip-path=\"url(#clip250)\" style=\"stroke:#000000; stroke-width:4; stroke-opacity:1; fill:none\" points=\"\n",
       "  161.598,1486.45 2352.76,1486.45 \n",
       "  \"/>\n",
       "<polyline clip-path=\"url(#clip250)\" style=\"stroke:#000000; stroke-width:4; stroke-opacity:1; fill:none\" points=\"\n",
       "  223.612,1486.45 223.612,1469.18 \n",
       "  \"/>\n",
       "<polyline clip-path=\"url(#clip250)\" style=\"stroke:#000000; stroke-width:4; stroke-opacity:1; fill:none\" points=\"\n",
       "  654.264,1486.45 654.264,1469.18 \n",
       "  \"/>\n",
       "<polyline clip-path=\"url(#clip250)\" style=\"stroke:#000000; stroke-width:4; stroke-opacity:1; fill:none\" points=\"\n",
       "  1084.92,1486.45 1084.92,1469.18 \n",
       "  \"/>\n",
       "<polyline clip-path=\"url(#clip250)\" style=\"stroke:#000000; stroke-width:4; stroke-opacity:1; fill:none\" points=\"\n",
       "  1515.57,1486.45 1515.57,1469.18 \n",
       "  \"/>\n",
       "<polyline clip-path=\"url(#clip250)\" style=\"stroke:#000000; stroke-width:4; stroke-opacity:1; fill:none\" points=\"\n",
       "  1946.22,1486.45 1946.22,1469.18 \n",
       "  \"/>\n",
       "<path clip-path=\"url(#clip250)\" d=\"M 0 0 M205.128 1515.64 Q201.517 1515.64 199.689 1519.2 Q197.883 1522.75 197.883 1529.87 Q197.883 1536.98 199.689 1540.55 Q201.517 1544.09 205.128 1544.09 Q208.763 1544.09 210.568 1540.55 Q212.397 1536.98 212.397 1529.87 Q212.397 1522.75 210.568 1519.2 Q208.763 1515.64 205.128 1515.64 M205.128 1511.93 Q210.939 1511.93 213.994 1516.54 Q217.073 1521.12 217.073 1529.87 Q217.073 1538.6 213.994 1543.21 Q210.939 1547.79 205.128 1547.79 Q199.318 1547.79 196.24 1543.21 Q193.184 1538.6 193.184 1529.87 Q193.184 1521.12 196.24 1516.54 Q199.318 1511.93 205.128 1511.93 Z\" fill=\"#000000\" fill-rule=\"evenodd\" fill-opacity=\"1\" /><path clip-path=\"url(#clip250)\" d=\"M 0 0 M222.142 1541.24 L227.026 1541.24 L227.026 1547.12 L222.142 1547.12 L222.142 1541.24 Z\" fill=\"#000000\" fill-rule=\"evenodd\" fill-opacity=\"1\" /><path clip-path=\"url(#clip250)\" d=\"M 0 0 M242.096 1515.64 Q238.485 1515.64 236.656 1519.2 Q234.85 1522.75 234.85 1529.87 Q234.85 1536.98 236.656 1540.55 Q238.485 1544.09 242.096 1544.09 Q245.73 1544.09 247.536 1540.55 Q249.364 1536.98 249.364 1529.87 Q249.364 1522.75 247.536 1519.2 Q245.73 1515.64 242.096 1515.64 M242.096 1511.93 Q247.906 1511.93 250.961 1516.54 Q254.04 1521.12 254.04 1529.87 Q254.04 1538.6 250.961 1543.21 Q247.906 1547.79 242.096 1547.79 Q236.286 1547.79 233.207 1543.21 Q230.151 1538.6 230.151 1529.87 Q230.151 1521.12 233.207 1516.54 Q236.286 1511.93 242.096 1511.93 Z\" fill=\"#000000\" fill-rule=\"evenodd\" fill-opacity=\"1\" /><path clip-path=\"url(#clip250)\" d=\"M 0 0 M630.931 1543.18 L647.25 1543.18 L647.25 1547.12 L625.306 1547.12 L625.306 1543.18 Q627.968 1540.43 632.551 1535.8 Q637.158 1531.15 638.338 1529.81 Q640.584 1527.28 641.463 1525.55 Q642.366 1523.79 642.366 1522.1 Q642.366 1519.34 640.422 1517.61 Q638.5 1515.87 635.399 1515.87 Q633.199 1515.87 630.746 1516.63 Q628.315 1517.4 625.537 1518.95 L625.537 1514.23 Q628.362 1513.09 630.815 1512.51 Q633.269 1511.93 635.306 1511.93 Q640.676 1511.93 643.871 1514.62 Q647.065 1517.31 647.065 1521.8 Q647.065 1523.93 646.255 1525.85 Q645.468 1527.74 643.361 1530.34 Q642.783 1531.01 639.681 1534.23 Q636.579 1537.42 630.931 1543.18 Z\" fill=\"#000000\" fill-rule=\"evenodd\" fill-opacity=\"1\" /><path clip-path=\"url(#clip250)\" d=\"M 0 0 M652.32 1541.24 L657.204 1541.24 L657.204 1547.12 L652.32 1547.12 L652.32 1541.24 Z\" fill=\"#000000\" fill-rule=\"evenodd\" fill-opacity=\"1\" /><path clip-path=\"url(#clip250)\" d=\"M 0 0 M662.32 1512.56 L680.676 1512.56 L680.676 1516.5 L666.602 1516.5 L666.602 1524.97 Q667.621 1524.62 668.639 1524.46 Q669.658 1524.27 670.676 1524.27 Q676.463 1524.27 679.843 1527.44 Q683.222 1530.62 683.222 1536.03 Q683.222 1541.61 679.75 1544.71 Q676.278 1547.79 669.959 1547.79 Q667.783 1547.79 665.514 1547.42 Q663.269 1547.05 660.861 1546.31 L660.861 1541.61 Q662.945 1542.74 665.167 1543.3 Q667.389 1543.86 669.866 1543.86 Q673.871 1543.86 676.208 1541.75 Q678.546 1539.64 678.546 1536.03 Q678.546 1532.42 676.208 1530.31 Q673.871 1528.21 669.866 1528.21 Q667.991 1528.21 666.116 1528.62 Q664.264 1529.04 662.32 1529.92 L662.32 1512.56 Z\" fill=\"#000000\" fill-rule=\"evenodd\" fill-opacity=\"1\" /><path clip-path=\"url(#clip250)\" d=\"M 0 0 M1056.71 1512.56 L1075.07 1512.56 L1075.07 1516.5 L1060.99 1516.5 L1060.99 1524.97 Q1062.01 1524.62 1063.03 1524.46 Q1064.05 1524.27 1065.07 1524.27 Q1070.85 1524.27 1074.23 1527.44 Q1077.61 1530.62 1077.61 1536.03 Q1077.61 1541.61 1074.14 1544.71 Q1070.67 1547.79 1064.35 1547.79 Q1062.17 1547.79 1059.9 1547.42 Q1057.66 1547.05 1055.25 1546.31 L1055.25 1541.61 Q1057.34 1542.74 1059.56 1543.3 Q1061.78 1543.86 1064.26 1543.86 Q1068.26 1543.86 1070.6 1541.75 Q1072.94 1539.64 1072.94 1536.03 Q1072.94 1532.42 1070.6 1530.31 Q1068.26 1528.21 1064.26 1528.21 Q1062.38 1528.21 1060.51 1528.62 Q1058.65 1529.04 1056.71 1529.92 L1056.71 1512.56 Z\" fill=\"#000000\" fill-rule=\"evenodd\" fill-opacity=\"1\" /><path clip-path=\"url(#clip250)\" d=\"M 0 0 M1082.68 1541.24 L1087.57 1541.24 L1087.57 1547.12 L1082.68 1547.12 L1082.68 1541.24 Z\" fill=\"#000000\" fill-rule=\"evenodd\" fill-opacity=\"1\" /><path clip-path=\"url(#clip250)\" d=\"M 0 0 M1102.64 1515.64 Q1099.02 1515.64 1097.2 1519.2 Q1095.39 1522.75 1095.39 1529.87 Q1095.39 1536.98 1097.2 1540.55 Q1099.02 1544.09 1102.64 1544.09 Q1106.27 1544.09 1108.08 1540.55 Q1109.9 1536.98 1109.9 1529.87 Q1109.9 1522.75 1108.08 1519.2 Q1106.27 1515.64 1102.64 1515.64 M1102.64 1511.93 Q1108.45 1511.93 1111.5 1516.54 Q1114.58 1521.12 1114.58 1529.87 Q1114.58 1538.6 1111.5 1543.21 Q1108.45 1547.79 1102.64 1547.79 Q1096.83 1547.79 1093.75 1543.21 Q1090.69 1538.6 1090.69 1529.87 Q1090.69 1521.12 1093.75 1516.54 Q1096.83 1511.93 1102.64 1511.93 Z\" fill=\"#000000\" fill-rule=\"evenodd\" fill-opacity=\"1\" /><path clip-path=\"url(#clip250)\" d=\"M 0 0 M1486.47 1512.56 L1508.69 1512.56 L1508.69 1514.55 L1496.15 1547.12 L1491.26 1547.12 L1503.07 1516.5 L1486.47 1516.5 L1486.47 1512.56 Z\" fill=\"#000000\" fill-rule=\"evenodd\" fill-opacity=\"1\" /><path clip-path=\"url(#clip250)\" d=\"M 0 0 M1513.76 1541.24 L1518.65 1541.24 L1518.65 1547.12 L1513.76 1547.12 L1513.76 1541.24 Z\" fill=\"#000000\" fill-rule=\"evenodd\" fill-opacity=\"1\" /><path clip-path=\"url(#clip250)\" d=\"M 0 0 M1523.76 1512.56 L1542.12 1512.56 L1542.12 1516.5 L1528.05 1516.5 L1528.05 1524.97 Q1529.06 1524.62 1530.08 1524.46 Q1531.1 1524.27 1532.12 1524.27 Q1537.91 1524.27 1541.29 1527.44 Q1544.67 1530.62 1544.67 1536.03 Q1544.67 1541.61 1541.19 1544.71 Q1537.72 1547.79 1531.4 1547.79 Q1529.23 1547.79 1526.96 1547.42 Q1524.71 1547.05 1522.3 1546.31 L1522.3 1541.61 Q1524.39 1542.74 1526.61 1543.3 Q1528.83 1543.86 1531.31 1543.86 Q1535.31 1543.86 1537.65 1541.75 Q1539.99 1539.64 1539.99 1536.03 Q1539.99 1532.42 1537.65 1530.31 Q1535.31 1528.21 1531.31 1528.21 Q1529.43 1528.21 1527.56 1528.62 Q1525.71 1529.04 1523.76 1529.92 L1523.76 1512.56 Z\" fill=\"#000000\" fill-rule=\"evenodd\" fill-opacity=\"1\" /><path clip-path=\"url(#clip250)\" d=\"M 0 0 M1904.61 1543.18 L1912.25 1543.18 L1912.25 1516.82 L1903.94 1518.49 L1903.94 1514.23 L1912.2 1512.56 L1916.88 1512.56 L1916.88 1543.18 L1924.52 1543.18 L1924.52 1547.12 L1904.61 1547.12 L1904.61 1543.18 Z\" fill=\"#000000\" fill-rule=\"evenodd\" fill-opacity=\"1\" /><path clip-path=\"url(#clip250)\" d=\"M 0 0 M1939.59 1515.64 Q1935.98 1515.64 1934.15 1519.2 Q1932.34 1522.75 1932.34 1529.87 Q1932.34 1536.98 1934.15 1540.55 Q1935.98 1544.09 1939.59 1544.09 Q1943.22 1544.09 1945.03 1540.55 Q1946.86 1536.98 1946.86 1529.87 Q1946.86 1522.75 1945.03 1519.2 Q1943.22 1515.64 1939.59 1515.64 M1939.59 1511.93 Q1945.4 1511.93 1948.45 1516.54 Q1951.53 1521.12 1951.53 1529.87 Q1951.53 1538.6 1948.45 1543.21 Q1945.4 1547.79 1939.59 1547.79 Q1933.78 1547.79 1930.7 1543.21 Q1927.64 1538.6 1927.64 1529.87 Q1927.64 1521.12 1930.7 1516.54 Q1933.78 1511.93 1939.59 1511.93 Z\" fill=\"#000000\" fill-rule=\"evenodd\" fill-opacity=\"1\" /><path clip-path=\"url(#clip250)\" d=\"M 0 0 M1956.6 1541.24 L1961.49 1541.24 L1961.49 1547.12 L1956.6 1547.12 L1956.6 1541.24 Z\" fill=\"#000000\" fill-rule=\"evenodd\" fill-opacity=\"1\" /><path clip-path=\"url(#clip250)\" d=\"M 0 0 M1976.56 1515.64 Q1972.94 1515.64 1971.12 1519.2 Q1969.31 1522.75 1969.31 1529.87 Q1969.31 1536.98 1971.12 1540.55 Q1972.94 1544.09 1976.56 1544.09 Q1980.19 1544.09 1982 1540.55 Q1983.82 1536.98 1983.82 1529.87 Q1983.82 1522.75 1982 1519.2 Q1980.19 1515.64 1976.56 1515.64 M1976.56 1511.93 Q1982.37 1511.93 1985.42 1516.54 Q1988.5 1521.12 1988.5 1529.87 Q1988.5 1538.6 1985.42 1543.21 Q1982.37 1547.79 1976.56 1547.79 Q1970.75 1547.79 1967.67 1543.21 Q1964.61 1538.6 1964.61 1529.87 Q1964.61 1521.12 1967.67 1516.54 Q1970.75 1511.93 1976.56 1511.93 Z\" fill=\"#000000\" fill-rule=\"evenodd\" fill-opacity=\"1\" /><polyline clip-path=\"url(#clip252)\" style=\"stroke:#000000; stroke-width:2; stroke-opacity:0.1; fill:none\" points=\"\n",
       "  161.598,1445.72 2352.76,1445.72 \n",
       "  \"/>\n",
       "<polyline clip-path=\"url(#clip252)\" style=\"stroke:#000000; stroke-width:2; stroke-opacity:0.1; fill:none\" points=\"\n",
       "  161.598,1006.15 2352.76,1006.15 \n",
       "  \"/>\n",
       "<polyline clip-path=\"url(#clip252)\" style=\"stroke:#000000; stroke-width:2; stroke-opacity:0.1; fill:none\" points=\"\n",
       "  161.598,566.579 2352.76,566.579 \n",
       "  \"/>\n",
       "<polyline clip-path=\"url(#clip252)\" style=\"stroke:#000000; stroke-width:2; stroke-opacity:0.1; fill:none\" points=\"\n",
       "  161.598,127.011 2352.76,127.011 \n",
       "  \"/>\n",
       "<polyline clip-path=\"url(#clip250)\" style=\"stroke:#000000; stroke-width:4; stroke-opacity:1; fill:none\" points=\"\n",
       "  161.598,1486.45 161.598,47.2441 \n",
       "  \"/>\n",
       "<polyline clip-path=\"url(#clip250)\" style=\"stroke:#000000; stroke-width:4; stroke-opacity:1; fill:none\" points=\"\n",
       "  161.598,1445.72 187.892,1445.72 \n",
       "  \"/>\n",
       "<polyline clip-path=\"url(#clip250)\" style=\"stroke:#000000; stroke-width:4; stroke-opacity:1; fill:none\" points=\"\n",
       "  161.598,1006.15 187.892,1006.15 \n",
       "  \"/>\n",
       "<polyline clip-path=\"url(#clip250)\" style=\"stroke:#000000; stroke-width:4; stroke-opacity:1; fill:none\" points=\"\n",
       "  161.598,566.579 187.892,566.579 \n",
       "  \"/>\n",
       "<polyline clip-path=\"url(#clip250)\" style=\"stroke:#000000; stroke-width:4; stroke-opacity:1; fill:none\" points=\"\n",
       "  161.598,127.011 187.892,127.011 \n",
       "  \"/>\n",
       "<path clip-path=\"url(#clip250)\" d=\"M 0 0 M113.654 1431.51 Q110.043 1431.51 108.214 1435.08 Q106.408 1438.62 106.408 1445.75 Q106.408 1452.86 108.214 1456.42 Q110.043 1459.96 113.654 1459.96 Q117.288 1459.96 119.094 1456.42 Q120.922 1452.86 120.922 1445.75 Q120.922 1438.62 119.094 1435.08 Q117.288 1431.51 113.654 1431.51 M113.654 1427.81 Q119.464 1427.81 122.52 1432.42 Q125.598 1437 125.598 1445.75 Q125.598 1454.48 122.52 1459.08 Q119.464 1463.67 113.654 1463.67 Q107.844 1463.67 104.765 1459.08 Q101.709 1454.48 101.709 1445.75 Q101.709 1437 104.765 1432.42 Q107.844 1427.81 113.654 1427.81 Z\" fill=\"#000000\" fill-rule=\"evenodd\" fill-opacity=\"1\" /><path clip-path=\"url(#clip250)\" d=\"M 0 0 M77.6818 988.868 L96.0382 988.868 L96.0382 992.803 L81.9642 992.803 L81.9642 1001.27 Q82.9827 1000.93 84.0012 1000.77 Q85.0197 1000.58 86.0382 1000.58 Q91.8252 1000.58 95.2049 1003.75 Q98.5845 1006.92 98.5845 1012.34 Q98.5845 1017.92 95.1123 1021.02 Q91.6401 1024.1 85.3206 1024.1 Q83.1447 1024.1 80.8762 1023.73 Q78.6309 1023.36 76.2235 1022.62 L76.2235 1017.92 Q78.3068 1019.05 80.529 1019.61 Q82.7512 1020.16 85.2281 1020.16 Q89.2327 1020.16 91.5706 1018.06 Q93.9086 1015.95 93.9086 1012.34 Q93.9086 1008.73 91.5706 1006.62 Q89.2327 1004.52 85.2281 1004.52 Q83.3531 1004.52 81.4781 1004.93 Q79.6262 1005.35 77.6818 1006.23 L77.6818 988.868 Z\" fill=\"#000000\" fill-rule=\"evenodd\" fill-opacity=\"1\" /><path clip-path=\"url(#clip250)\" d=\"M 0 0 M113.654 991.946 Q110.043 991.946 108.214 995.511 Q106.408 999.053 106.408 1006.18 Q106.408 1013.29 108.214 1016.85 Q110.043 1020.4 113.654 1020.4 Q117.288 1020.4 119.094 1016.85 Q120.922 1013.29 120.922 1006.18 Q120.922 999.053 119.094 995.511 Q117.288 991.946 113.654 991.946 M113.654 988.243 Q119.464 988.243 122.52 992.849 Q125.598 997.432 125.598 1006.18 Q125.598 1014.91 122.52 1019.52 Q119.464 1024.1 113.654 1024.1 Q107.844 1024.1 104.765 1019.52 Q101.709 1014.91 101.709 1006.18 Q101.709 997.432 104.765 992.849 Q107.844 988.243 113.654 988.243 Z\" fill=\"#000000\" fill-rule=\"evenodd\" fill-opacity=\"1\" /><path clip-path=\"url(#clip250)\" d=\"M 0 0 M51.6634 579.924 L59.3023 579.924 L59.3023 553.559 L50.9921 555.225 L50.9921 550.966 L59.256 549.299 L63.9319 549.299 L63.9319 579.924 L71.5707 579.924 L71.5707 583.859 L51.6634 583.859 L51.6634 579.924 Z\" fill=\"#000000\" fill-rule=\"evenodd\" fill-opacity=\"1\" /><path clip-path=\"url(#clip250)\" d=\"M 0 0 M86.6401 552.378 Q83.029 552.378 81.2003 555.943 Q79.3948 559.485 79.3948 566.614 Q79.3948 573.721 81.2003 577.285 Q83.029 580.827 86.6401 580.827 Q90.2743 580.827 92.0799 577.285 Q93.9086 573.721 93.9086 566.614 Q93.9086 559.485 92.0799 555.943 Q90.2743 552.378 86.6401 552.378 M86.6401 548.674 Q92.4502 548.674 95.5058 553.281 Q98.5845 557.864 98.5845 566.614 Q98.5845 575.341 95.5058 579.947 Q92.4502 584.531 86.6401 584.531 Q80.8299 584.531 77.7512 579.947 Q74.6957 575.341 74.6957 566.614 Q74.6957 557.864 77.7512 553.281 Q80.8299 548.674 86.6401 548.674 Z\" fill=\"#000000\" fill-rule=\"evenodd\" fill-opacity=\"1\" /><path clip-path=\"url(#clip250)\" d=\"M 0 0 M113.654 552.378 Q110.043 552.378 108.214 555.943 Q106.408 559.485 106.408 566.614 Q106.408 573.721 108.214 577.285 Q110.043 580.827 113.654 580.827 Q117.288 580.827 119.094 577.285 Q120.922 573.721 120.922 566.614 Q120.922 559.485 119.094 555.943 Q117.288 552.378 113.654 552.378 M113.654 548.674 Q119.464 548.674 122.52 553.281 Q125.598 557.864 125.598 566.614 Q125.598 575.341 122.52 579.947 Q119.464 584.531 113.654 584.531 Q107.844 584.531 104.765 579.947 Q101.709 575.341 101.709 566.614 Q101.709 557.864 104.765 553.281 Q107.844 548.674 113.654 548.674 Z\" fill=\"#000000\" fill-rule=\"evenodd\" fill-opacity=\"1\" /><path clip-path=\"url(#clip250)\" d=\"M 0 0 M52.6588 140.356 L60.2976 140.356 L60.2976 113.991 L51.9875 115.657 L51.9875 111.398 L60.2513 109.731 L64.9272 109.731 L64.9272 140.356 L72.5661 140.356 L72.5661 144.291 L52.6588 144.291 L52.6588 140.356 Z\" fill=\"#000000\" fill-rule=\"evenodd\" fill-opacity=\"1\" /><path clip-path=\"url(#clip250)\" d=\"M 0 0 M77.6818 109.731 L96.0382 109.731 L96.0382 113.666 L81.9642 113.666 L81.9642 122.139 Q82.9827 121.791 84.0012 121.629 Q85.0197 121.444 86.0382 121.444 Q91.8252 121.444 95.2049 124.615 Q98.5845 127.787 98.5845 133.203 Q98.5845 138.782 95.1123 141.884 Q91.6401 144.963 85.3206 144.963 Q83.1447 144.963 80.8762 144.592 Q78.6309 144.222 76.2235 143.481 L76.2235 138.782 Q78.3068 139.916 80.529 140.472 Q82.7512 141.027 85.2281 141.027 Q89.2327 141.027 91.5706 138.921 Q93.9086 136.814 93.9086 133.203 Q93.9086 129.592 91.5706 127.486 Q89.2327 125.379 85.2281 125.379 Q83.3531 125.379 81.4781 125.796 Q79.6262 126.213 77.6818 127.092 L77.6818 109.731 Z\" fill=\"#000000\" fill-rule=\"evenodd\" fill-opacity=\"1\" /><path clip-path=\"url(#clip250)\" d=\"M 0 0 M113.654 112.81 Q110.043 112.81 108.214 116.375 Q106.408 119.916 106.408 127.046 Q106.408 134.152 108.214 137.717 Q110.043 141.259 113.654 141.259 Q117.288 141.259 119.094 137.717 Q120.922 134.152 120.922 127.046 Q120.922 119.916 119.094 116.375 Q117.288 112.81 113.654 112.81 M113.654 109.106 Q119.464 109.106 122.52 113.713 Q125.598 118.296 125.598 127.046 Q125.598 135.773 122.52 140.379 Q119.464 144.963 113.654 144.963 Q107.844 144.963 104.765 140.379 Q101.709 135.773 101.709 127.046 Q101.709 118.296 104.765 113.713 Q107.844 109.106 113.654 109.106 Z\" fill=\"#000000\" fill-rule=\"evenodd\" fill-opacity=\"1\" /><polyline clip-path=\"url(#clip252)\" style=\"stroke:#009af9; stroke-width:4; stroke-opacity:1; fill:none\" points=\"\n",
       "  223.612,766.846 240.838,854.708 258.064,931.198 275.29,997.789 292.516,1055.76 309.743,1106.23 326.969,1150.17 344.195,1188.42 361.421,1221.72 378.647,1250.71 \n",
       "  395.873,1275.95 413.099,1297.92 430.325,1317.05 447.551,1333.7 464.777,1348.2 482.003,1360.82 499.229,1371.81 516.456,1381.37 533.682,1389.7 550.908,1396.95 \n",
       "  568.134,1403.26 585.36,1408.76 602.586,1413.54 619.812,1417.7 637.038,1421.33 654.264,1424.49 671.49,1427.23 688.716,1429.63 705.942,1431.71 723.168,1433.52 \n",
       "  740.395,1435.1 757.621,1436.47 774.847,1437.67 792.073,1438.71 809.299,1439.62 826.525,1440.41 843.751,1441.09 860.977,1441.69 878.203,1442.21 895.429,1442.67 \n",
       "  912.655,1443.06 929.881,1443.4 947.108,1443.7 964.334,1443.96 981.56,1444.19 998.786,1444.39 1016.01,1444.56 1033.24,1444.71 1050.46,1444.84 1067.69,1444.95 \n",
       "  1084.92,1445.05 1102.14,1445.14 1119.37,1445.21 1136.59,1445.28 1153.82,1445.33 1171.05,1445.38 1188.27,1445.43 1205.5,1445.46 1222.72,1445.5 1239.95,1445.52 \n",
       "  1257.18,1445.55 1274.4,1445.57 1291.63,1445.59 1308.86,1445.61 1326.08,1445.62 1343.31,1445.63 1360.53,1445.64 1377.76,1445.65 1394.99,1445.66 1412.21,1445.67 \n",
       "  1429.44,1445.67 1446.66,1445.68 1463.89,1445.68 1481.12,1445.69 1498.34,1445.69 1515.57,1445.69 1532.79,1445.7 1550.02,1445.7 1567.25,1445.7 1584.47,1445.7 \n",
       "  1601.7,1445.71 1618.92,1445.71 1636.15,1445.71 1653.38,1445.71 1670.6,1445.71 1687.83,1445.71 1705.06,1445.71 1722.28,1445.71 1739.51,1445.71 1756.73,1445.71 \n",
       "  1773.96,1445.71 1791.19,1445.71 1808.41,1445.71 1825.64,1445.71 1842.86,1445.71 1860.09,1445.71 1877.32,1445.71 1894.54,1445.71 1911.77,1445.71 1928.99,1445.71 \n",
       "  1946.22,1445.72 1963.45,1445.72 1980.67,1445.72 1997.9,1445.72 2015.12,1445.72 2032.35,1445.72 2049.58,1445.72 2066.8,1445.72 2084.03,1445.72 2101.26,1445.72 \n",
       "  2118.48,1445.72 2135.71,1445.72 2152.93,1445.72 2170.16,1445.72 2187.39,1445.72 2204.61,1445.72 2221.84,1445.72 2239.06,1445.72 2256.29,1445.72 2273.52,1445.72 \n",
       "  2290.74,1445.72 \n",
       "  \"/>\n",
       "<polyline clip-path=\"url(#clip252)\" style=\"stroke:#e26f46; stroke-width:4; stroke-opacity:1; fill:none\" stroke-dasharray=\"16, 10\" points=\"\n",
       "  223.612,1445.61 240.838,1445.61 258.064,1445.61 275.29,1445.61 292.516,1445.61 309.743,1445.61 326.969,1445.61 344.195,1445.61 361.421,1445.61 378.647,1445.61 \n",
       "  395.873,1445.61 413.099,1445.61 430.325,1445.61 447.551,1445.61 464.777,1445.61 482.003,1445.61 499.229,1445.61 516.456,1445.61 533.682,1445.61 550.908,1445.61 \n",
       "  568.134,1445.61 585.36,1445.61 602.586,1445.61 619.812,1445.61 637.038,1445.61 654.264,1445.61 671.49,1445.61 688.716,1445.61 705.942,1445.61 723.168,1445.61 \n",
       "  740.395,1445.61 757.621,1445.61 774.847,1445.61 792.073,1445.61 809.299,1445.61 826.525,1445.61 843.751,1445.61 860.977,1445.61 878.203,1445.61 895.429,1445.61 \n",
       "  912.655,1445.61 929.881,1445.61 947.108,1445.61 964.334,1445.61 981.56,1445.61 998.786,1445.61 1016.01,1445.61 1033.24,1445.61 1050.46,1445.61 1067.69,1445.61 \n",
       "  1084.92,1445.61 1102.14,1445.61 1119.37,1445.61 1136.59,1445.61 1153.82,1445.61 1171.05,1445.61 1188.27,1445.61 1205.5,1445.61 1222.72,1445.61 1239.95,1445.61 \n",
       "  1257.18,1445.61 1274.4,1445.61 1291.63,1445.61 1308.86,1445.61 1326.08,1445.61 1343.31,1445.61 1360.53,1445.61 1377.76,1445.61 1394.99,1445.61 1412.21,1445.61 \n",
       "  1429.44,1445.61 1446.66,1445.61 1463.89,1445.61 1481.12,1445.61 1498.34,1445.61 1515.57,1445.61 1532.79,1445.61 1550.02,1445.61 1567.25,1445.61 1584.47,1445.61 \n",
       "  1601.7,1445.61 1618.92,1445.61 1636.15,1445.61 1653.38,1445.61 1670.6,1445.61 1687.83,1445.61 1705.06,1445.61 1722.28,1445.61 1739.51,1445.61 1756.73,1445.61 \n",
       "  1773.96,1445.61 1791.19,1445.61 1808.41,1445.61 1825.64,1445.61 1842.86,1445.61 1860.09,1445.61 1877.32,1445.61 1894.54,1445.61 1911.77,1445.61 1928.99,1445.61 \n",
       "  1946.22,1445.61 1963.45,1445.61 1980.67,1445.61 1997.9,1445.61 2015.12,1445.61 2032.35,1445.61 2049.58,1445.61 2066.8,1445.61 2084.03,1445.61 2101.26,1445.61 \n",
       "  2118.48,1445.61 2135.71,1445.61 2152.93,1445.61 2170.16,1445.61 2187.39,1445.61 2204.61,1445.61 2221.84,1445.61 2239.06,1445.61 2256.29,1445.61 2273.52,1445.61 \n",
       "  2290.74,1445.61 \n",
       "  \"/>\n",
       "<polyline clip-path=\"url(#clip252)\" style=\"stroke:#3da44d; stroke-width:4; stroke-opacity:1; fill:none\" points=\"\n",
       "  223.612,87.9763 240.838,263.7 258.064,416.68 275.29,549.861 292.516,665.806 309.743,766.744 326.969,854.619 344.195,931.121 361.421,997.722 378.647,1055.7 \n",
       "  395.873,1106.18 413.099,1150.12 430.325,1188.38 447.551,1221.69 464.777,1250.68 482.003,1275.92 499.229,1297.9 516.456,1317.03 533.682,1333.68 550.908,1348.18 \n",
       "  568.134,1360.81 585.36,1371.8 602.586,1381.36 619.812,1389.69 637.038,1396.94 654.264,1403.25 671.49,1408.75 688.716,1413.53 705.942,1417.7 723.168,1421.33 \n",
       "  740.395,1424.48 757.621,1427.23 774.847,1429.62 792.073,1431.71 809.299,1433.52 826.525,1435.1 843.751,1436.47 860.977,1437.67 878.203,1438.71 895.429,1439.62 \n",
       "  912.655,1440.41 929.881,1441.09 947.108,1441.69 964.334,1442.21 981.56,1442.67 998.786,1443.06 1016.01,1443.4 1033.24,1443.7 1050.46,1443.96 1067.69,1444.19 \n",
       "  1084.92,1444.39 1102.14,1444.56 1119.37,1444.71 1136.59,1444.84 1153.82,1444.95 1171.05,1445.05 1188.27,1445.14 1205.5,1445.21 1222.72,1445.28 1239.95,1445.33 \n",
       "  1257.18,1445.38 1274.4,1445.43 1291.63,1445.46 1308.86,1445.5 1326.08,1445.52 1343.31,1445.55 1360.53,1445.57 1377.76,1445.59 1394.99,1445.61 1412.21,1445.62 \n",
       "  1429.44,1445.63 1446.66,1445.64 1463.89,1445.65 1481.12,1445.66 1498.34,1445.67 1515.57,1445.67 1532.79,1445.68 1550.02,1445.68 1567.25,1445.69 1584.47,1445.69 \n",
       "  1601.7,1445.69 1618.92,1445.7 1636.15,1445.7 1653.38,1445.7 1670.6,1445.7 1687.83,1445.71 1705.06,1445.71 1722.28,1445.71 1739.51,1445.71 1756.73,1445.71 \n",
       "  1773.96,1445.71 1791.19,1445.71 1808.41,1445.71 1825.64,1445.71 1842.86,1445.71 1860.09,1445.71 1877.32,1445.71 1894.54,1445.71 1911.77,1445.71 1928.99,1445.71 \n",
       "  1946.22,1445.71 1963.45,1445.71 1980.67,1445.71 1997.9,1445.71 2015.12,1445.71 2032.35,1445.72 2049.58,1445.72 2066.8,1445.72 2084.03,1445.72 2101.26,1445.72 \n",
       "  2118.48,1445.72 2135.71,1445.72 2152.93,1445.72 2170.16,1445.72 2187.39,1445.72 2204.61,1445.72 2221.84,1445.72 2239.06,1445.72 2256.29,1445.72 2273.52,1445.72 \n",
       "  2290.74,1445.72 \n",
       "  \"/>\n",
       "<polyline clip-path=\"url(#clip252)\" style=\"stroke:#c271d2; stroke-width:4; stroke-opacity:1; fill:none\" points=\"\n",
       "  223.612,1106.28 240.838,1150.21 258.064,1188.46 275.29,1221.75 292.516,1250.74 309.743,1275.97 326.969,1297.94 344.195,1317.07 361.421,1333.72 378.647,1348.21 \n",
       "  395.873,1360.83 413.099,1371.82 430.325,1381.38 447.551,1389.71 464.777,1396.96 482.003,1403.27 499.229,1408.76 516.456,1413.54 533.682,1417.71 550.908,1421.33 \n",
       "  568.134,1424.49 585.36,1427.24 602.586,1429.63 619.812,1431.71 637.038,1433.52 654.264,1435.1 671.49,1436.47 688.716,1437.67 705.942,1438.71 723.168,1439.62 \n",
       "  740.395,1440.41 757.621,1441.09 774.847,1441.69 792.073,1442.21 809.299,1442.67 826.525,1443.06 843.751,1443.4 860.977,1443.7 878.203,1443.96 895.429,1444.19 \n",
       "  912.655,1444.39 929.881,1444.56 947.108,1444.71 964.334,1444.84 981.56,1444.95 998.786,1445.05 1016.01,1445.14 1033.24,1445.21 1050.46,1445.28 1067.69,1445.33 \n",
       "  1084.92,1445.38 1102.14,1445.43 1119.37,1445.46 1136.59,1445.5 1153.82,1445.53 1171.05,1445.55 1188.27,1445.57 1205.5,1445.59 1222.72,1445.61 1239.95,1445.62 \n",
       "  1257.18,1445.63 1274.4,1445.64 1291.63,1445.65 1308.86,1445.66 1326.08,1445.67 1343.31,1445.67 1360.53,1445.68 1377.76,1445.68 1394.99,1445.69 1412.21,1445.69 \n",
       "  1429.44,1445.69 1446.66,1445.7 1463.89,1445.7 1481.12,1445.7 1498.34,1445.7 1515.57,1445.71 1532.79,1445.71 1550.02,1445.71 1567.25,1445.71 1584.47,1445.71 \n",
       "  1601.7,1445.71 1618.92,1445.71 1636.15,1445.71 1653.38,1445.71 1670.6,1445.71 1687.83,1445.71 1705.06,1445.71 1722.28,1445.71 1739.51,1445.71 1756.73,1445.71 \n",
       "  1773.96,1445.71 1791.19,1445.71 1808.41,1445.71 1825.64,1445.71 1842.86,1445.71 1860.09,1445.72 1877.32,1445.72 1894.54,1445.72 1911.77,1445.72 1928.99,1445.72 \n",
       "  1946.22,1445.72 1963.45,1445.72 1980.67,1445.72 1997.9,1445.72 2015.12,1445.72 2032.35,1445.72 2049.58,1445.72 2066.8,1445.72 2084.03,1445.72 2101.26,1445.72 \n",
       "  2118.48,1445.72 2135.71,1445.72 2152.93,1445.72 2170.16,1445.72 2187.39,1445.72 2204.61,1445.72 2221.84,1445.72 2239.06,1445.72 2256.29,1445.72 2273.52,1445.72 \n",
       "  2290.74,1445.72 \n",
       "  \"/>\n",
       "<circle clip-path=\"url(#clip252)\" cx=\"1313.54\" cy=\"1445.61\" r=\"10\" fill=\"#ffff00\" fill-rule=\"evenodd\" fill-opacity=\"1\" stroke=\"#000000\" stroke-opacity=\"1\" stroke-width=\"3.2\"/>\n",
       "<circle clip-path=\"url(#clip252)\" cx=\"1399.69\" cy=\"1445.61\" r=\"10\" fill=\"#ff0000\" fill-rule=\"evenodd\" fill-opacity=\"1\" stroke=\"#000000\" stroke-opacity=\"1\" stroke-width=\"3.2\"/>\n",
       "<circle clip-path=\"url(#clip252)\" cx=\"1227.39\" cy=\"1445.61\" r=\"10\" fill=\"#ffc0cb\" fill-rule=\"evenodd\" fill-opacity=\"1\" stroke=\"#000000\" stroke-opacity=\"1\" stroke-width=\"3.2\"/>\n",
       "<polyline clip-path=\"url(#clip252)\" style=\"stroke:#c68125; stroke-width:4; stroke-opacity:1; fill:none\" stroke-dasharray=\"16, 10\" points=\"\n",
       "  223.612,566.579 240.838,566.579 258.064,566.579 275.29,566.579 292.516,566.579 309.743,566.579 326.969,566.579 344.195,566.579 361.421,566.579 378.647,566.579 \n",
       "  395.873,566.579 413.099,566.579 430.325,566.579 447.551,566.579 464.777,566.579 482.003,566.579 499.229,566.579 516.456,566.579 533.682,566.579 550.908,566.579 \n",
       "  568.134,566.579 585.36,566.579 602.586,566.579 619.812,566.579 637.038,566.579 654.264,566.579 671.49,566.579 688.716,566.579 705.942,566.579 723.168,566.579 \n",
       "  740.395,566.579 757.621,566.579 774.847,566.579 792.073,566.579 809.299,566.579 826.525,566.579 843.751,566.579 860.977,566.579 878.203,566.579 895.429,566.579 \n",
       "  912.655,566.579 929.881,566.579 947.108,566.579 964.334,566.579 981.56,566.579 998.786,566.579 1016.01,566.579 1033.24,566.579 1050.46,566.579 1067.69,566.579 \n",
       "  1084.92,566.579 1102.14,566.579 1119.37,566.579 1136.59,566.579 1153.82,566.579 1171.05,566.579 1188.27,566.579 1205.5,566.579 1222.72,566.579 1239.95,566.579 \n",
       "  1257.18,566.579 1274.4,566.579 1291.63,566.579 1308.86,566.579 1326.08,566.579 1343.31,566.579 1360.53,566.579 1377.76,566.579 1394.99,566.579 1412.21,566.579 \n",
       "  1429.44,566.579 1446.66,566.579 1463.89,566.579 1481.12,566.579 1498.34,566.579 1515.57,566.579 1532.79,566.579 1550.02,566.579 1567.25,566.579 1584.47,566.579 \n",
       "  1601.7,566.579 1618.92,566.579 1636.15,566.579 1653.38,566.579 1670.6,566.579 1687.83,566.579 1705.06,566.579 1722.28,566.579 1739.51,566.579 1756.73,566.579 \n",
       "  1773.96,566.579 1791.19,566.579 1808.41,566.579 1825.64,566.579 1842.86,566.579 1860.09,566.579 1877.32,566.579 1894.54,566.579 1911.77,566.579 1928.99,566.579 \n",
       "  1946.22,566.579 1963.45,566.579 1980.67,566.579 1997.9,566.579 2015.12,566.579 2032.35,566.579 2049.58,566.579 2066.8,566.579 2084.03,566.579 2101.26,566.579 \n",
       "  2118.48,566.579 2135.71,566.579 2152.93,566.579 2170.16,566.579 2187.39,566.579 2204.61,566.579 2221.84,566.579 2239.06,566.579 2256.29,566.579 2273.52,566.579 \n",
       "  2290.74,566.579 \n",
       "  \"/>\n",
       "<path clip-path=\"url(#clip250)\" d=\"\n",
       "M1813.32 639.538 L2279.72 639.538 L2279.72 95.2176 L1813.32 95.2176  Z\n",
       "  \" fill=\"#ffffff\" fill-rule=\"evenodd\" fill-opacity=\"1\"/>\n",
       "<polyline clip-path=\"url(#clip250)\" style=\"stroke:#000000; stroke-width:4; stroke-opacity:1; fill:none\" points=\"\n",
       "  1813.32,639.538 2279.72,639.538 2279.72,95.2176 1813.32,95.2176 1813.32,639.538 \n",
       "  \"/>\n",
       "<polyline clip-path=\"url(#clip250)\" style=\"stroke:#009af9; stroke-width:4; stroke-opacity:1; fill:none\" points=\"\n",
       "  1837.66,155.698 1983.74,155.698 \n",
       "  \"/>\n",
       "<path clip-path=\"url(#clip250)\" d=\"M 0 0 M2020.42 153.834 Q2017.28 153.834 2015.42 155.987 Q2013.6 158.14 2013.6 161.89 Q2013.6 165.616 2015.42 167.792 Q2017.28 169.945 2020.42 169.945 Q2023.57 169.945 2025.4 167.792 Q2027.25 165.616 2027.25 161.89 Q2027.25 158.14 2025.4 155.987 Q2023.57 153.834 2020.42 153.834 M2029.71 139.181 L2029.71 143.441 Q2027.95 142.607 2026.14 142.168 Q2024.36 141.728 2022.6 141.728 Q2017.97 141.728 2015.52 144.853 Q2013.09 147.978 2012.74 154.297 Q2014.1 152.283 2016.16 151.218 Q2018.23 150.13 2020.7 150.13 Q2025.91 150.13 2028.92 153.302 Q2031.95 156.45 2031.95 161.89 Q2031.95 167.214 2028.8 170.431 Q2025.66 173.649 2020.42 173.649 Q2014.43 173.649 2011.26 169.066 Q2008.09 164.459 2008.09 155.732 Q2008.09 147.538 2011.98 142.677 Q2015.86 137.793 2022.41 137.793 Q2024.17 137.793 2025.96 138.14 Q2027.76 138.487 2029.71 139.181 Z\" fill=\"#000000\" fill-rule=\"evenodd\" fill-opacity=\"1\" /><path clip-path=\"url(#clip250)\" d=\"M 0 0 M2047.02 141.496 Q2043.41 141.496 2041.58 145.061 Q2039.78 148.603 2039.78 155.732 Q2039.78 162.839 2041.58 166.404 Q2043.41 169.945 2047.02 169.945 Q2050.66 169.945 2052.46 166.404 Q2054.29 162.839 2054.29 155.732 Q2054.29 148.603 2052.46 145.061 Q2050.66 141.496 2047.02 141.496 M2047.02 137.793 Q2052.83 137.793 2055.89 142.399 Q2058.97 146.982 2058.97 155.732 Q2058.97 164.459 2055.89 169.066 Q2052.83 173.649 2047.02 173.649 Q2041.21 173.649 2038.13 169.066 Q2035.08 164.459 2035.08 155.732 Q2035.08 146.982 2038.13 142.399 Q2041.21 137.793 2047.02 137.793 Z\" fill=\"#000000\" fill-rule=\"evenodd\" fill-opacity=\"1\" /><path clip-path=\"url(#clip250)\" d=\"M 0 0 M2074.04 141.496 Q2070.42 141.496 2068.6 145.061 Q2066.79 148.603 2066.79 155.732 Q2066.79 162.839 2068.6 166.404 Q2070.42 169.945 2074.04 169.945 Q2077.67 169.945 2079.47 166.404 Q2081.3 162.839 2081.3 155.732 Q2081.3 148.603 2079.47 145.061 Q2077.67 141.496 2074.04 141.496 M2074.04 137.793 Q2079.85 137.793 2082.9 142.399 Q2085.98 146.982 2085.98 155.732 Q2085.98 164.459 2082.9 169.066 Q2079.85 173.649 2074.04 173.649 Q2068.22 173.649 2065.15 169.066 Q2062.09 164.459 2062.09 155.732 Q2062.09 146.982 2065.15 142.399 Q2068.22 137.793 2074.04 137.793 Z\" fill=\"#000000\" fill-rule=\"evenodd\" fill-opacity=\"1\" /><path clip-path=\"url(#clip250)\" d=\"M 0 0 M2125.7 152.029 Q2127.3 149.158 2129.52 147.793 Q2131.74 146.427 2134.75 146.427 Q2138.8 146.427 2141 149.274 Q2143.2 152.098 2143.2 157.329 L2143.2 172.978 L2138.92 172.978 L2138.92 157.468 Q2138.92 153.742 2137.6 151.936 Q2136.28 150.13 2133.57 150.13 Q2130.26 150.13 2128.34 152.33 Q2126.42 154.529 2126.42 158.325 L2126.42 172.978 L2122.14 172.978 L2122.14 157.468 Q2122.14 153.718 2120.82 151.936 Q2119.5 150.13 2116.74 150.13 Q2113.48 150.13 2111.56 152.353 Q2109.64 154.552 2109.64 158.325 L2109.64 172.978 L2105.35 172.978 L2105.35 147.052 L2109.64 147.052 L2109.64 151.08 Q2111.1 148.695 2113.13 147.561 Q2115.17 146.427 2117.97 146.427 Q2120.79 146.427 2122.76 147.862 Q2124.75 149.297 2125.7 152.029 Z\" fill=\"#000000\" fill-rule=\"evenodd\" fill-opacity=\"1\" /><path clip-path=\"url(#clip250)\" d=\"M 0 0 M2164.73 159.714 Q2164.73 155.084 2162.81 152.538 Q2160.91 149.992 2157.46 149.992 Q2154.03 149.992 2152.11 152.538 Q2150.22 155.084 2150.22 159.714 Q2150.22 164.32 2152.11 166.866 Q2154.03 169.413 2157.46 169.413 Q2160.91 169.413 2162.81 166.866 Q2164.73 164.32 2164.73 159.714 M2168.99 169.76 Q2168.99 176.38 2166.05 179.598 Q2163.11 182.839 2157.04 182.839 Q2154.8 182.839 2152.81 182.491 Q2150.82 182.167 2148.94 181.473 L2148.94 177.329 Q2150.82 178.348 2152.65 178.834 Q2154.47 179.32 2156.37 179.32 Q2160.56 179.32 2162.65 177.121 Q2164.73 174.945 2164.73 170.524 L2164.73 168.417 Q2163.41 170.709 2161.35 171.843 Q2159.29 172.978 2156.42 172.978 Q2151.65 172.978 2148.73 169.343 Q2145.82 165.709 2145.82 159.714 Q2145.82 153.695 2148.73 150.061 Q2151.65 146.427 2156.42 146.427 Q2159.29 146.427 2161.35 147.561 Q2163.41 148.695 2164.73 150.987 L2164.73 147.052 L2168.99 147.052 L2168.99 169.76 Z\" fill=\"#000000\" fill-rule=\"evenodd\" fill-opacity=\"1\" /><polyline clip-path=\"url(#clip250)\" style=\"stroke:#e26f46; stroke-width:4; stroke-opacity:1; fill:none\" stroke-dasharray=\"16, 10\" points=\"\n",
       "  1837.66,216.178 1983.74,216.178 \n",
       "  \"/>\n",
       "<path clip-path=\"url(#clip250)\" d=\"M 0 0 M2008.09 198.898 L2015.05 198.898 L2023.87 222.416 L2032.74 198.898 L2039.71 198.898 L2039.71 233.458 L2035.15 233.458 L2035.15 203.11 L2026.23 226.814 L2021.54 226.814 L2012.62 203.11 L2012.62 233.458 L2008.09 233.458 L2008.09 198.898 Z\" fill=\"#000000\" fill-rule=\"evenodd\" fill-opacity=\"1\" /><path clip-path=\"url(#clip250)\" d=\"M 0 0 M2044.36 198.898 L2049.04 198.898 L2049.04 233.458 L2044.36 233.458 L2044.36 198.898 Z\" fill=\"#000000\" fill-rule=\"evenodd\" fill-opacity=\"1\" /><path clip-path=\"url(#clip250)\" d=\"M 0 0 M2079.57 201.56 L2079.57 206.49 Q2077.21 204.291 2074.52 203.203 Q2071.86 202.115 2068.85 202.115 Q2062.92 202.115 2059.78 205.749 Q2056.63 209.36 2056.63 216.212 Q2056.63 223.041 2059.78 226.675 Q2062.92 230.286 2068.85 230.286 Q2071.86 230.286 2074.52 229.198 Q2077.21 228.11 2079.57 225.911 L2079.57 230.796 Q2077.11 232.462 2074.36 233.296 Q2071.63 234.129 2068.57 234.129 Q2060.72 234.129 2056.21 229.337 Q2051.7 224.522 2051.7 216.212 Q2051.7 207.879 2056.21 203.087 Q2060.72 198.273 2068.57 198.273 Q2071.67 198.273 2074.41 199.106 Q2077.16 199.916 2079.57 201.56 Z\" fill=\"#000000\" fill-rule=\"evenodd\" fill-opacity=\"1\" /><polyline clip-path=\"url(#clip250)\" style=\"stroke:#3da44d; stroke-width:4; stroke-opacity:1; fill:none\" points=\"\n",
       "  1837.66,276.658 1983.74,276.658 \n",
       "  \"/>\n",
       "<path clip-path=\"url(#clip250)\" d=\"M 0 0 M2008.76 290.002 L2016.4 290.002 L2016.4 263.637 L2008.09 265.303 L2008.09 261.044 L2016.35 259.378 L2021.03 259.378 L2021.03 290.002 L2028.66 290.002 L2028.66 293.938 L2008.76 293.938 L2008.76 290.002 Z\" fill=\"#000000\" fill-rule=\"evenodd\" fill-opacity=\"1\" /><path clip-path=\"url(#clip250)\" d=\"M 0 0 M2037.76 290.002 L2054.08 290.002 L2054.08 293.938 L2032.14 293.938 L2032.14 290.002 Q2034.8 287.248 2039.38 282.618 Q2043.99 277.965 2045.17 276.623 Q2047.41 274.1 2048.29 272.364 Q2049.2 270.604 2049.2 268.915 Q2049.2 266.16 2047.25 264.424 Q2045.33 262.688 2042.23 262.688 Q2040.03 262.688 2037.58 263.452 Q2035.15 264.215 2032.37 265.766 L2032.37 261.044 Q2035.19 259.91 2037.65 259.331 Q2040.1 258.753 2042.14 258.753 Q2047.51 258.753 2050.7 261.438 Q2053.9 264.123 2053.9 268.614 Q2053.9 270.743 2053.09 272.665 Q2052.3 274.563 2050.19 277.155 Q2049.61 277.827 2046.51 281.044 Q2043.41 284.239 2037.76 290.002 Z\" fill=\"#000000\" fill-rule=\"evenodd\" fill-opacity=\"1\" /><path clip-path=\"url(#clip250)\" d=\"M 0 0 M2069.15 262.456 Q2065.54 262.456 2063.71 266.021 Q2061.91 269.563 2061.91 276.692 Q2061.91 283.799 2063.71 287.364 Q2065.54 290.905 2069.15 290.905 Q2072.79 290.905 2074.59 287.364 Q2076.42 283.799 2076.42 276.692 Q2076.42 269.563 2074.59 266.021 Q2072.79 262.456 2069.15 262.456 M2069.15 258.753 Q2074.96 258.753 2078.02 263.359 Q2081.1 267.942 2081.1 276.692 Q2081.1 285.419 2078.02 290.026 Q2074.96 294.609 2069.15 294.609 Q2063.34 294.609 2060.26 290.026 Q2057.21 285.419 2057.21 276.692 Q2057.21 267.942 2060.26 263.359 Q2063.34 258.753 2069.15 258.753 Z\" fill=\"#000000\" fill-rule=\"evenodd\" fill-opacity=\"1\" /><path clip-path=\"url(#clip250)\" d=\"M 0 0 M2096.16 262.456 Q2092.55 262.456 2090.72 266.021 Q2088.92 269.563 2088.92 276.692 Q2088.92 283.799 2090.72 287.364 Q2092.55 290.905 2096.16 290.905 Q2099.8 290.905 2101.6 287.364 Q2103.43 283.799 2103.43 276.692 Q2103.43 269.563 2101.6 266.021 Q2099.8 262.456 2096.16 262.456 M2096.16 258.753 Q2101.97 258.753 2105.03 263.359 Q2108.11 267.942 2108.11 276.692 Q2108.11 285.419 2105.03 290.026 Q2101.97 294.609 2096.16 294.609 Q2090.35 294.609 2087.28 290.026 Q2084.22 285.419 2084.22 276.692 Q2084.22 267.942 2087.28 263.359 Q2090.35 258.753 2096.16 258.753 Z\" fill=\"#000000\" fill-rule=\"evenodd\" fill-opacity=\"1\" /><path clip-path=\"url(#clip250)\" d=\"M 0 0 M2147.83 272.989 Q2149.43 270.118 2151.65 268.753 Q2153.87 267.387 2156.88 267.387 Q2160.93 267.387 2163.13 270.234 Q2165.33 273.058 2165.33 278.289 L2165.33 293.938 L2161.05 293.938 L2161.05 278.428 Q2161.05 274.702 2159.73 272.896 Q2158.41 271.09 2155.7 271.09 Q2152.39 271.09 2150.47 273.29 Q2148.55 275.489 2148.55 279.285 L2148.55 293.938 L2144.27 293.938 L2144.27 278.428 Q2144.27 274.678 2142.95 272.896 Q2141.63 271.09 2138.87 271.09 Q2135.61 271.09 2133.69 273.313 Q2131.77 275.512 2131.77 279.285 L2131.77 293.938 L2127.48 293.938 L2127.48 268.012 L2131.77 268.012 L2131.77 272.04 Q2133.22 269.655 2135.26 268.521 Q2137.3 267.387 2140.1 267.387 Q2142.92 267.387 2144.89 268.822 Q2146.88 270.257 2147.83 272.989 Z\" fill=\"#000000\" fill-rule=\"evenodd\" fill-opacity=\"1\" /><path clip-path=\"url(#clip250)\" d=\"M 0 0 M2186.86 280.674 Q2186.86 276.044 2184.94 273.498 Q2183.04 270.952 2179.59 270.952 Q2176.16 270.952 2174.24 273.498 Q2172.34 276.044 2172.34 280.674 Q2172.34 285.28 2174.24 287.826 Q2176.16 290.373 2179.59 290.373 Q2183.04 290.373 2184.94 287.826 Q2186.86 285.28 2186.86 280.674 M2191.12 290.72 Q2191.12 297.34 2188.18 300.558 Q2185.24 303.799 2179.17 303.799 Q2176.93 303.799 2174.94 303.451 Q2172.95 303.127 2171.07 302.433 L2171.07 298.289 Q2172.95 299.308 2174.78 299.794 Q2176.6 300.28 2178.5 300.28 Q2182.69 300.28 2184.78 298.081 Q2186.86 295.905 2186.86 291.484 L2186.86 289.377 Q2185.54 291.669 2183.48 292.803 Q2181.42 293.938 2178.55 293.938 Q2173.78 293.938 2170.86 290.303 Q2167.95 286.669 2167.95 280.674 Q2167.95 274.655 2170.86 271.021 Q2173.78 267.387 2178.55 267.387 Q2181.42 267.387 2183.48 268.521 Q2185.54 269.655 2186.86 271.947 L2186.86 268.012 L2191.12 268.012 L2191.12 290.72 Z\" fill=\"#000000\" fill-rule=\"evenodd\" fill-opacity=\"1\" /><polyline clip-path=\"url(#clip250)\" style=\"stroke:#c271d2; stroke-width:4; stroke-opacity:1; fill:none\" points=\"\n",
       "  1837.66,337.138 1983.74,337.138 \n",
       "  \"/>\n",
       "<path clip-path=\"url(#clip250)\" d=\"M 0 0 M2023.71 335.783 Q2027.07 336.501 2028.94 338.769 Q2030.84 341.038 2030.84 344.371 Q2030.84 349.487 2027.32 352.288 Q2023.8 355.089 2017.32 355.089 Q2015.15 355.089 2012.83 354.649 Q2010.54 354.232 2008.09 353.376 L2008.09 348.862 Q2010.03 349.996 2012.35 350.575 Q2014.66 351.154 2017.18 351.154 Q2021.58 351.154 2023.87 349.418 Q2026.19 347.681 2026.19 344.371 Q2026.19 341.316 2024.04 339.603 Q2021.91 337.867 2018.09 337.867 L2014.06 337.867 L2014.06 334.024 L2018.27 334.024 Q2021.72 334.024 2023.55 332.658 Q2025.38 331.27 2025.38 328.677 Q2025.38 326.015 2023.48 324.603 Q2021.6 323.168 2018.09 323.168 Q2016.16 323.168 2013.97 323.584 Q2011.77 324.001 2009.13 324.881 L2009.13 320.714 Q2011.79 319.973 2014.1 319.603 Q2016.44 319.233 2018.5 319.233 Q2023.83 319.233 2026.93 321.663 Q2030.03 324.07 2030.03 328.191 Q2030.03 331.061 2028.39 333.052 Q2026.74 335.02 2023.71 335.783 Z\" fill=\"#000000\" fill-rule=\"evenodd\" fill-opacity=\"1\" /><path clip-path=\"url(#clip250)\" d=\"M 0 0 M2045.91 322.936 Q2042.3 322.936 2040.47 326.501 Q2038.66 330.043 2038.66 337.172 Q2038.66 344.279 2040.47 347.844 Q2042.3 351.385 2045.91 351.385 Q2049.54 351.385 2051.35 347.844 Q2053.18 344.279 2053.18 337.172 Q2053.18 330.043 2051.35 326.501 Q2049.54 322.936 2045.91 322.936 M2045.91 319.233 Q2051.72 319.233 2054.78 323.839 Q2057.85 328.422 2057.85 337.172 Q2057.85 345.899 2054.78 350.506 Q2051.72 355.089 2045.91 355.089 Q2040.1 355.089 2037.02 350.506 Q2033.97 345.899 2033.97 337.172 Q2033.97 328.422 2037.02 323.839 Q2040.1 319.233 2045.91 319.233 Z\" fill=\"#000000\" fill-rule=\"evenodd\" fill-opacity=\"1\" /><path clip-path=\"url(#clip250)\" d=\"M 0 0 M2072.92 322.936 Q2069.31 322.936 2067.48 326.501 Q2065.68 330.043 2065.68 337.172 Q2065.68 344.279 2067.48 347.844 Q2069.31 351.385 2072.92 351.385 Q2076.56 351.385 2078.36 347.844 Q2080.19 344.279 2080.19 337.172 Q2080.19 330.043 2078.36 326.501 Q2076.56 322.936 2072.92 322.936 M2072.92 319.233 Q2078.73 319.233 2081.79 323.839 Q2084.87 328.422 2084.87 337.172 Q2084.87 345.899 2081.79 350.506 Q2078.73 355.089 2072.92 355.089 Q2067.11 355.089 2064.04 350.506 Q2060.98 345.899 2060.98 337.172 Q2060.98 328.422 2064.04 323.839 Q2067.11 319.233 2072.92 319.233 Z\" fill=\"#000000\" fill-rule=\"evenodd\" fill-opacity=\"1\" /><path clip-path=\"url(#clip250)\" d=\"M 0 0 M2089.94 348.538 L2094.82 348.538 L2094.82 354.418 L2089.94 354.418 L2089.94 348.538 Z\" fill=\"#000000\" fill-rule=\"evenodd\" fill-opacity=\"1\" /><path clip-path=\"url(#clip250)\" d=\"M 0 0 M2109.89 322.936 Q2106.28 322.936 2104.45 326.501 Q2102.65 330.043 2102.65 337.172 Q2102.65 344.279 2104.45 347.844 Q2106.28 351.385 2109.89 351.385 Q2113.53 351.385 2115.33 347.844 Q2117.16 344.279 2117.16 337.172 Q2117.16 330.043 2115.33 326.501 Q2113.53 322.936 2109.89 322.936 M2109.89 319.233 Q2115.7 319.233 2118.76 323.839 Q2121.84 328.422 2121.84 337.172 Q2121.84 345.899 2118.76 350.506 Q2115.7 355.089 2109.89 355.089 Q2104.08 355.089 2101 350.506 Q2097.95 345.899 2097.95 337.172 Q2097.95 328.422 2101 323.839 Q2104.08 319.233 2109.89 319.233 Z\" fill=\"#000000\" fill-rule=\"evenodd\" fill-opacity=\"1\" /><path clip-path=\"url(#clip250)\" d=\"M 0 0 M2161.56 333.469 Q2163.15 330.598 2165.38 329.233 Q2167.6 327.867 2170.61 327.867 Q2174.66 327.867 2176.86 330.714 Q2179.06 333.538 2179.06 338.769 L2179.06 354.418 L2174.78 354.418 L2174.78 338.908 Q2174.78 335.182 2173.46 333.376 Q2172.14 331.57 2169.43 331.57 Q2166.12 331.57 2164.2 333.77 Q2162.28 335.969 2162.28 339.765 L2162.28 354.418 L2157.99 354.418 L2157.99 338.908 Q2157.99 335.158 2156.67 333.376 Q2155.35 331.57 2152.6 331.57 Q2149.34 331.57 2147.41 333.793 Q2145.49 335.992 2145.49 339.765 L2145.49 354.418 L2141.21 354.418 L2141.21 328.492 L2145.49 328.492 L2145.49 332.52 Q2146.95 330.135 2148.99 329.001 Q2151.03 327.867 2153.83 327.867 Q2156.65 327.867 2158.62 329.302 Q2160.61 330.737 2161.56 333.469 Z\" fill=\"#000000\" fill-rule=\"evenodd\" fill-opacity=\"1\" /><path clip-path=\"url(#clip250)\" d=\"M 0 0 M2200.59 341.154 Q2200.59 336.524 2198.66 333.978 Q2196.77 331.432 2193.32 331.432 Q2189.89 331.432 2187.97 333.978 Q2186.07 336.524 2186.07 341.154 Q2186.07 345.76 2187.97 348.306 Q2189.89 350.853 2193.32 350.853 Q2196.77 350.853 2198.66 348.306 Q2200.59 345.76 2200.59 341.154 M2204.84 351.2 Q2204.84 357.82 2201.9 361.038 Q2198.96 364.279 2192.9 364.279 Q2190.65 364.279 2188.66 363.931 Q2186.67 363.607 2184.8 362.913 L2184.8 358.769 Q2186.67 359.788 2188.5 360.274 Q2190.33 360.76 2192.23 360.76 Q2196.42 360.76 2198.5 358.561 Q2200.59 356.385 2200.59 351.964 L2200.59 349.857 Q2199.27 352.149 2197.21 353.283 Q2195.15 354.418 2192.28 354.418 Q2187.51 354.418 2184.59 350.783 Q2181.67 347.149 2181.67 341.154 Q2181.67 335.135 2184.59 331.501 Q2187.51 327.867 2192.28 327.867 Q2195.15 327.867 2197.21 329.001 Q2199.27 330.135 2200.59 332.427 L2200.59 328.492 L2204.84 328.492 L2204.84 351.2 Z\" fill=\"#000000\" fill-rule=\"evenodd\" fill-opacity=\"1\" /><polyline clip-path=\"url(#clip250)\" style=\"stroke:#ffff00; stroke-width:4; stroke-opacity:1; fill:none\" points=\"\n",
       "  1837.66,397.618 1983.74,397.618 \n",
       "  \"/>\n",
       "<circle clip-path=\"url(#clip250)\" cx=\"1910.7\" cy=\"397.618\" r=\"23\" fill=\"#ffff00\" fill-rule=\"evenodd\" fill-opacity=\"1\" stroke=\"#000000\" stroke-opacity=\"1\" stroke-width=\"6.82667\"/>\n",
       "<path clip-path=\"url(#clip250)\" d=\"M 0 0 M2015.49 381.611 L2015.49 388.972 L2024.27 388.972 L2024.27 392.282 L2015.49 392.282 L2015.49 406.356 Q2015.49 409.527 2016.35 410.43 Q2017.23 411.333 2019.89 411.333 L2024.27 411.333 L2024.27 414.898 L2019.89 414.898 Q2014.96 414.898 2013.09 413.069 Q2011.21 411.217 2011.21 406.356 L2011.21 392.282 L2008.09 392.282 L2008.09 388.972 L2011.21 388.972 L2011.21 381.611 L2015.49 381.611 Z\" fill=\"#000000\" fill-rule=\"evenodd\" fill-opacity=\"1\" /><path clip-path=\"url(#clip250)\" d=\"M 0 0 M2060.86 392.907 L2060.86 378.879 L2065.12 378.879 L2065.12 414.898 L2060.86 414.898 L2060.86 411.009 Q2059.52 413.323 2057.46 414.458 Q2055.42 415.569 2052.55 415.569 Q2047.85 415.569 2044.89 411.819 Q2041.95 408.069 2041.95 401.958 Q2041.95 395.847 2044.89 392.097 Q2047.85 388.347 2052.55 388.347 Q2055.42 388.347 2057.46 389.481 Q2059.52 390.592 2060.86 392.907 M2046.35 401.958 Q2046.35 406.657 2048.27 409.342 Q2050.22 412.004 2053.6 412.004 Q2056.97 412.004 2058.92 409.342 Q2060.86 406.657 2060.86 401.958 Q2060.86 397.259 2058.92 394.597 Q2056.97 391.912 2053.6 391.912 Q2050.22 391.912 2048.27 394.597 Q2046.35 397.259 2046.35 401.958 Z\" fill=\"#000000\" fill-rule=\"evenodd\" fill-opacity=\"1\" /><path clip-path=\"url(#clip250)\" d=\"M 0 0 M2069.59 378.879 L2073.85 378.879 L2073.85 414.898 L2069.59 414.898 L2069.59 378.879 Z\" fill=\"#000000\" fill-rule=\"evenodd\" fill-opacity=\"1\" /><path clip-path=\"url(#clip250)\" d=\"M 0 0 M2090.1 401.865 Q2084.94 401.865 2082.95 403.046 Q2080.96 404.226 2080.96 407.074 Q2080.96 409.342 2082.44 410.685 Q2083.94 412.004 2086.51 412.004 Q2090.05 412.004 2092.18 409.504 Q2094.34 406.981 2094.34 402.814 L2094.34 401.865 L2090.1 401.865 M2098.6 400.106 L2098.6 414.898 L2094.34 414.898 L2094.34 410.962 Q2092.88 413.323 2090.7 414.458 Q2088.53 415.569 2085.38 415.569 Q2081.4 415.569 2079.03 413.347 Q2076.7 411.101 2076.7 407.351 Q2076.7 402.976 2079.61 400.754 Q2082.55 398.532 2088.36 398.532 L2094.34 398.532 L2094.34 398.115 Q2094.34 395.175 2092.39 393.578 Q2090.47 391.958 2086.97 391.958 Q2084.75 391.958 2082.65 392.49 Q2080.54 393.023 2078.6 394.087 L2078.6 390.152 Q2080.93 389.25 2083.13 388.81 Q2085.33 388.347 2087.41 388.347 Q2093.04 388.347 2095.82 391.263 Q2098.6 394.18 2098.6 400.106 Z\" fill=\"#000000\" fill-rule=\"evenodd\" fill-opacity=\"1\" /><path clip-path=\"url(#clip250)\" d=\"M 0 0 M2129.31 395.754 Q2126.16 395.754 2124.31 397.907 Q2122.48 400.06 2122.48 403.81 Q2122.48 407.536 2124.31 409.712 Q2126.16 411.865 2129.31 411.865 Q2132.46 411.865 2134.29 409.712 Q2136.14 407.536 2136.14 403.81 Q2136.14 400.06 2134.29 397.907 Q2132.46 395.754 2129.31 395.754 M2138.59 381.101 L2138.59 385.361 Q2136.84 384.527 2135.03 384.088 Q2133.25 383.648 2131.49 383.648 Q2126.86 383.648 2124.41 386.773 Q2121.97 389.898 2121.63 396.217 Q2122.99 394.203 2125.05 393.138 Q2127.11 392.05 2129.59 392.05 Q2134.8 392.05 2137.81 395.222 Q2140.84 398.37 2140.84 403.81 Q2140.84 409.134 2137.69 412.351 Q2134.54 415.569 2129.31 415.569 Q2123.32 415.569 2120.15 410.986 Q2116.97 406.379 2116.97 397.652 Q2116.97 389.458 2120.86 384.597 Q2124.75 379.713 2131.3 379.713 Q2133.06 379.713 2134.84 380.06 Q2136.65 380.407 2138.59 381.101 Z\" fill=\"#000000\" fill-rule=\"evenodd\" fill-opacity=\"1\" /><path clip-path=\"url(#clip250)\" d=\"M 0 0 M2155.91 383.416 Q2152.3 383.416 2150.47 386.981 Q2148.66 390.523 2148.66 397.652 Q2148.66 404.759 2150.47 408.324 Q2152.3 411.865 2155.91 411.865 Q2159.54 411.865 2161.35 408.324 Q2163.18 404.759 2163.18 397.652 Q2163.18 390.523 2161.35 386.981 Q2159.54 383.416 2155.91 383.416 M2155.91 379.713 Q2161.72 379.713 2164.78 384.319 Q2167.85 388.902 2167.85 397.652 Q2167.85 406.379 2164.78 410.986 Q2161.72 415.569 2155.91 415.569 Q2150.1 415.569 2147.02 410.986 Q2143.97 406.379 2143.97 397.652 Q2143.97 388.902 2147.02 384.319 Q2150.1 379.713 2155.91 379.713 Z\" fill=\"#000000\" fill-rule=\"evenodd\" fill-opacity=\"1\" /><path clip-path=\"url(#clip250)\" d=\"M 0 0 M2182.92 383.416 Q2179.31 383.416 2177.48 386.981 Q2175.68 390.523 2175.68 397.652 Q2175.68 404.759 2177.48 408.324 Q2179.31 411.865 2182.92 411.865 Q2186.56 411.865 2188.36 408.324 Q2190.19 404.759 2190.19 397.652 Q2190.19 390.523 2188.36 386.981 Q2186.56 383.416 2182.92 383.416 M2182.92 379.713 Q2188.73 379.713 2191.79 384.319 Q2194.87 388.902 2194.87 397.652 Q2194.87 406.379 2191.79 410.986 Q2188.73 415.569 2182.92 415.569 Q2177.11 415.569 2174.03 410.986 Q2170.98 406.379 2170.98 397.652 Q2170.98 388.902 2174.03 384.319 Q2177.11 379.713 2182.92 379.713 Z\" fill=\"#000000\" fill-rule=\"evenodd\" fill-opacity=\"1\" /><polyline clip-path=\"url(#clip250)\" style=\"stroke:#ff0000; stroke-width:4; stroke-opacity:1; fill:none\" points=\"\n",
       "  1837.66,458.098 1983.74,458.098 \n",
       "  \"/>\n",
       "<circle clip-path=\"url(#clip250)\" cx=\"1910.7\" cy=\"458.098\" r=\"23\" fill=\"#ff0000\" fill-rule=\"evenodd\" fill-opacity=\"1\" stroke=\"#000000\" stroke-opacity=\"1\" stroke-width=\"6.82667\"/>\n",
       "<path clip-path=\"url(#clip250)\" d=\"M 0 0 M2015.49 442.091 L2015.49 449.452 L2024.27 449.452 L2024.27 452.762 L2015.49 452.762 L2015.49 466.836 Q2015.49 470.007 2016.35 470.91 Q2017.23 471.813 2019.89 471.813 L2024.27 471.813 L2024.27 475.378 L2019.89 475.378 Q2014.96 475.378 2013.09 473.549 Q2011.21 471.697 2011.21 466.836 L2011.21 452.762 L2008.09 452.762 L2008.09 449.452 L2011.21 449.452 L2011.21 442.091 L2015.49 442.091 Z\" fill=\"#000000\" fill-rule=\"evenodd\" fill-opacity=\"1\" /><path clip-path=\"url(#clip250)\" d=\"M 0 0 M2060.86 453.387 L2060.86 439.359 L2065.12 439.359 L2065.12 475.378 L2060.86 475.378 L2060.86 471.489 Q2059.52 473.803 2057.46 474.938 Q2055.42 476.049 2052.55 476.049 Q2047.85 476.049 2044.89 472.299 Q2041.95 468.549 2041.95 462.438 Q2041.95 456.327 2044.89 452.577 Q2047.85 448.827 2052.55 448.827 Q2055.42 448.827 2057.46 449.961 Q2059.52 451.072 2060.86 453.387 M2046.35 462.438 Q2046.35 467.137 2048.27 469.822 Q2050.22 472.484 2053.6 472.484 Q2056.97 472.484 2058.92 469.822 Q2060.86 467.137 2060.86 462.438 Q2060.86 457.739 2058.92 455.077 Q2056.97 452.392 2053.6 452.392 Q2050.22 452.392 2048.27 455.077 Q2046.35 457.739 2046.35 462.438 Z\" fill=\"#000000\" fill-rule=\"evenodd\" fill-opacity=\"1\" /><path clip-path=\"url(#clip250)\" d=\"M 0 0 M2069.59 439.359 L2073.85 439.359 L2073.85 475.378 L2069.59 475.378 L2069.59 439.359 Z\" fill=\"#000000\" fill-rule=\"evenodd\" fill-opacity=\"1\" /><path clip-path=\"url(#clip250)\" d=\"M 0 0 M2090.1 462.345 Q2084.94 462.345 2082.95 463.526 Q2080.96 464.706 2080.96 467.554 Q2080.96 469.822 2082.44 471.165 Q2083.94 472.484 2086.51 472.484 Q2090.05 472.484 2092.18 469.984 Q2094.34 467.461 2094.34 463.294 L2094.34 462.345 L2090.1 462.345 M2098.6 460.586 L2098.6 475.378 L2094.34 475.378 L2094.34 471.442 Q2092.88 473.803 2090.7 474.938 Q2088.53 476.049 2085.38 476.049 Q2081.4 476.049 2079.03 473.827 Q2076.7 471.581 2076.7 467.831 Q2076.7 463.456 2079.61 461.234 Q2082.55 459.012 2088.36 459.012 L2094.34 459.012 L2094.34 458.595 Q2094.34 455.655 2092.39 454.058 Q2090.47 452.438 2086.97 452.438 Q2084.75 452.438 2082.65 452.97 Q2080.54 453.503 2078.6 454.567 L2078.6 450.632 Q2080.93 449.73 2083.13 449.29 Q2085.33 448.827 2087.41 448.827 Q2093.04 448.827 2095.82 451.743 Q2098.6 454.66 2098.6 460.586 Z\" fill=\"#000000\" fill-rule=\"evenodd\" fill-opacity=\"1\" /><path clip-path=\"url(#clip250)\" d=\"M 0 0 M2119.54 471.442 L2127.18 471.442 L2127.18 445.077 L2118.87 446.743 L2118.87 442.484 L2127.14 440.818 L2131.81 440.818 L2131.81 471.442 L2139.45 471.442 L2139.45 475.378 L2119.54 475.378 L2119.54 471.442 Z\" fill=\"#000000\" fill-rule=\"evenodd\" fill-opacity=\"1\" /><path clip-path=\"url(#clip250)\" d=\"M 0 0 M2148.55 471.442 L2164.87 471.442 L2164.87 475.378 L2142.92 475.378 L2142.92 471.442 Q2145.59 468.688 2150.17 464.058 Q2154.78 459.405 2155.96 458.063 Q2158.2 455.54 2159.08 453.804 Q2159.98 452.044 2159.98 450.355 Q2159.98 447.6 2158.04 445.864 Q2156.12 444.128 2153.02 444.128 Q2150.82 444.128 2148.36 444.892 Q2145.93 445.655 2143.16 447.206 L2143.16 442.484 Q2145.98 441.35 2148.43 440.771 Q2150.89 440.193 2152.92 440.193 Q2158.29 440.193 2161.49 442.878 Q2164.68 445.563 2164.68 450.054 Q2164.68 452.183 2163.87 454.105 Q2163.09 456.003 2160.98 458.595 Q2160.4 459.267 2157.3 462.484 Q2154.2 465.679 2148.55 471.442 Z\" fill=\"#000000\" fill-rule=\"evenodd\" fill-opacity=\"1\" /><path clip-path=\"url(#clip250)\" d=\"M 0 0 M2179.94 443.896 Q2176.33 443.896 2174.5 447.461 Q2172.69 451.003 2172.69 458.132 Q2172.69 465.239 2174.5 468.804 Q2176.33 472.345 2179.94 472.345 Q2183.57 472.345 2185.38 468.804 Q2187.21 465.239 2187.21 458.132 Q2187.21 451.003 2185.38 447.461 Q2183.57 443.896 2179.94 443.896 M2179.94 440.193 Q2185.75 440.193 2188.8 444.799 Q2191.88 449.382 2191.88 458.132 Q2191.88 466.859 2188.8 471.466 Q2185.75 476.049 2179.94 476.049 Q2174.13 476.049 2171.05 471.466 Q2167.99 466.859 2167.99 458.132 Q2167.99 449.382 2171.05 444.799 Q2174.13 440.193 2179.94 440.193 Z\" fill=\"#000000\" fill-rule=\"evenodd\" fill-opacity=\"1\" /><path clip-path=\"url(#clip250)\" d=\"M 0 0 M2206.95 443.896 Q2203.34 443.896 2201.51 447.461 Q2199.71 451.003 2199.71 458.132 Q2199.71 465.239 2201.51 468.804 Q2203.34 472.345 2206.95 472.345 Q2210.59 472.345 2212.39 468.804 Q2214.22 465.239 2214.22 458.132 Q2214.22 451.003 2212.39 447.461 Q2210.59 443.896 2206.95 443.896 M2206.95 440.193 Q2212.76 440.193 2215.82 444.799 Q2218.9 449.382 2218.9 458.132 Q2218.9 466.859 2215.82 471.466 Q2212.76 476.049 2206.95 476.049 Q2201.14 476.049 2198.06 471.466 Q2195.01 466.859 2195.01 458.132 Q2195.01 449.382 2198.06 444.799 Q2201.14 440.193 2206.95 440.193 Z\" fill=\"#000000\" fill-rule=\"evenodd\" fill-opacity=\"1\" /><polyline clip-path=\"url(#clip250)\" style=\"stroke:#ffc0cb; stroke-width:4; stroke-opacity:1; fill:none\" points=\"\n",
       "  1837.66,518.578 1983.74,518.578 \n",
       "  \"/>\n",
       "<circle clip-path=\"url(#clip250)\" cx=\"1910.7\" cy=\"518.578\" r=\"23\" fill=\"#ffc0cb\" fill-rule=\"evenodd\" fill-opacity=\"1\" stroke=\"#000000\" stroke-opacity=\"1\" stroke-width=\"6.82667\"/>\n",
       "<path clip-path=\"url(#clip250)\" d=\"M 0 0 M2015.49 502.571 L2015.49 509.932 L2024.27 509.932 L2024.27 513.242 L2015.49 513.242 L2015.49 527.316 Q2015.49 530.487 2016.35 531.39 Q2017.23 532.293 2019.89 532.293 L2024.27 532.293 L2024.27 535.858 L2019.89 535.858 Q2014.96 535.858 2013.09 534.029 Q2011.21 532.177 2011.21 527.316 L2011.21 513.242 L2008.09 513.242 L2008.09 509.932 L2011.21 509.932 L2011.21 502.571 L2015.49 502.571 Z\" fill=\"#000000\" fill-rule=\"evenodd\" fill-opacity=\"1\" /><path clip-path=\"url(#clip250)\" d=\"M 0 0 M2060.86 513.867 L2060.86 499.839 L2065.12 499.839 L2065.12 535.858 L2060.86 535.858 L2060.86 531.969 Q2059.52 534.283 2057.46 535.418 Q2055.42 536.529 2052.55 536.529 Q2047.85 536.529 2044.89 532.779 Q2041.95 529.029 2041.95 522.918 Q2041.95 516.807 2044.89 513.057 Q2047.85 509.307 2052.55 509.307 Q2055.42 509.307 2057.46 510.441 Q2059.52 511.552 2060.86 513.867 M2046.35 522.918 Q2046.35 527.617 2048.27 530.302 Q2050.22 532.964 2053.6 532.964 Q2056.97 532.964 2058.92 530.302 Q2060.86 527.617 2060.86 522.918 Q2060.86 518.219 2058.92 515.557 Q2056.97 512.872 2053.6 512.872 Q2050.22 512.872 2048.27 515.557 Q2046.35 518.219 2046.35 522.918 Z\" fill=\"#000000\" fill-rule=\"evenodd\" fill-opacity=\"1\" /><path clip-path=\"url(#clip250)\" d=\"M 0 0 M2069.59 499.839 L2073.85 499.839 L2073.85 535.858 L2069.59 535.858 L2069.59 499.839 Z\" fill=\"#000000\" fill-rule=\"evenodd\" fill-opacity=\"1\" /><path clip-path=\"url(#clip250)\" d=\"M 0 0 M2090.1 522.825 Q2084.94 522.825 2082.95 524.006 Q2080.96 525.186 2080.96 528.034 Q2080.96 530.302 2082.44 531.645 Q2083.94 532.964 2086.51 532.964 Q2090.05 532.964 2092.18 530.464 Q2094.34 527.941 2094.34 523.774 L2094.34 522.825 L2090.1 522.825 M2098.6 521.066 L2098.6 535.858 L2094.34 535.858 L2094.34 531.922 Q2092.88 534.283 2090.7 535.418 Q2088.53 536.529 2085.38 536.529 Q2081.4 536.529 2079.03 534.307 Q2076.7 532.061 2076.7 528.311 Q2076.7 523.936 2079.61 521.714 Q2082.55 519.492 2088.36 519.492 L2094.34 519.492 L2094.34 519.075 Q2094.34 516.135 2092.39 514.538 Q2090.47 512.918 2086.97 512.918 Q2084.75 512.918 2082.65 513.45 Q2080.54 513.983 2078.6 515.047 L2078.6 511.112 Q2080.93 510.21 2083.13 509.77 Q2085.33 509.307 2087.41 509.307 Q2093.04 509.307 2095.82 512.223 Q2098.6 515.14 2098.6 521.066 Z\" fill=\"#000000\" fill-rule=\"evenodd\" fill-opacity=\"1\" /><path clip-path=\"url(#clip250)\" d=\"M 0 0 M2132.9 517.223 Q2136.26 517.941 2138.13 520.209 Q2140.03 522.478 2140.03 525.811 Q2140.03 530.927 2136.51 533.728 Q2132.99 536.529 2126.51 536.529 Q2124.34 536.529 2122.02 536.089 Q2119.73 535.672 2117.28 534.816 L2117.28 530.302 Q2119.22 531.436 2121.53 532.015 Q2123.85 532.594 2126.37 532.594 Q2130.77 532.594 2133.06 530.858 Q2135.38 529.121 2135.38 525.811 Q2135.38 522.756 2133.22 521.043 Q2131.09 519.307 2127.28 519.307 L2123.25 519.307 L2123.25 515.464 L2127.46 515.464 Q2130.91 515.464 2132.74 514.098 Q2134.57 512.71 2134.57 510.117 Q2134.57 507.455 2132.67 506.043 Q2130.79 504.608 2127.28 504.608 Q2125.35 504.608 2123.16 505.024 Q2120.96 505.441 2118.32 506.321 L2118.32 502.154 Q2120.98 501.413 2123.29 501.043 Q2125.63 500.673 2127.69 500.673 Q2133.02 500.673 2136.12 503.103 Q2139.22 505.51 2139.22 509.631 Q2139.22 512.501 2137.58 514.492 Q2135.93 516.46 2132.9 517.223 Z\" fill=\"#000000\" fill-rule=\"evenodd\" fill-opacity=\"1\" /><path clip-path=\"url(#clip250)\" d=\"M 0 0 M2155.1 504.376 Q2151.49 504.376 2149.66 507.941 Q2147.85 511.483 2147.85 518.612 Q2147.85 525.719 2149.66 529.284 Q2151.49 532.825 2155.1 532.825 Q2158.73 532.825 2160.54 529.284 Q2162.37 525.719 2162.37 518.612 Q2162.37 511.483 2160.54 507.941 Q2158.73 504.376 2155.1 504.376 M2155.1 500.673 Q2160.91 500.673 2163.97 505.279 Q2167.04 509.862 2167.04 518.612 Q2167.04 527.339 2163.97 531.946 Q2160.91 536.529 2155.1 536.529 Q2149.29 536.529 2146.21 531.946 Q2143.16 527.339 2143.16 518.612 Q2143.16 509.862 2146.21 505.279 Q2149.29 500.673 2155.1 500.673 Z\" fill=\"#000000\" fill-rule=\"evenodd\" fill-opacity=\"1\" /><path clip-path=\"url(#clip250)\" d=\"M 0 0 M2182.11 504.376 Q2178.5 504.376 2176.67 507.941 Q2174.87 511.483 2174.87 518.612 Q2174.87 525.719 2176.67 529.284 Q2178.5 532.825 2182.11 532.825 Q2185.75 532.825 2187.55 529.284 Q2189.38 525.719 2189.38 518.612 Q2189.38 511.483 2187.55 507.941 Q2185.75 504.376 2182.11 504.376 M2182.11 500.673 Q2187.92 500.673 2190.98 505.279 Q2194.06 509.862 2194.06 518.612 Q2194.06 527.339 2190.98 531.946 Q2187.92 536.529 2182.11 536.529 Q2176.3 536.529 2173.22 531.946 Q2170.17 527.339 2170.17 518.612 Q2170.17 509.862 2173.22 505.279 Q2176.3 500.673 2182.11 500.673 Z\" fill=\"#000000\" fill-rule=\"evenodd\" fill-opacity=\"1\" /><path clip-path=\"url(#clip250)\" d=\"M 0 0 M2199.13 529.978 L2204.01 529.978 L2204.01 535.858 L2199.13 535.858 L2199.13 529.978 Z\" fill=\"#000000\" fill-rule=\"evenodd\" fill-opacity=\"1\" /><path clip-path=\"url(#clip250)\" d=\"M 0 0 M2219.08 504.376 Q2215.47 504.376 2213.64 507.941 Q2211.84 511.483 2211.84 518.612 Q2211.84 525.719 2213.64 529.284 Q2215.47 532.825 2219.08 532.825 Q2222.71 532.825 2224.52 529.284 Q2226.35 525.719 2226.35 518.612 Q2226.35 511.483 2224.52 507.941 Q2222.71 504.376 2219.08 504.376 M2219.08 500.673 Q2224.89 500.673 2227.95 505.279 Q2231.02 509.862 2231.02 518.612 Q2231.02 527.339 2227.95 531.946 Q2224.89 536.529 2219.08 536.529 Q2213.27 536.529 2210.19 531.946 Q2207.14 527.339 2207.14 518.612 Q2207.14 509.862 2210.19 505.279 Q2213.27 500.673 2219.08 500.673 Z\" fill=\"#000000\" fill-rule=\"evenodd\" fill-opacity=\"1\" /><polyline clip-path=\"url(#clip250)\" style=\"stroke:#c68125; stroke-width:4; stroke-opacity:1; fill:none\" stroke-dasharray=\"16, 10\" points=\"\n",
       "  1837.66,579.058 1983.74,579.058 \n",
       "  \"/>\n",
       "<path clip-path=\"url(#clip250)\" d=\"M 0 0 M2008.09 561.778 L2015.05 561.778 L2023.87 585.296 L2032.74 561.778 L2039.71 561.778 L2039.71 596.338 L2035.15 596.338 L2035.15 565.99 L2026.23 589.694 L2021.54 589.694 L2012.62 565.99 L2012.62 596.338 L2008.09 596.338 L2008.09 561.778 Z\" fill=\"#000000\" fill-rule=\"evenodd\" fill-opacity=\"1\" /><path clip-path=\"url(#clip250)\" d=\"M 0 0 M2039.57 561.778 L2068.8 561.778 L2068.8 565.713 L2056.54 565.713 L2056.54 596.338 L2051.84 596.338 L2051.84 565.713 L2039.57 565.713 L2039.57 561.778 Z\" fill=\"#000000\" fill-rule=\"evenodd\" fill-opacity=\"1\" /><path clip-path=\"url(#clip250)\" d=\"M 0 0 M2096.56 564.44 L2096.56 569.37 Q2094.2 567.171 2091.51 566.083 Q2088.85 564.995 2085.84 564.995 Q2079.91 564.995 2076.77 568.629 Q2073.62 572.24 2073.62 579.092 Q2073.62 585.921 2076.77 589.555 Q2079.91 593.166 2085.84 593.166 Q2088.85 593.166 2091.51 592.078 Q2094.2 590.99 2096.56 588.791 L2096.56 593.676 Q2094.1 595.342 2091.35 596.176 Q2088.62 597.009 2085.56 597.009 Q2077.72 597.009 2073.2 592.217 Q2068.69 587.402 2068.69 579.092 Q2068.69 570.759 2073.2 565.967 Q2077.72 561.153 2085.56 561.153 Q2088.66 561.153 2091.4 561.986 Q2094.15 562.796 2096.56 564.44 Z\" fill=\"#000000\" fill-rule=\"evenodd\" fill-opacity=\"1\" /></svg>\n"
      ]
     },
     "execution_count": 725,
     "metadata": {},
     "output_type": "execute_result"
    }
   ],
   "source": [
    "plot!(t_plot, fill(MTC, length(t_plot)), linestyle=:dash, label=\"MTC\")"
   ]
  },
  {
   "cell_type": "markdown",
   "metadata": {},
   "source": [
    "Z uwagi, że punkty dla czasów, gdy osiągane jest MIC są niewidoczne, przybliżmy nasz wykres."
   ]
  },
  {
   "cell_type": "code",
   "execution_count": 726,
   "metadata": {},
   "outputs": [
    {
     "data": {
      "image/svg+xml": [
       "<?xml version=\"1.0\" encoding=\"utf-8\"?>\n",
       "<svg xmlns=\"http://www.w3.org/2000/svg\" xmlns:xlink=\"http://www.w3.org/1999/xlink\" width=\"600\" height=\"400\" viewBox=\"0 0 2400 1600\">\n",
       "<defs>\n",
       "  <clipPath id=\"clip290\">\n",
       "    <rect x=\"0\" y=\"0\" width=\"2400\" height=\"1600\"/>\n",
       "  </clipPath>\n",
       "</defs>\n",
       "<path clip-path=\"url(#clip290)\" d=\"\n",
       "M0 1600 L2400 1600 L2400 0 L0 0  Z\n",
       "  \" fill=\"#ffffff\" fill-rule=\"evenodd\" fill-opacity=\"1\"/>\n",
       "<defs>\n",
       "  <clipPath id=\"clip291\">\n",
       "    <rect x=\"480\" y=\"0\" width=\"1681\" height=\"1600\"/>\n",
       "  </clipPath>\n",
       "</defs>\n",
       "<path clip-path=\"url(#clip290)\" d=\"\n",
       "M161.598 1486.45 L2352.76 1486.45 L2352.76 47.2441 L161.598 47.2441  Z\n",
       "  \" fill=\"#ffffff\" fill-rule=\"evenodd\" fill-opacity=\"1\"/>\n",
       "<defs>\n",
       "  <clipPath id=\"clip292\">\n",
       "    <rect x=\"161\" y=\"47\" width=\"2192\" height=\"1440\"/>\n",
       "  </clipPath>\n",
       "</defs>\n",
       "<polyline clip-path=\"url(#clip292)\" style=\"stroke:#000000; stroke-width:2; stroke-opacity:0.1; fill:none\" points=\"\n",
       "  223.612,1486.45 223.612,47.2441 \n",
       "  \"/>\n",
       "<polyline clip-path=\"url(#clip292)\" style=\"stroke:#000000; stroke-width:2; stroke-opacity:0.1; fill:none\" points=\"\n",
       "  654.264,1486.45 654.264,47.2441 \n",
       "  \"/>\n",
       "<polyline clip-path=\"url(#clip292)\" style=\"stroke:#000000; stroke-width:2; stroke-opacity:0.1; fill:none\" points=\"\n",
       "  1084.92,1486.45 1084.92,47.2441 \n",
       "  \"/>\n",
       "<polyline clip-path=\"url(#clip292)\" style=\"stroke:#000000; stroke-width:2; stroke-opacity:0.1; fill:none\" points=\"\n",
       "  1515.57,1486.45 1515.57,47.2441 \n",
       "  \"/>\n",
       "<polyline clip-path=\"url(#clip292)\" style=\"stroke:#000000; stroke-width:2; stroke-opacity:0.1; fill:none\" points=\"\n",
       "  1946.22,1486.45 1946.22,47.2441 \n",
       "  \"/>\n",
       "<polyline clip-path=\"url(#clip290)\" style=\"stroke:#000000; stroke-width:4; stroke-opacity:1; fill:none\" points=\"\n",
       "  161.598,1486.45 2352.76,1486.45 \n",
       "  \"/>\n",
       "<polyline clip-path=\"url(#clip290)\" style=\"stroke:#000000; stroke-width:4; stroke-opacity:1; fill:none\" points=\"\n",
       "  223.612,1486.45 223.612,1469.18 \n",
       "  \"/>\n",
       "<polyline clip-path=\"url(#clip290)\" style=\"stroke:#000000; stroke-width:4; stroke-opacity:1; fill:none\" points=\"\n",
       "  654.264,1486.45 654.264,1469.18 \n",
       "  \"/>\n",
       "<polyline clip-path=\"url(#clip290)\" style=\"stroke:#000000; stroke-width:4; stroke-opacity:1; fill:none\" points=\"\n",
       "  1084.92,1486.45 1084.92,1469.18 \n",
       "  \"/>\n",
       "<polyline clip-path=\"url(#clip290)\" style=\"stroke:#000000; stroke-width:4; stroke-opacity:1; fill:none\" points=\"\n",
       "  1515.57,1486.45 1515.57,1469.18 \n",
       "  \"/>\n",
       "<polyline clip-path=\"url(#clip290)\" style=\"stroke:#000000; stroke-width:4; stroke-opacity:1; fill:none\" points=\"\n",
       "  1946.22,1486.45 1946.22,1469.18 \n",
       "  \"/>\n",
       "<path clip-path=\"url(#clip290)\" d=\"M 0 0 M205.128 1515.64 Q201.517 1515.64 199.689 1519.2 Q197.883 1522.75 197.883 1529.87 Q197.883 1536.98 199.689 1540.55 Q201.517 1544.09 205.128 1544.09 Q208.763 1544.09 210.568 1540.55 Q212.397 1536.98 212.397 1529.87 Q212.397 1522.75 210.568 1519.2 Q208.763 1515.64 205.128 1515.64 M205.128 1511.93 Q210.939 1511.93 213.994 1516.54 Q217.073 1521.12 217.073 1529.87 Q217.073 1538.6 213.994 1543.21 Q210.939 1547.79 205.128 1547.79 Q199.318 1547.79 196.24 1543.21 Q193.184 1538.6 193.184 1529.87 Q193.184 1521.12 196.24 1516.54 Q199.318 1511.93 205.128 1511.93 Z\" fill=\"#000000\" fill-rule=\"evenodd\" fill-opacity=\"1\" /><path clip-path=\"url(#clip290)\" d=\"M 0 0 M222.142 1541.24 L227.026 1541.24 L227.026 1547.12 L222.142 1547.12 L222.142 1541.24 Z\" fill=\"#000000\" fill-rule=\"evenodd\" fill-opacity=\"1\" /><path clip-path=\"url(#clip290)\" d=\"M 0 0 M242.096 1515.64 Q238.485 1515.64 236.656 1519.2 Q234.85 1522.75 234.85 1529.87 Q234.85 1536.98 236.656 1540.55 Q238.485 1544.09 242.096 1544.09 Q245.73 1544.09 247.536 1540.55 Q249.364 1536.98 249.364 1529.87 Q249.364 1522.75 247.536 1519.2 Q245.73 1515.64 242.096 1515.64 M242.096 1511.93 Q247.906 1511.93 250.961 1516.54 Q254.04 1521.12 254.04 1529.87 Q254.04 1538.6 250.961 1543.21 Q247.906 1547.79 242.096 1547.79 Q236.286 1547.79 233.207 1543.21 Q230.151 1538.6 230.151 1529.87 Q230.151 1521.12 233.207 1516.54 Q236.286 1511.93 242.096 1511.93 Z\" fill=\"#000000\" fill-rule=\"evenodd\" fill-opacity=\"1\" /><path clip-path=\"url(#clip290)\" d=\"M 0 0 M630.931 1543.18 L647.25 1543.18 L647.25 1547.12 L625.306 1547.12 L625.306 1543.18 Q627.968 1540.43 632.551 1535.8 Q637.158 1531.15 638.338 1529.81 Q640.584 1527.28 641.463 1525.55 Q642.366 1523.79 642.366 1522.1 Q642.366 1519.34 640.422 1517.61 Q638.5 1515.87 635.399 1515.87 Q633.199 1515.87 630.746 1516.63 Q628.315 1517.4 625.537 1518.95 L625.537 1514.23 Q628.362 1513.09 630.815 1512.51 Q633.269 1511.93 635.306 1511.93 Q640.676 1511.93 643.871 1514.62 Q647.065 1517.31 647.065 1521.8 Q647.065 1523.93 646.255 1525.85 Q645.468 1527.74 643.361 1530.34 Q642.783 1531.01 639.681 1534.23 Q636.579 1537.42 630.931 1543.18 Z\" fill=\"#000000\" fill-rule=\"evenodd\" fill-opacity=\"1\" /><path clip-path=\"url(#clip290)\" d=\"M 0 0 M652.32 1541.24 L657.204 1541.24 L657.204 1547.12 L652.32 1547.12 L652.32 1541.24 Z\" fill=\"#000000\" fill-rule=\"evenodd\" fill-opacity=\"1\" /><path clip-path=\"url(#clip290)\" d=\"M 0 0 M662.32 1512.56 L680.676 1512.56 L680.676 1516.5 L666.602 1516.5 L666.602 1524.97 Q667.621 1524.62 668.639 1524.46 Q669.658 1524.27 670.676 1524.27 Q676.463 1524.27 679.843 1527.44 Q683.222 1530.62 683.222 1536.03 Q683.222 1541.61 679.75 1544.71 Q676.278 1547.79 669.959 1547.79 Q667.783 1547.79 665.514 1547.42 Q663.269 1547.05 660.861 1546.31 L660.861 1541.61 Q662.945 1542.74 665.167 1543.3 Q667.389 1543.86 669.866 1543.86 Q673.871 1543.86 676.208 1541.75 Q678.546 1539.64 678.546 1536.03 Q678.546 1532.42 676.208 1530.31 Q673.871 1528.21 669.866 1528.21 Q667.991 1528.21 666.116 1528.62 Q664.264 1529.04 662.32 1529.92 L662.32 1512.56 Z\" fill=\"#000000\" fill-rule=\"evenodd\" fill-opacity=\"1\" /><path clip-path=\"url(#clip290)\" d=\"M 0 0 M1056.71 1512.56 L1075.07 1512.56 L1075.07 1516.5 L1060.99 1516.5 L1060.99 1524.97 Q1062.01 1524.62 1063.03 1524.46 Q1064.05 1524.27 1065.07 1524.27 Q1070.85 1524.27 1074.23 1527.44 Q1077.61 1530.62 1077.61 1536.03 Q1077.61 1541.61 1074.14 1544.71 Q1070.67 1547.79 1064.35 1547.79 Q1062.17 1547.79 1059.9 1547.42 Q1057.66 1547.05 1055.25 1546.31 L1055.25 1541.61 Q1057.34 1542.74 1059.56 1543.3 Q1061.78 1543.86 1064.26 1543.86 Q1068.26 1543.86 1070.6 1541.75 Q1072.94 1539.64 1072.94 1536.03 Q1072.94 1532.42 1070.6 1530.31 Q1068.26 1528.21 1064.26 1528.21 Q1062.38 1528.21 1060.51 1528.62 Q1058.65 1529.04 1056.71 1529.92 L1056.71 1512.56 Z\" fill=\"#000000\" fill-rule=\"evenodd\" fill-opacity=\"1\" /><path clip-path=\"url(#clip290)\" d=\"M 0 0 M1082.68 1541.24 L1087.57 1541.24 L1087.57 1547.12 L1082.68 1547.12 L1082.68 1541.24 Z\" fill=\"#000000\" fill-rule=\"evenodd\" fill-opacity=\"1\" /><path clip-path=\"url(#clip290)\" d=\"M 0 0 M1102.64 1515.64 Q1099.02 1515.64 1097.2 1519.2 Q1095.39 1522.75 1095.39 1529.87 Q1095.39 1536.98 1097.2 1540.55 Q1099.02 1544.09 1102.64 1544.09 Q1106.27 1544.09 1108.08 1540.55 Q1109.9 1536.98 1109.9 1529.87 Q1109.9 1522.75 1108.08 1519.2 Q1106.27 1515.64 1102.64 1515.64 M1102.64 1511.93 Q1108.45 1511.93 1111.5 1516.54 Q1114.58 1521.12 1114.58 1529.87 Q1114.58 1538.6 1111.5 1543.21 Q1108.45 1547.79 1102.64 1547.79 Q1096.83 1547.79 1093.75 1543.21 Q1090.69 1538.6 1090.69 1529.87 Q1090.69 1521.12 1093.75 1516.54 Q1096.83 1511.93 1102.64 1511.93 Z\" fill=\"#000000\" fill-rule=\"evenodd\" fill-opacity=\"1\" /><path clip-path=\"url(#clip290)\" d=\"M 0 0 M1486.47 1512.56 L1508.69 1512.56 L1508.69 1514.55 L1496.15 1547.12 L1491.26 1547.12 L1503.07 1516.5 L1486.47 1516.5 L1486.47 1512.56 Z\" fill=\"#000000\" fill-rule=\"evenodd\" fill-opacity=\"1\" /><path clip-path=\"url(#clip290)\" d=\"M 0 0 M1513.76 1541.24 L1518.65 1541.24 L1518.65 1547.12 L1513.76 1547.12 L1513.76 1541.24 Z\" fill=\"#000000\" fill-rule=\"evenodd\" fill-opacity=\"1\" /><path clip-path=\"url(#clip290)\" d=\"M 0 0 M1523.76 1512.56 L1542.12 1512.56 L1542.12 1516.5 L1528.05 1516.5 L1528.05 1524.97 Q1529.06 1524.62 1530.08 1524.46 Q1531.1 1524.27 1532.12 1524.27 Q1537.91 1524.27 1541.29 1527.44 Q1544.67 1530.62 1544.67 1536.03 Q1544.67 1541.61 1541.19 1544.71 Q1537.72 1547.79 1531.4 1547.79 Q1529.23 1547.79 1526.96 1547.42 Q1524.71 1547.05 1522.3 1546.31 L1522.3 1541.61 Q1524.39 1542.74 1526.61 1543.3 Q1528.83 1543.86 1531.31 1543.86 Q1535.31 1543.86 1537.65 1541.75 Q1539.99 1539.64 1539.99 1536.03 Q1539.99 1532.42 1537.65 1530.31 Q1535.31 1528.21 1531.31 1528.21 Q1529.43 1528.21 1527.56 1528.62 Q1525.71 1529.04 1523.76 1529.92 L1523.76 1512.56 Z\" fill=\"#000000\" fill-rule=\"evenodd\" fill-opacity=\"1\" /><path clip-path=\"url(#clip290)\" d=\"M 0 0 M1904.61 1543.18 L1912.25 1543.18 L1912.25 1516.82 L1903.94 1518.49 L1903.94 1514.23 L1912.2 1512.56 L1916.88 1512.56 L1916.88 1543.18 L1924.52 1543.18 L1924.52 1547.12 L1904.61 1547.12 L1904.61 1543.18 Z\" fill=\"#000000\" fill-rule=\"evenodd\" fill-opacity=\"1\" /><path clip-path=\"url(#clip290)\" d=\"M 0 0 M1939.59 1515.64 Q1935.98 1515.64 1934.15 1519.2 Q1932.34 1522.75 1932.34 1529.87 Q1932.34 1536.98 1934.15 1540.55 Q1935.98 1544.09 1939.59 1544.09 Q1943.22 1544.09 1945.03 1540.55 Q1946.86 1536.98 1946.86 1529.87 Q1946.86 1522.75 1945.03 1519.2 Q1943.22 1515.64 1939.59 1515.64 M1939.59 1511.93 Q1945.4 1511.93 1948.45 1516.54 Q1951.53 1521.12 1951.53 1529.87 Q1951.53 1538.6 1948.45 1543.21 Q1945.4 1547.79 1939.59 1547.79 Q1933.78 1547.79 1930.7 1543.21 Q1927.64 1538.6 1927.64 1529.87 Q1927.64 1521.12 1930.7 1516.54 Q1933.78 1511.93 1939.59 1511.93 Z\" fill=\"#000000\" fill-rule=\"evenodd\" fill-opacity=\"1\" /><path clip-path=\"url(#clip290)\" d=\"M 0 0 M1956.6 1541.24 L1961.49 1541.24 L1961.49 1547.12 L1956.6 1547.12 L1956.6 1541.24 Z\" fill=\"#000000\" fill-rule=\"evenodd\" fill-opacity=\"1\" /><path clip-path=\"url(#clip290)\" d=\"M 0 0 M1976.56 1515.64 Q1972.94 1515.64 1971.12 1519.2 Q1969.31 1522.75 1969.31 1529.87 Q1969.31 1536.98 1971.12 1540.55 Q1972.94 1544.09 1976.56 1544.09 Q1980.19 1544.09 1982 1540.55 Q1983.82 1536.98 1983.82 1529.87 Q1983.82 1522.75 1982 1519.2 Q1980.19 1515.64 1976.56 1515.64 M1976.56 1511.93 Q1982.37 1511.93 1985.42 1516.54 Q1988.5 1521.12 1988.5 1529.87 Q1988.5 1538.6 1985.42 1543.21 Q1982.37 1547.79 1976.56 1547.79 Q1970.75 1547.79 1967.67 1543.21 Q1964.61 1538.6 1964.61 1529.87 Q1964.61 1521.12 1967.67 1516.54 Q1970.75 1511.93 1976.56 1511.93 Z\" fill=\"#000000\" fill-rule=\"evenodd\" fill-opacity=\"1\" /><polyline clip-path=\"url(#clip292)\" style=\"stroke:#000000; stroke-width:2; stroke-opacity:0.1; fill:none\" points=\"\n",
       "  161.598,1445.72 2352.76,1445.72 \n",
       "  \"/>\n",
       "<polyline clip-path=\"url(#clip292)\" style=\"stroke:#000000; stroke-width:2; stroke-opacity:0.1; fill:none\" points=\"\n",
       "  161.598,1006.15 2352.76,1006.15 \n",
       "  \"/>\n",
       "<polyline clip-path=\"url(#clip292)\" style=\"stroke:#000000; stroke-width:2; stroke-opacity:0.1; fill:none\" points=\"\n",
       "  161.598,566.579 2352.76,566.579 \n",
       "  \"/>\n",
       "<polyline clip-path=\"url(#clip292)\" style=\"stroke:#000000; stroke-width:2; stroke-opacity:0.1; fill:none\" points=\"\n",
       "  161.598,127.011 2352.76,127.011 \n",
       "  \"/>\n",
       "<polyline clip-path=\"url(#clip290)\" style=\"stroke:#000000; stroke-width:4; stroke-opacity:1; fill:none\" points=\"\n",
       "  161.598,1486.45 161.598,47.2441 \n",
       "  \"/>\n",
       "<polyline clip-path=\"url(#clip290)\" style=\"stroke:#000000; stroke-width:4; stroke-opacity:1; fill:none\" points=\"\n",
       "  161.598,1445.72 187.892,1445.72 \n",
       "  \"/>\n",
       "<polyline clip-path=\"url(#clip290)\" style=\"stroke:#000000; stroke-width:4; stroke-opacity:1; fill:none\" points=\"\n",
       "  161.598,1006.15 187.892,1006.15 \n",
       "  \"/>\n",
       "<polyline clip-path=\"url(#clip290)\" style=\"stroke:#000000; stroke-width:4; stroke-opacity:1; fill:none\" points=\"\n",
       "  161.598,566.579 187.892,566.579 \n",
       "  \"/>\n",
       "<polyline clip-path=\"url(#clip290)\" style=\"stroke:#000000; stroke-width:4; stroke-opacity:1; fill:none\" points=\"\n",
       "  161.598,127.011 187.892,127.011 \n",
       "  \"/>\n",
       "<path clip-path=\"url(#clip290)\" d=\"M 0 0 M113.654 1431.51 Q110.043 1431.51 108.214 1435.08 Q106.408 1438.62 106.408 1445.75 Q106.408 1452.86 108.214 1456.42 Q110.043 1459.96 113.654 1459.96 Q117.288 1459.96 119.094 1456.42 Q120.922 1452.86 120.922 1445.75 Q120.922 1438.62 119.094 1435.08 Q117.288 1431.51 113.654 1431.51 M113.654 1427.81 Q119.464 1427.81 122.52 1432.42 Q125.598 1437 125.598 1445.75 Q125.598 1454.48 122.52 1459.08 Q119.464 1463.67 113.654 1463.67 Q107.844 1463.67 104.765 1459.08 Q101.709 1454.48 101.709 1445.75 Q101.709 1437 104.765 1432.42 Q107.844 1427.81 113.654 1427.81 Z\" fill=\"#000000\" fill-rule=\"evenodd\" fill-opacity=\"1\" /><path clip-path=\"url(#clip290)\" d=\"M 0 0 M77.6818 988.868 L96.0382 988.868 L96.0382 992.803 L81.9642 992.803 L81.9642 1001.27 Q82.9827 1000.93 84.0012 1000.77 Q85.0197 1000.58 86.0382 1000.58 Q91.8252 1000.58 95.2049 1003.75 Q98.5845 1006.92 98.5845 1012.34 Q98.5845 1017.92 95.1123 1021.02 Q91.6401 1024.1 85.3206 1024.1 Q83.1447 1024.1 80.8762 1023.73 Q78.6309 1023.36 76.2235 1022.62 L76.2235 1017.92 Q78.3068 1019.05 80.529 1019.61 Q82.7512 1020.16 85.2281 1020.16 Q89.2327 1020.16 91.5706 1018.06 Q93.9086 1015.95 93.9086 1012.34 Q93.9086 1008.73 91.5706 1006.62 Q89.2327 1004.52 85.2281 1004.52 Q83.3531 1004.52 81.4781 1004.93 Q79.6262 1005.35 77.6818 1006.23 L77.6818 988.868 Z\" fill=\"#000000\" fill-rule=\"evenodd\" fill-opacity=\"1\" /><path clip-path=\"url(#clip290)\" d=\"M 0 0 M113.654 991.946 Q110.043 991.946 108.214 995.511 Q106.408 999.053 106.408 1006.18 Q106.408 1013.29 108.214 1016.85 Q110.043 1020.4 113.654 1020.4 Q117.288 1020.4 119.094 1016.85 Q120.922 1013.29 120.922 1006.18 Q120.922 999.053 119.094 995.511 Q117.288 991.946 113.654 991.946 M113.654 988.243 Q119.464 988.243 122.52 992.849 Q125.598 997.432 125.598 1006.18 Q125.598 1014.91 122.52 1019.52 Q119.464 1024.1 113.654 1024.1 Q107.844 1024.1 104.765 1019.52 Q101.709 1014.91 101.709 1006.18 Q101.709 997.432 104.765 992.849 Q107.844 988.243 113.654 988.243 Z\" fill=\"#000000\" fill-rule=\"evenodd\" fill-opacity=\"1\" /><path clip-path=\"url(#clip290)\" d=\"M 0 0 M51.6634 579.924 L59.3023 579.924 L59.3023 553.559 L50.9921 555.225 L50.9921 550.966 L59.256 549.299 L63.9319 549.299 L63.9319 579.924 L71.5707 579.924 L71.5707 583.859 L51.6634 583.859 L51.6634 579.924 Z\" fill=\"#000000\" fill-rule=\"evenodd\" fill-opacity=\"1\" /><path clip-path=\"url(#clip290)\" d=\"M 0 0 M86.6401 552.378 Q83.029 552.378 81.2003 555.943 Q79.3948 559.485 79.3948 566.614 Q79.3948 573.721 81.2003 577.285 Q83.029 580.827 86.6401 580.827 Q90.2743 580.827 92.0799 577.285 Q93.9086 573.721 93.9086 566.614 Q93.9086 559.485 92.0799 555.943 Q90.2743 552.378 86.6401 552.378 M86.6401 548.674 Q92.4502 548.674 95.5058 553.281 Q98.5845 557.864 98.5845 566.614 Q98.5845 575.341 95.5058 579.947 Q92.4502 584.531 86.6401 584.531 Q80.8299 584.531 77.7512 579.947 Q74.6957 575.341 74.6957 566.614 Q74.6957 557.864 77.7512 553.281 Q80.8299 548.674 86.6401 548.674 Z\" fill=\"#000000\" fill-rule=\"evenodd\" fill-opacity=\"1\" /><path clip-path=\"url(#clip290)\" d=\"M 0 0 M113.654 552.378 Q110.043 552.378 108.214 555.943 Q106.408 559.485 106.408 566.614 Q106.408 573.721 108.214 577.285 Q110.043 580.827 113.654 580.827 Q117.288 580.827 119.094 577.285 Q120.922 573.721 120.922 566.614 Q120.922 559.485 119.094 555.943 Q117.288 552.378 113.654 552.378 M113.654 548.674 Q119.464 548.674 122.52 553.281 Q125.598 557.864 125.598 566.614 Q125.598 575.341 122.52 579.947 Q119.464 584.531 113.654 584.531 Q107.844 584.531 104.765 579.947 Q101.709 575.341 101.709 566.614 Q101.709 557.864 104.765 553.281 Q107.844 548.674 113.654 548.674 Z\" fill=\"#000000\" fill-rule=\"evenodd\" fill-opacity=\"1\" /><path clip-path=\"url(#clip290)\" d=\"M 0 0 M52.6588 140.356 L60.2976 140.356 L60.2976 113.991 L51.9875 115.657 L51.9875 111.398 L60.2513 109.731 L64.9272 109.731 L64.9272 140.356 L72.5661 140.356 L72.5661 144.291 L52.6588 144.291 L52.6588 140.356 Z\" fill=\"#000000\" fill-rule=\"evenodd\" fill-opacity=\"1\" /><path clip-path=\"url(#clip290)\" d=\"M 0 0 M77.6818 109.731 L96.0382 109.731 L96.0382 113.666 L81.9642 113.666 L81.9642 122.139 Q82.9827 121.791 84.0012 121.629 Q85.0197 121.444 86.0382 121.444 Q91.8252 121.444 95.2049 124.615 Q98.5845 127.787 98.5845 133.203 Q98.5845 138.782 95.1123 141.884 Q91.6401 144.963 85.3206 144.963 Q83.1447 144.963 80.8762 144.592 Q78.6309 144.222 76.2235 143.481 L76.2235 138.782 Q78.3068 139.916 80.529 140.472 Q82.7512 141.027 85.2281 141.027 Q89.2327 141.027 91.5706 138.921 Q93.9086 136.814 93.9086 133.203 Q93.9086 129.592 91.5706 127.486 Q89.2327 125.379 85.2281 125.379 Q83.3531 125.379 81.4781 125.796 Q79.6262 126.213 77.6818 127.092 L77.6818 109.731 Z\" fill=\"#000000\" fill-rule=\"evenodd\" fill-opacity=\"1\" /><path clip-path=\"url(#clip290)\" d=\"M 0 0 M113.654 112.81 Q110.043 112.81 108.214 116.375 Q106.408 119.916 106.408 127.046 Q106.408 134.152 108.214 137.717 Q110.043 141.259 113.654 141.259 Q117.288 141.259 119.094 137.717 Q120.922 134.152 120.922 127.046 Q120.922 119.916 119.094 116.375 Q117.288 112.81 113.654 112.81 M113.654 109.106 Q119.464 109.106 122.52 113.713 Q125.598 118.296 125.598 127.046 Q125.598 135.773 122.52 140.379 Q119.464 144.963 113.654 144.963 Q107.844 144.963 104.765 140.379 Q101.709 135.773 101.709 127.046 Q101.709 118.296 104.765 113.713 Q107.844 109.106 113.654 109.106 Z\" fill=\"#000000\" fill-rule=\"evenodd\" fill-opacity=\"1\" /><polyline clip-path=\"url(#clip292)\" style=\"stroke:#009af9; stroke-width:4; stroke-opacity:1; fill:none\" points=\"\n",
       "  223.612,766.846 240.838,854.708 258.064,931.198 275.29,997.789 292.516,1055.76 309.743,1106.23 326.969,1150.17 344.195,1188.42 361.421,1221.72 378.647,1250.71 \n",
       "  395.873,1275.95 413.099,1297.92 430.325,1317.05 447.551,1333.7 464.777,1348.2 482.003,1360.82 499.229,1371.81 516.456,1381.37 533.682,1389.7 550.908,1396.95 \n",
       "  568.134,1403.26 585.36,1408.76 602.586,1413.54 619.812,1417.7 637.038,1421.33 654.264,1424.49 671.49,1427.23 688.716,1429.62 705.942,1431.71 723.168,1433.52 \n",
       "  740.395,1435.1 757.621,1436.47 774.847,1437.67 792.073,1438.71 809.299,1439.62 826.525,1440.41 843.751,1441.09 860.977,1441.69 878.203,1442.21 895.429,1442.67 \n",
       "  912.655,1443.06 929.881,1443.4 947.108,1443.7 964.334,1443.96 981.56,1444.19 998.786,1444.39 1016.01,1444.56 1033.24,1444.71 1050.46,1444.84 1067.69,1444.95 \n",
       "  1084.92,1445.05 1102.14,1445.14 1119.37,1445.21 1136.59,1445.28 1153.82,1445.33 1171.05,1445.38 1188.27,1445.43 1205.5,1445.46 1222.72,1445.5 1239.95,1445.52 \n",
       "  1257.18,1445.55 1274.4,1445.57 1291.63,1445.59 1308.86,1445.61 1326.08,1445.62 1343.31,1445.63 1360.53,1445.64 1377.76,1445.65 1394.99,1445.66 1412.21,1445.67 \n",
       "  1429.44,1445.67 1446.66,1445.68 1463.89,1445.68 1481.12,1445.69 1498.34,1445.69 1515.57,1445.69 1532.79,1445.7 1550.02,1445.7 1567.25,1445.7 1584.47,1445.7 \n",
       "  1601.7,1445.71 1618.92,1445.71 1636.15,1445.71 1653.38,1445.71 1670.6,1445.71 1687.83,1445.71 1705.06,1445.71 1722.28,1445.71 1739.51,1445.71 1756.73,1445.71 \n",
       "  1773.96,1445.71 1791.19,1445.71 1808.41,1445.71 1825.64,1445.71 1842.86,1445.71 1860.09,1445.71 1877.32,1445.71 1894.54,1445.71 1911.77,1445.71 1928.99,1445.71 \n",
       "  1946.22,1445.72 1963.45,1445.72 1980.67,1445.72 1997.9,1445.72 2015.12,1445.72 2032.35,1445.72 2049.58,1445.72 2066.8,1445.72 2084.03,1445.72 2101.26,1445.72 \n",
       "  2118.48,1445.72 2135.71,1445.72 2152.93,1445.72 2170.16,1445.72 2187.39,1445.72 2204.61,1445.72 2221.84,1445.72 2239.06,1445.72 2256.29,1445.72 2273.52,1445.72 \n",
       "  2290.74,1445.72 \n",
       "  \"/>\n",
       "<polyline clip-path=\"url(#clip292)\" style=\"stroke:#e26f46; stroke-width:4; stroke-opacity:1; fill:none\" stroke-dasharray=\"16, 10\" points=\"\n",
       "  223.612,1445.61 240.838,1445.61 258.064,1445.61 275.29,1445.61 292.516,1445.61 309.743,1445.61 326.969,1445.61 344.195,1445.61 361.421,1445.61 378.647,1445.61 \n",
       "  395.873,1445.61 413.099,1445.61 430.325,1445.61 447.551,1445.61 464.777,1445.61 482.003,1445.61 499.229,1445.61 516.456,1445.61 533.682,1445.61 550.908,1445.61 \n",
       "  568.134,1445.61 585.36,1445.61 602.586,1445.61 619.812,1445.61 637.038,1445.61 654.264,1445.61 671.49,1445.61 688.716,1445.61 705.942,1445.61 723.168,1445.61 \n",
       "  740.395,1445.61 757.621,1445.61 774.847,1445.61 792.073,1445.61 809.299,1445.61 826.525,1445.61 843.751,1445.61 860.977,1445.61 878.203,1445.61 895.429,1445.61 \n",
       "  912.655,1445.61 929.881,1445.61 947.108,1445.61 964.334,1445.61 981.56,1445.61 998.786,1445.61 1016.01,1445.61 1033.24,1445.61 1050.46,1445.61 1067.69,1445.61 \n",
       "  1084.92,1445.61 1102.14,1445.61 1119.37,1445.61 1136.59,1445.61 1153.82,1445.61 1171.05,1445.61 1188.27,1445.61 1205.5,1445.61 1222.72,1445.61 1239.95,1445.61 \n",
       "  1257.18,1445.61 1274.4,1445.61 1291.63,1445.61 1308.86,1445.61 1326.08,1445.61 1343.31,1445.61 1360.53,1445.61 1377.76,1445.61 1394.99,1445.61 1412.21,1445.61 \n",
       "  1429.44,1445.61 1446.66,1445.61 1463.89,1445.61 1481.12,1445.61 1498.34,1445.61 1515.57,1445.61 1532.79,1445.61 1550.02,1445.61 1567.25,1445.61 1584.47,1445.61 \n",
       "  1601.7,1445.61 1618.92,1445.61 1636.15,1445.61 1653.38,1445.61 1670.6,1445.61 1687.83,1445.61 1705.06,1445.61 1722.28,1445.61 1739.51,1445.61 1756.73,1445.61 \n",
       "  1773.96,1445.61 1791.19,1445.61 1808.41,1445.61 1825.64,1445.61 1842.86,1445.61 1860.09,1445.61 1877.32,1445.61 1894.54,1445.61 1911.77,1445.61 1928.99,1445.61 \n",
       "  1946.22,1445.61 1963.45,1445.61 1980.67,1445.61 1997.9,1445.61 2015.12,1445.61 2032.35,1445.61 2049.58,1445.61 2066.8,1445.61 2084.03,1445.61 2101.26,1445.61 \n",
       "  2118.48,1445.61 2135.71,1445.61 2152.93,1445.61 2170.16,1445.61 2187.39,1445.61 2204.61,1445.61 2221.84,1445.61 2239.06,1445.61 2256.29,1445.61 2273.52,1445.61 \n",
       "  2290.74,1445.61 \n",
       "  \"/>\n",
       "<polyline clip-path=\"url(#clip292)\" style=\"stroke:#3da44d; stroke-width:4; stroke-opacity:1; fill:none\" points=\"\n",
       "  223.612,87.9763 240.838,263.7 258.064,416.68 275.29,549.861 292.516,665.806 309.743,766.744 326.969,854.619 344.195,931.121 361.421,997.722 378.647,1055.7 \n",
       "  395.873,1106.18 413.099,1150.12 430.325,1188.38 447.551,1221.69 464.777,1250.68 482.003,1275.92 499.229,1297.9 516.456,1317.03 533.682,1333.68 550.908,1348.18 \n",
       "  568.134,1360.81 585.36,1371.8 602.586,1381.36 619.812,1389.69 637.038,1396.94 654.264,1403.25 671.49,1408.75 688.716,1413.53 705.942,1417.7 723.168,1421.33 \n",
       "  740.395,1424.48 757.621,1427.23 774.847,1429.62 792.073,1431.71 809.299,1433.52 826.525,1435.1 843.751,1436.47 860.977,1437.67 878.203,1438.71 895.429,1439.62 \n",
       "  912.655,1440.41 929.881,1441.09 947.108,1441.69 964.334,1442.21 981.56,1442.67 998.786,1443.06 1016.01,1443.4 1033.24,1443.7 1050.46,1443.96 1067.69,1444.19 \n",
       "  1084.92,1444.39 1102.14,1444.56 1119.37,1444.71 1136.59,1444.84 1153.82,1444.95 1171.05,1445.05 1188.27,1445.14 1205.5,1445.21 1222.72,1445.28 1239.95,1445.33 \n",
       "  1257.18,1445.38 1274.4,1445.43 1291.63,1445.46 1308.86,1445.5 1326.08,1445.52 1343.31,1445.55 1360.53,1445.57 1377.76,1445.59 1394.99,1445.61 1412.21,1445.62 \n",
       "  1429.44,1445.63 1446.66,1445.64 1463.89,1445.65 1481.12,1445.66 1498.34,1445.67 1515.57,1445.67 1532.79,1445.68 1550.02,1445.68 1567.25,1445.69 1584.47,1445.69 \n",
       "  1601.7,1445.69 1618.92,1445.7 1636.15,1445.7 1653.38,1445.7 1670.6,1445.7 1687.83,1445.71 1705.06,1445.71 1722.28,1445.71 1739.51,1445.71 1756.73,1445.71 \n",
       "  1773.96,1445.71 1791.19,1445.71 1808.41,1445.71 1825.64,1445.71 1842.86,1445.71 1860.09,1445.71 1877.32,1445.71 1894.54,1445.71 1911.77,1445.71 1928.99,1445.71 \n",
       "  1946.22,1445.71 1963.45,1445.71 1980.67,1445.71 1997.9,1445.71 2015.12,1445.71 2032.35,1445.72 2049.58,1445.72 2066.8,1445.72 2084.03,1445.72 2101.26,1445.72 \n",
       "  2118.48,1445.72 2135.71,1445.72 2152.93,1445.72 2170.16,1445.72 2187.39,1445.72 2204.61,1445.72 2221.84,1445.72 2239.06,1445.72 2256.29,1445.72 2273.52,1445.72 \n",
       "  2290.74,1445.72 \n",
       "  \"/>\n",
       "<polyline clip-path=\"url(#clip292)\" style=\"stroke:#c271d2; stroke-width:4; stroke-opacity:1; fill:none\" points=\"\n",
       "  223.612,1106.28 240.838,1150.21 258.064,1188.46 275.29,1221.75 292.516,1250.74 309.743,1275.97 326.969,1297.94 344.195,1317.07 361.421,1333.72 378.647,1348.21 \n",
       "  395.873,1360.83 413.099,1371.82 430.325,1381.38 447.551,1389.71 464.777,1396.96 482.003,1403.27 499.229,1408.76 516.456,1413.54 533.682,1417.71 550.908,1421.33 \n",
       "  568.134,1424.49 585.36,1427.24 602.586,1429.63 619.812,1431.71 637.038,1433.52 654.264,1435.1 671.49,1436.47 688.716,1437.67 705.942,1438.71 723.168,1439.62 \n",
       "  740.395,1440.41 757.621,1441.09 774.847,1441.69 792.073,1442.21 809.299,1442.67 826.525,1443.06 843.751,1443.4 860.977,1443.7 878.203,1443.96 895.429,1444.19 \n",
       "  912.655,1444.39 929.881,1444.56 947.108,1444.71 964.334,1444.84 981.56,1444.95 998.786,1445.05 1016.01,1445.14 1033.24,1445.21 1050.46,1445.28 1067.69,1445.33 \n",
       "  1084.92,1445.38 1102.14,1445.43 1119.37,1445.46 1136.59,1445.5 1153.82,1445.52 1171.05,1445.55 1188.27,1445.57 1205.5,1445.59 1222.72,1445.61 1239.95,1445.62 \n",
       "  1257.18,1445.63 1274.4,1445.64 1291.63,1445.65 1308.86,1445.66 1326.08,1445.67 1343.31,1445.67 1360.53,1445.68 1377.76,1445.68 1394.99,1445.69 1412.21,1445.69 \n",
       "  1429.44,1445.69 1446.66,1445.7 1463.89,1445.7 1481.12,1445.7 1498.34,1445.7 1515.57,1445.71 1532.79,1445.71 1550.02,1445.71 1567.25,1445.71 1584.47,1445.71 \n",
       "  1601.7,1445.71 1618.92,1445.71 1636.15,1445.71 1653.38,1445.71 1670.6,1445.71 1687.83,1445.71 1705.06,1445.71 1722.28,1445.71 1739.51,1445.71 1756.73,1445.71 \n",
       "  1773.96,1445.71 1791.19,1445.71 1808.41,1445.71 1825.64,1445.71 1842.86,1445.71 1860.09,1445.72 1877.32,1445.72 1894.54,1445.72 1911.77,1445.72 1928.99,1445.72 \n",
       "  1946.22,1445.72 1963.45,1445.72 1980.67,1445.72 1997.9,1445.72 2015.12,1445.72 2032.35,1445.72 2049.58,1445.72 2066.8,1445.72 2084.03,1445.72 2101.26,1445.72 \n",
       "  2118.48,1445.72 2135.71,1445.72 2152.93,1445.72 2170.16,1445.72 2187.39,1445.72 2204.61,1445.72 2221.84,1445.72 2239.06,1445.72 2256.29,1445.72 2273.52,1445.72 \n",
       "  2290.74,1445.72 \n",
       "  \"/>\n",
       "<circle clip-path=\"url(#clip292)\" cx=\"1313.54\" cy=\"1445.61\" r=\"10\" fill=\"#ffff00\" fill-rule=\"evenodd\" fill-opacity=\"1\" stroke=\"#000000\" stroke-opacity=\"1\" stroke-width=\"3.2\"/>\n",
       "<circle clip-path=\"url(#clip292)\" cx=\"1399.69\" cy=\"1445.61\" r=\"10\" fill=\"#ff0000\" fill-rule=\"evenodd\" fill-opacity=\"1\" stroke=\"#000000\" stroke-opacity=\"1\" stroke-width=\"3.2\"/>\n",
       "<circle clip-path=\"url(#clip292)\" cx=\"1227.39\" cy=\"1445.61\" r=\"10\" fill=\"#ffc0cb\" fill-rule=\"evenodd\" fill-opacity=\"1\" stroke=\"#000000\" stroke-opacity=\"1\" stroke-width=\"3.2\"/>\n",
       "<polyline clip-path=\"url(#clip292)\" style=\"stroke:#c68125; stroke-width:4; stroke-opacity:1; fill:none\" stroke-dasharray=\"16, 10\" points=\"\n",
       "  223.612,566.579 240.838,566.579 258.064,566.579 275.29,566.579 292.516,566.579 309.743,566.579 326.969,566.579 344.195,566.579 361.421,566.579 378.647,566.579 \n",
       "  395.873,566.579 413.099,566.579 430.325,566.579 447.551,566.579 464.777,566.579 482.003,566.579 499.229,566.579 516.456,566.579 533.682,566.579 550.908,566.579 \n",
       "  568.134,566.579 585.36,566.579 602.586,566.579 619.812,566.579 637.038,566.579 654.264,566.579 671.49,566.579 688.716,566.579 705.942,566.579 723.168,566.579 \n",
       "  740.395,566.579 757.621,566.579 774.847,566.579 792.073,566.579 809.299,566.579 826.525,566.579 843.751,566.579 860.977,566.579 878.203,566.579 895.429,566.579 \n",
       "  912.655,566.579 929.881,566.579 947.108,566.579 964.334,566.579 981.56,566.579 998.786,566.579 1016.01,566.579 1033.24,566.579 1050.46,566.579 1067.69,566.579 \n",
       "  1084.92,566.579 1102.14,566.579 1119.37,566.579 1136.59,566.579 1153.82,566.579 1171.05,566.579 1188.27,566.579 1205.5,566.579 1222.72,566.579 1239.95,566.579 \n",
       "  1257.18,566.579 1274.4,566.579 1291.63,566.579 1308.86,566.579 1326.08,566.579 1343.31,566.579 1360.53,566.579 1377.76,566.579 1394.99,566.579 1412.21,566.579 \n",
       "  1429.44,566.579 1446.66,566.579 1463.89,566.579 1481.12,566.579 1498.34,566.579 1515.57,566.579 1532.79,566.579 1550.02,566.579 1567.25,566.579 1584.47,566.579 \n",
       "  1601.7,566.579 1618.92,566.579 1636.15,566.579 1653.38,566.579 1670.6,566.579 1687.83,566.579 1705.06,566.579 1722.28,566.579 1739.51,566.579 1756.73,566.579 \n",
       "  1773.96,566.579 1791.19,566.579 1808.41,566.579 1825.64,566.579 1842.86,566.579 1860.09,566.579 1877.32,566.579 1894.54,566.579 1911.77,566.579 1928.99,566.579 \n",
       "  1946.22,566.579 1963.45,566.579 1980.67,566.579 1997.9,566.579 2015.12,566.579 2032.35,566.579 2049.58,566.579 2066.8,566.579 2084.03,566.579 2101.26,566.579 \n",
       "  2118.48,566.579 2135.71,566.579 2152.93,566.579 2170.16,566.579 2187.39,566.579 2204.61,566.579 2221.84,566.579 2239.06,566.579 2256.29,566.579 2273.52,566.579 \n",
       "  2290.74,566.579 \n",
       "  \"/>\n",
       "<polyline clip-path=\"url(#clip292)\" style=\"stroke:#d3d3d3; stroke-width:4; stroke-opacity:1; fill:none\" points=\"\n",
       "  1344.04,1444.84 1394.76,1414.49 \n",
       "  \"/>\n",
       "<polyline clip-path=\"url(#clip292)\" style=\"stroke:#d3d3d3; stroke-width:4; stroke-opacity:1; fill:none\" points=\"\n",
       "  1084.92,1445.72 1084.92,1444.84 1601.7,1444.84 1601.7,1445.72 1084.92,1445.72 \n",
       "  \"/>\n",
       "<path clip-path=\"url(#clip290)\" d=\"\n",
       "M1813.32 639.538 L2279.72 639.538 L2279.72 95.2176 L1813.32 95.2176  Z\n",
       "  \" fill=\"#ffffff\" fill-rule=\"evenodd\" fill-opacity=\"1\"/>\n",
       "<polyline clip-path=\"url(#clip290)\" style=\"stroke:#000000; stroke-width:4; stroke-opacity:1; fill:none\" points=\"\n",
       "  1813.32,639.538 2279.72,639.538 2279.72,95.2176 1813.32,95.2176 1813.32,639.538 \n",
       "  \"/>\n",
       "<polyline clip-path=\"url(#clip290)\" style=\"stroke:#009af9; stroke-width:4; stroke-opacity:1; fill:none\" points=\"\n",
       "  1837.66,155.698 1983.74,155.698 \n",
       "  \"/>\n",
       "<path clip-path=\"url(#clip290)\" d=\"M 0 0 M2020.42 153.834 Q2017.28 153.834 2015.42 155.987 Q2013.6 158.14 2013.6 161.89 Q2013.6 165.616 2015.42 167.792 Q2017.28 169.945 2020.42 169.945 Q2023.57 169.945 2025.4 167.792 Q2027.25 165.616 2027.25 161.89 Q2027.25 158.14 2025.4 155.987 Q2023.57 153.834 2020.42 153.834 M2029.71 139.181 L2029.71 143.441 Q2027.95 142.607 2026.14 142.168 Q2024.36 141.728 2022.6 141.728 Q2017.97 141.728 2015.52 144.853 Q2013.09 147.978 2012.74 154.297 Q2014.1 152.283 2016.16 151.218 Q2018.23 150.13 2020.7 150.13 Q2025.91 150.13 2028.92 153.302 Q2031.95 156.45 2031.95 161.89 Q2031.95 167.214 2028.8 170.431 Q2025.66 173.649 2020.42 173.649 Q2014.43 173.649 2011.26 169.066 Q2008.09 164.459 2008.09 155.732 Q2008.09 147.538 2011.98 142.677 Q2015.86 137.793 2022.41 137.793 Q2024.17 137.793 2025.96 138.14 Q2027.76 138.487 2029.71 139.181 Z\" fill=\"#000000\" fill-rule=\"evenodd\" fill-opacity=\"1\" /><path clip-path=\"url(#clip290)\" d=\"M 0 0 M2047.02 141.496 Q2043.41 141.496 2041.58 145.061 Q2039.78 148.603 2039.78 155.732 Q2039.78 162.839 2041.58 166.404 Q2043.41 169.945 2047.02 169.945 Q2050.66 169.945 2052.46 166.404 Q2054.29 162.839 2054.29 155.732 Q2054.29 148.603 2052.46 145.061 Q2050.66 141.496 2047.02 141.496 M2047.02 137.793 Q2052.83 137.793 2055.89 142.399 Q2058.97 146.982 2058.97 155.732 Q2058.97 164.459 2055.89 169.066 Q2052.83 173.649 2047.02 173.649 Q2041.21 173.649 2038.13 169.066 Q2035.08 164.459 2035.08 155.732 Q2035.08 146.982 2038.13 142.399 Q2041.21 137.793 2047.02 137.793 Z\" fill=\"#000000\" fill-rule=\"evenodd\" fill-opacity=\"1\" /><path clip-path=\"url(#clip290)\" d=\"M 0 0 M2074.04 141.496 Q2070.42 141.496 2068.6 145.061 Q2066.79 148.603 2066.79 155.732 Q2066.79 162.839 2068.6 166.404 Q2070.42 169.945 2074.04 169.945 Q2077.67 169.945 2079.47 166.404 Q2081.3 162.839 2081.3 155.732 Q2081.3 148.603 2079.47 145.061 Q2077.67 141.496 2074.04 141.496 M2074.04 137.793 Q2079.85 137.793 2082.9 142.399 Q2085.98 146.982 2085.98 155.732 Q2085.98 164.459 2082.9 169.066 Q2079.85 173.649 2074.04 173.649 Q2068.22 173.649 2065.15 169.066 Q2062.09 164.459 2062.09 155.732 Q2062.09 146.982 2065.15 142.399 Q2068.22 137.793 2074.04 137.793 Z\" fill=\"#000000\" fill-rule=\"evenodd\" fill-opacity=\"1\" /><path clip-path=\"url(#clip290)\" d=\"M 0 0 M2125.7 152.029 Q2127.3 149.158 2129.52 147.793 Q2131.74 146.427 2134.75 146.427 Q2138.8 146.427 2141 149.274 Q2143.2 152.098 2143.2 157.329 L2143.2 172.978 L2138.92 172.978 L2138.92 157.468 Q2138.92 153.742 2137.6 151.936 Q2136.28 150.13 2133.57 150.13 Q2130.26 150.13 2128.34 152.33 Q2126.42 154.529 2126.42 158.325 L2126.42 172.978 L2122.14 172.978 L2122.14 157.468 Q2122.14 153.718 2120.82 151.936 Q2119.5 150.13 2116.74 150.13 Q2113.48 150.13 2111.56 152.353 Q2109.64 154.552 2109.64 158.325 L2109.64 172.978 L2105.35 172.978 L2105.35 147.052 L2109.64 147.052 L2109.64 151.08 Q2111.1 148.695 2113.13 147.561 Q2115.17 146.427 2117.97 146.427 Q2120.79 146.427 2122.76 147.862 Q2124.75 149.297 2125.7 152.029 Z\" fill=\"#000000\" fill-rule=\"evenodd\" fill-opacity=\"1\" /><path clip-path=\"url(#clip290)\" d=\"M 0 0 M2164.73 159.714 Q2164.73 155.084 2162.81 152.538 Q2160.91 149.992 2157.46 149.992 Q2154.03 149.992 2152.11 152.538 Q2150.22 155.084 2150.22 159.714 Q2150.22 164.32 2152.11 166.866 Q2154.03 169.413 2157.46 169.413 Q2160.91 169.413 2162.81 166.866 Q2164.73 164.32 2164.73 159.714 M2168.99 169.76 Q2168.99 176.38 2166.05 179.598 Q2163.11 182.839 2157.04 182.839 Q2154.8 182.839 2152.81 182.491 Q2150.82 182.167 2148.94 181.473 L2148.94 177.329 Q2150.82 178.348 2152.65 178.834 Q2154.47 179.32 2156.37 179.32 Q2160.56 179.32 2162.65 177.121 Q2164.73 174.945 2164.73 170.524 L2164.73 168.417 Q2163.41 170.709 2161.35 171.843 Q2159.29 172.978 2156.42 172.978 Q2151.65 172.978 2148.73 169.343 Q2145.82 165.709 2145.82 159.714 Q2145.82 153.695 2148.73 150.061 Q2151.65 146.427 2156.42 146.427 Q2159.29 146.427 2161.35 147.561 Q2163.41 148.695 2164.73 150.987 L2164.73 147.052 L2168.99 147.052 L2168.99 169.76 Z\" fill=\"#000000\" fill-rule=\"evenodd\" fill-opacity=\"1\" /><polyline clip-path=\"url(#clip290)\" style=\"stroke:#e26f46; stroke-width:4; stroke-opacity:1; fill:none\" stroke-dasharray=\"16, 10\" points=\"\n",
       "  1837.66,216.178 1983.74,216.178 \n",
       "  \"/>\n",
       "<path clip-path=\"url(#clip290)\" d=\"M 0 0 M2008.09 198.898 L2015.05 198.898 L2023.87 222.416 L2032.74 198.898 L2039.71 198.898 L2039.71 233.458 L2035.15 233.458 L2035.15 203.11 L2026.23 226.814 L2021.54 226.814 L2012.62 203.11 L2012.62 233.458 L2008.09 233.458 L2008.09 198.898 Z\" fill=\"#000000\" fill-rule=\"evenodd\" fill-opacity=\"1\" /><path clip-path=\"url(#clip290)\" d=\"M 0 0 M2044.36 198.898 L2049.04 198.898 L2049.04 233.458 L2044.36 233.458 L2044.36 198.898 Z\" fill=\"#000000\" fill-rule=\"evenodd\" fill-opacity=\"1\" /><path clip-path=\"url(#clip290)\" d=\"M 0 0 M2079.57 201.56 L2079.57 206.49 Q2077.21 204.291 2074.52 203.203 Q2071.86 202.115 2068.85 202.115 Q2062.92 202.115 2059.78 205.749 Q2056.63 209.36 2056.63 216.212 Q2056.63 223.041 2059.78 226.675 Q2062.92 230.286 2068.85 230.286 Q2071.86 230.286 2074.52 229.198 Q2077.21 228.11 2079.57 225.911 L2079.57 230.796 Q2077.11 232.462 2074.36 233.296 Q2071.63 234.129 2068.57 234.129 Q2060.72 234.129 2056.21 229.337 Q2051.7 224.522 2051.7 216.212 Q2051.7 207.879 2056.21 203.087 Q2060.72 198.273 2068.57 198.273 Q2071.67 198.273 2074.41 199.106 Q2077.16 199.916 2079.57 201.56 Z\" fill=\"#000000\" fill-rule=\"evenodd\" fill-opacity=\"1\" /><polyline clip-path=\"url(#clip290)\" style=\"stroke:#3da44d; stroke-width:4; stroke-opacity:1; fill:none\" points=\"\n",
       "  1837.66,276.658 1983.74,276.658 \n",
       "  \"/>\n",
       "<path clip-path=\"url(#clip290)\" d=\"M 0 0 M2008.76 290.002 L2016.4 290.002 L2016.4 263.637 L2008.09 265.303 L2008.09 261.044 L2016.35 259.378 L2021.03 259.378 L2021.03 290.002 L2028.66 290.002 L2028.66 293.938 L2008.76 293.938 L2008.76 290.002 Z\" fill=\"#000000\" fill-rule=\"evenodd\" fill-opacity=\"1\" /><path clip-path=\"url(#clip290)\" d=\"M 0 0 M2037.76 290.002 L2054.08 290.002 L2054.08 293.938 L2032.14 293.938 L2032.14 290.002 Q2034.8 287.248 2039.38 282.618 Q2043.99 277.965 2045.17 276.623 Q2047.41 274.1 2048.29 272.364 Q2049.2 270.604 2049.2 268.915 Q2049.2 266.16 2047.25 264.424 Q2045.33 262.688 2042.23 262.688 Q2040.03 262.688 2037.58 263.452 Q2035.15 264.215 2032.37 265.766 L2032.37 261.044 Q2035.19 259.91 2037.65 259.331 Q2040.1 258.753 2042.14 258.753 Q2047.51 258.753 2050.7 261.438 Q2053.9 264.123 2053.9 268.614 Q2053.9 270.743 2053.09 272.665 Q2052.3 274.563 2050.19 277.155 Q2049.61 277.827 2046.51 281.044 Q2043.41 284.239 2037.76 290.002 Z\" fill=\"#000000\" fill-rule=\"evenodd\" fill-opacity=\"1\" /><path clip-path=\"url(#clip290)\" d=\"M 0 0 M2069.15 262.456 Q2065.54 262.456 2063.71 266.021 Q2061.91 269.563 2061.91 276.692 Q2061.91 283.799 2063.71 287.364 Q2065.54 290.905 2069.15 290.905 Q2072.79 290.905 2074.59 287.364 Q2076.42 283.799 2076.42 276.692 Q2076.42 269.563 2074.59 266.021 Q2072.79 262.456 2069.15 262.456 M2069.15 258.753 Q2074.96 258.753 2078.02 263.359 Q2081.1 267.942 2081.1 276.692 Q2081.1 285.419 2078.02 290.026 Q2074.96 294.609 2069.15 294.609 Q2063.34 294.609 2060.26 290.026 Q2057.21 285.419 2057.21 276.692 Q2057.21 267.942 2060.26 263.359 Q2063.34 258.753 2069.15 258.753 Z\" fill=\"#000000\" fill-rule=\"evenodd\" fill-opacity=\"1\" /><path clip-path=\"url(#clip290)\" d=\"M 0 0 M2096.16 262.456 Q2092.55 262.456 2090.72 266.021 Q2088.92 269.563 2088.92 276.692 Q2088.92 283.799 2090.72 287.364 Q2092.55 290.905 2096.16 290.905 Q2099.8 290.905 2101.6 287.364 Q2103.43 283.799 2103.43 276.692 Q2103.43 269.563 2101.6 266.021 Q2099.8 262.456 2096.16 262.456 M2096.16 258.753 Q2101.97 258.753 2105.03 263.359 Q2108.11 267.942 2108.11 276.692 Q2108.11 285.419 2105.03 290.026 Q2101.97 294.609 2096.16 294.609 Q2090.35 294.609 2087.28 290.026 Q2084.22 285.419 2084.22 276.692 Q2084.22 267.942 2087.28 263.359 Q2090.35 258.753 2096.16 258.753 Z\" fill=\"#000000\" fill-rule=\"evenodd\" fill-opacity=\"1\" /><path clip-path=\"url(#clip290)\" d=\"M 0 0 M2147.83 272.989 Q2149.43 270.118 2151.65 268.753 Q2153.87 267.387 2156.88 267.387 Q2160.93 267.387 2163.13 270.234 Q2165.33 273.058 2165.33 278.289 L2165.33 293.938 L2161.05 293.938 L2161.05 278.428 Q2161.05 274.702 2159.73 272.896 Q2158.41 271.09 2155.7 271.09 Q2152.39 271.09 2150.47 273.29 Q2148.55 275.489 2148.55 279.285 L2148.55 293.938 L2144.27 293.938 L2144.27 278.428 Q2144.27 274.678 2142.95 272.896 Q2141.63 271.09 2138.87 271.09 Q2135.61 271.09 2133.69 273.313 Q2131.77 275.512 2131.77 279.285 L2131.77 293.938 L2127.48 293.938 L2127.48 268.012 L2131.77 268.012 L2131.77 272.04 Q2133.22 269.655 2135.26 268.521 Q2137.3 267.387 2140.1 267.387 Q2142.92 267.387 2144.89 268.822 Q2146.88 270.257 2147.83 272.989 Z\" fill=\"#000000\" fill-rule=\"evenodd\" fill-opacity=\"1\" /><path clip-path=\"url(#clip290)\" d=\"M 0 0 M2186.86 280.674 Q2186.86 276.044 2184.94 273.498 Q2183.04 270.952 2179.59 270.952 Q2176.16 270.952 2174.24 273.498 Q2172.34 276.044 2172.34 280.674 Q2172.34 285.28 2174.24 287.826 Q2176.16 290.373 2179.59 290.373 Q2183.04 290.373 2184.94 287.826 Q2186.86 285.28 2186.86 280.674 M2191.12 290.72 Q2191.12 297.34 2188.18 300.558 Q2185.24 303.799 2179.17 303.799 Q2176.93 303.799 2174.94 303.451 Q2172.95 303.127 2171.07 302.433 L2171.07 298.289 Q2172.95 299.308 2174.78 299.794 Q2176.6 300.28 2178.5 300.28 Q2182.69 300.28 2184.78 298.081 Q2186.86 295.905 2186.86 291.484 L2186.86 289.377 Q2185.54 291.669 2183.48 292.803 Q2181.42 293.938 2178.55 293.938 Q2173.78 293.938 2170.86 290.303 Q2167.95 286.669 2167.95 280.674 Q2167.95 274.655 2170.86 271.021 Q2173.78 267.387 2178.55 267.387 Q2181.42 267.387 2183.48 268.521 Q2185.54 269.655 2186.86 271.947 L2186.86 268.012 L2191.12 268.012 L2191.12 290.72 Z\" fill=\"#000000\" fill-rule=\"evenodd\" fill-opacity=\"1\" /><polyline clip-path=\"url(#clip290)\" style=\"stroke:#c271d2; stroke-width:4; stroke-opacity:1; fill:none\" points=\"\n",
       "  1837.66,337.138 1983.74,337.138 \n",
       "  \"/>\n",
       "<path clip-path=\"url(#clip290)\" d=\"M 0 0 M2023.71 335.783 Q2027.07 336.501 2028.94 338.769 Q2030.84 341.038 2030.84 344.371 Q2030.84 349.487 2027.32 352.288 Q2023.8 355.089 2017.32 355.089 Q2015.15 355.089 2012.83 354.649 Q2010.54 354.232 2008.09 353.376 L2008.09 348.862 Q2010.03 349.996 2012.35 350.575 Q2014.66 351.154 2017.18 351.154 Q2021.58 351.154 2023.87 349.418 Q2026.19 347.681 2026.19 344.371 Q2026.19 341.316 2024.04 339.603 Q2021.91 337.867 2018.09 337.867 L2014.06 337.867 L2014.06 334.024 L2018.27 334.024 Q2021.72 334.024 2023.55 332.658 Q2025.38 331.27 2025.38 328.677 Q2025.38 326.015 2023.48 324.603 Q2021.6 323.168 2018.09 323.168 Q2016.16 323.168 2013.97 323.584 Q2011.77 324.001 2009.13 324.881 L2009.13 320.714 Q2011.79 319.973 2014.1 319.603 Q2016.44 319.233 2018.5 319.233 Q2023.83 319.233 2026.93 321.663 Q2030.03 324.07 2030.03 328.191 Q2030.03 331.061 2028.39 333.052 Q2026.74 335.02 2023.71 335.783 Z\" fill=\"#000000\" fill-rule=\"evenodd\" fill-opacity=\"1\" /><path clip-path=\"url(#clip290)\" d=\"M 0 0 M2045.91 322.936 Q2042.3 322.936 2040.47 326.501 Q2038.66 330.043 2038.66 337.172 Q2038.66 344.279 2040.47 347.844 Q2042.3 351.385 2045.91 351.385 Q2049.54 351.385 2051.35 347.844 Q2053.18 344.279 2053.18 337.172 Q2053.18 330.043 2051.35 326.501 Q2049.54 322.936 2045.91 322.936 M2045.91 319.233 Q2051.72 319.233 2054.78 323.839 Q2057.85 328.422 2057.85 337.172 Q2057.85 345.899 2054.78 350.506 Q2051.72 355.089 2045.91 355.089 Q2040.1 355.089 2037.02 350.506 Q2033.97 345.899 2033.97 337.172 Q2033.97 328.422 2037.02 323.839 Q2040.1 319.233 2045.91 319.233 Z\" fill=\"#000000\" fill-rule=\"evenodd\" fill-opacity=\"1\" /><path clip-path=\"url(#clip290)\" d=\"M 0 0 M2072.92 322.936 Q2069.31 322.936 2067.48 326.501 Q2065.68 330.043 2065.68 337.172 Q2065.68 344.279 2067.48 347.844 Q2069.31 351.385 2072.92 351.385 Q2076.56 351.385 2078.36 347.844 Q2080.19 344.279 2080.19 337.172 Q2080.19 330.043 2078.36 326.501 Q2076.56 322.936 2072.92 322.936 M2072.92 319.233 Q2078.73 319.233 2081.79 323.839 Q2084.87 328.422 2084.87 337.172 Q2084.87 345.899 2081.79 350.506 Q2078.73 355.089 2072.92 355.089 Q2067.11 355.089 2064.04 350.506 Q2060.98 345.899 2060.98 337.172 Q2060.98 328.422 2064.04 323.839 Q2067.11 319.233 2072.92 319.233 Z\" fill=\"#000000\" fill-rule=\"evenodd\" fill-opacity=\"1\" /><path clip-path=\"url(#clip290)\" d=\"M 0 0 M2089.94 348.538 L2094.82 348.538 L2094.82 354.418 L2089.94 354.418 L2089.94 348.538 Z\" fill=\"#000000\" fill-rule=\"evenodd\" fill-opacity=\"1\" /><path clip-path=\"url(#clip290)\" d=\"M 0 0 M2109.89 322.936 Q2106.28 322.936 2104.45 326.501 Q2102.65 330.043 2102.65 337.172 Q2102.65 344.279 2104.45 347.844 Q2106.28 351.385 2109.89 351.385 Q2113.53 351.385 2115.33 347.844 Q2117.16 344.279 2117.16 337.172 Q2117.16 330.043 2115.33 326.501 Q2113.53 322.936 2109.89 322.936 M2109.89 319.233 Q2115.7 319.233 2118.76 323.839 Q2121.84 328.422 2121.84 337.172 Q2121.84 345.899 2118.76 350.506 Q2115.7 355.089 2109.89 355.089 Q2104.08 355.089 2101 350.506 Q2097.95 345.899 2097.95 337.172 Q2097.95 328.422 2101 323.839 Q2104.08 319.233 2109.89 319.233 Z\" fill=\"#000000\" fill-rule=\"evenodd\" fill-opacity=\"1\" /><path clip-path=\"url(#clip290)\" d=\"M 0 0 M2161.56 333.469 Q2163.15 330.598 2165.38 329.233 Q2167.6 327.867 2170.61 327.867 Q2174.66 327.867 2176.86 330.714 Q2179.06 333.538 2179.06 338.769 L2179.06 354.418 L2174.78 354.418 L2174.78 338.908 Q2174.78 335.182 2173.46 333.376 Q2172.14 331.57 2169.43 331.57 Q2166.12 331.57 2164.2 333.77 Q2162.28 335.969 2162.28 339.765 L2162.28 354.418 L2157.99 354.418 L2157.99 338.908 Q2157.99 335.158 2156.67 333.376 Q2155.35 331.57 2152.6 331.57 Q2149.34 331.57 2147.41 333.793 Q2145.49 335.992 2145.49 339.765 L2145.49 354.418 L2141.21 354.418 L2141.21 328.492 L2145.49 328.492 L2145.49 332.52 Q2146.95 330.135 2148.99 329.001 Q2151.03 327.867 2153.83 327.867 Q2156.65 327.867 2158.62 329.302 Q2160.61 330.737 2161.56 333.469 Z\" fill=\"#000000\" fill-rule=\"evenodd\" fill-opacity=\"1\" /><path clip-path=\"url(#clip290)\" d=\"M 0 0 M2200.59 341.154 Q2200.59 336.524 2198.66 333.978 Q2196.77 331.432 2193.32 331.432 Q2189.89 331.432 2187.97 333.978 Q2186.07 336.524 2186.07 341.154 Q2186.07 345.76 2187.97 348.306 Q2189.89 350.853 2193.32 350.853 Q2196.77 350.853 2198.66 348.306 Q2200.59 345.76 2200.59 341.154 M2204.84 351.2 Q2204.84 357.82 2201.9 361.038 Q2198.96 364.279 2192.9 364.279 Q2190.65 364.279 2188.66 363.931 Q2186.67 363.607 2184.8 362.913 L2184.8 358.769 Q2186.67 359.788 2188.5 360.274 Q2190.33 360.76 2192.23 360.76 Q2196.42 360.76 2198.5 358.561 Q2200.59 356.385 2200.59 351.964 L2200.59 349.857 Q2199.27 352.149 2197.21 353.283 Q2195.15 354.418 2192.28 354.418 Q2187.51 354.418 2184.59 350.783 Q2181.67 347.149 2181.67 341.154 Q2181.67 335.135 2184.59 331.501 Q2187.51 327.867 2192.28 327.867 Q2195.15 327.867 2197.21 329.001 Q2199.27 330.135 2200.59 332.427 L2200.59 328.492 L2204.84 328.492 L2204.84 351.2 Z\" fill=\"#000000\" fill-rule=\"evenodd\" fill-opacity=\"1\" /><polyline clip-path=\"url(#clip290)\" style=\"stroke:#ffff00; stroke-width:4; stroke-opacity:1; fill:none\" points=\"\n",
       "  1837.66,397.618 1983.74,397.618 \n",
       "  \"/>\n",
       "<circle clip-path=\"url(#clip290)\" cx=\"1910.7\" cy=\"397.618\" r=\"23\" fill=\"#ffff00\" fill-rule=\"evenodd\" fill-opacity=\"1\" stroke=\"#000000\" stroke-opacity=\"1\" stroke-width=\"6.82667\"/>\n",
       "<path clip-path=\"url(#clip290)\" d=\"M 0 0 M2015.49 381.611 L2015.49 388.972 L2024.27 388.972 L2024.27 392.282 L2015.49 392.282 L2015.49 406.356 Q2015.49 409.527 2016.35 410.43 Q2017.23 411.333 2019.89 411.333 L2024.27 411.333 L2024.27 414.898 L2019.89 414.898 Q2014.96 414.898 2013.09 413.069 Q2011.21 411.217 2011.21 406.356 L2011.21 392.282 L2008.09 392.282 L2008.09 388.972 L2011.21 388.972 L2011.21 381.611 L2015.49 381.611 Z\" fill=\"#000000\" fill-rule=\"evenodd\" fill-opacity=\"1\" /><path clip-path=\"url(#clip290)\" d=\"M 0 0 M2060.86 392.907 L2060.86 378.879 L2065.12 378.879 L2065.12 414.898 L2060.86 414.898 L2060.86 411.009 Q2059.52 413.323 2057.46 414.458 Q2055.42 415.569 2052.55 415.569 Q2047.85 415.569 2044.89 411.819 Q2041.95 408.069 2041.95 401.958 Q2041.95 395.847 2044.89 392.097 Q2047.85 388.347 2052.55 388.347 Q2055.42 388.347 2057.46 389.481 Q2059.52 390.592 2060.86 392.907 M2046.35 401.958 Q2046.35 406.657 2048.27 409.342 Q2050.22 412.004 2053.6 412.004 Q2056.97 412.004 2058.92 409.342 Q2060.86 406.657 2060.86 401.958 Q2060.86 397.259 2058.92 394.597 Q2056.97 391.912 2053.6 391.912 Q2050.22 391.912 2048.27 394.597 Q2046.35 397.259 2046.35 401.958 Z\" fill=\"#000000\" fill-rule=\"evenodd\" fill-opacity=\"1\" /><path clip-path=\"url(#clip290)\" d=\"M 0 0 M2069.59 378.879 L2073.85 378.879 L2073.85 414.898 L2069.59 414.898 L2069.59 378.879 Z\" fill=\"#000000\" fill-rule=\"evenodd\" fill-opacity=\"1\" /><path clip-path=\"url(#clip290)\" d=\"M 0 0 M2090.1 401.865 Q2084.94 401.865 2082.95 403.046 Q2080.96 404.226 2080.96 407.074 Q2080.96 409.342 2082.44 410.685 Q2083.94 412.004 2086.51 412.004 Q2090.05 412.004 2092.18 409.504 Q2094.34 406.981 2094.34 402.814 L2094.34 401.865 L2090.1 401.865 M2098.6 400.106 L2098.6 414.898 L2094.34 414.898 L2094.34 410.962 Q2092.88 413.323 2090.7 414.458 Q2088.53 415.569 2085.38 415.569 Q2081.4 415.569 2079.03 413.347 Q2076.7 411.101 2076.7 407.351 Q2076.7 402.976 2079.61 400.754 Q2082.55 398.532 2088.36 398.532 L2094.34 398.532 L2094.34 398.115 Q2094.34 395.175 2092.39 393.578 Q2090.47 391.958 2086.97 391.958 Q2084.75 391.958 2082.65 392.49 Q2080.54 393.023 2078.6 394.087 L2078.6 390.152 Q2080.93 389.25 2083.13 388.81 Q2085.33 388.347 2087.41 388.347 Q2093.04 388.347 2095.82 391.263 Q2098.6 394.18 2098.6 400.106 Z\" fill=\"#000000\" fill-rule=\"evenodd\" fill-opacity=\"1\" /><path clip-path=\"url(#clip290)\" d=\"M 0 0 M2129.31 395.754 Q2126.16 395.754 2124.31 397.907 Q2122.48 400.06 2122.48 403.81 Q2122.48 407.536 2124.31 409.712 Q2126.16 411.865 2129.31 411.865 Q2132.46 411.865 2134.29 409.712 Q2136.14 407.536 2136.14 403.81 Q2136.14 400.06 2134.29 397.907 Q2132.46 395.754 2129.31 395.754 M2138.59 381.101 L2138.59 385.361 Q2136.84 384.527 2135.03 384.088 Q2133.25 383.648 2131.49 383.648 Q2126.86 383.648 2124.41 386.773 Q2121.97 389.898 2121.63 396.217 Q2122.99 394.203 2125.05 393.138 Q2127.11 392.05 2129.59 392.05 Q2134.8 392.05 2137.81 395.222 Q2140.84 398.37 2140.84 403.81 Q2140.84 409.134 2137.69 412.351 Q2134.54 415.569 2129.31 415.569 Q2123.32 415.569 2120.15 410.986 Q2116.97 406.379 2116.97 397.652 Q2116.97 389.458 2120.86 384.597 Q2124.75 379.713 2131.3 379.713 Q2133.06 379.713 2134.84 380.06 Q2136.65 380.407 2138.59 381.101 Z\" fill=\"#000000\" fill-rule=\"evenodd\" fill-opacity=\"1\" /><path clip-path=\"url(#clip290)\" d=\"M 0 0 M2155.91 383.416 Q2152.3 383.416 2150.47 386.981 Q2148.66 390.523 2148.66 397.652 Q2148.66 404.759 2150.47 408.324 Q2152.3 411.865 2155.91 411.865 Q2159.54 411.865 2161.35 408.324 Q2163.18 404.759 2163.18 397.652 Q2163.18 390.523 2161.35 386.981 Q2159.54 383.416 2155.91 383.416 M2155.91 379.713 Q2161.72 379.713 2164.78 384.319 Q2167.85 388.902 2167.85 397.652 Q2167.85 406.379 2164.78 410.986 Q2161.72 415.569 2155.91 415.569 Q2150.1 415.569 2147.02 410.986 Q2143.97 406.379 2143.97 397.652 Q2143.97 388.902 2147.02 384.319 Q2150.1 379.713 2155.91 379.713 Z\" fill=\"#000000\" fill-rule=\"evenodd\" fill-opacity=\"1\" /><path clip-path=\"url(#clip290)\" d=\"M 0 0 M2182.92 383.416 Q2179.31 383.416 2177.48 386.981 Q2175.68 390.523 2175.68 397.652 Q2175.68 404.759 2177.48 408.324 Q2179.31 411.865 2182.92 411.865 Q2186.56 411.865 2188.36 408.324 Q2190.19 404.759 2190.19 397.652 Q2190.19 390.523 2188.36 386.981 Q2186.56 383.416 2182.92 383.416 M2182.92 379.713 Q2188.73 379.713 2191.79 384.319 Q2194.87 388.902 2194.87 397.652 Q2194.87 406.379 2191.79 410.986 Q2188.73 415.569 2182.92 415.569 Q2177.11 415.569 2174.03 410.986 Q2170.98 406.379 2170.98 397.652 Q2170.98 388.902 2174.03 384.319 Q2177.11 379.713 2182.92 379.713 Z\" fill=\"#000000\" fill-rule=\"evenodd\" fill-opacity=\"1\" /><polyline clip-path=\"url(#clip290)\" style=\"stroke:#ff0000; stroke-width:4; stroke-opacity:1; fill:none\" points=\"\n",
       "  1837.66,458.098 1983.74,458.098 \n",
       "  \"/>\n",
       "<circle clip-path=\"url(#clip290)\" cx=\"1910.7\" cy=\"458.098\" r=\"23\" fill=\"#ff0000\" fill-rule=\"evenodd\" fill-opacity=\"1\" stroke=\"#000000\" stroke-opacity=\"1\" stroke-width=\"6.82667\"/>\n",
       "<path clip-path=\"url(#clip290)\" d=\"M 0 0 M2015.49 442.091 L2015.49 449.452 L2024.27 449.452 L2024.27 452.762 L2015.49 452.762 L2015.49 466.836 Q2015.49 470.007 2016.35 470.91 Q2017.23 471.813 2019.89 471.813 L2024.27 471.813 L2024.27 475.378 L2019.89 475.378 Q2014.96 475.378 2013.09 473.549 Q2011.21 471.697 2011.21 466.836 L2011.21 452.762 L2008.09 452.762 L2008.09 449.452 L2011.21 449.452 L2011.21 442.091 L2015.49 442.091 Z\" fill=\"#000000\" fill-rule=\"evenodd\" fill-opacity=\"1\" /><path clip-path=\"url(#clip290)\" d=\"M 0 0 M2060.86 453.387 L2060.86 439.359 L2065.12 439.359 L2065.12 475.378 L2060.86 475.378 L2060.86 471.489 Q2059.52 473.803 2057.46 474.938 Q2055.42 476.049 2052.55 476.049 Q2047.85 476.049 2044.89 472.299 Q2041.95 468.549 2041.95 462.438 Q2041.95 456.327 2044.89 452.577 Q2047.85 448.827 2052.55 448.827 Q2055.42 448.827 2057.46 449.961 Q2059.52 451.072 2060.86 453.387 M2046.35 462.438 Q2046.35 467.137 2048.27 469.822 Q2050.22 472.484 2053.6 472.484 Q2056.97 472.484 2058.92 469.822 Q2060.86 467.137 2060.86 462.438 Q2060.86 457.739 2058.92 455.077 Q2056.97 452.392 2053.6 452.392 Q2050.22 452.392 2048.27 455.077 Q2046.35 457.739 2046.35 462.438 Z\" fill=\"#000000\" fill-rule=\"evenodd\" fill-opacity=\"1\" /><path clip-path=\"url(#clip290)\" d=\"M 0 0 M2069.59 439.359 L2073.85 439.359 L2073.85 475.378 L2069.59 475.378 L2069.59 439.359 Z\" fill=\"#000000\" fill-rule=\"evenodd\" fill-opacity=\"1\" /><path clip-path=\"url(#clip290)\" d=\"M 0 0 M2090.1 462.345 Q2084.94 462.345 2082.95 463.526 Q2080.96 464.706 2080.96 467.554 Q2080.96 469.822 2082.44 471.165 Q2083.94 472.484 2086.51 472.484 Q2090.05 472.484 2092.18 469.984 Q2094.34 467.461 2094.34 463.294 L2094.34 462.345 L2090.1 462.345 M2098.6 460.586 L2098.6 475.378 L2094.34 475.378 L2094.34 471.442 Q2092.88 473.803 2090.7 474.938 Q2088.53 476.049 2085.38 476.049 Q2081.4 476.049 2079.03 473.827 Q2076.7 471.581 2076.7 467.831 Q2076.7 463.456 2079.61 461.234 Q2082.55 459.012 2088.36 459.012 L2094.34 459.012 L2094.34 458.595 Q2094.34 455.655 2092.39 454.058 Q2090.47 452.438 2086.97 452.438 Q2084.75 452.438 2082.65 452.97 Q2080.54 453.503 2078.6 454.567 L2078.6 450.632 Q2080.93 449.73 2083.13 449.29 Q2085.33 448.827 2087.41 448.827 Q2093.04 448.827 2095.82 451.743 Q2098.6 454.66 2098.6 460.586 Z\" fill=\"#000000\" fill-rule=\"evenodd\" fill-opacity=\"1\" /><path clip-path=\"url(#clip290)\" d=\"M 0 0 M2119.54 471.442 L2127.18 471.442 L2127.18 445.077 L2118.87 446.743 L2118.87 442.484 L2127.14 440.818 L2131.81 440.818 L2131.81 471.442 L2139.45 471.442 L2139.45 475.378 L2119.54 475.378 L2119.54 471.442 Z\" fill=\"#000000\" fill-rule=\"evenodd\" fill-opacity=\"1\" /><path clip-path=\"url(#clip290)\" d=\"M 0 0 M2148.55 471.442 L2164.87 471.442 L2164.87 475.378 L2142.92 475.378 L2142.92 471.442 Q2145.59 468.688 2150.17 464.058 Q2154.78 459.405 2155.96 458.063 Q2158.2 455.54 2159.08 453.804 Q2159.98 452.044 2159.98 450.355 Q2159.98 447.6 2158.04 445.864 Q2156.12 444.128 2153.02 444.128 Q2150.82 444.128 2148.36 444.892 Q2145.93 445.655 2143.16 447.206 L2143.16 442.484 Q2145.98 441.35 2148.43 440.771 Q2150.89 440.193 2152.92 440.193 Q2158.29 440.193 2161.49 442.878 Q2164.68 445.563 2164.68 450.054 Q2164.68 452.183 2163.87 454.105 Q2163.09 456.003 2160.98 458.595 Q2160.4 459.267 2157.3 462.484 Q2154.2 465.679 2148.55 471.442 Z\" fill=\"#000000\" fill-rule=\"evenodd\" fill-opacity=\"1\" /><path clip-path=\"url(#clip290)\" d=\"M 0 0 M2179.94 443.896 Q2176.33 443.896 2174.5 447.461 Q2172.69 451.003 2172.69 458.132 Q2172.69 465.239 2174.5 468.804 Q2176.33 472.345 2179.94 472.345 Q2183.57 472.345 2185.38 468.804 Q2187.21 465.239 2187.21 458.132 Q2187.21 451.003 2185.38 447.461 Q2183.57 443.896 2179.94 443.896 M2179.94 440.193 Q2185.75 440.193 2188.8 444.799 Q2191.88 449.382 2191.88 458.132 Q2191.88 466.859 2188.8 471.466 Q2185.75 476.049 2179.94 476.049 Q2174.13 476.049 2171.05 471.466 Q2167.99 466.859 2167.99 458.132 Q2167.99 449.382 2171.05 444.799 Q2174.13 440.193 2179.94 440.193 Z\" fill=\"#000000\" fill-rule=\"evenodd\" fill-opacity=\"1\" /><path clip-path=\"url(#clip290)\" d=\"M 0 0 M2206.95 443.896 Q2203.34 443.896 2201.51 447.461 Q2199.71 451.003 2199.71 458.132 Q2199.71 465.239 2201.51 468.804 Q2203.34 472.345 2206.95 472.345 Q2210.59 472.345 2212.39 468.804 Q2214.22 465.239 2214.22 458.132 Q2214.22 451.003 2212.39 447.461 Q2210.59 443.896 2206.95 443.896 M2206.95 440.193 Q2212.76 440.193 2215.82 444.799 Q2218.9 449.382 2218.9 458.132 Q2218.9 466.859 2215.82 471.466 Q2212.76 476.049 2206.95 476.049 Q2201.14 476.049 2198.06 471.466 Q2195.01 466.859 2195.01 458.132 Q2195.01 449.382 2198.06 444.799 Q2201.14 440.193 2206.95 440.193 Z\" fill=\"#000000\" fill-rule=\"evenodd\" fill-opacity=\"1\" /><polyline clip-path=\"url(#clip290)\" style=\"stroke:#ffc0cb; stroke-width:4; stroke-opacity:1; fill:none\" points=\"\n",
       "  1837.66,518.578 1983.74,518.578 \n",
       "  \"/>\n",
       "<circle clip-path=\"url(#clip290)\" cx=\"1910.7\" cy=\"518.578\" r=\"23\" fill=\"#ffc0cb\" fill-rule=\"evenodd\" fill-opacity=\"1\" stroke=\"#000000\" stroke-opacity=\"1\" stroke-width=\"6.82667\"/>\n",
       "<path clip-path=\"url(#clip290)\" d=\"M 0 0 M2015.49 502.571 L2015.49 509.932 L2024.27 509.932 L2024.27 513.242 L2015.49 513.242 L2015.49 527.316 Q2015.49 530.487 2016.35 531.39 Q2017.23 532.293 2019.89 532.293 L2024.27 532.293 L2024.27 535.858 L2019.89 535.858 Q2014.96 535.858 2013.09 534.029 Q2011.21 532.177 2011.21 527.316 L2011.21 513.242 L2008.09 513.242 L2008.09 509.932 L2011.21 509.932 L2011.21 502.571 L2015.49 502.571 Z\" fill=\"#000000\" fill-rule=\"evenodd\" fill-opacity=\"1\" /><path clip-path=\"url(#clip290)\" d=\"M 0 0 M2060.86 513.867 L2060.86 499.839 L2065.12 499.839 L2065.12 535.858 L2060.86 535.858 L2060.86 531.969 Q2059.52 534.283 2057.46 535.418 Q2055.42 536.529 2052.55 536.529 Q2047.85 536.529 2044.89 532.779 Q2041.95 529.029 2041.95 522.918 Q2041.95 516.807 2044.89 513.057 Q2047.85 509.307 2052.55 509.307 Q2055.42 509.307 2057.46 510.441 Q2059.52 511.552 2060.86 513.867 M2046.35 522.918 Q2046.35 527.617 2048.27 530.302 Q2050.22 532.964 2053.6 532.964 Q2056.97 532.964 2058.92 530.302 Q2060.86 527.617 2060.86 522.918 Q2060.86 518.219 2058.92 515.557 Q2056.97 512.872 2053.6 512.872 Q2050.22 512.872 2048.27 515.557 Q2046.35 518.219 2046.35 522.918 Z\" fill=\"#000000\" fill-rule=\"evenodd\" fill-opacity=\"1\" /><path clip-path=\"url(#clip290)\" d=\"M 0 0 M2069.59 499.839 L2073.85 499.839 L2073.85 535.858 L2069.59 535.858 L2069.59 499.839 Z\" fill=\"#000000\" fill-rule=\"evenodd\" fill-opacity=\"1\" /><path clip-path=\"url(#clip290)\" d=\"M 0 0 M2090.1 522.825 Q2084.94 522.825 2082.95 524.006 Q2080.96 525.186 2080.96 528.034 Q2080.96 530.302 2082.44 531.645 Q2083.94 532.964 2086.51 532.964 Q2090.05 532.964 2092.18 530.464 Q2094.34 527.941 2094.34 523.774 L2094.34 522.825 L2090.1 522.825 M2098.6 521.066 L2098.6 535.858 L2094.34 535.858 L2094.34 531.922 Q2092.88 534.283 2090.7 535.418 Q2088.53 536.529 2085.38 536.529 Q2081.4 536.529 2079.03 534.307 Q2076.7 532.061 2076.7 528.311 Q2076.7 523.936 2079.61 521.714 Q2082.55 519.492 2088.36 519.492 L2094.34 519.492 L2094.34 519.075 Q2094.34 516.135 2092.39 514.538 Q2090.47 512.918 2086.97 512.918 Q2084.75 512.918 2082.65 513.45 Q2080.54 513.983 2078.6 515.047 L2078.6 511.112 Q2080.93 510.21 2083.13 509.77 Q2085.33 509.307 2087.41 509.307 Q2093.04 509.307 2095.82 512.223 Q2098.6 515.14 2098.6 521.066 Z\" fill=\"#000000\" fill-rule=\"evenodd\" fill-opacity=\"1\" /><path clip-path=\"url(#clip290)\" d=\"M 0 0 M2132.9 517.223 Q2136.26 517.941 2138.13 520.209 Q2140.03 522.478 2140.03 525.811 Q2140.03 530.927 2136.51 533.728 Q2132.99 536.529 2126.51 536.529 Q2124.34 536.529 2122.02 536.089 Q2119.73 535.672 2117.28 534.816 L2117.28 530.302 Q2119.22 531.436 2121.53 532.015 Q2123.85 532.594 2126.37 532.594 Q2130.77 532.594 2133.06 530.858 Q2135.38 529.121 2135.38 525.811 Q2135.38 522.756 2133.22 521.043 Q2131.09 519.307 2127.28 519.307 L2123.25 519.307 L2123.25 515.464 L2127.46 515.464 Q2130.91 515.464 2132.74 514.098 Q2134.57 512.71 2134.57 510.117 Q2134.57 507.455 2132.67 506.043 Q2130.79 504.608 2127.28 504.608 Q2125.35 504.608 2123.16 505.024 Q2120.96 505.441 2118.32 506.321 L2118.32 502.154 Q2120.98 501.413 2123.29 501.043 Q2125.63 500.673 2127.69 500.673 Q2133.02 500.673 2136.12 503.103 Q2139.22 505.51 2139.22 509.631 Q2139.22 512.501 2137.58 514.492 Q2135.93 516.46 2132.9 517.223 Z\" fill=\"#000000\" fill-rule=\"evenodd\" fill-opacity=\"1\" /><path clip-path=\"url(#clip290)\" d=\"M 0 0 M2155.1 504.376 Q2151.49 504.376 2149.66 507.941 Q2147.85 511.483 2147.85 518.612 Q2147.85 525.719 2149.66 529.284 Q2151.49 532.825 2155.1 532.825 Q2158.73 532.825 2160.54 529.284 Q2162.37 525.719 2162.37 518.612 Q2162.37 511.483 2160.54 507.941 Q2158.73 504.376 2155.1 504.376 M2155.1 500.673 Q2160.91 500.673 2163.97 505.279 Q2167.04 509.862 2167.04 518.612 Q2167.04 527.339 2163.97 531.946 Q2160.91 536.529 2155.1 536.529 Q2149.29 536.529 2146.21 531.946 Q2143.16 527.339 2143.16 518.612 Q2143.16 509.862 2146.21 505.279 Q2149.29 500.673 2155.1 500.673 Z\" fill=\"#000000\" fill-rule=\"evenodd\" fill-opacity=\"1\" /><path clip-path=\"url(#clip290)\" d=\"M 0 0 M2182.11 504.376 Q2178.5 504.376 2176.67 507.941 Q2174.87 511.483 2174.87 518.612 Q2174.87 525.719 2176.67 529.284 Q2178.5 532.825 2182.11 532.825 Q2185.75 532.825 2187.55 529.284 Q2189.38 525.719 2189.38 518.612 Q2189.38 511.483 2187.55 507.941 Q2185.75 504.376 2182.11 504.376 M2182.11 500.673 Q2187.92 500.673 2190.98 505.279 Q2194.06 509.862 2194.06 518.612 Q2194.06 527.339 2190.98 531.946 Q2187.92 536.529 2182.11 536.529 Q2176.3 536.529 2173.22 531.946 Q2170.17 527.339 2170.17 518.612 Q2170.17 509.862 2173.22 505.279 Q2176.3 500.673 2182.11 500.673 Z\" fill=\"#000000\" fill-rule=\"evenodd\" fill-opacity=\"1\" /><path clip-path=\"url(#clip290)\" d=\"M 0 0 M2199.13 529.978 L2204.01 529.978 L2204.01 535.858 L2199.13 535.858 L2199.13 529.978 Z\" fill=\"#000000\" fill-rule=\"evenodd\" fill-opacity=\"1\" /><path clip-path=\"url(#clip290)\" d=\"M 0 0 M2219.08 504.376 Q2215.47 504.376 2213.64 507.941 Q2211.84 511.483 2211.84 518.612 Q2211.84 525.719 2213.64 529.284 Q2215.47 532.825 2219.08 532.825 Q2222.71 532.825 2224.52 529.284 Q2226.35 525.719 2226.35 518.612 Q2226.35 511.483 2224.52 507.941 Q2222.71 504.376 2219.08 504.376 M2219.08 500.673 Q2224.89 500.673 2227.95 505.279 Q2231.02 509.862 2231.02 518.612 Q2231.02 527.339 2227.95 531.946 Q2224.89 536.529 2219.08 536.529 Q2213.27 536.529 2210.19 531.946 Q2207.14 527.339 2207.14 518.612 Q2207.14 509.862 2210.19 505.279 Q2213.27 500.673 2219.08 500.673 Z\" fill=\"#000000\" fill-rule=\"evenodd\" fill-opacity=\"1\" /><polyline clip-path=\"url(#clip290)\" style=\"stroke:#c68125; stroke-width:4; stroke-opacity:1; fill:none\" stroke-dasharray=\"16, 10\" points=\"\n",
       "  1837.66,579.058 1983.74,579.058 \n",
       "  \"/>\n",
       "<path clip-path=\"url(#clip290)\" d=\"M 0 0 M2008.09 561.778 L2015.05 561.778 L2023.87 585.296 L2032.74 561.778 L2039.71 561.778 L2039.71 596.338 L2035.15 596.338 L2035.15 565.99 L2026.23 589.694 L2021.54 589.694 L2012.62 565.99 L2012.62 596.338 L2008.09 596.338 L2008.09 561.778 Z\" fill=\"#000000\" fill-rule=\"evenodd\" fill-opacity=\"1\" /><path clip-path=\"url(#clip290)\" d=\"M 0 0 M2039.57 561.778 L2068.8 561.778 L2068.8 565.713 L2056.54 565.713 L2056.54 596.338 L2051.84 596.338 L2051.84 565.713 L2039.57 565.713 L2039.57 561.778 Z\" fill=\"#000000\" fill-rule=\"evenodd\" fill-opacity=\"1\" /><path clip-path=\"url(#clip290)\" d=\"M 0 0 M2096.56 564.44 L2096.56 569.37 Q2094.2 567.171 2091.51 566.083 Q2088.85 564.995 2085.84 564.995 Q2079.91 564.995 2076.77 568.629 Q2073.62 572.24 2073.62 579.092 Q2073.62 585.921 2076.77 589.555 Q2079.91 593.166 2085.84 593.166 Q2088.85 593.166 2091.51 592.078 Q2094.2 590.99 2096.56 588.791 L2096.56 593.676 Q2094.1 595.342 2091.35 596.176 Q2088.62 597.009 2085.56 597.009 Q2077.72 597.009 2073.2 592.217 Q2068.69 587.402 2068.69 579.092 Q2068.69 570.759 2073.2 565.967 Q2077.72 561.153 2085.56 561.153 Q2088.66 561.153 2091.4 561.986 Q2094.15 562.796 2096.56 564.44 Z\" fill=\"#000000\" fill-rule=\"evenodd\" fill-opacity=\"1\" /><path clip-path=\"url(#clip290)\" d=\"\n",
       "M1147.62 1414.49 L2243.2 1414.49 L2243.2 1054.69 L1147.62 1054.69  Z\n",
       "  \" fill=\"#ffffff\" fill-rule=\"evenodd\" fill-opacity=\"1\"/>\n",
       "<defs>\n",
       "  <clipPath id=\"clip293\">\n",
       "    <rect x=\"1147\" y=\"1054\" width=\"1097\" height=\"361\"/>\n",
       "  </clipPath>\n",
       "</defs>\n",
       "<polyline clip-path=\"url(#clip293)\" style=\"stroke:#000000; stroke-width:2; stroke-opacity:0.1; fill:none\" points=\"\n",
       "  1147.62,1414.49 1147.62,1054.69 \n",
       "  \"/>\n",
       "<polyline clip-path=\"url(#clip293)\" style=\"stroke:#000000; stroke-width:2; stroke-opacity:0.1; fill:none\" points=\"\n",
       "  1512.81,1414.49 1512.81,1054.69 \n",
       "  \"/>\n",
       "<polyline clip-path=\"url(#clip293)\" style=\"stroke:#000000; stroke-width:2; stroke-opacity:0.1; fill:none\" points=\"\n",
       "  1878.01,1414.49 1878.01,1054.69 \n",
       "  \"/>\n",
       "<polyline clip-path=\"url(#clip293)\" style=\"stroke:#000000; stroke-width:2; stroke-opacity:0.1; fill:none\" points=\"\n",
       "  2243.2,1414.49 2243.2,1054.69 \n",
       "  \"/>\n",
       "<polyline clip-path=\"url(#clip290)\" style=\"stroke:#000000; stroke-width:4; stroke-opacity:1; fill:none\" points=\"\n",
       "  1147.62,1414.49 2243.2,1414.49 \n",
       "  \"/>\n",
       "<polyline clip-path=\"url(#clip290)\" style=\"stroke:#000000; stroke-width:4; stroke-opacity:1; fill:none\" points=\"\n",
       "  1147.62,1054.69 2243.2,1054.69 \n",
       "  \"/>\n",
       "<polyline clip-path=\"url(#clip290)\" style=\"stroke:#000000; stroke-width:4; stroke-opacity:1; fill:none\" points=\"\n",
       "  1147.62,1414.49 1147.62,1410.17 \n",
       "  \"/>\n",
       "<polyline clip-path=\"url(#clip290)\" style=\"stroke:#000000; stroke-width:4; stroke-opacity:1; fill:none\" points=\"\n",
       "  1512.81,1414.49 1512.81,1410.17 \n",
       "  \"/>\n",
       "<polyline clip-path=\"url(#clip290)\" style=\"stroke:#000000; stroke-width:4; stroke-opacity:1; fill:none\" points=\"\n",
       "  1878.01,1414.49 1878.01,1410.17 \n",
       "  \"/>\n",
       "<polyline clip-path=\"url(#clip290)\" style=\"stroke:#000000; stroke-width:4; stroke-opacity:1; fill:none\" points=\"\n",
       "  2243.2,1414.49 2243.2,1410.17 \n",
       "  \"/>\n",
       "<path clip-path=\"url(#clip290)\" d=\"M 0 0 M1137.9 1440.6 L1156.25 1440.6 L1156.25 1444.53 L1142.18 1444.53 L1142.18 1453.01 Q1143.2 1452.66 1144.22 1452.5 Q1145.23 1452.31 1146.25 1452.31 Q1152.04 1452.31 1155.42 1455.48 Q1158.8 1458.66 1158.8 1464.07 Q1158.8 1469.65 1155.33 1472.75 Q1151.86 1475.83 1145.54 1475.83 Q1143.36 1475.83 1141.09 1475.46 Q1138.85 1475.09 1136.44 1474.35 L1136.44 1469.65 Q1138.52 1470.78 1140.74 1471.34 Q1142.97 1471.9 1145.44 1471.9 Q1149.45 1471.9 1151.79 1469.79 Q1154.12 1467.68 1154.12 1464.07 Q1154.12 1460.46 1151.79 1458.35 Q1149.45 1456.25 1145.44 1456.25 Q1143.57 1456.25 1141.69 1456.66 Q1139.84 1457.08 1137.9 1457.96 L1137.9 1440.6 Z\" fill=\"#000000\" fill-rule=\"evenodd\" fill-opacity=\"1\" /><path clip-path=\"url(#clip290)\" d=\"M 0 0 M1513.22 1456.02 Q1510.07 1456.02 1508.22 1458.17 Q1506.39 1460.32 1506.39 1464.07 Q1506.39 1467.8 1508.22 1469.97 Q1510.07 1472.13 1513.22 1472.13 Q1516.37 1472.13 1518.19 1469.97 Q1520.05 1467.8 1520.05 1464.07 Q1520.05 1460.32 1518.19 1458.17 Q1516.37 1456.02 1513.22 1456.02 M1522.5 1441.36 L1522.5 1445.62 Q1520.74 1444.79 1518.93 1444.35 Q1517.15 1443.91 1515.39 1443.91 Q1510.76 1443.91 1508.31 1447.03 Q1505.88 1450.16 1505.53 1456.48 Q1506.9 1454.47 1508.96 1453.4 Q1511.02 1452.31 1513.49 1452.31 Q1518.7 1452.31 1521.71 1455.48 Q1524.74 1458.63 1524.74 1464.07 Q1524.74 1469.4 1521.6 1472.61 Q1518.45 1475.83 1513.22 1475.83 Q1507.22 1475.83 1504.05 1471.25 Q1500.88 1466.64 1500.88 1457.91 Q1500.88 1449.72 1504.77 1444.86 Q1508.66 1439.97 1515.21 1439.97 Q1516.97 1439.97 1518.75 1440.32 Q1520.56 1440.67 1522.5 1441.36 Z\" fill=\"#000000\" fill-rule=\"evenodd\" fill-opacity=\"1\" /><path clip-path=\"url(#clip290)\" d=\"M 0 0 M1866.89 1440.6 L1889.12 1440.6 L1889.12 1442.59 L1876.57 1475.16 L1871.69 1475.16 L1883.49 1444.53 L1866.89 1444.53 L1866.89 1440.6 Z\" fill=\"#000000\" fill-rule=\"evenodd\" fill-opacity=\"1\" /><path clip-path=\"url(#clip290)\" d=\"M 0 0 M2243.2 1458.75 Q2239.86 1458.75 2237.94 1460.53 Q2236.05 1462.31 2236.05 1465.44 Q2236.05 1468.56 2237.94 1470.34 Q2239.86 1472.13 2243.2 1472.13 Q2246.53 1472.13 2248.45 1470.34 Q2250.37 1468.54 2250.37 1465.44 Q2250.37 1462.31 2248.45 1460.53 Q2246.55 1458.75 2243.2 1458.75 M2238.52 1456.76 Q2235.51 1456.02 2233.82 1453.96 Q2232.16 1451.9 2232.16 1448.93 Q2232.16 1444.79 2235.1 1442.38 Q2238.06 1439.97 2243.2 1439.97 Q2248.36 1439.97 2251.3 1442.38 Q2254.24 1444.79 2254.24 1448.93 Q2254.24 1451.9 2252.55 1453.96 Q2250.88 1456.02 2247.9 1456.76 Q2251.28 1457.54 2253.15 1459.84 Q2255.05 1462.13 2255.05 1465.44 Q2255.05 1470.46 2251.97 1473.15 Q2248.92 1475.83 2243.2 1475.83 Q2237.48 1475.83 2234.4 1473.15 Q2231.35 1470.46 2231.35 1465.44 Q2231.35 1462.13 2233.24 1459.84 Q2235.14 1457.54 2238.52 1456.76 M2236.81 1449.37 Q2236.81 1452.06 2238.48 1453.56 Q2240.17 1455.07 2243.2 1455.07 Q2246.21 1455.07 2247.9 1453.56 Q2249.61 1452.06 2249.61 1449.37 Q2249.61 1446.69 2247.9 1445.18 Q2246.21 1443.68 2243.2 1443.68 Q2240.17 1443.68 2238.48 1445.18 Q2236.81 1446.69 2236.81 1449.37 Z\" fill=\"#000000\" fill-rule=\"evenodd\" fill-opacity=\"1\" /><polyline clip-path=\"url(#clip293)\" style=\"stroke:#000000; stroke-width:2; stroke-opacity:0.1; fill:none\" points=\"\n",
       "  1147.62,1414.49 2243.2,1414.49 \n",
       "  \"/>\n",
       "<polyline clip-path=\"url(#clip293)\" style=\"stroke:#000000; stroke-width:2; stroke-opacity:0.1; fill:none\" points=\"\n",
       "  1147.62,1342.53 2243.2,1342.53 \n",
       "  \"/>\n",
       "<polyline clip-path=\"url(#clip293)\" style=\"stroke:#000000; stroke-width:2; stroke-opacity:0.1; fill:none\" points=\"\n",
       "  1147.62,1270.57 2243.2,1270.57 \n",
       "  \"/>\n",
       "<polyline clip-path=\"url(#clip293)\" style=\"stroke:#000000; stroke-width:2; stroke-opacity:0.1; fill:none\" points=\"\n",
       "  1147.62,1198.61 2243.2,1198.61 \n",
       "  \"/>\n",
       "<polyline clip-path=\"url(#clip293)\" style=\"stroke:#000000; stroke-width:2; stroke-opacity:0.1; fill:none\" points=\"\n",
       "  1147.62,1126.65 2243.2,1126.65 \n",
       "  \"/>\n",
       "<polyline clip-path=\"url(#clip293)\" style=\"stroke:#000000; stroke-width:2; stroke-opacity:0.1; fill:none\" points=\"\n",
       "  1147.62,1054.69 2243.2,1054.69 \n",
       "  \"/>\n",
       "<polyline clip-path=\"url(#clip290)\" style=\"stroke:#000000; stroke-width:4; stroke-opacity:1; fill:none\" points=\"\n",
       "  1147.62,1414.49 1147.62,1054.69 \n",
       "  \"/>\n",
       "<polyline clip-path=\"url(#clip290)\" style=\"stroke:#000000; stroke-width:4; stroke-opacity:1; fill:none\" points=\"\n",
       "  2243.2,1414.49 2243.2,1054.69 \n",
       "  \"/>\n",
       "<polyline clip-path=\"url(#clip290)\" style=\"stroke:#000000; stroke-width:4; stroke-opacity:1; fill:none\" points=\"\n",
       "  1147.62,1414.49 1160.77,1414.49 \n",
       "  \"/>\n",
       "<polyline clip-path=\"url(#clip290)\" style=\"stroke:#000000; stroke-width:4; stroke-opacity:1; fill:none\" points=\"\n",
       "  1147.62,1342.53 1160.77,1342.53 \n",
       "  \"/>\n",
       "<polyline clip-path=\"url(#clip290)\" style=\"stroke:#000000; stroke-width:4; stroke-opacity:1; fill:none\" points=\"\n",
       "  1147.62,1270.57 1160.77,1270.57 \n",
       "  \"/>\n",
       "<polyline clip-path=\"url(#clip290)\" style=\"stroke:#000000; stroke-width:4; stroke-opacity:1; fill:none\" points=\"\n",
       "  1147.62,1198.61 1160.77,1198.61 \n",
       "  \"/>\n",
       "<polyline clip-path=\"url(#clip290)\" style=\"stroke:#000000; stroke-width:4; stroke-opacity:1; fill:none\" points=\"\n",
       "  1147.62,1126.65 1160.77,1126.65 \n",
       "  \"/>\n",
       "<polyline clip-path=\"url(#clip290)\" style=\"stroke:#000000; stroke-width:4; stroke-opacity:1; fill:none\" points=\"\n",
       "  1147.62,1054.69 1160.77,1054.69 \n",
       "  \"/>\n",
       "<path clip-path=\"url(#clip290)\" d=\"M 0 0 M1035.69 1400.29 Q1032.08 1400.29 1030.25 1403.85 Q1028.45 1407.39 1028.45 1414.52 Q1028.45 1421.63 1030.25 1425.19 Q1032.08 1428.74 1035.69 1428.74 Q1039.33 1428.74 1041.13 1425.19 Q1042.96 1421.63 1042.96 1414.52 Q1042.96 1407.39 1041.13 1403.85 Q1039.33 1400.29 1035.69 1400.29 M1035.69 1396.58 Q1041.5 1396.58 1044.56 1401.19 Q1047.64 1405.77 1047.64 1414.52 Q1047.64 1423.25 1044.56 1427.86 Q1041.5 1432.44 1035.69 1432.44 Q1029.88 1432.44 1026.8 1427.86 Q1023.75 1423.25 1023.75 1414.52 Q1023.75 1405.77 1026.8 1401.19 Q1029.88 1396.58 1035.69 1396.58 Z\" fill=\"#000000\" fill-rule=\"evenodd\" fill-opacity=\"1\" /><path clip-path=\"url(#clip290)\" d=\"M 0 0 M1052.71 1425.89 L1057.59 1425.89 L1057.59 1431.77 L1052.71 1431.77 L1052.71 1425.89 Z\" fill=\"#000000\" fill-rule=\"evenodd\" fill-opacity=\"1\" /><path clip-path=\"url(#clip290)\" d=\"M 0 0 M1072.66 1400.29 Q1069.05 1400.29 1067.22 1403.85 Q1065.42 1407.39 1065.42 1414.52 Q1065.42 1421.63 1067.22 1425.19 Q1069.05 1428.74 1072.66 1428.74 Q1076.3 1428.74 1078.1 1425.19 Q1079.93 1421.63 1079.93 1414.52 Q1079.93 1407.39 1078.1 1403.85 Q1076.3 1400.29 1072.66 1400.29 M1072.66 1396.58 Q1078.47 1396.58 1081.53 1401.19 Q1084.61 1405.77 1084.61 1414.52 Q1084.61 1423.25 1081.53 1427.86 Q1078.47 1432.44 1072.66 1432.44 Q1066.85 1432.44 1063.77 1427.86 Q1060.72 1423.25 1060.72 1414.52 Q1060.72 1405.77 1063.77 1401.19 Q1066.85 1396.58 1072.66 1396.58 Z\" fill=\"#000000\" fill-rule=\"evenodd\" fill-opacity=\"1\" /><path clip-path=\"url(#clip290)\" d=\"M 0 0 M1099.67 1400.29 Q1096.06 1400.29 1094.24 1403.85 Q1092.43 1407.39 1092.43 1414.52 Q1092.43 1421.63 1094.24 1425.19 Q1096.06 1428.74 1099.67 1428.74 Q1103.31 1428.74 1105.11 1425.19 Q1106.94 1421.63 1106.94 1414.52 Q1106.94 1407.39 1105.11 1403.85 Q1103.31 1400.29 1099.67 1400.29 M1099.67 1396.58 Q1105.48 1396.58 1108.54 1401.19 Q1111.62 1405.77 1111.62 1414.52 Q1111.62 1423.25 1108.54 1427.86 Q1105.48 1432.44 1099.67 1432.44 Q1093.86 1432.44 1090.79 1427.86 Q1087.73 1423.25 1087.73 1414.52 Q1087.73 1405.77 1090.79 1401.19 Q1093.86 1396.58 1099.67 1396.58 Z\" fill=\"#000000\" fill-rule=\"evenodd\" fill-opacity=\"1\" /><path clip-path=\"url(#clip290)\" d=\"M 0 0 M1037.29 1328.33 Q1033.68 1328.33 1031.85 1331.89 Q1030.05 1335.43 1030.05 1342.56 Q1030.05 1349.67 1031.85 1353.23 Q1033.68 1356.78 1037.29 1356.78 Q1040.93 1356.78 1042.73 1353.23 Q1044.56 1349.67 1044.56 1342.56 Q1044.56 1335.43 1042.73 1331.89 Q1040.93 1328.33 1037.29 1328.33 M1037.29 1324.62 Q1043.1 1324.62 1046.16 1329.23 Q1049.24 1333.81 1049.24 1342.56 Q1049.24 1351.29 1046.16 1355.9 Q1043.1 1360.48 1037.29 1360.48 Q1031.48 1360.48 1028.4 1355.9 Q1025.35 1351.29 1025.35 1342.56 Q1025.35 1333.81 1028.4 1329.23 Q1031.48 1324.62 1037.29 1324.62 Z\" fill=\"#000000\" fill-rule=\"evenodd\" fill-opacity=\"1\" /><path clip-path=\"url(#clip290)\" d=\"M 0 0 M1054.3 1353.93 L1059.19 1353.93 L1059.19 1359.81 L1054.3 1359.81 L1054.3 1353.93 Z\" fill=\"#000000\" fill-rule=\"evenodd\" fill-opacity=\"1\" /><path clip-path=\"url(#clip290)\" d=\"M 0 0 M1074.26 1328.33 Q1070.65 1328.33 1068.82 1331.89 Q1067.01 1335.43 1067.01 1342.56 Q1067.01 1349.67 1068.82 1353.23 Q1070.65 1356.78 1074.26 1356.78 Q1077.89 1356.78 1079.7 1353.23 Q1081.53 1349.67 1081.53 1342.56 Q1081.53 1335.43 1079.7 1331.89 Q1077.89 1328.33 1074.26 1328.33 M1074.26 1324.62 Q1080.07 1324.62 1083.12 1329.23 Q1086.2 1333.81 1086.2 1342.56 Q1086.2 1351.29 1083.12 1355.9 Q1080.07 1360.48 1074.26 1360.48 Q1068.45 1360.48 1065.37 1355.9 Q1062.31 1351.29 1062.31 1342.56 Q1062.31 1333.81 1065.37 1329.23 Q1068.45 1324.62 1074.26 1324.62 Z\" fill=\"#000000\" fill-rule=\"evenodd\" fill-opacity=\"1\" /><path clip-path=\"url(#clip290)\" d=\"M 0 0 M1095.3 1355.87 L1111.62 1355.87 L1111.62 1359.81 L1089.67 1359.81 L1089.67 1355.87 Q1092.34 1353.12 1096.92 1348.49 Q1101.53 1343.84 1102.71 1342.49 Q1104.95 1339.97 1105.83 1338.23 Q1106.73 1336.47 1106.73 1334.78 Q1106.73 1332.03 1104.79 1330.29 Q1102.87 1328.56 1099.77 1328.56 Q1097.57 1328.56 1095.11 1329.32 Q1092.68 1330.09 1089.91 1331.64 L1089.91 1326.91 Q1092.73 1325.78 1095.18 1325.2 Q1097.64 1324.62 1099.67 1324.62 Q1105.05 1324.62 1108.24 1327.31 Q1111.43 1329.99 1111.43 1334.48 Q1111.43 1336.61 1110.62 1338.53 Q1109.84 1340.43 1107.73 1343.03 Q1107.15 1343.7 1104.05 1346.91 Q1100.95 1350.11 1095.3 1355.87 Z\" fill=\"#000000\" fill-rule=\"evenodd\" fill-opacity=\"1\" /><path clip-path=\"url(#clip290)\" d=\"M 0 0 M1035.21 1256.37 Q1031.6 1256.37 1029.77 1259.93 Q1027.96 1263.47 1027.96 1270.6 Q1027.96 1277.71 1029.77 1281.27 Q1031.6 1284.81 1035.21 1284.81 Q1038.84 1284.81 1040.65 1281.27 Q1042.48 1277.71 1042.48 1270.6 Q1042.48 1263.47 1040.65 1259.93 Q1038.84 1256.37 1035.21 1256.37 M1035.21 1252.66 Q1041.02 1252.66 1044.07 1257.27 Q1047.15 1261.85 1047.15 1270.6 Q1047.15 1279.33 1044.07 1283.94 Q1041.02 1288.52 1035.21 1288.52 Q1029.4 1288.52 1026.32 1283.94 Q1023.26 1279.33 1023.26 1270.6 Q1023.26 1261.85 1026.32 1257.27 Q1029.4 1252.66 1035.21 1252.66 Z\" fill=\"#000000\" fill-rule=\"evenodd\" fill-opacity=\"1\" /><path clip-path=\"url(#clip290)\" d=\"M 0 0 M1052.22 1281.97 L1057.11 1281.97 L1057.11 1287.85 L1052.22 1287.85 L1052.22 1281.97 Z\" fill=\"#000000\" fill-rule=\"evenodd\" fill-opacity=\"1\" /><path clip-path=\"url(#clip290)\" d=\"M 0 0 M1072.17 1256.37 Q1068.56 1256.37 1066.74 1259.93 Q1064.93 1263.47 1064.93 1270.6 Q1064.93 1277.71 1066.74 1281.27 Q1068.56 1284.81 1072.17 1284.81 Q1075.81 1284.81 1077.61 1281.27 Q1079.44 1277.71 1079.44 1270.6 Q1079.44 1263.47 1077.61 1259.93 Q1075.81 1256.37 1072.17 1256.37 M1072.17 1252.66 Q1077.99 1252.66 1081.04 1257.27 Q1084.12 1261.85 1084.12 1270.6 Q1084.12 1279.33 1081.04 1283.94 Q1077.99 1288.52 1072.17 1288.52 Q1066.36 1288.52 1063.29 1283.94 Q1060.23 1279.33 1060.23 1270.6 Q1060.23 1261.85 1063.29 1257.27 Q1066.36 1252.66 1072.17 1252.66 Z\" fill=\"#000000\" fill-rule=\"evenodd\" fill-opacity=\"1\" /><path clip-path=\"url(#clip290)\" d=\"M 0 0 M1102.04 1257.36 L1090.23 1275.81 L1102.04 1275.81 L1102.04 1257.36 M1100.81 1253.29 L1106.69 1253.29 L1106.69 1275.81 L1111.62 1275.81 L1111.62 1279.7 L1106.69 1279.7 L1106.69 1287.85 L1102.04 1287.85 L1102.04 1279.7 L1086.43 1279.7 L1086.43 1275.19 L1100.81 1253.29 Z\" fill=\"#000000\" fill-rule=\"evenodd\" fill-opacity=\"1\" /><path clip-path=\"url(#clip290)\" d=\"M 0 0 M1035.53 1184.41 Q1031.92 1184.41 1030.09 1187.97 Q1028.29 1191.51 1028.29 1198.64 Q1028.29 1205.75 1030.09 1209.31 Q1031.92 1212.85 1035.53 1212.85 Q1039.17 1212.85 1040.97 1209.31 Q1042.8 1205.75 1042.8 1198.64 Q1042.8 1191.51 1040.97 1187.97 Q1039.17 1184.41 1035.53 1184.41 M1035.53 1180.7 Q1041.34 1180.7 1044.4 1185.31 Q1047.48 1189.89 1047.48 1198.64 Q1047.48 1207.37 1044.4 1211.98 Q1041.34 1216.56 1035.53 1216.56 Q1029.72 1216.56 1026.64 1211.98 Q1023.59 1207.37 1023.59 1198.64 Q1023.59 1189.89 1026.64 1185.31 Q1029.72 1180.7 1035.53 1180.7 Z\" fill=\"#000000\" fill-rule=\"evenodd\" fill-opacity=\"1\" /><path clip-path=\"url(#clip290)\" d=\"M 0 0 M1052.55 1210.01 L1057.43 1210.01 L1057.43 1215.89 L1052.55 1215.89 L1052.55 1210.01 Z\" fill=\"#000000\" fill-rule=\"evenodd\" fill-opacity=\"1\" /><path clip-path=\"url(#clip290)\" d=\"M 0 0 M1072.5 1184.41 Q1068.89 1184.41 1067.06 1187.97 Q1065.25 1191.51 1065.25 1198.64 Q1065.25 1205.75 1067.06 1209.31 Q1068.89 1212.85 1072.5 1212.85 Q1076.13 1212.85 1077.94 1209.31 Q1079.77 1205.75 1079.77 1198.64 Q1079.77 1191.51 1077.94 1187.97 Q1076.13 1184.41 1072.5 1184.41 M1072.5 1180.7 Q1078.31 1180.7 1081.36 1185.31 Q1084.44 1189.89 1084.44 1198.64 Q1084.44 1207.37 1081.36 1211.98 Q1078.31 1216.56 1072.5 1216.56 Q1066.69 1216.56 1063.61 1211.98 Q1060.55 1207.37 1060.55 1198.64 Q1060.55 1189.89 1063.61 1185.31 Q1066.69 1180.7 1072.5 1180.7 Z\" fill=\"#000000\" fill-rule=\"evenodd\" fill-opacity=\"1\" /><path clip-path=\"url(#clip290)\" d=\"M 0 0 M1100.09 1196.74 Q1096.94 1196.74 1095.09 1198.9 Q1093.26 1201.05 1093.26 1204.8 Q1093.26 1208.53 1095.09 1210.7 Q1096.94 1212.85 1100.09 1212.85 Q1103.24 1212.85 1105.07 1210.7 Q1106.92 1208.53 1106.92 1204.8 Q1106.92 1201.05 1105.07 1198.9 Q1103.24 1196.74 1100.09 1196.74 M1109.37 1182.09 L1109.37 1186.35 Q1107.61 1185.52 1105.81 1185.08 Q1104.03 1184.64 1102.27 1184.64 Q1097.64 1184.64 1095.18 1187.76 Q1092.75 1190.89 1092.41 1197.21 Q1093.77 1195.19 1095.83 1194.13 Q1097.89 1193.04 1100.37 1193.04 Q1105.58 1193.04 1108.59 1196.21 Q1111.62 1199.36 1111.62 1204.8 Q1111.62 1210.12 1108.47 1213.34 Q1105.32 1216.56 1100.09 1216.56 Q1094.1 1216.56 1090.92 1211.98 Q1087.75 1207.37 1087.75 1198.64 Q1087.75 1190.45 1091.64 1185.59 Q1095.53 1180.7 1102.08 1180.7 Q1103.84 1180.7 1105.62 1181.05 Q1107.43 1181.4 1109.37 1182.09 Z\" fill=\"#000000\" fill-rule=\"evenodd\" fill-opacity=\"1\" /><path clip-path=\"url(#clip290)\" d=\"M 0 0 M1035.79 1112.45 Q1032.18 1112.45 1030.35 1116.01 Q1028.54 1119.55 1028.54 1126.68 Q1028.54 1133.79 1030.35 1137.35 Q1032.18 1140.89 1035.79 1140.89 Q1039.42 1140.89 1041.23 1137.35 Q1043.05 1133.79 1043.05 1126.68 Q1043.05 1119.55 1041.23 1116.01 Q1039.42 1112.45 1035.79 1112.45 M1035.79 1108.74 Q1041.6 1108.74 1044.65 1113.35 Q1047.73 1117.93 1047.73 1126.68 Q1047.73 1135.41 1044.65 1140.01 Q1041.6 1144.6 1035.79 1144.6 Q1029.98 1144.6 1026.9 1140.01 Q1023.84 1135.41 1023.84 1126.68 Q1023.84 1117.93 1026.9 1113.35 Q1029.98 1108.74 1035.79 1108.74 Z\" fill=\"#000000\" fill-rule=\"evenodd\" fill-opacity=\"1\" /><path clip-path=\"url(#clip290)\" d=\"M 0 0 M1052.8 1138.05 L1057.68 1138.05 L1057.68 1143.93 L1052.8 1143.93 L1052.8 1138.05 Z\" fill=\"#000000\" fill-rule=\"evenodd\" fill-opacity=\"1\" /><path clip-path=\"url(#clip290)\" d=\"M 0 0 M1072.75 1112.45 Q1069.14 1112.45 1067.31 1116.01 Q1065.51 1119.55 1065.51 1126.68 Q1065.51 1133.79 1067.31 1137.35 Q1069.14 1140.89 1072.75 1140.89 Q1076.39 1140.89 1078.19 1137.35 Q1080.02 1133.79 1080.02 1126.68 Q1080.02 1119.55 1078.19 1116.01 Q1076.39 1112.45 1072.75 1112.45 M1072.75 1108.74 Q1078.56 1108.74 1081.62 1113.35 Q1084.7 1117.93 1084.7 1126.68 Q1084.7 1135.41 1081.62 1140.01 Q1078.56 1144.6 1072.75 1144.6 Q1066.94 1144.6 1063.86 1140.01 Q1060.81 1135.41 1060.81 1126.68 Q1060.81 1117.93 1063.86 1113.35 Q1066.94 1108.74 1072.75 1108.74 Z\" fill=\"#000000\" fill-rule=\"evenodd\" fill-opacity=\"1\" /><path clip-path=\"url(#clip290)\" d=\"M 0 0 M1099.77 1127.51 Q1096.43 1127.51 1094.51 1129.3 Q1092.61 1131.08 1092.61 1134.2 Q1092.61 1137.33 1094.51 1139.11 Q1096.43 1140.89 1099.77 1140.89 Q1103.1 1140.89 1105.02 1139.11 Q1106.94 1137.31 1106.94 1134.2 Q1106.94 1131.08 1105.02 1129.3 Q1103.12 1127.51 1099.77 1127.51 M1095.09 1125.52 Q1092.08 1124.78 1090.39 1122.72 Q1088.73 1120.66 1088.73 1117.7 Q1088.73 1113.56 1091.67 1111.15 Q1094.63 1108.74 1099.77 1108.74 Q1104.93 1108.74 1107.87 1111.15 Q1110.81 1113.56 1110.81 1117.7 Q1110.81 1120.66 1109.12 1122.72 Q1107.45 1124.78 1104.47 1125.52 Q1107.85 1126.31 1109.72 1128.6 Q1111.62 1130.89 1111.62 1134.2 Q1111.62 1139.23 1108.54 1141.91 Q1105.48 1144.6 1099.77 1144.6 Q1094.05 1144.6 1090.97 1141.91 Q1087.92 1139.23 1087.92 1134.2 Q1087.92 1130.89 1089.81 1128.6 Q1091.71 1126.31 1095.09 1125.52 M1093.38 1118.14 Q1093.38 1120.83 1095.05 1122.33 Q1096.73 1123.83 1099.77 1123.83 Q1102.78 1123.83 1104.47 1122.33 Q1106.18 1120.83 1106.18 1118.14 Q1106.18 1115.45 1104.47 1113.95 Q1102.78 1112.45 1099.77 1112.45 Q1096.73 1112.45 1095.05 1113.95 Q1093.38 1115.45 1093.38 1118.14 Z\" fill=\"#000000\" fill-rule=\"evenodd\" fill-opacity=\"1\" /><path clip-path=\"url(#clip290)\" d=\"M 0 0 M1036.92 1040.49 Q1033.31 1040.49 1031.48 1044.05 Q1029.68 1047.59 1029.68 1054.72 Q1029.68 1061.83 1031.48 1065.39 Q1033.31 1068.93 1036.92 1068.93 Q1040.55 1068.93 1042.36 1065.39 Q1044.19 1061.83 1044.19 1054.72 Q1044.19 1047.59 1042.36 1044.05 Q1040.55 1040.49 1036.92 1040.49 M1036.92 1036.78 Q1042.73 1036.78 1045.79 1041.39 Q1048.86 1045.97 1048.86 1054.72 Q1048.86 1063.45 1045.79 1068.05 Q1042.73 1072.64 1036.92 1072.64 Q1031.11 1072.64 1028.03 1068.05 Q1024.98 1063.45 1024.98 1054.72 Q1024.98 1045.97 1028.03 1041.39 Q1031.11 1036.78 1036.92 1036.78 Z\" fill=\"#000000\" fill-rule=\"evenodd\" fill-opacity=\"1\" /><path clip-path=\"url(#clip290)\" d=\"M 0 0 M1053.93 1066.09 L1058.82 1066.09 L1058.82 1071.97 L1053.93 1071.97 L1053.93 1066.09 Z\" fill=\"#000000\" fill-rule=\"evenodd\" fill-opacity=\"1\" /><path clip-path=\"url(#clip290)\" d=\"M 0 0 M1064.7 1068.03 L1072.34 1068.03 L1072.34 1041.67 L1064.03 1043.33 L1064.03 1039.07 L1072.29 1037.41 L1076.97 1037.41 L1076.97 1068.03 L1084.61 1068.03 L1084.61 1071.97 L1064.7 1071.97 L1064.7 1068.03 Z\" fill=\"#000000\" fill-rule=\"evenodd\" fill-opacity=\"1\" /><path clip-path=\"url(#clip290)\" d=\"M 0 0 M1099.67 1040.49 Q1096.06 1040.49 1094.24 1044.05 Q1092.43 1047.59 1092.43 1054.72 Q1092.43 1061.83 1094.24 1065.39 Q1096.06 1068.93 1099.67 1068.93 Q1103.31 1068.93 1105.11 1065.39 Q1106.94 1061.83 1106.94 1054.72 Q1106.94 1047.59 1105.11 1044.05 Q1103.31 1040.49 1099.67 1040.49 M1099.67 1036.78 Q1105.48 1036.78 1108.54 1041.39 Q1111.62 1045.97 1111.62 1054.72 Q1111.62 1063.45 1108.54 1068.05 Q1105.48 1072.64 1099.67 1072.64 Q1093.86 1072.64 1090.79 1068.05 Q1087.73 1063.45 1087.73 1054.72 Q1087.73 1045.97 1090.79 1041.39 Q1093.86 1036.78 1099.67 1036.78 Z\" fill=\"#000000\" fill-rule=\"evenodd\" fill-opacity=\"1\" /><polyline clip-path=\"url(#clip293)\" style=\"stroke:#009af9; stroke-width:4; stroke-opacity:1; fill:none\" points=\"\n",
       "  -678.346,-276424 -641.826,-240465 -605.307,-209160 -568.788,-181907 -532.268,-158181 -495.749,-137526 -459.23,-119543 -422.711,-103889 -386.191,-90260 -349.672,-78395.2 \n",
       "  -313.153,-68065.9 -276.633,-59073.5 -240.114,-51245 -203.595,-44429.6 -167.075,-38496.3 -130.556,-33330.9 -94.0369,-28834.1 -57.5176,-24919.2 -20.9983,-21511 15.521,-18543.9 \n",
       "  52.0403,-15960.8 88.5596,-13712 125.079,-11754.3 161.598,-10050 198.118,-8566.2 234.637,-7274.46 271.156,-6149.91 307.675,-5170.9 344.195,-4318.6 380.714,-3576.6 \n",
       "  417.233,-2930.64 453.753,-2368.28 490.272,-1878.7 526.791,-1452.48 563.31,-1081.43 599.83,-758.4 636.349,-477.177 672.868,-232.352 709.388,-19.2122 745.907,166.342 \n",
       "  782.426,327.881 818.946,468.514 855.465,590.945 891.984,697.531 928.503,790.322 965.023,871.103 1001.54,941.43 1038.06,1002.65 1074.58,1055.96 1111.1,1102.36 \n",
       "  1147.62,1142.75 1184.14,1177.92 1220.66,1208.54 1257.18,1235.19 1293.7,1258.4 1330.22,1278.6 1366.73,1296.19 1403.25,1311.5 1439.77,1324.83 1476.29,1336.43 \n",
       "  1512.81,1346.53 1549.33,1355.33 1585.85,1362.99 1622.37,1369.65 1658.89,1375.45 1695.41,1380.51 1731.93,1384.9 1768.45,1388.73 1804.97,1392.07 1841.49,1394.97 \n",
       "  1878.01,1397.49 1914.52,1399.69 1951.04,1401.61 1987.56,1403.28 2024.08,1404.73 2060.6,1405.99 2097.12,1407.09 2133.64,1408.05 2170.16,1408.88 2206.68,1409.61 \n",
       "  2243.2,1410.24 2279.72,1410.79 2316.24,1411.27 2352.76,1411.68 2389.28,1412.05 2425.79,1412.36 2462.31,1412.64 2498.83,1412.88 2535.35,1413.09 2571.87,1413.27 \n",
       "  2608.39,1413.42 2644.91,1413.56 2681.43,1413.68 2717.95,1413.79 2754.47,1413.88 2790.99,1413.96 2827.51,1414.03 2864.03,1414.08 2900.55,1414.14 2937.06,1414.18 \n",
       "  2973.58,1414.22 3010.1,1414.26 3046.62,1414.29 3083.14,1414.31 3119.66,1414.34 3156.18,1414.35 3192.7,1414.37 3229.22,1414.39 3265.74,1414.4 3302.26,1414.41 \n",
       "  3338.78,1414.42 3375.3,1414.43 3411.82,1414.44 3448.33,1414.44 3484.85,1414.45 3521.37,1414.45 3557.89,1414.46 3594.41,1414.46 3630.93,1414.47 3667.45,1414.47 \n",
       "  3703.97,1414.47 \n",
       "  \"/>\n",
       "<polyline clip-path=\"url(#clip293)\" style=\"stroke:#e26f46; stroke-width:4; stroke-opacity:1; fill:none\" stroke-dasharray=\"16, 10\" points=\"\n",
       "  -678.346,1371.31 -641.826,1371.31 -605.307,1371.31 -568.788,1371.31 -532.268,1371.31 -495.749,1371.31 -459.23,1371.31 -422.711,1371.31 -386.191,1371.31 -349.672,1371.31 \n",
       "  -313.153,1371.31 -276.633,1371.31 -240.114,1371.31 -203.595,1371.31 -167.075,1371.31 -130.556,1371.31 -94.0369,1371.31 -57.5176,1371.31 -20.9983,1371.31 15.521,1371.31 \n",
       "  52.0403,1371.31 88.5596,1371.31 125.079,1371.31 161.598,1371.31 198.118,1371.31 234.637,1371.31 271.156,1371.31 307.675,1371.31 344.195,1371.31 380.714,1371.31 \n",
       "  417.233,1371.31 453.753,1371.31 490.272,1371.31 526.791,1371.31 563.31,1371.31 599.83,1371.31 636.349,1371.31 672.868,1371.31 709.388,1371.31 745.907,1371.31 \n",
       "  782.426,1371.31 818.946,1371.31 855.465,1371.31 891.984,1371.31 928.503,1371.31 965.023,1371.31 1001.54,1371.31 1038.06,1371.31 1074.58,1371.31 1111.1,1371.31 \n",
       "  1147.62,1371.31 1184.14,1371.31 1220.66,1371.31 1257.18,1371.31 1293.7,1371.31 1330.22,1371.31 1366.73,1371.31 1403.25,1371.31 1439.77,1371.31 1476.29,1371.31 \n",
       "  1512.81,1371.31 1549.33,1371.31 1585.85,1371.31 1622.37,1371.31 1658.89,1371.31 1695.41,1371.31 1731.93,1371.31 1768.45,1371.31 1804.97,1371.31 1841.49,1371.31 \n",
       "  1878.01,1371.31 1914.52,1371.31 1951.04,1371.31 1987.56,1371.31 2024.08,1371.31 2060.6,1371.31 2097.12,1371.31 2133.64,1371.31 2170.16,1371.31 2206.68,1371.31 \n",
       "  2243.2,1371.31 2279.72,1371.31 2316.24,1371.31 2352.76,1371.31 2389.28,1371.31 2425.79,1371.31 2462.31,1371.31 2498.83,1371.31 2535.35,1371.31 2571.87,1371.31 \n",
       "  2608.39,1371.31 2644.91,1371.31 2681.43,1371.31 2717.95,1371.31 2754.47,1371.31 2790.99,1371.31 2827.51,1371.31 2864.03,1371.31 2900.55,1371.31 2937.06,1371.31 \n",
       "  2973.58,1371.31 3010.1,1371.31 3046.62,1371.31 3083.14,1371.31 3119.66,1371.31 3156.18,1371.31 3192.7,1371.31 3229.22,1371.31 3265.74,1371.31 3302.26,1371.31 \n",
       "  3338.78,1371.31 3375.3,1371.31 3411.82,1371.31 3448.33,1371.31 3484.85,1371.31 3521.37,1371.31 3557.89,1371.31 3594.41,1371.31 3630.93,1371.31 3667.45,1371.31 \n",
       "  3703.97,1371.31 \n",
       "  \"/>\n",
       "<polyline clip-path=\"url(#clip293)\" style=\"stroke:#3da44d; stroke-width:4; stroke-opacity:1; fill:none\" points=\"\n",
       "  -678.346,-554263 -641.826,-482345 -605.307,-419735 -568.788,-365229 -532.268,-317776 -495.749,-276466 -459.23,-240501 -422.711,-209192 -386.191,-181934 -349.672,-158205 \n",
       "  -313.153,-137546 -276.633,-119562 -240.114,-103904 -203.595,-90273.7 -167.075,-78407.1 -130.556,-68076.3 -94.0369,-59082.6 -57.5176,-51252.9 -20.9983,-44436.5 15.521,-38502.3 \n",
       "  52.0403,-33336.1 88.5596,-28838.6 125.079,-24923.1 161.598,-21514.4 198.118,-18546.9 234.637,-15963.4 271.156,-13714.3 307.675,-11756.3 344.195,-10051.7 380.714,-8567.69 \n",
       "  417.233,-7275.76 453.753,-6151.04 490.272,-5171.88 526.791,-4319.45 563.31,-3577.35 599.83,-2931.29 636.349,-2368.84 672.868,-1879.19 709.388,-1452.91 745.907,-1081.8 \n",
       "  782.426,-758.725 818.946,-477.46 855.465,-232.598 891.984,-19.4267 928.503,166.155 965.023,327.719 1001.54,468.372 1038.06,590.822 1074.58,697.423 1111.1,790.228 \n",
       "  1147.62,871.022 1184.14,941.359 1220.66,1002.59 1257.18,1055.9 1293.7,1102.31 1330.22,1142.71 1366.73,1177.89 1403.25,1208.51 1439.77,1235.17 1476.29,1258.38 \n",
       "  1512.81,1278.58 1549.33,1296.17 1585.85,1311.48 1622.37,1324.81 1658.89,1336.42 1695.41,1346.52 1731.93,1355.32 1768.45,1362.98 1804.97,1369.64 1841.49,1375.45 \n",
       "  1878.01,1380.5 1914.52,1384.9 1951.04,1388.73 1987.56,1392.06 2024.08,1394.96 2060.6,1397.49 2097.12,1399.69 2133.64,1401.61 2170.16,1403.27 2206.68,1404.72 \n",
       "  2243.2,1405.99 2279.72,1407.09 2316.24,1408.05 2352.76,1408.88 2389.28,1409.61 2425.79,1410.24 2462.31,1410.79 2498.83,1411.27 2535.35,1411.68 2571.87,1412.05 \n",
       "  2608.39,1412.36 2644.91,1412.64 2681.43,1412.88 2717.95,1413.09 2754.47,1413.27 2790.99,1413.42 2827.51,1413.56 2864.03,1413.68 2900.55,1413.79 2937.06,1413.88 \n",
       "  2973.58,1413.96 3010.1,1414.02 3046.62,1414.08 3083.14,1414.14 3119.66,1414.18 3156.18,1414.22 3192.7,1414.26 3229.22,1414.29 3265.74,1414.31 3302.26,1414.34 \n",
       "  3338.78,1414.35 3375.3,1414.37 3411.82,1414.39 3448.33,1414.4 3484.85,1414.41 3521.37,1414.42 3557.89,1414.43 3594.41,1414.44 3630.93,1414.44 3667.45,1414.45 \n",
       "  3703.97,1414.45 \n",
       "  \"/>\n",
       "<polyline clip-path=\"url(#clip293)\" style=\"stroke:#c271d2; stroke-width:4; stroke-opacity:1; fill:none\" points=\"\n",
       "  -678.346,-137505 -641.826,-119525 -605.307,-103873 -568.788,-90246.3 -532.268,-78383.2 -495.749,-68055.5 -459.23,-59064.5 -422.711,-51237.1 -386.191,-44422.8 -349.672,-38490.3 \n",
       "  -313.153,-33325.7 -276.633,-28829.5 -240.114,-24915.2 -203.595,-21507.6 -167.075,-18540.9 -130.556,-15958.2 -94.0369,-13709.8 -57.5176,-11752.3 -20.9983,-10048.3 15.521,-8564.7 \n",
       "  52.0403,-7273.16 88.5596,-6148.78 125.079,-5169.91 161.598,-4317.74 198.118,-3575.85 234.637,-2929.99 271.156,-2367.71 307.675,-1878.21 344.195,-1452.05 380.714,-1081.06 \n",
       "  417.233,-758.075 453.753,-476.895 490.272,-232.105 526.791,-18.9978 563.31,166.529 599.83,328.044 636.349,468.655 672.868,591.068 709.388,697.638 745.907,790.415 \n",
       "  782.426,871.185 818.946,941.501 855.465,1002.72 891.984,1056.01 928.503,1102.4 965.023,1142.8 1001.54,1177.96 1038.06,1208.57 1074.58,1235.22 1111.1,1258.42 \n",
       "  1147.62,1278.62 1184.14,1296.21 1220.66,1311.51 1257.18,1324.84 1293.7,1336.44 1330.22,1346.54 1366.73,1355.34 1403.25,1362.99 1439.77,1369.66 1476.29,1375.46 \n",
       "  1512.81,1380.51 1549.33,1384.91 1585.85,1388.74 1622.37,1392.07 1658.89,1394.97 1695.41,1397.5 1731.93,1399.7 1768.45,1401.61 1804.97,1403.28 1841.49,1404.73 \n",
       "  1878.01,1405.99 1914.52,1407.09 1951.04,1408.05 1987.56,1408.88 2024.08,1409.61 2060.6,1410.24 2097.12,1410.79 2133.64,1411.27 2170.16,1411.68 2206.68,1412.05 \n",
       "  2243.2,1412.36 2279.72,1412.64 2316.24,1412.88 2352.76,1413.09 2389.28,1413.27 2425.79,1413.43 2462.31,1413.56 2498.83,1413.68 2535.35,1413.79 2571.87,1413.88 \n",
       "  2608.39,1413.96 2644.91,1414.03 2681.43,1414.08 2717.95,1414.14 2754.47,1414.18 2790.99,1414.22 2827.51,1414.26 2864.03,1414.29 2900.55,1414.31 2937.06,1414.34 \n",
       "  2973.58,1414.35 3010.1,1414.37 3046.62,1414.39 3083.14,1414.4 3119.66,1414.41 3156.18,1414.42 3192.7,1414.43 3229.22,1414.44 3265.74,1414.44 3302.26,1414.45 \n",
       "  3338.78,1414.45 3375.3,1414.46 3411.82,1414.46 3448.33,1414.47 3484.85,1414.47 3521.37,1414.47 3557.89,1414.47 3594.41,1414.48 3630.93,1414.48 3667.45,1414.48 \n",
       "  3703.97,1414.48 \n",
       "  \"/>\n",
       "<circle clip-path=\"url(#clip293)\" cx=\"1632.31\" cy=\"1371.31\" r=\"10\" fill=\"#ffff00\" fill-rule=\"evenodd\" fill-opacity=\"1\" stroke=\"#000000\" stroke-opacity=\"1\" stroke-width=\"3.2\"/>\n",
       "<circle clip-path=\"url(#clip293)\" cx=\"1814.94\" cy=\"1371.31\" r=\"10\" fill=\"#ff0000\" fill-rule=\"evenodd\" fill-opacity=\"1\" stroke=\"#000000\" stroke-opacity=\"1\" stroke-width=\"3.2\"/>\n",
       "<circle clip-path=\"url(#clip293)\" cx=\"1449.67\" cy=\"1371.31\" r=\"10\" fill=\"#ffc0cb\" fill-rule=\"evenodd\" fill-opacity=\"1\" stroke=\"#000000\" stroke-opacity=\"1\" stroke-width=\"3.2\"/>\n",
       "<polyline clip-path=\"url(#clip293)\" style=\"stroke:#c68125; stroke-width:4; stroke-opacity:1; fill:none\" stroke-dasharray=\"16, 10\" points=\"\n",
       "  -678.346,-358386 -641.826,-358386 -605.307,-358386 -568.788,-358386 -532.268,-358386 -495.749,-358386 -459.23,-358386 -422.711,-358386 -386.191,-358386 -349.672,-358386 \n",
       "  -313.153,-358386 -276.633,-358386 -240.114,-358386 -203.595,-358386 -167.075,-358386 -130.556,-358386 -94.0369,-358386 -57.5176,-358386 -20.9983,-358386 15.521,-358386 \n",
       "  52.0403,-358386 88.5596,-358386 125.079,-358386 161.598,-358386 198.118,-358386 234.637,-358386 271.156,-358386 307.675,-358386 344.195,-358386 380.714,-358386 \n",
       "  417.233,-358386 453.753,-358386 490.272,-358386 526.791,-358386 563.31,-358386 599.83,-358386 636.349,-358386 672.868,-358386 709.388,-358386 745.907,-358386 \n",
       "  782.426,-358386 818.946,-358386 855.465,-358386 891.984,-358386 928.503,-358386 965.023,-358386 1001.54,-358386 1038.06,-358386 1074.58,-358386 1111.1,-358386 \n",
       "  1147.62,-358386 1184.14,-358386 1220.66,-358386 1257.18,-358386 1293.7,-358386 1330.22,-358386 1366.73,-358386 1403.25,-358386 1439.77,-358386 1476.29,-358386 \n",
       "  1512.81,-358386 1549.33,-358386 1585.85,-358386 1622.37,-358386 1658.89,-358386 1695.41,-358386 1731.93,-358386 1768.45,-358386 1804.97,-358386 1841.49,-358386 \n",
       "  1878.01,-358386 1914.52,-358386 1951.04,-358386 1987.56,-358386 2024.08,-358386 2060.6,-358386 2097.12,-358386 2133.64,-358386 2170.16,-358386 2206.68,-358386 \n",
       "  2243.2,-358386 2279.72,-358386 2316.24,-358386 2352.76,-358386 2389.28,-358386 2425.79,-358386 2462.31,-358386 2498.83,-358386 2535.35,-358386 2571.87,-358386 \n",
       "  2608.39,-358386 2644.91,-358386 2681.43,-358386 2717.95,-358386 2754.47,-358386 2790.99,-358386 2827.51,-358386 2864.03,-358386 2900.55,-358386 2937.06,-358386 \n",
       "  2973.58,-358386 3010.1,-358386 3046.62,-358386 3083.14,-358386 3119.66,-358386 3156.18,-358386 3192.7,-358386 3229.22,-358386 3265.74,-358386 3302.26,-358386 \n",
       "  3338.78,-358386 3375.3,-358386 3411.82,-358386 3448.33,-358386 3484.85,-358386 3521.37,-358386 3557.89,-358386 3594.41,-358386 3630.93,-358386 3667.45,-358386 \n",
       "  3703.97,-358386 \n",
       "  \"/>\n",
       "</svg>\n"
      ]
     },
     "execution_count": 726,
     "metadata": {},
     "output_type": "execute_result"
    }
   ],
   "source": [
    "lens!([5, 8],[0, 0.1],\n",
    "framestyle=:box,\n",
    "inset=(1, bbox(0.05, 0.05, 0.5, 0.25, :right, :bottom))\n",
    ")"
   ]
  },
  {
   "cell_type": "markdown",
   "metadata": {},
   "source": [
    "Można z tego wyciągnąć następujący wniosek:"
   ]
  },
  {
   "cell_type": "code",
   "execution_count": 727,
   "metadata": {},
   "outputs": [
    {
     "name": "stdout",
     "output_type": "stream",
     "text": [
      "Dawkę 600 należy powtórzyć w czasie 6.3272064358086055 h\n",
      "Dawkę 300.0 należy powtórzyć w czasie 5.827100244928414 h\n"
     ]
    }
   ],
   "source": [
    "println(\"Dawkę $X₀ należy powtórzyć w czasie $time₀ h\")\n",
    "println(\"Dawkę $X₃ należy powtórzyć w czasie $time₃ h\")"
   ]
  },
  {
   "cell_type": "markdown",
   "metadata": {},
   "source": [
    "Dawka 600 mg w porównaniu z 300 mg będzie lepsza pod względem praktycznym dla pacjenta. Doba ma 24 godziny, więc by utrzymać właściwe stężenie należy stosować antybiotyk 4 razy dziennie w odstępie 6 godzin. W przypadku dawki 300 mg ten czas poniżej 6 godzin może być dla pacjenta niepraktyczny, przez co terapia może okazać się nieskuteczna."
   ]
  },
  {
   "cell_type": "markdown",
   "metadata": {},
   "source": [
    "W rzeczywistośći również, w wypadku gdy bakterie są wrażliwe na benzylopenicylinę 600 mg co 6 godzin powinno być wystarczające [6], co zgadza się z naszymi obliczeniami."
   ]
  },
  {
   "cell_type": "markdown",
   "metadata": {},
   "source": [
    "### b. Dawka pozanaczyniowa"
   ]
  },
  {
   "cell_type": "markdown",
   "metadata": {},
   "source": [
    "Lamie została podana domięśniowo *ampicylina*. Parametry farmakologiczne dla tego modelu[7] to:\n",
    "* $\\mathrm{k}_a = 69.45/h$\n",
    "* $\\mathrm{k}_e = 0.86/h$\n",
    "* $V_d = 0.78 l/kg$\n",
    "* dawka $12mg/kg$\n",
    "\n",
    "Średnio waga lamy wacha się w przedziale 90-220 kg[8].\n"
   ]
  },
  {
   "cell_type": "markdown",
   "metadata": {},
   "source": [
    "Przyjmijmy że nasza lama waży 150 kg, wtedy $X_0 = 1800 mg$, $V_d = 117 l$"
   ]
  },
  {
   "cell_type": "markdown",
   "metadata": {},
   "source": [
    "Wykorzystajmy nasze rozwiązanie z punktu 4.B"
   ]
  },
  {
   "cell_type": "code",
   "execution_count": 822,
   "metadata": {},
   "outputs": [],
   "source": [
    "ka = 69.45\n",
    "ke = 0.86;"
   ]
  },
  {
   "cell_type": "code",
   "execution_count": 823,
   "metadata": {},
   "outputs": [
    {
     "data": {
      "text/plain": [
       "model3 (generic function with 1 method)"
      ]
     },
     "execution_count": 823,
     "metadata": {},
     "output_type": "execute_result"
    }
   ],
   "source": [
    "function model3(t)\n",
    "    return ((69.45*1800)/(117*(69.45-0.86))*(ℯ^(-0.86*t)-ℯ^(-69.45*t)))\n",
    "end"
   ]
  },
  {
   "cell_type": "code",
   "execution_count": 824,
   "metadata": {},
   "outputs": [
    {
     "data": {
      "text/plain": [
       "one_analyt3 (generic function with 1 method)"
      ]
     },
     "execution_count": 824,
     "metadata": {},
     "output_type": "execute_result"
    }
   ],
   "source": [
    "function one_analyt3(t)\n",
    "    x = fill(NaN, length(t))\n",
    "    for i in 1:(length(t))\n",
    "        x[i] = model3(t[i])\n",
    "    end\n",
    "    return x\n",
    "end"
   ]
  },
  {
   "cell_type": "code",
   "execution_count": 837,
   "metadata": {},
   "outputs": [
    {
     "data": {
      "image/svg+xml": [
       "<?xml version=\"1.0\" encoding=\"utf-8\"?>\n",
       "<svg xmlns=\"http://www.w3.org/2000/svg\" xmlns:xlink=\"http://www.w3.org/1999/xlink\" width=\"600\" height=\"400\" viewBox=\"0 0 2400 1600\">\n",
       "<defs>\n",
       "  <clipPath id=\"clip030\">\n",
       "    <rect x=\"0\" y=\"0\" width=\"2400\" height=\"1600\"/>\n",
       "  </clipPath>\n",
       "</defs>\n",
       "<path clip-path=\"url(#clip030)\" d=\"\n",
       "M0 1600 L2400 1600 L2400 0 L0 0  Z\n",
       "  \" fill=\"#ffffff\" fill-rule=\"evenodd\" fill-opacity=\"1\"/>\n",
       "<defs>\n",
       "  <clipPath id=\"clip031\">\n",
       "    <rect x=\"480\" y=\"0\" width=\"1681\" height=\"1600\"/>\n",
       "  </clipPath>\n",
       "</defs>\n",
       "<path clip-path=\"url(#clip030)\" d=\"\n",
       "M132.987 1486.45 L2352.76 1486.45 L2352.76 47.2441 L132.987 47.2441  Z\n",
       "  \" fill=\"#ffffff\" fill-rule=\"evenodd\" fill-opacity=\"1\"/>\n",
       "<defs>\n",
       "  <clipPath id=\"clip032\">\n",
       "    <rect x=\"132\" y=\"47\" width=\"2221\" height=\"1440\"/>\n",
       "  </clipPath>\n",
       "</defs>\n",
       "<polyline clip-path=\"url(#clip032)\" style=\"stroke:#000000; stroke-width:2; stroke-opacity:0.1; fill:none\" points=\"\n",
       "  195.811,1486.45 195.811,47.2441 \n",
       "  \"/>\n",
       "<polyline clip-path=\"url(#clip032)\" style=\"stroke:#000000; stroke-width:2; stroke-opacity:0.1; fill:none\" points=\"\n",
       "  719.341,1486.45 719.341,47.2441 \n",
       "  \"/>\n",
       "<polyline clip-path=\"url(#clip032)\" style=\"stroke:#000000; stroke-width:2; stroke-opacity:0.1; fill:none\" points=\"\n",
       "  1242.87,1486.45 1242.87,47.2441 \n",
       "  \"/>\n",
       "<polyline clip-path=\"url(#clip032)\" style=\"stroke:#000000; stroke-width:2; stroke-opacity:0.1; fill:none\" points=\"\n",
       "  1766.4,1486.45 1766.4,47.2441 \n",
       "  \"/>\n",
       "<polyline clip-path=\"url(#clip032)\" style=\"stroke:#000000; stroke-width:2; stroke-opacity:0.1; fill:none\" points=\"\n",
       "  2289.93,1486.45 2289.93,47.2441 \n",
       "  \"/>\n",
       "<polyline clip-path=\"url(#clip030)\" style=\"stroke:#000000; stroke-width:4; stroke-opacity:1; fill:none\" points=\"\n",
       "  132.987,1486.45 2352.76,1486.45 \n",
       "  \"/>\n",
       "<polyline clip-path=\"url(#clip030)\" style=\"stroke:#000000; stroke-width:4; stroke-opacity:1; fill:none\" points=\"\n",
       "  195.811,1486.45 195.811,1469.18 \n",
       "  \"/>\n",
       "<polyline clip-path=\"url(#clip030)\" style=\"stroke:#000000; stroke-width:4; stroke-opacity:1; fill:none\" points=\"\n",
       "  719.341,1486.45 719.341,1469.18 \n",
       "  \"/>\n",
       "<polyline clip-path=\"url(#clip030)\" style=\"stroke:#000000; stroke-width:4; stroke-opacity:1; fill:none\" points=\"\n",
       "  1242.87,1486.45 1242.87,1469.18 \n",
       "  \"/>\n",
       "<polyline clip-path=\"url(#clip030)\" style=\"stroke:#000000; stroke-width:4; stroke-opacity:1; fill:none\" points=\"\n",
       "  1766.4,1486.45 1766.4,1469.18 \n",
       "  \"/>\n",
       "<polyline clip-path=\"url(#clip030)\" style=\"stroke:#000000; stroke-width:4; stroke-opacity:1; fill:none\" points=\"\n",
       "  2289.93,1486.45 2289.93,1469.18 \n",
       "  \"/>\n",
       "<path clip-path=\"url(#clip030)\" d=\"M 0 0 M177.327 1515.64 Q173.716 1515.64 171.887 1519.2 Q170.082 1522.75 170.082 1529.87 Q170.082 1536.98 171.887 1540.55 Q173.716 1544.09 177.327 1544.09 Q180.961 1544.09 182.767 1540.55 Q184.596 1536.98 184.596 1529.87 Q184.596 1522.75 182.767 1519.2 Q180.961 1515.64 177.327 1515.64 M177.327 1511.93 Q183.137 1511.93 186.193 1516.54 Q189.272 1521.12 189.272 1529.87 Q189.272 1538.6 186.193 1543.21 Q183.137 1547.79 177.327 1547.79 Q171.517 1547.79 168.438 1543.21 Q165.383 1538.6 165.383 1529.87 Q165.383 1521.12 168.438 1516.54 Q171.517 1511.93 177.327 1511.93 Z\" fill=\"#000000\" fill-rule=\"evenodd\" fill-opacity=\"1\" /><path clip-path=\"url(#clip030)\" d=\"M 0 0 M194.341 1541.24 L199.225 1541.24 L199.225 1547.12 L194.341 1547.12 L194.341 1541.24 Z\" fill=\"#000000\" fill-rule=\"evenodd\" fill-opacity=\"1\" /><path clip-path=\"url(#clip030)\" d=\"M 0 0 M214.295 1515.64 Q210.683 1515.64 208.855 1519.2 Q207.049 1522.75 207.049 1529.87 Q207.049 1536.98 208.855 1540.55 Q210.683 1544.09 214.295 1544.09 Q217.929 1544.09 219.734 1540.55 Q221.563 1536.98 221.563 1529.87 Q221.563 1522.75 219.734 1519.2 Q217.929 1515.64 214.295 1515.64 M214.295 1511.93 Q220.105 1511.93 223.16 1516.54 Q226.239 1521.12 226.239 1529.87 Q226.239 1538.6 223.16 1543.21 Q220.105 1547.79 214.295 1547.79 Q208.484 1547.79 205.406 1543.21 Q202.35 1538.6 202.35 1529.87 Q202.35 1521.12 205.406 1516.54 Q208.484 1511.93 214.295 1511.93 Z\" fill=\"#000000\" fill-rule=\"evenodd\" fill-opacity=\"1\" /><path clip-path=\"url(#clip030)\" d=\"M 0 0 M696.008 1543.18 L712.327 1543.18 L712.327 1547.12 L690.383 1547.12 L690.383 1543.18 Q693.045 1540.43 697.628 1535.8 Q702.235 1531.15 703.415 1529.81 Q705.661 1527.28 706.54 1525.55 Q707.443 1523.79 707.443 1522.1 Q707.443 1519.34 705.499 1517.61 Q703.577 1515.87 700.476 1515.87 Q698.277 1515.87 695.823 1516.63 Q693.392 1517.4 690.615 1518.95 L690.615 1514.23 Q693.439 1513.09 695.892 1512.51 Q698.346 1511.93 700.383 1511.93 Q705.753 1511.93 708.948 1514.62 Q712.142 1517.31 712.142 1521.8 Q712.142 1523.93 711.332 1525.85 Q710.545 1527.74 708.439 1530.34 Q707.86 1531.01 704.758 1534.23 Q701.656 1537.42 696.008 1543.18 Z\" fill=\"#000000\" fill-rule=\"evenodd\" fill-opacity=\"1\" /><path clip-path=\"url(#clip030)\" d=\"M 0 0 M717.397 1541.24 L722.281 1541.24 L722.281 1547.12 L717.397 1547.12 L717.397 1541.24 Z\" fill=\"#000000\" fill-rule=\"evenodd\" fill-opacity=\"1\" /><path clip-path=\"url(#clip030)\" d=\"M 0 0 M727.397 1512.56 L745.753 1512.56 L745.753 1516.5 L731.679 1516.5 L731.679 1524.97 Q732.698 1524.62 733.716 1524.46 Q734.735 1524.27 735.753 1524.27 Q741.54 1524.27 744.92 1527.44 Q748.299 1530.62 748.299 1536.03 Q748.299 1541.61 744.827 1544.71 Q741.355 1547.79 735.036 1547.79 Q732.86 1547.79 730.591 1547.42 Q728.346 1547.05 725.938 1546.31 L725.938 1541.61 Q728.022 1542.74 730.244 1543.3 Q732.466 1543.86 734.943 1543.86 Q738.948 1543.86 741.286 1541.75 Q743.624 1539.64 743.624 1536.03 Q743.624 1532.42 741.286 1530.31 Q738.948 1528.21 734.943 1528.21 Q733.068 1528.21 731.193 1528.62 Q729.341 1529.04 727.397 1529.92 L727.397 1512.56 Z\" fill=\"#000000\" fill-rule=\"evenodd\" fill-opacity=\"1\" /><path clip-path=\"url(#clip030)\" d=\"M 0 0 M1214.67 1512.56 L1233.02 1512.56 L1233.02 1516.5 L1218.95 1516.5 L1218.95 1524.97 Q1219.97 1524.62 1220.99 1524.46 Q1222 1524.27 1223.02 1524.27 Q1228.81 1524.27 1232.19 1527.44 Q1235.57 1530.62 1235.57 1536.03 Q1235.57 1541.61 1232.1 1544.71 Q1228.62 1547.79 1222.3 1547.79 Q1220.13 1547.79 1217.86 1547.42 Q1215.61 1547.05 1213.21 1546.31 L1213.21 1541.61 Q1215.29 1542.74 1217.51 1543.3 Q1219.74 1543.86 1222.21 1543.86 Q1226.22 1543.86 1228.55 1541.75 Q1230.89 1539.64 1230.89 1536.03 Q1230.89 1532.42 1228.55 1530.31 Q1226.22 1528.21 1222.21 1528.21 Q1220.34 1528.21 1218.46 1528.62 Q1216.61 1529.04 1214.67 1529.92 L1214.67 1512.56 Z\" fill=\"#000000\" fill-rule=\"evenodd\" fill-opacity=\"1\" /><path clip-path=\"url(#clip030)\" d=\"M 0 0 M1240.64 1541.24 L1245.52 1541.24 L1245.52 1547.12 L1240.64 1547.12 L1240.64 1541.24 Z\" fill=\"#000000\" fill-rule=\"evenodd\" fill-opacity=\"1\" /><path clip-path=\"url(#clip030)\" d=\"M 0 0 M1260.59 1515.64 Q1256.98 1515.64 1255.15 1519.2 Q1253.35 1522.75 1253.35 1529.87 Q1253.35 1536.98 1255.15 1540.55 Q1256.98 1544.09 1260.59 1544.09 Q1264.23 1544.09 1266.03 1540.55 Q1267.86 1536.98 1267.86 1529.87 Q1267.86 1522.75 1266.03 1519.2 Q1264.23 1515.64 1260.59 1515.64 M1260.59 1511.93 Q1266.4 1511.93 1269.46 1516.54 Q1272.54 1521.12 1272.54 1529.87 Q1272.54 1538.6 1269.46 1543.21 Q1266.4 1547.79 1260.59 1547.79 Q1254.78 1547.79 1251.7 1543.21 Q1248.65 1538.6 1248.65 1529.87 Q1248.65 1521.12 1251.7 1516.54 Q1254.78 1511.93 1260.59 1511.93 Z\" fill=\"#000000\" fill-rule=\"evenodd\" fill-opacity=\"1\" /><path clip-path=\"url(#clip030)\" d=\"M 0 0 M1737.3 1512.56 L1759.53 1512.56 L1759.53 1514.55 L1746.98 1547.12 L1742.1 1547.12 L1753.9 1516.5 L1737.3 1516.5 L1737.3 1512.56 Z\" fill=\"#000000\" fill-rule=\"evenodd\" fill-opacity=\"1\" /><path clip-path=\"url(#clip030)\" d=\"M 0 0 M1764.6 1541.24 L1769.48 1541.24 L1769.48 1547.12 L1764.6 1547.12 L1764.6 1541.24 Z\" fill=\"#000000\" fill-rule=\"evenodd\" fill-opacity=\"1\" /><path clip-path=\"url(#clip030)\" d=\"M 0 0 M1774.6 1512.56 L1792.95 1512.56 L1792.95 1516.5 L1778.88 1516.5 L1778.88 1524.97 Q1779.9 1524.62 1780.92 1524.46 Q1781.93 1524.27 1782.95 1524.27 Q1788.74 1524.27 1792.12 1527.44 Q1795.5 1530.62 1795.5 1536.03 Q1795.5 1541.61 1792.03 1544.71 Q1788.55 1547.79 1782.24 1547.79 Q1780.06 1547.79 1777.79 1547.42 Q1775.55 1547.05 1773.14 1546.31 L1773.14 1541.61 Q1775.22 1542.74 1777.44 1543.3 Q1779.67 1543.86 1782.14 1543.86 Q1786.15 1543.86 1788.49 1541.75 Q1790.82 1539.64 1790.82 1536.03 Q1790.82 1532.42 1788.49 1530.31 Q1786.15 1528.21 1782.14 1528.21 Q1780.27 1528.21 1778.39 1528.62 Q1776.54 1529.04 1774.6 1529.92 L1774.6 1512.56 Z\" fill=\"#000000\" fill-rule=\"evenodd\" fill-opacity=\"1\" /><path clip-path=\"url(#clip030)\" d=\"M 0 0 M2248.32 1543.18 L2255.96 1543.18 L2255.96 1516.82 L2247.65 1518.49 L2247.65 1514.23 L2255.92 1512.56 L2260.59 1512.56 L2260.59 1543.18 L2268.23 1543.18 L2268.23 1547.12 L2248.32 1547.12 L2248.32 1543.18 Z\" fill=\"#000000\" fill-rule=\"evenodd\" fill-opacity=\"1\" /><path clip-path=\"url(#clip030)\" d=\"M 0 0 M2283.3 1515.64 Q2279.69 1515.64 2277.86 1519.2 Q2276.06 1522.75 2276.06 1529.87 Q2276.06 1536.98 2277.86 1540.55 Q2279.69 1544.09 2283.3 1544.09 Q2286.93 1544.09 2288.74 1540.55 Q2290.57 1536.98 2290.57 1529.87 Q2290.57 1522.75 2288.74 1519.2 Q2286.93 1515.64 2283.3 1515.64 M2283.3 1511.93 Q2289.11 1511.93 2292.17 1516.54 Q2295.24 1521.12 2295.24 1529.87 Q2295.24 1538.6 2292.17 1543.21 Q2289.11 1547.79 2283.3 1547.79 Q2277.49 1547.79 2274.41 1543.21 Q2271.36 1538.6 2271.36 1529.87 Q2271.36 1521.12 2274.41 1516.54 Q2277.49 1511.93 2283.3 1511.93 Z\" fill=\"#000000\" fill-rule=\"evenodd\" fill-opacity=\"1\" /><path clip-path=\"url(#clip030)\" d=\"M 0 0 M2300.31 1541.24 L2305.2 1541.24 L2305.2 1547.12 L2300.31 1547.12 L2300.31 1541.24 Z\" fill=\"#000000\" fill-rule=\"evenodd\" fill-opacity=\"1\" /><path clip-path=\"url(#clip030)\" d=\"M 0 0 M2320.27 1515.64 Q2316.66 1515.64 2314.83 1519.2 Q2313.02 1522.75 2313.02 1529.87 Q2313.02 1536.98 2314.83 1540.55 Q2316.66 1544.09 2320.27 1544.09 Q2323.9 1544.09 2325.71 1540.55 Q2327.54 1536.98 2327.54 1529.87 Q2327.54 1522.75 2325.71 1519.2 Q2323.9 1515.64 2320.27 1515.64 M2320.27 1511.93 Q2326.08 1511.93 2329.13 1516.54 Q2332.21 1521.12 2332.21 1529.87 Q2332.21 1538.6 2329.13 1543.21 Q2326.08 1547.79 2320.27 1547.79 Q2314.46 1547.79 2311.38 1543.21 Q2308.32 1538.6 2308.32 1529.87 Q2308.32 1521.12 2311.38 1516.54 Q2314.46 1511.93 2320.27 1511.93 Z\" fill=\"#000000\" fill-rule=\"evenodd\" fill-opacity=\"1\" /><polyline clip-path=\"url(#clip032)\" style=\"stroke:#000000; stroke-width:2; stroke-opacity:0.1; fill:none\" points=\"\n",
       "  132.987,1445.72 2352.76,1445.72 \n",
       "  \"/>\n",
       "<polyline clip-path=\"url(#clip032)\" style=\"stroke:#000000; stroke-width:2; stroke-opacity:0.1; fill:none\" points=\"\n",
       "  132.987,1165.82 2352.76,1165.82 \n",
       "  \"/>\n",
       "<polyline clip-path=\"url(#clip032)\" style=\"stroke:#000000; stroke-width:2; stroke-opacity:0.1; fill:none\" points=\"\n",
       "  132.987,885.926 2352.76,885.926 \n",
       "  \"/>\n",
       "<polyline clip-path=\"url(#clip032)\" style=\"stroke:#000000; stroke-width:2; stroke-opacity:0.1; fill:none\" points=\"\n",
       "  132.987,606.031 2352.76,606.031 \n",
       "  \"/>\n",
       "<polyline clip-path=\"url(#clip032)\" style=\"stroke:#000000; stroke-width:2; stroke-opacity:0.1; fill:none\" points=\"\n",
       "  132.987,326.136 2352.76,326.136 \n",
       "  \"/>\n",
       "<polyline clip-path=\"url(#clip030)\" style=\"stroke:#000000; stroke-width:4; stroke-opacity:1; fill:none\" points=\"\n",
       "  132.987,1486.45 132.987,47.2441 \n",
       "  \"/>\n",
       "<polyline clip-path=\"url(#clip030)\" style=\"stroke:#000000; stroke-width:4; stroke-opacity:1; fill:none\" points=\"\n",
       "  132.987,1445.72 159.624,1445.72 \n",
       "  \"/>\n",
       "<polyline clip-path=\"url(#clip030)\" style=\"stroke:#000000; stroke-width:4; stroke-opacity:1; fill:none\" points=\"\n",
       "  132.987,1165.82 159.624,1165.82 \n",
       "  \"/>\n",
       "<polyline clip-path=\"url(#clip030)\" style=\"stroke:#000000; stroke-width:4; stroke-opacity:1; fill:none\" points=\"\n",
       "  132.987,885.926 159.624,885.926 \n",
       "  \"/>\n",
       "<polyline clip-path=\"url(#clip030)\" style=\"stroke:#000000; stroke-width:4; stroke-opacity:1; fill:none\" points=\"\n",
       "  132.987,606.031 159.624,606.031 \n",
       "  \"/>\n",
       "<polyline clip-path=\"url(#clip030)\" style=\"stroke:#000000; stroke-width:4; stroke-opacity:1; fill:none\" points=\"\n",
       "  132.987,326.136 159.624,326.136 \n",
       "  \"/>\n",
       "<path clip-path=\"url(#clip030)\" d=\"M 0 0 M85.0429 1431.51 Q81.4318 1431.51 79.6031 1435.08 Q77.7975 1438.62 77.7975 1445.75 Q77.7975 1452.86 79.6031 1456.42 Q81.4318 1459.96 85.0429 1459.96 Q88.6771 1459.96 90.4827 1456.42 Q92.3113 1452.86 92.3113 1445.75 Q92.3113 1438.62 90.4827 1435.08 Q88.6771 1431.51 85.0429 1431.51 M85.0429 1427.81 Q90.853 1427.81 93.9086 1432.42 Q96.9872 1437 96.9872 1445.75 Q96.9872 1454.48 93.9086 1459.08 Q90.853 1463.67 85.0429 1463.67 Q79.2327 1463.67 76.154 1459.08 Q73.0985 1454.48 73.0985 1445.75 Q73.0985 1437 76.154 1432.42 Q79.2327 1427.81 85.0429 1427.81 Z\" fill=\"#000000\" fill-rule=\"evenodd\" fill-opacity=\"1\" /><path clip-path=\"url(#clip030)\" d=\"M 0 0 M89.8577 1164.47 Q93.2141 1165.18 95.0891 1167.45 Q96.9872 1169.72 96.9872 1173.05 Q96.9872 1178.17 93.4688 1180.97 Q89.9503 1183.77 83.4688 1183.77 Q81.2929 1183.77 78.9781 1183.33 Q76.6864 1182.92 74.2327 1182.06 L74.2327 1177.55 Q76.1772 1178.68 78.492 1179.26 Q80.8068 1179.84 83.3299 1179.84 Q87.728 1179.84 90.0197 1178.1 Q92.3345 1176.36 92.3345 1173.05 Q92.3345 1170 90.1817 1168.29 Q88.0521 1166.55 84.2327 1166.55 L80.2049 1166.55 L80.2049 1162.71 L84.4179 1162.71 Q87.8669 1162.71 89.6956 1161.34 Q91.5243 1159.95 91.5243 1157.36 Q91.5243 1154.7 89.6262 1153.29 Q87.7512 1151.85 84.2327 1151.85 Q82.3114 1151.85 80.1123 1152.27 Q77.9133 1152.68 75.2744 1153.56 L75.2744 1149.4 Q77.9364 1148.66 80.2512 1148.29 Q82.5892 1147.92 84.6494 1147.92 Q89.9734 1147.92 93.0752 1150.35 Q96.1771 1152.75 96.1771 1156.87 Q96.1771 1159.74 94.5336 1161.74 Q92.89 1163.7 89.8577 1164.47 Z\" fill=\"#000000\" fill-rule=\"evenodd\" fill-opacity=\"1\" /><path clip-path=\"url(#clip030)\" d=\"M 0 0 M85.4595 884.062 Q82.3114 884.062 80.4596 886.215 Q78.6309 888.368 78.6309 892.118 Q78.6309 895.845 80.4596 898.021 Q82.3114 900.173 85.4595 900.173 Q88.6077 900.173 90.4364 898.021 Q92.2882 895.845 92.2882 892.118 Q92.2882 888.368 90.4364 886.215 Q88.6077 884.062 85.4595 884.062 M94.7419 869.41 L94.7419 873.669 Q92.9826 872.836 91.1771 872.396 Q89.3947 871.956 87.6354 871.956 Q83.0058 871.956 80.5522 875.081 Q78.1216 878.206 77.7744 884.525 Q79.1401 882.511 81.2003 881.447 Q83.2605 880.359 85.7373 880.359 Q90.9456 880.359 93.9549 883.53 Q96.9872 886.678 96.9872 892.118 Q96.9872 897.442 93.8391 900.659 Q90.691 903.877 85.4595 903.877 Q79.4642 903.877 76.2929 899.294 Q73.1216 894.687 73.1216 885.96 Q73.1216 877.766 77.0105 872.905 Q80.8994 868.021 87.4503 868.021 Q89.2095 868.021 90.9919 868.368 Q92.7975 868.715 94.7419 869.41 Z\" fill=\"#000000\" fill-rule=\"evenodd\" fill-opacity=\"1\" /><path clip-path=\"url(#clip030)\" d=\"M 0 0 M75.367 622.593 L75.367 618.334 Q77.1262 619.167 78.9318 619.607 Q80.7373 620.047 82.4734 620.047 Q87.103 620.047 89.5336 616.945 Q91.9873 613.82 92.3345 607.478 Q90.9919 609.468 88.9317 610.533 Q86.8716 611.598 84.3716 611.598 Q79.1864 611.598 76.154 608.473 Q73.1448 605.325 73.1448 599.885 Q73.1448 594.561 76.2929 591.343 Q79.441 588.126 84.6725 588.126 Q90.6678 588.126 93.816 592.732 Q96.9872 597.316 96.9872 606.066 Q96.9872 614.237 93.0984 619.121 Q89.2327 623.982 82.6818 623.982 Q80.9225 623.982 79.117 623.635 Q77.3114 623.288 75.367 622.593 M84.6725 607.941 Q87.8206 607.941 89.6493 605.788 Q91.5012 603.635 91.5012 599.885 Q91.5012 596.158 89.6493 594.005 Q87.8206 591.829 84.6725 591.829 Q81.5244 591.829 79.6725 594.005 Q77.8438 596.158 77.8438 599.885 Q77.8438 603.635 79.6725 605.788 Q81.5244 607.941 84.6725 607.941 Z\" fill=\"#000000\" fill-rule=\"evenodd\" fill-opacity=\"1\" /><path clip-path=\"url(#clip030)\" d=\"M 0 0 M51.6634 339.481 L59.3023 339.481 L59.3023 313.115 L50.9921 314.782 L50.9921 310.522 L59.256 308.856 L63.9319 308.856 L63.9319 339.481 L71.5707 339.481 L71.5707 343.416 L51.6634 343.416 L51.6634 339.481 Z\" fill=\"#000000\" fill-rule=\"evenodd\" fill-opacity=\"1\" /><path clip-path=\"url(#clip030)\" d=\"M 0 0 M80.6679 339.481 L96.9872 339.481 L96.9872 343.416 L75.0429 343.416 L75.0429 339.481 Q77.7049 336.726 82.2883 332.096 Q86.8947 327.444 88.0753 326.101 Q90.3206 323.578 91.2002 321.842 Q92.103 320.083 92.103 318.393 Q92.103 315.638 90.1586 313.902 Q88.2373 312.166 85.1355 312.166 Q82.9364 312.166 80.4827 312.93 Q78.0522 313.694 75.2744 315.245 L75.2744 310.522 Q78.0985 309.388 80.5522 308.81 Q83.0058 308.231 85.0429 308.231 Q90.4132 308.231 93.6076 310.916 Q96.8021 313.601 96.8021 318.092 Q96.8021 320.222 95.9919 322.143 Q95.2049 324.041 93.0984 326.634 Q92.5197 327.305 89.4178 330.522 Q86.316 333.717 80.6679 339.481 Z\" fill=\"#000000\" fill-rule=\"evenodd\" fill-opacity=\"1\" /><polyline clip-path=\"url(#clip032)\" style=\"stroke:#009af9; stroke-width:4; stroke-opacity:1; fill:none\" points=\"\n",
       "  195.811,1445.72 197.905,730.501 199.999,379.501 202.093,210.311 204.187,131.85 206.281,98.6409 208.376,87.9763 210.47,88.5179 212.564,94.6048 214.658,103.411 \n",
       "  216.752,113.525 218.846,124.244 220.94,135.216 223.034,146.266 225.129,157.307 227.223,168.297 229.317,179.215 231.411,190.049 233.505,200.796 235.599,211.454 \n",
       "  237.693,222.022 239.787,232.5 241.882,242.888 243.976,253.188 246.07,263.4 248.164,273.524 250.258,283.562 252.352,293.513 254.446,303.38 256.54,313.162 \n",
       "  258.635,322.86 260.729,332.475 262.823,342.008 264.917,351.459 267.011,360.829 269.105,370.119 271.199,379.33 273.293,388.462 275.388,397.515 277.482,406.491 \n",
       "  279.576,415.39 281.67,424.213 283.764,432.96 285.858,441.632 287.952,450.23 290.046,458.755 292.14,467.206 294.235,475.585 296.329,483.893 298.423,492.129 \n",
       "  300.517,500.295 302.611,508.39 304.705,516.417 306.799,524.374 308.893,532.264 310.988,540.086 313.082,547.841 315.176,555.53 317.27,563.152 319.364,570.71 \n",
       "  321.458,578.203 323.552,585.631 325.646,592.996 327.741,600.298 329.835,607.538 331.929,614.715 334.023,621.831 336.117,628.886 338.211,635.881 340.305,642.815 \n",
       "  342.399,649.691 344.494,656.507 346.588,663.265 348.682,669.966 350.776,676.608 352.87,683.194 354.964,689.724 357.058,696.198 359.152,702.616 361.246,708.979 \n",
       "  363.341,715.288 365.435,721.543 367.529,727.744 369.623,733.892 371.717,739.987 373.811,746.031 375.905,752.022 377.999,757.962 380.094,763.852 382.188,769.69 \n",
       "  384.282,775.479 386.376,781.219 388.47,786.909 390.564,792.55 392.658,798.143 394.752,803.689 396.847,809.186 398.941,814.637 401.035,820.041 403.129,825.399 \n",
       "  405.223,830.711 407.317,835.977 409.411,841.198 411.505,846.375 413.6,851.507 415.694,856.595 417.788,861.64 419.882,866.642 421.976,871.6 424.07,876.517 \n",
       "  426.164,881.391 428.258,886.223 430.352,891.014 432.447,895.764 434.541,900.473 436.635,905.142 438.729,909.771 440.823,914.361 442.917,918.911 445.011,923.422 \n",
       "  447.105,927.894 449.2,932.328 451.294,936.725 453.388,941.083 455.482,945.404 457.576,949.689 459.67,953.936 461.764,958.147 463.858,962.322 465.953,966.462 \n",
       "  468.047,970.566 470.141,974.635 472.235,978.668 474.329,982.668 476.423,986.633 478.517,990.564 480.611,994.462 482.706,998.326 484.8,1002.16 486.894,1005.96 \n",
       "  488.988,1009.72 491.082,1013.45 493.176,1017.16 495.27,1020.83 497.364,1024.46 499.458,1028.07 501.553,1031.65 503.647,1035.19 505.741,1038.71 507.835,1042.19 \n",
       "  509.929,1045.65 512.023,1049.08 514.117,1052.47 516.211,1055.84 518.306,1059.18 520.4,1062.49 522.494,1065.77 524.588,1069.02 526.682,1072.25 528.776,1075.45 \n",
       "  530.87,1078.62 532.964,1081.76 535.059,1084.88 537.153,1087.97 539.247,1091.03 541.341,1094.07 543.435,1097.08 545.529,1100.06 547.623,1103.02 549.717,1105.96 \n",
       "  551.812,1108.87 553.906,1111.75 556,1114.61 558.094,1117.45 560.188,1120.26 562.282,1123.05 564.376,1125.81 566.47,1128.55 568.564,1131.26 570.659,1133.96 \n",
       "  572.753,1136.63 574.847,1139.27 576.941,1141.9 579.035,1144.5 581.129,1147.08 583.223,1149.64 585.317,1152.17 587.412,1154.68 589.506,1157.18 591.6,1159.65 \n",
       "  593.694,1162.1 595.788,1164.53 597.882,1166.93 599.976,1169.32 602.07,1171.69 604.165,1174.03 606.259,1176.36 608.353,1178.67 610.447,1180.95 612.541,1183.22 \n",
       "  614.635,1185.47 616.729,1187.7 618.823,1189.91 620.918,1192.1 623.012,1194.27 625.106,1196.42 627.2,1198.56 629.294,1200.67 631.388,1202.77 633.482,1204.85 \n",
       "  635.576,1206.91 637.671,1208.96 639.765,1210.99 641.859,1213 643.953,1214.99 646.047,1216.97 648.141,1218.92 650.235,1220.87 652.329,1222.79 654.423,1224.7 \n",
       "  656.518,1226.59 658.612,1228.47 660.706,1230.33 662.8,1232.17 664.894,1234 666.988,1235.82 669.082,1237.61 671.176,1239.4 673.271,1241.16 675.365,1242.91 \n",
       "  677.459,1244.65 679.553,1246.37 681.647,1248.08 683.741,1249.77 685.835,1251.45 687.929,1253.11 690.024,1254.76 692.118,1256.4 694.212,1258.02 696.306,1259.63 \n",
       "  698.4,1261.22 700.494,1262.8 702.588,1264.37 704.682,1265.92 706.777,1267.46 708.871,1268.98 710.965,1270.5 713.059,1272 715.153,1273.49 717.247,1274.96 \n",
       "  719.341,1276.42 721.435,1277.87 723.529,1279.31 725.624,1280.73 727.718,1282.15 729.812,1283.55 731.906,1284.94 734,1286.31 736.094,1287.68 738.188,1289.03 \n",
       "  740.282,1290.37 742.377,1291.7 744.471,1293.02 746.565,1294.33 748.659,1295.63 750.753,1296.91 752.847,1298.19 754.941,1299.45 757.035,1300.7 759.13,1301.94 \n",
       "  761.224,1303.17 763.318,1304.4 765.412,1305.61 767.506,1306.81 769.6,1307.99 771.694,1309.17 773.788,1310.34 775.883,1311.5 777.977,1312.65 780.071,1313.79 \n",
       "  782.165,1314.92 784.259,1316.04 786.353,1317.15 788.447,1318.25 790.541,1319.34 792.635,1320.43 794.73,1321.5 796.824,1322.56 798.918,1323.62 801.012,1324.66 \n",
       "  803.106,1325.7 805.2,1326.73 807.294,1327.75 809.388,1328.76 811.483,1329.76 813.577,1330.75 815.671,1331.73 817.765,1332.71 819.859,1333.68 821.953,1334.64 \n",
       "  824.047,1335.59 826.141,1336.53 828.236,1337.47 830.33,1338.39 832.424,1339.31 834.518,1340.22 836.612,1341.13 838.706,1342.02 840.8,1342.91 842.894,1343.79 \n",
       "  844.989,1344.66 847.083,1345.53 849.177,1346.39 851.271,1347.24 853.365,1348.08 855.459,1348.92 857.553,1349.75 859.647,1350.57 861.741,1351.38 863.836,1352.19 \n",
       "  865.93,1352.99 868.024,1353.79 870.118,1354.57 872.212,1355.35 874.306,1356.13 876.4,1356.89 878.494,1357.65 880.589,1358.41 882.683,1359.16 884.777,1359.9 \n",
       "  886.871,1360.63 888.965,1361.36 891.059,1362.08 893.153,1362.8 895.247,1363.51 897.342,1364.21 899.436,1364.91 901.53,1365.6 903.624,1366.29 905.718,1366.97 \n",
       "  907.812,1367.64 909.906,1368.31 912,1368.98 914.095,1369.63 916.189,1370.28 918.283,1370.93 920.377,1371.57 922.471,1372.21 924.565,1372.83 926.659,1373.46 \n",
       "  928.753,1374.08 930.847,1374.69 932.942,1375.3 935.036,1375.9 937.13,1376.5 939.224,1377.09 941.318,1377.68 943.412,1378.26 945.506,1378.84 947.6,1379.41 \n",
       "  949.695,1379.98 951.789,1380.54 953.883,1381.1 955.977,1381.66 958.071,1382.2 960.165,1382.75 962.259,1383.29 964.353,1383.82 966.448,1384.35 968.542,1384.88 \n",
       "  970.636,1385.4 972.73,1385.91 974.824,1386.43 976.918,1386.93 979.012,1387.44 981.106,1387.94 983.201,1388.43 985.295,1388.92 987.389,1389.41 989.483,1389.89 \n",
       "  991.577,1390.37 993.671,1390.84 995.765,1391.31 997.859,1391.78 999.953,1392.24 1002.05,1392.7 1004.14,1393.15 1006.24,1393.6 1008.33,1394.05 1010.42,1394.49 \n",
       "  1012.52,1394.93 1014.61,1395.36 1016.71,1395.8 1018.8,1396.22 1020.89,1396.65 1022.99,1397.07 1025.08,1397.48 1027.18,1397.9 1029.27,1398.31 1031.37,1398.71 \n",
       "  1033.46,1399.11 1035.55,1399.51 1037.65,1399.91 1039.74,1400.3 1041.84,1400.69 1043.93,1401.08 1046.02,1401.46 1048.12,1401.84 1050.21,1402.21 1052.31,1402.59 \n",
       "  1054.4,1402.95 1056.49,1403.32 1058.59,1403.68 1060.68,1404.04 1062.78,1404.4 1064.87,1404.75 1066.97,1405.11 1069.06,1405.45 1071.15,1405.8 1073.25,1406.14 \n",
       "  1075.34,1406.48 1077.44,1406.81 1079.53,1407.15 1081.62,1407.48 1083.72,1407.81 1085.81,1408.13 1087.91,1408.45 1090,1408.77 1092.09,1409.09 1094.19,1409.4 \n",
       "  1096.28,1409.71 1098.38,1410.02 1100.47,1410.33 1102.57,1410.63 1104.66,1410.93 1106.75,1411.23 1108.85,1411.52 1110.94,1411.82 1113.04,1412.11 1115.13,1412.39 \n",
       "  1117.22,1412.68 1119.32,1412.96 1121.41,1413.24 1123.51,1413.52 1125.6,1413.8 1127.69,1414.07 1129.79,1414.34 1131.88,1414.61 1133.98,1414.88 1136.07,1415.14 \n",
       "  1138.17,1415.4 1140.26,1415.66 1142.35,1415.92 1144.45,1416.17 1146.54,1416.43 1148.64,1416.68 1150.73,1416.93 1152.82,1417.17 1154.92,1417.42 1157.01,1417.66 \n",
       "  1159.11,1417.9 1161.2,1418.14 1163.29,1418.37 1165.39,1418.61 1167.48,1418.84 1169.58,1419.07 1171.67,1419.3 1173.77,1419.52 1175.86,1419.75 1177.95,1419.97 \n",
       "  1180.05,1420.19 1182.14,1420.41 1184.24,1420.63 1186.33,1420.84 1188.42,1421.05 1190.52,1421.27 1192.61,1421.48 1194.71,1421.68 1196.8,1421.89 1198.9,1422.09 \n",
       "  1200.99,1422.29 1203.08,1422.5 1205.18,1422.69 1207.27,1422.89 1209.37,1423.09 1211.46,1423.28 1213.55,1423.47 1215.65,1423.66 1217.74,1423.85 1219.84,1424.04 \n",
       "  1221.93,1424.22 1224.02,1424.41 1226.12,1424.59 1228.21,1424.77 1230.31,1424.95 1232.4,1425.13 1234.5,1425.31 1236.59,1425.48 1238.68,1425.65 1240.78,1425.83 \n",
       "  1242.87,1426 1244.97,1426.16 1247.06,1426.33 1249.15,1426.5 1251.25,1426.66 1253.34,1426.83 1255.44,1426.99 1257.53,1427.15 1259.62,1427.31 1261.72,1427.46 \n",
       "  1263.81,1427.62 1265.91,1427.78 1268,1427.93 1270.1,1428.08 1272.19,1428.23 1274.28,1428.38 1276.38,1428.53 1278.47,1428.68 1280.57,1428.82 1282.66,1428.97 \n",
       "  1284.75,1429.11 1286.85,1429.25 1288.94,1429.4 1291.04,1429.53 1293.13,1429.67 1295.22,1429.81 1297.32,1429.95 1299.41,1430.08 1301.51,1430.22 1303.6,1430.35 \n",
       "  1305.7,1430.48 1307.79,1430.61 1309.88,1430.74 1311.98,1430.87 1314.07,1431 1316.17,1431.12 1318.26,1431.25 1320.35,1431.37 1322.45,1431.49 1324.54,1431.61 \n",
       "  1326.64,1431.74 1328.73,1431.86 1330.82,1431.97 1332.92,1432.09 1335.01,1432.21 1337.11,1432.32 1339.2,1432.44 1341.3,1432.55 1343.39,1432.67 1345.48,1432.78 \n",
       "  1347.58,1432.89 1349.67,1433 1351.77,1433.11 1353.86,1433.21 1355.95,1433.32 1358.05,1433.43 1360.14,1433.53 1362.24,1433.64 1364.33,1433.74 1366.42,1433.84 \n",
       "  1368.52,1433.94 1370.61,1434.05 1372.71,1434.15 1374.8,1434.24 1376.9,1434.34 1378.99,1434.44 1381.08,1434.54 1383.18,1434.63 1385.27,1434.73 1387.37,1434.82 \n",
       "  1389.46,1434.91 1391.55,1435.01 1393.65,1435.1 1395.74,1435.19 1397.84,1435.28 1399.93,1435.37 1402.02,1435.46 1404.12,1435.55 1406.21,1435.63 1408.31,1435.72 \n",
       "  1410.4,1435.8 1412.5,1435.89 1414.59,1435.97 1416.68,1436.06 1418.78,1436.14 1420.87,1436.22 1422.97,1436.3 1425.06,1436.38 1427.15,1436.46 1429.25,1436.54 \n",
       "  1431.34,1436.62 1433.44,1436.7 1435.53,1436.78 1437.62,1436.85 1439.72,1436.93 1441.81,1437 1443.91,1437.08 1446,1437.15 1448.1,1437.23 1450.19,1437.3 \n",
       "  1452.28,1437.37 1454.38,1437.44 1456.47,1437.51 1458.57,1437.58 1460.66,1437.65 1462.75,1437.72 1464.85,1437.79 1466.94,1437.86 1469.04,1437.93 1471.13,1437.99 \n",
       "  1473.22,1438.06 1475.32,1438.12 1477.41,1438.19 1479.51,1438.25 1481.6,1438.32 1483.7,1438.38 1485.79,1438.44 1487.88,1438.51 1489.98,1438.57 1492.07,1438.63 \n",
       "  1494.17,1438.69 1496.26,1438.75 1498.35,1438.81 1500.45,1438.87 1502.54,1438.93 1504.64,1438.99 1506.73,1439.04 1508.82,1439.1 1510.92,1439.16 1513.01,1439.21 \n",
       "  1515.11,1439.27 1517.2,1439.32 1519.3,1439.38 1521.39,1439.43 1523.48,1439.49 1525.58,1439.54 1527.67,1439.59 1529.77,1439.65 1531.86,1439.7 1533.95,1439.75 \n",
       "  1536.05,1439.8 1538.14,1439.85 1540.24,1439.9 1542.33,1439.95 1544.43,1440 1546.52,1440.05 1548.61,1440.1 1550.71,1440.15 1552.8,1440.19 1554.9,1440.24 \n",
       "  1556.99,1440.29 1559.08,1440.33 1561.18,1440.38 1563.27,1440.43 1565.37,1440.47 1567.46,1440.52 1569.55,1440.56 1571.65,1440.6 1573.74,1440.65 1575.84,1440.69 \n",
       "  1577.93,1440.73 1580.03,1440.78 1582.12,1440.82 1584.21,1440.86 1586.31,1440.9 1588.4,1440.94 1590.5,1440.99 1592.59,1441.03 1594.68,1441.07 1596.78,1441.11 \n",
       "  1598.87,1441.15 1600.97,1441.18 1603.06,1441.22 1605.15,1441.26 1607.25,1441.3 1609.34,1441.34 1611.44,1441.38 1613.53,1441.41 1615.63,1441.45 1617.72,1441.49 \n",
       "  1619.81,1441.52 1621.91,1441.56 1624,1441.59 1626.1,1441.63 1628.19,1441.66 1630.28,1441.7 1632.38,1441.73 1634.47,1441.77 1636.57,1441.8 1638.66,1441.83 \n",
       "  1640.75,1441.87 1642.85,1441.9 1644.94,1441.93 1647.04,1441.97 1649.13,1442 1651.23,1442.03 1653.32,1442.06 1655.41,1442.09 1657.51,1442.12 1659.6,1442.15 \n",
       "  1661.7,1442.18 1663.79,1442.21 1665.88,1442.24 1667.98,1442.27 1670.07,1442.3 1672.17,1442.33 1674.26,1442.36 1676.35,1442.39 1678.45,1442.42 1680.54,1442.45 \n",
       "  1682.64,1442.48 1684.73,1442.5 1686.83,1442.53 1688.92,1442.56 1691.01,1442.59 1693.11,1442.61 1695.2,1442.64 1697.3,1442.66 1699.39,1442.69 1701.48,1442.72 \n",
       "  1703.58,1442.74 1705.67,1442.77 1707.77,1442.79 1709.86,1442.82 1711.95,1442.84 1714.05,1442.87 1716.14,1442.89 1718.24,1442.92 1720.33,1442.94 1722.43,1442.96 \n",
       "  1724.52,1442.99 1726.61,1443.01 1728.71,1443.03 1730.8,1443.06 1732.9,1443.08 1734.99,1443.1 1737.08,1443.12 1739.18,1443.15 1741.27,1443.17 1743.37,1443.19 \n",
       "  1745.46,1443.21 1747.55,1443.23 1749.65,1443.26 1751.74,1443.28 1753.84,1443.3 1755.93,1443.32 1758.03,1443.34 1760.12,1443.36 1762.21,1443.38 1764.31,1443.4 \n",
       "  1766.4,1443.42 1768.5,1443.44 1770.59,1443.46 1772.68,1443.48 1774.78,1443.5 1776.87,1443.52 1778.97,1443.53 1781.06,1443.55 1783.15,1443.57 1785.25,1443.59 \n",
       "  1787.34,1443.61 1789.44,1443.63 1791.53,1443.64 1793.63,1443.66 1795.72,1443.68 1797.81,1443.7 1799.91,1443.71 1802,1443.73 1804.1,1443.75 1806.19,1443.76 \n",
       "  1808.28,1443.78 1810.38,1443.8 1812.47,1443.81 1814.57,1443.83 1816.66,1443.85 1818.75,1443.86 1820.85,1443.88 1822.94,1443.89 1825.04,1443.91 1827.13,1443.93 \n",
       "  1829.23,1443.94 1831.32,1443.96 1833.41,1443.97 1835.51,1443.99 1837.6,1444 1839.7,1444.02 1841.79,1444.03 1843.88,1444.04 1845.98,1444.06 1848.07,1444.07 \n",
       "  1850.17,1444.09 1852.26,1444.1 1854.36,1444.12 1856.45,1444.13 1858.54,1444.14 1860.64,1444.16 1862.73,1444.17 1864.83,1444.18 1866.92,1444.2 1869.01,1444.21 \n",
       "  1871.11,1444.22 1873.2,1444.23 1875.3,1444.25 1877.39,1444.26 1879.48,1444.27 1881.58,1444.28 1883.67,1444.3 1885.77,1444.31 1887.86,1444.32 1889.96,1444.33 \n",
       "  1892.05,1444.34 1894.14,1444.36 1896.24,1444.37 1898.33,1444.38 1900.43,1444.39 1902.52,1444.4 1904.61,1444.41 1906.71,1444.42 1908.8,1444.44 1910.9,1444.45 \n",
       "  1912.99,1444.46 1915.08,1444.47 1917.18,1444.48 1919.27,1444.49 1921.37,1444.5 1923.46,1444.51 1925.56,1444.52 1927.65,1444.53 1929.74,1444.54 1931.84,1444.55 \n",
       "  1933.93,1444.56 1936.03,1444.57 1938.12,1444.58 1940.21,1444.59 1942.31,1444.6 1944.4,1444.61 1946.5,1444.62 1948.59,1444.63 1950.68,1444.64 1952.78,1444.65 \n",
       "  1954.87,1444.66 1956.97,1444.67 1959.06,1444.67 1961.16,1444.68 1963.25,1444.69 1965.34,1444.7 1967.44,1444.71 1969.53,1444.72 1971.63,1444.73 1973.72,1444.74 \n",
       "  1975.81,1444.74 1977.91,1444.75 1980,1444.76 1982.1,1444.77 1984.19,1444.78 1986.28,1444.78 1988.38,1444.79 1990.47,1444.8 1992.57,1444.81 1994.66,1444.82 \n",
       "  1996.76,1444.82 1998.85,1444.83 2000.94,1444.84 2003.04,1444.85 2005.13,1444.85 2007.23,1444.86 2009.32,1444.87 2011.41,1444.88 2013.51,1444.88 2015.6,1444.89 \n",
       "  2017.7,1444.9 2019.79,1444.9 2021.88,1444.91 2023.98,1444.92 2026.07,1444.92 2028.17,1444.93 2030.26,1444.94 2032.36,1444.95 2034.45,1444.95 2036.54,1444.96 \n",
       "  2038.64,1444.96 2040.73,1444.97 2042.83,1444.98 2044.92,1444.98 2047.01,1444.99 2049.11,1445 2051.2,1445 2053.3,1445.01 2055.39,1445.01 2057.48,1445.02 \n",
       "  2059.58,1445.03 2061.67,1445.03 2063.77,1445.04 2065.86,1445.04 2067.96,1445.05 2070.05,1445.06 2072.14,1445.06 2074.24,1445.07 2076.33,1445.07 2078.43,1445.08 \n",
       "  2080.52,1445.08 2082.61,1445.09 2084.71,1445.09 2086.8,1445.1 2088.9,1445.1 2090.99,1445.11 2093.08,1445.12 2095.18,1445.12 2097.27,1445.13 2099.37,1445.13 \n",
       "  2101.46,1445.14 2103.56,1445.14 2105.65,1445.15 2107.74,1445.15 2109.84,1445.16 2111.93,1445.16 2114.03,1445.16 2116.12,1445.17 2118.21,1445.17 2120.31,1445.18 \n",
       "  2122.4,1445.18 2124.5,1445.19 2126.59,1445.19 2128.68,1445.2 2130.78,1445.2 2132.87,1445.21 2134.97,1445.21 2137.06,1445.21 2139.16,1445.22 2141.25,1445.22 \n",
       "  2143.34,1445.23 2145.44,1445.23 2147.53,1445.24 2149.63,1445.24 2151.72,1445.24 2153.81,1445.25 2155.91,1445.25 2158,1445.26 2160.1,1445.26 2162.19,1445.26 \n",
       "  2164.28,1445.27 2166.38,1445.27 2168.47,1445.28 2170.57,1445.28 2172.66,1445.28 2174.76,1445.29 2176.85,1445.29 2178.94,1445.29 2181.04,1445.3 2183.13,1445.3 \n",
       "  2185.23,1445.3 2187.32,1445.31 2189.41,1445.31 2191.51,1445.31 2193.6,1445.32 2195.7,1445.32 2197.79,1445.33 2199.89,1445.33 2201.98,1445.33 2204.07,1445.34 \n",
       "  2206.17,1445.34 2208.26,1445.34 2210.36,1445.34 2212.45,1445.35 2214.54,1445.35 2216.64,1445.35 2218.73,1445.36 2220.83,1445.36 2222.92,1445.36 2225.01,1445.37 \n",
       "  2227.11,1445.37 2229.2,1445.37 2231.3,1445.38 2233.39,1445.38 2235.49,1445.38 2237.58,1445.38 2239.67,1445.39 2241.77,1445.39 2243.86,1445.39 2245.96,1445.4 \n",
       "  2248.05,1445.4 2250.14,1445.4 2252.24,1445.4 2254.33,1445.41 2256.43,1445.41 2258.52,1445.41 2260.61,1445.41 2262.71,1445.42 2264.8,1445.42 2266.9,1445.42 \n",
       "  2268.99,1445.42 2271.09,1445.43 2273.18,1445.43 2275.27,1445.43 2277.37,1445.43 2279.46,1445.44 2281.56,1445.44 2283.65,1445.44 2285.74,1445.44 2287.84,1445.45 \n",
       "  2289.93,1445.45 \n",
       "  \"/>\n",
       "<path clip-path=\"url(#clip030)\" d=\"\n",
       "M1643.51 216.178 L2278.76 216.178 L2278.76 95.2176 L1643.51 95.2176  Z\n",
       "  \" fill=\"#ffffff\" fill-rule=\"evenodd\" fill-opacity=\"1\"/>\n",
       "<polyline clip-path=\"url(#clip030)\" style=\"stroke:#000000; stroke-width:4; stroke-opacity:1; fill:none\" points=\"\n",
       "  1643.51,216.178 2278.76,216.178 2278.76,95.2176 1643.51,95.2176 1643.51,216.178 \n",
       "  \"/>\n",
       "<polyline clip-path=\"url(#clip030)\" style=\"stroke:#009af9; stroke-width:4; stroke-opacity:1; fill:none\" points=\"\n",
       "  1668.18,155.698 1816.16,155.698 \n",
       "  \"/>\n",
       "<path clip-path=\"url(#clip030)\" d=\"M 0 0 M1840.83 147.052 L1845.09 147.052 L1850.41 167.283 L1855.71 147.052 L1860.73 147.052 L1866.06 167.283 L1871.36 147.052 L1875.62 147.052 L1868.84 172.978 L1863.81 172.978 L1858.23 151.728 L1852.63 172.978 L1847.61 172.978 L1840.83 147.052 Z\" fill=\"#000000\" fill-rule=\"evenodd\" fill-opacity=\"1\" /><path clip-path=\"url(#clip030)\" d=\"M 0 0 M1891.87 159.945 Q1886.71 159.945 1884.72 161.126 Q1882.72 162.306 1882.72 165.154 Q1882.72 167.422 1884.21 168.765 Q1885.71 170.084 1888.28 170.084 Q1891.82 170.084 1893.95 167.584 Q1896.1 165.061 1896.1 160.894 L1896.1 159.945 L1891.87 159.945 M1900.36 158.186 L1900.36 172.978 L1896.1 172.978 L1896.1 169.042 Q1894.65 171.403 1892.47 172.538 Q1890.29 173.649 1887.15 173.649 Q1883.16 173.649 1880.8 171.427 Q1878.47 169.181 1878.47 165.431 Q1878.47 161.056 1881.38 158.834 Q1884.32 156.612 1890.13 156.612 L1896.1 156.612 L1896.1 156.195 Q1896.1 153.255 1894.16 151.658 Q1892.24 150.038 1888.74 150.038 Q1886.52 150.038 1884.41 150.57 Q1882.31 151.103 1880.36 152.167 L1880.36 148.232 Q1882.7 147.33 1884.9 146.89 Q1887.1 146.427 1889.18 146.427 Q1894.81 146.427 1897.59 149.343 Q1900.36 152.26 1900.36 158.186 Z\" fill=\"#000000\" fill-rule=\"evenodd\" fill-opacity=\"1\" /><path clip-path=\"url(#clip030)\" d=\"M 0 0 M1919.85 151.033 Q1919.14 150.617 1918.28 150.431 Q1917.45 150.223 1916.43 150.223 Q1912.82 150.223 1910.87 152.584 Q1908.95 154.922 1908.95 159.32 L1908.95 172.978 L1904.67 172.978 L1904.67 147.052 L1908.95 147.052 L1908.95 151.08 Q1910.29 148.718 1912.45 147.584 Q1914.6 146.427 1917.68 146.427 Q1918.12 146.427 1918.65 146.496 Q1919.18 146.543 1919.83 146.658 L1919.85 151.033 Z\" fill=\"#000000\" fill-rule=\"evenodd\" fill-opacity=\"1\" /><path clip-path=\"url(#clip030)\" d=\"M 0 0 M1928.53 139.691 L1928.53 147.052 L1937.31 147.052 L1937.31 150.362 L1928.53 150.362 L1928.53 164.436 Q1928.53 167.607 1929.39 168.51 Q1930.27 169.413 1932.93 169.413 L1937.31 169.413 L1937.31 172.978 L1932.93 172.978 Q1928 172.978 1926.13 171.149 Q1924.25 169.297 1924.25 164.436 L1924.25 150.362 L1921.13 150.362 L1921.13 147.052 L1924.25 147.052 L1924.25 139.691 L1928.53 139.691 Z\" fill=\"#000000\" fill-rule=\"evenodd\" fill-opacity=\"1\" /><path clip-path=\"url(#clip030)\" d=\"M 0 0 M1951.82 150.038 Q1948.4 150.038 1946.4 152.723 Q1944.41 155.385 1944.41 160.038 Q1944.41 164.691 1946.38 167.376 Q1948.37 170.038 1951.82 170.038 Q1955.22 170.038 1957.21 167.353 Q1959.21 164.667 1959.21 160.038 Q1959.21 155.431 1957.21 152.746 Q1955.22 150.038 1951.82 150.038 M1951.82 146.427 Q1957.38 146.427 1960.55 150.038 Q1963.72 153.649 1963.72 160.038 Q1963.72 166.404 1960.55 170.038 Q1957.38 173.649 1951.82 173.649 Q1946.24 173.649 1943.07 170.038 Q1939.92 166.404 1939.92 160.038 Q1939.92 153.649 1943.07 150.038 Q1946.24 146.427 1951.82 146.427 Z\" fill=\"#000000\" fill-rule=\"evenodd\" fill-opacity=\"1\" /><path clip-path=\"url(#clip030)\" d=\"M 0 0 M1980.32 134.899 L1984.92 134.899 L1977.38 143.603 L1973.83 143.603 L1980.32 134.899 M1984.71 147.816 L1984.71 151.843 Q1982.91 150.917 1980.96 150.455 Q1979.02 149.992 1976.94 149.992 Q1973.77 149.992 1972.17 150.964 Q1970.59 151.936 1970.59 153.88 Q1970.59 155.362 1971.73 156.218 Q1972.86 157.052 1976.29 157.816 L1977.75 158.14 Q1982.28 159.112 1984.18 160.894 Q1986.1 162.654 1986.1 165.825 Q1986.1 169.436 1983.23 171.542 Q1980.39 173.649 1975.39 173.649 Q1973.3 173.649 1971.03 173.232 Q1968.79 172.839 1966.29 172.028 L1966.29 167.63 Q1968.65 168.857 1970.94 169.482 Q1973.23 170.084 1975.48 170.084 Q1978.49 170.084 1980.11 169.066 Q1981.73 168.024 1981.73 166.149 Q1981.73 164.413 1980.55 163.487 Q1979.39 162.561 1975.43 161.704 L1973.95 161.357 Q1969.99 160.524 1968.23 158.811 Q1966.47 157.075 1966.47 154.066 Q1966.47 150.408 1969.07 148.418 Q1971.66 146.427 1976.43 146.427 Q1978.79 146.427 1980.87 146.774 Q1982.96 147.121 1984.71 147.816 Z\" fill=\"#000000\" fill-rule=\"evenodd\" fill-opacity=\"1\" /><path clip-path=\"url(#clip030)\" d=\"M 0 0 M2009.23 148.047 L2009.23 152.029 Q2007.42 151.033 2005.59 150.547 Q2003.79 150.038 2001.94 150.038 Q1997.79 150.038 1995.5 152.677 Q1993.21 155.292 1993.21 160.038 Q1993.21 164.783 1995.5 167.422 Q1997.79 170.038 2001.94 170.038 Q2003.79 170.038 2005.59 169.552 Q2007.42 169.042 2009.23 168.047 L2009.23 171.982 Q2007.45 172.816 2005.52 173.232 Q2003.63 173.649 2001.47 173.649 Q1995.62 173.649 1992.17 169.968 Q1988.72 166.288 1988.72 160.038 Q1988.72 153.695 1992.19 150.061 Q1995.69 146.427 2001.75 146.427 Q2003.72 146.427 2005.59 146.843 Q2007.47 147.237 2009.23 148.047 Z\" fill=\"#000000\" fill-rule=\"evenodd\" fill-opacity=\"1\" /><path clip-path=\"url(#clip030)\" d=\"M 0 0 M2013.7 147.052 L2017.96 147.052 L2017.96 172.978 L2013.7 172.978 L2013.7 147.052 M2013.7 136.959 L2017.96 136.959 L2017.96 142.353 L2013.7 142.353 L2013.7 136.959 Z\" fill=\"#000000\" fill-rule=\"evenodd\" fill-opacity=\"1\" /><path clip-path=\"url(#clip030)\" d=\"M 0 0 M2047.54 150.038 Q2044.11 150.038 2042.12 152.723 Q2040.13 155.385 2040.13 160.038 Q2040.13 164.691 2042.1 167.376 Q2044.09 170.038 2047.54 170.038 Q2050.94 170.038 2052.93 167.353 Q2054.92 164.667 2054.92 160.038 Q2054.92 155.431 2052.93 152.746 Q2050.94 150.038 2047.54 150.038 M2047.54 146.427 Q2053.09 146.427 2056.27 150.038 Q2059.44 153.649 2059.44 160.038 Q2059.44 166.404 2056.27 170.038 Q2053.09 173.649 2047.54 173.649 Q2041.96 173.649 2038.79 170.038 Q2035.64 166.404 2035.64 160.038 Q2035.64 153.649 2038.79 150.038 Q2041.96 146.427 2047.54 146.427 Z\" fill=\"#000000\" fill-rule=\"evenodd\" fill-opacity=\"1\" /><path clip-path=\"url(#clip030)\" d=\"M 0 0 M2082.51 160.038 Q2082.51 155.339 2080.57 152.677 Q2078.65 149.992 2075.27 149.992 Q2071.89 149.992 2069.95 152.677 Q2068.02 155.339 2068.02 160.038 Q2068.02 164.737 2069.95 167.422 Q2071.89 170.084 2075.27 170.084 Q2078.65 170.084 2080.57 167.422 Q2082.51 164.737 2082.51 160.038 M2068.02 150.987 Q2069.37 148.672 2071.4 147.561 Q2073.46 146.427 2076.31 146.427 Q2081.03 146.427 2083.97 150.177 Q2086.94 153.927 2086.94 160.038 Q2086.94 166.149 2083.97 169.899 Q2081.03 173.649 2076.31 173.649 Q2073.46 173.649 2071.4 172.538 Q2069.37 171.403 2068.02 169.089 L2068.02 172.978 L2063.74 172.978 L2063.74 136.959 L2068.02 136.959 L2068.02 150.987 Z\" fill=\"#000000\" fill-rule=\"evenodd\" fill-opacity=\"1\" /><path clip-path=\"url(#clip030)\" d=\"M 0 0 M2091.4 136.959 L2095.66 136.959 L2095.66 172.978 L2091.4 172.978 L2091.4 136.959 Z\" fill=\"#000000\" fill-rule=\"evenodd\" fill-opacity=\"1\" /><path clip-path=\"url(#clip030)\" d=\"M 0 0 M2100.13 147.052 L2104.39 147.052 L2104.39 172.978 L2100.13 172.978 L2100.13 147.052 M2100.13 136.959 L2104.39 136.959 L2104.39 142.353 L2100.13 142.353 L2100.13 136.959 Z\" fill=\"#000000\" fill-rule=\"evenodd\" fill-opacity=\"1\" /><path clip-path=\"url(#clip030)\" d=\"M 0 0 M2127.51 148.047 L2127.51 152.029 Q2125.71 151.033 2123.88 150.547 Q2122.07 150.038 2120.22 150.038 Q2116.08 150.038 2113.79 152.677 Q2111.5 155.292 2111.5 160.038 Q2111.5 164.783 2113.79 167.422 Q2116.08 170.038 2120.22 170.038 Q2122.07 170.038 2123.88 169.552 Q2125.71 169.042 2127.51 168.047 L2127.51 171.982 Q2125.73 172.816 2123.81 173.232 Q2121.91 173.649 2119.76 173.649 Q2113.9 173.649 2110.45 169.968 Q2107.01 166.288 2107.01 160.038 Q2107.01 153.695 2110.48 150.061 Q2113.97 146.427 2120.04 146.427 Q2122.01 146.427 2123.88 146.843 Q2125.76 147.237 2127.51 148.047 Z\" fill=\"#000000\" fill-rule=\"evenodd\" fill-opacity=\"1\" /><path clip-path=\"url(#clip030)\" d=\"M 0 0 M2130.13 147.052 L2150.36 147.052 L2150.36 150.941 L2134.34 169.575 L2150.36 169.575 L2150.36 172.978 L2129.55 172.978 L2129.55 169.089 L2145.57 150.455 L2130.13 150.455 L2130.13 147.052 Z\" fill=\"#000000\" fill-rule=\"evenodd\" fill-opacity=\"1\" /><path clip-path=\"url(#clip030)\" d=\"M 0 0 M2164.88 150.038 Q2161.45 150.038 2159.46 152.723 Q2157.47 155.385 2157.47 160.038 Q2157.47 164.691 2159.44 167.376 Q2161.43 170.038 2164.88 170.038 Q2168.28 170.038 2170.27 167.353 Q2172.26 164.667 2172.26 160.038 Q2172.26 155.431 2170.27 152.746 Q2168.28 150.038 2164.88 150.038 M2164.88 146.427 Q2170.43 146.427 2173.6 150.038 Q2176.77 153.649 2176.77 160.038 Q2176.77 166.404 2173.6 170.038 Q2170.43 173.649 2164.88 173.649 Q2159.3 173.649 2156.13 170.038 Q2152.98 166.404 2152.98 160.038 Q2152.98 153.649 2156.13 150.038 Q2159.3 146.427 2164.88 146.427 Z\" fill=\"#000000\" fill-rule=\"evenodd\" fill-opacity=\"1\" /><path clip-path=\"url(#clip030)\" d=\"M 0 0 M2202.79 157.329 L2202.79 172.978 L2198.53 172.978 L2198.53 157.468 Q2198.53 153.788 2197.1 151.959 Q2195.66 150.13 2192.79 150.13 Q2189.34 150.13 2187.35 152.33 Q2185.36 154.529 2185.36 158.325 L2185.36 172.978 L2181.08 172.978 L2181.08 147.052 L2185.36 147.052 L2185.36 151.08 Q2186.89 148.742 2188.95 147.584 Q2191.03 146.427 2193.74 146.427 Q2198.21 146.427 2200.5 149.205 Q2202.79 151.959 2202.79 157.329 Z\" fill=\"#000000\" fill-rule=\"evenodd\" fill-opacity=\"1\" /><path clip-path=\"url(#clip030)\" d=\"M 0 0 M2229.44 158.95 L2229.44 161.033 L2209.85 161.033 Q2210.13 165.431 2212.49 167.746 Q2214.88 170.038 2219.11 170.038 Q2221.57 170.038 2223.86 169.436 Q2226.17 168.834 2228.44 167.63 L2228.44 171.658 Q2226.15 172.63 2223.74 173.14 Q2221.33 173.649 2218.86 173.649 Q2212.65 173.649 2209.02 170.038 Q2205.41 166.427 2205.41 160.269 Q2205.41 153.904 2208.83 150.177 Q2212.28 146.427 2218.12 146.427 Q2223.35 146.427 2226.38 149.806 Q2229.44 153.163 2229.44 158.95 M2225.18 157.7 Q2225.13 154.205 2223.21 152.121 Q2221.31 150.038 2218.16 150.038 Q2214.6 150.038 2212.44 152.052 Q2210.32 154.066 2209.99 157.723 L2225.18 157.7 Z\" fill=\"#000000\" fill-rule=\"evenodd\" fill-opacity=\"1\" /></svg>\n"
      ]
     },
     "execution_count": 837,
     "metadata": {},
     "output_type": "execute_result"
    }
   ],
   "source": [
    "t_step2 = Array(0:0.01:10)\n",
    "plot(t_step2, one_analyt3(t_step2), label=\"wartości obliczone\")"
   ]
  },
  {
   "cell_type": "markdown",
   "metadata": {},
   "source": [
    "Jak widać faza absorbcji jest praktycznie natychmiastowa"
   ]
  },
  {
   "cell_type": "markdown",
   "metadata": {},
   "source": [
    "Wyliczmy czas $t_{max}$ w tym przypadku"
   ]
  },
  {
   "cell_type": "code",
   "execution_count": 832,
   "metadata": {},
   "outputs": [
    {
     "data": {
      "text/plain": [
       "tmax (generic function with 1 method)"
      ]
     },
     "execution_count": 832,
     "metadata": {},
     "output_type": "execute_result"
    }
   ],
   "source": [
    "function tmax(ka, ke)\n",
    "    return log(ka/ke)/(ka-ke)\n",
    "end"
   ]
  },
  {
   "cell_type": "code",
   "execution_count": 833,
   "metadata": {},
   "outputs": [
    {
     "data": {
      "text/plain": [
       "0.06402434697382907"
      ]
     },
     "execution_count": 833,
     "metadata": {},
     "output_type": "execute_result"
    }
   ],
   "source": [
    "tₘ = tmax(ka, ke)"
   ]
  },
  {
   "cell_type": "code",
   "execution_count": 834,
   "metadata": {},
   "outputs": [
    {
     "name": "stdout",
     "output_type": "stream",
     "text": [
      "Czas gdy osiągane jest maksymalne stężenie to 0.06402434697382907 h\n"
     ]
    }
   ],
   "source": [
    "println(\"Czas gdy osiągane jest maksymalne stężenie to $tₘ h\")"
   ]
  },
  {
   "cell_type": "code",
   "execution_count": 838,
   "metadata": {},
   "outputs": [
    {
     "data": {
      "image/svg+xml": [
       "<?xml version=\"1.0\" encoding=\"utf-8\"?>\n",
       "<svg xmlns=\"http://www.w3.org/2000/svg\" xmlns:xlink=\"http://www.w3.org/1999/xlink\" width=\"600\" height=\"400\" viewBox=\"0 0 2400 1600\">\n",
       "<defs>\n",
       "  <clipPath id=\"clip070\">\n",
       "    <rect x=\"0\" y=\"0\" width=\"2400\" height=\"1600\"/>\n",
       "  </clipPath>\n",
       "</defs>\n",
       "<path clip-path=\"url(#clip070)\" d=\"\n",
       "M0 1600 L2400 1600 L2400 0 L0 0  Z\n",
       "  \" fill=\"#ffffff\" fill-rule=\"evenodd\" fill-opacity=\"1\"/>\n",
       "<defs>\n",
       "  <clipPath id=\"clip071\">\n",
       "    <rect x=\"480\" y=\"0\" width=\"1681\" height=\"1600\"/>\n",
       "  </clipPath>\n",
       "</defs>\n",
       "<path clip-path=\"url(#clip070)\" d=\"\n",
       "M132.987 1486.45 L2352.76 1486.45 L2352.76 47.2441 L132.987 47.2441  Z\n",
       "  \" fill=\"#ffffff\" fill-rule=\"evenodd\" fill-opacity=\"1\"/>\n",
       "<defs>\n",
       "  <clipPath id=\"clip072\">\n",
       "    <rect x=\"132\" y=\"47\" width=\"2221\" height=\"1440\"/>\n",
       "  </clipPath>\n",
       "</defs>\n",
       "<polyline clip-path=\"url(#clip072)\" style=\"stroke:#000000; stroke-width:2; stroke-opacity:0.1; fill:none\" points=\"\n",
       "  195.811,1486.45 195.811,47.2441 \n",
       "  \"/>\n",
       "<polyline clip-path=\"url(#clip072)\" style=\"stroke:#000000; stroke-width:2; stroke-opacity:0.1; fill:none\" points=\"\n",
       "  719.341,1486.45 719.341,47.2441 \n",
       "  \"/>\n",
       "<polyline clip-path=\"url(#clip072)\" style=\"stroke:#000000; stroke-width:2; stroke-opacity:0.1; fill:none\" points=\"\n",
       "  1242.87,1486.45 1242.87,47.2441 \n",
       "  \"/>\n",
       "<polyline clip-path=\"url(#clip072)\" style=\"stroke:#000000; stroke-width:2; stroke-opacity:0.1; fill:none\" points=\"\n",
       "  1766.4,1486.45 1766.4,47.2441 \n",
       "  \"/>\n",
       "<polyline clip-path=\"url(#clip072)\" style=\"stroke:#000000; stroke-width:2; stroke-opacity:0.1; fill:none\" points=\"\n",
       "  2289.93,1486.45 2289.93,47.2441 \n",
       "  \"/>\n",
       "<polyline clip-path=\"url(#clip070)\" style=\"stroke:#000000; stroke-width:4; stroke-opacity:1; fill:none\" points=\"\n",
       "  132.987,1486.45 2352.76,1486.45 \n",
       "  \"/>\n",
       "<polyline clip-path=\"url(#clip070)\" style=\"stroke:#000000; stroke-width:4; stroke-opacity:1; fill:none\" points=\"\n",
       "  195.811,1486.45 195.811,1469.18 \n",
       "  \"/>\n",
       "<polyline clip-path=\"url(#clip070)\" style=\"stroke:#000000; stroke-width:4; stroke-opacity:1; fill:none\" points=\"\n",
       "  719.341,1486.45 719.341,1469.18 \n",
       "  \"/>\n",
       "<polyline clip-path=\"url(#clip070)\" style=\"stroke:#000000; stroke-width:4; stroke-opacity:1; fill:none\" points=\"\n",
       "  1242.87,1486.45 1242.87,1469.18 \n",
       "  \"/>\n",
       "<polyline clip-path=\"url(#clip070)\" style=\"stroke:#000000; stroke-width:4; stroke-opacity:1; fill:none\" points=\"\n",
       "  1766.4,1486.45 1766.4,1469.18 \n",
       "  \"/>\n",
       "<polyline clip-path=\"url(#clip070)\" style=\"stroke:#000000; stroke-width:4; stroke-opacity:1; fill:none\" points=\"\n",
       "  2289.93,1486.45 2289.93,1469.18 \n",
       "  \"/>\n",
       "<path clip-path=\"url(#clip070)\" d=\"M 0 0 M177.327 1515.64 Q173.716 1515.64 171.887 1519.2 Q170.082 1522.75 170.082 1529.87 Q170.082 1536.98 171.887 1540.55 Q173.716 1544.09 177.327 1544.09 Q180.961 1544.09 182.767 1540.55 Q184.596 1536.98 184.596 1529.87 Q184.596 1522.75 182.767 1519.2 Q180.961 1515.64 177.327 1515.64 M177.327 1511.93 Q183.137 1511.93 186.193 1516.54 Q189.272 1521.12 189.272 1529.87 Q189.272 1538.6 186.193 1543.21 Q183.137 1547.79 177.327 1547.79 Q171.517 1547.79 168.438 1543.21 Q165.383 1538.6 165.383 1529.87 Q165.383 1521.12 168.438 1516.54 Q171.517 1511.93 177.327 1511.93 Z\" fill=\"#000000\" fill-rule=\"evenodd\" fill-opacity=\"1\" /><path clip-path=\"url(#clip070)\" d=\"M 0 0 M194.341 1541.24 L199.225 1541.24 L199.225 1547.12 L194.341 1547.12 L194.341 1541.24 Z\" fill=\"#000000\" fill-rule=\"evenodd\" fill-opacity=\"1\" /><path clip-path=\"url(#clip070)\" d=\"M 0 0 M214.295 1515.64 Q210.683 1515.64 208.855 1519.2 Q207.049 1522.75 207.049 1529.87 Q207.049 1536.98 208.855 1540.55 Q210.683 1544.09 214.295 1544.09 Q217.929 1544.09 219.734 1540.55 Q221.563 1536.98 221.563 1529.87 Q221.563 1522.75 219.734 1519.2 Q217.929 1515.64 214.295 1515.64 M214.295 1511.93 Q220.105 1511.93 223.16 1516.54 Q226.239 1521.12 226.239 1529.87 Q226.239 1538.6 223.16 1543.21 Q220.105 1547.79 214.295 1547.79 Q208.484 1547.79 205.406 1543.21 Q202.35 1538.6 202.35 1529.87 Q202.35 1521.12 205.406 1516.54 Q208.484 1511.93 214.295 1511.93 Z\" fill=\"#000000\" fill-rule=\"evenodd\" fill-opacity=\"1\" /><path clip-path=\"url(#clip070)\" d=\"M 0 0 M696.008 1543.18 L712.327 1543.18 L712.327 1547.12 L690.383 1547.12 L690.383 1543.18 Q693.045 1540.43 697.628 1535.8 Q702.235 1531.15 703.415 1529.81 Q705.661 1527.28 706.54 1525.55 Q707.443 1523.79 707.443 1522.1 Q707.443 1519.34 705.499 1517.61 Q703.577 1515.87 700.476 1515.87 Q698.277 1515.87 695.823 1516.63 Q693.392 1517.4 690.615 1518.95 L690.615 1514.23 Q693.439 1513.09 695.892 1512.51 Q698.346 1511.93 700.383 1511.93 Q705.753 1511.93 708.948 1514.62 Q712.142 1517.31 712.142 1521.8 Q712.142 1523.93 711.332 1525.85 Q710.545 1527.74 708.439 1530.34 Q707.86 1531.01 704.758 1534.23 Q701.656 1537.42 696.008 1543.18 Z\" fill=\"#000000\" fill-rule=\"evenodd\" fill-opacity=\"1\" /><path clip-path=\"url(#clip070)\" d=\"M 0 0 M717.397 1541.24 L722.281 1541.24 L722.281 1547.12 L717.397 1547.12 L717.397 1541.24 Z\" fill=\"#000000\" fill-rule=\"evenodd\" fill-opacity=\"1\" /><path clip-path=\"url(#clip070)\" d=\"M 0 0 M727.397 1512.56 L745.753 1512.56 L745.753 1516.5 L731.679 1516.5 L731.679 1524.97 Q732.698 1524.62 733.716 1524.46 Q734.735 1524.27 735.753 1524.27 Q741.54 1524.27 744.92 1527.44 Q748.299 1530.62 748.299 1536.03 Q748.299 1541.61 744.827 1544.71 Q741.355 1547.79 735.036 1547.79 Q732.86 1547.79 730.591 1547.42 Q728.346 1547.05 725.938 1546.31 L725.938 1541.61 Q728.022 1542.74 730.244 1543.3 Q732.466 1543.86 734.943 1543.86 Q738.948 1543.86 741.286 1541.75 Q743.624 1539.64 743.624 1536.03 Q743.624 1532.42 741.286 1530.31 Q738.948 1528.21 734.943 1528.21 Q733.068 1528.21 731.193 1528.62 Q729.341 1529.04 727.397 1529.92 L727.397 1512.56 Z\" fill=\"#000000\" fill-rule=\"evenodd\" fill-opacity=\"1\" /><path clip-path=\"url(#clip070)\" d=\"M 0 0 M1214.67 1512.56 L1233.02 1512.56 L1233.02 1516.5 L1218.95 1516.5 L1218.95 1524.97 Q1219.97 1524.62 1220.99 1524.46 Q1222 1524.27 1223.02 1524.27 Q1228.81 1524.27 1232.19 1527.44 Q1235.57 1530.62 1235.57 1536.03 Q1235.57 1541.61 1232.1 1544.71 Q1228.62 1547.79 1222.3 1547.79 Q1220.13 1547.79 1217.86 1547.42 Q1215.61 1547.05 1213.21 1546.31 L1213.21 1541.61 Q1215.29 1542.74 1217.51 1543.3 Q1219.74 1543.86 1222.21 1543.86 Q1226.22 1543.86 1228.55 1541.75 Q1230.89 1539.64 1230.89 1536.03 Q1230.89 1532.42 1228.55 1530.31 Q1226.22 1528.21 1222.21 1528.21 Q1220.34 1528.21 1218.46 1528.62 Q1216.61 1529.04 1214.67 1529.92 L1214.67 1512.56 Z\" fill=\"#000000\" fill-rule=\"evenodd\" fill-opacity=\"1\" /><path clip-path=\"url(#clip070)\" d=\"M 0 0 M1240.64 1541.24 L1245.52 1541.24 L1245.52 1547.12 L1240.64 1547.12 L1240.64 1541.24 Z\" fill=\"#000000\" fill-rule=\"evenodd\" fill-opacity=\"1\" /><path clip-path=\"url(#clip070)\" d=\"M 0 0 M1260.59 1515.64 Q1256.98 1515.64 1255.15 1519.2 Q1253.35 1522.75 1253.35 1529.87 Q1253.35 1536.98 1255.15 1540.55 Q1256.98 1544.09 1260.59 1544.09 Q1264.23 1544.09 1266.03 1540.55 Q1267.86 1536.98 1267.86 1529.87 Q1267.86 1522.75 1266.03 1519.2 Q1264.23 1515.64 1260.59 1515.64 M1260.59 1511.93 Q1266.4 1511.93 1269.46 1516.54 Q1272.54 1521.12 1272.54 1529.87 Q1272.54 1538.6 1269.46 1543.21 Q1266.4 1547.79 1260.59 1547.79 Q1254.78 1547.79 1251.7 1543.21 Q1248.65 1538.6 1248.65 1529.87 Q1248.65 1521.12 1251.7 1516.54 Q1254.78 1511.93 1260.59 1511.93 Z\" fill=\"#000000\" fill-rule=\"evenodd\" fill-opacity=\"1\" /><path clip-path=\"url(#clip070)\" d=\"M 0 0 M1737.3 1512.56 L1759.53 1512.56 L1759.53 1514.55 L1746.98 1547.12 L1742.1 1547.12 L1753.9 1516.5 L1737.3 1516.5 L1737.3 1512.56 Z\" fill=\"#000000\" fill-rule=\"evenodd\" fill-opacity=\"1\" /><path clip-path=\"url(#clip070)\" d=\"M 0 0 M1764.6 1541.24 L1769.48 1541.24 L1769.48 1547.12 L1764.6 1547.12 L1764.6 1541.24 Z\" fill=\"#000000\" fill-rule=\"evenodd\" fill-opacity=\"1\" /><path clip-path=\"url(#clip070)\" d=\"M 0 0 M1774.6 1512.56 L1792.95 1512.56 L1792.95 1516.5 L1778.88 1516.5 L1778.88 1524.97 Q1779.9 1524.62 1780.92 1524.46 Q1781.93 1524.27 1782.95 1524.27 Q1788.74 1524.27 1792.12 1527.44 Q1795.5 1530.62 1795.5 1536.03 Q1795.5 1541.61 1792.03 1544.71 Q1788.55 1547.79 1782.24 1547.79 Q1780.06 1547.79 1777.79 1547.42 Q1775.55 1547.05 1773.14 1546.31 L1773.14 1541.61 Q1775.22 1542.74 1777.44 1543.3 Q1779.67 1543.86 1782.14 1543.86 Q1786.15 1543.86 1788.49 1541.75 Q1790.82 1539.64 1790.82 1536.03 Q1790.82 1532.42 1788.49 1530.31 Q1786.15 1528.21 1782.14 1528.21 Q1780.27 1528.21 1778.39 1528.62 Q1776.54 1529.04 1774.6 1529.92 L1774.6 1512.56 Z\" fill=\"#000000\" fill-rule=\"evenodd\" fill-opacity=\"1\" /><path clip-path=\"url(#clip070)\" d=\"M 0 0 M2248.32 1543.18 L2255.96 1543.18 L2255.96 1516.82 L2247.65 1518.49 L2247.65 1514.23 L2255.92 1512.56 L2260.59 1512.56 L2260.59 1543.18 L2268.23 1543.18 L2268.23 1547.12 L2248.32 1547.12 L2248.32 1543.18 Z\" fill=\"#000000\" fill-rule=\"evenodd\" fill-opacity=\"1\" /><path clip-path=\"url(#clip070)\" d=\"M 0 0 M2283.3 1515.64 Q2279.69 1515.64 2277.86 1519.2 Q2276.06 1522.75 2276.06 1529.87 Q2276.06 1536.98 2277.86 1540.55 Q2279.69 1544.09 2283.3 1544.09 Q2286.93 1544.09 2288.74 1540.55 Q2290.57 1536.98 2290.57 1529.87 Q2290.57 1522.75 2288.74 1519.2 Q2286.93 1515.64 2283.3 1515.64 M2283.3 1511.93 Q2289.11 1511.93 2292.17 1516.54 Q2295.24 1521.12 2295.24 1529.87 Q2295.24 1538.6 2292.17 1543.21 Q2289.11 1547.79 2283.3 1547.79 Q2277.49 1547.79 2274.41 1543.21 Q2271.36 1538.6 2271.36 1529.87 Q2271.36 1521.12 2274.41 1516.54 Q2277.49 1511.93 2283.3 1511.93 Z\" fill=\"#000000\" fill-rule=\"evenodd\" fill-opacity=\"1\" /><path clip-path=\"url(#clip070)\" d=\"M 0 0 M2300.31 1541.24 L2305.2 1541.24 L2305.2 1547.12 L2300.31 1547.12 L2300.31 1541.24 Z\" fill=\"#000000\" fill-rule=\"evenodd\" fill-opacity=\"1\" /><path clip-path=\"url(#clip070)\" d=\"M 0 0 M2320.27 1515.64 Q2316.66 1515.64 2314.83 1519.2 Q2313.02 1522.75 2313.02 1529.87 Q2313.02 1536.98 2314.83 1540.55 Q2316.66 1544.09 2320.27 1544.09 Q2323.9 1544.09 2325.71 1540.55 Q2327.54 1536.98 2327.54 1529.87 Q2327.54 1522.75 2325.71 1519.2 Q2323.9 1515.64 2320.27 1515.64 M2320.27 1511.93 Q2326.08 1511.93 2329.13 1516.54 Q2332.21 1521.12 2332.21 1529.87 Q2332.21 1538.6 2329.13 1543.21 Q2326.08 1547.79 2320.27 1547.79 Q2314.46 1547.79 2311.38 1543.21 Q2308.32 1538.6 2308.32 1529.87 Q2308.32 1521.12 2311.38 1516.54 Q2314.46 1511.93 2320.27 1511.93 Z\" fill=\"#000000\" fill-rule=\"evenodd\" fill-opacity=\"1\" /><polyline clip-path=\"url(#clip072)\" style=\"stroke:#000000; stroke-width:2; stroke-opacity:0.1; fill:none\" points=\"\n",
       "  132.987,1445.72 2352.76,1445.72 \n",
       "  \"/>\n",
       "<polyline clip-path=\"url(#clip072)\" style=\"stroke:#000000; stroke-width:2; stroke-opacity:0.1; fill:none\" points=\"\n",
       "  132.987,1165.97 2352.76,1165.97 \n",
       "  \"/>\n",
       "<polyline clip-path=\"url(#clip072)\" style=\"stroke:#000000; stroke-width:2; stroke-opacity:0.1; fill:none\" points=\"\n",
       "  132.987,886.224 2352.76,886.224 \n",
       "  \"/>\n",
       "<polyline clip-path=\"url(#clip072)\" style=\"stroke:#000000; stroke-width:2; stroke-opacity:0.1; fill:none\" points=\"\n",
       "  132.987,606.478 2352.76,606.478 \n",
       "  \"/>\n",
       "<polyline clip-path=\"url(#clip072)\" style=\"stroke:#000000; stroke-width:2; stroke-opacity:0.1; fill:none\" points=\"\n",
       "  132.987,326.732 2352.76,326.732 \n",
       "  \"/>\n",
       "<polyline clip-path=\"url(#clip070)\" style=\"stroke:#000000; stroke-width:4; stroke-opacity:1; fill:none\" points=\"\n",
       "  132.987,1486.45 132.987,47.2441 \n",
       "  \"/>\n",
       "<polyline clip-path=\"url(#clip070)\" style=\"stroke:#000000; stroke-width:4; stroke-opacity:1; fill:none\" points=\"\n",
       "  132.987,1445.72 159.624,1445.72 \n",
       "  \"/>\n",
       "<polyline clip-path=\"url(#clip070)\" style=\"stroke:#000000; stroke-width:4; stroke-opacity:1; fill:none\" points=\"\n",
       "  132.987,1165.97 159.624,1165.97 \n",
       "  \"/>\n",
       "<polyline clip-path=\"url(#clip070)\" style=\"stroke:#000000; stroke-width:4; stroke-opacity:1; fill:none\" points=\"\n",
       "  132.987,886.224 159.624,886.224 \n",
       "  \"/>\n",
       "<polyline clip-path=\"url(#clip070)\" style=\"stroke:#000000; stroke-width:4; stroke-opacity:1; fill:none\" points=\"\n",
       "  132.987,606.478 159.624,606.478 \n",
       "  \"/>\n",
       "<polyline clip-path=\"url(#clip070)\" style=\"stroke:#000000; stroke-width:4; stroke-opacity:1; fill:none\" points=\"\n",
       "  132.987,326.732 159.624,326.732 \n",
       "  \"/>\n",
       "<path clip-path=\"url(#clip070)\" d=\"M 0 0 M85.0429 1431.51 Q81.4318 1431.51 79.6031 1435.08 Q77.7975 1438.62 77.7975 1445.75 Q77.7975 1452.86 79.6031 1456.42 Q81.4318 1459.96 85.0429 1459.96 Q88.6771 1459.96 90.4827 1456.42 Q92.3113 1452.86 92.3113 1445.75 Q92.3113 1438.62 90.4827 1435.08 Q88.6771 1431.51 85.0429 1431.51 M85.0429 1427.81 Q90.853 1427.81 93.9086 1432.42 Q96.9872 1437 96.9872 1445.75 Q96.9872 1454.48 93.9086 1459.08 Q90.853 1463.67 85.0429 1463.67 Q79.2327 1463.67 76.154 1459.08 Q73.0985 1454.48 73.0985 1445.75 Q73.0985 1437 76.154 1432.42 Q79.2327 1427.81 85.0429 1427.81 Z\" fill=\"#000000\" fill-rule=\"evenodd\" fill-opacity=\"1\" /><path clip-path=\"url(#clip070)\" d=\"M 0 0 M89.8577 1164.62 Q93.2141 1165.33 95.0891 1167.6 Q96.9872 1169.87 96.9872 1173.2 Q96.9872 1178.32 93.4688 1181.12 Q89.9503 1183.92 83.4688 1183.92 Q81.2929 1183.92 78.9781 1183.48 Q76.6864 1183.06 74.2327 1182.21 L74.2327 1177.69 Q76.1772 1178.83 78.492 1179.41 Q80.8068 1179.99 83.3299 1179.99 Q87.728 1179.99 90.0197 1178.25 Q92.3345 1176.51 92.3345 1173.2 Q92.3345 1170.15 90.1817 1168.44 Q88.0521 1166.7 84.2327 1166.7 L80.2049 1166.7 L80.2049 1162.86 L84.4179 1162.86 Q87.8669 1162.86 89.6956 1161.49 Q91.5243 1160.1 91.5243 1157.51 Q91.5243 1154.85 89.6262 1153.44 Q87.7512 1152 84.2327 1152 Q82.3114 1152 80.1123 1152.42 Q77.9133 1152.83 75.2744 1153.71 L75.2744 1149.55 Q77.9364 1148.81 80.2512 1148.44 Q82.5892 1148.06 84.6494 1148.06 Q89.9734 1148.06 93.0752 1150.5 Q96.1771 1152.9 96.1771 1157.02 Q96.1771 1159.89 94.5336 1161.88 Q92.89 1163.85 89.8577 1164.62 Z\" fill=\"#000000\" fill-rule=\"evenodd\" fill-opacity=\"1\" /><path clip-path=\"url(#clip070)\" d=\"M 0 0 M85.4595 884.361 Q82.3114 884.361 80.4596 886.513 Q78.6309 888.666 78.6309 892.416 Q78.6309 896.143 80.4596 898.319 Q82.3114 900.472 85.4595 900.472 Q88.6077 900.472 90.4364 898.319 Q92.2882 896.143 92.2882 892.416 Q92.2882 888.666 90.4364 886.513 Q88.6077 884.361 85.4595 884.361 M94.7419 869.708 L94.7419 873.967 Q92.9826 873.134 91.1771 872.694 Q89.3947 872.254 87.6354 872.254 Q83.0058 872.254 80.5522 875.379 Q78.1216 878.504 77.7744 884.823 Q79.1401 882.81 81.2003 881.745 Q83.2605 880.657 85.7373 880.657 Q90.9456 880.657 93.9549 883.828 Q96.9872 886.976 96.9872 892.416 Q96.9872 897.74 93.8391 900.958 Q90.691 904.175 85.4595 904.175 Q79.4642 904.175 76.2929 899.592 Q73.1216 894.985 73.1216 886.259 Q73.1216 878.064 77.0105 873.203 Q80.8994 868.319 87.4503 868.319 Q89.2095 868.319 90.9919 868.666 Q92.7975 869.013 94.7419 869.708 Z\" fill=\"#000000\" fill-rule=\"evenodd\" fill-opacity=\"1\" /><path clip-path=\"url(#clip070)\" d=\"M 0 0 M75.367 623.04 L75.367 618.781 Q77.1262 619.615 78.9318 620.054 Q80.7373 620.494 82.4734 620.494 Q87.103 620.494 89.5336 617.392 Q91.9873 614.267 92.3345 607.925 Q90.9919 609.916 88.9317 610.98 Q86.8716 612.045 84.3716 612.045 Q79.1864 612.045 76.154 608.92 Q73.1448 605.772 73.1448 600.332 Q73.1448 595.008 76.2929 591.791 Q79.441 588.573 84.6725 588.573 Q90.6678 588.573 93.816 593.18 Q96.9872 597.763 96.9872 606.513 Q96.9872 614.684 93.0984 619.568 Q89.2327 624.429 82.6818 624.429 Q80.9225 624.429 79.117 624.082 Q77.3114 623.735 75.367 623.04 M84.6725 608.388 Q87.8206 608.388 89.6493 606.235 Q91.5012 604.082 91.5012 600.332 Q91.5012 596.605 89.6493 594.453 Q87.8206 592.277 84.6725 592.277 Q81.5244 592.277 79.6725 594.453 Q77.8438 596.605 77.8438 600.332 Q77.8438 604.082 79.6725 606.235 Q81.5244 608.388 84.6725 608.388 Z\" fill=\"#000000\" fill-rule=\"evenodd\" fill-opacity=\"1\" /><path clip-path=\"url(#clip070)\" d=\"M 0 0 M51.6634 340.077 L59.3023 340.077 L59.3023 313.711 L50.9921 315.378 L50.9921 311.119 L59.256 309.452 L63.9319 309.452 L63.9319 340.077 L71.5707 340.077 L71.5707 344.012 L51.6634 344.012 L51.6634 340.077 Z\" fill=\"#000000\" fill-rule=\"evenodd\" fill-opacity=\"1\" /><path clip-path=\"url(#clip070)\" d=\"M 0 0 M80.6679 340.077 L96.9872 340.077 L96.9872 344.012 L75.0429 344.012 L75.0429 340.077 Q77.7049 337.322 82.2883 332.693 Q86.8947 328.04 88.0753 326.697 Q90.3206 324.174 91.2002 322.438 Q92.103 320.679 92.103 318.989 Q92.103 316.235 90.1586 314.498 Q88.2373 312.762 85.1355 312.762 Q82.9364 312.762 80.4827 313.526 Q78.0522 314.29 75.2744 315.841 L75.2744 311.119 Q78.0985 309.985 80.5522 309.406 Q83.0058 308.827 85.0429 308.827 Q90.4132 308.827 93.6076 311.512 Q96.8021 314.198 96.8021 318.688 Q96.8021 320.818 95.9919 322.739 Q95.2049 324.637 93.0984 327.23 Q92.5197 327.901 89.4178 331.119 Q86.316 334.313 80.6679 340.077 Z\" fill=\"#000000\" fill-rule=\"evenodd\" fill-opacity=\"1\" /><polyline clip-path=\"url(#clip072)\" style=\"stroke:#009af9; stroke-width:4; stroke-opacity:1; fill:none\" points=\"\n",
       "  195.811,1445.72 197.905,730.882 199.999,380.069 202.093,210.969 204.187,132.55 206.281,99.3584 208.376,88.6995 210.47,89.2408 212.564,95.3244 214.658,104.126 \n",
       "  216.752,114.235 218.846,124.948 220.94,135.914 223.034,146.958 225.129,157.994 227.223,168.978 229.317,179.889 231.411,190.718 233.505,201.459 235.599,212.111 \n",
       "  237.693,222.674 239.787,233.146 241.882,243.529 243.976,253.823 246.07,264.03 248.164,274.148 250.258,284.181 252.352,294.127 254.446,303.988 256.54,313.765 \n",
       "  258.635,323.458 260.729,333.068 262.823,342.596 264.917,352.042 267.011,361.407 269.105,370.692 271.199,379.898 273.293,389.025 275.388,398.073 277.482,407.044 \n",
       "  279.576,415.939 281.67,424.757 283.764,433.499 285.858,442.167 287.952,450.761 290.046,459.28 292.14,467.727 294.235,476.102 296.329,484.405 298.423,492.637 \n",
       "  300.517,500.798 302.611,508.89 304.705,516.912 306.799,524.865 308.893,532.751 310.988,540.568 313.082,548.319 315.176,556.004 317.27,563.623 319.364,571.176 \n",
       "  321.458,578.665 323.552,586.089 325.646,593.451 327.741,600.749 329.835,607.984 331.929,615.158 334.023,622.27 336.117,629.321 338.211,636.312 340.305,643.243 \n",
       "  342.399,650.115 344.494,656.928 346.588,663.682 348.682,670.379 350.776,677.018 352.87,683.601 354.964,690.127 357.058,696.597 359.152,703.012 361.246,709.372 \n",
       "  363.341,715.677 365.435,721.928 367.529,728.126 369.623,734.271 371.717,740.363 373.811,746.403 375.905,752.392 377.999,758.329 380.094,764.215 382.188,770.051 \n",
       "  384.282,775.836 386.376,781.573 388.47,787.26 390.564,792.898 392.658,798.488 394.752,804.031 396.847,809.525 398.941,814.973 401.035,820.374 403.129,825.729 \n",
       "  405.223,831.038 407.317,836.302 409.411,841.52 411.505,846.694 413.6,851.824 415.694,856.909 417.788,861.951 419.882,866.95 421.976,871.906 424.07,876.82 \n",
       "  426.164,881.691 428.258,886.521 430.352,891.309 432.447,896.057 434.541,900.764 436.635,905.43 438.729,910.057 440.823,914.644 442.917,919.191 445.011,923.7 \n",
       "  447.105,928.17 449.2,932.602 451.294,936.996 453.388,941.352 455.482,945.671 457.576,949.953 459.67,954.198 461.764,958.407 463.858,962.58 465.953,966.717 \n",
       "  468.047,970.819 470.141,974.885 472.235,978.917 474.329,982.914 476.423,986.877 478.517,990.807 480.611,994.702 482.706,998.564 484.8,1002.39 486.894,1006.19 \n",
       "  488.988,1009.95 491.082,1013.68 493.176,1017.38 495.27,1021.05 497.364,1024.69 499.458,1028.29 501.553,1031.87 503.647,1035.41 505.741,1038.93 507.835,1042.41 \n",
       "  509.929,1045.86 512.023,1049.29 514.117,1052.68 516.211,1056.05 518.306,1059.38 520.4,1062.69 522.494,1065.97 524.588,1069.22 526.682,1072.45 528.776,1075.64 \n",
       "  530.87,1078.81 532.964,1081.95 535.059,1085.07 537.153,1088.16 539.247,1091.22 541.341,1094.26 543.435,1097.26 545.529,1100.25 547.623,1103.21 549.717,1106.14 \n",
       "  551.812,1109.05 553.906,1111.93 556,1114.79 558.094,1117.62 560.188,1120.43 562.282,1123.22 564.376,1125.98 566.47,1128.72 568.564,1131.43 570.659,1134.12 \n",
       "  572.753,1136.79 574.847,1139.44 576.941,1142.06 579.035,1144.66 581.129,1147.24 583.223,1149.79 585.317,1152.33 587.412,1154.84 589.506,1157.33 591.6,1159.8 \n",
       "  593.694,1162.25 595.788,1164.68 597.882,1167.08 599.976,1169.47 602.07,1171.83 604.165,1174.18 606.259,1176.5 608.353,1178.81 610.447,1181.09 612.541,1183.36 \n",
       "  614.635,1185.61 616.729,1187.83 618.823,1190.04 620.918,1192.23 623.012,1194.4 625.106,1196.56 627.2,1198.69 629.294,1200.8 631.388,1202.9 633.482,1204.98 \n",
       "  635.576,1207.04 637.671,1209.09 639.765,1211.11 641.859,1213.12 643.953,1215.11 646.047,1217.09 648.141,1219.05 650.235,1220.99 652.329,1222.91 654.423,1224.82 \n",
       "  656.518,1226.71 658.612,1228.59 660.706,1230.44 662.8,1232.29 664.894,1234.12 666.988,1235.93 669.082,1237.72 671.176,1239.51 673.271,1241.27 675.365,1243.02 \n",
       "  677.459,1244.76 679.553,1246.48 681.647,1248.18 683.741,1249.88 685.835,1251.55 687.929,1253.22 690.024,1254.86 692.118,1256.5 694.212,1258.12 696.306,1259.72 \n",
       "  698.4,1261.32 700.494,1262.9 702.588,1264.46 704.682,1266.01 706.777,1267.55 708.871,1269.08 710.965,1270.59 713.059,1272.09 715.153,1273.58 717.247,1275.05 \n",
       "  719.341,1276.51 721.435,1277.96 723.529,1279.4 725.624,1280.82 727.718,1282.23 729.812,1283.63 731.906,1285.02 734,1286.4 736.094,1287.76 738.188,1289.12 \n",
       "  740.282,1290.46 742.377,1291.79 744.471,1293.1 746.565,1294.41 748.659,1295.71 750.753,1296.99 752.847,1298.26 754.941,1299.53 757.035,1300.78 759.13,1302.02 \n",
       "  761.224,1303.25 763.318,1304.47 765.412,1305.68 767.506,1306.88 769.6,1308.07 771.694,1309.25 773.788,1310.42 775.883,1311.57 777.977,1312.72 780.071,1313.86 \n",
       "  782.165,1314.99 784.259,1316.11 786.353,1317.22 788.447,1318.32 790.541,1319.41 792.635,1320.49 794.73,1321.56 796.824,1322.63 798.918,1323.68 801.012,1324.73 \n",
       "  803.106,1325.76 805.2,1326.79 807.294,1327.81 809.388,1328.82 811.483,1329.82 813.577,1330.81 815.671,1331.8 817.765,1332.77 819.859,1333.74 821.953,1334.7 \n",
       "  824.047,1335.65 826.141,1336.59 828.236,1337.52 830.33,1338.45 832.424,1339.37 834.518,1340.28 836.612,1341.18 838.706,1342.08 840.8,1342.97 842.894,1343.85 \n",
       "  844.989,1344.72 847.083,1345.58 849.177,1346.44 851.271,1347.29 853.365,1348.13 855.459,1348.97 857.553,1349.8 859.647,1350.62 861.741,1351.43 863.836,1352.24 \n",
       "  865.93,1353.04 868.024,1353.83 870.118,1354.62 872.212,1355.4 874.306,1356.17 876.4,1356.94 878.494,1357.7 880.589,1358.46 882.683,1359.2 884.777,1359.94 \n",
       "  886.871,1360.68 888.965,1361.41 891.059,1362.13 893.153,1362.84 895.247,1363.55 897.342,1364.26 899.436,1364.95 901.53,1365.65 903.624,1366.33 905.718,1367.01 \n",
       "  907.812,1367.69 909.906,1368.35 912,1369.02 914.095,1369.67 916.189,1370.32 918.283,1370.97 920.377,1371.61 922.471,1372.24 924.565,1372.87 926.659,1373.5 \n",
       "  928.753,1374.12 930.847,1374.73 932.942,1375.34 935.036,1375.94 937.13,1376.54 939.224,1377.13 941.318,1377.72 943.412,1378.3 945.506,1378.88 947.6,1379.45 \n",
       "  949.695,1380.02 951.789,1380.58 953.883,1381.14 955.977,1381.69 958.071,1382.24 960.165,1382.78 962.259,1383.32 964.353,1383.85 966.448,1384.38 968.542,1384.91 \n",
       "  970.636,1385.43 972.73,1385.95 974.824,1386.46 976.918,1386.97 979.012,1387.47 981.106,1387.97 983.201,1388.46 985.295,1388.95 987.389,1389.44 989.483,1389.92 \n",
       "  991.577,1390.4 993.671,1390.87 995.765,1391.34 997.859,1391.81 999.953,1392.27 1002.05,1392.73 1004.14,1393.18 1006.24,1393.63 1008.33,1394.08 1010.42,1394.52 \n",
       "  1012.52,1394.96 1014.61,1395.39 1016.71,1395.82 1018.8,1396.25 1020.89,1396.67 1022.99,1397.09 1025.08,1397.51 1027.18,1397.92 1029.27,1398.33 1031.37,1398.74 \n",
       "  1033.46,1399.14 1035.55,1399.54 1037.65,1399.93 1039.74,1400.33 1041.84,1400.71 1043.93,1401.1 1046.02,1401.48 1048.12,1401.86 1050.21,1402.24 1052.31,1402.61 \n",
       "  1054.4,1402.98 1056.49,1403.34 1058.59,1403.71 1060.68,1404.07 1062.78,1404.42 1064.87,1404.78 1066.97,1405.13 1069.06,1405.47 1071.15,1405.82 1073.25,1406.16 \n",
       "  1075.34,1406.5 1077.44,1406.84 1079.53,1407.17 1081.62,1407.5 1083.72,1407.83 1085.81,1408.15 1087.91,1408.47 1090,1408.79 1092.09,1409.11 1094.19,1409.42 \n",
       "  1096.28,1409.73 1098.38,1410.04 1100.47,1410.34 1102.57,1410.65 1104.66,1410.95 1106.75,1411.25 1108.85,1411.54 1110.94,1411.83 1113.04,1412.12 1115.13,1412.41 \n",
       "  1117.22,1412.7 1119.32,1412.98 1121.41,1413.26 1123.51,1413.54 1125.6,1413.81 1127.69,1414.09 1129.79,1414.36 1131.88,1414.63 1133.98,1414.89 1136.07,1415.16 \n",
       "  1138.17,1415.42 1140.26,1415.68 1142.35,1415.93 1144.45,1416.19 1146.54,1416.44 1148.64,1416.69 1150.73,1416.94 1152.82,1417.19 1154.92,1417.43 1157.01,1417.67 \n",
       "  1159.11,1417.91 1161.2,1418.15 1163.29,1418.39 1165.39,1418.62 1167.48,1418.85 1169.58,1419.08 1171.67,1419.31 1173.77,1419.54 1175.86,1419.76 1177.95,1419.98 \n",
       "  1180.05,1420.2 1182.14,1420.42 1184.24,1420.64 1186.33,1420.85 1188.42,1421.07 1190.52,1421.28 1192.61,1421.49 1194.71,1421.7 1196.8,1421.9 1198.9,1422.11 \n",
       "  1200.99,1422.31 1203.08,1422.51 1205.18,1422.71 1207.27,1422.9 1209.37,1423.1 1211.46,1423.29 1213.55,1423.48 1215.65,1423.67 1217.74,1423.86 1219.84,1424.05 \n",
       "  1221.93,1424.24 1224.02,1424.42 1226.12,1424.6 1228.21,1424.78 1230.31,1424.96 1232.4,1425.14 1234.5,1425.32 1236.59,1425.49 1238.68,1425.66 1240.78,1425.84 \n",
       "  1242.87,1426.01 1244.97,1426.18 1247.06,1426.34 1249.15,1426.51 1251.25,1426.67 1253.34,1426.84 1255.44,1427 1257.53,1427.16 1259.62,1427.32 1261.72,1427.47 \n",
       "  1263.81,1427.63 1265.91,1427.79 1268,1427.94 1270.1,1428.09 1272.19,1428.24 1274.28,1428.39 1276.38,1428.54 1278.47,1428.69 1280.57,1428.83 1282.66,1428.98 \n",
       "  1284.75,1429.12 1286.85,1429.26 1288.94,1429.4 1291.04,1429.54 1293.13,1429.68 1295.22,1429.82 1297.32,1429.96 1299.41,1430.09 1301.51,1430.22 1303.6,1430.36 \n",
       "  1305.7,1430.49 1307.79,1430.62 1309.88,1430.75 1311.98,1430.88 1314.07,1431 1316.17,1431.13 1318.26,1431.25 1320.35,1431.38 1322.45,1431.5 1324.54,1431.62 \n",
       "  1326.64,1431.74 1328.73,1431.86 1330.82,1431.98 1332.92,1432.1 1335.01,1432.22 1337.11,1432.33 1339.2,1432.45 1341.3,1432.56 1343.39,1432.67 1345.48,1432.78 \n",
       "  1347.58,1432.89 1349.67,1433 1351.77,1433.11 1353.86,1433.22 1355.95,1433.33 1358.05,1433.43 1360.14,1433.54 1362.24,1433.64 1364.33,1433.75 1366.42,1433.85 \n",
       "  1368.52,1433.95 1370.61,1434.05 1372.71,1434.15 1374.8,1434.25 1376.9,1434.35 1378.99,1434.45 1381.08,1434.54 1383.18,1434.64 1385.27,1434.73 1387.37,1434.83 \n",
       "  1389.46,1434.92 1391.55,1435.01 1393.65,1435.1 1395.74,1435.2 1397.84,1435.29 1399.93,1435.37 1402.02,1435.46 1404.12,1435.55 1406.21,1435.64 1408.31,1435.72 \n",
       "  1410.4,1435.81 1412.5,1435.89 1414.59,1435.98 1416.68,1436.06 1418.78,1436.15 1420.87,1436.23 1422.97,1436.31 1425.06,1436.39 1427.15,1436.47 1429.25,1436.55 \n",
       "  1431.34,1436.63 1433.44,1436.7 1435.53,1436.78 1437.62,1436.86 1439.72,1436.93 1441.81,1437.01 1443.91,1437.08 1446,1437.16 1448.1,1437.23 1450.19,1437.3 \n",
       "  1452.28,1437.38 1454.38,1437.45 1456.47,1437.52 1458.57,1437.59 1460.66,1437.66 1462.75,1437.73 1464.85,1437.79 1466.94,1437.86 1469.04,1437.93 1471.13,1438 \n",
       "  1473.22,1438.06 1475.32,1438.13 1477.41,1438.19 1479.51,1438.26 1481.6,1438.32 1483.7,1438.38 1485.79,1438.45 1487.88,1438.51 1489.98,1438.57 1492.07,1438.63 \n",
       "  1494.17,1438.69 1496.26,1438.75 1498.35,1438.81 1500.45,1438.87 1502.54,1438.93 1504.64,1438.99 1506.73,1439.05 1508.82,1439.1 1510.92,1439.16 1513.01,1439.22 \n",
       "  1515.11,1439.27 1517.2,1439.33 1519.3,1439.38 1521.39,1439.44 1523.48,1439.49 1525.58,1439.54 1527.67,1439.6 1529.77,1439.65 1531.86,1439.7 1533.95,1439.75 \n",
       "  1536.05,1439.8 1538.14,1439.85 1540.24,1439.9 1542.33,1439.95 1544.43,1440 1546.52,1440.05 1548.61,1440.1 1550.71,1440.15 1552.8,1440.2 1554.9,1440.24 \n",
       "  1556.99,1440.29 1559.08,1440.34 1561.18,1440.38 1563.27,1440.43 1565.37,1440.47 1567.46,1440.52 1569.55,1440.56 1571.65,1440.61 1573.74,1440.65 1575.84,1440.69 \n",
       "  1577.93,1440.74 1580.03,1440.78 1582.12,1440.82 1584.21,1440.86 1586.31,1440.91 1588.4,1440.95 1590.5,1440.99 1592.59,1441.03 1594.68,1441.07 1596.78,1441.11 \n",
       "  1598.87,1441.15 1600.97,1441.19 1603.06,1441.23 1605.15,1441.26 1607.25,1441.3 1609.34,1441.34 1611.44,1441.38 1613.53,1441.41 1615.63,1441.45 1617.72,1441.49 \n",
       "  1619.81,1441.52 1621.91,1441.56 1624,1441.6 1626.1,1441.63 1628.19,1441.67 1630.28,1441.7 1632.38,1441.73 1634.47,1441.77 1636.57,1441.8 1638.66,1441.84 \n",
       "  1640.75,1441.87 1642.85,1441.9 1644.94,1441.94 1647.04,1441.97 1649.13,1442 1651.23,1442.03 1653.32,1442.06 1655.41,1442.09 1657.51,1442.13 1659.6,1442.16 \n",
       "  1661.7,1442.19 1663.79,1442.22 1665.88,1442.25 1667.98,1442.28 1670.07,1442.31 1672.17,1442.33 1674.26,1442.36 1676.35,1442.39 1678.45,1442.42 1680.54,1442.45 \n",
       "  1682.64,1442.48 1684.73,1442.5 1686.83,1442.53 1688.92,1442.56 1691.01,1442.59 1693.11,1442.61 1695.2,1442.64 1697.3,1442.67 1699.39,1442.69 1701.48,1442.72 \n",
       "  1703.58,1442.74 1705.67,1442.77 1707.77,1442.79 1709.86,1442.82 1711.95,1442.84 1714.05,1442.87 1716.14,1442.89 1718.24,1442.92 1720.33,1442.94 1722.43,1442.97 \n",
       "  1724.52,1442.99 1726.61,1443.01 1728.71,1443.04 1730.8,1443.06 1732.9,1443.08 1734.99,1443.1 1737.08,1443.13 1739.18,1443.15 1741.27,1443.17 1743.37,1443.19 \n",
       "  1745.46,1443.21 1747.55,1443.24 1749.65,1443.26 1751.74,1443.28 1753.84,1443.3 1755.93,1443.32 1758.03,1443.34 1760.12,1443.36 1762.21,1443.38 1764.31,1443.4 \n",
       "  1766.4,1443.42 1768.5,1443.44 1770.59,1443.46 1772.68,1443.48 1774.78,1443.5 1776.87,1443.52 1778.97,1443.54 1781.06,1443.55 1783.15,1443.57 1785.25,1443.59 \n",
       "  1787.34,1443.61 1789.44,1443.63 1791.53,1443.64 1793.63,1443.66 1795.72,1443.68 1797.81,1443.7 1799.91,1443.71 1802,1443.73 1804.1,1443.75 1806.19,1443.77 \n",
       "  1808.28,1443.78 1810.38,1443.8 1812.47,1443.82 1814.57,1443.83 1816.66,1443.85 1818.75,1443.86 1820.85,1443.88 1822.94,1443.9 1825.04,1443.91 1827.13,1443.93 \n",
       "  1829.23,1443.94 1831.32,1443.96 1833.41,1443.97 1835.51,1443.99 1837.6,1444 1839.7,1444.02 1841.79,1444.03 1843.88,1444.05 1845.98,1444.06 1848.07,1444.07 \n",
       "  1850.17,1444.09 1852.26,1444.1 1854.36,1444.12 1856.45,1444.13 1858.54,1444.14 1860.64,1444.16 1862.73,1444.17 1864.83,1444.18 1866.92,1444.2 1869.01,1444.21 \n",
       "  1871.11,1444.22 1873.2,1444.24 1875.3,1444.25 1877.39,1444.26 1879.48,1444.27 1881.58,1444.29 1883.67,1444.3 1885.77,1444.31 1887.86,1444.32 1889.96,1444.33 \n",
       "  1892.05,1444.35 1894.14,1444.36 1896.24,1444.37 1898.33,1444.38 1900.43,1444.39 1902.52,1444.4 1904.61,1444.41 1906.71,1444.43 1908.8,1444.44 1910.9,1444.45 \n",
       "  1912.99,1444.46 1915.08,1444.47 1917.18,1444.48 1919.27,1444.49 1921.37,1444.5 1923.46,1444.51 1925.56,1444.52 1927.65,1444.53 1929.74,1444.54 1931.84,1444.55 \n",
       "  1933.93,1444.56 1936.03,1444.57 1938.12,1444.58 1940.21,1444.59 1942.31,1444.6 1944.4,1444.61 1946.5,1444.62 1948.59,1444.63 1950.68,1444.64 1952.78,1444.65 \n",
       "  1954.87,1444.66 1956.97,1444.67 1959.06,1444.67 1961.16,1444.68 1963.25,1444.69 1965.34,1444.7 1967.44,1444.71 1969.53,1444.72 1971.63,1444.73 1973.72,1444.74 \n",
       "  1975.81,1444.74 1977.91,1444.75 1980,1444.76 1982.1,1444.77 1984.19,1444.78 1986.28,1444.79 1988.38,1444.79 1990.47,1444.8 1992.57,1444.81 1994.66,1444.82 \n",
       "  1996.76,1444.82 1998.85,1444.83 2000.94,1444.84 2003.04,1444.85 2005.13,1444.85 2007.23,1444.86 2009.32,1444.87 2011.41,1444.88 2013.51,1444.88 2015.6,1444.89 \n",
       "  2017.7,1444.9 2019.79,1444.9 2021.88,1444.91 2023.98,1444.92 2026.07,1444.93 2028.17,1444.93 2030.26,1444.94 2032.36,1444.95 2034.45,1444.95 2036.54,1444.96 \n",
       "  2038.64,1444.97 2040.73,1444.97 2042.83,1444.98 2044.92,1444.98 2047.01,1444.99 2049.11,1445 2051.2,1445 2053.3,1445.01 2055.39,1445.02 2057.48,1445.02 \n",
       "  2059.58,1445.03 2061.67,1445.03 2063.77,1445.04 2065.86,1445.04 2067.96,1445.05 2070.05,1445.06 2072.14,1445.06 2074.24,1445.07 2076.33,1445.07 2078.43,1445.08 \n",
       "  2080.52,1445.08 2082.61,1445.09 2084.71,1445.09 2086.8,1445.1 2088.9,1445.11 2090.99,1445.11 2093.08,1445.12 2095.18,1445.12 2097.27,1445.13 2099.37,1445.13 \n",
       "  2101.46,1445.14 2103.56,1445.14 2105.65,1445.15 2107.74,1445.15 2109.84,1445.16 2111.93,1445.16 2114.03,1445.16 2116.12,1445.17 2118.21,1445.17 2120.31,1445.18 \n",
       "  2122.4,1445.18 2124.5,1445.19 2126.59,1445.19 2128.68,1445.2 2130.78,1445.2 2132.87,1445.21 2134.97,1445.21 2137.06,1445.21 2139.16,1445.22 2141.25,1445.22 \n",
       "  2143.34,1445.23 2145.44,1445.23 2147.53,1445.24 2149.63,1445.24 2151.72,1445.24 2153.81,1445.25 2155.91,1445.25 2158,1445.26 2160.1,1445.26 2162.19,1445.26 \n",
       "  2164.28,1445.27 2166.38,1445.27 2168.47,1445.28 2170.57,1445.28 2172.66,1445.28 2174.76,1445.29 2176.85,1445.29 2178.94,1445.29 2181.04,1445.3 2183.13,1445.3 \n",
       "  2185.23,1445.3 2187.32,1445.31 2189.41,1445.31 2191.51,1445.32 2193.6,1445.32 2195.7,1445.32 2197.79,1445.33 2199.89,1445.33 2201.98,1445.33 2204.07,1445.34 \n",
       "  2206.17,1445.34 2208.26,1445.34 2210.36,1445.34 2212.45,1445.35 2214.54,1445.35 2216.64,1445.35 2218.73,1445.36 2220.83,1445.36 2222.92,1445.36 2225.01,1445.37 \n",
       "  2227.11,1445.37 2229.2,1445.37 2231.3,1445.38 2233.39,1445.38 2235.49,1445.38 2237.58,1445.38 2239.67,1445.39 2241.77,1445.39 2243.86,1445.39 2245.96,1445.4 \n",
       "  2248.05,1445.4 2250.14,1445.4 2252.24,1445.4 2254.33,1445.41 2256.43,1445.41 2258.52,1445.41 2260.61,1445.41 2262.71,1445.42 2264.8,1445.42 2266.9,1445.42 \n",
       "  2268.99,1445.42 2271.09,1445.43 2273.18,1445.43 2275.27,1445.43 2277.37,1445.43 2279.46,1445.44 2281.56,1445.44 2283.65,1445.44 2285.74,1445.44 2287.84,1445.45 \n",
       "  2289.93,1445.45 \n",
       "  \"/>\n",
       "<circle clip-path=\"url(#clip072)\" cx=\"209.218\" cy=\"87.9763\" r=\"14\" fill=\"#ffff00\" fill-rule=\"evenodd\" fill-opacity=\"1\" stroke=\"#000000\" stroke-opacity=\"1\" stroke-width=\"3.2\"/>\n",
       "<path clip-path=\"url(#clip070)\" d=\"\n",
       "M1643.51 276.658 L2278.76 276.658 L2278.76 95.2176 L1643.51 95.2176  Z\n",
       "  \" fill=\"#ffffff\" fill-rule=\"evenodd\" fill-opacity=\"1\"/>\n",
       "<polyline clip-path=\"url(#clip070)\" style=\"stroke:#000000; stroke-width:4; stroke-opacity:1; fill:none\" points=\"\n",
       "  1643.51,276.658 2278.76,276.658 2278.76,95.2176 1643.51,95.2176 1643.51,276.658 \n",
       "  \"/>\n",
       "<polyline clip-path=\"url(#clip070)\" style=\"stroke:#009af9; stroke-width:4; stroke-opacity:1; fill:none\" points=\"\n",
       "  1668.18,155.698 1816.16,155.698 \n",
       "  \"/>\n",
       "<path clip-path=\"url(#clip070)\" d=\"M 0 0 M1840.83 147.052 L1845.09 147.052 L1850.41 167.283 L1855.71 147.052 L1860.73 147.052 L1866.06 167.283 L1871.36 147.052 L1875.62 147.052 L1868.84 172.978 L1863.81 172.978 L1858.23 151.728 L1852.63 172.978 L1847.61 172.978 L1840.83 147.052 Z\" fill=\"#000000\" fill-rule=\"evenodd\" fill-opacity=\"1\" /><path clip-path=\"url(#clip070)\" d=\"M 0 0 M1891.87 159.945 Q1886.71 159.945 1884.72 161.126 Q1882.72 162.306 1882.72 165.154 Q1882.72 167.422 1884.21 168.765 Q1885.71 170.084 1888.28 170.084 Q1891.82 170.084 1893.95 167.584 Q1896.1 165.061 1896.1 160.894 L1896.1 159.945 L1891.87 159.945 M1900.36 158.186 L1900.36 172.978 L1896.1 172.978 L1896.1 169.042 Q1894.65 171.403 1892.47 172.538 Q1890.29 173.649 1887.15 173.649 Q1883.16 173.649 1880.8 171.427 Q1878.47 169.181 1878.47 165.431 Q1878.47 161.056 1881.38 158.834 Q1884.32 156.612 1890.13 156.612 L1896.1 156.612 L1896.1 156.195 Q1896.1 153.255 1894.16 151.658 Q1892.24 150.038 1888.74 150.038 Q1886.52 150.038 1884.41 150.57 Q1882.31 151.103 1880.36 152.167 L1880.36 148.232 Q1882.7 147.33 1884.9 146.89 Q1887.1 146.427 1889.18 146.427 Q1894.81 146.427 1897.59 149.343 Q1900.36 152.26 1900.36 158.186 Z\" fill=\"#000000\" fill-rule=\"evenodd\" fill-opacity=\"1\" /><path clip-path=\"url(#clip070)\" d=\"M 0 0 M1919.85 151.033 Q1919.14 150.617 1918.28 150.431 Q1917.45 150.223 1916.43 150.223 Q1912.82 150.223 1910.87 152.584 Q1908.95 154.922 1908.95 159.32 L1908.95 172.978 L1904.67 172.978 L1904.67 147.052 L1908.95 147.052 L1908.95 151.08 Q1910.29 148.718 1912.45 147.584 Q1914.6 146.427 1917.68 146.427 Q1918.12 146.427 1918.65 146.496 Q1919.18 146.543 1919.83 146.658 L1919.85 151.033 Z\" fill=\"#000000\" fill-rule=\"evenodd\" fill-opacity=\"1\" /><path clip-path=\"url(#clip070)\" d=\"M 0 0 M1928.53 139.691 L1928.53 147.052 L1937.31 147.052 L1937.31 150.362 L1928.53 150.362 L1928.53 164.436 Q1928.53 167.607 1929.39 168.51 Q1930.27 169.413 1932.93 169.413 L1937.31 169.413 L1937.31 172.978 L1932.93 172.978 Q1928 172.978 1926.13 171.149 Q1924.25 169.297 1924.25 164.436 L1924.25 150.362 L1921.13 150.362 L1921.13 147.052 L1924.25 147.052 L1924.25 139.691 L1928.53 139.691 Z\" fill=\"#000000\" fill-rule=\"evenodd\" fill-opacity=\"1\" /><path clip-path=\"url(#clip070)\" d=\"M 0 0 M1951.82 150.038 Q1948.4 150.038 1946.4 152.723 Q1944.41 155.385 1944.41 160.038 Q1944.41 164.691 1946.38 167.376 Q1948.37 170.038 1951.82 170.038 Q1955.22 170.038 1957.21 167.353 Q1959.21 164.667 1959.21 160.038 Q1959.21 155.431 1957.21 152.746 Q1955.22 150.038 1951.82 150.038 M1951.82 146.427 Q1957.38 146.427 1960.55 150.038 Q1963.72 153.649 1963.72 160.038 Q1963.72 166.404 1960.55 170.038 Q1957.38 173.649 1951.82 173.649 Q1946.24 173.649 1943.07 170.038 Q1939.92 166.404 1939.92 160.038 Q1939.92 153.649 1943.07 150.038 Q1946.24 146.427 1951.82 146.427 Z\" fill=\"#000000\" fill-rule=\"evenodd\" fill-opacity=\"1\" /><path clip-path=\"url(#clip070)\" d=\"M 0 0 M1980.32 134.899 L1984.92 134.899 L1977.38 143.603 L1973.83 143.603 L1980.32 134.899 M1984.71 147.816 L1984.71 151.843 Q1982.91 150.917 1980.96 150.455 Q1979.02 149.992 1976.94 149.992 Q1973.77 149.992 1972.17 150.964 Q1970.59 151.936 1970.59 153.88 Q1970.59 155.362 1971.73 156.218 Q1972.86 157.052 1976.29 157.816 L1977.75 158.14 Q1982.28 159.112 1984.18 160.894 Q1986.1 162.654 1986.1 165.825 Q1986.1 169.436 1983.23 171.542 Q1980.39 173.649 1975.39 173.649 Q1973.3 173.649 1971.03 173.232 Q1968.79 172.839 1966.29 172.028 L1966.29 167.63 Q1968.65 168.857 1970.94 169.482 Q1973.23 170.084 1975.48 170.084 Q1978.49 170.084 1980.11 169.066 Q1981.73 168.024 1981.73 166.149 Q1981.73 164.413 1980.55 163.487 Q1979.39 162.561 1975.43 161.704 L1973.95 161.357 Q1969.99 160.524 1968.23 158.811 Q1966.47 157.075 1966.47 154.066 Q1966.47 150.408 1969.07 148.418 Q1971.66 146.427 1976.43 146.427 Q1978.79 146.427 1980.87 146.774 Q1982.96 147.121 1984.71 147.816 Z\" fill=\"#000000\" fill-rule=\"evenodd\" fill-opacity=\"1\" /><path clip-path=\"url(#clip070)\" d=\"M 0 0 M2009.23 148.047 L2009.23 152.029 Q2007.42 151.033 2005.59 150.547 Q2003.79 150.038 2001.94 150.038 Q1997.79 150.038 1995.5 152.677 Q1993.21 155.292 1993.21 160.038 Q1993.21 164.783 1995.5 167.422 Q1997.79 170.038 2001.94 170.038 Q2003.79 170.038 2005.59 169.552 Q2007.42 169.042 2009.23 168.047 L2009.23 171.982 Q2007.45 172.816 2005.52 173.232 Q2003.63 173.649 2001.47 173.649 Q1995.62 173.649 1992.17 169.968 Q1988.72 166.288 1988.72 160.038 Q1988.72 153.695 1992.19 150.061 Q1995.69 146.427 2001.75 146.427 Q2003.72 146.427 2005.59 146.843 Q2007.47 147.237 2009.23 148.047 Z\" fill=\"#000000\" fill-rule=\"evenodd\" fill-opacity=\"1\" /><path clip-path=\"url(#clip070)\" d=\"M 0 0 M2013.7 147.052 L2017.96 147.052 L2017.96 172.978 L2013.7 172.978 L2013.7 147.052 M2013.7 136.959 L2017.96 136.959 L2017.96 142.353 L2013.7 142.353 L2013.7 136.959 Z\" fill=\"#000000\" fill-rule=\"evenodd\" fill-opacity=\"1\" /><path clip-path=\"url(#clip070)\" d=\"M 0 0 M2047.54 150.038 Q2044.11 150.038 2042.12 152.723 Q2040.13 155.385 2040.13 160.038 Q2040.13 164.691 2042.1 167.376 Q2044.09 170.038 2047.54 170.038 Q2050.94 170.038 2052.93 167.353 Q2054.92 164.667 2054.92 160.038 Q2054.92 155.431 2052.93 152.746 Q2050.94 150.038 2047.54 150.038 M2047.54 146.427 Q2053.09 146.427 2056.27 150.038 Q2059.44 153.649 2059.44 160.038 Q2059.44 166.404 2056.27 170.038 Q2053.09 173.649 2047.54 173.649 Q2041.96 173.649 2038.79 170.038 Q2035.64 166.404 2035.64 160.038 Q2035.64 153.649 2038.79 150.038 Q2041.96 146.427 2047.54 146.427 Z\" fill=\"#000000\" fill-rule=\"evenodd\" fill-opacity=\"1\" /><path clip-path=\"url(#clip070)\" d=\"M 0 0 M2082.51 160.038 Q2082.51 155.339 2080.57 152.677 Q2078.65 149.992 2075.27 149.992 Q2071.89 149.992 2069.95 152.677 Q2068.02 155.339 2068.02 160.038 Q2068.02 164.737 2069.95 167.422 Q2071.89 170.084 2075.27 170.084 Q2078.65 170.084 2080.57 167.422 Q2082.51 164.737 2082.51 160.038 M2068.02 150.987 Q2069.37 148.672 2071.4 147.561 Q2073.46 146.427 2076.31 146.427 Q2081.03 146.427 2083.97 150.177 Q2086.94 153.927 2086.94 160.038 Q2086.94 166.149 2083.97 169.899 Q2081.03 173.649 2076.31 173.649 Q2073.46 173.649 2071.4 172.538 Q2069.37 171.403 2068.02 169.089 L2068.02 172.978 L2063.74 172.978 L2063.74 136.959 L2068.02 136.959 L2068.02 150.987 Z\" fill=\"#000000\" fill-rule=\"evenodd\" fill-opacity=\"1\" /><path clip-path=\"url(#clip070)\" d=\"M 0 0 M2091.4 136.959 L2095.66 136.959 L2095.66 172.978 L2091.4 172.978 L2091.4 136.959 Z\" fill=\"#000000\" fill-rule=\"evenodd\" fill-opacity=\"1\" /><path clip-path=\"url(#clip070)\" d=\"M 0 0 M2100.13 147.052 L2104.39 147.052 L2104.39 172.978 L2100.13 172.978 L2100.13 147.052 M2100.13 136.959 L2104.39 136.959 L2104.39 142.353 L2100.13 142.353 L2100.13 136.959 Z\" fill=\"#000000\" fill-rule=\"evenodd\" fill-opacity=\"1\" /><path clip-path=\"url(#clip070)\" d=\"M 0 0 M2127.51 148.047 L2127.51 152.029 Q2125.71 151.033 2123.88 150.547 Q2122.07 150.038 2120.22 150.038 Q2116.08 150.038 2113.79 152.677 Q2111.5 155.292 2111.5 160.038 Q2111.5 164.783 2113.79 167.422 Q2116.08 170.038 2120.22 170.038 Q2122.07 170.038 2123.88 169.552 Q2125.71 169.042 2127.51 168.047 L2127.51 171.982 Q2125.73 172.816 2123.81 173.232 Q2121.91 173.649 2119.76 173.649 Q2113.9 173.649 2110.45 169.968 Q2107.01 166.288 2107.01 160.038 Q2107.01 153.695 2110.48 150.061 Q2113.97 146.427 2120.04 146.427 Q2122.01 146.427 2123.88 146.843 Q2125.76 147.237 2127.51 148.047 Z\" fill=\"#000000\" fill-rule=\"evenodd\" fill-opacity=\"1\" /><path clip-path=\"url(#clip070)\" d=\"M 0 0 M2130.13 147.052 L2150.36 147.052 L2150.36 150.941 L2134.34 169.575 L2150.36 169.575 L2150.36 172.978 L2129.55 172.978 L2129.55 169.089 L2145.57 150.455 L2130.13 150.455 L2130.13 147.052 Z\" fill=\"#000000\" fill-rule=\"evenodd\" fill-opacity=\"1\" /><path clip-path=\"url(#clip070)\" d=\"M 0 0 M2164.88 150.038 Q2161.45 150.038 2159.46 152.723 Q2157.47 155.385 2157.47 160.038 Q2157.47 164.691 2159.44 167.376 Q2161.43 170.038 2164.88 170.038 Q2168.28 170.038 2170.27 167.353 Q2172.26 164.667 2172.26 160.038 Q2172.26 155.431 2170.27 152.746 Q2168.28 150.038 2164.88 150.038 M2164.88 146.427 Q2170.43 146.427 2173.6 150.038 Q2176.77 153.649 2176.77 160.038 Q2176.77 166.404 2173.6 170.038 Q2170.43 173.649 2164.88 173.649 Q2159.3 173.649 2156.13 170.038 Q2152.98 166.404 2152.98 160.038 Q2152.98 153.649 2156.13 150.038 Q2159.3 146.427 2164.88 146.427 Z\" fill=\"#000000\" fill-rule=\"evenodd\" fill-opacity=\"1\" /><path clip-path=\"url(#clip070)\" d=\"M 0 0 M2202.79 157.329 L2202.79 172.978 L2198.53 172.978 L2198.53 157.468 Q2198.53 153.788 2197.1 151.959 Q2195.66 150.13 2192.79 150.13 Q2189.34 150.13 2187.35 152.33 Q2185.36 154.529 2185.36 158.325 L2185.36 172.978 L2181.08 172.978 L2181.08 147.052 L2185.36 147.052 L2185.36 151.08 Q2186.89 148.742 2188.95 147.584 Q2191.03 146.427 2193.74 146.427 Q2198.21 146.427 2200.5 149.205 Q2202.79 151.959 2202.79 157.329 Z\" fill=\"#000000\" fill-rule=\"evenodd\" fill-opacity=\"1\" /><path clip-path=\"url(#clip070)\" d=\"M 0 0 M2229.44 158.95 L2229.44 161.033 L2209.85 161.033 Q2210.13 165.431 2212.49 167.746 Q2214.88 170.038 2219.11 170.038 Q2221.57 170.038 2223.86 169.436 Q2226.17 168.834 2228.44 167.63 L2228.44 171.658 Q2226.15 172.63 2223.74 173.14 Q2221.33 173.649 2218.86 173.649 Q2212.65 173.649 2209.02 170.038 Q2205.41 166.427 2205.41 160.269 Q2205.41 153.904 2208.83 150.177 Q2212.28 146.427 2218.12 146.427 Q2223.35 146.427 2226.38 149.806 Q2229.44 153.163 2229.44 158.95 M2225.18 157.7 Q2225.13 154.205 2223.21 152.121 Q2221.31 150.038 2218.16 150.038 Q2214.6 150.038 2212.44 152.052 Q2210.32 154.066 2209.99 157.723 L2225.18 157.7 Z\" fill=\"#000000\" fill-rule=\"evenodd\" fill-opacity=\"1\" /><polyline clip-path=\"url(#clip070)\" style=\"stroke:#ffff00; stroke-width:4; stroke-opacity:1; fill:none\" points=\"\n",
       "  1668.18,216.178 1816.16,216.178 \n",
       "  \"/>\n",
       "<circle clip-path=\"url(#clip070)\" cx=\"1742.17\" cy=\"216.178\" r=\"23\" fill=\"#ffff00\" fill-rule=\"evenodd\" fill-opacity=\"1\" stroke=\"#000000\" stroke-opacity=\"1\" stroke-width=\"5.12\"/>\n",
       "<path clip-path=\"url(#clip070)\" d=\"M 0 0 M1868.7 201.56 L1868.7 206.49 Q1866.34 204.291 1863.65 203.203 Q1860.99 202.115 1857.98 202.115 Q1852.05 202.115 1848.91 205.749 Q1845.76 209.36 1845.76 216.212 Q1845.76 223.041 1848.91 226.675 Q1852.05 230.286 1857.98 230.286 Q1860.99 230.286 1863.65 229.198 Q1866.34 228.11 1868.7 225.911 L1868.7 230.796 Q1866.24 232.462 1863.49 233.296 Q1860.76 234.129 1857.7 234.129 Q1849.85 234.129 1845.34 229.337 Q1840.83 224.522 1840.83 216.212 Q1840.83 207.879 1845.34 203.087 Q1849.85 198.273 1857.7 198.273 Q1860.8 198.273 1863.53 199.106 Q1866.29 199.916 1868.7 201.56 Z\" fill=\"#000000\" fill-rule=\"evenodd\" fill-opacity=\"1\" /><path clip-path=\"url(#clip070)\" d=\"M 0 0 M1893.35 212.509 Q1894.95 209.638 1897.17 208.273 Q1899.39 206.907 1902.4 206.907 Q1906.45 206.907 1908.65 209.754 Q1910.85 212.578 1910.85 217.809 L1910.85 233.458 L1906.57 233.458 L1906.57 217.948 Q1906.57 214.222 1905.25 212.416 Q1903.93 210.61 1901.22 210.61 Q1897.91 210.61 1895.99 212.81 Q1894.07 215.009 1894.07 218.805 L1894.07 233.458 L1889.78 233.458 L1889.78 217.948 Q1889.78 214.198 1888.47 212.416 Q1887.15 210.61 1884.39 210.61 Q1881.13 210.61 1879.21 212.833 Q1877.28 215.032 1877.28 218.805 L1877.28 233.458 L1873 233.458 L1873 207.532 L1877.28 207.532 L1877.28 211.56 Q1878.74 209.175 1880.78 208.041 Q1882.82 206.907 1885.62 206.907 Q1888.44 206.907 1890.41 208.342 Q1892.4 209.777 1893.35 212.509 Z\" fill=\"#000000\" fill-rule=\"evenodd\" fill-opacity=\"1\" /><path clip-path=\"url(#clip070)\" d=\"M 0 0 M1927.1 220.425 Q1921.94 220.425 1919.95 221.606 Q1917.96 222.786 1917.96 225.634 Q1917.96 227.902 1919.44 229.245 Q1920.94 230.564 1923.51 230.564 Q1927.05 230.564 1929.18 228.064 Q1931.34 225.541 1931.34 221.374 L1931.34 220.425 L1927.1 220.425 M1935.59 218.666 L1935.59 233.458 L1931.34 233.458 L1931.34 229.522 Q1929.88 231.883 1927.7 233.018 Q1925.53 234.129 1922.38 234.129 Q1918.4 234.129 1916.03 231.907 Q1913.7 229.661 1913.7 225.911 Q1913.7 221.536 1916.61 219.314 Q1919.55 217.092 1925.36 217.092 L1931.34 217.092 L1931.34 216.675 Q1931.34 213.735 1929.39 212.138 Q1927.47 210.518 1923.97 210.518 Q1921.75 210.518 1919.65 211.05 Q1917.54 211.583 1915.59 212.647 L1915.59 208.712 Q1917.93 207.81 1920.13 207.37 Q1922.33 206.907 1924.41 206.907 Q1930.04 206.907 1932.82 209.823 Q1935.59 212.74 1935.59 218.666 Z\" fill=\"#000000\" fill-rule=\"evenodd\" fill-opacity=\"1\" /><path clip-path=\"url(#clip070)\" d=\"M 0 0 M1961.61 207.532 L1952.24 220.147 L1962.1 233.458 L1957.08 233.458 L1949.53 223.272 L1941.98 233.458 L1936.96 233.458 L1947.03 219.893 L1937.82 207.532 L1942.84 207.532 L1949.71 216.768 L1956.59 207.532 L1961.61 207.532 Z\" fill=\"#000000\" fill-rule=\"evenodd\" fill-opacity=\"1\" /></svg>\n"
      ]
     },
     "execution_count": 838,
     "metadata": {},
     "output_type": "execute_result"
    }
   ],
   "source": [
    "plot!([tₘ], [model3(tₘ)], markers = :circle, color=\"yellow\", markersize = 4, label=\"Cmax\")"
   ]
  },
  {
   "cell_type": "code",
   "execution_count": null,
   "metadata": {},
   "outputs": [],
   "source": [
    "println(\"Maksymalne stężenie ampicylina w ciele lamy wy\")"
   ]
  },
  {
   "cell_type": "markdown",
   "metadata": {},
   "source": [
    "Załóżmy że lama leczy się przeciwko *Escherichia coli* dla której $MIC$ wynosi 0.9mg/l [9]"
   ]
  },
  {
   "cell_type": "code",
   "execution_count": 783,
   "metadata": {},
   "outputs": [],
   "source": [
    "MIC = 0.9;"
   ]
  },
  {
   "cell_type": "code",
   "execution_count": 784,
   "metadata": {},
   "outputs": [
    {
     "data": {
      "image/svg+xml": [
       "<?xml version=\"1.0\" encoding=\"utf-8\"?>\n",
       "<svg xmlns=\"http://www.w3.org/2000/svg\" xmlns:xlink=\"http://www.w3.org/1999/xlink\" width=\"600\" height=\"400\" viewBox=\"0 0 2400 1600\">\n",
       "<defs>\n",
       "  <clipPath id=\"clip430\">\n",
       "    <rect x=\"0\" y=\"0\" width=\"2400\" height=\"1600\"/>\n",
       "  </clipPath>\n",
       "</defs>\n",
       "<path clip-path=\"url(#clip430)\" d=\"\n",
       "M0 1600 L2400 1600 L2400 0 L0 0  Z\n",
       "  \" fill=\"#ffffff\" fill-rule=\"evenodd\" fill-opacity=\"1\"/>\n",
       "<defs>\n",
       "  <clipPath id=\"clip431\">\n",
       "    <rect x=\"480\" y=\"0\" width=\"1681\" height=\"1600\"/>\n",
       "  </clipPath>\n",
       "</defs>\n",
       "<path clip-path=\"url(#clip430)\" d=\"\n",
       "M134.584 1486.45 L2352.76 1486.45 L2352.76 47.2441 L134.584 47.2441  Z\n",
       "  \" fill=\"#ffffff\" fill-rule=\"evenodd\" fill-opacity=\"1\"/>\n",
       "<defs>\n",
       "  <clipPath id=\"clip432\">\n",
       "    <rect x=\"134\" y=\"47\" width=\"2219\" height=\"1440\"/>\n",
       "  </clipPath>\n",
       "</defs>\n",
       "<polyline clip-path=\"url(#clip432)\" style=\"stroke:#000000; stroke-width:2; stroke-opacity:0.1; fill:none\" points=\"\n",
       "  197.363,1486.45 197.363,47.2441 \n",
       "  \"/>\n",
       "<polyline clip-path=\"url(#clip432)\" style=\"stroke:#000000; stroke-width:2; stroke-opacity:0.1; fill:none\" points=\"\n",
       "  720.517,1486.45 720.517,47.2441 \n",
       "  \"/>\n",
       "<polyline clip-path=\"url(#clip432)\" style=\"stroke:#000000; stroke-width:2; stroke-opacity:0.1; fill:none\" points=\"\n",
       "  1243.67,1486.45 1243.67,47.2441 \n",
       "  \"/>\n",
       "<polyline clip-path=\"url(#clip432)\" style=\"stroke:#000000; stroke-width:2; stroke-opacity:0.1; fill:none\" points=\"\n",
       "  1766.82,1486.45 1766.82,47.2441 \n",
       "  \"/>\n",
       "<polyline clip-path=\"url(#clip432)\" style=\"stroke:#000000; stroke-width:2; stroke-opacity:0.1; fill:none\" points=\"\n",
       "  2289.98,1486.45 2289.98,47.2441 \n",
       "  \"/>\n",
       "<polyline clip-path=\"url(#clip430)\" style=\"stroke:#000000; stroke-width:4; stroke-opacity:1; fill:none\" points=\"\n",
       "  134.584,1486.45 2352.76,1486.45 \n",
       "  \"/>\n",
       "<polyline clip-path=\"url(#clip430)\" style=\"stroke:#000000; stroke-width:4; stroke-opacity:1; fill:none\" points=\"\n",
       "  197.363,1486.45 197.363,1469.18 \n",
       "  \"/>\n",
       "<polyline clip-path=\"url(#clip430)\" style=\"stroke:#000000; stroke-width:4; stroke-opacity:1; fill:none\" points=\"\n",
       "  720.517,1486.45 720.517,1469.18 \n",
       "  \"/>\n",
       "<polyline clip-path=\"url(#clip430)\" style=\"stroke:#000000; stroke-width:4; stroke-opacity:1; fill:none\" points=\"\n",
       "  1243.67,1486.45 1243.67,1469.18 \n",
       "  \"/>\n",
       "<polyline clip-path=\"url(#clip430)\" style=\"stroke:#000000; stroke-width:4; stroke-opacity:1; fill:none\" points=\"\n",
       "  1766.82,1486.45 1766.82,1469.18 \n",
       "  \"/>\n",
       "<polyline clip-path=\"url(#clip430)\" style=\"stroke:#000000; stroke-width:4; stroke-opacity:1; fill:none\" points=\"\n",
       "  2289.98,1486.45 2289.98,1469.18 \n",
       "  \"/>\n",
       "<path clip-path=\"url(#clip430)\" d=\"M 0 0 M178.879 1515.64 Q175.268 1515.64 173.439 1519.2 Q171.634 1522.75 171.634 1529.87 Q171.634 1536.98 173.439 1540.55 Q175.268 1544.09 178.879 1544.09 Q182.513 1544.09 184.319 1540.55 Q186.148 1536.98 186.148 1529.87 Q186.148 1522.75 184.319 1519.2 Q182.513 1515.64 178.879 1515.64 M178.879 1511.93 Q184.689 1511.93 187.745 1516.54 Q190.824 1521.12 190.824 1529.87 Q190.824 1538.6 187.745 1543.21 Q184.689 1547.79 178.879 1547.79 Q173.069 1547.79 169.99 1543.21 Q166.935 1538.6 166.935 1529.87 Q166.935 1521.12 169.99 1516.54 Q173.069 1511.93 178.879 1511.93 Z\" fill=\"#000000\" fill-rule=\"evenodd\" fill-opacity=\"1\" /><path clip-path=\"url(#clip430)\" d=\"M 0 0 M195.893 1541.24 L200.777 1541.24 L200.777 1547.12 L195.893 1547.12 L195.893 1541.24 Z\" fill=\"#000000\" fill-rule=\"evenodd\" fill-opacity=\"1\" /><path clip-path=\"url(#clip430)\" d=\"M 0 0 M215.847 1515.64 Q212.236 1515.64 210.407 1519.2 Q208.601 1522.75 208.601 1529.87 Q208.601 1536.98 210.407 1540.55 Q212.236 1544.09 215.847 1544.09 Q219.481 1544.09 221.286 1540.55 Q223.115 1536.98 223.115 1529.87 Q223.115 1522.75 221.286 1519.2 Q219.481 1515.64 215.847 1515.64 M215.847 1511.93 Q221.657 1511.93 224.712 1516.54 Q227.791 1521.12 227.791 1529.87 Q227.791 1538.6 224.712 1543.21 Q221.657 1547.79 215.847 1547.79 Q210.036 1547.79 206.958 1543.21 Q203.902 1538.6 203.902 1529.87 Q203.902 1521.12 206.958 1516.54 Q210.036 1511.93 215.847 1511.93 Z\" fill=\"#000000\" fill-rule=\"evenodd\" fill-opacity=\"1\" /><path clip-path=\"url(#clip430)\" d=\"M 0 0 M697.183 1543.18 L713.503 1543.18 L713.503 1547.12 L691.558 1547.12 L691.558 1543.18 Q694.22 1540.43 698.804 1535.8 Q703.41 1531.15 704.591 1529.81 Q706.836 1527.28 707.716 1525.55 Q708.618 1523.79 708.618 1522.1 Q708.618 1519.34 706.674 1517.61 Q704.753 1515.87 701.651 1515.87 Q699.452 1515.87 696.998 1516.63 Q694.568 1517.4 691.79 1518.95 L691.79 1514.23 Q694.614 1513.09 697.068 1512.51 Q699.521 1511.93 701.558 1511.93 Q706.929 1511.93 710.123 1514.62 Q713.318 1517.31 713.318 1521.8 Q713.318 1523.93 712.507 1525.85 Q711.72 1527.74 709.614 1530.34 Q709.035 1531.01 705.933 1534.23 Q702.831 1537.42 697.183 1543.18 Z\" fill=\"#000000\" fill-rule=\"evenodd\" fill-opacity=\"1\" /><path clip-path=\"url(#clip430)\" d=\"M 0 0 M718.572 1541.24 L723.456 1541.24 L723.456 1547.12 L718.572 1547.12 L718.572 1541.24 Z\" fill=\"#000000\" fill-rule=\"evenodd\" fill-opacity=\"1\" /><path clip-path=\"url(#clip430)\" d=\"M 0 0 M728.572 1512.56 L746.928 1512.56 L746.928 1516.5 L732.854 1516.5 L732.854 1524.97 Q733.873 1524.62 734.891 1524.46 Q735.91 1524.27 736.928 1524.27 Q742.715 1524.27 746.095 1527.44 Q749.475 1530.62 749.475 1536.03 Q749.475 1541.61 746.003 1544.71 Q742.53 1547.79 736.211 1547.79 Q734.035 1547.79 731.766 1547.42 Q729.521 1547.05 727.114 1546.31 L727.114 1541.61 Q729.197 1542.74 731.419 1543.3 Q733.641 1543.86 736.118 1543.86 Q740.123 1543.86 742.461 1541.75 Q744.799 1539.64 744.799 1536.03 Q744.799 1532.42 742.461 1530.31 Q740.123 1528.21 736.118 1528.21 Q734.243 1528.21 732.368 1528.62 Q730.516 1529.04 728.572 1529.92 L728.572 1512.56 Z\" fill=\"#000000\" fill-rule=\"evenodd\" fill-opacity=\"1\" /><path clip-path=\"url(#clip430)\" d=\"M 0 0 M1215.46 1512.56 L1233.82 1512.56 L1233.82 1516.5 L1219.75 1516.5 L1219.75 1524.97 Q1220.77 1524.62 1221.78 1524.46 Q1222.8 1524.27 1223.82 1524.27 Q1229.61 1524.27 1232.99 1527.44 Q1236.37 1530.62 1236.37 1536.03 Q1236.37 1541.61 1232.89 1544.71 Q1229.42 1547.79 1223.1 1547.79 Q1220.93 1547.79 1218.66 1547.42 Q1216.41 1547.05 1214.01 1546.31 L1214.01 1541.61 Q1216.09 1542.74 1218.31 1543.3 Q1220.53 1543.86 1223.01 1543.86 Q1227.02 1543.86 1229.35 1541.75 Q1231.69 1539.64 1231.69 1536.03 Q1231.69 1532.42 1229.35 1530.31 Q1227.02 1528.21 1223.01 1528.21 Q1221.14 1528.21 1219.26 1528.62 Q1217.41 1529.04 1215.46 1529.92 L1215.46 1512.56 Z\" fill=\"#000000\" fill-rule=\"evenodd\" fill-opacity=\"1\" /><path clip-path=\"url(#clip430)\" d=\"M 0 0 M1241.44 1541.24 L1246.32 1541.24 L1246.32 1547.12 L1241.44 1547.12 L1241.44 1541.24 Z\" fill=\"#000000\" fill-rule=\"evenodd\" fill-opacity=\"1\" /><path clip-path=\"url(#clip430)\" d=\"M 0 0 M1261.39 1515.64 Q1257.78 1515.64 1255.95 1519.2 Q1254.14 1522.75 1254.14 1529.87 Q1254.14 1536.98 1255.95 1540.55 Q1257.78 1544.09 1261.39 1544.09 Q1265.02 1544.09 1266.83 1540.55 Q1268.66 1536.98 1268.66 1529.87 Q1268.66 1522.75 1266.83 1519.2 Q1265.02 1515.64 1261.39 1515.64 M1261.39 1511.93 Q1267.2 1511.93 1270.26 1516.54 Q1273.33 1521.12 1273.33 1529.87 Q1273.33 1538.6 1270.26 1543.21 Q1267.2 1547.79 1261.39 1547.79 Q1255.58 1547.79 1252.5 1543.21 Q1249.45 1538.6 1249.45 1529.87 Q1249.45 1521.12 1252.5 1516.54 Q1255.58 1511.93 1261.39 1511.93 Z\" fill=\"#000000\" fill-rule=\"evenodd\" fill-opacity=\"1\" /><path clip-path=\"url(#clip430)\" d=\"M 0 0 M1737.73 1512.56 L1759.95 1512.56 L1759.95 1514.55 L1747.4 1547.12 L1742.52 1547.12 L1754.32 1516.5 L1737.73 1516.5 L1737.73 1512.56 Z\" fill=\"#000000\" fill-rule=\"evenodd\" fill-opacity=\"1\" /><path clip-path=\"url(#clip430)\" d=\"M 0 0 M1765.02 1541.24 L1769.9 1541.24 L1769.9 1547.12 L1765.02 1547.12 L1765.02 1541.24 Z\" fill=\"#000000\" fill-rule=\"evenodd\" fill-opacity=\"1\" /><path clip-path=\"url(#clip430)\" d=\"M 0 0 M1775.02 1512.56 L1793.37 1512.56 L1793.37 1516.5 L1779.3 1516.5 L1779.3 1524.97 Q1780.32 1524.62 1781.34 1524.46 Q1782.36 1524.27 1783.37 1524.27 Q1789.16 1524.27 1792.54 1527.44 Q1795.92 1530.62 1795.92 1536.03 Q1795.92 1541.61 1792.45 1544.71 Q1788.98 1547.79 1782.66 1547.79 Q1780.48 1547.79 1778.21 1547.42 Q1775.97 1547.05 1773.56 1546.31 L1773.56 1541.61 Q1775.64 1542.74 1777.87 1543.3 Q1780.09 1543.86 1782.56 1543.86 Q1786.57 1543.86 1788.91 1541.75 Q1791.24 1539.64 1791.24 1536.03 Q1791.24 1532.42 1788.91 1530.31 Q1786.57 1528.21 1782.56 1528.21 Q1780.69 1528.21 1778.81 1528.62 Q1776.96 1529.04 1775.02 1529.92 L1775.02 1512.56 Z\" fill=\"#000000\" fill-rule=\"evenodd\" fill-opacity=\"1\" /><path clip-path=\"url(#clip430)\" d=\"M 0 0 M2248.37 1543.18 L2256.01 1543.18 L2256.01 1516.82 L2247.7 1518.49 L2247.7 1514.23 L2255.96 1512.56 L2260.64 1512.56 L2260.64 1543.18 L2268.28 1543.18 L2268.28 1547.12 L2248.37 1547.12 L2248.37 1543.18 Z\" fill=\"#000000\" fill-rule=\"evenodd\" fill-opacity=\"1\" /><path clip-path=\"url(#clip430)\" d=\"M 0 0 M2283.35 1515.64 Q2279.73 1515.64 2277.91 1519.2 Q2276.1 1522.75 2276.1 1529.87 Q2276.1 1536.98 2277.91 1540.55 Q2279.73 1544.09 2283.35 1544.09 Q2286.98 1544.09 2288.79 1540.55 Q2290.61 1536.98 2290.61 1529.87 Q2290.61 1522.75 2288.79 1519.2 Q2286.98 1515.64 2283.35 1515.64 M2283.35 1511.93 Q2289.16 1511.93 2292.21 1516.54 Q2295.29 1521.12 2295.29 1529.87 Q2295.29 1538.6 2292.21 1543.21 Q2289.16 1547.79 2283.35 1547.79 Q2277.54 1547.79 2274.46 1543.21 Q2271.4 1538.6 2271.4 1529.87 Q2271.4 1521.12 2274.46 1516.54 Q2277.54 1511.93 2283.35 1511.93 Z\" fill=\"#000000\" fill-rule=\"evenodd\" fill-opacity=\"1\" /><path clip-path=\"url(#clip430)\" d=\"M 0 0 M2300.36 1541.24 L2305.24 1541.24 L2305.24 1547.12 L2300.36 1547.12 L2300.36 1541.24 Z\" fill=\"#000000\" fill-rule=\"evenodd\" fill-opacity=\"1\" /><path clip-path=\"url(#clip430)\" d=\"M 0 0 M2320.31 1515.64 Q2316.7 1515.64 2314.87 1519.2 Q2313.07 1522.75 2313.07 1529.87 Q2313.07 1536.98 2314.87 1540.55 Q2316.7 1544.09 2320.31 1544.09 Q2323.95 1544.09 2325.75 1540.55 Q2327.58 1536.98 2327.58 1529.87 Q2327.58 1522.75 2325.75 1519.2 Q2323.95 1515.64 2320.31 1515.64 M2320.31 1511.93 Q2326.12 1511.93 2329.18 1516.54 Q2332.26 1521.12 2332.26 1529.87 Q2332.26 1538.6 2329.18 1543.21 Q2326.12 1547.79 2320.31 1547.79 Q2314.5 1547.79 2311.42 1543.21 Q2308.37 1538.6 2308.37 1529.87 Q2308.37 1521.12 2311.42 1516.54 Q2314.5 1511.93 2320.31 1511.93 Z\" fill=\"#000000\" fill-rule=\"evenodd\" fill-opacity=\"1\" /><polyline clip-path=\"url(#clip432)\" style=\"stroke:#000000; stroke-width:2; stroke-opacity:0.1; fill:none\" points=\"\n",
       "  134.584,1445.72 2352.76,1445.72 \n",
       "  \"/>\n",
       "<polyline clip-path=\"url(#clip432)\" style=\"stroke:#000000; stroke-width:2; stroke-opacity:0.1; fill:none\" points=\"\n",
       "  134.584,987.948 2352.76,987.948 \n",
       "  \"/>\n",
       "<polyline clip-path=\"url(#clip432)\" style=\"stroke:#000000; stroke-width:2; stroke-opacity:0.1; fill:none\" points=\"\n",
       "  134.584,530.18 2352.76,530.18 \n",
       "  \"/>\n",
       "<polyline clip-path=\"url(#clip432)\" style=\"stroke:#000000; stroke-width:2; stroke-opacity:0.1; fill:none\" points=\"\n",
       "  134.584,72.4122 2352.76,72.4122 \n",
       "  \"/>\n",
       "<polyline clip-path=\"url(#clip430)\" style=\"stroke:#000000; stroke-width:4; stroke-opacity:1; fill:none\" points=\"\n",
       "  134.584,1486.45 134.584,47.2441 \n",
       "  \"/>\n",
       "<polyline clip-path=\"url(#clip430)\" style=\"stroke:#000000; stroke-width:4; stroke-opacity:1; fill:none\" points=\"\n",
       "  134.584,1445.72 161.203,1445.72 \n",
       "  \"/>\n",
       "<polyline clip-path=\"url(#clip430)\" style=\"stroke:#000000; stroke-width:4; stroke-opacity:1; fill:none\" points=\"\n",
       "  134.584,987.948 161.203,987.948 \n",
       "  \"/>\n",
       "<polyline clip-path=\"url(#clip430)\" style=\"stroke:#000000; stroke-width:4; stroke-opacity:1; fill:none\" points=\"\n",
       "  134.584,530.18 161.203,530.18 \n",
       "  \"/>\n",
       "<polyline clip-path=\"url(#clip430)\" style=\"stroke:#000000; stroke-width:4; stroke-opacity:1; fill:none\" points=\"\n",
       "  134.584,72.4122 161.203,72.4122 \n",
       "  \"/>\n",
       "<path clip-path=\"url(#clip430)\" d=\"M 0 0 M86.6401 1431.51 Q83.029 1431.51 81.2003 1435.08 Q79.3948 1438.62 79.3948 1445.75 Q79.3948 1452.86 81.2003 1456.42 Q83.029 1459.96 86.6401 1459.96 Q90.2743 1459.96 92.0799 1456.42 Q93.9086 1452.86 93.9086 1445.75 Q93.9086 1438.62 92.0799 1435.08 Q90.2743 1431.51 86.6401 1431.51 M86.6401 1427.81 Q92.4502 1427.81 95.5058 1432.42 Q98.5845 1437 98.5845 1445.75 Q98.5845 1454.48 95.5058 1459.08 Q92.4502 1463.67 86.6401 1463.67 Q80.8299 1463.67 77.7512 1459.08 Q74.6957 1454.48 74.6957 1445.75 Q74.6957 1437 77.7512 1432.42 Q80.8299 1427.81 86.6401 1427.81 Z\" fill=\"#000000\" fill-rule=\"evenodd\" fill-opacity=\"1\" /><path clip-path=\"url(#clip430)\" d=\"M 0 0 M77.6818 970.668 L96.0382 970.668 L96.0382 974.603 L81.9642 974.603 L81.9642 983.075 Q82.9827 982.728 84.0012 982.566 Q85.0197 982.381 86.0382 982.381 Q91.8252 982.381 95.2049 985.552 Q98.5845 988.723 98.5845 994.14 Q98.5845 999.719 95.1123 1002.82 Q91.6401 1005.9 85.3206 1005.9 Q83.1447 1005.9 80.8762 1005.53 Q78.6309 1005.16 76.2235 1004.42 L76.2235 999.719 Q78.3068 1000.85 80.529 1001.41 Q82.7512 1001.96 85.2281 1001.96 Q89.2327 1001.96 91.5706 999.858 Q93.9086 997.751 93.9086 994.14 Q93.9086 990.529 91.5706 988.422 Q89.2327 986.316 85.2281 986.316 Q83.3531 986.316 81.4781 986.733 Q79.6262 987.149 77.6818 988.029 L77.6818 970.668 Z\" fill=\"#000000\" fill-rule=\"evenodd\" fill-opacity=\"1\" /><path clip-path=\"url(#clip430)\" d=\"M 0 0 M51.6634 543.525 L59.3023 543.525 L59.3023 517.159 L50.9921 518.826 L50.9921 514.567 L59.256 512.9 L63.9319 512.9 L63.9319 543.525 L71.5707 543.525 L71.5707 547.46 L51.6634 547.46 L51.6634 543.525 Z\" fill=\"#000000\" fill-rule=\"evenodd\" fill-opacity=\"1\" /><path clip-path=\"url(#clip430)\" d=\"M 0 0 M86.6401 515.979 Q83.029 515.979 81.2003 519.543 Q79.3948 523.085 79.3948 530.215 Q79.3948 537.321 81.2003 540.886 Q83.029 544.428 86.6401 544.428 Q90.2743 544.428 92.0799 540.886 Q93.9086 537.321 93.9086 530.215 Q93.9086 523.085 92.0799 519.543 Q90.2743 515.979 86.6401 515.979 M86.6401 512.275 Q92.4502 512.275 95.5058 516.881 Q98.5845 521.465 98.5845 530.215 Q98.5845 538.942 95.5058 543.548 Q92.4502 548.131 86.6401 548.131 Q80.8299 548.131 77.7512 543.548 Q74.6957 538.942 74.6957 530.215 Q74.6957 521.465 77.7512 516.881 Q80.8299 512.275 86.6401 512.275 Z\" fill=\"#000000\" fill-rule=\"evenodd\" fill-opacity=\"1\" /><path clip-path=\"url(#clip430)\" d=\"M 0 0 M52.6588 85.757 L60.2976 85.757 L60.2976 59.3914 L51.9875 61.0581 L51.9875 56.7988 L60.2513 55.1322 L64.9272 55.1322 L64.9272 85.757 L72.5661 85.757 L72.5661 89.6922 L52.6588 89.6922 L52.6588 85.757 Z\" fill=\"#000000\" fill-rule=\"evenodd\" fill-opacity=\"1\" /><path clip-path=\"url(#clip430)\" d=\"M 0 0 M77.6818 55.1322 L96.0382 55.1322 L96.0382 59.0673 L81.9642 59.0673 L81.9642 67.5395 Q82.9827 67.1923 84.0012 67.0303 Q85.0197 66.8451 86.0382 66.8451 Q91.8252 66.8451 95.2049 70.0163 Q98.5845 73.1876 98.5845 78.6043 Q98.5845 84.1829 95.1123 87.2848 Q91.6401 90.3635 85.3206 90.3635 Q83.1447 90.3635 80.8762 89.9931 Q78.6309 89.6227 76.2235 88.882 L76.2235 84.1829 Q78.3068 85.3172 80.529 85.8727 Q82.7512 86.4283 85.2281 86.4283 Q89.2327 86.4283 91.5706 84.3218 Q93.9086 82.2154 93.9086 78.6043 Q93.9086 74.9932 91.5706 72.8867 Q89.2327 70.7802 85.2281 70.7802 Q83.3531 70.7802 81.4781 71.1969 Q79.6262 71.6136 77.6818 72.4932 L77.6818 55.1322 Z\" fill=\"#000000\" fill-rule=\"evenodd\" fill-opacity=\"1\" /><polyline clip-path=\"url(#clip432)\" style=\"stroke:#009af9; stroke-width:4; stroke-opacity:1; fill:none\" points=\"\n",
       "  197.363,1445.72 218.289,138.438 239.215,244.906 260.141,343.858 281.067,434.658 301.994,517.975 322.92,594.426 343.846,664.577 364.772,728.947 385.698,788.013 \n",
       "  406.624,842.212 427.551,891.944 448.477,937.578 469.403,979.451 490.329,1017.87 511.255,1053.13 532.181,1085.48 553.107,1115.17 574.034,1142.41 594.96,1167.4 \n",
       "  615.886,1190.34 636.812,1211.38 657.738,1230.69 678.664,1248.41 699.59,1264.67 720.517,1279.59 741.443,1293.28 762.369,1305.84 783.295,1317.37 804.221,1327.94 \n",
       "  825.147,1337.65 846.073,1346.55 867,1354.73 887.926,1362.22 908.852,1369.1 929.778,1375.42 950.704,1381.21 971.63,1386.53 992.556,1391.4 1013.48,1395.88 \n",
       "  1034.41,1399.99 1055.33,1403.75 1076.26,1407.21 1097.19,1410.38 1118.11,1413.3 1139.04,1415.97 1159.97,1418.42 1180.89,1420.67 1201.82,1422.73 1222.74,1424.63 \n",
       "  1243.67,1426.36 1264.6,1427.96 1285.52,1429.42 1306.45,1430.77 1327.37,1432 1348.3,1433.13 1369.23,1434.16 1390.15,1435.12 1411.08,1435.99 1432.01,1436.79 \n",
       "  1452.93,1437.53 1473.86,1438.2 1494.78,1438.82 1515.71,1439.39 1536.64,1439.91 1557.56,1440.39 1578.49,1440.83 1599.41,1441.23 1620.34,1441.6 1641.27,1441.94 \n",
       "  1662.19,1442.25 1683.12,1442.54 1704.05,1442.8 1724.97,1443.04 1745.9,1443.26 1766.82,1443.46 1787.75,1443.65 1808.68,1443.82 1829.6,1443.97 1850.53,1444.12 \n",
       "  1871.45,1444.25 1892.38,1444.37 1913.31,1444.48 1934.23,1444.58 1955.16,1444.68 1976.09,1444.76 1997.01,1444.84 2017.94,1444.91 2038.86,1444.98 2059.79,1445.04 \n",
       "  2080.72,1445.1 2101.64,1445.15 2122.57,1445.19 2143.49,1445.24 2164.42,1445.28 2185.35,1445.31 2206.27,1445.35 2227.2,1445.38 2248.13,1445.4 2269.05,1445.43 \n",
       "  2289.98,1445.45 \n",
       "  \"/>\n",
       "<circle clip-path=\"url(#clip432)\" cx=\"224.567\" cy=\"87.9763\" r=\"14\" fill=\"#ffff00\" fill-rule=\"evenodd\" fill-opacity=\"1\" stroke=\"#000000\" stroke-opacity=\"1\" stroke-width=\"3.2\"/>\n",
       "<polyline clip-path=\"url(#clip432)\" style=\"stroke:#3da44d; stroke-width:4; stroke-opacity:1; fill:none\" stroke-dasharray=\"16, 10\" points=\"\n",
       "  197.363,1363.32 218.289,1363.32 239.215,1363.32 260.141,1363.32 281.067,1363.32 301.994,1363.32 322.92,1363.32 343.846,1363.32 364.772,1363.32 385.698,1363.32 \n",
       "  406.624,1363.32 427.551,1363.32 448.477,1363.32 469.403,1363.32 490.329,1363.32 511.255,1363.32 532.181,1363.32 553.107,1363.32 574.034,1363.32 594.96,1363.32 \n",
       "  615.886,1363.32 636.812,1363.32 657.738,1363.32 678.664,1363.32 699.59,1363.32 720.517,1363.32 741.443,1363.32 762.369,1363.32 783.295,1363.32 804.221,1363.32 \n",
       "  825.147,1363.32 846.073,1363.32 867,1363.32 887.926,1363.32 908.852,1363.32 929.778,1363.32 950.704,1363.32 971.63,1363.32 992.556,1363.32 1013.48,1363.32 \n",
       "  1034.41,1363.32 1055.33,1363.32 1076.26,1363.32 1097.19,1363.32 1118.11,1363.32 1139.04,1363.32 1159.97,1363.32 1180.89,1363.32 1201.82,1363.32 1222.74,1363.32 \n",
       "  1243.67,1363.32 1264.6,1363.32 1285.52,1363.32 1306.45,1363.32 1327.37,1363.32 1348.3,1363.32 1369.23,1363.32 1390.15,1363.32 1411.08,1363.32 1432.01,1363.32 \n",
       "  1452.93,1363.32 1473.86,1363.32 1494.78,1363.32 1515.71,1363.32 1536.64,1363.32 1557.56,1363.32 1578.49,1363.32 1599.41,1363.32 1620.34,1363.32 1641.27,1363.32 \n",
       "  1662.19,1363.32 1683.12,1363.32 1704.05,1363.32 1724.97,1363.32 1745.9,1363.32 1766.82,1363.32 1787.75,1363.32 1808.68,1363.32 1829.6,1363.32 1850.53,1363.32 \n",
       "  1871.45,1363.32 1892.38,1363.32 1913.31,1363.32 1934.23,1363.32 1955.16,1363.32 1976.09,1363.32 1997.01,1363.32 2017.94,1363.32 2038.86,1363.32 2059.79,1363.32 \n",
       "  2080.72,1363.32 2101.64,1363.32 2122.57,1363.32 2143.49,1363.32 2164.42,1363.32 2185.35,1363.32 2206.27,1363.32 2227.2,1363.32 2248.13,1363.32 2269.05,1363.32 \n",
       "  2289.98,1363.32 \n",
       "  \"/>\n",
       "<path clip-path=\"url(#clip430)\" d=\"\n",
       "M1643.74 337.138 L2278.82 337.138 L2278.82 95.2176 L1643.74 95.2176  Z\n",
       "  \" fill=\"#ffffff\" fill-rule=\"evenodd\" fill-opacity=\"1\"/>\n",
       "<polyline clip-path=\"url(#clip430)\" style=\"stroke:#000000; stroke-width:4; stroke-opacity:1; fill:none\" points=\"\n",
       "  1643.74,337.138 2278.82,337.138 2278.82,95.2176 1643.74,95.2176 1643.74,337.138 \n",
       "  \"/>\n",
       "<polyline clip-path=\"url(#clip430)\" style=\"stroke:#009af9; stroke-width:4; stroke-opacity:1; fill:none\" points=\"\n",
       "  1668.39,155.698 1816.27,155.698 \n",
       "  \"/>\n",
       "<path clip-path=\"url(#clip430)\" d=\"M 0 0 M1840.92 147.052 L1845.17 147.052 L1850.5 167.283 L1855.8 147.052 L1860.82 147.052 L1866.15 167.283 L1871.45 147.052 L1875.71 147.052 L1868.92 172.978 L1863.9 172.978 L1858.32 151.728 L1852.72 172.978 L1847.7 172.978 L1840.92 147.052 Z\" fill=\"#000000\" fill-rule=\"evenodd\" fill-opacity=\"1\" /><path clip-path=\"url(#clip430)\" d=\"M 0 0 M1891.96 159.945 Q1886.79 159.945 1884.8 161.126 Q1882.81 162.306 1882.81 165.154 Q1882.81 167.422 1884.29 168.765 Q1885.8 170.084 1888.37 170.084 Q1891.91 170.084 1894.04 167.584 Q1896.19 165.061 1896.19 160.894 L1896.19 159.945 L1891.96 159.945 M1900.45 158.186 L1900.45 172.978 L1896.19 172.978 L1896.19 169.042 Q1894.73 171.403 1892.56 172.538 Q1890.38 173.649 1887.23 173.649 Q1883.25 173.649 1880.89 171.427 Q1878.55 169.181 1878.55 165.431 Q1878.55 161.056 1881.47 158.834 Q1884.41 156.612 1890.22 156.612 L1896.19 156.612 L1896.19 156.195 Q1896.19 153.255 1894.25 151.658 Q1892.33 150.038 1888.83 150.038 Q1886.61 150.038 1884.5 150.57 Q1882.4 151.103 1880.45 152.167 L1880.45 148.232 Q1882.79 147.33 1884.99 146.89 Q1887.19 146.427 1889.27 146.427 Q1894.9 146.427 1897.67 149.343 Q1900.45 152.26 1900.45 158.186 Z\" fill=\"#000000\" fill-rule=\"evenodd\" fill-opacity=\"1\" /><path clip-path=\"url(#clip430)\" d=\"M 0 0 M1919.94 151.033 Q1919.22 150.617 1918.37 150.431 Q1917.54 150.223 1916.52 150.223 Q1912.91 150.223 1910.96 152.584 Q1909.04 154.922 1909.04 159.32 L1909.04 172.978 L1904.76 172.978 L1904.76 147.052 L1909.04 147.052 L1909.04 151.08 Q1910.38 148.718 1912.54 147.584 Q1914.69 146.427 1917.77 146.427 Q1918.21 146.427 1918.74 146.496 Q1919.27 146.543 1919.92 146.658 L1919.94 151.033 Z\" fill=\"#000000\" fill-rule=\"evenodd\" fill-opacity=\"1\" /><path clip-path=\"url(#clip430)\" d=\"M 0 0 M1928.62 139.691 L1928.62 147.052 L1937.4 147.052 L1937.4 150.362 L1928.62 150.362 L1928.62 164.436 Q1928.62 167.607 1929.48 168.51 Q1930.36 169.413 1933.02 169.413 L1937.4 169.413 L1937.4 172.978 L1933.02 172.978 Q1928.09 172.978 1926.22 171.149 Q1924.34 169.297 1924.34 164.436 L1924.34 150.362 L1921.22 150.362 L1921.22 147.052 L1924.34 147.052 L1924.34 139.691 L1928.62 139.691 Z\" fill=\"#000000\" fill-rule=\"evenodd\" fill-opacity=\"1\" /><path clip-path=\"url(#clip430)\" d=\"M 0 0 M1951.91 150.038 Q1948.48 150.038 1946.49 152.723 Q1944.5 155.385 1944.5 160.038 Q1944.5 164.691 1946.47 167.376 Q1948.46 170.038 1951.91 170.038 Q1955.31 170.038 1957.3 167.353 Q1959.29 164.667 1959.29 160.038 Q1959.29 155.431 1957.3 152.746 Q1955.31 150.038 1951.91 150.038 M1951.91 146.427 Q1957.47 146.427 1960.64 150.038 Q1963.81 153.649 1963.81 160.038 Q1963.81 166.404 1960.64 170.038 Q1957.47 173.649 1951.91 173.649 Q1946.33 173.649 1943.16 170.038 Q1940.01 166.404 1940.01 160.038 Q1940.01 153.649 1943.16 150.038 Q1946.33 146.427 1951.91 146.427 Z\" fill=\"#000000\" fill-rule=\"evenodd\" fill-opacity=\"1\" /><path clip-path=\"url(#clip430)\" d=\"M 0 0 M1980.41 134.899 L1985.01 134.899 L1977.47 143.603 L1973.92 143.603 L1980.41 134.899 M1984.8 147.816 L1984.8 151.843 Q1983 150.917 1981.05 150.455 Q1979.11 149.992 1977.03 149.992 Q1973.85 149.992 1972.26 150.964 Q1970.68 151.936 1970.68 153.88 Q1970.68 155.362 1971.82 156.218 Q1972.95 157.052 1976.38 157.816 L1977.84 158.14 Q1982.37 159.112 1984.27 160.894 Q1986.19 162.654 1986.19 165.825 Q1986.19 169.436 1983.32 171.542 Q1980.47 173.649 1975.47 173.649 Q1973.39 173.649 1971.12 173.232 Q1968.88 172.839 1966.38 172.028 L1966.38 167.63 Q1968.74 168.857 1971.03 169.482 Q1973.32 170.084 1975.57 170.084 Q1978.58 170.084 1980.2 169.066 Q1981.82 168.024 1981.82 166.149 Q1981.82 164.413 1980.64 163.487 Q1979.48 162.561 1975.52 161.704 L1974.04 161.357 Q1970.08 160.524 1968.32 158.811 Q1966.56 157.075 1966.56 154.066 Q1966.56 150.408 1969.16 148.418 Q1971.75 146.427 1976.52 146.427 Q1978.88 146.427 1980.96 146.774 Q1983.04 147.121 1984.8 147.816 Z\" fill=\"#000000\" fill-rule=\"evenodd\" fill-opacity=\"1\" /><path clip-path=\"url(#clip430)\" d=\"M 0 0 M2009.32 148.047 L2009.32 152.029 Q2007.51 151.033 2005.68 150.547 Q2003.88 150.038 2002.03 150.038 Q1997.88 150.038 1995.59 152.677 Q1993.3 155.292 1993.3 160.038 Q1993.3 164.783 1995.59 167.422 Q1997.88 170.038 2002.03 170.038 Q2003.88 170.038 2005.68 169.552 Q2007.51 169.042 2009.32 168.047 L2009.32 171.982 Q2007.53 172.816 2005.61 173.232 Q2003.72 173.649 2001.56 173.649 Q1995.71 173.649 1992.26 169.968 Q1988.81 166.288 1988.81 160.038 Q1988.81 153.695 1992.28 150.061 Q1995.78 146.427 2001.84 146.427 Q2003.81 146.427 2005.68 146.843 Q2007.56 147.237 2009.32 148.047 Z\" fill=\"#000000\" fill-rule=\"evenodd\" fill-opacity=\"1\" /><path clip-path=\"url(#clip430)\" d=\"M 0 0 M2013.78 147.052 L2018.04 147.052 L2018.04 172.978 L2013.78 172.978 L2013.78 147.052 M2013.78 136.959 L2018.04 136.959 L2018.04 142.353 L2013.78 142.353 L2013.78 136.959 Z\" fill=\"#000000\" fill-rule=\"evenodd\" fill-opacity=\"1\" /><path clip-path=\"url(#clip430)\" d=\"M 0 0 M2047.63 150.038 Q2044.2 150.038 2042.21 152.723 Q2040.22 155.385 2040.22 160.038 Q2040.22 164.691 2042.19 167.376 Q2044.18 170.038 2047.63 170.038 Q2051.03 170.038 2053.02 167.353 Q2055.01 164.667 2055.01 160.038 Q2055.01 155.431 2053.02 152.746 Q2051.03 150.038 2047.63 150.038 M2047.63 146.427 Q2053.18 146.427 2056.35 150.038 Q2059.53 153.649 2059.53 160.038 Q2059.53 166.404 2056.35 170.038 Q2053.18 173.649 2047.63 173.649 Q2042.05 173.649 2038.88 170.038 Q2035.73 166.404 2035.73 160.038 Q2035.73 153.649 2038.88 150.038 Q2042.05 146.427 2047.63 146.427 Z\" fill=\"#000000\" fill-rule=\"evenodd\" fill-opacity=\"1\" /><path clip-path=\"url(#clip430)\" d=\"M 0 0 M2082.6 160.038 Q2082.6 155.339 2080.66 152.677 Q2078.74 149.992 2075.36 149.992 Q2071.98 149.992 2070.03 152.677 Q2068.11 155.339 2068.11 160.038 Q2068.11 164.737 2070.03 167.422 Q2071.98 170.084 2075.36 170.084 Q2078.74 170.084 2080.66 167.422 Q2082.6 164.737 2082.6 160.038 M2068.11 150.987 Q2069.46 148.672 2071.49 147.561 Q2073.55 146.427 2076.4 146.427 Q2081.12 146.427 2084.06 150.177 Q2087.02 153.927 2087.02 160.038 Q2087.02 166.149 2084.06 169.899 Q2081.12 173.649 2076.4 173.649 Q2073.55 173.649 2071.49 172.538 Q2069.46 171.403 2068.11 169.089 L2068.11 172.978 L2063.83 172.978 L2063.83 136.959 L2068.11 136.959 L2068.11 150.987 Z\" fill=\"#000000\" fill-rule=\"evenodd\" fill-opacity=\"1\" /><path clip-path=\"url(#clip430)\" d=\"M 0 0 M2091.49 136.959 L2095.75 136.959 L2095.75 172.978 L2091.49 172.978 L2091.49 136.959 Z\" fill=\"#000000\" fill-rule=\"evenodd\" fill-opacity=\"1\" /><path clip-path=\"url(#clip430)\" d=\"M 0 0 M2100.22 147.052 L2104.48 147.052 L2104.48 172.978 L2100.22 172.978 L2100.22 147.052 M2100.22 136.959 L2104.48 136.959 L2104.48 142.353 L2100.22 142.353 L2100.22 136.959 Z\" fill=\"#000000\" fill-rule=\"evenodd\" fill-opacity=\"1\" /><path clip-path=\"url(#clip430)\" d=\"M 0 0 M2127.6 148.047 L2127.6 152.029 Q2125.8 151.033 2123.97 150.547 Q2122.16 150.038 2120.31 150.038 Q2116.17 150.038 2113.88 152.677 Q2111.58 155.292 2111.58 160.038 Q2111.58 164.783 2113.88 167.422 Q2116.17 170.038 2120.31 170.038 Q2122.16 170.038 2123.97 169.552 Q2125.8 169.042 2127.6 168.047 L2127.6 171.982 Q2125.82 172.816 2123.9 173.232 Q2122 173.649 2119.85 173.649 Q2113.99 173.649 2110.54 169.968 Q2107.09 166.288 2107.09 160.038 Q2107.09 153.695 2110.57 150.061 Q2114.06 146.427 2120.13 146.427 Q2122.09 146.427 2123.97 146.843 Q2125.84 147.237 2127.6 148.047 Z\" fill=\"#000000\" fill-rule=\"evenodd\" fill-opacity=\"1\" /><path clip-path=\"url(#clip430)\" d=\"M 0 0 M2130.22 147.052 L2150.45 147.052 L2150.45 150.941 L2134.43 169.575 L2150.45 169.575 L2150.45 172.978 L2129.64 172.978 L2129.64 169.089 L2145.66 150.455 L2130.22 150.455 L2130.22 147.052 Z\" fill=\"#000000\" fill-rule=\"evenodd\" fill-opacity=\"1\" /><path clip-path=\"url(#clip430)\" d=\"M 0 0 M2164.96 150.038 Q2161.54 150.038 2159.55 152.723 Q2157.56 155.385 2157.56 160.038 Q2157.56 164.691 2159.52 167.376 Q2161.52 170.038 2164.96 170.038 Q2168.37 170.038 2170.36 167.353 Q2172.35 164.667 2172.35 160.038 Q2172.35 155.431 2170.36 152.746 Q2168.37 150.038 2164.96 150.038 M2164.96 146.427 Q2170.52 146.427 2173.69 150.038 Q2176.86 153.649 2176.86 160.038 Q2176.86 166.404 2173.69 170.038 Q2170.52 173.649 2164.96 173.649 Q2159.39 173.649 2156.21 170.038 Q2153.07 166.404 2153.07 160.038 Q2153.07 153.649 2156.21 150.038 Q2159.39 146.427 2164.96 146.427 Z\" fill=\"#000000\" fill-rule=\"evenodd\" fill-opacity=\"1\" /><path clip-path=\"url(#clip430)\" d=\"M 0 0 M2202.88 157.329 L2202.88 172.978 L2198.62 172.978 L2198.62 157.468 Q2198.62 153.788 2197.19 151.959 Q2195.75 150.13 2192.88 150.13 Q2189.43 150.13 2187.44 152.33 Q2185.45 154.529 2185.45 158.325 L2185.45 172.978 L2181.17 172.978 L2181.17 147.052 L2185.45 147.052 L2185.45 151.08 Q2186.98 148.742 2189.04 147.584 Q2191.12 146.427 2193.83 146.427 Q2198.3 146.427 2200.59 149.205 Q2202.88 151.959 2202.88 157.329 Z\" fill=\"#000000\" fill-rule=\"evenodd\" fill-opacity=\"1\" /><path clip-path=\"url(#clip430)\" d=\"M 0 0 M2229.52 158.95 L2229.52 161.033 L2209.94 161.033 Q2210.22 165.431 2212.58 167.746 Q2214.96 170.038 2219.2 170.038 Q2221.65 170.038 2223.95 169.436 Q2226.26 168.834 2228.53 167.63 L2228.53 171.658 Q2226.24 172.63 2223.83 173.14 Q2221.42 173.649 2218.95 173.649 Q2212.74 173.649 2209.11 170.038 Q2205.5 166.427 2205.5 160.269 Q2205.5 153.904 2208.92 150.177 Q2212.37 146.427 2218.2 146.427 Q2223.44 146.427 2226.47 149.806 Q2229.52 153.163 2229.52 158.95 M2225.26 157.7 Q2225.22 154.205 2223.3 152.121 Q2221.4 150.038 2218.25 150.038 Q2214.69 150.038 2212.53 152.052 Q2210.4 154.066 2210.08 157.723 L2225.26 157.7 Z\" fill=\"#000000\" fill-rule=\"evenodd\" fill-opacity=\"1\" /><polyline clip-path=\"url(#clip430)\" style=\"stroke:#ffff00; stroke-width:4; stroke-opacity:1; fill:none\" points=\"\n",
       "  1668.39,216.178 1816.27,216.178 \n",
       "  \"/>\n",
       "<circle clip-path=\"url(#clip430)\" cx=\"1742.33\" cy=\"216.178\" r=\"23\" fill=\"#ffff00\" fill-rule=\"evenodd\" fill-opacity=\"1\" stroke=\"#000000\" stroke-opacity=\"1\" stroke-width=\"5.12\"/>\n",
       "<path clip-path=\"url(#clip430)\" d=\"M 0 0 M1868.79 201.56 L1868.79 206.49 Q1866.42 204.291 1863.74 203.203 Q1861.08 202.115 1858.07 202.115 Q1852.14 202.115 1848.99 205.749 Q1845.85 209.36 1845.85 216.212 Q1845.85 223.041 1848.99 226.675 Q1852.14 230.286 1858.07 230.286 Q1861.08 230.286 1863.74 229.198 Q1866.42 228.11 1868.79 225.911 L1868.79 230.796 Q1866.33 232.462 1863.58 233.296 Q1860.85 234.129 1857.79 234.129 Q1849.94 234.129 1845.43 229.337 Q1840.92 224.522 1840.92 216.212 Q1840.92 207.879 1845.43 203.087 Q1849.94 198.273 1857.79 198.273 Q1860.89 198.273 1863.62 199.106 Q1866.38 199.916 1868.79 201.56 Z\" fill=\"#000000\" fill-rule=\"evenodd\" fill-opacity=\"1\" /><path clip-path=\"url(#clip430)\" d=\"M 0 0 M1893.44 212.509 Q1895.04 209.638 1897.26 208.273 Q1899.48 206.907 1902.49 206.907 Q1906.54 206.907 1908.74 209.754 Q1910.94 212.578 1910.94 217.809 L1910.94 233.458 L1906.66 233.458 L1906.66 217.948 Q1906.66 214.222 1905.34 212.416 Q1904.02 210.61 1901.31 210.61 Q1898 210.61 1896.08 212.81 Q1894.16 215.009 1894.16 218.805 L1894.16 233.458 L1889.87 233.458 L1889.87 217.948 Q1889.87 214.198 1888.55 212.416 Q1887.23 210.61 1884.48 210.61 Q1881.22 210.61 1879.29 212.833 Q1877.37 215.032 1877.37 218.805 L1877.37 233.458 L1873.09 233.458 L1873.09 207.532 L1877.37 207.532 L1877.37 211.56 Q1878.83 209.175 1880.87 208.041 Q1882.91 206.907 1885.71 206.907 Q1888.53 206.907 1890.5 208.342 Q1892.49 209.777 1893.44 212.509 Z\" fill=\"#000000\" fill-rule=\"evenodd\" fill-opacity=\"1\" /><path clip-path=\"url(#clip430)\" d=\"M 0 0 M1927.19 220.425 Q1922.03 220.425 1920.04 221.606 Q1918.04 222.786 1918.04 225.634 Q1918.04 227.902 1919.53 229.245 Q1921.03 230.564 1923.6 230.564 Q1927.14 230.564 1929.27 228.064 Q1931.42 225.541 1931.42 221.374 L1931.42 220.425 L1927.19 220.425 M1935.68 218.666 L1935.68 233.458 L1931.42 233.458 L1931.42 229.522 Q1929.97 231.883 1927.79 233.018 Q1925.61 234.129 1922.47 234.129 Q1918.48 234.129 1916.12 231.907 Q1913.79 229.661 1913.79 225.911 Q1913.79 221.536 1916.7 219.314 Q1919.64 217.092 1925.45 217.092 L1931.42 217.092 L1931.42 216.675 Q1931.42 213.735 1929.48 212.138 Q1927.56 210.518 1924.06 210.518 Q1921.84 210.518 1919.73 211.05 Q1917.63 211.583 1915.68 212.647 L1915.68 208.712 Q1918.02 207.81 1920.22 207.37 Q1922.42 206.907 1924.5 206.907 Q1930.13 206.907 1932.91 209.823 Q1935.68 212.74 1935.68 218.666 Z\" fill=\"#000000\" fill-rule=\"evenodd\" fill-opacity=\"1\" /><path clip-path=\"url(#clip430)\" d=\"M 0 0 M1961.7 207.532 L1952.33 220.147 L1962.19 233.458 L1957.16 233.458 L1949.62 223.272 L1942.07 233.458 L1937.05 233.458 L1947.12 219.893 L1937.91 207.532 L1942.93 207.532 L1949.8 216.768 L1956.68 207.532 L1961.7 207.532 Z\" fill=\"#000000\" fill-rule=\"evenodd\" fill-opacity=\"1\" /><polyline clip-path=\"url(#clip430)\" style=\"stroke:#3da44d; stroke-width:4; stroke-opacity:1; fill:none\" stroke-dasharray=\"16, 10\" points=\"\n",
       "  1668.39,276.658 1816.27,276.658 \n",
       "  \"/>\n",
       "<path clip-path=\"url(#clip430)\" d=\"M 0 0 M1840.92 259.378 L1847.88 259.378 L1856.7 282.896 L1865.57 259.378 L1872.54 259.378 L1872.54 293.938 L1867.98 293.938 L1867.98 263.59 L1859.06 287.294 L1854.36 287.294 L1845.45 263.59 L1845.45 293.938 L1840.92 293.938 L1840.92 259.378 Z\" fill=\"#000000\" fill-rule=\"evenodd\" fill-opacity=\"1\" /><path clip-path=\"url(#clip430)\" d=\"M 0 0 M1872.4 259.378 L1901.63 259.378 L1901.63 263.313 L1889.36 263.313 L1889.36 293.938 L1884.66 293.938 L1884.66 263.313 L1872.4 263.313 L1872.4 259.378 Z\" fill=\"#000000\" fill-rule=\"evenodd\" fill-opacity=\"1\" /><path clip-path=\"url(#clip430)\" d=\"M 0 0 M1929.39 262.04 L1929.39 266.97 Q1927.03 264.771 1924.34 263.683 Q1921.68 262.595 1918.67 262.595 Q1912.74 262.595 1909.6 266.229 Q1906.45 269.84 1906.45 276.692 Q1906.45 283.521 1909.6 287.155 Q1912.74 290.766 1918.67 290.766 Q1921.68 290.766 1924.34 289.678 Q1927.03 288.59 1929.39 286.391 L1929.39 291.276 Q1926.93 292.942 1924.18 293.776 Q1921.45 294.609 1918.39 294.609 Q1910.54 294.609 1906.03 289.817 Q1901.52 285.002 1901.52 276.692 Q1901.52 268.359 1906.03 263.567 Q1910.54 258.753 1918.39 258.753 Q1921.49 258.753 1924.22 259.586 Q1926.98 260.396 1929.39 262.04 Z\" fill=\"#000000\" fill-rule=\"evenodd\" fill-opacity=\"1\" /></svg>\n"
      ]
     },
     "execution_count": 784,
     "metadata": {},
     "output_type": "execute_result"
    }
   ],
   "source": [
    "plot!(t_step2, fill(MIC, length(t_step2)), linestyle=:dash, label=\"MTC\")"
   ]
  },
  {
   "cell_type": "markdown",
   "metadata": {},
   "source": [
    "## 9. Bibliografia<a name=\"9\"></a>"
   ]
  },
  {
   "cell_type": "markdown",
   "metadata": {},
   "source": [
    "1. Orzechowska-Juzwenko K. (red.), *Podstawy farmakologii klinicznej*, VOLUMED, Wrocław 1997\n",
    "2. Grabowski T., *Farmakokinetyka i biofarmacja*, www.biokinetica.pl, wydanie04122015\n",
    "3. Herman T.W., *Farmakokinetyka. Teoria i Praktyka*, Wydawnictwo Lekarskie PZWL, Warszawa 2002\n",
    "4. Występowaniu wyrażenia *pharmakinetics* https://pubmed.ncbi.nlm.nih.gov/\n",
    "5. https://journals.asm.org/doi/10.1128/AAC.00182-11\n",
    "6. Farrington M. *Clinical Pharmacology* 2012 \n",
    "7. Srirat Kasiwong *Pharmacokinetics of Ampicillin, Gentamicin, Amikacin and Omeprazole in Llamas.* 1997\n",
    "8. W. Franklin: Family Camelidae (Camels). W: D.E. Wilson & R.A. Mittermeier *Handbook of the Mammals of the World. Cz. 2: Hoofed Mammals* 2011]\n",
    "9. Septama A.W, Panichayupakaranant P. *Antibacterial activity of artocarpanone isolated from Artocarpus heterophyllus heartwoods against diarrheal pathogens and its mechanism of action on membrane permeability* 2017\n"
   ]
  },
  {
   "cell_type": "code",
   "execution_count": null,
   "metadata": {},
   "outputs": [],
   "source": []
  }
 ],
 "metadata": {
  "interpreter": {
   "hash": "0a3efb3bb407a7e3626485f94149d9397fa80536653b5fb992d7b2e29c0fd3ba"
  },
  "kernelspec": {
   "display_name": "Julia 1.5.3",
   "language": "julia",
   "name": "julia-1.5"
  },
  "language_info": {
   "file_extension": ".jl",
   "mimetype": "application/julia",
   "name": "julia",
   "version": "1.5.3"
  }
 },
 "nbformat": 4,
 "nbformat_minor": 4
}
