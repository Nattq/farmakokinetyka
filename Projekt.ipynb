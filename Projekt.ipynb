{
 "cells": [
  {
   "cell_type": "markdown",
   "metadata": {},
   "source": [
    "# Dynamika wchłaniania się leków - farmakokinetyka"
   ]
  },
  {
   "cell_type": "markdown",
   "metadata": {},
   "source": [
    "### Równania różniczkowe w technice"
   ]
  },
  {
   "cell_type": "markdown",
   "metadata": {},
   "source": [
    "#### Urszula Spik i Natalia Jelito\n",
    "---"
   ]
  },
  {
   "cell_type": "markdown",
   "metadata": {},
   "source": [
    "## Spis treści:"
   ]
  },
  {
   "cell_type": "markdown",
   "metadata": {},
   "source": [
    "1. [Czym jest farmakokinetyka i jej zastosowania](#1)\n",
    "2. [Nota historyczna](#2)\n",
    "3. [Model jednokompartmentowy - pojęcia wstępne](#3)\n",
    "    1. [Pojęcie kompartmentu](#3.1)\n",
    "    2. [Modelowanie kompartmentowe](#3.2)\n",
    "    3. [Otwarty model jednokompartmentowy](#3.3)\n",
    "    4. [Założenia dla modelu kompartmentowego](#3.4)\n",
    "4. [Masa (stężenie) leku we krwi jako funkcja czasu](#4)\n",
    "    1. [Dawka jednorazowa dożylna](#4.1)\n",
    "    2. [Dawka jednorazowa pozanaczyniowa](#4.2)\n",
    "5. [Parametry farmakokinetyczne](#5)\n",
    "6. [LADME - procesy farmakinetyczne](#6)\n",
    "    1. [Uwalnianie (L)](#6.1)\n",
    "    2. [Wchłanianie (A)](#6.2)\n",
    "    3. [Rozmieszczanie (D)](#6.3)\n",
    "    4. [Metabolizm (M)](#6.4)\n",
    "    5. [Wydalanie (E)](#6.5)\n",
    "7. [Metody numeryczne](#6)\n",
    "    1. [Algorytm](#7.1)\n",
    "    2. [Implementacja](#7.2)\n",
    "8. [Zastosowanie modelu na przykładach](#8)\n",
    "    1. [Dawka jednorazowa dożylna](#8.1)\n",
    "    2. [Dawka jednorazowa doustna](#8.2)\n",
    "9. [Bibliografia](#9)\n",
    "---"
   ]
  },
  {
   "cell_type": "markdown",
   "metadata": {},
   "source": [
    "## 1. Czym jest farmakokinetyka i jej zastosowania <a name=\"1\"></a>"
   ]
  },
  {
   "cell_type": "markdown",
   "metadata": {},
   "source": [
    "**Farmakokinetyka** *(pharmacokinetics)* to dziedzina farmakologii opisująca przebieg procesów dotyczących losów leków w i ich metabolitów w organizmie w czasie.[x]\n",
    "\n",
    "Farmakokinetyka jest stosowna aby kontrolować właściwości leku podczas jego tworzenia, na któę składają się następujące etapy[x] :\n",
    "* szukanie kandydatów na leki  \n",
    "* projekt i formulację postaci  \n",
    "* zastosowania u pacjenta \n",
    "* zakończenie terapii\n",
    "* kontrola skutków terapii. \n",
    "\n",
    "Kontrolowanie właściwości leku jest możliwe dzięki matematycznemu i fizykovhemicznemu opisowi leku, ale też zmian jakim ulega po podaniu do organizmu.\n",
    "\n",
    "Obecnie analiza parametrów farmakokinetycznych rozwija się w czterech podstawowych środowiskach badawczych: *in silico* (łac. w krzemie - komputerowo), *in vivo* (łac. na żywym - w organizmie), *in vitro*(łac, w szkle - laboratoryjnie), *in situ*(łac. w miejscu - reakcje biochemiczne w utrwalonym chemicznie organizmie).\n",
    "\n",
    "Zainteresowanie farmakokinetyką ma tendencję wzrostową, co widać w rosnącej liczbie publikacji naukowych zawierających słowo kluczowe *pharmacokinetics* w tytule publikacji.[x] \n",
    "\n",
    "![Występowanie słowa pharmacokinetics](obrazy/wystepowanie.png)"
   ]
  },
  {
   "cell_type": "markdown",
   "metadata": {},
   "source": [
    "## 2. Nota historyczna <a name=\"2\"></a>"
   ]
  },
  {
   "cell_type": "markdown",
   "metadata": {},
   "source": [
    "Termin farmakokinetyka został wprowadzony dopiero 1953 przez Friedricha Hartmuta Dosta, a jej gwałtowny rozwój przypada na okres powojenny, głównie w Stanach Zjednoczonych i Europie Zachodniej. Było to uwarunkowane szerokim zastosowaniem cyfrowych i analogowych maszyn matematycznych.\n",
    "\n",
    "Farmakokinetyka jest dziedziną, która ma silny związek z osiągnięciami pochodzącymi z innych dziedzin naukowych. Przykład w tej sytuacji będzie stanowić analiza chemiczna, która dała początek podstawowym narzędziom analizy wykorzystywanych w farmakokinetyce.\n",
    "\n",
    "Jednym z początkowych, przełomowych wydarzeń było wykazanie przez Erika Widmarka w latach 1920-1932, że jest możliwe przedstawienie zamiany stęzenia we krwi acetonu i alkoholu etylowego w sposób matematyczny za pomocą prostych równań i wykresów.\n",
    "\n",
    "Pierwasza publikacja z zakresu farmakokinetyki miała miejsce w 1937 przez Torstena i Teorell pt. *„Kinetics of distribution of substances administered to the body”.*"
   ]
  },
  {
   "cell_type": "markdown",
   "metadata": {},
   "source": [
    "## 3. Model jednokompartmentowy  <a name=\"3\"></a>"
   ]
  },
  {
   "cell_type": "markdown",
   "metadata": {},
   "source": [
    "### A. Pojęcie kompartmentu <a name=\"3.1\"></a>"
   ]
  },
  {
   "cell_type": "markdown",
   "metadata": {},
   "source": [
    "Aby interpretować wyniki w sposób matematyczny przyjmuje się model, w którym organizm składa się z jednego bądź kilku tzw. *kompartmentów*. \n",
    "\n",
    "Stosowane w modelu matematycznym kompartmenty nie zawsze pokrywają się ze strukurami anatomicznymi organizmu. Przyjmuje się, że z uwagi na złożoność każdego żywego organizmu stanowią one układ wielokompartmentowy. Jednak można zauważyć, że wiele tkanek wykazuje podobne właściwości w odniesieniu do badanego leku. Dzięki temu możliwe jest łączenie ich w jeden kompartment i w ten sposób redukować liczbę kompartmentów do jedynie kilku.\n",
    "Kompartment nie zawsze dotyczy stanu fizycznego substancji leczniczej, czyli miejsca jej występowania w organizmie ale także jej różnych form.\n",
    "\n",
    "Biorąc te założenia można podać definicję kompartmentu:\n",
    "\n",
    "*Jeśli lek występuje w układzie biologicznym w kulku rozróżnialnych formach lub miejscach organizmu i jeśli przechodzi z jednej formy lub miejsca w inną formę lub do innego miejsca z mierzalną szybkością, to wtedy każda forma i(lub) każde miejsce są traktowane jako oddzielne kompartmenty*."
   ]
  },
  {
   "cell_type": "markdown",
   "metadata": {},
   "source": [
    "### B. Modelowanie kompartmentowe  <a name=\"3.2\"></a> [2]"
   ]
  },
  {
   "cell_type": "markdown",
   "metadata": {},
   "source": [
    "Modelowanie kompartmrntowe zazwyczaj obejmuje modele składające się z 1, 2 lub 3 kompartmentów. \n",
    "Model jednokompartmentowy jest najbardziej uproszczony i nie opisuje dokładnie rzeczywistego przebiegu procesów organizmie. Podstawą tego założenia, jest fakt, że modelowanie kompartmentowe nie daje możliwości śledzenia procesów dystrybucji leku.\n",
    "\n",
    "Istnieje model jednokompartmentowy, który bierze pod uwagę istnienie komaprtmentów peryferyjnych. W tym przypadku również nie jest możliwy dokładny opis transportu leku .\n",
    "\n",
    "Bliższe rzeczywistości są modele składające się z 2 lub 3 kompartmentów. Podstawomymi kompartmentami, które składają się na organizm są komartment centralny oraz komaprtment obwodowy. Kompartmentem centralnym jest w zależności od definicji krew lub płyn międzykomórkowy i dobrze ukrwione narządy. Stężenie leku w dobrze unaczynionych narządach jest podobne do tego w osoczu\n",
    "\n",
    "Kopartment peryferyjny to każda przestrzeń do której zachodzi dystrybucja. Kompartmentem tkankowym są tkanki słabounaczynione w których lek osiąga niższe stężenie i przenika wolniej. Proces przenikania leku do tkanek zależy od czynników takich jak  budowa chemiczna, postać leku czy drogi podania.\n",
    "\n",
    "Kompartmentem efektorowym jest każde miejsce do którego dociera lek zapewniające efekt terapeutyczny. Zwykle są to tkanki objęte procesem patologicznym. Dla leków o działaniu miejscowym kompartmentem efektorowym jest powierzchnia skóry i komórki skóry. Trudnym zadaniem jest stworzenie leku, który zagwarantuje zaistnienie substancji leczniczej w konkretnym miejscu - kompartmencie efektorowym w odpowiednim stężeniu przez określony czas."
   ]
  },
  {
   "cell_type": "markdown",
   "metadata": {},
   "source": [
    "### C. Otwarty model jednokompartmentowy <a name=\"3.3\"></a>"
   ]
  },
  {
   "cell_type": "markdown",
   "metadata": {},
   "source": [
    "To najprostszy model farmakokinetyczny. Składa się on z jednego kompartmentu. Określamy go jako otwarty ponieważ można wprowadzić do organizmu lek różnymi sposobami (dożylnie lub pozanaczyniowo), eliminowany jest również innymi drogami (np. przez nerki z moczem)."
   ]
  },
  {
   "cell_type": "markdown",
   "metadata": {},
   "source": [
    "### D. Założenia dla modelu jednokompartmentowego <a name=\"3.4\"></a>"
   ]
  },
  {
   "cell_type": "markdown",
   "metadata": {},
   "source": [
    "* Organizm to jeden kompartment, którego objętość dystrybucji wynosi $V_d$.\n",
    "* Nastąpuje natychmiastowe i homogeniczne mieszanie leku w krążących płynach i tkankach organizmu.\n",
    "* Badana objętość płynu ustrojowego ma określoną masę leku, która jest cały czas proporcjonalna do stężenia leku w każdym dostępnym płynie ustrojowym lub w każdej liczącej się tkance.\n",
    "* Lek eliminowany jest od razu po wprowadzeniu.\n",
    "* Procesy wchłaniania i eliminacji zachodzą z różnymi szybkościami. Przeważnie wchłanianie jest szybsze od eliminacji.\n",
    "* Stosowane modele liniowe są stacjonarne tzn. występujące w równaniach różniczkowych stałe szybkości są nie zależne od czasu\n",
    "* Stała szybkości eliminacji leku z organizmu ($\\mathrm{K}$) jest sumą wszystkich szybkości wydalania z organizmu"
   ]
  },
  {
   "cell_type": "markdown",
   "metadata": {},
   "source": [
    "## 4. Masa (stężenie) leku we krwi jako funkcja czasu <a name=\"4\"></a>"
   ]
  },
  {
   "cell_type": "markdown",
   "metadata": {},
   "source": [
    "### A. Dawka jednorazowa dożylna w modelu jednokompartmentowym<a name=\"4.1\"></a>"
   ]
  },
  {
   "cell_type": "markdown",
   "metadata": {},
   "source": [
    "Model ten można zobrazować za pomocą poniższego schematu:"
   ]
  },
  {
   "cell_type": "markdown",
   "metadata": {},
   "source": [
    "![Dawka jednorazowa dożyln](obrazy/dozylnaschemat.png)"
   ]
  },
  {
   "cell_type": "markdown",
   "metadata": {},
   "source": [
    "gdzie:\n",
    "\n",
    "$X_0$ - masa leku podana dożylnie (dawka) w postaci jednorazowego wstrzyknięcia,\n",
    "\n",
    "$X$ - masa leku we krwi (reprezentującej cały komparment) w czasie t,\n",
    "\n",
    "$X_u$ - masa leku we krwi (reprezentującej cały kompartment) w czasie t,\n",
    "\n",
    "$X_{nr}$ - masa leku wydalona drogami pozanerkowymi w czasie t, \n",
    "\n",
    "$\\mathrm{k_e}$ - stała szybkości wydalania leku przez nerki zgodnie z procesem pierwszego rzędu, \n",
    "\n",
    "$\\mathrm{k_{nr}}$ - stała szybkości pierwszego rzędu wydalania leku drogami pozanerkowymi, np. z żółcią po metabolizmie w wątrobie."
   ]
  },
  {
   "cell_type": "markdown",
   "metadata": {},
   "source": [
    "Stałą szybkości eliminacji leku z organizmu możemy zapisać jako:\n",
    "$$ \\mathrm{K} = \\mathrm{k_e} + \\mathrm{k_{nr}} \\tag{4.1}$$"
   ]
  },
  {
   "cell_type": "markdown",
   "metadata": {},
   "source": [
    "W ten sposób, przy założeniu, że dystrybucja dawki dożylnej będzie zachodziła natychmiastowo w całym organizmie (kompartmencie), nasz model ulega uproszczeniu:"
   ]
  },
  {
   "cell_type": "markdown",
   "metadata": {},
   "source": [
    "![Dawka dożylna schemat uproszczony](obrazy/dozylnaschematupr.png)"
   ]
  },
  {
   "cell_type": "markdown",
   "metadata": {},
   "source": [
    "W celu wyprowadzenia równania na ilość leku we krwi będącego funkcją czasu należy rozwiązać równanie różniczkowe pierwszego rzędu w postaci:\n",
    "$$ \\frac{dX}{dt} = -\\mathrm{K} \\cdot X \\tag{4.2}$$"
   ]
  },
  {
   "cell_type": "markdown",
   "metadata": {},
   "source": [
    "Korzystając z metody rozdzielenia zmiennych uzyskujemy równanie:\n",
    "$$ \\int_{X}^{X_0} \\frac{dX}{X} = -\\mathrm{K} \\cdot \\int_{0}^{t} dt $$\n",
    "\n",
    "Które po scałkowaniu przyjmuje postać:\n",
    "$$ \\mathrm{ln}X - \\mathrm{ln}X_0 = -\\mathrm{K} \\cdot t$$\n"
   ]
  },
  {
   "cell_type": "markdown",
   "metadata": {},
   "source": [
    "Następnie można sprowadzić je do równania:\n",
    "\n",
    "$$X = X_0 \\cdot \\mathrm{e}^{-\\mathrm{K} \\cdot t} \\tag{4.3}$$"
   ]
  },
  {
   "cell_type": "markdown",
   "metadata": {},
   "source": [
    "Z czego widać, że masa leku we krwi jest malejącą funkcją wykładniczą czasu."
   ]
  },
  {
   "cell_type": "markdown",
   "metadata": {},
   "source": [
    "Za pomocą doświadczeń w praktyce wyznacza się stężenie leku we krwi ($C$), a nie jego masę. Zatem powyższe równanie jest niepraktyczne. \n",
    "\n",
    "Wprowadżmy jednak pojęcie objętości dystrybucji ($V_d$), czyli hipotetycznej objętości płynów ustrojowych, których po homogenicznym rozmieszczeniu wprowadzanej dawki dożylnej lek miałby takie stężenie jak we krwi. W tym momencie można zapisać, że $$X = V_d \\cdot C \\tag{4.4}$$"
   ]
  },
  {
   "cell_type": "markdown",
   "metadata": {},
   "source": [
    "Używrając tej równości doprowadzamy nasze równanie do postaci \n",
    "\n",
    "$$ C(t) = C_0 \\cdot \\mathrm{e}^{-\\mathrm{K} \\cdot t} \\tag{4.5}$$"
   ]
  },
  {
   "cell_type": "markdown",
   "metadata": {},
   "source": [
    "Powyższe równanie można zlogarytmować, wtedy przyjmuje ono postać liniowego równania pierwszego rzędu:\n",
    "$$\\mathrm{ln}C = \\mathrm{ln}C_0 - \\mathrm{K} \\cdot t \\tag{4.6}$$"
   ]
  },
  {
   "cell_type": "markdown",
   "metadata": {},
   "source": [
    "### B Dawka pozanaczyniowa<a name=\"4.2\"></a>\n",
    "Gdy lek podawany jest pozanaczyniowo można przyjać następujący model jednokompartmentowy\n",
    "\n",
    "![Model pozanaczyniowy](obrazy/pozanacz.png)\n",
    "\n",
    "gdzie:\n",
    "$X_D$ - masa (ilość) leku w żołądku (mięśniu, jelicie grubym itp.)\n",
    "$\\mathrm{k}_a$ - stała szybkości pierwszego rzędu wchłaniania leku (absorbcji) do krwi.\n",
    "\n",
    "Naszym celem będzie znalezienie wzorów na $X_D$, $X$, $X_u$ jako funkcje czasu. \n",
    "Aby to osiągnąć zapiszmy odpowiednie równiania różniczkowe:\n",
    "$$-\\frac{\\mathrm{d}X_D}{\\mathrm{d}t} = \\mathrm{k}_a \\cdot X_D \\tag{4.6}$$\n",
    "$$ \\frac{\\mathrm{d}X}{\\mathrm{d}t} = \\mathrm{k}_a \\cdot X_D - \\mathrm{k}_e \\cdot X \\tag{4.7}$$\n",
    "$$\\frac{\\mathrm{d}X_u}{\\mathrm{d}t} = \\mathrm{k}_e \\cdot X \\tag{4.8}$$"
   ]
  },
  {
   "cell_type": "markdown",
   "metadata": {},
   "source": [
    "Z równania (4.6) otrzymujemy, że: $$X_D = X_{D_0} \\cdot \\mathrm{e}^{-\\mathrm{k}_e \\cdot t} \\tag{4.9}$$"
   ]
  },
  {
   "cell_type": "markdown",
   "metadata": {},
   "source": [
    "Aby znaleźć wyrażenie na $X$, różniczkujemy równanie (4.7) względem czasu:\n",
    "$$\\frac{\\mathrm{d}^2 X}{\\mathrm{d} t^2} = \\mathrm{k}_a \\cdot \\frac{\\mathrm{d}X_D}{\\mathrm{d}t} - \\mathrm{k}_e \\cdot \\frac{\\mathrm{d}X}{\\mathrm{d}t}$$"
   ]
  },
  {
   "cell_type": "markdown",
   "metadata": {},
   "source": [
    "Wykorzystamy teraz równanie (4.6) otrzymując:\n",
    "$$\\frac{\\mathrm{d}^2 X}{\\mathrm{d} t^2} + \\mathrm{k}_e \\cdot \\frac{\\mathrm{d}X}{\\mathrm{d}t} + \\mathrm{k}_a \\cdot \\mathrm{k}_a \\cdot X_D = 0$$"
   ]
  },
  {
   "cell_type": "markdown",
   "metadata": {},
   "source": [
    "Następnie ponownie skorzystamy z równania (4.7), dzięki któremu dostaniemy:\n",
    "$$\\frac{\\mathrm{d}^2 X}{\\mathrm{d} t^2} + \\left(\\mathrm{k}_a + \\mathrm{k}_e\\right) \\cdot \\frac{\\mathrm{d}X}{\\mathrm{d}t} + \\mathrm{k}_a \\cdot \\mathrm{k}_e \\cdot X = 0 \\tag{4.10}$$"
   ]
  },
  {
   "cell_type": "markdown",
   "metadata": {},
   "source": [
    "W ten sposób mamy równanie różniczkowe drugiego rzędu o stałych współczynnikach, którego rozwiązaniem będzie: $$X = C_1 \\cdot \\mathrm{e}^{r_1 \\cdot t} + C_2 \\cdot \\mathrm{e}^{r_2 \\cdot t} \\tag{4.11}$$"
   ]
  },
  {
   "cell_type": "markdown",
   "metadata": {},
   "source": [
    "W celu obliczenia $r_1$ i $r_2$ należy rozwiązać następujące równanie kwadratowe: $$r^2 + \\left(\\mathrm{k}_a + \\mathrm{k}_e\\right) \\cdot r + \\mathrm{k}_a \\cdot \\mathrm{k}_e = 0 \\tag{4.12}$$"
   ]
  },
  {
   "cell_type": "markdown",
   "metadata": {},
   "source": [
    "$$\\Delta = \\left(\\mathrm{k}_a - \\mathrm{k}_e\\right)^2 $$\n",
    "$$ r_1 = -\\mathrm{k}_e$$\n",
    "$$ r_2 = -\\mathrm{k}_a$$"
   ]
  },
  {
   "cell_type": "markdown",
   "metadata": {},
   "source": [
    "Stałe całkowania znajdziemy z warunków początkowych. W czasie $t=0$, $X=X_0=0$, co daje nam: $$C_1 + C_2 = 0 \\tag{4.13}$$"
   ]
  },
  {
   "cell_type": "markdown",
   "metadata": {},
   "source": [
    "Ponadto pochodna z równania (4.7) urości się do:\n",
    "$$\\frac{\\mathrm{d}X}{\\mathrm{d}t}\\biggr\\rvert_{t=0} = \\mathrm{k}_a \\cdot \\mathrm{X}_{D_0}$$"
   ]
  },
  {
   "cell_type": "markdown",
   "metadata": {},
   "source": [
    "Powyższą pochodną można obliczyć różniczkując po $t$ wynik równania (4.10):\n",
    "$$ X' = \\left(C_1 \\cdot \\mathrm{e}^{-\\mathrm{k}_e \\cdot t} + C_2 \\cdot \\mathrm{e}^{-\\mathrm{k}_a \\cdot t}\\right)'$$"
   ]
  },
  {
   "cell_type": "markdown",
   "metadata": {},
   "source": [
    "Oblicza się ją jako sumę pochodnych w następujący sposób przez podstawienie: $$u = - \\mathrm{k}_e t$$ $$\\frac{\\mathrm{d}u}{\\mathrm{d}t}=-\\mathrm{k}_e$$ \n",
    "$$\\frac{\\mathrm{d}X}{\\mathrm{d}u} = - C_1 \\cdot \\mathrm{e}^u$$ \n",
    "$$\\frac{\\mathrm{d}X}{\\mathrm{d}u} \\cdot \\frac{\\mathrm{d}u}{\\mathrm{d}t} = - \\mathrm{k}_e \\cdot C_1 \\cdot \\mathrm{e}^{- \\mathrm{k}_e \\cdot t}$$"
   ]
  },
  {
   "cell_type": "markdown",
   "metadata": {},
   "source": [
    "Z czego ostatecznie dostajemy:\n",
    "$$\\frac{\\mathrm{d}X}{\\mathrm{d}t} = - \\mathrm{k}_e \\cdot C_1 \\cdot \\mathrm{e}^{- \\mathrm{k}_e \\cdot t} - \\mathrm{k}_a \\cdot C_2 \\cdot \\mathrm{e}^{- \\mathrm{k}_a \\cdot t}$$"
   ]
  },
  {
   "cell_type": "markdown",
   "metadata": {},
   "source": [
    "Teraz powyższa pochodna w czasie t = 0 wynosi:\n",
    "$$\\frac{\\mathrm{d}X}{\\mathrm{d}t}\\biggr\\rvert_{t=0} = - \\mathrm{k}_e \\cdot C_1 - \\mathrm{k}_a \\cdot C_2$$"
   ]
  },
  {
   "cell_type": "markdown",
   "metadata": {},
   "source": [
    "W ten sposób dostajemy układ równań z dwoma niewiadomymi:"
   ]
  },
  {
   "cell_type": "markdown",
   "metadata": {},
   "source": [
    "$$\\begin{cases}\n",
    "C_1 + C_2\\\\\n",
    "\\mathrm{k}_a \\cdot X_{D_0} = - \\mathrm{k}_e \\cdot C_1 - \\mathrm{k}_a \\cdot C_2\n",
    "\\end{cases}$$"
   ]
  },
  {
   "cell_type": "markdown",
   "metadata": {},
   "source": [
    "Gdzie po rozwiązaniu otrzymujemy wartości stałych $C_1$, $C_2$:\n",
    "$$ C_1 = - \\frac{\\mathrm{k}_a \\cdot X_{D_0}}{\\mathrm{k}_e - \\mathrm{k}_a}$$\n",
    "$$ C_2 = \\frac{\\mathrm{k}_a \\cdot X_{D_0}}{\\mathrm{k}_e - \\mathrm{k}_a}$$"
   ]
  },
  {
   "cell_type": "markdown",
   "metadata": {},
   "source": [
    "Następnie wstawiając uzyskane wartości do równania (4.11) możemy zapisać\n",
    "$$X = \\frac{\\mathrm{k}_a \\cdot X_{D_0}}{\\mathrm{k}_e - \\mathrm{k}_a} \\cdot \\left(\\mathrm{e}^{-\\mathrm{k}_e \\cdot t} - \\mathrm{e}^{-\\mathrm{k}_a \\cdot t}\\right)$$"
   ]
  },
  {
   "cell_type": "markdown",
   "metadata": {},
   "source": [
    "Dzieląc przez $V_d$ i wykorzystując równanie (4.4) otrzymujemy wzór na stężenie leku we krwi:\n",
    "$$ C(t) = \\frac{\\mathrm{k}_a \\cdot X_{D_0}}{V_d \\cdot \\left(\\mathrm{k}_e - \\mathrm{k}_a\\right)} \\cdot \\left(\\mathrm{e}^{-\\mathrm{k}_e \\cdot t} - \\mathrm{e}^{-\\mathrm{k}_a \\cdot t}\\right)$$"
   ]
  },
  {
   "cell_type": "markdown",
   "metadata": {},
   "source": [
    "Powyższy wzór określany jest jako *wzór Batemana*"
   ]
  },
  {
   "cell_type": "markdown",
   "metadata": {},
   "source": [
    "## 5. Parametry farmakokinetyczne<a name=\"5\"></a>\n",
    "Parametry farmakokinetyczne będą opisywać losy leku w organizmie w sposób ilościowy. Informacje na ten temat są niezbędne w rejestracji nowych leków (niegenerycznych) a także leków odtwórczych (generycznych). Parametry farmakokinetyczne wykorzystuje się również w tzw. terapeutrycznym monitorowaniu leków (TDM), które pozwala na optymalizację dawkowania.\n",
    "Do parametrów farmakokinetycznych należą m.in:\n",
    "* AUC - wielkość powierzchni pod krzywą zmian stężenia leku we krwi,\n",
    "* maksymalne stężenie leku we krwi ($C_{max}$),\n",
    "* czas, po którym zostaje osiągnięte stężenie maksymalne ($t_{max}$),\n",
    "* objętość dystrybucji\n",
    "* stała szybkość eliminacji ($\\mathrm{K}$)\n",
    "* biologiczny okres półtrwania\n",
    "* klirens leku\n",
    "\n",
    "Powiązane są one z procesami farmakokinetycznymi."
   ]
  },
  {
   "cell_type": "markdown",
   "metadata": {},
   "source": [
    "## 6. LADME - procesy farmakokinetyczne<a name=\"6\"></a>"
   ]
  },
  {
   "cell_type": "markdown",
   "metadata": {},
   "source": [
    "Do opisu procesów farmakokinetycznych używany jest system LADME. \n",
    "Jest to skrót od angielskich słów:\n",
    "* L - liberation (uwalnianie),\n",
    "* A - absorption (wchłanianie),\n",
    "* D - distribution (rozmieszczenie)\n",
    "* M - metabolism (metabolizm), \n",
    "* E - excretion/ elimination (wydalanie, usuwanie).\n",
    "\n",
    "Odzwierciedla on drogę jaką przechodzi lek od podania do wydalenia z organizmu.\n",
    "Często rozbudowany jest do LADMER dla podkreślenia analizy efektu - R (ang. response). Najczęściej obliczane parametry dotyczą procesów mieszczących się w pojęciach A, D, M, E."
   ]
  },
  {
   "cell_type": "markdown",
   "metadata": {},
   "source": [
    "### A. Uwalnianie (L) <a name=\"6.1\"></a>\n",
    "Pierwszym z procesów zachodzących po wprowadzeniu leku do organizmu jest uwalnianie związku leczniczego z postaci leku (np. tabletka, drażetka). Aby lek został wchłonięty do krwioobiegu konieczne jest rozpuszczenie substancji lecznicej.\n",
    "\n",
    "Etapy uwalniania leku:\n",
    "1. rozpad postaci leku \n",
    "2. rozpuszczanie substancji leczniczej \n",
    "3. dyfuzja leku do miejsca wchłaniania."
   ]
  },
  {
   "cell_type": "markdown",
   "metadata": {},
   "source": [
    "### B . Wchłanianie (A) <a name=\"6.2\"></a>\n",
    "Wchłanianie to przenoszenie substancji leczniczej z miejsca wchłaniania do krążenia ogólnego. Odbywa się ono na zasadzie przenikania cząstek leku przez błony biologiczne. Jedynie bezpośrednie podanie leku do krwi omija ten proces.\n",
    "\n",
    "\n",
    "\n",
    "1. **Stan stacjonarny (steady state)**\n",
    "    Przy wielokrotnym dawkowaniu leku, w miarę podawania kolejnych dawek, stężenie leku we krwi rośnie i ustala się stan stacjonarny, w którym szybkość i ilość leku dostające się do organizmu równają się szybkości i ilości leku opuszczającej organizm.\n",
    "    <br/><br/>\n",
    "2. **Efekt pierwszego przejścia (first pass effect)** \n",
    "    Zjawisko zmniejszania ilości leku po jego wchłonięciu z przewodu pokarmowego, a przed dotarciem do krązenia ogólnego. Substancja podana doustnie przechodzi do krwiobiegu przez układ krążenia, co oznacza, że musi najpierw przejść przez wątrobę. W efekcie dawka tego samego leku podana doustnie zazwyczaj jest większa niż równoważna dawka podawana np. dożylnie (rodzaje transportu)\n",
    "    <br/><br/>\n",
    "3. **Dostępność biologiczna** \n",
    "    Dostęność biologiczna jest określana przez ułamek dawki substancji leczniczej, który dostaje się do krążenia ogólnego i przez szybkość z jaką zachodzi ten proces. Stopień dostępności biologicznej jest zależny od procesu technologicznego produkcji danego preparatu. Charakteryzują ją następujące parametry farmakokinetyczne:\n",
    "    * wielkość pod krzywą zmian stężenia leku we krwi, czyli pole pod krzywą AUC (Area Under the Curve), parametr informuje o całkowitej ilości leku jaka została wchłonięta do organizmu\n",
    "    * maksymalne stężenie leku we krwi ($C_{max}$)\n",
    "    * czas, po którym zostaje osiągnięte stężenie maksymalne ($t_{max}$)\n",
    "    \n",
    "    Warunkiem działania leczniczego jest takie stężenie maksymalnego leku we krwi, które zajmie obszar powyżej minimalnego stężenia terapeutycznego MEC (Minimal Effective Concentration) oraz poniżej minimalnego stężenia toksycznego MTC (Minimal Toxic Concentration) .\n",
    "    \n",
    "    Istnieje podział na biodostępność względną i bezwzględną:\n",
    "       \n",
    "    + biodostępność bezwzględną określa się porównując biodostępność leku podanego pozanaczyniowo z tym samym lekiem podanym donaczyniowo, aby ocenić jest wartość leczniczą przy innej niż donaczyniowa drodze podania. \n",
    "    $$ EBA = \\frac{AUC_{po}\\cdot D_{iv}}{AUC_{iv}\\cdot D_{po}}\\cdot 100\\% $$\n",
    "    Gdzie $AUC$ - pole pod krzywą,\n",
    "    $D$ - dawka,\n",
    "    *po* - pozanaczyniowo,\n",
    "    *iv* - donaczyniowo.\n",
    "    \n",
    "    + biodostępność względną wyznaczamy porównując preparat badany z preparatem standardowym o znanej dostępności biologicznej \n",
    "    $$ EBA = \\frac{AUC_{A}\\cdot D_{B}}{AUC_{B}\\cdot D_{A}}\\cdot 100\\% $$\n",
    "    Gdzie $AUC$ - pole pod krzywą,\n",
    "    $D$ - dawka,\n",
    "    *A* - lek badany,\n",
    "    *B* - lek standardowy.\n",
    "    "
   ]
  },
  {
   "cell_type": "markdown",
   "metadata": {},
   "source": [
    "### C. Rozmieszczenie (D) <a name=\"6.3\"></a>\n",
    "Kolejnym procesem jest rozmieszczenie wchłoniętej substancji leczniczej w organizmie zapewniające dotarcie leku do miejsca jego działania.\n",
    "1. **Objętość dystrybucji ($V_d$)**\n",
    "\n",
    "     to parametr farmakokinetyczny definiowany jako hipotetyczna objętość płynów ustrojowych, w której lek, po równomiernym rozmieszczeniu, osiągałby takie samo stężenie jak we krwi. Wyrażana jest w litrach. W praktyce oznacza to, że gdy objętość dystrybucji wynosi:\n",
    "    * 3 - 5 litrów (4,3% masy ciała) - dystrybucja leku ograniczona jest do krwi,\n",
    "    * 10 - 20 litrów (23% masy ciała) - lek rozmieszcza się w płynie pozakomórkowym,\n",
    "    * 25 - 30 litrów (34% masy ciała) - lek rozmieszcza się w płynie wewnątrzkomórkowym,\n",
    "    * ok. 40 litrów (60% masy ciała) - lek rozmieszcza się we wszystkich płynach organizmu,\n",
    "    * 100% masy ciała - lek silnie łączy się z tkankami i kumuluje w narządach.\n",
    "    \n",
    "    Dla wielu leków wartość wartość dystrybucji przekracza realną ilość płynów ustrojowych w organizmie, dlatego zwana jest pozorną. Matematycznie określa się ją jako stosunek całkowitej ilości leku w organizmie ($X$) do stężenia leku we krwi ($C$). $$ V_d = \\frac{X}{C} $$\n",
    "    \n",
    "    Objętość dystrybucji jest współczynnikiem pozwalającym obliczyć stężenie leku we krwi na niedającą się wyznaczyć doświadczalnie ilość (masę) leku w organizmie $$ X = V_d \\cdot C $$\n",
    "    \n",
    "    Objętość dystrybucji zależy w dużym stopniu od masy ciała, dlatego można posługiwać się tzw, względną objętościa dystrybucji (współczynnikiem dystrybucji), $\\Delta '$: $$\\Delta ' = \\frac{V_d}{BW} $$ gdzie $BW$ jest masą ciała.\n",
    "    \n",
    "    Tak zdefiniowany parametr określa ułamek objętości ciała (całe ciało to 1), gdzie lek dociera. Dla większości leków ten współczynnik jest mniejszy od 1, ponieważ niecałkowita objętość organizmu jest dla tych leków dostęna. Względna objętość dystrybucji większa od 1 jest wielkością charakterystyczną dla leków w znacznym stopniu wiążących się z białkami krwi lub wykazujących duże powinowactwo do tkanki kostnej lub tłuszczowej."
   ]
  },
  {
   "cell_type": "markdown",
   "metadata": {},
   "source": [
    "### D. Metabolizm (M)<a name=\"6.4\"></a>\n",
    "Metabolizm leku to wszystkie przemiany biochemiczne, którym ulega lek w żywym organizmie, które mają na celu unieczynnienie substancji oraz ułatwienie jego eliminacji z organizmu. Zachodzą głównie w mikrosomach wątroby, ale też w przewodzie pokarmowym, płucach, nerkach, obrębie skóry i innych tkankach. Procesy związane z metabolizmem zachodzą w dwóch fazach.\n",
    "1. Reakcje pierwszej fazy:\n",
    "    * utlenianie, \n",
    "    * redukcja, \n",
    "    * hydroliza.\n",
    "2. Reakcje drugiej fazy można podzielić na reakcje:\n",
    "    * sprzęgania z kwasem glukuronowym, siarkowym, glutaminowym, z glukozą, aminokwasami, glicyną, z grupą metylową,\n",
    "    * acetylacji,\n",
    "    * alkilacji."
   ]
  },
  {
   "cell_type": "markdown",
   "metadata": {},
   "source": [
    "### E. Wydalanie/usuwanie (E)<a name=\"6.5\"></a>\n",
    "Ostatnim etapem jest wydalanie leków z organizmu. Odbywa się ono wieloma kanałami, przez nerki z moczem, przez wątrobę żółcią, przez gruczoły ślinowe ze śliną, przez gruczoły potowe z potem, przez płuca z wydychanym powietrzem, przez gruczoły mleczne z mlekiem.\n",
    "\n",
    "Z procesem usuwania leku powiązane są następujące parametry farmakokinetyczne:\n",
    "1. **Stała szybkość eliminacji ($\\mathrm{K}$)** która jest sumą wszystkich stałych szybkości wydalania leku z organizmu.\n",
    "\n",
    "    Wyznacza się ją z równania $\\mathrm{ln}C  = \\mathrm{ln}C_0 -\\mathrm{K} \\cdot t $ . Z tego równania możemy wywnioskować, że lnC jest liniową funkcją czasu (t). Współczynnik kierunkowy otrzymanej prostej równa się -K. Po zamianie znaku współczynnika kierunkowego prostej otrzymuje się wartość stałej szybkości eliminacji leku z krwi różnymi drogami. Jej wymiar stanowi odwrotność jednostki czasu ( 1/h). Wartość tej stałej jest więc niezależna od sposobu wyrażania stężeń leku we krwi, co jest cechą charakterystyczną tylko stałej szybkości pierwszego rzędu.\n",
    "\n",
    "2. **Biologiczny okres półtrwania**, który jest czasem, w którym stężenie leku we krwi, surowicy lub w osoczu spadnie do połowy wartości wyjściowej. Parametr ten pozwala określić m.in. dawkowanie leków. Wyprowadza się go z równania $\\mathrm{K} \\cdot t = \\mathrm{ln}C_0 - \\mathrm{ln}C$, wtedy $$ t = \\frac{\\mathrm{ln}\\left(\\frac{C_0}{C}\\right)}{\\mathrm{K}} $$ My szukamy takiego $t$ dla którego $C = \\frac{C_0}{2}$, czyli gdzie stężenie spadnie do połowy początkowego stężenia. $$ t_{\\frac{1}{2}} = \\frac{\\mathrm{ln}\\left(\\frac{2 C_0}{C_0}\\right)}{\\mathrm{K}} = \\frac{\\mathrm{ln}2}{\\mathrm{K}}$$ Przybliżając $\\mathrm{ln}2 = 0,693$ otrzymujemy $$t_{\\frac{1}{2}} = \\frac{0.693}{\\mathrm{K}}$$\n",
    "Wartość $t_{\\frac{1}{2}}$ jest wartością charakterystyczną dla danego leku, jednak zależy od różnych czynników np. płci, wieku, stanu zdrowotnego czy aktywności fizycznej.\n",
    "    \n",
    "3. **Klirens leku (ang. clearance czyli oczyszczanie)**\n",
    "\n",
    "    Wyraża sprawność, z jaką osocze zostaje oczyszczone z danej substancji. Wyrażany jest jako objętość osocza całkowicie oczyszczonego z danej substancji w jednostce czasu. Wylicza się go z następujących wzorów:\n",
    "    * $ Cl = \\frac{v}{C} $ gdzie $v$ jest szybkością eliminacji leku\n",
    "    * $ Cl = \\mathrm{K} \\cdot V_d$\n",
    "\n",
    "    Rozpatrując narząd, który eliminuje lek oznaczmy szybkość transportu tego leku przez narząd jako $Q$ [ml/min], $C_a$- stężenie leku we krwi tętniczej wpływającej do narządu, $C_v$ - stężenie leku we krwi żylnej opuszczającej narząd. Wtedy iloczyn $C_a \\cdot Q $ określa szybkość transportu do danego narządu, a iloczyn $C_v \\cdot Q$ - szybkość z jaką lek opuszcza ten narząd. Stąd szybkość eliminacji możemy określić jako różnicę $$C_a \\cdot Q - C_v \\cdot Q = Q(C_a - C_v)$$\n",
    "    \n",
    "    Bezwymiarową wielkość zwaną współczynnikiem ekstrakcji (ang. ER - Extraction Ratio) wyraża się jako $$ER = \\frac{Q(C_a - C_v)}{Q \\cdot C_a} = \\frac{C_a - C_v}{C_a}$$ Gdy ER = 0 to narząd nie eliminuje leku ($Ca = Cv$). Przy niemal całkowitej eliminacji leku przez dany narząd $(Cv = 0)$ $ER = 1$. Współczynnik ekstrakcji można traktować jako wskaźnik skuteczności oczyszczania krwi przez dany narząd.\n",
    "    \n",
    "    Klirens ogólnoustrojowy $(Cl_s)$ jest sumą poszczególnych klirensów narządowych. Wyraża się go stosunkiem eliminacji wprowadzonej masy ($X$) leku do jego stężenia we krwi lub osoczu. $$Cl_s = \\frac{1}{C} \\cdot \\frac{\\mathrm{d}X}{\\mathrm{d}t}$$ Całkując powyższe równanie na przedziale czasu od $t = 0$ do $t =\\infty$ uzyskuje sie wyrażenie: $$Cl_s = \\frac{\\int_{0}^{t} (\\frac{dX}{dt})\\,dt }{\\int_{0}^{t} C \\,dt}$$\n",
    "    Wyrażenie w liczniku odpowiada całkowitej masie wyeliminowanego leku, czyli podanej dożylnie dawce $D$, a mianownik równa się poku pod krzywą stężenia leku we krwi jako funkcji czasu ( AUC): $$Cl_s = \\frac{D}{AUC}$$\n",
    "    Z równań (których) można wyznaczyć zależność między parametrami $V_d$, $K$ i $Cl_s$: $$ Vd = \\frac{Cl_s}{K}$$\n"
   ]
  },
  {
   "cell_type": "markdown",
   "metadata": {},
   "source": [
    "## 7. Metody numeryczne"
   ]
  },
  {
   "cell_type": "markdown",
   "metadata": {},
   "source": [
    "### A. Algorytm Rungego-Kutty 4. rzędu"
   ]
  },
  {
   "cell_type": "markdown",
   "metadata": {},
   "source": [
    "Mając równanie w postaci $y' = f(t,y)$ z warunkami początkowymi $y(t_0) = y_0$, przyjmujemy dowolne h, będące wielkością kroku całkowania. Wtedy iteracyjny wzór na y według metody Rungego-Kutty 4. rzędu to: \n",
    "$$ y_{n+1} = y_n + \\Delta y_n,$$\n",
    "$$\\Delta y_n = \\frac{1}{6}\\left(k_1 + 2k_2 + 2k_3 + k_4\\right)$$\n",
    "gdzie:\n",
    "\n",
    "$k_1 = hf(x_n,y_n)$\n",
    "\n",
    "$k_2 = hf\\left(x_n + \\frac{h}{2}, y_n + \\frac{k_1}{2}\\right)$\n",
    "\n",
    "$k_3 = hf\\left(x_n + \\frac{h}{2}, y_n + \\frac{k_2}{2}\\right)$\n",
    "\n",
    "$k_4 = hf(x_n + h, y_n + k_3)$"
   ]
  },
  {
   "cell_type": "markdown",
   "metadata": {},
   "source": [
    "### B. Implementacja"
   ]
  },
  {
   "cell_type": "code",
   "execution_count": null,
   "metadata": {},
   "outputs": [],
   "source": [
    "function runge_kutta(f, t, y₀)\n",
    "    y = fill(NaN, length(t))\n",
    "    y[1] = y₀\n",
    "    h = (t[end] - t[1]) / (length(t)-1)\n",
    "    for n in 1:length(t)-1\n",
    "        k₁ = h * f(t[n], y[n])\n",
    "        k₂ = h * f(t[n] + h/2, y[n] + k₁/2)\n",
    "        k₃ = h * f(t[n] + h/2, y[n] + k₂/2)\n",
    "        k₄ = h * f(t[n] + h, y[n] + k₃)\n",
    "        y[n + 1] = y[n] + (k₁ + 2k₂ + 2k₃ + k₄) / 6\n",
    "    end\n",
    "    return y\n",
    "end"
   ]
  },
  {
   "cell_type": "markdown",
   "metadata": {},
   "source": [
    "## 8. Zastosowanie modelu na przykładach<a name=\"8\"></a>"
   ]
  },
  {
   "cell_type": "code",
   "execution_count": 205,
   "metadata": {},
   "outputs": [],
   "source": [
    "using Plots"
   ]
  },
  {
   "cell_type": "markdown",
   "metadata": {},
   "source": [
    "### Przykład 1 - dostosowywanie się modelów do rzeczywistych danych"
   ]
  },
  {
   "cell_type": "markdown",
   "metadata": {},
   "source": [
    "### A. Dawka dożylna"
   ]
  },
  {
   "cell_type": "markdown",
   "metadata": {},
   "source": [
    "Poniższa tabela [3] przedstawia wartośći mierzone stężenia ibuprofenu w osoczu krwi królika ($C$) [mg/l] w różnym czasie ($t$) po podaniu jednorazowej dawki dożylnej soli lizynowej ibuprofenu. $X_0 = 146.3 mg$, $V_d = 0.608 l$,  stała $K$ jest równa $2,44/h$"
   ]
  },
  {
   "cell_type": "markdown",
   "metadata": {},
   "source": [
    "<table>\n",
    "  <tr>\n",
    "    <th>Czas ($t$)</th>\n",
    "    <td>0,083</td>\n",
    "    <td>0,167</td>\n",
    "    <td>0,250</td>\n",
    "    <td>0,367</td>\n",
    "    <td>0,533</td>\n",
    "    <td>0,667</td>\n",
    "    <td>0,833</td>\n",
    "    <td>1,000</td>\n",
    "    <td>1,330</td>\n",
    "    <td>1,420</td>\n",
    "    <td>1,500</td>\n",
    "  </tr>\n",
    "  <tr>\n",
    "    <th>Stężenie ($C$)</th>\n",
    "    <td>217,9</td>\n",
    "    <td>169,3</td>\n",
    "    <td>118,9</td>\n",
    "    <td>102,9</td>\n",
    "    <td>74,7</td>\n",
    "    <td>55,1</td>\n",
    "    <td>36,2</td>\n",
    "    <td>22,8</td>\n",
    "    <td>16,1</td>\n",
    "    <td>9,1</td>\n",
    "    <td>7,3</td>\n",
    "  </tr>\n",
    "</table>"
   ]
  },
  {
   "cell_type": "markdown",
   "metadata": {},
   "source": [
    "Z powyższych informacji możemy wyliczyć $C_0$\n",
    "$$C_0 = \\frac{X_0}{V_d} = 240.6 \\frac{mg}{l}$$"
   ]
  },
  {
   "cell_type": "code",
   "execution_count": 189,
   "metadata": {},
   "outputs": [],
   "source": [
    "t = [0, 0.083, 0.167, 0.250, 0.367, 0.533, 0.667, 0.833, 1.000, 1.330, 1.420, 1.500]\n",
    "C = [240.6, 217.9, 169.3, 118.9, 102.9, 74.7, 55.1, 36.2, 22.8, 16.1, 9.1, 7.3];"
   ]
  },
  {
   "cell_type": "code",
   "execution_count": 190,
   "metadata": {},
   "outputs": [
    {
     "data": {
      "image/svg+xml": [
       "<?xml version=\"1.0\" encoding=\"utf-8\"?>\n",
       "<svg xmlns=\"http://www.w3.org/2000/svg\" xmlns:xlink=\"http://www.w3.org/1999/xlink\" width=\"600\" height=\"400\" viewBox=\"0 0 2400 1600\">\n",
       "<defs>\n",
       "  <clipPath id=\"clip410\">\n",
       "    <rect x=\"0\" y=\"0\" width=\"2400\" height=\"1600\"/>\n",
       "  </clipPath>\n",
       "</defs>\n",
       "<path clip-path=\"url(#clip410)\" d=\"\n",
       "M0 1600 L2400 1600 L2400 0 L0 0  Z\n",
       "  \" fill=\"#ffffff\" fill-rule=\"evenodd\" fill-opacity=\"1\"/>\n",
       "<defs>\n",
       "  <clipPath id=\"clip411\">\n",
       "    <rect x=\"480\" y=\"0\" width=\"1681\" height=\"1600\"/>\n",
       "  </clipPath>\n",
       "</defs>\n",
       "<path clip-path=\"url(#clip410)\" d=\"\n",
       "M226.232 1423.18 L2352.76 1423.18 L2352.76 47.2441 L226.232 47.2441  Z\n",
       "  \" fill=\"#ffffff\" fill-rule=\"evenodd\" fill-opacity=\"1\"/>\n",
       "<defs>\n",
       "  <clipPath id=\"clip412\">\n",
       "    <rect x=\"226\" y=\"47\" width=\"2128\" height=\"1377\"/>\n",
       "  </clipPath>\n",
       "</defs>\n",
       "<polyline clip-path=\"url(#clip412)\" style=\"stroke:#000000; stroke-width:2; stroke-opacity:0.1; fill:none\" points=\"\n",
       "  286.417,1423.18 286.417,47.2441 \n",
       "  \"/>\n",
       "<polyline clip-path=\"url(#clip412)\" style=\"stroke:#000000; stroke-width:2; stroke-opacity:0.1; fill:none\" points=\"\n",
       "  955.135,1423.18 955.135,47.2441 \n",
       "  \"/>\n",
       "<polyline clip-path=\"url(#clip412)\" style=\"stroke:#000000; stroke-width:2; stroke-opacity:0.1; fill:none\" points=\"\n",
       "  1623.85,1423.18 1623.85,47.2441 \n",
       "  \"/>\n",
       "<polyline clip-path=\"url(#clip412)\" style=\"stroke:#000000; stroke-width:2; stroke-opacity:0.1; fill:none\" points=\"\n",
       "  2292.57,1423.18 2292.57,47.2441 \n",
       "  \"/>\n",
       "<polyline clip-path=\"url(#clip410)\" style=\"stroke:#000000; stroke-width:4; stroke-opacity:1; fill:none\" points=\"\n",
       "  226.232,1423.18 2352.76,1423.18 \n",
       "  \"/>\n",
       "<polyline clip-path=\"url(#clip410)\" style=\"stroke:#000000; stroke-width:4; stroke-opacity:1; fill:none\" points=\"\n",
       "  286.417,1423.18 286.417,1406.67 \n",
       "  \"/>\n",
       "<polyline clip-path=\"url(#clip410)\" style=\"stroke:#000000; stroke-width:4; stroke-opacity:1; fill:none\" points=\"\n",
       "  955.135,1423.18 955.135,1406.67 \n",
       "  \"/>\n",
       "<polyline clip-path=\"url(#clip410)\" style=\"stroke:#000000; stroke-width:4; stroke-opacity:1; fill:none\" points=\"\n",
       "  1623.85,1423.18 1623.85,1406.67 \n",
       "  \"/>\n",
       "<polyline clip-path=\"url(#clip410)\" style=\"stroke:#000000; stroke-width:4; stroke-opacity:1; fill:none\" points=\"\n",
       "  2292.57,1423.18 2292.57,1406.67 \n",
       "  \"/>\n",
       "<path clip-path=\"url(#clip410)\" d=\"M 0 0 M267.933 1452.37 Q264.322 1452.37 262.493 1455.94 Q260.688 1459.48 260.688 1466.61 Q260.688 1473.71 262.493 1477.28 Q264.322 1480.82 267.933 1480.82 Q271.567 1480.82 273.373 1477.28 Q275.201 1473.71 275.201 1466.61 Q275.201 1459.48 273.373 1455.94 Q271.567 1452.37 267.933 1452.37 M267.933 1448.67 Q273.743 1448.67 276.799 1453.27 Q279.877 1457.86 279.877 1466.61 Q279.877 1475.33 276.799 1479.94 Q273.743 1484.52 267.933 1484.52 Q262.123 1484.52 259.044 1479.94 Q255.989 1475.33 255.989 1466.61 Q255.989 1457.86 259.044 1453.27 Q262.123 1448.67 267.933 1448.67 Z\" fill=\"#000000\" fill-rule=\"evenodd\" fill-opacity=\"1\" /><path clip-path=\"url(#clip410)\" d=\"M 0 0 M284.947 1477.97 L289.831 1477.97 L289.831 1483.85 L284.947 1483.85 L284.947 1477.97 Z\" fill=\"#000000\" fill-rule=\"evenodd\" fill-opacity=\"1\" /><path clip-path=\"url(#clip410)\" d=\"M 0 0 M304.9 1452.37 Q301.289 1452.37 299.461 1455.94 Q297.655 1459.48 297.655 1466.61 Q297.655 1473.71 299.461 1477.28 Q301.289 1480.82 304.9 1480.82 Q308.535 1480.82 310.34 1477.28 Q312.169 1473.71 312.169 1466.61 Q312.169 1459.48 310.34 1455.94 Q308.535 1452.37 304.9 1452.37 M304.9 1448.67 Q310.71 1448.67 313.766 1453.27 Q316.845 1457.86 316.845 1466.61 Q316.845 1475.33 313.766 1479.94 Q310.71 1484.52 304.9 1484.52 Q299.09 1484.52 296.011 1479.94 Q292.956 1475.33 292.956 1466.61 Q292.956 1457.86 296.011 1453.27 Q299.09 1448.67 304.9 1448.67 Z\" fill=\"#000000\" fill-rule=\"evenodd\" fill-opacity=\"1\" /><path clip-path=\"url(#clip410)\" d=\"M 0 0 M937.149 1452.37 Q933.538 1452.37 931.709 1455.94 Q929.903 1459.48 929.903 1466.61 Q929.903 1473.71 931.709 1477.28 Q933.538 1480.82 937.149 1480.82 Q940.783 1480.82 942.589 1477.28 Q944.417 1473.71 944.417 1466.61 Q944.417 1459.48 942.589 1455.94 Q940.783 1452.37 937.149 1452.37 M937.149 1448.67 Q942.959 1448.67 946.015 1453.27 Q949.093 1457.86 949.093 1466.61 Q949.093 1475.33 946.015 1479.94 Q942.959 1484.52 937.149 1484.52 Q931.339 1484.52 928.26 1479.94 Q925.204 1475.33 925.204 1466.61 Q925.204 1457.86 928.26 1453.27 Q931.339 1448.67 937.149 1448.67 Z\" fill=\"#000000\" fill-rule=\"evenodd\" fill-opacity=\"1\" /><path clip-path=\"url(#clip410)\" d=\"M 0 0 M954.163 1477.97 L959.047 1477.97 L959.047 1483.85 L954.163 1483.85 L954.163 1477.97 Z\" fill=\"#000000\" fill-rule=\"evenodd\" fill-opacity=\"1\" /><path clip-path=\"url(#clip410)\" d=\"M 0 0 M964.163 1449.29 L982.519 1449.29 L982.519 1453.23 L968.445 1453.23 L968.445 1461.7 Q969.463 1461.35 970.482 1461.19 Q971.5 1461 972.519 1461 Q978.306 1461 981.686 1464.18 Q985.065 1467.35 985.065 1472.76 Q985.065 1478.34 981.593 1481.44 Q978.121 1484.52 971.801 1484.52 Q969.625 1484.52 967.357 1484.15 Q965.112 1483.78 962.704 1483.04 L962.704 1478.34 Q964.788 1479.48 967.01 1480.03 Q969.232 1480.59 971.709 1480.59 Q975.713 1480.59 978.051 1478.48 Q980.389 1476.38 980.389 1472.76 Q980.389 1469.15 978.051 1467.05 Q975.713 1464.94 971.709 1464.94 Q969.834 1464.94 967.959 1465.36 Q966.107 1465.77 964.163 1466.65 L964.163 1449.29 Z\" fill=\"#000000\" fill-rule=\"evenodd\" fill-opacity=\"1\" /><path clip-path=\"url(#clip410)\" d=\"M 0 0 M1595.75 1479.92 L1603.39 1479.92 L1603.39 1453.55 L1595.08 1455.22 L1595.08 1450.96 L1603.34 1449.29 L1608.02 1449.29 L1608.02 1479.92 L1615.66 1479.92 L1615.66 1483.85 L1595.75 1483.85 L1595.75 1479.92 Z\" fill=\"#000000\" fill-rule=\"evenodd\" fill-opacity=\"1\" /><path clip-path=\"url(#clip410)\" d=\"M 0 0 M1620.73 1477.97 L1625.61 1477.97 L1625.61 1483.85 L1620.73 1483.85 L1620.73 1477.97 Z\" fill=\"#000000\" fill-rule=\"evenodd\" fill-opacity=\"1\" /><path clip-path=\"url(#clip410)\" d=\"M 0 0 M1640.68 1452.37 Q1637.07 1452.37 1635.24 1455.94 Q1633.44 1459.48 1633.44 1466.61 Q1633.44 1473.71 1635.24 1477.28 Q1637.07 1480.82 1640.68 1480.82 Q1644.32 1480.82 1646.12 1477.28 Q1647.95 1473.71 1647.95 1466.61 Q1647.95 1459.48 1646.12 1455.94 Q1644.32 1452.37 1640.68 1452.37 M1640.68 1448.67 Q1646.49 1448.67 1649.55 1453.27 Q1652.63 1457.86 1652.63 1466.61 Q1652.63 1475.33 1649.55 1479.94 Q1646.49 1484.52 1640.68 1484.52 Q1634.87 1484.52 1631.79 1479.94 Q1628.74 1475.33 1628.74 1466.61 Q1628.74 1457.86 1631.79 1453.27 Q1634.87 1448.67 1640.68 1448.67 Z\" fill=\"#000000\" fill-rule=\"evenodd\" fill-opacity=\"1\" /><path clip-path=\"url(#clip410)\" d=\"M 0 0 M2264.97 1479.92 L2272.61 1479.92 L2272.61 1453.55 L2264.3 1455.22 L2264.3 1450.96 L2272.56 1449.29 L2277.24 1449.29 L2277.24 1479.92 L2284.87 1479.92 L2284.87 1483.85 L2264.97 1483.85 L2264.97 1479.92 Z\" fill=\"#000000\" fill-rule=\"evenodd\" fill-opacity=\"1\" /><path clip-path=\"url(#clip410)\" d=\"M 0 0 M2289.94 1477.97 L2294.83 1477.97 L2294.83 1483.85 L2289.94 1483.85 L2289.94 1477.97 Z\" fill=\"#000000\" fill-rule=\"evenodd\" fill-opacity=\"1\" /><path clip-path=\"url(#clip410)\" d=\"M 0 0 M2299.94 1449.29 L2318.3 1449.29 L2318.3 1453.23 L2304.23 1453.23 L2304.23 1461.7 Q2305.24 1461.35 2306.26 1461.19 Q2307.28 1461 2308.3 1461 Q2314.09 1461 2317.47 1464.18 Q2320.85 1467.35 2320.85 1472.76 Q2320.85 1478.34 2317.37 1481.44 Q2313.9 1484.52 2307.58 1484.52 Q2305.41 1484.52 2303.14 1484.15 Q2300.89 1483.78 2298.49 1483.04 L2298.49 1478.34 Q2300.57 1479.48 2302.79 1480.03 Q2305.01 1480.59 2307.49 1480.59 Q2311.49 1480.59 2313.83 1478.48 Q2316.17 1476.38 2316.17 1472.76 Q2316.17 1469.15 2313.83 1467.05 Q2311.49 1464.94 2307.49 1464.94 Q2305.62 1464.94 2303.74 1465.36 Q2301.89 1465.77 2299.94 1466.65 L2299.94 1449.29 Z\" fill=\"#000000\" fill-rule=\"evenodd\" fill-opacity=\"1\" /><path clip-path=\"url(#clip410)\" d=\"M 0 0 M1240.84 1522.27 L1240.84 1532.4 L1252.91 1532.4 L1252.91 1536.95 L1240.84 1536.95 L1240.84 1556.3 Q1240.84 1560.66 1242.02 1561.9 Q1243.23 1563.14 1246.89 1563.14 L1252.91 1563.14 L1252.91 1568.04 L1246.89 1568.04 Q1240.11 1568.04 1237.53 1565.53 Q1234.96 1562.98 1234.96 1556.3 L1234.96 1536.95 L1230.66 1536.95 L1230.66 1532.4 L1234.96 1532.4 L1234.96 1522.27 L1240.84 1522.27 Z\" fill=\"#000000\" fill-rule=\"evenodd\" fill-opacity=\"1\" /><path clip-path=\"url(#clip410)\" d=\"M 0 0 M1279.23 1518.52 L1292.72 1518.52 L1292.72 1523.07 L1285.09 1523.07 L1285.09 1572.09 L1292.72 1572.09 L1292.72 1576.64 L1279.23 1576.64 L1279.23 1518.52 Z\" fill=\"#000000\" fill-rule=\"evenodd\" fill-opacity=\"1\" /><path clip-path=\"url(#clip410)\" d=\"M 0 0 M1328.5 1546.53 L1328.5 1568.04 L1322.64 1568.04 L1322.64 1546.72 Q1322.64 1541.66 1320.67 1539.14 Q1318.7 1536.63 1314.75 1536.63 Q1310.01 1536.63 1307.27 1539.65 Q1304.53 1542.68 1304.53 1547.9 L1304.53 1568.04 L1298.64 1568.04 L1298.64 1518.52 L1304.53 1518.52 L1304.53 1537.93 Q1306.63 1534.72 1309.47 1533.13 Q1312.33 1531.54 1316.05 1531.54 Q1322.2 1531.54 1325.35 1535.36 Q1328.5 1539.14 1328.5 1546.53 Z\" fill=\"#000000\" fill-rule=\"evenodd\" fill-opacity=\"1\" /><path clip-path=\"url(#clip410)\" d=\"M 0 0 M1348.33 1518.52 L1348.33 1576.64 L1334.83 1576.64 L1334.83 1572.09 L1342.44 1572.09 L1342.44 1523.07 L1334.83 1523.07 L1334.83 1518.52 L1348.33 1518.52 Z\" fill=\"#000000\" fill-rule=\"evenodd\" fill-opacity=\"1\" /><polyline clip-path=\"url(#clip412)\" style=\"stroke:#000000; stroke-width:2; stroke-opacity:0.1; fill:none\" points=\"\n",
       "  226.232,1146.66 2352.76,1146.66 \n",
       "  \"/>\n",
       "<polyline clip-path=\"url(#clip412)\" style=\"stroke:#000000; stroke-width:2; stroke-opacity:0.1; fill:none\" points=\"\n",
       "  226.232,868.467 2352.76,868.467 \n",
       "  \"/>\n",
       "<polyline clip-path=\"url(#clip412)\" style=\"stroke:#000000; stroke-width:2; stroke-opacity:0.1; fill:none\" points=\"\n",
       "  226.232,590.273 2352.76,590.273 \n",
       "  \"/>\n",
       "<polyline clip-path=\"url(#clip412)\" style=\"stroke:#000000; stroke-width:2; stroke-opacity:0.1; fill:none\" points=\"\n",
       "  226.232,312.079 2352.76,312.079 \n",
       "  \"/>\n",
       "<polyline clip-path=\"url(#clip410)\" style=\"stroke:#000000; stroke-width:4; stroke-opacity:1; fill:none\" points=\"\n",
       "  226.232,1423.18 226.232,47.2441 \n",
       "  \"/>\n",
       "<polyline clip-path=\"url(#clip410)\" style=\"stroke:#000000; stroke-width:4; stroke-opacity:1; fill:none\" points=\"\n",
       "  226.232,1146.66 251.75,1146.66 \n",
       "  \"/>\n",
       "<polyline clip-path=\"url(#clip410)\" style=\"stroke:#000000; stroke-width:4; stroke-opacity:1; fill:none\" points=\"\n",
       "  226.232,868.467 251.75,868.467 \n",
       "  \"/>\n",
       "<polyline clip-path=\"url(#clip410)\" style=\"stroke:#000000; stroke-width:4; stroke-opacity:1; fill:none\" points=\"\n",
       "  226.232,590.273 251.75,590.273 \n",
       "  \"/>\n",
       "<polyline clip-path=\"url(#clip410)\" style=\"stroke:#000000; stroke-width:4; stroke-opacity:1; fill:none\" points=\"\n",
       "  226.232,312.079 251.75,312.079 \n",
       "  \"/>\n",
       "<path clip-path=\"url(#clip410)\" d=\"M 0 0 M142.316 1129.38 L160.672 1129.38 L160.672 1133.32 L146.598 1133.32 L146.598 1141.79 Q147.616 1141.44 148.635 1141.28 Q149.653 1141.09 150.672 1141.09 Q156.459 1141.09 159.839 1144.26 Q163.218 1147.44 163.218 1152.85 Q163.218 1158.43 159.746 1161.53 Q156.274 1164.61 149.954 1164.61 Q147.778 1164.61 145.51 1164.24 Q143.265 1163.87 140.857 1163.13 L140.857 1158.43 Q142.941 1159.57 145.163 1160.12 Q147.385 1160.68 149.862 1160.68 Q153.866 1160.68 156.204 1158.57 Q158.542 1156.46 158.542 1152.85 Q158.542 1149.24 156.204 1147.14 Q153.866 1145.03 149.862 1145.03 Q147.987 1145.03 146.112 1145.45 Q144.26 1145.86 142.316 1146.74 L142.316 1129.38 Z\" fill=\"#000000\" fill-rule=\"evenodd\" fill-opacity=\"1\" /><path clip-path=\"url(#clip410)\" d=\"M 0 0 M178.288 1132.46 Q174.677 1132.46 172.848 1136.02 Q171.042 1139.57 171.042 1146.7 Q171.042 1153.8 172.848 1157.37 Q174.677 1160.91 178.288 1160.91 Q181.922 1160.91 183.727 1157.37 Q185.556 1153.8 185.556 1146.7 Q185.556 1139.57 183.727 1136.02 Q181.922 1132.46 178.288 1132.46 M178.288 1128.76 Q184.098 1128.76 187.153 1133.36 Q190.232 1137.95 190.232 1146.7 Q190.232 1155.42 187.153 1160.03 Q184.098 1164.61 178.288 1164.61 Q172.477 1164.61 169.399 1160.03 Q166.343 1155.42 166.343 1146.7 Q166.343 1137.95 169.399 1133.36 Q172.477 1128.76 178.288 1128.76 Z\" fill=\"#000000\" fill-rule=\"evenodd\" fill-opacity=\"1\" /><path clip-path=\"url(#clip410)\" d=\"M 0 0 M116.297 881.812 L123.936 881.812 L123.936 855.446 L115.626 857.113 L115.626 852.853 L123.89 851.187 L128.566 851.187 L128.566 881.812 L136.204 881.812 L136.204 885.747 L116.297 885.747 L116.297 881.812 Z\" fill=\"#000000\" fill-rule=\"evenodd\" fill-opacity=\"1\" /><path clip-path=\"url(#clip410)\" d=\"M 0 0 M151.274 854.266 Q147.663 854.266 145.834 857.83 Q144.029 861.372 144.029 868.502 Q144.029 875.608 145.834 879.173 Q147.663 882.714 151.274 882.714 Q154.908 882.714 156.714 879.173 Q158.542 875.608 158.542 868.502 Q158.542 861.372 156.714 857.83 Q154.908 854.266 151.274 854.266 M151.274 850.562 Q157.084 850.562 160.14 855.168 Q163.218 859.752 163.218 868.502 Q163.218 877.228 160.14 881.835 Q157.084 886.418 151.274 886.418 Q145.464 886.418 142.385 881.835 Q139.329 877.228 139.329 868.502 Q139.329 859.752 142.385 855.168 Q145.464 850.562 151.274 850.562 Z\" fill=\"#000000\" fill-rule=\"evenodd\" fill-opacity=\"1\" /><path clip-path=\"url(#clip410)\" d=\"M 0 0 M178.288 854.266 Q174.677 854.266 172.848 857.83 Q171.042 861.372 171.042 868.502 Q171.042 875.608 172.848 879.173 Q174.677 882.714 178.288 882.714 Q181.922 882.714 183.727 879.173 Q185.556 875.608 185.556 868.502 Q185.556 861.372 183.727 857.83 Q181.922 854.266 178.288 854.266 M178.288 850.562 Q184.098 850.562 187.153 855.168 Q190.232 859.752 190.232 868.502 Q190.232 877.228 187.153 881.835 Q184.098 886.418 178.288 886.418 Q172.477 886.418 169.399 881.835 Q166.343 877.228 166.343 868.502 Q166.343 859.752 169.399 855.168 Q172.477 850.562 178.288 850.562 Z\" fill=\"#000000\" fill-rule=\"evenodd\" fill-opacity=\"1\" /><path clip-path=\"url(#clip410)\" d=\"M 0 0 M117.293 603.618 L124.931 603.618 L124.931 577.252 L116.621 578.919 L116.621 574.66 L124.885 572.993 L129.561 572.993 L129.561 603.618 L137.2 603.618 L137.2 607.553 L117.293 607.553 L117.293 603.618 Z\" fill=\"#000000\" fill-rule=\"evenodd\" fill-opacity=\"1\" /><path clip-path=\"url(#clip410)\" d=\"M 0 0 M142.316 572.993 L160.672 572.993 L160.672 576.928 L146.598 576.928 L146.598 585.4 Q147.616 585.053 148.635 584.891 Q149.653 584.706 150.672 584.706 Q156.459 584.706 159.839 587.877 Q163.218 591.048 163.218 596.465 Q163.218 602.044 159.746 605.146 Q156.274 608.224 149.954 608.224 Q147.778 608.224 145.51 607.854 Q143.265 607.484 140.857 606.743 L140.857 602.044 Q142.941 603.178 145.163 603.734 Q147.385 604.289 149.862 604.289 Q153.866 604.289 156.204 602.183 Q158.542 600.076 158.542 596.465 Q158.542 592.854 156.204 590.747 Q153.866 588.641 149.862 588.641 Q147.987 588.641 146.112 589.058 Q144.26 589.474 142.316 590.354 L142.316 572.993 Z\" fill=\"#000000\" fill-rule=\"evenodd\" fill-opacity=\"1\" /><path clip-path=\"url(#clip410)\" d=\"M 0 0 M178.288 576.072 Q174.677 576.072 172.848 579.636 Q171.042 583.178 171.042 590.308 Q171.042 597.414 172.848 600.979 Q174.677 604.521 178.288 604.521 Q181.922 604.521 183.727 600.979 Q185.556 597.414 185.556 590.308 Q185.556 583.178 183.727 579.636 Q181.922 576.072 178.288 576.072 M178.288 572.368 Q184.098 572.368 187.153 576.974 Q190.232 581.558 190.232 590.308 Q190.232 599.034 187.153 603.641 Q184.098 608.224 178.288 608.224 Q172.477 608.224 169.399 603.641 Q166.343 599.034 166.343 590.308 Q166.343 581.558 169.399 576.974 Q172.477 572.368 178.288 572.368 Z\" fill=\"#000000\" fill-rule=\"evenodd\" fill-opacity=\"1\" /><path clip-path=\"url(#clip410)\" d=\"M 0 0 M119.885 325.424 L136.204 325.424 L136.204 329.359 L114.26 329.359 L114.26 325.424 Q116.922 322.669 121.505 318.04 Q126.112 313.387 127.292 312.044 Q129.538 309.521 130.417 307.785 Q131.32 306.026 131.32 304.336 Q131.32 301.581 129.376 299.845 Q127.455 298.109 124.353 298.109 Q122.154 298.109 119.7 298.873 Q117.269 299.637 114.492 301.188 L114.492 296.466 Q117.316 295.331 119.769 294.753 Q122.223 294.174 124.26 294.174 Q129.63 294.174 132.825 296.859 Q136.019 299.544 136.019 304.035 Q136.019 306.165 135.209 308.086 Q134.422 309.984 132.316 312.577 Q131.737 313.248 128.635 316.466 Q125.533 319.66 119.885 325.424 Z\" fill=\"#000000\" fill-rule=\"evenodd\" fill-opacity=\"1\" /><path clip-path=\"url(#clip410)\" d=\"M 0 0 M151.274 297.878 Q147.663 297.878 145.834 301.443 Q144.029 304.984 144.029 312.114 Q144.029 319.22 145.834 322.785 Q147.663 326.327 151.274 326.327 Q154.908 326.327 156.714 322.785 Q158.542 319.22 158.542 312.114 Q158.542 304.984 156.714 301.443 Q154.908 297.878 151.274 297.878 M151.274 294.174 Q157.084 294.174 160.14 298.781 Q163.218 303.364 163.218 312.114 Q163.218 320.841 160.14 325.447 Q157.084 330.03 151.274 330.03 Q145.464 330.03 142.385 325.447 Q139.329 320.841 139.329 312.114 Q139.329 303.364 142.385 298.781 Q145.464 294.174 151.274 294.174 Z\" fill=\"#000000\" fill-rule=\"evenodd\" fill-opacity=\"1\" /><path clip-path=\"url(#clip410)\" d=\"M 0 0 M178.288 297.878 Q174.677 297.878 172.848 301.443 Q171.042 304.984 171.042 312.114 Q171.042 319.22 172.848 322.785 Q174.677 326.327 178.288 326.327 Q181.922 326.327 183.727 322.785 Q185.556 319.22 185.556 312.114 Q185.556 304.984 183.727 301.443 Q181.922 297.878 178.288 297.878 M178.288 294.174 Q184.098 294.174 187.153 298.781 Q190.232 303.364 190.232 312.114 Q190.232 320.841 187.153 325.447 Q184.098 330.03 178.288 330.03 Q172.477 330.03 169.399 325.447 Q166.343 320.841 166.343 312.114 Q166.343 303.364 169.399 298.781 Q172.477 294.174 178.288 294.174 Z\" fill=\"#000000\" fill-rule=\"evenodd\" fill-opacity=\"1\" /><path clip-path=\"url(#clip410)\" d=\"M 0 0 M20.1444 809.563 L26.9239 809.563 Q23.9002 812.81 22.4043 816.502 Q20.9083 820.162 20.9083 824.3 Q20.9083 832.448 25.9054 836.777 Q30.8707 841.105 40.2919 841.105 Q49.6813 841.105 54.6784 836.777 Q59.6436 832.448 59.6436 824.3 Q59.6436 820.162 58.1477 816.502 Q56.6518 812.81 53.6281 809.563 L60.3439 809.563 Q62.6355 812.937 63.7814 816.725 Q64.9272 820.481 64.9272 824.682 Q64.9272 835.472 58.3387 841.678 Q51.7183 847.885 40.2919 847.885 Q28.8336 847.885 22.2451 841.678 Q15.6248 835.472 15.6248 824.682 Q15.6248 820.417 16.7706 816.661 Q17.8846 812.874 20.1444 809.563 Z\" fill=\"#000000\" fill-rule=\"evenodd\" fill-opacity=\"1\" /><path clip-path=\"url(#clip410)\" d=\"M 0 0 M14.479 783.241 L14.479 769.746 L19.0304 769.746 L19.0304 777.385 L68.0464 777.385 L68.0464 769.746 L72.5979 769.746 L72.5979 783.241 L14.479 783.241 Z\" fill=\"#000000\" fill-rule=\"evenodd\" fill-opacity=\"1\" /><path clip-path=\"url(#clip410)\" d=\"M 0 0 M35.1993 735.849 Q31.2526 733.652 29.3747 730.597 Q27.4968 727.541 27.4968 723.404 Q27.4968 717.834 31.4117 714.81 Q35.2948 711.786 42.4881 711.786 L64.0042 711.786 L64.0042 717.674 L42.679 717.674 Q37.5546 717.674 35.072 719.489 Q32.5894 721.303 32.5894 725.027 Q32.5894 729.578 35.6131 732.22 Q38.6368 734.862 43.8567 734.862 L64.0042 734.862 L64.0042 740.75 L42.679 740.75 Q37.5228 740.75 35.072 742.564 Q32.5894 744.379 32.5894 748.166 Q32.5894 752.654 35.6449 755.296 Q38.6686 757.938 43.8567 757.938 L64.0042 757.938 L64.0042 763.826 L28.3562 763.826 L28.3562 757.938 L33.8944 757.938 Q30.616 755.932 29.0564 753.131 Q27.4968 750.331 27.4968 746.479 Q27.4968 742.596 29.4702 739.891 Q31.4436 737.154 35.1993 735.849 Z\" fill=\"#000000\" fill-rule=\"evenodd\" fill-opacity=\"1\" /><path clip-path=\"url(#clip410)\" d=\"M 0 0 M45.7664 682.186 Q39.4007 682.186 35.8996 684.827 Q32.3984 687.437 32.3984 692.18 Q32.3984 696.89 35.8996 699.532 Q39.4007 702.142 45.7664 702.142 Q52.1003 702.142 55.6014 699.532 Q59.1026 696.89 59.1026 692.18 Q59.1026 687.437 55.6014 684.827 Q52.1003 682.186 45.7664 682.186 M59.58 676.329 Q68.683 676.329 73.1071 680.371 Q77.5631 684.414 77.5631 692.753 Q77.5631 695.84 77.0857 698.577 Q76.6401 701.315 75.6852 703.893 L69.9879 703.893 Q71.3884 701.315 72.0568 698.8 Q72.7252 696.286 72.7252 693.676 Q72.7252 687.915 69.7015 685.05 Q66.7096 682.186 60.6303 682.186 L57.7339 682.186 Q60.885 684 62.4446 686.833 Q64.0042 689.665 64.0042 693.612 Q64.0042 700.169 59.0071 704.179 Q54.01 708.19 45.7664 708.19 Q37.491 708.19 32.4939 704.179 Q27.4968 700.169 27.4968 693.612 Q27.4968 689.665 29.0564 686.833 Q30.616 684 33.7671 682.186 L28.3562 682.186 L28.3562 676.329 L59.58 676.329 Z\" fill=\"#000000\" fill-rule=\"evenodd\" fill-opacity=\"1\" /><path clip-path=\"url(#clip410)\" d=\"M 0 0 M16.4842 659.778 L16.4842 654.367 L70.0516 670.918 L70.0516 676.329 L16.4842 659.778 Z\" fill=\"#000000\" fill-rule=\"evenodd\" fill-opacity=\"1\" /><path clip-path=\"url(#clip410)\" d=\"M 0 0 M14.479 648.225 L14.479 642.368 L64.0042 642.368 L64.0042 648.225 L14.479 648.225 Z\" fill=\"#000000\" fill-rule=\"evenodd\" fill-opacity=\"1\" /><path clip-path=\"url(#clip410)\" d=\"M 0 0 M14.479 622.539 L72.5979 622.539 L72.5979 636.034 L68.0464 636.034 L68.0464 628.427 L19.0304 628.427 L19.0304 636.034 L14.479 636.034 L14.479 622.539 Z\" fill=\"#000000\" fill-rule=\"evenodd\" fill-opacity=\"1\" /><circle clip-path=\"url(#clip412)\" cx=\"286.417\" cy=\"86.1857\" r=\"14\" fill=\"#da70d6\" fill-rule=\"evenodd\" fill-opacity=\"1\" stroke=\"#000000\" stroke-opacity=\"1\" stroke-width=\"3.2\"/>\n",
       "<circle clip-path=\"url(#clip412)\" cx=\"397.424\" cy=\"212.486\" r=\"14\" fill=\"#da70d6\" fill-rule=\"evenodd\" fill-opacity=\"1\" stroke=\"#000000\" stroke-opacity=\"1\" stroke-width=\"3.2\"/>\n",
       "<circle clip-path=\"url(#clip412)\" cx=\"509.768\" cy=\"482.89\" r=\"14\" fill=\"#da70d6\" fill-rule=\"evenodd\" fill-opacity=\"1\" stroke=\"#000000\" stroke-opacity=\"1\" stroke-width=\"3.2\"/>\n",
       "<circle clip-path=\"url(#clip412)\" cx=\"620.776\" cy=\"763.31\" r=\"14\" fill=\"#da70d6\" fill-rule=\"evenodd\" fill-opacity=\"1\" stroke=\"#000000\" stroke-opacity=\"1\" stroke-width=\"3.2\"/>\n",
       "<circle clip-path=\"url(#clip412)\" cx=\"777.256\" cy=\"852.332\" r=\"14\" fill=\"#da70d6\" fill-rule=\"evenodd\" fill-opacity=\"1\" stroke=\"#000000\" stroke-opacity=\"1\" stroke-width=\"3.2\"/>\n",
       "<circle clip-path=\"url(#clip412)\" cx=\"999.27\" cy=\"1009.23\" r=\"14\" fill=\"#da70d6\" fill-rule=\"evenodd\" fill-opacity=\"1\" stroke=\"#000000\" stroke-opacity=\"1\" stroke-width=\"3.2\"/>\n",
       "<circle clip-path=\"url(#clip412)\" cx=\"1178.49\" cy=\"1118.28\" r=\"14\" fill=\"#da70d6\" fill-rule=\"evenodd\" fill-opacity=\"1\" stroke=\"#000000\" stroke-opacity=\"1\" stroke-width=\"3.2\"/>\n",
       "<circle clip-path=\"url(#clip412)\" cx=\"1400.5\" cy=\"1223.44\" r=\"14\" fill=\"#da70d6\" fill-rule=\"evenodd\" fill-opacity=\"1\" stroke=\"#000000\" stroke-opacity=\"1\" stroke-width=\"3.2\"/>\n",
       "<circle clip-path=\"url(#clip412)\" cx=\"1623.85\" cy=\"1298\" r=\"14\" fill=\"#da70d6\" fill-rule=\"evenodd\" fill-opacity=\"1\" stroke=\"#000000\" stroke-opacity=\"1\" stroke-width=\"3.2\"/>\n",
       "<circle clip-path=\"url(#clip412)\" cx=\"2065.21\" cy=\"1335.28\" r=\"14\" fill=\"#da70d6\" fill-rule=\"evenodd\" fill-opacity=\"1\" stroke=\"#000000\" stroke-opacity=\"1\" stroke-width=\"3.2\"/>\n",
       "<circle clip-path=\"url(#clip412)\" cx=\"2185.58\" cy=\"1374.22\" r=\"14\" fill=\"#da70d6\" fill-rule=\"evenodd\" fill-opacity=\"1\" stroke=\"#000000\" stroke-opacity=\"1\" stroke-width=\"3.2\"/>\n",
       "<circle clip-path=\"url(#clip412)\" cx=\"2292.57\" cy=\"1384.24\" r=\"14\" fill=\"#da70d6\" fill-rule=\"evenodd\" fill-opacity=\"1\" stroke=\"#000000\" stroke-opacity=\"1\" stroke-width=\"3.2\"/>\n",
       "<path clip-path=\"url(#clip410)\" d=\"\n",
       "M1654.46 214.069 L2281.87 214.069 L2281.87 93.1086 L1654.46 93.1086  Z\n",
       "  \" fill=\"#ffffff\" fill-rule=\"evenodd\" fill-opacity=\"1\"/>\n",
       "<polyline clip-path=\"url(#clip410)\" style=\"stroke:#000000; stroke-width:4; stroke-opacity:1; fill:none\" points=\"\n",
       "  1654.46,214.069 2281.87,214.069 2281.87,93.1086 1654.46,93.1086 1654.46,214.069 \n",
       "  \"/>\n",
       "<circle clip-path=\"url(#clip410)\" cx=\"1748.97\" cy=\"153.589\" r=\"23\" fill=\"#da70d6\" fill-rule=\"evenodd\" fill-opacity=\"1\" stroke=\"#000000\" stroke-opacity=\"1\" stroke-width=\"5.12\"/>\n",
       "<path clip-path=\"url(#clip410)\" d=\"M 0 0 M1843.48 144.943 L1847.74 144.943 L1853.07 165.174 L1858.37 144.943 L1863.39 144.943 L1868.71 165.174 L1874.02 144.943 L1878.28 144.943 L1871.49 170.869 L1866.47 170.869 L1860.89 149.619 L1855.29 170.869 L1850.27 170.869 L1843.48 144.943 Z\" fill=\"#000000\" fill-rule=\"evenodd\" fill-opacity=\"1\" /><path clip-path=\"url(#clip410)\" d=\"M 0 0 M1894.52 157.836 Q1889.36 157.836 1887.37 159.017 Q1885.38 160.197 1885.38 163.045 Q1885.38 165.313 1886.86 166.656 Q1888.37 167.975 1890.94 167.975 Q1894.48 167.975 1896.61 165.475 Q1898.76 162.952 1898.76 158.785 L1898.76 157.836 L1894.52 157.836 M1903.02 156.077 L1903.02 170.869 L1898.76 170.869 L1898.76 166.933 Q1897.3 169.295 1895.13 170.429 Q1892.95 171.54 1889.8 171.54 Q1885.82 171.54 1883.46 169.318 Q1881.12 167.072 1881.12 163.322 Q1881.12 158.947 1884.04 156.725 Q1886.98 154.503 1892.79 154.503 L1898.76 154.503 L1898.76 154.086 Q1898.76 151.147 1896.82 149.549 Q1894.9 147.929 1891.4 147.929 Q1889.18 147.929 1887.07 148.461 Q1884.96 148.994 1883.02 150.059 L1883.02 146.123 Q1885.36 145.221 1887.56 144.781 Q1889.76 144.318 1891.84 144.318 Q1897.46 144.318 1900.24 147.234 Q1903.02 150.151 1903.02 156.077 Z\" fill=\"#000000\" fill-rule=\"evenodd\" fill-opacity=\"1\" /><path clip-path=\"url(#clip410)\" d=\"M 0 0 M1922.51 148.924 Q1921.79 148.508 1920.94 148.322 Q1920.1 148.114 1919.08 148.114 Q1915.47 148.114 1913.53 150.475 Q1911.61 152.813 1911.61 157.211 L1911.61 170.869 L1907.33 170.869 L1907.33 144.943 L1911.61 144.943 L1911.61 148.971 Q1912.95 146.609 1915.1 145.475 Q1917.26 144.318 1920.33 144.318 Q1920.77 144.318 1921.31 144.387 Q1921.84 144.434 1922.49 144.549 L1922.51 148.924 Z\" fill=\"#000000\" fill-rule=\"evenodd\" fill-opacity=\"1\" /><path clip-path=\"url(#clip410)\" d=\"M 0 0 M1931.19 137.582 L1931.19 144.943 L1939.96 144.943 L1939.96 148.253 L1931.19 148.253 L1931.19 162.327 Q1931.19 165.498 1932.05 166.401 Q1932.93 167.304 1935.59 167.304 L1939.96 167.304 L1939.96 170.869 L1935.59 170.869 Q1930.66 170.869 1928.78 169.04 Q1926.91 167.188 1926.91 162.327 L1926.91 148.253 L1923.78 148.253 L1923.78 144.943 L1926.91 144.943 L1926.91 137.582 L1931.19 137.582 Z\" fill=\"#000000\" fill-rule=\"evenodd\" fill-opacity=\"1\" /><path clip-path=\"url(#clip410)\" d=\"M 0 0 M1954.48 147.929 Q1951.05 147.929 1949.06 150.614 Q1947.07 153.276 1947.07 157.929 Q1947.07 162.582 1949.04 165.267 Q1951.03 167.929 1954.48 167.929 Q1957.88 167.929 1959.87 165.244 Q1961.86 162.558 1961.86 157.929 Q1961.86 153.322 1959.87 150.637 Q1957.88 147.929 1954.48 147.929 M1954.48 144.318 Q1960.03 144.318 1963.21 147.929 Q1966.38 151.54 1966.38 157.929 Q1966.38 164.295 1963.21 167.929 Q1960.03 171.54 1954.48 171.54 Q1948.9 171.54 1945.73 167.929 Q1942.58 164.295 1942.58 157.929 Q1942.58 151.54 1945.73 147.929 Q1948.9 144.318 1954.48 144.318 Z\" fill=\"#000000\" fill-rule=\"evenodd\" fill-opacity=\"1\" /><path clip-path=\"url(#clip410)\" d=\"M 0 0 M1982.97 132.79 L1987.58 132.79 L1980.03 141.494 L1976.49 141.494 L1982.97 132.79 M1987.37 145.707 L1987.37 149.734 Q1985.57 148.809 1983.62 148.346 Q1981.68 147.883 1979.59 147.883 Q1976.42 147.883 1974.83 148.855 Q1973.25 149.827 1973.25 151.771 Q1973.25 153.253 1974.39 154.109 Q1975.52 154.943 1978.95 155.707 L1980.4 156.031 Q1984.94 157.003 1986.84 158.785 Q1988.76 160.545 1988.76 163.716 Q1988.76 167.327 1985.89 169.433 Q1983.04 171.54 1978.04 171.54 Q1975.96 171.54 1973.69 171.123 Q1971.45 170.73 1968.95 169.92 L1968.95 165.521 Q1971.31 166.748 1973.6 167.373 Q1975.89 167.975 1978.14 167.975 Q1981.14 167.975 1982.77 166.957 Q1984.39 165.915 1984.39 164.04 Q1984.39 162.304 1983.2 161.378 Q1982.05 160.452 1978.09 159.596 L1976.61 159.248 Q1972.65 158.415 1970.89 156.702 Q1969.13 154.966 1969.13 151.957 Q1969.13 148.299 1971.72 146.309 Q1974.32 144.318 1979.08 144.318 Q1981.45 144.318 1983.53 144.665 Q1985.61 145.012 1987.37 145.707 Z\" fill=\"#000000\" fill-rule=\"evenodd\" fill-opacity=\"1\" /><path clip-path=\"url(#clip410)\" d=\"M 0 0 M2011.89 145.938 L2011.89 149.92 Q2010.08 148.924 2008.25 148.438 Q2006.45 147.929 2004.59 147.929 Q2000.45 147.929 1998.16 150.568 Q1995.87 153.184 1995.87 157.929 Q1995.87 162.674 1998.16 165.313 Q2000.45 167.929 2004.59 167.929 Q2006.45 167.929 2008.25 167.443 Q2010.08 166.933 2011.89 165.938 L2011.89 169.873 Q2010.1 170.707 2008.18 171.123 Q2006.28 171.54 2004.13 171.54 Q1998.27 171.54 1994.83 167.859 Q1991.38 164.179 1991.38 157.929 Q1991.38 151.586 1994.85 147.952 Q1998.34 144.318 2004.41 144.318 Q2006.38 144.318 2008.25 144.735 Q2010.13 145.128 2011.89 145.938 Z\" fill=\"#000000\" fill-rule=\"evenodd\" fill-opacity=\"1\" /><path clip-path=\"url(#clip410)\" d=\"M 0 0 M2016.35 144.943 L2020.61 144.943 L2020.61 170.869 L2016.35 170.869 L2016.35 144.943 M2016.35 134.85 L2020.61 134.85 L2020.61 140.244 L2016.35 140.244 L2016.35 134.85 Z\" fill=\"#000000\" fill-rule=\"evenodd\" fill-opacity=\"1\" /><path clip-path=\"url(#clip410)\" d=\"M 0 0 M2060.33 149.92 Q2061.93 147.049 2064.15 145.684 Q2066.38 144.318 2069.39 144.318 Q2073.44 144.318 2075.64 147.165 Q2077.83 149.989 2077.83 155.221 L2077.83 170.869 L2073.55 170.869 L2073.55 155.359 Q2073.55 151.633 2072.23 149.827 Q2070.91 148.022 2068.2 148.022 Q2064.89 148.022 2062.97 150.221 Q2061.05 152.42 2061.05 156.216 L2061.05 170.869 L2056.77 170.869 L2056.77 155.359 Q2056.77 151.609 2055.45 149.827 Q2054.13 148.022 2051.38 148.022 Q2048.11 148.022 2046.19 150.244 Q2044.27 152.443 2044.27 156.216 L2044.27 170.869 L2039.99 170.869 L2039.99 144.943 L2044.27 144.943 L2044.27 148.971 Q2045.73 146.586 2047.76 145.452 Q2049.8 144.318 2052.6 144.318 Q2055.43 144.318 2057.39 145.753 Q2059.39 147.188 2060.33 149.92 Z\" fill=\"#000000\" fill-rule=\"evenodd\" fill-opacity=\"1\" /><path clip-path=\"url(#clip410)\" d=\"M 0 0 M2082.3 144.943 L2086.56 144.943 L2086.56 170.869 L2082.3 170.869 L2082.3 144.943 M2082.3 134.85 L2086.56 134.85 L2086.56 140.244 L2082.3 140.244 L2082.3 134.85 Z\" fill=\"#000000\" fill-rule=\"evenodd\" fill-opacity=\"1\" /><path clip-path=\"url(#clip410)\" d=\"M 0 0 M2113.2 156.841 L2113.2 158.924 L2093.62 158.924 Q2093.9 163.322 2096.26 165.637 Q2098.64 167.929 2102.88 167.929 Q2105.33 167.929 2107.63 167.327 Q2109.94 166.725 2112.21 165.521 L2112.21 169.549 Q2109.92 170.521 2107.51 171.031 Q2105.1 171.54 2102.63 171.54 Q2096.42 171.54 2092.79 167.929 Q2089.18 164.318 2089.18 158.16 Q2089.18 151.795 2092.6 148.068 Q2096.05 144.318 2101.88 144.318 Q2107.12 144.318 2110.15 147.697 Q2113.2 151.054 2113.2 156.841 M2108.95 155.591 Q2108.9 152.096 2106.98 150.012 Q2105.08 147.929 2101.93 147.929 Q2098.37 147.929 2096.21 149.943 Q2094.08 151.957 2093.76 155.614 L2108.95 155.591 Z\" fill=\"#000000\" fill-rule=\"evenodd\" fill-opacity=\"1\" /><path clip-path=\"url(#clip410)\" d=\"M 0 0 M2132.69 148.924 Q2131.98 148.508 2131.12 148.322 Q2130.29 148.114 2129.27 148.114 Q2125.66 148.114 2123.71 150.475 Q2121.79 152.813 2121.79 157.211 L2121.79 170.869 L2117.51 170.869 L2117.51 144.943 L2121.79 144.943 L2121.79 148.971 Q2123.13 146.609 2125.29 145.475 Q2127.44 144.318 2130.52 144.318 Q2130.96 144.318 2131.49 144.387 Q2132.02 144.434 2132.67 144.549 L2132.69 148.924 Z\" fill=\"#000000\" fill-rule=\"evenodd\" fill-opacity=\"1\" /><path clip-path=\"url(#clip410)\" d=\"M 0 0 M2135.31 144.943 L2155.54 144.943 L2155.54 148.832 L2139.52 167.466 L2155.54 167.466 L2155.54 170.869 L2134.73 170.869 L2134.73 166.98 L2150.75 148.346 L2135.31 148.346 L2135.31 144.943 Z\" fill=\"#000000\" fill-rule=\"evenodd\" fill-opacity=\"1\" /><path clip-path=\"url(#clip410)\" d=\"M 0 0 M2170.06 147.929 Q2166.63 147.929 2164.64 150.614 Q2162.65 153.276 2162.65 157.929 Q2162.65 162.582 2164.62 165.267 Q2166.61 167.929 2170.06 167.929 Q2173.46 167.929 2175.45 165.244 Q2177.44 162.558 2177.44 157.929 Q2177.44 153.322 2175.45 150.637 Q2173.46 147.929 2170.06 147.929 M2170.06 144.318 Q2175.61 144.318 2178.78 147.929 Q2181.95 151.54 2181.95 157.929 Q2181.95 164.295 2178.78 167.929 Q2175.61 171.54 2170.06 171.54 Q2164.48 171.54 2161.31 167.929 Q2158.16 164.295 2158.16 157.929 Q2158.16 151.54 2161.31 147.929 Q2164.48 144.318 2170.06 144.318 Z\" fill=\"#000000\" fill-rule=\"evenodd\" fill-opacity=\"1\" /><path clip-path=\"url(#clip410)\" d=\"M 0 0 M2207.97 155.221 L2207.97 170.869 L2203.71 170.869 L2203.71 155.359 Q2203.71 151.679 2202.28 149.85 Q2200.84 148.022 2197.97 148.022 Q2194.52 148.022 2192.53 150.221 Q2190.54 152.42 2190.54 156.216 L2190.54 170.869 L2186.26 170.869 L2186.26 144.943 L2190.54 144.943 L2190.54 148.971 Q2192.07 146.633 2194.13 145.475 Q2196.21 144.318 2198.92 144.318 Q2203.39 144.318 2205.68 147.096 Q2207.97 149.85 2207.97 155.221 Z\" fill=\"#000000\" fill-rule=\"evenodd\" fill-opacity=\"1\" /><path clip-path=\"url(#clip410)\" d=\"M 0 0 M2234.62 156.841 L2234.62 158.924 L2215.03 158.924 Q2215.31 163.322 2217.67 165.637 Q2220.06 167.929 2224.29 167.929 Q2226.75 167.929 2229.04 167.327 Q2231.35 166.725 2233.62 165.521 L2233.62 169.549 Q2231.33 170.521 2228.92 171.031 Q2226.51 171.54 2224.04 171.54 Q2217.83 171.54 2214.2 167.929 Q2210.59 164.318 2210.59 158.16 Q2210.59 151.795 2214.01 148.068 Q2217.46 144.318 2223.3 144.318 Q2228.53 144.318 2231.56 147.697 Q2234.62 151.054 2234.62 156.841 M2230.36 155.591 Q2230.31 152.096 2228.39 150.012 Q2226.49 147.929 2223.34 147.929 Q2219.78 147.929 2217.63 149.943 Q2215.5 151.957 2215.17 155.614 L2230.36 155.591 Z\" fill=\"#000000\" fill-rule=\"evenodd\" fill-opacity=\"1\" /></svg>\n"
      ]
     },
     "execution_count": 190,
     "metadata": {},
     "output_type": "execute_result"
    }
   ],
   "source": [
    "scatter(t, C, xlabel=\"t [h]\", ylabel=\"C [mg/l]\", label = \"wartości mierzone\", color=\"orchid\")"
   ]
  },
  {
   "cell_type": "markdown",
   "metadata": {},
   "source": [
    "Rozpatrzmy teraz model jednokompartmentowy rozważając równanie różniczkowe (4.2) w postaci \n",
    "$$ \\frac{dX}{dt} = -\\mathrm{K} \\cdot X $$"
   ]
  },
  {
   "cell_type": "markdown",
   "metadata": {},
   "source": [
    "Najpierw wykorzystajmy nasze rozwiązanie analityczne\n",
    "$$ C(t) = C_0 \\cdot \\mathrm{e}^{-\\mathrm{K} \\cdot t} $$"
   ]
  },
  {
   "cell_type": "code",
   "execution_count": 191,
   "metadata": {},
   "outputs": [
    {
     "data": {
      "text/plain": [
       "one_comp (generic function with 1 method)"
      ]
     },
     "execution_count": 191,
     "metadata": {},
     "output_type": "execute_result"
    }
   ],
   "source": [
    "function one_comp(t, C, K)\n",
    "    return C*ℯ^(-K*t)\n",
    "end"
   ]
  },
  {
   "cell_type": "code",
   "execution_count": 192,
   "metadata": {},
   "outputs": [
    {
     "data": {
      "text/plain": [
       "one_comp_array (generic function with 1 method)"
      ]
     },
     "execution_count": 192,
     "metadata": {},
     "output_type": "execute_result"
    }
   ],
   "source": [
    "function one_comp_array(t, C, K)\n",
    "    x = fill(NaN, length(t))\n",
    "    for i in 1:(length(t))\n",
    "        x[i] = C*ℯ^(-K*t[i])\n",
    "    end\n",
    "    return x\n",
    "end"
   ]
  },
  {
   "cell_type": "code",
   "execution_count": 193,
   "metadata": {},
   "outputs": [],
   "source": [
    "t_step = Array(0:0.1:1.5)\n",
    "analyt = one_comp_array(t_step, 240.6, 2.44);"
   ]
  },
  {
   "cell_type": "code",
   "execution_count": 194,
   "metadata": {},
   "outputs": [
    {
     "data": {
      "image/svg+xml": [
       "<?xml version=\"1.0\" encoding=\"utf-8\"?>\n",
       "<svg xmlns=\"http://www.w3.org/2000/svg\" xmlns:xlink=\"http://www.w3.org/1999/xlink\" width=\"600\" height=\"400\" viewBox=\"0 0 2400 1600\">\n",
       "<defs>\n",
       "  <clipPath id=\"clip450\">\n",
       "    <rect x=\"0\" y=\"0\" width=\"2400\" height=\"1600\"/>\n",
       "  </clipPath>\n",
       "</defs>\n",
       "<path clip-path=\"url(#clip450)\" d=\"\n",
       "M0 1600 L2400 1600 L2400 0 L0 0  Z\n",
       "  \" fill=\"#ffffff\" fill-rule=\"evenodd\" fill-opacity=\"1\"/>\n",
       "<defs>\n",
       "  <clipPath id=\"clip451\">\n",
       "    <rect x=\"480\" y=\"0\" width=\"1681\" height=\"1600\"/>\n",
       "  </clipPath>\n",
       "</defs>\n",
       "<path clip-path=\"url(#clip450)\" d=\"\n",
       "M226.232 1423.18 L2352.76 1423.18 L2352.76 47.2441 L226.232 47.2441  Z\n",
       "  \" fill=\"#ffffff\" fill-rule=\"evenodd\" fill-opacity=\"1\"/>\n",
       "<defs>\n",
       "  <clipPath id=\"clip452\">\n",
       "    <rect x=\"226\" y=\"47\" width=\"2128\" height=\"1377\"/>\n",
       "  </clipPath>\n",
       "</defs>\n",
       "<polyline clip-path=\"url(#clip452)\" style=\"stroke:#000000; stroke-width:2; stroke-opacity:0.1; fill:none\" points=\"\n",
       "  286.417,1423.18 286.417,47.2441 \n",
       "  \"/>\n",
       "<polyline clip-path=\"url(#clip452)\" style=\"stroke:#000000; stroke-width:2; stroke-opacity:0.1; fill:none\" points=\"\n",
       "  955.135,1423.18 955.135,47.2441 \n",
       "  \"/>\n",
       "<polyline clip-path=\"url(#clip452)\" style=\"stroke:#000000; stroke-width:2; stroke-opacity:0.1; fill:none\" points=\"\n",
       "  1623.85,1423.18 1623.85,47.2441 \n",
       "  \"/>\n",
       "<polyline clip-path=\"url(#clip452)\" style=\"stroke:#000000; stroke-width:2; stroke-opacity:0.1; fill:none\" points=\"\n",
       "  2292.57,1423.18 2292.57,47.2441 \n",
       "  \"/>\n",
       "<polyline clip-path=\"url(#clip450)\" style=\"stroke:#000000; stroke-width:4; stroke-opacity:1; fill:none\" points=\"\n",
       "  226.232,1423.18 2352.76,1423.18 \n",
       "  \"/>\n",
       "<polyline clip-path=\"url(#clip450)\" style=\"stroke:#000000; stroke-width:4; stroke-opacity:1; fill:none\" points=\"\n",
       "  286.417,1423.18 286.417,1406.67 \n",
       "  \"/>\n",
       "<polyline clip-path=\"url(#clip450)\" style=\"stroke:#000000; stroke-width:4; stroke-opacity:1; fill:none\" points=\"\n",
       "  955.135,1423.18 955.135,1406.67 \n",
       "  \"/>\n",
       "<polyline clip-path=\"url(#clip450)\" style=\"stroke:#000000; stroke-width:4; stroke-opacity:1; fill:none\" points=\"\n",
       "  1623.85,1423.18 1623.85,1406.67 \n",
       "  \"/>\n",
       "<polyline clip-path=\"url(#clip450)\" style=\"stroke:#000000; stroke-width:4; stroke-opacity:1; fill:none\" points=\"\n",
       "  2292.57,1423.18 2292.57,1406.67 \n",
       "  \"/>\n",
       "<path clip-path=\"url(#clip450)\" d=\"M 0 0 M267.933 1452.37 Q264.322 1452.37 262.493 1455.94 Q260.688 1459.48 260.688 1466.61 Q260.688 1473.71 262.493 1477.28 Q264.322 1480.82 267.933 1480.82 Q271.567 1480.82 273.373 1477.28 Q275.201 1473.71 275.201 1466.61 Q275.201 1459.48 273.373 1455.94 Q271.567 1452.37 267.933 1452.37 M267.933 1448.67 Q273.743 1448.67 276.799 1453.27 Q279.877 1457.86 279.877 1466.61 Q279.877 1475.33 276.799 1479.94 Q273.743 1484.52 267.933 1484.52 Q262.123 1484.52 259.044 1479.94 Q255.989 1475.33 255.989 1466.61 Q255.989 1457.86 259.044 1453.27 Q262.123 1448.67 267.933 1448.67 Z\" fill=\"#000000\" fill-rule=\"evenodd\" fill-opacity=\"1\" /><path clip-path=\"url(#clip450)\" d=\"M 0 0 M284.947 1477.97 L289.831 1477.97 L289.831 1483.85 L284.947 1483.85 L284.947 1477.97 Z\" fill=\"#000000\" fill-rule=\"evenodd\" fill-opacity=\"1\" /><path clip-path=\"url(#clip450)\" d=\"M 0 0 M304.9 1452.37 Q301.289 1452.37 299.461 1455.94 Q297.655 1459.48 297.655 1466.61 Q297.655 1473.71 299.461 1477.28 Q301.289 1480.82 304.9 1480.82 Q308.535 1480.82 310.34 1477.28 Q312.169 1473.71 312.169 1466.61 Q312.169 1459.48 310.34 1455.94 Q308.535 1452.37 304.9 1452.37 M304.9 1448.67 Q310.71 1448.67 313.766 1453.27 Q316.845 1457.86 316.845 1466.61 Q316.845 1475.33 313.766 1479.94 Q310.71 1484.52 304.9 1484.52 Q299.09 1484.52 296.011 1479.94 Q292.956 1475.33 292.956 1466.61 Q292.956 1457.86 296.011 1453.27 Q299.09 1448.67 304.9 1448.67 Z\" fill=\"#000000\" fill-rule=\"evenodd\" fill-opacity=\"1\" /><path clip-path=\"url(#clip450)\" d=\"M 0 0 M937.149 1452.37 Q933.538 1452.37 931.709 1455.94 Q929.903 1459.48 929.903 1466.61 Q929.903 1473.71 931.709 1477.28 Q933.538 1480.82 937.149 1480.82 Q940.783 1480.82 942.589 1477.28 Q944.417 1473.71 944.417 1466.61 Q944.417 1459.48 942.589 1455.94 Q940.783 1452.37 937.149 1452.37 M937.149 1448.67 Q942.959 1448.67 946.015 1453.27 Q949.093 1457.86 949.093 1466.61 Q949.093 1475.33 946.015 1479.94 Q942.959 1484.52 937.149 1484.52 Q931.339 1484.52 928.26 1479.94 Q925.204 1475.33 925.204 1466.61 Q925.204 1457.86 928.26 1453.27 Q931.339 1448.67 937.149 1448.67 Z\" fill=\"#000000\" fill-rule=\"evenodd\" fill-opacity=\"1\" /><path clip-path=\"url(#clip450)\" d=\"M 0 0 M954.163 1477.97 L959.047 1477.97 L959.047 1483.85 L954.163 1483.85 L954.163 1477.97 Z\" fill=\"#000000\" fill-rule=\"evenodd\" fill-opacity=\"1\" /><path clip-path=\"url(#clip450)\" d=\"M 0 0 M964.163 1449.29 L982.519 1449.29 L982.519 1453.23 L968.445 1453.23 L968.445 1461.7 Q969.463 1461.35 970.482 1461.19 Q971.5 1461 972.519 1461 Q978.306 1461 981.686 1464.18 Q985.065 1467.35 985.065 1472.76 Q985.065 1478.34 981.593 1481.44 Q978.121 1484.52 971.801 1484.52 Q969.625 1484.52 967.357 1484.15 Q965.112 1483.78 962.704 1483.04 L962.704 1478.34 Q964.788 1479.48 967.01 1480.03 Q969.232 1480.59 971.709 1480.59 Q975.713 1480.59 978.051 1478.48 Q980.389 1476.38 980.389 1472.76 Q980.389 1469.15 978.051 1467.05 Q975.713 1464.94 971.709 1464.94 Q969.834 1464.94 967.959 1465.36 Q966.107 1465.77 964.163 1466.65 L964.163 1449.29 Z\" fill=\"#000000\" fill-rule=\"evenodd\" fill-opacity=\"1\" /><path clip-path=\"url(#clip450)\" d=\"M 0 0 M1595.75 1479.92 L1603.39 1479.92 L1603.39 1453.55 L1595.08 1455.22 L1595.08 1450.96 L1603.34 1449.29 L1608.02 1449.29 L1608.02 1479.92 L1615.66 1479.92 L1615.66 1483.85 L1595.75 1483.85 L1595.75 1479.92 Z\" fill=\"#000000\" fill-rule=\"evenodd\" fill-opacity=\"1\" /><path clip-path=\"url(#clip450)\" d=\"M 0 0 M1620.73 1477.97 L1625.61 1477.97 L1625.61 1483.85 L1620.73 1483.85 L1620.73 1477.97 Z\" fill=\"#000000\" fill-rule=\"evenodd\" fill-opacity=\"1\" /><path clip-path=\"url(#clip450)\" d=\"M 0 0 M1640.68 1452.37 Q1637.07 1452.37 1635.24 1455.94 Q1633.44 1459.48 1633.44 1466.61 Q1633.44 1473.71 1635.24 1477.28 Q1637.07 1480.82 1640.68 1480.82 Q1644.32 1480.82 1646.12 1477.28 Q1647.95 1473.71 1647.95 1466.61 Q1647.95 1459.48 1646.12 1455.94 Q1644.32 1452.37 1640.68 1452.37 M1640.68 1448.67 Q1646.49 1448.67 1649.55 1453.27 Q1652.63 1457.86 1652.63 1466.61 Q1652.63 1475.33 1649.55 1479.94 Q1646.49 1484.52 1640.68 1484.52 Q1634.87 1484.52 1631.79 1479.94 Q1628.74 1475.33 1628.74 1466.61 Q1628.74 1457.86 1631.79 1453.27 Q1634.87 1448.67 1640.68 1448.67 Z\" fill=\"#000000\" fill-rule=\"evenodd\" fill-opacity=\"1\" /><path clip-path=\"url(#clip450)\" d=\"M 0 0 M2264.97 1479.92 L2272.61 1479.92 L2272.61 1453.55 L2264.3 1455.22 L2264.3 1450.96 L2272.56 1449.29 L2277.24 1449.29 L2277.24 1479.92 L2284.87 1479.92 L2284.87 1483.85 L2264.97 1483.85 L2264.97 1479.92 Z\" fill=\"#000000\" fill-rule=\"evenodd\" fill-opacity=\"1\" /><path clip-path=\"url(#clip450)\" d=\"M 0 0 M2289.94 1477.97 L2294.83 1477.97 L2294.83 1483.85 L2289.94 1483.85 L2289.94 1477.97 Z\" fill=\"#000000\" fill-rule=\"evenodd\" fill-opacity=\"1\" /><path clip-path=\"url(#clip450)\" d=\"M 0 0 M2299.94 1449.29 L2318.3 1449.29 L2318.3 1453.23 L2304.23 1453.23 L2304.23 1461.7 Q2305.24 1461.35 2306.26 1461.19 Q2307.28 1461 2308.3 1461 Q2314.09 1461 2317.47 1464.18 Q2320.85 1467.35 2320.85 1472.76 Q2320.85 1478.34 2317.37 1481.44 Q2313.9 1484.52 2307.58 1484.52 Q2305.41 1484.52 2303.14 1484.15 Q2300.89 1483.78 2298.49 1483.04 L2298.49 1478.34 Q2300.57 1479.48 2302.79 1480.03 Q2305.01 1480.59 2307.49 1480.59 Q2311.49 1480.59 2313.83 1478.48 Q2316.17 1476.38 2316.17 1472.76 Q2316.17 1469.15 2313.83 1467.05 Q2311.49 1464.94 2307.49 1464.94 Q2305.62 1464.94 2303.74 1465.36 Q2301.89 1465.77 2299.94 1466.65 L2299.94 1449.29 Z\" fill=\"#000000\" fill-rule=\"evenodd\" fill-opacity=\"1\" /><path clip-path=\"url(#clip450)\" d=\"M 0 0 M1240.84 1522.27 L1240.84 1532.4 L1252.91 1532.4 L1252.91 1536.95 L1240.84 1536.95 L1240.84 1556.3 Q1240.84 1560.66 1242.02 1561.9 Q1243.23 1563.14 1246.89 1563.14 L1252.91 1563.14 L1252.91 1568.04 L1246.89 1568.04 Q1240.11 1568.04 1237.53 1565.53 Q1234.96 1562.98 1234.96 1556.3 L1234.96 1536.95 L1230.66 1536.95 L1230.66 1532.4 L1234.96 1532.4 L1234.96 1522.27 L1240.84 1522.27 Z\" fill=\"#000000\" fill-rule=\"evenodd\" fill-opacity=\"1\" /><path clip-path=\"url(#clip450)\" d=\"M 0 0 M1279.23 1518.52 L1292.72 1518.52 L1292.72 1523.07 L1285.09 1523.07 L1285.09 1572.09 L1292.72 1572.09 L1292.72 1576.64 L1279.23 1576.64 L1279.23 1518.52 Z\" fill=\"#000000\" fill-rule=\"evenodd\" fill-opacity=\"1\" /><path clip-path=\"url(#clip450)\" d=\"M 0 0 M1328.5 1546.53 L1328.5 1568.04 L1322.64 1568.04 L1322.64 1546.72 Q1322.64 1541.66 1320.67 1539.14 Q1318.7 1536.63 1314.75 1536.63 Q1310.01 1536.63 1307.27 1539.65 Q1304.53 1542.68 1304.53 1547.9 L1304.53 1568.04 L1298.64 1568.04 L1298.64 1518.52 L1304.53 1518.52 L1304.53 1537.93 Q1306.63 1534.72 1309.47 1533.13 Q1312.33 1531.54 1316.05 1531.54 Q1322.2 1531.54 1325.35 1535.36 Q1328.5 1539.14 1328.5 1546.53 Z\" fill=\"#000000\" fill-rule=\"evenodd\" fill-opacity=\"1\" /><path clip-path=\"url(#clip450)\" d=\"M 0 0 M1348.33 1518.52 L1348.33 1576.64 L1334.83 1576.64 L1334.83 1572.09 L1342.44 1572.09 L1342.44 1523.07 L1334.83 1523.07 L1334.83 1518.52 L1348.33 1518.52 Z\" fill=\"#000000\" fill-rule=\"evenodd\" fill-opacity=\"1\" /><polyline clip-path=\"url(#clip452)\" style=\"stroke:#000000; stroke-width:2; stroke-opacity:0.1; fill:none\" points=\"\n",
       "  226.232,1418.52 2352.76,1418.52 \n",
       "  \"/>\n",
       "<polyline clip-path=\"url(#clip452)\" style=\"stroke:#000000; stroke-width:2; stroke-opacity:0.1; fill:none\" points=\"\n",
       "  226.232,1141.64 2352.76,1141.64 \n",
       "  \"/>\n",
       "<polyline clip-path=\"url(#clip452)\" style=\"stroke:#000000; stroke-width:2; stroke-opacity:0.1; fill:none\" points=\"\n",
       "  226.232,864.767 2352.76,864.767 \n",
       "  \"/>\n",
       "<polyline clip-path=\"url(#clip452)\" style=\"stroke:#000000; stroke-width:2; stroke-opacity:0.1; fill:none\" points=\"\n",
       "  226.232,587.889 2352.76,587.889 \n",
       "  \"/>\n",
       "<polyline clip-path=\"url(#clip452)\" style=\"stroke:#000000; stroke-width:2; stroke-opacity:0.1; fill:none\" points=\"\n",
       "  226.232,311.011 2352.76,311.011 \n",
       "  \"/>\n",
       "<polyline clip-path=\"url(#clip450)\" style=\"stroke:#000000; stroke-width:4; stroke-opacity:1; fill:none\" points=\"\n",
       "  226.232,1423.18 226.232,47.2441 \n",
       "  \"/>\n",
       "<polyline clip-path=\"url(#clip450)\" style=\"stroke:#000000; stroke-width:4; stroke-opacity:1; fill:none\" points=\"\n",
       "  226.232,1418.52 251.75,1418.52 \n",
       "  \"/>\n",
       "<polyline clip-path=\"url(#clip450)\" style=\"stroke:#000000; stroke-width:4; stroke-opacity:1; fill:none\" points=\"\n",
       "  226.232,1141.64 251.75,1141.64 \n",
       "  \"/>\n",
       "<polyline clip-path=\"url(#clip450)\" style=\"stroke:#000000; stroke-width:4; stroke-opacity:1; fill:none\" points=\"\n",
       "  226.232,864.767 251.75,864.767 \n",
       "  \"/>\n",
       "<polyline clip-path=\"url(#clip450)\" style=\"stroke:#000000; stroke-width:4; stroke-opacity:1; fill:none\" points=\"\n",
       "  226.232,587.889 251.75,587.889 \n",
       "  \"/>\n",
       "<polyline clip-path=\"url(#clip450)\" style=\"stroke:#000000; stroke-width:4; stroke-opacity:1; fill:none\" points=\"\n",
       "  226.232,311.011 251.75,311.011 \n",
       "  \"/>\n",
       "<path clip-path=\"url(#clip450)\" d=\"M 0 0 M178.288 1404.32 Q174.677 1404.32 172.848 1407.89 Q171.042 1411.43 171.042 1418.56 Q171.042 1425.66 172.848 1429.23 Q174.677 1432.77 178.288 1432.77 Q181.922 1432.77 183.727 1429.23 Q185.556 1425.66 185.556 1418.56 Q185.556 1411.43 183.727 1407.89 Q181.922 1404.32 178.288 1404.32 M178.288 1400.62 Q184.098 1400.62 187.153 1405.22 Q190.232 1409.81 190.232 1418.56 Q190.232 1427.28 187.153 1431.89 Q184.098 1436.47 178.288 1436.47 Q172.477 1436.47 169.399 1431.89 Q166.343 1427.28 166.343 1418.56 Q166.343 1409.81 169.399 1405.22 Q172.477 1400.62 178.288 1400.62 Z\" fill=\"#000000\" fill-rule=\"evenodd\" fill-opacity=\"1\" /><path clip-path=\"url(#clip450)\" d=\"M 0 0 M142.316 1124.36 L160.672 1124.36 L160.672 1128.3 L146.598 1128.3 L146.598 1136.77 Q147.616 1136.42 148.635 1136.26 Q149.653 1136.08 150.672 1136.08 Q156.459 1136.08 159.839 1139.25 Q163.218 1142.42 163.218 1147.84 Q163.218 1153.42 159.746 1156.52 Q156.274 1159.6 149.954 1159.6 Q147.778 1159.6 145.51 1159.23 Q143.265 1158.86 140.857 1158.11 L140.857 1153.42 Q142.941 1154.55 145.163 1155.11 Q147.385 1155.66 149.862 1155.66 Q153.866 1155.66 156.204 1153.55 Q158.542 1151.45 158.542 1147.84 Q158.542 1144.23 156.204 1142.12 Q153.866 1140.01 149.862 1140.01 Q147.987 1140.01 146.112 1140.43 Q144.26 1140.85 142.316 1141.73 L142.316 1124.36 Z\" fill=\"#000000\" fill-rule=\"evenodd\" fill-opacity=\"1\" /><path clip-path=\"url(#clip450)\" d=\"M 0 0 M178.288 1127.44 Q174.677 1127.44 172.848 1131.01 Q171.042 1134.55 171.042 1141.68 Q171.042 1148.79 172.848 1152.35 Q174.677 1155.89 178.288 1155.89 Q181.922 1155.89 183.727 1152.35 Q185.556 1148.79 185.556 1141.68 Q185.556 1134.55 183.727 1131.01 Q181.922 1127.44 178.288 1127.44 M178.288 1123.74 Q184.098 1123.74 187.153 1128.35 Q190.232 1132.93 190.232 1141.68 Q190.232 1150.41 187.153 1155.01 Q184.098 1159.6 178.288 1159.6 Q172.477 1159.6 169.399 1155.01 Q166.343 1150.41 166.343 1141.68 Q166.343 1132.93 169.399 1128.35 Q172.477 1123.74 178.288 1123.74 Z\" fill=\"#000000\" fill-rule=\"evenodd\" fill-opacity=\"1\" /><path clip-path=\"url(#clip450)\" d=\"M 0 0 M116.297 878.111 L123.936 878.111 L123.936 851.746 L115.626 853.413 L115.626 849.153 L123.89 847.487 L128.566 847.487 L128.566 878.111 L136.204 878.111 L136.204 882.047 L116.297 882.047 L116.297 878.111 Z\" fill=\"#000000\" fill-rule=\"evenodd\" fill-opacity=\"1\" /><path clip-path=\"url(#clip450)\" d=\"M 0 0 M151.274 850.565 Q147.663 850.565 145.834 854.13 Q144.029 857.672 144.029 864.801 Q144.029 871.908 145.834 875.473 Q147.663 879.014 151.274 879.014 Q154.908 879.014 156.714 875.473 Q158.542 871.908 158.542 864.801 Q158.542 857.672 156.714 854.13 Q154.908 850.565 151.274 850.565 M151.274 846.862 Q157.084 846.862 160.14 851.468 Q163.218 856.051 163.218 864.801 Q163.218 873.528 160.14 878.135 Q157.084 882.718 151.274 882.718 Q145.464 882.718 142.385 878.135 Q139.329 873.528 139.329 864.801 Q139.329 856.051 142.385 851.468 Q145.464 846.862 151.274 846.862 Z\" fill=\"#000000\" fill-rule=\"evenodd\" fill-opacity=\"1\" /><path clip-path=\"url(#clip450)\" d=\"M 0 0 M178.288 850.565 Q174.677 850.565 172.848 854.13 Q171.042 857.672 171.042 864.801 Q171.042 871.908 172.848 875.473 Q174.677 879.014 178.288 879.014 Q181.922 879.014 183.727 875.473 Q185.556 871.908 185.556 864.801 Q185.556 857.672 183.727 854.13 Q181.922 850.565 178.288 850.565 M178.288 846.862 Q184.098 846.862 187.153 851.468 Q190.232 856.051 190.232 864.801 Q190.232 873.528 187.153 878.135 Q184.098 882.718 178.288 882.718 Q172.477 882.718 169.399 878.135 Q166.343 873.528 166.343 864.801 Q166.343 856.051 169.399 851.468 Q172.477 846.862 178.288 846.862 Z\" fill=\"#000000\" fill-rule=\"evenodd\" fill-opacity=\"1\" /><path clip-path=\"url(#clip450)\" d=\"M 0 0 M117.293 601.233 L124.931 601.233 L124.931 574.868 L116.621 576.535 L116.621 572.275 L124.885 570.609 L129.561 570.609 L129.561 601.233 L137.2 601.233 L137.2 605.169 L117.293 605.169 L117.293 601.233 Z\" fill=\"#000000\" fill-rule=\"evenodd\" fill-opacity=\"1\" /><path clip-path=\"url(#clip450)\" d=\"M 0 0 M142.316 570.609 L160.672 570.609 L160.672 574.544 L146.598 574.544 L146.598 583.016 Q147.616 582.669 148.635 582.507 Q149.653 582.322 150.672 582.322 Q156.459 582.322 159.839 585.493 Q163.218 588.664 163.218 594.081 Q163.218 599.659 159.746 602.761 Q156.274 605.84 149.954 605.84 Q147.778 605.84 145.51 605.47 Q143.265 605.099 140.857 604.358 L140.857 599.659 Q142.941 600.794 145.163 601.349 Q147.385 601.905 149.862 601.905 Q153.866 601.905 156.204 599.798 Q158.542 597.692 158.542 594.081 Q158.542 590.47 156.204 588.363 Q153.866 586.257 149.862 586.257 Q147.987 586.257 146.112 586.673 Q144.26 587.09 142.316 587.97 L142.316 570.609 Z\" fill=\"#000000\" fill-rule=\"evenodd\" fill-opacity=\"1\" /><path clip-path=\"url(#clip450)\" d=\"M 0 0 M178.288 573.687 Q174.677 573.687 172.848 577.252 Q171.042 580.794 171.042 587.923 Q171.042 595.03 172.848 598.595 Q174.677 602.136 178.288 602.136 Q181.922 602.136 183.727 598.595 Q185.556 595.03 185.556 587.923 Q185.556 580.794 183.727 577.252 Q181.922 573.687 178.288 573.687 M178.288 569.984 Q184.098 569.984 187.153 574.59 Q190.232 579.173 190.232 587.923 Q190.232 596.65 187.153 601.257 Q184.098 605.84 178.288 605.84 Q172.477 605.84 169.399 601.257 Q166.343 596.65 166.343 587.923 Q166.343 579.173 169.399 574.59 Q172.477 569.984 178.288 569.984 Z\" fill=\"#000000\" fill-rule=\"evenodd\" fill-opacity=\"1\" /><path clip-path=\"url(#clip450)\" d=\"M 0 0 M119.885 324.355 L136.204 324.355 L136.204 328.291 L114.26 328.291 L114.26 324.355 Q116.922 321.601 121.505 316.971 Q126.112 312.318 127.292 310.976 Q129.538 308.453 130.417 306.717 Q131.32 304.957 131.32 303.268 Q131.32 300.513 129.376 298.777 Q127.455 297.041 124.353 297.041 Q122.154 297.041 119.7 297.805 Q117.269 298.569 114.492 300.119 L114.492 295.397 Q117.316 294.263 119.769 293.684 Q122.223 293.106 124.26 293.106 Q129.63 293.106 132.825 295.791 Q136.019 298.476 136.019 302.967 Q136.019 305.096 135.209 307.018 Q134.422 308.916 132.316 311.508 Q131.737 312.18 128.635 315.397 Q125.533 318.592 119.885 324.355 Z\" fill=\"#000000\" fill-rule=\"evenodd\" fill-opacity=\"1\" /><path clip-path=\"url(#clip450)\" d=\"M 0 0 M151.274 296.809 Q147.663 296.809 145.834 300.374 Q144.029 303.916 144.029 311.045 Q144.029 318.152 145.834 321.717 Q147.663 325.258 151.274 325.258 Q154.908 325.258 156.714 321.717 Q158.542 318.152 158.542 311.045 Q158.542 303.916 156.714 300.374 Q154.908 296.809 151.274 296.809 M151.274 293.106 Q157.084 293.106 160.14 297.712 Q163.218 302.295 163.218 311.045 Q163.218 319.772 160.14 324.379 Q157.084 328.962 151.274 328.962 Q145.464 328.962 142.385 324.379 Q139.329 319.772 139.329 311.045 Q139.329 302.295 142.385 297.712 Q145.464 293.106 151.274 293.106 Z\" fill=\"#000000\" fill-rule=\"evenodd\" fill-opacity=\"1\" /><path clip-path=\"url(#clip450)\" d=\"M 0 0 M178.288 296.809 Q174.677 296.809 172.848 300.374 Q171.042 303.916 171.042 311.045 Q171.042 318.152 172.848 321.717 Q174.677 325.258 178.288 325.258 Q181.922 325.258 183.727 321.717 Q185.556 318.152 185.556 311.045 Q185.556 303.916 183.727 300.374 Q181.922 296.809 178.288 296.809 M178.288 293.106 Q184.098 293.106 187.153 297.712 Q190.232 302.295 190.232 311.045 Q190.232 319.772 187.153 324.379 Q184.098 328.962 178.288 328.962 Q172.477 328.962 169.399 324.379 Q166.343 319.772 166.343 311.045 Q166.343 302.295 169.399 297.712 Q172.477 293.106 178.288 293.106 Z\" fill=\"#000000\" fill-rule=\"evenodd\" fill-opacity=\"1\" /><path clip-path=\"url(#clip450)\" d=\"M 0 0 M20.1444 809.563 L26.9239 809.563 Q23.9002 812.81 22.4043 816.502 Q20.9083 820.162 20.9083 824.3 Q20.9083 832.448 25.9054 836.777 Q30.8707 841.105 40.2919 841.105 Q49.6813 841.105 54.6784 836.777 Q59.6436 832.448 59.6436 824.3 Q59.6436 820.162 58.1477 816.502 Q56.6518 812.81 53.6281 809.563 L60.3439 809.563 Q62.6355 812.937 63.7814 816.725 Q64.9272 820.481 64.9272 824.682 Q64.9272 835.472 58.3387 841.678 Q51.7183 847.885 40.2919 847.885 Q28.8336 847.885 22.2451 841.678 Q15.6248 835.472 15.6248 824.682 Q15.6248 820.417 16.7706 816.661 Q17.8846 812.874 20.1444 809.563 Z\" fill=\"#000000\" fill-rule=\"evenodd\" fill-opacity=\"1\" /><path clip-path=\"url(#clip450)\" d=\"M 0 0 M14.479 783.241 L14.479 769.746 L19.0304 769.746 L19.0304 777.385 L68.0464 777.385 L68.0464 769.746 L72.5979 769.746 L72.5979 783.241 L14.479 783.241 Z\" fill=\"#000000\" fill-rule=\"evenodd\" fill-opacity=\"1\" /><path clip-path=\"url(#clip450)\" d=\"M 0 0 M35.1993 735.849 Q31.2526 733.652 29.3747 730.597 Q27.4968 727.541 27.4968 723.404 Q27.4968 717.834 31.4117 714.81 Q35.2948 711.786 42.4881 711.786 L64.0042 711.786 L64.0042 717.674 L42.679 717.674 Q37.5546 717.674 35.072 719.489 Q32.5894 721.303 32.5894 725.027 Q32.5894 729.578 35.6131 732.22 Q38.6368 734.862 43.8567 734.862 L64.0042 734.862 L64.0042 740.75 L42.679 740.75 Q37.5228 740.75 35.072 742.564 Q32.5894 744.379 32.5894 748.166 Q32.5894 752.654 35.6449 755.296 Q38.6686 757.938 43.8567 757.938 L64.0042 757.938 L64.0042 763.826 L28.3562 763.826 L28.3562 757.938 L33.8944 757.938 Q30.616 755.932 29.0564 753.131 Q27.4968 750.331 27.4968 746.479 Q27.4968 742.596 29.4702 739.891 Q31.4436 737.154 35.1993 735.849 Z\" fill=\"#000000\" fill-rule=\"evenodd\" fill-opacity=\"1\" /><path clip-path=\"url(#clip450)\" d=\"M 0 0 M45.7664 682.186 Q39.4007 682.186 35.8996 684.827 Q32.3984 687.437 32.3984 692.18 Q32.3984 696.89 35.8996 699.532 Q39.4007 702.142 45.7664 702.142 Q52.1003 702.142 55.6014 699.532 Q59.1026 696.89 59.1026 692.18 Q59.1026 687.437 55.6014 684.827 Q52.1003 682.186 45.7664 682.186 M59.58 676.329 Q68.683 676.329 73.1071 680.371 Q77.5631 684.414 77.5631 692.753 Q77.5631 695.84 77.0857 698.577 Q76.6401 701.315 75.6852 703.893 L69.9879 703.893 Q71.3884 701.315 72.0568 698.8 Q72.7252 696.286 72.7252 693.676 Q72.7252 687.915 69.7015 685.05 Q66.7096 682.186 60.6303 682.186 L57.7339 682.186 Q60.885 684 62.4446 686.833 Q64.0042 689.665 64.0042 693.612 Q64.0042 700.169 59.0071 704.179 Q54.01 708.19 45.7664 708.19 Q37.491 708.19 32.4939 704.179 Q27.4968 700.169 27.4968 693.612 Q27.4968 689.665 29.0564 686.833 Q30.616 684 33.7671 682.186 L28.3562 682.186 L28.3562 676.329 L59.58 676.329 Z\" fill=\"#000000\" fill-rule=\"evenodd\" fill-opacity=\"1\" /><path clip-path=\"url(#clip450)\" d=\"M 0 0 M16.4842 659.778 L16.4842 654.367 L70.0516 670.918 L70.0516 676.329 L16.4842 659.778 Z\" fill=\"#000000\" fill-rule=\"evenodd\" fill-opacity=\"1\" /><path clip-path=\"url(#clip450)\" d=\"M 0 0 M14.479 648.225 L14.479 642.368 L64.0042 642.368 L64.0042 648.225 L14.479 648.225 Z\" fill=\"#000000\" fill-rule=\"evenodd\" fill-opacity=\"1\" /><path clip-path=\"url(#clip450)\" d=\"M 0 0 M14.479 622.539 L72.5979 622.539 L72.5979 636.034 L68.0464 636.034 L68.0464 628.427 L19.0304 628.427 L19.0304 636.034 L14.479 636.034 L14.479 622.539 Z\" fill=\"#000000\" fill-rule=\"evenodd\" fill-opacity=\"1\" /><circle clip-path=\"url(#clip452)\" cx=\"286.417\" cy=\"86.1857\" r=\"14\" fill=\"#da70d6\" fill-rule=\"evenodd\" fill-opacity=\"1\" stroke=\"#000000\" stroke-opacity=\"1\" stroke-width=\"3.2\"/>\n",
       "<circle clip-path=\"url(#clip452)\" cx=\"397.424\" cy=\"211.888\" r=\"14\" fill=\"#da70d6\" fill-rule=\"evenodd\" fill-opacity=\"1\" stroke=\"#000000\" stroke-opacity=\"1\" stroke-width=\"3.2\"/>\n",
       "<circle clip-path=\"url(#clip452)\" cx=\"509.768\" cy=\"481.014\" r=\"14\" fill=\"#da70d6\" fill-rule=\"evenodd\" fill-opacity=\"1\" stroke=\"#000000\" stroke-opacity=\"1\" stroke-width=\"3.2\"/>\n",
       "<circle clip-path=\"url(#clip452)\" cx=\"620.776\" cy=\"760.107\" r=\"14\" fill=\"#da70d6\" fill-rule=\"evenodd\" fill-opacity=\"1\" stroke=\"#000000\" stroke-opacity=\"1\" stroke-width=\"3.2\"/>\n",
       "<circle clip-path=\"url(#clip452)\" cx=\"777.256\" cy=\"848.708\" r=\"14\" fill=\"#da70d6\" fill-rule=\"evenodd\" fill-opacity=\"1\" stroke=\"#000000\" stroke-opacity=\"1\" stroke-width=\"3.2\"/>\n",
       "<circle clip-path=\"url(#clip452)\" cx=\"999.27\" cy=\"1004.87\" r=\"14\" fill=\"#da70d6\" fill-rule=\"evenodd\" fill-opacity=\"1\" stroke=\"#000000\" stroke-opacity=\"1\" stroke-width=\"3.2\"/>\n",
       "<circle clip-path=\"url(#clip452)\" cx=\"1178.49\" cy=\"1113.4\" r=\"14\" fill=\"#da70d6\" fill-rule=\"evenodd\" fill-opacity=\"1\" stroke=\"#000000\" stroke-opacity=\"1\" stroke-width=\"3.2\"/>\n",
       "<circle clip-path=\"url(#clip452)\" cx=\"1400.5\" cy=\"1218.06\" r=\"14\" fill=\"#da70d6\" fill-rule=\"evenodd\" fill-opacity=\"1\" stroke=\"#000000\" stroke-opacity=\"1\" stroke-width=\"3.2\"/>\n",
       "<circle clip-path=\"url(#clip452)\" cx=\"1623.85\" cy=\"1292.27\" r=\"14\" fill=\"#da70d6\" fill-rule=\"evenodd\" fill-opacity=\"1\" stroke=\"#000000\" stroke-opacity=\"1\" stroke-width=\"3.2\"/>\n",
       "<circle clip-path=\"url(#clip452)\" cx=\"2065.21\" cy=\"1329.37\" r=\"14\" fill=\"#da70d6\" fill-rule=\"evenodd\" fill-opacity=\"1\" stroke=\"#000000\" stroke-opacity=\"1\" stroke-width=\"3.2\"/>\n",
       "<circle clip-path=\"url(#clip452)\" cx=\"2185.58\" cy=\"1368.13\" r=\"14\" fill=\"#da70d6\" fill-rule=\"evenodd\" fill-opacity=\"1\" stroke=\"#000000\" stroke-opacity=\"1\" stroke-width=\"3.2\"/>\n",
       "<circle clip-path=\"url(#clip452)\" cx=\"2292.57\" cy=\"1378.1\" r=\"14\" fill=\"#da70d6\" fill-rule=\"evenodd\" fill-opacity=\"1\" stroke=\"#000000\" stroke-opacity=\"1\" stroke-width=\"3.2\"/>\n",
       "<polyline clip-path=\"url(#clip452)\" style=\"stroke:#e26f46; stroke-width:4; stroke-opacity:1; fill:none\" points=\"\n",
       "  286.417,86.1857 420.16,374.653 553.904,600.664 687.648,777.74 821.391,916.478 955.135,1025.18 1088.88,1110.34 1222.62,1177.07 1356.37,1229.34 1490.11,1270.3 \n",
       "  1623.85,1302.4 1757.6,1327.54 1891.34,1347.24 2025.08,1362.67 2158.83,1374.76 2292.57,1384.24 \n",
       "  \"/>\n",
       "<path clip-path=\"url(#clip450)\" d=\"\n",
       "M1617.7 274.549 L2281.87 274.549 L2281.87 93.1086 L1617.7 93.1086  Z\n",
       "  \" fill=\"#ffffff\" fill-rule=\"evenodd\" fill-opacity=\"1\"/>\n",
       "<polyline clip-path=\"url(#clip450)\" style=\"stroke:#000000; stroke-width:4; stroke-opacity:1; fill:none\" points=\"\n",
       "  1617.7,274.549 2281.87,274.549 2281.87,93.1086 1617.7,93.1086 1617.7,274.549 \n",
       "  \"/>\n",
       "<circle clip-path=\"url(#clip450)\" cx=\"1712.21\" cy=\"153.589\" r=\"23\" fill=\"#da70d6\" fill-rule=\"evenodd\" fill-opacity=\"1\" stroke=\"#000000\" stroke-opacity=\"1\" stroke-width=\"5.12\"/>\n",
       "<path clip-path=\"url(#clip450)\" d=\"M 0 0 M1806.72 144.943 L1810.98 144.943 L1816.31 165.174 L1821.61 144.943 L1826.63 144.943 L1831.96 165.174 L1837.26 144.943 L1841.52 144.943 L1834.73 170.869 L1829.71 170.869 L1824.13 149.619 L1818.53 170.869 L1813.51 170.869 L1806.72 144.943 Z\" fill=\"#000000\" fill-rule=\"evenodd\" fill-opacity=\"1\" /><path clip-path=\"url(#clip450)\" d=\"M 0 0 M1857.77 157.836 Q1852.6 157.836 1850.61 159.017 Q1848.62 160.197 1848.62 163.045 Q1848.62 165.313 1850.1 166.656 Q1851.61 167.975 1854.18 167.975 Q1857.72 167.975 1859.85 165.475 Q1862 162.952 1862 158.785 L1862 157.836 L1857.77 157.836 M1866.26 156.077 L1866.26 170.869 L1862 170.869 L1862 166.933 Q1860.54 169.295 1858.37 170.429 Q1856.19 171.54 1853.04 171.54 Q1849.06 171.54 1846.7 169.318 Q1844.36 167.072 1844.36 163.322 Q1844.36 158.947 1847.28 156.725 Q1850.22 154.503 1856.03 154.503 L1862 154.503 L1862 154.086 Q1862 151.147 1860.06 149.549 Q1858.14 147.929 1854.64 147.929 Q1852.42 147.929 1850.31 148.461 Q1848.21 148.994 1846.26 150.059 L1846.26 146.123 Q1848.6 145.221 1850.8 144.781 Q1853 144.318 1855.08 144.318 Q1860.71 144.318 1863.48 147.234 Q1866.26 150.151 1866.26 156.077 Z\" fill=\"#000000\" fill-rule=\"evenodd\" fill-opacity=\"1\" /><path clip-path=\"url(#clip450)\" d=\"M 0 0 M1885.75 148.924 Q1885.03 148.508 1884.18 148.322 Q1883.34 148.114 1882.33 148.114 Q1878.71 148.114 1876.77 150.475 Q1874.85 152.813 1874.85 157.211 L1874.85 170.869 L1870.57 170.869 L1870.57 144.943 L1874.85 144.943 L1874.85 148.971 Q1876.19 146.609 1878.34 145.475 Q1880.5 144.318 1883.58 144.318 Q1884.02 144.318 1884.55 144.387 Q1885.08 144.434 1885.73 144.549 L1885.75 148.924 Z\" fill=\"#000000\" fill-rule=\"evenodd\" fill-opacity=\"1\" /><path clip-path=\"url(#clip450)\" d=\"M 0 0 M1894.43 137.582 L1894.43 144.943 L1903.21 144.943 L1903.21 148.253 L1894.43 148.253 L1894.43 162.327 Q1894.43 165.498 1895.29 166.401 Q1896.17 167.304 1898.83 167.304 L1903.21 167.304 L1903.21 170.869 L1898.83 170.869 Q1893.9 170.869 1892.02 169.04 Q1890.15 167.188 1890.15 162.327 L1890.15 148.253 L1887.02 148.253 L1887.02 144.943 L1890.15 144.943 L1890.15 137.582 L1894.43 137.582 Z\" fill=\"#000000\" fill-rule=\"evenodd\" fill-opacity=\"1\" /><path clip-path=\"url(#clip450)\" d=\"M 0 0 M1917.72 147.929 Q1914.29 147.929 1912.3 150.614 Q1910.31 153.276 1910.31 157.929 Q1910.31 162.582 1912.28 165.267 Q1914.27 167.929 1917.72 167.929 Q1921.12 167.929 1923.11 165.244 Q1925.1 162.558 1925.1 157.929 Q1925.1 153.322 1923.11 150.637 Q1921.12 147.929 1917.72 147.929 M1917.72 144.318 Q1923.27 144.318 1926.45 147.929 Q1929.62 151.54 1929.62 157.929 Q1929.62 164.295 1926.45 167.929 Q1923.27 171.54 1917.72 171.54 Q1912.14 171.54 1908.97 167.929 Q1905.82 164.295 1905.82 157.929 Q1905.82 151.54 1908.97 147.929 Q1912.14 144.318 1917.72 144.318 Z\" fill=\"#000000\" fill-rule=\"evenodd\" fill-opacity=\"1\" /><path clip-path=\"url(#clip450)\" d=\"M 0 0 M1946.21 132.79 L1950.82 132.79 L1943.27 141.494 L1939.73 141.494 L1946.21 132.79 M1950.61 145.707 L1950.61 149.734 Q1948.81 148.809 1946.86 148.346 Q1944.92 147.883 1942.83 147.883 Q1939.66 147.883 1938.07 148.855 Q1936.49 149.827 1936.49 151.771 Q1936.49 153.253 1937.63 154.109 Q1938.76 154.943 1942.19 155.707 L1943.65 156.031 Q1948.18 157.003 1950.08 158.785 Q1952 160.545 1952 163.716 Q1952 167.327 1949.13 169.433 Q1946.28 171.54 1941.28 171.54 Q1939.2 171.54 1936.93 171.123 Q1934.69 170.73 1932.19 169.92 L1932.19 165.521 Q1934.55 166.748 1936.84 167.373 Q1939.13 167.975 1941.38 167.975 Q1944.39 167.975 1946.01 166.957 Q1947.63 165.915 1947.63 164.04 Q1947.63 162.304 1946.45 161.378 Q1945.29 160.452 1941.33 159.596 L1939.85 159.248 Q1935.89 158.415 1934.13 156.702 Q1932.37 154.966 1932.37 151.957 Q1932.37 148.299 1934.96 146.309 Q1937.56 144.318 1942.33 144.318 Q1944.69 144.318 1946.77 144.665 Q1948.85 145.012 1950.61 145.707 Z\" fill=\"#000000\" fill-rule=\"evenodd\" fill-opacity=\"1\" /><path clip-path=\"url(#clip450)\" d=\"M 0 0 M1975.13 145.938 L1975.13 149.92 Q1973.32 148.924 1971.49 148.438 Q1969.69 147.929 1967.83 147.929 Q1963.69 147.929 1961.4 150.568 Q1959.11 153.184 1959.11 157.929 Q1959.11 162.674 1961.4 165.313 Q1963.69 167.929 1967.83 167.929 Q1969.69 167.929 1971.49 167.443 Q1973.32 166.933 1975.13 165.938 L1975.13 169.873 Q1973.34 170.707 1971.42 171.123 Q1969.52 171.54 1967.37 171.54 Q1961.52 171.54 1958.07 167.859 Q1954.62 164.179 1954.62 157.929 Q1954.62 151.586 1958.09 147.952 Q1961.58 144.318 1967.65 144.318 Q1969.62 144.318 1971.49 144.735 Q1973.37 145.128 1975.13 145.938 Z\" fill=\"#000000\" fill-rule=\"evenodd\" fill-opacity=\"1\" /><path clip-path=\"url(#clip450)\" d=\"M 0 0 M1979.59 144.943 L1983.85 144.943 L1983.85 170.869 L1979.59 170.869 L1979.59 144.943 M1979.59 134.85 L1983.85 134.85 L1983.85 140.244 L1979.59 140.244 L1979.59 134.85 Z\" fill=\"#000000\" fill-rule=\"evenodd\" fill-opacity=\"1\" /><path clip-path=\"url(#clip450)\" d=\"M 0 0 M2023.58 149.92 Q2025.17 147.049 2027.39 145.684 Q2029.62 144.318 2032.63 144.318 Q2036.68 144.318 2038.88 147.165 Q2041.08 149.989 2041.08 155.221 L2041.08 170.869 L2036.79 170.869 L2036.79 155.359 Q2036.79 151.633 2035.47 149.827 Q2034.15 148.022 2031.45 148.022 Q2028.14 148.022 2026.21 150.221 Q2024.29 152.42 2024.29 156.216 L2024.29 170.869 L2020.01 170.869 L2020.01 155.359 Q2020.01 151.609 2018.69 149.827 Q2017.37 148.022 2014.62 148.022 Q2011.35 148.022 2009.43 150.244 Q2007.51 152.443 2007.51 156.216 L2007.51 170.869 L2003.23 170.869 L2003.23 144.943 L2007.51 144.943 L2007.51 148.971 Q2008.97 146.586 2011.01 145.452 Q2013.04 144.318 2015.84 144.318 Q2018.67 144.318 2020.64 145.753 Q2022.63 147.188 2023.58 149.92 Z\" fill=\"#000000\" fill-rule=\"evenodd\" fill-opacity=\"1\" /><path clip-path=\"url(#clip450)\" d=\"M 0 0 M2045.54 144.943 L2049.8 144.943 L2049.8 170.869 L2045.54 170.869 L2045.54 144.943 M2045.54 134.85 L2049.8 134.85 L2049.8 140.244 L2045.54 140.244 L2045.54 134.85 Z\" fill=\"#000000\" fill-rule=\"evenodd\" fill-opacity=\"1\" /><path clip-path=\"url(#clip450)\" d=\"M 0 0 M2076.45 156.841 L2076.45 158.924 L2056.86 158.924 Q2057.14 163.322 2059.5 165.637 Q2061.89 167.929 2066.12 167.929 Q2068.57 167.929 2070.87 167.327 Q2073.18 166.725 2075.45 165.521 L2075.45 169.549 Q2073.16 170.521 2070.75 171.031 Q2068.34 171.54 2065.87 171.54 Q2059.66 171.54 2056.03 167.929 Q2052.42 164.318 2052.42 158.16 Q2052.42 151.795 2055.84 148.068 Q2059.29 144.318 2065.13 144.318 Q2070.36 144.318 2073.39 147.697 Q2076.45 151.054 2076.45 156.841 M2072.19 155.591 Q2072.14 152.096 2070.22 150.012 Q2068.32 147.929 2065.17 147.929 Q2061.61 147.929 2059.45 149.943 Q2057.32 151.957 2057 155.614 L2072.19 155.591 Z\" fill=\"#000000\" fill-rule=\"evenodd\" fill-opacity=\"1\" /><path clip-path=\"url(#clip450)\" d=\"M 0 0 M2095.94 148.924 Q2095.22 148.508 2094.36 148.322 Q2093.53 148.114 2092.51 148.114 Q2088.9 148.114 2086.95 150.475 Q2085.03 152.813 2085.03 157.211 L2085.03 170.869 L2080.75 170.869 L2080.75 144.943 L2085.03 144.943 L2085.03 148.971 Q2086.38 146.609 2088.53 145.475 Q2090.68 144.318 2093.76 144.318 Q2094.2 144.318 2094.73 144.387 Q2095.26 144.434 2095.91 144.549 L2095.94 148.924 Z\" fill=\"#000000\" fill-rule=\"evenodd\" fill-opacity=\"1\" /><path clip-path=\"url(#clip450)\" d=\"M 0 0 M2098.55 144.943 L2118.78 144.943 L2118.78 148.832 L2102.76 167.466 L2118.78 167.466 L2118.78 170.869 L2097.97 170.869 L2097.97 166.98 L2113.99 148.346 L2098.55 148.346 L2098.55 144.943 Z\" fill=\"#000000\" fill-rule=\"evenodd\" fill-opacity=\"1\" /><path clip-path=\"url(#clip450)\" d=\"M 0 0 M2133.3 147.929 Q2129.87 147.929 2127.88 150.614 Q2125.89 153.276 2125.89 157.929 Q2125.89 162.582 2127.86 165.267 Q2129.85 167.929 2133.3 167.929 Q2136.7 167.929 2138.69 165.244 Q2140.68 162.558 2140.68 157.929 Q2140.68 153.322 2138.69 150.637 Q2136.7 147.929 2133.3 147.929 M2133.3 144.318 Q2138.85 144.318 2142.02 147.929 Q2145.19 151.54 2145.19 157.929 Q2145.19 164.295 2142.02 167.929 Q2138.85 171.54 2133.3 171.54 Q2127.72 171.54 2124.55 167.929 Q2121.4 164.295 2121.4 157.929 Q2121.4 151.54 2124.55 147.929 Q2127.72 144.318 2133.3 144.318 Z\" fill=\"#000000\" fill-rule=\"evenodd\" fill-opacity=\"1\" /><path clip-path=\"url(#clip450)\" d=\"M 0 0 M2171.21 155.221 L2171.21 170.869 L2166.95 170.869 L2166.95 155.359 Q2166.95 151.679 2165.52 149.85 Q2164.08 148.022 2161.21 148.022 Q2157.76 148.022 2155.77 150.221 Q2153.78 152.42 2153.78 156.216 L2153.78 170.869 L2149.5 170.869 L2149.5 144.943 L2153.78 144.943 L2153.78 148.971 Q2155.31 146.633 2157.37 145.475 Q2159.45 144.318 2162.16 144.318 Q2166.63 144.318 2168.92 147.096 Q2171.21 149.85 2171.21 155.221 Z\" fill=\"#000000\" fill-rule=\"evenodd\" fill-opacity=\"1\" /><path clip-path=\"url(#clip450)\" d=\"M 0 0 M2197.86 156.841 L2197.86 158.924 L2178.27 158.924 Q2178.55 163.322 2180.91 165.637 Q2183.3 167.929 2187.53 167.929 Q2189.99 167.929 2192.28 167.327 Q2194.59 166.725 2196.86 165.521 L2196.86 169.549 Q2194.57 170.521 2192.16 171.031 Q2189.75 171.54 2187.28 171.54 Q2181.07 171.54 2177.44 167.929 Q2173.83 164.318 2173.83 158.16 Q2173.83 151.795 2177.25 148.068 Q2180.7 144.318 2186.54 144.318 Q2191.77 144.318 2194.8 147.697 Q2197.86 151.054 2197.86 156.841 M2193.6 155.591 Q2193.55 152.096 2191.63 150.012 Q2189.73 147.929 2186.58 147.929 Q2183.02 147.929 2180.87 149.943 Q2178.74 151.957 2178.41 155.614 L2193.6 155.591 Z\" fill=\"#000000\" fill-rule=\"evenodd\" fill-opacity=\"1\" /><polyline clip-path=\"url(#clip450)\" style=\"stroke:#e26f46; stroke-width:4; stroke-opacity:1; fill:none\" points=\"\n",
       "  1641.33,214.069 1783.1,214.069 \n",
       "  \"/>\n",
       "<path clip-path=\"url(#clip450)\" d=\"M 0 0 M1806.72 205.423 L1810.98 205.423 L1816.31 225.654 L1821.61 205.423 L1826.63 205.423 L1831.96 225.654 L1837.26 205.423 L1841.52 205.423 L1834.73 231.349 L1829.71 231.349 L1824.13 210.099 L1818.53 231.349 L1813.51 231.349 L1806.72 205.423 Z\" fill=\"#000000\" fill-rule=\"evenodd\" fill-opacity=\"1\" /><path clip-path=\"url(#clip450)\" d=\"M 0 0 M1857.77 218.316 Q1852.6 218.316 1850.61 219.497 Q1848.62 220.677 1848.62 223.525 Q1848.62 225.793 1850.1 227.136 Q1851.61 228.455 1854.18 228.455 Q1857.72 228.455 1859.85 225.955 Q1862 223.432 1862 219.265 L1862 218.316 L1857.77 218.316 M1866.26 216.557 L1866.26 231.349 L1862 231.349 L1862 227.413 Q1860.54 229.775 1858.37 230.909 Q1856.19 232.02 1853.04 232.02 Q1849.06 232.02 1846.7 229.798 Q1844.36 227.552 1844.36 223.802 Q1844.36 219.427 1847.28 217.205 Q1850.22 214.983 1856.03 214.983 L1862 214.983 L1862 214.566 Q1862 211.627 1860.06 210.029 Q1858.14 208.409 1854.64 208.409 Q1852.42 208.409 1850.31 208.941 Q1848.21 209.474 1846.26 210.539 L1846.26 206.603 Q1848.6 205.701 1850.8 205.261 Q1853 204.798 1855.08 204.798 Q1860.71 204.798 1863.48 207.714 Q1866.26 210.631 1866.26 216.557 Z\" fill=\"#000000\" fill-rule=\"evenodd\" fill-opacity=\"1\" /><path clip-path=\"url(#clip450)\" d=\"M 0 0 M1885.75 209.404 Q1885.03 208.988 1884.18 208.802 Q1883.34 208.594 1882.33 208.594 Q1878.71 208.594 1876.77 210.955 Q1874.85 213.293 1874.85 217.691 L1874.85 231.349 L1870.57 231.349 L1870.57 205.423 L1874.85 205.423 L1874.85 209.451 Q1876.19 207.089 1878.34 205.955 Q1880.5 204.798 1883.58 204.798 Q1884.02 204.798 1884.55 204.867 Q1885.08 204.914 1885.73 205.029 L1885.75 209.404 Z\" fill=\"#000000\" fill-rule=\"evenodd\" fill-opacity=\"1\" /><path clip-path=\"url(#clip450)\" d=\"M 0 0 M1894.43 198.062 L1894.43 205.423 L1903.21 205.423 L1903.21 208.733 L1894.43 208.733 L1894.43 222.807 Q1894.43 225.978 1895.29 226.881 Q1896.17 227.784 1898.83 227.784 L1903.21 227.784 L1903.21 231.349 L1898.83 231.349 Q1893.9 231.349 1892.02 229.52 Q1890.15 227.668 1890.15 222.807 L1890.15 208.733 L1887.02 208.733 L1887.02 205.423 L1890.15 205.423 L1890.15 198.062 L1894.43 198.062 Z\" fill=\"#000000\" fill-rule=\"evenodd\" fill-opacity=\"1\" /><path clip-path=\"url(#clip450)\" d=\"M 0 0 M1917.72 208.409 Q1914.29 208.409 1912.3 211.094 Q1910.31 213.756 1910.31 218.409 Q1910.31 223.062 1912.28 225.747 Q1914.27 228.409 1917.72 228.409 Q1921.12 228.409 1923.11 225.724 Q1925.1 223.038 1925.1 218.409 Q1925.1 213.802 1923.11 211.117 Q1921.12 208.409 1917.72 208.409 M1917.72 204.798 Q1923.27 204.798 1926.45 208.409 Q1929.62 212.02 1929.62 218.409 Q1929.62 224.775 1926.45 228.409 Q1923.27 232.02 1917.72 232.02 Q1912.14 232.02 1908.97 228.409 Q1905.82 224.775 1905.82 218.409 Q1905.82 212.02 1908.97 208.409 Q1912.14 204.798 1917.72 204.798 Z\" fill=\"#000000\" fill-rule=\"evenodd\" fill-opacity=\"1\" /><path clip-path=\"url(#clip450)\" d=\"M 0 0 M1946.21 193.27 L1950.82 193.27 L1943.27 201.974 L1939.73 201.974 L1946.21 193.27 M1950.61 206.187 L1950.61 210.214 Q1948.81 209.289 1946.86 208.826 Q1944.92 208.363 1942.83 208.363 Q1939.66 208.363 1938.07 209.335 Q1936.49 210.307 1936.49 212.251 Q1936.49 213.733 1937.63 214.589 Q1938.76 215.423 1942.19 216.187 L1943.65 216.511 Q1948.18 217.483 1950.08 219.265 Q1952 221.025 1952 224.196 Q1952 227.807 1949.13 229.913 Q1946.28 232.02 1941.28 232.02 Q1939.2 232.02 1936.93 231.603 Q1934.69 231.21 1932.19 230.4 L1932.19 226.001 Q1934.55 227.228 1936.84 227.853 Q1939.13 228.455 1941.38 228.455 Q1944.39 228.455 1946.01 227.437 Q1947.63 226.395 1947.63 224.52 Q1947.63 222.784 1946.45 221.858 Q1945.29 220.932 1941.33 220.076 L1939.85 219.728 Q1935.89 218.895 1934.13 217.182 Q1932.37 215.446 1932.37 212.437 Q1932.37 208.779 1934.96 206.789 Q1937.56 204.798 1942.33 204.798 Q1944.69 204.798 1946.77 205.145 Q1948.85 205.492 1950.61 206.187 Z\" fill=\"#000000\" fill-rule=\"evenodd\" fill-opacity=\"1\" /><path clip-path=\"url(#clip450)\" d=\"M 0 0 M1975.13 206.418 L1975.13 210.4 Q1973.32 209.404 1971.49 208.918 Q1969.69 208.409 1967.83 208.409 Q1963.69 208.409 1961.4 211.048 Q1959.11 213.664 1959.11 218.409 Q1959.11 223.154 1961.4 225.793 Q1963.69 228.409 1967.83 228.409 Q1969.69 228.409 1971.49 227.923 Q1973.32 227.413 1975.13 226.418 L1975.13 230.353 Q1973.34 231.187 1971.42 231.603 Q1969.52 232.02 1967.37 232.02 Q1961.52 232.02 1958.07 228.339 Q1954.62 224.659 1954.62 218.409 Q1954.62 212.066 1958.09 208.432 Q1961.58 204.798 1967.65 204.798 Q1969.62 204.798 1971.49 205.215 Q1973.37 205.608 1975.13 206.418 Z\" fill=\"#000000\" fill-rule=\"evenodd\" fill-opacity=\"1\" /><path clip-path=\"url(#clip450)\" d=\"M 0 0 M1979.59 205.423 L1983.85 205.423 L1983.85 231.349 L1979.59 231.349 L1979.59 205.423 M1979.59 195.33 L1983.85 195.33 L1983.85 200.724 L1979.59 200.724 L1979.59 195.33 Z\" fill=\"#000000\" fill-rule=\"evenodd\" fill-opacity=\"1\" /><path clip-path=\"url(#clip450)\" d=\"M 0 0 M2015.17 218.316 Q2010.01 218.316 2008.02 219.497 Q2006.03 220.677 2006.03 223.525 Q2006.03 225.793 2007.51 227.136 Q2009.02 228.455 2011.58 228.455 Q2015.13 228.455 2017.26 225.955 Q2019.41 223.432 2019.41 219.265 L2019.41 218.316 L2015.17 218.316 M2023.67 216.557 L2023.67 231.349 L2019.41 231.349 L2019.41 227.413 Q2017.95 229.775 2015.77 230.909 Q2013.6 232.02 2010.45 232.02 Q2006.47 232.02 2004.11 229.798 Q2001.77 227.552 2001.77 223.802 Q2001.77 219.427 2004.69 217.205 Q2007.63 214.983 2013.44 214.983 L2019.41 214.983 L2019.41 214.566 Q2019.41 211.627 2017.46 210.029 Q2015.54 208.409 2012.05 208.409 Q2009.83 208.409 2007.72 208.941 Q2005.61 209.474 2003.67 210.539 L2003.67 206.603 Q2006.01 205.701 2008.2 205.261 Q2010.4 204.798 2012.49 204.798 Q2018.11 204.798 2020.89 207.714 Q2023.67 210.631 2023.67 216.557 Z\" fill=\"#000000\" fill-rule=\"evenodd\" fill-opacity=\"1\" /><path clip-path=\"url(#clip450)\" d=\"M 0 0 M2049.69 215.701 L2049.69 231.349 L2045.43 231.349 L2045.43 215.839 Q2045.43 212.159 2043.99 210.33 Q2042.56 208.502 2039.69 208.502 Q2036.24 208.502 2034.25 210.701 Q2032.26 212.9 2032.26 216.696 L2032.26 231.349 L2027.97 231.349 L2027.97 205.423 L2032.26 205.423 L2032.26 209.451 Q2033.78 207.113 2035.84 205.955 Q2037.93 204.798 2040.64 204.798 Q2045.1 204.798 2047.39 207.576 Q2049.69 210.33 2049.69 215.701 Z\" fill=\"#000000\" fill-rule=\"evenodd\" fill-opacity=\"1\" /><path clip-path=\"url(#clip450)\" d=\"M 0 0 M2065.94 218.316 Q2060.77 218.316 2058.78 219.497 Q2056.79 220.677 2056.79 223.525 Q2056.79 225.793 2058.27 227.136 Q2059.78 228.455 2062.35 228.455 Q2065.89 228.455 2068.02 225.955 Q2070.17 223.432 2070.17 219.265 L2070.17 218.316 L2065.94 218.316 M2074.43 216.557 L2074.43 231.349 L2070.17 231.349 L2070.17 227.413 Q2068.71 229.775 2066.54 230.909 Q2064.36 232.02 2061.21 232.02 Q2057.23 232.02 2054.87 229.798 Q2052.53 227.552 2052.53 223.802 Q2052.53 219.427 2055.45 217.205 Q2058.39 214.983 2064.2 214.983 L2070.17 214.983 L2070.17 214.566 Q2070.17 211.627 2068.23 210.029 Q2066.31 208.409 2062.81 208.409 Q2060.59 208.409 2058.48 208.941 Q2056.38 209.474 2054.43 210.539 L2054.43 206.603 Q2056.77 205.701 2058.97 205.261 Q2061.17 204.798 2063.25 204.798 Q2068.88 204.798 2071.65 207.714 Q2074.43 210.631 2074.43 216.557 Z\" fill=\"#000000\" fill-rule=\"evenodd\" fill-opacity=\"1\" /><path clip-path=\"url(#clip450)\" d=\"M 0 0 M2078.9 195.33 L2083.16 195.33 L2083.16 231.349 L2078.9 231.349 L2078.9 195.33 Z\" fill=\"#000000\" fill-rule=\"evenodd\" fill-opacity=\"1\" /><path clip-path=\"url(#clip450)\" d=\"M 0 0 M2087.63 205.423 L2091.88 205.423 L2091.88 231.349 L2087.63 231.349 L2087.63 205.423 M2087.63 195.33 L2091.88 195.33 L2091.88 200.724 L2087.63 200.724 L2087.63 195.33 Z\" fill=\"#000000\" fill-rule=\"evenodd\" fill-opacity=\"1\" /><path clip-path=\"url(#clip450)\" d=\"M 0 0 M2100.57 198.062 L2100.57 205.423 L2109.34 205.423 L2109.34 208.733 L2100.57 208.733 L2100.57 222.807 Q2100.57 225.978 2101.42 226.881 Q2102.3 227.784 2104.96 227.784 L2109.34 227.784 L2109.34 231.349 L2104.96 231.349 Q2100.03 231.349 2098.16 229.52 Q2096.28 227.668 2096.28 222.807 L2096.28 208.733 L2093.16 208.733 L2093.16 205.423 L2096.28 205.423 L2096.28 198.062 L2100.57 198.062 Z\" fill=\"#000000\" fill-rule=\"evenodd\" fill-opacity=\"1\" /><path clip-path=\"url(#clip450)\" d=\"M 0 0 M2124.59 233.756 Q2122.79 238.386 2121.07 239.798 Q2119.36 241.21 2116.49 241.21 L2113.09 241.21 L2113.09 237.645 L2115.59 237.645 Q2117.35 237.645 2118.32 236.812 Q2119.29 235.978 2120.47 232.876 L2121.24 230.932 L2110.75 205.423 L2115.26 205.423 L2123.37 225.701 L2131.47 205.423 L2135.98 205.423 L2124.59 233.756 Z\" fill=\"#000000\" fill-rule=\"evenodd\" fill-opacity=\"1\" /><path clip-path=\"url(#clip450)\" d=\"M 0 0 M2159.11 206.418 L2159.11 210.4 Q2157.3 209.404 2155.47 208.918 Q2153.67 208.409 2151.82 208.409 Q2147.67 208.409 2145.38 211.048 Q2143.09 213.664 2143.09 218.409 Q2143.09 223.154 2145.38 225.793 Q2147.67 228.409 2151.82 228.409 Q2153.67 228.409 2155.47 227.923 Q2157.3 227.413 2159.11 226.418 L2159.11 230.353 Q2157.32 231.187 2155.4 231.603 Q2153.51 232.02 2151.35 232.02 Q2145.5 232.02 2142.05 228.339 Q2138.6 224.659 2138.6 218.409 Q2138.6 212.066 2142.07 208.432 Q2145.57 204.798 2151.63 204.798 Q2153.6 204.798 2155.47 205.215 Q2157.35 205.608 2159.11 206.418 Z\" fill=\"#000000\" fill-rule=\"evenodd\" fill-opacity=\"1\" /><path clip-path=\"url(#clip450)\" d=\"M 0 0 M2161.72 205.423 L2181.95 205.423 L2181.95 209.312 L2165.94 227.946 L2181.95 227.946 L2181.95 231.349 L2161.14 231.349 L2161.14 227.46 L2177.16 208.826 L2161.72 208.826 L2161.72 205.423 Z\" fill=\"#000000\" fill-rule=\"evenodd\" fill-opacity=\"1\" /><path clip-path=\"url(#clip450)\" d=\"M 0 0 M2207.97 215.701 L2207.97 231.349 L2203.71 231.349 L2203.71 215.839 Q2203.71 212.159 2202.28 210.33 Q2200.84 208.502 2197.97 208.502 Q2194.52 208.502 2192.53 210.701 Q2190.54 212.9 2190.54 216.696 L2190.54 231.349 L2186.26 231.349 L2186.26 205.423 L2190.54 205.423 L2190.54 209.451 Q2192.07 207.113 2194.13 205.955 Q2196.21 204.798 2198.92 204.798 Q2203.39 204.798 2205.68 207.576 Q2207.97 210.33 2207.97 215.701 Z\" fill=\"#000000\" fill-rule=\"evenodd\" fill-opacity=\"1\" /><path clip-path=\"url(#clip450)\" d=\"M 0 0 M2234.62 217.321 L2234.62 219.404 L2215.03 219.404 Q2215.31 223.802 2217.67 226.117 Q2220.06 228.409 2224.29 228.409 Q2226.75 228.409 2229.04 227.807 Q2231.35 227.205 2233.62 226.001 L2233.62 230.029 Q2231.33 231.001 2228.92 231.511 Q2226.51 232.02 2224.04 232.02 Q2217.83 232.02 2214.2 228.409 Q2210.59 224.798 2210.59 218.64 Q2210.59 212.275 2214.01 208.548 Q2217.46 204.798 2223.3 204.798 Q2228.53 204.798 2231.56 208.177 Q2234.62 211.534 2234.62 217.321 M2230.36 216.071 Q2230.31 212.576 2228.39 210.492 Q2226.49 208.409 2223.34 208.409 Q2219.78 208.409 2217.63 210.423 Q2215.5 212.437 2215.17 216.094 L2230.36 216.071 Z\" fill=\"#000000\" fill-rule=\"evenodd\" fill-opacity=\"1\" /></svg>\n"
      ]
     },
     "execution_count": 194,
     "metadata": {},
     "output_type": "execute_result"
    }
   ],
   "source": [
    "plot!(t_step, analyt, label = \"wartości analityczne\")"
   ]
  },
  {
   "cell_type": "code",
   "execution_count": 195,
   "metadata": {},
   "outputs": [
    {
     "data": {
      "text/plain": [
       "model (generic function with 1 method)"
      ]
     },
     "execution_count": 195,
     "metadata": {},
     "output_type": "execute_result"
    }
   ],
   "source": [
    "function model(t, x)\n",
    "    return -2.44 * x\n",
    "end    "
   ]
  },
  {
   "cell_type": "code",
   "execution_count": 196,
   "metadata": {},
   "outputs": [],
   "source": [
    "numeric = runge_kutta(model, Array(0:0.1:1.5), 240.6);"
   ]
  },
  {
   "cell_type": "code",
   "execution_count": 197,
   "metadata": {},
   "outputs": [
    {
     "data": {
      "image/svg+xml": [
       "<?xml version=\"1.0\" encoding=\"utf-8\"?>\n",
       "<svg xmlns=\"http://www.w3.org/2000/svg\" xmlns:xlink=\"http://www.w3.org/1999/xlink\" width=\"600\" height=\"400\" viewBox=\"0 0 2400 1600\">\n",
       "<defs>\n",
       "  <clipPath id=\"clip490\">\n",
       "    <rect x=\"0\" y=\"0\" width=\"2400\" height=\"1600\"/>\n",
       "  </clipPath>\n",
       "</defs>\n",
       "<path clip-path=\"url(#clip490)\" d=\"\n",
       "M0 1600 L2400 1600 L2400 0 L0 0  Z\n",
       "  \" fill=\"#ffffff\" fill-rule=\"evenodd\" fill-opacity=\"1\"/>\n",
       "<defs>\n",
       "  <clipPath id=\"clip491\">\n",
       "    <rect x=\"480\" y=\"0\" width=\"1681\" height=\"1600\"/>\n",
       "  </clipPath>\n",
       "</defs>\n",
       "<path clip-path=\"url(#clip490)\" d=\"\n",
       "M226.232 1423.18 L2352.76 1423.18 L2352.76 47.2441 L226.232 47.2441  Z\n",
       "  \" fill=\"#ffffff\" fill-rule=\"evenodd\" fill-opacity=\"1\"/>\n",
       "<defs>\n",
       "  <clipPath id=\"clip492\">\n",
       "    <rect x=\"226\" y=\"47\" width=\"2128\" height=\"1377\"/>\n",
       "  </clipPath>\n",
       "</defs>\n",
       "<polyline clip-path=\"url(#clip492)\" style=\"stroke:#000000; stroke-width:2; stroke-opacity:0.1; fill:none\" points=\"\n",
       "  286.417,1423.18 286.417,47.2441 \n",
       "  \"/>\n",
       "<polyline clip-path=\"url(#clip492)\" style=\"stroke:#000000; stroke-width:2; stroke-opacity:0.1; fill:none\" points=\"\n",
       "  955.135,1423.18 955.135,47.2441 \n",
       "  \"/>\n",
       "<polyline clip-path=\"url(#clip492)\" style=\"stroke:#000000; stroke-width:2; stroke-opacity:0.1; fill:none\" points=\"\n",
       "  1623.85,1423.18 1623.85,47.2441 \n",
       "  \"/>\n",
       "<polyline clip-path=\"url(#clip492)\" style=\"stroke:#000000; stroke-width:2; stroke-opacity:0.1; fill:none\" points=\"\n",
       "  2292.57,1423.18 2292.57,47.2441 \n",
       "  \"/>\n",
       "<polyline clip-path=\"url(#clip490)\" style=\"stroke:#000000; stroke-width:4; stroke-opacity:1; fill:none\" points=\"\n",
       "  226.232,1423.18 2352.76,1423.18 \n",
       "  \"/>\n",
       "<polyline clip-path=\"url(#clip490)\" style=\"stroke:#000000; stroke-width:4; stroke-opacity:1; fill:none\" points=\"\n",
       "  286.417,1423.18 286.417,1406.67 \n",
       "  \"/>\n",
       "<polyline clip-path=\"url(#clip490)\" style=\"stroke:#000000; stroke-width:4; stroke-opacity:1; fill:none\" points=\"\n",
       "  955.135,1423.18 955.135,1406.67 \n",
       "  \"/>\n",
       "<polyline clip-path=\"url(#clip490)\" style=\"stroke:#000000; stroke-width:4; stroke-opacity:1; fill:none\" points=\"\n",
       "  1623.85,1423.18 1623.85,1406.67 \n",
       "  \"/>\n",
       "<polyline clip-path=\"url(#clip490)\" style=\"stroke:#000000; stroke-width:4; stroke-opacity:1; fill:none\" points=\"\n",
       "  2292.57,1423.18 2292.57,1406.67 \n",
       "  \"/>\n",
       "<path clip-path=\"url(#clip490)\" d=\"M 0 0 M267.933 1452.37 Q264.322 1452.37 262.493 1455.94 Q260.688 1459.48 260.688 1466.61 Q260.688 1473.71 262.493 1477.28 Q264.322 1480.82 267.933 1480.82 Q271.567 1480.82 273.373 1477.28 Q275.201 1473.71 275.201 1466.61 Q275.201 1459.48 273.373 1455.94 Q271.567 1452.37 267.933 1452.37 M267.933 1448.67 Q273.743 1448.67 276.799 1453.27 Q279.877 1457.86 279.877 1466.61 Q279.877 1475.33 276.799 1479.94 Q273.743 1484.52 267.933 1484.52 Q262.123 1484.52 259.044 1479.94 Q255.989 1475.33 255.989 1466.61 Q255.989 1457.86 259.044 1453.27 Q262.123 1448.67 267.933 1448.67 Z\" fill=\"#000000\" fill-rule=\"evenodd\" fill-opacity=\"1\" /><path clip-path=\"url(#clip490)\" d=\"M 0 0 M284.947 1477.97 L289.831 1477.97 L289.831 1483.85 L284.947 1483.85 L284.947 1477.97 Z\" fill=\"#000000\" fill-rule=\"evenodd\" fill-opacity=\"1\" /><path clip-path=\"url(#clip490)\" d=\"M 0 0 M304.9 1452.37 Q301.289 1452.37 299.461 1455.94 Q297.655 1459.48 297.655 1466.61 Q297.655 1473.71 299.461 1477.28 Q301.289 1480.82 304.9 1480.82 Q308.535 1480.82 310.34 1477.28 Q312.169 1473.71 312.169 1466.61 Q312.169 1459.48 310.34 1455.94 Q308.535 1452.37 304.9 1452.37 M304.9 1448.67 Q310.71 1448.67 313.766 1453.27 Q316.845 1457.86 316.845 1466.61 Q316.845 1475.33 313.766 1479.94 Q310.71 1484.52 304.9 1484.52 Q299.09 1484.52 296.011 1479.94 Q292.956 1475.33 292.956 1466.61 Q292.956 1457.86 296.011 1453.27 Q299.09 1448.67 304.9 1448.67 Z\" fill=\"#000000\" fill-rule=\"evenodd\" fill-opacity=\"1\" /><path clip-path=\"url(#clip490)\" d=\"M 0 0 M937.149 1452.37 Q933.538 1452.37 931.709 1455.94 Q929.903 1459.48 929.903 1466.61 Q929.903 1473.71 931.709 1477.28 Q933.538 1480.82 937.149 1480.82 Q940.783 1480.82 942.589 1477.28 Q944.417 1473.71 944.417 1466.61 Q944.417 1459.48 942.589 1455.94 Q940.783 1452.37 937.149 1452.37 M937.149 1448.67 Q942.959 1448.67 946.015 1453.27 Q949.093 1457.86 949.093 1466.61 Q949.093 1475.33 946.015 1479.94 Q942.959 1484.52 937.149 1484.52 Q931.339 1484.52 928.26 1479.94 Q925.204 1475.33 925.204 1466.61 Q925.204 1457.86 928.26 1453.27 Q931.339 1448.67 937.149 1448.67 Z\" fill=\"#000000\" fill-rule=\"evenodd\" fill-opacity=\"1\" /><path clip-path=\"url(#clip490)\" d=\"M 0 0 M954.163 1477.97 L959.047 1477.97 L959.047 1483.85 L954.163 1483.85 L954.163 1477.97 Z\" fill=\"#000000\" fill-rule=\"evenodd\" fill-opacity=\"1\" /><path clip-path=\"url(#clip490)\" d=\"M 0 0 M964.163 1449.29 L982.519 1449.29 L982.519 1453.23 L968.445 1453.23 L968.445 1461.7 Q969.463 1461.35 970.482 1461.19 Q971.5 1461 972.519 1461 Q978.306 1461 981.686 1464.18 Q985.065 1467.35 985.065 1472.76 Q985.065 1478.34 981.593 1481.44 Q978.121 1484.52 971.801 1484.52 Q969.625 1484.52 967.357 1484.15 Q965.112 1483.78 962.704 1483.04 L962.704 1478.34 Q964.788 1479.48 967.01 1480.03 Q969.232 1480.59 971.709 1480.59 Q975.713 1480.59 978.051 1478.48 Q980.389 1476.38 980.389 1472.76 Q980.389 1469.15 978.051 1467.05 Q975.713 1464.94 971.709 1464.94 Q969.834 1464.94 967.959 1465.36 Q966.107 1465.77 964.163 1466.65 L964.163 1449.29 Z\" fill=\"#000000\" fill-rule=\"evenodd\" fill-opacity=\"1\" /><path clip-path=\"url(#clip490)\" d=\"M 0 0 M1595.75 1479.92 L1603.39 1479.92 L1603.39 1453.55 L1595.08 1455.22 L1595.08 1450.96 L1603.34 1449.29 L1608.02 1449.29 L1608.02 1479.92 L1615.66 1479.92 L1615.66 1483.85 L1595.75 1483.85 L1595.75 1479.92 Z\" fill=\"#000000\" fill-rule=\"evenodd\" fill-opacity=\"1\" /><path clip-path=\"url(#clip490)\" d=\"M 0 0 M1620.73 1477.97 L1625.61 1477.97 L1625.61 1483.85 L1620.73 1483.85 L1620.73 1477.97 Z\" fill=\"#000000\" fill-rule=\"evenodd\" fill-opacity=\"1\" /><path clip-path=\"url(#clip490)\" d=\"M 0 0 M1640.68 1452.37 Q1637.07 1452.37 1635.24 1455.94 Q1633.44 1459.48 1633.44 1466.61 Q1633.44 1473.71 1635.24 1477.28 Q1637.07 1480.82 1640.68 1480.82 Q1644.32 1480.82 1646.12 1477.28 Q1647.95 1473.71 1647.95 1466.61 Q1647.95 1459.48 1646.12 1455.94 Q1644.32 1452.37 1640.68 1452.37 M1640.68 1448.67 Q1646.49 1448.67 1649.55 1453.27 Q1652.63 1457.86 1652.63 1466.61 Q1652.63 1475.33 1649.55 1479.94 Q1646.49 1484.52 1640.68 1484.52 Q1634.87 1484.52 1631.79 1479.94 Q1628.74 1475.33 1628.74 1466.61 Q1628.74 1457.86 1631.79 1453.27 Q1634.87 1448.67 1640.68 1448.67 Z\" fill=\"#000000\" fill-rule=\"evenodd\" fill-opacity=\"1\" /><path clip-path=\"url(#clip490)\" d=\"M 0 0 M2264.97 1479.92 L2272.61 1479.92 L2272.61 1453.55 L2264.3 1455.22 L2264.3 1450.96 L2272.56 1449.29 L2277.24 1449.29 L2277.24 1479.92 L2284.87 1479.92 L2284.87 1483.85 L2264.97 1483.85 L2264.97 1479.92 Z\" fill=\"#000000\" fill-rule=\"evenodd\" fill-opacity=\"1\" /><path clip-path=\"url(#clip490)\" d=\"M 0 0 M2289.94 1477.97 L2294.83 1477.97 L2294.83 1483.85 L2289.94 1483.85 L2289.94 1477.97 Z\" fill=\"#000000\" fill-rule=\"evenodd\" fill-opacity=\"1\" /><path clip-path=\"url(#clip490)\" d=\"M 0 0 M2299.94 1449.29 L2318.3 1449.29 L2318.3 1453.23 L2304.23 1453.23 L2304.23 1461.7 Q2305.24 1461.35 2306.26 1461.19 Q2307.28 1461 2308.3 1461 Q2314.09 1461 2317.47 1464.18 Q2320.85 1467.35 2320.85 1472.76 Q2320.85 1478.34 2317.37 1481.44 Q2313.9 1484.52 2307.58 1484.52 Q2305.41 1484.52 2303.14 1484.15 Q2300.89 1483.78 2298.49 1483.04 L2298.49 1478.34 Q2300.57 1479.48 2302.79 1480.03 Q2305.01 1480.59 2307.49 1480.59 Q2311.49 1480.59 2313.83 1478.48 Q2316.17 1476.38 2316.17 1472.76 Q2316.17 1469.15 2313.83 1467.05 Q2311.49 1464.94 2307.49 1464.94 Q2305.62 1464.94 2303.74 1465.36 Q2301.89 1465.77 2299.94 1466.65 L2299.94 1449.29 Z\" fill=\"#000000\" fill-rule=\"evenodd\" fill-opacity=\"1\" /><path clip-path=\"url(#clip490)\" d=\"M 0 0 M1240.84 1522.27 L1240.84 1532.4 L1252.91 1532.4 L1252.91 1536.95 L1240.84 1536.95 L1240.84 1556.3 Q1240.84 1560.66 1242.02 1561.9 Q1243.23 1563.14 1246.89 1563.14 L1252.91 1563.14 L1252.91 1568.04 L1246.89 1568.04 Q1240.11 1568.04 1237.53 1565.53 Q1234.96 1562.98 1234.96 1556.3 L1234.96 1536.95 L1230.66 1536.95 L1230.66 1532.4 L1234.96 1532.4 L1234.96 1522.27 L1240.84 1522.27 Z\" fill=\"#000000\" fill-rule=\"evenodd\" fill-opacity=\"1\" /><path clip-path=\"url(#clip490)\" d=\"M 0 0 M1279.23 1518.52 L1292.72 1518.52 L1292.72 1523.07 L1285.09 1523.07 L1285.09 1572.09 L1292.72 1572.09 L1292.72 1576.64 L1279.23 1576.64 L1279.23 1518.52 Z\" fill=\"#000000\" fill-rule=\"evenodd\" fill-opacity=\"1\" /><path clip-path=\"url(#clip490)\" d=\"M 0 0 M1328.5 1546.53 L1328.5 1568.04 L1322.64 1568.04 L1322.64 1546.72 Q1322.64 1541.66 1320.67 1539.14 Q1318.7 1536.63 1314.75 1536.63 Q1310.01 1536.63 1307.27 1539.65 Q1304.53 1542.68 1304.53 1547.9 L1304.53 1568.04 L1298.64 1568.04 L1298.64 1518.52 L1304.53 1518.52 L1304.53 1537.93 Q1306.63 1534.72 1309.47 1533.13 Q1312.33 1531.54 1316.05 1531.54 Q1322.2 1531.54 1325.35 1535.36 Q1328.5 1539.14 1328.5 1546.53 Z\" fill=\"#000000\" fill-rule=\"evenodd\" fill-opacity=\"1\" /><path clip-path=\"url(#clip490)\" d=\"M 0 0 M1348.33 1518.52 L1348.33 1576.64 L1334.83 1576.64 L1334.83 1572.09 L1342.44 1572.09 L1342.44 1523.07 L1334.83 1523.07 L1334.83 1518.52 L1348.33 1518.52 Z\" fill=\"#000000\" fill-rule=\"evenodd\" fill-opacity=\"1\" /><polyline clip-path=\"url(#clip492)\" style=\"stroke:#000000; stroke-width:2; stroke-opacity:0.1; fill:none\" points=\"\n",
       "  226.232,1418.52 2352.76,1418.52 \n",
       "  \"/>\n",
       "<polyline clip-path=\"url(#clip492)\" style=\"stroke:#000000; stroke-width:2; stroke-opacity:0.1; fill:none\" points=\"\n",
       "  226.232,1141.64 2352.76,1141.64 \n",
       "  \"/>\n",
       "<polyline clip-path=\"url(#clip492)\" style=\"stroke:#000000; stroke-width:2; stroke-opacity:0.1; fill:none\" points=\"\n",
       "  226.232,864.767 2352.76,864.767 \n",
       "  \"/>\n",
       "<polyline clip-path=\"url(#clip492)\" style=\"stroke:#000000; stroke-width:2; stroke-opacity:0.1; fill:none\" points=\"\n",
       "  226.232,587.889 2352.76,587.889 \n",
       "  \"/>\n",
       "<polyline clip-path=\"url(#clip492)\" style=\"stroke:#000000; stroke-width:2; stroke-opacity:0.1; fill:none\" points=\"\n",
       "  226.232,311.011 2352.76,311.011 \n",
       "  \"/>\n",
       "<polyline clip-path=\"url(#clip490)\" style=\"stroke:#000000; stroke-width:4; stroke-opacity:1; fill:none\" points=\"\n",
       "  226.232,1423.18 226.232,47.2441 \n",
       "  \"/>\n",
       "<polyline clip-path=\"url(#clip490)\" style=\"stroke:#000000; stroke-width:4; stroke-opacity:1; fill:none\" points=\"\n",
       "  226.232,1418.52 251.75,1418.52 \n",
       "  \"/>\n",
       "<polyline clip-path=\"url(#clip490)\" style=\"stroke:#000000; stroke-width:4; stroke-opacity:1; fill:none\" points=\"\n",
       "  226.232,1141.64 251.75,1141.64 \n",
       "  \"/>\n",
       "<polyline clip-path=\"url(#clip490)\" style=\"stroke:#000000; stroke-width:4; stroke-opacity:1; fill:none\" points=\"\n",
       "  226.232,864.767 251.75,864.767 \n",
       "  \"/>\n",
       "<polyline clip-path=\"url(#clip490)\" style=\"stroke:#000000; stroke-width:4; stroke-opacity:1; fill:none\" points=\"\n",
       "  226.232,587.889 251.75,587.889 \n",
       "  \"/>\n",
       "<polyline clip-path=\"url(#clip490)\" style=\"stroke:#000000; stroke-width:4; stroke-opacity:1; fill:none\" points=\"\n",
       "  226.232,311.011 251.75,311.011 \n",
       "  \"/>\n",
       "<path clip-path=\"url(#clip490)\" d=\"M 0 0 M178.288 1404.32 Q174.677 1404.32 172.848 1407.89 Q171.042 1411.43 171.042 1418.56 Q171.042 1425.66 172.848 1429.23 Q174.677 1432.77 178.288 1432.77 Q181.922 1432.77 183.727 1429.23 Q185.556 1425.66 185.556 1418.56 Q185.556 1411.43 183.727 1407.89 Q181.922 1404.32 178.288 1404.32 M178.288 1400.62 Q184.098 1400.62 187.153 1405.22 Q190.232 1409.81 190.232 1418.56 Q190.232 1427.28 187.153 1431.89 Q184.098 1436.47 178.288 1436.47 Q172.477 1436.47 169.399 1431.89 Q166.343 1427.28 166.343 1418.56 Q166.343 1409.81 169.399 1405.22 Q172.477 1400.62 178.288 1400.62 Z\" fill=\"#000000\" fill-rule=\"evenodd\" fill-opacity=\"1\" /><path clip-path=\"url(#clip490)\" d=\"M 0 0 M142.316 1124.36 L160.672 1124.36 L160.672 1128.3 L146.598 1128.3 L146.598 1136.77 Q147.616 1136.42 148.635 1136.26 Q149.653 1136.08 150.672 1136.08 Q156.459 1136.08 159.839 1139.25 Q163.218 1142.42 163.218 1147.84 Q163.218 1153.42 159.746 1156.52 Q156.274 1159.6 149.954 1159.6 Q147.778 1159.6 145.51 1159.23 Q143.265 1158.86 140.857 1158.11 L140.857 1153.42 Q142.941 1154.55 145.163 1155.11 Q147.385 1155.66 149.862 1155.66 Q153.866 1155.66 156.204 1153.55 Q158.542 1151.45 158.542 1147.84 Q158.542 1144.23 156.204 1142.12 Q153.866 1140.01 149.862 1140.01 Q147.987 1140.01 146.112 1140.43 Q144.26 1140.85 142.316 1141.73 L142.316 1124.36 Z\" fill=\"#000000\" fill-rule=\"evenodd\" fill-opacity=\"1\" /><path clip-path=\"url(#clip490)\" d=\"M 0 0 M178.288 1127.44 Q174.677 1127.44 172.848 1131.01 Q171.042 1134.55 171.042 1141.68 Q171.042 1148.79 172.848 1152.35 Q174.677 1155.89 178.288 1155.89 Q181.922 1155.89 183.727 1152.35 Q185.556 1148.79 185.556 1141.68 Q185.556 1134.55 183.727 1131.01 Q181.922 1127.44 178.288 1127.44 M178.288 1123.74 Q184.098 1123.74 187.153 1128.35 Q190.232 1132.93 190.232 1141.68 Q190.232 1150.41 187.153 1155.01 Q184.098 1159.6 178.288 1159.6 Q172.477 1159.6 169.399 1155.01 Q166.343 1150.41 166.343 1141.68 Q166.343 1132.93 169.399 1128.35 Q172.477 1123.74 178.288 1123.74 Z\" fill=\"#000000\" fill-rule=\"evenodd\" fill-opacity=\"1\" /><path clip-path=\"url(#clip490)\" d=\"M 0 0 M116.297 878.111 L123.936 878.111 L123.936 851.746 L115.626 853.413 L115.626 849.153 L123.89 847.487 L128.566 847.487 L128.566 878.111 L136.204 878.111 L136.204 882.047 L116.297 882.047 L116.297 878.111 Z\" fill=\"#000000\" fill-rule=\"evenodd\" fill-opacity=\"1\" /><path clip-path=\"url(#clip490)\" d=\"M 0 0 M151.274 850.565 Q147.663 850.565 145.834 854.13 Q144.029 857.672 144.029 864.801 Q144.029 871.908 145.834 875.473 Q147.663 879.014 151.274 879.014 Q154.908 879.014 156.714 875.473 Q158.542 871.908 158.542 864.801 Q158.542 857.672 156.714 854.13 Q154.908 850.565 151.274 850.565 M151.274 846.862 Q157.084 846.862 160.14 851.468 Q163.218 856.051 163.218 864.801 Q163.218 873.528 160.14 878.135 Q157.084 882.718 151.274 882.718 Q145.464 882.718 142.385 878.135 Q139.329 873.528 139.329 864.801 Q139.329 856.051 142.385 851.468 Q145.464 846.862 151.274 846.862 Z\" fill=\"#000000\" fill-rule=\"evenodd\" fill-opacity=\"1\" /><path clip-path=\"url(#clip490)\" d=\"M 0 0 M178.288 850.565 Q174.677 850.565 172.848 854.13 Q171.042 857.672 171.042 864.801 Q171.042 871.908 172.848 875.473 Q174.677 879.014 178.288 879.014 Q181.922 879.014 183.727 875.473 Q185.556 871.908 185.556 864.801 Q185.556 857.672 183.727 854.13 Q181.922 850.565 178.288 850.565 M178.288 846.862 Q184.098 846.862 187.153 851.468 Q190.232 856.051 190.232 864.801 Q190.232 873.528 187.153 878.135 Q184.098 882.718 178.288 882.718 Q172.477 882.718 169.399 878.135 Q166.343 873.528 166.343 864.801 Q166.343 856.051 169.399 851.468 Q172.477 846.862 178.288 846.862 Z\" fill=\"#000000\" fill-rule=\"evenodd\" fill-opacity=\"1\" /><path clip-path=\"url(#clip490)\" d=\"M 0 0 M117.293 601.233 L124.931 601.233 L124.931 574.868 L116.621 576.535 L116.621 572.275 L124.885 570.609 L129.561 570.609 L129.561 601.233 L137.2 601.233 L137.2 605.169 L117.293 605.169 L117.293 601.233 Z\" fill=\"#000000\" fill-rule=\"evenodd\" fill-opacity=\"1\" /><path clip-path=\"url(#clip490)\" d=\"M 0 0 M142.316 570.609 L160.672 570.609 L160.672 574.544 L146.598 574.544 L146.598 583.016 Q147.616 582.669 148.635 582.507 Q149.653 582.322 150.672 582.322 Q156.459 582.322 159.839 585.493 Q163.218 588.664 163.218 594.081 Q163.218 599.659 159.746 602.761 Q156.274 605.84 149.954 605.84 Q147.778 605.84 145.51 605.47 Q143.265 605.099 140.857 604.358 L140.857 599.659 Q142.941 600.794 145.163 601.349 Q147.385 601.905 149.862 601.905 Q153.866 601.905 156.204 599.798 Q158.542 597.692 158.542 594.081 Q158.542 590.47 156.204 588.363 Q153.866 586.257 149.862 586.257 Q147.987 586.257 146.112 586.673 Q144.26 587.09 142.316 587.97 L142.316 570.609 Z\" fill=\"#000000\" fill-rule=\"evenodd\" fill-opacity=\"1\" /><path clip-path=\"url(#clip490)\" d=\"M 0 0 M178.288 573.687 Q174.677 573.687 172.848 577.252 Q171.042 580.794 171.042 587.923 Q171.042 595.03 172.848 598.595 Q174.677 602.136 178.288 602.136 Q181.922 602.136 183.727 598.595 Q185.556 595.03 185.556 587.923 Q185.556 580.794 183.727 577.252 Q181.922 573.687 178.288 573.687 M178.288 569.984 Q184.098 569.984 187.153 574.59 Q190.232 579.173 190.232 587.923 Q190.232 596.65 187.153 601.257 Q184.098 605.84 178.288 605.84 Q172.477 605.84 169.399 601.257 Q166.343 596.65 166.343 587.923 Q166.343 579.173 169.399 574.59 Q172.477 569.984 178.288 569.984 Z\" fill=\"#000000\" fill-rule=\"evenodd\" fill-opacity=\"1\" /><path clip-path=\"url(#clip490)\" d=\"M 0 0 M119.885 324.355 L136.204 324.355 L136.204 328.291 L114.26 328.291 L114.26 324.355 Q116.922 321.601 121.505 316.971 Q126.112 312.318 127.292 310.976 Q129.538 308.453 130.417 306.717 Q131.32 304.957 131.32 303.268 Q131.32 300.513 129.376 298.777 Q127.455 297.041 124.353 297.041 Q122.154 297.041 119.7 297.805 Q117.269 298.569 114.492 300.119 L114.492 295.397 Q117.316 294.263 119.769 293.684 Q122.223 293.106 124.26 293.106 Q129.63 293.106 132.825 295.791 Q136.019 298.476 136.019 302.967 Q136.019 305.096 135.209 307.018 Q134.422 308.916 132.316 311.508 Q131.737 312.18 128.635 315.397 Q125.533 318.592 119.885 324.355 Z\" fill=\"#000000\" fill-rule=\"evenodd\" fill-opacity=\"1\" /><path clip-path=\"url(#clip490)\" d=\"M 0 0 M151.274 296.809 Q147.663 296.809 145.834 300.374 Q144.029 303.916 144.029 311.045 Q144.029 318.152 145.834 321.717 Q147.663 325.258 151.274 325.258 Q154.908 325.258 156.714 321.717 Q158.542 318.152 158.542 311.045 Q158.542 303.916 156.714 300.374 Q154.908 296.809 151.274 296.809 M151.274 293.106 Q157.084 293.106 160.14 297.712 Q163.218 302.295 163.218 311.045 Q163.218 319.772 160.14 324.379 Q157.084 328.962 151.274 328.962 Q145.464 328.962 142.385 324.379 Q139.329 319.772 139.329 311.045 Q139.329 302.295 142.385 297.712 Q145.464 293.106 151.274 293.106 Z\" fill=\"#000000\" fill-rule=\"evenodd\" fill-opacity=\"1\" /><path clip-path=\"url(#clip490)\" d=\"M 0 0 M178.288 296.809 Q174.677 296.809 172.848 300.374 Q171.042 303.916 171.042 311.045 Q171.042 318.152 172.848 321.717 Q174.677 325.258 178.288 325.258 Q181.922 325.258 183.727 321.717 Q185.556 318.152 185.556 311.045 Q185.556 303.916 183.727 300.374 Q181.922 296.809 178.288 296.809 M178.288 293.106 Q184.098 293.106 187.153 297.712 Q190.232 302.295 190.232 311.045 Q190.232 319.772 187.153 324.379 Q184.098 328.962 178.288 328.962 Q172.477 328.962 169.399 324.379 Q166.343 319.772 166.343 311.045 Q166.343 302.295 169.399 297.712 Q172.477 293.106 178.288 293.106 Z\" fill=\"#000000\" fill-rule=\"evenodd\" fill-opacity=\"1\" /><path clip-path=\"url(#clip490)\" d=\"M 0 0 M20.1444 809.563 L26.9239 809.563 Q23.9002 812.81 22.4043 816.502 Q20.9083 820.162 20.9083 824.3 Q20.9083 832.448 25.9054 836.777 Q30.8707 841.105 40.2919 841.105 Q49.6813 841.105 54.6784 836.777 Q59.6436 832.448 59.6436 824.3 Q59.6436 820.162 58.1477 816.502 Q56.6518 812.81 53.6281 809.563 L60.3439 809.563 Q62.6355 812.937 63.7814 816.725 Q64.9272 820.481 64.9272 824.682 Q64.9272 835.472 58.3387 841.678 Q51.7183 847.885 40.2919 847.885 Q28.8336 847.885 22.2451 841.678 Q15.6248 835.472 15.6248 824.682 Q15.6248 820.417 16.7706 816.661 Q17.8846 812.874 20.1444 809.563 Z\" fill=\"#000000\" fill-rule=\"evenodd\" fill-opacity=\"1\" /><path clip-path=\"url(#clip490)\" d=\"M 0 0 M14.479 783.241 L14.479 769.746 L19.0304 769.746 L19.0304 777.385 L68.0464 777.385 L68.0464 769.746 L72.5979 769.746 L72.5979 783.241 L14.479 783.241 Z\" fill=\"#000000\" fill-rule=\"evenodd\" fill-opacity=\"1\" /><path clip-path=\"url(#clip490)\" d=\"M 0 0 M35.1993 735.849 Q31.2526 733.652 29.3747 730.597 Q27.4968 727.541 27.4968 723.404 Q27.4968 717.834 31.4117 714.81 Q35.2948 711.786 42.4881 711.786 L64.0042 711.786 L64.0042 717.674 L42.679 717.674 Q37.5546 717.674 35.072 719.489 Q32.5894 721.303 32.5894 725.027 Q32.5894 729.578 35.6131 732.22 Q38.6368 734.862 43.8567 734.862 L64.0042 734.862 L64.0042 740.75 L42.679 740.75 Q37.5228 740.75 35.072 742.564 Q32.5894 744.379 32.5894 748.166 Q32.5894 752.654 35.6449 755.296 Q38.6686 757.938 43.8567 757.938 L64.0042 757.938 L64.0042 763.826 L28.3562 763.826 L28.3562 757.938 L33.8944 757.938 Q30.616 755.932 29.0564 753.131 Q27.4968 750.331 27.4968 746.479 Q27.4968 742.596 29.4702 739.891 Q31.4436 737.154 35.1993 735.849 Z\" fill=\"#000000\" fill-rule=\"evenodd\" fill-opacity=\"1\" /><path clip-path=\"url(#clip490)\" d=\"M 0 0 M45.7664 682.186 Q39.4007 682.186 35.8996 684.827 Q32.3984 687.437 32.3984 692.18 Q32.3984 696.89 35.8996 699.532 Q39.4007 702.142 45.7664 702.142 Q52.1003 702.142 55.6014 699.532 Q59.1026 696.89 59.1026 692.18 Q59.1026 687.437 55.6014 684.827 Q52.1003 682.186 45.7664 682.186 M59.58 676.329 Q68.683 676.329 73.1071 680.371 Q77.5631 684.414 77.5631 692.753 Q77.5631 695.84 77.0857 698.577 Q76.6401 701.315 75.6852 703.893 L69.9879 703.893 Q71.3884 701.315 72.0568 698.8 Q72.7252 696.286 72.7252 693.676 Q72.7252 687.915 69.7015 685.05 Q66.7096 682.186 60.6303 682.186 L57.7339 682.186 Q60.885 684 62.4446 686.833 Q64.0042 689.665 64.0042 693.612 Q64.0042 700.169 59.0071 704.179 Q54.01 708.19 45.7664 708.19 Q37.491 708.19 32.4939 704.179 Q27.4968 700.169 27.4968 693.612 Q27.4968 689.665 29.0564 686.833 Q30.616 684 33.7671 682.186 L28.3562 682.186 L28.3562 676.329 L59.58 676.329 Z\" fill=\"#000000\" fill-rule=\"evenodd\" fill-opacity=\"1\" /><path clip-path=\"url(#clip490)\" d=\"M 0 0 M16.4842 659.778 L16.4842 654.367 L70.0516 670.918 L70.0516 676.329 L16.4842 659.778 Z\" fill=\"#000000\" fill-rule=\"evenodd\" fill-opacity=\"1\" /><path clip-path=\"url(#clip490)\" d=\"M 0 0 M14.479 648.225 L14.479 642.368 L64.0042 642.368 L64.0042 648.225 L14.479 648.225 Z\" fill=\"#000000\" fill-rule=\"evenodd\" fill-opacity=\"1\" /><path clip-path=\"url(#clip490)\" d=\"M 0 0 M14.479 622.539 L72.5979 622.539 L72.5979 636.034 L68.0464 636.034 L68.0464 628.427 L19.0304 628.427 L19.0304 636.034 L14.479 636.034 L14.479 622.539 Z\" fill=\"#000000\" fill-rule=\"evenodd\" fill-opacity=\"1\" /><circle clip-path=\"url(#clip492)\" cx=\"286.417\" cy=\"86.1857\" r=\"14\" fill=\"#da70d6\" fill-rule=\"evenodd\" fill-opacity=\"1\" stroke=\"#000000\" stroke-opacity=\"1\" stroke-width=\"3.2\"/>\n",
       "<circle clip-path=\"url(#clip492)\" cx=\"397.424\" cy=\"211.888\" r=\"14\" fill=\"#da70d6\" fill-rule=\"evenodd\" fill-opacity=\"1\" stroke=\"#000000\" stroke-opacity=\"1\" stroke-width=\"3.2\"/>\n",
       "<circle clip-path=\"url(#clip492)\" cx=\"509.768\" cy=\"481.014\" r=\"14\" fill=\"#da70d6\" fill-rule=\"evenodd\" fill-opacity=\"1\" stroke=\"#000000\" stroke-opacity=\"1\" stroke-width=\"3.2\"/>\n",
       "<circle clip-path=\"url(#clip492)\" cx=\"620.776\" cy=\"760.107\" r=\"14\" fill=\"#da70d6\" fill-rule=\"evenodd\" fill-opacity=\"1\" stroke=\"#000000\" stroke-opacity=\"1\" stroke-width=\"3.2\"/>\n",
       "<circle clip-path=\"url(#clip492)\" cx=\"777.256\" cy=\"848.708\" r=\"14\" fill=\"#da70d6\" fill-rule=\"evenodd\" fill-opacity=\"1\" stroke=\"#000000\" stroke-opacity=\"1\" stroke-width=\"3.2\"/>\n",
       "<circle clip-path=\"url(#clip492)\" cx=\"999.27\" cy=\"1004.87\" r=\"14\" fill=\"#da70d6\" fill-rule=\"evenodd\" fill-opacity=\"1\" stroke=\"#000000\" stroke-opacity=\"1\" stroke-width=\"3.2\"/>\n",
       "<circle clip-path=\"url(#clip492)\" cx=\"1178.49\" cy=\"1113.4\" r=\"14\" fill=\"#da70d6\" fill-rule=\"evenodd\" fill-opacity=\"1\" stroke=\"#000000\" stroke-opacity=\"1\" stroke-width=\"3.2\"/>\n",
       "<circle clip-path=\"url(#clip492)\" cx=\"1400.5\" cy=\"1218.06\" r=\"14\" fill=\"#da70d6\" fill-rule=\"evenodd\" fill-opacity=\"1\" stroke=\"#000000\" stroke-opacity=\"1\" stroke-width=\"3.2\"/>\n",
       "<circle clip-path=\"url(#clip492)\" cx=\"1623.85\" cy=\"1292.27\" r=\"14\" fill=\"#da70d6\" fill-rule=\"evenodd\" fill-opacity=\"1\" stroke=\"#000000\" stroke-opacity=\"1\" stroke-width=\"3.2\"/>\n",
       "<circle clip-path=\"url(#clip492)\" cx=\"2065.21\" cy=\"1329.37\" r=\"14\" fill=\"#da70d6\" fill-rule=\"evenodd\" fill-opacity=\"1\" stroke=\"#000000\" stroke-opacity=\"1\" stroke-width=\"3.2\"/>\n",
       "<circle clip-path=\"url(#clip492)\" cx=\"2185.58\" cy=\"1368.13\" r=\"14\" fill=\"#da70d6\" fill-rule=\"evenodd\" fill-opacity=\"1\" stroke=\"#000000\" stroke-opacity=\"1\" stroke-width=\"3.2\"/>\n",
       "<circle clip-path=\"url(#clip492)\" cx=\"2292.57\" cy=\"1378.1\" r=\"14\" fill=\"#da70d6\" fill-rule=\"evenodd\" fill-opacity=\"1\" stroke=\"#000000\" stroke-opacity=\"1\" stroke-width=\"3.2\"/>\n",
       "<polyline clip-path=\"url(#clip492)\" style=\"stroke:#e26f46; stroke-width:4; stroke-opacity:1; fill:none\" points=\"\n",
       "  286.417,86.1857 420.16,374.653 553.904,600.664 687.648,777.74 821.391,916.478 955.135,1025.18 1088.88,1110.34 1222.62,1177.07 1356.37,1229.34 1490.11,1270.3 \n",
       "  1623.85,1302.4 1757.6,1327.54 1891.34,1347.24 2025.08,1362.67 2158.83,1374.76 2292.57,1384.24 \n",
       "  \"/>\n",
       "<polyline clip-path=\"url(#clip492)\" style=\"stroke:#3da44d; stroke-width:4; stroke-opacity:1; fill:none\" points=\"\n",
       "  286.417,86.1857 420.16,374.644 553.904,600.649 687.648,777.723 821.391,916.46 955.135,1025.16 1088.88,1110.32 1222.62,1177.05 1356.37,1229.33 1490.11,1270.29 \n",
       "  1623.85,1302.38 1757.6,1327.53 1891.34,1347.23 2025.08,1362.67 2158.83,1374.76 2292.57,1384.23 \n",
       "  \"/>\n",
       "<path clip-path=\"url(#clip490)\" d=\"\n",
       "M1588.07 335.029 L2281.87 335.029 L2281.87 93.1086 L1588.07 93.1086  Z\n",
       "  \" fill=\"#ffffff\" fill-rule=\"evenodd\" fill-opacity=\"1\"/>\n",
       "<polyline clip-path=\"url(#clip490)\" style=\"stroke:#000000; stroke-width:4; stroke-opacity:1; fill:none\" points=\"\n",
       "  1588.07,335.029 2281.87,335.029 2281.87,93.1086 1588.07,93.1086 1588.07,335.029 \n",
       "  \"/>\n",
       "<circle clip-path=\"url(#clip490)\" cx=\"1682.58\" cy=\"153.589\" r=\"23\" fill=\"#da70d6\" fill-rule=\"evenodd\" fill-opacity=\"1\" stroke=\"#000000\" stroke-opacity=\"1\" stroke-width=\"5.12\"/>\n",
       "<path clip-path=\"url(#clip490)\" d=\"M 0 0 M1777.09 144.943 L1781.35 144.943 L1786.68 165.174 L1791.98 144.943 L1797 144.943 L1802.33 165.174 L1807.63 144.943 L1811.89 144.943 L1805.1 170.869 L1800.08 170.869 L1794.5 149.619 L1788.9 170.869 L1783.88 170.869 L1777.09 144.943 Z\" fill=\"#000000\" fill-rule=\"evenodd\" fill-opacity=\"1\" /><path clip-path=\"url(#clip490)\" d=\"M 0 0 M1828.14 157.836 Q1822.97 157.836 1820.98 159.017 Q1818.99 160.197 1818.99 163.045 Q1818.99 165.313 1820.47 166.656 Q1821.98 167.975 1824.55 167.975 Q1828.09 167.975 1830.22 165.475 Q1832.37 162.952 1832.37 158.785 L1832.37 157.836 L1828.14 157.836 M1836.63 156.077 L1836.63 170.869 L1832.37 170.869 L1832.37 166.933 Q1830.91 169.295 1828.74 170.429 Q1826.56 171.54 1823.41 171.54 Q1819.43 171.54 1817.07 169.318 Q1814.73 167.072 1814.73 163.322 Q1814.73 158.947 1817.65 156.725 Q1820.59 154.503 1826.4 154.503 L1832.37 154.503 L1832.37 154.086 Q1832.37 151.147 1830.43 149.549 Q1828.51 147.929 1825.01 147.929 Q1822.79 147.929 1820.68 148.461 Q1818.58 148.994 1816.63 150.059 L1816.63 146.123 Q1818.97 145.221 1821.17 144.781 Q1823.37 144.318 1825.45 144.318 Q1831.08 144.318 1833.85 147.234 Q1836.63 150.151 1836.63 156.077 Z\" fill=\"#000000\" fill-rule=\"evenodd\" fill-opacity=\"1\" /><path clip-path=\"url(#clip490)\" d=\"M 0 0 M1856.12 148.924 Q1855.4 148.508 1854.55 148.322 Q1853.71 148.114 1852.7 148.114 Q1849.09 148.114 1847.14 150.475 Q1845.22 152.813 1845.22 157.211 L1845.22 170.869 L1840.94 170.869 L1840.94 144.943 L1845.22 144.943 L1845.22 148.971 Q1846.56 146.609 1848.71 145.475 Q1850.87 144.318 1853.95 144.318 Q1854.39 144.318 1854.92 144.387 Q1855.45 144.434 1856.1 144.549 L1856.12 148.924 Z\" fill=\"#000000\" fill-rule=\"evenodd\" fill-opacity=\"1\" /><path clip-path=\"url(#clip490)\" d=\"M 0 0 M1864.8 137.582 L1864.8 144.943 L1873.58 144.943 L1873.58 148.253 L1864.8 148.253 L1864.8 162.327 Q1864.8 165.498 1865.66 166.401 Q1866.54 167.304 1869.2 167.304 L1873.58 167.304 L1873.58 170.869 L1869.2 170.869 Q1864.27 170.869 1862.4 169.04 Q1860.52 167.188 1860.52 162.327 L1860.52 148.253 L1857.4 148.253 L1857.4 144.943 L1860.52 144.943 L1860.52 137.582 L1864.8 137.582 Z\" fill=\"#000000\" fill-rule=\"evenodd\" fill-opacity=\"1\" /><path clip-path=\"url(#clip490)\" d=\"M 0 0 M1888.09 147.929 Q1884.66 147.929 1882.67 150.614 Q1880.68 153.276 1880.68 157.929 Q1880.68 162.582 1882.65 165.267 Q1884.64 167.929 1888.09 167.929 Q1891.49 167.929 1893.48 165.244 Q1895.47 162.558 1895.47 157.929 Q1895.47 153.322 1893.48 150.637 Q1891.49 147.929 1888.09 147.929 M1888.09 144.318 Q1893.65 144.318 1896.82 147.929 Q1899.99 151.54 1899.99 157.929 Q1899.99 164.295 1896.82 167.929 Q1893.65 171.54 1888.09 171.54 Q1882.51 171.54 1879.34 167.929 Q1876.19 164.295 1876.19 157.929 Q1876.19 151.54 1879.34 147.929 Q1882.51 144.318 1888.09 144.318 Z\" fill=\"#000000\" fill-rule=\"evenodd\" fill-opacity=\"1\" /><path clip-path=\"url(#clip490)\" d=\"M 0 0 M1916.58 132.79 L1921.19 132.79 L1913.65 141.494 L1910.1 141.494 L1916.58 132.79 M1920.98 145.707 L1920.98 149.734 Q1919.18 148.809 1917.23 148.346 Q1915.29 147.883 1913.21 147.883 Q1910.03 147.883 1908.44 148.855 Q1906.86 149.827 1906.86 151.771 Q1906.86 153.253 1908 154.109 Q1909.13 154.943 1912.56 155.707 L1914.02 156.031 Q1918.55 157.003 1920.45 158.785 Q1922.37 160.545 1922.37 163.716 Q1922.37 167.327 1919.5 169.433 Q1916.65 171.54 1911.65 171.54 Q1909.57 171.54 1907.3 171.123 Q1905.06 170.73 1902.56 169.92 L1902.56 165.521 Q1904.92 166.748 1907.21 167.373 Q1909.5 167.975 1911.75 167.975 Q1914.76 167.975 1916.38 166.957 Q1918 165.915 1918 164.04 Q1918 162.304 1916.82 161.378 Q1915.66 160.452 1911.7 159.596 L1910.22 159.248 Q1906.26 158.415 1904.5 156.702 Q1902.74 154.966 1902.74 151.957 Q1902.74 148.299 1905.34 146.309 Q1907.93 144.318 1912.7 144.318 Q1915.06 144.318 1917.14 144.665 Q1919.22 145.012 1920.98 145.707 Z\" fill=\"#000000\" fill-rule=\"evenodd\" fill-opacity=\"1\" /><path clip-path=\"url(#clip490)\" d=\"M 0 0 M1945.5 145.938 L1945.5 149.92 Q1943.69 148.924 1941.86 148.438 Q1940.06 147.929 1938.21 147.929 Q1934.06 147.929 1931.77 150.568 Q1929.48 153.184 1929.48 157.929 Q1929.48 162.674 1931.77 165.313 Q1934.06 167.929 1938.21 167.929 Q1940.06 167.929 1941.86 167.443 Q1943.69 166.933 1945.5 165.938 L1945.5 169.873 Q1943.71 170.707 1941.79 171.123 Q1939.9 171.54 1937.74 171.54 Q1931.89 171.54 1928.44 167.859 Q1924.99 164.179 1924.99 157.929 Q1924.99 151.586 1928.46 147.952 Q1931.96 144.318 1938.02 144.318 Q1939.99 144.318 1941.86 144.735 Q1943.74 145.128 1945.5 145.938 Z\" fill=\"#000000\" fill-rule=\"evenodd\" fill-opacity=\"1\" /><path clip-path=\"url(#clip490)\" d=\"M 0 0 M1949.96 144.943 L1954.22 144.943 L1954.22 170.869 L1949.96 170.869 L1949.96 144.943 M1949.96 134.85 L1954.22 134.85 L1954.22 140.244 L1949.96 140.244 L1949.96 134.85 Z\" fill=\"#000000\" fill-rule=\"evenodd\" fill-opacity=\"1\" /><path clip-path=\"url(#clip490)\" d=\"M 0 0 M1993.95 149.92 Q1995.54 147.049 1997.77 145.684 Q1999.99 144.318 2003 144.318 Q2007.05 144.318 2009.25 147.165 Q2011.45 149.989 2011.45 155.221 L2011.45 170.869 L2007.16 170.869 L2007.16 155.359 Q2007.16 151.633 2005.84 149.827 Q2004.52 148.022 2001.82 148.022 Q1998.51 148.022 1996.58 150.221 Q1994.66 152.42 1994.66 156.216 L1994.66 170.869 L1990.38 170.869 L1990.38 155.359 Q1990.38 151.609 1989.06 149.827 Q1987.74 148.022 1984.99 148.022 Q1981.72 148.022 1979.8 150.244 Q1977.88 152.443 1977.88 156.216 L1977.88 170.869 L1973.6 170.869 L1973.6 144.943 L1977.88 144.943 L1977.88 148.971 Q1979.34 146.586 1981.38 145.452 Q1983.41 144.318 1986.21 144.318 Q1989.04 144.318 1991.01 145.753 Q1993 147.188 1993.95 149.92 Z\" fill=\"#000000\" fill-rule=\"evenodd\" fill-opacity=\"1\" /><path clip-path=\"url(#clip490)\" d=\"M 0 0 M2015.91 144.943 L2020.17 144.943 L2020.17 170.869 L2015.91 170.869 L2015.91 144.943 M2015.91 134.85 L2020.17 134.85 L2020.17 140.244 L2015.91 140.244 L2015.91 134.85 Z\" fill=\"#000000\" fill-rule=\"evenodd\" fill-opacity=\"1\" /><path clip-path=\"url(#clip490)\" d=\"M 0 0 M2046.82 156.841 L2046.82 158.924 L2027.23 158.924 Q2027.51 163.322 2029.87 165.637 Q2032.26 167.929 2036.49 167.929 Q2038.95 167.929 2041.24 167.327 Q2043.55 166.725 2045.82 165.521 L2045.82 169.549 Q2043.53 170.521 2041.12 171.031 Q2038.71 171.54 2036.24 171.54 Q2030.03 171.54 2026.4 167.929 Q2022.79 164.318 2022.79 158.16 Q2022.79 151.795 2026.21 148.068 Q2029.66 144.318 2035.5 144.318 Q2040.73 144.318 2043.76 147.697 Q2046.82 151.054 2046.82 156.841 M2042.56 155.591 Q2042.51 152.096 2040.59 150.012 Q2038.69 147.929 2035.54 147.929 Q2031.98 147.929 2029.83 149.943 Q2027.7 151.957 2027.37 155.614 L2042.56 155.591 Z\" fill=\"#000000\" fill-rule=\"evenodd\" fill-opacity=\"1\" /><path clip-path=\"url(#clip490)\" d=\"M 0 0 M2066.31 148.924 Q2065.59 148.508 2064.73 148.322 Q2063.9 148.114 2062.88 148.114 Q2059.27 148.114 2057.32 150.475 Q2055.4 152.813 2055.4 157.211 L2055.4 170.869 L2051.12 170.869 L2051.12 144.943 L2055.4 144.943 L2055.4 148.971 Q2056.75 146.609 2058.9 145.475 Q2061.05 144.318 2064.13 144.318 Q2064.57 144.318 2065.1 144.387 Q2065.64 144.434 2066.28 144.549 L2066.31 148.924 Z\" fill=\"#000000\" fill-rule=\"evenodd\" fill-opacity=\"1\" /><path clip-path=\"url(#clip490)\" d=\"M 0 0 M2068.92 144.943 L2089.15 144.943 L2089.15 148.832 L2073.14 167.466 L2089.15 167.466 L2089.15 170.869 L2068.34 170.869 L2068.34 166.98 L2084.36 148.346 L2068.92 148.346 L2068.92 144.943 Z\" fill=\"#000000\" fill-rule=\"evenodd\" fill-opacity=\"1\" /><path clip-path=\"url(#clip490)\" d=\"M 0 0 M2103.67 147.929 Q2100.24 147.929 2098.25 150.614 Q2096.26 153.276 2096.26 157.929 Q2096.26 162.582 2098.23 165.267 Q2100.22 167.929 2103.67 167.929 Q2107.07 167.929 2109.06 165.244 Q2111.05 162.558 2111.05 157.929 Q2111.05 153.322 2109.06 150.637 Q2107.07 147.929 2103.67 147.929 M2103.67 144.318 Q2109.22 144.318 2112.39 147.929 Q2115.57 151.54 2115.57 157.929 Q2115.57 164.295 2112.39 167.929 Q2109.22 171.54 2103.67 171.54 Q2098.09 171.54 2094.92 167.929 Q2091.77 164.295 2091.77 157.929 Q2091.77 151.54 2094.92 147.929 Q2098.09 144.318 2103.67 144.318 Z\" fill=\"#000000\" fill-rule=\"evenodd\" fill-opacity=\"1\" /><path clip-path=\"url(#clip490)\" d=\"M 0 0 M2141.58 155.221 L2141.58 170.869 L2137.32 170.869 L2137.32 155.359 Q2137.32 151.679 2135.89 149.85 Q2134.45 148.022 2131.58 148.022 Q2128.13 148.022 2126.14 150.221 Q2124.15 152.42 2124.15 156.216 L2124.15 170.869 L2119.87 170.869 L2119.87 144.943 L2124.15 144.943 L2124.15 148.971 Q2125.68 146.633 2127.74 145.475 Q2129.82 144.318 2132.53 144.318 Q2137 144.318 2139.29 147.096 Q2141.58 149.85 2141.58 155.221 Z\" fill=\"#000000\" fill-rule=\"evenodd\" fill-opacity=\"1\" /><path clip-path=\"url(#clip490)\" d=\"M 0 0 M2168.23 156.841 L2168.23 158.924 L2148.64 158.924 Q2148.92 163.322 2151.28 165.637 Q2153.67 167.929 2157.9 167.929 Q2160.36 167.929 2162.65 167.327 Q2164.96 166.725 2167.23 165.521 L2167.23 169.549 Q2164.94 170.521 2162.53 171.031 Q2160.13 171.54 2157.65 171.54 Q2151.44 171.54 2147.81 167.929 Q2144.2 164.318 2144.2 158.16 Q2144.2 151.795 2147.63 148.068 Q2151.07 144.318 2156.91 144.318 Q2162.14 144.318 2165.17 147.697 Q2168.23 151.054 2168.23 156.841 M2163.97 155.591 Q2163.92 152.096 2162 150.012 Q2160.1 147.929 2156.95 147.929 Q2153.39 147.929 2151.24 149.943 Q2149.11 151.957 2148.78 155.614 L2163.97 155.591 Z\" fill=\"#000000\" fill-rule=\"evenodd\" fill-opacity=\"1\" /><polyline clip-path=\"url(#clip490)\" style=\"stroke:#e26f46; stroke-width:4; stroke-opacity:1; fill:none\" points=\"\n",
       "  1611.7,214.069 1753.47,214.069 \n",
       "  \"/>\n",
       "<path clip-path=\"url(#clip490)\" d=\"M 0 0 M1777.09 205.423 L1781.35 205.423 L1786.68 225.654 L1791.98 205.423 L1797 205.423 L1802.33 225.654 L1807.63 205.423 L1811.89 205.423 L1805.1 231.349 L1800.08 231.349 L1794.5 210.099 L1788.9 231.349 L1783.88 231.349 L1777.09 205.423 Z\" fill=\"#000000\" fill-rule=\"evenodd\" fill-opacity=\"1\" /><path clip-path=\"url(#clip490)\" d=\"M 0 0 M1828.14 218.316 Q1822.97 218.316 1820.98 219.497 Q1818.99 220.677 1818.99 223.525 Q1818.99 225.793 1820.47 227.136 Q1821.98 228.455 1824.55 228.455 Q1828.09 228.455 1830.22 225.955 Q1832.37 223.432 1832.37 219.265 L1832.37 218.316 L1828.14 218.316 M1836.63 216.557 L1836.63 231.349 L1832.37 231.349 L1832.37 227.413 Q1830.91 229.775 1828.74 230.909 Q1826.56 232.02 1823.41 232.02 Q1819.43 232.02 1817.07 229.798 Q1814.73 227.552 1814.73 223.802 Q1814.73 219.427 1817.65 217.205 Q1820.59 214.983 1826.4 214.983 L1832.37 214.983 L1832.37 214.566 Q1832.37 211.627 1830.43 210.029 Q1828.51 208.409 1825.01 208.409 Q1822.79 208.409 1820.68 208.941 Q1818.58 209.474 1816.63 210.539 L1816.63 206.603 Q1818.97 205.701 1821.17 205.261 Q1823.37 204.798 1825.45 204.798 Q1831.08 204.798 1833.85 207.714 Q1836.63 210.631 1836.63 216.557 Z\" fill=\"#000000\" fill-rule=\"evenodd\" fill-opacity=\"1\" /><path clip-path=\"url(#clip490)\" d=\"M 0 0 M1856.12 209.404 Q1855.4 208.988 1854.55 208.802 Q1853.71 208.594 1852.7 208.594 Q1849.09 208.594 1847.14 210.955 Q1845.22 213.293 1845.22 217.691 L1845.22 231.349 L1840.94 231.349 L1840.94 205.423 L1845.22 205.423 L1845.22 209.451 Q1846.56 207.089 1848.71 205.955 Q1850.87 204.798 1853.95 204.798 Q1854.39 204.798 1854.92 204.867 Q1855.45 204.914 1856.1 205.029 L1856.12 209.404 Z\" fill=\"#000000\" fill-rule=\"evenodd\" fill-opacity=\"1\" /><path clip-path=\"url(#clip490)\" d=\"M 0 0 M1864.8 198.062 L1864.8 205.423 L1873.58 205.423 L1873.58 208.733 L1864.8 208.733 L1864.8 222.807 Q1864.8 225.978 1865.66 226.881 Q1866.54 227.784 1869.2 227.784 L1873.58 227.784 L1873.58 231.349 L1869.2 231.349 Q1864.27 231.349 1862.4 229.52 Q1860.52 227.668 1860.52 222.807 L1860.52 208.733 L1857.4 208.733 L1857.4 205.423 L1860.52 205.423 L1860.52 198.062 L1864.8 198.062 Z\" fill=\"#000000\" fill-rule=\"evenodd\" fill-opacity=\"1\" /><path clip-path=\"url(#clip490)\" d=\"M 0 0 M1888.09 208.409 Q1884.66 208.409 1882.67 211.094 Q1880.68 213.756 1880.68 218.409 Q1880.68 223.062 1882.65 225.747 Q1884.64 228.409 1888.09 228.409 Q1891.49 228.409 1893.48 225.724 Q1895.47 223.038 1895.47 218.409 Q1895.47 213.802 1893.48 211.117 Q1891.49 208.409 1888.09 208.409 M1888.09 204.798 Q1893.65 204.798 1896.82 208.409 Q1899.99 212.02 1899.99 218.409 Q1899.99 224.775 1896.82 228.409 Q1893.65 232.02 1888.09 232.02 Q1882.51 232.02 1879.34 228.409 Q1876.19 224.775 1876.19 218.409 Q1876.19 212.02 1879.34 208.409 Q1882.51 204.798 1888.09 204.798 Z\" fill=\"#000000\" fill-rule=\"evenodd\" fill-opacity=\"1\" /><path clip-path=\"url(#clip490)\" d=\"M 0 0 M1916.58 193.27 L1921.19 193.27 L1913.65 201.974 L1910.1 201.974 L1916.58 193.27 M1920.98 206.187 L1920.98 210.214 Q1919.18 209.289 1917.23 208.826 Q1915.29 208.363 1913.21 208.363 Q1910.03 208.363 1908.44 209.335 Q1906.86 210.307 1906.86 212.251 Q1906.86 213.733 1908 214.589 Q1909.13 215.423 1912.56 216.187 L1914.02 216.511 Q1918.55 217.483 1920.45 219.265 Q1922.37 221.025 1922.37 224.196 Q1922.37 227.807 1919.5 229.913 Q1916.65 232.02 1911.65 232.02 Q1909.57 232.02 1907.3 231.603 Q1905.06 231.21 1902.56 230.4 L1902.56 226.001 Q1904.92 227.228 1907.21 227.853 Q1909.5 228.455 1911.75 228.455 Q1914.76 228.455 1916.38 227.437 Q1918 226.395 1918 224.52 Q1918 222.784 1916.82 221.858 Q1915.66 220.932 1911.7 220.076 L1910.22 219.728 Q1906.26 218.895 1904.5 217.182 Q1902.74 215.446 1902.74 212.437 Q1902.74 208.779 1905.34 206.789 Q1907.93 204.798 1912.7 204.798 Q1915.06 204.798 1917.14 205.145 Q1919.22 205.492 1920.98 206.187 Z\" fill=\"#000000\" fill-rule=\"evenodd\" fill-opacity=\"1\" /><path clip-path=\"url(#clip490)\" d=\"M 0 0 M1945.5 206.418 L1945.5 210.4 Q1943.69 209.404 1941.86 208.918 Q1940.06 208.409 1938.21 208.409 Q1934.06 208.409 1931.77 211.048 Q1929.48 213.664 1929.48 218.409 Q1929.48 223.154 1931.77 225.793 Q1934.06 228.409 1938.21 228.409 Q1940.06 228.409 1941.86 227.923 Q1943.69 227.413 1945.5 226.418 L1945.5 230.353 Q1943.71 231.187 1941.79 231.603 Q1939.9 232.02 1937.74 232.02 Q1931.89 232.02 1928.44 228.339 Q1924.99 224.659 1924.99 218.409 Q1924.99 212.066 1928.46 208.432 Q1931.96 204.798 1938.02 204.798 Q1939.99 204.798 1941.86 205.215 Q1943.74 205.608 1945.5 206.418 Z\" fill=\"#000000\" fill-rule=\"evenodd\" fill-opacity=\"1\" /><path clip-path=\"url(#clip490)\" d=\"M 0 0 M1949.96 205.423 L1954.22 205.423 L1954.22 231.349 L1949.96 231.349 L1949.96 205.423 M1949.96 195.33 L1954.22 195.33 L1954.22 200.724 L1949.96 200.724 L1949.96 195.33 Z\" fill=\"#000000\" fill-rule=\"evenodd\" fill-opacity=\"1\" /><path clip-path=\"url(#clip490)\" d=\"M 0 0 M1985.54 218.316 Q1980.38 218.316 1978.39 219.497 Q1976.4 220.677 1976.4 223.525 Q1976.4 225.793 1977.88 227.136 Q1979.39 228.455 1981.96 228.455 Q1985.5 228.455 1987.63 225.955 Q1989.78 223.432 1989.78 219.265 L1989.78 218.316 L1985.54 218.316 M1994.04 216.557 L1994.04 231.349 L1989.78 231.349 L1989.78 227.413 Q1988.32 229.775 1986.14 230.909 Q1983.97 232.02 1980.82 232.02 Q1976.84 232.02 1974.48 229.798 Q1972.14 227.552 1972.14 223.802 Q1972.14 219.427 1975.06 217.205 Q1978 214.983 1983.81 214.983 L1989.78 214.983 L1989.78 214.566 Q1989.78 211.627 1987.83 210.029 Q1985.91 208.409 1982.42 208.409 Q1980.2 208.409 1978.09 208.941 Q1975.98 209.474 1974.04 210.539 L1974.04 206.603 Q1976.38 205.701 1978.58 205.261 Q1980.77 204.798 1982.86 204.798 Q1988.48 204.798 1991.26 207.714 Q1994.04 210.631 1994.04 216.557 Z\" fill=\"#000000\" fill-rule=\"evenodd\" fill-opacity=\"1\" /><path clip-path=\"url(#clip490)\" d=\"M 0 0 M2020.06 215.701 L2020.06 231.349 L2015.8 231.349 L2015.8 215.839 Q2015.8 212.159 2014.36 210.33 Q2012.93 208.502 2010.06 208.502 Q2006.61 208.502 2004.62 210.701 Q2002.63 212.9 2002.63 216.696 L2002.63 231.349 L1998.34 231.349 L1998.34 205.423 L2002.63 205.423 L2002.63 209.451 Q2004.15 207.113 2006.21 205.955 Q2008.3 204.798 2011.01 204.798 Q2015.47 204.798 2017.76 207.576 Q2020.06 210.33 2020.06 215.701 Z\" fill=\"#000000\" fill-rule=\"evenodd\" fill-opacity=\"1\" /><path clip-path=\"url(#clip490)\" d=\"M 0 0 M2036.31 218.316 Q2031.14 218.316 2029.15 219.497 Q2027.16 220.677 2027.16 223.525 Q2027.16 225.793 2028.64 227.136 Q2030.15 228.455 2032.72 228.455 Q2036.26 228.455 2038.39 225.955 Q2040.54 223.432 2040.54 219.265 L2040.54 218.316 L2036.31 218.316 M2044.8 216.557 L2044.8 231.349 L2040.54 231.349 L2040.54 227.413 Q2039.08 229.775 2036.91 230.909 Q2034.73 232.02 2031.58 232.02 Q2027.6 232.02 2025.24 229.798 Q2022.9 227.552 2022.9 223.802 Q2022.9 219.427 2025.82 217.205 Q2028.76 214.983 2034.57 214.983 L2040.54 214.983 L2040.54 214.566 Q2040.54 211.627 2038.6 210.029 Q2036.68 208.409 2033.18 208.409 Q2030.96 208.409 2028.85 208.941 Q2026.75 209.474 2024.8 210.539 L2024.8 206.603 Q2027.14 205.701 2029.34 205.261 Q2031.54 204.798 2033.62 204.798 Q2039.25 204.798 2042.02 207.714 Q2044.8 210.631 2044.8 216.557 Z\" fill=\"#000000\" fill-rule=\"evenodd\" fill-opacity=\"1\" /><path clip-path=\"url(#clip490)\" d=\"M 0 0 M2049.27 195.33 L2053.53 195.33 L2053.53 231.349 L2049.27 231.349 L2049.27 195.33 Z\" fill=\"#000000\" fill-rule=\"evenodd\" fill-opacity=\"1\" /><path clip-path=\"url(#clip490)\" d=\"M 0 0 M2058 205.423 L2062.26 205.423 L2062.26 231.349 L2058 231.349 L2058 205.423 M2058 195.33 L2062.26 195.33 L2062.26 200.724 L2058 200.724 L2058 195.33 Z\" fill=\"#000000\" fill-rule=\"evenodd\" fill-opacity=\"1\" /><path clip-path=\"url(#clip490)\" d=\"M 0 0 M2070.94 198.062 L2070.94 205.423 L2079.71 205.423 L2079.71 208.733 L2070.94 208.733 L2070.94 222.807 Q2070.94 225.978 2071.79 226.881 Q2072.67 227.784 2075.33 227.784 L2079.71 227.784 L2079.71 231.349 L2075.33 231.349 Q2070.4 231.349 2068.53 229.52 Q2066.65 227.668 2066.65 222.807 L2066.65 208.733 L2063.53 208.733 L2063.53 205.423 L2066.65 205.423 L2066.65 198.062 L2070.94 198.062 Z\" fill=\"#000000\" fill-rule=\"evenodd\" fill-opacity=\"1\" /><path clip-path=\"url(#clip490)\" d=\"M 0 0 M2094.96 233.756 Q2093.16 238.386 2091.45 239.798 Q2089.73 241.21 2086.86 241.21 L2083.46 241.21 L2083.46 237.645 L2085.96 237.645 Q2087.72 237.645 2088.69 236.812 Q2089.66 235.978 2090.84 232.876 L2091.61 230.932 L2081.12 205.423 L2085.64 205.423 L2093.74 225.701 L2101.84 205.423 L2106.35 205.423 L2094.96 233.756 Z\" fill=\"#000000\" fill-rule=\"evenodd\" fill-opacity=\"1\" /><path clip-path=\"url(#clip490)\" d=\"M 0 0 M2129.48 206.418 L2129.48 210.4 Q2127.67 209.404 2125.84 208.918 Q2124.04 208.409 2122.19 208.409 Q2118.04 208.409 2115.75 211.048 Q2113.46 213.664 2113.46 218.409 Q2113.46 223.154 2115.75 225.793 Q2118.04 228.409 2122.19 228.409 Q2124.04 228.409 2125.84 227.923 Q2127.67 227.413 2129.48 226.418 L2129.48 230.353 Q2127.69 231.187 2125.77 231.603 Q2123.88 232.02 2121.72 232.02 Q2115.87 232.02 2112.42 228.339 Q2108.97 224.659 2108.97 218.409 Q2108.97 212.066 2112.44 208.432 Q2115.94 204.798 2122 204.798 Q2123.97 204.798 2125.84 205.215 Q2127.72 205.608 2129.48 206.418 Z\" fill=\"#000000\" fill-rule=\"evenodd\" fill-opacity=\"1\" /><path clip-path=\"url(#clip490)\" d=\"M 0 0 M2132.09 205.423 L2152.32 205.423 L2152.32 209.312 L2136.31 227.946 L2152.32 227.946 L2152.32 231.349 L2131.51 231.349 L2131.51 227.46 L2147.53 208.826 L2132.09 208.826 L2132.09 205.423 Z\" fill=\"#000000\" fill-rule=\"evenodd\" fill-opacity=\"1\" /><path clip-path=\"url(#clip490)\" d=\"M 0 0 M2178.34 215.701 L2178.34 231.349 L2174.08 231.349 L2174.08 215.839 Q2174.08 212.159 2172.65 210.33 Q2171.21 208.502 2168.34 208.502 Q2164.89 208.502 2162.9 210.701 Q2160.91 212.9 2160.91 216.696 L2160.91 231.349 L2156.63 231.349 L2156.63 205.423 L2160.91 205.423 L2160.91 209.451 Q2162.44 207.113 2164.5 205.955 Q2166.58 204.798 2169.29 204.798 Q2173.76 204.798 2176.05 207.576 Q2178.34 210.33 2178.34 215.701 Z\" fill=\"#000000\" fill-rule=\"evenodd\" fill-opacity=\"1\" /><path clip-path=\"url(#clip490)\" d=\"M 0 0 M2204.99 217.321 L2204.99 219.404 L2185.4 219.404 Q2185.68 223.802 2188.04 226.117 Q2190.43 228.409 2194.66 228.409 Q2197.12 228.409 2199.41 227.807 Q2201.72 227.205 2203.99 226.001 L2203.99 230.029 Q2201.7 231.001 2199.29 231.511 Q2196.88 232.02 2194.41 232.02 Q2188.2 232.02 2184.57 228.409 Q2180.96 224.798 2180.96 218.64 Q2180.96 212.275 2184.38 208.548 Q2187.83 204.798 2193.67 204.798 Q2198.9 204.798 2201.93 208.177 Q2204.99 211.534 2204.99 217.321 M2200.73 216.071 Q2200.68 212.576 2198.76 210.492 Q2196.86 208.409 2193.71 208.409 Q2190.15 208.409 2188 210.423 Q2185.87 212.437 2185.54 216.094 L2200.73 216.071 Z\" fill=\"#000000\" fill-rule=\"evenodd\" fill-opacity=\"1\" /><polyline clip-path=\"url(#clip490)\" style=\"stroke:#3da44d; stroke-width:4; stroke-opacity:1; fill:none\" points=\"\n",
       "  1611.7,274.549 1753.47,274.549 \n",
       "  \"/>\n",
       "<path clip-path=\"url(#clip490)\" d=\"M 0 0 M1777.09 265.903 L1781.35 265.903 L1786.68 286.134 L1791.98 265.903 L1797 265.903 L1802.33 286.134 L1807.63 265.903 L1811.89 265.903 L1805.1 291.829 L1800.08 291.829 L1794.5 270.579 L1788.9 291.829 L1783.88 291.829 L1777.09 265.903 Z\" fill=\"#000000\" fill-rule=\"evenodd\" fill-opacity=\"1\" /><path clip-path=\"url(#clip490)\" d=\"M 0 0 M1828.14 278.796 Q1822.97 278.796 1820.98 279.977 Q1818.99 281.157 1818.99 284.005 Q1818.99 286.273 1820.47 287.616 Q1821.98 288.935 1824.55 288.935 Q1828.09 288.935 1830.22 286.435 Q1832.37 283.912 1832.37 279.745 L1832.37 278.796 L1828.14 278.796 M1836.63 277.037 L1836.63 291.829 L1832.37 291.829 L1832.37 287.893 Q1830.91 290.255 1828.74 291.389 Q1826.56 292.5 1823.41 292.5 Q1819.43 292.5 1817.07 290.278 Q1814.73 288.032 1814.73 284.282 Q1814.73 279.907 1817.65 277.685 Q1820.59 275.463 1826.4 275.463 L1832.37 275.463 L1832.37 275.046 Q1832.37 272.107 1830.43 270.509 Q1828.51 268.889 1825.01 268.889 Q1822.79 268.889 1820.68 269.421 Q1818.58 269.954 1816.63 271.019 L1816.63 267.083 Q1818.97 266.181 1821.17 265.741 Q1823.37 265.278 1825.45 265.278 Q1831.08 265.278 1833.85 268.194 Q1836.63 271.111 1836.63 277.037 Z\" fill=\"#000000\" fill-rule=\"evenodd\" fill-opacity=\"1\" /><path clip-path=\"url(#clip490)\" d=\"M 0 0 M1856.12 269.884 Q1855.4 269.468 1854.55 269.282 Q1853.71 269.074 1852.7 269.074 Q1849.09 269.074 1847.14 271.435 Q1845.22 273.773 1845.22 278.171 L1845.22 291.829 L1840.94 291.829 L1840.94 265.903 L1845.22 265.903 L1845.22 269.931 Q1846.56 267.569 1848.71 266.435 Q1850.87 265.278 1853.95 265.278 Q1854.39 265.278 1854.92 265.347 Q1855.45 265.394 1856.1 265.509 L1856.12 269.884 Z\" fill=\"#000000\" fill-rule=\"evenodd\" fill-opacity=\"1\" /><path clip-path=\"url(#clip490)\" d=\"M 0 0 M1864.8 258.542 L1864.8 265.903 L1873.58 265.903 L1873.58 269.213 L1864.8 269.213 L1864.8 283.287 Q1864.8 286.458 1865.66 287.361 Q1866.54 288.264 1869.2 288.264 L1873.58 288.264 L1873.58 291.829 L1869.2 291.829 Q1864.27 291.829 1862.4 290 Q1860.52 288.148 1860.52 283.287 L1860.52 269.213 L1857.4 269.213 L1857.4 265.903 L1860.52 265.903 L1860.52 258.542 L1864.8 258.542 Z\" fill=\"#000000\" fill-rule=\"evenodd\" fill-opacity=\"1\" /><path clip-path=\"url(#clip490)\" d=\"M 0 0 M1888.09 268.889 Q1884.66 268.889 1882.67 271.574 Q1880.68 274.236 1880.68 278.889 Q1880.68 283.542 1882.65 286.227 Q1884.64 288.889 1888.09 288.889 Q1891.49 288.889 1893.48 286.204 Q1895.47 283.518 1895.47 278.889 Q1895.47 274.282 1893.48 271.597 Q1891.49 268.889 1888.09 268.889 M1888.09 265.278 Q1893.65 265.278 1896.82 268.889 Q1899.99 272.5 1899.99 278.889 Q1899.99 285.255 1896.82 288.889 Q1893.65 292.5 1888.09 292.5 Q1882.51 292.5 1879.34 288.889 Q1876.19 285.255 1876.19 278.889 Q1876.19 272.5 1879.34 268.889 Q1882.51 265.278 1888.09 265.278 Z\" fill=\"#000000\" fill-rule=\"evenodd\" fill-opacity=\"1\" /><path clip-path=\"url(#clip490)\" d=\"M 0 0 M1916.58 253.75 L1921.19 253.75 L1913.65 262.454 L1910.1 262.454 L1916.58 253.75 M1920.98 266.667 L1920.98 270.694 Q1919.18 269.769 1917.23 269.306 Q1915.29 268.843 1913.21 268.843 Q1910.03 268.843 1908.44 269.815 Q1906.86 270.787 1906.86 272.731 Q1906.86 274.213 1908 275.069 Q1909.13 275.903 1912.56 276.667 L1914.02 276.991 Q1918.55 277.963 1920.45 279.745 Q1922.37 281.505 1922.37 284.676 Q1922.37 288.287 1919.5 290.393 Q1916.65 292.5 1911.65 292.5 Q1909.57 292.5 1907.3 292.083 Q1905.06 291.69 1902.56 290.88 L1902.56 286.481 Q1904.92 287.708 1907.21 288.333 Q1909.5 288.935 1911.75 288.935 Q1914.76 288.935 1916.38 287.917 Q1918 286.875 1918 285 Q1918 283.264 1916.82 282.338 Q1915.66 281.412 1911.7 280.556 L1910.22 280.208 Q1906.26 279.375 1904.5 277.662 Q1902.74 275.926 1902.74 272.917 Q1902.74 269.259 1905.34 267.269 Q1907.93 265.278 1912.7 265.278 Q1915.06 265.278 1917.14 265.625 Q1919.22 265.972 1920.98 266.667 Z\" fill=\"#000000\" fill-rule=\"evenodd\" fill-opacity=\"1\" /><path clip-path=\"url(#clip490)\" d=\"M 0 0 M1945.5 266.898 L1945.5 270.88 Q1943.69 269.884 1941.86 269.398 Q1940.06 268.889 1938.21 268.889 Q1934.06 268.889 1931.77 271.528 Q1929.48 274.144 1929.48 278.889 Q1929.48 283.634 1931.77 286.273 Q1934.06 288.889 1938.21 288.889 Q1940.06 288.889 1941.86 288.403 Q1943.69 287.893 1945.5 286.898 L1945.5 290.833 Q1943.71 291.667 1941.79 292.083 Q1939.9 292.5 1937.74 292.5 Q1931.89 292.5 1928.44 288.819 Q1924.99 285.139 1924.99 278.889 Q1924.99 272.546 1928.46 268.912 Q1931.96 265.278 1938.02 265.278 Q1939.99 265.278 1941.86 265.695 Q1943.74 266.088 1945.5 266.898 Z\" fill=\"#000000\" fill-rule=\"evenodd\" fill-opacity=\"1\" /><path clip-path=\"url(#clip490)\" d=\"M 0 0 M1949.96 265.903 L1954.22 265.903 L1954.22 291.829 L1949.96 291.829 L1949.96 265.903 M1949.96 255.81 L1954.22 255.81 L1954.22 261.204 L1949.96 261.204 L1949.96 255.81 Z\" fill=\"#000000\" fill-rule=\"evenodd\" fill-opacity=\"1\" /><path clip-path=\"url(#clip490)\" d=\"M 0 0 M1995.31 276.181 L1995.31 291.829 L1991.05 291.829 L1991.05 276.319 Q1991.05 272.639 1989.62 270.81 Q1988.18 268.982 1985.31 268.982 Q1981.86 268.982 1979.87 271.181 Q1977.88 273.38 1977.88 277.176 L1977.88 291.829 L1973.6 291.829 L1973.6 265.903 L1977.88 265.903 L1977.88 269.931 Q1979.41 267.593 1981.47 266.435 Q1983.55 265.278 1986.26 265.278 Q1990.73 265.278 1993.02 268.056 Q1995.31 270.81 1995.31 276.181 Z\" fill=\"#000000\" fill-rule=\"evenodd\" fill-opacity=\"1\" /><path clip-path=\"url(#clip490)\" d=\"M 0 0 M1999.34 281.597 L1999.34 265.903 L2003.6 265.903 L2003.6 281.435 Q2003.6 285.116 2005.03 286.968 Q2006.47 288.796 2009.34 288.796 Q2012.79 288.796 2014.78 286.597 Q2016.79 284.398 2016.79 280.602 L2016.79 265.903 L2021.05 265.903 L2021.05 291.829 L2016.79 291.829 L2016.79 287.847 Q2015.24 290.208 2013.18 291.366 Q2011.14 292.5 2008.44 292.5 Q2003.97 292.5 2001.65 289.722 Q1999.34 286.944 1999.34 281.597 M2010.06 265.278 L2010.06 265.278 Z\" fill=\"#000000\" fill-rule=\"evenodd\" fill-opacity=\"1\" /><path clip-path=\"url(#clip490)\" d=\"M 0 0 M2045.7 270.88 Q2047.3 268.009 2049.52 266.644 Q2051.75 265.278 2054.76 265.278 Q2058.81 265.278 2061.01 268.125 Q2063.2 270.949 2063.2 276.181 L2063.2 291.829 L2058.92 291.829 L2058.92 276.319 Q2058.92 272.593 2057.6 270.787 Q2056.28 268.982 2053.57 268.982 Q2050.26 268.982 2048.34 271.181 Q2046.42 273.38 2046.42 277.176 L2046.42 291.829 L2042.14 291.829 L2042.14 276.319 Q2042.14 272.569 2040.82 270.787 Q2039.5 268.982 2036.75 268.982 Q2033.48 268.982 2031.56 271.204 Q2029.64 273.403 2029.64 277.176 L2029.64 291.829 L2025.36 291.829 L2025.36 265.903 L2029.64 265.903 L2029.64 269.931 Q2031.1 267.546 2033.14 266.412 Q2035.17 265.278 2037.97 265.278 Q2040.8 265.278 2042.76 266.713 Q2044.76 268.148 2045.7 270.88 Z\" fill=\"#000000\" fill-rule=\"evenodd\" fill-opacity=\"1\" /><path clip-path=\"url(#clip490)\" d=\"M 0 0 M2089.85 277.801 L2089.85 279.884 L2070.26 279.884 Q2070.54 284.282 2072.9 286.597 Q2075.29 288.889 2079.52 288.889 Q2081.98 288.889 2084.27 288.287 Q2086.58 287.685 2088.85 286.481 L2088.85 290.509 Q2086.56 291.481 2084.15 291.991 Q2081.75 292.5 2079.27 292.5 Q2073.07 292.5 2069.43 288.889 Q2065.82 285.278 2065.82 279.12 Q2065.82 272.755 2069.25 269.028 Q2072.7 265.278 2078.53 265.278 Q2083.76 265.278 2086.79 268.657 Q2089.85 272.014 2089.85 277.801 M2085.59 276.551 Q2085.54 273.056 2083.62 270.972 Q2081.72 268.889 2078.57 268.889 Q2075.01 268.889 2072.86 270.903 Q2070.73 272.917 2070.4 276.574 L2085.59 276.551 Z\" fill=\"#000000\" fill-rule=\"evenodd\" fill-opacity=\"1\" /><path clip-path=\"url(#clip490)\" d=\"M 0 0 M2109.34 269.884 Q2108.62 269.468 2107.76 269.282 Q2106.93 269.074 2105.91 269.074 Q2102.3 269.074 2100.36 271.435 Q2098.44 273.773 2098.44 278.171 L2098.44 291.829 L2094.15 291.829 L2094.15 265.903 L2098.44 265.903 L2098.44 269.931 Q2099.78 267.569 2101.93 266.435 Q2104.08 265.278 2107.16 265.278 Q2107.6 265.278 2108.13 265.347 Q2108.67 265.394 2109.32 265.509 L2109.34 269.884 Z\" fill=\"#000000\" fill-rule=\"evenodd\" fill-opacity=\"1\" /><path clip-path=\"url(#clip490)\" d=\"M 0 0 M2124.59 294.236 Q2122.79 298.866 2121.07 300.278 Q2119.36 301.69 2116.49 301.69 L2113.09 301.69 L2113.09 298.125 L2115.59 298.125 Q2117.35 298.125 2118.32 297.292 Q2119.29 296.458 2120.47 293.356 L2121.24 291.412 L2110.75 265.903 L2115.26 265.903 L2123.37 286.181 L2131.47 265.903 L2135.98 265.903 L2124.59 294.236 Z\" fill=\"#000000\" fill-rule=\"evenodd\" fill-opacity=\"1\" /><path clip-path=\"url(#clip490)\" d=\"M 0 0 M2159.11 266.898 L2159.11 270.88 Q2157.3 269.884 2155.47 269.398 Q2153.67 268.889 2151.82 268.889 Q2147.67 268.889 2145.38 271.528 Q2143.09 274.144 2143.09 278.889 Q2143.09 283.634 2145.38 286.273 Q2147.67 288.889 2151.82 288.889 Q2153.67 288.889 2155.47 288.403 Q2157.3 287.893 2159.11 286.898 L2159.11 290.833 Q2157.32 291.667 2155.4 292.083 Q2153.51 292.5 2151.35 292.5 Q2145.5 292.5 2142.05 288.819 Q2138.6 285.139 2138.6 278.889 Q2138.6 272.546 2142.07 268.912 Q2145.57 265.278 2151.63 265.278 Q2153.6 265.278 2155.47 265.695 Q2157.35 266.088 2159.11 266.898 Z\" fill=\"#000000\" fill-rule=\"evenodd\" fill-opacity=\"1\" /><path clip-path=\"url(#clip490)\" d=\"M 0 0 M2161.72 265.903 L2181.95 265.903 L2181.95 269.792 L2165.94 288.426 L2181.95 288.426 L2181.95 291.829 L2161.14 291.829 L2161.14 287.94 L2177.16 269.306 L2161.72 269.306 L2161.72 265.903 Z\" fill=\"#000000\" fill-rule=\"evenodd\" fill-opacity=\"1\" /><path clip-path=\"url(#clip490)\" d=\"M 0 0 M2207.97 276.181 L2207.97 291.829 L2203.71 291.829 L2203.71 276.319 Q2203.71 272.639 2202.28 270.81 Q2200.84 268.982 2197.97 268.982 Q2194.52 268.982 2192.53 271.181 Q2190.54 273.38 2190.54 277.176 L2190.54 291.829 L2186.26 291.829 L2186.26 265.903 L2190.54 265.903 L2190.54 269.931 Q2192.07 267.593 2194.13 266.435 Q2196.21 265.278 2198.92 265.278 Q2203.39 265.278 2205.68 268.056 Q2207.97 270.81 2207.97 276.181 Z\" fill=\"#000000\" fill-rule=\"evenodd\" fill-opacity=\"1\" /><path clip-path=\"url(#clip490)\" d=\"M 0 0 M2234.62 277.801 L2234.62 279.884 L2215.03 279.884 Q2215.31 284.282 2217.67 286.597 Q2220.06 288.889 2224.29 288.889 Q2226.75 288.889 2229.04 288.287 Q2231.35 287.685 2233.62 286.481 L2233.62 290.509 Q2231.33 291.481 2228.92 291.991 Q2226.51 292.5 2224.04 292.5 Q2217.83 292.5 2214.2 288.889 Q2210.59 285.278 2210.59 279.12 Q2210.59 272.755 2214.01 269.028 Q2217.46 265.278 2223.3 265.278 Q2228.53 265.278 2231.56 268.657 Q2234.62 272.014 2234.62 277.801 M2230.36 276.551 Q2230.31 273.056 2228.39 270.972 Q2226.49 268.889 2223.34 268.889 Q2219.78 268.889 2217.63 270.903 Q2215.5 272.917 2215.17 276.574 L2230.36 276.551 Z\" fill=\"#000000\" fill-rule=\"evenodd\" fill-opacity=\"1\" /></svg>\n"
      ]
     },
     "execution_count": 197,
     "metadata": {},
     "output_type": "execute_result"
    }
   ],
   "source": [
    "plot!(t_step, numeric, label = \"wartości numeryczne\")"
   ]
  },
  {
   "cell_type": "markdown",
   "metadata": {},
   "source": [
    "Nasz model stanowi dobre dopasowanie w stosunku to wartości mierzalnych, zarówno wyliczając jego wartości w sposób analityczny jak i numeryczny "
   ]
  },
  {
   "cell_type": "markdown",
   "metadata": {},
   "source": [
    "Możemy obliczyć $t_{\\frac{1}{2}}$"
   ]
  },
  {
   "cell_type": "code",
   "execution_count": 198,
   "metadata": {},
   "outputs": [
    {
     "data": {
      "text/plain": [
       "0.2840163934426229"
      ]
     },
     "execution_count": 198,
     "metadata": {},
     "output_type": "execute_result"
    }
   ],
   "source": [
    "tₕ= 0.693/2.44"
   ]
  },
  {
   "cell_type": "code",
   "execution_count": 199,
   "metadata": {},
   "outputs": [
    {
     "data": {
      "image/svg+xml": [
       "<?xml version=\"1.0\" encoding=\"utf-8\"?>\n",
       "<svg xmlns=\"http://www.w3.org/2000/svg\" xmlns:xlink=\"http://www.w3.org/1999/xlink\" width=\"600\" height=\"400\" viewBox=\"0 0 2400 1600\">\n",
       "<defs>\n",
       "  <clipPath id=\"clip530\">\n",
       "    <rect x=\"0\" y=\"0\" width=\"2400\" height=\"1600\"/>\n",
       "  </clipPath>\n",
       "</defs>\n",
       "<path clip-path=\"url(#clip530)\" d=\"\n",
       "M0 1600 L2400 1600 L2400 0 L0 0  Z\n",
       "  \" fill=\"#ffffff\" fill-rule=\"evenodd\" fill-opacity=\"1\"/>\n",
       "<defs>\n",
       "  <clipPath id=\"clip531\">\n",
       "    <rect x=\"480\" y=\"0\" width=\"1681\" height=\"1600\"/>\n",
       "  </clipPath>\n",
       "</defs>\n",
       "<path clip-path=\"url(#clip530)\" d=\"\n",
       "M226.232 1423.18 L2352.76 1423.18 L2352.76 47.2441 L226.232 47.2441  Z\n",
       "  \" fill=\"#ffffff\" fill-rule=\"evenodd\" fill-opacity=\"1\"/>\n",
       "<defs>\n",
       "  <clipPath id=\"clip532\">\n",
       "    <rect x=\"226\" y=\"47\" width=\"2128\" height=\"1377\"/>\n",
       "  </clipPath>\n",
       "</defs>\n",
       "<polyline clip-path=\"url(#clip532)\" style=\"stroke:#000000; stroke-width:2; stroke-opacity:0.1; fill:none\" points=\"\n",
       "  286.417,1423.18 286.417,47.2441 \n",
       "  \"/>\n",
       "<polyline clip-path=\"url(#clip532)\" style=\"stroke:#000000; stroke-width:2; stroke-opacity:0.1; fill:none\" points=\"\n",
       "  955.135,1423.18 955.135,47.2441 \n",
       "  \"/>\n",
       "<polyline clip-path=\"url(#clip532)\" style=\"stroke:#000000; stroke-width:2; stroke-opacity:0.1; fill:none\" points=\"\n",
       "  1623.85,1423.18 1623.85,47.2441 \n",
       "  \"/>\n",
       "<polyline clip-path=\"url(#clip532)\" style=\"stroke:#000000; stroke-width:2; stroke-opacity:0.1; fill:none\" points=\"\n",
       "  2292.57,1423.18 2292.57,47.2441 \n",
       "  \"/>\n",
       "<polyline clip-path=\"url(#clip530)\" style=\"stroke:#000000; stroke-width:4; stroke-opacity:1; fill:none\" points=\"\n",
       "  226.232,1423.18 2352.76,1423.18 \n",
       "  \"/>\n",
       "<polyline clip-path=\"url(#clip530)\" style=\"stroke:#000000; stroke-width:4; stroke-opacity:1; fill:none\" points=\"\n",
       "  286.417,1423.18 286.417,1406.67 \n",
       "  \"/>\n",
       "<polyline clip-path=\"url(#clip530)\" style=\"stroke:#000000; stroke-width:4; stroke-opacity:1; fill:none\" points=\"\n",
       "  955.135,1423.18 955.135,1406.67 \n",
       "  \"/>\n",
       "<polyline clip-path=\"url(#clip530)\" style=\"stroke:#000000; stroke-width:4; stroke-opacity:1; fill:none\" points=\"\n",
       "  1623.85,1423.18 1623.85,1406.67 \n",
       "  \"/>\n",
       "<polyline clip-path=\"url(#clip530)\" style=\"stroke:#000000; stroke-width:4; stroke-opacity:1; fill:none\" points=\"\n",
       "  2292.57,1423.18 2292.57,1406.67 \n",
       "  \"/>\n",
       "<path clip-path=\"url(#clip530)\" d=\"M 0 0 M267.933 1452.37 Q264.322 1452.37 262.493 1455.94 Q260.688 1459.48 260.688 1466.61 Q260.688 1473.71 262.493 1477.28 Q264.322 1480.82 267.933 1480.82 Q271.567 1480.82 273.373 1477.28 Q275.201 1473.71 275.201 1466.61 Q275.201 1459.48 273.373 1455.94 Q271.567 1452.37 267.933 1452.37 M267.933 1448.67 Q273.743 1448.67 276.799 1453.27 Q279.877 1457.86 279.877 1466.61 Q279.877 1475.33 276.799 1479.94 Q273.743 1484.52 267.933 1484.52 Q262.123 1484.52 259.044 1479.94 Q255.989 1475.33 255.989 1466.61 Q255.989 1457.86 259.044 1453.27 Q262.123 1448.67 267.933 1448.67 Z\" fill=\"#000000\" fill-rule=\"evenodd\" fill-opacity=\"1\" /><path clip-path=\"url(#clip530)\" d=\"M 0 0 M284.947 1477.97 L289.831 1477.97 L289.831 1483.85 L284.947 1483.85 L284.947 1477.97 Z\" fill=\"#000000\" fill-rule=\"evenodd\" fill-opacity=\"1\" /><path clip-path=\"url(#clip530)\" d=\"M 0 0 M304.9 1452.37 Q301.289 1452.37 299.461 1455.94 Q297.655 1459.48 297.655 1466.61 Q297.655 1473.71 299.461 1477.28 Q301.289 1480.82 304.9 1480.82 Q308.535 1480.82 310.34 1477.28 Q312.169 1473.71 312.169 1466.61 Q312.169 1459.48 310.34 1455.94 Q308.535 1452.37 304.9 1452.37 M304.9 1448.67 Q310.71 1448.67 313.766 1453.27 Q316.845 1457.86 316.845 1466.61 Q316.845 1475.33 313.766 1479.94 Q310.71 1484.52 304.9 1484.52 Q299.09 1484.52 296.011 1479.94 Q292.956 1475.33 292.956 1466.61 Q292.956 1457.86 296.011 1453.27 Q299.09 1448.67 304.9 1448.67 Z\" fill=\"#000000\" fill-rule=\"evenodd\" fill-opacity=\"1\" /><path clip-path=\"url(#clip530)\" d=\"M 0 0 M937.149 1452.37 Q933.538 1452.37 931.709 1455.94 Q929.903 1459.48 929.903 1466.61 Q929.903 1473.71 931.709 1477.28 Q933.538 1480.82 937.149 1480.82 Q940.783 1480.82 942.589 1477.28 Q944.417 1473.71 944.417 1466.61 Q944.417 1459.48 942.589 1455.94 Q940.783 1452.37 937.149 1452.37 M937.149 1448.67 Q942.959 1448.67 946.015 1453.27 Q949.093 1457.86 949.093 1466.61 Q949.093 1475.33 946.015 1479.94 Q942.959 1484.52 937.149 1484.52 Q931.339 1484.52 928.26 1479.94 Q925.204 1475.33 925.204 1466.61 Q925.204 1457.86 928.26 1453.27 Q931.339 1448.67 937.149 1448.67 Z\" fill=\"#000000\" fill-rule=\"evenodd\" fill-opacity=\"1\" /><path clip-path=\"url(#clip530)\" d=\"M 0 0 M954.163 1477.97 L959.047 1477.97 L959.047 1483.85 L954.163 1483.85 L954.163 1477.97 Z\" fill=\"#000000\" fill-rule=\"evenodd\" fill-opacity=\"1\" /><path clip-path=\"url(#clip530)\" d=\"M 0 0 M964.163 1449.29 L982.519 1449.29 L982.519 1453.23 L968.445 1453.23 L968.445 1461.7 Q969.463 1461.35 970.482 1461.19 Q971.5 1461 972.519 1461 Q978.306 1461 981.686 1464.18 Q985.065 1467.35 985.065 1472.76 Q985.065 1478.34 981.593 1481.44 Q978.121 1484.52 971.801 1484.52 Q969.625 1484.52 967.357 1484.15 Q965.112 1483.78 962.704 1483.04 L962.704 1478.34 Q964.788 1479.48 967.01 1480.03 Q969.232 1480.59 971.709 1480.59 Q975.713 1480.59 978.051 1478.48 Q980.389 1476.38 980.389 1472.76 Q980.389 1469.15 978.051 1467.05 Q975.713 1464.94 971.709 1464.94 Q969.834 1464.94 967.959 1465.36 Q966.107 1465.77 964.163 1466.65 L964.163 1449.29 Z\" fill=\"#000000\" fill-rule=\"evenodd\" fill-opacity=\"1\" /><path clip-path=\"url(#clip530)\" d=\"M 0 0 M1595.75 1479.92 L1603.39 1479.92 L1603.39 1453.55 L1595.08 1455.22 L1595.08 1450.96 L1603.34 1449.29 L1608.02 1449.29 L1608.02 1479.92 L1615.66 1479.92 L1615.66 1483.85 L1595.75 1483.85 L1595.75 1479.92 Z\" fill=\"#000000\" fill-rule=\"evenodd\" fill-opacity=\"1\" /><path clip-path=\"url(#clip530)\" d=\"M 0 0 M1620.73 1477.97 L1625.61 1477.97 L1625.61 1483.85 L1620.73 1483.85 L1620.73 1477.97 Z\" fill=\"#000000\" fill-rule=\"evenodd\" fill-opacity=\"1\" /><path clip-path=\"url(#clip530)\" d=\"M 0 0 M1640.68 1452.37 Q1637.07 1452.37 1635.24 1455.94 Q1633.44 1459.48 1633.44 1466.61 Q1633.44 1473.71 1635.24 1477.28 Q1637.07 1480.82 1640.68 1480.82 Q1644.32 1480.82 1646.12 1477.28 Q1647.95 1473.71 1647.95 1466.61 Q1647.95 1459.48 1646.12 1455.94 Q1644.32 1452.37 1640.68 1452.37 M1640.68 1448.67 Q1646.49 1448.67 1649.55 1453.27 Q1652.63 1457.86 1652.63 1466.61 Q1652.63 1475.33 1649.55 1479.94 Q1646.49 1484.52 1640.68 1484.52 Q1634.87 1484.52 1631.79 1479.94 Q1628.74 1475.33 1628.74 1466.61 Q1628.74 1457.86 1631.79 1453.27 Q1634.87 1448.67 1640.68 1448.67 Z\" fill=\"#000000\" fill-rule=\"evenodd\" fill-opacity=\"1\" /><path clip-path=\"url(#clip530)\" d=\"M 0 0 M2264.97 1479.92 L2272.61 1479.92 L2272.61 1453.55 L2264.3 1455.22 L2264.3 1450.96 L2272.56 1449.29 L2277.24 1449.29 L2277.24 1479.92 L2284.87 1479.92 L2284.87 1483.85 L2264.97 1483.85 L2264.97 1479.92 Z\" fill=\"#000000\" fill-rule=\"evenodd\" fill-opacity=\"1\" /><path clip-path=\"url(#clip530)\" d=\"M 0 0 M2289.94 1477.97 L2294.83 1477.97 L2294.83 1483.85 L2289.94 1483.85 L2289.94 1477.97 Z\" fill=\"#000000\" fill-rule=\"evenodd\" fill-opacity=\"1\" /><path clip-path=\"url(#clip530)\" d=\"M 0 0 M2299.94 1449.29 L2318.3 1449.29 L2318.3 1453.23 L2304.23 1453.23 L2304.23 1461.7 Q2305.24 1461.35 2306.26 1461.19 Q2307.28 1461 2308.3 1461 Q2314.09 1461 2317.47 1464.18 Q2320.85 1467.35 2320.85 1472.76 Q2320.85 1478.34 2317.37 1481.44 Q2313.9 1484.52 2307.58 1484.52 Q2305.41 1484.52 2303.14 1484.15 Q2300.89 1483.78 2298.49 1483.04 L2298.49 1478.34 Q2300.57 1479.48 2302.79 1480.03 Q2305.01 1480.59 2307.49 1480.59 Q2311.49 1480.59 2313.83 1478.48 Q2316.17 1476.38 2316.17 1472.76 Q2316.17 1469.15 2313.83 1467.05 Q2311.49 1464.94 2307.49 1464.94 Q2305.62 1464.94 2303.74 1465.36 Q2301.89 1465.77 2299.94 1466.65 L2299.94 1449.29 Z\" fill=\"#000000\" fill-rule=\"evenodd\" fill-opacity=\"1\" /><path clip-path=\"url(#clip530)\" d=\"M 0 0 M1240.84 1522.27 L1240.84 1532.4 L1252.91 1532.4 L1252.91 1536.95 L1240.84 1536.95 L1240.84 1556.3 Q1240.84 1560.66 1242.02 1561.9 Q1243.23 1563.14 1246.89 1563.14 L1252.91 1563.14 L1252.91 1568.04 L1246.89 1568.04 Q1240.11 1568.04 1237.53 1565.53 Q1234.96 1562.98 1234.96 1556.3 L1234.96 1536.95 L1230.66 1536.95 L1230.66 1532.4 L1234.96 1532.4 L1234.96 1522.27 L1240.84 1522.27 Z\" fill=\"#000000\" fill-rule=\"evenodd\" fill-opacity=\"1\" /><path clip-path=\"url(#clip530)\" d=\"M 0 0 M1279.23 1518.52 L1292.72 1518.52 L1292.72 1523.07 L1285.09 1523.07 L1285.09 1572.09 L1292.72 1572.09 L1292.72 1576.64 L1279.23 1576.64 L1279.23 1518.52 Z\" fill=\"#000000\" fill-rule=\"evenodd\" fill-opacity=\"1\" /><path clip-path=\"url(#clip530)\" d=\"M 0 0 M1328.5 1546.53 L1328.5 1568.04 L1322.64 1568.04 L1322.64 1546.72 Q1322.64 1541.66 1320.67 1539.14 Q1318.7 1536.63 1314.75 1536.63 Q1310.01 1536.63 1307.27 1539.65 Q1304.53 1542.68 1304.53 1547.9 L1304.53 1568.04 L1298.64 1568.04 L1298.64 1518.52 L1304.53 1518.52 L1304.53 1537.93 Q1306.63 1534.72 1309.47 1533.13 Q1312.33 1531.54 1316.05 1531.54 Q1322.2 1531.54 1325.35 1535.36 Q1328.5 1539.14 1328.5 1546.53 Z\" fill=\"#000000\" fill-rule=\"evenodd\" fill-opacity=\"1\" /><path clip-path=\"url(#clip530)\" d=\"M 0 0 M1348.33 1518.52 L1348.33 1576.64 L1334.83 1576.64 L1334.83 1572.09 L1342.44 1572.09 L1342.44 1523.07 L1334.83 1523.07 L1334.83 1518.52 L1348.33 1518.52 Z\" fill=\"#000000\" fill-rule=\"evenodd\" fill-opacity=\"1\" /><polyline clip-path=\"url(#clip532)\" style=\"stroke:#000000; stroke-width:2; stroke-opacity:0.1; fill:none\" points=\"\n",
       "  226.232,1418.52 2352.76,1418.52 \n",
       "  \"/>\n",
       "<polyline clip-path=\"url(#clip532)\" style=\"stroke:#000000; stroke-width:2; stroke-opacity:0.1; fill:none\" points=\"\n",
       "  226.232,1141.64 2352.76,1141.64 \n",
       "  \"/>\n",
       "<polyline clip-path=\"url(#clip532)\" style=\"stroke:#000000; stroke-width:2; stroke-opacity:0.1; fill:none\" points=\"\n",
       "  226.232,864.767 2352.76,864.767 \n",
       "  \"/>\n",
       "<polyline clip-path=\"url(#clip532)\" style=\"stroke:#000000; stroke-width:2; stroke-opacity:0.1; fill:none\" points=\"\n",
       "  226.232,587.889 2352.76,587.889 \n",
       "  \"/>\n",
       "<polyline clip-path=\"url(#clip532)\" style=\"stroke:#000000; stroke-width:2; stroke-opacity:0.1; fill:none\" points=\"\n",
       "  226.232,311.011 2352.76,311.011 \n",
       "  \"/>\n",
       "<polyline clip-path=\"url(#clip530)\" style=\"stroke:#000000; stroke-width:4; stroke-opacity:1; fill:none\" points=\"\n",
       "  226.232,1423.18 226.232,47.2441 \n",
       "  \"/>\n",
       "<polyline clip-path=\"url(#clip530)\" style=\"stroke:#000000; stroke-width:4; stroke-opacity:1; fill:none\" points=\"\n",
       "  226.232,1418.52 251.75,1418.52 \n",
       "  \"/>\n",
       "<polyline clip-path=\"url(#clip530)\" style=\"stroke:#000000; stroke-width:4; stroke-opacity:1; fill:none\" points=\"\n",
       "  226.232,1141.64 251.75,1141.64 \n",
       "  \"/>\n",
       "<polyline clip-path=\"url(#clip530)\" style=\"stroke:#000000; stroke-width:4; stroke-opacity:1; fill:none\" points=\"\n",
       "  226.232,864.767 251.75,864.767 \n",
       "  \"/>\n",
       "<polyline clip-path=\"url(#clip530)\" style=\"stroke:#000000; stroke-width:4; stroke-opacity:1; fill:none\" points=\"\n",
       "  226.232,587.889 251.75,587.889 \n",
       "  \"/>\n",
       "<polyline clip-path=\"url(#clip530)\" style=\"stroke:#000000; stroke-width:4; stroke-opacity:1; fill:none\" points=\"\n",
       "  226.232,311.011 251.75,311.011 \n",
       "  \"/>\n",
       "<path clip-path=\"url(#clip530)\" d=\"M 0 0 M178.288 1404.32 Q174.677 1404.32 172.848 1407.89 Q171.042 1411.43 171.042 1418.56 Q171.042 1425.66 172.848 1429.23 Q174.677 1432.77 178.288 1432.77 Q181.922 1432.77 183.727 1429.23 Q185.556 1425.66 185.556 1418.56 Q185.556 1411.43 183.727 1407.89 Q181.922 1404.32 178.288 1404.32 M178.288 1400.62 Q184.098 1400.62 187.153 1405.22 Q190.232 1409.81 190.232 1418.56 Q190.232 1427.28 187.153 1431.89 Q184.098 1436.47 178.288 1436.47 Q172.477 1436.47 169.399 1431.89 Q166.343 1427.28 166.343 1418.56 Q166.343 1409.81 169.399 1405.22 Q172.477 1400.62 178.288 1400.62 Z\" fill=\"#000000\" fill-rule=\"evenodd\" fill-opacity=\"1\" /><path clip-path=\"url(#clip530)\" d=\"M 0 0 M142.316 1124.36 L160.672 1124.36 L160.672 1128.3 L146.598 1128.3 L146.598 1136.77 Q147.616 1136.42 148.635 1136.26 Q149.653 1136.08 150.672 1136.08 Q156.459 1136.08 159.839 1139.25 Q163.218 1142.42 163.218 1147.84 Q163.218 1153.42 159.746 1156.52 Q156.274 1159.6 149.954 1159.6 Q147.778 1159.6 145.51 1159.23 Q143.265 1158.86 140.857 1158.11 L140.857 1153.42 Q142.941 1154.55 145.163 1155.11 Q147.385 1155.66 149.862 1155.66 Q153.866 1155.66 156.204 1153.55 Q158.542 1151.45 158.542 1147.84 Q158.542 1144.23 156.204 1142.12 Q153.866 1140.01 149.862 1140.01 Q147.987 1140.01 146.112 1140.43 Q144.26 1140.85 142.316 1141.73 L142.316 1124.36 Z\" fill=\"#000000\" fill-rule=\"evenodd\" fill-opacity=\"1\" /><path clip-path=\"url(#clip530)\" d=\"M 0 0 M178.288 1127.44 Q174.677 1127.44 172.848 1131.01 Q171.042 1134.55 171.042 1141.68 Q171.042 1148.79 172.848 1152.35 Q174.677 1155.89 178.288 1155.89 Q181.922 1155.89 183.727 1152.35 Q185.556 1148.79 185.556 1141.68 Q185.556 1134.55 183.727 1131.01 Q181.922 1127.44 178.288 1127.44 M178.288 1123.74 Q184.098 1123.74 187.153 1128.35 Q190.232 1132.93 190.232 1141.68 Q190.232 1150.41 187.153 1155.01 Q184.098 1159.6 178.288 1159.6 Q172.477 1159.6 169.399 1155.01 Q166.343 1150.41 166.343 1141.68 Q166.343 1132.93 169.399 1128.35 Q172.477 1123.74 178.288 1123.74 Z\" fill=\"#000000\" fill-rule=\"evenodd\" fill-opacity=\"1\" /><path clip-path=\"url(#clip530)\" d=\"M 0 0 M116.297 878.111 L123.936 878.111 L123.936 851.746 L115.626 853.413 L115.626 849.153 L123.89 847.487 L128.566 847.487 L128.566 878.111 L136.204 878.111 L136.204 882.047 L116.297 882.047 L116.297 878.111 Z\" fill=\"#000000\" fill-rule=\"evenodd\" fill-opacity=\"1\" /><path clip-path=\"url(#clip530)\" d=\"M 0 0 M151.274 850.565 Q147.663 850.565 145.834 854.13 Q144.029 857.672 144.029 864.801 Q144.029 871.908 145.834 875.473 Q147.663 879.014 151.274 879.014 Q154.908 879.014 156.714 875.473 Q158.542 871.908 158.542 864.801 Q158.542 857.672 156.714 854.13 Q154.908 850.565 151.274 850.565 M151.274 846.862 Q157.084 846.862 160.14 851.468 Q163.218 856.051 163.218 864.801 Q163.218 873.528 160.14 878.135 Q157.084 882.718 151.274 882.718 Q145.464 882.718 142.385 878.135 Q139.329 873.528 139.329 864.801 Q139.329 856.051 142.385 851.468 Q145.464 846.862 151.274 846.862 Z\" fill=\"#000000\" fill-rule=\"evenodd\" fill-opacity=\"1\" /><path clip-path=\"url(#clip530)\" d=\"M 0 0 M178.288 850.565 Q174.677 850.565 172.848 854.13 Q171.042 857.672 171.042 864.801 Q171.042 871.908 172.848 875.473 Q174.677 879.014 178.288 879.014 Q181.922 879.014 183.727 875.473 Q185.556 871.908 185.556 864.801 Q185.556 857.672 183.727 854.13 Q181.922 850.565 178.288 850.565 M178.288 846.862 Q184.098 846.862 187.153 851.468 Q190.232 856.051 190.232 864.801 Q190.232 873.528 187.153 878.135 Q184.098 882.718 178.288 882.718 Q172.477 882.718 169.399 878.135 Q166.343 873.528 166.343 864.801 Q166.343 856.051 169.399 851.468 Q172.477 846.862 178.288 846.862 Z\" fill=\"#000000\" fill-rule=\"evenodd\" fill-opacity=\"1\" /><path clip-path=\"url(#clip530)\" d=\"M 0 0 M117.293 601.233 L124.931 601.233 L124.931 574.868 L116.621 576.535 L116.621 572.275 L124.885 570.609 L129.561 570.609 L129.561 601.233 L137.2 601.233 L137.2 605.169 L117.293 605.169 L117.293 601.233 Z\" fill=\"#000000\" fill-rule=\"evenodd\" fill-opacity=\"1\" /><path clip-path=\"url(#clip530)\" d=\"M 0 0 M142.316 570.609 L160.672 570.609 L160.672 574.544 L146.598 574.544 L146.598 583.016 Q147.616 582.669 148.635 582.507 Q149.653 582.322 150.672 582.322 Q156.459 582.322 159.839 585.493 Q163.218 588.664 163.218 594.081 Q163.218 599.659 159.746 602.761 Q156.274 605.84 149.954 605.84 Q147.778 605.84 145.51 605.47 Q143.265 605.099 140.857 604.358 L140.857 599.659 Q142.941 600.794 145.163 601.349 Q147.385 601.905 149.862 601.905 Q153.866 601.905 156.204 599.798 Q158.542 597.692 158.542 594.081 Q158.542 590.47 156.204 588.363 Q153.866 586.257 149.862 586.257 Q147.987 586.257 146.112 586.673 Q144.26 587.09 142.316 587.97 L142.316 570.609 Z\" fill=\"#000000\" fill-rule=\"evenodd\" fill-opacity=\"1\" /><path clip-path=\"url(#clip530)\" d=\"M 0 0 M178.288 573.687 Q174.677 573.687 172.848 577.252 Q171.042 580.794 171.042 587.923 Q171.042 595.03 172.848 598.595 Q174.677 602.136 178.288 602.136 Q181.922 602.136 183.727 598.595 Q185.556 595.03 185.556 587.923 Q185.556 580.794 183.727 577.252 Q181.922 573.687 178.288 573.687 M178.288 569.984 Q184.098 569.984 187.153 574.59 Q190.232 579.173 190.232 587.923 Q190.232 596.65 187.153 601.257 Q184.098 605.84 178.288 605.84 Q172.477 605.84 169.399 601.257 Q166.343 596.65 166.343 587.923 Q166.343 579.173 169.399 574.59 Q172.477 569.984 178.288 569.984 Z\" fill=\"#000000\" fill-rule=\"evenodd\" fill-opacity=\"1\" /><path clip-path=\"url(#clip530)\" d=\"M 0 0 M119.885 324.355 L136.204 324.355 L136.204 328.291 L114.26 328.291 L114.26 324.355 Q116.922 321.601 121.505 316.971 Q126.112 312.318 127.292 310.976 Q129.538 308.453 130.417 306.717 Q131.32 304.957 131.32 303.268 Q131.32 300.513 129.376 298.777 Q127.455 297.041 124.353 297.041 Q122.154 297.041 119.7 297.805 Q117.269 298.569 114.492 300.119 L114.492 295.397 Q117.316 294.263 119.769 293.684 Q122.223 293.106 124.26 293.106 Q129.63 293.106 132.825 295.791 Q136.019 298.476 136.019 302.967 Q136.019 305.096 135.209 307.018 Q134.422 308.916 132.316 311.508 Q131.737 312.18 128.635 315.397 Q125.533 318.592 119.885 324.355 Z\" fill=\"#000000\" fill-rule=\"evenodd\" fill-opacity=\"1\" /><path clip-path=\"url(#clip530)\" d=\"M 0 0 M151.274 296.809 Q147.663 296.809 145.834 300.374 Q144.029 303.916 144.029 311.045 Q144.029 318.152 145.834 321.717 Q147.663 325.258 151.274 325.258 Q154.908 325.258 156.714 321.717 Q158.542 318.152 158.542 311.045 Q158.542 303.916 156.714 300.374 Q154.908 296.809 151.274 296.809 M151.274 293.106 Q157.084 293.106 160.14 297.712 Q163.218 302.295 163.218 311.045 Q163.218 319.772 160.14 324.379 Q157.084 328.962 151.274 328.962 Q145.464 328.962 142.385 324.379 Q139.329 319.772 139.329 311.045 Q139.329 302.295 142.385 297.712 Q145.464 293.106 151.274 293.106 Z\" fill=\"#000000\" fill-rule=\"evenodd\" fill-opacity=\"1\" /><path clip-path=\"url(#clip530)\" d=\"M 0 0 M178.288 296.809 Q174.677 296.809 172.848 300.374 Q171.042 303.916 171.042 311.045 Q171.042 318.152 172.848 321.717 Q174.677 325.258 178.288 325.258 Q181.922 325.258 183.727 321.717 Q185.556 318.152 185.556 311.045 Q185.556 303.916 183.727 300.374 Q181.922 296.809 178.288 296.809 M178.288 293.106 Q184.098 293.106 187.153 297.712 Q190.232 302.295 190.232 311.045 Q190.232 319.772 187.153 324.379 Q184.098 328.962 178.288 328.962 Q172.477 328.962 169.399 324.379 Q166.343 319.772 166.343 311.045 Q166.343 302.295 169.399 297.712 Q172.477 293.106 178.288 293.106 Z\" fill=\"#000000\" fill-rule=\"evenodd\" fill-opacity=\"1\" /><path clip-path=\"url(#clip530)\" d=\"M 0 0 M20.1444 809.563 L26.9239 809.563 Q23.9002 812.81 22.4043 816.502 Q20.9083 820.162 20.9083 824.3 Q20.9083 832.448 25.9054 836.777 Q30.8707 841.105 40.2919 841.105 Q49.6813 841.105 54.6784 836.777 Q59.6436 832.448 59.6436 824.3 Q59.6436 820.162 58.1477 816.502 Q56.6518 812.81 53.6281 809.563 L60.3439 809.563 Q62.6355 812.937 63.7814 816.725 Q64.9272 820.481 64.9272 824.682 Q64.9272 835.472 58.3387 841.678 Q51.7183 847.885 40.2919 847.885 Q28.8336 847.885 22.2451 841.678 Q15.6248 835.472 15.6248 824.682 Q15.6248 820.417 16.7706 816.661 Q17.8846 812.874 20.1444 809.563 Z\" fill=\"#000000\" fill-rule=\"evenodd\" fill-opacity=\"1\" /><path clip-path=\"url(#clip530)\" d=\"M 0 0 M14.479 783.241 L14.479 769.746 L19.0304 769.746 L19.0304 777.385 L68.0464 777.385 L68.0464 769.746 L72.5979 769.746 L72.5979 783.241 L14.479 783.241 Z\" fill=\"#000000\" fill-rule=\"evenodd\" fill-opacity=\"1\" /><path clip-path=\"url(#clip530)\" d=\"M 0 0 M35.1993 735.849 Q31.2526 733.652 29.3747 730.597 Q27.4968 727.541 27.4968 723.404 Q27.4968 717.834 31.4117 714.81 Q35.2948 711.786 42.4881 711.786 L64.0042 711.786 L64.0042 717.674 L42.679 717.674 Q37.5546 717.674 35.072 719.489 Q32.5894 721.303 32.5894 725.027 Q32.5894 729.578 35.6131 732.22 Q38.6368 734.862 43.8567 734.862 L64.0042 734.862 L64.0042 740.75 L42.679 740.75 Q37.5228 740.75 35.072 742.564 Q32.5894 744.379 32.5894 748.166 Q32.5894 752.654 35.6449 755.296 Q38.6686 757.938 43.8567 757.938 L64.0042 757.938 L64.0042 763.826 L28.3562 763.826 L28.3562 757.938 L33.8944 757.938 Q30.616 755.932 29.0564 753.131 Q27.4968 750.331 27.4968 746.479 Q27.4968 742.596 29.4702 739.891 Q31.4436 737.154 35.1993 735.849 Z\" fill=\"#000000\" fill-rule=\"evenodd\" fill-opacity=\"1\" /><path clip-path=\"url(#clip530)\" d=\"M 0 0 M45.7664 682.186 Q39.4007 682.186 35.8996 684.827 Q32.3984 687.437 32.3984 692.18 Q32.3984 696.89 35.8996 699.532 Q39.4007 702.142 45.7664 702.142 Q52.1003 702.142 55.6014 699.532 Q59.1026 696.89 59.1026 692.18 Q59.1026 687.437 55.6014 684.827 Q52.1003 682.186 45.7664 682.186 M59.58 676.329 Q68.683 676.329 73.1071 680.371 Q77.5631 684.414 77.5631 692.753 Q77.5631 695.84 77.0857 698.577 Q76.6401 701.315 75.6852 703.893 L69.9879 703.893 Q71.3884 701.315 72.0568 698.8 Q72.7252 696.286 72.7252 693.676 Q72.7252 687.915 69.7015 685.05 Q66.7096 682.186 60.6303 682.186 L57.7339 682.186 Q60.885 684 62.4446 686.833 Q64.0042 689.665 64.0042 693.612 Q64.0042 700.169 59.0071 704.179 Q54.01 708.19 45.7664 708.19 Q37.491 708.19 32.4939 704.179 Q27.4968 700.169 27.4968 693.612 Q27.4968 689.665 29.0564 686.833 Q30.616 684 33.7671 682.186 L28.3562 682.186 L28.3562 676.329 L59.58 676.329 Z\" fill=\"#000000\" fill-rule=\"evenodd\" fill-opacity=\"1\" /><path clip-path=\"url(#clip530)\" d=\"M 0 0 M16.4842 659.778 L16.4842 654.367 L70.0516 670.918 L70.0516 676.329 L16.4842 659.778 Z\" fill=\"#000000\" fill-rule=\"evenodd\" fill-opacity=\"1\" /><path clip-path=\"url(#clip530)\" d=\"M 0 0 M14.479 648.225 L14.479 642.368 L64.0042 642.368 L64.0042 648.225 L14.479 648.225 Z\" fill=\"#000000\" fill-rule=\"evenodd\" fill-opacity=\"1\" /><path clip-path=\"url(#clip530)\" d=\"M 0 0 M14.479 622.539 L72.5979 622.539 L72.5979 636.034 L68.0464 636.034 L68.0464 628.427 L19.0304 628.427 L19.0304 636.034 L14.479 636.034 L14.479 622.539 Z\" fill=\"#000000\" fill-rule=\"evenodd\" fill-opacity=\"1\" /><circle clip-path=\"url(#clip532)\" cx=\"286.417\" cy=\"86.1857\" r=\"14\" fill=\"#da70d6\" fill-rule=\"evenodd\" fill-opacity=\"1\" stroke=\"#000000\" stroke-opacity=\"1\" stroke-width=\"3.2\"/>\n",
       "<circle clip-path=\"url(#clip532)\" cx=\"397.424\" cy=\"211.888\" r=\"14\" fill=\"#da70d6\" fill-rule=\"evenodd\" fill-opacity=\"1\" stroke=\"#000000\" stroke-opacity=\"1\" stroke-width=\"3.2\"/>\n",
       "<circle clip-path=\"url(#clip532)\" cx=\"509.768\" cy=\"481.014\" r=\"14\" fill=\"#da70d6\" fill-rule=\"evenodd\" fill-opacity=\"1\" stroke=\"#000000\" stroke-opacity=\"1\" stroke-width=\"3.2\"/>\n",
       "<circle clip-path=\"url(#clip532)\" cx=\"620.776\" cy=\"760.107\" r=\"14\" fill=\"#da70d6\" fill-rule=\"evenodd\" fill-opacity=\"1\" stroke=\"#000000\" stroke-opacity=\"1\" stroke-width=\"3.2\"/>\n",
       "<circle clip-path=\"url(#clip532)\" cx=\"777.256\" cy=\"848.708\" r=\"14\" fill=\"#da70d6\" fill-rule=\"evenodd\" fill-opacity=\"1\" stroke=\"#000000\" stroke-opacity=\"1\" stroke-width=\"3.2\"/>\n",
       "<circle clip-path=\"url(#clip532)\" cx=\"999.27\" cy=\"1004.87\" r=\"14\" fill=\"#da70d6\" fill-rule=\"evenodd\" fill-opacity=\"1\" stroke=\"#000000\" stroke-opacity=\"1\" stroke-width=\"3.2\"/>\n",
       "<circle clip-path=\"url(#clip532)\" cx=\"1178.49\" cy=\"1113.4\" r=\"14\" fill=\"#da70d6\" fill-rule=\"evenodd\" fill-opacity=\"1\" stroke=\"#000000\" stroke-opacity=\"1\" stroke-width=\"3.2\"/>\n",
       "<circle clip-path=\"url(#clip532)\" cx=\"1400.5\" cy=\"1218.06\" r=\"14\" fill=\"#da70d6\" fill-rule=\"evenodd\" fill-opacity=\"1\" stroke=\"#000000\" stroke-opacity=\"1\" stroke-width=\"3.2\"/>\n",
       "<circle clip-path=\"url(#clip532)\" cx=\"1623.85\" cy=\"1292.27\" r=\"14\" fill=\"#da70d6\" fill-rule=\"evenodd\" fill-opacity=\"1\" stroke=\"#000000\" stroke-opacity=\"1\" stroke-width=\"3.2\"/>\n",
       "<circle clip-path=\"url(#clip532)\" cx=\"2065.21\" cy=\"1329.37\" r=\"14\" fill=\"#da70d6\" fill-rule=\"evenodd\" fill-opacity=\"1\" stroke=\"#000000\" stroke-opacity=\"1\" stroke-width=\"3.2\"/>\n",
       "<circle clip-path=\"url(#clip532)\" cx=\"2185.58\" cy=\"1368.13\" r=\"14\" fill=\"#da70d6\" fill-rule=\"evenodd\" fill-opacity=\"1\" stroke=\"#000000\" stroke-opacity=\"1\" stroke-width=\"3.2\"/>\n",
       "<circle clip-path=\"url(#clip532)\" cx=\"2292.57\" cy=\"1378.1\" r=\"14\" fill=\"#da70d6\" fill-rule=\"evenodd\" fill-opacity=\"1\" stroke=\"#000000\" stroke-opacity=\"1\" stroke-width=\"3.2\"/>\n",
       "<polyline clip-path=\"url(#clip532)\" style=\"stroke:#e26f46; stroke-width:4; stroke-opacity:1; fill:none\" points=\"\n",
       "  286.417,86.1857 420.16,374.653 553.904,600.664 687.648,777.74 821.391,916.478 955.135,1025.18 1088.88,1110.34 1222.62,1177.07 1356.37,1229.34 1490.11,1270.3 \n",
       "  1623.85,1302.4 1757.6,1327.54 1891.34,1347.24 2025.08,1362.67 2158.83,1374.76 2292.57,1384.24 \n",
       "  \"/>\n",
       "<polyline clip-path=\"url(#clip532)\" style=\"stroke:#3da44d; stroke-width:4; stroke-opacity:1; fill:none\" points=\"\n",
       "  286.417,86.1857 420.16,374.644 553.904,600.649 687.648,777.723 821.391,916.46 955.135,1025.16 1088.88,1110.32 1222.62,1177.05 1356.37,1229.33 1490.11,1270.29 \n",
       "  1623.85,1302.38 1757.6,1327.53 1891.34,1347.23 2025.08,1362.67 2158.83,1374.76 2292.57,1384.23 \n",
       "  \"/>\n",
       "<circle clip-path=\"url(#clip532)\" cx=\"666.27\" cy=\"752.256\" r=\"18\" fill=\"#ffff00\" fill-rule=\"evenodd\" fill-opacity=\"1\" stroke=\"#000000\" stroke-opacity=\"1\" stroke-width=\"3.2\"/>\n",
       "<path clip-path=\"url(#clip530)\" d=\"\n",
       "M1588.07 395.509 L2281.87 395.509 L2281.87 93.1086 L1588.07 93.1086  Z\n",
       "  \" fill=\"#ffffff\" fill-rule=\"evenodd\" fill-opacity=\"1\"/>\n",
       "<polyline clip-path=\"url(#clip530)\" style=\"stroke:#000000; stroke-width:4; stroke-opacity:1; fill:none\" points=\"\n",
       "  1588.07,395.509 2281.87,395.509 2281.87,93.1086 1588.07,93.1086 1588.07,395.509 \n",
       "  \"/>\n",
       "<circle clip-path=\"url(#clip530)\" cx=\"1682.58\" cy=\"153.589\" r=\"23\" fill=\"#da70d6\" fill-rule=\"evenodd\" fill-opacity=\"1\" stroke=\"#000000\" stroke-opacity=\"1\" stroke-width=\"5.12\"/>\n",
       "<path clip-path=\"url(#clip530)\" d=\"M 0 0 M1777.09 144.943 L1781.35 144.943 L1786.68 165.174 L1791.98 144.943 L1797 144.943 L1802.33 165.174 L1807.63 144.943 L1811.89 144.943 L1805.1 170.869 L1800.08 170.869 L1794.5 149.619 L1788.9 170.869 L1783.88 170.869 L1777.09 144.943 Z\" fill=\"#000000\" fill-rule=\"evenodd\" fill-opacity=\"1\" /><path clip-path=\"url(#clip530)\" d=\"M 0 0 M1828.14 157.836 Q1822.97 157.836 1820.98 159.017 Q1818.99 160.197 1818.99 163.045 Q1818.99 165.313 1820.47 166.656 Q1821.98 167.975 1824.55 167.975 Q1828.09 167.975 1830.22 165.475 Q1832.37 162.952 1832.37 158.785 L1832.37 157.836 L1828.14 157.836 M1836.63 156.077 L1836.63 170.869 L1832.37 170.869 L1832.37 166.933 Q1830.91 169.295 1828.74 170.429 Q1826.56 171.54 1823.41 171.54 Q1819.43 171.54 1817.07 169.318 Q1814.73 167.072 1814.73 163.322 Q1814.73 158.947 1817.65 156.725 Q1820.59 154.503 1826.4 154.503 L1832.37 154.503 L1832.37 154.086 Q1832.37 151.147 1830.43 149.549 Q1828.51 147.929 1825.01 147.929 Q1822.79 147.929 1820.68 148.461 Q1818.58 148.994 1816.63 150.059 L1816.63 146.123 Q1818.97 145.221 1821.17 144.781 Q1823.37 144.318 1825.45 144.318 Q1831.08 144.318 1833.85 147.234 Q1836.63 150.151 1836.63 156.077 Z\" fill=\"#000000\" fill-rule=\"evenodd\" fill-opacity=\"1\" /><path clip-path=\"url(#clip530)\" d=\"M 0 0 M1856.12 148.924 Q1855.4 148.508 1854.55 148.322 Q1853.71 148.114 1852.7 148.114 Q1849.09 148.114 1847.14 150.475 Q1845.22 152.813 1845.22 157.211 L1845.22 170.869 L1840.94 170.869 L1840.94 144.943 L1845.22 144.943 L1845.22 148.971 Q1846.56 146.609 1848.71 145.475 Q1850.87 144.318 1853.95 144.318 Q1854.39 144.318 1854.92 144.387 Q1855.45 144.434 1856.1 144.549 L1856.12 148.924 Z\" fill=\"#000000\" fill-rule=\"evenodd\" fill-opacity=\"1\" /><path clip-path=\"url(#clip530)\" d=\"M 0 0 M1864.8 137.582 L1864.8 144.943 L1873.58 144.943 L1873.58 148.253 L1864.8 148.253 L1864.8 162.327 Q1864.8 165.498 1865.66 166.401 Q1866.54 167.304 1869.2 167.304 L1873.58 167.304 L1873.58 170.869 L1869.2 170.869 Q1864.27 170.869 1862.4 169.04 Q1860.52 167.188 1860.52 162.327 L1860.52 148.253 L1857.4 148.253 L1857.4 144.943 L1860.52 144.943 L1860.52 137.582 L1864.8 137.582 Z\" fill=\"#000000\" fill-rule=\"evenodd\" fill-opacity=\"1\" /><path clip-path=\"url(#clip530)\" d=\"M 0 0 M1888.09 147.929 Q1884.66 147.929 1882.67 150.614 Q1880.68 153.276 1880.68 157.929 Q1880.68 162.582 1882.65 165.267 Q1884.64 167.929 1888.09 167.929 Q1891.49 167.929 1893.48 165.244 Q1895.47 162.558 1895.47 157.929 Q1895.47 153.322 1893.48 150.637 Q1891.49 147.929 1888.09 147.929 M1888.09 144.318 Q1893.65 144.318 1896.82 147.929 Q1899.99 151.54 1899.99 157.929 Q1899.99 164.295 1896.82 167.929 Q1893.65 171.54 1888.09 171.54 Q1882.51 171.54 1879.34 167.929 Q1876.19 164.295 1876.19 157.929 Q1876.19 151.54 1879.34 147.929 Q1882.51 144.318 1888.09 144.318 Z\" fill=\"#000000\" fill-rule=\"evenodd\" fill-opacity=\"1\" /><path clip-path=\"url(#clip530)\" d=\"M 0 0 M1916.58 132.79 L1921.19 132.79 L1913.65 141.494 L1910.1 141.494 L1916.58 132.79 M1920.98 145.707 L1920.98 149.734 Q1919.18 148.809 1917.23 148.346 Q1915.29 147.883 1913.21 147.883 Q1910.03 147.883 1908.44 148.855 Q1906.86 149.827 1906.86 151.771 Q1906.86 153.253 1908 154.109 Q1909.13 154.943 1912.56 155.707 L1914.02 156.031 Q1918.55 157.003 1920.45 158.785 Q1922.37 160.545 1922.37 163.716 Q1922.37 167.327 1919.5 169.433 Q1916.65 171.54 1911.65 171.54 Q1909.57 171.54 1907.3 171.123 Q1905.06 170.73 1902.56 169.92 L1902.56 165.521 Q1904.92 166.748 1907.21 167.373 Q1909.5 167.975 1911.75 167.975 Q1914.76 167.975 1916.38 166.957 Q1918 165.915 1918 164.04 Q1918 162.304 1916.82 161.378 Q1915.66 160.452 1911.7 159.596 L1910.22 159.248 Q1906.26 158.415 1904.5 156.702 Q1902.74 154.966 1902.74 151.957 Q1902.74 148.299 1905.34 146.309 Q1907.93 144.318 1912.7 144.318 Q1915.06 144.318 1917.14 144.665 Q1919.22 145.012 1920.98 145.707 Z\" fill=\"#000000\" fill-rule=\"evenodd\" fill-opacity=\"1\" /><path clip-path=\"url(#clip530)\" d=\"M 0 0 M1945.5 145.938 L1945.5 149.92 Q1943.69 148.924 1941.86 148.438 Q1940.06 147.929 1938.21 147.929 Q1934.06 147.929 1931.77 150.568 Q1929.48 153.184 1929.48 157.929 Q1929.48 162.674 1931.77 165.313 Q1934.06 167.929 1938.21 167.929 Q1940.06 167.929 1941.86 167.443 Q1943.69 166.933 1945.5 165.938 L1945.5 169.873 Q1943.71 170.707 1941.79 171.123 Q1939.9 171.54 1937.74 171.54 Q1931.89 171.54 1928.44 167.859 Q1924.99 164.179 1924.99 157.929 Q1924.99 151.586 1928.46 147.952 Q1931.96 144.318 1938.02 144.318 Q1939.99 144.318 1941.86 144.735 Q1943.74 145.128 1945.5 145.938 Z\" fill=\"#000000\" fill-rule=\"evenodd\" fill-opacity=\"1\" /><path clip-path=\"url(#clip530)\" d=\"M 0 0 M1949.96 144.943 L1954.22 144.943 L1954.22 170.869 L1949.96 170.869 L1949.96 144.943 M1949.96 134.85 L1954.22 134.85 L1954.22 140.244 L1949.96 140.244 L1949.96 134.85 Z\" fill=\"#000000\" fill-rule=\"evenodd\" fill-opacity=\"1\" /><path clip-path=\"url(#clip530)\" d=\"M 0 0 M1993.95 149.92 Q1995.54 147.049 1997.77 145.684 Q1999.99 144.318 2003 144.318 Q2007.05 144.318 2009.25 147.165 Q2011.45 149.989 2011.45 155.221 L2011.45 170.869 L2007.16 170.869 L2007.16 155.359 Q2007.16 151.633 2005.84 149.827 Q2004.52 148.022 2001.82 148.022 Q1998.51 148.022 1996.58 150.221 Q1994.66 152.42 1994.66 156.216 L1994.66 170.869 L1990.38 170.869 L1990.38 155.359 Q1990.38 151.609 1989.06 149.827 Q1987.74 148.022 1984.99 148.022 Q1981.72 148.022 1979.8 150.244 Q1977.88 152.443 1977.88 156.216 L1977.88 170.869 L1973.6 170.869 L1973.6 144.943 L1977.88 144.943 L1977.88 148.971 Q1979.34 146.586 1981.38 145.452 Q1983.41 144.318 1986.21 144.318 Q1989.04 144.318 1991.01 145.753 Q1993 147.188 1993.95 149.92 Z\" fill=\"#000000\" fill-rule=\"evenodd\" fill-opacity=\"1\" /><path clip-path=\"url(#clip530)\" d=\"M 0 0 M2015.91 144.943 L2020.17 144.943 L2020.17 170.869 L2015.91 170.869 L2015.91 144.943 M2015.91 134.85 L2020.17 134.85 L2020.17 140.244 L2015.91 140.244 L2015.91 134.85 Z\" fill=\"#000000\" fill-rule=\"evenodd\" fill-opacity=\"1\" /><path clip-path=\"url(#clip530)\" d=\"M 0 0 M2046.82 156.841 L2046.82 158.924 L2027.23 158.924 Q2027.51 163.322 2029.87 165.637 Q2032.26 167.929 2036.49 167.929 Q2038.95 167.929 2041.24 167.327 Q2043.55 166.725 2045.82 165.521 L2045.82 169.549 Q2043.53 170.521 2041.12 171.031 Q2038.71 171.54 2036.24 171.54 Q2030.03 171.54 2026.4 167.929 Q2022.79 164.318 2022.79 158.16 Q2022.79 151.795 2026.21 148.068 Q2029.66 144.318 2035.5 144.318 Q2040.73 144.318 2043.76 147.697 Q2046.82 151.054 2046.82 156.841 M2042.56 155.591 Q2042.51 152.096 2040.59 150.012 Q2038.69 147.929 2035.54 147.929 Q2031.98 147.929 2029.83 149.943 Q2027.7 151.957 2027.37 155.614 L2042.56 155.591 Z\" fill=\"#000000\" fill-rule=\"evenodd\" fill-opacity=\"1\" /><path clip-path=\"url(#clip530)\" d=\"M 0 0 M2066.31 148.924 Q2065.59 148.508 2064.73 148.322 Q2063.9 148.114 2062.88 148.114 Q2059.27 148.114 2057.32 150.475 Q2055.4 152.813 2055.4 157.211 L2055.4 170.869 L2051.12 170.869 L2051.12 144.943 L2055.4 144.943 L2055.4 148.971 Q2056.75 146.609 2058.9 145.475 Q2061.05 144.318 2064.13 144.318 Q2064.57 144.318 2065.1 144.387 Q2065.64 144.434 2066.28 144.549 L2066.31 148.924 Z\" fill=\"#000000\" fill-rule=\"evenodd\" fill-opacity=\"1\" /><path clip-path=\"url(#clip530)\" d=\"M 0 0 M2068.92 144.943 L2089.15 144.943 L2089.15 148.832 L2073.14 167.466 L2089.15 167.466 L2089.15 170.869 L2068.34 170.869 L2068.34 166.98 L2084.36 148.346 L2068.92 148.346 L2068.92 144.943 Z\" fill=\"#000000\" fill-rule=\"evenodd\" fill-opacity=\"1\" /><path clip-path=\"url(#clip530)\" d=\"M 0 0 M2103.67 147.929 Q2100.24 147.929 2098.25 150.614 Q2096.26 153.276 2096.26 157.929 Q2096.26 162.582 2098.23 165.267 Q2100.22 167.929 2103.67 167.929 Q2107.07 167.929 2109.06 165.244 Q2111.05 162.558 2111.05 157.929 Q2111.05 153.322 2109.06 150.637 Q2107.07 147.929 2103.67 147.929 M2103.67 144.318 Q2109.22 144.318 2112.39 147.929 Q2115.57 151.54 2115.57 157.929 Q2115.57 164.295 2112.39 167.929 Q2109.22 171.54 2103.67 171.54 Q2098.09 171.54 2094.92 167.929 Q2091.77 164.295 2091.77 157.929 Q2091.77 151.54 2094.92 147.929 Q2098.09 144.318 2103.67 144.318 Z\" fill=\"#000000\" fill-rule=\"evenodd\" fill-opacity=\"1\" /><path clip-path=\"url(#clip530)\" d=\"M 0 0 M2141.58 155.221 L2141.58 170.869 L2137.32 170.869 L2137.32 155.359 Q2137.32 151.679 2135.89 149.85 Q2134.45 148.022 2131.58 148.022 Q2128.13 148.022 2126.14 150.221 Q2124.15 152.42 2124.15 156.216 L2124.15 170.869 L2119.87 170.869 L2119.87 144.943 L2124.15 144.943 L2124.15 148.971 Q2125.68 146.633 2127.74 145.475 Q2129.82 144.318 2132.53 144.318 Q2137 144.318 2139.29 147.096 Q2141.58 149.85 2141.58 155.221 Z\" fill=\"#000000\" fill-rule=\"evenodd\" fill-opacity=\"1\" /><path clip-path=\"url(#clip530)\" d=\"M 0 0 M2168.23 156.841 L2168.23 158.924 L2148.64 158.924 Q2148.92 163.322 2151.28 165.637 Q2153.67 167.929 2157.9 167.929 Q2160.36 167.929 2162.65 167.327 Q2164.96 166.725 2167.23 165.521 L2167.23 169.549 Q2164.94 170.521 2162.53 171.031 Q2160.13 171.54 2157.65 171.54 Q2151.44 171.54 2147.81 167.929 Q2144.2 164.318 2144.2 158.16 Q2144.2 151.795 2147.63 148.068 Q2151.07 144.318 2156.91 144.318 Q2162.14 144.318 2165.17 147.697 Q2168.23 151.054 2168.23 156.841 M2163.97 155.591 Q2163.92 152.096 2162 150.012 Q2160.1 147.929 2156.95 147.929 Q2153.39 147.929 2151.24 149.943 Q2149.11 151.957 2148.78 155.614 L2163.97 155.591 Z\" fill=\"#000000\" fill-rule=\"evenodd\" fill-opacity=\"1\" /><polyline clip-path=\"url(#clip530)\" style=\"stroke:#e26f46; stroke-width:4; stroke-opacity:1; fill:none\" points=\"\n",
       "  1611.7,214.069 1753.47,214.069 \n",
       "  \"/>\n",
       "<path clip-path=\"url(#clip530)\" d=\"M 0 0 M1777.09 205.423 L1781.35 205.423 L1786.68 225.654 L1791.98 205.423 L1797 205.423 L1802.33 225.654 L1807.63 205.423 L1811.89 205.423 L1805.1 231.349 L1800.08 231.349 L1794.5 210.099 L1788.9 231.349 L1783.88 231.349 L1777.09 205.423 Z\" fill=\"#000000\" fill-rule=\"evenodd\" fill-opacity=\"1\" /><path clip-path=\"url(#clip530)\" d=\"M 0 0 M1828.14 218.316 Q1822.97 218.316 1820.98 219.497 Q1818.99 220.677 1818.99 223.525 Q1818.99 225.793 1820.47 227.136 Q1821.98 228.455 1824.55 228.455 Q1828.09 228.455 1830.22 225.955 Q1832.37 223.432 1832.37 219.265 L1832.37 218.316 L1828.14 218.316 M1836.63 216.557 L1836.63 231.349 L1832.37 231.349 L1832.37 227.413 Q1830.91 229.775 1828.74 230.909 Q1826.56 232.02 1823.41 232.02 Q1819.43 232.02 1817.07 229.798 Q1814.73 227.552 1814.73 223.802 Q1814.73 219.427 1817.65 217.205 Q1820.59 214.983 1826.4 214.983 L1832.37 214.983 L1832.37 214.566 Q1832.37 211.627 1830.43 210.029 Q1828.51 208.409 1825.01 208.409 Q1822.79 208.409 1820.68 208.941 Q1818.58 209.474 1816.63 210.539 L1816.63 206.603 Q1818.97 205.701 1821.17 205.261 Q1823.37 204.798 1825.45 204.798 Q1831.08 204.798 1833.85 207.714 Q1836.63 210.631 1836.63 216.557 Z\" fill=\"#000000\" fill-rule=\"evenodd\" fill-opacity=\"1\" /><path clip-path=\"url(#clip530)\" d=\"M 0 0 M1856.12 209.404 Q1855.4 208.988 1854.55 208.802 Q1853.71 208.594 1852.7 208.594 Q1849.09 208.594 1847.14 210.955 Q1845.22 213.293 1845.22 217.691 L1845.22 231.349 L1840.94 231.349 L1840.94 205.423 L1845.22 205.423 L1845.22 209.451 Q1846.56 207.089 1848.71 205.955 Q1850.87 204.798 1853.95 204.798 Q1854.39 204.798 1854.92 204.867 Q1855.45 204.914 1856.1 205.029 L1856.12 209.404 Z\" fill=\"#000000\" fill-rule=\"evenodd\" fill-opacity=\"1\" /><path clip-path=\"url(#clip530)\" d=\"M 0 0 M1864.8 198.062 L1864.8 205.423 L1873.58 205.423 L1873.58 208.733 L1864.8 208.733 L1864.8 222.807 Q1864.8 225.978 1865.66 226.881 Q1866.54 227.784 1869.2 227.784 L1873.58 227.784 L1873.58 231.349 L1869.2 231.349 Q1864.27 231.349 1862.4 229.52 Q1860.52 227.668 1860.52 222.807 L1860.52 208.733 L1857.4 208.733 L1857.4 205.423 L1860.52 205.423 L1860.52 198.062 L1864.8 198.062 Z\" fill=\"#000000\" fill-rule=\"evenodd\" fill-opacity=\"1\" /><path clip-path=\"url(#clip530)\" d=\"M 0 0 M1888.09 208.409 Q1884.66 208.409 1882.67 211.094 Q1880.68 213.756 1880.68 218.409 Q1880.68 223.062 1882.65 225.747 Q1884.64 228.409 1888.09 228.409 Q1891.49 228.409 1893.48 225.724 Q1895.47 223.038 1895.47 218.409 Q1895.47 213.802 1893.48 211.117 Q1891.49 208.409 1888.09 208.409 M1888.09 204.798 Q1893.65 204.798 1896.82 208.409 Q1899.99 212.02 1899.99 218.409 Q1899.99 224.775 1896.82 228.409 Q1893.65 232.02 1888.09 232.02 Q1882.51 232.02 1879.34 228.409 Q1876.19 224.775 1876.19 218.409 Q1876.19 212.02 1879.34 208.409 Q1882.51 204.798 1888.09 204.798 Z\" fill=\"#000000\" fill-rule=\"evenodd\" fill-opacity=\"1\" /><path clip-path=\"url(#clip530)\" d=\"M 0 0 M1916.58 193.27 L1921.19 193.27 L1913.65 201.974 L1910.1 201.974 L1916.58 193.27 M1920.98 206.187 L1920.98 210.214 Q1919.18 209.289 1917.23 208.826 Q1915.29 208.363 1913.21 208.363 Q1910.03 208.363 1908.44 209.335 Q1906.86 210.307 1906.86 212.251 Q1906.86 213.733 1908 214.589 Q1909.13 215.423 1912.56 216.187 L1914.02 216.511 Q1918.55 217.483 1920.45 219.265 Q1922.37 221.025 1922.37 224.196 Q1922.37 227.807 1919.5 229.913 Q1916.65 232.02 1911.65 232.02 Q1909.57 232.02 1907.3 231.603 Q1905.06 231.21 1902.56 230.4 L1902.56 226.001 Q1904.92 227.228 1907.21 227.853 Q1909.5 228.455 1911.75 228.455 Q1914.76 228.455 1916.38 227.437 Q1918 226.395 1918 224.52 Q1918 222.784 1916.82 221.858 Q1915.66 220.932 1911.7 220.076 L1910.22 219.728 Q1906.26 218.895 1904.5 217.182 Q1902.74 215.446 1902.74 212.437 Q1902.74 208.779 1905.34 206.789 Q1907.93 204.798 1912.7 204.798 Q1915.06 204.798 1917.14 205.145 Q1919.22 205.492 1920.98 206.187 Z\" fill=\"#000000\" fill-rule=\"evenodd\" fill-opacity=\"1\" /><path clip-path=\"url(#clip530)\" d=\"M 0 0 M1945.5 206.418 L1945.5 210.4 Q1943.69 209.404 1941.86 208.918 Q1940.06 208.409 1938.21 208.409 Q1934.06 208.409 1931.77 211.048 Q1929.48 213.664 1929.48 218.409 Q1929.48 223.154 1931.77 225.793 Q1934.06 228.409 1938.21 228.409 Q1940.06 228.409 1941.86 227.923 Q1943.69 227.413 1945.5 226.418 L1945.5 230.353 Q1943.71 231.187 1941.79 231.603 Q1939.9 232.02 1937.74 232.02 Q1931.89 232.02 1928.44 228.339 Q1924.99 224.659 1924.99 218.409 Q1924.99 212.066 1928.46 208.432 Q1931.96 204.798 1938.02 204.798 Q1939.99 204.798 1941.86 205.215 Q1943.74 205.608 1945.5 206.418 Z\" fill=\"#000000\" fill-rule=\"evenodd\" fill-opacity=\"1\" /><path clip-path=\"url(#clip530)\" d=\"M 0 0 M1949.96 205.423 L1954.22 205.423 L1954.22 231.349 L1949.96 231.349 L1949.96 205.423 M1949.96 195.33 L1954.22 195.33 L1954.22 200.724 L1949.96 200.724 L1949.96 195.33 Z\" fill=\"#000000\" fill-rule=\"evenodd\" fill-opacity=\"1\" /><path clip-path=\"url(#clip530)\" d=\"M 0 0 M1985.54 218.316 Q1980.38 218.316 1978.39 219.497 Q1976.4 220.677 1976.4 223.525 Q1976.4 225.793 1977.88 227.136 Q1979.39 228.455 1981.96 228.455 Q1985.5 228.455 1987.63 225.955 Q1989.78 223.432 1989.78 219.265 L1989.78 218.316 L1985.54 218.316 M1994.04 216.557 L1994.04 231.349 L1989.78 231.349 L1989.78 227.413 Q1988.32 229.775 1986.14 230.909 Q1983.97 232.02 1980.82 232.02 Q1976.84 232.02 1974.48 229.798 Q1972.14 227.552 1972.14 223.802 Q1972.14 219.427 1975.06 217.205 Q1978 214.983 1983.81 214.983 L1989.78 214.983 L1989.78 214.566 Q1989.78 211.627 1987.83 210.029 Q1985.91 208.409 1982.42 208.409 Q1980.2 208.409 1978.09 208.941 Q1975.98 209.474 1974.04 210.539 L1974.04 206.603 Q1976.38 205.701 1978.58 205.261 Q1980.77 204.798 1982.86 204.798 Q1988.48 204.798 1991.26 207.714 Q1994.04 210.631 1994.04 216.557 Z\" fill=\"#000000\" fill-rule=\"evenodd\" fill-opacity=\"1\" /><path clip-path=\"url(#clip530)\" d=\"M 0 0 M2020.06 215.701 L2020.06 231.349 L2015.8 231.349 L2015.8 215.839 Q2015.8 212.159 2014.36 210.33 Q2012.93 208.502 2010.06 208.502 Q2006.61 208.502 2004.62 210.701 Q2002.63 212.9 2002.63 216.696 L2002.63 231.349 L1998.34 231.349 L1998.34 205.423 L2002.63 205.423 L2002.63 209.451 Q2004.15 207.113 2006.21 205.955 Q2008.3 204.798 2011.01 204.798 Q2015.47 204.798 2017.76 207.576 Q2020.06 210.33 2020.06 215.701 Z\" fill=\"#000000\" fill-rule=\"evenodd\" fill-opacity=\"1\" /><path clip-path=\"url(#clip530)\" d=\"M 0 0 M2036.31 218.316 Q2031.14 218.316 2029.15 219.497 Q2027.16 220.677 2027.16 223.525 Q2027.16 225.793 2028.64 227.136 Q2030.15 228.455 2032.72 228.455 Q2036.26 228.455 2038.39 225.955 Q2040.54 223.432 2040.54 219.265 L2040.54 218.316 L2036.31 218.316 M2044.8 216.557 L2044.8 231.349 L2040.54 231.349 L2040.54 227.413 Q2039.08 229.775 2036.91 230.909 Q2034.73 232.02 2031.58 232.02 Q2027.6 232.02 2025.24 229.798 Q2022.9 227.552 2022.9 223.802 Q2022.9 219.427 2025.82 217.205 Q2028.76 214.983 2034.57 214.983 L2040.54 214.983 L2040.54 214.566 Q2040.54 211.627 2038.6 210.029 Q2036.68 208.409 2033.18 208.409 Q2030.96 208.409 2028.85 208.941 Q2026.75 209.474 2024.8 210.539 L2024.8 206.603 Q2027.14 205.701 2029.34 205.261 Q2031.54 204.798 2033.62 204.798 Q2039.25 204.798 2042.02 207.714 Q2044.8 210.631 2044.8 216.557 Z\" fill=\"#000000\" fill-rule=\"evenodd\" fill-opacity=\"1\" /><path clip-path=\"url(#clip530)\" d=\"M 0 0 M2049.27 195.33 L2053.53 195.33 L2053.53 231.349 L2049.27 231.349 L2049.27 195.33 Z\" fill=\"#000000\" fill-rule=\"evenodd\" fill-opacity=\"1\" /><path clip-path=\"url(#clip530)\" d=\"M 0 0 M2058 205.423 L2062.26 205.423 L2062.26 231.349 L2058 231.349 L2058 205.423 M2058 195.33 L2062.26 195.33 L2062.26 200.724 L2058 200.724 L2058 195.33 Z\" fill=\"#000000\" fill-rule=\"evenodd\" fill-opacity=\"1\" /><path clip-path=\"url(#clip530)\" d=\"M 0 0 M2070.94 198.062 L2070.94 205.423 L2079.71 205.423 L2079.71 208.733 L2070.94 208.733 L2070.94 222.807 Q2070.94 225.978 2071.79 226.881 Q2072.67 227.784 2075.33 227.784 L2079.71 227.784 L2079.71 231.349 L2075.33 231.349 Q2070.4 231.349 2068.53 229.52 Q2066.65 227.668 2066.65 222.807 L2066.65 208.733 L2063.53 208.733 L2063.53 205.423 L2066.65 205.423 L2066.65 198.062 L2070.94 198.062 Z\" fill=\"#000000\" fill-rule=\"evenodd\" fill-opacity=\"1\" /><path clip-path=\"url(#clip530)\" d=\"M 0 0 M2094.96 233.756 Q2093.16 238.386 2091.45 239.798 Q2089.73 241.21 2086.86 241.21 L2083.46 241.21 L2083.46 237.645 L2085.96 237.645 Q2087.72 237.645 2088.69 236.812 Q2089.66 235.978 2090.84 232.876 L2091.61 230.932 L2081.12 205.423 L2085.64 205.423 L2093.74 225.701 L2101.84 205.423 L2106.35 205.423 L2094.96 233.756 Z\" fill=\"#000000\" fill-rule=\"evenodd\" fill-opacity=\"1\" /><path clip-path=\"url(#clip530)\" d=\"M 0 0 M2129.48 206.418 L2129.48 210.4 Q2127.67 209.404 2125.84 208.918 Q2124.04 208.409 2122.19 208.409 Q2118.04 208.409 2115.75 211.048 Q2113.46 213.664 2113.46 218.409 Q2113.46 223.154 2115.75 225.793 Q2118.04 228.409 2122.19 228.409 Q2124.04 228.409 2125.84 227.923 Q2127.67 227.413 2129.48 226.418 L2129.48 230.353 Q2127.69 231.187 2125.77 231.603 Q2123.88 232.02 2121.72 232.02 Q2115.87 232.02 2112.42 228.339 Q2108.97 224.659 2108.97 218.409 Q2108.97 212.066 2112.44 208.432 Q2115.94 204.798 2122 204.798 Q2123.97 204.798 2125.84 205.215 Q2127.72 205.608 2129.48 206.418 Z\" fill=\"#000000\" fill-rule=\"evenodd\" fill-opacity=\"1\" /><path clip-path=\"url(#clip530)\" d=\"M 0 0 M2132.09 205.423 L2152.32 205.423 L2152.32 209.312 L2136.31 227.946 L2152.32 227.946 L2152.32 231.349 L2131.51 231.349 L2131.51 227.46 L2147.53 208.826 L2132.09 208.826 L2132.09 205.423 Z\" fill=\"#000000\" fill-rule=\"evenodd\" fill-opacity=\"1\" /><path clip-path=\"url(#clip530)\" d=\"M 0 0 M2178.34 215.701 L2178.34 231.349 L2174.08 231.349 L2174.08 215.839 Q2174.08 212.159 2172.65 210.33 Q2171.21 208.502 2168.34 208.502 Q2164.89 208.502 2162.9 210.701 Q2160.91 212.9 2160.91 216.696 L2160.91 231.349 L2156.63 231.349 L2156.63 205.423 L2160.91 205.423 L2160.91 209.451 Q2162.44 207.113 2164.5 205.955 Q2166.58 204.798 2169.29 204.798 Q2173.76 204.798 2176.05 207.576 Q2178.34 210.33 2178.34 215.701 Z\" fill=\"#000000\" fill-rule=\"evenodd\" fill-opacity=\"1\" /><path clip-path=\"url(#clip530)\" d=\"M 0 0 M2204.99 217.321 L2204.99 219.404 L2185.4 219.404 Q2185.68 223.802 2188.04 226.117 Q2190.43 228.409 2194.66 228.409 Q2197.12 228.409 2199.41 227.807 Q2201.72 227.205 2203.99 226.001 L2203.99 230.029 Q2201.7 231.001 2199.29 231.511 Q2196.88 232.02 2194.41 232.02 Q2188.2 232.02 2184.57 228.409 Q2180.96 224.798 2180.96 218.64 Q2180.96 212.275 2184.38 208.548 Q2187.83 204.798 2193.67 204.798 Q2198.9 204.798 2201.93 208.177 Q2204.99 211.534 2204.99 217.321 M2200.73 216.071 Q2200.68 212.576 2198.76 210.492 Q2196.86 208.409 2193.71 208.409 Q2190.15 208.409 2188 210.423 Q2185.87 212.437 2185.54 216.094 L2200.73 216.071 Z\" fill=\"#000000\" fill-rule=\"evenodd\" fill-opacity=\"1\" /><polyline clip-path=\"url(#clip530)\" style=\"stroke:#3da44d; stroke-width:4; stroke-opacity:1; fill:none\" points=\"\n",
       "  1611.7,274.549 1753.47,274.549 \n",
       "  \"/>\n",
       "<path clip-path=\"url(#clip530)\" d=\"M 0 0 M1777.09 265.903 L1781.35 265.903 L1786.68 286.134 L1791.98 265.903 L1797 265.903 L1802.33 286.134 L1807.63 265.903 L1811.89 265.903 L1805.1 291.829 L1800.08 291.829 L1794.5 270.579 L1788.9 291.829 L1783.88 291.829 L1777.09 265.903 Z\" fill=\"#000000\" fill-rule=\"evenodd\" fill-opacity=\"1\" /><path clip-path=\"url(#clip530)\" d=\"M 0 0 M1828.14 278.796 Q1822.97 278.796 1820.98 279.977 Q1818.99 281.157 1818.99 284.005 Q1818.99 286.273 1820.47 287.616 Q1821.98 288.935 1824.55 288.935 Q1828.09 288.935 1830.22 286.435 Q1832.37 283.912 1832.37 279.745 L1832.37 278.796 L1828.14 278.796 M1836.63 277.037 L1836.63 291.829 L1832.37 291.829 L1832.37 287.893 Q1830.91 290.255 1828.74 291.389 Q1826.56 292.5 1823.41 292.5 Q1819.43 292.5 1817.07 290.278 Q1814.73 288.032 1814.73 284.282 Q1814.73 279.907 1817.65 277.685 Q1820.59 275.463 1826.4 275.463 L1832.37 275.463 L1832.37 275.046 Q1832.37 272.107 1830.43 270.509 Q1828.51 268.889 1825.01 268.889 Q1822.79 268.889 1820.68 269.421 Q1818.58 269.954 1816.63 271.019 L1816.63 267.083 Q1818.97 266.181 1821.17 265.741 Q1823.37 265.278 1825.45 265.278 Q1831.08 265.278 1833.85 268.194 Q1836.63 271.111 1836.63 277.037 Z\" fill=\"#000000\" fill-rule=\"evenodd\" fill-opacity=\"1\" /><path clip-path=\"url(#clip530)\" d=\"M 0 0 M1856.12 269.884 Q1855.4 269.468 1854.55 269.282 Q1853.71 269.074 1852.7 269.074 Q1849.09 269.074 1847.14 271.435 Q1845.22 273.773 1845.22 278.171 L1845.22 291.829 L1840.94 291.829 L1840.94 265.903 L1845.22 265.903 L1845.22 269.931 Q1846.56 267.569 1848.71 266.435 Q1850.87 265.278 1853.95 265.278 Q1854.39 265.278 1854.92 265.347 Q1855.45 265.394 1856.1 265.509 L1856.12 269.884 Z\" fill=\"#000000\" fill-rule=\"evenodd\" fill-opacity=\"1\" /><path clip-path=\"url(#clip530)\" d=\"M 0 0 M1864.8 258.542 L1864.8 265.903 L1873.58 265.903 L1873.58 269.213 L1864.8 269.213 L1864.8 283.287 Q1864.8 286.458 1865.66 287.361 Q1866.54 288.264 1869.2 288.264 L1873.58 288.264 L1873.58 291.829 L1869.2 291.829 Q1864.27 291.829 1862.4 290 Q1860.52 288.148 1860.52 283.287 L1860.52 269.213 L1857.4 269.213 L1857.4 265.903 L1860.52 265.903 L1860.52 258.542 L1864.8 258.542 Z\" fill=\"#000000\" fill-rule=\"evenodd\" fill-opacity=\"1\" /><path clip-path=\"url(#clip530)\" d=\"M 0 0 M1888.09 268.889 Q1884.66 268.889 1882.67 271.574 Q1880.68 274.236 1880.68 278.889 Q1880.68 283.542 1882.65 286.227 Q1884.64 288.889 1888.09 288.889 Q1891.49 288.889 1893.48 286.204 Q1895.47 283.518 1895.47 278.889 Q1895.47 274.282 1893.48 271.597 Q1891.49 268.889 1888.09 268.889 M1888.09 265.278 Q1893.65 265.278 1896.82 268.889 Q1899.99 272.5 1899.99 278.889 Q1899.99 285.255 1896.82 288.889 Q1893.65 292.5 1888.09 292.5 Q1882.51 292.5 1879.34 288.889 Q1876.19 285.255 1876.19 278.889 Q1876.19 272.5 1879.34 268.889 Q1882.51 265.278 1888.09 265.278 Z\" fill=\"#000000\" fill-rule=\"evenodd\" fill-opacity=\"1\" /><path clip-path=\"url(#clip530)\" d=\"M 0 0 M1916.58 253.75 L1921.19 253.75 L1913.65 262.454 L1910.1 262.454 L1916.58 253.75 M1920.98 266.667 L1920.98 270.694 Q1919.18 269.769 1917.23 269.306 Q1915.29 268.843 1913.21 268.843 Q1910.03 268.843 1908.44 269.815 Q1906.86 270.787 1906.86 272.731 Q1906.86 274.213 1908 275.069 Q1909.13 275.903 1912.56 276.667 L1914.02 276.991 Q1918.55 277.963 1920.45 279.745 Q1922.37 281.505 1922.37 284.676 Q1922.37 288.287 1919.5 290.393 Q1916.65 292.5 1911.65 292.5 Q1909.57 292.5 1907.3 292.083 Q1905.06 291.69 1902.56 290.88 L1902.56 286.481 Q1904.92 287.708 1907.21 288.333 Q1909.5 288.935 1911.75 288.935 Q1914.76 288.935 1916.38 287.917 Q1918 286.875 1918 285 Q1918 283.264 1916.82 282.338 Q1915.66 281.412 1911.7 280.556 L1910.22 280.208 Q1906.26 279.375 1904.5 277.662 Q1902.74 275.926 1902.74 272.917 Q1902.74 269.259 1905.34 267.269 Q1907.93 265.278 1912.7 265.278 Q1915.06 265.278 1917.14 265.625 Q1919.22 265.972 1920.98 266.667 Z\" fill=\"#000000\" fill-rule=\"evenodd\" fill-opacity=\"1\" /><path clip-path=\"url(#clip530)\" d=\"M 0 0 M1945.5 266.898 L1945.5 270.88 Q1943.69 269.884 1941.86 269.398 Q1940.06 268.889 1938.21 268.889 Q1934.06 268.889 1931.77 271.528 Q1929.48 274.144 1929.48 278.889 Q1929.48 283.634 1931.77 286.273 Q1934.06 288.889 1938.21 288.889 Q1940.06 288.889 1941.86 288.403 Q1943.69 287.893 1945.5 286.898 L1945.5 290.833 Q1943.71 291.667 1941.79 292.083 Q1939.9 292.5 1937.74 292.5 Q1931.89 292.5 1928.44 288.819 Q1924.99 285.139 1924.99 278.889 Q1924.99 272.546 1928.46 268.912 Q1931.96 265.278 1938.02 265.278 Q1939.99 265.278 1941.86 265.695 Q1943.74 266.088 1945.5 266.898 Z\" fill=\"#000000\" fill-rule=\"evenodd\" fill-opacity=\"1\" /><path clip-path=\"url(#clip530)\" d=\"M 0 0 M1949.96 265.903 L1954.22 265.903 L1954.22 291.829 L1949.96 291.829 L1949.96 265.903 M1949.96 255.81 L1954.22 255.81 L1954.22 261.204 L1949.96 261.204 L1949.96 255.81 Z\" fill=\"#000000\" fill-rule=\"evenodd\" fill-opacity=\"1\" /><path clip-path=\"url(#clip530)\" d=\"M 0 0 M1995.31 276.181 L1995.31 291.829 L1991.05 291.829 L1991.05 276.319 Q1991.05 272.639 1989.62 270.81 Q1988.18 268.982 1985.31 268.982 Q1981.86 268.982 1979.87 271.181 Q1977.88 273.38 1977.88 277.176 L1977.88 291.829 L1973.6 291.829 L1973.6 265.903 L1977.88 265.903 L1977.88 269.931 Q1979.41 267.593 1981.47 266.435 Q1983.55 265.278 1986.26 265.278 Q1990.73 265.278 1993.02 268.056 Q1995.31 270.81 1995.31 276.181 Z\" fill=\"#000000\" fill-rule=\"evenodd\" fill-opacity=\"1\" /><path clip-path=\"url(#clip530)\" d=\"M 0 0 M1999.34 281.597 L1999.34 265.903 L2003.6 265.903 L2003.6 281.435 Q2003.6 285.116 2005.03 286.968 Q2006.47 288.796 2009.34 288.796 Q2012.79 288.796 2014.78 286.597 Q2016.79 284.398 2016.79 280.602 L2016.79 265.903 L2021.05 265.903 L2021.05 291.829 L2016.79 291.829 L2016.79 287.847 Q2015.24 290.208 2013.18 291.366 Q2011.14 292.5 2008.44 292.5 Q2003.97 292.5 2001.65 289.722 Q1999.34 286.944 1999.34 281.597 M2010.06 265.278 L2010.06 265.278 Z\" fill=\"#000000\" fill-rule=\"evenodd\" fill-opacity=\"1\" /><path clip-path=\"url(#clip530)\" d=\"M 0 0 M2045.7 270.88 Q2047.3 268.009 2049.52 266.644 Q2051.75 265.278 2054.76 265.278 Q2058.81 265.278 2061.01 268.125 Q2063.2 270.949 2063.2 276.181 L2063.2 291.829 L2058.92 291.829 L2058.92 276.319 Q2058.92 272.593 2057.6 270.787 Q2056.28 268.982 2053.57 268.982 Q2050.26 268.982 2048.34 271.181 Q2046.42 273.38 2046.42 277.176 L2046.42 291.829 L2042.14 291.829 L2042.14 276.319 Q2042.14 272.569 2040.82 270.787 Q2039.5 268.982 2036.75 268.982 Q2033.48 268.982 2031.56 271.204 Q2029.64 273.403 2029.64 277.176 L2029.64 291.829 L2025.36 291.829 L2025.36 265.903 L2029.64 265.903 L2029.64 269.931 Q2031.1 267.546 2033.14 266.412 Q2035.17 265.278 2037.97 265.278 Q2040.8 265.278 2042.76 266.713 Q2044.76 268.148 2045.7 270.88 Z\" fill=\"#000000\" fill-rule=\"evenodd\" fill-opacity=\"1\" /><path clip-path=\"url(#clip530)\" d=\"M 0 0 M2089.85 277.801 L2089.85 279.884 L2070.26 279.884 Q2070.54 284.282 2072.9 286.597 Q2075.29 288.889 2079.52 288.889 Q2081.98 288.889 2084.27 288.287 Q2086.58 287.685 2088.85 286.481 L2088.85 290.509 Q2086.56 291.481 2084.15 291.991 Q2081.75 292.5 2079.27 292.5 Q2073.07 292.5 2069.43 288.889 Q2065.82 285.278 2065.82 279.12 Q2065.82 272.755 2069.25 269.028 Q2072.7 265.278 2078.53 265.278 Q2083.76 265.278 2086.79 268.657 Q2089.85 272.014 2089.85 277.801 M2085.59 276.551 Q2085.54 273.056 2083.62 270.972 Q2081.72 268.889 2078.57 268.889 Q2075.01 268.889 2072.86 270.903 Q2070.73 272.917 2070.4 276.574 L2085.59 276.551 Z\" fill=\"#000000\" fill-rule=\"evenodd\" fill-opacity=\"1\" /><path clip-path=\"url(#clip530)\" d=\"M 0 0 M2109.34 269.884 Q2108.62 269.468 2107.76 269.282 Q2106.93 269.074 2105.91 269.074 Q2102.3 269.074 2100.36 271.435 Q2098.44 273.773 2098.44 278.171 L2098.44 291.829 L2094.15 291.829 L2094.15 265.903 L2098.44 265.903 L2098.44 269.931 Q2099.78 267.569 2101.93 266.435 Q2104.08 265.278 2107.16 265.278 Q2107.6 265.278 2108.13 265.347 Q2108.67 265.394 2109.32 265.509 L2109.34 269.884 Z\" fill=\"#000000\" fill-rule=\"evenodd\" fill-opacity=\"1\" /><path clip-path=\"url(#clip530)\" d=\"M 0 0 M2124.59 294.236 Q2122.79 298.866 2121.07 300.278 Q2119.36 301.69 2116.49 301.69 L2113.09 301.69 L2113.09 298.125 L2115.59 298.125 Q2117.35 298.125 2118.32 297.292 Q2119.29 296.458 2120.47 293.356 L2121.24 291.412 L2110.75 265.903 L2115.26 265.903 L2123.37 286.181 L2131.47 265.903 L2135.98 265.903 L2124.59 294.236 Z\" fill=\"#000000\" fill-rule=\"evenodd\" fill-opacity=\"1\" /><path clip-path=\"url(#clip530)\" d=\"M 0 0 M2159.11 266.898 L2159.11 270.88 Q2157.3 269.884 2155.47 269.398 Q2153.67 268.889 2151.82 268.889 Q2147.67 268.889 2145.38 271.528 Q2143.09 274.144 2143.09 278.889 Q2143.09 283.634 2145.38 286.273 Q2147.67 288.889 2151.82 288.889 Q2153.67 288.889 2155.47 288.403 Q2157.3 287.893 2159.11 286.898 L2159.11 290.833 Q2157.32 291.667 2155.4 292.083 Q2153.51 292.5 2151.35 292.5 Q2145.5 292.5 2142.05 288.819 Q2138.6 285.139 2138.6 278.889 Q2138.6 272.546 2142.07 268.912 Q2145.57 265.278 2151.63 265.278 Q2153.6 265.278 2155.47 265.695 Q2157.35 266.088 2159.11 266.898 Z\" fill=\"#000000\" fill-rule=\"evenodd\" fill-opacity=\"1\" /><path clip-path=\"url(#clip530)\" d=\"M 0 0 M2161.72 265.903 L2181.95 265.903 L2181.95 269.792 L2165.94 288.426 L2181.95 288.426 L2181.95 291.829 L2161.14 291.829 L2161.14 287.94 L2177.16 269.306 L2161.72 269.306 L2161.72 265.903 Z\" fill=\"#000000\" fill-rule=\"evenodd\" fill-opacity=\"1\" /><path clip-path=\"url(#clip530)\" d=\"M 0 0 M2207.97 276.181 L2207.97 291.829 L2203.71 291.829 L2203.71 276.319 Q2203.71 272.639 2202.28 270.81 Q2200.84 268.982 2197.97 268.982 Q2194.52 268.982 2192.53 271.181 Q2190.54 273.38 2190.54 277.176 L2190.54 291.829 L2186.26 291.829 L2186.26 265.903 L2190.54 265.903 L2190.54 269.931 Q2192.07 267.593 2194.13 266.435 Q2196.21 265.278 2198.92 265.278 Q2203.39 265.278 2205.68 268.056 Q2207.97 270.81 2207.97 276.181 Z\" fill=\"#000000\" fill-rule=\"evenodd\" fill-opacity=\"1\" /><path clip-path=\"url(#clip530)\" d=\"M 0 0 M2234.62 277.801 L2234.62 279.884 L2215.03 279.884 Q2215.31 284.282 2217.67 286.597 Q2220.06 288.889 2224.29 288.889 Q2226.75 288.889 2229.04 288.287 Q2231.35 287.685 2233.62 286.481 L2233.62 290.509 Q2231.33 291.481 2228.92 291.991 Q2226.51 292.5 2224.04 292.5 Q2217.83 292.5 2214.2 288.889 Q2210.59 285.278 2210.59 279.12 Q2210.59 272.755 2214.01 269.028 Q2217.46 265.278 2223.3 265.278 Q2228.53 265.278 2231.56 268.657 Q2234.62 272.014 2234.62 277.801 M2230.36 276.551 Q2230.31 273.056 2228.39 270.972 Q2226.49 268.889 2223.34 268.889 Q2219.78 268.889 2217.63 270.903 Q2215.5 272.917 2215.17 276.574 L2230.36 276.551 Z\" fill=\"#000000\" fill-rule=\"evenodd\" fill-opacity=\"1\" /><polyline clip-path=\"url(#clip530)\" style=\"stroke:#808080; stroke-width:4; stroke-opacity:1; fill:none\" points=\"\n",
       "  1611.7,335.029 1753.47,335.029 \n",
       "  \"/>\n",
       "<circle clip-path=\"url(#clip530)\" cx=\"1682.58\" cy=\"335.029\" r=\"23\" fill=\"#ffff00\" fill-rule=\"evenodd\" fill-opacity=\"1\" stroke=\"#000000\" stroke-opacity=\"1\" stroke-width=\"4.096\"/>\n",
       "<path clip-path=\"url(#clip530)\" d=\"M 0 0 M1784.5 319.022 L1784.5 326.383 L1793.28 326.383 L1793.28 329.693 L1784.5 329.693 L1784.5 343.767 Q1784.5 346.938 1785.36 347.841 Q1786.24 348.744 1788.9 348.744 L1793.28 348.744 L1793.28 352.309 L1788.9 352.309 Q1783.97 352.309 1782.09 350.48 Q1780.22 348.628 1780.22 343.767 L1780.22 329.693 L1777.09 329.693 L1777.09 326.383 L1780.22 326.383 L1780.22 319.022 L1784.5 319.022 Z\" fill=\"#000000\" fill-rule=\"evenodd\" fill-opacity=\"1\" /><path clip-path=\"url(#clip530)\" d=\"M 0 0 M1809.66 343.536 L1809.66 352.309 L1806.98 352.309 L1806.98 343.628 Q1806.98 341.568 1806.08 340.549 Q1805.17 339.508 1803.37 339.508 Q1801.19 339.508 1799.94 340.758 Q1798.69 341.985 1798.69 344.114 L1798.69 352.309 L1795.98 352.309 L1795.98 332.147 L1798.69 332.147 L1798.69 340.04 Q1799.64 338.744 1800.94 338.096 Q1802.26 337.448 1803.97 337.448 Q1806.77 337.448 1808.21 338.999 Q1809.66 340.549 1809.66 343.536 Z\" fill=\"#000000\" fill-rule=\"evenodd\" fill-opacity=\"1\" /></svg>\n"
      ]
     },
     "execution_count": 199,
     "metadata": {},
     "output_type": "execute_result"
    }
   ],
   "source": [
    "plot!([tₕ], [one_comp(tₕ, 240.6, 2.44)], markers = :circle, color=\"grey\", markersize = 5,\n",
    "markercolor = :yellow,label=\"tₕ\")"
   ]
  },
  {
   "cell_type": "markdown",
   "metadata": {},
   "source": [
    "### B. Dawka pozanaczyniowa"
   ]
  },
  {
   "cell_type": "markdown",
   "metadata": {},
   "source": [
    "Poniższa tabela [3] przedstawia stężenie nimesulidu w surowicy krwi ochotnika ($C$) [mg/l] oznaczone w różnym czasie t [h], po podaniu jednorazowej dawki doustnej."
   ]
  },
  {
   "cell_type": "markdown",
   "metadata": {},
   "source": [
    "<table>\n",
    "  <tr>\n",
    "    <th>Czas ($t$)</th>\n",
    "    <td>0,5</td>\n",
    "    <td>1,0</td>\n",
    "    <td>1,5</td>\n",
    "    <td>2</td>\n",
    "    <td>3</td>\n",
    "    <td>6</td>\n",
    "    <td>9</td>\n",
    "    <td>12</td>\n",
    "    <td>24</td>\n",
    "  </tr>\n",
    "  <tr>\n",
    "    <th>Stężenie ($C$)</th>\n",
    "    <td>2,6</td>\n",
    "    <td>3,95</td>\n",
    "    <td>3,88</td>\n",
    "    <td>3,55</td>\n",
    "    <td>2,83</td>\n",
    "    <td>1,27</td>\n",
    "    <td>0,44</td>\n",
    "    <td>0,17</td>\n",
    "    <td>0,05</td>\n",
    "  </tr>\n",
    "</table>"
   ]
  },
  {
   "cell_type": "code",
   "execution_count": 200,
   "metadata": {},
   "outputs": [],
   "source": [
    "t_2 = [0.5, 1.0, 1.5, 2, 3, 6, 9, 12, 24]\n",
    "C_2 = [2.6, 3.95, 3.88, 3.55, 2.83, 1.27, 0.44, 0.17, 0.05];"
   ]
  },
  {
   "cell_type": "code",
   "execution_count": 201,
   "metadata": {},
   "outputs": [
    {
     "data": {
      "image/svg+xml": [
       "<?xml version=\"1.0\" encoding=\"utf-8\"?>\n",
       "<svg xmlns=\"http://www.w3.org/2000/svg\" xmlns:xlink=\"http://www.w3.org/1999/xlink\" width=\"600\" height=\"400\" viewBox=\"0 0 2400 1600\">\n",
       "<defs>\n",
       "  <clipPath id=\"clip570\">\n",
       "    <rect x=\"0\" y=\"0\" width=\"2400\" height=\"1600\"/>\n",
       "  </clipPath>\n",
       "</defs>\n",
       "<path clip-path=\"url(#clip570)\" d=\"\n",
       "M0 1600 L2400 1600 L2400 0 L0 0  Z\n",
       "  \" fill=\"#ffffff\" fill-rule=\"evenodd\" fill-opacity=\"1\"/>\n",
       "<defs>\n",
       "  <clipPath id=\"clip571\">\n",
       "    <rect x=\"480\" y=\"0\" width=\"1681\" height=\"1600\"/>\n",
       "  </clipPath>\n",
       "</defs>\n",
       "<path clip-path=\"url(#clip570)\" d=\"\n",
       "M175.445 1423.18 L2352.76 1423.18 L2352.76 47.2441 L175.445 47.2441  Z\n",
       "  \" fill=\"#ffffff\" fill-rule=\"evenodd\" fill-opacity=\"1\"/>\n",
       "<defs>\n",
       "  <clipPath id=\"clip572\">\n",
       "    <rect x=\"175\" y=\"47\" width=\"2178\" height=\"1377\"/>\n",
       "  </clipPath>\n",
       "</defs>\n",
       "<polyline clip-path=\"url(#clip572)\" style=\"stroke:#000000; stroke-width:2; stroke-opacity:0.1; fill:none\" points=\"\n",
       "  193.364,1423.18 193.364,47.2441 \n",
       "  \"/>\n",
       "<polyline clip-path=\"url(#clip572)\" style=\"stroke:#000000; stroke-width:2; stroke-opacity:0.1; fill:none\" points=\"\n",
       "  630.399,1423.18 630.399,47.2441 \n",
       "  \"/>\n",
       "<polyline clip-path=\"url(#clip572)\" style=\"stroke:#000000; stroke-width:2; stroke-opacity:0.1; fill:none\" points=\"\n",
       "  1067.43,1423.18 1067.43,47.2441 \n",
       "  \"/>\n",
       "<polyline clip-path=\"url(#clip572)\" style=\"stroke:#000000; stroke-width:2; stroke-opacity:0.1; fill:none\" points=\"\n",
       "  1504.47,1423.18 1504.47,47.2441 \n",
       "  \"/>\n",
       "<polyline clip-path=\"url(#clip572)\" style=\"stroke:#000000; stroke-width:2; stroke-opacity:0.1; fill:none\" points=\"\n",
       "  1941.51,1423.18 1941.51,47.2441 \n",
       "  \"/>\n",
       "<polyline clip-path=\"url(#clip570)\" style=\"stroke:#000000; stroke-width:4; stroke-opacity:1; fill:none\" points=\"\n",
       "  175.445,1423.18 2352.76,1423.18 \n",
       "  \"/>\n",
       "<polyline clip-path=\"url(#clip570)\" style=\"stroke:#000000; stroke-width:4; stroke-opacity:1; fill:none\" points=\"\n",
       "  193.364,1423.18 193.364,1406.67 \n",
       "  \"/>\n",
       "<polyline clip-path=\"url(#clip570)\" style=\"stroke:#000000; stroke-width:4; stroke-opacity:1; fill:none\" points=\"\n",
       "  630.399,1423.18 630.399,1406.67 \n",
       "  \"/>\n",
       "<polyline clip-path=\"url(#clip570)\" style=\"stroke:#000000; stroke-width:4; stroke-opacity:1; fill:none\" points=\"\n",
       "  1067.43,1423.18 1067.43,1406.67 \n",
       "  \"/>\n",
       "<polyline clip-path=\"url(#clip570)\" style=\"stroke:#000000; stroke-width:4; stroke-opacity:1; fill:none\" points=\"\n",
       "  1504.47,1423.18 1504.47,1406.67 \n",
       "  \"/>\n",
       "<polyline clip-path=\"url(#clip570)\" style=\"stroke:#000000; stroke-width:4; stroke-opacity:1; fill:none\" points=\"\n",
       "  1941.51,1423.18 1941.51,1406.67 \n",
       "  \"/>\n",
       "<path clip-path=\"url(#clip570)\" d=\"M 0 0 M193.364 1452.37 Q189.753 1452.37 187.924 1455.94 Q186.118 1459.48 186.118 1466.61 Q186.118 1473.71 187.924 1477.28 Q189.753 1480.82 193.364 1480.82 Q196.998 1480.82 198.803 1477.28 Q200.632 1473.71 200.632 1466.61 Q200.632 1459.48 198.803 1455.94 Q196.998 1452.37 193.364 1452.37 M193.364 1448.67 Q199.174 1448.67 202.229 1453.27 Q205.308 1457.86 205.308 1466.61 Q205.308 1475.33 202.229 1479.94 Q199.174 1484.52 193.364 1484.52 Q187.554 1484.52 184.475 1479.94 Q181.419 1475.33 181.419 1466.61 Q181.419 1457.86 184.475 1453.27 Q187.554 1448.67 193.364 1448.67 Z\" fill=\"#000000\" fill-rule=\"evenodd\" fill-opacity=\"1\" /><path clip-path=\"url(#clip570)\" d=\"M 0 0 M620.677 1449.29 L639.033 1449.29 L639.033 1453.23 L624.959 1453.23 L624.959 1461.7 Q625.978 1461.35 626.996 1461.19 Q628.015 1461 629.033 1461 Q634.82 1461 638.2 1464.18 Q641.58 1467.35 641.58 1472.76 Q641.58 1478.34 638.107 1481.44 Q634.635 1484.52 628.316 1484.52 Q626.14 1484.52 623.871 1484.15 Q621.626 1483.78 619.219 1483.04 L619.219 1478.34 Q621.302 1479.48 623.524 1480.03 Q625.746 1480.59 628.223 1480.59 Q632.228 1480.59 634.566 1478.48 Q636.904 1476.38 636.904 1472.76 Q636.904 1469.15 634.566 1467.05 Q632.228 1464.94 628.223 1464.94 Q626.348 1464.94 624.473 1465.36 Q622.621 1465.77 620.677 1466.65 L620.677 1449.29 Z\" fill=\"#000000\" fill-rule=\"evenodd\" fill-opacity=\"1\" /><path clip-path=\"url(#clip570)\" d=\"M 0 0 M1044.31 1479.92 L1051.95 1479.92 L1051.95 1453.55 L1043.64 1455.22 L1043.64 1450.96 L1051.9 1449.29 L1056.58 1449.29 L1056.58 1479.92 L1064.22 1479.92 L1064.22 1483.85 L1044.31 1483.85 L1044.31 1479.92 Z\" fill=\"#000000\" fill-rule=\"evenodd\" fill-opacity=\"1\" /><path clip-path=\"url(#clip570)\" d=\"M 0 0 M1079.29 1452.37 Q1075.68 1452.37 1073.85 1455.94 Q1072.04 1459.48 1072.04 1466.61 Q1072.04 1473.71 1073.85 1477.28 Q1075.68 1480.82 1079.29 1480.82 Q1082.92 1480.82 1084.73 1477.28 Q1086.55 1473.71 1086.55 1466.61 Q1086.55 1459.48 1084.73 1455.94 Q1082.92 1452.37 1079.29 1452.37 M1079.29 1448.67 Q1085.1 1448.67 1088.15 1453.27 Q1091.23 1457.86 1091.23 1466.61 Q1091.23 1475.33 1088.15 1479.94 Q1085.1 1484.52 1079.29 1484.52 Q1073.48 1484.52 1070.4 1479.94 Q1067.34 1475.33 1067.34 1466.61 Q1067.34 1457.86 1070.4 1453.27 Q1073.48 1448.67 1079.29 1448.67 Z\" fill=\"#000000\" fill-rule=\"evenodd\" fill-opacity=\"1\" /><path clip-path=\"url(#clip570)\" d=\"M 0 0 M1481.84 1479.92 L1489.48 1479.92 L1489.48 1453.55 L1481.17 1455.22 L1481.17 1450.96 L1489.44 1449.29 L1494.11 1449.29 L1494.11 1479.92 L1501.75 1479.92 L1501.75 1483.85 L1481.84 1483.85 L1481.84 1479.92 Z\" fill=\"#000000\" fill-rule=\"evenodd\" fill-opacity=\"1\" /><path clip-path=\"url(#clip570)\" d=\"M 0 0 M1506.87 1449.29 L1525.22 1449.29 L1525.22 1453.23 L1511.15 1453.23 L1511.15 1461.7 Q1512.17 1461.35 1513.19 1461.19 Q1514.2 1461 1515.22 1461 Q1521.01 1461 1524.39 1464.18 Q1527.77 1467.35 1527.77 1472.76 Q1527.77 1478.34 1524.3 1481.44 Q1520.82 1484.52 1514.5 1484.52 Q1512.33 1484.52 1510.06 1484.15 Q1507.81 1483.78 1505.41 1483.04 L1505.41 1478.34 Q1507.49 1479.48 1509.71 1480.03 Q1511.94 1480.59 1514.41 1480.59 Q1518.42 1480.59 1520.75 1478.48 Q1523.09 1476.38 1523.09 1472.76 Q1523.09 1469.15 1520.75 1467.05 Q1518.42 1464.94 1514.41 1464.94 Q1512.54 1464.94 1510.66 1465.36 Q1508.81 1465.77 1506.87 1466.65 L1506.87 1449.29 Z\" fill=\"#000000\" fill-rule=\"evenodd\" fill-opacity=\"1\" /><path clip-path=\"url(#clip570)\" d=\"M 0 0 M1922.65 1479.92 L1938.97 1479.92 L1938.97 1483.85 L1917.03 1483.85 L1917.03 1479.92 Q1919.69 1477.16 1924.27 1472.53 Q1928.88 1467.88 1930.06 1466.54 Q1932.3 1464.01 1933.18 1462.28 Q1934.09 1460.52 1934.09 1458.83 Q1934.09 1456.07 1932.14 1454.34 Q1930.22 1452.6 1927.12 1452.6 Q1924.92 1452.6 1922.47 1453.37 Q1920.04 1454.13 1917.26 1455.68 L1917.26 1450.96 Q1920.08 1449.82 1922.54 1449.25 Q1924.99 1448.67 1927.03 1448.67 Q1932.4 1448.67 1935.59 1451.35 Q1938.79 1454.04 1938.79 1458.53 Q1938.79 1460.66 1937.98 1462.58 Q1937.19 1464.48 1935.08 1467.07 Q1934.5 1467.74 1931.4 1470.96 Q1928.3 1474.15 1922.65 1479.92 Z\" fill=\"#000000\" fill-rule=\"evenodd\" fill-opacity=\"1\" /><path clip-path=\"url(#clip570)\" d=\"M 0 0 M1954.04 1452.37 Q1950.43 1452.37 1948.6 1455.94 Q1946.79 1459.48 1946.79 1466.61 Q1946.79 1473.71 1948.6 1477.28 Q1950.43 1480.82 1954.04 1480.82 Q1957.67 1480.82 1959.48 1477.28 Q1961.31 1473.71 1961.31 1466.61 Q1961.31 1459.48 1959.48 1455.94 Q1957.67 1452.37 1954.04 1452.37 M1954.04 1448.67 Q1959.85 1448.67 1962.91 1453.27 Q1965.98 1457.86 1965.98 1466.61 Q1965.98 1475.33 1962.91 1479.94 Q1959.85 1484.52 1954.04 1484.52 Q1948.23 1484.52 1945.15 1479.94 Q1942.1 1475.33 1942.1 1466.61 Q1942.1 1457.86 1945.15 1453.27 Q1948.23 1448.67 1954.04 1448.67 Z\" fill=\"#000000\" fill-rule=\"evenodd\" fill-opacity=\"1\" /><path clip-path=\"url(#clip570)\" d=\"M 0 0 M1215.45 1522.27 L1215.45 1532.4 L1227.51 1532.4 L1227.51 1536.95 L1215.45 1536.95 L1215.45 1556.3 Q1215.45 1560.66 1216.63 1561.9 Q1217.84 1563.14 1221.5 1563.14 L1227.51 1563.14 L1227.51 1568.04 L1221.5 1568.04 Q1214.72 1568.04 1212.14 1565.53 Q1209.56 1562.98 1209.56 1556.3 L1209.56 1536.95 L1205.27 1536.95 L1205.27 1532.4 L1209.56 1532.4 L1209.56 1522.27 L1215.45 1522.27 Z\" fill=\"#000000\" fill-rule=\"evenodd\" fill-opacity=\"1\" /><path clip-path=\"url(#clip570)\" d=\"M 0 0 M1253.84 1518.52 L1267.33 1518.52 L1267.33 1523.07 L1259.69 1523.07 L1259.69 1572.09 L1267.33 1572.09 L1267.33 1576.64 L1253.84 1576.64 L1253.84 1518.52 Z\" fill=\"#000000\" fill-rule=\"evenodd\" fill-opacity=\"1\" /><path clip-path=\"url(#clip570)\" d=\"M 0 0 M1303.11 1546.53 L1303.11 1568.04 L1297.25 1568.04 L1297.25 1546.72 Q1297.25 1541.66 1295.28 1539.14 Q1293.3 1536.63 1289.36 1536.63 Q1284.61 1536.63 1281.88 1539.65 Q1279.14 1542.68 1279.14 1547.9 L1279.14 1568.04 L1273.25 1568.04 L1273.25 1518.52 L1279.14 1518.52 L1279.14 1537.93 Q1281.24 1534.72 1284.07 1533.13 Q1286.94 1531.54 1290.66 1531.54 Q1296.8 1531.54 1299.96 1535.36 Q1303.11 1539.14 1303.11 1546.53 Z\" fill=\"#000000\" fill-rule=\"evenodd\" fill-opacity=\"1\" /><path clip-path=\"url(#clip570)\" d=\"M 0 0 M1322.94 1518.52 L1322.94 1576.64 L1309.44 1576.64 L1309.44 1572.09 L1317.05 1572.09 L1317.05 1523.07 L1309.44 1523.07 L1309.44 1518.52 L1322.94 1518.52 Z\" fill=\"#000000\" fill-rule=\"evenodd\" fill-opacity=\"1\" /><polyline clip-path=\"url(#clip572)\" style=\"stroke:#000000; stroke-width:2; stroke-opacity:0.1; fill:none\" points=\"\n",
       "  175.445,1400.88 2352.76,1400.88 \n",
       "  \"/>\n",
       "<polyline clip-path=\"url(#clip572)\" style=\"stroke:#000000; stroke-width:2; stroke-opacity:0.1; fill:none\" points=\"\n",
       "  175.445,1068.05 2352.76,1068.05 \n",
       "  \"/>\n",
       "<polyline clip-path=\"url(#clip572)\" style=\"stroke:#000000; stroke-width:2; stroke-opacity:0.1; fill:none\" points=\"\n",
       "  175.445,735.212 2352.76,735.212 \n",
       "  \"/>\n",
       "<polyline clip-path=\"url(#clip572)\" style=\"stroke:#000000; stroke-width:2; stroke-opacity:0.1; fill:none\" points=\"\n",
       "  175.445,402.378 2352.76,402.378 \n",
       "  \"/>\n",
       "<polyline clip-path=\"url(#clip572)\" style=\"stroke:#000000; stroke-width:2; stroke-opacity:0.1; fill:none\" points=\"\n",
       "  175.445,69.544 2352.76,69.544 \n",
       "  \"/>\n",
       "<polyline clip-path=\"url(#clip570)\" style=\"stroke:#000000; stroke-width:4; stroke-opacity:1; fill:none\" points=\"\n",
       "  175.445,1423.18 175.445,47.2441 \n",
       "  \"/>\n",
       "<polyline clip-path=\"url(#clip570)\" style=\"stroke:#000000; stroke-width:4; stroke-opacity:1; fill:none\" points=\"\n",
       "  175.445,1400.88 201.573,1400.88 \n",
       "  \"/>\n",
       "<polyline clip-path=\"url(#clip570)\" style=\"stroke:#000000; stroke-width:4; stroke-opacity:1; fill:none\" points=\"\n",
       "  175.445,1068.05 201.573,1068.05 \n",
       "  \"/>\n",
       "<polyline clip-path=\"url(#clip570)\" style=\"stroke:#000000; stroke-width:4; stroke-opacity:1; fill:none\" points=\"\n",
       "  175.445,735.212 201.573,735.212 \n",
       "  \"/>\n",
       "<polyline clip-path=\"url(#clip570)\" style=\"stroke:#000000; stroke-width:4; stroke-opacity:1; fill:none\" points=\"\n",
       "  175.445,402.378 201.573,402.378 \n",
       "  \"/>\n",
       "<polyline clip-path=\"url(#clip570)\" style=\"stroke:#000000; stroke-width:4; stroke-opacity:1; fill:none\" points=\"\n",
       "  175.445,69.544 201.573,69.544 \n",
       "  \"/>\n",
       "<path clip-path=\"url(#clip570)\" d=\"M 0 0 M127.501 1386.68 Q123.89 1386.68 122.061 1390.24 Q120.255 1393.79 120.255 1400.91 Q120.255 1408.02 122.061 1411.59 Q123.89 1415.13 127.501 1415.13 Q131.135 1415.13 132.941 1411.59 Q134.769 1408.02 134.769 1400.91 Q134.769 1393.79 132.941 1390.24 Q131.135 1386.68 127.501 1386.68 M127.501 1382.97 Q133.311 1382.97 136.367 1387.58 Q139.445 1392.16 139.445 1400.91 Q139.445 1409.64 136.367 1414.25 Q133.311 1418.83 127.501 1418.83 Q121.691 1418.83 118.612 1414.25 Q115.556 1409.64 115.556 1400.91 Q115.556 1392.16 118.612 1387.58 Q121.691 1382.97 127.501 1382.97 Z\" fill=\"#000000\" fill-rule=\"evenodd\" fill-opacity=\"1\" /><path clip-path=\"url(#clip570)\" d=\"M 0 0 M119.538 1081.39 L127.177 1081.39 L127.177 1055.03 L118.867 1056.69 L118.867 1052.43 L127.13 1050.77 L131.806 1050.77 L131.806 1081.39 L139.445 1081.39 L139.445 1085.33 L119.538 1085.33 L119.538 1081.39 Z\" fill=\"#000000\" fill-rule=\"evenodd\" fill-opacity=\"1\" /><path clip-path=\"url(#clip570)\" d=\"M 0 0 M123.126 748.557 L139.445 748.557 L139.445 752.492 L117.501 752.492 L117.501 748.557 Q120.163 745.802 124.746 741.173 Q129.353 736.52 130.533 735.177 Q132.779 732.654 133.658 730.918 Q134.561 729.159 134.561 727.469 Q134.561 724.714 132.617 722.978 Q130.695 721.242 127.593 721.242 Q125.394 721.242 122.941 722.006 Q120.51 722.77 117.732 724.321 L117.732 719.599 Q120.556 718.464 123.01 717.886 Q125.464 717.307 127.501 717.307 Q132.871 717.307 136.066 719.992 Q139.26 722.677 139.26 727.168 Q139.26 729.298 138.45 731.219 Q137.663 733.117 135.556 735.71 Q134.978 736.381 131.876 739.599 Q128.774 742.793 123.126 748.557 Z\" fill=\"#000000\" fill-rule=\"evenodd\" fill-opacity=\"1\" /><path clip-path=\"url(#clip570)\" d=\"M 0 0 M132.316 401.024 Q135.672 401.741 137.547 404.01 Q139.445 406.278 139.445 409.612 Q139.445 414.727 135.927 417.528 Q132.408 420.329 125.927 420.329 Q123.751 420.329 121.436 419.889 Q119.144 419.473 116.691 418.616 L116.691 414.102 Q118.635 415.237 120.95 415.815 Q123.265 416.394 125.788 416.394 Q130.186 416.394 132.478 414.658 Q134.792 412.922 134.792 409.612 Q134.792 406.556 132.64 404.843 Q130.51 403.107 126.691 403.107 L122.663 403.107 L122.663 399.265 L126.876 399.265 Q130.325 399.265 132.154 397.899 Q133.982 396.51 133.982 393.917 Q133.982 391.255 132.084 389.843 Q130.209 388.408 126.691 388.408 Q124.769 388.408 122.57 388.825 Q120.371 389.241 117.732 390.121 L117.732 385.954 Q120.394 385.214 122.709 384.843 Q125.047 384.473 127.107 384.473 Q132.431 384.473 135.533 386.904 Q138.635 389.311 138.635 393.431 Q138.635 396.302 136.992 398.292 Q135.348 400.26 132.316 401.024 Z\" fill=\"#000000\" fill-rule=\"evenodd\" fill-opacity=\"1\" /><path clip-path=\"url(#clip570)\" d=\"M 0 0 M129.862 56.338 L118.056 74.787 L129.862 74.787 L129.862 56.338 M128.635 52.264 L134.515 52.264 L134.515 74.787 L139.445 74.787 L139.445 78.6759 L134.515 78.6759 L134.515 86.824 L129.862 86.824 L129.862 78.6759 L114.26 78.6759 L114.26 74.162 L128.635 52.264 Z\" fill=\"#000000\" fill-rule=\"evenodd\" fill-opacity=\"1\" /><path clip-path=\"url(#clip570)\" d=\"M 0 0 M20.1444 809.563 L26.9239 809.563 Q23.9002 812.81 22.4043 816.502 Q20.9083 820.162 20.9083 824.3 Q20.9083 832.448 25.9054 836.777 Q30.8707 841.105 40.2919 841.105 Q49.6813 841.105 54.6784 836.777 Q59.6436 832.448 59.6436 824.3 Q59.6436 820.162 58.1477 816.502 Q56.6518 812.81 53.6281 809.563 L60.3439 809.563 Q62.6355 812.937 63.7814 816.725 Q64.9272 820.481 64.9272 824.682 Q64.9272 835.472 58.3387 841.678 Q51.7183 847.885 40.2919 847.885 Q28.8336 847.885 22.2451 841.678 Q15.6248 835.472 15.6248 824.682 Q15.6248 820.417 16.7706 816.661 Q17.8846 812.874 20.1444 809.563 Z\" fill=\"#000000\" fill-rule=\"evenodd\" fill-opacity=\"1\" /><path clip-path=\"url(#clip570)\" d=\"M 0 0 M14.479 783.241 L14.479 769.746 L19.0304 769.746 L19.0304 777.385 L68.0464 777.385 L68.0464 769.746 L72.5979 769.746 L72.5979 783.241 L14.479 783.241 Z\" fill=\"#000000\" fill-rule=\"evenodd\" fill-opacity=\"1\" /><path clip-path=\"url(#clip570)\" d=\"M 0 0 M35.1993 735.849 Q31.2526 733.652 29.3747 730.597 Q27.4968 727.541 27.4968 723.404 Q27.4968 717.834 31.4117 714.81 Q35.2948 711.786 42.4881 711.786 L64.0042 711.786 L64.0042 717.674 L42.679 717.674 Q37.5546 717.674 35.072 719.489 Q32.5894 721.303 32.5894 725.027 Q32.5894 729.578 35.6131 732.22 Q38.6368 734.862 43.8567 734.862 L64.0042 734.862 L64.0042 740.75 L42.679 740.75 Q37.5228 740.75 35.072 742.564 Q32.5894 744.379 32.5894 748.166 Q32.5894 752.654 35.6449 755.296 Q38.6686 757.938 43.8567 757.938 L64.0042 757.938 L64.0042 763.826 L28.3562 763.826 L28.3562 757.938 L33.8944 757.938 Q30.616 755.932 29.0564 753.131 Q27.4968 750.331 27.4968 746.479 Q27.4968 742.596 29.4702 739.891 Q31.4436 737.154 35.1993 735.849 Z\" fill=\"#000000\" fill-rule=\"evenodd\" fill-opacity=\"1\" /><path clip-path=\"url(#clip570)\" d=\"M 0 0 M45.7664 682.186 Q39.4007 682.186 35.8996 684.827 Q32.3984 687.437 32.3984 692.18 Q32.3984 696.89 35.8996 699.532 Q39.4007 702.142 45.7664 702.142 Q52.1003 702.142 55.6014 699.532 Q59.1026 696.89 59.1026 692.18 Q59.1026 687.437 55.6014 684.827 Q52.1003 682.186 45.7664 682.186 M59.58 676.329 Q68.683 676.329 73.1071 680.371 Q77.5631 684.414 77.5631 692.753 Q77.5631 695.84 77.0857 698.577 Q76.6401 701.315 75.6852 703.893 L69.9879 703.893 Q71.3884 701.315 72.0568 698.8 Q72.7252 696.286 72.7252 693.676 Q72.7252 687.915 69.7015 685.05 Q66.7096 682.186 60.6303 682.186 L57.7339 682.186 Q60.885 684 62.4446 686.833 Q64.0042 689.665 64.0042 693.612 Q64.0042 700.169 59.0071 704.179 Q54.01 708.19 45.7664 708.19 Q37.491 708.19 32.4939 704.179 Q27.4968 700.169 27.4968 693.612 Q27.4968 689.665 29.0564 686.833 Q30.616 684 33.7671 682.186 L28.3562 682.186 L28.3562 676.329 L59.58 676.329 Z\" fill=\"#000000\" fill-rule=\"evenodd\" fill-opacity=\"1\" /><path clip-path=\"url(#clip570)\" d=\"M 0 0 M16.4842 659.778 L16.4842 654.367 L70.0516 670.918 L70.0516 676.329 L16.4842 659.778 Z\" fill=\"#000000\" fill-rule=\"evenodd\" fill-opacity=\"1\" /><path clip-path=\"url(#clip570)\" d=\"M 0 0 M14.479 648.225 L14.479 642.368 L64.0042 642.368 L64.0042 648.225 L14.479 648.225 Z\" fill=\"#000000\" fill-rule=\"evenodd\" fill-opacity=\"1\" /><path clip-path=\"url(#clip570)\" d=\"M 0 0 M14.479 622.539 L72.5979 622.539 L72.5979 636.034 L68.0464 636.034 L68.0464 628.427 L19.0304 628.427 L19.0304 636.034 L14.479 636.034 L14.479 622.539 Z\" fill=\"#000000\" fill-rule=\"evenodd\" fill-opacity=\"1\" /><circle clip-path=\"url(#clip572)\" cx=\"237.067\" cy=\"535.512\" r=\"14\" fill=\"#009af9\" fill-rule=\"evenodd\" fill-opacity=\"1\" stroke=\"#000000\" stroke-opacity=\"1\" stroke-width=\"3.2\"/>\n",
       "<circle clip-path=\"url(#clip572)\" cx=\"280.771\" cy=\"86.1857\" r=\"14\" fill=\"#009af9\" fill-rule=\"evenodd\" fill-opacity=\"1\" stroke=\"#000000\" stroke-opacity=\"1\" stroke-width=\"3.2\"/>\n",
       "<circle clip-path=\"url(#clip572)\" cx=\"324.474\" cy=\"109.484\" r=\"14\" fill=\"#009af9\" fill-rule=\"evenodd\" fill-opacity=\"1\" stroke=\"#000000\" stroke-opacity=\"1\" stroke-width=\"3.2\"/>\n",
       "<circle clip-path=\"url(#clip572)\" cx=\"368.178\" cy=\"219.319\" r=\"14\" fill=\"#009af9\" fill-rule=\"evenodd\" fill-opacity=\"1\" stroke=\"#000000\" stroke-opacity=\"1\" stroke-width=\"3.2\"/>\n",
       "<circle clip-path=\"url(#clip572)\" cx=\"455.585\" cy=\"458.96\" r=\"14\" fill=\"#009af9\" fill-rule=\"evenodd\" fill-opacity=\"1\" stroke=\"#000000\" stroke-opacity=\"1\" stroke-width=\"3.2\"/>\n",
       "<circle clip-path=\"url(#clip572)\" cx=\"717.806\" cy=\"978.181\" r=\"14\" fill=\"#009af9\" fill-rule=\"evenodd\" fill-opacity=\"1\" stroke=\"#000000\" stroke-opacity=\"1\" stroke-width=\"3.2\"/>\n",
       "<circle clip-path=\"url(#clip572)\" cx=\"980.028\" cy=\"1254.43\" r=\"14\" fill=\"#009af9\" fill-rule=\"evenodd\" fill-opacity=\"1\" stroke=\"#000000\" stroke-opacity=\"1\" stroke-width=\"3.2\"/>\n",
       "<circle clip-path=\"url(#clip572)\" cx=\"1242.25\" cy=\"1344.3\" r=\"14\" fill=\"#009af9\" fill-rule=\"evenodd\" fill-opacity=\"1\" stroke=\"#000000\" stroke-opacity=\"1\" stroke-width=\"3.2\"/>\n",
       "<circle clip-path=\"url(#clip572)\" cx=\"2291.13\" cy=\"1384.24\" r=\"14\" fill=\"#009af9\" fill-rule=\"evenodd\" fill-opacity=\"1\" stroke=\"#000000\" stroke-opacity=\"1\" stroke-width=\"3.2\"/>\n",
       "<path clip-path=\"url(#clip570)\" d=\"\n",
       "M1647.12 214.069 L2280.18 214.069 L2280.18 93.1086 L1647.12 93.1086  Z\n",
       "  \" fill=\"#ffffff\" fill-rule=\"evenodd\" fill-opacity=\"1\"/>\n",
       "<polyline clip-path=\"url(#clip570)\" style=\"stroke:#000000; stroke-width:4; stroke-opacity:1; fill:none\" points=\"\n",
       "  1647.12,214.069 2280.18,214.069 2280.18,93.1086 1647.12,93.1086 1647.12,214.069 \n",
       "  \"/>\n",
       "<circle clip-path=\"url(#clip570)\" cx=\"1743.89\" cy=\"153.589\" r=\"23\" fill=\"#009af9\" fill-rule=\"evenodd\" fill-opacity=\"1\" stroke=\"#000000\" stroke-opacity=\"1\" stroke-width=\"5.12\"/>\n",
       "<path clip-path=\"url(#clip570)\" d=\"M 0 0 M1840.66 144.943 L1844.92 144.943 L1850.25 165.174 L1855.55 144.943 L1860.57 144.943 L1865.89 165.174 L1871.19 144.943 L1875.45 144.943 L1868.67 170.869 L1863.65 170.869 L1858.07 149.619 L1852.47 170.869 L1847.44 170.869 L1840.66 144.943 Z\" fill=\"#000000\" fill-rule=\"evenodd\" fill-opacity=\"1\" /><path clip-path=\"url(#clip570)\" d=\"M 0 0 M1891.7 157.836 Q1886.54 157.836 1884.55 159.017 Q1882.56 160.197 1882.56 163.045 Q1882.56 165.313 1884.04 166.656 Q1885.55 167.975 1888.12 167.975 Q1891.66 167.975 1893.79 165.475 Q1895.94 162.952 1895.94 158.785 L1895.94 157.836 L1891.7 157.836 M1900.2 156.077 L1900.2 170.869 L1895.94 170.869 L1895.94 166.933 Q1894.48 169.295 1892.31 170.429 Q1890.13 171.54 1886.98 171.54 Q1883 171.54 1880.64 169.318 Q1878.3 167.072 1878.3 163.322 Q1878.3 158.947 1881.22 156.725 Q1884.16 154.503 1889.97 154.503 L1895.94 154.503 L1895.94 154.086 Q1895.94 151.147 1894 149.549 Q1892.07 147.929 1888.58 147.929 Q1886.36 147.929 1884.25 148.461 Q1882.14 148.994 1880.2 150.059 L1880.2 146.123 Q1882.54 145.221 1884.74 144.781 Q1886.93 144.318 1889.02 144.318 Q1894.64 144.318 1897.42 147.234 Q1900.2 150.151 1900.2 156.077 Z\" fill=\"#000000\" fill-rule=\"evenodd\" fill-opacity=\"1\" /><path clip-path=\"url(#clip570)\" d=\"M 0 0 M1919.69 148.924 Q1918.97 148.508 1918.12 148.322 Q1917.28 148.114 1916.26 148.114 Q1912.65 148.114 1910.71 150.475 Q1908.79 152.813 1908.79 157.211 L1908.79 170.869 L1904.5 170.869 L1904.5 144.943 L1908.79 144.943 L1908.79 148.971 Q1910.13 146.609 1912.28 145.475 Q1914.43 144.318 1917.51 144.318 Q1917.95 144.318 1918.49 144.387 Q1919.02 144.434 1919.67 144.549 L1919.69 148.924 Z\" fill=\"#000000\" fill-rule=\"evenodd\" fill-opacity=\"1\" /><path clip-path=\"url(#clip570)\" d=\"M 0 0 M1928.37 137.582 L1928.37 144.943 L1937.14 144.943 L1937.14 148.253 L1928.37 148.253 L1928.37 162.327 Q1928.37 165.498 1929.23 166.401 Q1930.11 167.304 1932.77 167.304 L1937.14 167.304 L1937.14 170.869 L1932.77 170.869 Q1927.84 170.869 1925.96 169.04 Q1924.09 167.188 1924.09 162.327 L1924.09 148.253 L1920.96 148.253 L1920.96 144.943 L1924.09 144.943 L1924.09 137.582 L1928.37 137.582 Z\" fill=\"#000000\" fill-rule=\"evenodd\" fill-opacity=\"1\" /><path clip-path=\"url(#clip570)\" d=\"M 0 0 M1951.66 147.929 Q1948.23 147.929 1946.24 150.614 Q1944.25 153.276 1944.25 157.929 Q1944.25 162.582 1946.22 165.267 Q1948.21 167.929 1951.66 167.929 Q1955.06 167.929 1957.05 165.244 Q1959.04 162.558 1959.04 157.929 Q1959.04 153.322 1957.05 150.637 Q1955.06 147.929 1951.66 147.929 M1951.66 144.318 Q1957.21 144.318 1960.38 147.929 Q1963.55 151.54 1963.55 157.929 Q1963.55 164.295 1960.38 167.929 Q1957.21 171.54 1951.66 171.54 Q1946.08 171.54 1942.91 167.929 Q1939.76 164.295 1939.76 157.929 Q1939.76 151.54 1942.91 147.929 Q1946.08 144.318 1951.66 144.318 Z\" fill=\"#000000\" fill-rule=\"evenodd\" fill-opacity=\"1\" /><path clip-path=\"url(#clip570)\" d=\"M 0 0 M1980.15 132.79 L1984.76 132.79 L1977.21 141.494 L1973.67 141.494 L1980.15 132.79 M1984.55 145.707 L1984.55 149.734 Q1982.74 148.809 1980.8 148.346 Q1978.86 147.883 1976.77 147.883 Q1973.6 147.883 1972 148.855 Q1970.43 149.827 1970.43 151.771 Q1970.43 153.253 1971.56 154.109 Q1972.7 154.943 1976.12 155.707 L1977.58 156.031 Q1982.12 157.003 1984.02 158.785 Q1985.94 160.545 1985.94 163.716 Q1985.94 167.327 1983.07 169.433 Q1980.22 171.54 1975.22 171.54 Q1973.14 171.54 1970.87 171.123 Q1968.62 170.73 1966.12 169.92 L1966.12 165.521 Q1968.49 166.748 1970.78 167.373 Q1973.07 167.975 1975.31 167.975 Q1978.32 167.975 1979.94 166.957 Q1981.56 165.915 1981.56 164.04 Q1981.56 162.304 1980.38 161.378 Q1979.23 160.452 1975.27 159.596 L1973.79 159.248 Q1969.83 158.415 1968.07 156.702 Q1966.31 154.966 1966.31 151.957 Q1966.31 148.299 1968.9 146.309 Q1971.49 144.318 1976.26 144.318 Q1978.62 144.318 1980.71 144.665 Q1982.79 145.012 1984.55 145.707 Z\" fill=\"#000000\" fill-rule=\"evenodd\" fill-opacity=\"1\" /><path clip-path=\"url(#clip570)\" d=\"M 0 0 M2009.06 145.938 L2009.06 149.92 Q2007.26 148.924 2005.43 148.438 Q2003.62 147.929 2001.77 147.929 Q1997.63 147.929 1995.34 150.568 Q1993.05 153.184 1993.05 157.929 Q1993.05 162.674 1995.34 165.313 Q1997.63 167.929 2001.77 167.929 Q2003.62 167.929 2005.43 167.443 Q2007.26 166.933 2009.06 165.938 L2009.06 169.873 Q2007.28 170.707 2005.36 171.123 Q2003.46 171.54 2001.31 171.54 Q1995.45 171.54 1992 167.859 Q1988.55 164.179 1988.55 157.929 Q1988.55 151.586 1992.03 147.952 Q1995.52 144.318 2001.59 144.318 Q2003.55 144.318 2005.43 144.735 Q2007.3 145.128 2009.06 145.938 Z\" fill=\"#000000\" fill-rule=\"evenodd\" fill-opacity=\"1\" /><path clip-path=\"url(#clip570)\" d=\"M 0 0 M2013.53 144.943 L2017.79 144.943 L2017.79 170.869 L2013.53 170.869 L2013.53 144.943 M2013.53 134.85 L2017.79 134.85 L2017.79 140.244 L2013.53 140.244 L2013.53 134.85 Z\" fill=\"#000000\" fill-rule=\"evenodd\" fill-opacity=\"1\" /><path clip-path=\"url(#clip570)\" d=\"M 0 0 M2057.51 149.92 Q2059.11 147.049 2061.33 145.684 Q2063.55 144.318 2066.56 144.318 Q2070.61 144.318 2072.81 147.165 Q2075.01 149.989 2075.01 155.221 L2075.01 170.869 L2070.73 170.869 L2070.73 155.359 Q2070.73 151.633 2069.41 149.827 Q2068.09 148.022 2065.38 148.022 Q2062.07 148.022 2060.15 150.221 Q2058.23 152.42 2058.23 156.216 L2058.23 170.869 L2053.95 170.869 L2053.95 155.359 Q2053.95 151.609 2052.63 149.827 Q2051.31 148.022 2048.55 148.022 Q2045.29 148.022 2043.37 150.244 Q2041.45 152.443 2041.45 156.216 L2041.45 170.869 L2037.17 170.869 L2037.17 144.943 L2041.45 144.943 L2041.45 148.971 Q2042.91 146.586 2044.94 145.452 Q2046.98 144.318 2049.78 144.318 Q2052.61 144.318 2054.57 145.753 Q2056.56 147.188 2057.51 149.92 Z\" fill=\"#000000\" fill-rule=\"evenodd\" fill-opacity=\"1\" /><path clip-path=\"url(#clip570)\" d=\"M 0 0 M2079.48 144.943 L2083.74 144.943 L2083.74 170.869 L2079.48 170.869 L2079.48 144.943 M2079.48 134.85 L2083.74 134.85 L2083.74 140.244 L2079.48 140.244 L2079.48 134.85 Z\" fill=\"#000000\" fill-rule=\"evenodd\" fill-opacity=\"1\" /><path clip-path=\"url(#clip570)\" d=\"M 0 0 M2110.38 156.841 L2110.38 158.924 L2090.8 158.924 Q2091.08 163.322 2093.44 165.637 Q2095.82 167.929 2100.06 167.929 Q2102.51 167.929 2104.8 167.327 Q2107.12 166.725 2109.39 165.521 L2109.39 169.549 Q2107.1 170.521 2104.69 171.031 Q2102.28 171.54 2099.8 171.54 Q2093.6 171.54 2089.97 167.929 Q2086.36 164.318 2086.36 158.16 Q2086.36 151.795 2089.78 148.068 Q2093.23 144.318 2099.06 144.318 Q2104.29 144.318 2107.33 147.697 Q2110.38 151.054 2110.38 156.841 M2106.12 155.591 Q2106.08 152.096 2104.16 150.012 Q2102.26 147.929 2099.11 147.929 Q2095.54 147.929 2093.39 149.943 Q2091.26 151.957 2090.94 155.614 L2106.12 155.591 Z\" fill=\"#000000\" fill-rule=\"evenodd\" fill-opacity=\"1\" /><path clip-path=\"url(#clip570)\" d=\"M 0 0 M2129.87 148.924 Q2129.16 148.508 2128.3 148.322 Q2127.47 148.114 2126.45 148.114 Q2122.84 148.114 2120.89 150.475 Q2118.97 152.813 2118.97 157.211 L2118.97 170.869 L2114.69 170.869 L2114.69 144.943 L2118.97 144.943 L2118.97 148.971 Q2120.31 146.609 2122.47 145.475 Q2124.62 144.318 2127.7 144.318 Q2128.14 144.318 2128.67 144.387 Q2129.2 144.434 2129.85 144.549 L2129.87 148.924 Z\" fill=\"#000000\" fill-rule=\"evenodd\" fill-opacity=\"1\" /><path clip-path=\"url(#clip570)\" d=\"M 0 0 M2132.49 144.943 L2152.72 144.943 L2152.72 148.832 L2136.7 167.466 L2152.72 167.466 L2152.72 170.869 L2131.91 170.869 L2131.91 166.98 L2147.93 148.346 L2132.49 148.346 L2132.49 144.943 Z\" fill=\"#000000\" fill-rule=\"evenodd\" fill-opacity=\"1\" /><path clip-path=\"url(#clip570)\" d=\"M 0 0 M2167.23 147.929 Q2163.81 147.929 2161.82 150.614 Q2159.83 153.276 2159.83 157.929 Q2159.83 162.582 2161.79 165.267 Q2163.79 167.929 2167.23 167.929 Q2170.64 167.929 2172.63 165.244 Q2174.62 162.558 2174.62 157.929 Q2174.62 153.322 2172.63 150.637 Q2170.64 147.929 2167.23 147.929 M2167.23 144.318 Q2172.79 144.318 2175.96 147.929 Q2179.13 151.54 2179.13 157.929 Q2179.13 164.295 2175.96 167.929 Q2172.79 171.54 2167.23 171.54 Q2161.66 171.54 2158.48 167.929 Q2155.34 164.295 2155.34 157.929 Q2155.34 151.54 2158.48 147.929 Q2161.66 144.318 2167.23 144.318 Z\" fill=\"#000000\" fill-rule=\"evenodd\" fill-opacity=\"1\" /><path clip-path=\"url(#clip570)\" d=\"M 0 0 M2205.15 155.221 L2205.15 170.869 L2200.89 170.869 L2200.89 155.359 Q2200.89 151.679 2199.46 149.85 Q2198.02 148.022 2195.15 148.022 Q2191.7 148.022 2189.71 150.221 Q2187.72 152.42 2187.72 156.216 L2187.72 170.869 L2183.44 170.869 L2183.44 144.943 L2187.72 144.943 L2187.72 148.971 Q2189.25 146.633 2191.31 145.475 Q2193.39 144.318 2196.1 144.318 Q2200.57 144.318 2202.86 147.096 Q2205.15 149.85 2205.15 155.221 Z\" fill=\"#000000\" fill-rule=\"evenodd\" fill-opacity=\"1\" /><path clip-path=\"url(#clip570)\" d=\"M 0 0 M2231.79 156.841 L2231.79 158.924 L2212.21 158.924 Q2212.49 163.322 2214.85 165.637 Q2217.23 167.929 2221.47 167.929 Q2223.92 167.929 2226.22 167.327 Q2228.53 166.725 2230.8 165.521 L2230.8 169.549 Q2228.51 170.521 2226.1 171.031 Q2223.69 171.54 2221.22 171.54 Q2215.01 171.54 2211.38 167.929 Q2207.77 164.318 2207.77 158.16 Q2207.77 151.795 2211.19 148.068 Q2214.64 144.318 2220.47 144.318 Q2225.71 144.318 2228.74 147.697 Q2231.79 151.054 2231.79 156.841 M2227.53 155.591 Q2227.49 152.096 2225.57 150.012 Q2223.67 147.929 2220.52 147.929 Q2216.96 147.929 2214.8 149.943 Q2212.67 151.957 2212.35 155.614 L2227.53 155.591 Z\" fill=\"#000000\" fill-rule=\"evenodd\" fill-opacity=\"1\" /></svg>\n"
      ]
     },
     "execution_count": 201,
     "metadata": {},
     "output_type": "execute_result"
    }
   ],
   "source": [
    "scatter(t_2, C_2, xlabel=\"t [h]\", ylabel=\"C [mg/l]\", label = \"wartości mierzone\")"
   ]
  },
  {
   "cell_type": "markdown",
   "metadata": {},
   "source": [
    "W naszych analitycznych rozważaniach doszliśmy do wzoru $$ C(t) = \\frac{\\mathrm{k}_a \\cdot X_{D_0}}{V_d \\cdot \\left(\\mathrm{k}_a - \\mathrm{k}_e\\right)} \\cdot \\left(\\mathrm{e}^{-\\mathrm{k}_e \\cdot t} - \\mathrm{e}^{-\\mathrm{k}_a \\cdot t}\\right)$$"
   ]
  },
  {
   "cell_type": "markdown",
   "metadata": {},
   "source": [
    "W przypadku naszych danych $V_d = 18,7l$, $\\mathrm{k}_e = 0,279/h$, $\\mathrm{k}_a = 2,29/h$, $X_{D_0} = 100mg$"
   ]
  },
  {
   "cell_type": "markdown",
   "metadata": {},
   "source": [
    "Wykorzystując analityczne rozwiązanie możemy wyliczyć wartość stężenia w kolejnych okresach czasu"
   ]
  },
  {
   "cell_type": "code",
   "execution_count": 1,
   "metadata": {},
   "outputs": [
    {
     "data": {
      "text/plain": [
       "one_analyt2 (generic function with 1 method)"
      ]
     },
     "metadata": {},
     "output_type": "display_data"
    }
   ],
   "source": [
    "function one_analyt2(t)\n",
    "    x = fill(NaN, length(t))\n",
    "    for i in 1:(length(t))\n",
    "        x[i] = ((2.29*100)/(18.7*(2.29-0.279))*(ℯ^(-0.279*t[i])-ℯ^(-2.29*t[i])))\n",
    "    end\n",
    "    return x\n",
    "end"
   ]
  },
  {
   "cell_type": "code",
   "execution_count": 203,
   "metadata": {},
   "outputs": [
    {
     "data": {
      "image/svg+xml": [
       "<?xml version=\"1.0\" encoding=\"utf-8\"?>\n",
       "<svg xmlns=\"http://www.w3.org/2000/svg\" xmlns:xlink=\"http://www.w3.org/1999/xlink\" width=\"600\" height=\"400\" viewBox=\"0 0 2400 1600\">\n",
       "<defs>\n",
       "  <clipPath id=\"clip610\">\n",
       "    <rect x=\"0\" y=\"0\" width=\"2400\" height=\"1600\"/>\n",
       "  </clipPath>\n",
       "</defs>\n",
       "<path clip-path=\"url(#clip610)\" d=\"\n",
       "M0 1600 L2400 1600 L2400 0 L0 0  Z\n",
       "  \" fill=\"#ffffff\" fill-rule=\"evenodd\" fill-opacity=\"1\"/>\n",
       "<defs>\n",
       "  <clipPath id=\"clip611\">\n",
       "    <rect x=\"480\" y=\"0\" width=\"1681\" height=\"1600\"/>\n",
       "  </clipPath>\n",
       "</defs>\n",
       "<path clip-path=\"url(#clip610)\" d=\"\n",
       "M175.445 1423.18 L2352.76 1423.18 L2352.76 47.2441 L175.445 47.2441  Z\n",
       "  \" fill=\"#ffffff\" fill-rule=\"evenodd\" fill-opacity=\"1\"/>\n",
       "<defs>\n",
       "  <clipPath id=\"clip612\">\n",
       "    <rect x=\"175\" y=\"47\" width=\"2178\" height=\"1377\"/>\n",
       "  </clipPath>\n",
       "</defs>\n",
       "<polyline clip-path=\"url(#clip612)\" style=\"stroke:#000000; stroke-width:2; stroke-opacity:0.1; fill:none\" points=\"\n",
       "  237.067,1423.18 237.067,47.2441 \n",
       "  \"/>\n",
       "<polyline clip-path=\"url(#clip612)\" style=\"stroke:#000000; stroke-width:2; stroke-opacity:0.1; fill:none\" points=\"\n",
       "  664.998,1423.18 664.998,47.2441 \n",
       "  \"/>\n",
       "<polyline clip-path=\"url(#clip612)\" style=\"stroke:#000000; stroke-width:2; stroke-opacity:0.1; fill:none\" points=\"\n",
       "  1092.93,1423.18 1092.93,47.2441 \n",
       "  \"/>\n",
       "<polyline clip-path=\"url(#clip612)\" style=\"stroke:#000000; stroke-width:2; stroke-opacity:0.1; fill:none\" points=\"\n",
       "  1520.86,1423.18 1520.86,47.2441 \n",
       "  \"/>\n",
       "<polyline clip-path=\"url(#clip612)\" style=\"stroke:#000000; stroke-width:2; stroke-opacity:0.1; fill:none\" points=\"\n",
       "  1948.79,1423.18 1948.79,47.2441 \n",
       "  \"/>\n",
       "<polyline clip-path=\"url(#clip610)\" style=\"stroke:#000000; stroke-width:4; stroke-opacity:1; fill:none\" points=\"\n",
       "  175.445,1423.18 2352.76,1423.18 \n",
       "  \"/>\n",
       "<polyline clip-path=\"url(#clip610)\" style=\"stroke:#000000; stroke-width:4; stroke-opacity:1; fill:none\" points=\"\n",
       "  237.067,1423.18 237.067,1406.67 \n",
       "  \"/>\n",
       "<polyline clip-path=\"url(#clip610)\" style=\"stroke:#000000; stroke-width:4; stroke-opacity:1; fill:none\" points=\"\n",
       "  664.998,1423.18 664.998,1406.67 \n",
       "  \"/>\n",
       "<polyline clip-path=\"url(#clip610)\" style=\"stroke:#000000; stroke-width:4; stroke-opacity:1; fill:none\" points=\"\n",
       "  1092.93,1423.18 1092.93,1406.67 \n",
       "  \"/>\n",
       "<polyline clip-path=\"url(#clip610)\" style=\"stroke:#000000; stroke-width:4; stroke-opacity:1; fill:none\" points=\"\n",
       "  1520.86,1423.18 1520.86,1406.67 \n",
       "  \"/>\n",
       "<polyline clip-path=\"url(#clip610)\" style=\"stroke:#000000; stroke-width:4; stroke-opacity:1; fill:none\" points=\"\n",
       "  1948.79,1423.18 1948.79,1406.67 \n",
       "  \"/>\n",
       "<path clip-path=\"url(#clip610)\" d=\"M 0 0 M237.067 1452.37 Q233.456 1452.37 231.627 1455.94 Q229.822 1459.48 229.822 1466.61 Q229.822 1473.71 231.627 1477.28 Q233.456 1480.82 237.067 1480.82 Q240.701 1480.82 242.507 1477.28 Q244.336 1473.71 244.336 1466.61 Q244.336 1459.48 242.507 1455.94 Q240.701 1452.37 237.067 1452.37 M237.067 1448.67 Q242.877 1448.67 245.933 1453.27 Q249.012 1457.86 249.012 1466.61 Q249.012 1475.33 245.933 1479.94 Q242.877 1484.52 237.067 1484.52 Q231.257 1484.52 228.178 1479.94 Q225.123 1475.33 225.123 1466.61 Q225.123 1457.86 228.178 1453.27 Q231.257 1448.67 237.067 1448.67 Z\" fill=\"#000000\" fill-rule=\"evenodd\" fill-opacity=\"1\" /><path clip-path=\"url(#clip610)\" d=\"M 0 0 M655.276 1449.29 L673.632 1449.29 L673.632 1453.23 L659.558 1453.23 L659.558 1461.7 Q660.576 1461.35 661.595 1461.19 Q662.614 1461 663.632 1461 Q669.419 1461 672.799 1464.18 Q676.178 1467.35 676.178 1472.76 Q676.178 1478.34 672.706 1481.44 Q669.234 1484.52 662.914 1484.52 Q660.739 1484.52 658.47 1484.15 Q656.225 1483.78 653.817 1483.04 L653.817 1478.34 Q655.901 1479.48 658.123 1480.03 Q660.345 1480.59 662.822 1480.59 Q666.826 1480.59 669.164 1478.48 Q671.502 1476.38 671.502 1472.76 Q671.502 1469.15 669.164 1467.05 Q666.826 1464.94 662.822 1464.94 Q660.947 1464.94 659.072 1465.36 Q657.22 1465.77 655.276 1466.65 L655.276 1449.29 Z\" fill=\"#000000\" fill-rule=\"evenodd\" fill-opacity=\"1\" /><path clip-path=\"url(#clip610)\" d=\"M 0 0 M1069.8 1479.92 L1077.44 1479.92 L1077.44 1453.55 L1069.13 1455.22 L1069.13 1450.96 L1077.4 1449.29 L1082.07 1449.29 L1082.07 1479.92 L1089.71 1479.92 L1089.71 1483.85 L1069.8 1483.85 L1069.8 1479.92 Z\" fill=\"#000000\" fill-rule=\"evenodd\" fill-opacity=\"1\" /><path clip-path=\"url(#clip610)\" d=\"M 0 0 M1104.78 1452.37 Q1101.17 1452.37 1099.34 1455.94 Q1097.53 1459.48 1097.53 1466.61 Q1097.53 1473.71 1099.34 1477.28 Q1101.17 1480.82 1104.78 1480.82 Q1108.41 1480.82 1110.22 1477.28 Q1112.05 1473.71 1112.05 1466.61 Q1112.05 1459.48 1110.22 1455.94 Q1108.41 1452.37 1104.78 1452.37 M1104.78 1448.67 Q1110.59 1448.67 1113.65 1453.27 Q1116.72 1457.86 1116.72 1466.61 Q1116.72 1475.33 1113.65 1479.94 Q1110.59 1484.52 1104.78 1484.52 Q1098.97 1484.52 1095.89 1479.94 Q1092.84 1475.33 1092.84 1466.61 Q1092.84 1457.86 1095.89 1453.27 Q1098.97 1448.67 1104.78 1448.67 Z\" fill=\"#000000\" fill-rule=\"evenodd\" fill-opacity=\"1\" /><path clip-path=\"url(#clip610)\" d=\"M 0 0 M1498.23 1479.92 L1505.87 1479.92 L1505.87 1453.55 L1497.56 1455.22 L1497.56 1450.96 L1505.82 1449.29 L1510.5 1449.29 L1510.5 1479.92 L1518.14 1479.92 L1518.14 1483.85 L1498.23 1483.85 L1498.23 1479.92 Z\" fill=\"#000000\" fill-rule=\"evenodd\" fill-opacity=\"1\" /><path clip-path=\"url(#clip610)\" d=\"M 0 0 M1523.25 1449.29 L1541.61 1449.29 L1541.61 1453.23 L1527.54 1453.23 L1527.54 1461.7 Q1528.56 1461.35 1529.57 1461.19 Q1530.59 1461 1531.61 1461 Q1537.4 1461 1540.78 1464.18 Q1544.16 1467.35 1544.16 1472.76 Q1544.16 1478.34 1540.69 1481.44 Q1537.21 1484.52 1530.89 1484.52 Q1528.72 1484.52 1526.45 1484.15 Q1524.2 1483.78 1521.8 1483.04 L1521.8 1478.34 Q1523.88 1479.48 1526.1 1480.03 Q1528.32 1480.59 1530.8 1480.59 Q1534.81 1480.59 1537.14 1478.48 Q1539.48 1476.38 1539.48 1472.76 Q1539.48 1469.15 1537.14 1467.05 Q1534.81 1464.94 1530.8 1464.94 Q1528.93 1464.94 1527.05 1465.36 Q1525.2 1465.77 1523.25 1466.65 L1523.25 1449.29 Z\" fill=\"#000000\" fill-rule=\"evenodd\" fill-opacity=\"1\" /><path clip-path=\"url(#clip610)\" d=\"M 0 0 M1929.94 1479.92 L1946.25 1479.92 L1946.25 1483.85 L1924.31 1483.85 L1924.31 1479.92 Q1926.97 1477.16 1931.56 1472.53 Q1936.16 1467.88 1937.34 1466.54 Q1939.59 1464.01 1940.47 1462.28 Q1941.37 1460.52 1941.37 1458.83 Q1941.37 1456.07 1939.43 1454.34 Q1937.5 1452.6 1934.4 1452.6 Q1932.2 1452.6 1929.75 1453.37 Q1927.32 1454.13 1924.54 1455.68 L1924.54 1450.96 Q1927.37 1449.82 1929.82 1449.25 Q1932.27 1448.67 1934.31 1448.67 Q1939.68 1448.67 1942.88 1451.35 Q1946.07 1454.04 1946.07 1458.53 Q1946.07 1460.66 1945.26 1462.58 Q1944.47 1464.48 1942.37 1467.07 Q1941.79 1467.74 1938.69 1470.96 Q1935.58 1474.15 1929.94 1479.92 Z\" fill=\"#000000\" fill-rule=\"evenodd\" fill-opacity=\"1\" /><path clip-path=\"url(#clip610)\" d=\"M 0 0 M1961.32 1452.37 Q1957.71 1452.37 1955.88 1455.94 Q1954.08 1459.48 1954.08 1466.61 Q1954.08 1473.71 1955.88 1477.28 Q1957.71 1480.82 1961.32 1480.82 Q1964.96 1480.82 1966.76 1477.28 Q1968.59 1473.71 1968.59 1466.61 Q1968.59 1459.48 1966.76 1455.94 Q1964.96 1452.37 1961.32 1452.37 M1961.32 1448.67 Q1967.13 1448.67 1970.19 1453.27 Q1973.27 1457.86 1973.27 1466.61 Q1973.27 1475.33 1970.19 1479.94 Q1967.13 1484.52 1961.32 1484.52 Q1955.51 1484.52 1952.44 1479.94 Q1949.38 1475.33 1949.38 1466.61 Q1949.38 1457.86 1952.44 1453.27 Q1955.51 1448.67 1961.32 1448.67 Z\" fill=\"#000000\" fill-rule=\"evenodd\" fill-opacity=\"1\" /><path clip-path=\"url(#clip610)\" d=\"M 0 0 M1215.45 1522.27 L1215.45 1532.4 L1227.51 1532.4 L1227.51 1536.95 L1215.45 1536.95 L1215.45 1556.3 Q1215.45 1560.66 1216.63 1561.9 Q1217.84 1563.14 1221.5 1563.14 L1227.51 1563.14 L1227.51 1568.04 L1221.5 1568.04 Q1214.72 1568.04 1212.14 1565.53 Q1209.56 1562.98 1209.56 1556.3 L1209.56 1536.95 L1205.27 1536.95 L1205.27 1532.4 L1209.56 1532.4 L1209.56 1522.27 L1215.45 1522.27 Z\" fill=\"#000000\" fill-rule=\"evenodd\" fill-opacity=\"1\" /><path clip-path=\"url(#clip610)\" d=\"M 0 0 M1253.84 1518.52 L1267.33 1518.52 L1267.33 1523.07 L1259.69 1523.07 L1259.69 1572.09 L1267.33 1572.09 L1267.33 1576.64 L1253.84 1576.64 L1253.84 1518.52 Z\" fill=\"#000000\" fill-rule=\"evenodd\" fill-opacity=\"1\" /><path clip-path=\"url(#clip610)\" d=\"M 0 0 M1303.11 1546.53 L1303.11 1568.04 L1297.25 1568.04 L1297.25 1546.72 Q1297.25 1541.66 1295.28 1539.14 Q1293.3 1536.63 1289.36 1536.63 Q1284.61 1536.63 1281.88 1539.65 Q1279.14 1542.68 1279.14 1547.9 L1279.14 1568.04 L1273.25 1568.04 L1273.25 1518.52 L1279.14 1518.52 L1279.14 1537.93 Q1281.24 1534.72 1284.07 1533.13 Q1286.94 1531.54 1290.66 1531.54 Q1296.8 1531.54 1299.96 1535.36 Q1303.11 1539.14 1303.11 1546.53 Z\" fill=\"#000000\" fill-rule=\"evenodd\" fill-opacity=\"1\" /><path clip-path=\"url(#clip610)\" d=\"M 0 0 M1322.94 1518.52 L1322.94 1576.64 L1309.44 1576.64 L1309.44 1572.09 L1317.05 1572.09 L1317.05 1523.07 L1309.44 1523.07 L1309.44 1518.52 L1322.94 1518.52 Z\" fill=\"#000000\" fill-rule=\"evenodd\" fill-opacity=\"1\" /><polyline clip-path=\"url(#clip612)\" style=\"stroke:#000000; stroke-width:2; stroke-opacity:0.1; fill:none\" points=\"\n",
       "  175.445,1384.24 2352.76,1384.24 \n",
       "  \"/>\n",
       "<polyline clip-path=\"url(#clip612)\" style=\"stroke:#000000; stroke-width:2; stroke-opacity:0.1; fill:none\" points=\"\n",
       "  175.445,1058.94 2352.76,1058.94 \n",
       "  \"/>\n",
       "<polyline clip-path=\"url(#clip612)\" style=\"stroke:#000000; stroke-width:2; stroke-opacity:0.1; fill:none\" points=\"\n",
       "  175.445,733.632 2352.76,733.632 \n",
       "  \"/>\n",
       "<polyline clip-path=\"url(#clip612)\" style=\"stroke:#000000; stroke-width:2; stroke-opacity:0.1; fill:none\" points=\"\n",
       "  175.445,408.33 2352.76,408.33 \n",
       "  \"/>\n",
       "<polyline clip-path=\"url(#clip612)\" style=\"stroke:#000000; stroke-width:2; stroke-opacity:0.1; fill:none\" points=\"\n",
       "  175.445,83.0267 2352.76,83.0267 \n",
       "  \"/>\n",
       "<polyline clip-path=\"url(#clip610)\" style=\"stroke:#000000; stroke-width:4; stroke-opacity:1; fill:none\" points=\"\n",
       "  175.445,1423.18 175.445,47.2441 \n",
       "  \"/>\n",
       "<polyline clip-path=\"url(#clip610)\" style=\"stroke:#000000; stroke-width:4; stroke-opacity:1; fill:none\" points=\"\n",
       "  175.445,1384.24 201.573,1384.24 \n",
       "  \"/>\n",
       "<polyline clip-path=\"url(#clip610)\" style=\"stroke:#000000; stroke-width:4; stroke-opacity:1; fill:none\" points=\"\n",
       "  175.445,1058.94 201.573,1058.94 \n",
       "  \"/>\n",
       "<polyline clip-path=\"url(#clip610)\" style=\"stroke:#000000; stroke-width:4; stroke-opacity:1; fill:none\" points=\"\n",
       "  175.445,733.632 201.573,733.632 \n",
       "  \"/>\n",
       "<polyline clip-path=\"url(#clip610)\" style=\"stroke:#000000; stroke-width:4; stroke-opacity:1; fill:none\" points=\"\n",
       "  175.445,408.33 201.573,408.33 \n",
       "  \"/>\n",
       "<polyline clip-path=\"url(#clip610)\" style=\"stroke:#000000; stroke-width:4; stroke-opacity:1; fill:none\" points=\"\n",
       "  175.445,83.0267 201.573,83.0267 \n",
       "  \"/>\n",
       "<path clip-path=\"url(#clip610)\" d=\"M 0 0 M127.501 1370.04 Q123.89 1370.04 122.061 1373.6 Q120.255 1377.14 120.255 1384.27 Q120.255 1391.38 122.061 1394.94 Q123.89 1398.49 127.501 1398.49 Q131.135 1398.49 132.941 1394.94 Q134.769 1391.38 134.769 1384.27 Q134.769 1377.14 132.941 1373.6 Q131.135 1370.04 127.501 1370.04 M127.501 1366.33 Q133.311 1366.33 136.367 1370.94 Q139.445 1375.52 139.445 1384.27 Q139.445 1393 136.367 1397.61 Q133.311 1402.19 127.501 1402.19 Q121.691 1402.19 118.612 1397.61 Q115.556 1393 115.556 1384.27 Q115.556 1375.52 118.612 1370.94 Q121.691 1366.33 127.501 1366.33 Z\" fill=\"#000000\" fill-rule=\"evenodd\" fill-opacity=\"1\" /><path clip-path=\"url(#clip610)\" d=\"M 0 0 M119.538 1072.28 L127.177 1072.28 L127.177 1045.91 L118.867 1047.58 L118.867 1043.32 L127.13 1041.66 L131.806 1041.66 L131.806 1072.28 L139.445 1072.28 L139.445 1076.22 L119.538 1076.22 L119.538 1072.28 Z\" fill=\"#000000\" fill-rule=\"evenodd\" fill-opacity=\"1\" /><path clip-path=\"url(#clip610)\" d=\"M 0 0 M123.126 746.977 L139.445 746.977 L139.445 750.912 L117.501 750.912 L117.501 746.977 Q120.163 744.223 124.746 739.593 Q129.353 734.94 130.533 733.598 Q132.779 731.075 133.658 729.339 Q134.561 727.579 134.561 725.889 Q134.561 723.135 132.617 721.399 Q130.695 719.663 127.593 719.663 Q125.394 719.663 122.941 720.427 Q120.51 721.19 117.732 722.741 L117.732 718.019 Q120.556 716.885 123.01 716.306 Q125.464 715.727 127.501 715.727 Q132.871 715.727 136.066 718.413 Q139.26 721.098 139.26 725.589 Q139.26 727.718 138.45 729.639 Q137.663 731.538 135.556 734.13 Q134.978 734.801 131.876 738.019 Q128.774 741.213 123.126 746.977 Z\" fill=\"#000000\" fill-rule=\"evenodd\" fill-opacity=\"1\" /><path clip-path=\"url(#clip610)\" d=\"M 0 0 M132.316 406.975 Q135.672 407.693 137.547 409.962 Q139.445 412.23 139.445 415.563 Q139.445 420.679 135.927 423.48 Q132.408 426.281 125.927 426.281 Q123.751 426.281 121.436 425.841 Q119.144 425.424 116.691 424.568 L116.691 420.054 Q118.635 421.188 120.95 421.767 Q123.265 422.346 125.788 422.346 Q130.186 422.346 132.478 420.61 Q134.792 418.874 134.792 415.563 Q134.792 412.508 132.64 410.795 Q130.51 409.059 126.691 409.059 L122.663 409.059 L122.663 405.216 L126.876 405.216 Q130.325 405.216 132.154 403.85 Q133.982 402.462 133.982 399.869 Q133.982 397.207 132.084 395.795 Q130.209 394.36 126.691 394.36 Q124.769 394.36 122.57 394.776 Q120.371 395.193 117.732 396.073 L117.732 391.906 Q120.394 391.165 122.709 390.795 Q125.047 390.425 127.107 390.425 Q132.431 390.425 135.533 392.855 Q138.635 395.263 138.635 399.383 Q138.635 402.253 136.992 404.244 Q135.348 406.212 132.316 406.975 Z\" fill=\"#000000\" fill-rule=\"evenodd\" fill-opacity=\"1\" /><path clip-path=\"url(#clip610)\" d=\"M 0 0 M129.862 69.8208 L118.056 88.2697 L129.862 88.2697 L129.862 69.8208 M128.635 65.7467 L134.515 65.7467 L134.515 88.2697 L139.445 88.2697 L139.445 92.1586 L134.515 92.1586 L134.515 100.307 L129.862 100.307 L129.862 92.1586 L114.26 92.1586 L114.26 87.6447 L128.635 65.7467 Z\" fill=\"#000000\" fill-rule=\"evenodd\" fill-opacity=\"1\" /><path clip-path=\"url(#clip610)\" d=\"M 0 0 M20.1444 809.563 L26.9239 809.563 Q23.9002 812.81 22.4043 816.502 Q20.9083 820.162 20.9083 824.3 Q20.9083 832.448 25.9054 836.777 Q30.8707 841.105 40.2919 841.105 Q49.6813 841.105 54.6784 836.777 Q59.6436 832.448 59.6436 824.3 Q59.6436 820.162 58.1477 816.502 Q56.6518 812.81 53.6281 809.563 L60.3439 809.563 Q62.6355 812.937 63.7814 816.725 Q64.9272 820.481 64.9272 824.682 Q64.9272 835.472 58.3387 841.678 Q51.7183 847.885 40.2919 847.885 Q28.8336 847.885 22.2451 841.678 Q15.6248 835.472 15.6248 824.682 Q15.6248 820.417 16.7706 816.661 Q17.8846 812.874 20.1444 809.563 Z\" fill=\"#000000\" fill-rule=\"evenodd\" fill-opacity=\"1\" /><path clip-path=\"url(#clip610)\" d=\"M 0 0 M14.479 783.241 L14.479 769.746 L19.0304 769.746 L19.0304 777.385 L68.0464 777.385 L68.0464 769.746 L72.5979 769.746 L72.5979 783.241 L14.479 783.241 Z\" fill=\"#000000\" fill-rule=\"evenodd\" fill-opacity=\"1\" /><path clip-path=\"url(#clip610)\" d=\"M 0 0 M35.1993 735.849 Q31.2526 733.652 29.3747 730.597 Q27.4968 727.541 27.4968 723.404 Q27.4968 717.834 31.4117 714.81 Q35.2948 711.786 42.4881 711.786 L64.0042 711.786 L64.0042 717.674 L42.679 717.674 Q37.5546 717.674 35.072 719.489 Q32.5894 721.303 32.5894 725.027 Q32.5894 729.578 35.6131 732.22 Q38.6368 734.862 43.8567 734.862 L64.0042 734.862 L64.0042 740.75 L42.679 740.75 Q37.5228 740.75 35.072 742.564 Q32.5894 744.379 32.5894 748.166 Q32.5894 752.654 35.6449 755.296 Q38.6686 757.938 43.8567 757.938 L64.0042 757.938 L64.0042 763.826 L28.3562 763.826 L28.3562 757.938 L33.8944 757.938 Q30.616 755.932 29.0564 753.131 Q27.4968 750.331 27.4968 746.479 Q27.4968 742.596 29.4702 739.891 Q31.4436 737.154 35.1993 735.849 Z\" fill=\"#000000\" fill-rule=\"evenodd\" fill-opacity=\"1\" /><path clip-path=\"url(#clip610)\" d=\"M 0 0 M45.7664 682.186 Q39.4007 682.186 35.8996 684.827 Q32.3984 687.437 32.3984 692.18 Q32.3984 696.89 35.8996 699.532 Q39.4007 702.142 45.7664 702.142 Q52.1003 702.142 55.6014 699.532 Q59.1026 696.89 59.1026 692.18 Q59.1026 687.437 55.6014 684.827 Q52.1003 682.186 45.7664 682.186 M59.58 676.329 Q68.683 676.329 73.1071 680.371 Q77.5631 684.414 77.5631 692.753 Q77.5631 695.84 77.0857 698.577 Q76.6401 701.315 75.6852 703.893 L69.9879 703.893 Q71.3884 701.315 72.0568 698.8 Q72.7252 696.286 72.7252 693.676 Q72.7252 687.915 69.7015 685.05 Q66.7096 682.186 60.6303 682.186 L57.7339 682.186 Q60.885 684 62.4446 686.833 Q64.0042 689.665 64.0042 693.612 Q64.0042 700.169 59.0071 704.179 Q54.01 708.19 45.7664 708.19 Q37.491 708.19 32.4939 704.179 Q27.4968 700.169 27.4968 693.612 Q27.4968 689.665 29.0564 686.833 Q30.616 684 33.7671 682.186 L28.3562 682.186 L28.3562 676.329 L59.58 676.329 Z\" fill=\"#000000\" fill-rule=\"evenodd\" fill-opacity=\"1\" /><path clip-path=\"url(#clip610)\" d=\"M 0 0 M16.4842 659.778 L16.4842 654.367 L70.0516 670.918 L70.0516 676.329 L16.4842 659.778 Z\" fill=\"#000000\" fill-rule=\"evenodd\" fill-opacity=\"1\" /><path clip-path=\"url(#clip610)\" d=\"M 0 0 M14.479 648.225 L14.479 642.368 L64.0042 642.368 L64.0042 648.225 L14.479 648.225 Z\" fill=\"#000000\" fill-rule=\"evenodd\" fill-opacity=\"1\" /><path clip-path=\"url(#clip610)\" d=\"M 0 0 M14.479 622.539 L72.5979 622.539 L72.5979 636.034 L68.0464 636.034 L68.0464 628.427 L19.0304 628.427 L19.0304 636.034 L14.479 636.034 L14.479 622.539 Z\" fill=\"#000000\" fill-rule=\"evenodd\" fill-opacity=\"1\" /><circle clip-path=\"url(#clip612)\" cx=\"279.86\" cy=\"538.451\" r=\"14\" fill=\"#009af9\" fill-rule=\"evenodd\" fill-opacity=\"1\" stroke=\"#000000\" stroke-opacity=\"1\" stroke-width=\"3.2\"/>\n",
       "<circle clip-path=\"url(#clip612)\" cx=\"322.653\" cy=\"99.2919\" r=\"14\" fill=\"#009af9\" fill-rule=\"evenodd\" fill-opacity=\"1\" stroke=\"#000000\" stroke-opacity=\"1\" stroke-width=\"3.2\"/>\n",
       "<circle clip-path=\"url(#clip612)\" cx=\"365.446\" cy=\"122.063\" r=\"14\" fill=\"#009af9\" fill-rule=\"evenodd\" fill-opacity=\"1\" stroke=\"#000000\" stroke-opacity=\"1\" stroke-width=\"3.2\"/>\n",
       "<circle clip-path=\"url(#clip612)\" cx=\"408.239\" cy=\"229.413\" r=\"14\" fill=\"#009af9\" fill-rule=\"evenodd\" fill-opacity=\"1\" stroke=\"#000000\" stroke-opacity=\"1\" stroke-width=\"3.2\"/>\n",
       "<circle clip-path=\"url(#clip612)\" cx=\"493.826\" cy=\"463.631\" r=\"14\" fill=\"#009af9\" fill-rule=\"evenodd\" fill-opacity=\"1\" stroke=\"#000000\" stroke-opacity=\"1\" stroke-width=\"3.2\"/>\n",
       "<circle clip-path=\"url(#clip612)\" cx=\"750.584\" cy=\"971.104\" r=\"14\" fill=\"#009af9\" fill-rule=\"evenodd\" fill-opacity=\"1\" stroke=\"#000000\" stroke-opacity=\"1\" stroke-width=\"3.2\"/>\n",
       "<circle clip-path=\"url(#clip612)\" cx=\"1007.34\" cy=\"1241.1\" r=\"14\" fill=\"#009af9\" fill-rule=\"evenodd\" fill-opacity=\"1\" stroke=\"#000000\" stroke-opacity=\"1\" stroke-width=\"3.2\"/>\n",
       "<circle clip-path=\"url(#clip612)\" cx=\"1264.1\" cy=\"1328.94\" r=\"14\" fill=\"#009af9\" fill-rule=\"evenodd\" fill-opacity=\"1\" stroke=\"#000000\" stroke-opacity=\"1\" stroke-width=\"3.2\"/>\n",
       "<circle clip-path=\"url(#clip612)\" cx=\"2291.13\" cy=\"1367.97\" r=\"14\" fill=\"#009af9\" fill-rule=\"evenodd\" fill-opacity=\"1\" stroke=\"#000000\" stroke-opacity=\"1\" stroke-width=\"3.2\"/>\n",
       "<polyline clip-path=\"url(#clip612)\" style=\"stroke:#e26f46; stroke-width:4; stroke-opacity:1; fill:none\" points=\"\n",
       "  237.067,1384.24 245.626,1033.3 254.184,763.848 262.743,558.934 271.302,405.092 279.86,291.617 288.419,210.003 296.977,153.492 305.536,116.715 314.095,95.4078 \n",
       "  322.653,86.1857 331.212,86.3627 339.771,93.8085 348.329,106.834 356.888,124.103 365.446,144.555 374.005,167.355 382.564,191.843 391.122,217.497 399.681,243.91 \n",
       "  408.239,270.76 416.798,297.798 425.357,324.829 433.915,351.701 442.474,378.301 451.032,404.538 459.591,430.349 468.15,455.684 476.708,480.508 485.267,504.797 \n",
       "  493.826,528.537 502.384,551.716 510.943,574.333 519.501,596.386 528.06,617.88 536.619,638.82 545.177,659.214 553.736,679.07 562.294,698.399 570.853,717.211 \n",
       "  579.412,735.518 587.97,753.33 596.529,770.66 605.087,787.519 613.646,803.918 622.205,819.871 630.763,835.387 639.322,850.479 647.881,865.158 656.439,879.434 \n",
       "  664.998,893.319 673.556,906.822 682.115,919.955 690.674,932.727 699.232,945.149 707.791,957.228 716.349,968.976 724.908,980.401 733.467,991.511 742.025,1002.32 \n",
       "  750.584,1012.82 759.142,1023.04 767.701,1032.98 776.26,1042.65 784.818,1052.04 793.377,1061.18 801.936,1070.07 810.494,1078.72 819.053,1087.12 827.611,1095.3 \n",
       "  836.17,1103.25 844.729,1110.98 853.287,1118.5 861.846,1125.81 870.404,1132.92 878.963,1139.83 887.522,1146.56 896.08,1153.1 904.639,1159.46 913.197,1165.64 \n",
       "  921.756,1171.66 930.315,1177.51 938.873,1183.19 947.432,1188.73 955.991,1194.11 964.549,1199.34 973.108,1204.42 981.666,1209.37 990.225,1214.18 998.784,1218.86 \n",
       "  1007.34,1223.41 1015.9,1227.84 1024.46,1232.14 1033.02,1236.33 1041.58,1240.4 1050.14,1244.35 1058.69,1248.2 1067.25,1251.94 1075.81,1255.58 1084.37,1259.12 \n",
       "  1092.93,1262.57 1101.49,1265.91 1110.05,1269.17 1118.6,1272.34 1127.16,1275.42 1135.72,1278.41 1144.28,1281.32 1152.84,1284.15 1161.4,1286.91 1169.96,1289.58 \n",
       "  1178.51,1292.19 1187.07,1294.72 1195.63,1297.18 1204.19,1299.58 1212.75,1301.91 1221.31,1304.17 1229.87,1306.38 1238.42,1308.52 1246.98,1310.6 1255.54,1312.63 \n",
       "  1264.1,1314.6 1272.66,1316.52 1281.22,1318.38 1289.78,1320.19 1298.34,1321.95 1306.89,1323.67 1315.45,1325.33 1324.01,1326.95 1332.57,1328.53 1341.13,1330.06 \n",
       "  1349.69,1331.55 1358.25,1333 1366.8,1334.41 1375.36,1335.78 1383.92,1337.12 1392.48,1338.41 1401.04,1339.67 1409.6,1340.9 1418.16,1342.09 1426.71,1343.25 \n",
       "  1435.27,1344.38 1443.83,1345.48 1452.39,1346.54 1460.95,1347.58 1469.51,1348.59 1478.07,1349.57 1486.62,1350.52 1495.18,1351.45 1503.74,1352.35 1512.3,1353.23 \n",
       "  1520.86,1354.08 1529.42,1354.91 1537.98,1355.72 1546.53,1356.51 1555.09,1357.27 1563.65,1358.01 1572.21,1358.73 1580.77,1359.43 1589.33,1360.12 1597.89,1360.78 \n",
       "  1606.45,1361.43 1615,1362.05 1623.56,1362.66 1632.12,1363.26 1640.68,1363.83 1649.24,1364.4 1657.8,1364.94 1666.36,1365.47 1674.91,1365.99 1683.47,1366.49 \n",
       "  1692.03,1366.98 1700.59,1367.45 1709.15,1367.92 1717.71,1368.37 1726.27,1368.8 1734.82,1369.23 1743.38,1369.64 1751.94,1370.04 1760.5,1370.43 1769.06,1370.81 \n",
       "  1777.62,1371.18 1786.18,1371.54 1794.73,1371.89 1803.29,1372.23 1811.85,1372.56 1820.41,1372.88 1828.97,1373.19 1837.53,1373.5 1846.09,1373.79 1854.64,1374.08 \n",
       "  1863.2,1374.36 1871.76,1374.63 1880.32,1374.9 1888.88,1375.15 1897.44,1375.4 1906,1375.65 1914.56,1375.88 1923.11,1376.11 1931.67,1376.34 1940.23,1376.55 \n",
       "  1948.79,1376.77 1957.35,1376.97 1965.91,1377.17 1974.47,1377.37 1983.02,1377.55 1991.58,1377.74 2000.14,1377.92 2008.7,1378.09 2017.26,1378.26 2025.82,1378.42 \n",
       "  2034.38,1378.58 2042.93,1378.74 2051.49,1378.89 2060.05,1379.04 2068.61,1379.18 2077.17,1379.32 2085.73,1379.46 2094.29,1379.59 2102.84,1379.72 2111.4,1379.84 \n",
       "  2119.96,1379.96 2128.52,1380.08 2137.08,1380.19 2145.64,1380.3 2154.2,1380.41 2162.75,1380.52 2171.31,1380.62 2179.87,1380.72 2188.43,1380.82 2196.99,1380.91 \n",
       "  2205.55,1381 2214.11,1381.09 2222.67,1381.18 2231.22,1381.26 2239.78,1381.34 2248.34,1381.42 2256.9,1381.5 2265.46,1381.58 2274.02,1381.65 2282.58,1381.72 \n",
       "  2291.13,1381.79 \n",
       "  \"/>\n",
       "<path clip-path=\"url(#clip610)\" d=\"\n",
       "M1647.12 274.549 L2280.18 274.549 L2280.18 93.1086 L1647.12 93.1086  Z\n",
       "  \" fill=\"#ffffff\" fill-rule=\"evenodd\" fill-opacity=\"1\"/>\n",
       "<polyline clip-path=\"url(#clip610)\" style=\"stroke:#000000; stroke-width:4; stroke-opacity:1; fill:none\" points=\"\n",
       "  1647.12,274.549 2280.18,274.549 2280.18,93.1086 1647.12,93.1086 1647.12,274.549 \n",
       "  \"/>\n",
       "<circle clip-path=\"url(#clip610)\" cx=\"1743.89\" cy=\"153.589\" r=\"23\" fill=\"#009af9\" fill-rule=\"evenodd\" fill-opacity=\"1\" stroke=\"#000000\" stroke-opacity=\"1\" stroke-width=\"5.12\"/>\n",
       "<path clip-path=\"url(#clip610)\" d=\"M 0 0 M1840.66 144.943 L1844.92 144.943 L1850.25 165.174 L1855.55 144.943 L1860.57 144.943 L1865.89 165.174 L1871.19 144.943 L1875.45 144.943 L1868.67 170.869 L1863.65 170.869 L1858.07 149.619 L1852.47 170.869 L1847.44 170.869 L1840.66 144.943 Z\" fill=\"#000000\" fill-rule=\"evenodd\" fill-opacity=\"1\" /><path clip-path=\"url(#clip610)\" d=\"M 0 0 M1891.7 157.836 Q1886.54 157.836 1884.55 159.017 Q1882.56 160.197 1882.56 163.045 Q1882.56 165.313 1884.04 166.656 Q1885.55 167.975 1888.12 167.975 Q1891.66 167.975 1893.79 165.475 Q1895.94 162.952 1895.94 158.785 L1895.94 157.836 L1891.7 157.836 M1900.2 156.077 L1900.2 170.869 L1895.94 170.869 L1895.94 166.933 Q1894.48 169.295 1892.31 170.429 Q1890.13 171.54 1886.98 171.54 Q1883 171.54 1880.64 169.318 Q1878.3 167.072 1878.3 163.322 Q1878.3 158.947 1881.22 156.725 Q1884.16 154.503 1889.97 154.503 L1895.94 154.503 L1895.94 154.086 Q1895.94 151.147 1894 149.549 Q1892.07 147.929 1888.58 147.929 Q1886.36 147.929 1884.25 148.461 Q1882.14 148.994 1880.2 150.059 L1880.2 146.123 Q1882.54 145.221 1884.74 144.781 Q1886.93 144.318 1889.02 144.318 Q1894.64 144.318 1897.42 147.234 Q1900.2 150.151 1900.2 156.077 Z\" fill=\"#000000\" fill-rule=\"evenodd\" fill-opacity=\"1\" /><path clip-path=\"url(#clip610)\" d=\"M 0 0 M1919.69 148.924 Q1918.97 148.508 1918.12 148.322 Q1917.28 148.114 1916.26 148.114 Q1912.65 148.114 1910.71 150.475 Q1908.79 152.813 1908.79 157.211 L1908.79 170.869 L1904.5 170.869 L1904.5 144.943 L1908.79 144.943 L1908.79 148.971 Q1910.13 146.609 1912.28 145.475 Q1914.43 144.318 1917.51 144.318 Q1917.95 144.318 1918.49 144.387 Q1919.02 144.434 1919.67 144.549 L1919.69 148.924 Z\" fill=\"#000000\" fill-rule=\"evenodd\" fill-opacity=\"1\" /><path clip-path=\"url(#clip610)\" d=\"M 0 0 M1928.37 137.582 L1928.37 144.943 L1937.14 144.943 L1937.14 148.253 L1928.37 148.253 L1928.37 162.327 Q1928.37 165.498 1929.23 166.401 Q1930.11 167.304 1932.77 167.304 L1937.14 167.304 L1937.14 170.869 L1932.77 170.869 Q1927.84 170.869 1925.96 169.04 Q1924.09 167.188 1924.09 162.327 L1924.09 148.253 L1920.96 148.253 L1920.96 144.943 L1924.09 144.943 L1924.09 137.582 L1928.37 137.582 Z\" fill=\"#000000\" fill-rule=\"evenodd\" fill-opacity=\"1\" /><path clip-path=\"url(#clip610)\" d=\"M 0 0 M1951.66 147.929 Q1948.23 147.929 1946.24 150.614 Q1944.25 153.276 1944.25 157.929 Q1944.25 162.582 1946.22 165.267 Q1948.21 167.929 1951.66 167.929 Q1955.06 167.929 1957.05 165.244 Q1959.04 162.558 1959.04 157.929 Q1959.04 153.322 1957.05 150.637 Q1955.06 147.929 1951.66 147.929 M1951.66 144.318 Q1957.21 144.318 1960.38 147.929 Q1963.55 151.54 1963.55 157.929 Q1963.55 164.295 1960.38 167.929 Q1957.21 171.54 1951.66 171.54 Q1946.08 171.54 1942.91 167.929 Q1939.76 164.295 1939.76 157.929 Q1939.76 151.54 1942.91 147.929 Q1946.08 144.318 1951.66 144.318 Z\" fill=\"#000000\" fill-rule=\"evenodd\" fill-opacity=\"1\" /><path clip-path=\"url(#clip610)\" d=\"M 0 0 M1980.15 132.79 L1984.76 132.79 L1977.21 141.494 L1973.67 141.494 L1980.15 132.79 M1984.55 145.707 L1984.55 149.734 Q1982.74 148.809 1980.8 148.346 Q1978.86 147.883 1976.77 147.883 Q1973.6 147.883 1972 148.855 Q1970.43 149.827 1970.43 151.771 Q1970.43 153.253 1971.56 154.109 Q1972.7 154.943 1976.12 155.707 L1977.58 156.031 Q1982.12 157.003 1984.02 158.785 Q1985.94 160.545 1985.94 163.716 Q1985.94 167.327 1983.07 169.433 Q1980.22 171.54 1975.22 171.54 Q1973.14 171.54 1970.87 171.123 Q1968.62 170.73 1966.12 169.92 L1966.12 165.521 Q1968.49 166.748 1970.78 167.373 Q1973.07 167.975 1975.31 167.975 Q1978.32 167.975 1979.94 166.957 Q1981.56 165.915 1981.56 164.04 Q1981.56 162.304 1980.38 161.378 Q1979.23 160.452 1975.27 159.596 L1973.79 159.248 Q1969.83 158.415 1968.07 156.702 Q1966.31 154.966 1966.31 151.957 Q1966.31 148.299 1968.9 146.309 Q1971.49 144.318 1976.26 144.318 Q1978.62 144.318 1980.71 144.665 Q1982.79 145.012 1984.55 145.707 Z\" fill=\"#000000\" fill-rule=\"evenodd\" fill-opacity=\"1\" /><path clip-path=\"url(#clip610)\" d=\"M 0 0 M2009.06 145.938 L2009.06 149.92 Q2007.26 148.924 2005.43 148.438 Q2003.62 147.929 2001.77 147.929 Q1997.63 147.929 1995.34 150.568 Q1993.05 153.184 1993.05 157.929 Q1993.05 162.674 1995.34 165.313 Q1997.63 167.929 2001.77 167.929 Q2003.62 167.929 2005.43 167.443 Q2007.26 166.933 2009.06 165.938 L2009.06 169.873 Q2007.28 170.707 2005.36 171.123 Q2003.46 171.54 2001.31 171.54 Q1995.45 171.54 1992 167.859 Q1988.55 164.179 1988.55 157.929 Q1988.55 151.586 1992.03 147.952 Q1995.52 144.318 2001.59 144.318 Q2003.55 144.318 2005.43 144.735 Q2007.3 145.128 2009.06 145.938 Z\" fill=\"#000000\" fill-rule=\"evenodd\" fill-opacity=\"1\" /><path clip-path=\"url(#clip610)\" d=\"M 0 0 M2013.53 144.943 L2017.79 144.943 L2017.79 170.869 L2013.53 170.869 L2013.53 144.943 M2013.53 134.85 L2017.79 134.85 L2017.79 140.244 L2013.53 140.244 L2013.53 134.85 Z\" fill=\"#000000\" fill-rule=\"evenodd\" fill-opacity=\"1\" /><path clip-path=\"url(#clip610)\" d=\"M 0 0 M2057.51 149.92 Q2059.11 147.049 2061.33 145.684 Q2063.55 144.318 2066.56 144.318 Q2070.61 144.318 2072.81 147.165 Q2075.01 149.989 2075.01 155.221 L2075.01 170.869 L2070.73 170.869 L2070.73 155.359 Q2070.73 151.633 2069.41 149.827 Q2068.09 148.022 2065.38 148.022 Q2062.07 148.022 2060.15 150.221 Q2058.23 152.42 2058.23 156.216 L2058.23 170.869 L2053.95 170.869 L2053.95 155.359 Q2053.95 151.609 2052.63 149.827 Q2051.31 148.022 2048.55 148.022 Q2045.29 148.022 2043.37 150.244 Q2041.45 152.443 2041.45 156.216 L2041.45 170.869 L2037.17 170.869 L2037.17 144.943 L2041.45 144.943 L2041.45 148.971 Q2042.91 146.586 2044.94 145.452 Q2046.98 144.318 2049.78 144.318 Q2052.61 144.318 2054.57 145.753 Q2056.56 147.188 2057.51 149.92 Z\" fill=\"#000000\" fill-rule=\"evenodd\" fill-opacity=\"1\" /><path clip-path=\"url(#clip610)\" d=\"M 0 0 M2079.48 144.943 L2083.74 144.943 L2083.74 170.869 L2079.48 170.869 L2079.48 144.943 M2079.48 134.85 L2083.74 134.85 L2083.74 140.244 L2079.48 140.244 L2079.48 134.85 Z\" fill=\"#000000\" fill-rule=\"evenodd\" fill-opacity=\"1\" /><path clip-path=\"url(#clip610)\" d=\"M 0 0 M2110.38 156.841 L2110.38 158.924 L2090.8 158.924 Q2091.08 163.322 2093.44 165.637 Q2095.82 167.929 2100.06 167.929 Q2102.51 167.929 2104.8 167.327 Q2107.12 166.725 2109.39 165.521 L2109.39 169.549 Q2107.1 170.521 2104.69 171.031 Q2102.28 171.54 2099.8 171.54 Q2093.6 171.54 2089.97 167.929 Q2086.36 164.318 2086.36 158.16 Q2086.36 151.795 2089.78 148.068 Q2093.23 144.318 2099.06 144.318 Q2104.29 144.318 2107.33 147.697 Q2110.38 151.054 2110.38 156.841 M2106.12 155.591 Q2106.08 152.096 2104.16 150.012 Q2102.26 147.929 2099.11 147.929 Q2095.54 147.929 2093.39 149.943 Q2091.26 151.957 2090.94 155.614 L2106.12 155.591 Z\" fill=\"#000000\" fill-rule=\"evenodd\" fill-opacity=\"1\" /><path clip-path=\"url(#clip610)\" d=\"M 0 0 M2129.87 148.924 Q2129.16 148.508 2128.3 148.322 Q2127.47 148.114 2126.45 148.114 Q2122.84 148.114 2120.89 150.475 Q2118.97 152.813 2118.97 157.211 L2118.97 170.869 L2114.69 170.869 L2114.69 144.943 L2118.97 144.943 L2118.97 148.971 Q2120.31 146.609 2122.47 145.475 Q2124.62 144.318 2127.7 144.318 Q2128.14 144.318 2128.67 144.387 Q2129.2 144.434 2129.85 144.549 L2129.87 148.924 Z\" fill=\"#000000\" fill-rule=\"evenodd\" fill-opacity=\"1\" /><path clip-path=\"url(#clip610)\" d=\"M 0 0 M2132.49 144.943 L2152.72 144.943 L2152.72 148.832 L2136.7 167.466 L2152.72 167.466 L2152.72 170.869 L2131.91 170.869 L2131.91 166.98 L2147.93 148.346 L2132.49 148.346 L2132.49 144.943 Z\" fill=\"#000000\" fill-rule=\"evenodd\" fill-opacity=\"1\" /><path clip-path=\"url(#clip610)\" d=\"M 0 0 M2167.23 147.929 Q2163.81 147.929 2161.82 150.614 Q2159.83 153.276 2159.83 157.929 Q2159.83 162.582 2161.79 165.267 Q2163.79 167.929 2167.23 167.929 Q2170.64 167.929 2172.63 165.244 Q2174.62 162.558 2174.62 157.929 Q2174.62 153.322 2172.63 150.637 Q2170.64 147.929 2167.23 147.929 M2167.23 144.318 Q2172.79 144.318 2175.96 147.929 Q2179.13 151.54 2179.13 157.929 Q2179.13 164.295 2175.96 167.929 Q2172.79 171.54 2167.23 171.54 Q2161.66 171.54 2158.48 167.929 Q2155.34 164.295 2155.34 157.929 Q2155.34 151.54 2158.48 147.929 Q2161.66 144.318 2167.23 144.318 Z\" fill=\"#000000\" fill-rule=\"evenodd\" fill-opacity=\"1\" /><path clip-path=\"url(#clip610)\" d=\"M 0 0 M2205.15 155.221 L2205.15 170.869 L2200.89 170.869 L2200.89 155.359 Q2200.89 151.679 2199.46 149.85 Q2198.02 148.022 2195.15 148.022 Q2191.7 148.022 2189.71 150.221 Q2187.72 152.42 2187.72 156.216 L2187.72 170.869 L2183.44 170.869 L2183.44 144.943 L2187.72 144.943 L2187.72 148.971 Q2189.25 146.633 2191.31 145.475 Q2193.39 144.318 2196.1 144.318 Q2200.57 144.318 2202.86 147.096 Q2205.15 149.85 2205.15 155.221 Z\" fill=\"#000000\" fill-rule=\"evenodd\" fill-opacity=\"1\" /><path clip-path=\"url(#clip610)\" d=\"M 0 0 M2231.79 156.841 L2231.79 158.924 L2212.21 158.924 Q2212.49 163.322 2214.85 165.637 Q2217.23 167.929 2221.47 167.929 Q2223.92 167.929 2226.22 167.327 Q2228.53 166.725 2230.8 165.521 L2230.8 169.549 Q2228.51 170.521 2226.1 171.031 Q2223.69 171.54 2221.22 171.54 Q2215.01 171.54 2211.38 167.929 Q2207.77 164.318 2207.77 158.16 Q2207.77 151.795 2211.19 148.068 Q2214.64 144.318 2220.47 144.318 Q2225.71 144.318 2228.74 147.697 Q2231.79 151.054 2231.79 156.841 M2227.53 155.591 Q2227.49 152.096 2225.57 150.012 Q2223.67 147.929 2220.52 147.929 Q2216.96 147.929 2214.8 149.943 Q2212.67 151.957 2212.35 155.614 L2227.53 155.591 Z\" fill=\"#000000\" fill-rule=\"evenodd\" fill-opacity=\"1\" /><polyline clip-path=\"url(#clip610)\" style=\"stroke:#e26f46; stroke-width:4; stroke-opacity:1; fill:none\" points=\"\n",
       "  1671.32,214.069 1816.47,214.069 \n",
       "  \"/>\n",
       "<path clip-path=\"url(#clip610)\" d=\"M 0 0 M1840.66 205.423 L1844.92 205.423 L1850.25 225.654 L1855.55 205.423 L1860.57 205.423 L1865.89 225.654 L1871.19 205.423 L1875.45 205.423 L1868.67 231.349 L1863.65 231.349 L1858.07 210.099 L1852.47 231.349 L1847.44 231.349 L1840.66 205.423 Z\" fill=\"#000000\" fill-rule=\"evenodd\" fill-opacity=\"1\" /><path clip-path=\"url(#clip610)\" d=\"M 0 0 M1891.7 218.316 Q1886.54 218.316 1884.55 219.497 Q1882.56 220.677 1882.56 223.525 Q1882.56 225.793 1884.04 227.136 Q1885.55 228.455 1888.12 228.455 Q1891.66 228.455 1893.79 225.955 Q1895.94 223.432 1895.94 219.265 L1895.94 218.316 L1891.7 218.316 M1900.2 216.557 L1900.2 231.349 L1895.94 231.349 L1895.94 227.413 Q1894.48 229.775 1892.31 230.909 Q1890.13 232.02 1886.98 232.02 Q1883 232.02 1880.64 229.798 Q1878.3 227.552 1878.3 223.802 Q1878.3 219.427 1881.22 217.205 Q1884.16 214.983 1889.97 214.983 L1895.94 214.983 L1895.94 214.566 Q1895.94 211.627 1894 210.029 Q1892.07 208.409 1888.58 208.409 Q1886.36 208.409 1884.25 208.941 Q1882.14 209.474 1880.2 210.539 L1880.2 206.603 Q1882.54 205.701 1884.74 205.261 Q1886.93 204.798 1889.02 204.798 Q1894.64 204.798 1897.42 207.714 Q1900.2 210.631 1900.2 216.557 Z\" fill=\"#000000\" fill-rule=\"evenodd\" fill-opacity=\"1\" /><path clip-path=\"url(#clip610)\" d=\"M 0 0 M1919.69 209.404 Q1918.97 208.988 1918.12 208.802 Q1917.28 208.594 1916.26 208.594 Q1912.65 208.594 1910.71 210.955 Q1908.79 213.293 1908.79 217.691 L1908.79 231.349 L1904.5 231.349 L1904.5 205.423 L1908.79 205.423 L1908.79 209.451 Q1910.13 207.089 1912.28 205.955 Q1914.43 204.798 1917.51 204.798 Q1917.95 204.798 1918.49 204.867 Q1919.02 204.914 1919.67 205.029 L1919.69 209.404 Z\" fill=\"#000000\" fill-rule=\"evenodd\" fill-opacity=\"1\" /><path clip-path=\"url(#clip610)\" d=\"M 0 0 M1928.37 198.062 L1928.37 205.423 L1937.14 205.423 L1937.14 208.733 L1928.37 208.733 L1928.37 222.807 Q1928.37 225.978 1929.23 226.881 Q1930.11 227.784 1932.77 227.784 L1937.14 227.784 L1937.14 231.349 L1932.77 231.349 Q1927.84 231.349 1925.96 229.52 Q1924.09 227.668 1924.09 222.807 L1924.09 208.733 L1920.96 208.733 L1920.96 205.423 L1924.09 205.423 L1924.09 198.062 L1928.37 198.062 Z\" fill=\"#000000\" fill-rule=\"evenodd\" fill-opacity=\"1\" /><path clip-path=\"url(#clip610)\" d=\"M 0 0 M1951.66 208.409 Q1948.23 208.409 1946.24 211.094 Q1944.25 213.756 1944.25 218.409 Q1944.25 223.062 1946.22 225.747 Q1948.21 228.409 1951.66 228.409 Q1955.06 228.409 1957.05 225.724 Q1959.04 223.038 1959.04 218.409 Q1959.04 213.802 1957.05 211.117 Q1955.06 208.409 1951.66 208.409 M1951.66 204.798 Q1957.21 204.798 1960.38 208.409 Q1963.55 212.02 1963.55 218.409 Q1963.55 224.775 1960.38 228.409 Q1957.21 232.02 1951.66 232.02 Q1946.08 232.02 1942.91 228.409 Q1939.76 224.775 1939.76 218.409 Q1939.76 212.02 1942.91 208.409 Q1946.08 204.798 1951.66 204.798 Z\" fill=\"#000000\" fill-rule=\"evenodd\" fill-opacity=\"1\" /><path clip-path=\"url(#clip610)\" d=\"M 0 0 M1980.15 193.27 L1984.76 193.27 L1977.21 201.974 L1973.67 201.974 L1980.15 193.27 M1984.55 206.187 L1984.55 210.214 Q1982.74 209.289 1980.8 208.826 Q1978.86 208.363 1976.77 208.363 Q1973.6 208.363 1972 209.335 Q1970.43 210.307 1970.43 212.251 Q1970.43 213.733 1971.56 214.589 Q1972.7 215.423 1976.12 216.187 L1977.58 216.511 Q1982.12 217.483 1984.02 219.265 Q1985.94 221.025 1985.94 224.196 Q1985.94 227.807 1983.07 229.913 Q1980.22 232.02 1975.22 232.02 Q1973.14 232.02 1970.87 231.603 Q1968.62 231.21 1966.12 230.4 L1966.12 226.001 Q1968.49 227.228 1970.78 227.853 Q1973.07 228.455 1975.31 228.455 Q1978.32 228.455 1979.94 227.437 Q1981.56 226.395 1981.56 224.52 Q1981.56 222.784 1980.38 221.858 Q1979.23 220.932 1975.27 220.076 L1973.79 219.728 Q1969.83 218.895 1968.07 217.182 Q1966.31 215.446 1966.31 212.437 Q1966.31 208.779 1968.9 206.789 Q1971.49 204.798 1976.26 204.798 Q1978.62 204.798 1980.71 205.145 Q1982.79 205.492 1984.55 206.187 Z\" fill=\"#000000\" fill-rule=\"evenodd\" fill-opacity=\"1\" /><path clip-path=\"url(#clip610)\" d=\"M 0 0 M2009.06 206.418 L2009.06 210.4 Q2007.26 209.404 2005.43 208.918 Q2003.62 208.409 2001.77 208.409 Q1997.63 208.409 1995.34 211.048 Q1993.05 213.664 1993.05 218.409 Q1993.05 223.154 1995.34 225.793 Q1997.63 228.409 2001.77 228.409 Q2003.62 228.409 2005.43 227.923 Q2007.26 227.413 2009.06 226.418 L2009.06 230.353 Q2007.28 231.187 2005.36 231.603 Q2003.46 232.02 2001.31 232.02 Q1995.45 232.02 1992 228.339 Q1988.55 224.659 1988.55 218.409 Q1988.55 212.066 1992.03 208.432 Q1995.52 204.798 2001.59 204.798 Q2003.55 204.798 2005.43 205.215 Q2007.3 205.608 2009.06 206.418 Z\" fill=\"#000000\" fill-rule=\"evenodd\" fill-opacity=\"1\" /><path clip-path=\"url(#clip610)\" d=\"M 0 0 M2013.53 205.423 L2017.79 205.423 L2017.79 231.349 L2013.53 231.349 L2013.53 205.423 M2013.53 195.33 L2017.79 195.33 L2017.79 200.724 L2013.53 200.724 L2013.53 195.33 Z\" fill=\"#000000\" fill-rule=\"evenodd\" fill-opacity=\"1\" /><path clip-path=\"url(#clip610)\" d=\"M 0 0 M2047.37 208.409 Q2043.95 208.409 2041.96 211.094 Q2039.97 213.756 2039.97 218.409 Q2039.97 223.062 2041.93 225.747 Q2043.92 228.409 2047.37 228.409 Q2050.78 228.409 2052.77 225.724 Q2054.76 223.038 2054.76 218.409 Q2054.76 213.802 2052.77 211.117 Q2050.78 208.409 2047.37 208.409 M2047.37 204.798 Q2052.93 204.798 2056.1 208.409 Q2059.27 212.02 2059.27 218.409 Q2059.27 224.775 2056.1 228.409 Q2052.93 232.02 2047.37 232.02 Q2041.8 232.02 2038.62 228.409 Q2035.48 224.775 2035.48 218.409 Q2035.48 212.02 2038.62 208.409 Q2041.8 204.798 2047.37 204.798 Z\" fill=\"#000000\" fill-rule=\"evenodd\" fill-opacity=\"1\" /><path clip-path=\"url(#clip610)\" d=\"M 0 0 M2082.35 218.409 Q2082.35 213.71 2080.41 211.048 Q2078.48 208.363 2075.11 208.363 Q2071.73 208.363 2069.78 211.048 Q2067.86 213.71 2067.86 218.409 Q2067.86 223.108 2069.78 225.793 Q2071.73 228.455 2075.11 228.455 Q2078.48 228.455 2080.41 225.793 Q2082.35 223.108 2082.35 218.409 M2067.86 209.358 Q2069.2 207.043 2071.24 205.932 Q2073.3 204.798 2076.15 204.798 Q2080.87 204.798 2083.81 208.548 Q2086.77 212.298 2086.77 218.409 Q2086.77 224.52 2083.81 228.27 Q2080.87 232.02 2076.15 232.02 Q2073.3 232.02 2071.24 230.909 Q2069.2 229.775 2067.86 227.46 L2067.86 231.349 L2063.58 231.349 L2063.58 195.33 L2067.86 195.33 L2067.86 209.358 Z\" fill=\"#000000\" fill-rule=\"evenodd\" fill-opacity=\"1\" /><path clip-path=\"url(#clip610)\" d=\"M 0 0 M2091.24 195.33 L2095.5 195.33 L2095.5 231.349 L2091.24 231.349 L2091.24 195.33 Z\" fill=\"#000000\" fill-rule=\"evenodd\" fill-opacity=\"1\" /><path clip-path=\"url(#clip610)\" d=\"M 0 0 M2099.97 205.423 L2104.23 205.423 L2104.23 231.349 L2099.97 231.349 L2099.97 205.423 M2099.97 195.33 L2104.23 195.33 L2104.23 200.724 L2099.97 200.724 L2099.97 195.33 Z\" fill=\"#000000\" fill-rule=\"evenodd\" fill-opacity=\"1\" /><path clip-path=\"url(#clip610)\" d=\"M 0 0 M2127.35 206.418 L2127.35 210.4 Q2125.54 209.404 2123.72 208.918 Q2121.91 208.409 2120.06 208.409 Q2115.92 208.409 2113.62 211.048 Q2111.33 213.664 2111.33 218.409 Q2111.33 223.154 2113.62 225.793 Q2115.92 228.409 2120.06 228.409 Q2121.91 228.409 2123.72 227.923 Q2125.54 227.413 2127.35 226.418 L2127.35 230.353 Q2125.57 231.187 2123.65 231.603 Q2121.75 232.02 2119.6 232.02 Q2113.74 232.02 2110.29 228.339 Q2106.84 224.659 2106.84 218.409 Q2106.84 212.066 2110.31 208.432 Q2113.81 204.798 2119.87 204.798 Q2121.84 204.798 2123.72 205.215 Q2125.59 205.608 2127.35 206.418 Z\" fill=\"#000000\" fill-rule=\"evenodd\" fill-opacity=\"1\" /><path clip-path=\"url(#clip610)\" d=\"M 0 0 M2129.97 205.423 L2150.2 205.423 L2150.2 209.312 L2134.18 227.946 L2150.2 227.946 L2150.2 231.349 L2129.39 231.349 L2129.39 227.46 L2145.41 208.826 L2129.97 208.826 L2129.97 205.423 Z\" fill=\"#000000\" fill-rule=\"evenodd\" fill-opacity=\"1\" /><path clip-path=\"url(#clip610)\" d=\"M 0 0 M2164.71 208.409 Q2161.29 208.409 2159.29 211.094 Q2157.3 213.756 2157.3 218.409 Q2157.3 223.062 2159.27 225.747 Q2161.26 228.409 2164.71 228.409 Q2168.11 228.409 2170.1 225.724 Q2172.1 223.038 2172.1 218.409 Q2172.1 213.802 2170.1 211.117 Q2168.11 208.409 2164.71 208.409 M2164.71 204.798 Q2170.27 204.798 2173.44 208.409 Q2176.61 212.02 2176.61 218.409 Q2176.61 224.775 2173.44 228.409 Q2170.27 232.02 2164.71 232.02 Q2159.13 232.02 2155.96 228.409 Q2152.81 224.775 2152.81 218.409 Q2152.81 212.02 2155.96 208.409 Q2159.13 204.798 2164.71 204.798 Z\" fill=\"#000000\" fill-rule=\"evenodd\" fill-opacity=\"1\" /><path clip-path=\"url(#clip610)\" d=\"M 0 0 M2202.63 215.701 L2202.63 231.349 L2198.37 231.349 L2198.37 215.839 Q2198.37 212.159 2196.93 210.33 Q2195.5 208.502 2192.63 208.502 Q2189.18 208.502 2187.19 210.701 Q2185.2 212.9 2185.2 216.696 L2185.2 231.349 L2180.91 231.349 L2180.91 205.423 L2185.2 205.423 L2185.2 209.451 Q2186.72 207.113 2188.79 205.955 Q2190.87 204.798 2193.58 204.798 Q2198.04 204.798 2200.34 207.576 Q2202.63 210.33 2202.63 215.701 Z\" fill=\"#000000\" fill-rule=\"evenodd\" fill-opacity=\"1\" /><path clip-path=\"url(#clip610)\" d=\"M 0 0 M2229.27 217.321 L2229.27 219.404 L2209.69 219.404 Q2209.97 223.802 2212.33 226.117 Q2214.71 228.409 2218.95 228.409 Q2221.4 228.409 2223.69 227.807 Q2226.01 227.205 2228.28 226.001 L2228.28 230.029 Q2225.98 231.001 2223.58 231.511 Q2221.17 232.02 2218.69 232.02 Q2212.49 232.02 2208.85 228.409 Q2205.24 224.798 2205.24 218.64 Q2205.24 212.275 2208.67 208.548 Q2212.12 204.798 2217.95 204.798 Q2223.18 204.798 2226.22 208.177 Q2229.27 211.534 2229.27 217.321 M2225.01 216.071 Q2224.97 212.576 2223.04 210.492 Q2221.15 208.409 2218 208.409 Q2214.43 208.409 2212.28 210.423 Q2210.15 212.437 2209.83 216.094 L2225.01 216.071 Z\" fill=\"#000000\" fill-rule=\"evenodd\" fill-opacity=\"1\" /></svg>\n"
      ]
     },
     "execution_count": 203,
     "metadata": {},
     "output_type": "execute_result"
    }
   ],
   "source": [
    "t_step = Array(0:0.1:24)\n",
    "plot!(t_step, one_analyt2(t_step), label=\"wartości obliczone\")"
   ]
  },
  {
   "cell_type": "markdown",
   "metadata": {},
   "source": [
    "Jak widać rozwiązanie analityczne dobrze dopasowuje się do zmierzonych danych"
   ]
  },
  {
   "cell_type": "markdown",
   "metadata": {},
   "source": [
    "### Przykład 2 - zastosowanie modelu w planowaniu leczenia"
   ]
  },
  {
   "cell_type": "markdown",
   "metadata": {},
   "source": [
    "* Dawka została podana dożylnie"
   ]
  },
  {
   "cell_type": "markdown",
   "metadata": {},
   "source": [
    "Weźmy pacjenta o masie ciała 70 kg leczącego się antybiotykiem - Benzylopenicyliną przeciwko bakteriom *Streptococcus pyogenes*. Przyjmijmy następujące dane [5]:\n",
    "* $MIC$ 0.012 mg/l, gdzie $MIC$ to minimalne stężenie hamujące\n",
    "* $Cl_s$ 25.3 l/h\n",
    "* $V_D$ 7.77 l\n",
    "\n",
    "Wiemy że dla Benzylopenicyliny biologiczny okres półtrwania wynosi 30 minut"
   ]
  },
  {
   "cell_type": "markdown",
   "metadata": {},
   "source": [
    "Zastosujemy model jednokompartmentowy gdzie dawka jest podawana dożylnie"
   ]
  },
  {
   "cell_type": "markdown",
   "metadata": {},
   "source": [
    "W tym celu potrzebujemy wyznaczyć stałą $K$. Wiemy, że $$t_\\frac{1}{2} = \\frac{0.693}{\\mathrm{K}}.$$ Można z tego wyliczyć stałą $\\mathrm{K}$"
   ]
  },
  {
   "cell_type": "code",
   "execution_count": 632,
   "metadata": {},
   "outputs": [
    {
     "data": {
      "text/plain": [
       "k_const (generic function with 1 method)"
      ]
     },
     "execution_count": 632,
     "metadata": {},
     "output_type": "execute_result"
    }
   ],
   "source": [
    "function k_const(tₕ)\n",
    "    return 0.693/tₕ\n",
    "end"
   ]
  },
  {
   "cell_type": "code",
   "execution_count": 633,
   "metadata": {},
   "outputs": [],
   "source": [
    "K = k_const(0.5)\n",
    "MIC = 0.012\n",
    "V = 7.77\n",
    "X₀ = 1000;"
   ]
  },
  {
   "cell_type": "code",
   "execution_count": 634,
   "metadata": {},
   "outputs": [
    {
     "data": {
      "text/plain": [
       "model2 (generic function with 1 method)"
      ]
     },
     "execution_count": 634,
     "metadata": {},
     "output_type": "execute_result"
    }
   ],
   "source": [
    "function model2(t, x)\n",
    "    return -K * x\n",
    "end"
   ]
  },
  {
   "cell_type": "markdown",
   "metadata": {},
   "source": [
    "Weźmy dawkę początkową równą 1000 mg, a następnie na podstawie wzoru $C_0 = \\frac{X_0}{V_d}$ obliczamy stężenie początkowe"
   ]
  },
  {
   "cell_type": "code",
   "execution_count": 635,
   "metadata": {},
   "outputs": [
    {
     "data": {
      "text/plain": [
       "beginC (generic function with 1 method)"
      ]
     },
     "execution_count": 635,
     "metadata": {},
     "output_type": "execute_result"
    }
   ],
   "source": [
    "function beginC(X, V)\n",
    "    return X/V\n",
    "end"
   ]
  },
  {
   "cell_type": "code",
   "execution_count": 636,
   "metadata": {},
   "outputs": [],
   "source": [
    "t_plot = Array(0:0.1:12);"
   ]
  },
  {
   "cell_type": "code",
   "execution_count": 637,
   "metadata": {},
   "outputs": [],
   "source": [
    "data = runge_kutta(model2, t_plot, beginC(X₀, V));"
   ]
  },
  {
   "cell_type": "code",
   "execution_count": 650,
   "metadata": {},
   "outputs": [
    {
     "data": {
      "image/svg+xml": [
       "<?xml version=\"1.0\" encoding=\"utf-8\"?>\n",
       "<svg xmlns=\"http://www.w3.org/2000/svg\" xmlns:xlink=\"http://www.w3.org/1999/xlink\" width=\"600\" height=\"400\" viewBox=\"0 0 2400 1600\">\n",
       "<defs>\n",
       "  <clipPath id=\"clip130\">\n",
       "    <rect x=\"0\" y=\"0\" width=\"2400\" height=\"1600\"/>\n",
       "  </clipPath>\n",
       "</defs>\n",
       "<path clip-path=\"url(#clip130)\" d=\"\n",
       "M0 1600 L2400 1600 L2400 0 L0 0  Z\n",
       "  \" fill=\"#ffffff\" fill-rule=\"evenodd\" fill-opacity=\"1\"/>\n",
       "<defs>\n",
       "  <clipPath id=\"clip131\">\n",
       "    <rect x=\"480\" y=\"0\" width=\"1681\" height=\"1600\"/>\n",
       "  </clipPath>\n",
       "</defs>\n",
       "<path clip-path=\"url(#clip130)\" d=\"\n",
       "M161.598 1486.45 L2352.76 1486.45 L2352.76 47.2441 L161.598 47.2441  Z\n",
       "  \" fill=\"#ffffff\" fill-rule=\"evenodd\" fill-opacity=\"1\"/>\n",
       "<defs>\n",
       "  <clipPath id=\"clip132\">\n",
       "    <rect x=\"161\" y=\"47\" width=\"2192\" height=\"1440\"/>\n",
       "  </clipPath>\n",
       "</defs>\n",
       "<polyline clip-path=\"url(#clip132)\" style=\"stroke:#000000; stroke-width:2; stroke-opacity:0.1; fill:none\" points=\"\n",
       "  223.612,1486.45 223.612,47.2441 \n",
       "  \"/>\n",
       "<polyline clip-path=\"url(#clip132)\" style=\"stroke:#000000; stroke-width:2; stroke-opacity:0.1; fill:none\" points=\"\n",
       "  654.264,1486.45 654.264,47.2441 \n",
       "  \"/>\n",
       "<polyline clip-path=\"url(#clip132)\" style=\"stroke:#000000; stroke-width:2; stroke-opacity:0.1; fill:none\" points=\"\n",
       "  1084.92,1486.45 1084.92,47.2441 \n",
       "  \"/>\n",
       "<polyline clip-path=\"url(#clip132)\" style=\"stroke:#000000; stroke-width:2; stroke-opacity:0.1; fill:none\" points=\"\n",
       "  1515.57,1486.45 1515.57,47.2441 \n",
       "  \"/>\n",
       "<polyline clip-path=\"url(#clip132)\" style=\"stroke:#000000; stroke-width:2; stroke-opacity:0.1; fill:none\" points=\"\n",
       "  1946.22,1486.45 1946.22,47.2441 \n",
       "  \"/>\n",
       "<polyline clip-path=\"url(#clip130)\" style=\"stroke:#000000; stroke-width:4; stroke-opacity:1; fill:none\" points=\"\n",
       "  161.598,1486.45 2352.76,1486.45 \n",
       "  \"/>\n",
       "<polyline clip-path=\"url(#clip130)\" style=\"stroke:#000000; stroke-width:4; stroke-opacity:1; fill:none\" points=\"\n",
       "  223.612,1486.45 223.612,1469.18 \n",
       "  \"/>\n",
       "<polyline clip-path=\"url(#clip130)\" style=\"stroke:#000000; stroke-width:4; stroke-opacity:1; fill:none\" points=\"\n",
       "  654.264,1486.45 654.264,1469.18 \n",
       "  \"/>\n",
       "<polyline clip-path=\"url(#clip130)\" style=\"stroke:#000000; stroke-width:4; stroke-opacity:1; fill:none\" points=\"\n",
       "  1084.92,1486.45 1084.92,1469.18 \n",
       "  \"/>\n",
       "<polyline clip-path=\"url(#clip130)\" style=\"stroke:#000000; stroke-width:4; stroke-opacity:1; fill:none\" points=\"\n",
       "  1515.57,1486.45 1515.57,1469.18 \n",
       "  \"/>\n",
       "<polyline clip-path=\"url(#clip130)\" style=\"stroke:#000000; stroke-width:4; stroke-opacity:1; fill:none\" points=\"\n",
       "  1946.22,1486.45 1946.22,1469.18 \n",
       "  \"/>\n",
       "<path clip-path=\"url(#clip130)\" d=\"M 0 0 M205.128 1515.64 Q201.517 1515.64 199.689 1519.2 Q197.883 1522.75 197.883 1529.87 Q197.883 1536.98 199.689 1540.55 Q201.517 1544.09 205.128 1544.09 Q208.763 1544.09 210.568 1540.55 Q212.397 1536.98 212.397 1529.87 Q212.397 1522.75 210.568 1519.2 Q208.763 1515.64 205.128 1515.64 M205.128 1511.93 Q210.939 1511.93 213.994 1516.54 Q217.073 1521.12 217.073 1529.87 Q217.073 1538.6 213.994 1543.21 Q210.939 1547.79 205.128 1547.79 Q199.318 1547.79 196.24 1543.21 Q193.184 1538.6 193.184 1529.87 Q193.184 1521.12 196.24 1516.54 Q199.318 1511.93 205.128 1511.93 Z\" fill=\"#000000\" fill-rule=\"evenodd\" fill-opacity=\"1\" /><path clip-path=\"url(#clip130)\" d=\"M 0 0 M222.142 1541.24 L227.026 1541.24 L227.026 1547.12 L222.142 1547.12 L222.142 1541.24 Z\" fill=\"#000000\" fill-rule=\"evenodd\" fill-opacity=\"1\" /><path clip-path=\"url(#clip130)\" d=\"M 0 0 M242.096 1515.64 Q238.485 1515.64 236.656 1519.2 Q234.85 1522.75 234.85 1529.87 Q234.85 1536.98 236.656 1540.55 Q238.485 1544.09 242.096 1544.09 Q245.73 1544.09 247.536 1540.55 Q249.364 1536.98 249.364 1529.87 Q249.364 1522.75 247.536 1519.2 Q245.73 1515.64 242.096 1515.64 M242.096 1511.93 Q247.906 1511.93 250.961 1516.54 Q254.04 1521.12 254.04 1529.87 Q254.04 1538.6 250.961 1543.21 Q247.906 1547.79 242.096 1547.79 Q236.286 1547.79 233.207 1543.21 Q230.151 1538.6 230.151 1529.87 Q230.151 1521.12 233.207 1516.54 Q236.286 1511.93 242.096 1511.93 Z\" fill=\"#000000\" fill-rule=\"evenodd\" fill-opacity=\"1\" /><path clip-path=\"url(#clip130)\" d=\"M 0 0 M630.931 1543.18 L647.25 1543.18 L647.25 1547.12 L625.306 1547.12 L625.306 1543.18 Q627.968 1540.43 632.551 1535.8 Q637.158 1531.15 638.338 1529.81 Q640.584 1527.28 641.463 1525.55 Q642.366 1523.79 642.366 1522.1 Q642.366 1519.34 640.422 1517.61 Q638.5 1515.87 635.399 1515.87 Q633.199 1515.87 630.746 1516.63 Q628.315 1517.4 625.537 1518.95 L625.537 1514.23 Q628.362 1513.09 630.815 1512.51 Q633.269 1511.93 635.306 1511.93 Q640.676 1511.93 643.871 1514.62 Q647.065 1517.31 647.065 1521.8 Q647.065 1523.93 646.255 1525.85 Q645.468 1527.74 643.361 1530.34 Q642.783 1531.01 639.681 1534.23 Q636.579 1537.42 630.931 1543.18 Z\" fill=\"#000000\" fill-rule=\"evenodd\" fill-opacity=\"1\" /><path clip-path=\"url(#clip130)\" d=\"M 0 0 M652.32 1541.24 L657.204 1541.24 L657.204 1547.12 L652.32 1547.12 L652.32 1541.24 Z\" fill=\"#000000\" fill-rule=\"evenodd\" fill-opacity=\"1\" /><path clip-path=\"url(#clip130)\" d=\"M 0 0 M662.32 1512.56 L680.676 1512.56 L680.676 1516.5 L666.602 1516.5 L666.602 1524.97 Q667.621 1524.62 668.639 1524.46 Q669.658 1524.27 670.676 1524.27 Q676.463 1524.27 679.843 1527.44 Q683.222 1530.62 683.222 1536.03 Q683.222 1541.61 679.75 1544.71 Q676.278 1547.79 669.959 1547.79 Q667.783 1547.79 665.514 1547.42 Q663.269 1547.05 660.861 1546.31 L660.861 1541.61 Q662.945 1542.74 665.167 1543.3 Q667.389 1543.86 669.866 1543.86 Q673.871 1543.86 676.208 1541.75 Q678.546 1539.64 678.546 1536.03 Q678.546 1532.42 676.208 1530.31 Q673.871 1528.21 669.866 1528.21 Q667.991 1528.21 666.116 1528.62 Q664.264 1529.04 662.32 1529.92 L662.32 1512.56 Z\" fill=\"#000000\" fill-rule=\"evenodd\" fill-opacity=\"1\" /><path clip-path=\"url(#clip130)\" d=\"M 0 0 M1056.71 1512.56 L1075.07 1512.56 L1075.07 1516.5 L1060.99 1516.5 L1060.99 1524.97 Q1062.01 1524.62 1063.03 1524.46 Q1064.05 1524.27 1065.07 1524.27 Q1070.85 1524.27 1074.23 1527.44 Q1077.61 1530.62 1077.61 1536.03 Q1077.61 1541.61 1074.14 1544.71 Q1070.67 1547.79 1064.35 1547.79 Q1062.17 1547.79 1059.9 1547.42 Q1057.66 1547.05 1055.25 1546.31 L1055.25 1541.61 Q1057.34 1542.74 1059.56 1543.3 Q1061.78 1543.86 1064.26 1543.86 Q1068.26 1543.86 1070.6 1541.75 Q1072.94 1539.64 1072.94 1536.03 Q1072.94 1532.42 1070.6 1530.31 Q1068.26 1528.21 1064.26 1528.21 Q1062.38 1528.21 1060.51 1528.62 Q1058.65 1529.04 1056.71 1529.92 L1056.71 1512.56 Z\" fill=\"#000000\" fill-rule=\"evenodd\" fill-opacity=\"1\" /><path clip-path=\"url(#clip130)\" d=\"M 0 0 M1082.68 1541.24 L1087.57 1541.24 L1087.57 1547.12 L1082.68 1547.12 L1082.68 1541.24 Z\" fill=\"#000000\" fill-rule=\"evenodd\" fill-opacity=\"1\" /><path clip-path=\"url(#clip130)\" d=\"M 0 0 M1102.64 1515.64 Q1099.02 1515.64 1097.2 1519.2 Q1095.39 1522.75 1095.39 1529.87 Q1095.39 1536.98 1097.2 1540.55 Q1099.02 1544.09 1102.64 1544.09 Q1106.27 1544.09 1108.08 1540.55 Q1109.9 1536.98 1109.9 1529.87 Q1109.9 1522.75 1108.08 1519.2 Q1106.27 1515.64 1102.64 1515.64 M1102.64 1511.93 Q1108.45 1511.93 1111.5 1516.54 Q1114.58 1521.12 1114.58 1529.87 Q1114.58 1538.6 1111.5 1543.21 Q1108.45 1547.79 1102.64 1547.79 Q1096.83 1547.79 1093.75 1543.21 Q1090.69 1538.6 1090.69 1529.87 Q1090.69 1521.12 1093.75 1516.54 Q1096.83 1511.93 1102.64 1511.93 Z\" fill=\"#000000\" fill-rule=\"evenodd\" fill-opacity=\"1\" /><path clip-path=\"url(#clip130)\" d=\"M 0 0 M1486.47 1512.56 L1508.69 1512.56 L1508.69 1514.55 L1496.15 1547.12 L1491.26 1547.12 L1503.07 1516.5 L1486.47 1516.5 L1486.47 1512.56 Z\" fill=\"#000000\" fill-rule=\"evenodd\" fill-opacity=\"1\" /><path clip-path=\"url(#clip130)\" d=\"M 0 0 M1513.76 1541.24 L1518.65 1541.24 L1518.65 1547.12 L1513.76 1547.12 L1513.76 1541.24 Z\" fill=\"#000000\" fill-rule=\"evenodd\" fill-opacity=\"1\" /><path clip-path=\"url(#clip130)\" d=\"M 0 0 M1523.76 1512.56 L1542.12 1512.56 L1542.12 1516.5 L1528.05 1516.5 L1528.05 1524.97 Q1529.06 1524.62 1530.08 1524.46 Q1531.1 1524.27 1532.12 1524.27 Q1537.91 1524.27 1541.29 1527.44 Q1544.67 1530.62 1544.67 1536.03 Q1544.67 1541.61 1541.19 1544.71 Q1537.72 1547.79 1531.4 1547.79 Q1529.23 1547.79 1526.96 1547.42 Q1524.71 1547.05 1522.3 1546.31 L1522.3 1541.61 Q1524.39 1542.74 1526.61 1543.3 Q1528.83 1543.86 1531.31 1543.86 Q1535.31 1543.86 1537.65 1541.75 Q1539.99 1539.64 1539.99 1536.03 Q1539.99 1532.42 1537.65 1530.31 Q1535.31 1528.21 1531.31 1528.21 Q1529.43 1528.21 1527.56 1528.62 Q1525.71 1529.04 1523.76 1529.92 L1523.76 1512.56 Z\" fill=\"#000000\" fill-rule=\"evenodd\" fill-opacity=\"1\" /><path clip-path=\"url(#clip130)\" d=\"M 0 0 M1904.61 1543.18 L1912.25 1543.18 L1912.25 1516.82 L1903.94 1518.49 L1903.94 1514.23 L1912.2 1512.56 L1916.88 1512.56 L1916.88 1543.18 L1924.52 1543.18 L1924.52 1547.12 L1904.61 1547.12 L1904.61 1543.18 Z\" fill=\"#000000\" fill-rule=\"evenodd\" fill-opacity=\"1\" /><path clip-path=\"url(#clip130)\" d=\"M 0 0 M1939.59 1515.64 Q1935.98 1515.64 1934.15 1519.2 Q1932.34 1522.75 1932.34 1529.87 Q1932.34 1536.98 1934.15 1540.55 Q1935.98 1544.09 1939.59 1544.09 Q1943.22 1544.09 1945.03 1540.55 Q1946.86 1536.98 1946.86 1529.87 Q1946.86 1522.75 1945.03 1519.2 Q1943.22 1515.64 1939.59 1515.64 M1939.59 1511.93 Q1945.4 1511.93 1948.45 1516.54 Q1951.53 1521.12 1951.53 1529.87 Q1951.53 1538.6 1948.45 1543.21 Q1945.4 1547.79 1939.59 1547.79 Q1933.78 1547.79 1930.7 1543.21 Q1927.64 1538.6 1927.64 1529.87 Q1927.64 1521.12 1930.7 1516.54 Q1933.78 1511.93 1939.59 1511.93 Z\" fill=\"#000000\" fill-rule=\"evenodd\" fill-opacity=\"1\" /><path clip-path=\"url(#clip130)\" d=\"M 0 0 M1956.6 1541.24 L1961.49 1541.24 L1961.49 1547.12 L1956.6 1547.12 L1956.6 1541.24 Z\" fill=\"#000000\" fill-rule=\"evenodd\" fill-opacity=\"1\" /><path clip-path=\"url(#clip130)\" d=\"M 0 0 M1976.56 1515.64 Q1972.94 1515.64 1971.12 1519.2 Q1969.31 1522.75 1969.31 1529.87 Q1969.31 1536.98 1971.12 1540.55 Q1972.94 1544.09 1976.56 1544.09 Q1980.19 1544.09 1982 1540.55 Q1983.82 1536.98 1983.82 1529.87 Q1983.82 1522.75 1982 1519.2 Q1980.19 1515.64 1976.56 1515.64 M1976.56 1511.93 Q1982.37 1511.93 1985.42 1516.54 Q1988.5 1521.12 1988.5 1529.87 Q1988.5 1538.6 1985.42 1543.21 Q1982.37 1547.79 1976.56 1547.79 Q1970.75 1547.79 1967.67 1543.21 Q1964.61 1538.6 1964.61 1529.87 Q1964.61 1521.12 1967.67 1516.54 Q1970.75 1511.93 1976.56 1511.93 Z\" fill=\"#000000\" fill-rule=\"evenodd\" fill-opacity=\"1\" /><polyline clip-path=\"url(#clip132)\" style=\"stroke:#000000; stroke-width:2; stroke-opacity:0.1; fill:none\" points=\"\n",
       "  161.598,1445.72 2352.76,1445.72 \n",
       "  \"/>\n",
       "<polyline clip-path=\"url(#clip132)\" style=\"stroke:#000000; stroke-width:2; stroke-opacity:0.1; fill:none\" points=\"\n",
       "  161.598,1234.72 2352.76,1234.72 \n",
       "  \"/>\n",
       "<polyline clip-path=\"url(#clip132)\" style=\"stroke:#000000; stroke-width:2; stroke-opacity:0.1; fill:none\" points=\"\n",
       "  161.598,1023.73 2352.76,1023.73 \n",
       "  \"/>\n",
       "<polyline clip-path=\"url(#clip132)\" style=\"stroke:#000000; stroke-width:2; stroke-opacity:0.1; fill:none\" points=\"\n",
       "  161.598,812.738 2352.76,812.738 \n",
       "  \"/>\n",
       "<polyline clip-path=\"url(#clip132)\" style=\"stroke:#000000; stroke-width:2; stroke-opacity:0.1; fill:none\" points=\"\n",
       "  161.598,601.745 2352.76,601.745 \n",
       "  \"/>\n",
       "<polyline clip-path=\"url(#clip132)\" style=\"stroke:#000000; stroke-width:2; stroke-opacity:0.1; fill:none\" points=\"\n",
       "  161.598,390.752 2352.76,390.752 \n",
       "  \"/>\n",
       "<polyline clip-path=\"url(#clip132)\" style=\"stroke:#000000; stroke-width:2; stroke-opacity:0.1; fill:none\" points=\"\n",
       "  161.598,179.759 2352.76,179.759 \n",
       "  \"/>\n",
       "<polyline clip-path=\"url(#clip130)\" style=\"stroke:#000000; stroke-width:4; stroke-opacity:1; fill:none\" points=\"\n",
       "  161.598,1486.45 161.598,47.2441 \n",
       "  \"/>\n",
       "<polyline clip-path=\"url(#clip130)\" style=\"stroke:#000000; stroke-width:4; stroke-opacity:1; fill:none\" points=\"\n",
       "  161.598,1445.72 187.892,1445.72 \n",
       "  \"/>\n",
       "<polyline clip-path=\"url(#clip130)\" style=\"stroke:#000000; stroke-width:4; stroke-opacity:1; fill:none\" points=\"\n",
       "  161.598,1234.72 187.892,1234.72 \n",
       "  \"/>\n",
       "<polyline clip-path=\"url(#clip130)\" style=\"stroke:#000000; stroke-width:4; stroke-opacity:1; fill:none\" points=\"\n",
       "  161.598,1023.73 187.892,1023.73 \n",
       "  \"/>\n",
       "<polyline clip-path=\"url(#clip130)\" style=\"stroke:#000000; stroke-width:4; stroke-opacity:1; fill:none\" points=\"\n",
       "  161.598,812.738 187.892,812.738 \n",
       "  \"/>\n",
       "<polyline clip-path=\"url(#clip130)\" style=\"stroke:#000000; stroke-width:4; stroke-opacity:1; fill:none\" points=\"\n",
       "  161.598,601.745 187.892,601.745 \n",
       "  \"/>\n",
       "<polyline clip-path=\"url(#clip130)\" style=\"stroke:#000000; stroke-width:4; stroke-opacity:1; fill:none\" points=\"\n",
       "  161.598,390.752 187.892,390.752 \n",
       "  \"/>\n",
       "<polyline clip-path=\"url(#clip130)\" style=\"stroke:#000000; stroke-width:4; stroke-opacity:1; fill:none\" points=\"\n",
       "  161.598,179.759 187.892,179.759 \n",
       "  \"/>\n",
       "<path clip-path=\"url(#clip130)\" d=\"M 0 0 M113.654 1431.51 Q110.043 1431.51 108.214 1435.08 Q106.408 1438.62 106.408 1445.75 Q106.408 1452.86 108.214 1456.42 Q110.043 1459.96 113.654 1459.96 Q117.288 1459.96 119.094 1456.42 Q120.922 1452.86 120.922 1445.75 Q120.922 1438.62 119.094 1435.08 Q117.288 1431.51 113.654 1431.51 M113.654 1427.81 Q119.464 1427.81 122.52 1432.42 Q125.598 1437 125.598 1445.75 Q125.598 1454.48 122.52 1459.08 Q119.464 1463.67 113.654 1463.67 Q107.844 1463.67 104.765 1459.08 Q101.709 1454.48 101.709 1445.75 Q101.709 1437 104.765 1432.42 Q107.844 1427.81 113.654 1427.81 Z\" fill=\"#000000\" fill-rule=\"evenodd\" fill-opacity=\"1\" /><path clip-path=\"url(#clip130)\" d=\"M 0 0 M82.2651 1248.07 L98.5845 1248.07 L98.5845 1252 L76.6401 1252 L76.6401 1248.07 Q79.3022 1245.31 83.8855 1240.68 Q88.4919 1236.03 89.6725 1234.69 Q91.9178 1232.17 92.7975 1230.43 Q93.7002 1228.67 93.7002 1226.98 Q93.7002 1224.23 91.7558 1222.49 Q89.8345 1220.75 86.7327 1220.75 Q84.5336 1220.75 82.0799 1221.52 Q79.6494 1222.28 76.8716 1223.83 L76.8716 1219.11 Q79.6957 1217.98 82.1494 1217.4 Q84.6031 1216.82 86.6401 1216.82 Q92.0104 1216.82 95.2049 1219.5 Q98.3993 1222.19 98.3993 1226.68 Q98.3993 1228.81 97.5891 1230.73 Q96.8021 1232.63 94.6956 1235.22 Q94.1169 1235.89 91.0151 1239.11 Q87.9132 1242.3 82.2651 1248.07 Z\" fill=\"#000000\" fill-rule=\"evenodd\" fill-opacity=\"1\" /><path clip-path=\"url(#clip130)\" d=\"M 0 0 M113.654 1220.52 Q110.043 1220.52 108.214 1224.09 Q106.408 1227.63 106.408 1234.76 Q106.408 1241.86 108.214 1245.43 Q110.043 1248.97 113.654 1248.97 Q117.288 1248.97 119.094 1245.43 Q120.922 1241.86 120.922 1234.76 Q120.922 1227.63 119.094 1224.09 Q117.288 1220.52 113.654 1220.52 M113.654 1216.82 Q119.464 1216.82 122.52 1221.42 Q125.598 1226.01 125.598 1234.76 Q125.598 1243.48 122.52 1248.09 Q119.464 1252.67 113.654 1252.67 Q107.844 1252.67 104.765 1248.09 Q101.709 1243.48 101.709 1234.76 Q101.709 1226.01 104.765 1221.42 Q107.844 1216.82 113.654 1216.82 Z\" fill=\"#000000\" fill-rule=\"evenodd\" fill-opacity=\"1\" /><path clip-path=\"url(#clip130)\" d=\"M 0 0 M89.0012 1010.52 L77.1957 1028.97 L89.0012 1028.97 L89.0012 1010.52 M87.7743 1006.45 L93.6539 1006.45 L93.6539 1028.97 L98.5845 1028.97 L98.5845 1032.86 L93.6539 1032.86 L93.6539 1041.01 L89.0012 1041.01 L89.0012 1032.86 L73.3994 1032.86 L73.3994 1028.35 L87.7743 1006.45 Z\" fill=\"#000000\" fill-rule=\"evenodd\" fill-opacity=\"1\" /><path clip-path=\"url(#clip130)\" d=\"M 0 0 M113.654 1009.53 Q110.043 1009.53 108.214 1013.09 Q106.408 1016.64 106.408 1023.77 Q106.408 1030.87 108.214 1034.44 Q110.043 1037.98 113.654 1037.98 Q117.288 1037.98 119.094 1034.44 Q120.922 1030.87 120.922 1023.77 Q120.922 1016.64 119.094 1013.09 Q117.288 1009.53 113.654 1009.53 M113.654 1005.83 Q119.464 1005.83 122.52 1010.43 Q125.598 1015.02 125.598 1023.77 Q125.598 1032.49 122.52 1037.1 Q119.464 1041.68 113.654 1041.68 Q107.844 1041.68 104.765 1037.1 Q101.709 1032.49 101.709 1023.77 Q101.709 1015.02 104.765 1010.43 Q107.844 1005.83 113.654 1005.83 Z\" fill=\"#000000\" fill-rule=\"evenodd\" fill-opacity=\"1\" /><path clip-path=\"url(#clip130)\" d=\"M 0 0 M87.0567 810.874 Q83.9086 810.874 82.0568 813.027 Q80.2281 815.18 80.2281 818.93 Q80.2281 822.657 82.0568 824.832 Q83.9086 826.985 87.0567 826.985 Q90.2049 826.985 92.0336 824.832 Q93.8854 822.657 93.8854 818.93 Q93.8854 815.18 92.0336 813.027 Q90.2049 810.874 87.0567 810.874 M96.3391 796.222 L96.3391 800.481 Q94.5799 799.647 92.7743 799.208 Q90.9919 798.768 89.2327 798.768 Q84.6031 798.768 82.1494 801.893 Q79.7188 805.018 79.3716 811.337 Q80.7373 809.323 82.7975 808.258 Q84.8577 807.171 87.3345 807.171 Q92.5428 807.171 95.5521 810.342 Q98.5845 813.49 98.5845 818.93 Q98.5845 824.254 95.4363 827.471 Q92.2882 830.689 87.0567 830.689 Q81.0614 830.689 77.8901 826.106 Q74.7189 821.499 74.7189 812.772 Q74.7189 804.578 78.6077 799.717 Q82.4966 794.833 89.0475 794.833 Q90.8067 794.833 92.5891 795.18 Q94.3947 795.527 96.3391 796.222 Z\" fill=\"#000000\" fill-rule=\"evenodd\" fill-opacity=\"1\" /><path clip-path=\"url(#clip130)\" d=\"M 0 0 M113.654 798.536 Q110.043 798.536 108.214 802.101 Q106.408 805.643 106.408 812.772 Q106.408 819.879 108.214 823.444 Q110.043 826.985 113.654 826.985 Q117.288 826.985 119.094 823.444 Q120.922 819.879 120.922 812.772 Q120.922 805.643 119.094 802.101 Q117.288 798.536 113.654 798.536 M113.654 794.833 Q119.464 794.833 122.52 799.439 Q125.598 804.022 125.598 812.772 Q125.598 821.499 122.52 826.106 Q119.464 830.689 113.654 830.689 Q107.844 830.689 104.765 826.106 Q101.709 821.499 101.709 812.772 Q101.709 804.022 104.765 799.439 Q107.844 794.833 113.654 794.833 Z\" fill=\"#000000\" fill-rule=\"evenodd\" fill-opacity=\"1\" /><path clip-path=\"url(#clip130)\" d=\"M 0 0 M86.7327 602.613 Q83.3994 602.613 81.4781 604.395 Q79.5799 606.178 79.5799 609.303 Q79.5799 612.428 81.4781 614.21 Q83.3994 615.993 86.7327 615.993 Q90.066 615.993 91.9873 614.21 Q93.9086 612.405 93.9086 609.303 Q93.9086 606.178 91.9873 604.395 Q90.0891 602.613 86.7327 602.613 M82.0568 600.622 Q79.0475 599.881 77.3577 597.821 Q75.6911 595.761 75.6911 592.798 Q75.6911 588.655 78.6309 586.247 Q81.5938 583.84 86.7327 583.84 Q91.8947 583.84 94.8345 586.247 Q97.7743 588.655 97.7743 592.798 Q97.7743 595.761 96.0845 597.821 Q94.4178 599.881 91.4317 600.622 Q94.8113 601.409 96.6863 603.701 Q98.5845 605.993 98.5845 609.303 Q98.5845 614.326 95.5058 617.011 Q92.4502 619.696 86.7327 619.696 Q81.0151 619.696 77.9364 617.011 Q74.8809 614.326 74.8809 609.303 Q74.8809 605.993 76.779 603.701 Q78.6772 601.409 82.0568 600.622 M80.3438 593.238 Q80.3438 595.923 82.0105 597.428 Q83.7003 598.932 86.7327 598.932 Q89.7419 598.932 91.4317 597.428 Q93.1447 595.923 93.1447 593.238 Q93.1447 590.553 91.4317 589.048 Q89.7419 587.544 86.7327 587.544 Q83.7003 587.544 82.0105 589.048 Q80.3438 590.553 80.3438 593.238 Z\" fill=\"#000000\" fill-rule=\"evenodd\" fill-opacity=\"1\" /><path clip-path=\"url(#clip130)\" d=\"M 0 0 M113.654 587.544 Q110.043 587.544 108.214 591.108 Q106.408 594.65 106.408 601.78 Q106.408 608.886 108.214 612.451 Q110.043 615.993 113.654 615.993 Q117.288 615.993 119.094 612.451 Q120.922 608.886 120.922 601.78 Q120.922 594.65 119.094 591.108 Q117.288 587.544 113.654 587.544 M113.654 583.84 Q119.464 583.84 122.52 588.446 Q125.598 593.03 125.598 601.78 Q125.598 610.506 122.52 615.113 Q119.464 619.696 113.654 619.696 Q107.844 619.696 104.765 615.113 Q101.709 610.506 101.709 601.78 Q101.709 593.03 104.765 588.446 Q107.844 583.84 113.654 583.84 Z\" fill=\"#000000\" fill-rule=\"evenodd\" fill-opacity=\"1\" /><path clip-path=\"url(#clip130)\" d=\"M 0 0 M51.6634 404.097 L59.3023 404.097 L59.3023 377.731 L50.9921 379.398 L50.9921 375.139 L59.256 373.472 L63.9319 373.472 L63.9319 404.097 L71.5707 404.097 L71.5707 408.032 L51.6634 408.032 L51.6634 404.097 Z\" fill=\"#000000\" fill-rule=\"evenodd\" fill-opacity=\"1\" /><path clip-path=\"url(#clip130)\" d=\"M 0 0 M86.6401 376.551 Q83.029 376.551 81.2003 380.116 Q79.3948 383.657 79.3948 390.787 Q79.3948 397.893 81.2003 401.458 Q83.029 405 86.6401 405 Q90.2743 405 92.0799 401.458 Q93.9086 397.893 93.9086 390.787 Q93.9086 383.657 92.0799 380.116 Q90.2743 376.551 86.6401 376.551 M86.6401 372.847 Q92.4502 372.847 95.5058 377.454 Q98.5845 382.037 98.5845 390.787 Q98.5845 399.514 95.5058 404.12 Q92.4502 408.703 86.6401 408.703 Q80.8299 408.703 77.7512 404.12 Q74.6957 399.514 74.6957 390.787 Q74.6957 382.037 77.7512 377.454 Q80.8299 372.847 86.6401 372.847 Z\" fill=\"#000000\" fill-rule=\"evenodd\" fill-opacity=\"1\" /><path clip-path=\"url(#clip130)\" d=\"M 0 0 M113.654 376.551 Q110.043 376.551 108.214 380.116 Q106.408 383.657 106.408 390.787 Q106.408 397.893 108.214 401.458 Q110.043 405 113.654 405 Q117.288 405 119.094 401.458 Q120.922 397.893 120.922 390.787 Q120.922 383.657 119.094 380.116 Q117.288 376.551 113.654 376.551 M113.654 372.847 Q119.464 372.847 122.52 377.454 Q125.598 382.037 125.598 390.787 Q125.598 399.514 122.52 404.12 Q119.464 408.703 113.654 408.703 Q107.844 408.703 104.765 404.12 Q101.709 399.514 101.709 390.787 Q101.709 382.037 104.765 377.454 Q107.844 372.847 113.654 372.847 Z\" fill=\"#000000\" fill-rule=\"evenodd\" fill-opacity=\"1\" /><path clip-path=\"url(#clip130)\" d=\"M 0 0 M53.2606 193.104 L60.8995 193.104 L60.8995 166.739 L52.5893 168.405 L52.5893 164.146 L60.8532 162.479 L65.5291 162.479 L65.5291 193.104 L73.1679 193.104 L73.1679 197.039 L53.2606 197.039 L53.2606 193.104 Z\" fill=\"#000000\" fill-rule=\"evenodd\" fill-opacity=\"1\" /><path clip-path=\"url(#clip130)\" d=\"M 0 0 M82.2651 193.104 L98.5845 193.104 L98.5845 197.039 L76.6401 197.039 L76.6401 193.104 Q79.3022 190.35 83.8855 185.72 Q88.4919 181.067 89.6725 179.725 Q91.9178 177.202 92.7975 175.466 Q93.7002 173.706 93.7002 172.016 Q93.7002 169.262 91.7558 167.526 Q89.8345 165.79 86.7327 165.79 Q84.5336 165.79 82.0799 166.554 Q79.6494 167.317 76.8716 168.868 L76.8716 164.146 Q79.6957 163.012 82.1494 162.433 Q84.6031 161.854 86.6401 161.854 Q92.0104 161.854 95.2049 164.54 Q98.3993 167.225 98.3993 171.716 Q98.3993 173.845 97.5891 175.766 Q96.8021 177.665 94.6956 180.257 Q94.1169 180.928 91.0151 184.146 Q87.9132 187.34 82.2651 193.104 Z\" fill=\"#000000\" fill-rule=\"evenodd\" fill-opacity=\"1\" /><path clip-path=\"url(#clip130)\" d=\"M 0 0 M113.654 165.558 Q110.043 165.558 108.214 169.123 Q106.408 172.665 106.408 179.794 Q106.408 186.901 108.214 190.465 Q110.043 194.007 113.654 194.007 Q117.288 194.007 119.094 190.465 Q120.922 186.901 120.922 179.794 Q120.922 172.665 119.094 169.123 Q117.288 165.558 113.654 165.558 M113.654 161.854 Q119.464 161.854 122.52 166.461 Q125.598 171.044 125.598 179.794 Q125.598 188.521 122.52 193.127 Q119.464 197.711 113.654 197.711 Q107.844 197.711 104.765 193.127 Q101.709 188.521 101.709 179.794 Q101.709 171.044 104.765 166.461 Q107.844 161.854 113.654 161.854 Z\" fill=\"#000000\" fill-rule=\"evenodd\" fill-opacity=\"1\" /><polyline clip-path=\"url(#clip132)\" style=\"stroke:#009af9; stroke-width:4; stroke-opacity:1; fill:none\" points=\"\n",
       "  223.612,87.9763 240.838,263.7 258.064,416.68 275.29,549.861 292.516,665.806 309.743,766.744 326.969,854.619 344.195,931.121 361.421,997.722 378.647,1055.7 \n",
       "  395.873,1106.18 413.099,1150.12 430.325,1188.38 447.551,1221.69 464.777,1250.68 482.003,1275.92 499.229,1297.9 516.456,1317.03 533.682,1333.68 550.908,1348.18 \n",
       "  568.134,1360.81 585.36,1371.8 602.586,1381.36 619.812,1389.69 637.038,1396.94 654.264,1403.25 671.49,1408.75 688.716,1413.53 705.942,1417.7 723.168,1421.33 \n",
       "  740.395,1424.48 757.621,1427.23 774.847,1429.62 792.073,1431.71 809.299,1433.52 826.525,1435.1 843.751,1436.47 860.977,1437.67 878.203,1438.71 895.429,1439.62 \n",
       "  912.655,1440.41 929.881,1441.09 947.108,1441.69 964.334,1442.21 981.56,1442.67 998.786,1443.06 1016.01,1443.4 1033.24,1443.7 1050.46,1443.96 1067.69,1444.19 \n",
       "  1084.92,1444.39 1102.14,1444.56 1119.37,1444.71 1136.59,1444.84 1153.82,1444.95 1171.05,1445.05 1188.27,1445.14 1205.5,1445.21 1222.72,1445.28 1239.95,1445.33 \n",
       "  1257.18,1445.38 1274.4,1445.43 1291.63,1445.46 1308.86,1445.5 1326.08,1445.53 1343.31,1445.55 1360.53,1445.57 1377.76,1445.59 1394.99,1445.61 1412.21,1445.62 \n",
       "  1429.44,1445.63 1446.66,1445.64 1463.89,1445.65 1481.12,1445.66 1498.34,1445.67 1515.57,1445.67 1532.79,1445.68 1550.02,1445.68 1567.25,1445.69 1584.47,1445.69 \n",
       "  1601.7,1445.7 1618.92,1445.7 1636.15,1445.7 1653.38,1445.7 1670.6,1445.7 1687.83,1445.71 1705.06,1445.71 1722.28,1445.71 1739.51,1445.71 1756.73,1445.71 \n",
       "  1773.96,1445.71 1791.19,1445.71 1808.41,1445.71 1825.64,1445.71 1842.86,1445.71 1860.09,1445.71 1877.32,1445.71 1894.54,1445.71 1911.77,1445.71 1928.99,1445.71 \n",
       "  1946.22,1445.71 1963.45,1445.71 1980.67,1445.71 1997.9,1445.71 2015.12,1445.72 2032.35,1445.72 2049.58,1445.72 2066.8,1445.72 2084.03,1445.72 2101.26,1445.72 \n",
       "  2118.48,1445.72 2135.71,1445.72 2152.93,1445.72 2170.16,1445.72 2187.39,1445.72 2204.61,1445.72 2221.84,1445.72 2239.06,1445.72 2256.29,1445.72 2273.52,1445.72 \n",
       "  2290.74,1445.72 \n",
       "  \"/>\n",
       "<path clip-path=\"url(#clip130)\" d=\"\n",
       "M1851.63 216.178 L2279.72 216.178 L2279.72 95.2176 L1851.63 95.2176  Z\n",
       "  \" fill=\"#ffffff\" fill-rule=\"evenodd\" fill-opacity=\"1\"/>\n",
       "<polyline clip-path=\"url(#clip130)\" style=\"stroke:#000000; stroke-width:4; stroke-opacity:1; fill:none\" points=\"\n",
       "  1851.63,216.178 2279.72,216.178 2279.72,95.2176 1851.63,95.2176 1851.63,216.178 \n",
       "  \"/>\n",
       "<polyline clip-path=\"url(#clip130)\" style=\"stroke:#009af9; stroke-width:4; stroke-opacity:1; fill:none\" points=\"\n",
       "  1875.97,155.698 2022.05,155.698 \n",
       "  \"/>\n",
       "<path clip-path=\"url(#clip130)\" d=\"M 0 0 M2047.07 169.042 L2054.71 169.042 L2054.71 142.677 L2046.4 144.343 L2046.4 140.084 L2054.66 138.418 L2059.34 138.418 L2059.34 169.042 L2066.97 169.042 L2066.97 172.978 L2047.07 172.978 L2047.07 169.042 Z\" fill=\"#000000\" fill-rule=\"evenodd\" fill-opacity=\"1\" /><path clip-path=\"url(#clip130)\" d=\"M 0 0 M2082.04 141.496 Q2078.43 141.496 2076.6 145.061 Q2074.8 148.603 2074.8 155.732 Q2074.8 162.839 2076.6 166.404 Q2078.43 169.945 2082.04 169.945 Q2085.68 169.945 2087.48 166.404 Q2089.31 162.839 2089.31 155.732 Q2089.31 148.603 2087.48 145.061 Q2085.68 141.496 2082.04 141.496 M2082.04 137.793 Q2087.85 137.793 2090.91 142.399 Q2093.99 146.982 2093.99 155.732 Q2093.99 164.459 2090.91 169.066 Q2087.85 173.649 2082.04 173.649 Q2076.23 173.649 2073.16 169.066 Q2070.1 164.459 2070.1 155.732 Q2070.1 146.982 2073.16 142.399 Q2076.23 137.793 2082.04 137.793 Z\" fill=\"#000000\" fill-rule=\"evenodd\" fill-opacity=\"1\" /><path clip-path=\"url(#clip130)\" d=\"M 0 0 M2109.06 141.496 Q2105.45 141.496 2103.62 145.061 Q2101.81 148.603 2101.81 155.732 Q2101.81 162.839 2103.62 166.404 Q2105.45 169.945 2109.06 169.945 Q2112.69 169.945 2114.5 166.404 Q2116.33 162.839 2116.33 155.732 Q2116.33 148.603 2114.5 145.061 Q2112.69 141.496 2109.06 141.496 M2109.06 137.793 Q2114.87 137.793 2117.92 142.399 Q2121 146.982 2121 155.732 Q2121 164.459 2117.92 169.066 Q2114.87 173.649 2109.06 173.649 Q2103.25 173.649 2100.17 169.066 Q2097.11 164.459 2097.11 155.732 Q2097.11 146.982 2100.17 142.399 Q2103.25 137.793 2109.06 137.793 Z\" fill=\"#000000\" fill-rule=\"evenodd\" fill-opacity=\"1\" /><path clip-path=\"url(#clip130)\" d=\"M 0 0 M2136.07 141.496 Q2132.46 141.496 2130.63 145.061 Q2128.83 148.603 2128.83 155.732 Q2128.83 162.839 2130.63 166.404 Q2132.46 169.945 2136.07 169.945 Q2139.71 169.945 2141.51 166.404 Q2143.34 162.839 2143.34 155.732 Q2143.34 148.603 2141.51 145.061 Q2139.71 141.496 2136.07 141.496 M2136.07 137.793 Q2141.88 137.793 2144.94 142.399 Q2148.02 146.982 2148.02 155.732 Q2148.02 164.459 2144.94 169.066 Q2141.88 173.649 2136.07 173.649 Q2130.26 173.649 2127.18 169.066 Q2124.13 164.459 2124.13 155.732 Q2124.13 146.982 2127.18 142.399 Q2130.26 137.793 2136.07 137.793 Z\" fill=\"#000000\" fill-rule=\"evenodd\" fill-opacity=\"1\" /><path clip-path=\"url(#clip130)\" d=\"M 0 0 M2187.74 152.029 Q2189.34 149.158 2191.56 147.793 Q2193.78 146.427 2196.79 146.427 Q2200.84 146.427 2203.04 149.274 Q2205.24 152.098 2205.24 157.329 L2205.24 172.978 L2200.96 172.978 L2200.96 157.468 Q2200.96 153.742 2199.64 151.936 Q2198.32 150.13 2195.61 150.13 Q2192.3 150.13 2190.38 152.33 Q2188.46 154.529 2188.46 158.325 L2188.46 172.978 L2184.17 172.978 L2184.17 157.468 Q2184.17 153.718 2182.85 151.936 Q2181.53 150.13 2178.78 150.13 Q2175.52 150.13 2173.59 152.353 Q2171.67 154.552 2171.67 158.325 L2171.67 172.978 L2167.39 172.978 L2167.39 147.052 L2171.67 147.052 L2171.67 151.08 Q2173.13 148.695 2175.17 147.561 Q2177.21 146.427 2180.01 146.427 Q2182.83 146.427 2184.8 147.862 Q2186.79 149.297 2187.74 152.029 Z\" fill=\"#000000\" fill-rule=\"evenodd\" fill-opacity=\"1\" /><path clip-path=\"url(#clip130)\" d=\"M 0 0 M2226.77 159.714 Q2226.77 155.084 2224.84 152.538 Q2222.95 149.992 2219.5 149.992 Q2216.07 149.992 2214.15 152.538 Q2212.25 155.084 2212.25 159.714 Q2212.25 164.32 2214.15 166.866 Q2216.07 169.413 2219.5 169.413 Q2222.95 169.413 2224.84 166.866 Q2226.77 164.32 2226.77 159.714 M2231.02 169.76 Q2231.02 176.38 2228.09 179.598 Q2225.15 182.839 2219.08 182.839 Q2216.84 182.839 2214.84 182.491 Q2212.85 182.167 2210.98 181.473 L2210.98 177.329 Q2212.85 178.348 2214.68 178.834 Q2216.51 179.32 2218.41 179.32 Q2222.6 179.32 2224.68 177.121 Q2226.77 174.945 2226.77 170.524 L2226.77 168.417 Q2225.45 170.709 2223.39 171.843 Q2221.33 172.978 2218.46 172.978 Q2213.69 172.978 2210.77 169.343 Q2207.85 165.709 2207.85 159.714 Q2207.85 153.695 2210.77 150.061 Q2213.69 146.427 2218.46 146.427 Q2221.33 146.427 2223.39 147.561 Q2225.45 148.695 2226.77 150.987 L2226.77 147.052 L2231.02 147.052 L2231.02 169.76 Z\" fill=\"#000000\" fill-rule=\"evenodd\" fill-opacity=\"1\" /></svg>\n"
      ]
     },
     "execution_count": 650,
     "metadata": {},
     "output_type": "execute_result"
    }
   ],
   "source": [
    "plot(t_plot, data, label=\"$X₀ mg\")"
   ]
  },
  {
   "cell_type": "markdown",
   "metadata": {},
   "source": [
    "Do powyższego wykresu dodajmy minimalną dawkę hamującą"
   ]
  },
  {
   "cell_type": "code",
   "execution_count": 651,
   "metadata": {},
   "outputs": [
    {
     "data": {
      "image/svg+xml": [
       "<?xml version=\"1.0\" encoding=\"utf-8\"?>\n",
       "<svg xmlns=\"http://www.w3.org/2000/svg\" xmlns:xlink=\"http://www.w3.org/1999/xlink\" width=\"600\" height=\"400\" viewBox=\"0 0 2400 1600\">\n",
       "<defs>\n",
       "  <clipPath id=\"clip170\">\n",
       "    <rect x=\"0\" y=\"0\" width=\"2400\" height=\"1600\"/>\n",
       "  </clipPath>\n",
       "</defs>\n",
       "<path clip-path=\"url(#clip170)\" d=\"\n",
       "M0 1600 L2400 1600 L2400 0 L0 0  Z\n",
       "  \" fill=\"#ffffff\" fill-rule=\"evenodd\" fill-opacity=\"1\"/>\n",
       "<defs>\n",
       "  <clipPath id=\"clip171\">\n",
       "    <rect x=\"480\" y=\"0\" width=\"1681\" height=\"1600\"/>\n",
       "  </clipPath>\n",
       "</defs>\n",
       "<path clip-path=\"url(#clip170)\" d=\"\n",
       "M161.598 1486.45 L2352.76 1486.45 L2352.76 47.2441 L161.598 47.2441  Z\n",
       "  \" fill=\"#ffffff\" fill-rule=\"evenodd\" fill-opacity=\"1\"/>\n",
       "<defs>\n",
       "  <clipPath id=\"clip172\">\n",
       "    <rect x=\"161\" y=\"47\" width=\"2192\" height=\"1440\"/>\n",
       "  </clipPath>\n",
       "</defs>\n",
       "<polyline clip-path=\"url(#clip172)\" style=\"stroke:#000000; stroke-width:2; stroke-opacity:0.1; fill:none\" points=\"\n",
       "  223.612,1486.45 223.612,47.2441 \n",
       "  \"/>\n",
       "<polyline clip-path=\"url(#clip172)\" style=\"stroke:#000000; stroke-width:2; stroke-opacity:0.1; fill:none\" points=\"\n",
       "  654.264,1486.45 654.264,47.2441 \n",
       "  \"/>\n",
       "<polyline clip-path=\"url(#clip172)\" style=\"stroke:#000000; stroke-width:2; stroke-opacity:0.1; fill:none\" points=\"\n",
       "  1084.92,1486.45 1084.92,47.2441 \n",
       "  \"/>\n",
       "<polyline clip-path=\"url(#clip172)\" style=\"stroke:#000000; stroke-width:2; stroke-opacity:0.1; fill:none\" points=\"\n",
       "  1515.57,1486.45 1515.57,47.2441 \n",
       "  \"/>\n",
       "<polyline clip-path=\"url(#clip172)\" style=\"stroke:#000000; stroke-width:2; stroke-opacity:0.1; fill:none\" points=\"\n",
       "  1946.22,1486.45 1946.22,47.2441 \n",
       "  \"/>\n",
       "<polyline clip-path=\"url(#clip170)\" style=\"stroke:#000000; stroke-width:4; stroke-opacity:1; fill:none\" points=\"\n",
       "  161.598,1486.45 2352.76,1486.45 \n",
       "  \"/>\n",
       "<polyline clip-path=\"url(#clip170)\" style=\"stroke:#000000; stroke-width:4; stroke-opacity:1; fill:none\" points=\"\n",
       "  223.612,1486.45 223.612,1469.18 \n",
       "  \"/>\n",
       "<polyline clip-path=\"url(#clip170)\" style=\"stroke:#000000; stroke-width:4; stroke-opacity:1; fill:none\" points=\"\n",
       "  654.264,1486.45 654.264,1469.18 \n",
       "  \"/>\n",
       "<polyline clip-path=\"url(#clip170)\" style=\"stroke:#000000; stroke-width:4; stroke-opacity:1; fill:none\" points=\"\n",
       "  1084.92,1486.45 1084.92,1469.18 \n",
       "  \"/>\n",
       "<polyline clip-path=\"url(#clip170)\" style=\"stroke:#000000; stroke-width:4; stroke-opacity:1; fill:none\" points=\"\n",
       "  1515.57,1486.45 1515.57,1469.18 \n",
       "  \"/>\n",
       "<polyline clip-path=\"url(#clip170)\" style=\"stroke:#000000; stroke-width:4; stroke-opacity:1; fill:none\" points=\"\n",
       "  1946.22,1486.45 1946.22,1469.18 \n",
       "  \"/>\n",
       "<path clip-path=\"url(#clip170)\" d=\"M 0 0 M205.128 1515.64 Q201.517 1515.64 199.689 1519.2 Q197.883 1522.75 197.883 1529.87 Q197.883 1536.98 199.689 1540.55 Q201.517 1544.09 205.128 1544.09 Q208.763 1544.09 210.568 1540.55 Q212.397 1536.98 212.397 1529.87 Q212.397 1522.75 210.568 1519.2 Q208.763 1515.64 205.128 1515.64 M205.128 1511.93 Q210.939 1511.93 213.994 1516.54 Q217.073 1521.12 217.073 1529.87 Q217.073 1538.6 213.994 1543.21 Q210.939 1547.79 205.128 1547.79 Q199.318 1547.79 196.24 1543.21 Q193.184 1538.6 193.184 1529.87 Q193.184 1521.12 196.24 1516.54 Q199.318 1511.93 205.128 1511.93 Z\" fill=\"#000000\" fill-rule=\"evenodd\" fill-opacity=\"1\" /><path clip-path=\"url(#clip170)\" d=\"M 0 0 M222.142 1541.24 L227.026 1541.24 L227.026 1547.12 L222.142 1547.12 L222.142 1541.24 Z\" fill=\"#000000\" fill-rule=\"evenodd\" fill-opacity=\"1\" /><path clip-path=\"url(#clip170)\" d=\"M 0 0 M242.096 1515.64 Q238.485 1515.64 236.656 1519.2 Q234.85 1522.75 234.85 1529.87 Q234.85 1536.98 236.656 1540.55 Q238.485 1544.09 242.096 1544.09 Q245.73 1544.09 247.536 1540.55 Q249.364 1536.98 249.364 1529.87 Q249.364 1522.75 247.536 1519.2 Q245.73 1515.64 242.096 1515.64 M242.096 1511.93 Q247.906 1511.93 250.961 1516.54 Q254.04 1521.12 254.04 1529.87 Q254.04 1538.6 250.961 1543.21 Q247.906 1547.79 242.096 1547.79 Q236.286 1547.79 233.207 1543.21 Q230.151 1538.6 230.151 1529.87 Q230.151 1521.12 233.207 1516.54 Q236.286 1511.93 242.096 1511.93 Z\" fill=\"#000000\" fill-rule=\"evenodd\" fill-opacity=\"1\" /><path clip-path=\"url(#clip170)\" d=\"M 0 0 M630.931 1543.18 L647.25 1543.18 L647.25 1547.12 L625.306 1547.12 L625.306 1543.18 Q627.968 1540.43 632.551 1535.8 Q637.158 1531.15 638.338 1529.81 Q640.584 1527.28 641.463 1525.55 Q642.366 1523.79 642.366 1522.1 Q642.366 1519.34 640.422 1517.61 Q638.5 1515.87 635.399 1515.87 Q633.199 1515.87 630.746 1516.63 Q628.315 1517.4 625.537 1518.95 L625.537 1514.23 Q628.362 1513.09 630.815 1512.51 Q633.269 1511.93 635.306 1511.93 Q640.676 1511.93 643.871 1514.62 Q647.065 1517.31 647.065 1521.8 Q647.065 1523.93 646.255 1525.85 Q645.468 1527.74 643.361 1530.34 Q642.783 1531.01 639.681 1534.23 Q636.579 1537.42 630.931 1543.18 Z\" fill=\"#000000\" fill-rule=\"evenodd\" fill-opacity=\"1\" /><path clip-path=\"url(#clip170)\" d=\"M 0 0 M652.32 1541.24 L657.204 1541.24 L657.204 1547.12 L652.32 1547.12 L652.32 1541.24 Z\" fill=\"#000000\" fill-rule=\"evenodd\" fill-opacity=\"1\" /><path clip-path=\"url(#clip170)\" d=\"M 0 0 M662.32 1512.56 L680.676 1512.56 L680.676 1516.5 L666.602 1516.5 L666.602 1524.97 Q667.621 1524.62 668.639 1524.46 Q669.658 1524.27 670.676 1524.27 Q676.463 1524.27 679.843 1527.44 Q683.222 1530.62 683.222 1536.03 Q683.222 1541.61 679.75 1544.71 Q676.278 1547.79 669.959 1547.79 Q667.783 1547.79 665.514 1547.42 Q663.269 1547.05 660.861 1546.31 L660.861 1541.61 Q662.945 1542.74 665.167 1543.3 Q667.389 1543.86 669.866 1543.86 Q673.871 1543.86 676.208 1541.75 Q678.546 1539.64 678.546 1536.03 Q678.546 1532.42 676.208 1530.31 Q673.871 1528.21 669.866 1528.21 Q667.991 1528.21 666.116 1528.62 Q664.264 1529.04 662.32 1529.92 L662.32 1512.56 Z\" fill=\"#000000\" fill-rule=\"evenodd\" fill-opacity=\"1\" /><path clip-path=\"url(#clip170)\" d=\"M 0 0 M1056.71 1512.56 L1075.07 1512.56 L1075.07 1516.5 L1060.99 1516.5 L1060.99 1524.97 Q1062.01 1524.62 1063.03 1524.46 Q1064.05 1524.27 1065.07 1524.27 Q1070.85 1524.27 1074.23 1527.44 Q1077.61 1530.62 1077.61 1536.03 Q1077.61 1541.61 1074.14 1544.71 Q1070.67 1547.79 1064.35 1547.79 Q1062.17 1547.79 1059.9 1547.42 Q1057.66 1547.05 1055.25 1546.31 L1055.25 1541.61 Q1057.34 1542.74 1059.56 1543.3 Q1061.78 1543.86 1064.26 1543.86 Q1068.26 1543.86 1070.6 1541.75 Q1072.94 1539.64 1072.94 1536.03 Q1072.94 1532.42 1070.6 1530.31 Q1068.26 1528.21 1064.26 1528.21 Q1062.38 1528.21 1060.51 1528.62 Q1058.65 1529.04 1056.71 1529.92 L1056.71 1512.56 Z\" fill=\"#000000\" fill-rule=\"evenodd\" fill-opacity=\"1\" /><path clip-path=\"url(#clip170)\" d=\"M 0 0 M1082.68 1541.24 L1087.57 1541.24 L1087.57 1547.12 L1082.68 1547.12 L1082.68 1541.24 Z\" fill=\"#000000\" fill-rule=\"evenodd\" fill-opacity=\"1\" /><path clip-path=\"url(#clip170)\" d=\"M 0 0 M1102.64 1515.64 Q1099.02 1515.64 1097.2 1519.2 Q1095.39 1522.75 1095.39 1529.87 Q1095.39 1536.98 1097.2 1540.55 Q1099.02 1544.09 1102.64 1544.09 Q1106.27 1544.09 1108.08 1540.55 Q1109.9 1536.98 1109.9 1529.87 Q1109.9 1522.75 1108.08 1519.2 Q1106.27 1515.64 1102.64 1515.64 M1102.64 1511.93 Q1108.45 1511.93 1111.5 1516.54 Q1114.58 1521.12 1114.58 1529.87 Q1114.58 1538.6 1111.5 1543.21 Q1108.45 1547.79 1102.64 1547.79 Q1096.83 1547.79 1093.75 1543.21 Q1090.69 1538.6 1090.69 1529.87 Q1090.69 1521.12 1093.75 1516.54 Q1096.83 1511.93 1102.64 1511.93 Z\" fill=\"#000000\" fill-rule=\"evenodd\" fill-opacity=\"1\" /><path clip-path=\"url(#clip170)\" d=\"M 0 0 M1486.47 1512.56 L1508.69 1512.56 L1508.69 1514.55 L1496.15 1547.12 L1491.26 1547.12 L1503.07 1516.5 L1486.47 1516.5 L1486.47 1512.56 Z\" fill=\"#000000\" fill-rule=\"evenodd\" fill-opacity=\"1\" /><path clip-path=\"url(#clip170)\" d=\"M 0 0 M1513.76 1541.24 L1518.65 1541.24 L1518.65 1547.12 L1513.76 1547.12 L1513.76 1541.24 Z\" fill=\"#000000\" fill-rule=\"evenodd\" fill-opacity=\"1\" /><path clip-path=\"url(#clip170)\" d=\"M 0 0 M1523.76 1512.56 L1542.12 1512.56 L1542.12 1516.5 L1528.05 1516.5 L1528.05 1524.97 Q1529.06 1524.62 1530.08 1524.46 Q1531.1 1524.27 1532.12 1524.27 Q1537.91 1524.27 1541.29 1527.44 Q1544.67 1530.62 1544.67 1536.03 Q1544.67 1541.61 1541.19 1544.71 Q1537.72 1547.79 1531.4 1547.79 Q1529.23 1547.79 1526.96 1547.42 Q1524.71 1547.05 1522.3 1546.31 L1522.3 1541.61 Q1524.39 1542.74 1526.61 1543.3 Q1528.83 1543.86 1531.31 1543.86 Q1535.31 1543.86 1537.65 1541.75 Q1539.99 1539.64 1539.99 1536.03 Q1539.99 1532.42 1537.65 1530.31 Q1535.31 1528.21 1531.31 1528.21 Q1529.43 1528.21 1527.56 1528.62 Q1525.71 1529.04 1523.76 1529.92 L1523.76 1512.56 Z\" fill=\"#000000\" fill-rule=\"evenodd\" fill-opacity=\"1\" /><path clip-path=\"url(#clip170)\" d=\"M 0 0 M1904.61 1543.18 L1912.25 1543.18 L1912.25 1516.82 L1903.94 1518.49 L1903.94 1514.23 L1912.2 1512.56 L1916.88 1512.56 L1916.88 1543.18 L1924.52 1543.18 L1924.52 1547.12 L1904.61 1547.12 L1904.61 1543.18 Z\" fill=\"#000000\" fill-rule=\"evenodd\" fill-opacity=\"1\" /><path clip-path=\"url(#clip170)\" d=\"M 0 0 M1939.59 1515.64 Q1935.98 1515.64 1934.15 1519.2 Q1932.34 1522.75 1932.34 1529.87 Q1932.34 1536.98 1934.15 1540.55 Q1935.98 1544.09 1939.59 1544.09 Q1943.22 1544.09 1945.03 1540.55 Q1946.86 1536.98 1946.86 1529.87 Q1946.86 1522.75 1945.03 1519.2 Q1943.22 1515.64 1939.59 1515.64 M1939.59 1511.93 Q1945.4 1511.93 1948.45 1516.54 Q1951.53 1521.12 1951.53 1529.87 Q1951.53 1538.6 1948.45 1543.21 Q1945.4 1547.79 1939.59 1547.79 Q1933.78 1547.79 1930.7 1543.21 Q1927.64 1538.6 1927.64 1529.87 Q1927.64 1521.12 1930.7 1516.54 Q1933.78 1511.93 1939.59 1511.93 Z\" fill=\"#000000\" fill-rule=\"evenodd\" fill-opacity=\"1\" /><path clip-path=\"url(#clip170)\" d=\"M 0 0 M1956.6 1541.24 L1961.49 1541.24 L1961.49 1547.12 L1956.6 1547.12 L1956.6 1541.24 Z\" fill=\"#000000\" fill-rule=\"evenodd\" fill-opacity=\"1\" /><path clip-path=\"url(#clip170)\" d=\"M 0 0 M1976.56 1515.64 Q1972.94 1515.64 1971.12 1519.2 Q1969.31 1522.75 1969.31 1529.87 Q1969.31 1536.98 1971.12 1540.55 Q1972.94 1544.09 1976.56 1544.09 Q1980.19 1544.09 1982 1540.55 Q1983.82 1536.98 1983.82 1529.87 Q1983.82 1522.75 1982 1519.2 Q1980.19 1515.64 1976.56 1515.64 M1976.56 1511.93 Q1982.37 1511.93 1985.42 1516.54 Q1988.5 1521.12 1988.5 1529.87 Q1988.5 1538.6 1985.42 1543.21 Q1982.37 1547.79 1976.56 1547.79 Q1970.75 1547.79 1967.67 1543.21 Q1964.61 1538.6 1964.61 1529.87 Q1964.61 1521.12 1967.67 1516.54 Q1970.75 1511.93 1976.56 1511.93 Z\" fill=\"#000000\" fill-rule=\"evenodd\" fill-opacity=\"1\" /><polyline clip-path=\"url(#clip172)\" style=\"stroke:#000000; stroke-width:2; stroke-opacity:0.1; fill:none\" points=\"\n",
       "  161.598,1445.72 2352.76,1445.72 \n",
       "  \"/>\n",
       "<polyline clip-path=\"url(#clip172)\" style=\"stroke:#000000; stroke-width:2; stroke-opacity:0.1; fill:none\" points=\"\n",
       "  161.598,1234.72 2352.76,1234.72 \n",
       "  \"/>\n",
       "<polyline clip-path=\"url(#clip172)\" style=\"stroke:#000000; stroke-width:2; stroke-opacity:0.1; fill:none\" points=\"\n",
       "  161.598,1023.73 2352.76,1023.73 \n",
       "  \"/>\n",
       "<polyline clip-path=\"url(#clip172)\" style=\"stroke:#000000; stroke-width:2; stroke-opacity:0.1; fill:none\" points=\"\n",
       "  161.598,812.738 2352.76,812.738 \n",
       "  \"/>\n",
       "<polyline clip-path=\"url(#clip172)\" style=\"stroke:#000000; stroke-width:2; stroke-opacity:0.1; fill:none\" points=\"\n",
       "  161.598,601.745 2352.76,601.745 \n",
       "  \"/>\n",
       "<polyline clip-path=\"url(#clip172)\" style=\"stroke:#000000; stroke-width:2; stroke-opacity:0.1; fill:none\" points=\"\n",
       "  161.598,390.752 2352.76,390.752 \n",
       "  \"/>\n",
       "<polyline clip-path=\"url(#clip172)\" style=\"stroke:#000000; stroke-width:2; stroke-opacity:0.1; fill:none\" points=\"\n",
       "  161.598,179.759 2352.76,179.759 \n",
       "  \"/>\n",
       "<polyline clip-path=\"url(#clip170)\" style=\"stroke:#000000; stroke-width:4; stroke-opacity:1; fill:none\" points=\"\n",
       "  161.598,1486.45 161.598,47.2441 \n",
       "  \"/>\n",
       "<polyline clip-path=\"url(#clip170)\" style=\"stroke:#000000; stroke-width:4; stroke-opacity:1; fill:none\" points=\"\n",
       "  161.598,1445.72 187.892,1445.72 \n",
       "  \"/>\n",
       "<polyline clip-path=\"url(#clip170)\" style=\"stroke:#000000; stroke-width:4; stroke-opacity:1; fill:none\" points=\"\n",
       "  161.598,1234.72 187.892,1234.72 \n",
       "  \"/>\n",
       "<polyline clip-path=\"url(#clip170)\" style=\"stroke:#000000; stroke-width:4; stroke-opacity:1; fill:none\" points=\"\n",
       "  161.598,1023.73 187.892,1023.73 \n",
       "  \"/>\n",
       "<polyline clip-path=\"url(#clip170)\" style=\"stroke:#000000; stroke-width:4; stroke-opacity:1; fill:none\" points=\"\n",
       "  161.598,812.738 187.892,812.738 \n",
       "  \"/>\n",
       "<polyline clip-path=\"url(#clip170)\" style=\"stroke:#000000; stroke-width:4; stroke-opacity:1; fill:none\" points=\"\n",
       "  161.598,601.745 187.892,601.745 \n",
       "  \"/>\n",
       "<polyline clip-path=\"url(#clip170)\" style=\"stroke:#000000; stroke-width:4; stroke-opacity:1; fill:none\" points=\"\n",
       "  161.598,390.752 187.892,390.752 \n",
       "  \"/>\n",
       "<polyline clip-path=\"url(#clip170)\" style=\"stroke:#000000; stroke-width:4; stroke-opacity:1; fill:none\" points=\"\n",
       "  161.598,179.759 187.892,179.759 \n",
       "  \"/>\n",
       "<path clip-path=\"url(#clip170)\" d=\"M 0 0 M113.654 1431.51 Q110.043 1431.51 108.214 1435.08 Q106.408 1438.62 106.408 1445.75 Q106.408 1452.86 108.214 1456.42 Q110.043 1459.96 113.654 1459.96 Q117.288 1459.96 119.094 1456.42 Q120.922 1452.86 120.922 1445.75 Q120.922 1438.62 119.094 1435.08 Q117.288 1431.51 113.654 1431.51 M113.654 1427.81 Q119.464 1427.81 122.52 1432.42 Q125.598 1437 125.598 1445.75 Q125.598 1454.48 122.52 1459.08 Q119.464 1463.67 113.654 1463.67 Q107.844 1463.67 104.765 1459.08 Q101.709 1454.48 101.709 1445.75 Q101.709 1437 104.765 1432.42 Q107.844 1427.81 113.654 1427.81 Z\" fill=\"#000000\" fill-rule=\"evenodd\" fill-opacity=\"1\" /><path clip-path=\"url(#clip170)\" d=\"M 0 0 M82.2651 1248.07 L98.5845 1248.07 L98.5845 1252 L76.6401 1252 L76.6401 1248.07 Q79.3022 1245.31 83.8855 1240.68 Q88.4919 1236.03 89.6725 1234.69 Q91.9178 1232.17 92.7975 1230.43 Q93.7002 1228.67 93.7002 1226.98 Q93.7002 1224.23 91.7558 1222.49 Q89.8345 1220.75 86.7327 1220.75 Q84.5336 1220.75 82.0799 1221.52 Q79.6494 1222.28 76.8716 1223.83 L76.8716 1219.11 Q79.6957 1217.98 82.1494 1217.4 Q84.6031 1216.82 86.6401 1216.82 Q92.0104 1216.82 95.2049 1219.5 Q98.3993 1222.19 98.3993 1226.68 Q98.3993 1228.81 97.5891 1230.73 Q96.8021 1232.63 94.6956 1235.22 Q94.1169 1235.89 91.0151 1239.11 Q87.9132 1242.3 82.2651 1248.07 Z\" fill=\"#000000\" fill-rule=\"evenodd\" fill-opacity=\"1\" /><path clip-path=\"url(#clip170)\" d=\"M 0 0 M113.654 1220.52 Q110.043 1220.52 108.214 1224.09 Q106.408 1227.63 106.408 1234.76 Q106.408 1241.86 108.214 1245.43 Q110.043 1248.97 113.654 1248.97 Q117.288 1248.97 119.094 1245.43 Q120.922 1241.86 120.922 1234.76 Q120.922 1227.63 119.094 1224.09 Q117.288 1220.52 113.654 1220.52 M113.654 1216.82 Q119.464 1216.82 122.52 1221.42 Q125.598 1226.01 125.598 1234.76 Q125.598 1243.48 122.52 1248.09 Q119.464 1252.67 113.654 1252.67 Q107.844 1252.67 104.765 1248.09 Q101.709 1243.48 101.709 1234.76 Q101.709 1226.01 104.765 1221.42 Q107.844 1216.82 113.654 1216.82 Z\" fill=\"#000000\" fill-rule=\"evenodd\" fill-opacity=\"1\" /><path clip-path=\"url(#clip170)\" d=\"M 0 0 M89.0012 1010.52 L77.1957 1028.97 L89.0012 1028.97 L89.0012 1010.52 M87.7743 1006.45 L93.6539 1006.45 L93.6539 1028.97 L98.5845 1028.97 L98.5845 1032.86 L93.6539 1032.86 L93.6539 1041.01 L89.0012 1041.01 L89.0012 1032.86 L73.3994 1032.86 L73.3994 1028.35 L87.7743 1006.45 Z\" fill=\"#000000\" fill-rule=\"evenodd\" fill-opacity=\"1\" /><path clip-path=\"url(#clip170)\" d=\"M 0 0 M113.654 1009.53 Q110.043 1009.53 108.214 1013.09 Q106.408 1016.64 106.408 1023.77 Q106.408 1030.87 108.214 1034.44 Q110.043 1037.98 113.654 1037.98 Q117.288 1037.98 119.094 1034.44 Q120.922 1030.87 120.922 1023.77 Q120.922 1016.64 119.094 1013.09 Q117.288 1009.53 113.654 1009.53 M113.654 1005.83 Q119.464 1005.83 122.52 1010.43 Q125.598 1015.02 125.598 1023.77 Q125.598 1032.49 122.52 1037.1 Q119.464 1041.68 113.654 1041.68 Q107.844 1041.68 104.765 1037.1 Q101.709 1032.49 101.709 1023.77 Q101.709 1015.02 104.765 1010.43 Q107.844 1005.83 113.654 1005.83 Z\" fill=\"#000000\" fill-rule=\"evenodd\" fill-opacity=\"1\" /><path clip-path=\"url(#clip170)\" d=\"M 0 0 M87.0567 810.874 Q83.9086 810.874 82.0568 813.027 Q80.2281 815.18 80.2281 818.93 Q80.2281 822.657 82.0568 824.832 Q83.9086 826.985 87.0567 826.985 Q90.2049 826.985 92.0336 824.832 Q93.8854 822.657 93.8854 818.93 Q93.8854 815.18 92.0336 813.027 Q90.2049 810.874 87.0567 810.874 M96.3391 796.222 L96.3391 800.481 Q94.5799 799.647 92.7743 799.208 Q90.9919 798.768 89.2327 798.768 Q84.6031 798.768 82.1494 801.893 Q79.7188 805.018 79.3716 811.337 Q80.7373 809.323 82.7975 808.258 Q84.8577 807.171 87.3345 807.171 Q92.5428 807.171 95.5521 810.342 Q98.5845 813.49 98.5845 818.93 Q98.5845 824.254 95.4363 827.471 Q92.2882 830.689 87.0567 830.689 Q81.0614 830.689 77.8901 826.106 Q74.7189 821.499 74.7189 812.772 Q74.7189 804.578 78.6077 799.717 Q82.4966 794.833 89.0475 794.833 Q90.8067 794.833 92.5891 795.18 Q94.3947 795.527 96.3391 796.222 Z\" fill=\"#000000\" fill-rule=\"evenodd\" fill-opacity=\"1\" /><path clip-path=\"url(#clip170)\" d=\"M 0 0 M113.654 798.536 Q110.043 798.536 108.214 802.101 Q106.408 805.643 106.408 812.772 Q106.408 819.879 108.214 823.444 Q110.043 826.985 113.654 826.985 Q117.288 826.985 119.094 823.444 Q120.922 819.879 120.922 812.772 Q120.922 805.643 119.094 802.101 Q117.288 798.536 113.654 798.536 M113.654 794.833 Q119.464 794.833 122.52 799.439 Q125.598 804.022 125.598 812.772 Q125.598 821.499 122.52 826.106 Q119.464 830.689 113.654 830.689 Q107.844 830.689 104.765 826.106 Q101.709 821.499 101.709 812.772 Q101.709 804.022 104.765 799.439 Q107.844 794.833 113.654 794.833 Z\" fill=\"#000000\" fill-rule=\"evenodd\" fill-opacity=\"1\" /><path clip-path=\"url(#clip170)\" d=\"M 0 0 M86.7327 602.613 Q83.3994 602.613 81.4781 604.395 Q79.5799 606.178 79.5799 609.303 Q79.5799 612.428 81.4781 614.21 Q83.3994 615.993 86.7327 615.993 Q90.066 615.993 91.9873 614.21 Q93.9086 612.405 93.9086 609.303 Q93.9086 606.178 91.9873 604.395 Q90.0891 602.613 86.7327 602.613 M82.0568 600.622 Q79.0475 599.881 77.3577 597.821 Q75.6911 595.761 75.6911 592.798 Q75.6911 588.655 78.6309 586.247 Q81.5938 583.84 86.7327 583.84 Q91.8947 583.84 94.8345 586.247 Q97.7743 588.655 97.7743 592.798 Q97.7743 595.761 96.0845 597.821 Q94.4178 599.881 91.4317 600.622 Q94.8113 601.409 96.6863 603.701 Q98.5845 605.993 98.5845 609.303 Q98.5845 614.326 95.5058 617.011 Q92.4502 619.696 86.7327 619.696 Q81.0151 619.696 77.9364 617.011 Q74.8809 614.326 74.8809 609.303 Q74.8809 605.993 76.779 603.701 Q78.6772 601.409 82.0568 600.622 M80.3438 593.238 Q80.3438 595.923 82.0105 597.428 Q83.7003 598.932 86.7327 598.932 Q89.7419 598.932 91.4317 597.428 Q93.1447 595.923 93.1447 593.238 Q93.1447 590.553 91.4317 589.048 Q89.7419 587.544 86.7327 587.544 Q83.7003 587.544 82.0105 589.048 Q80.3438 590.553 80.3438 593.238 Z\" fill=\"#000000\" fill-rule=\"evenodd\" fill-opacity=\"1\" /><path clip-path=\"url(#clip170)\" d=\"M 0 0 M113.654 587.544 Q110.043 587.544 108.214 591.108 Q106.408 594.65 106.408 601.78 Q106.408 608.886 108.214 612.451 Q110.043 615.993 113.654 615.993 Q117.288 615.993 119.094 612.451 Q120.922 608.886 120.922 601.78 Q120.922 594.65 119.094 591.108 Q117.288 587.544 113.654 587.544 M113.654 583.84 Q119.464 583.84 122.52 588.446 Q125.598 593.03 125.598 601.78 Q125.598 610.506 122.52 615.113 Q119.464 619.696 113.654 619.696 Q107.844 619.696 104.765 615.113 Q101.709 610.506 101.709 601.78 Q101.709 593.03 104.765 588.446 Q107.844 583.84 113.654 583.84 Z\" fill=\"#000000\" fill-rule=\"evenodd\" fill-opacity=\"1\" /><path clip-path=\"url(#clip170)\" d=\"M 0 0 M51.6634 404.097 L59.3023 404.097 L59.3023 377.731 L50.9921 379.398 L50.9921 375.139 L59.256 373.472 L63.9319 373.472 L63.9319 404.097 L71.5707 404.097 L71.5707 408.032 L51.6634 408.032 L51.6634 404.097 Z\" fill=\"#000000\" fill-rule=\"evenodd\" fill-opacity=\"1\" /><path clip-path=\"url(#clip170)\" d=\"M 0 0 M86.6401 376.551 Q83.029 376.551 81.2003 380.116 Q79.3948 383.657 79.3948 390.787 Q79.3948 397.893 81.2003 401.458 Q83.029 405 86.6401 405 Q90.2743 405 92.0799 401.458 Q93.9086 397.893 93.9086 390.787 Q93.9086 383.657 92.0799 380.116 Q90.2743 376.551 86.6401 376.551 M86.6401 372.847 Q92.4502 372.847 95.5058 377.454 Q98.5845 382.037 98.5845 390.787 Q98.5845 399.514 95.5058 404.12 Q92.4502 408.703 86.6401 408.703 Q80.8299 408.703 77.7512 404.12 Q74.6957 399.514 74.6957 390.787 Q74.6957 382.037 77.7512 377.454 Q80.8299 372.847 86.6401 372.847 Z\" fill=\"#000000\" fill-rule=\"evenodd\" fill-opacity=\"1\" /><path clip-path=\"url(#clip170)\" d=\"M 0 0 M113.654 376.551 Q110.043 376.551 108.214 380.116 Q106.408 383.657 106.408 390.787 Q106.408 397.893 108.214 401.458 Q110.043 405 113.654 405 Q117.288 405 119.094 401.458 Q120.922 397.893 120.922 390.787 Q120.922 383.657 119.094 380.116 Q117.288 376.551 113.654 376.551 M113.654 372.847 Q119.464 372.847 122.52 377.454 Q125.598 382.037 125.598 390.787 Q125.598 399.514 122.52 404.12 Q119.464 408.703 113.654 408.703 Q107.844 408.703 104.765 404.12 Q101.709 399.514 101.709 390.787 Q101.709 382.037 104.765 377.454 Q107.844 372.847 113.654 372.847 Z\" fill=\"#000000\" fill-rule=\"evenodd\" fill-opacity=\"1\" /><path clip-path=\"url(#clip170)\" d=\"M 0 0 M53.2606 193.104 L60.8995 193.104 L60.8995 166.739 L52.5893 168.405 L52.5893 164.146 L60.8532 162.479 L65.5291 162.479 L65.5291 193.104 L73.1679 193.104 L73.1679 197.039 L53.2606 197.039 L53.2606 193.104 Z\" fill=\"#000000\" fill-rule=\"evenodd\" fill-opacity=\"1\" /><path clip-path=\"url(#clip170)\" d=\"M 0 0 M82.2651 193.104 L98.5845 193.104 L98.5845 197.039 L76.6401 197.039 L76.6401 193.104 Q79.3022 190.35 83.8855 185.72 Q88.4919 181.067 89.6725 179.725 Q91.9178 177.202 92.7975 175.466 Q93.7002 173.706 93.7002 172.016 Q93.7002 169.262 91.7558 167.526 Q89.8345 165.79 86.7327 165.79 Q84.5336 165.79 82.0799 166.554 Q79.6494 167.317 76.8716 168.868 L76.8716 164.146 Q79.6957 163.012 82.1494 162.433 Q84.6031 161.854 86.6401 161.854 Q92.0104 161.854 95.2049 164.54 Q98.3993 167.225 98.3993 171.716 Q98.3993 173.845 97.5891 175.766 Q96.8021 177.665 94.6956 180.257 Q94.1169 180.928 91.0151 184.146 Q87.9132 187.34 82.2651 193.104 Z\" fill=\"#000000\" fill-rule=\"evenodd\" fill-opacity=\"1\" /><path clip-path=\"url(#clip170)\" d=\"M 0 0 M113.654 165.558 Q110.043 165.558 108.214 169.123 Q106.408 172.665 106.408 179.794 Q106.408 186.901 108.214 190.465 Q110.043 194.007 113.654 194.007 Q117.288 194.007 119.094 190.465 Q120.922 186.901 120.922 179.794 Q120.922 172.665 119.094 169.123 Q117.288 165.558 113.654 165.558 M113.654 161.854 Q119.464 161.854 122.52 166.461 Q125.598 171.044 125.598 179.794 Q125.598 188.521 122.52 193.127 Q119.464 197.711 113.654 197.711 Q107.844 197.711 104.765 193.127 Q101.709 188.521 101.709 179.794 Q101.709 171.044 104.765 166.461 Q107.844 161.854 113.654 161.854 Z\" fill=\"#000000\" fill-rule=\"evenodd\" fill-opacity=\"1\" /><polyline clip-path=\"url(#clip172)\" style=\"stroke:#009af9; stroke-width:4; stroke-opacity:1; fill:none\" points=\"\n",
       "  223.612,87.9763 240.838,263.7 258.064,416.68 275.29,549.861 292.516,665.806 309.743,766.744 326.969,854.619 344.195,931.121 361.421,997.722 378.647,1055.7 \n",
       "  395.873,1106.18 413.099,1150.12 430.325,1188.38 447.551,1221.69 464.777,1250.68 482.003,1275.92 499.229,1297.9 516.456,1317.03 533.682,1333.68 550.908,1348.18 \n",
       "  568.134,1360.81 585.36,1371.8 602.586,1381.36 619.812,1389.69 637.038,1396.94 654.264,1403.25 671.49,1408.75 688.716,1413.53 705.942,1417.7 723.168,1421.33 \n",
       "  740.395,1424.48 757.621,1427.23 774.847,1429.62 792.073,1431.71 809.299,1433.52 826.525,1435.1 843.751,1436.47 860.977,1437.67 878.203,1438.71 895.429,1439.62 \n",
       "  912.655,1440.41 929.881,1441.09 947.108,1441.69 964.334,1442.21 981.56,1442.67 998.786,1443.06 1016.01,1443.4 1033.24,1443.7 1050.46,1443.96 1067.69,1444.19 \n",
       "  1084.92,1444.39 1102.14,1444.56 1119.37,1444.71 1136.59,1444.84 1153.82,1444.95 1171.05,1445.05 1188.27,1445.14 1205.5,1445.21 1222.72,1445.28 1239.95,1445.33 \n",
       "  1257.18,1445.38 1274.4,1445.43 1291.63,1445.46 1308.86,1445.5 1326.08,1445.53 1343.31,1445.55 1360.53,1445.57 1377.76,1445.59 1394.99,1445.61 1412.21,1445.62 \n",
       "  1429.44,1445.63 1446.66,1445.64 1463.89,1445.65 1481.12,1445.66 1498.34,1445.67 1515.57,1445.67 1532.79,1445.68 1550.02,1445.68 1567.25,1445.69 1584.47,1445.69 \n",
       "  1601.7,1445.7 1618.92,1445.7 1636.15,1445.7 1653.38,1445.7 1670.6,1445.7 1687.83,1445.71 1705.06,1445.71 1722.28,1445.71 1739.51,1445.71 1756.73,1445.71 \n",
       "  1773.96,1445.71 1791.19,1445.71 1808.41,1445.71 1825.64,1445.71 1842.86,1445.71 1860.09,1445.71 1877.32,1445.71 1894.54,1445.71 1911.77,1445.71 1928.99,1445.71 \n",
       "  1946.22,1445.71 1963.45,1445.71 1980.67,1445.71 1997.9,1445.71 2015.12,1445.72 2032.35,1445.72 2049.58,1445.72 2066.8,1445.72 2084.03,1445.72 2101.26,1445.72 \n",
       "  2118.48,1445.72 2135.71,1445.72 2152.93,1445.72 2170.16,1445.72 2187.39,1445.72 2204.61,1445.72 2221.84,1445.72 2239.06,1445.72 2256.29,1445.72 2273.52,1445.72 \n",
       "  2290.74,1445.72 \n",
       "  \"/>\n",
       "<polyline clip-path=\"url(#clip172)\" style=\"stroke:#e26f46; stroke-width:4; stroke-opacity:1; fill:none\" stroke-dasharray=\"16, 10\" points=\"\n",
       "  223.612,1445.59 240.838,1445.59 258.064,1445.59 275.29,1445.59 292.516,1445.59 309.743,1445.59 326.969,1445.59 344.195,1445.59 361.421,1445.59 378.647,1445.59 \n",
       "  395.873,1445.59 413.099,1445.59 430.325,1445.59 447.551,1445.59 464.777,1445.59 482.003,1445.59 499.229,1445.59 516.456,1445.59 533.682,1445.59 550.908,1445.59 \n",
       "  568.134,1445.59 585.36,1445.59 602.586,1445.59 619.812,1445.59 637.038,1445.59 654.264,1445.59 671.49,1445.59 688.716,1445.59 705.942,1445.59 723.168,1445.59 \n",
       "  740.395,1445.59 757.621,1445.59 774.847,1445.59 792.073,1445.59 809.299,1445.59 826.525,1445.59 843.751,1445.59 860.977,1445.59 878.203,1445.59 895.429,1445.59 \n",
       "  912.655,1445.59 929.881,1445.59 947.108,1445.59 964.334,1445.59 981.56,1445.59 998.786,1445.59 1016.01,1445.59 1033.24,1445.59 1050.46,1445.59 1067.69,1445.59 \n",
       "  1084.92,1445.59 1102.14,1445.59 1119.37,1445.59 1136.59,1445.59 1153.82,1445.59 1171.05,1445.59 1188.27,1445.59 1205.5,1445.59 1222.72,1445.59 1239.95,1445.59 \n",
       "  1257.18,1445.59 1274.4,1445.59 1291.63,1445.59 1308.86,1445.59 1326.08,1445.59 1343.31,1445.59 1360.53,1445.59 1377.76,1445.59 1394.99,1445.59 1412.21,1445.59 \n",
       "  1429.44,1445.59 1446.66,1445.59 1463.89,1445.59 1481.12,1445.59 1498.34,1445.59 1515.57,1445.59 1532.79,1445.59 1550.02,1445.59 1567.25,1445.59 1584.47,1445.59 \n",
       "  1601.7,1445.59 1618.92,1445.59 1636.15,1445.59 1653.38,1445.59 1670.6,1445.59 1687.83,1445.59 1705.06,1445.59 1722.28,1445.59 1739.51,1445.59 1756.73,1445.59 \n",
       "  1773.96,1445.59 1791.19,1445.59 1808.41,1445.59 1825.64,1445.59 1842.86,1445.59 1860.09,1445.59 1877.32,1445.59 1894.54,1445.59 1911.77,1445.59 1928.99,1445.59 \n",
       "  1946.22,1445.59 1963.45,1445.59 1980.67,1445.59 1997.9,1445.59 2015.12,1445.59 2032.35,1445.59 2049.58,1445.59 2066.8,1445.59 2084.03,1445.59 2101.26,1445.59 \n",
       "  2118.48,1445.59 2135.71,1445.59 2152.93,1445.59 2170.16,1445.59 2187.39,1445.59 2204.61,1445.59 2221.84,1445.59 2239.06,1445.59 2256.29,1445.59 2273.52,1445.59 \n",
       "  2290.74,1445.59 \n",
       "  \"/>\n",
       "<path clip-path=\"url(#clip170)\" d=\"\n",
       "M1851.63 276.658 L2279.72 276.658 L2279.72 95.2176 L1851.63 95.2176  Z\n",
       "  \" fill=\"#ffffff\" fill-rule=\"evenodd\" fill-opacity=\"1\"/>\n",
       "<polyline clip-path=\"url(#clip170)\" style=\"stroke:#000000; stroke-width:4; stroke-opacity:1; fill:none\" points=\"\n",
       "  1851.63,276.658 2279.72,276.658 2279.72,95.2176 1851.63,95.2176 1851.63,276.658 \n",
       "  \"/>\n",
       "<polyline clip-path=\"url(#clip170)\" style=\"stroke:#009af9; stroke-width:4; stroke-opacity:1; fill:none\" points=\"\n",
       "  1875.97,155.698 2022.05,155.698 \n",
       "  \"/>\n",
       "<path clip-path=\"url(#clip170)\" d=\"M 0 0 M2047.07 169.042 L2054.71 169.042 L2054.71 142.677 L2046.4 144.343 L2046.4 140.084 L2054.66 138.418 L2059.34 138.418 L2059.34 169.042 L2066.97 169.042 L2066.97 172.978 L2047.07 172.978 L2047.07 169.042 Z\" fill=\"#000000\" fill-rule=\"evenodd\" fill-opacity=\"1\" /><path clip-path=\"url(#clip170)\" d=\"M 0 0 M2082.04 141.496 Q2078.43 141.496 2076.6 145.061 Q2074.8 148.603 2074.8 155.732 Q2074.8 162.839 2076.6 166.404 Q2078.43 169.945 2082.04 169.945 Q2085.68 169.945 2087.48 166.404 Q2089.31 162.839 2089.31 155.732 Q2089.31 148.603 2087.48 145.061 Q2085.68 141.496 2082.04 141.496 M2082.04 137.793 Q2087.85 137.793 2090.91 142.399 Q2093.99 146.982 2093.99 155.732 Q2093.99 164.459 2090.91 169.066 Q2087.85 173.649 2082.04 173.649 Q2076.23 173.649 2073.16 169.066 Q2070.1 164.459 2070.1 155.732 Q2070.1 146.982 2073.16 142.399 Q2076.23 137.793 2082.04 137.793 Z\" fill=\"#000000\" fill-rule=\"evenodd\" fill-opacity=\"1\" /><path clip-path=\"url(#clip170)\" d=\"M 0 0 M2109.06 141.496 Q2105.45 141.496 2103.62 145.061 Q2101.81 148.603 2101.81 155.732 Q2101.81 162.839 2103.62 166.404 Q2105.45 169.945 2109.06 169.945 Q2112.69 169.945 2114.5 166.404 Q2116.33 162.839 2116.33 155.732 Q2116.33 148.603 2114.5 145.061 Q2112.69 141.496 2109.06 141.496 M2109.06 137.793 Q2114.87 137.793 2117.92 142.399 Q2121 146.982 2121 155.732 Q2121 164.459 2117.92 169.066 Q2114.87 173.649 2109.06 173.649 Q2103.25 173.649 2100.17 169.066 Q2097.11 164.459 2097.11 155.732 Q2097.11 146.982 2100.17 142.399 Q2103.25 137.793 2109.06 137.793 Z\" fill=\"#000000\" fill-rule=\"evenodd\" fill-opacity=\"1\" /><path clip-path=\"url(#clip170)\" d=\"M 0 0 M2136.07 141.496 Q2132.46 141.496 2130.63 145.061 Q2128.83 148.603 2128.83 155.732 Q2128.83 162.839 2130.63 166.404 Q2132.46 169.945 2136.07 169.945 Q2139.71 169.945 2141.51 166.404 Q2143.34 162.839 2143.34 155.732 Q2143.34 148.603 2141.51 145.061 Q2139.71 141.496 2136.07 141.496 M2136.07 137.793 Q2141.88 137.793 2144.94 142.399 Q2148.02 146.982 2148.02 155.732 Q2148.02 164.459 2144.94 169.066 Q2141.88 173.649 2136.07 173.649 Q2130.26 173.649 2127.18 169.066 Q2124.13 164.459 2124.13 155.732 Q2124.13 146.982 2127.18 142.399 Q2130.26 137.793 2136.07 137.793 Z\" fill=\"#000000\" fill-rule=\"evenodd\" fill-opacity=\"1\" /><path clip-path=\"url(#clip170)\" d=\"M 0 0 M2187.74 152.029 Q2189.34 149.158 2191.56 147.793 Q2193.78 146.427 2196.79 146.427 Q2200.84 146.427 2203.04 149.274 Q2205.24 152.098 2205.24 157.329 L2205.24 172.978 L2200.96 172.978 L2200.96 157.468 Q2200.96 153.742 2199.64 151.936 Q2198.32 150.13 2195.61 150.13 Q2192.3 150.13 2190.38 152.33 Q2188.46 154.529 2188.46 158.325 L2188.46 172.978 L2184.17 172.978 L2184.17 157.468 Q2184.17 153.718 2182.85 151.936 Q2181.53 150.13 2178.78 150.13 Q2175.52 150.13 2173.59 152.353 Q2171.67 154.552 2171.67 158.325 L2171.67 172.978 L2167.39 172.978 L2167.39 147.052 L2171.67 147.052 L2171.67 151.08 Q2173.13 148.695 2175.17 147.561 Q2177.21 146.427 2180.01 146.427 Q2182.83 146.427 2184.8 147.862 Q2186.79 149.297 2187.74 152.029 Z\" fill=\"#000000\" fill-rule=\"evenodd\" fill-opacity=\"1\" /><path clip-path=\"url(#clip170)\" d=\"M 0 0 M2226.77 159.714 Q2226.77 155.084 2224.84 152.538 Q2222.95 149.992 2219.5 149.992 Q2216.07 149.992 2214.15 152.538 Q2212.25 155.084 2212.25 159.714 Q2212.25 164.32 2214.15 166.866 Q2216.07 169.413 2219.5 169.413 Q2222.95 169.413 2224.84 166.866 Q2226.77 164.32 2226.77 159.714 M2231.02 169.76 Q2231.02 176.38 2228.09 179.598 Q2225.15 182.839 2219.08 182.839 Q2216.84 182.839 2214.84 182.491 Q2212.85 182.167 2210.98 181.473 L2210.98 177.329 Q2212.85 178.348 2214.68 178.834 Q2216.51 179.32 2218.41 179.32 Q2222.6 179.32 2224.68 177.121 Q2226.77 174.945 2226.77 170.524 L2226.77 168.417 Q2225.45 170.709 2223.39 171.843 Q2221.33 172.978 2218.46 172.978 Q2213.69 172.978 2210.77 169.343 Q2207.85 165.709 2207.85 159.714 Q2207.85 153.695 2210.77 150.061 Q2213.69 146.427 2218.46 146.427 Q2221.33 146.427 2223.39 147.561 Q2225.45 148.695 2226.77 150.987 L2226.77 147.052 L2231.02 147.052 L2231.02 169.76 Z\" fill=\"#000000\" fill-rule=\"evenodd\" fill-opacity=\"1\" /><polyline clip-path=\"url(#clip170)\" style=\"stroke:#e26f46; stroke-width:4; stroke-opacity:1; fill:none\" stroke-dasharray=\"16, 10\" points=\"\n",
       "  1875.97,216.178 2022.05,216.178 \n",
       "  \"/>\n",
       "<path clip-path=\"url(#clip170)\" d=\"M 0 0 M2046.4 198.898 L2053.36 198.898 L2062.18 222.416 L2071.05 198.898 L2078.02 198.898 L2078.02 233.458 L2073.46 233.458 L2073.46 203.11 L2064.54 226.814 L2059.85 226.814 L2050.93 203.11 L2050.93 233.458 L2046.4 233.458 L2046.4 198.898 Z\" fill=\"#000000\" fill-rule=\"evenodd\" fill-opacity=\"1\" /><path clip-path=\"url(#clip170)\" d=\"M 0 0 M2082.67 198.898 L2087.35 198.898 L2087.35 233.458 L2082.67 233.458 L2082.67 198.898 Z\" fill=\"#000000\" fill-rule=\"evenodd\" fill-opacity=\"1\" /><path clip-path=\"url(#clip170)\" d=\"M 0 0 M2117.88 201.56 L2117.88 206.49 Q2115.52 204.291 2112.83 203.203 Q2110.17 202.115 2107.16 202.115 Q2101.23 202.115 2098.09 205.749 Q2094.94 209.36 2094.94 216.212 Q2094.94 223.041 2098.09 226.675 Q2101.23 230.286 2107.16 230.286 Q2110.17 230.286 2112.83 229.198 Q2115.52 228.11 2117.88 225.911 L2117.88 230.796 Q2115.42 232.462 2112.67 233.296 Q2109.94 234.129 2106.88 234.129 Q2099.03 234.129 2094.52 229.337 Q2090.01 224.522 2090.01 216.212 Q2090.01 207.879 2094.52 203.087 Q2099.03 198.273 2106.88 198.273 Q2109.98 198.273 2112.72 199.106 Q2115.47 199.916 2117.88 201.56 Z\" fill=\"#000000\" fill-rule=\"evenodd\" fill-opacity=\"1\" /></svg>\n"
      ]
     },
     "execution_count": 651,
     "metadata": {},
     "output_type": "execute_result"
    }
   ],
   "source": [
    "plot!(t_plot, fill(MIC, length(t_plot)), linestyle=:dash, label=\"MIC\")"
   ]
  },
  {
   "cell_type": "markdown",
   "metadata": {},
   "source": [
    "Zmniejszmy i zwiększmy dawkę początką dwukrotnie"
   ]
  },
  {
   "cell_type": "code",
   "execution_count": 652,
   "metadata": {},
   "outputs": [],
   "source": [
    "X₂ = 2*X₀\n",
    "X₃ = X₀/2;"
   ]
  },
  {
   "cell_type": "code",
   "execution_count": 653,
   "metadata": {},
   "outputs": [],
   "source": [
    "data2 = runge_kutta(model2, t_plot, beginC(X₂, V))\n",
    "data3 = runge_kutta(model2, t_plot, beginC(X₃, V));"
   ]
  },
  {
   "cell_type": "code",
   "execution_count": 654,
   "metadata": {},
   "outputs": [
    {
     "data": {
      "image/svg+xml": [
       "<?xml version=\"1.0\" encoding=\"utf-8\"?>\n",
       "<svg xmlns=\"http://www.w3.org/2000/svg\" xmlns:xlink=\"http://www.w3.org/1999/xlink\" width=\"600\" height=\"400\" viewBox=\"0 0 2400 1600\">\n",
       "<defs>\n",
       "  <clipPath id=\"clip210\">\n",
       "    <rect x=\"0\" y=\"0\" width=\"2400\" height=\"1600\"/>\n",
       "  </clipPath>\n",
       "</defs>\n",
       "<path clip-path=\"url(#clip210)\" d=\"\n",
       "M0 1600 L2400 1600 L2400 0 L0 0  Z\n",
       "  \" fill=\"#ffffff\" fill-rule=\"evenodd\" fill-opacity=\"1\"/>\n",
       "<defs>\n",
       "  <clipPath id=\"clip211\">\n",
       "    <rect x=\"480\" y=\"0\" width=\"1681\" height=\"1600\"/>\n",
       "  </clipPath>\n",
       "</defs>\n",
       "<path clip-path=\"url(#clip210)\" d=\"\n",
       "M162.964 1486.45 L2352.76 1486.45 L2352.76 47.2441 L162.964 47.2441  Z\n",
       "  \" fill=\"#ffffff\" fill-rule=\"evenodd\" fill-opacity=\"1\"/>\n",
       "<defs>\n",
       "  <clipPath id=\"clip212\">\n",
       "    <rect x=\"162\" y=\"47\" width=\"2191\" height=\"1440\"/>\n",
       "  </clipPath>\n",
       "</defs>\n",
       "<polyline clip-path=\"url(#clip212)\" style=\"stroke:#000000; stroke-width:2; stroke-opacity:0.1; fill:none\" points=\"\n",
       "  224.939,1486.45 224.939,47.2441 \n",
       "  \"/>\n",
       "<polyline clip-path=\"url(#clip212)\" style=\"stroke:#000000; stroke-width:2; stroke-opacity:0.1; fill:none\" points=\"\n",
       "  655.323,1486.45 655.323,47.2441 \n",
       "  \"/>\n",
       "<polyline clip-path=\"url(#clip212)\" style=\"stroke:#000000; stroke-width:2; stroke-opacity:0.1; fill:none\" points=\"\n",
       "  1085.71,1486.45 1085.71,47.2441 \n",
       "  \"/>\n",
       "<polyline clip-path=\"url(#clip212)\" style=\"stroke:#000000; stroke-width:2; stroke-opacity:0.1; fill:none\" points=\"\n",
       "  1516.09,1486.45 1516.09,47.2441 \n",
       "  \"/>\n",
       "<polyline clip-path=\"url(#clip212)\" style=\"stroke:#000000; stroke-width:2; stroke-opacity:0.1; fill:none\" points=\"\n",
       "  1946.47,1486.45 1946.47,47.2441 \n",
       "  \"/>\n",
       "<polyline clip-path=\"url(#clip210)\" style=\"stroke:#000000; stroke-width:4; stroke-opacity:1; fill:none\" points=\"\n",
       "  162.964,1486.45 2352.76,1486.45 \n",
       "  \"/>\n",
       "<polyline clip-path=\"url(#clip210)\" style=\"stroke:#000000; stroke-width:4; stroke-opacity:1; fill:none\" points=\"\n",
       "  224.939,1486.45 224.939,1469.18 \n",
       "  \"/>\n",
       "<polyline clip-path=\"url(#clip210)\" style=\"stroke:#000000; stroke-width:4; stroke-opacity:1; fill:none\" points=\"\n",
       "  655.323,1486.45 655.323,1469.18 \n",
       "  \"/>\n",
       "<polyline clip-path=\"url(#clip210)\" style=\"stroke:#000000; stroke-width:4; stroke-opacity:1; fill:none\" points=\"\n",
       "  1085.71,1486.45 1085.71,1469.18 \n",
       "  \"/>\n",
       "<polyline clip-path=\"url(#clip210)\" style=\"stroke:#000000; stroke-width:4; stroke-opacity:1; fill:none\" points=\"\n",
       "  1516.09,1486.45 1516.09,1469.18 \n",
       "  \"/>\n",
       "<polyline clip-path=\"url(#clip210)\" style=\"stroke:#000000; stroke-width:4; stroke-opacity:1; fill:none\" points=\"\n",
       "  1946.47,1486.45 1946.47,1469.18 \n",
       "  \"/>\n",
       "<path clip-path=\"url(#clip210)\" d=\"M 0 0 M206.455 1515.64 Q202.844 1515.64 201.016 1519.2 Q199.21 1522.75 199.21 1529.87 Q199.21 1536.98 201.016 1540.55 Q202.844 1544.09 206.455 1544.09 Q210.09 1544.09 211.895 1540.55 Q213.724 1536.98 213.724 1529.87 Q213.724 1522.75 211.895 1519.2 Q210.09 1515.64 206.455 1515.64 M206.455 1511.93 Q212.266 1511.93 215.321 1516.54 Q218.4 1521.12 218.4 1529.87 Q218.4 1538.6 215.321 1543.21 Q212.266 1547.79 206.455 1547.79 Q200.645 1547.79 197.567 1543.21 Q194.511 1538.6 194.511 1529.87 Q194.511 1521.12 197.567 1516.54 Q200.645 1511.93 206.455 1511.93 Z\" fill=\"#000000\" fill-rule=\"evenodd\" fill-opacity=\"1\" /><path clip-path=\"url(#clip210)\" d=\"M 0 0 M223.469 1541.24 L228.354 1541.24 L228.354 1547.12 L223.469 1547.12 L223.469 1541.24 Z\" fill=\"#000000\" fill-rule=\"evenodd\" fill-opacity=\"1\" /><path clip-path=\"url(#clip210)\" d=\"M 0 0 M243.423 1515.64 Q239.812 1515.64 237.983 1519.2 Q236.178 1522.75 236.178 1529.87 Q236.178 1536.98 237.983 1540.55 Q239.812 1544.09 243.423 1544.09 Q247.057 1544.09 248.863 1540.55 Q250.691 1536.98 250.691 1529.87 Q250.691 1522.75 248.863 1519.2 Q247.057 1515.64 243.423 1515.64 M243.423 1511.93 Q249.233 1511.93 252.289 1516.54 Q255.367 1521.12 255.367 1529.87 Q255.367 1538.6 252.289 1543.21 Q249.233 1547.79 243.423 1547.79 Q237.613 1547.79 234.534 1543.21 Q231.479 1538.6 231.479 1529.87 Q231.479 1521.12 234.534 1516.54 Q237.613 1511.93 243.423 1511.93 Z\" fill=\"#000000\" fill-rule=\"evenodd\" fill-opacity=\"1\" /><path clip-path=\"url(#clip210)\" d=\"M 0 0 M631.99 1543.18 L648.309 1543.18 L648.309 1547.12 L626.365 1547.12 L626.365 1543.18 Q629.027 1540.43 633.61 1535.8 Q638.216 1531.15 639.397 1529.81 Q641.642 1527.28 642.522 1525.55 Q643.425 1523.79 643.425 1522.1 Q643.425 1519.34 641.48 1517.61 Q639.559 1515.87 636.457 1515.87 Q634.258 1515.87 631.804 1516.63 Q629.374 1517.4 626.596 1518.95 L626.596 1514.23 Q629.42 1513.09 631.874 1512.51 Q634.328 1511.93 636.365 1511.93 Q641.735 1511.93 644.929 1514.62 Q648.124 1517.31 648.124 1521.8 Q648.124 1523.93 647.314 1525.85 Q646.527 1527.74 644.42 1530.34 Q643.841 1531.01 640.74 1534.23 Q637.638 1537.42 631.99 1543.18 Z\" fill=\"#000000\" fill-rule=\"evenodd\" fill-opacity=\"1\" /><path clip-path=\"url(#clip210)\" d=\"M 0 0 M653.378 1541.24 L658.263 1541.24 L658.263 1547.12 L653.378 1547.12 L653.378 1541.24 Z\" fill=\"#000000\" fill-rule=\"evenodd\" fill-opacity=\"1\" /><path clip-path=\"url(#clip210)\" d=\"M 0 0 M663.378 1512.56 L681.735 1512.56 L681.735 1516.5 L667.661 1516.5 L667.661 1524.97 Q668.679 1524.62 669.698 1524.46 Q670.716 1524.27 671.735 1524.27 Q677.522 1524.27 680.901 1527.44 Q684.281 1530.62 684.281 1536.03 Q684.281 1541.61 680.809 1544.71 Q677.337 1547.79 671.017 1547.79 Q668.841 1547.79 666.573 1547.42 Q664.327 1547.05 661.92 1546.31 L661.92 1541.61 Q664.003 1542.74 666.226 1543.3 Q668.448 1543.86 670.925 1543.86 Q674.929 1543.86 677.267 1541.75 Q679.605 1539.64 679.605 1536.03 Q679.605 1532.42 677.267 1530.31 Q674.929 1528.21 670.925 1528.21 Q669.05 1528.21 667.175 1528.62 Q665.323 1529.04 663.378 1529.92 L663.378 1512.56 Z\" fill=\"#000000\" fill-rule=\"evenodd\" fill-opacity=\"1\" /><path clip-path=\"url(#clip210)\" d=\"M 0 0 M1057.5 1512.56 L1075.86 1512.56 L1075.86 1516.5 L1061.78 1516.5 L1061.78 1524.97 Q1062.8 1524.62 1063.82 1524.46 Q1064.84 1524.27 1065.86 1524.27 Q1071.64 1524.27 1075.02 1527.44 Q1078.4 1530.62 1078.4 1536.03 Q1078.4 1541.61 1074.93 1544.71 Q1071.46 1547.79 1065.14 1547.79 Q1062.96 1547.79 1060.7 1547.42 Q1058.45 1547.05 1056.04 1546.31 L1056.04 1541.61 Q1058.13 1542.74 1060.35 1543.3 Q1062.57 1543.86 1065.05 1543.86 Q1069.05 1543.86 1071.39 1541.75 Q1073.73 1539.64 1073.73 1536.03 Q1073.73 1532.42 1071.39 1530.31 Q1069.05 1528.21 1065.05 1528.21 Q1063.17 1528.21 1061.3 1528.62 Q1059.45 1529.04 1057.5 1529.92 L1057.5 1512.56 Z\" fill=\"#000000\" fill-rule=\"evenodd\" fill-opacity=\"1\" /><path clip-path=\"url(#clip210)\" d=\"M 0 0 M1083.47 1541.24 L1088.36 1541.24 L1088.36 1547.12 L1083.47 1547.12 L1083.47 1541.24 Z\" fill=\"#000000\" fill-rule=\"evenodd\" fill-opacity=\"1\" /><path clip-path=\"url(#clip210)\" d=\"M 0 0 M1103.43 1515.64 Q1099.82 1515.64 1097.99 1519.2 Q1096.18 1522.75 1096.18 1529.87 Q1096.18 1536.98 1097.99 1540.55 Q1099.82 1544.09 1103.43 1544.09 Q1107.06 1544.09 1108.87 1540.55 Q1110.69 1536.98 1110.69 1529.87 Q1110.69 1522.75 1108.87 1519.2 Q1107.06 1515.64 1103.43 1515.64 M1103.43 1511.93 Q1109.24 1511.93 1112.29 1516.54 Q1115.37 1521.12 1115.37 1529.87 Q1115.37 1538.6 1112.29 1543.21 Q1109.24 1547.79 1103.43 1547.79 Q1097.62 1547.79 1094.54 1543.21 Q1091.48 1538.6 1091.48 1529.87 Q1091.48 1521.12 1094.54 1516.54 Q1097.62 1511.93 1103.43 1511.93 Z\" fill=\"#000000\" fill-rule=\"evenodd\" fill-opacity=\"1\" /><path clip-path=\"url(#clip210)\" d=\"M 0 0 M1486.99 1512.56 L1509.22 1512.56 L1509.22 1514.55 L1496.67 1547.12 L1491.78 1547.12 L1503.59 1516.5 L1486.99 1516.5 L1486.99 1512.56 Z\" fill=\"#000000\" fill-rule=\"evenodd\" fill-opacity=\"1\" /><path clip-path=\"url(#clip210)\" d=\"M 0 0 M1514.28 1541.24 L1519.17 1541.24 L1519.17 1547.12 L1514.28 1547.12 L1514.28 1541.24 Z\" fill=\"#000000\" fill-rule=\"evenodd\" fill-opacity=\"1\" /><path clip-path=\"url(#clip210)\" d=\"M 0 0 M1524.28 1512.56 L1542.64 1512.56 L1542.64 1516.5 L1528.57 1516.5 L1528.57 1524.97 Q1529.59 1524.62 1530.6 1524.46 Q1531.62 1524.27 1532.64 1524.27 Q1538.43 1524.27 1541.81 1527.44 Q1545.19 1530.62 1545.19 1536.03 Q1545.19 1541.61 1541.71 1544.71 Q1538.24 1547.79 1531.92 1547.79 Q1529.75 1547.79 1527.48 1547.42 Q1525.23 1547.05 1522.83 1546.31 L1522.83 1541.61 Q1524.91 1542.74 1527.13 1543.3 Q1529.35 1543.86 1531.83 1543.86 Q1535.84 1543.86 1538.17 1541.75 Q1540.51 1539.64 1540.51 1536.03 Q1540.51 1532.42 1538.17 1530.31 Q1535.84 1528.21 1531.83 1528.21 Q1529.96 1528.21 1528.08 1528.62 Q1526.23 1529.04 1524.28 1529.92 L1524.28 1512.56 Z\" fill=\"#000000\" fill-rule=\"evenodd\" fill-opacity=\"1\" /><path clip-path=\"url(#clip210)\" d=\"M 0 0 M1904.87 1543.18 L1912.5 1543.18 L1912.5 1516.82 L1904.19 1518.49 L1904.19 1514.23 L1912.46 1512.56 L1917.13 1512.56 L1917.13 1543.18 L1924.77 1543.18 L1924.77 1547.12 L1904.87 1547.12 L1904.87 1543.18 Z\" fill=\"#000000\" fill-rule=\"evenodd\" fill-opacity=\"1\" /><path clip-path=\"url(#clip210)\" d=\"M 0 0 M1939.84 1515.64 Q1936.23 1515.64 1934.4 1519.2 Q1932.6 1522.75 1932.6 1529.87 Q1932.6 1536.98 1934.4 1540.55 Q1936.23 1544.09 1939.84 1544.09 Q1943.48 1544.09 1945.28 1540.55 Q1947.11 1536.98 1947.11 1529.87 Q1947.11 1522.75 1945.28 1519.2 Q1943.48 1515.64 1939.84 1515.64 M1939.84 1511.93 Q1945.65 1511.93 1948.71 1516.54 Q1951.79 1521.12 1951.79 1529.87 Q1951.79 1538.6 1948.71 1543.21 Q1945.65 1547.79 1939.84 1547.79 Q1934.03 1547.79 1930.95 1543.21 Q1927.9 1538.6 1927.9 1529.87 Q1927.9 1521.12 1930.95 1516.54 Q1934.03 1511.93 1939.84 1511.93 Z\" fill=\"#000000\" fill-rule=\"evenodd\" fill-opacity=\"1\" /><path clip-path=\"url(#clip210)\" d=\"M 0 0 M1956.86 1541.24 L1961.74 1541.24 L1961.74 1547.12 L1956.86 1547.12 L1956.86 1541.24 Z\" fill=\"#000000\" fill-rule=\"evenodd\" fill-opacity=\"1\" /><path clip-path=\"url(#clip210)\" d=\"M 0 0 M1976.81 1515.64 Q1973.2 1515.64 1971.37 1519.2 Q1969.56 1522.75 1969.56 1529.87 Q1969.56 1536.98 1971.37 1540.55 Q1973.2 1544.09 1976.81 1544.09 Q1980.44 1544.09 1982.25 1540.55 Q1984.08 1536.98 1984.08 1529.87 Q1984.08 1522.75 1982.25 1519.2 Q1980.44 1515.64 1976.81 1515.64 M1976.81 1511.93 Q1982.62 1511.93 1985.67 1516.54 Q1988.75 1521.12 1988.75 1529.87 Q1988.75 1538.6 1985.67 1543.21 Q1982.62 1547.79 1976.81 1547.79 Q1971 1547.79 1967.92 1543.21 Q1964.86 1538.6 1964.86 1529.87 Q1964.86 1521.12 1967.92 1516.54 Q1971 1511.93 1976.81 1511.93 Z\" fill=\"#000000\" fill-rule=\"evenodd\" fill-opacity=\"1\" /><polyline clip-path=\"url(#clip212)\" style=\"stroke:#000000; stroke-width:2; stroke-opacity:0.1; fill:none\" points=\"\n",
       "  162.964,1445.72 2352.76,1445.72 \n",
       "  \"/>\n",
       "<polyline clip-path=\"url(#clip212)\" style=\"stroke:#000000; stroke-width:2; stroke-opacity:0.1; fill:none\" points=\"\n",
       "  162.964,1181.97 2352.76,1181.97 \n",
       "  \"/>\n",
       "<polyline clip-path=\"url(#clip212)\" style=\"stroke:#000000; stroke-width:2; stroke-opacity:0.1; fill:none\" points=\"\n",
       "  162.964,918.234 2352.76,918.234 \n",
       "  \"/>\n",
       "<polyline clip-path=\"url(#clip212)\" style=\"stroke:#000000; stroke-width:2; stroke-opacity:0.1; fill:none\" points=\"\n",
       "  162.964,654.493 2352.76,654.493 \n",
       "  \"/>\n",
       "<polyline clip-path=\"url(#clip212)\" style=\"stroke:#000000; stroke-width:2; stroke-opacity:0.1; fill:none\" points=\"\n",
       "  162.964,390.752 2352.76,390.752 \n",
       "  \"/>\n",
       "<polyline clip-path=\"url(#clip212)\" style=\"stroke:#000000; stroke-width:2; stroke-opacity:0.1; fill:none\" points=\"\n",
       "  162.964,127.011 2352.76,127.011 \n",
       "  \"/>\n",
       "<polyline clip-path=\"url(#clip210)\" style=\"stroke:#000000; stroke-width:4; stroke-opacity:1; fill:none\" points=\"\n",
       "  162.964,1486.45 162.964,47.2441 \n",
       "  \"/>\n",
       "<polyline clip-path=\"url(#clip210)\" style=\"stroke:#000000; stroke-width:4; stroke-opacity:1; fill:none\" points=\"\n",
       "  162.964,1445.72 189.241,1445.72 \n",
       "  \"/>\n",
       "<polyline clip-path=\"url(#clip210)\" style=\"stroke:#000000; stroke-width:4; stroke-opacity:1; fill:none\" points=\"\n",
       "  162.964,1181.97 189.241,1181.97 \n",
       "  \"/>\n",
       "<polyline clip-path=\"url(#clip210)\" style=\"stroke:#000000; stroke-width:4; stroke-opacity:1; fill:none\" points=\"\n",
       "  162.964,918.234 189.241,918.234 \n",
       "  \"/>\n",
       "<polyline clip-path=\"url(#clip210)\" style=\"stroke:#000000; stroke-width:4; stroke-opacity:1; fill:none\" points=\"\n",
       "  162.964,654.493 189.241,654.493 \n",
       "  \"/>\n",
       "<polyline clip-path=\"url(#clip210)\" style=\"stroke:#000000; stroke-width:4; stroke-opacity:1; fill:none\" points=\"\n",
       "  162.964,390.752 189.241,390.752 \n",
       "  \"/>\n",
       "<polyline clip-path=\"url(#clip210)\" style=\"stroke:#000000; stroke-width:4; stroke-opacity:1; fill:none\" points=\"\n",
       "  162.964,127.011 189.241,127.011 \n",
       "  \"/>\n",
       "<path clip-path=\"url(#clip210)\" d=\"M 0 0 M115.02 1431.51 Q111.408 1431.51 109.58 1435.08 Q107.774 1438.62 107.774 1445.75 Q107.774 1452.86 109.58 1456.42 Q111.408 1459.96 115.02 1459.96 Q118.654 1459.96 120.459 1456.42 Q122.288 1452.86 122.288 1445.75 Q122.288 1438.62 120.459 1435.08 Q118.654 1431.51 115.02 1431.51 M115.02 1427.81 Q120.83 1427.81 123.885 1432.42 Q126.964 1437 126.964 1445.75 Q126.964 1454.48 123.885 1459.08 Q120.83 1463.67 115.02 1463.67 Q109.209 1463.67 106.131 1459.08 Q103.075 1454.48 103.075 1445.75 Q103.075 1437 106.131 1432.42 Q109.209 1427.81 115.02 1427.81 Z\" fill=\"#000000\" fill-rule=\"evenodd\" fill-opacity=\"1\" /><path clip-path=\"url(#clip210)\" d=\"M 0 0 M79.0475 1164.69 L97.4039 1164.69 L97.4039 1168.63 L83.3299 1168.63 L83.3299 1177.1 Q84.3484 1176.75 85.3669 1176.59 Q86.3855 1176.41 87.404 1176.41 Q93.191 1176.41 96.5706 1179.58 Q99.9502 1182.75 99.9502 1188.17 Q99.9502 1193.75 96.478 1196.85 Q93.0058 1199.93 86.6864 1199.93 Q84.5105 1199.93 82.242 1199.56 Q79.9966 1199.19 77.5892 1198.44 L77.5892 1193.75 Q79.6725 1194.88 81.8947 1195.44 Q84.1169 1195.99 86.5938 1195.99 Q90.5984 1195.99 92.9363 1193.88 Q95.2743 1191.78 95.2743 1188.17 Q95.2743 1184.56 92.9363 1182.45 Q90.5984 1180.34 86.5938 1180.34 Q84.7188 1180.34 82.8438 1180.76 Q80.992 1181.18 79.0475 1182.06 L79.0475 1164.69 Z\" fill=\"#000000\" fill-rule=\"evenodd\" fill-opacity=\"1\" /><path clip-path=\"url(#clip210)\" d=\"M 0 0 M115.02 1167.77 Q111.408 1167.77 109.58 1171.34 Q107.774 1174.88 107.774 1182.01 Q107.774 1189.12 109.58 1192.68 Q111.408 1196.22 115.02 1196.22 Q118.654 1196.22 120.459 1192.68 Q122.288 1189.12 122.288 1182.01 Q122.288 1174.88 120.459 1171.34 Q118.654 1167.77 115.02 1167.77 M115.02 1164.07 Q120.83 1164.07 123.885 1168.68 Q126.964 1173.26 126.964 1182.01 Q126.964 1190.74 123.885 1195.34 Q120.83 1199.93 115.02 1199.93 Q109.209 1199.93 106.131 1195.34 Q103.075 1190.74 103.075 1182.01 Q103.075 1173.26 106.131 1168.68 Q109.209 1164.07 115.02 1164.07 Z\" fill=\"#000000\" fill-rule=\"evenodd\" fill-opacity=\"1\" /><path clip-path=\"url(#clip210)\" d=\"M 0 0 M53.0292 931.579 L60.668 931.579 L60.668 905.213 L52.3579 906.88 L52.3579 902.621 L60.6217 900.954 L65.2976 900.954 L65.2976 931.579 L72.9365 931.579 L72.9365 935.514 L53.0292 935.514 L53.0292 931.579 Z\" fill=\"#000000\" fill-rule=\"evenodd\" fill-opacity=\"1\" /><path clip-path=\"url(#clip210)\" d=\"M 0 0 M88.0058 904.033 Q84.3947 904.033 82.566 907.597 Q80.7605 911.139 80.7605 918.269 Q80.7605 925.375 82.566 928.94 Q84.3947 932.482 88.0058 932.482 Q91.6401 932.482 93.4456 928.94 Q95.2743 925.375 95.2743 918.269 Q95.2743 911.139 93.4456 907.597 Q91.6401 904.033 88.0058 904.033 M88.0058 900.329 Q93.816 900.329 96.8715 904.935 Q99.9502 909.519 99.9502 918.269 Q99.9502 926.995 96.8715 931.602 Q93.816 936.185 88.0058 936.185 Q82.1957 936.185 79.117 931.602 Q76.0614 926.995 76.0614 918.269 Q76.0614 909.519 79.117 904.935 Q82.1957 900.329 88.0058 900.329 Z\" fill=\"#000000\" fill-rule=\"evenodd\" fill-opacity=\"1\" /><path clip-path=\"url(#clip210)\" d=\"M 0 0 M115.02 904.033 Q111.408 904.033 109.58 907.597 Q107.774 911.139 107.774 918.269 Q107.774 925.375 109.58 928.94 Q111.408 932.482 115.02 932.482 Q118.654 932.482 120.459 928.94 Q122.288 925.375 122.288 918.269 Q122.288 911.139 120.459 907.597 Q118.654 904.033 115.02 904.033 M115.02 900.329 Q120.83 900.329 123.885 904.935 Q126.964 909.519 126.964 918.269 Q126.964 926.995 123.885 931.602 Q120.83 936.185 115.02 936.185 Q109.209 936.185 106.131 931.602 Q103.075 926.995 103.075 918.269 Q103.075 909.519 106.131 904.935 Q109.209 900.329 115.02 900.329 Z\" fill=\"#000000\" fill-rule=\"evenodd\" fill-opacity=\"1\" /><path clip-path=\"url(#clip210)\" d=\"M 0 0 M54.0245 667.838 L61.6634 667.838 L61.6634 641.472 L53.3532 643.139 L53.3532 638.88 L61.6171 637.213 L66.293 637.213 L66.293 667.838 L73.9318 667.838 L73.9318 671.773 L54.0245 671.773 L54.0245 667.838 Z\" fill=\"#000000\" fill-rule=\"evenodd\" fill-opacity=\"1\" /><path clip-path=\"url(#clip210)\" d=\"M 0 0 M79.0475 637.213 L97.4039 637.213 L97.4039 641.148 L83.3299 641.148 L83.3299 649.62 Q84.3484 649.273 85.3669 649.111 Q86.3855 648.926 87.404 648.926 Q93.191 648.926 96.5706 652.097 Q99.9502 655.269 99.9502 660.685 Q99.9502 666.264 96.478 669.366 Q93.0058 672.444 86.6864 672.444 Q84.5105 672.444 82.242 672.074 Q79.9966 671.704 77.5892 670.963 L77.5892 666.264 Q79.6725 667.398 81.8947 667.954 Q84.1169 668.509 86.5938 668.509 Q90.5984 668.509 92.9363 666.403 Q95.2743 664.296 95.2743 660.685 Q95.2743 657.074 92.9363 654.968 Q90.5984 652.861 86.5938 652.861 Q84.7188 652.861 82.8438 653.278 Q80.992 653.694 79.0475 654.574 L79.0475 637.213 Z\" fill=\"#000000\" fill-rule=\"evenodd\" fill-opacity=\"1\" /><path clip-path=\"url(#clip210)\" d=\"M 0 0 M115.02 640.292 Q111.408 640.292 109.58 643.857 Q107.774 647.398 107.774 654.528 Q107.774 661.634 109.58 665.199 Q111.408 668.741 115.02 668.741 Q118.654 668.741 120.459 665.199 Q122.288 661.634 122.288 654.528 Q122.288 647.398 120.459 643.857 Q118.654 640.292 115.02 640.292 M115.02 636.588 Q120.83 636.588 123.885 641.195 Q126.964 645.778 126.964 654.528 Q126.964 663.255 123.885 667.861 Q120.83 672.444 115.02 672.444 Q109.209 672.444 106.131 667.861 Q103.075 663.255 103.075 654.528 Q103.075 645.778 106.131 641.195 Q109.209 636.588 115.02 636.588 Z\" fill=\"#000000\" fill-rule=\"evenodd\" fill-opacity=\"1\" /><path clip-path=\"url(#clip210)\" d=\"M 0 0 M56.6171 404.097 L72.9365 404.097 L72.9365 408.032 L50.9921 408.032 L50.9921 404.097 Q53.6541 401.342 58.2375 396.713 Q62.8439 392.06 64.0245 390.717 Q66.2698 388.194 67.1494 386.458 Q68.0522 384.699 68.0522 383.009 Q68.0522 380.255 66.1078 378.518 Q64.1865 376.782 61.0847 376.782 Q58.8856 376.782 56.4319 377.546 Q54.0014 378.31 51.2236 379.861 L51.2236 375.139 Q54.0477 374.005 56.5014 373.426 Q58.955 372.847 60.9921 372.847 Q66.3624 372.847 69.5568 375.532 Q72.7513 378.218 72.7513 382.708 Q72.7513 384.838 71.9411 386.759 Q71.1541 388.657 69.0476 391.25 Q68.4689 391.921 65.367 395.139 Q62.2652 398.333 56.6171 404.097 Z\" fill=\"#000000\" fill-rule=\"evenodd\" fill-opacity=\"1\" /><path clip-path=\"url(#clip210)\" d=\"M 0 0 M88.0058 376.551 Q84.3947 376.551 82.566 380.116 Q80.7605 383.657 80.7605 390.787 Q80.7605 397.893 82.566 401.458 Q84.3947 405 88.0058 405 Q91.6401 405 93.4456 401.458 Q95.2743 397.893 95.2743 390.787 Q95.2743 383.657 93.4456 380.116 Q91.6401 376.551 88.0058 376.551 M88.0058 372.847 Q93.816 372.847 96.8715 377.454 Q99.9502 382.037 99.9502 390.787 Q99.9502 399.514 96.8715 404.12 Q93.816 408.703 88.0058 408.703 Q82.1957 408.703 79.117 404.12 Q76.0614 399.514 76.0614 390.787 Q76.0614 382.037 79.117 377.454 Q82.1957 372.847 88.0058 372.847 Z\" fill=\"#000000\" fill-rule=\"evenodd\" fill-opacity=\"1\" /><path clip-path=\"url(#clip210)\" d=\"M 0 0 M115.02 376.551 Q111.408 376.551 109.58 380.116 Q107.774 383.657 107.774 390.787 Q107.774 397.893 109.58 401.458 Q111.408 405 115.02 405 Q118.654 405 120.459 401.458 Q122.288 397.893 122.288 390.787 Q122.288 383.657 120.459 380.116 Q118.654 376.551 115.02 376.551 M115.02 372.847 Q120.83 372.847 123.885 377.454 Q126.964 382.037 126.964 390.787 Q126.964 399.514 123.885 404.12 Q120.83 408.703 115.02 408.703 Q109.209 408.703 106.131 404.12 Q103.075 399.514 103.075 390.787 Q103.075 382.037 106.131 377.454 Q109.209 372.847 115.02 372.847 Z\" fill=\"#000000\" fill-rule=\"evenodd\" fill-opacity=\"1\" /><path clip-path=\"url(#clip210)\" d=\"M 0 0 M57.6125 140.356 L73.9318 140.356 L73.9318 144.291 L51.9875 144.291 L51.9875 140.356 Q54.6495 137.602 59.2328 132.972 Q63.8393 128.319 65.0198 126.977 Q67.2652 124.453 68.1448 122.717 Q69.0476 120.958 69.0476 119.268 Q69.0476 116.514 67.1032 114.778 Q65.1819 113.041 62.08 113.041 Q59.881 113.041 57.4273 113.805 Q54.9967 114.569 52.219 116.12 L52.219 111.398 Q55.043 110.264 57.4967 109.685 Q59.9504 109.106 61.9874 109.106 Q67.3578 109.106 70.5522 111.791 Q73.7466 114.477 73.7466 118.967 Q73.7466 121.097 72.9365 123.018 Q72.1494 124.916 70.0429 127.509 Q69.4642 128.18 66.3624 131.398 Q63.2606 134.592 57.6125 140.356 Z\" fill=\"#000000\" fill-rule=\"evenodd\" fill-opacity=\"1\" /><path clip-path=\"url(#clip210)\" d=\"M 0 0 M79.0475 109.731 L97.4039 109.731 L97.4039 113.666 L83.3299 113.666 L83.3299 122.139 Q84.3484 121.791 85.3669 121.629 Q86.3855 121.444 87.404 121.444 Q93.191 121.444 96.5706 124.615 Q99.9502 127.787 99.9502 133.203 Q99.9502 138.782 96.478 141.884 Q93.0058 144.963 86.6864 144.963 Q84.5105 144.963 82.242 144.592 Q79.9966 144.222 77.5892 143.481 L77.5892 138.782 Q79.6725 139.916 81.8947 140.472 Q84.1169 141.027 86.5938 141.027 Q90.5984 141.027 92.9363 138.921 Q95.2743 136.814 95.2743 133.203 Q95.2743 129.592 92.9363 127.486 Q90.5984 125.379 86.5938 125.379 Q84.7188 125.379 82.8438 125.796 Q80.992 126.213 79.0475 127.092 L79.0475 109.731 Z\" fill=\"#000000\" fill-rule=\"evenodd\" fill-opacity=\"1\" /><path clip-path=\"url(#clip210)\" d=\"M 0 0 M115.02 112.81 Q111.408 112.81 109.58 116.375 Q107.774 119.916 107.774 127.046 Q107.774 134.152 109.58 137.717 Q111.408 141.259 115.02 141.259 Q118.654 141.259 120.459 137.717 Q122.288 134.152 122.288 127.046 Q122.288 119.916 120.459 116.375 Q118.654 112.81 115.02 112.81 M115.02 109.106 Q120.83 109.106 123.885 113.713 Q126.964 118.296 126.964 127.046 Q126.964 135.773 123.885 140.379 Q120.83 144.963 115.02 144.963 Q109.209 144.963 106.131 140.379 Q103.075 135.773 103.075 127.046 Q103.075 118.296 106.131 113.713 Q109.209 109.106 115.02 109.106 Z\" fill=\"#000000\" fill-rule=\"evenodd\" fill-opacity=\"1\" /><polyline clip-path=\"url(#clip212)\" style=\"stroke:#009af9; stroke-width:4; stroke-opacity:1; fill:none\" points=\"\n",
       "  224.939,766.846 242.155,854.708 259.37,931.198 276.585,997.789 293.801,1055.76 311.016,1106.23 328.231,1150.17 345.447,1188.42 362.662,1221.72 379.877,1250.71 \n",
       "  397.093,1275.95 414.308,1297.92 431.523,1317.05 448.739,1333.7 465.954,1348.2 483.169,1360.82 500.385,1371.81 517.6,1381.37 534.815,1389.7 552.031,1396.95 \n",
       "  569.246,1403.26 586.461,1408.76 603.677,1413.54 620.892,1417.7 638.107,1421.33 655.323,1424.49 672.538,1427.23 689.754,1429.63 706.969,1431.71 724.184,1433.52 \n",
       "  741.4,1435.1 758.615,1436.47 775.83,1437.67 793.046,1438.71 810.261,1439.62 827.476,1440.41 844.692,1441.09 861.907,1441.69 879.122,1442.21 896.338,1442.67 \n",
       "  913.553,1443.06 930.768,1443.4 947.984,1443.7 965.199,1443.96 982.414,1444.19 999.63,1444.39 1016.85,1444.56 1034.06,1444.71 1051.28,1444.84 1068.49,1444.95 \n",
       "  1085.71,1445.05 1102.92,1445.14 1120.14,1445.21 1137.35,1445.28 1154.57,1445.33 1171.78,1445.38 1189,1445.43 1206.21,1445.46 1223.43,1445.5 1240.64,1445.52 \n",
       "  1257.86,1445.55 1275.08,1445.57 1292.29,1445.59 1309.51,1445.61 1326.72,1445.62 1343.94,1445.63 1361.15,1445.64 1378.37,1445.65 1395.58,1445.66 1412.8,1445.67 \n",
       "  1430.01,1445.67 1447.23,1445.68 1464.44,1445.68 1481.66,1445.69 1498.87,1445.69 1516.09,1445.69 1533.31,1445.7 1550.52,1445.7 1567.74,1445.7 1584.95,1445.7 \n",
       "  1602.17,1445.71 1619.38,1445.71 1636.6,1445.71 1653.81,1445.71 1671.03,1445.71 1688.24,1445.71 1705.46,1445.71 1722.67,1445.71 1739.89,1445.71 1757.1,1445.71 \n",
       "  1774.32,1445.71 1791.54,1445.71 1808.75,1445.71 1825.97,1445.71 1843.18,1445.71 1860.4,1445.71 1877.61,1445.71 1894.83,1445.71 1912.04,1445.71 1929.26,1445.71 \n",
       "  1946.47,1445.72 1963.69,1445.72 1980.9,1445.72 1998.12,1445.72 2015.34,1445.72 2032.55,1445.72 2049.77,1445.72 2066.98,1445.72 2084.2,1445.72 2101.41,1445.72 \n",
       "  2118.63,1445.72 2135.84,1445.72 2153.06,1445.72 2170.27,1445.72 2187.49,1445.72 2204.7,1445.72 2221.92,1445.72 2239.13,1445.72 2256.35,1445.72 2273.57,1445.72 \n",
       "  2290.78,1445.72 \n",
       "  \"/>\n",
       "<polyline clip-path=\"url(#clip212)\" style=\"stroke:#e26f46; stroke-width:4; stroke-opacity:1; fill:none\" stroke-dasharray=\"16, 10\" points=\"\n",
       "  224.939,1445.65 242.155,1445.65 259.37,1445.65 276.585,1445.65 293.801,1445.65 311.016,1445.65 328.231,1445.65 345.447,1445.65 362.662,1445.65 379.877,1445.65 \n",
       "  397.093,1445.65 414.308,1445.65 431.523,1445.65 448.739,1445.65 465.954,1445.65 483.169,1445.65 500.385,1445.65 517.6,1445.65 534.815,1445.65 552.031,1445.65 \n",
       "  569.246,1445.65 586.461,1445.65 603.677,1445.65 620.892,1445.65 638.107,1445.65 655.323,1445.65 672.538,1445.65 689.754,1445.65 706.969,1445.65 724.184,1445.65 \n",
       "  741.4,1445.65 758.615,1445.65 775.83,1445.65 793.046,1445.65 810.261,1445.65 827.476,1445.65 844.692,1445.65 861.907,1445.65 879.122,1445.65 896.338,1445.65 \n",
       "  913.553,1445.65 930.768,1445.65 947.984,1445.65 965.199,1445.65 982.414,1445.65 999.63,1445.65 1016.85,1445.65 1034.06,1445.65 1051.28,1445.65 1068.49,1445.65 \n",
       "  1085.71,1445.65 1102.92,1445.65 1120.14,1445.65 1137.35,1445.65 1154.57,1445.65 1171.78,1445.65 1189,1445.65 1206.21,1445.65 1223.43,1445.65 1240.64,1445.65 \n",
       "  1257.86,1445.65 1275.08,1445.65 1292.29,1445.65 1309.51,1445.65 1326.72,1445.65 1343.94,1445.65 1361.15,1445.65 1378.37,1445.65 1395.58,1445.65 1412.8,1445.65 \n",
       "  1430.01,1445.65 1447.23,1445.65 1464.44,1445.65 1481.66,1445.65 1498.87,1445.65 1516.09,1445.65 1533.31,1445.65 1550.52,1445.65 1567.74,1445.65 1584.95,1445.65 \n",
       "  1602.17,1445.65 1619.38,1445.65 1636.6,1445.65 1653.81,1445.65 1671.03,1445.65 1688.24,1445.65 1705.46,1445.65 1722.67,1445.65 1739.89,1445.65 1757.1,1445.65 \n",
       "  1774.32,1445.65 1791.54,1445.65 1808.75,1445.65 1825.97,1445.65 1843.18,1445.65 1860.4,1445.65 1877.61,1445.65 1894.83,1445.65 1912.04,1445.65 1929.26,1445.65 \n",
       "  1946.47,1445.65 1963.69,1445.65 1980.9,1445.65 1998.12,1445.65 2015.34,1445.65 2032.55,1445.65 2049.77,1445.65 2066.98,1445.65 2084.2,1445.65 2101.41,1445.65 \n",
       "  2118.63,1445.65 2135.84,1445.65 2153.06,1445.65 2170.27,1445.65 2187.49,1445.65 2204.7,1445.65 2221.92,1445.65 2239.13,1445.65 2256.35,1445.65 2273.57,1445.65 \n",
       "  2290.78,1445.65 \n",
       "  \"/>\n",
       "<polyline clip-path=\"url(#clip212)\" style=\"stroke:#3da44d; stroke-width:4; stroke-opacity:1; fill:none\" points=\"\n",
       "  224.939,87.9763 242.155,263.7 259.37,416.68 276.585,549.861 293.801,665.806 311.016,766.744 328.231,854.619 345.447,931.121 362.662,997.722 379.877,1055.7 \n",
       "  397.093,1106.18 414.308,1150.12 431.523,1188.38 448.739,1221.69 465.954,1250.68 483.169,1275.92 500.385,1297.9 517.6,1317.03 534.815,1333.68 552.031,1348.18 \n",
       "  569.246,1360.81 586.461,1371.8 603.677,1381.36 620.892,1389.69 638.107,1396.94 655.323,1403.25 672.538,1408.75 689.754,1413.53 706.969,1417.7 724.184,1421.33 \n",
       "  741.4,1424.48 758.615,1427.23 775.83,1429.62 793.046,1431.71 810.261,1433.52 827.476,1435.1 844.692,1436.47 861.907,1437.67 879.122,1438.71 896.338,1439.62 \n",
       "  913.553,1440.41 930.768,1441.09 947.984,1441.69 965.199,1442.21 982.414,1442.67 999.63,1443.06 1016.85,1443.4 1034.06,1443.7 1051.28,1443.96 1068.49,1444.19 \n",
       "  1085.71,1444.39 1102.92,1444.56 1120.14,1444.71 1137.35,1444.84 1154.57,1444.95 1171.78,1445.05 1189,1445.14 1206.21,1445.21 1223.43,1445.28 1240.64,1445.33 \n",
       "  1257.86,1445.38 1275.08,1445.43 1292.29,1445.46 1309.51,1445.5 1326.72,1445.52 1343.94,1445.55 1361.15,1445.57 1378.37,1445.59 1395.58,1445.61 1412.8,1445.62 \n",
       "  1430.01,1445.63 1447.23,1445.64 1464.44,1445.65 1481.66,1445.66 1498.87,1445.67 1516.09,1445.67 1533.31,1445.68 1550.52,1445.68 1567.74,1445.69 1584.95,1445.69 \n",
       "  1602.17,1445.69 1619.38,1445.7 1636.6,1445.7 1653.81,1445.7 1671.03,1445.7 1688.24,1445.71 1705.46,1445.71 1722.67,1445.71 1739.89,1445.71 1757.1,1445.71 \n",
       "  1774.32,1445.71 1791.54,1445.71 1808.75,1445.71 1825.97,1445.71 1843.18,1445.71 1860.4,1445.71 1877.61,1445.71 1894.83,1445.71 1912.04,1445.71 1929.26,1445.71 \n",
       "  1946.47,1445.71 1963.69,1445.71 1980.9,1445.71 1998.12,1445.71 2015.34,1445.71 2032.55,1445.72 2049.77,1445.72 2066.98,1445.72 2084.2,1445.72 2101.41,1445.72 \n",
       "  2118.63,1445.72 2135.84,1445.72 2153.06,1445.72 2170.27,1445.72 2187.49,1445.72 2204.7,1445.72 2221.92,1445.72 2239.13,1445.72 2256.35,1445.72 2273.57,1445.72 \n",
       "  2290.78,1445.72 \n",
       "  \"/>\n",
       "<polyline clip-path=\"url(#clip212)\" style=\"stroke:#c271d2; stroke-width:4; stroke-opacity:1; fill:none\" points=\"\n",
       "  224.939,1106.28 242.155,1150.21 259.37,1188.46 276.585,1221.75 293.801,1250.74 311.016,1275.97 328.231,1297.94 345.447,1317.07 362.662,1333.72 379.877,1348.21 \n",
       "  397.093,1360.83 414.308,1371.82 431.523,1381.38 448.739,1389.71 465.954,1396.96 483.169,1403.27 500.385,1408.76 517.6,1413.54 534.815,1417.71 552.031,1421.33 \n",
       "  569.246,1424.49 586.461,1427.24 603.677,1429.63 620.892,1431.71 638.107,1433.52 655.323,1435.1 672.538,1436.47 689.754,1437.67 706.969,1438.71 724.184,1439.62 \n",
       "  741.4,1440.41 758.615,1441.09 775.83,1441.69 793.046,1442.21 810.261,1442.67 827.476,1443.06 844.692,1443.4 861.907,1443.7 879.122,1443.96 896.338,1444.19 \n",
       "  913.553,1444.39 930.768,1444.56 947.984,1444.71 965.199,1444.84 982.414,1444.95 999.63,1445.05 1016.85,1445.14 1034.06,1445.21 1051.28,1445.28 1068.49,1445.33 \n",
       "  1085.71,1445.38 1102.92,1445.43 1120.14,1445.46 1137.35,1445.5 1154.57,1445.53 1171.78,1445.55 1189,1445.57 1206.21,1445.59 1223.43,1445.61 1240.64,1445.62 \n",
       "  1257.86,1445.63 1275.08,1445.64 1292.29,1445.65 1309.51,1445.66 1326.72,1445.67 1343.94,1445.67 1361.15,1445.68 1378.37,1445.68 1395.58,1445.69 1412.8,1445.69 \n",
       "  1430.01,1445.69 1447.23,1445.7 1464.44,1445.7 1481.66,1445.7 1498.87,1445.7 1516.09,1445.71 1533.31,1445.71 1550.52,1445.71 1567.74,1445.71 1584.95,1445.71 \n",
       "  1602.17,1445.71 1619.38,1445.71 1636.6,1445.71 1653.81,1445.71 1671.03,1445.71 1688.24,1445.71 1705.46,1445.71 1722.67,1445.71 1739.89,1445.71 1757.1,1445.71 \n",
       "  1774.32,1445.71 1791.54,1445.71 1808.75,1445.71 1825.97,1445.71 1843.18,1445.71 1860.4,1445.72 1877.61,1445.72 1894.83,1445.72 1912.04,1445.72 1929.26,1445.72 \n",
       "  1946.47,1445.72 1963.69,1445.72 1980.9,1445.72 1998.12,1445.72 2015.34,1445.72 2032.55,1445.72 2049.77,1445.72 2066.98,1445.72 2084.2,1445.72 2101.41,1445.72 \n",
       "  2118.63,1445.72 2135.84,1445.72 2153.06,1445.72 2170.27,1445.72 2187.49,1445.72 2204.7,1445.72 2221.92,1445.72 2239.13,1445.72 2256.35,1445.72 2273.57,1445.72 \n",
       "  2290.78,1445.72 \n",
       "  \"/>\n",
       "<path clip-path=\"url(#clip210)\" d=\"\n",
       "M1840.09 397.618 L2279.76 397.618 L2279.76 95.2176 L1840.09 95.2176  Z\n",
       "  \" fill=\"#ffffff\" fill-rule=\"evenodd\" fill-opacity=\"1\"/>\n",
       "<polyline clip-path=\"url(#clip210)\" style=\"stroke:#000000; stroke-width:4; stroke-opacity:1; fill:none\" points=\"\n",
       "  1840.09,397.618 2279.76,397.618 2279.76,95.2176 1840.09,95.2176 1840.09,397.618 \n",
       "  \"/>\n",
       "<polyline clip-path=\"url(#clip210)\" style=\"stroke:#009af9; stroke-width:4; stroke-opacity:1; fill:none\" points=\"\n",
       "  1864.42,155.698 2010.41,155.698 \n",
       "  \"/>\n",
       "<path clip-path=\"url(#clip210)\" d=\"M 0 0 M2035.41 169.042 L2043.05 169.042 L2043.05 142.677 L2034.74 144.343 L2034.74 140.084 L2043 138.418 L2047.68 138.418 L2047.68 169.042 L2055.31 169.042 L2055.31 172.978 L2035.41 172.978 L2035.41 169.042 Z\" fill=\"#000000\" fill-rule=\"evenodd\" fill-opacity=\"1\" /><path clip-path=\"url(#clip210)\" d=\"M 0 0 M2070.38 141.496 Q2066.77 141.496 2064.94 145.061 Q2063.14 148.603 2063.14 155.732 Q2063.14 162.839 2064.94 166.404 Q2066.77 169.945 2070.38 169.945 Q2074.02 169.945 2075.82 166.404 Q2077.65 162.839 2077.65 155.732 Q2077.65 148.603 2075.82 145.061 Q2074.02 141.496 2070.38 141.496 M2070.38 137.793 Q2076.19 137.793 2079.25 142.399 Q2082.33 146.982 2082.33 155.732 Q2082.33 164.459 2079.25 169.066 Q2076.19 173.649 2070.38 173.649 Q2064.57 173.649 2061.5 169.066 Q2058.44 164.459 2058.44 155.732 Q2058.44 146.982 2061.5 142.399 Q2064.57 137.793 2070.38 137.793 Z\" fill=\"#000000\" fill-rule=\"evenodd\" fill-opacity=\"1\" /><path clip-path=\"url(#clip210)\" d=\"M 0 0 M2097.4 141.496 Q2093.79 141.496 2091.96 145.061 Q2090.15 148.603 2090.15 155.732 Q2090.15 162.839 2091.96 166.404 Q2093.79 169.945 2097.4 169.945 Q2101.03 169.945 2102.84 166.404 Q2104.67 162.839 2104.67 155.732 Q2104.67 148.603 2102.84 145.061 Q2101.03 141.496 2097.4 141.496 M2097.4 137.793 Q2103.21 137.793 2106.26 142.399 Q2109.34 146.982 2109.34 155.732 Q2109.34 164.459 2106.26 169.066 Q2103.21 173.649 2097.4 173.649 Q2091.59 173.649 2088.51 169.066 Q2085.45 164.459 2085.45 155.732 Q2085.45 146.982 2088.51 142.399 Q2091.59 137.793 2097.4 137.793 Z\" fill=\"#000000\" fill-rule=\"evenodd\" fill-opacity=\"1\" /><path clip-path=\"url(#clip210)\" d=\"M 0 0 M2124.41 141.496 Q2120.8 141.496 2118.97 145.061 Q2117.17 148.603 2117.17 155.732 Q2117.17 162.839 2118.97 166.404 Q2120.8 169.945 2124.41 169.945 Q2128.05 169.945 2129.85 166.404 Q2131.68 162.839 2131.68 155.732 Q2131.68 148.603 2129.85 145.061 Q2128.05 141.496 2124.41 141.496 M2124.41 137.793 Q2130.22 137.793 2133.28 142.399 Q2136.36 146.982 2136.36 155.732 Q2136.36 164.459 2133.28 169.066 Q2130.22 173.649 2124.41 173.649 Q2118.6 173.649 2115.52 169.066 Q2112.47 164.459 2112.47 155.732 Q2112.47 146.982 2115.52 142.399 Q2118.6 137.793 2124.41 137.793 Z\" fill=\"#000000\" fill-rule=\"evenodd\" fill-opacity=\"1\" /><path clip-path=\"url(#clip210)\" d=\"M 0 0 M2176.08 152.029 Q2177.68 149.158 2179.9 147.793 Q2182.12 146.427 2185.13 146.427 Q2189.18 146.427 2191.38 149.274 Q2193.58 152.098 2193.58 157.329 L2193.58 172.978 L2189.3 172.978 L2189.3 157.468 Q2189.3 153.742 2187.98 151.936 Q2186.66 150.13 2183.95 150.13 Q2180.64 150.13 2178.72 152.33 Q2176.8 154.529 2176.8 158.325 L2176.8 172.978 L2172.51 172.978 L2172.51 157.468 Q2172.51 153.718 2171.19 151.936 Q2169.87 150.13 2167.12 150.13 Q2163.86 150.13 2161.93 152.353 Q2160.01 154.552 2160.01 158.325 L2160.01 172.978 L2155.73 172.978 L2155.73 147.052 L2160.01 147.052 L2160.01 151.08 Q2161.47 148.695 2163.51 147.561 Q2165.55 146.427 2168.35 146.427 Q2171.17 146.427 2173.14 147.862 Q2175.13 149.297 2176.08 152.029 Z\" fill=\"#000000\" fill-rule=\"evenodd\" fill-opacity=\"1\" /><path clip-path=\"url(#clip210)\" d=\"M 0 0 M2215.11 159.714 Q2215.11 155.084 2213.18 152.538 Q2211.29 149.992 2207.84 149.992 Q2204.41 149.992 2202.49 152.538 Q2200.59 155.084 2200.59 159.714 Q2200.59 164.32 2202.49 166.866 Q2204.41 169.413 2207.84 169.413 Q2211.29 169.413 2213.18 166.866 Q2215.11 164.32 2215.11 159.714 M2219.36 169.76 Q2219.36 176.38 2216.42 179.598 Q2213.49 182.839 2207.42 182.839 Q2205.18 182.839 2203.18 182.491 Q2201.19 182.167 2199.32 181.473 L2199.32 177.329 Q2201.19 178.348 2203.02 178.834 Q2204.85 179.32 2206.75 179.32 Q2210.94 179.32 2213.02 177.121 Q2215.11 174.945 2215.11 170.524 L2215.11 168.417 Q2213.79 170.709 2211.73 171.843 Q2209.67 172.978 2206.8 172.978 Q2202.03 172.978 2199.11 169.343 Q2196.19 165.709 2196.19 159.714 Q2196.19 153.695 2199.11 150.061 Q2202.03 146.427 2206.8 146.427 Q2209.67 146.427 2211.73 147.561 Q2213.79 148.695 2215.11 150.987 L2215.11 147.052 L2219.36 147.052 L2219.36 169.76 Z\" fill=\"#000000\" fill-rule=\"evenodd\" fill-opacity=\"1\" /><polyline clip-path=\"url(#clip210)\" style=\"stroke:#e26f46; stroke-width:4; stroke-opacity:1; fill:none\" stroke-dasharray=\"16, 10\" points=\"\n",
       "  1864.42,216.178 2010.41,216.178 \n",
       "  \"/>\n",
       "<path clip-path=\"url(#clip210)\" d=\"M 0 0 M2034.74 198.898 L2041.7 198.898 L2050.52 222.416 L2059.39 198.898 L2066.36 198.898 L2066.36 233.458 L2061.8 233.458 L2061.8 203.11 L2052.88 226.814 L2048.19 226.814 L2039.27 203.11 L2039.27 233.458 L2034.74 233.458 L2034.74 198.898 Z\" fill=\"#000000\" fill-rule=\"evenodd\" fill-opacity=\"1\" /><path clip-path=\"url(#clip210)\" d=\"M 0 0 M2071.01 198.898 L2075.68 198.898 L2075.68 233.458 L2071.01 233.458 L2071.01 198.898 Z\" fill=\"#000000\" fill-rule=\"evenodd\" fill-opacity=\"1\" /><path clip-path=\"url(#clip210)\" d=\"M 0 0 M2106.22 201.56 L2106.22 206.49 Q2103.86 204.291 2101.17 203.203 Q2098.51 202.115 2095.5 202.115 Q2089.57 202.115 2086.43 205.749 Q2083.28 209.36 2083.28 216.212 Q2083.28 223.041 2086.43 226.675 Q2089.57 230.286 2095.5 230.286 Q2098.51 230.286 2101.17 229.198 Q2103.86 228.11 2106.22 225.911 L2106.22 230.796 Q2103.76 232.462 2101.01 233.296 Q2098.28 234.129 2095.22 234.129 Q2087.37 234.129 2082.86 229.337 Q2078.35 224.522 2078.35 216.212 Q2078.35 207.879 2082.86 203.087 Q2087.37 198.273 2095.22 198.273 Q2098.32 198.273 2101.06 199.106 Q2103.81 199.916 2106.22 201.56 Z\" fill=\"#000000\" fill-rule=\"evenodd\" fill-opacity=\"1\" /><polyline clip-path=\"url(#clip210)\" style=\"stroke:#3da44d; stroke-width:4; stroke-opacity:1; fill:none\" points=\"\n",
       "  1864.42,276.658 2010.41,276.658 \n",
       "  \"/>\n",
       "<path clip-path=\"url(#clip210)\" d=\"M 0 0 M2040.36 290.002 L2056.68 290.002 L2056.68 293.938 L2034.74 293.938 L2034.74 290.002 Q2037.4 287.248 2041.98 282.618 Q2046.59 277.965 2047.77 276.623 Q2050.01 274.1 2050.89 272.364 Q2051.8 270.604 2051.8 268.915 Q2051.8 266.16 2049.85 264.424 Q2047.93 262.688 2044.83 262.688 Q2042.63 262.688 2040.18 263.452 Q2037.75 264.215 2034.97 265.766 L2034.97 261.044 Q2037.79 259.91 2040.25 259.331 Q2042.7 258.753 2044.74 258.753 Q2050.11 258.753 2053.3 261.438 Q2056.5 264.123 2056.5 268.614 Q2056.5 270.743 2055.69 272.665 Q2054.9 274.563 2052.79 277.155 Q2052.21 277.827 2049.11 281.044 Q2046.01 284.239 2040.36 290.002 Z\" fill=\"#000000\" fill-rule=\"evenodd\" fill-opacity=\"1\" /><path clip-path=\"url(#clip210)\" d=\"M 0 0 M2071.75 262.456 Q2068.14 262.456 2066.31 266.021 Q2064.5 269.563 2064.5 276.692 Q2064.5 283.799 2066.31 287.364 Q2068.14 290.905 2071.75 290.905 Q2075.38 290.905 2077.19 287.364 Q2079.02 283.799 2079.02 276.692 Q2079.02 269.563 2077.19 266.021 Q2075.38 262.456 2071.75 262.456 M2071.75 258.753 Q2077.56 258.753 2080.62 263.359 Q2083.69 267.942 2083.69 276.692 Q2083.69 285.419 2080.62 290.026 Q2077.56 294.609 2071.75 294.609 Q2065.94 294.609 2062.86 290.026 Q2059.81 285.419 2059.81 276.692 Q2059.81 267.942 2062.86 263.359 Q2065.94 258.753 2071.75 258.753 Z\" fill=\"#000000\" fill-rule=\"evenodd\" fill-opacity=\"1\" /><path clip-path=\"url(#clip210)\" d=\"M 0 0 M2098.76 262.456 Q2095.15 262.456 2093.32 266.021 Q2091.52 269.563 2091.52 276.692 Q2091.52 283.799 2093.32 287.364 Q2095.15 290.905 2098.76 290.905 Q2102.4 290.905 2104.2 287.364 Q2106.03 283.799 2106.03 276.692 Q2106.03 269.563 2104.2 266.021 Q2102.4 262.456 2098.76 262.456 M2098.76 258.753 Q2104.57 258.753 2107.63 263.359 Q2110.71 267.942 2110.71 276.692 Q2110.71 285.419 2107.63 290.026 Q2104.57 294.609 2098.76 294.609 Q2092.95 294.609 2089.87 290.026 Q2086.82 285.419 2086.82 276.692 Q2086.82 267.942 2089.87 263.359 Q2092.95 258.753 2098.76 258.753 Z\" fill=\"#000000\" fill-rule=\"evenodd\" fill-opacity=\"1\" /><path clip-path=\"url(#clip210)\" d=\"M 0 0 M2125.78 262.456 Q2122.17 262.456 2120.34 266.021 Q2118.53 269.563 2118.53 276.692 Q2118.53 283.799 2120.34 287.364 Q2122.17 290.905 2125.78 290.905 Q2129.41 290.905 2131.22 287.364 Q2133.05 283.799 2133.05 276.692 Q2133.05 269.563 2131.22 266.021 Q2129.41 262.456 2125.78 262.456 M2125.78 258.753 Q2131.59 258.753 2134.64 263.359 Q2137.72 267.942 2137.72 276.692 Q2137.72 285.419 2134.64 290.026 Q2131.59 294.609 2125.78 294.609 Q2119.97 294.609 2116.89 290.026 Q2113.83 285.419 2113.83 276.692 Q2113.83 267.942 2116.89 263.359 Q2119.97 258.753 2125.78 258.753 Z\" fill=\"#000000\" fill-rule=\"evenodd\" fill-opacity=\"1\" /><path clip-path=\"url(#clip210)\" d=\"M 0 0 M2177.44 272.989 Q2179.04 270.118 2181.26 268.753 Q2183.49 267.387 2186.49 267.387 Q2190.55 267.387 2192.74 270.234 Q2194.94 273.058 2194.94 278.289 L2194.94 293.938 L2190.66 293.938 L2190.66 278.428 Q2190.66 274.702 2189.34 272.896 Q2188.02 271.09 2185.31 271.09 Q2182 271.09 2180.08 273.29 Q2178.16 275.489 2178.16 279.285 L2178.16 293.938 L2173.88 293.938 L2173.88 278.428 Q2173.88 274.678 2172.56 272.896 Q2171.24 271.09 2168.49 271.09 Q2165.22 271.09 2163.3 273.313 Q2161.38 275.512 2161.38 279.285 L2161.38 293.938 L2157.1 293.938 L2157.1 268.012 L2161.38 268.012 L2161.38 272.04 Q2162.84 269.655 2164.87 268.521 Q2166.91 267.387 2169.71 267.387 Q2172.54 267.387 2174.5 268.822 Q2176.49 270.257 2177.44 272.989 Z\" fill=\"#000000\" fill-rule=\"evenodd\" fill-opacity=\"1\" /><path clip-path=\"url(#clip210)\" d=\"M 0 0 M2216.47 280.674 Q2216.47 276.044 2214.55 273.498 Q2212.65 270.952 2209.2 270.952 Q2205.78 270.952 2203.86 273.498 Q2201.96 276.044 2201.96 280.674 Q2201.96 285.28 2203.86 287.826 Q2205.78 290.373 2209.2 290.373 Q2212.65 290.373 2214.55 287.826 Q2216.47 285.28 2216.47 280.674 M2220.73 290.72 Q2220.73 297.34 2217.79 300.558 Q2214.85 303.799 2208.79 303.799 Q2206.54 303.799 2204.55 303.451 Q2202.56 303.127 2200.68 302.433 L2200.68 298.289 Q2202.56 299.308 2204.39 299.794 Q2206.22 300.28 2208.11 300.28 Q2212.3 300.28 2214.39 298.081 Q2216.47 295.905 2216.47 291.484 L2216.47 289.377 Q2215.15 291.669 2213.09 292.803 Q2211.03 293.938 2208.16 293.938 Q2203.39 293.938 2200.48 290.303 Q2197.56 286.669 2197.56 280.674 Q2197.56 274.655 2200.48 271.021 Q2203.39 267.387 2208.16 267.387 Q2211.03 267.387 2213.09 268.521 Q2215.15 269.655 2216.47 271.947 L2216.47 268.012 L2220.73 268.012 L2220.73 290.72 Z\" fill=\"#000000\" fill-rule=\"evenodd\" fill-opacity=\"1\" /><polyline clip-path=\"url(#clip210)\" style=\"stroke:#c271d2; stroke-width:4; stroke-opacity:1; fill:none\" points=\"\n",
       "  1864.42,337.138 2010.41,337.138 \n",
       "  \"/>\n",
       "<path clip-path=\"url(#clip210)\" d=\"M 0 0 M2036.19 319.858 L2054.55 319.858 L2054.55 323.793 L2040.48 323.793 L2040.48 332.265 Q2041.5 331.918 2042.51 331.756 Q2043.53 331.57 2044.55 331.57 Q2050.34 331.57 2053.72 334.742 Q2057.1 337.913 2057.1 343.33 Q2057.1 348.908 2053.62 352.01 Q2050.15 355.089 2043.83 355.089 Q2041.66 355.089 2039.39 354.718 Q2037.14 354.348 2034.74 353.607 L2034.74 348.908 Q2036.82 350.043 2039.04 350.598 Q2041.26 351.154 2043.74 351.154 Q2047.75 351.154 2050.08 349.047 Q2052.42 346.941 2052.42 343.33 Q2052.42 339.719 2050.08 337.612 Q2047.75 335.506 2043.74 335.506 Q2041.87 335.506 2039.99 335.922 Q2038.14 336.339 2036.19 337.219 L2036.19 319.858 Z\" fill=\"#000000\" fill-rule=\"evenodd\" fill-opacity=\"1\" /><path clip-path=\"url(#clip210)\" d=\"M 0 0 M2072.17 322.936 Q2068.56 322.936 2066.73 326.501 Q2064.92 330.043 2064.92 337.172 Q2064.92 344.279 2066.73 347.844 Q2068.56 351.385 2072.17 351.385 Q2075.8 351.385 2077.61 347.844 Q2079.43 344.279 2079.43 337.172 Q2079.43 330.043 2077.61 326.501 Q2075.8 322.936 2072.17 322.936 M2072.17 319.233 Q2077.98 319.233 2081.03 323.839 Q2084.11 328.422 2084.11 337.172 Q2084.11 345.899 2081.03 350.506 Q2077.98 355.089 2072.17 355.089 Q2066.36 355.089 2063.28 350.506 Q2060.22 345.899 2060.22 337.172 Q2060.22 328.422 2063.28 323.839 Q2066.36 319.233 2072.17 319.233 Z\" fill=\"#000000\" fill-rule=\"evenodd\" fill-opacity=\"1\" /><path clip-path=\"url(#clip210)\" d=\"M 0 0 M2099.18 322.936 Q2095.57 322.936 2093.74 326.501 Q2091.93 330.043 2091.93 337.172 Q2091.93 344.279 2093.74 347.844 Q2095.57 351.385 2099.18 351.385 Q2102.81 351.385 2104.62 347.844 Q2106.45 344.279 2106.45 337.172 Q2106.45 330.043 2104.62 326.501 Q2102.81 322.936 2099.18 322.936 M2099.18 319.233 Q2104.99 319.233 2108.05 323.839 Q2111.12 328.422 2111.12 337.172 Q2111.12 345.899 2108.05 350.506 Q2104.99 355.089 2099.18 355.089 Q2093.37 355.089 2090.29 350.506 Q2087.24 345.899 2087.24 337.172 Q2087.24 328.422 2090.29 323.839 Q2093.37 319.233 2099.18 319.233 Z\" fill=\"#000000\" fill-rule=\"evenodd\" fill-opacity=\"1\" /><path clip-path=\"url(#clip210)\" d=\"M 0 0 M2116.19 348.538 L2121.08 348.538 L2121.08 354.418 L2116.19 354.418 L2116.19 348.538 Z\" fill=\"#000000\" fill-rule=\"evenodd\" fill-opacity=\"1\" /><path clip-path=\"url(#clip210)\" d=\"M 0 0 M2136.15 322.936 Q2132.54 322.936 2130.71 326.501 Q2128.9 330.043 2128.9 337.172 Q2128.9 344.279 2130.71 347.844 Q2132.54 351.385 2136.15 351.385 Q2139.78 351.385 2141.59 347.844 Q2143.42 344.279 2143.42 337.172 Q2143.42 330.043 2141.59 326.501 Q2139.78 322.936 2136.15 322.936 M2136.15 319.233 Q2141.96 319.233 2145.01 323.839 Q2148.09 328.422 2148.09 337.172 Q2148.09 345.899 2145.01 350.506 Q2141.96 355.089 2136.15 355.089 Q2130.34 355.089 2127.26 350.506 Q2124.2 345.899 2124.2 337.172 Q2124.2 328.422 2127.26 323.839 Q2130.34 319.233 2136.15 319.233 Z\" fill=\"#000000\" fill-rule=\"evenodd\" fill-opacity=\"1\" /><path clip-path=\"url(#clip210)\" d=\"M 0 0 M2187.81 333.469 Q2189.41 330.598 2191.63 329.233 Q2193.86 327.867 2196.86 327.867 Q2200.92 327.867 2203.11 330.714 Q2205.31 333.538 2205.31 338.769 L2205.31 354.418 L2201.03 354.418 L2201.03 338.908 Q2201.03 335.182 2199.71 333.376 Q2198.39 331.57 2195.68 331.57 Q2192.37 331.57 2190.45 333.77 Q2188.53 335.969 2188.53 339.765 L2188.53 354.418 L2184.25 354.418 L2184.25 338.908 Q2184.25 335.158 2182.93 333.376 Q2181.61 331.57 2178.86 331.57 Q2175.59 331.57 2173.67 333.793 Q2171.75 335.992 2171.75 339.765 L2171.75 354.418 L2167.47 354.418 L2167.47 328.492 L2171.75 328.492 L2171.75 332.52 Q2173.21 330.135 2175.24 329.001 Q2177.28 327.867 2180.08 327.867 Q2182.91 327.867 2184.87 329.302 Q2186.86 330.737 2187.81 333.469 Z\" fill=\"#000000\" fill-rule=\"evenodd\" fill-opacity=\"1\" /><path clip-path=\"url(#clip210)\" d=\"M 0 0 M2226.84 341.154 Q2226.84 336.524 2224.92 333.978 Q2223.02 331.432 2219.57 331.432 Q2216.15 331.432 2214.23 333.978 Q2212.33 336.524 2212.33 341.154 Q2212.33 345.76 2214.23 348.306 Q2216.15 350.853 2219.57 350.853 Q2223.02 350.853 2224.92 348.306 Q2226.84 345.76 2226.84 341.154 M2231.1 351.2 Q2231.1 357.82 2228.16 361.038 Q2225.22 364.279 2219.16 364.279 Q2216.91 364.279 2214.92 363.931 Q2212.93 363.607 2211.05 362.913 L2211.05 358.769 Q2212.93 359.788 2214.76 360.274 Q2216.59 360.76 2218.49 360.76 Q2222.67 360.76 2224.76 358.561 Q2226.84 356.385 2226.84 351.964 L2226.84 349.857 Q2225.52 352.149 2223.46 353.283 Q2221.4 354.418 2218.53 354.418 Q2213.76 354.418 2210.85 350.783 Q2207.93 347.149 2207.93 341.154 Q2207.93 335.135 2210.85 331.501 Q2213.76 327.867 2218.53 327.867 Q2221.4 327.867 2223.46 329.001 Q2225.52 330.135 2226.84 332.427 L2226.84 328.492 L2231.1 328.492 L2231.1 351.2 Z\" fill=\"#000000\" fill-rule=\"evenodd\" fill-opacity=\"1\" /></svg>\n"
      ]
     },
     "execution_count": 654,
     "metadata": {},
     "output_type": "execute_result"
    }
   ],
   "source": [
    "plot!(t_plot, data2, label=\"$X₂ mg\")\n",
    "plot!(t_plot, data3, label=\"$X₃ mg\")"
   ]
  },
  {
   "cell_type": "markdown",
   "metadata": {},
   "source": [
    "Można się teraz zastanowić po jakim czasie dla danej dawki należałoby ją powtórzyć. Będzie to moment gdy osiągniemy  minimalne stężenie hamujące ponieważ wtedy osiągniemy najmniejsze stężenie które będzie hamować rozwój naszych bakterii."
   ]
  },
  {
   "cell_type": "markdown",
   "metadata": {},
   "source": [
    "Skorzystamy w tym celu z wzoru $\\mathrm{ln}C  = \\mathrm{ln}C_0 -\\mathrm{K} \\cdot t $, wtedy:\n",
    "$$ t = \\frac{\\mathrm{ln}\\left(\\frac{C_0}{C}\\right)}{\\mathrm{K}} $$"
   ]
  },
  {
   "cell_type": "code",
   "execution_count": 655,
   "metadata": {},
   "outputs": [
    {
     "data": {
      "text/plain": [
       "time (generic function with 1 method)"
      ]
     },
     "execution_count": 655,
     "metadata": {},
     "output_type": "execute_result"
    }
   ],
   "source": [
    "function time(C, K, X₀, V)\n",
    "    return log(beginC(X₀, V)/C)/K\n",
    "end"
   ]
  },
  {
   "cell_type": "code",
   "execution_count": 656,
   "metadata": {},
   "outputs": [],
   "source": [
    "time₀ = time(MIC, K, X₀, V)\n",
    "time₂ = time(MIC, K, X₂, V)\n",
    "time₃ = time(MIC, K, X₃, V);"
   ]
  },
  {
   "cell_type": "code",
   "execution_count": 657,
   "metadata": {},
   "outputs": [
    {
     "data": {
      "image/svg+xml": [
       "<?xml version=\"1.0\" encoding=\"utf-8\"?>\n",
       "<svg xmlns=\"http://www.w3.org/2000/svg\" xmlns:xlink=\"http://www.w3.org/1999/xlink\" width=\"600\" height=\"400\" viewBox=\"0 0 2400 1600\">\n",
       "<defs>\n",
       "  <clipPath id=\"clip250\">\n",
       "    <rect x=\"0\" y=\"0\" width=\"2400\" height=\"1600\"/>\n",
       "  </clipPath>\n",
       "</defs>\n",
       "<path clip-path=\"url(#clip250)\" d=\"\n",
       "M0 1600 L2400 1600 L2400 0 L0 0  Z\n",
       "  \" fill=\"#ffffff\" fill-rule=\"evenodd\" fill-opacity=\"1\"/>\n",
       "<defs>\n",
       "  <clipPath id=\"clip251\">\n",
       "    <rect x=\"480\" y=\"0\" width=\"1681\" height=\"1600\"/>\n",
       "  </clipPath>\n",
       "</defs>\n",
       "<path clip-path=\"url(#clip250)\" d=\"\n",
       "M162.964 1486.45 L2352.76 1486.45 L2352.76 47.2441 L162.964 47.2441  Z\n",
       "  \" fill=\"#ffffff\" fill-rule=\"evenodd\" fill-opacity=\"1\"/>\n",
       "<defs>\n",
       "  <clipPath id=\"clip252\">\n",
       "    <rect x=\"162\" y=\"47\" width=\"2191\" height=\"1440\"/>\n",
       "  </clipPath>\n",
       "</defs>\n",
       "<polyline clip-path=\"url(#clip252)\" style=\"stroke:#000000; stroke-width:2; stroke-opacity:0.1; fill:none\" points=\"\n",
       "  224.939,1486.45 224.939,47.2441 \n",
       "  \"/>\n",
       "<polyline clip-path=\"url(#clip252)\" style=\"stroke:#000000; stroke-width:2; stroke-opacity:0.1; fill:none\" points=\"\n",
       "  655.323,1486.45 655.323,47.2441 \n",
       "  \"/>\n",
       "<polyline clip-path=\"url(#clip252)\" style=\"stroke:#000000; stroke-width:2; stroke-opacity:0.1; fill:none\" points=\"\n",
       "  1085.71,1486.45 1085.71,47.2441 \n",
       "  \"/>\n",
       "<polyline clip-path=\"url(#clip252)\" style=\"stroke:#000000; stroke-width:2; stroke-opacity:0.1; fill:none\" points=\"\n",
       "  1516.09,1486.45 1516.09,47.2441 \n",
       "  \"/>\n",
       "<polyline clip-path=\"url(#clip252)\" style=\"stroke:#000000; stroke-width:2; stroke-opacity:0.1; fill:none\" points=\"\n",
       "  1946.47,1486.45 1946.47,47.2441 \n",
       "  \"/>\n",
       "<polyline clip-path=\"url(#clip250)\" style=\"stroke:#000000; stroke-width:4; stroke-opacity:1; fill:none\" points=\"\n",
       "  162.964,1486.45 2352.76,1486.45 \n",
       "  \"/>\n",
       "<polyline clip-path=\"url(#clip250)\" style=\"stroke:#000000; stroke-width:4; stroke-opacity:1; fill:none\" points=\"\n",
       "  224.939,1486.45 224.939,1469.18 \n",
       "  \"/>\n",
       "<polyline clip-path=\"url(#clip250)\" style=\"stroke:#000000; stroke-width:4; stroke-opacity:1; fill:none\" points=\"\n",
       "  655.323,1486.45 655.323,1469.18 \n",
       "  \"/>\n",
       "<polyline clip-path=\"url(#clip250)\" style=\"stroke:#000000; stroke-width:4; stroke-opacity:1; fill:none\" points=\"\n",
       "  1085.71,1486.45 1085.71,1469.18 \n",
       "  \"/>\n",
       "<polyline clip-path=\"url(#clip250)\" style=\"stroke:#000000; stroke-width:4; stroke-opacity:1; fill:none\" points=\"\n",
       "  1516.09,1486.45 1516.09,1469.18 \n",
       "  \"/>\n",
       "<polyline clip-path=\"url(#clip250)\" style=\"stroke:#000000; stroke-width:4; stroke-opacity:1; fill:none\" points=\"\n",
       "  1946.47,1486.45 1946.47,1469.18 \n",
       "  \"/>\n",
       "<path clip-path=\"url(#clip250)\" d=\"M 0 0 M206.455 1515.64 Q202.844 1515.64 201.016 1519.2 Q199.21 1522.75 199.21 1529.87 Q199.21 1536.98 201.016 1540.55 Q202.844 1544.09 206.455 1544.09 Q210.09 1544.09 211.895 1540.55 Q213.724 1536.98 213.724 1529.87 Q213.724 1522.75 211.895 1519.2 Q210.09 1515.64 206.455 1515.64 M206.455 1511.93 Q212.266 1511.93 215.321 1516.54 Q218.4 1521.12 218.4 1529.87 Q218.4 1538.6 215.321 1543.21 Q212.266 1547.79 206.455 1547.79 Q200.645 1547.79 197.567 1543.21 Q194.511 1538.6 194.511 1529.87 Q194.511 1521.12 197.567 1516.54 Q200.645 1511.93 206.455 1511.93 Z\" fill=\"#000000\" fill-rule=\"evenodd\" fill-opacity=\"1\" /><path clip-path=\"url(#clip250)\" d=\"M 0 0 M223.469 1541.24 L228.354 1541.24 L228.354 1547.12 L223.469 1547.12 L223.469 1541.24 Z\" fill=\"#000000\" fill-rule=\"evenodd\" fill-opacity=\"1\" /><path clip-path=\"url(#clip250)\" d=\"M 0 0 M243.423 1515.64 Q239.812 1515.64 237.983 1519.2 Q236.178 1522.75 236.178 1529.87 Q236.178 1536.98 237.983 1540.55 Q239.812 1544.09 243.423 1544.09 Q247.057 1544.09 248.863 1540.55 Q250.691 1536.98 250.691 1529.87 Q250.691 1522.75 248.863 1519.2 Q247.057 1515.64 243.423 1515.64 M243.423 1511.93 Q249.233 1511.93 252.289 1516.54 Q255.367 1521.12 255.367 1529.87 Q255.367 1538.6 252.289 1543.21 Q249.233 1547.79 243.423 1547.79 Q237.613 1547.79 234.534 1543.21 Q231.479 1538.6 231.479 1529.87 Q231.479 1521.12 234.534 1516.54 Q237.613 1511.93 243.423 1511.93 Z\" fill=\"#000000\" fill-rule=\"evenodd\" fill-opacity=\"1\" /><path clip-path=\"url(#clip250)\" d=\"M 0 0 M631.99 1543.18 L648.309 1543.18 L648.309 1547.12 L626.365 1547.12 L626.365 1543.18 Q629.027 1540.43 633.61 1535.8 Q638.216 1531.15 639.397 1529.81 Q641.642 1527.28 642.522 1525.55 Q643.425 1523.79 643.425 1522.1 Q643.425 1519.34 641.48 1517.61 Q639.559 1515.87 636.457 1515.87 Q634.258 1515.87 631.804 1516.63 Q629.374 1517.4 626.596 1518.95 L626.596 1514.23 Q629.42 1513.09 631.874 1512.51 Q634.328 1511.93 636.365 1511.93 Q641.735 1511.93 644.929 1514.62 Q648.124 1517.31 648.124 1521.8 Q648.124 1523.93 647.314 1525.85 Q646.527 1527.74 644.42 1530.34 Q643.841 1531.01 640.74 1534.23 Q637.638 1537.42 631.99 1543.18 Z\" fill=\"#000000\" fill-rule=\"evenodd\" fill-opacity=\"1\" /><path clip-path=\"url(#clip250)\" d=\"M 0 0 M653.378 1541.24 L658.263 1541.24 L658.263 1547.12 L653.378 1547.12 L653.378 1541.24 Z\" fill=\"#000000\" fill-rule=\"evenodd\" fill-opacity=\"1\" /><path clip-path=\"url(#clip250)\" d=\"M 0 0 M663.378 1512.56 L681.735 1512.56 L681.735 1516.5 L667.661 1516.5 L667.661 1524.97 Q668.679 1524.62 669.698 1524.46 Q670.716 1524.27 671.735 1524.27 Q677.522 1524.27 680.901 1527.44 Q684.281 1530.62 684.281 1536.03 Q684.281 1541.61 680.809 1544.71 Q677.337 1547.79 671.017 1547.79 Q668.841 1547.79 666.573 1547.42 Q664.327 1547.05 661.92 1546.31 L661.92 1541.61 Q664.003 1542.74 666.226 1543.3 Q668.448 1543.86 670.925 1543.86 Q674.929 1543.86 677.267 1541.75 Q679.605 1539.64 679.605 1536.03 Q679.605 1532.42 677.267 1530.31 Q674.929 1528.21 670.925 1528.21 Q669.05 1528.21 667.175 1528.62 Q665.323 1529.04 663.378 1529.92 L663.378 1512.56 Z\" fill=\"#000000\" fill-rule=\"evenodd\" fill-opacity=\"1\" /><path clip-path=\"url(#clip250)\" d=\"M 0 0 M1057.5 1512.56 L1075.86 1512.56 L1075.86 1516.5 L1061.78 1516.5 L1061.78 1524.97 Q1062.8 1524.62 1063.82 1524.46 Q1064.84 1524.27 1065.86 1524.27 Q1071.64 1524.27 1075.02 1527.44 Q1078.4 1530.62 1078.4 1536.03 Q1078.4 1541.61 1074.93 1544.71 Q1071.46 1547.79 1065.14 1547.79 Q1062.96 1547.79 1060.7 1547.42 Q1058.45 1547.05 1056.04 1546.31 L1056.04 1541.61 Q1058.13 1542.74 1060.35 1543.3 Q1062.57 1543.86 1065.05 1543.86 Q1069.05 1543.86 1071.39 1541.75 Q1073.73 1539.64 1073.73 1536.03 Q1073.73 1532.42 1071.39 1530.31 Q1069.05 1528.21 1065.05 1528.21 Q1063.17 1528.21 1061.3 1528.62 Q1059.45 1529.04 1057.5 1529.92 L1057.5 1512.56 Z\" fill=\"#000000\" fill-rule=\"evenodd\" fill-opacity=\"1\" /><path clip-path=\"url(#clip250)\" d=\"M 0 0 M1083.47 1541.24 L1088.36 1541.24 L1088.36 1547.12 L1083.47 1547.12 L1083.47 1541.24 Z\" fill=\"#000000\" fill-rule=\"evenodd\" fill-opacity=\"1\" /><path clip-path=\"url(#clip250)\" d=\"M 0 0 M1103.43 1515.64 Q1099.82 1515.64 1097.99 1519.2 Q1096.18 1522.75 1096.18 1529.87 Q1096.18 1536.98 1097.99 1540.55 Q1099.82 1544.09 1103.43 1544.09 Q1107.06 1544.09 1108.87 1540.55 Q1110.69 1536.98 1110.69 1529.87 Q1110.69 1522.75 1108.87 1519.2 Q1107.06 1515.64 1103.43 1515.64 M1103.43 1511.93 Q1109.24 1511.93 1112.29 1516.54 Q1115.37 1521.12 1115.37 1529.87 Q1115.37 1538.6 1112.29 1543.21 Q1109.24 1547.79 1103.43 1547.79 Q1097.62 1547.79 1094.54 1543.21 Q1091.48 1538.6 1091.48 1529.87 Q1091.48 1521.12 1094.54 1516.54 Q1097.62 1511.93 1103.43 1511.93 Z\" fill=\"#000000\" fill-rule=\"evenodd\" fill-opacity=\"1\" /><path clip-path=\"url(#clip250)\" d=\"M 0 0 M1486.99 1512.56 L1509.22 1512.56 L1509.22 1514.55 L1496.67 1547.12 L1491.78 1547.12 L1503.59 1516.5 L1486.99 1516.5 L1486.99 1512.56 Z\" fill=\"#000000\" fill-rule=\"evenodd\" fill-opacity=\"1\" /><path clip-path=\"url(#clip250)\" d=\"M 0 0 M1514.28 1541.24 L1519.17 1541.24 L1519.17 1547.12 L1514.28 1547.12 L1514.28 1541.24 Z\" fill=\"#000000\" fill-rule=\"evenodd\" fill-opacity=\"1\" /><path clip-path=\"url(#clip250)\" d=\"M 0 0 M1524.28 1512.56 L1542.64 1512.56 L1542.64 1516.5 L1528.57 1516.5 L1528.57 1524.97 Q1529.59 1524.62 1530.6 1524.46 Q1531.62 1524.27 1532.64 1524.27 Q1538.43 1524.27 1541.81 1527.44 Q1545.19 1530.62 1545.19 1536.03 Q1545.19 1541.61 1541.71 1544.71 Q1538.24 1547.79 1531.92 1547.79 Q1529.75 1547.79 1527.48 1547.42 Q1525.23 1547.05 1522.83 1546.31 L1522.83 1541.61 Q1524.91 1542.74 1527.13 1543.3 Q1529.35 1543.86 1531.83 1543.86 Q1535.84 1543.86 1538.17 1541.75 Q1540.51 1539.64 1540.51 1536.03 Q1540.51 1532.42 1538.17 1530.31 Q1535.84 1528.21 1531.83 1528.21 Q1529.96 1528.21 1528.08 1528.62 Q1526.23 1529.04 1524.28 1529.92 L1524.28 1512.56 Z\" fill=\"#000000\" fill-rule=\"evenodd\" fill-opacity=\"1\" /><path clip-path=\"url(#clip250)\" d=\"M 0 0 M1904.87 1543.18 L1912.5 1543.18 L1912.5 1516.82 L1904.19 1518.49 L1904.19 1514.23 L1912.46 1512.56 L1917.13 1512.56 L1917.13 1543.18 L1924.77 1543.18 L1924.77 1547.12 L1904.87 1547.12 L1904.87 1543.18 Z\" fill=\"#000000\" fill-rule=\"evenodd\" fill-opacity=\"1\" /><path clip-path=\"url(#clip250)\" d=\"M 0 0 M1939.84 1515.64 Q1936.23 1515.64 1934.4 1519.2 Q1932.6 1522.75 1932.6 1529.87 Q1932.6 1536.98 1934.4 1540.55 Q1936.23 1544.09 1939.84 1544.09 Q1943.48 1544.09 1945.28 1540.55 Q1947.11 1536.98 1947.11 1529.87 Q1947.11 1522.75 1945.28 1519.2 Q1943.48 1515.64 1939.84 1515.64 M1939.84 1511.93 Q1945.65 1511.93 1948.71 1516.54 Q1951.79 1521.12 1951.79 1529.87 Q1951.79 1538.6 1948.71 1543.21 Q1945.65 1547.79 1939.84 1547.79 Q1934.03 1547.79 1930.95 1543.21 Q1927.9 1538.6 1927.9 1529.87 Q1927.9 1521.12 1930.95 1516.54 Q1934.03 1511.93 1939.84 1511.93 Z\" fill=\"#000000\" fill-rule=\"evenodd\" fill-opacity=\"1\" /><path clip-path=\"url(#clip250)\" d=\"M 0 0 M1956.86 1541.24 L1961.74 1541.24 L1961.74 1547.12 L1956.86 1547.12 L1956.86 1541.24 Z\" fill=\"#000000\" fill-rule=\"evenodd\" fill-opacity=\"1\" /><path clip-path=\"url(#clip250)\" d=\"M 0 0 M1976.81 1515.64 Q1973.2 1515.64 1971.37 1519.2 Q1969.56 1522.75 1969.56 1529.87 Q1969.56 1536.98 1971.37 1540.55 Q1973.2 1544.09 1976.81 1544.09 Q1980.44 1544.09 1982.25 1540.55 Q1984.08 1536.98 1984.08 1529.87 Q1984.08 1522.75 1982.25 1519.2 Q1980.44 1515.64 1976.81 1515.64 M1976.81 1511.93 Q1982.62 1511.93 1985.67 1516.54 Q1988.75 1521.12 1988.75 1529.87 Q1988.75 1538.6 1985.67 1543.21 Q1982.62 1547.79 1976.81 1547.79 Q1971 1547.79 1967.92 1543.21 Q1964.86 1538.6 1964.86 1529.87 Q1964.86 1521.12 1967.92 1516.54 Q1971 1511.93 1976.81 1511.93 Z\" fill=\"#000000\" fill-rule=\"evenodd\" fill-opacity=\"1\" /><polyline clip-path=\"url(#clip252)\" style=\"stroke:#000000; stroke-width:2; stroke-opacity:0.1; fill:none\" points=\"\n",
       "  162.964,1445.72 2352.76,1445.72 \n",
       "  \"/>\n",
       "<polyline clip-path=\"url(#clip252)\" style=\"stroke:#000000; stroke-width:2; stroke-opacity:0.1; fill:none\" points=\"\n",
       "  162.964,1181.97 2352.76,1181.97 \n",
       "  \"/>\n",
       "<polyline clip-path=\"url(#clip252)\" style=\"stroke:#000000; stroke-width:2; stroke-opacity:0.1; fill:none\" points=\"\n",
       "  162.964,918.234 2352.76,918.234 \n",
       "  \"/>\n",
       "<polyline clip-path=\"url(#clip252)\" style=\"stroke:#000000; stroke-width:2; stroke-opacity:0.1; fill:none\" points=\"\n",
       "  162.964,654.493 2352.76,654.493 \n",
       "  \"/>\n",
       "<polyline clip-path=\"url(#clip252)\" style=\"stroke:#000000; stroke-width:2; stroke-opacity:0.1; fill:none\" points=\"\n",
       "  162.964,390.752 2352.76,390.752 \n",
       "  \"/>\n",
       "<polyline clip-path=\"url(#clip252)\" style=\"stroke:#000000; stroke-width:2; stroke-opacity:0.1; fill:none\" points=\"\n",
       "  162.964,127.011 2352.76,127.011 \n",
       "  \"/>\n",
       "<polyline clip-path=\"url(#clip250)\" style=\"stroke:#000000; stroke-width:4; stroke-opacity:1; fill:none\" points=\"\n",
       "  162.964,1486.45 162.964,47.2441 \n",
       "  \"/>\n",
       "<polyline clip-path=\"url(#clip250)\" style=\"stroke:#000000; stroke-width:4; stroke-opacity:1; fill:none\" points=\"\n",
       "  162.964,1445.72 189.241,1445.72 \n",
       "  \"/>\n",
       "<polyline clip-path=\"url(#clip250)\" style=\"stroke:#000000; stroke-width:4; stroke-opacity:1; fill:none\" points=\"\n",
       "  162.964,1181.97 189.241,1181.97 \n",
       "  \"/>\n",
       "<polyline clip-path=\"url(#clip250)\" style=\"stroke:#000000; stroke-width:4; stroke-opacity:1; fill:none\" points=\"\n",
       "  162.964,918.234 189.241,918.234 \n",
       "  \"/>\n",
       "<polyline clip-path=\"url(#clip250)\" style=\"stroke:#000000; stroke-width:4; stroke-opacity:1; fill:none\" points=\"\n",
       "  162.964,654.493 189.241,654.493 \n",
       "  \"/>\n",
       "<polyline clip-path=\"url(#clip250)\" style=\"stroke:#000000; stroke-width:4; stroke-opacity:1; fill:none\" points=\"\n",
       "  162.964,390.752 189.241,390.752 \n",
       "  \"/>\n",
       "<polyline clip-path=\"url(#clip250)\" style=\"stroke:#000000; stroke-width:4; stroke-opacity:1; fill:none\" points=\"\n",
       "  162.964,127.011 189.241,127.011 \n",
       "  \"/>\n",
       "<path clip-path=\"url(#clip250)\" d=\"M 0 0 M115.02 1431.51 Q111.408 1431.51 109.58 1435.08 Q107.774 1438.62 107.774 1445.75 Q107.774 1452.86 109.58 1456.42 Q111.408 1459.96 115.02 1459.96 Q118.654 1459.96 120.459 1456.42 Q122.288 1452.86 122.288 1445.75 Q122.288 1438.62 120.459 1435.08 Q118.654 1431.51 115.02 1431.51 M115.02 1427.81 Q120.83 1427.81 123.885 1432.42 Q126.964 1437 126.964 1445.75 Q126.964 1454.48 123.885 1459.08 Q120.83 1463.67 115.02 1463.67 Q109.209 1463.67 106.131 1459.08 Q103.075 1454.48 103.075 1445.75 Q103.075 1437 106.131 1432.42 Q109.209 1427.81 115.02 1427.81 Z\" fill=\"#000000\" fill-rule=\"evenodd\" fill-opacity=\"1\" /><path clip-path=\"url(#clip250)\" d=\"M 0 0 M79.0475 1164.69 L97.4039 1164.69 L97.4039 1168.63 L83.3299 1168.63 L83.3299 1177.1 Q84.3484 1176.75 85.3669 1176.59 Q86.3855 1176.41 87.404 1176.41 Q93.191 1176.41 96.5706 1179.58 Q99.9502 1182.75 99.9502 1188.17 Q99.9502 1193.75 96.478 1196.85 Q93.0058 1199.93 86.6864 1199.93 Q84.5105 1199.93 82.242 1199.56 Q79.9966 1199.19 77.5892 1198.44 L77.5892 1193.75 Q79.6725 1194.88 81.8947 1195.44 Q84.1169 1195.99 86.5938 1195.99 Q90.5984 1195.99 92.9363 1193.88 Q95.2743 1191.78 95.2743 1188.17 Q95.2743 1184.56 92.9363 1182.45 Q90.5984 1180.34 86.5938 1180.34 Q84.7188 1180.34 82.8438 1180.76 Q80.992 1181.18 79.0475 1182.06 L79.0475 1164.69 Z\" fill=\"#000000\" fill-rule=\"evenodd\" fill-opacity=\"1\" /><path clip-path=\"url(#clip250)\" d=\"M 0 0 M115.02 1167.77 Q111.408 1167.77 109.58 1171.34 Q107.774 1174.88 107.774 1182.01 Q107.774 1189.12 109.58 1192.68 Q111.408 1196.22 115.02 1196.22 Q118.654 1196.22 120.459 1192.68 Q122.288 1189.12 122.288 1182.01 Q122.288 1174.88 120.459 1171.34 Q118.654 1167.77 115.02 1167.77 M115.02 1164.07 Q120.83 1164.07 123.885 1168.68 Q126.964 1173.26 126.964 1182.01 Q126.964 1190.74 123.885 1195.34 Q120.83 1199.93 115.02 1199.93 Q109.209 1199.93 106.131 1195.34 Q103.075 1190.74 103.075 1182.01 Q103.075 1173.26 106.131 1168.68 Q109.209 1164.07 115.02 1164.07 Z\" fill=\"#000000\" fill-rule=\"evenodd\" fill-opacity=\"1\" /><path clip-path=\"url(#clip250)\" d=\"M 0 0 M53.0292 931.579 L60.668 931.579 L60.668 905.213 L52.3579 906.88 L52.3579 902.621 L60.6217 900.954 L65.2976 900.954 L65.2976 931.579 L72.9365 931.579 L72.9365 935.514 L53.0292 935.514 L53.0292 931.579 Z\" fill=\"#000000\" fill-rule=\"evenodd\" fill-opacity=\"1\" /><path clip-path=\"url(#clip250)\" d=\"M 0 0 M88.0058 904.033 Q84.3947 904.033 82.566 907.597 Q80.7605 911.139 80.7605 918.269 Q80.7605 925.375 82.566 928.94 Q84.3947 932.482 88.0058 932.482 Q91.6401 932.482 93.4456 928.94 Q95.2743 925.375 95.2743 918.269 Q95.2743 911.139 93.4456 907.597 Q91.6401 904.033 88.0058 904.033 M88.0058 900.329 Q93.816 900.329 96.8715 904.935 Q99.9502 909.519 99.9502 918.269 Q99.9502 926.995 96.8715 931.602 Q93.816 936.185 88.0058 936.185 Q82.1957 936.185 79.117 931.602 Q76.0614 926.995 76.0614 918.269 Q76.0614 909.519 79.117 904.935 Q82.1957 900.329 88.0058 900.329 Z\" fill=\"#000000\" fill-rule=\"evenodd\" fill-opacity=\"1\" /><path clip-path=\"url(#clip250)\" d=\"M 0 0 M115.02 904.033 Q111.408 904.033 109.58 907.597 Q107.774 911.139 107.774 918.269 Q107.774 925.375 109.58 928.94 Q111.408 932.482 115.02 932.482 Q118.654 932.482 120.459 928.94 Q122.288 925.375 122.288 918.269 Q122.288 911.139 120.459 907.597 Q118.654 904.033 115.02 904.033 M115.02 900.329 Q120.83 900.329 123.885 904.935 Q126.964 909.519 126.964 918.269 Q126.964 926.995 123.885 931.602 Q120.83 936.185 115.02 936.185 Q109.209 936.185 106.131 931.602 Q103.075 926.995 103.075 918.269 Q103.075 909.519 106.131 904.935 Q109.209 900.329 115.02 900.329 Z\" fill=\"#000000\" fill-rule=\"evenodd\" fill-opacity=\"1\" /><path clip-path=\"url(#clip250)\" d=\"M 0 0 M54.0245 667.838 L61.6634 667.838 L61.6634 641.472 L53.3532 643.139 L53.3532 638.88 L61.6171 637.213 L66.293 637.213 L66.293 667.838 L73.9318 667.838 L73.9318 671.773 L54.0245 671.773 L54.0245 667.838 Z\" fill=\"#000000\" fill-rule=\"evenodd\" fill-opacity=\"1\" /><path clip-path=\"url(#clip250)\" d=\"M 0 0 M79.0475 637.213 L97.4039 637.213 L97.4039 641.148 L83.3299 641.148 L83.3299 649.62 Q84.3484 649.273 85.3669 649.111 Q86.3855 648.926 87.404 648.926 Q93.191 648.926 96.5706 652.097 Q99.9502 655.269 99.9502 660.685 Q99.9502 666.264 96.478 669.366 Q93.0058 672.444 86.6864 672.444 Q84.5105 672.444 82.242 672.074 Q79.9966 671.704 77.5892 670.963 L77.5892 666.264 Q79.6725 667.398 81.8947 667.954 Q84.1169 668.509 86.5938 668.509 Q90.5984 668.509 92.9363 666.403 Q95.2743 664.296 95.2743 660.685 Q95.2743 657.074 92.9363 654.968 Q90.5984 652.861 86.5938 652.861 Q84.7188 652.861 82.8438 653.278 Q80.992 653.694 79.0475 654.574 L79.0475 637.213 Z\" fill=\"#000000\" fill-rule=\"evenodd\" fill-opacity=\"1\" /><path clip-path=\"url(#clip250)\" d=\"M 0 0 M115.02 640.292 Q111.408 640.292 109.58 643.857 Q107.774 647.398 107.774 654.528 Q107.774 661.634 109.58 665.199 Q111.408 668.741 115.02 668.741 Q118.654 668.741 120.459 665.199 Q122.288 661.634 122.288 654.528 Q122.288 647.398 120.459 643.857 Q118.654 640.292 115.02 640.292 M115.02 636.588 Q120.83 636.588 123.885 641.195 Q126.964 645.778 126.964 654.528 Q126.964 663.255 123.885 667.861 Q120.83 672.444 115.02 672.444 Q109.209 672.444 106.131 667.861 Q103.075 663.255 103.075 654.528 Q103.075 645.778 106.131 641.195 Q109.209 636.588 115.02 636.588 Z\" fill=\"#000000\" fill-rule=\"evenodd\" fill-opacity=\"1\" /><path clip-path=\"url(#clip250)\" d=\"M 0 0 M56.6171 404.097 L72.9365 404.097 L72.9365 408.032 L50.9921 408.032 L50.9921 404.097 Q53.6541 401.342 58.2375 396.713 Q62.8439 392.06 64.0245 390.717 Q66.2698 388.194 67.1494 386.458 Q68.0522 384.699 68.0522 383.009 Q68.0522 380.255 66.1078 378.518 Q64.1865 376.782 61.0847 376.782 Q58.8856 376.782 56.4319 377.546 Q54.0014 378.31 51.2236 379.861 L51.2236 375.139 Q54.0477 374.005 56.5014 373.426 Q58.955 372.847 60.9921 372.847 Q66.3624 372.847 69.5568 375.532 Q72.7513 378.218 72.7513 382.708 Q72.7513 384.838 71.9411 386.759 Q71.1541 388.657 69.0476 391.25 Q68.4689 391.921 65.367 395.139 Q62.2652 398.333 56.6171 404.097 Z\" fill=\"#000000\" fill-rule=\"evenodd\" fill-opacity=\"1\" /><path clip-path=\"url(#clip250)\" d=\"M 0 0 M88.0058 376.551 Q84.3947 376.551 82.566 380.116 Q80.7605 383.657 80.7605 390.787 Q80.7605 397.893 82.566 401.458 Q84.3947 405 88.0058 405 Q91.6401 405 93.4456 401.458 Q95.2743 397.893 95.2743 390.787 Q95.2743 383.657 93.4456 380.116 Q91.6401 376.551 88.0058 376.551 M88.0058 372.847 Q93.816 372.847 96.8715 377.454 Q99.9502 382.037 99.9502 390.787 Q99.9502 399.514 96.8715 404.12 Q93.816 408.703 88.0058 408.703 Q82.1957 408.703 79.117 404.12 Q76.0614 399.514 76.0614 390.787 Q76.0614 382.037 79.117 377.454 Q82.1957 372.847 88.0058 372.847 Z\" fill=\"#000000\" fill-rule=\"evenodd\" fill-opacity=\"1\" /><path clip-path=\"url(#clip250)\" d=\"M 0 0 M115.02 376.551 Q111.408 376.551 109.58 380.116 Q107.774 383.657 107.774 390.787 Q107.774 397.893 109.58 401.458 Q111.408 405 115.02 405 Q118.654 405 120.459 401.458 Q122.288 397.893 122.288 390.787 Q122.288 383.657 120.459 380.116 Q118.654 376.551 115.02 376.551 M115.02 372.847 Q120.83 372.847 123.885 377.454 Q126.964 382.037 126.964 390.787 Q126.964 399.514 123.885 404.12 Q120.83 408.703 115.02 408.703 Q109.209 408.703 106.131 404.12 Q103.075 399.514 103.075 390.787 Q103.075 382.037 106.131 377.454 Q109.209 372.847 115.02 372.847 Z\" fill=\"#000000\" fill-rule=\"evenodd\" fill-opacity=\"1\" /><path clip-path=\"url(#clip250)\" d=\"M 0 0 M57.6125 140.356 L73.9318 140.356 L73.9318 144.291 L51.9875 144.291 L51.9875 140.356 Q54.6495 137.602 59.2328 132.972 Q63.8393 128.319 65.0198 126.977 Q67.2652 124.453 68.1448 122.717 Q69.0476 120.958 69.0476 119.268 Q69.0476 116.514 67.1032 114.778 Q65.1819 113.041 62.08 113.041 Q59.881 113.041 57.4273 113.805 Q54.9967 114.569 52.219 116.12 L52.219 111.398 Q55.043 110.264 57.4967 109.685 Q59.9504 109.106 61.9874 109.106 Q67.3578 109.106 70.5522 111.791 Q73.7466 114.477 73.7466 118.967 Q73.7466 121.097 72.9365 123.018 Q72.1494 124.916 70.0429 127.509 Q69.4642 128.18 66.3624 131.398 Q63.2606 134.592 57.6125 140.356 Z\" fill=\"#000000\" fill-rule=\"evenodd\" fill-opacity=\"1\" /><path clip-path=\"url(#clip250)\" d=\"M 0 0 M79.0475 109.731 L97.4039 109.731 L97.4039 113.666 L83.3299 113.666 L83.3299 122.139 Q84.3484 121.791 85.3669 121.629 Q86.3855 121.444 87.404 121.444 Q93.191 121.444 96.5706 124.615 Q99.9502 127.787 99.9502 133.203 Q99.9502 138.782 96.478 141.884 Q93.0058 144.963 86.6864 144.963 Q84.5105 144.963 82.242 144.592 Q79.9966 144.222 77.5892 143.481 L77.5892 138.782 Q79.6725 139.916 81.8947 140.472 Q84.1169 141.027 86.5938 141.027 Q90.5984 141.027 92.9363 138.921 Q95.2743 136.814 95.2743 133.203 Q95.2743 129.592 92.9363 127.486 Q90.5984 125.379 86.5938 125.379 Q84.7188 125.379 82.8438 125.796 Q80.992 126.213 79.0475 127.092 L79.0475 109.731 Z\" fill=\"#000000\" fill-rule=\"evenodd\" fill-opacity=\"1\" /><path clip-path=\"url(#clip250)\" d=\"M 0 0 M115.02 112.81 Q111.408 112.81 109.58 116.375 Q107.774 119.916 107.774 127.046 Q107.774 134.152 109.58 137.717 Q111.408 141.259 115.02 141.259 Q118.654 141.259 120.459 137.717 Q122.288 134.152 122.288 127.046 Q122.288 119.916 120.459 116.375 Q118.654 112.81 115.02 112.81 M115.02 109.106 Q120.83 109.106 123.885 113.713 Q126.964 118.296 126.964 127.046 Q126.964 135.773 123.885 140.379 Q120.83 144.963 115.02 144.963 Q109.209 144.963 106.131 140.379 Q103.075 135.773 103.075 127.046 Q103.075 118.296 106.131 113.713 Q109.209 109.106 115.02 109.106 Z\" fill=\"#000000\" fill-rule=\"evenodd\" fill-opacity=\"1\" /><polyline clip-path=\"url(#clip252)\" style=\"stroke:#009af9; stroke-width:4; stroke-opacity:1; fill:none\" points=\"\n",
       "  224.939,766.846 242.155,854.708 259.37,931.198 276.585,997.789 293.801,1055.76 311.016,1106.23 328.231,1150.17 345.447,1188.42 362.662,1221.72 379.877,1250.71 \n",
       "  397.093,1275.95 414.308,1297.92 431.523,1317.05 448.739,1333.7 465.954,1348.2 483.169,1360.82 500.385,1371.81 517.6,1381.37 534.815,1389.7 552.031,1396.95 \n",
       "  569.246,1403.26 586.461,1408.76 603.677,1413.54 620.892,1417.7 638.107,1421.33 655.323,1424.49 672.538,1427.23 689.754,1429.63 706.969,1431.71 724.184,1433.52 \n",
       "  741.4,1435.1 758.615,1436.47 775.83,1437.67 793.046,1438.71 810.261,1439.62 827.476,1440.41 844.692,1441.09 861.907,1441.69 879.122,1442.21 896.338,1442.67 \n",
       "  913.553,1443.06 930.768,1443.4 947.984,1443.7 965.199,1443.96 982.414,1444.19 999.63,1444.39 1016.85,1444.56 1034.06,1444.71 1051.28,1444.84 1068.49,1444.95 \n",
       "  1085.71,1445.05 1102.92,1445.14 1120.14,1445.21 1137.35,1445.28 1154.57,1445.33 1171.78,1445.38 1189,1445.43 1206.21,1445.46 1223.43,1445.5 1240.64,1445.52 \n",
       "  1257.86,1445.55 1275.08,1445.57 1292.29,1445.59 1309.51,1445.61 1326.72,1445.62 1343.94,1445.63 1361.15,1445.64 1378.37,1445.65 1395.58,1445.66 1412.8,1445.67 \n",
       "  1430.01,1445.67 1447.23,1445.68 1464.44,1445.68 1481.66,1445.69 1498.87,1445.69 1516.09,1445.69 1533.31,1445.7 1550.52,1445.7 1567.74,1445.7 1584.95,1445.7 \n",
       "  1602.17,1445.71 1619.38,1445.71 1636.6,1445.71 1653.81,1445.71 1671.03,1445.71 1688.24,1445.71 1705.46,1445.71 1722.67,1445.71 1739.89,1445.71 1757.1,1445.71 \n",
       "  1774.32,1445.71 1791.54,1445.71 1808.75,1445.71 1825.97,1445.71 1843.18,1445.71 1860.4,1445.71 1877.61,1445.71 1894.83,1445.71 1912.04,1445.71 1929.26,1445.71 \n",
       "  1946.47,1445.72 1963.69,1445.72 1980.9,1445.72 1998.12,1445.72 2015.34,1445.72 2032.55,1445.72 2049.77,1445.72 2066.98,1445.72 2084.2,1445.72 2101.41,1445.72 \n",
       "  2118.63,1445.72 2135.84,1445.72 2153.06,1445.72 2170.27,1445.72 2187.49,1445.72 2204.7,1445.72 2221.92,1445.72 2239.13,1445.72 2256.35,1445.72 2273.57,1445.72 \n",
       "  2290.78,1445.72 \n",
       "  \"/>\n",
       "<polyline clip-path=\"url(#clip252)\" style=\"stroke:#e26f46; stroke-width:4; stroke-opacity:1; fill:none\" stroke-dasharray=\"16, 10\" points=\"\n",
       "  224.939,1445.65 242.155,1445.65 259.37,1445.65 276.585,1445.65 293.801,1445.65 311.016,1445.65 328.231,1445.65 345.447,1445.65 362.662,1445.65 379.877,1445.65 \n",
       "  397.093,1445.65 414.308,1445.65 431.523,1445.65 448.739,1445.65 465.954,1445.65 483.169,1445.65 500.385,1445.65 517.6,1445.65 534.815,1445.65 552.031,1445.65 \n",
       "  569.246,1445.65 586.461,1445.65 603.677,1445.65 620.892,1445.65 638.107,1445.65 655.323,1445.65 672.538,1445.65 689.754,1445.65 706.969,1445.65 724.184,1445.65 \n",
       "  741.4,1445.65 758.615,1445.65 775.83,1445.65 793.046,1445.65 810.261,1445.65 827.476,1445.65 844.692,1445.65 861.907,1445.65 879.122,1445.65 896.338,1445.65 \n",
       "  913.553,1445.65 930.768,1445.65 947.984,1445.65 965.199,1445.65 982.414,1445.65 999.63,1445.65 1016.85,1445.65 1034.06,1445.65 1051.28,1445.65 1068.49,1445.65 \n",
       "  1085.71,1445.65 1102.92,1445.65 1120.14,1445.65 1137.35,1445.65 1154.57,1445.65 1171.78,1445.65 1189,1445.65 1206.21,1445.65 1223.43,1445.65 1240.64,1445.65 \n",
       "  1257.86,1445.65 1275.08,1445.65 1292.29,1445.65 1309.51,1445.65 1326.72,1445.65 1343.94,1445.65 1361.15,1445.65 1378.37,1445.65 1395.58,1445.65 1412.8,1445.65 \n",
       "  1430.01,1445.65 1447.23,1445.65 1464.44,1445.65 1481.66,1445.65 1498.87,1445.65 1516.09,1445.65 1533.31,1445.65 1550.52,1445.65 1567.74,1445.65 1584.95,1445.65 \n",
       "  1602.17,1445.65 1619.38,1445.65 1636.6,1445.65 1653.81,1445.65 1671.03,1445.65 1688.24,1445.65 1705.46,1445.65 1722.67,1445.65 1739.89,1445.65 1757.1,1445.65 \n",
       "  1774.32,1445.65 1791.54,1445.65 1808.75,1445.65 1825.97,1445.65 1843.18,1445.65 1860.4,1445.65 1877.61,1445.65 1894.83,1445.65 1912.04,1445.65 1929.26,1445.65 \n",
       "  1946.47,1445.65 1963.69,1445.65 1980.9,1445.65 1998.12,1445.65 2015.34,1445.65 2032.55,1445.65 2049.77,1445.65 2066.98,1445.65 2084.2,1445.65 2101.41,1445.65 \n",
       "  2118.63,1445.65 2135.84,1445.65 2153.06,1445.65 2170.27,1445.65 2187.49,1445.65 2204.7,1445.65 2221.92,1445.65 2239.13,1445.65 2256.35,1445.65 2273.57,1445.65 \n",
       "  2290.78,1445.65 \n",
       "  \"/>\n",
       "<polyline clip-path=\"url(#clip252)\" style=\"stroke:#3da44d; stroke-width:4; stroke-opacity:1; fill:none\" points=\"\n",
       "  224.939,87.9763 242.155,263.7 259.37,416.68 276.585,549.861 293.801,665.806 311.016,766.744 328.231,854.619 345.447,931.121 362.662,997.722 379.877,1055.7 \n",
       "  397.093,1106.18 414.308,1150.12 431.523,1188.38 448.739,1221.69 465.954,1250.68 483.169,1275.92 500.385,1297.9 517.6,1317.03 534.815,1333.68 552.031,1348.18 \n",
       "  569.246,1360.81 586.461,1371.8 603.677,1381.36 620.892,1389.69 638.107,1396.94 655.323,1403.25 672.538,1408.75 689.754,1413.53 706.969,1417.7 724.184,1421.33 \n",
       "  741.4,1424.48 758.615,1427.23 775.83,1429.62 793.046,1431.71 810.261,1433.52 827.476,1435.1 844.692,1436.47 861.907,1437.67 879.122,1438.71 896.338,1439.62 \n",
       "  913.553,1440.41 930.768,1441.09 947.984,1441.69 965.199,1442.21 982.414,1442.67 999.63,1443.06 1016.85,1443.4 1034.06,1443.7 1051.28,1443.96 1068.49,1444.19 \n",
       "  1085.71,1444.39 1102.92,1444.56 1120.14,1444.71 1137.35,1444.84 1154.57,1444.95 1171.78,1445.05 1189,1445.14 1206.21,1445.21 1223.43,1445.28 1240.64,1445.33 \n",
       "  1257.86,1445.38 1275.08,1445.43 1292.29,1445.46 1309.51,1445.5 1326.72,1445.52 1343.94,1445.55 1361.15,1445.57 1378.37,1445.59 1395.58,1445.61 1412.8,1445.62 \n",
       "  1430.01,1445.63 1447.23,1445.64 1464.44,1445.65 1481.66,1445.66 1498.87,1445.67 1516.09,1445.67 1533.31,1445.68 1550.52,1445.68 1567.74,1445.69 1584.95,1445.69 \n",
       "  1602.17,1445.69 1619.38,1445.7 1636.6,1445.7 1653.81,1445.7 1671.03,1445.7 1688.24,1445.71 1705.46,1445.71 1722.67,1445.71 1739.89,1445.71 1757.1,1445.71 \n",
       "  1774.32,1445.71 1791.54,1445.71 1808.75,1445.71 1825.97,1445.71 1843.18,1445.71 1860.4,1445.71 1877.61,1445.71 1894.83,1445.71 1912.04,1445.71 1929.26,1445.71 \n",
       "  1946.47,1445.71 1963.69,1445.71 1980.9,1445.71 1998.12,1445.71 2015.34,1445.71 2032.55,1445.72 2049.77,1445.72 2066.98,1445.72 2084.2,1445.72 2101.41,1445.72 \n",
       "  2118.63,1445.72 2135.84,1445.72 2153.06,1445.72 2170.27,1445.72 2187.49,1445.72 2204.7,1445.72 2221.92,1445.72 2239.13,1445.72 2256.35,1445.72 2273.57,1445.72 \n",
       "  2290.78,1445.72 \n",
       "  \"/>\n",
       "<polyline clip-path=\"url(#clip252)\" style=\"stroke:#c271d2; stroke-width:4; stroke-opacity:1; fill:none\" points=\"\n",
       "  224.939,1106.28 242.155,1150.21 259.37,1188.46 276.585,1221.75 293.801,1250.74 311.016,1275.97 328.231,1297.94 345.447,1317.07 362.662,1333.72 379.877,1348.21 \n",
       "  397.093,1360.83 414.308,1371.82 431.523,1381.38 448.739,1389.71 465.954,1396.96 483.169,1403.27 500.385,1408.76 517.6,1413.54 534.815,1417.71 552.031,1421.33 \n",
       "  569.246,1424.49 586.461,1427.24 603.677,1429.63 620.892,1431.71 638.107,1433.52 655.323,1435.1 672.538,1436.47 689.754,1437.67 706.969,1438.71 724.184,1439.62 \n",
       "  741.4,1440.41 758.615,1441.09 775.83,1441.69 793.046,1442.21 810.261,1442.67 827.476,1443.06 844.692,1443.4 861.907,1443.7 879.122,1443.96 896.338,1444.19 \n",
       "  913.553,1444.39 930.768,1444.56 947.984,1444.71 965.199,1444.84 982.414,1444.95 999.63,1445.05 1016.85,1445.14 1034.06,1445.21 1051.28,1445.28 1068.49,1445.33 \n",
       "  1085.71,1445.38 1102.92,1445.43 1120.14,1445.46 1137.35,1445.5 1154.57,1445.53 1171.78,1445.55 1189,1445.57 1206.21,1445.59 1223.43,1445.61 1240.64,1445.62 \n",
       "  1257.86,1445.63 1275.08,1445.64 1292.29,1445.65 1309.51,1445.66 1326.72,1445.67 1343.94,1445.67 1361.15,1445.68 1378.37,1445.68 1395.58,1445.69 1412.8,1445.69 \n",
       "  1430.01,1445.69 1447.23,1445.7 1464.44,1445.7 1481.66,1445.7 1498.87,1445.7 1516.09,1445.71 1533.31,1445.71 1550.52,1445.71 1567.74,1445.71 1584.95,1445.71 \n",
       "  1602.17,1445.71 1619.38,1445.71 1636.6,1445.71 1653.81,1445.71 1671.03,1445.71 1688.24,1445.71 1705.46,1445.71 1722.67,1445.71 1739.89,1445.71 1757.1,1445.71 \n",
       "  1774.32,1445.71 1791.54,1445.71 1808.75,1445.71 1825.97,1445.71 1843.18,1445.71 1860.4,1445.72 1877.61,1445.72 1894.83,1445.72 1912.04,1445.72 1929.26,1445.72 \n",
       "  1946.47,1445.72 1963.69,1445.72 1980.9,1445.72 1998.12,1445.72 2015.34,1445.72 2032.55,1445.72 2049.77,1445.72 2066.98,1445.72 2084.2,1445.72 2101.41,1445.72 \n",
       "  2118.63,1445.72 2135.84,1445.72 2153.06,1445.72 2170.27,1445.72 2187.49,1445.72 2204.7,1445.72 2221.92,1445.72 2239.13,1445.72 2256.35,1445.72 2273.57,1445.72 \n",
       "  2290.78,1445.72 \n",
       "  \"/>\n",
       "<circle clip-path=\"url(#clip252)\" cx=\"1377.64\" cy=\"1445.65\" r=\"10\" fill=\"#ffff00\" fill-rule=\"evenodd\" fill-opacity=\"1\" stroke=\"#000000\" stroke-opacity=\"1\" stroke-width=\"3.2\"/>\n",
       "<circle clip-path=\"url(#clip252)\" cx=\"1463.73\" cy=\"1445.65\" r=\"10\" fill=\"#ff0000\" fill-rule=\"evenodd\" fill-opacity=\"1\" stroke=\"#000000\" stroke-opacity=\"1\" stroke-width=\"3.2\"/>\n",
       "<circle clip-path=\"url(#clip252)\" cx=\"1291.54\" cy=\"1445.65\" r=\"10\" fill=\"#ffc0cb\" fill-rule=\"evenodd\" fill-opacity=\"1\" stroke=\"#000000\" stroke-opacity=\"1\" stroke-width=\"3.2\"/>\n",
       "<path clip-path=\"url(#clip250)\" d=\"\n",
       "M1813.86 579.058 L2279.76 579.058 L2279.76 95.2176 L1813.86 95.2176  Z\n",
       "  \" fill=\"#ffffff\" fill-rule=\"evenodd\" fill-opacity=\"1\"/>\n",
       "<polyline clip-path=\"url(#clip250)\" style=\"stroke:#000000; stroke-width:4; stroke-opacity:1; fill:none\" points=\"\n",
       "  1813.86,579.058 2279.76,579.058 2279.76,95.2176 1813.86,95.2176 1813.86,579.058 \n",
       "  \"/>\n",
       "<polyline clip-path=\"url(#clip250)\" style=\"stroke:#009af9; stroke-width:4; stroke-opacity:1; fill:none\" points=\"\n",
       "  1838.19,155.698 1984.18,155.698 \n",
       "  \"/>\n",
       "<path clip-path=\"url(#clip250)\" d=\"M 0 0 M2009.18 169.042 L2016.82 169.042 L2016.82 142.677 L2008.51 144.343 L2008.51 140.084 L2016.77 138.418 L2021.45 138.418 L2021.45 169.042 L2029.09 169.042 L2029.09 172.978 L2009.18 172.978 L2009.18 169.042 Z\" fill=\"#000000\" fill-rule=\"evenodd\" fill-opacity=\"1\" /><path clip-path=\"url(#clip250)\" d=\"M 0 0 M2044.16 141.496 Q2040.55 141.496 2038.72 145.061 Q2036.91 148.603 2036.91 155.732 Q2036.91 162.839 2038.72 166.404 Q2040.55 169.945 2044.16 169.945 Q2047.79 169.945 2049.6 166.404 Q2051.43 162.839 2051.43 155.732 Q2051.43 148.603 2049.6 145.061 Q2047.79 141.496 2044.16 141.496 M2044.16 137.793 Q2049.97 137.793 2053.02 142.399 Q2056.1 146.982 2056.1 155.732 Q2056.1 164.459 2053.02 169.066 Q2049.97 173.649 2044.16 173.649 Q2038.35 173.649 2035.27 169.066 Q2032.21 164.459 2032.21 155.732 Q2032.21 146.982 2035.27 142.399 Q2038.35 137.793 2044.16 137.793 Z\" fill=\"#000000\" fill-rule=\"evenodd\" fill-opacity=\"1\" /><path clip-path=\"url(#clip250)\" d=\"M 0 0 M2071.17 141.496 Q2067.56 141.496 2065.73 145.061 Q2063.93 148.603 2063.93 155.732 Q2063.93 162.839 2065.73 166.404 Q2067.56 169.945 2071.17 169.945 Q2074.81 169.945 2076.61 166.404 Q2078.44 162.839 2078.44 155.732 Q2078.44 148.603 2076.61 145.061 Q2074.81 141.496 2071.17 141.496 M2071.17 137.793 Q2076.98 137.793 2080.04 142.399 Q2083.12 146.982 2083.12 155.732 Q2083.12 164.459 2080.04 169.066 Q2076.98 173.649 2071.17 173.649 Q2065.36 173.649 2062.28 169.066 Q2059.23 164.459 2059.23 155.732 Q2059.23 146.982 2062.28 142.399 Q2065.36 137.793 2071.17 137.793 Z\" fill=\"#000000\" fill-rule=\"evenodd\" fill-opacity=\"1\" /><path clip-path=\"url(#clip250)\" d=\"M 0 0 M2098.18 141.496 Q2094.57 141.496 2092.75 145.061 Q2090.94 148.603 2090.94 155.732 Q2090.94 162.839 2092.75 166.404 Q2094.57 169.945 2098.18 169.945 Q2101.82 169.945 2103.62 166.404 Q2105.45 162.839 2105.45 155.732 Q2105.45 148.603 2103.62 145.061 Q2101.82 141.496 2098.18 141.496 M2098.18 137.793 Q2103.99 137.793 2107.05 142.399 Q2110.13 146.982 2110.13 155.732 Q2110.13 164.459 2107.05 169.066 Q2103.99 173.649 2098.18 173.649 Q2092.37 173.649 2089.3 169.066 Q2086.24 164.459 2086.24 155.732 Q2086.24 146.982 2089.3 142.399 Q2092.37 137.793 2098.18 137.793 Z\" fill=\"#000000\" fill-rule=\"evenodd\" fill-opacity=\"1\" /><path clip-path=\"url(#clip250)\" d=\"M 0 0 M2149.85 152.029 Q2151.45 149.158 2153.67 147.793 Q2155.89 146.427 2158.9 146.427 Q2162.95 146.427 2165.15 149.274 Q2167.35 152.098 2167.35 157.329 L2167.35 172.978 L2163.07 172.978 L2163.07 157.468 Q2163.07 153.742 2161.75 151.936 Q2160.43 150.13 2157.72 150.13 Q2154.41 150.13 2152.49 152.33 Q2150.57 154.529 2150.57 158.325 L2150.57 172.978 L2146.29 172.978 L2146.29 157.468 Q2146.29 153.718 2144.97 151.936 Q2143.65 150.13 2140.89 150.13 Q2137.63 150.13 2135.71 152.353 Q2133.79 154.552 2133.79 158.325 L2133.79 172.978 L2129.5 172.978 L2129.5 147.052 L2133.79 147.052 L2133.79 151.08 Q2135.24 148.695 2137.28 147.561 Q2139.32 146.427 2142.12 146.427 Q2144.94 146.427 2146.91 147.862 Q2148.9 149.297 2149.85 152.029 Z\" fill=\"#000000\" fill-rule=\"evenodd\" fill-opacity=\"1\" /><path clip-path=\"url(#clip250)\" d=\"M 0 0 M2188.88 159.714 Q2188.88 155.084 2186.96 152.538 Q2185.06 149.992 2181.61 149.992 Q2178.18 149.992 2176.26 152.538 Q2174.36 155.084 2174.36 159.714 Q2174.36 164.32 2176.26 166.866 Q2178.18 169.413 2181.61 169.413 Q2185.06 169.413 2186.96 166.866 Q2188.88 164.32 2188.88 159.714 M2193.14 169.76 Q2193.14 176.38 2190.2 179.598 Q2187.26 182.839 2181.19 182.839 Q2178.95 182.839 2176.96 182.491 Q2174.97 182.167 2173.09 181.473 L2173.09 177.329 Q2174.97 178.348 2176.8 178.834 Q2178.62 179.32 2180.52 179.32 Q2184.71 179.32 2186.8 177.121 Q2188.88 174.945 2188.88 170.524 L2188.88 168.417 Q2187.56 170.709 2185.5 171.843 Q2183.44 172.978 2180.57 172.978 Q2175.8 172.978 2172.88 169.343 Q2169.97 165.709 2169.97 159.714 Q2169.97 153.695 2172.88 150.061 Q2175.8 146.427 2180.57 146.427 Q2183.44 146.427 2185.5 147.561 Q2187.56 148.695 2188.88 150.987 L2188.88 147.052 L2193.14 147.052 L2193.14 169.76 Z\" fill=\"#000000\" fill-rule=\"evenodd\" fill-opacity=\"1\" /><polyline clip-path=\"url(#clip250)\" style=\"stroke:#e26f46; stroke-width:4; stroke-opacity:1; fill:none\" stroke-dasharray=\"16, 10\" points=\"\n",
       "  1838.19,216.178 1984.18,216.178 \n",
       "  \"/>\n",
       "<path clip-path=\"url(#clip250)\" d=\"M 0 0 M2008.51 198.898 L2015.48 198.898 L2024.3 222.416 L2033.16 198.898 L2040.13 198.898 L2040.13 233.458 L2035.57 233.458 L2035.57 203.11 L2026.66 226.814 L2021.96 226.814 L2013.05 203.11 L2013.05 233.458 L2008.51 233.458 L2008.51 198.898 Z\" fill=\"#000000\" fill-rule=\"evenodd\" fill-opacity=\"1\" /><path clip-path=\"url(#clip250)\" d=\"M 0 0 M2044.78 198.898 L2049.46 198.898 L2049.46 233.458 L2044.78 233.458 L2044.78 198.898 Z\" fill=\"#000000\" fill-rule=\"evenodd\" fill-opacity=\"1\" /><path clip-path=\"url(#clip250)\" d=\"M 0 0 M2079.99 201.56 L2079.99 206.49 Q2077.63 204.291 2074.94 203.203 Q2072.28 202.115 2069.27 202.115 Q2063.35 202.115 2060.2 205.749 Q2057.05 209.36 2057.05 216.212 Q2057.05 223.041 2060.2 226.675 Q2063.35 230.286 2069.27 230.286 Q2072.28 230.286 2074.94 229.198 Q2077.63 228.11 2079.99 225.911 L2079.99 230.796 Q2077.54 232.462 2074.78 233.296 Q2072.05 234.129 2069 234.129 Q2061.15 234.129 2056.63 229.337 Q2052.12 224.522 2052.12 216.212 Q2052.12 207.879 2056.63 203.087 Q2061.15 198.273 2069 198.273 Q2072.1 198.273 2074.83 199.106 Q2077.58 199.916 2079.99 201.56 Z\" fill=\"#000000\" fill-rule=\"evenodd\" fill-opacity=\"1\" /><polyline clip-path=\"url(#clip250)\" style=\"stroke:#3da44d; stroke-width:4; stroke-opacity:1; fill:none\" points=\"\n",
       "  1838.19,276.658 1984.18,276.658 \n",
       "  \"/>\n",
       "<path clip-path=\"url(#clip250)\" d=\"M 0 0 M2014.13 290.002 L2030.45 290.002 L2030.45 293.938 L2008.51 293.938 L2008.51 290.002 Q2011.17 287.248 2015.75 282.618 Q2020.36 277.965 2021.54 276.623 Q2023.79 274.1 2024.67 272.364 Q2025.57 270.604 2025.57 268.915 Q2025.57 266.16 2023.63 264.424 Q2021.7 262.688 2018.6 262.688 Q2016.4 262.688 2013.95 263.452 Q2011.52 264.215 2008.74 265.766 L2008.74 261.044 Q2011.56 259.91 2014.02 259.331 Q2016.47 258.753 2018.51 258.753 Q2023.88 258.753 2027.07 261.438 Q2030.27 264.123 2030.27 268.614 Q2030.27 270.743 2029.46 272.665 Q2028.67 274.563 2026.56 277.155 Q2025.99 277.827 2022.88 281.044 Q2019.78 284.239 2014.13 290.002 Z\" fill=\"#000000\" fill-rule=\"evenodd\" fill-opacity=\"1\" /><path clip-path=\"url(#clip250)\" d=\"M 0 0 M2045.52 262.456 Q2041.91 262.456 2040.08 266.021 Q2038.28 269.563 2038.28 276.692 Q2038.28 283.799 2040.08 287.364 Q2041.91 290.905 2045.52 290.905 Q2049.16 290.905 2050.96 287.364 Q2052.79 283.799 2052.79 276.692 Q2052.79 269.563 2050.96 266.021 Q2049.16 262.456 2045.52 262.456 M2045.52 258.753 Q2051.33 258.753 2054.39 263.359 Q2057.47 267.942 2057.47 276.692 Q2057.47 285.419 2054.39 290.026 Q2051.33 294.609 2045.52 294.609 Q2039.71 294.609 2036.63 290.026 Q2033.58 285.419 2033.58 276.692 Q2033.58 267.942 2036.63 263.359 Q2039.71 258.753 2045.52 258.753 Z\" fill=\"#000000\" fill-rule=\"evenodd\" fill-opacity=\"1\" /><path clip-path=\"url(#clip250)\" d=\"M 0 0 M2072.54 262.456 Q2068.93 262.456 2067.1 266.021 Q2065.29 269.563 2065.29 276.692 Q2065.29 283.799 2067.1 287.364 Q2068.93 290.905 2072.54 290.905 Q2076.17 290.905 2077.98 287.364 Q2079.81 283.799 2079.81 276.692 Q2079.81 269.563 2077.98 266.021 Q2076.17 262.456 2072.54 262.456 M2072.54 258.753 Q2078.35 258.753 2081.4 263.359 Q2084.48 267.942 2084.48 276.692 Q2084.48 285.419 2081.4 290.026 Q2078.35 294.609 2072.54 294.609 Q2066.73 294.609 2063.65 290.026 Q2060.59 285.419 2060.59 276.692 Q2060.59 267.942 2063.65 263.359 Q2066.73 258.753 2072.54 258.753 Z\" fill=\"#000000\" fill-rule=\"evenodd\" fill-opacity=\"1\" /><path clip-path=\"url(#clip250)\" d=\"M 0 0 M2099.55 262.456 Q2095.94 262.456 2094.11 266.021 Q2092.31 269.563 2092.31 276.692 Q2092.31 283.799 2094.11 287.364 Q2095.94 290.905 2099.55 290.905 Q2103.18 290.905 2104.99 287.364 Q2106.82 283.799 2106.82 276.692 Q2106.82 269.563 2104.99 266.021 Q2103.18 262.456 2099.55 262.456 M2099.55 258.753 Q2105.36 258.753 2108.42 263.359 Q2111.49 267.942 2111.49 276.692 Q2111.49 285.419 2108.42 290.026 Q2105.36 294.609 2099.55 294.609 Q2093.74 294.609 2090.66 290.026 Q2087.61 285.419 2087.61 276.692 Q2087.61 267.942 2090.66 263.359 Q2093.74 258.753 2099.55 258.753 Z\" fill=\"#000000\" fill-rule=\"evenodd\" fill-opacity=\"1\" /><path clip-path=\"url(#clip250)\" d=\"M 0 0 M2151.22 272.989 Q2152.81 270.118 2155.04 268.753 Q2157.26 267.387 2160.27 267.387 Q2164.32 267.387 2166.52 270.234 Q2168.72 273.058 2168.72 278.289 L2168.72 293.938 L2164.43 293.938 L2164.43 278.428 Q2164.43 274.702 2163.12 272.896 Q2161.8 271.09 2159.09 271.09 Q2155.78 271.09 2153.86 273.29 Q2151.93 275.489 2151.93 279.285 L2151.93 293.938 L2147.65 293.938 L2147.65 278.428 Q2147.65 274.678 2146.33 272.896 Q2145.01 271.09 2142.26 271.09 Q2138.99 271.09 2137.07 273.313 Q2135.15 275.512 2135.15 279.285 L2135.15 293.938 L2130.87 293.938 L2130.87 268.012 L2135.15 268.012 L2135.15 272.04 Q2136.61 269.655 2138.65 268.521 Q2140.68 267.387 2143.49 267.387 Q2146.31 267.387 2148.28 268.822 Q2150.27 270.257 2151.22 272.989 Z\" fill=\"#000000\" fill-rule=\"evenodd\" fill-opacity=\"1\" /><path clip-path=\"url(#clip250)\" d=\"M 0 0 M2190.24 280.674 Q2190.24 276.044 2188.32 273.498 Q2186.43 270.952 2182.98 270.952 Q2179.55 270.952 2177.63 273.498 Q2175.73 276.044 2175.73 280.674 Q2175.73 285.28 2177.63 287.826 Q2179.55 290.373 2182.98 290.373 Q2186.43 290.373 2188.32 287.826 Q2190.24 285.28 2190.24 280.674 M2194.5 290.72 Q2194.5 297.34 2191.56 300.558 Q2188.62 303.799 2182.56 303.799 Q2180.31 303.799 2178.32 303.451 Q2176.33 303.127 2174.46 302.433 L2174.46 298.289 Q2176.33 299.308 2178.16 299.794 Q2179.99 300.28 2181.89 300.28 Q2186.08 300.28 2188.16 298.081 Q2190.24 295.905 2190.24 291.484 L2190.24 289.377 Q2188.93 291.669 2186.86 292.803 Q2184.8 293.938 2181.93 293.938 Q2177.17 293.938 2174.25 290.303 Q2171.33 286.669 2171.33 280.674 Q2171.33 274.655 2174.25 271.021 Q2177.17 267.387 2181.93 267.387 Q2184.8 267.387 2186.86 268.521 Q2188.93 269.655 2190.24 271.947 L2190.24 268.012 L2194.5 268.012 L2194.5 290.72 Z\" fill=\"#000000\" fill-rule=\"evenodd\" fill-opacity=\"1\" /><polyline clip-path=\"url(#clip250)\" style=\"stroke:#c271d2; stroke-width:4; stroke-opacity:1; fill:none\" points=\"\n",
       "  1838.19,337.138 1984.18,337.138 \n",
       "  \"/>\n",
       "<path clip-path=\"url(#clip250)\" d=\"M 0 0 M2009.97 319.858 L2028.32 319.858 L2028.32 323.793 L2014.25 323.793 L2014.25 332.265 Q2015.27 331.918 2016.29 331.756 Q2017.31 331.57 2018.32 331.57 Q2024.11 331.57 2027.49 334.742 Q2030.87 337.913 2030.87 343.33 Q2030.87 348.908 2027.4 352.01 Q2023.93 355.089 2017.61 355.089 Q2015.43 355.089 2013.16 354.718 Q2010.92 354.348 2008.51 353.607 L2008.51 348.908 Q2010.59 350.043 2012.81 350.598 Q2015.04 351.154 2017.51 351.154 Q2021.52 351.154 2023.86 349.047 Q2026.19 346.941 2026.19 343.33 Q2026.19 339.719 2023.86 337.612 Q2021.52 335.506 2017.51 335.506 Q2015.64 335.506 2013.76 335.922 Q2011.91 336.339 2009.97 337.219 L2009.97 319.858 Z\" fill=\"#000000\" fill-rule=\"evenodd\" fill-opacity=\"1\" /><path clip-path=\"url(#clip250)\" d=\"M 0 0 M2045.94 322.936 Q2042.33 322.936 2040.5 326.501 Q2038.69 330.043 2038.69 337.172 Q2038.69 344.279 2040.5 347.844 Q2042.33 351.385 2045.94 351.385 Q2049.57 351.385 2051.38 347.844 Q2053.21 344.279 2053.21 337.172 Q2053.21 330.043 2051.38 326.501 Q2049.57 322.936 2045.94 322.936 M2045.94 319.233 Q2051.75 319.233 2054.81 323.839 Q2057.88 328.422 2057.88 337.172 Q2057.88 345.899 2054.81 350.506 Q2051.75 355.089 2045.94 355.089 Q2040.13 355.089 2037.05 350.506 Q2034 345.899 2034 337.172 Q2034 328.422 2037.05 323.839 Q2040.13 319.233 2045.94 319.233 Z\" fill=\"#000000\" fill-rule=\"evenodd\" fill-opacity=\"1\" /><path clip-path=\"url(#clip250)\" d=\"M 0 0 M2072.95 322.936 Q2069.34 322.936 2067.51 326.501 Q2065.71 330.043 2065.71 337.172 Q2065.71 344.279 2067.51 347.844 Q2069.34 351.385 2072.95 351.385 Q2076.59 351.385 2078.39 347.844 Q2080.22 344.279 2080.22 337.172 Q2080.22 330.043 2078.39 326.501 Q2076.59 322.936 2072.95 322.936 M2072.95 319.233 Q2078.76 319.233 2081.82 323.839 Q2084.9 328.422 2084.9 337.172 Q2084.9 345.899 2081.82 350.506 Q2078.76 355.089 2072.95 355.089 Q2067.14 355.089 2064.06 350.506 Q2061.01 345.899 2061.01 337.172 Q2061.01 328.422 2064.06 323.839 Q2067.14 319.233 2072.95 319.233 Z\" fill=\"#000000\" fill-rule=\"evenodd\" fill-opacity=\"1\" /><path clip-path=\"url(#clip250)\" d=\"M 0 0 M2089.97 348.538 L2094.85 348.538 L2094.85 354.418 L2089.97 354.418 L2089.97 348.538 Z\" fill=\"#000000\" fill-rule=\"evenodd\" fill-opacity=\"1\" /><path clip-path=\"url(#clip250)\" d=\"M 0 0 M2109.92 322.936 Q2106.31 322.936 2104.48 326.501 Q2102.68 330.043 2102.68 337.172 Q2102.68 344.279 2104.48 347.844 Q2106.31 351.385 2109.92 351.385 Q2113.56 351.385 2115.36 347.844 Q2117.19 344.279 2117.19 337.172 Q2117.19 330.043 2115.36 326.501 Q2113.56 322.936 2109.92 322.936 M2109.92 319.233 Q2115.73 319.233 2118.79 323.839 Q2121.87 328.422 2121.87 337.172 Q2121.87 345.899 2118.79 350.506 Q2115.73 355.089 2109.92 355.089 Q2104.11 355.089 2101.03 350.506 Q2097.98 345.899 2097.98 337.172 Q2097.98 328.422 2101.03 323.839 Q2104.11 319.233 2109.92 319.233 Z\" fill=\"#000000\" fill-rule=\"evenodd\" fill-opacity=\"1\" /><path clip-path=\"url(#clip250)\" d=\"M 0 0 M2161.59 333.469 Q2163.18 330.598 2165.41 329.233 Q2167.63 327.867 2170.64 327.867 Q2174.69 327.867 2176.89 330.714 Q2179.09 333.538 2179.09 338.769 L2179.09 354.418 L2174.8 354.418 L2174.8 338.908 Q2174.8 335.182 2173.49 333.376 Q2172.17 331.57 2169.46 331.57 Q2166.15 331.57 2164.23 333.77 Q2162.3 335.969 2162.3 339.765 L2162.3 354.418 L2158.02 354.418 L2158.02 338.908 Q2158.02 335.158 2156.7 333.376 Q2155.38 331.57 2152.63 331.57 Q2149.37 331.57 2147.44 333.793 Q2145.52 335.992 2145.52 339.765 L2145.52 354.418 L2141.24 354.418 L2141.24 328.492 L2145.52 328.492 L2145.52 332.52 Q2146.98 330.135 2149.02 329.001 Q2151.05 327.867 2153.86 327.867 Q2156.68 327.867 2158.65 329.302 Q2160.64 330.737 2161.59 333.469 Z\" fill=\"#000000\" fill-rule=\"evenodd\" fill-opacity=\"1\" /><path clip-path=\"url(#clip250)\" d=\"M 0 0 M2200.61 341.154 Q2200.61 336.524 2198.69 333.978 Q2196.8 331.432 2193.35 331.432 Q2189.92 331.432 2188 333.978 Q2186.1 336.524 2186.1 341.154 Q2186.1 345.76 2188 348.306 Q2189.92 350.853 2193.35 350.853 Q2196.8 350.853 2198.69 348.306 Q2200.61 345.76 2200.61 341.154 M2204.87 351.2 Q2204.87 357.82 2201.93 361.038 Q2198.99 364.279 2192.93 364.279 Q2190.68 364.279 2188.69 363.931 Q2186.7 363.607 2184.83 362.913 L2184.83 358.769 Q2186.7 359.788 2188.53 360.274 Q2190.36 360.76 2192.26 360.76 Q2196.45 360.76 2198.53 358.561 Q2200.61 356.385 2200.61 351.964 L2200.61 349.857 Q2199.3 352.149 2197.24 353.283 Q2195.18 354.418 2192.3 354.418 Q2187.54 354.418 2184.62 350.783 Q2181.7 347.149 2181.7 341.154 Q2181.7 335.135 2184.62 331.501 Q2187.54 327.867 2192.3 327.867 Q2195.18 327.867 2197.24 329.001 Q2199.3 330.135 2200.61 332.427 L2200.61 328.492 L2204.87 328.492 L2204.87 351.2 Z\" fill=\"#000000\" fill-rule=\"evenodd\" fill-opacity=\"1\" /><polyline clip-path=\"url(#clip250)\" style=\"stroke:#ffff00; stroke-width:4; stroke-opacity:1; fill:none\" points=\"\n",
       "  1838.19,397.618 1984.18,397.618 \n",
       "  \"/>\n",
       "<circle clip-path=\"url(#clip250)\" cx=\"1911.19\" cy=\"397.618\" r=\"23\" fill=\"#ffff00\" fill-rule=\"evenodd\" fill-opacity=\"1\" stroke=\"#000000\" stroke-opacity=\"1\" stroke-width=\"6.82667\"/>\n",
       "<path clip-path=\"url(#clip250)\" d=\"M 0 0 M2015.92 381.611 L2015.92 388.972 L2024.69 388.972 L2024.69 392.282 L2015.92 392.282 L2015.92 406.356 Q2015.92 409.527 2016.77 410.43 Q2017.65 411.333 2020.31 411.333 L2024.69 411.333 L2024.69 414.898 L2020.31 414.898 Q2015.38 414.898 2013.51 413.069 Q2011.63 411.217 2011.63 406.356 L2011.63 392.282 L2008.51 392.282 L2008.51 388.972 L2011.63 388.972 L2011.63 381.611 L2015.92 381.611 Z\" fill=\"#000000\" fill-rule=\"evenodd\" fill-opacity=\"1\" /><path clip-path=\"url(#clip250)\" d=\"M 0 0 M2061.29 392.907 L2061.29 378.879 L2065.55 378.879 L2065.55 414.898 L2061.29 414.898 L2061.29 411.009 Q2059.94 413.323 2057.88 414.458 Q2055.85 415.569 2052.98 415.569 Q2048.28 415.569 2045.31 411.819 Q2042.37 408.069 2042.37 401.958 Q2042.37 395.847 2045.31 392.097 Q2048.28 388.347 2052.98 388.347 Q2055.85 388.347 2057.88 389.481 Q2059.94 390.592 2061.29 392.907 M2046.77 401.958 Q2046.77 406.657 2048.69 409.342 Q2050.64 412.004 2054.02 412.004 Q2057.4 412.004 2059.34 409.342 Q2061.29 406.657 2061.29 401.958 Q2061.29 397.259 2059.34 394.597 Q2057.4 391.912 2054.02 391.912 Q2050.64 391.912 2048.69 394.597 Q2046.77 397.259 2046.77 401.958 Z\" fill=\"#000000\" fill-rule=\"evenodd\" fill-opacity=\"1\" /><path clip-path=\"url(#clip250)\" d=\"M 0 0 M2070.01 378.879 L2074.27 378.879 L2074.27 414.898 L2070.01 414.898 L2070.01 378.879 Z\" fill=\"#000000\" fill-rule=\"evenodd\" fill-opacity=\"1\" /><path clip-path=\"url(#clip250)\" d=\"M 0 0 M2090.52 401.865 Q2085.36 401.865 2083.37 403.046 Q2081.38 404.226 2081.38 407.074 Q2081.38 409.342 2082.86 410.685 Q2084.37 412.004 2086.93 412.004 Q2090.48 412.004 2092.61 409.504 Q2094.76 406.981 2094.76 402.814 L2094.76 401.865 L2090.52 401.865 M2099.02 400.106 L2099.02 414.898 L2094.76 414.898 L2094.76 410.962 Q2093.3 413.323 2091.12 414.458 Q2088.95 415.569 2085.8 415.569 Q2081.82 415.569 2079.46 413.347 Q2077.12 411.101 2077.12 407.351 Q2077.12 402.976 2080.04 400.754 Q2082.98 398.532 2088.79 398.532 L2094.76 398.532 L2094.76 398.115 Q2094.76 395.175 2092.81 393.578 Q2090.89 391.958 2087.4 391.958 Q2085.18 391.958 2083.07 392.49 Q2080.96 393.023 2079.02 394.087 L2079.02 390.152 Q2081.36 389.25 2083.56 388.81 Q2085.75 388.347 2087.84 388.347 Q2093.46 388.347 2096.24 391.263 Q2099.02 394.18 2099.02 400.106 Z\" fill=\"#000000\" fill-rule=\"evenodd\" fill-opacity=\"1\" /><path clip-path=\"url(#clip250)\" d=\"M 0 0 M2119.97 410.962 L2127.61 410.962 L2127.61 384.597 L2119.3 386.263 L2119.3 382.004 L2127.56 380.338 L2132.24 380.338 L2132.24 410.962 L2139.87 410.962 L2139.87 414.898 L2119.97 414.898 L2119.97 410.962 Z\" fill=\"#000000\" fill-rule=\"evenodd\" fill-opacity=\"1\" /><path clip-path=\"url(#clip250)\" d=\"M 0 0 M2154.94 383.416 Q2151.33 383.416 2149.5 386.981 Q2147.7 390.523 2147.7 397.652 Q2147.7 404.759 2149.5 408.324 Q2151.33 411.865 2154.94 411.865 Q2158.58 411.865 2160.38 408.324 Q2162.21 404.759 2162.21 397.652 Q2162.21 390.523 2160.38 386.981 Q2158.58 383.416 2154.94 383.416 M2154.94 379.713 Q2160.75 379.713 2163.81 384.319 Q2166.89 388.902 2166.89 397.652 Q2166.89 406.379 2163.81 410.986 Q2160.75 415.569 2154.94 415.569 Q2149.13 415.569 2146.05 410.986 Q2143 406.379 2143 397.652 Q2143 388.902 2146.05 384.319 Q2149.13 379.713 2154.94 379.713 Z\" fill=\"#000000\" fill-rule=\"evenodd\" fill-opacity=\"1\" /><path clip-path=\"url(#clip250)\" d=\"M 0 0 M2181.96 383.416 Q2178.35 383.416 2176.52 386.981 Q2174.71 390.523 2174.71 397.652 Q2174.71 404.759 2176.52 408.324 Q2178.35 411.865 2181.96 411.865 Q2185.59 411.865 2187.4 408.324 Q2189.23 404.759 2189.23 397.652 Q2189.23 390.523 2187.4 386.981 Q2185.59 383.416 2181.96 383.416 M2181.96 379.713 Q2187.77 379.713 2190.82 384.319 Q2193.9 388.902 2193.9 397.652 Q2193.9 406.379 2190.82 410.986 Q2187.77 415.569 2181.96 415.569 Q2176.15 415.569 2173.07 410.986 Q2170.01 406.379 2170.01 397.652 Q2170.01 388.902 2173.07 384.319 Q2176.15 379.713 2181.96 379.713 Z\" fill=\"#000000\" fill-rule=\"evenodd\" fill-opacity=\"1\" /><path clip-path=\"url(#clip250)\" d=\"M 0 0 M2208.97 383.416 Q2205.36 383.416 2203.53 386.981 Q2201.73 390.523 2201.73 397.652 Q2201.73 404.759 2203.53 408.324 Q2205.36 411.865 2208.97 411.865 Q2212.61 411.865 2214.41 408.324 Q2216.24 404.759 2216.24 397.652 Q2216.24 390.523 2214.41 386.981 Q2212.61 383.416 2208.97 383.416 M2208.97 379.713 Q2214.78 379.713 2217.84 384.319 Q2220.92 388.902 2220.92 397.652 Q2220.92 406.379 2217.84 410.986 Q2214.78 415.569 2208.97 415.569 Q2203.16 415.569 2200.08 410.986 Q2197.03 406.379 2197.03 397.652 Q2197.03 388.902 2200.08 384.319 Q2203.16 379.713 2208.97 379.713 Z\" fill=\"#000000\" fill-rule=\"evenodd\" fill-opacity=\"1\" /><polyline clip-path=\"url(#clip250)\" style=\"stroke:#ff0000; stroke-width:4; stroke-opacity:1; fill:none\" points=\"\n",
       "  1838.19,458.098 1984.18,458.098 \n",
       "  \"/>\n",
       "<circle clip-path=\"url(#clip250)\" cx=\"1911.19\" cy=\"458.098\" r=\"23\" fill=\"#ff0000\" fill-rule=\"evenodd\" fill-opacity=\"1\" stroke=\"#000000\" stroke-opacity=\"1\" stroke-width=\"6.82667\"/>\n",
       "<path clip-path=\"url(#clip250)\" d=\"M 0 0 M2015.92 442.091 L2015.92 449.452 L2024.69 449.452 L2024.69 452.762 L2015.92 452.762 L2015.92 466.836 Q2015.92 470.007 2016.77 470.91 Q2017.65 471.813 2020.31 471.813 L2024.69 471.813 L2024.69 475.378 L2020.31 475.378 Q2015.38 475.378 2013.51 473.549 Q2011.63 471.697 2011.63 466.836 L2011.63 452.762 L2008.51 452.762 L2008.51 449.452 L2011.63 449.452 L2011.63 442.091 L2015.92 442.091 Z\" fill=\"#000000\" fill-rule=\"evenodd\" fill-opacity=\"1\" /><path clip-path=\"url(#clip250)\" d=\"M 0 0 M2061.29 453.387 L2061.29 439.359 L2065.55 439.359 L2065.55 475.378 L2061.29 475.378 L2061.29 471.489 Q2059.94 473.803 2057.88 474.938 Q2055.85 476.049 2052.98 476.049 Q2048.28 476.049 2045.31 472.299 Q2042.37 468.549 2042.37 462.438 Q2042.37 456.327 2045.31 452.577 Q2048.28 448.827 2052.98 448.827 Q2055.85 448.827 2057.88 449.961 Q2059.94 451.072 2061.29 453.387 M2046.77 462.438 Q2046.77 467.137 2048.69 469.822 Q2050.64 472.484 2054.02 472.484 Q2057.4 472.484 2059.34 469.822 Q2061.29 467.137 2061.29 462.438 Q2061.29 457.739 2059.34 455.077 Q2057.4 452.392 2054.02 452.392 Q2050.64 452.392 2048.69 455.077 Q2046.77 457.739 2046.77 462.438 Z\" fill=\"#000000\" fill-rule=\"evenodd\" fill-opacity=\"1\" /><path clip-path=\"url(#clip250)\" d=\"M 0 0 M2070.01 439.359 L2074.27 439.359 L2074.27 475.378 L2070.01 475.378 L2070.01 439.359 Z\" fill=\"#000000\" fill-rule=\"evenodd\" fill-opacity=\"1\" /><path clip-path=\"url(#clip250)\" d=\"M 0 0 M2090.52 462.345 Q2085.36 462.345 2083.37 463.526 Q2081.38 464.706 2081.38 467.554 Q2081.38 469.822 2082.86 471.165 Q2084.37 472.484 2086.93 472.484 Q2090.48 472.484 2092.61 469.984 Q2094.76 467.461 2094.76 463.294 L2094.76 462.345 L2090.52 462.345 M2099.02 460.586 L2099.02 475.378 L2094.76 475.378 L2094.76 471.442 Q2093.3 473.803 2091.12 474.938 Q2088.95 476.049 2085.8 476.049 Q2081.82 476.049 2079.46 473.827 Q2077.12 471.581 2077.12 467.831 Q2077.12 463.456 2080.04 461.234 Q2082.98 459.012 2088.79 459.012 L2094.76 459.012 L2094.76 458.595 Q2094.76 455.655 2092.81 454.058 Q2090.89 452.438 2087.4 452.438 Q2085.18 452.438 2083.07 452.97 Q2080.96 453.503 2079.02 454.567 L2079.02 450.632 Q2081.36 449.73 2083.56 449.29 Q2085.75 448.827 2087.84 448.827 Q2093.46 448.827 2096.24 451.743 Q2099.02 454.66 2099.02 460.586 Z\" fill=\"#000000\" fill-rule=\"evenodd\" fill-opacity=\"1\" /><path clip-path=\"url(#clip250)\" d=\"M 0 0 M2123.18 471.442 L2139.5 471.442 L2139.5 475.378 L2117.56 475.378 L2117.56 471.442 Q2120.22 468.688 2124.81 464.058 Q2129.41 459.405 2130.59 458.063 Q2132.84 455.54 2133.72 453.804 Q2134.62 452.044 2134.62 450.355 Q2134.62 447.6 2132.68 445.864 Q2130.75 444.128 2127.65 444.128 Q2125.45 444.128 2123 444.892 Q2120.57 445.655 2117.79 447.206 L2117.79 442.484 Q2120.62 441.35 2123.07 440.771 Q2125.52 440.193 2127.56 440.193 Q2132.93 440.193 2136.12 442.878 Q2139.32 445.563 2139.32 450.054 Q2139.32 452.183 2138.51 454.105 Q2137.72 456.003 2135.62 458.595 Q2135.04 459.267 2131.93 462.484 Q2128.83 465.679 2123.18 471.442 Z\" fill=\"#000000\" fill-rule=\"evenodd\" fill-opacity=\"1\" /><path clip-path=\"url(#clip250)\" d=\"M 0 0 M2154.57 443.896 Q2150.96 443.896 2149.13 447.461 Q2147.33 451.003 2147.33 458.132 Q2147.33 465.239 2149.13 468.804 Q2150.96 472.345 2154.57 472.345 Q2158.21 472.345 2160.01 468.804 Q2161.84 465.239 2161.84 458.132 Q2161.84 451.003 2160.01 447.461 Q2158.21 443.896 2154.57 443.896 M2154.57 440.193 Q2160.38 440.193 2163.44 444.799 Q2166.52 449.382 2166.52 458.132 Q2166.52 466.859 2163.44 471.466 Q2160.38 476.049 2154.57 476.049 Q2148.76 476.049 2145.68 471.466 Q2142.63 466.859 2142.63 458.132 Q2142.63 449.382 2145.68 444.799 Q2148.76 440.193 2154.57 440.193 Z\" fill=\"#000000\" fill-rule=\"evenodd\" fill-opacity=\"1\" /><path clip-path=\"url(#clip250)\" d=\"M 0 0 M2181.59 443.896 Q2177.98 443.896 2176.15 447.461 Q2174.34 451.003 2174.34 458.132 Q2174.34 465.239 2176.15 468.804 Q2177.98 472.345 2181.59 472.345 Q2185.22 472.345 2187.03 468.804 Q2188.86 465.239 2188.86 458.132 Q2188.86 451.003 2187.03 447.461 Q2185.22 443.896 2181.59 443.896 M2181.59 440.193 Q2187.4 440.193 2190.45 444.799 Q2193.53 449.382 2193.53 458.132 Q2193.53 466.859 2190.45 471.466 Q2187.4 476.049 2181.59 476.049 Q2175.78 476.049 2172.7 471.466 Q2169.64 466.859 2169.64 458.132 Q2169.64 449.382 2172.7 444.799 Q2175.78 440.193 2181.59 440.193 Z\" fill=\"#000000\" fill-rule=\"evenodd\" fill-opacity=\"1\" /><path clip-path=\"url(#clip250)\" d=\"M 0 0 M2208.6 443.896 Q2204.99 443.896 2203.16 447.461 Q2201.36 451.003 2201.36 458.132 Q2201.36 465.239 2203.16 468.804 Q2204.99 472.345 2208.6 472.345 Q2212.24 472.345 2214.04 468.804 Q2215.87 465.239 2215.87 458.132 Q2215.87 451.003 2214.04 447.461 Q2212.24 443.896 2208.6 443.896 M2208.6 440.193 Q2214.41 440.193 2217.47 444.799 Q2220.55 449.382 2220.55 458.132 Q2220.55 466.859 2217.47 471.466 Q2214.41 476.049 2208.6 476.049 Q2202.79 476.049 2199.71 471.466 Q2196.66 466.859 2196.66 458.132 Q2196.66 449.382 2199.71 444.799 Q2202.79 440.193 2208.6 440.193 Z\" fill=\"#000000\" fill-rule=\"evenodd\" fill-opacity=\"1\" /><polyline clip-path=\"url(#clip250)\" style=\"stroke:#ffc0cb; stroke-width:4; stroke-opacity:1; fill:none\" points=\"\n",
       "  1838.19,518.578 1984.18,518.578 \n",
       "  \"/>\n",
       "<circle clip-path=\"url(#clip250)\" cx=\"1911.19\" cy=\"518.578\" r=\"23\" fill=\"#ffc0cb\" fill-rule=\"evenodd\" fill-opacity=\"1\" stroke=\"#000000\" stroke-opacity=\"1\" stroke-width=\"6.82667\"/>\n",
       "<path clip-path=\"url(#clip250)\" d=\"M 0 0 M2015.92 502.571 L2015.92 509.932 L2024.69 509.932 L2024.69 513.242 L2015.92 513.242 L2015.92 527.316 Q2015.92 530.487 2016.77 531.39 Q2017.65 532.293 2020.31 532.293 L2024.69 532.293 L2024.69 535.858 L2020.31 535.858 Q2015.38 535.858 2013.51 534.029 Q2011.63 532.177 2011.63 527.316 L2011.63 513.242 L2008.51 513.242 L2008.51 509.932 L2011.63 509.932 L2011.63 502.571 L2015.92 502.571 Z\" fill=\"#000000\" fill-rule=\"evenodd\" fill-opacity=\"1\" /><path clip-path=\"url(#clip250)\" d=\"M 0 0 M2061.29 513.867 L2061.29 499.839 L2065.55 499.839 L2065.55 535.858 L2061.29 535.858 L2061.29 531.969 Q2059.94 534.283 2057.88 535.418 Q2055.85 536.529 2052.98 536.529 Q2048.28 536.529 2045.31 532.779 Q2042.37 529.029 2042.37 522.918 Q2042.37 516.807 2045.31 513.057 Q2048.28 509.307 2052.98 509.307 Q2055.85 509.307 2057.88 510.441 Q2059.94 511.552 2061.29 513.867 M2046.77 522.918 Q2046.77 527.617 2048.69 530.302 Q2050.64 532.964 2054.02 532.964 Q2057.4 532.964 2059.34 530.302 Q2061.29 527.617 2061.29 522.918 Q2061.29 518.219 2059.34 515.557 Q2057.4 512.872 2054.02 512.872 Q2050.64 512.872 2048.69 515.557 Q2046.77 518.219 2046.77 522.918 Z\" fill=\"#000000\" fill-rule=\"evenodd\" fill-opacity=\"1\" /><path clip-path=\"url(#clip250)\" d=\"M 0 0 M2070.01 499.839 L2074.27 499.839 L2074.27 535.858 L2070.01 535.858 L2070.01 499.839 Z\" fill=\"#000000\" fill-rule=\"evenodd\" fill-opacity=\"1\" /><path clip-path=\"url(#clip250)\" d=\"M 0 0 M2090.52 522.825 Q2085.36 522.825 2083.37 524.006 Q2081.38 525.186 2081.38 528.034 Q2081.38 530.302 2082.86 531.645 Q2084.37 532.964 2086.93 532.964 Q2090.48 532.964 2092.61 530.464 Q2094.76 527.941 2094.76 523.774 L2094.76 522.825 L2090.52 522.825 M2099.02 521.066 L2099.02 535.858 L2094.76 535.858 L2094.76 531.922 Q2093.3 534.283 2091.12 535.418 Q2088.95 536.529 2085.8 536.529 Q2081.82 536.529 2079.46 534.307 Q2077.12 532.061 2077.12 528.311 Q2077.12 523.936 2080.04 521.714 Q2082.98 519.492 2088.79 519.492 L2094.76 519.492 L2094.76 519.075 Q2094.76 516.135 2092.81 514.538 Q2090.89 512.918 2087.4 512.918 Q2085.18 512.918 2083.07 513.45 Q2080.96 513.983 2079.02 515.047 L2079.02 511.112 Q2081.36 510.21 2083.56 509.77 Q2085.75 509.307 2087.84 509.307 Q2093.46 509.307 2096.24 512.223 Q2099.02 515.14 2099.02 521.066 Z\" fill=\"#000000\" fill-rule=\"evenodd\" fill-opacity=\"1\" /><path clip-path=\"url(#clip250)\" d=\"M 0 0 M2119.2 501.298 L2137.56 501.298 L2137.56 505.233 L2123.49 505.233 L2123.49 513.705 Q2124.5 513.358 2125.52 513.196 Q2126.54 513.01 2127.56 513.01 Q2133.35 513.01 2136.73 516.182 Q2140.11 519.353 2140.11 524.77 Q2140.11 530.348 2136.63 533.45 Q2133.16 536.529 2126.84 536.529 Q2124.67 536.529 2122.4 536.158 Q2120.15 535.788 2117.74 535.047 L2117.74 530.348 Q2119.83 531.483 2122.05 532.038 Q2124.27 532.594 2126.75 532.594 Q2130.75 532.594 2133.09 530.487 Q2135.43 528.381 2135.43 524.77 Q2135.43 521.159 2133.09 519.052 Q2130.75 516.946 2126.75 516.946 Q2124.87 516.946 2123 517.362 Q2121.15 517.779 2119.2 518.659 L2119.2 501.298 Z\" fill=\"#000000\" fill-rule=\"evenodd\" fill-opacity=\"1\" /><path clip-path=\"url(#clip250)\" d=\"M 0 0 M2155.18 504.376 Q2151.56 504.376 2149.74 507.941 Q2147.93 511.483 2147.93 518.612 Q2147.93 525.719 2149.74 529.284 Q2151.56 532.825 2155.18 532.825 Q2158.81 532.825 2160.62 529.284 Q2162.44 525.719 2162.44 518.612 Q2162.44 511.483 2160.62 507.941 Q2158.81 504.376 2155.18 504.376 M2155.18 500.673 Q2160.99 500.673 2164.04 505.279 Q2167.12 509.862 2167.12 518.612 Q2167.12 527.339 2164.04 531.946 Q2160.99 536.529 2155.18 536.529 Q2149.37 536.529 2146.29 531.946 Q2143.23 527.339 2143.23 518.612 Q2143.23 509.862 2146.29 505.279 Q2149.37 500.673 2155.18 500.673 Z\" fill=\"#000000\" fill-rule=\"evenodd\" fill-opacity=\"1\" /><path clip-path=\"url(#clip250)\" d=\"M 0 0 M2182.19 504.376 Q2178.58 504.376 2176.75 507.941 Q2174.94 511.483 2174.94 518.612 Q2174.94 525.719 2176.75 529.284 Q2178.58 532.825 2182.19 532.825 Q2185.82 532.825 2187.63 529.284 Q2189.46 525.719 2189.46 518.612 Q2189.46 511.483 2187.63 507.941 Q2185.82 504.376 2182.19 504.376 M2182.19 500.673 Q2188 500.673 2191.05 505.279 Q2194.13 509.862 2194.13 518.612 Q2194.13 527.339 2191.05 531.946 Q2188 536.529 2182.19 536.529 Q2176.38 536.529 2173.3 531.946 Q2170.24 527.339 2170.24 518.612 Q2170.24 509.862 2173.3 505.279 Q2176.38 500.673 2182.19 500.673 Z\" fill=\"#000000\" fill-rule=\"evenodd\" fill-opacity=\"1\" /><path clip-path=\"url(#clip250)\" d=\"M 0 0 M2199.2 529.978 L2204.09 529.978 L2204.09 535.858 L2199.2 535.858 L2199.2 529.978 Z\" fill=\"#000000\" fill-rule=\"evenodd\" fill-opacity=\"1\" /><path clip-path=\"url(#clip250)\" d=\"M 0 0 M2219.16 504.376 Q2215.55 504.376 2213.72 507.941 Q2211.91 511.483 2211.91 518.612 Q2211.91 525.719 2213.72 529.284 Q2215.55 532.825 2219.16 532.825 Q2222.79 532.825 2224.6 529.284 Q2226.42 525.719 2226.42 518.612 Q2226.42 511.483 2224.6 507.941 Q2222.79 504.376 2219.16 504.376 M2219.16 500.673 Q2224.97 500.673 2228.02 505.279 Q2231.1 509.862 2231.1 518.612 Q2231.1 527.339 2228.02 531.946 Q2224.97 536.529 2219.16 536.529 Q2213.35 536.529 2210.27 531.946 Q2207.21 527.339 2207.21 518.612 Q2207.21 509.862 2210.27 505.279 Q2213.35 500.673 2219.16 500.673 Z\" fill=\"#000000\" fill-rule=\"evenodd\" fill-opacity=\"1\" /></svg>\n"
      ]
     },
     "execution_count": 657,
     "metadata": {},
     "output_type": "execute_result"
    }
   ],
   "source": [
    "plot!([time₀], [MIC], markers = :circle, color=\"yellow\", markersize = 3,label=\"t dla $X₀\")\n",
    "plot!([time₂], [MIC], markers = :circle, color=\"red\", markersize = 3,label=\"t dla $X₂\")\n",
    "plot!([time₃], [MIC], markers = :circle, color=\"pink\", markersize = 3,label=\"t dla $X₃\")"
   ]
  },
  {
   "cell_type": "markdown",
   "metadata": {},
   "source": [
    "Można tutaj zauważyć, że im większa dawka tym czas po którym aplikacja leku powinna być powtórzona będzie większy. Jednak warto zauważyć, że istnieje coś takiego jak minimalne stężenie toksyczne. \n",
    "\n",
    "Przyjmijmy że w naszym wypadku, że będzie ono wynosić 200 mg/l sprawia, że już dawka 2000 mg będzie osiągała to minimum i tym samym będzie już szkodliwa. "
   ]
  },
  {
   "cell_type": "code",
   "execution_count": 658,
   "metadata": {},
   "outputs": [
    {
     "data": {
      "image/svg+xml": [
       "<?xml version=\"1.0\" encoding=\"utf-8\"?>\n",
       "<svg xmlns=\"http://www.w3.org/2000/svg\" xmlns:xlink=\"http://www.w3.org/1999/xlink\" width=\"600\" height=\"400\" viewBox=\"0 0 2400 1600\">\n",
       "<defs>\n",
       "  <clipPath id=\"clip290\">\n",
       "    <rect x=\"0\" y=\"0\" width=\"2400\" height=\"1600\"/>\n",
       "  </clipPath>\n",
       "</defs>\n",
       "<path clip-path=\"url(#clip290)\" d=\"\n",
       "M0 1600 L2400 1600 L2400 0 L0 0  Z\n",
       "  \" fill=\"#ffffff\" fill-rule=\"evenodd\" fill-opacity=\"1\"/>\n",
       "<defs>\n",
       "  <clipPath id=\"clip291\">\n",
       "    <rect x=\"480\" y=\"0\" width=\"1681\" height=\"1600\"/>\n",
       "  </clipPath>\n",
       "</defs>\n",
       "<path clip-path=\"url(#clip290)\" d=\"\n",
       "M162.964 1486.45 L2352.76 1486.45 L2352.76 47.2441 L162.964 47.2441  Z\n",
       "  \" fill=\"#ffffff\" fill-rule=\"evenodd\" fill-opacity=\"1\"/>\n",
       "<defs>\n",
       "  <clipPath id=\"clip292\">\n",
       "    <rect x=\"162\" y=\"47\" width=\"2191\" height=\"1440\"/>\n",
       "  </clipPath>\n",
       "</defs>\n",
       "<polyline clip-path=\"url(#clip292)\" style=\"stroke:#000000; stroke-width:2; stroke-opacity:0.1; fill:none\" points=\"\n",
       "  224.939,1486.45 224.939,47.2441 \n",
       "  \"/>\n",
       "<polyline clip-path=\"url(#clip292)\" style=\"stroke:#000000; stroke-width:2; stroke-opacity:0.1; fill:none\" points=\"\n",
       "  655.323,1486.45 655.323,47.2441 \n",
       "  \"/>\n",
       "<polyline clip-path=\"url(#clip292)\" style=\"stroke:#000000; stroke-width:2; stroke-opacity:0.1; fill:none\" points=\"\n",
       "  1085.71,1486.45 1085.71,47.2441 \n",
       "  \"/>\n",
       "<polyline clip-path=\"url(#clip292)\" style=\"stroke:#000000; stroke-width:2; stroke-opacity:0.1; fill:none\" points=\"\n",
       "  1516.09,1486.45 1516.09,47.2441 \n",
       "  \"/>\n",
       "<polyline clip-path=\"url(#clip292)\" style=\"stroke:#000000; stroke-width:2; stroke-opacity:0.1; fill:none\" points=\"\n",
       "  1946.47,1486.45 1946.47,47.2441 \n",
       "  \"/>\n",
       "<polyline clip-path=\"url(#clip290)\" style=\"stroke:#000000; stroke-width:4; stroke-opacity:1; fill:none\" points=\"\n",
       "  162.964,1486.45 2352.76,1486.45 \n",
       "  \"/>\n",
       "<polyline clip-path=\"url(#clip290)\" style=\"stroke:#000000; stroke-width:4; stroke-opacity:1; fill:none\" points=\"\n",
       "  224.939,1486.45 224.939,1469.18 \n",
       "  \"/>\n",
       "<polyline clip-path=\"url(#clip290)\" style=\"stroke:#000000; stroke-width:4; stroke-opacity:1; fill:none\" points=\"\n",
       "  655.323,1486.45 655.323,1469.18 \n",
       "  \"/>\n",
       "<polyline clip-path=\"url(#clip290)\" style=\"stroke:#000000; stroke-width:4; stroke-opacity:1; fill:none\" points=\"\n",
       "  1085.71,1486.45 1085.71,1469.18 \n",
       "  \"/>\n",
       "<polyline clip-path=\"url(#clip290)\" style=\"stroke:#000000; stroke-width:4; stroke-opacity:1; fill:none\" points=\"\n",
       "  1516.09,1486.45 1516.09,1469.18 \n",
       "  \"/>\n",
       "<polyline clip-path=\"url(#clip290)\" style=\"stroke:#000000; stroke-width:4; stroke-opacity:1; fill:none\" points=\"\n",
       "  1946.47,1486.45 1946.47,1469.18 \n",
       "  \"/>\n",
       "<path clip-path=\"url(#clip290)\" d=\"M 0 0 M206.455 1515.64 Q202.844 1515.64 201.016 1519.2 Q199.21 1522.75 199.21 1529.87 Q199.21 1536.98 201.016 1540.55 Q202.844 1544.09 206.455 1544.09 Q210.09 1544.09 211.895 1540.55 Q213.724 1536.98 213.724 1529.87 Q213.724 1522.75 211.895 1519.2 Q210.09 1515.64 206.455 1515.64 M206.455 1511.93 Q212.266 1511.93 215.321 1516.54 Q218.4 1521.12 218.4 1529.87 Q218.4 1538.6 215.321 1543.21 Q212.266 1547.79 206.455 1547.79 Q200.645 1547.79 197.567 1543.21 Q194.511 1538.6 194.511 1529.87 Q194.511 1521.12 197.567 1516.54 Q200.645 1511.93 206.455 1511.93 Z\" fill=\"#000000\" fill-rule=\"evenodd\" fill-opacity=\"1\" /><path clip-path=\"url(#clip290)\" d=\"M 0 0 M223.469 1541.24 L228.354 1541.24 L228.354 1547.12 L223.469 1547.12 L223.469 1541.24 Z\" fill=\"#000000\" fill-rule=\"evenodd\" fill-opacity=\"1\" /><path clip-path=\"url(#clip290)\" d=\"M 0 0 M243.423 1515.64 Q239.812 1515.64 237.983 1519.2 Q236.178 1522.75 236.178 1529.87 Q236.178 1536.98 237.983 1540.55 Q239.812 1544.09 243.423 1544.09 Q247.057 1544.09 248.863 1540.55 Q250.691 1536.98 250.691 1529.87 Q250.691 1522.75 248.863 1519.2 Q247.057 1515.64 243.423 1515.64 M243.423 1511.93 Q249.233 1511.93 252.289 1516.54 Q255.367 1521.12 255.367 1529.87 Q255.367 1538.6 252.289 1543.21 Q249.233 1547.79 243.423 1547.79 Q237.613 1547.79 234.534 1543.21 Q231.479 1538.6 231.479 1529.87 Q231.479 1521.12 234.534 1516.54 Q237.613 1511.93 243.423 1511.93 Z\" fill=\"#000000\" fill-rule=\"evenodd\" fill-opacity=\"1\" /><path clip-path=\"url(#clip290)\" d=\"M 0 0 M631.99 1543.18 L648.309 1543.18 L648.309 1547.12 L626.365 1547.12 L626.365 1543.18 Q629.027 1540.43 633.61 1535.8 Q638.216 1531.15 639.397 1529.81 Q641.642 1527.28 642.522 1525.55 Q643.425 1523.79 643.425 1522.1 Q643.425 1519.34 641.48 1517.61 Q639.559 1515.87 636.457 1515.87 Q634.258 1515.87 631.804 1516.63 Q629.374 1517.4 626.596 1518.95 L626.596 1514.23 Q629.42 1513.09 631.874 1512.51 Q634.328 1511.93 636.365 1511.93 Q641.735 1511.93 644.929 1514.62 Q648.124 1517.31 648.124 1521.8 Q648.124 1523.93 647.314 1525.85 Q646.527 1527.74 644.42 1530.34 Q643.841 1531.01 640.74 1534.23 Q637.638 1537.42 631.99 1543.18 Z\" fill=\"#000000\" fill-rule=\"evenodd\" fill-opacity=\"1\" /><path clip-path=\"url(#clip290)\" d=\"M 0 0 M653.378 1541.24 L658.263 1541.24 L658.263 1547.12 L653.378 1547.12 L653.378 1541.24 Z\" fill=\"#000000\" fill-rule=\"evenodd\" fill-opacity=\"1\" /><path clip-path=\"url(#clip290)\" d=\"M 0 0 M663.378 1512.56 L681.735 1512.56 L681.735 1516.5 L667.661 1516.5 L667.661 1524.97 Q668.679 1524.62 669.698 1524.46 Q670.716 1524.27 671.735 1524.27 Q677.522 1524.27 680.901 1527.44 Q684.281 1530.62 684.281 1536.03 Q684.281 1541.61 680.809 1544.71 Q677.337 1547.79 671.017 1547.79 Q668.841 1547.79 666.573 1547.42 Q664.327 1547.05 661.92 1546.31 L661.92 1541.61 Q664.003 1542.74 666.226 1543.3 Q668.448 1543.86 670.925 1543.86 Q674.929 1543.86 677.267 1541.75 Q679.605 1539.64 679.605 1536.03 Q679.605 1532.42 677.267 1530.31 Q674.929 1528.21 670.925 1528.21 Q669.05 1528.21 667.175 1528.62 Q665.323 1529.04 663.378 1529.92 L663.378 1512.56 Z\" fill=\"#000000\" fill-rule=\"evenodd\" fill-opacity=\"1\" /><path clip-path=\"url(#clip290)\" d=\"M 0 0 M1057.5 1512.56 L1075.86 1512.56 L1075.86 1516.5 L1061.78 1516.5 L1061.78 1524.97 Q1062.8 1524.62 1063.82 1524.46 Q1064.84 1524.27 1065.86 1524.27 Q1071.64 1524.27 1075.02 1527.44 Q1078.4 1530.62 1078.4 1536.03 Q1078.4 1541.61 1074.93 1544.71 Q1071.46 1547.79 1065.14 1547.79 Q1062.96 1547.79 1060.7 1547.42 Q1058.45 1547.05 1056.04 1546.31 L1056.04 1541.61 Q1058.13 1542.74 1060.35 1543.3 Q1062.57 1543.86 1065.05 1543.86 Q1069.05 1543.86 1071.39 1541.75 Q1073.73 1539.64 1073.73 1536.03 Q1073.73 1532.42 1071.39 1530.31 Q1069.05 1528.21 1065.05 1528.21 Q1063.17 1528.21 1061.3 1528.62 Q1059.45 1529.04 1057.5 1529.92 L1057.5 1512.56 Z\" fill=\"#000000\" fill-rule=\"evenodd\" fill-opacity=\"1\" /><path clip-path=\"url(#clip290)\" d=\"M 0 0 M1083.47 1541.24 L1088.36 1541.24 L1088.36 1547.12 L1083.47 1547.12 L1083.47 1541.24 Z\" fill=\"#000000\" fill-rule=\"evenodd\" fill-opacity=\"1\" /><path clip-path=\"url(#clip290)\" d=\"M 0 0 M1103.43 1515.64 Q1099.82 1515.64 1097.99 1519.2 Q1096.18 1522.75 1096.18 1529.87 Q1096.18 1536.98 1097.99 1540.55 Q1099.82 1544.09 1103.43 1544.09 Q1107.06 1544.09 1108.87 1540.55 Q1110.69 1536.98 1110.69 1529.87 Q1110.69 1522.75 1108.87 1519.2 Q1107.06 1515.64 1103.43 1515.64 M1103.43 1511.93 Q1109.24 1511.93 1112.29 1516.54 Q1115.37 1521.12 1115.37 1529.87 Q1115.37 1538.6 1112.29 1543.21 Q1109.24 1547.79 1103.43 1547.79 Q1097.62 1547.79 1094.54 1543.21 Q1091.48 1538.6 1091.48 1529.87 Q1091.48 1521.12 1094.54 1516.54 Q1097.62 1511.93 1103.43 1511.93 Z\" fill=\"#000000\" fill-rule=\"evenodd\" fill-opacity=\"1\" /><path clip-path=\"url(#clip290)\" d=\"M 0 0 M1486.99 1512.56 L1509.22 1512.56 L1509.22 1514.55 L1496.67 1547.12 L1491.78 1547.12 L1503.59 1516.5 L1486.99 1516.5 L1486.99 1512.56 Z\" fill=\"#000000\" fill-rule=\"evenodd\" fill-opacity=\"1\" /><path clip-path=\"url(#clip290)\" d=\"M 0 0 M1514.28 1541.24 L1519.17 1541.24 L1519.17 1547.12 L1514.28 1547.12 L1514.28 1541.24 Z\" fill=\"#000000\" fill-rule=\"evenodd\" fill-opacity=\"1\" /><path clip-path=\"url(#clip290)\" d=\"M 0 0 M1524.28 1512.56 L1542.64 1512.56 L1542.64 1516.5 L1528.57 1516.5 L1528.57 1524.97 Q1529.59 1524.62 1530.6 1524.46 Q1531.62 1524.27 1532.64 1524.27 Q1538.43 1524.27 1541.81 1527.44 Q1545.19 1530.62 1545.19 1536.03 Q1545.19 1541.61 1541.71 1544.71 Q1538.24 1547.79 1531.92 1547.79 Q1529.75 1547.79 1527.48 1547.42 Q1525.23 1547.05 1522.83 1546.31 L1522.83 1541.61 Q1524.91 1542.74 1527.13 1543.3 Q1529.35 1543.86 1531.83 1543.86 Q1535.84 1543.86 1538.17 1541.75 Q1540.51 1539.64 1540.51 1536.03 Q1540.51 1532.42 1538.17 1530.31 Q1535.84 1528.21 1531.83 1528.21 Q1529.96 1528.21 1528.08 1528.62 Q1526.23 1529.04 1524.28 1529.92 L1524.28 1512.56 Z\" fill=\"#000000\" fill-rule=\"evenodd\" fill-opacity=\"1\" /><path clip-path=\"url(#clip290)\" d=\"M 0 0 M1904.87 1543.18 L1912.5 1543.18 L1912.5 1516.82 L1904.19 1518.49 L1904.19 1514.23 L1912.46 1512.56 L1917.13 1512.56 L1917.13 1543.18 L1924.77 1543.18 L1924.77 1547.12 L1904.87 1547.12 L1904.87 1543.18 Z\" fill=\"#000000\" fill-rule=\"evenodd\" fill-opacity=\"1\" /><path clip-path=\"url(#clip290)\" d=\"M 0 0 M1939.84 1515.64 Q1936.23 1515.64 1934.4 1519.2 Q1932.6 1522.75 1932.6 1529.87 Q1932.6 1536.98 1934.4 1540.55 Q1936.23 1544.09 1939.84 1544.09 Q1943.48 1544.09 1945.28 1540.55 Q1947.11 1536.98 1947.11 1529.87 Q1947.11 1522.75 1945.28 1519.2 Q1943.48 1515.64 1939.84 1515.64 M1939.84 1511.93 Q1945.65 1511.93 1948.71 1516.54 Q1951.79 1521.12 1951.79 1529.87 Q1951.79 1538.6 1948.71 1543.21 Q1945.65 1547.79 1939.84 1547.79 Q1934.03 1547.79 1930.95 1543.21 Q1927.9 1538.6 1927.9 1529.87 Q1927.9 1521.12 1930.95 1516.54 Q1934.03 1511.93 1939.84 1511.93 Z\" fill=\"#000000\" fill-rule=\"evenodd\" fill-opacity=\"1\" /><path clip-path=\"url(#clip290)\" d=\"M 0 0 M1956.86 1541.24 L1961.74 1541.24 L1961.74 1547.12 L1956.86 1547.12 L1956.86 1541.24 Z\" fill=\"#000000\" fill-rule=\"evenodd\" fill-opacity=\"1\" /><path clip-path=\"url(#clip290)\" d=\"M 0 0 M1976.81 1515.64 Q1973.2 1515.64 1971.37 1519.2 Q1969.56 1522.75 1969.56 1529.87 Q1969.56 1536.98 1971.37 1540.55 Q1973.2 1544.09 1976.81 1544.09 Q1980.44 1544.09 1982.25 1540.55 Q1984.08 1536.98 1984.08 1529.87 Q1984.08 1522.75 1982.25 1519.2 Q1980.44 1515.64 1976.81 1515.64 M1976.81 1511.93 Q1982.62 1511.93 1985.67 1516.54 Q1988.75 1521.12 1988.75 1529.87 Q1988.75 1538.6 1985.67 1543.21 Q1982.62 1547.79 1976.81 1547.79 Q1971 1547.79 1967.92 1543.21 Q1964.86 1538.6 1964.86 1529.87 Q1964.86 1521.12 1967.92 1516.54 Q1971 1511.93 1976.81 1511.93 Z\" fill=\"#000000\" fill-rule=\"evenodd\" fill-opacity=\"1\" /><polyline clip-path=\"url(#clip292)\" style=\"stroke:#000000; stroke-width:2; stroke-opacity:0.1; fill:none\" points=\"\n",
       "  162.964,1445.72 2352.76,1445.72 \n",
       "  \"/>\n",
       "<polyline clip-path=\"url(#clip292)\" style=\"stroke:#000000; stroke-width:2; stroke-opacity:0.1; fill:none\" points=\"\n",
       "  162.964,1181.97 2352.76,1181.97 \n",
       "  \"/>\n",
       "<polyline clip-path=\"url(#clip292)\" style=\"stroke:#000000; stroke-width:2; stroke-opacity:0.1; fill:none\" points=\"\n",
       "  162.964,918.234 2352.76,918.234 \n",
       "  \"/>\n",
       "<polyline clip-path=\"url(#clip292)\" style=\"stroke:#000000; stroke-width:2; stroke-opacity:0.1; fill:none\" points=\"\n",
       "  162.964,654.493 2352.76,654.493 \n",
       "  \"/>\n",
       "<polyline clip-path=\"url(#clip292)\" style=\"stroke:#000000; stroke-width:2; stroke-opacity:0.1; fill:none\" points=\"\n",
       "  162.964,390.752 2352.76,390.752 \n",
       "  \"/>\n",
       "<polyline clip-path=\"url(#clip292)\" style=\"stroke:#000000; stroke-width:2; stroke-opacity:0.1; fill:none\" points=\"\n",
       "  162.964,127.011 2352.76,127.011 \n",
       "  \"/>\n",
       "<polyline clip-path=\"url(#clip290)\" style=\"stroke:#000000; stroke-width:4; stroke-opacity:1; fill:none\" points=\"\n",
       "  162.964,1486.45 162.964,47.2441 \n",
       "  \"/>\n",
       "<polyline clip-path=\"url(#clip290)\" style=\"stroke:#000000; stroke-width:4; stroke-opacity:1; fill:none\" points=\"\n",
       "  162.964,1445.72 189.241,1445.72 \n",
       "  \"/>\n",
       "<polyline clip-path=\"url(#clip290)\" style=\"stroke:#000000; stroke-width:4; stroke-opacity:1; fill:none\" points=\"\n",
       "  162.964,1181.97 189.241,1181.97 \n",
       "  \"/>\n",
       "<polyline clip-path=\"url(#clip290)\" style=\"stroke:#000000; stroke-width:4; stroke-opacity:1; fill:none\" points=\"\n",
       "  162.964,918.234 189.241,918.234 \n",
       "  \"/>\n",
       "<polyline clip-path=\"url(#clip290)\" style=\"stroke:#000000; stroke-width:4; stroke-opacity:1; fill:none\" points=\"\n",
       "  162.964,654.493 189.241,654.493 \n",
       "  \"/>\n",
       "<polyline clip-path=\"url(#clip290)\" style=\"stroke:#000000; stroke-width:4; stroke-opacity:1; fill:none\" points=\"\n",
       "  162.964,390.752 189.241,390.752 \n",
       "  \"/>\n",
       "<polyline clip-path=\"url(#clip290)\" style=\"stroke:#000000; stroke-width:4; stroke-opacity:1; fill:none\" points=\"\n",
       "  162.964,127.011 189.241,127.011 \n",
       "  \"/>\n",
       "<path clip-path=\"url(#clip290)\" d=\"M 0 0 M115.02 1431.51 Q111.408 1431.51 109.58 1435.08 Q107.774 1438.62 107.774 1445.75 Q107.774 1452.86 109.58 1456.42 Q111.408 1459.96 115.02 1459.96 Q118.654 1459.96 120.459 1456.42 Q122.288 1452.86 122.288 1445.75 Q122.288 1438.62 120.459 1435.08 Q118.654 1431.51 115.02 1431.51 M115.02 1427.81 Q120.83 1427.81 123.885 1432.42 Q126.964 1437 126.964 1445.75 Q126.964 1454.48 123.885 1459.08 Q120.83 1463.67 115.02 1463.67 Q109.209 1463.67 106.131 1459.08 Q103.075 1454.48 103.075 1445.75 Q103.075 1437 106.131 1432.42 Q109.209 1427.81 115.02 1427.81 Z\" fill=\"#000000\" fill-rule=\"evenodd\" fill-opacity=\"1\" /><path clip-path=\"url(#clip290)\" d=\"M 0 0 M79.0475 1164.69 L97.4039 1164.69 L97.4039 1168.63 L83.3299 1168.63 L83.3299 1177.1 Q84.3484 1176.75 85.3669 1176.59 Q86.3855 1176.41 87.404 1176.41 Q93.191 1176.41 96.5706 1179.58 Q99.9502 1182.75 99.9502 1188.17 Q99.9502 1193.75 96.478 1196.85 Q93.0058 1199.93 86.6864 1199.93 Q84.5105 1199.93 82.242 1199.56 Q79.9966 1199.19 77.5892 1198.44 L77.5892 1193.75 Q79.6725 1194.88 81.8947 1195.44 Q84.1169 1195.99 86.5938 1195.99 Q90.5984 1195.99 92.9363 1193.88 Q95.2743 1191.78 95.2743 1188.17 Q95.2743 1184.56 92.9363 1182.45 Q90.5984 1180.34 86.5938 1180.34 Q84.7188 1180.34 82.8438 1180.76 Q80.992 1181.18 79.0475 1182.06 L79.0475 1164.69 Z\" fill=\"#000000\" fill-rule=\"evenodd\" fill-opacity=\"1\" /><path clip-path=\"url(#clip290)\" d=\"M 0 0 M115.02 1167.77 Q111.408 1167.77 109.58 1171.34 Q107.774 1174.88 107.774 1182.01 Q107.774 1189.12 109.58 1192.68 Q111.408 1196.22 115.02 1196.22 Q118.654 1196.22 120.459 1192.68 Q122.288 1189.12 122.288 1182.01 Q122.288 1174.88 120.459 1171.34 Q118.654 1167.77 115.02 1167.77 M115.02 1164.07 Q120.83 1164.07 123.885 1168.68 Q126.964 1173.26 126.964 1182.01 Q126.964 1190.74 123.885 1195.34 Q120.83 1199.93 115.02 1199.93 Q109.209 1199.93 106.131 1195.34 Q103.075 1190.74 103.075 1182.01 Q103.075 1173.26 106.131 1168.68 Q109.209 1164.07 115.02 1164.07 Z\" fill=\"#000000\" fill-rule=\"evenodd\" fill-opacity=\"1\" /><path clip-path=\"url(#clip290)\" d=\"M 0 0 M53.0292 931.579 L60.668 931.579 L60.668 905.213 L52.3579 906.88 L52.3579 902.621 L60.6217 900.954 L65.2976 900.954 L65.2976 931.579 L72.9365 931.579 L72.9365 935.514 L53.0292 935.514 L53.0292 931.579 Z\" fill=\"#000000\" fill-rule=\"evenodd\" fill-opacity=\"1\" /><path clip-path=\"url(#clip290)\" d=\"M 0 0 M88.0058 904.033 Q84.3947 904.033 82.566 907.597 Q80.7605 911.139 80.7605 918.269 Q80.7605 925.375 82.566 928.94 Q84.3947 932.482 88.0058 932.482 Q91.6401 932.482 93.4456 928.94 Q95.2743 925.375 95.2743 918.269 Q95.2743 911.139 93.4456 907.597 Q91.6401 904.033 88.0058 904.033 M88.0058 900.329 Q93.816 900.329 96.8715 904.935 Q99.9502 909.519 99.9502 918.269 Q99.9502 926.995 96.8715 931.602 Q93.816 936.185 88.0058 936.185 Q82.1957 936.185 79.117 931.602 Q76.0614 926.995 76.0614 918.269 Q76.0614 909.519 79.117 904.935 Q82.1957 900.329 88.0058 900.329 Z\" fill=\"#000000\" fill-rule=\"evenodd\" fill-opacity=\"1\" /><path clip-path=\"url(#clip290)\" d=\"M 0 0 M115.02 904.033 Q111.408 904.033 109.58 907.597 Q107.774 911.139 107.774 918.269 Q107.774 925.375 109.58 928.94 Q111.408 932.482 115.02 932.482 Q118.654 932.482 120.459 928.94 Q122.288 925.375 122.288 918.269 Q122.288 911.139 120.459 907.597 Q118.654 904.033 115.02 904.033 M115.02 900.329 Q120.83 900.329 123.885 904.935 Q126.964 909.519 126.964 918.269 Q126.964 926.995 123.885 931.602 Q120.83 936.185 115.02 936.185 Q109.209 936.185 106.131 931.602 Q103.075 926.995 103.075 918.269 Q103.075 909.519 106.131 904.935 Q109.209 900.329 115.02 900.329 Z\" fill=\"#000000\" fill-rule=\"evenodd\" fill-opacity=\"1\" /><path clip-path=\"url(#clip290)\" d=\"M 0 0 M54.0245 667.838 L61.6634 667.838 L61.6634 641.472 L53.3532 643.139 L53.3532 638.88 L61.6171 637.213 L66.293 637.213 L66.293 667.838 L73.9318 667.838 L73.9318 671.773 L54.0245 671.773 L54.0245 667.838 Z\" fill=\"#000000\" fill-rule=\"evenodd\" fill-opacity=\"1\" /><path clip-path=\"url(#clip290)\" d=\"M 0 0 M79.0475 637.213 L97.4039 637.213 L97.4039 641.148 L83.3299 641.148 L83.3299 649.62 Q84.3484 649.273 85.3669 649.111 Q86.3855 648.926 87.404 648.926 Q93.191 648.926 96.5706 652.097 Q99.9502 655.269 99.9502 660.685 Q99.9502 666.264 96.478 669.366 Q93.0058 672.444 86.6864 672.444 Q84.5105 672.444 82.242 672.074 Q79.9966 671.704 77.5892 670.963 L77.5892 666.264 Q79.6725 667.398 81.8947 667.954 Q84.1169 668.509 86.5938 668.509 Q90.5984 668.509 92.9363 666.403 Q95.2743 664.296 95.2743 660.685 Q95.2743 657.074 92.9363 654.968 Q90.5984 652.861 86.5938 652.861 Q84.7188 652.861 82.8438 653.278 Q80.992 653.694 79.0475 654.574 L79.0475 637.213 Z\" fill=\"#000000\" fill-rule=\"evenodd\" fill-opacity=\"1\" /><path clip-path=\"url(#clip290)\" d=\"M 0 0 M115.02 640.292 Q111.408 640.292 109.58 643.857 Q107.774 647.398 107.774 654.528 Q107.774 661.634 109.58 665.199 Q111.408 668.741 115.02 668.741 Q118.654 668.741 120.459 665.199 Q122.288 661.634 122.288 654.528 Q122.288 647.398 120.459 643.857 Q118.654 640.292 115.02 640.292 M115.02 636.588 Q120.83 636.588 123.885 641.195 Q126.964 645.778 126.964 654.528 Q126.964 663.255 123.885 667.861 Q120.83 672.444 115.02 672.444 Q109.209 672.444 106.131 667.861 Q103.075 663.255 103.075 654.528 Q103.075 645.778 106.131 641.195 Q109.209 636.588 115.02 636.588 Z\" fill=\"#000000\" fill-rule=\"evenodd\" fill-opacity=\"1\" /><path clip-path=\"url(#clip290)\" d=\"M 0 0 M56.6171 404.097 L72.9365 404.097 L72.9365 408.032 L50.9921 408.032 L50.9921 404.097 Q53.6541 401.342 58.2375 396.713 Q62.8439 392.06 64.0245 390.717 Q66.2698 388.194 67.1494 386.458 Q68.0522 384.699 68.0522 383.009 Q68.0522 380.255 66.1078 378.518 Q64.1865 376.782 61.0847 376.782 Q58.8856 376.782 56.4319 377.546 Q54.0014 378.31 51.2236 379.861 L51.2236 375.139 Q54.0477 374.005 56.5014 373.426 Q58.955 372.847 60.9921 372.847 Q66.3624 372.847 69.5568 375.532 Q72.7513 378.218 72.7513 382.708 Q72.7513 384.838 71.9411 386.759 Q71.1541 388.657 69.0476 391.25 Q68.4689 391.921 65.367 395.139 Q62.2652 398.333 56.6171 404.097 Z\" fill=\"#000000\" fill-rule=\"evenodd\" fill-opacity=\"1\" /><path clip-path=\"url(#clip290)\" d=\"M 0 0 M88.0058 376.551 Q84.3947 376.551 82.566 380.116 Q80.7605 383.657 80.7605 390.787 Q80.7605 397.893 82.566 401.458 Q84.3947 405 88.0058 405 Q91.6401 405 93.4456 401.458 Q95.2743 397.893 95.2743 390.787 Q95.2743 383.657 93.4456 380.116 Q91.6401 376.551 88.0058 376.551 M88.0058 372.847 Q93.816 372.847 96.8715 377.454 Q99.9502 382.037 99.9502 390.787 Q99.9502 399.514 96.8715 404.12 Q93.816 408.703 88.0058 408.703 Q82.1957 408.703 79.117 404.12 Q76.0614 399.514 76.0614 390.787 Q76.0614 382.037 79.117 377.454 Q82.1957 372.847 88.0058 372.847 Z\" fill=\"#000000\" fill-rule=\"evenodd\" fill-opacity=\"1\" /><path clip-path=\"url(#clip290)\" d=\"M 0 0 M115.02 376.551 Q111.408 376.551 109.58 380.116 Q107.774 383.657 107.774 390.787 Q107.774 397.893 109.58 401.458 Q111.408 405 115.02 405 Q118.654 405 120.459 401.458 Q122.288 397.893 122.288 390.787 Q122.288 383.657 120.459 380.116 Q118.654 376.551 115.02 376.551 M115.02 372.847 Q120.83 372.847 123.885 377.454 Q126.964 382.037 126.964 390.787 Q126.964 399.514 123.885 404.12 Q120.83 408.703 115.02 408.703 Q109.209 408.703 106.131 404.12 Q103.075 399.514 103.075 390.787 Q103.075 382.037 106.131 377.454 Q109.209 372.847 115.02 372.847 Z\" fill=\"#000000\" fill-rule=\"evenodd\" fill-opacity=\"1\" /><path clip-path=\"url(#clip290)\" d=\"M 0 0 M57.6125 140.356 L73.9318 140.356 L73.9318 144.291 L51.9875 144.291 L51.9875 140.356 Q54.6495 137.602 59.2328 132.972 Q63.8393 128.319 65.0198 126.977 Q67.2652 124.453 68.1448 122.717 Q69.0476 120.958 69.0476 119.268 Q69.0476 116.514 67.1032 114.778 Q65.1819 113.041 62.08 113.041 Q59.881 113.041 57.4273 113.805 Q54.9967 114.569 52.219 116.12 L52.219 111.398 Q55.043 110.264 57.4967 109.685 Q59.9504 109.106 61.9874 109.106 Q67.3578 109.106 70.5522 111.791 Q73.7466 114.477 73.7466 118.967 Q73.7466 121.097 72.9365 123.018 Q72.1494 124.916 70.0429 127.509 Q69.4642 128.18 66.3624 131.398 Q63.2606 134.592 57.6125 140.356 Z\" fill=\"#000000\" fill-rule=\"evenodd\" fill-opacity=\"1\" /><path clip-path=\"url(#clip290)\" d=\"M 0 0 M79.0475 109.731 L97.4039 109.731 L97.4039 113.666 L83.3299 113.666 L83.3299 122.139 Q84.3484 121.791 85.3669 121.629 Q86.3855 121.444 87.404 121.444 Q93.191 121.444 96.5706 124.615 Q99.9502 127.787 99.9502 133.203 Q99.9502 138.782 96.478 141.884 Q93.0058 144.963 86.6864 144.963 Q84.5105 144.963 82.242 144.592 Q79.9966 144.222 77.5892 143.481 L77.5892 138.782 Q79.6725 139.916 81.8947 140.472 Q84.1169 141.027 86.5938 141.027 Q90.5984 141.027 92.9363 138.921 Q95.2743 136.814 95.2743 133.203 Q95.2743 129.592 92.9363 127.486 Q90.5984 125.379 86.5938 125.379 Q84.7188 125.379 82.8438 125.796 Q80.992 126.213 79.0475 127.092 L79.0475 109.731 Z\" fill=\"#000000\" fill-rule=\"evenodd\" fill-opacity=\"1\" /><path clip-path=\"url(#clip290)\" d=\"M 0 0 M115.02 112.81 Q111.408 112.81 109.58 116.375 Q107.774 119.916 107.774 127.046 Q107.774 134.152 109.58 137.717 Q111.408 141.259 115.02 141.259 Q118.654 141.259 120.459 137.717 Q122.288 134.152 122.288 127.046 Q122.288 119.916 120.459 116.375 Q118.654 112.81 115.02 112.81 M115.02 109.106 Q120.83 109.106 123.885 113.713 Q126.964 118.296 126.964 127.046 Q126.964 135.773 123.885 140.379 Q120.83 144.963 115.02 144.963 Q109.209 144.963 106.131 140.379 Q103.075 135.773 103.075 127.046 Q103.075 118.296 106.131 113.713 Q109.209 109.106 115.02 109.106 Z\" fill=\"#000000\" fill-rule=\"evenodd\" fill-opacity=\"1\" /><polyline clip-path=\"url(#clip292)\" style=\"stroke:#009af9; stroke-width:4; stroke-opacity:1; fill:none\" points=\"\n",
       "  224.939,766.846 242.155,854.708 259.37,931.198 276.585,997.789 293.801,1055.76 311.016,1106.23 328.231,1150.17 345.447,1188.42 362.662,1221.72 379.877,1250.71 \n",
       "  397.093,1275.95 414.308,1297.92 431.523,1317.05 448.739,1333.7 465.954,1348.2 483.169,1360.82 500.385,1371.81 517.6,1381.37 534.815,1389.7 552.031,1396.95 \n",
       "  569.246,1403.26 586.461,1408.76 603.677,1413.54 620.892,1417.7 638.107,1421.33 655.323,1424.49 672.538,1427.23 689.754,1429.63 706.969,1431.71 724.184,1433.52 \n",
       "  741.4,1435.1 758.615,1436.47 775.83,1437.67 793.046,1438.71 810.261,1439.62 827.476,1440.41 844.692,1441.09 861.907,1441.69 879.122,1442.21 896.338,1442.67 \n",
       "  913.553,1443.06 930.768,1443.4 947.984,1443.7 965.199,1443.96 982.414,1444.19 999.63,1444.39 1016.85,1444.56 1034.06,1444.71 1051.28,1444.84 1068.49,1444.95 \n",
       "  1085.71,1445.05 1102.92,1445.14 1120.14,1445.21 1137.35,1445.28 1154.57,1445.33 1171.78,1445.38 1189,1445.43 1206.21,1445.46 1223.43,1445.5 1240.64,1445.52 \n",
       "  1257.86,1445.55 1275.08,1445.57 1292.29,1445.59 1309.51,1445.61 1326.72,1445.62 1343.94,1445.63 1361.15,1445.64 1378.37,1445.65 1395.58,1445.66 1412.8,1445.67 \n",
       "  1430.01,1445.67 1447.23,1445.68 1464.44,1445.68 1481.66,1445.69 1498.87,1445.69 1516.09,1445.69 1533.31,1445.7 1550.52,1445.7 1567.74,1445.7 1584.95,1445.7 \n",
       "  1602.17,1445.71 1619.38,1445.71 1636.6,1445.71 1653.81,1445.71 1671.03,1445.71 1688.24,1445.71 1705.46,1445.71 1722.67,1445.71 1739.89,1445.71 1757.1,1445.71 \n",
       "  1774.32,1445.71 1791.54,1445.71 1808.75,1445.71 1825.97,1445.71 1843.18,1445.71 1860.4,1445.71 1877.61,1445.71 1894.83,1445.71 1912.04,1445.71 1929.26,1445.71 \n",
       "  1946.47,1445.72 1963.69,1445.72 1980.9,1445.72 1998.12,1445.72 2015.34,1445.72 2032.55,1445.72 2049.77,1445.72 2066.98,1445.72 2084.2,1445.72 2101.41,1445.72 \n",
       "  2118.63,1445.72 2135.84,1445.72 2153.06,1445.72 2170.27,1445.72 2187.49,1445.72 2204.7,1445.72 2221.92,1445.72 2239.13,1445.72 2256.35,1445.72 2273.57,1445.72 \n",
       "  2290.78,1445.72 \n",
       "  \"/>\n",
       "<polyline clip-path=\"url(#clip292)\" style=\"stroke:#e26f46; stroke-width:4; stroke-opacity:1; fill:none\" stroke-dasharray=\"16, 10\" points=\"\n",
       "  224.939,1445.65 242.155,1445.65 259.37,1445.65 276.585,1445.65 293.801,1445.65 311.016,1445.65 328.231,1445.65 345.447,1445.65 362.662,1445.65 379.877,1445.65 \n",
       "  397.093,1445.65 414.308,1445.65 431.523,1445.65 448.739,1445.65 465.954,1445.65 483.169,1445.65 500.385,1445.65 517.6,1445.65 534.815,1445.65 552.031,1445.65 \n",
       "  569.246,1445.65 586.461,1445.65 603.677,1445.65 620.892,1445.65 638.107,1445.65 655.323,1445.65 672.538,1445.65 689.754,1445.65 706.969,1445.65 724.184,1445.65 \n",
       "  741.4,1445.65 758.615,1445.65 775.83,1445.65 793.046,1445.65 810.261,1445.65 827.476,1445.65 844.692,1445.65 861.907,1445.65 879.122,1445.65 896.338,1445.65 \n",
       "  913.553,1445.65 930.768,1445.65 947.984,1445.65 965.199,1445.65 982.414,1445.65 999.63,1445.65 1016.85,1445.65 1034.06,1445.65 1051.28,1445.65 1068.49,1445.65 \n",
       "  1085.71,1445.65 1102.92,1445.65 1120.14,1445.65 1137.35,1445.65 1154.57,1445.65 1171.78,1445.65 1189,1445.65 1206.21,1445.65 1223.43,1445.65 1240.64,1445.65 \n",
       "  1257.86,1445.65 1275.08,1445.65 1292.29,1445.65 1309.51,1445.65 1326.72,1445.65 1343.94,1445.65 1361.15,1445.65 1378.37,1445.65 1395.58,1445.65 1412.8,1445.65 \n",
       "  1430.01,1445.65 1447.23,1445.65 1464.44,1445.65 1481.66,1445.65 1498.87,1445.65 1516.09,1445.65 1533.31,1445.65 1550.52,1445.65 1567.74,1445.65 1584.95,1445.65 \n",
       "  1602.17,1445.65 1619.38,1445.65 1636.6,1445.65 1653.81,1445.65 1671.03,1445.65 1688.24,1445.65 1705.46,1445.65 1722.67,1445.65 1739.89,1445.65 1757.1,1445.65 \n",
       "  1774.32,1445.65 1791.54,1445.65 1808.75,1445.65 1825.97,1445.65 1843.18,1445.65 1860.4,1445.65 1877.61,1445.65 1894.83,1445.65 1912.04,1445.65 1929.26,1445.65 \n",
       "  1946.47,1445.65 1963.69,1445.65 1980.9,1445.65 1998.12,1445.65 2015.34,1445.65 2032.55,1445.65 2049.77,1445.65 2066.98,1445.65 2084.2,1445.65 2101.41,1445.65 \n",
       "  2118.63,1445.65 2135.84,1445.65 2153.06,1445.65 2170.27,1445.65 2187.49,1445.65 2204.7,1445.65 2221.92,1445.65 2239.13,1445.65 2256.35,1445.65 2273.57,1445.65 \n",
       "  2290.78,1445.65 \n",
       "  \"/>\n",
       "<polyline clip-path=\"url(#clip292)\" style=\"stroke:#3da44d; stroke-width:4; stroke-opacity:1; fill:none\" points=\"\n",
       "  224.939,87.9763 242.155,263.7 259.37,416.68 276.585,549.861 293.801,665.806 311.016,766.744 328.231,854.619 345.447,931.121 362.662,997.722 379.877,1055.7 \n",
       "  397.093,1106.18 414.308,1150.12 431.523,1188.38 448.739,1221.69 465.954,1250.68 483.169,1275.92 500.385,1297.9 517.6,1317.03 534.815,1333.68 552.031,1348.18 \n",
       "  569.246,1360.81 586.461,1371.8 603.677,1381.36 620.892,1389.69 638.107,1396.94 655.323,1403.25 672.538,1408.75 689.754,1413.53 706.969,1417.7 724.184,1421.33 \n",
       "  741.4,1424.48 758.615,1427.23 775.83,1429.62 793.046,1431.71 810.261,1433.52 827.476,1435.1 844.692,1436.47 861.907,1437.67 879.122,1438.71 896.338,1439.62 \n",
       "  913.553,1440.41 930.768,1441.09 947.984,1441.69 965.199,1442.21 982.414,1442.67 999.63,1443.06 1016.85,1443.4 1034.06,1443.7 1051.28,1443.96 1068.49,1444.19 \n",
       "  1085.71,1444.39 1102.92,1444.56 1120.14,1444.71 1137.35,1444.84 1154.57,1444.95 1171.78,1445.05 1189,1445.14 1206.21,1445.21 1223.43,1445.28 1240.64,1445.33 \n",
       "  1257.86,1445.38 1275.08,1445.43 1292.29,1445.46 1309.51,1445.5 1326.72,1445.52 1343.94,1445.55 1361.15,1445.57 1378.37,1445.59 1395.58,1445.61 1412.8,1445.62 \n",
       "  1430.01,1445.63 1447.23,1445.64 1464.44,1445.65 1481.66,1445.66 1498.87,1445.67 1516.09,1445.67 1533.31,1445.68 1550.52,1445.68 1567.74,1445.69 1584.95,1445.69 \n",
       "  1602.17,1445.69 1619.38,1445.7 1636.6,1445.7 1653.81,1445.7 1671.03,1445.7 1688.24,1445.71 1705.46,1445.71 1722.67,1445.71 1739.89,1445.71 1757.1,1445.71 \n",
       "  1774.32,1445.71 1791.54,1445.71 1808.75,1445.71 1825.97,1445.71 1843.18,1445.71 1860.4,1445.71 1877.61,1445.71 1894.83,1445.71 1912.04,1445.71 1929.26,1445.71 \n",
       "  1946.47,1445.71 1963.69,1445.71 1980.9,1445.71 1998.12,1445.71 2015.34,1445.71 2032.55,1445.72 2049.77,1445.72 2066.98,1445.72 2084.2,1445.72 2101.41,1445.72 \n",
       "  2118.63,1445.72 2135.84,1445.72 2153.06,1445.72 2170.27,1445.72 2187.49,1445.72 2204.7,1445.72 2221.92,1445.72 2239.13,1445.72 2256.35,1445.72 2273.57,1445.72 \n",
       "  2290.78,1445.72 \n",
       "  \"/>\n",
       "<polyline clip-path=\"url(#clip292)\" style=\"stroke:#c271d2; stroke-width:4; stroke-opacity:1; fill:none\" points=\"\n",
       "  224.939,1106.28 242.155,1150.21 259.37,1188.46 276.585,1221.75 293.801,1250.74 311.016,1275.97 328.231,1297.94 345.447,1317.07 362.662,1333.72 379.877,1348.21 \n",
       "  397.093,1360.83 414.308,1371.82 431.523,1381.38 448.739,1389.71 465.954,1396.96 483.169,1403.27 500.385,1408.76 517.6,1413.54 534.815,1417.71 552.031,1421.33 \n",
       "  569.246,1424.49 586.461,1427.24 603.677,1429.63 620.892,1431.71 638.107,1433.52 655.323,1435.1 672.538,1436.47 689.754,1437.67 706.969,1438.71 724.184,1439.62 \n",
       "  741.4,1440.41 758.615,1441.09 775.83,1441.69 793.046,1442.21 810.261,1442.67 827.476,1443.06 844.692,1443.4 861.907,1443.7 879.122,1443.96 896.338,1444.19 \n",
       "  913.553,1444.39 930.768,1444.56 947.984,1444.71 965.199,1444.84 982.414,1444.95 999.63,1445.05 1016.85,1445.14 1034.06,1445.21 1051.28,1445.28 1068.49,1445.33 \n",
       "  1085.71,1445.38 1102.92,1445.43 1120.14,1445.46 1137.35,1445.5 1154.57,1445.53 1171.78,1445.55 1189,1445.57 1206.21,1445.59 1223.43,1445.61 1240.64,1445.62 \n",
       "  1257.86,1445.63 1275.08,1445.64 1292.29,1445.65 1309.51,1445.66 1326.72,1445.67 1343.94,1445.67 1361.15,1445.68 1378.37,1445.68 1395.58,1445.69 1412.8,1445.69 \n",
       "  1430.01,1445.69 1447.23,1445.7 1464.44,1445.7 1481.66,1445.7 1498.87,1445.7 1516.09,1445.71 1533.31,1445.71 1550.52,1445.71 1567.74,1445.71 1584.95,1445.71 \n",
       "  1602.17,1445.71 1619.38,1445.71 1636.6,1445.71 1653.81,1445.71 1671.03,1445.71 1688.24,1445.71 1705.46,1445.71 1722.67,1445.71 1739.89,1445.71 1757.1,1445.71 \n",
       "  1774.32,1445.71 1791.54,1445.71 1808.75,1445.71 1825.97,1445.71 1843.18,1445.71 1860.4,1445.72 1877.61,1445.72 1894.83,1445.72 1912.04,1445.72 1929.26,1445.72 \n",
       "  1946.47,1445.72 1963.69,1445.72 1980.9,1445.72 1998.12,1445.72 2015.34,1445.72 2032.55,1445.72 2049.77,1445.72 2066.98,1445.72 2084.2,1445.72 2101.41,1445.72 \n",
       "  2118.63,1445.72 2135.84,1445.72 2153.06,1445.72 2170.27,1445.72 2187.49,1445.72 2204.7,1445.72 2221.92,1445.72 2239.13,1445.72 2256.35,1445.72 2273.57,1445.72 \n",
       "  2290.78,1445.72 \n",
       "  \"/>\n",
       "<circle clip-path=\"url(#clip292)\" cx=\"1377.64\" cy=\"1445.65\" r=\"10\" fill=\"#ffff00\" fill-rule=\"evenodd\" fill-opacity=\"1\" stroke=\"#000000\" stroke-opacity=\"1\" stroke-width=\"3.2\"/>\n",
       "<circle clip-path=\"url(#clip292)\" cx=\"1463.73\" cy=\"1445.65\" r=\"10\" fill=\"#ff0000\" fill-rule=\"evenodd\" fill-opacity=\"1\" stroke=\"#000000\" stroke-opacity=\"1\" stroke-width=\"3.2\"/>\n",
       "<circle clip-path=\"url(#clip292)\" cx=\"1291.54\" cy=\"1445.65\" r=\"10\" fill=\"#ffc0cb\" fill-rule=\"evenodd\" fill-opacity=\"1\" stroke=\"#000000\" stroke-opacity=\"1\" stroke-width=\"3.2\"/>\n",
       "<polyline clip-path=\"url(#clip292)\" style=\"stroke:#c68125; stroke-width:4; stroke-opacity:1; fill:none\" stroke-dasharray=\"16, 10\" points=\"\n",
       "  224.939,390.752 242.155,390.752 259.37,390.752 276.585,390.752 293.801,390.752 311.016,390.752 328.231,390.752 345.447,390.752 362.662,390.752 379.877,390.752 \n",
       "  397.093,390.752 414.308,390.752 431.523,390.752 448.739,390.752 465.954,390.752 483.169,390.752 500.385,390.752 517.6,390.752 534.815,390.752 552.031,390.752 \n",
       "  569.246,390.752 586.461,390.752 603.677,390.752 620.892,390.752 638.107,390.752 655.323,390.752 672.538,390.752 689.754,390.752 706.969,390.752 724.184,390.752 \n",
       "  741.4,390.752 758.615,390.752 775.83,390.752 793.046,390.752 810.261,390.752 827.476,390.752 844.692,390.752 861.907,390.752 879.122,390.752 896.338,390.752 \n",
       "  913.553,390.752 930.768,390.752 947.984,390.752 965.199,390.752 982.414,390.752 999.63,390.752 1016.85,390.752 1034.06,390.752 1051.28,390.752 1068.49,390.752 \n",
       "  1085.71,390.752 1102.92,390.752 1120.14,390.752 1137.35,390.752 1154.57,390.752 1171.78,390.752 1189,390.752 1206.21,390.752 1223.43,390.752 1240.64,390.752 \n",
       "  1257.86,390.752 1275.08,390.752 1292.29,390.752 1309.51,390.752 1326.72,390.752 1343.94,390.752 1361.15,390.752 1378.37,390.752 1395.58,390.752 1412.8,390.752 \n",
       "  1430.01,390.752 1447.23,390.752 1464.44,390.752 1481.66,390.752 1498.87,390.752 1516.09,390.752 1533.31,390.752 1550.52,390.752 1567.74,390.752 1584.95,390.752 \n",
       "  1602.17,390.752 1619.38,390.752 1636.6,390.752 1653.81,390.752 1671.03,390.752 1688.24,390.752 1705.46,390.752 1722.67,390.752 1739.89,390.752 1757.1,390.752 \n",
       "  1774.32,390.752 1791.54,390.752 1808.75,390.752 1825.97,390.752 1843.18,390.752 1860.4,390.752 1877.61,390.752 1894.83,390.752 1912.04,390.752 1929.26,390.752 \n",
       "  1946.47,390.752 1963.69,390.752 1980.9,390.752 1998.12,390.752 2015.34,390.752 2032.55,390.752 2049.77,390.752 2066.98,390.752 2084.2,390.752 2101.41,390.752 \n",
       "  2118.63,390.752 2135.84,390.752 2153.06,390.752 2170.27,390.752 2187.49,390.752 2204.7,390.752 2221.92,390.752 2239.13,390.752 2256.35,390.752 2273.57,390.752 \n",
       "  2290.78,390.752 \n",
       "  \"/>\n",
       "<path clip-path=\"url(#clip290)\" d=\"\n",
       "M1813.86 639.538 L2279.76 639.538 L2279.76 95.2176 L1813.86 95.2176  Z\n",
       "  \" fill=\"#ffffff\" fill-rule=\"evenodd\" fill-opacity=\"1\"/>\n",
       "<polyline clip-path=\"url(#clip290)\" style=\"stroke:#000000; stroke-width:4; stroke-opacity:1; fill:none\" points=\"\n",
       "  1813.86,639.538 2279.76,639.538 2279.76,95.2176 1813.86,95.2176 1813.86,639.538 \n",
       "  \"/>\n",
       "<polyline clip-path=\"url(#clip290)\" style=\"stroke:#009af9; stroke-width:4; stroke-opacity:1; fill:none\" points=\"\n",
       "  1838.19,155.698 1984.18,155.698 \n",
       "  \"/>\n",
       "<path clip-path=\"url(#clip290)\" d=\"M 0 0 M2009.18 169.042 L2016.82 169.042 L2016.82 142.677 L2008.51 144.343 L2008.51 140.084 L2016.77 138.418 L2021.45 138.418 L2021.45 169.042 L2029.09 169.042 L2029.09 172.978 L2009.18 172.978 L2009.18 169.042 Z\" fill=\"#000000\" fill-rule=\"evenodd\" fill-opacity=\"1\" /><path clip-path=\"url(#clip290)\" d=\"M 0 0 M2044.16 141.496 Q2040.55 141.496 2038.72 145.061 Q2036.91 148.603 2036.91 155.732 Q2036.91 162.839 2038.72 166.404 Q2040.55 169.945 2044.16 169.945 Q2047.79 169.945 2049.6 166.404 Q2051.43 162.839 2051.43 155.732 Q2051.43 148.603 2049.6 145.061 Q2047.79 141.496 2044.16 141.496 M2044.16 137.793 Q2049.97 137.793 2053.02 142.399 Q2056.1 146.982 2056.1 155.732 Q2056.1 164.459 2053.02 169.066 Q2049.97 173.649 2044.16 173.649 Q2038.35 173.649 2035.27 169.066 Q2032.21 164.459 2032.21 155.732 Q2032.21 146.982 2035.27 142.399 Q2038.35 137.793 2044.16 137.793 Z\" fill=\"#000000\" fill-rule=\"evenodd\" fill-opacity=\"1\" /><path clip-path=\"url(#clip290)\" d=\"M 0 0 M2071.17 141.496 Q2067.56 141.496 2065.73 145.061 Q2063.93 148.603 2063.93 155.732 Q2063.93 162.839 2065.73 166.404 Q2067.56 169.945 2071.17 169.945 Q2074.81 169.945 2076.61 166.404 Q2078.44 162.839 2078.44 155.732 Q2078.44 148.603 2076.61 145.061 Q2074.81 141.496 2071.17 141.496 M2071.17 137.793 Q2076.98 137.793 2080.04 142.399 Q2083.12 146.982 2083.12 155.732 Q2083.12 164.459 2080.04 169.066 Q2076.98 173.649 2071.17 173.649 Q2065.36 173.649 2062.28 169.066 Q2059.23 164.459 2059.23 155.732 Q2059.23 146.982 2062.28 142.399 Q2065.36 137.793 2071.17 137.793 Z\" fill=\"#000000\" fill-rule=\"evenodd\" fill-opacity=\"1\" /><path clip-path=\"url(#clip290)\" d=\"M 0 0 M2098.18 141.496 Q2094.57 141.496 2092.75 145.061 Q2090.94 148.603 2090.94 155.732 Q2090.94 162.839 2092.75 166.404 Q2094.57 169.945 2098.18 169.945 Q2101.82 169.945 2103.62 166.404 Q2105.45 162.839 2105.45 155.732 Q2105.45 148.603 2103.62 145.061 Q2101.82 141.496 2098.18 141.496 M2098.18 137.793 Q2103.99 137.793 2107.05 142.399 Q2110.13 146.982 2110.13 155.732 Q2110.13 164.459 2107.05 169.066 Q2103.99 173.649 2098.18 173.649 Q2092.37 173.649 2089.3 169.066 Q2086.24 164.459 2086.24 155.732 Q2086.24 146.982 2089.3 142.399 Q2092.37 137.793 2098.18 137.793 Z\" fill=\"#000000\" fill-rule=\"evenodd\" fill-opacity=\"1\" /><path clip-path=\"url(#clip290)\" d=\"M 0 0 M2149.85 152.029 Q2151.45 149.158 2153.67 147.793 Q2155.89 146.427 2158.9 146.427 Q2162.95 146.427 2165.15 149.274 Q2167.35 152.098 2167.35 157.329 L2167.35 172.978 L2163.07 172.978 L2163.07 157.468 Q2163.07 153.742 2161.75 151.936 Q2160.43 150.13 2157.72 150.13 Q2154.41 150.13 2152.49 152.33 Q2150.57 154.529 2150.57 158.325 L2150.57 172.978 L2146.29 172.978 L2146.29 157.468 Q2146.29 153.718 2144.97 151.936 Q2143.65 150.13 2140.89 150.13 Q2137.63 150.13 2135.71 152.353 Q2133.79 154.552 2133.79 158.325 L2133.79 172.978 L2129.5 172.978 L2129.5 147.052 L2133.79 147.052 L2133.79 151.08 Q2135.24 148.695 2137.28 147.561 Q2139.32 146.427 2142.12 146.427 Q2144.94 146.427 2146.91 147.862 Q2148.9 149.297 2149.85 152.029 Z\" fill=\"#000000\" fill-rule=\"evenodd\" fill-opacity=\"1\" /><path clip-path=\"url(#clip290)\" d=\"M 0 0 M2188.88 159.714 Q2188.88 155.084 2186.96 152.538 Q2185.06 149.992 2181.61 149.992 Q2178.18 149.992 2176.26 152.538 Q2174.36 155.084 2174.36 159.714 Q2174.36 164.32 2176.26 166.866 Q2178.18 169.413 2181.61 169.413 Q2185.06 169.413 2186.96 166.866 Q2188.88 164.32 2188.88 159.714 M2193.14 169.76 Q2193.14 176.38 2190.2 179.598 Q2187.26 182.839 2181.19 182.839 Q2178.95 182.839 2176.96 182.491 Q2174.97 182.167 2173.09 181.473 L2173.09 177.329 Q2174.97 178.348 2176.8 178.834 Q2178.62 179.32 2180.52 179.32 Q2184.71 179.32 2186.8 177.121 Q2188.88 174.945 2188.88 170.524 L2188.88 168.417 Q2187.56 170.709 2185.5 171.843 Q2183.44 172.978 2180.57 172.978 Q2175.8 172.978 2172.88 169.343 Q2169.97 165.709 2169.97 159.714 Q2169.97 153.695 2172.88 150.061 Q2175.8 146.427 2180.57 146.427 Q2183.44 146.427 2185.5 147.561 Q2187.56 148.695 2188.88 150.987 L2188.88 147.052 L2193.14 147.052 L2193.14 169.76 Z\" fill=\"#000000\" fill-rule=\"evenodd\" fill-opacity=\"1\" /><polyline clip-path=\"url(#clip290)\" style=\"stroke:#e26f46; stroke-width:4; stroke-opacity:1; fill:none\" stroke-dasharray=\"16, 10\" points=\"\n",
       "  1838.19,216.178 1984.18,216.178 \n",
       "  \"/>\n",
       "<path clip-path=\"url(#clip290)\" d=\"M 0 0 M2008.51 198.898 L2015.48 198.898 L2024.3 222.416 L2033.16 198.898 L2040.13 198.898 L2040.13 233.458 L2035.57 233.458 L2035.57 203.11 L2026.66 226.814 L2021.96 226.814 L2013.05 203.11 L2013.05 233.458 L2008.51 233.458 L2008.51 198.898 Z\" fill=\"#000000\" fill-rule=\"evenodd\" fill-opacity=\"1\" /><path clip-path=\"url(#clip290)\" d=\"M 0 0 M2044.78 198.898 L2049.46 198.898 L2049.46 233.458 L2044.78 233.458 L2044.78 198.898 Z\" fill=\"#000000\" fill-rule=\"evenodd\" fill-opacity=\"1\" /><path clip-path=\"url(#clip290)\" d=\"M 0 0 M2079.99 201.56 L2079.99 206.49 Q2077.63 204.291 2074.94 203.203 Q2072.28 202.115 2069.27 202.115 Q2063.35 202.115 2060.2 205.749 Q2057.05 209.36 2057.05 216.212 Q2057.05 223.041 2060.2 226.675 Q2063.35 230.286 2069.27 230.286 Q2072.28 230.286 2074.94 229.198 Q2077.63 228.11 2079.99 225.911 L2079.99 230.796 Q2077.54 232.462 2074.78 233.296 Q2072.05 234.129 2069 234.129 Q2061.15 234.129 2056.63 229.337 Q2052.12 224.522 2052.12 216.212 Q2052.12 207.879 2056.63 203.087 Q2061.15 198.273 2069 198.273 Q2072.1 198.273 2074.83 199.106 Q2077.58 199.916 2079.99 201.56 Z\" fill=\"#000000\" fill-rule=\"evenodd\" fill-opacity=\"1\" /><polyline clip-path=\"url(#clip290)\" style=\"stroke:#3da44d; stroke-width:4; stroke-opacity:1; fill:none\" points=\"\n",
       "  1838.19,276.658 1984.18,276.658 \n",
       "  \"/>\n",
       "<path clip-path=\"url(#clip290)\" d=\"M 0 0 M2014.13 290.002 L2030.45 290.002 L2030.45 293.938 L2008.51 293.938 L2008.51 290.002 Q2011.17 287.248 2015.75 282.618 Q2020.36 277.965 2021.54 276.623 Q2023.79 274.1 2024.67 272.364 Q2025.57 270.604 2025.57 268.915 Q2025.57 266.16 2023.63 264.424 Q2021.7 262.688 2018.6 262.688 Q2016.4 262.688 2013.95 263.452 Q2011.52 264.215 2008.74 265.766 L2008.74 261.044 Q2011.56 259.91 2014.02 259.331 Q2016.47 258.753 2018.51 258.753 Q2023.88 258.753 2027.07 261.438 Q2030.27 264.123 2030.27 268.614 Q2030.27 270.743 2029.46 272.665 Q2028.67 274.563 2026.56 277.155 Q2025.99 277.827 2022.88 281.044 Q2019.78 284.239 2014.13 290.002 Z\" fill=\"#000000\" fill-rule=\"evenodd\" fill-opacity=\"1\" /><path clip-path=\"url(#clip290)\" d=\"M 0 0 M2045.52 262.456 Q2041.91 262.456 2040.08 266.021 Q2038.28 269.563 2038.28 276.692 Q2038.28 283.799 2040.08 287.364 Q2041.91 290.905 2045.52 290.905 Q2049.16 290.905 2050.96 287.364 Q2052.79 283.799 2052.79 276.692 Q2052.79 269.563 2050.96 266.021 Q2049.16 262.456 2045.52 262.456 M2045.52 258.753 Q2051.33 258.753 2054.39 263.359 Q2057.47 267.942 2057.47 276.692 Q2057.47 285.419 2054.39 290.026 Q2051.33 294.609 2045.52 294.609 Q2039.71 294.609 2036.63 290.026 Q2033.58 285.419 2033.58 276.692 Q2033.58 267.942 2036.63 263.359 Q2039.71 258.753 2045.52 258.753 Z\" fill=\"#000000\" fill-rule=\"evenodd\" fill-opacity=\"1\" /><path clip-path=\"url(#clip290)\" d=\"M 0 0 M2072.54 262.456 Q2068.93 262.456 2067.1 266.021 Q2065.29 269.563 2065.29 276.692 Q2065.29 283.799 2067.1 287.364 Q2068.93 290.905 2072.54 290.905 Q2076.17 290.905 2077.98 287.364 Q2079.81 283.799 2079.81 276.692 Q2079.81 269.563 2077.98 266.021 Q2076.17 262.456 2072.54 262.456 M2072.54 258.753 Q2078.35 258.753 2081.4 263.359 Q2084.48 267.942 2084.48 276.692 Q2084.48 285.419 2081.4 290.026 Q2078.35 294.609 2072.54 294.609 Q2066.73 294.609 2063.65 290.026 Q2060.59 285.419 2060.59 276.692 Q2060.59 267.942 2063.65 263.359 Q2066.73 258.753 2072.54 258.753 Z\" fill=\"#000000\" fill-rule=\"evenodd\" fill-opacity=\"1\" /><path clip-path=\"url(#clip290)\" d=\"M 0 0 M2099.55 262.456 Q2095.94 262.456 2094.11 266.021 Q2092.31 269.563 2092.31 276.692 Q2092.31 283.799 2094.11 287.364 Q2095.94 290.905 2099.55 290.905 Q2103.18 290.905 2104.99 287.364 Q2106.82 283.799 2106.82 276.692 Q2106.82 269.563 2104.99 266.021 Q2103.18 262.456 2099.55 262.456 M2099.55 258.753 Q2105.36 258.753 2108.42 263.359 Q2111.49 267.942 2111.49 276.692 Q2111.49 285.419 2108.42 290.026 Q2105.36 294.609 2099.55 294.609 Q2093.74 294.609 2090.66 290.026 Q2087.61 285.419 2087.61 276.692 Q2087.61 267.942 2090.66 263.359 Q2093.74 258.753 2099.55 258.753 Z\" fill=\"#000000\" fill-rule=\"evenodd\" fill-opacity=\"1\" /><path clip-path=\"url(#clip290)\" d=\"M 0 0 M2151.22 272.989 Q2152.81 270.118 2155.04 268.753 Q2157.26 267.387 2160.27 267.387 Q2164.32 267.387 2166.52 270.234 Q2168.72 273.058 2168.72 278.289 L2168.72 293.938 L2164.43 293.938 L2164.43 278.428 Q2164.43 274.702 2163.12 272.896 Q2161.8 271.09 2159.09 271.09 Q2155.78 271.09 2153.86 273.29 Q2151.93 275.489 2151.93 279.285 L2151.93 293.938 L2147.65 293.938 L2147.65 278.428 Q2147.65 274.678 2146.33 272.896 Q2145.01 271.09 2142.26 271.09 Q2138.99 271.09 2137.07 273.313 Q2135.15 275.512 2135.15 279.285 L2135.15 293.938 L2130.87 293.938 L2130.87 268.012 L2135.15 268.012 L2135.15 272.04 Q2136.61 269.655 2138.65 268.521 Q2140.68 267.387 2143.49 267.387 Q2146.31 267.387 2148.28 268.822 Q2150.27 270.257 2151.22 272.989 Z\" fill=\"#000000\" fill-rule=\"evenodd\" fill-opacity=\"1\" /><path clip-path=\"url(#clip290)\" d=\"M 0 0 M2190.24 280.674 Q2190.24 276.044 2188.32 273.498 Q2186.43 270.952 2182.98 270.952 Q2179.55 270.952 2177.63 273.498 Q2175.73 276.044 2175.73 280.674 Q2175.73 285.28 2177.63 287.826 Q2179.55 290.373 2182.98 290.373 Q2186.43 290.373 2188.32 287.826 Q2190.24 285.28 2190.24 280.674 M2194.5 290.72 Q2194.5 297.34 2191.56 300.558 Q2188.62 303.799 2182.56 303.799 Q2180.31 303.799 2178.32 303.451 Q2176.33 303.127 2174.46 302.433 L2174.46 298.289 Q2176.33 299.308 2178.16 299.794 Q2179.99 300.28 2181.89 300.28 Q2186.08 300.28 2188.16 298.081 Q2190.24 295.905 2190.24 291.484 L2190.24 289.377 Q2188.93 291.669 2186.86 292.803 Q2184.8 293.938 2181.93 293.938 Q2177.17 293.938 2174.25 290.303 Q2171.33 286.669 2171.33 280.674 Q2171.33 274.655 2174.25 271.021 Q2177.17 267.387 2181.93 267.387 Q2184.8 267.387 2186.86 268.521 Q2188.93 269.655 2190.24 271.947 L2190.24 268.012 L2194.5 268.012 L2194.5 290.72 Z\" fill=\"#000000\" fill-rule=\"evenodd\" fill-opacity=\"1\" /><polyline clip-path=\"url(#clip290)\" style=\"stroke:#c271d2; stroke-width:4; stroke-opacity:1; fill:none\" points=\"\n",
       "  1838.19,337.138 1984.18,337.138 \n",
       "  \"/>\n",
       "<path clip-path=\"url(#clip290)\" d=\"M 0 0 M2009.97 319.858 L2028.32 319.858 L2028.32 323.793 L2014.25 323.793 L2014.25 332.265 Q2015.27 331.918 2016.29 331.756 Q2017.31 331.57 2018.32 331.57 Q2024.11 331.57 2027.49 334.742 Q2030.87 337.913 2030.87 343.33 Q2030.87 348.908 2027.4 352.01 Q2023.93 355.089 2017.61 355.089 Q2015.43 355.089 2013.16 354.718 Q2010.92 354.348 2008.51 353.607 L2008.51 348.908 Q2010.59 350.043 2012.81 350.598 Q2015.04 351.154 2017.51 351.154 Q2021.52 351.154 2023.86 349.047 Q2026.19 346.941 2026.19 343.33 Q2026.19 339.719 2023.86 337.612 Q2021.52 335.506 2017.51 335.506 Q2015.64 335.506 2013.76 335.922 Q2011.91 336.339 2009.97 337.219 L2009.97 319.858 Z\" fill=\"#000000\" fill-rule=\"evenodd\" fill-opacity=\"1\" /><path clip-path=\"url(#clip290)\" d=\"M 0 0 M2045.94 322.936 Q2042.33 322.936 2040.5 326.501 Q2038.69 330.043 2038.69 337.172 Q2038.69 344.279 2040.5 347.844 Q2042.33 351.385 2045.94 351.385 Q2049.57 351.385 2051.38 347.844 Q2053.21 344.279 2053.21 337.172 Q2053.21 330.043 2051.38 326.501 Q2049.57 322.936 2045.94 322.936 M2045.94 319.233 Q2051.75 319.233 2054.81 323.839 Q2057.88 328.422 2057.88 337.172 Q2057.88 345.899 2054.81 350.506 Q2051.75 355.089 2045.94 355.089 Q2040.13 355.089 2037.05 350.506 Q2034 345.899 2034 337.172 Q2034 328.422 2037.05 323.839 Q2040.13 319.233 2045.94 319.233 Z\" fill=\"#000000\" fill-rule=\"evenodd\" fill-opacity=\"1\" /><path clip-path=\"url(#clip290)\" d=\"M 0 0 M2072.95 322.936 Q2069.34 322.936 2067.51 326.501 Q2065.71 330.043 2065.71 337.172 Q2065.71 344.279 2067.51 347.844 Q2069.34 351.385 2072.95 351.385 Q2076.59 351.385 2078.39 347.844 Q2080.22 344.279 2080.22 337.172 Q2080.22 330.043 2078.39 326.501 Q2076.59 322.936 2072.95 322.936 M2072.95 319.233 Q2078.76 319.233 2081.82 323.839 Q2084.9 328.422 2084.9 337.172 Q2084.9 345.899 2081.82 350.506 Q2078.76 355.089 2072.95 355.089 Q2067.14 355.089 2064.06 350.506 Q2061.01 345.899 2061.01 337.172 Q2061.01 328.422 2064.06 323.839 Q2067.14 319.233 2072.95 319.233 Z\" fill=\"#000000\" fill-rule=\"evenodd\" fill-opacity=\"1\" /><path clip-path=\"url(#clip290)\" d=\"M 0 0 M2089.97 348.538 L2094.85 348.538 L2094.85 354.418 L2089.97 354.418 L2089.97 348.538 Z\" fill=\"#000000\" fill-rule=\"evenodd\" fill-opacity=\"1\" /><path clip-path=\"url(#clip290)\" d=\"M 0 0 M2109.92 322.936 Q2106.31 322.936 2104.48 326.501 Q2102.68 330.043 2102.68 337.172 Q2102.68 344.279 2104.48 347.844 Q2106.31 351.385 2109.92 351.385 Q2113.56 351.385 2115.36 347.844 Q2117.19 344.279 2117.19 337.172 Q2117.19 330.043 2115.36 326.501 Q2113.56 322.936 2109.92 322.936 M2109.92 319.233 Q2115.73 319.233 2118.79 323.839 Q2121.87 328.422 2121.87 337.172 Q2121.87 345.899 2118.79 350.506 Q2115.73 355.089 2109.92 355.089 Q2104.11 355.089 2101.03 350.506 Q2097.98 345.899 2097.98 337.172 Q2097.98 328.422 2101.03 323.839 Q2104.11 319.233 2109.92 319.233 Z\" fill=\"#000000\" fill-rule=\"evenodd\" fill-opacity=\"1\" /><path clip-path=\"url(#clip290)\" d=\"M 0 0 M2161.59 333.469 Q2163.18 330.598 2165.41 329.233 Q2167.63 327.867 2170.64 327.867 Q2174.69 327.867 2176.89 330.714 Q2179.09 333.538 2179.09 338.769 L2179.09 354.418 L2174.8 354.418 L2174.8 338.908 Q2174.8 335.182 2173.49 333.376 Q2172.17 331.57 2169.46 331.57 Q2166.15 331.57 2164.23 333.77 Q2162.3 335.969 2162.3 339.765 L2162.3 354.418 L2158.02 354.418 L2158.02 338.908 Q2158.02 335.158 2156.7 333.376 Q2155.38 331.57 2152.63 331.57 Q2149.37 331.57 2147.44 333.793 Q2145.52 335.992 2145.52 339.765 L2145.52 354.418 L2141.24 354.418 L2141.24 328.492 L2145.52 328.492 L2145.52 332.52 Q2146.98 330.135 2149.02 329.001 Q2151.05 327.867 2153.86 327.867 Q2156.68 327.867 2158.65 329.302 Q2160.64 330.737 2161.59 333.469 Z\" fill=\"#000000\" fill-rule=\"evenodd\" fill-opacity=\"1\" /><path clip-path=\"url(#clip290)\" d=\"M 0 0 M2200.61 341.154 Q2200.61 336.524 2198.69 333.978 Q2196.8 331.432 2193.35 331.432 Q2189.92 331.432 2188 333.978 Q2186.1 336.524 2186.1 341.154 Q2186.1 345.76 2188 348.306 Q2189.92 350.853 2193.35 350.853 Q2196.8 350.853 2198.69 348.306 Q2200.61 345.76 2200.61 341.154 M2204.87 351.2 Q2204.87 357.82 2201.93 361.038 Q2198.99 364.279 2192.93 364.279 Q2190.68 364.279 2188.69 363.931 Q2186.7 363.607 2184.83 362.913 L2184.83 358.769 Q2186.7 359.788 2188.53 360.274 Q2190.36 360.76 2192.26 360.76 Q2196.45 360.76 2198.53 358.561 Q2200.61 356.385 2200.61 351.964 L2200.61 349.857 Q2199.3 352.149 2197.24 353.283 Q2195.18 354.418 2192.3 354.418 Q2187.54 354.418 2184.62 350.783 Q2181.7 347.149 2181.7 341.154 Q2181.7 335.135 2184.62 331.501 Q2187.54 327.867 2192.3 327.867 Q2195.18 327.867 2197.24 329.001 Q2199.3 330.135 2200.61 332.427 L2200.61 328.492 L2204.87 328.492 L2204.87 351.2 Z\" fill=\"#000000\" fill-rule=\"evenodd\" fill-opacity=\"1\" /><polyline clip-path=\"url(#clip290)\" style=\"stroke:#ffff00; stroke-width:4; stroke-opacity:1; fill:none\" points=\"\n",
       "  1838.19,397.618 1984.18,397.618 \n",
       "  \"/>\n",
       "<circle clip-path=\"url(#clip290)\" cx=\"1911.19\" cy=\"397.618\" r=\"23\" fill=\"#ffff00\" fill-rule=\"evenodd\" fill-opacity=\"1\" stroke=\"#000000\" stroke-opacity=\"1\" stroke-width=\"6.82667\"/>\n",
       "<path clip-path=\"url(#clip290)\" d=\"M 0 0 M2015.92 381.611 L2015.92 388.972 L2024.69 388.972 L2024.69 392.282 L2015.92 392.282 L2015.92 406.356 Q2015.92 409.527 2016.77 410.43 Q2017.65 411.333 2020.31 411.333 L2024.69 411.333 L2024.69 414.898 L2020.31 414.898 Q2015.38 414.898 2013.51 413.069 Q2011.63 411.217 2011.63 406.356 L2011.63 392.282 L2008.51 392.282 L2008.51 388.972 L2011.63 388.972 L2011.63 381.611 L2015.92 381.611 Z\" fill=\"#000000\" fill-rule=\"evenodd\" fill-opacity=\"1\" /><path clip-path=\"url(#clip290)\" d=\"M 0 0 M2061.29 392.907 L2061.29 378.879 L2065.55 378.879 L2065.55 414.898 L2061.29 414.898 L2061.29 411.009 Q2059.94 413.323 2057.88 414.458 Q2055.85 415.569 2052.98 415.569 Q2048.28 415.569 2045.31 411.819 Q2042.37 408.069 2042.37 401.958 Q2042.37 395.847 2045.31 392.097 Q2048.28 388.347 2052.98 388.347 Q2055.85 388.347 2057.88 389.481 Q2059.94 390.592 2061.29 392.907 M2046.77 401.958 Q2046.77 406.657 2048.69 409.342 Q2050.64 412.004 2054.02 412.004 Q2057.4 412.004 2059.34 409.342 Q2061.29 406.657 2061.29 401.958 Q2061.29 397.259 2059.34 394.597 Q2057.4 391.912 2054.02 391.912 Q2050.64 391.912 2048.69 394.597 Q2046.77 397.259 2046.77 401.958 Z\" fill=\"#000000\" fill-rule=\"evenodd\" fill-opacity=\"1\" /><path clip-path=\"url(#clip290)\" d=\"M 0 0 M2070.01 378.879 L2074.27 378.879 L2074.27 414.898 L2070.01 414.898 L2070.01 378.879 Z\" fill=\"#000000\" fill-rule=\"evenodd\" fill-opacity=\"1\" /><path clip-path=\"url(#clip290)\" d=\"M 0 0 M2090.52 401.865 Q2085.36 401.865 2083.37 403.046 Q2081.38 404.226 2081.38 407.074 Q2081.38 409.342 2082.86 410.685 Q2084.37 412.004 2086.93 412.004 Q2090.48 412.004 2092.61 409.504 Q2094.76 406.981 2094.76 402.814 L2094.76 401.865 L2090.52 401.865 M2099.02 400.106 L2099.02 414.898 L2094.76 414.898 L2094.76 410.962 Q2093.3 413.323 2091.12 414.458 Q2088.95 415.569 2085.8 415.569 Q2081.82 415.569 2079.46 413.347 Q2077.12 411.101 2077.12 407.351 Q2077.12 402.976 2080.04 400.754 Q2082.98 398.532 2088.79 398.532 L2094.76 398.532 L2094.76 398.115 Q2094.76 395.175 2092.81 393.578 Q2090.89 391.958 2087.4 391.958 Q2085.18 391.958 2083.07 392.49 Q2080.96 393.023 2079.02 394.087 L2079.02 390.152 Q2081.36 389.25 2083.56 388.81 Q2085.75 388.347 2087.84 388.347 Q2093.46 388.347 2096.24 391.263 Q2099.02 394.18 2099.02 400.106 Z\" fill=\"#000000\" fill-rule=\"evenodd\" fill-opacity=\"1\" /><path clip-path=\"url(#clip290)\" d=\"M 0 0 M2119.97 410.962 L2127.61 410.962 L2127.61 384.597 L2119.3 386.263 L2119.3 382.004 L2127.56 380.338 L2132.24 380.338 L2132.24 410.962 L2139.87 410.962 L2139.87 414.898 L2119.97 414.898 L2119.97 410.962 Z\" fill=\"#000000\" fill-rule=\"evenodd\" fill-opacity=\"1\" /><path clip-path=\"url(#clip290)\" d=\"M 0 0 M2154.94 383.416 Q2151.33 383.416 2149.5 386.981 Q2147.7 390.523 2147.7 397.652 Q2147.7 404.759 2149.5 408.324 Q2151.33 411.865 2154.94 411.865 Q2158.58 411.865 2160.38 408.324 Q2162.21 404.759 2162.21 397.652 Q2162.21 390.523 2160.38 386.981 Q2158.58 383.416 2154.94 383.416 M2154.94 379.713 Q2160.75 379.713 2163.81 384.319 Q2166.89 388.902 2166.89 397.652 Q2166.89 406.379 2163.81 410.986 Q2160.75 415.569 2154.94 415.569 Q2149.13 415.569 2146.05 410.986 Q2143 406.379 2143 397.652 Q2143 388.902 2146.05 384.319 Q2149.13 379.713 2154.94 379.713 Z\" fill=\"#000000\" fill-rule=\"evenodd\" fill-opacity=\"1\" /><path clip-path=\"url(#clip290)\" d=\"M 0 0 M2181.96 383.416 Q2178.35 383.416 2176.52 386.981 Q2174.71 390.523 2174.71 397.652 Q2174.71 404.759 2176.52 408.324 Q2178.35 411.865 2181.96 411.865 Q2185.59 411.865 2187.4 408.324 Q2189.23 404.759 2189.23 397.652 Q2189.23 390.523 2187.4 386.981 Q2185.59 383.416 2181.96 383.416 M2181.96 379.713 Q2187.77 379.713 2190.82 384.319 Q2193.9 388.902 2193.9 397.652 Q2193.9 406.379 2190.82 410.986 Q2187.77 415.569 2181.96 415.569 Q2176.15 415.569 2173.07 410.986 Q2170.01 406.379 2170.01 397.652 Q2170.01 388.902 2173.07 384.319 Q2176.15 379.713 2181.96 379.713 Z\" fill=\"#000000\" fill-rule=\"evenodd\" fill-opacity=\"1\" /><path clip-path=\"url(#clip290)\" d=\"M 0 0 M2208.97 383.416 Q2205.36 383.416 2203.53 386.981 Q2201.73 390.523 2201.73 397.652 Q2201.73 404.759 2203.53 408.324 Q2205.36 411.865 2208.97 411.865 Q2212.61 411.865 2214.41 408.324 Q2216.24 404.759 2216.24 397.652 Q2216.24 390.523 2214.41 386.981 Q2212.61 383.416 2208.97 383.416 M2208.97 379.713 Q2214.78 379.713 2217.84 384.319 Q2220.92 388.902 2220.92 397.652 Q2220.92 406.379 2217.84 410.986 Q2214.78 415.569 2208.97 415.569 Q2203.16 415.569 2200.08 410.986 Q2197.03 406.379 2197.03 397.652 Q2197.03 388.902 2200.08 384.319 Q2203.16 379.713 2208.97 379.713 Z\" fill=\"#000000\" fill-rule=\"evenodd\" fill-opacity=\"1\" /><polyline clip-path=\"url(#clip290)\" style=\"stroke:#ff0000; stroke-width:4; stroke-opacity:1; fill:none\" points=\"\n",
       "  1838.19,458.098 1984.18,458.098 \n",
       "  \"/>\n",
       "<circle clip-path=\"url(#clip290)\" cx=\"1911.19\" cy=\"458.098\" r=\"23\" fill=\"#ff0000\" fill-rule=\"evenodd\" fill-opacity=\"1\" stroke=\"#000000\" stroke-opacity=\"1\" stroke-width=\"6.82667\"/>\n",
       "<path clip-path=\"url(#clip290)\" d=\"M 0 0 M2015.92 442.091 L2015.92 449.452 L2024.69 449.452 L2024.69 452.762 L2015.92 452.762 L2015.92 466.836 Q2015.92 470.007 2016.77 470.91 Q2017.65 471.813 2020.31 471.813 L2024.69 471.813 L2024.69 475.378 L2020.31 475.378 Q2015.38 475.378 2013.51 473.549 Q2011.63 471.697 2011.63 466.836 L2011.63 452.762 L2008.51 452.762 L2008.51 449.452 L2011.63 449.452 L2011.63 442.091 L2015.92 442.091 Z\" fill=\"#000000\" fill-rule=\"evenodd\" fill-opacity=\"1\" /><path clip-path=\"url(#clip290)\" d=\"M 0 0 M2061.29 453.387 L2061.29 439.359 L2065.55 439.359 L2065.55 475.378 L2061.29 475.378 L2061.29 471.489 Q2059.94 473.803 2057.88 474.938 Q2055.85 476.049 2052.98 476.049 Q2048.28 476.049 2045.31 472.299 Q2042.37 468.549 2042.37 462.438 Q2042.37 456.327 2045.31 452.577 Q2048.28 448.827 2052.98 448.827 Q2055.85 448.827 2057.88 449.961 Q2059.94 451.072 2061.29 453.387 M2046.77 462.438 Q2046.77 467.137 2048.69 469.822 Q2050.64 472.484 2054.02 472.484 Q2057.4 472.484 2059.34 469.822 Q2061.29 467.137 2061.29 462.438 Q2061.29 457.739 2059.34 455.077 Q2057.4 452.392 2054.02 452.392 Q2050.64 452.392 2048.69 455.077 Q2046.77 457.739 2046.77 462.438 Z\" fill=\"#000000\" fill-rule=\"evenodd\" fill-opacity=\"1\" /><path clip-path=\"url(#clip290)\" d=\"M 0 0 M2070.01 439.359 L2074.27 439.359 L2074.27 475.378 L2070.01 475.378 L2070.01 439.359 Z\" fill=\"#000000\" fill-rule=\"evenodd\" fill-opacity=\"1\" /><path clip-path=\"url(#clip290)\" d=\"M 0 0 M2090.52 462.345 Q2085.36 462.345 2083.37 463.526 Q2081.38 464.706 2081.38 467.554 Q2081.38 469.822 2082.86 471.165 Q2084.37 472.484 2086.93 472.484 Q2090.48 472.484 2092.61 469.984 Q2094.76 467.461 2094.76 463.294 L2094.76 462.345 L2090.52 462.345 M2099.02 460.586 L2099.02 475.378 L2094.76 475.378 L2094.76 471.442 Q2093.3 473.803 2091.12 474.938 Q2088.95 476.049 2085.8 476.049 Q2081.82 476.049 2079.46 473.827 Q2077.12 471.581 2077.12 467.831 Q2077.12 463.456 2080.04 461.234 Q2082.98 459.012 2088.79 459.012 L2094.76 459.012 L2094.76 458.595 Q2094.76 455.655 2092.81 454.058 Q2090.89 452.438 2087.4 452.438 Q2085.18 452.438 2083.07 452.97 Q2080.96 453.503 2079.02 454.567 L2079.02 450.632 Q2081.36 449.73 2083.56 449.29 Q2085.75 448.827 2087.84 448.827 Q2093.46 448.827 2096.24 451.743 Q2099.02 454.66 2099.02 460.586 Z\" fill=\"#000000\" fill-rule=\"evenodd\" fill-opacity=\"1\" /><path clip-path=\"url(#clip290)\" d=\"M 0 0 M2123.18 471.442 L2139.5 471.442 L2139.5 475.378 L2117.56 475.378 L2117.56 471.442 Q2120.22 468.688 2124.81 464.058 Q2129.41 459.405 2130.59 458.063 Q2132.84 455.54 2133.72 453.804 Q2134.62 452.044 2134.62 450.355 Q2134.62 447.6 2132.68 445.864 Q2130.75 444.128 2127.65 444.128 Q2125.45 444.128 2123 444.892 Q2120.57 445.655 2117.79 447.206 L2117.79 442.484 Q2120.62 441.35 2123.07 440.771 Q2125.52 440.193 2127.56 440.193 Q2132.93 440.193 2136.12 442.878 Q2139.32 445.563 2139.32 450.054 Q2139.32 452.183 2138.51 454.105 Q2137.72 456.003 2135.62 458.595 Q2135.04 459.267 2131.93 462.484 Q2128.83 465.679 2123.18 471.442 Z\" fill=\"#000000\" fill-rule=\"evenodd\" fill-opacity=\"1\" /><path clip-path=\"url(#clip290)\" d=\"M 0 0 M2154.57 443.896 Q2150.96 443.896 2149.13 447.461 Q2147.33 451.003 2147.33 458.132 Q2147.33 465.239 2149.13 468.804 Q2150.96 472.345 2154.57 472.345 Q2158.21 472.345 2160.01 468.804 Q2161.84 465.239 2161.84 458.132 Q2161.84 451.003 2160.01 447.461 Q2158.21 443.896 2154.57 443.896 M2154.57 440.193 Q2160.38 440.193 2163.44 444.799 Q2166.52 449.382 2166.52 458.132 Q2166.52 466.859 2163.44 471.466 Q2160.38 476.049 2154.57 476.049 Q2148.76 476.049 2145.68 471.466 Q2142.63 466.859 2142.63 458.132 Q2142.63 449.382 2145.68 444.799 Q2148.76 440.193 2154.57 440.193 Z\" fill=\"#000000\" fill-rule=\"evenodd\" fill-opacity=\"1\" /><path clip-path=\"url(#clip290)\" d=\"M 0 0 M2181.59 443.896 Q2177.98 443.896 2176.15 447.461 Q2174.34 451.003 2174.34 458.132 Q2174.34 465.239 2176.15 468.804 Q2177.98 472.345 2181.59 472.345 Q2185.22 472.345 2187.03 468.804 Q2188.86 465.239 2188.86 458.132 Q2188.86 451.003 2187.03 447.461 Q2185.22 443.896 2181.59 443.896 M2181.59 440.193 Q2187.4 440.193 2190.45 444.799 Q2193.53 449.382 2193.53 458.132 Q2193.53 466.859 2190.45 471.466 Q2187.4 476.049 2181.59 476.049 Q2175.78 476.049 2172.7 471.466 Q2169.64 466.859 2169.64 458.132 Q2169.64 449.382 2172.7 444.799 Q2175.78 440.193 2181.59 440.193 Z\" fill=\"#000000\" fill-rule=\"evenodd\" fill-opacity=\"1\" /><path clip-path=\"url(#clip290)\" d=\"M 0 0 M2208.6 443.896 Q2204.99 443.896 2203.16 447.461 Q2201.36 451.003 2201.36 458.132 Q2201.36 465.239 2203.16 468.804 Q2204.99 472.345 2208.6 472.345 Q2212.24 472.345 2214.04 468.804 Q2215.87 465.239 2215.87 458.132 Q2215.87 451.003 2214.04 447.461 Q2212.24 443.896 2208.6 443.896 M2208.6 440.193 Q2214.41 440.193 2217.47 444.799 Q2220.55 449.382 2220.55 458.132 Q2220.55 466.859 2217.47 471.466 Q2214.41 476.049 2208.6 476.049 Q2202.79 476.049 2199.71 471.466 Q2196.66 466.859 2196.66 458.132 Q2196.66 449.382 2199.71 444.799 Q2202.79 440.193 2208.6 440.193 Z\" fill=\"#000000\" fill-rule=\"evenodd\" fill-opacity=\"1\" /><polyline clip-path=\"url(#clip290)\" style=\"stroke:#ffc0cb; stroke-width:4; stroke-opacity:1; fill:none\" points=\"\n",
       "  1838.19,518.578 1984.18,518.578 \n",
       "  \"/>\n",
       "<circle clip-path=\"url(#clip290)\" cx=\"1911.19\" cy=\"518.578\" r=\"23\" fill=\"#ffc0cb\" fill-rule=\"evenodd\" fill-opacity=\"1\" stroke=\"#000000\" stroke-opacity=\"1\" stroke-width=\"6.82667\"/>\n",
       "<path clip-path=\"url(#clip290)\" d=\"M 0 0 M2015.92 502.571 L2015.92 509.932 L2024.69 509.932 L2024.69 513.242 L2015.92 513.242 L2015.92 527.316 Q2015.92 530.487 2016.77 531.39 Q2017.65 532.293 2020.31 532.293 L2024.69 532.293 L2024.69 535.858 L2020.31 535.858 Q2015.38 535.858 2013.51 534.029 Q2011.63 532.177 2011.63 527.316 L2011.63 513.242 L2008.51 513.242 L2008.51 509.932 L2011.63 509.932 L2011.63 502.571 L2015.92 502.571 Z\" fill=\"#000000\" fill-rule=\"evenodd\" fill-opacity=\"1\" /><path clip-path=\"url(#clip290)\" d=\"M 0 0 M2061.29 513.867 L2061.29 499.839 L2065.55 499.839 L2065.55 535.858 L2061.29 535.858 L2061.29 531.969 Q2059.94 534.283 2057.88 535.418 Q2055.85 536.529 2052.98 536.529 Q2048.28 536.529 2045.31 532.779 Q2042.37 529.029 2042.37 522.918 Q2042.37 516.807 2045.31 513.057 Q2048.28 509.307 2052.98 509.307 Q2055.85 509.307 2057.88 510.441 Q2059.94 511.552 2061.29 513.867 M2046.77 522.918 Q2046.77 527.617 2048.69 530.302 Q2050.64 532.964 2054.02 532.964 Q2057.4 532.964 2059.34 530.302 Q2061.29 527.617 2061.29 522.918 Q2061.29 518.219 2059.34 515.557 Q2057.4 512.872 2054.02 512.872 Q2050.64 512.872 2048.69 515.557 Q2046.77 518.219 2046.77 522.918 Z\" fill=\"#000000\" fill-rule=\"evenodd\" fill-opacity=\"1\" /><path clip-path=\"url(#clip290)\" d=\"M 0 0 M2070.01 499.839 L2074.27 499.839 L2074.27 535.858 L2070.01 535.858 L2070.01 499.839 Z\" fill=\"#000000\" fill-rule=\"evenodd\" fill-opacity=\"1\" /><path clip-path=\"url(#clip290)\" d=\"M 0 0 M2090.52 522.825 Q2085.36 522.825 2083.37 524.006 Q2081.38 525.186 2081.38 528.034 Q2081.38 530.302 2082.86 531.645 Q2084.37 532.964 2086.93 532.964 Q2090.48 532.964 2092.61 530.464 Q2094.76 527.941 2094.76 523.774 L2094.76 522.825 L2090.52 522.825 M2099.02 521.066 L2099.02 535.858 L2094.76 535.858 L2094.76 531.922 Q2093.3 534.283 2091.12 535.418 Q2088.95 536.529 2085.8 536.529 Q2081.82 536.529 2079.46 534.307 Q2077.12 532.061 2077.12 528.311 Q2077.12 523.936 2080.04 521.714 Q2082.98 519.492 2088.79 519.492 L2094.76 519.492 L2094.76 519.075 Q2094.76 516.135 2092.81 514.538 Q2090.89 512.918 2087.4 512.918 Q2085.18 512.918 2083.07 513.45 Q2080.96 513.983 2079.02 515.047 L2079.02 511.112 Q2081.36 510.21 2083.56 509.77 Q2085.75 509.307 2087.84 509.307 Q2093.46 509.307 2096.24 512.223 Q2099.02 515.14 2099.02 521.066 Z\" fill=\"#000000\" fill-rule=\"evenodd\" fill-opacity=\"1\" /><path clip-path=\"url(#clip290)\" d=\"M 0 0 M2119.2 501.298 L2137.56 501.298 L2137.56 505.233 L2123.49 505.233 L2123.49 513.705 Q2124.5 513.358 2125.52 513.196 Q2126.54 513.01 2127.56 513.01 Q2133.35 513.01 2136.73 516.182 Q2140.11 519.353 2140.11 524.77 Q2140.11 530.348 2136.63 533.45 Q2133.16 536.529 2126.84 536.529 Q2124.67 536.529 2122.4 536.158 Q2120.15 535.788 2117.74 535.047 L2117.74 530.348 Q2119.83 531.483 2122.05 532.038 Q2124.27 532.594 2126.75 532.594 Q2130.75 532.594 2133.09 530.487 Q2135.43 528.381 2135.43 524.77 Q2135.43 521.159 2133.09 519.052 Q2130.75 516.946 2126.75 516.946 Q2124.87 516.946 2123 517.362 Q2121.15 517.779 2119.2 518.659 L2119.2 501.298 Z\" fill=\"#000000\" fill-rule=\"evenodd\" fill-opacity=\"1\" /><path clip-path=\"url(#clip290)\" d=\"M 0 0 M2155.18 504.376 Q2151.56 504.376 2149.74 507.941 Q2147.93 511.483 2147.93 518.612 Q2147.93 525.719 2149.74 529.284 Q2151.56 532.825 2155.18 532.825 Q2158.81 532.825 2160.62 529.284 Q2162.44 525.719 2162.44 518.612 Q2162.44 511.483 2160.62 507.941 Q2158.81 504.376 2155.18 504.376 M2155.18 500.673 Q2160.99 500.673 2164.04 505.279 Q2167.12 509.862 2167.12 518.612 Q2167.12 527.339 2164.04 531.946 Q2160.99 536.529 2155.18 536.529 Q2149.37 536.529 2146.29 531.946 Q2143.23 527.339 2143.23 518.612 Q2143.23 509.862 2146.29 505.279 Q2149.37 500.673 2155.18 500.673 Z\" fill=\"#000000\" fill-rule=\"evenodd\" fill-opacity=\"1\" /><path clip-path=\"url(#clip290)\" d=\"M 0 0 M2182.19 504.376 Q2178.58 504.376 2176.75 507.941 Q2174.94 511.483 2174.94 518.612 Q2174.94 525.719 2176.75 529.284 Q2178.58 532.825 2182.19 532.825 Q2185.82 532.825 2187.63 529.284 Q2189.46 525.719 2189.46 518.612 Q2189.46 511.483 2187.63 507.941 Q2185.82 504.376 2182.19 504.376 M2182.19 500.673 Q2188 500.673 2191.05 505.279 Q2194.13 509.862 2194.13 518.612 Q2194.13 527.339 2191.05 531.946 Q2188 536.529 2182.19 536.529 Q2176.38 536.529 2173.3 531.946 Q2170.24 527.339 2170.24 518.612 Q2170.24 509.862 2173.3 505.279 Q2176.38 500.673 2182.19 500.673 Z\" fill=\"#000000\" fill-rule=\"evenodd\" fill-opacity=\"1\" /><path clip-path=\"url(#clip290)\" d=\"M 0 0 M2199.2 529.978 L2204.09 529.978 L2204.09 535.858 L2199.2 535.858 L2199.2 529.978 Z\" fill=\"#000000\" fill-rule=\"evenodd\" fill-opacity=\"1\" /><path clip-path=\"url(#clip290)\" d=\"M 0 0 M2219.16 504.376 Q2215.55 504.376 2213.72 507.941 Q2211.91 511.483 2211.91 518.612 Q2211.91 525.719 2213.72 529.284 Q2215.55 532.825 2219.16 532.825 Q2222.79 532.825 2224.6 529.284 Q2226.42 525.719 2226.42 518.612 Q2226.42 511.483 2224.6 507.941 Q2222.79 504.376 2219.16 504.376 M2219.16 500.673 Q2224.97 500.673 2228.02 505.279 Q2231.1 509.862 2231.1 518.612 Q2231.1 527.339 2228.02 531.946 Q2224.97 536.529 2219.16 536.529 Q2213.35 536.529 2210.27 531.946 Q2207.21 527.339 2207.21 518.612 Q2207.21 509.862 2210.27 505.279 Q2213.35 500.673 2219.16 500.673 Z\" fill=\"#000000\" fill-rule=\"evenodd\" fill-opacity=\"1\" /><polyline clip-path=\"url(#clip290)\" style=\"stroke:#c68125; stroke-width:4; stroke-opacity:1; fill:none\" stroke-dasharray=\"16, 10\" points=\"\n",
       "  1838.19,579.058 1984.18,579.058 \n",
       "  \"/>\n",
       "<path clip-path=\"url(#clip290)\" d=\"M 0 0 M2008.51 561.778 L2015.48 561.778 L2024.3 585.296 L2033.16 561.778 L2040.13 561.778 L2040.13 596.338 L2035.57 596.338 L2035.57 565.99 L2026.66 589.694 L2021.96 589.694 L2013.05 565.99 L2013.05 596.338 L2008.51 596.338 L2008.51 561.778 Z\" fill=\"#000000\" fill-rule=\"evenodd\" fill-opacity=\"1\" /><path clip-path=\"url(#clip290)\" d=\"M 0 0 M2039.99 561.778 L2069.23 561.778 L2069.23 565.713 L2056.96 565.713 L2056.96 596.338 L2052.26 596.338 L2052.26 565.713 L2039.99 565.713 L2039.99 561.778 Z\" fill=\"#000000\" fill-rule=\"evenodd\" fill-opacity=\"1\" /><path clip-path=\"url(#clip290)\" d=\"M 0 0 M2096.98 564.44 L2096.98 569.37 Q2094.62 567.171 2091.93 566.083 Q2089.27 564.995 2086.26 564.995 Q2080.34 564.995 2077.19 568.629 Q2074.04 572.24 2074.04 579.092 Q2074.04 585.921 2077.19 589.555 Q2080.34 593.166 2086.26 593.166 Q2089.27 593.166 2091.93 592.078 Q2094.62 590.99 2096.98 588.791 L2096.98 593.676 Q2094.53 595.342 2091.77 596.176 Q2089.04 597.009 2085.99 597.009 Q2078.14 597.009 2073.62 592.217 Q2069.11 587.402 2069.11 579.092 Q2069.11 570.759 2073.62 565.967 Q2078.14 561.153 2085.99 561.153 Q2089.09 561.153 2091.82 561.986 Q2094.57 562.796 2096.98 564.44 Z\" fill=\"#000000\" fill-rule=\"evenodd\" fill-opacity=\"1\" /></svg>\n"
      ]
     },
     "execution_count": 658,
     "metadata": {},
     "output_type": "execute_result"
    }
   ],
   "source": [
    "plot!(t_plot, fill(200, length(t_plot)), linestyle=:dash, label=\"MTC\")"
   ]
  },
  {
   "cell_type": "markdown",
   "metadata": {},
   "source": [
    "Z uwagi, że punkty dla czasów, gdy osiągane jest MIC są niewidoczne, przybliżmy nasz wykres."
   ]
  },
  {
   "cell_type": "code",
   "execution_count": 659,
   "metadata": {},
   "outputs": [
    {
     "data": {
      "image/svg+xml": [
       "<?xml version=\"1.0\" encoding=\"utf-8\"?>\n",
       "<svg xmlns=\"http://www.w3.org/2000/svg\" xmlns:xlink=\"http://www.w3.org/1999/xlink\" width=\"600\" height=\"400\" viewBox=\"0 0 2400 1600\">\n",
       "<defs>\n",
       "  <clipPath id=\"clip330\">\n",
       "    <rect x=\"0\" y=\"0\" width=\"2400\" height=\"1600\"/>\n",
       "  </clipPath>\n",
       "</defs>\n",
       "<path clip-path=\"url(#clip330)\" d=\"\n",
       "M0 1600 L2400 1600 L2400 0 L0 0  Z\n",
       "  \" fill=\"#ffffff\" fill-rule=\"evenodd\" fill-opacity=\"1\"/>\n",
       "<defs>\n",
       "  <clipPath id=\"clip331\">\n",
       "    <rect x=\"480\" y=\"0\" width=\"1681\" height=\"1600\"/>\n",
       "  </clipPath>\n",
       "</defs>\n",
       "<path clip-path=\"url(#clip330)\" d=\"\n",
       "M162.964 1486.45 L2352.76 1486.45 L2352.76 47.2441 L162.964 47.2441  Z\n",
       "  \" fill=\"#ffffff\" fill-rule=\"evenodd\" fill-opacity=\"1\"/>\n",
       "<defs>\n",
       "  <clipPath id=\"clip332\">\n",
       "    <rect x=\"162\" y=\"47\" width=\"2191\" height=\"1440\"/>\n",
       "  </clipPath>\n",
       "</defs>\n",
       "<polyline clip-path=\"url(#clip332)\" style=\"stroke:#000000; stroke-width:2; stroke-opacity:0.1; fill:none\" points=\"\n",
       "  224.939,1486.45 224.939,47.2441 \n",
       "  \"/>\n",
       "<polyline clip-path=\"url(#clip332)\" style=\"stroke:#000000; stroke-width:2; stroke-opacity:0.1; fill:none\" points=\"\n",
       "  655.323,1486.45 655.323,47.2441 \n",
       "  \"/>\n",
       "<polyline clip-path=\"url(#clip332)\" style=\"stroke:#000000; stroke-width:2; stroke-opacity:0.1; fill:none\" points=\"\n",
       "  1085.71,1486.45 1085.71,47.2441 \n",
       "  \"/>\n",
       "<polyline clip-path=\"url(#clip332)\" style=\"stroke:#000000; stroke-width:2; stroke-opacity:0.1; fill:none\" points=\"\n",
       "  1516.09,1486.45 1516.09,47.2441 \n",
       "  \"/>\n",
       "<polyline clip-path=\"url(#clip332)\" style=\"stroke:#000000; stroke-width:2; stroke-opacity:0.1; fill:none\" points=\"\n",
       "  1946.47,1486.45 1946.47,47.2441 \n",
       "  \"/>\n",
       "<polyline clip-path=\"url(#clip330)\" style=\"stroke:#000000; stroke-width:4; stroke-opacity:1; fill:none\" points=\"\n",
       "  162.964,1486.45 2352.76,1486.45 \n",
       "  \"/>\n",
       "<polyline clip-path=\"url(#clip330)\" style=\"stroke:#000000; stroke-width:4; stroke-opacity:1; fill:none\" points=\"\n",
       "  224.939,1486.45 224.939,1469.18 \n",
       "  \"/>\n",
       "<polyline clip-path=\"url(#clip330)\" style=\"stroke:#000000; stroke-width:4; stroke-opacity:1; fill:none\" points=\"\n",
       "  655.323,1486.45 655.323,1469.18 \n",
       "  \"/>\n",
       "<polyline clip-path=\"url(#clip330)\" style=\"stroke:#000000; stroke-width:4; stroke-opacity:1; fill:none\" points=\"\n",
       "  1085.71,1486.45 1085.71,1469.18 \n",
       "  \"/>\n",
       "<polyline clip-path=\"url(#clip330)\" style=\"stroke:#000000; stroke-width:4; stroke-opacity:1; fill:none\" points=\"\n",
       "  1516.09,1486.45 1516.09,1469.18 \n",
       "  \"/>\n",
       "<polyline clip-path=\"url(#clip330)\" style=\"stroke:#000000; stroke-width:4; stroke-opacity:1; fill:none\" points=\"\n",
       "  1946.47,1486.45 1946.47,1469.18 \n",
       "  \"/>\n",
       "<path clip-path=\"url(#clip330)\" d=\"M 0 0 M206.455 1515.64 Q202.844 1515.64 201.016 1519.2 Q199.21 1522.75 199.21 1529.87 Q199.21 1536.98 201.016 1540.55 Q202.844 1544.09 206.455 1544.09 Q210.09 1544.09 211.895 1540.55 Q213.724 1536.98 213.724 1529.87 Q213.724 1522.75 211.895 1519.2 Q210.09 1515.64 206.455 1515.64 M206.455 1511.93 Q212.266 1511.93 215.321 1516.54 Q218.4 1521.12 218.4 1529.87 Q218.4 1538.6 215.321 1543.21 Q212.266 1547.79 206.455 1547.79 Q200.645 1547.79 197.567 1543.21 Q194.511 1538.6 194.511 1529.87 Q194.511 1521.12 197.567 1516.54 Q200.645 1511.93 206.455 1511.93 Z\" fill=\"#000000\" fill-rule=\"evenodd\" fill-opacity=\"1\" /><path clip-path=\"url(#clip330)\" d=\"M 0 0 M223.469 1541.24 L228.354 1541.24 L228.354 1547.12 L223.469 1547.12 L223.469 1541.24 Z\" fill=\"#000000\" fill-rule=\"evenodd\" fill-opacity=\"1\" /><path clip-path=\"url(#clip330)\" d=\"M 0 0 M243.423 1515.64 Q239.812 1515.64 237.983 1519.2 Q236.178 1522.75 236.178 1529.87 Q236.178 1536.98 237.983 1540.55 Q239.812 1544.09 243.423 1544.09 Q247.057 1544.09 248.863 1540.55 Q250.691 1536.98 250.691 1529.87 Q250.691 1522.75 248.863 1519.2 Q247.057 1515.64 243.423 1515.64 M243.423 1511.93 Q249.233 1511.93 252.289 1516.54 Q255.367 1521.12 255.367 1529.87 Q255.367 1538.6 252.289 1543.21 Q249.233 1547.79 243.423 1547.79 Q237.613 1547.79 234.534 1543.21 Q231.479 1538.6 231.479 1529.87 Q231.479 1521.12 234.534 1516.54 Q237.613 1511.93 243.423 1511.93 Z\" fill=\"#000000\" fill-rule=\"evenodd\" fill-opacity=\"1\" /><path clip-path=\"url(#clip330)\" d=\"M 0 0 M631.99 1543.18 L648.309 1543.18 L648.309 1547.12 L626.365 1547.12 L626.365 1543.18 Q629.027 1540.43 633.61 1535.8 Q638.216 1531.15 639.397 1529.81 Q641.642 1527.28 642.522 1525.55 Q643.425 1523.79 643.425 1522.1 Q643.425 1519.34 641.48 1517.61 Q639.559 1515.87 636.457 1515.87 Q634.258 1515.87 631.804 1516.63 Q629.374 1517.4 626.596 1518.95 L626.596 1514.23 Q629.42 1513.09 631.874 1512.51 Q634.328 1511.93 636.365 1511.93 Q641.735 1511.93 644.929 1514.62 Q648.124 1517.31 648.124 1521.8 Q648.124 1523.93 647.314 1525.85 Q646.527 1527.74 644.42 1530.34 Q643.841 1531.01 640.74 1534.23 Q637.638 1537.42 631.99 1543.18 Z\" fill=\"#000000\" fill-rule=\"evenodd\" fill-opacity=\"1\" /><path clip-path=\"url(#clip330)\" d=\"M 0 0 M653.378 1541.24 L658.263 1541.24 L658.263 1547.12 L653.378 1547.12 L653.378 1541.24 Z\" fill=\"#000000\" fill-rule=\"evenodd\" fill-opacity=\"1\" /><path clip-path=\"url(#clip330)\" d=\"M 0 0 M663.378 1512.56 L681.735 1512.56 L681.735 1516.5 L667.661 1516.5 L667.661 1524.97 Q668.679 1524.62 669.698 1524.46 Q670.716 1524.27 671.735 1524.27 Q677.522 1524.27 680.901 1527.44 Q684.281 1530.62 684.281 1536.03 Q684.281 1541.61 680.809 1544.71 Q677.337 1547.79 671.017 1547.79 Q668.841 1547.79 666.573 1547.42 Q664.327 1547.05 661.92 1546.31 L661.92 1541.61 Q664.003 1542.74 666.226 1543.3 Q668.448 1543.86 670.925 1543.86 Q674.929 1543.86 677.267 1541.75 Q679.605 1539.64 679.605 1536.03 Q679.605 1532.42 677.267 1530.31 Q674.929 1528.21 670.925 1528.21 Q669.05 1528.21 667.175 1528.62 Q665.323 1529.04 663.378 1529.92 L663.378 1512.56 Z\" fill=\"#000000\" fill-rule=\"evenodd\" fill-opacity=\"1\" /><path clip-path=\"url(#clip330)\" d=\"M 0 0 M1057.5 1512.56 L1075.86 1512.56 L1075.86 1516.5 L1061.78 1516.5 L1061.78 1524.97 Q1062.8 1524.62 1063.82 1524.46 Q1064.84 1524.27 1065.86 1524.27 Q1071.64 1524.27 1075.02 1527.44 Q1078.4 1530.62 1078.4 1536.03 Q1078.4 1541.61 1074.93 1544.71 Q1071.46 1547.79 1065.14 1547.79 Q1062.96 1547.79 1060.7 1547.42 Q1058.45 1547.05 1056.04 1546.31 L1056.04 1541.61 Q1058.13 1542.74 1060.35 1543.3 Q1062.57 1543.86 1065.05 1543.86 Q1069.05 1543.86 1071.39 1541.75 Q1073.73 1539.64 1073.73 1536.03 Q1073.73 1532.42 1071.39 1530.31 Q1069.05 1528.21 1065.05 1528.21 Q1063.17 1528.21 1061.3 1528.62 Q1059.45 1529.04 1057.5 1529.92 L1057.5 1512.56 Z\" fill=\"#000000\" fill-rule=\"evenodd\" fill-opacity=\"1\" /><path clip-path=\"url(#clip330)\" d=\"M 0 0 M1083.47 1541.24 L1088.36 1541.24 L1088.36 1547.12 L1083.47 1547.12 L1083.47 1541.24 Z\" fill=\"#000000\" fill-rule=\"evenodd\" fill-opacity=\"1\" /><path clip-path=\"url(#clip330)\" d=\"M 0 0 M1103.43 1515.64 Q1099.82 1515.64 1097.99 1519.2 Q1096.18 1522.75 1096.18 1529.87 Q1096.18 1536.98 1097.99 1540.55 Q1099.82 1544.09 1103.43 1544.09 Q1107.06 1544.09 1108.87 1540.55 Q1110.69 1536.98 1110.69 1529.87 Q1110.69 1522.75 1108.87 1519.2 Q1107.06 1515.64 1103.43 1515.64 M1103.43 1511.93 Q1109.24 1511.93 1112.29 1516.54 Q1115.37 1521.12 1115.37 1529.87 Q1115.37 1538.6 1112.29 1543.21 Q1109.24 1547.79 1103.43 1547.79 Q1097.62 1547.79 1094.54 1543.21 Q1091.48 1538.6 1091.48 1529.87 Q1091.48 1521.12 1094.54 1516.54 Q1097.62 1511.93 1103.43 1511.93 Z\" fill=\"#000000\" fill-rule=\"evenodd\" fill-opacity=\"1\" /><path clip-path=\"url(#clip330)\" d=\"M 0 0 M1486.99 1512.56 L1509.22 1512.56 L1509.22 1514.55 L1496.67 1547.12 L1491.78 1547.12 L1503.59 1516.5 L1486.99 1516.5 L1486.99 1512.56 Z\" fill=\"#000000\" fill-rule=\"evenodd\" fill-opacity=\"1\" /><path clip-path=\"url(#clip330)\" d=\"M 0 0 M1514.28 1541.24 L1519.17 1541.24 L1519.17 1547.12 L1514.28 1547.12 L1514.28 1541.24 Z\" fill=\"#000000\" fill-rule=\"evenodd\" fill-opacity=\"1\" /><path clip-path=\"url(#clip330)\" d=\"M 0 0 M1524.28 1512.56 L1542.64 1512.56 L1542.64 1516.5 L1528.57 1516.5 L1528.57 1524.97 Q1529.59 1524.62 1530.6 1524.46 Q1531.62 1524.27 1532.64 1524.27 Q1538.43 1524.27 1541.81 1527.44 Q1545.19 1530.62 1545.19 1536.03 Q1545.19 1541.61 1541.71 1544.71 Q1538.24 1547.79 1531.92 1547.79 Q1529.75 1547.79 1527.48 1547.42 Q1525.23 1547.05 1522.83 1546.31 L1522.83 1541.61 Q1524.91 1542.74 1527.13 1543.3 Q1529.35 1543.86 1531.83 1543.86 Q1535.84 1543.86 1538.17 1541.75 Q1540.51 1539.64 1540.51 1536.03 Q1540.51 1532.42 1538.17 1530.31 Q1535.84 1528.21 1531.83 1528.21 Q1529.96 1528.21 1528.08 1528.62 Q1526.23 1529.04 1524.28 1529.92 L1524.28 1512.56 Z\" fill=\"#000000\" fill-rule=\"evenodd\" fill-opacity=\"1\" /><path clip-path=\"url(#clip330)\" d=\"M 0 0 M1904.87 1543.18 L1912.5 1543.18 L1912.5 1516.82 L1904.19 1518.49 L1904.19 1514.23 L1912.46 1512.56 L1917.13 1512.56 L1917.13 1543.18 L1924.77 1543.18 L1924.77 1547.12 L1904.87 1547.12 L1904.87 1543.18 Z\" fill=\"#000000\" fill-rule=\"evenodd\" fill-opacity=\"1\" /><path clip-path=\"url(#clip330)\" d=\"M 0 0 M1939.84 1515.64 Q1936.23 1515.64 1934.4 1519.2 Q1932.6 1522.75 1932.6 1529.87 Q1932.6 1536.98 1934.4 1540.55 Q1936.23 1544.09 1939.84 1544.09 Q1943.48 1544.09 1945.28 1540.55 Q1947.11 1536.98 1947.11 1529.87 Q1947.11 1522.75 1945.28 1519.2 Q1943.48 1515.64 1939.84 1515.64 M1939.84 1511.93 Q1945.65 1511.93 1948.71 1516.54 Q1951.79 1521.12 1951.79 1529.87 Q1951.79 1538.6 1948.71 1543.21 Q1945.65 1547.79 1939.84 1547.79 Q1934.03 1547.79 1930.95 1543.21 Q1927.9 1538.6 1927.9 1529.87 Q1927.9 1521.12 1930.95 1516.54 Q1934.03 1511.93 1939.84 1511.93 Z\" fill=\"#000000\" fill-rule=\"evenodd\" fill-opacity=\"1\" /><path clip-path=\"url(#clip330)\" d=\"M 0 0 M1956.86 1541.24 L1961.74 1541.24 L1961.74 1547.12 L1956.86 1547.12 L1956.86 1541.24 Z\" fill=\"#000000\" fill-rule=\"evenodd\" fill-opacity=\"1\" /><path clip-path=\"url(#clip330)\" d=\"M 0 0 M1976.81 1515.64 Q1973.2 1515.64 1971.37 1519.2 Q1969.56 1522.75 1969.56 1529.87 Q1969.56 1536.98 1971.37 1540.55 Q1973.2 1544.09 1976.81 1544.09 Q1980.44 1544.09 1982.25 1540.55 Q1984.08 1536.98 1984.08 1529.87 Q1984.08 1522.75 1982.25 1519.2 Q1980.44 1515.64 1976.81 1515.64 M1976.81 1511.93 Q1982.62 1511.93 1985.67 1516.54 Q1988.75 1521.12 1988.75 1529.87 Q1988.75 1538.6 1985.67 1543.21 Q1982.62 1547.79 1976.81 1547.79 Q1971 1547.79 1967.92 1543.21 Q1964.86 1538.6 1964.86 1529.87 Q1964.86 1521.12 1967.92 1516.54 Q1971 1511.93 1976.81 1511.93 Z\" fill=\"#000000\" fill-rule=\"evenodd\" fill-opacity=\"1\" /><polyline clip-path=\"url(#clip332)\" style=\"stroke:#000000; stroke-width:2; stroke-opacity:0.1; fill:none\" points=\"\n",
       "  162.964,1445.72 2352.76,1445.72 \n",
       "  \"/>\n",
       "<polyline clip-path=\"url(#clip332)\" style=\"stroke:#000000; stroke-width:2; stroke-opacity:0.1; fill:none\" points=\"\n",
       "  162.964,1181.97 2352.76,1181.97 \n",
       "  \"/>\n",
       "<polyline clip-path=\"url(#clip332)\" style=\"stroke:#000000; stroke-width:2; stroke-opacity:0.1; fill:none\" points=\"\n",
       "  162.964,918.234 2352.76,918.234 \n",
       "  \"/>\n",
       "<polyline clip-path=\"url(#clip332)\" style=\"stroke:#000000; stroke-width:2; stroke-opacity:0.1; fill:none\" points=\"\n",
       "  162.964,654.493 2352.76,654.493 \n",
       "  \"/>\n",
       "<polyline clip-path=\"url(#clip332)\" style=\"stroke:#000000; stroke-width:2; stroke-opacity:0.1; fill:none\" points=\"\n",
       "  162.964,390.752 2352.76,390.752 \n",
       "  \"/>\n",
       "<polyline clip-path=\"url(#clip332)\" style=\"stroke:#000000; stroke-width:2; stroke-opacity:0.1; fill:none\" points=\"\n",
       "  162.964,127.011 2352.76,127.011 \n",
       "  \"/>\n",
       "<polyline clip-path=\"url(#clip330)\" style=\"stroke:#000000; stroke-width:4; stroke-opacity:1; fill:none\" points=\"\n",
       "  162.964,1486.45 162.964,47.2441 \n",
       "  \"/>\n",
       "<polyline clip-path=\"url(#clip330)\" style=\"stroke:#000000; stroke-width:4; stroke-opacity:1; fill:none\" points=\"\n",
       "  162.964,1445.72 189.241,1445.72 \n",
       "  \"/>\n",
       "<polyline clip-path=\"url(#clip330)\" style=\"stroke:#000000; stroke-width:4; stroke-opacity:1; fill:none\" points=\"\n",
       "  162.964,1181.97 189.241,1181.97 \n",
       "  \"/>\n",
       "<polyline clip-path=\"url(#clip330)\" style=\"stroke:#000000; stroke-width:4; stroke-opacity:1; fill:none\" points=\"\n",
       "  162.964,918.234 189.241,918.234 \n",
       "  \"/>\n",
       "<polyline clip-path=\"url(#clip330)\" style=\"stroke:#000000; stroke-width:4; stroke-opacity:1; fill:none\" points=\"\n",
       "  162.964,654.493 189.241,654.493 \n",
       "  \"/>\n",
       "<polyline clip-path=\"url(#clip330)\" style=\"stroke:#000000; stroke-width:4; stroke-opacity:1; fill:none\" points=\"\n",
       "  162.964,390.752 189.241,390.752 \n",
       "  \"/>\n",
       "<polyline clip-path=\"url(#clip330)\" style=\"stroke:#000000; stroke-width:4; stroke-opacity:1; fill:none\" points=\"\n",
       "  162.964,127.011 189.241,127.011 \n",
       "  \"/>\n",
       "<path clip-path=\"url(#clip330)\" d=\"M 0 0 M115.02 1431.51 Q111.408 1431.51 109.58 1435.08 Q107.774 1438.62 107.774 1445.75 Q107.774 1452.86 109.58 1456.42 Q111.408 1459.96 115.02 1459.96 Q118.654 1459.96 120.459 1456.42 Q122.288 1452.86 122.288 1445.75 Q122.288 1438.62 120.459 1435.08 Q118.654 1431.51 115.02 1431.51 M115.02 1427.81 Q120.83 1427.81 123.885 1432.42 Q126.964 1437 126.964 1445.75 Q126.964 1454.48 123.885 1459.08 Q120.83 1463.67 115.02 1463.67 Q109.209 1463.67 106.131 1459.08 Q103.075 1454.48 103.075 1445.75 Q103.075 1437 106.131 1432.42 Q109.209 1427.81 115.02 1427.81 Z\" fill=\"#000000\" fill-rule=\"evenodd\" fill-opacity=\"1\" /><path clip-path=\"url(#clip330)\" d=\"M 0 0 M79.0475 1164.69 L97.4039 1164.69 L97.4039 1168.63 L83.3299 1168.63 L83.3299 1177.1 Q84.3484 1176.75 85.3669 1176.59 Q86.3855 1176.41 87.404 1176.41 Q93.191 1176.41 96.5706 1179.58 Q99.9502 1182.75 99.9502 1188.17 Q99.9502 1193.75 96.478 1196.85 Q93.0058 1199.93 86.6864 1199.93 Q84.5105 1199.93 82.242 1199.56 Q79.9966 1199.19 77.5892 1198.44 L77.5892 1193.75 Q79.6725 1194.88 81.8947 1195.44 Q84.1169 1195.99 86.5938 1195.99 Q90.5984 1195.99 92.9363 1193.88 Q95.2743 1191.78 95.2743 1188.17 Q95.2743 1184.56 92.9363 1182.45 Q90.5984 1180.34 86.5938 1180.34 Q84.7188 1180.34 82.8438 1180.76 Q80.992 1181.18 79.0475 1182.06 L79.0475 1164.69 Z\" fill=\"#000000\" fill-rule=\"evenodd\" fill-opacity=\"1\" /><path clip-path=\"url(#clip330)\" d=\"M 0 0 M115.02 1167.77 Q111.408 1167.77 109.58 1171.34 Q107.774 1174.88 107.774 1182.01 Q107.774 1189.12 109.58 1192.68 Q111.408 1196.22 115.02 1196.22 Q118.654 1196.22 120.459 1192.68 Q122.288 1189.12 122.288 1182.01 Q122.288 1174.88 120.459 1171.34 Q118.654 1167.77 115.02 1167.77 M115.02 1164.07 Q120.83 1164.07 123.885 1168.68 Q126.964 1173.26 126.964 1182.01 Q126.964 1190.74 123.885 1195.34 Q120.83 1199.93 115.02 1199.93 Q109.209 1199.93 106.131 1195.34 Q103.075 1190.74 103.075 1182.01 Q103.075 1173.26 106.131 1168.68 Q109.209 1164.07 115.02 1164.07 Z\" fill=\"#000000\" fill-rule=\"evenodd\" fill-opacity=\"1\" /><path clip-path=\"url(#clip330)\" d=\"M 0 0 M53.0292 931.579 L60.668 931.579 L60.668 905.213 L52.3579 906.88 L52.3579 902.621 L60.6217 900.954 L65.2976 900.954 L65.2976 931.579 L72.9365 931.579 L72.9365 935.514 L53.0292 935.514 L53.0292 931.579 Z\" fill=\"#000000\" fill-rule=\"evenodd\" fill-opacity=\"1\" /><path clip-path=\"url(#clip330)\" d=\"M 0 0 M88.0058 904.033 Q84.3947 904.033 82.566 907.597 Q80.7605 911.139 80.7605 918.269 Q80.7605 925.375 82.566 928.94 Q84.3947 932.482 88.0058 932.482 Q91.6401 932.482 93.4456 928.94 Q95.2743 925.375 95.2743 918.269 Q95.2743 911.139 93.4456 907.597 Q91.6401 904.033 88.0058 904.033 M88.0058 900.329 Q93.816 900.329 96.8715 904.935 Q99.9502 909.519 99.9502 918.269 Q99.9502 926.995 96.8715 931.602 Q93.816 936.185 88.0058 936.185 Q82.1957 936.185 79.117 931.602 Q76.0614 926.995 76.0614 918.269 Q76.0614 909.519 79.117 904.935 Q82.1957 900.329 88.0058 900.329 Z\" fill=\"#000000\" fill-rule=\"evenodd\" fill-opacity=\"1\" /><path clip-path=\"url(#clip330)\" d=\"M 0 0 M115.02 904.033 Q111.408 904.033 109.58 907.597 Q107.774 911.139 107.774 918.269 Q107.774 925.375 109.58 928.94 Q111.408 932.482 115.02 932.482 Q118.654 932.482 120.459 928.94 Q122.288 925.375 122.288 918.269 Q122.288 911.139 120.459 907.597 Q118.654 904.033 115.02 904.033 M115.02 900.329 Q120.83 900.329 123.885 904.935 Q126.964 909.519 126.964 918.269 Q126.964 926.995 123.885 931.602 Q120.83 936.185 115.02 936.185 Q109.209 936.185 106.131 931.602 Q103.075 926.995 103.075 918.269 Q103.075 909.519 106.131 904.935 Q109.209 900.329 115.02 900.329 Z\" fill=\"#000000\" fill-rule=\"evenodd\" fill-opacity=\"1\" /><path clip-path=\"url(#clip330)\" d=\"M 0 0 M54.0245 667.838 L61.6634 667.838 L61.6634 641.472 L53.3532 643.139 L53.3532 638.88 L61.6171 637.213 L66.293 637.213 L66.293 667.838 L73.9318 667.838 L73.9318 671.773 L54.0245 671.773 L54.0245 667.838 Z\" fill=\"#000000\" fill-rule=\"evenodd\" fill-opacity=\"1\" /><path clip-path=\"url(#clip330)\" d=\"M 0 0 M79.0475 637.213 L97.4039 637.213 L97.4039 641.148 L83.3299 641.148 L83.3299 649.62 Q84.3484 649.273 85.3669 649.111 Q86.3855 648.926 87.404 648.926 Q93.191 648.926 96.5706 652.097 Q99.9502 655.269 99.9502 660.685 Q99.9502 666.264 96.478 669.366 Q93.0058 672.444 86.6864 672.444 Q84.5105 672.444 82.242 672.074 Q79.9966 671.704 77.5892 670.963 L77.5892 666.264 Q79.6725 667.398 81.8947 667.954 Q84.1169 668.509 86.5938 668.509 Q90.5984 668.509 92.9363 666.403 Q95.2743 664.296 95.2743 660.685 Q95.2743 657.074 92.9363 654.968 Q90.5984 652.861 86.5938 652.861 Q84.7188 652.861 82.8438 653.278 Q80.992 653.694 79.0475 654.574 L79.0475 637.213 Z\" fill=\"#000000\" fill-rule=\"evenodd\" fill-opacity=\"1\" /><path clip-path=\"url(#clip330)\" d=\"M 0 0 M115.02 640.292 Q111.408 640.292 109.58 643.857 Q107.774 647.398 107.774 654.528 Q107.774 661.634 109.58 665.199 Q111.408 668.741 115.02 668.741 Q118.654 668.741 120.459 665.199 Q122.288 661.634 122.288 654.528 Q122.288 647.398 120.459 643.857 Q118.654 640.292 115.02 640.292 M115.02 636.588 Q120.83 636.588 123.885 641.195 Q126.964 645.778 126.964 654.528 Q126.964 663.255 123.885 667.861 Q120.83 672.444 115.02 672.444 Q109.209 672.444 106.131 667.861 Q103.075 663.255 103.075 654.528 Q103.075 645.778 106.131 641.195 Q109.209 636.588 115.02 636.588 Z\" fill=\"#000000\" fill-rule=\"evenodd\" fill-opacity=\"1\" /><path clip-path=\"url(#clip330)\" d=\"M 0 0 M56.6171 404.097 L72.9365 404.097 L72.9365 408.032 L50.9921 408.032 L50.9921 404.097 Q53.6541 401.342 58.2375 396.713 Q62.8439 392.06 64.0245 390.717 Q66.2698 388.194 67.1494 386.458 Q68.0522 384.699 68.0522 383.009 Q68.0522 380.255 66.1078 378.518 Q64.1865 376.782 61.0847 376.782 Q58.8856 376.782 56.4319 377.546 Q54.0014 378.31 51.2236 379.861 L51.2236 375.139 Q54.0477 374.005 56.5014 373.426 Q58.955 372.847 60.9921 372.847 Q66.3624 372.847 69.5568 375.532 Q72.7513 378.218 72.7513 382.708 Q72.7513 384.838 71.9411 386.759 Q71.1541 388.657 69.0476 391.25 Q68.4689 391.921 65.367 395.139 Q62.2652 398.333 56.6171 404.097 Z\" fill=\"#000000\" fill-rule=\"evenodd\" fill-opacity=\"1\" /><path clip-path=\"url(#clip330)\" d=\"M 0 0 M88.0058 376.551 Q84.3947 376.551 82.566 380.116 Q80.7605 383.657 80.7605 390.787 Q80.7605 397.893 82.566 401.458 Q84.3947 405 88.0058 405 Q91.6401 405 93.4456 401.458 Q95.2743 397.893 95.2743 390.787 Q95.2743 383.657 93.4456 380.116 Q91.6401 376.551 88.0058 376.551 M88.0058 372.847 Q93.816 372.847 96.8715 377.454 Q99.9502 382.037 99.9502 390.787 Q99.9502 399.514 96.8715 404.12 Q93.816 408.703 88.0058 408.703 Q82.1957 408.703 79.117 404.12 Q76.0614 399.514 76.0614 390.787 Q76.0614 382.037 79.117 377.454 Q82.1957 372.847 88.0058 372.847 Z\" fill=\"#000000\" fill-rule=\"evenodd\" fill-opacity=\"1\" /><path clip-path=\"url(#clip330)\" d=\"M 0 0 M115.02 376.551 Q111.408 376.551 109.58 380.116 Q107.774 383.657 107.774 390.787 Q107.774 397.893 109.58 401.458 Q111.408 405 115.02 405 Q118.654 405 120.459 401.458 Q122.288 397.893 122.288 390.787 Q122.288 383.657 120.459 380.116 Q118.654 376.551 115.02 376.551 M115.02 372.847 Q120.83 372.847 123.885 377.454 Q126.964 382.037 126.964 390.787 Q126.964 399.514 123.885 404.12 Q120.83 408.703 115.02 408.703 Q109.209 408.703 106.131 404.12 Q103.075 399.514 103.075 390.787 Q103.075 382.037 106.131 377.454 Q109.209 372.847 115.02 372.847 Z\" fill=\"#000000\" fill-rule=\"evenodd\" fill-opacity=\"1\" /><path clip-path=\"url(#clip330)\" d=\"M 0 0 M57.6125 140.356 L73.9318 140.356 L73.9318 144.291 L51.9875 144.291 L51.9875 140.356 Q54.6495 137.602 59.2328 132.972 Q63.8393 128.319 65.0198 126.977 Q67.2652 124.453 68.1448 122.717 Q69.0476 120.958 69.0476 119.268 Q69.0476 116.514 67.1032 114.778 Q65.1819 113.041 62.08 113.041 Q59.881 113.041 57.4273 113.805 Q54.9967 114.569 52.219 116.12 L52.219 111.398 Q55.043 110.264 57.4967 109.685 Q59.9504 109.106 61.9874 109.106 Q67.3578 109.106 70.5522 111.791 Q73.7466 114.477 73.7466 118.967 Q73.7466 121.097 72.9365 123.018 Q72.1494 124.916 70.0429 127.509 Q69.4642 128.18 66.3624 131.398 Q63.2606 134.592 57.6125 140.356 Z\" fill=\"#000000\" fill-rule=\"evenodd\" fill-opacity=\"1\" /><path clip-path=\"url(#clip330)\" d=\"M 0 0 M79.0475 109.731 L97.4039 109.731 L97.4039 113.666 L83.3299 113.666 L83.3299 122.139 Q84.3484 121.791 85.3669 121.629 Q86.3855 121.444 87.404 121.444 Q93.191 121.444 96.5706 124.615 Q99.9502 127.787 99.9502 133.203 Q99.9502 138.782 96.478 141.884 Q93.0058 144.963 86.6864 144.963 Q84.5105 144.963 82.242 144.592 Q79.9966 144.222 77.5892 143.481 L77.5892 138.782 Q79.6725 139.916 81.8947 140.472 Q84.1169 141.027 86.5938 141.027 Q90.5984 141.027 92.9363 138.921 Q95.2743 136.814 95.2743 133.203 Q95.2743 129.592 92.9363 127.486 Q90.5984 125.379 86.5938 125.379 Q84.7188 125.379 82.8438 125.796 Q80.992 126.213 79.0475 127.092 L79.0475 109.731 Z\" fill=\"#000000\" fill-rule=\"evenodd\" fill-opacity=\"1\" /><path clip-path=\"url(#clip330)\" d=\"M 0 0 M115.02 112.81 Q111.408 112.81 109.58 116.375 Q107.774 119.916 107.774 127.046 Q107.774 134.152 109.58 137.717 Q111.408 141.259 115.02 141.259 Q118.654 141.259 120.459 137.717 Q122.288 134.152 122.288 127.046 Q122.288 119.916 120.459 116.375 Q118.654 112.81 115.02 112.81 M115.02 109.106 Q120.83 109.106 123.885 113.713 Q126.964 118.296 126.964 127.046 Q126.964 135.773 123.885 140.379 Q120.83 144.963 115.02 144.963 Q109.209 144.963 106.131 140.379 Q103.075 135.773 103.075 127.046 Q103.075 118.296 106.131 113.713 Q109.209 109.106 115.02 109.106 Z\" fill=\"#000000\" fill-rule=\"evenodd\" fill-opacity=\"1\" /><polyline clip-path=\"url(#clip332)\" style=\"stroke:#009af9; stroke-width:4; stroke-opacity:1; fill:none\" points=\"\n",
       "  224.939,766.846 242.155,854.708 259.37,931.198 276.585,997.789 293.801,1055.76 311.016,1106.23 328.231,1150.17 345.447,1188.42 362.662,1221.72 379.877,1250.71 \n",
       "  397.093,1275.95 414.308,1297.92 431.523,1317.05 448.739,1333.7 465.954,1348.2 483.169,1360.82 500.385,1371.81 517.6,1381.37 534.815,1389.7 552.031,1396.95 \n",
       "  569.246,1403.26 586.461,1408.76 603.677,1413.54 620.892,1417.7 638.107,1421.33 655.323,1424.49 672.538,1427.23 689.754,1429.62 706.969,1431.71 724.184,1433.52 \n",
       "  741.4,1435.1 758.615,1436.47 775.83,1437.67 793.046,1438.71 810.261,1439.62 827.476,1440.41 844.692,1441.09 861.907,1441.69 879.122,1442.21 896.338,1442.67 \n",
       "  913.553,1443.06 930.768,1443.4 947.984,1443.7 965.199,1443.96 982.414,1444.19 999.63,1444.39 1016.85,1444.56 1034.06,1444.71 1051.28,1444.84 1068.49,1444.95 \n",
       "  1085.71,1445.05 1102.92,1445.14 1120.14,1445.21 1137.35,1445.28 1154.57,1445.33 1171.78,1445.38 1189,1445.43 1206.21,1445.46 1223.43,1445.5 1240.64,1445.52 \n",
       "  1257.86,1445.55 1275.08,1445.57 1292.29,1445.59 1309.51,1445.61 1326.72,1445.62 1343.94,1445.63 1361.15,1445.64 1378.37,1445.65 1395.58,1445.66 1412.8,1445.67 \n",
       "  1430.01,1445.67 1447.23,1445.68 1464.44,1445.68 1481.66,1445.69 1498.87,1445.69 1516.09,1445.69 1533.31,1445.7 1550.52,1445.7 1567.74,1445.7 1584.95,1445.7 \n",
       "  1602.17,1445.71 1619.38,1445.71 1636.6,1445.71 1653.81,1445.71 1671.03,1445.71 1688.24,1445.71 1705.46,1445.71 1722.67,1445.71 1739.89,1445.71 1757.1,1445.71 \n",
       "  1774.32,1445.71 1791.54,1445.71 1808.75,1445.71 1825.97,1445.71 1843.18,1445.71 1860.4,1445.71 1877.61,1445.71 1894.83,1445.71 1912.04,1445.71 1929.26,1445.71 \n",
       "  1946.47,1445.72 1963.69,1445.72 1980.9,1445.72 1998.12,1445.72 2015.34,1445.72 2032.55,1445.72 2049.77,1445.72 2066.98,1445.72 2084.2,1445.72 2101.41,1445.72 \n",
       "  2118.63,1445.72 2135.84,1445.72 2153.06,1445.72 2170.27,1445.72 2187.49,1445.72 2204.7,1445.72 2221.92,1445.72 2239.13,1445.72 2256.35,1445.72 2273.57,1445.72 \n",
       "  2290.78,1445.72 \n",
       "  \"/>\n",
       "<polyline clip-path=\"url(#clip332)\" style=\"stroke:#e26f46; stroke-width:4; stroke-opacity:1; fill:none\" stroke-dasharray=\"16, 10\" points=\"\n",
       "  224.939,1445.65 242.155,1445.65 259.37,1445.65 276.585,1445.65 293.801,1445.65 311.016,1445.65 328.231,1445.65 345.447,1445.65 362.662,1445.65 379.877,1445.65 \n",
       "  397.093,1445.65 414.308,1445.65 431.523,1445.65 448.739,1445.65 465.954,1445.65 483.169,1445.65 500.385,1445.65 517.6,1445.65 534.815,1445.65 552.031,1445.65 \n",
       "  569.246,1445.65 586.461,1445.65 603.677,1445.65 620.892,1445.65 638.107,1445.65 655.323,1445.65 672.538,1445.65 689.754,1445.65 706.969,1445.65 724.184,1445.65 \n",
       "  741.4,1445.65 758.615,1445.65 775.83,1445.65 793.046,1445.65 810.261,1445.65 827.476,1445.65 844.692,1445.65 861.907,1445.65 879.122,1445.65 896.338,1445.65 \n",
       "  913.553,1445.65 930.768,1445.65 947.984,1445.65 965.199,1445.65 982.414,1445.65 999.63,1445.65 1016.85,1445.65 1034.06,1445.65 1051.28,1445.65 1068.49,1445.65 \n",
       "  1085.71,1445.65 1102.92,1445.65 1120.14,1445.65 1137.35,1445.65 1154.57,1445.65 1171.78,1445.65 1189,1445.65 1206.21,1445.65 1223.43,1445.65 1240.64,1445.65 \n",
       "  1257.86,1445.65 1275.08,1445.65 1292.29,1445.65 1309.51,1445.65 1326.72,1445.65 1343.94,1445.65 1361.15,1445.65 1378.37,1445.65 1395.58,1445.65 1412.8,1445.65 \n",
       "  1430.01,1445.65 1447.23,1445.65 1464.44,1445.65 1481.66,1445.65 1498.87,1445.65 1516.09,1445.65 1533.31,1445.65 1550.52,1445.65 1567.74,1445.65 1584.95,1445.65 \n",
       "  1602.17,1445.65 1619.38,1445.65 1636.6,1445.65 1653.81,1445.65 1671.03,1445.65 1688.24,1445.65 1705.46,1445.65 1722.67,1445.65 1739.89,1445.65 1757.1,1445.65 \n",
       "  1774.32,1445.65 1791.54,1445.65 1808.75,1445.65 1825.97,1445.65 1843.18,1445.65 1860.4,1445.65 1877.61,1445.65 1894.83,1445.65 1912.04,1445.65 1929.26,1445.65 \n",
       "  1946.47,1445.65 1963.69,1445.65 1980.9,1445.65 1998.12,1445.65 2015.34,1445.65 2032.55,1445.65 2049.77,1445.65 2066.98,1445.65 2084.2,1445.65 2101.41,1445.65 \n",
       "  2118.63,1445.65 2135.84,1445.65 2153.06,1445.65 2170.27,1445.65 2187.49,1445.65 2204.7,1445.65 2221.92,1445.65 2239.13,1445.65 2256.35,1445.65 2273.57,1445.65 \n",
       "  2290.78,1445.65 \n",
       "  \"/>\n",
       "<polyline clip-path=\"url(#clip332)\" style=\"stroke:#3da44d; stroke-width:4; stroke-opacity:1; fill:none\" points=\"\n",
       "  224.939,87.9763 242.155,263.7 259.37,416.68 276.585,549.861 293.801,665.806 311.016,766.744 328.231,854.619 345.447,931.121 362.662,997.722 379.877,1055.7 \n",
       "  397.093,1106.18 414.308,1150.12 431.523,1188.38 448.739,1221.69 465.954,1250.68 483.169,1275.92 500.385,1297.9 517.6,1317.03 534.815,1333.68 552.031,1348.18 \n",
       "  569.246,1360.81 586.461,1371.8 603.677,1381.36 620.892,1389.69 638.107,1396.94 655.323,1403.25 672.538,1408.75 689.754,1413.53 706.969,1417.7 724.184,1421.33 \n",
       "  741.4,1424.48 758.615,1427.23 775.83,1429.62 793.046,1431.71 810.261,1433.52 827.476,1435.1 844.692,1436.47 861.907,1437.67 879.122,1438.71 896.338,1439.62 \n",
       "  913.553,1440.41 930.768,1441.09 947.984,1441.69 965.199,1442.21 982.414,1442.67 999.63,1443.06 1016.85,1443.4 1034.06,1443.7 1051.28,1443.96 1068.49,1444.19 \n",
       "  1085.71,1444.39 1102.92,1444.56 1120.14,1444.71 1137.35,1444.84 1154.57,1444.95 1171.78,1445.05 1189,1445.14 1206.21,1445.21 1223.43,1445.28 1240.64,1445.33 \n",
       "  1257.86,1445.38 1275.08,1445.43 1292.29,1445.46 1309.51,1445.5 1326.72,1445.52 1343.94,1445.55 1361.15,1445.57 1378.37,1445.59 1395.58,1445.61 1412.8,1445.62 \n",
       "  1430.01,1445.63 1447.23,1445.64 1464.44,1445.65 1481.66,1445.66 1498.87,1445.67 1516.09,1445.67 1533.31,1445.68 1550.52,1445.68 1567.74,1445.69 1584.95,1445.69 \n",
       "  1602.17,1445.69 1619.38,1445.7 1636.6,1445.7 1653.81,1445.7 1671.03,1445.7 1688.24,1445.71 1705.46,1445.71 1722.67,1445.71 1739.89,1445.71 1757.1,1445.71 \n",
       "  1774.32,1445.71 1791.54,1445.71 1808.75,1445.71 1825.97,1445.71 1843.18,1445.71 1860.4,1445.71 1877.61,1445.71 1894.83,1445.71 1912.04,1445.71 1929.26,1445.71 \n",
       "  1946.47,1445.71 1963.69,1445.71 1980.9,1445.71 1998.12,1445.71 2015.34,1445.71 2032.55,1445.72 2049.77,1445.72 2066.98,1445.72 2084.2,1445.72 2101.41,1445.72 \n",
       "  2118.63,1445.72 2135.84,1445.72 2153.06,1445.72 2170.27,1445.72 2187.49,1445.72 2204.7,1445.72 2221.92,1445.72 2239.13,1445.72 2256.35,1445.72 2273.57,1445.72 \n",
       "  2290.78,1445.72 \n",
       "  \"/>\n",
       "<polyline clip-path=\"url(#clip332)\" style=\"stroke:#c271d2; stroke-width:4; stroke-opacity:1; fill:none\" points=\"\n",
       "  224.939,1106.28 242.155,1150.21 259.37,1188.46 276.585,1221.75 293.801,1250.74 311.016,1275.97 328.231,1297.94 345.447,1317.07 362.662,1333.72 379.877,1348.21 \n",
       "  397.093,1360.83 414.308,1371.82 431.523,1381.38 448.739,1389.71 465.954,1396.96 483.169,1403.27 500.385,1408.76 517.6,1413.54 534.815,1417.71 552.031,1421.33 \n",
       "  569.246,1424.49 586.461,1427.24 603.677,1429.63 620.892,1431.71 638.107,1433.52 655.323,1435.1 672.538,1436.47 689.754,1437.67 706.969,1438.71 724.184,1439.62 \n",
       "  741.4,1440.41 758.615,1441.09 775.83,1441.69 793.046,1442.21 810.261,1442.67 827.476,1443.06 844.692,1443.4 861.907,1443.7 879.122,1443.96 896.338,1444.19 \n",
       "  913.553,1444.39 930.768,1444.56 947.984,1444.71 965.199,1444.84 982.414,1444.95 999.63,1445.05 1016.85,1445.14 1034.06,1445.21 1051.28,1445.28 1068.49,1445.33 \n",
       "  1085.71,1445.38 1102.92,1445.43 1120.14,1445.46 1137.35,1445.5 1154.57,1445.52 1171.78,1445.55 1189,1445.57 1206.21,1445.59 1223.43,1445.61 1240.64,1445.62 \n",
       "  1257.86,1445.63 1275.08,1445.64 1292.29,1445.65 1309.51,1445.66 1326.72,1445.67 1343.94,1445.67 1361.15,1445.68 1378.37,1445.68 1395.58,1445.69 1412.8,1445.69 \n",
       "  1430.01,1445.69 1447.23,1445.7 1464.44,1445.7 1481.66,1445.7 1498.87,1445.7 1516.09,1445.71 1533.31,1445.71 1550.52,1445.71 1567.74,1445.71 1584.95,1445.71 \n",
       "  1602.17,1445.71 1619.38,1445.71 1636.6,1445.71 1653.81,1445.71 1671.03,1445.71 1688.24,1445.71 1705.46,1445.71 1722.67,1445.71 1739.89,1445.71 1757.1,1445.71 \n",
       "  1774.32,1445.71 1791.54,1445.71 1808.75,1445.71 1825.97,1445.71 1843.18,1445.71 1860.4,1445.72 1877.61,1445.72 1894.83,1445.72 1912.04,1445.72 1929.26,1445.72 \n",
       "  1946.47,1445.72 1963.69,1445.72 1980.9,1445.72 1998.12,1445.72 2015.34,1445.72 2032.55,1445.72 2049.77,1445.72 2066.98,1445.72 2084.2,1445.72 2101.41,1445.72 \n",
       "  2118.63,1445.72 2135.84,1445.72 2153.06,1445.72 2170.27,1445.72 2187.49,1445.72 2204.7,1445.72 2221.92,1445.72 2239.13,1445.72 2256.35,1445.72 2273.57,1445.72 \n",
       "  2290.78,1445.72 \n",
       "  \"/>\n",
       "<circle clip-path=\"url(#clip332)\" cx=\"1377.64\" cy=\"1445.65\" r=\"10\" fill=\"#ffff00\" fill-rule=\"evenodd\" fill-opacity=\"1\" stroke=\"#000000\" stroke-opacity=\"1\" stroke-width=\"3.2\"/>\n",
       "<circle clip-path=\"url(#clip332)\" cx=\"1463.73\" cy=\"1445.65\" r=\"10\" fill=\"#ff0000\" fill-rule=\"evenodd\" fill-opacity=\"1\" stroke=\"#000000\" stroke-opacity=\"1\" stroke-width=\"3.2\"/>\n",
       "<circle clip-path=\"url(#clip332)\" cx=\"1291.54\" cy=\"1445.65\" r=\"10\" fill=\"#ffc0cb\" fill-rule=\"evenodd\" fill-opacity=\"1\" stroke=\"#000000\" stroke-opacity=\"1\" stroke-width=\"3.2\"/>\n",
       "<polyline clip-path=\"url(#clip332)\" style=\"stroke:#c68125; stroke-width:4; stroke-opacity:1; fill:none\" stroke-dasharray=\"16, 10\" points=\"\n",
       "  224.939,390.752 242.155,390.752 259.37,390.752 276.585,390.752 293.801,390.752 311.016,390.752 328.231,390.752 345.447,390.752 362.662,390.752 379.877,390.752 \n",
       "  397.093,390.752 414.308,390.752 431.523,390.752 448.739,390.752 465.954,390.752 483.169,390.752 500.385,390.752 517.6,390.752 534.815,390.752 552.031,390.752 \n",
       "  569.246,390.752 586.461,390.752 603.677,390.752 620.892,390.752 638.107,390.752 655.323,390.752 672.538,390.752 689.754,390.752 706.969,390.752 724.184,390.752 \n",
       "  741.4,390.752 758.615,390.752 775.83,390.752 793.046,390.752 810.261,390.752 827.476,390.752 844.692,390.752 861.907,390.752 879.122,390.752 896.338,390.752 \n",
       "  913.553,390.752 930.768,390.752 947.984,390.752 965.199,390.752 982.414,390.752 999.63,390.752 1016.85,390.752 1034.06,390.752 1051.28,390.752 1068.49,390.752 \n",
       "  1085.71,390.752 1102.92,390.752 1120.14,390.752 1137.35,390.752 1154.57,390.752 1171.78,390.752 1189,390.752 1206.21,390.752 1223.43,390.752 1240.64,390.752 \n",
       "  1257.86,390.752 1275.08,390.752 1292.29,390.752 1309.51,390.752 1326.72,390.752 1343.94,390.752 1361.15,390.752 1378.37,390.752 1395.58,390.752 1412.8,390.752 \n",
       "  1430.01,390.752 1447.23,390.752 1464.44,390.752 1481.66,390.752 1498.87,390.752 1516.09,390.752 1533.31,390.752 1550.52,390.752 1567.74,390.752 1584.95,390.752 \n",
       "  1602.17,390.752 1619.38,390.752 1636.6,390.752 1653.81,390.752 1671.03,390.752 1688.24,390.752 1705.46,390.752 1722.67,390.752 1739.89,390.752 1757.1,390.752 \n",
       "  1774.32,390.752 1791.54,390.752 1808.75,390.752 1825.97,390.752 1843.18,390.752 1860.4,390.752 1877.61,390.752 1894.83,390.752 1912.04,390.752 1929.26,390.752 \n",
       "  1946.47,390.752 1963.69,390.752 1980.9,390.752 1998.12,390.752 2015.34,390.752 2032.55,390.752 2049.77,390.752 2066.98,390.752 2084.2,390.752 2101.41,390.752 \n",
       "  2118.63,390.752 2135.84,390.752 2153.06,390.752 2170.27,390.752 2187.49,390.752 2204.7,390.752 2221.92,390.752 2239.13,390.752 2256.35,390.752 2273.57,390.752 \n",
       "  2290.78,390.752 \n",
       "  \"/>\n",
       "<polyline clip-path=\"url(#clip332)\" style=\"stroke:#d3d3d3; stroke-width:4; stroke-opacity:1; fill:none\" points=\"\n",
       "  1344.38,1445.19 1395.61,1414.49 \n",
       "  \"/>\n",
       "<polyline clip-path=\"url(#clip332)\" style=\"stroke:#d3d3d3; stroke-width:4; stroke-opacity:1; fill:none\" points=\"\n",
       "  1085.71,1445.72 1085.71,1445.19 1602.17,1445.19 1602.17,1445.72 1085.71,1445.72 \n",
       "  \"/>\n",
       "<path clip-path=\"url(#clip330)\" d=\"\n",
       "M1813.86 639.538 L2279.76 639.538 L2279.76 95.2176 L1813.86 95.2176  Z\n",
       "  \" fill=\"#ffffff\" fill-rule=\"evenodd\" fill-opacity=\"1\"/>\n",
       "<polyline clip-path=\"url(#clip330)\" style=\"stroke:#000000; stroke-width:4; stroke-opacity:1; fill:none\" points=\"\n",
       "  1813.86,639.538 2279.76,639.538 2279.76,95.2176 1813.86,95.2176 1813.86,639.538 \n",
       "  \"/>\n",
       "<polyline clip-path=\"url(#clip330)\" style=\"stroke:#009af9; stroke-width:4; stroke-opacity:1; fill:none\" points=\"\n",
       "  1838.19,155.698 1984.18,155.698 \n",
       "  \"/>\n",
       "<path clip-path=\"url(#clip330)\" d=\"M 0 0 M2009.18 169.042 L2016.82 169.042 L2016.82 142.677 L2008.51 144.343 L2008.51 140.084 L2016.77 138.418 L2021.45 138.418 L2021.45 169.042 L2029.09 169.042 L2029.09 172.978 L2009.18 172.978 L2009.18 169.042 Z\" fill=\"#000000\" fill-rule=\"evenodd\" fill-opacity=\"1\" /><path clip-path=\"url(#clip330)\" d=\"M 0 0 M2044.16 141.496 Q2040.55 141.496 2038.72 145.061 Q2036.91 148.603 2036.91 155.732 Q2036.91 162.839 2038.72 166.404 Q2040.55 169.945 2044.16 169.945 Q2047.79 169.945 2049.6 166.404 Q2051.43 162.839 2051.43 155.732 Q2051.43 148.603 2049.6 145.061 Q2047.79 141.496 2044.16 141.496 M2044.16 137.793 Q2049.97 137.793 2053.02 142.399 Q2056.1 146.982 2056.1 155.732 Q2056.1 164.459 2053.02 169.066 Q2049.97 173.649 2044.16 173.649 Q2038.35 173.649 2035.27 169.066 Q2032.21 164.459 2032.21 155.732 Q2032.21 146.982 2035.27 142.399 Q2038.35 137.793 2044.16 137.793 Z\" fill=\"#000000\" fill-rule=\"evenodd\" fill-opacity=\"1\" /><path clip-path=\"url(#clip330)\" d=\"M 0 0 M2071.17 141.496 Q2067.56 141.496 2065.73 145.061 Q2063.93 148.603 2063.93 155.732 Q2063.93 162.839 2065.73 166.404 Q2067.56 169.945 2071.17 169.945 Q2074.81 169.945 2076.61 166.404 Q2078.44 162.839 2078.44 155.732 Q2078.44 148.603 2076.61 145.061 Q2074.81 141.496 2071.17 141.496 M2071.17 137.793 Q2076.98 137.793 2080.04 142.399 Q2083.12 146.982 2083.12 155.732 Q2083.12 164.459 2080.04 169.066 Q2076.98 173.649 2071.17 173.649 Q2065.36 173.649 2062.28 169.066 Q2059.23 164.459 2059.23 155.732 Q2059.23 146.982 2062.28 142.399 Q2065.36 137.793 2071.17 137.793 Z\" fill=\"#000000\" fill-rule=\"evenodd\" fill-opacity=\"1\" /><path clip-path=\"url(#clip330)\" d=\"M 0 0 M2098.18 141.496 Q2094.57 141.496 2092.75 145.061 Q2090.94 148.603 2090.94 155.732 Q2090.94 162.839 2092.75 166.404 Q2094.57 169.945 2098.18 169.945 Q2101.82 169.945 2103.62 166.404 Q2105.45 162.839 2105.45 155.732 Q2105.45 148.603 2103.62 145.061 Q2101.82 141.496 2098.18 141.496 M2098.18 137.793 Q2103.99 137.793 2107.05 142.399 Q2110.13 146.982 2110.13 155.732 Q2110.13 164.459 2107.05 169.066 Q2103.99 173.649 2098.18 173.649 Q2092.37 173.649 2089.3 169.066 Q2086.24 164.459 2086.24 155.732 Q2086.24 146.982 2089.3 142.399 Q2092.37 137.793 2098.18 137.793 Z\" fill=\"#000000\" fill-rule=\"evenodd\" fill-opacity=\"1\" /><path clip-path=\"url(#clip330)\" d=\"M 0 0 M2149.85 152.029 Q2151.45 149.158 2153.67 147.793 Q2155.89 146.427 2158.9 146.427 Q2162.95 146.427 2165.15 149.274 Q2167.35 152.098 2167.35 157.329 L2167.35 172.978 L2163.07 172.978 L2163.07 157.468 Q2163.07 153.742 2161.75 151.936 Q2160.43 150.13 2157.72 150.13 Q2154.41 150.13 2152.49 152.33 Q2150.57 154.529 2150.57 158.325 L2150.57 172.978 L2146.29 172.978 L2146.29 157.468 Q2146.29 153.718 2144.97 151.936 Q2143.65 150.13 2140.89 150.13 Q2137.63 150.13 2135.71 152.353 Q2133.79 154.552 2133.79 158.325 L2133.79 172.978 L2129.5 172.978 L2129.5 147.052 L2133.79 147.052 L2133.79 151.08 Q2135.24 148.695 2137.28 147.561 Q2139.32 146.427 2142.12 146.427 Q2144.94 146.427 2146.91 147.862 Q2148.9 149.297 2149.85 152.029 Z\" fill=\"#000000\" fill-rule=\"evenodd\" fill-opacity=\"1\" /><path clip-path=\"url(#clip330)\" d=\"M 0 0 M2188.88 159.714 Q2188.88 155.084 2186.96 152.538 Q2185.06 149.992 2181.61 149.992 Q2178.18 149.992 2176.26 152.538 Q2174.36 155.084 2174.36 159.714 Q2174.36 164.32 2176.26 166.866 Q2178.18 169.413 2181.61 169.413 Q2185.06 169.413 2186.96 166.866 Q2188.88 164.32 2188.88 159.714 M2193.14 169.76 Q2193.14 176.38 2190.2 179.598 Q2187.26 182.839 2181.19 182.839 Q2178.95 182.839 2176.96 182.491 Q2174.97 182.167 2173.09 181.473 L2173.09 177.329 Q2174.97 178.348 2176.8 178.834 Q2178.62 179.32 2180.52 179.32 Q2184.71 179.32 2186.8 177.121 Q2188.88 174.945 2188.88 170.524 L2188.88 168.417 Q2187.56 170.709 2185.5 171.843 Q2183.44 172.978 2180.57 172.978 Q2175.8 172.978 2172.88 169.343 Q2169.97 165.709 2169.97 159.714 Q2169.97 153.695 2172.88 150.061 Q2175.8 146.427 2180.57 146.427 Q2183.44 146.427 2185.5 147.561 Q2187.56 148.695 2188.88 150.987 L2188.88 147.052 L2193.14 147.052 L2193.14 169.76 Z\" fill=\"#000000\" fill-rule=\"evenodd\" fill-opacity=\"1\" /><polyline clip-path=\"url(#clip330)\" style=\"stroke:#e26f46; stroke-width:4; stroke-opacity:1; fill:none\" stroke-dasharray=\"16, 10\" points=\"\n",
       "  1838.19,216.178 1984.18,216.178 \n",
       "  \"/>\n",
       "<path clip-path=\"url(#clip330)\" d=\"M 0 0 M2008.51 198.898 L2015.48 198.898 L2024.3 222.416 L2033.16 198.898 L2040.13 198.898 L2040.13 233.458 L2035.57 233.458 L2035.57 203.11 L2026.66 226.814 L2021.96 226.814 L2013.05 203.11 L2013.05 233.458 L2008.51 233.458 L2008.51 198.898 Z\" fill=\"#000000\" fill-rule=\"evenodd\" fill-opacity=\"1\" /><path clip-path=\"url(#clip330)\" d=\"M 0 0 M2044.78 198.898 L2049.46 198.898 L2049.46 233.458 L2044.78 233.458 L2044.78 198.898 Z\" fill=\"#000000\" fill-rule=\"evenodd\" fill-opacity=\"1\" /><path clip-path=\"url(#clip330)\" d=\"M 0 0 M2079.99 201.56 L2079.99 206.49 Q2077.63 204.291 2074.94 203.203 Q2072.28 202.115 2069.27 202.115 Q2063.35 202.115 2060.2 205.749 Q2057.05 209.36 2057.05 216.212 Q2057.05 223.041 2060.2 226.675 Q2063.35 230.286 2069.27 230.286 Q2072.28 230.286 2074.94 229.198 Q2077.63 228.11 2079.99 225.911 L2079.99 230.796 Q2077.54 232.462 2074.78 233.296 Q2072.05 234.129 2069 234.129 Q2061.15 234.129 2056.63 229.337 Q2052.12 224.522 2052.12 216.212 Q2052.12 207.879 2056.63 203.087 Q2061.15 198.273 2069 198.273 Q2072.1 198.273 2074.83 199.106 Q2077.58 199.916 2079.99 201.56 Z\" fill=\"#000000\" fill-rule=\"evenodd\" fill-opacity=\"1\" /><polyline clip-path=\"url(#clip330)\" style=\"stroke:#3da44d; stroke-width:4; stroke-opacity:1; fill:none\" points=\"\n",
       "  1838.19,276.658 1984.18,276.658 \n",
       "  \"/>\n",
       "<path clip-path=\"url(#clip330)\" d=\"M 0 0 M2014.13 290.002 L2030.45 290.002 L2030.45 293.938 L2008.51 293.938 L2008.51 290.002 Q2011.17 287.248 2015.75 282.618 Q2020.36 277.965 2021.54 276.623 Q2023.79 274.1 2024.67 272.364 Q2025.57 270.604 2025.57 268.915 Q2025.57 266.16 2023.63 264.424 Q2021.7 262.688 2018.6 262.688 Q2016.4 262.688 2013.95 263.452 Q2011.52 264.215 2008.74 265.766 L2008.74 261.044 Q2011.56 259.91 2014.02 259.331 Q2016.47 258.753 2018.51 258.753 Q2023.88 258.753 2027.07 261.438 Q2030.27 264.123 2030.27 268.614 Q2030.27 270.743 2029.46 272.665 Q2028.67 274.563 2026.56 277.155 Q2025.99 277.827 2022.88 281.044 Q2019.78 284.239 2014.13 290.002 Z\" fill=\"#000000\" fill-rule=\"evenodd\" fill-opacity=\"1\" /><path clip-path=\"url(#clip330)\" d=\"M 0 0 M2045.52 262.456 Q2041.91 262.456 2040.08 266.021 Q2038.28 269.563 2038.28 276.692 Q2038.28 283.799 2040.08 287.364 Q2041.91 290.905 2045.52 290.905 Q2049.16 290.905 2050.96 287.364 Q2052.79 283.799 2052.79 276.692 Q2052.79 269.563 2050.96 266.021 Q2049.16 262.456 2045.52 262.456 M2045.52 258.753 Q2051.33 258.753 2054.39 263.359 Q2057.47 267.942 2057.47 276.692 Q2057.47 285.419 2054.39 290.026 Q2051.33 294.609 2045.52 294.609 Q2039.71 294.609 2036.63 290.026 Q2033.58 285.419 2033.58 276.692 Q2033.58 267.942 2036.63 263.359 Q2039.71 258.753 2045.52 258.753 Z\" fill=\"#000000\" fill-rule=\"evenodd\" fill-opacity=\"1\" /><path clip-path=\"url(#clip330)\" d=\"M 0 0 M2072.54 262.456 Q2068.93 262.456 2067.1 266.021 Q2065.29 269.563 2065.29 276.692 Q2065.29 283.799 2067.1 287.364 Q2068.93 290.905 2072.54 290.905 Q2076.17 290.905 2077.98 287.364 Q2079.81 283.799 2079.81 276.692 Q2079.81 269.563 2077.98 266.021 Q2076.17 262.456 2072.54 262.456 M2072.54 258.753 Q2078.35 258.753 2081.4 263.359 Q2084.48 267.942 2084.48 276.692 Q2084.48 285.419 2081.4 290.026 Q2078.35 294.609 2072.54 294.609 Q2066.73 294.609 2063.65 290.026 Q2060.59 285.419 2060.59 276.692 Q2060.59 267.942 2063.65 263.359 Q2066.73 258.753 2072.54 258.753 Z\" fill=\"#000000\" fill-rule=\"evenodd\" fill-opacity=\"1\" /><path clip-path=\"url(#clip330)\" d=\"M 0 0 M2099.55 262.456 Q2095.94 262.456 2094.11 266.021 Q2092.31 269.563 2092.31 276.692 Q2092.31 283.799 2094.11 287.364 Q2095.94 290.905 2099.55 290.905 Q2103.18 290.905 2104.99 287.364 Q2106.82 283.799 2106.82 276.692 Q2106.82 269.563 2104.99 266.021 Q2103.18 262.456 2099.55 262.456 M2099.55 258.753 Q2105.36 258.753 2108.42 263.359 Q2111.49 267.942 2111.49 276.692 Q2111.49 285.419 2108.42 290.026 Q2105.36 294.609 2099.55 294.609 Q2093.74 294.609 2090.66 290.026 Q2087.61 285.419 2087.61 276.692 Q2087.61 267.942 2090.66 263.359 Q2093.74 258.753 2099.55 258.753 Z\" fill=\"#000000\" fill-rule=\"evenodd\" fill-opacity=\"1\" /><path clip-path=\"url(#clip330)\" d=\"M 0 0 M2151.22 272.989 Q2152.81 270.118 2155.04 268.753 Q2157.26 267.387 2160.27 267.387 Q2164.32 267.387 2166.52 270.234 Q2168.72 273.058 2168.72 278.289 L2168.72 293.938 L2164.43 293.938 L2164.43 278.428 Q2164.43 274.702 2163.12 272.896 Q2161.8 271.09 2159.09 271.09 Q2155.78 271.09 2153.86 273.29 Q2151.93 275.489 2151.93 279.285 L2151.93 293.938 L2147.65 293.938 L2147.65 278.428 Q2147.65 274.678 2146.33 272.896 Q2145.01 271.09 2142.26 271.09 Q2138.99 271.09 2137.07 273.313 Q2135.15 275.512 2135.15 279.285 L2135.15 293.938 L2130.87 293.938 L2130.87 268.012 L2135.15 268.012 L2135.15 272.04 Q2136.61 269.655 2138.65 268.521 Q2140.68 267.387 2143.49 267.387 Q2146.31 267.387 2148.28 268.822 Q2150.27 270.257 2151.22 272.989 Z\" fill=\"#000000\" fill-rule=\"evenodd\" fill-opacity=\"1\" /><path clip-path=\"url(#clip330)\" d=\"M 0 0 M2190.24 280.674 Q2190.24 276.044 2188.32 273.498 Q2186.43 270.952 2182.98 270.952 Q2179.55 270.952 2177.63 273.498 Q2175.73 276.044 2175.73 280.674 Q2175.73 285.28 2177.63 287.826 Q2179.55 290.373 2182.98 290.373 Q2186.43 290.373 2188.32 287.826 Q2190.24 285.28 2190.24 280.674 M2194.5 290.72 Q2194.5 297.34 2191.56 300.558 Q2188.62 303.799 2182.56 303.799 Q2180.31 303.799 2178.32 303.451 Q2176.33 303.127 2174.46 302.433 L2174.46 298.289 Q2176.33 299.308 2178.16 299.794 Q2179.99 300.28 2181.89 300.28 Q2186.08 300.28 2188.16 298.081 Q2190.24 295.905 2190.24 291.484 L2190.24 289.377 Q2188.93 291.669 2186.86 292.803 Q2184.8 293.938 2181.93 293.938 Q2177.17 293.938 2174.25 290.303 Q2171.33 286.669 2171.33 280.674 Q2171.33 274.655 2174.25 271.021 Q2177.17 267.387 2181.93 267.387 Q2184.8 267.387 2186.86 268.521 Q2188.93 269.655 2190.24 271.947 L2190.24 268.012 L2194.5 268.012 L2194.5 290.72 Z\" fill=\"#000000\" fill-rule=\"evenodd\" fill-opacity=\"1\" /><polyline clip-path=\"url(#clip330)\" style=\"stroke:#c271d2; stroke-width:4; stroke-opacity:1; fill:none\" points=\"\n",
       "  1838.19,337.138 1984.18,337.138 \n",
       "  \"/>\n",
       "<path clip-path=\"url(#clip330)\" d=\"M 0 0 M2009.97 319.858 L2028.32 319.858 L2028.32 323.793 L2014.25 323.793 L2014.25 332.265 Q2015.27 331.918 2016.29 331.756 Q2017.31 331.57 2018.32 331.57 Q2024.11 331.57 2027.49 334.742 Q2030.87 337.913 2030.87 343.33 Q2030.87 348.908 2027.4 352.01 Q2023.93 355.089 2017.61 355.089 Q2015.43 355.089 2013.16 354.718 Q2010.92 354.348 2008.51 353.607 L2008.51 348.908 Q2010.59 350.043 2012.81 350.598 Q2015.04 351.154 2017.51 351.154 Q2021.52 351.154 2023.86 349.047 Q2026.19 346.941 2026.19 343.33 Q2026.19 339.719 2023.86 337.612 Q2021.52 335.506 2017.51 335.506 Q2015.64 335.506 2013.76 335.922 Q2011.91 336.339 2009.97 337.219 L2009.97 319.858 Z\" fill=\"#000000\" fill-rule=\"evenodd\" fill-opacity=\"1\" /><path clip-path=\"url(#clip330)\" d=\"M 0 0 M2045.94 322.936 Q2042.33 322.936 2040.5 326.501 Q2038.69 330.043 2038.69 337.172 Q2038.69 344.279 2040.5 347.844 Q2042.33 351.385 2045.94 351.385 Q2049.57 351.385 2051.38 347.844 Q2053.21 344.279 2053.21 337.172 Q2053.21 330.043 2051.38 326.501 Q2049.57 322.936 2045.94 322.936 M2045.94 319.233 Q2051.75 319.233 2054.81 323.839 Q2057.88 328.422 2057.88 337.172 Q2057.88 345.899 2054.81 350.506 Q2051.75 355.089 2045.94 355.089 Q2040.13 355.089 2037.05 350.506 Q2034 345.899 2034 337.172 Q2034 328.422 2037.05 323.839 Q2040.13 319.233 2045.94 319.233 Z\" fill=\"#000000\" fill-rule=\"evenodd\" fill-opacity=\"1\" /><path clip-path=\"url(#clip330)\" d=\"M 0 0 M2072.95 322.936 Q2069.34 322.936 2067.51 326.501 Q2065.71 330.043 2065.71 337.172 Q2065.71 344.279 2067.51 347.844 Q2069.34 351.385 2072.95 351.385 Q2076.59 351.385 2078.39 347.844 Q2080.22 344.279 2080.22 337.172 Q2080.22 330.043 2078.39 326.501 Q2076.59 322.936 2072.95 322.936 M2072.95 319.233 Q2078.76 319.233 2081.82 323.839 Q2084.9 328.422 2084.9 337.172 Q2084.9 345.899 2081.82 350.506 Q2078.76 355.089 2072.95 355.089 Q2067.14 355.089 2064.06 350.506 Q2061.01 345.899 2061.01 337.172 Q2061.01 328.422 2064.06 323.839 Q2067.14 319.233 2072.95 319.233 Z\" fill=\"#000000\" fill-rule=\"evenodd\" fill-opacity=\"1\" /><path clip-path=\"url(#clip330)\" d=\"M 0 0 M2089.97 348.538 L2094.85 348.538 L2094.85 354.418 L2089.97 354.418 L2089.97 348.538 Z\" fill=\"#000000\" fill-rule=\"evenodd\" fill-opacity=\"1\" /><path clip-path=\"url(#clip330)\" d=\"M 0 0 M2109.92 322.936 Q2106.31 322.936 2104.48 326.501 Q2102.68 330.043 2102.68 337.172 Q2102.68 344.279 2104.48 347.844 Q2106.31 351.385 2109.92 351.385 Q2113.56 351.385 2115.36 347.844 Q2117.19 344.279 2117.19 337.172 Q2117.19 330.043 2115.36 326.501 Q2113.56 322.936 2109.92 322.936 M2109.92 319.233 Q2115.73 319.233 2118.79 323.839 Q2121.87 328.422 2121.87 337.172 Q2121.87 345.899 2118.79 350.506 Q2115.73 355.089 2109.92 355.089 Q2104.11 355.089 2101.03 350.506 Q2097.98 345.899 2097.98 337.172 Q2097.98 328.422 2101.03 323.839 Q2104.11 319.233 2109.92 319.233 Z\" fill=\"#000000\" fill-rule=\"evenodd\" fill-opacity=\"1\" /><path clip-path=\"url(#clip330)\" d=\"M 0 0 M2161.59 333.469 Q2163.18 330.598 2165.41 329.233 Q2167.63 327.867 2170.64 327.867 Q2174.69 327.867 2176.89 330.714 Q2179.09 333.538 2179.09 338.769 L2179.09 354.418 L2174.8 354.418 L2174.8 338.908 Q2174.8 335.182 2173.49 333.376 Q2172.17 331.57 2169.46 331.57 Q2166.15 331.57 2164.23 333.77 Q2162.3 335.969 2162.3 339.765 L2162.3 354.418 L2158.02 354.418 L2158.02 338.908 Q2158.02 335.158 2156.7 333.376 Q2155.38 331.57 2152.63 331.57 Q2149.37 331.57 2147.44 333.793 Q2145.52 335.992 2145.52 339.765 L2145.52 354.418 L2141.24 354.418 L2141.24 328.492 L2145.52 328.492 L2145.52 332.52 Q2146.98 330.135 2149.02 329.001 Q2151.05 327.867 2153.86 327.867 Q2156.68 327.867 2158.65 329.302 Q2160.64 330.737 2161.59 333.469 Z\" fill=\"#000000\" fill-rule=\"evenodd\" fill-opacity=\"1\" /><path clip-path=\"url(#clip330)\" d=\"M 0 0 M2200.61 341.154 Q2200.61 336.524 2198.69 333.978 Q2196.8 331.432 2193.35 331.432 Q2189.92 331.432 2188 333.978 Q2186.1 336.524 2186.1 341.154 Q2186.1 345.76 2188 348.306 Q2189.92 350.853 2193.35 350.853 Q2196.8 350.853 2198.69 348.306 Q2200.61 345.76 2200.61 341.154 M2204.87 351.2 Q2204.87 357.82 2201.93 361.038 Q2198.99 364.279 2192.93 364.279 Q2190.68 364.279 2188.69 363.931 Q2186.7 363.607 2184.83 362.913 L2184.83 358.769 Q2186.7 359.788 2188.53 360.274 Q2190.36 360.76 2192.26 360.76 Q2196.45 360.76 2198.53 358.561 Q2200.61 356.385 2200.61 351.964 L2200.61 349.857 Q2199.3 352.149 2197.24 353.283 Q2195.18 354.418 2192.3 354.418 Q2187.54 354.418 2184.62 350.783 Q2181.7 347.149 2181.7 341.154 Q2181.7 335.135 2184.62 331.501 Q2187.54 327.867 2192.3 327.867 Q2195.18 327.867 2197.24 329.001 Q2199.3 330.135 2200.61 332.427 L2200.61 328.492 L2204.87 328.492 L2204.87 351.2 Z\" fill=\"#000000\" fill-rule=\"evenodd\" fill-opacity=\"1\" /><polyline clip-path=\"url(#clip330)\" style=\"stroke:#ffff00; stroke-width:4; stroke-opacity:1; fill:none\" points=\"\n",
       "  1838.19,397.618 1984.18,397.618 \n",
       "  \"/>\n",
       "<circle clip-path=\"url(#clip330)\" cx=\"1911.19\" cy=\"397.618\" r=\"23\" fill=\"#ffff00\" fill-rule=\"evenodd\" fill-opacity=\"1\" stroke=\"#000000\" stroke-opacity=\"1\" stroke-width=\"6.82667\"/>\n",
       "<path clip-path=\"url(#clip330)\" d=\"M 0 0 M2015.92 381.611 L2015.92 388.972 L2024.69 388.972 L2024.69 392.282 L2015.92 392.282 L2015.92 406.356 Q2015.92 409.527 2016.77 410.43 Q2017.65 411.333 2020.31 411.333 L2024.69 411.333 L2024.69 414.898 L2020.31 414.898 Q2015.38 414.898 2013.51 413.069 Q2011.63 411.217 2011.63 406.356 L2011.63 392.282 L2008.51 392.282 L2008.51 388.972 L2011.63 388.972 L2011.63 381.611 L2015.92 381.611 Z\" fill=\"#000000\" fill-rule=\"evenodd\" fill-opacity=\"1\" /><path clip-path=\"url(#clip330)\" d=\"M 0 0 M2061.29 392.907 L2061.29 378.879 L2065.55 378.879 L2065.55 414.898 L2061.29 414.898 L2061.29 411.009 Q2059.94 413.323 2057.88 414.458 Q2055.85 415.569 2052.98 415.569 Q2048.28 415.569 2045.31 411.819 Q2042.37 408.069 2042.37 401.958 Q2042.37 395.847 2045.31 392.097 Q2048.28 388.347 2052.98 388.347 Q2055.85 388.347 2057.88 389.481 Q2059.94 390.592 2061.29 392.907 M2046.77 401.958 Q2046.77 406.657 2048.69 409.342 Q2050.64 412.004 2054.02 412.004 Q2057.4 412.004 2059.34 409.342 Q2061.29 406.657 2061.29 401.958 Q2061.29 397.259 2059.34 394.597 Q2057.4 391.912 2054.02 391.912 Q2050.64 391.912 2048.69 394.597 Q2046.77 397.259 2046.77 401.958 Z\" fill=\"#000000\" fill-rule=\"evenodd\" fill-opacity=\"1\" /><path clip-path=\"url(#clip330)\" d=\"M 0 0 M2070.01 378.879 L2074.27 378.879 L2074.27 414.898 L2070.01 414.898 L2070.01 378.879 Z\" fill=\"#000000\" fill-rule=\"evenodd\" fill-opacity=\"1\" /><path clip-path=\"url(#clip330)\" d=\"M 0 0 M2090.52 401.865 Q2085.36 401.865 2083.37 403.046 Q2081.38 404.226 2081.38 407.074 Q2081.38 409.342 2082.86 410.685 Q2084.37 412.004 2086.93 412.004 Q2090.48 412.004 2092.61 409.504 Q2094.76 406.981 2094.76 402.814 L2094.76 401.865 L2090.52 401.865 M2099.02 400.106 L2099.02 414.898 L2094.76 414.898 L2094.76 410.962 Q2093.3 413.323 2091.12 414.458 Q2088.95 415.569 2085.8 415.569 Q2081.82 415.569 2079.46 413.347 Q2077.12 411.101 2077.12 407.351 Q2077.12 402.976 2080.04 400.754 Q2082.98 398.532 2088.79 398.532 L2094.76 398.532 L2094.76 398.115 Q2094.76 395.175 2092.81 393.578 Q2090.89 391.958 2087.4 391.958 Q2085.18 391.958 2083.07 392.49 Q2080.96 393.023 2079.02 394.087 L2079.02 390.152 Q2081.36 389.25 2083.56 388.81 Q2085.75 388.347 2087.84 388.347 Q2093.46 388.347 2096.24 391.263 Q2099.02 394.18 2099.02 400.106 Z\" fill=\"#000000\" fill-rule=\"evenodd\" fill-opacity=\"1\" /><path clip-path=\"url(#clip330)\" d=\"M 0 0 M2119.97 410.962 L2127.61 410.962 L2127.61 384.597 L2119.3 386.263 L2119.3 382.004 L2127.56 380.338 L2132.24 380.338 L2132.24 410.962 L2139.87 410.962 L2139.87 414.898 L2119.97 414.898 L2119.97 410.962 Z\" fill=\"#000000\" fill-rule=\"evenodd\" fill-opacity=\"1\" /><path clip-path=\"url(#clip330)\" d=\"M 0 0 M2154.94 383.416 Q2151.33 383.416 2149.5 386.981 Q2147.7 390.523 2147.7 397.652 Q2147.7 404.759 2149.5 408.324 Q2151.33 411.865 2154.94 411.865 Q2158.58 411.865 2160.38 408.324 Q2162.21 404.759 2162.21 397.652 Q2162.21 390.523 2160.38 386.981 Q2158.58 383.416 2154.94 383.416 M2154.94 379.713 Q2160.75 379.713 2163.81 384.319 Q2166.89 388.902 2166.89 397.652 Q2166.89 406.379 2163.81 410.986 Q2160.75 415.569 2154.94 415.569 Q2149.13 415.569 2146.05 410.986 Q2143 406.379 2143 397.652 Q2143 388.902 2146.05 384.319 Q2149.13 379.713 2154.94 379.713 Z\" fill=\"#000000\" fill-rule=\"evenodd\" fill-opacity=\"1\" /><path clip-path=\"url(#clip330)\" d=\"M 0 0 M2181.96 383.416 Q2178.35 383.416 2176.52 386.981 Q2174.71 390.523 2174.71 397.652 Q2174.71 404.759 2176.52 408.324 Q2178.35 411.865 2181.96 411.865 Q2185.59 411.865 2187.4 408.324 Q2189.23 404.759 2189.23 397.652 Q2189.23 390.523 2187.4 386.981 Q2185.59 383.416 2181.96 383.416 M2181.96 379.713 Q2187.77 379.713 2190.82 384.319 Q2193.9 388.902 2193.9 397.652 Q2193.9 406.379 2190.82 410.986 Q2187.77 415.569 2181.96 415.569 Q2176.15 415.569 2173.07 410.986 Q2170.01 406.379 2170.01 397.652 Q2170.01 388.902 2173.07 384.319 Q2176.15 379.713 2181.96 379.713 Z\" fill=\"#000000\" fill-rule=\"evenodd\" fill-opacity=\"1\" /><path clip-path=\"url(#clip330)\" d=\"M 0 0 M2208.97 383.416 Q2205.36 383.416 2203.53 386.981 Q2201.73 390.523 2201.73 397.652 Q2201.73 404.759 2203.53 408.324 Q2205.36 411.865 2208.97 411.865 Q2212.61 411.865 2214.41 408.324 Q2216.24 404.759 2216.24 397.652 Q2216.24 390.523 2214.41 386.981 Q2212.61 383.416 2208.97 383.416 M2208.97 379.713 Q2214.78 379.713 2217.84 384.319 Q2220.92 388.902 2220.92 397.652 Q2220.92 406.379 2217.84 410.986 Q2214.78 415.569 2208.97 415.569 Q2203.16 415.569 2200.08 410.986 Q2197.03 406.379 2197.03 397.652 Q2197.03 388.902 2200.08 384.319 Q2203.16 379.713 2208.97 379.713 Z\" fill=\"#000000\" fill-rule=\"evenodd\" fill-opacity=\"1\" /><polyline clip-path=\"url(#clip330)\" style=\"stroke:#ff0000; stroke-width:4; stroke-opacity:1; fill:none\" points=\"\n",
       "  1838.19,458.098 1984.18,458.098 \n",
       "  \"/>\n",
       "<circle clip-path=\"url(#clip330)\" cx=\"1911.19\" cy=\"458.098\" r=\"23\" fill=\"#ff0000\" fill-rule=\"evenodd\" fill-opacity=\"1\" stroke=\"#000000\" stroke-opacity=\"1\" stroke-width=\"6.82667\"/>\n",
       "<path clip-path=\"url(#clip330)\" d=\"M 0 0 M2015.92 442.091 L2015.92 449.452 L2024.69 449.452 L2024.69 452.762 L2015.92 452.762 L2015.92 466.836 Q2015.92 470.007 2016.77 470.91 Q2017.65 471.813 2020.31 471.813 L2024.69 471.813 L2024.69 475.378 L2020.31 475.378 Q2015.38 475.378 2013.51 473.549 Q2011.63 471.697 2011.63 466.836 L2011.63 452.762 L2008.51 452.762 L2008.51 449.452 L2011.63 449.452 L2011.63 442.091 L2015.92 442.091 Z\" fill=\"#000000\" fill-rule=\"evenodd\" fill-opacity=\"1\" /><path clip-path=\"url(#clip330)\" d=\"M 0 0 M2061.29 453.387 L2061.29 439.359 L2065.55 439.359 L2065.55 475.378 L2061.29 475.378 L2061.29 471.489 Q2059.94 473.803 2057.88 474.938 Q2055.85 476.049 2052.98 476.049 Q2048.28 476.049 2045.31 472.299 Q2042.37 468.549 2042.37 462.438 Q2042.37 456.327 2045.31 452.577 Q2048.28 448.827 2052.98 448.827 Q2055.85 448.827 2057.88 449.961 Q2059.94 451.072 2061.29 453.387 M2046.77 462.438 Q2046.77 467.137 2048.69 469.822 Q2050.64 472.484 2054.02 472.484 Q2057.4 472.484 2059.34 469.822 Q2061.29 467.137 2061.29 462.438 Q2061.29 457.739 2059.34 455.077 Q2057.4 452.392 2054.02 452.392 Q2050.64 452.392 2048.69 455.077 Q2046.77 457.739 2046.77 462.438 Z\" fill=\"#000000\" fill-rule=\"evenodd\" fill-opacity=\"1\" /><path clip-path=\"url(#clip330)\" d=\"M 0 0 M2070.01 439.359 L2074.27 439.359 L2074.27 475.378 L2070.01 475.378 L2070.01 439.359 Z\" fill=\"#000000\" fill-rule=\"evenodd\" fill-opacity=\"1\" /><path clip-path=\"url(#clip330)\" d=\"M 0 0 M2090.52 462.345 Q2085.36 462.345 2083.37 463.526 Q2081.38 464.706 2081.38 467.554 Q2081.38 469.822 2082.86 471.165 Q2084.37 472.484 2086.93 472.484 Q2090.48 472.484 2092.61 469.984 Q2094.76 467.461 2094.76 463.294 L2094.76 462.345 L2090.52 462.345 M2099.02 460.586 L2099.02 475.378 L2094.76 475.378 L2094.76 471.442 Q2093.3 473.803 2091.12 474.938 Q2088.95 476.049 2085.8 476.049 Q2081.82 476.049 2079.46 473.827 Q2077.12 471.581 2077.12 467.831 Q2077.12 463.456 2080.04 461.234 Q2082.98 459.012 2088.79 459.012 L2094.76 459.012 L2094.76 458.595 Q2094.76 455.655 2092.81 454.058 Q2090.89 452.438 2087.4 452.438 Q2085.18 452.438 2083.07 452.97 Q2080.96 453.503 2079.02 454.567 L2079.02 450.632 Q2081.36 449.73 2083.56 449.29 Q2085.75 448.827 2087.84 448.827 Q2093.46 448.827 2096.24 451.743 Q2099.02 454.66 2099.02 460.586 Z\" fill=\"#000000\" fill-rule=\"evenodd\" fill-opacity=\"1\" /><path clip-path=\"url(#clip330)\" d=\"M 0 0 M2123.18 471.442 L2139.5 471.442 L2139.5 475.378 L2117.56 475.378 L2117.56 471.442 Q2120.22 468.688 2124.81 464.058 Q2129.41 459.405 2130.59 458.063 Q2132.84 455.54 2133.72 453.804 Q2134.62 452.044 2134.62 450.355 Q2134.62 447.6 2132.68 445.864 Q2130.75 444.128 2127.65 444.128 Q2125.45 444.128 2123 444.892 Q2120.57 445.655 2117.79 447.206 L2117.79 442.484 Q2120.62 441.35 2123.07 440.771 Q2125.52 440.193 2127.56 440.193 Q2132.93 440.193 2136.12 442.878 Q2139.32 445.563 2139.32 450.054 Q2139.32 452.183 2138.51 454.105 Q2137.72 456.003 2135.62 458.595 Q2135.04 459.267 2131.93 462.484 Q2128.83 465.679 2123.18 471.442 Z\" fill=\"#000000\" fill-rule=\"evenodd\" fill-opacity=\"1\" /><path clip-path=\"url(#clip330)\" d=\"M 0 0 M2154.57 443.896 Q2150.96 443.896 2149.13 447.461 Q2147.33 451.003 2147.33 458.132 Q2147.33 465.239 2149.13 468.804 Q2150.96 472.345 2154.57 472.345 Q2158.21 472.345 2160.01 468.804 Q2161.84 465.239 2161.84 458.132 Q2161.84 451.003 2160.01 447.461 Q2158.21 443.896 2154.57 443.896 M2154.57 440.193 Q2160.38 440.193 2163.44 444.799 Q2166.52 449.382 2166.52 458.132 Q2166.52 466.859 2163.44 471.466 Q2160.38 476.049 2154.57 476.049 Q2148.76 476.049 2145.68 471.466 Q2142.63 466.859 2142.63 458.132 Q2142.63 449.382 2145.68 444.799 Q2148.76 440.193 2154.57 440.193 Z\" fill=\"#000000\" fill-rule=\"evenodd\" fill-opacity=\"1\" /><path clip-path=\"url(#clip330)\" d=\"M 0 0 M2181.59 443.896 Q2177.98 443.896 2176.15 447.461 Q2174.34 451.003 2174.34 458.132 Q2174.34 465.239 2176.15 468.804 Q2177.98 472.345 2181.59 472.345 Q2185.22 472.345 2187.03 468.804 Q2188.86 465.239 2188.86 458.132 Q2188.86 451.003 2187.03 447.461 Q2185.22 443.896 2181.59 443.896 M2181.59 440.193 Q2187.4 440.193 2190.45 444.799 Q2193.53 449.382 2193.53 458.132 Q2193.53 466.859 2190.45 471.466 Q2187.4 476.049 2181.59 476.049 Q2175.78 476.049 2172.7 471.466 Q2169.64 466.859 2169.64 458.132 Q2169.64 449.382 2172.7 444.799 Q2175.78 440.193 2181.59 440.193 Z\" fill=\"#000000\" fill-rule=\"evenodd\" fill-opacity=\"1\" /><path clip-path=\"url(#clip330)\" d=\"M 0 0 M2208.6 443.896 Q2204.99 443.896 2203.16 447.461 Q2201.36 451.003 2201.36 458.132 Q2201.36 465.239 2203.16 468.804 Q2204.99 472.345 2208.6 472.345 Q2212.24 472.345 2214.04 468.804 Q2215.87 465.239 2215.87 458.132 Q2215.87 451.003 2214.04 447.461 Q2212.24 443.896 2208.6 443.896 M2208.6 440.193 Q2214.41 440.193 2217.47 444.799 Q2220.55 449.382 2220.55 458.132 Q2220.55 466.859 2217.47 471.466 Q2214.41 476.049 2208.6 476.049 Q2202.79 476.049 2199.71 471.466 Q2196.66 466.859 2196.66 458.132 Q2196.66 449.382 2199.71 444.799 Q2202.79 440.193 2208.6 440.193 Z\" fill=\"#000000\" fill-rule=\"evenodd\" fill-opacity=\"1\" /><polyline clip-path=\"url(#clip330)\" style=\"stroke:#ffc0cb; stroke-width:4; stroke-opacity:1; fill:none\" points=\"\n",
       "  1838.19,518.578 1984.18,518.578 \n",
       "  \"/>\n",
       "<circle clip-path=\"url(#clip330)\" cx=\"1911.19\" cy=\"518.578\" r=\"23\" fill=\"#ffc0cb\" fill-rule=\"evenodd\" fill-opacity=\"1\" stroke=\"#000000\" stroke-opacity=\"1\" stroke-width=\"6.82667\"/>\n",
       "<path clip-path=\"url(#clip330)\" d=\"M 0 0 M2015.92 502.571 L2015.92 509.932 L2024.69 509.932 L2024.69 513.242 L2015.92 513.242 L2015.92 527.316 Q2015.92 530.487 2016.77 531.39 Q2017.65 532.293 2020.31 532.293 L2024.69 532.293 L2024.69 535.858 L2020.31 535.858 Q2015.38 535.858 2013.51 534.029 Q2011.63 532.177 2011.63 527.316 L2011.63 513.242 L2008.51 513.242 L2008.51 509.932 L2011.63 509.932 L2011.63 502.571 L2015.92 502.571 Z\" fill=\"#000000\" fill-rule=\"evenodd\" fill-opacity=\"1\" /><path clip-path=\"url(#clip330)\" d=\"M 0 0 M2061.29 513.867 L2061.29 499.839 L2065.55 499.839 L2065.55 535.858 L2061.29 535.858 L2061.29 531.969 Q2059.94 534.283 2057.88 535.418 Q2055.85 536.529 2052.98 536.529 Q2048.28 536.529 2045.31 532.779 Q2042.37 529.029 2042.37 522.918 Q2042.37 516.807 2045.31 513.057 Q2048.28 509.307 2052.98 509.307 Q2055.85 509.307 2057.88 510.441 Q2059.94 511.552 2061.29 513.867 M2046.77 522.918 Q2046.77 527.617 2048.69 530.302 Q2050.64 532.964 2054.02 532.964 Q2057.4 532.964 2059.34 530.302 Q2061.29 527.617 2061.29 522.918 Q2061.29 518.219 2059.34 515.557 Q2057.4 512.872 2054.02 512.872 Q2050.64 512.872 2048.69 515.557 Q2046.77 518.219 2046.77 522.918 Z\" fill=\"#000000\" fill-rule=\"evenodd\" fill-opacity=\"1\" /><path clip-path=\"url(#clip330)\" d=\"M 0 0 M2070.01 499.839 L2074.27 499.839 L2074.27 535.858 L2070.01 535.858 L2070.01 499.839 Z\" fill=\"#000000\" fill-rule=\"evenodd\" fill-opacity=\"1\" /><path clip-path=\"url(#clip330)\" d=\"M 0 0 M2090.52 522.825 Q2085.36 522.825 2083.37 524.006 Q2081.38 525.186 2081.38 528.034 Q2081.38 530.302 2082.86 531.645 Q2084.37 532.964 2086.93 532.964 Q2090.48 532.964 2092.61 530.464 Q2094.76 527.941 2094.76 523.774 L2094.76 522.825 L2090.52 522.825 M2099.02 521.066 L2099.02 535.858 L2094.76 535.858 L2094.76 531.922 Q2093.3 534.283 2091.12 535.418 Q2088.95 536.529 2085.8 536.529 Q2081.82 536.529 2079.46 534.307 Q2077.12 532.061 2077.12 528.311 Q2077.12 523.936 2080.04 521.714 Q2082.98 519.492 2088.79 519.492 L2094.76 519.492 L2094.76 519.075 Q2094.76 516.135 2092.81 514.538 Q2090.89 512.918 2087.4 512.918 Q2085.18 512.918 2083.07 513.45 Q2080.96 513.983 2079.02 515.047 L2079.02 511.112 Q2081.36 510.21 2083.56 509.77 Q2085.75 509.307 2087.84 509.307 Q2093.46 509.307 2096.24 512.223 Q2099.02 515.14 2099.02 521.066 Z\" fill=\"#000000\" fill-rule=\"evenodd\" fill-opacity=\"1\" /><path clip-path=\"url(#clip330)\" d=\"M 0 0 M2119.2 501.298 L2137.56 501.298 L2137.56 505.233 L2123.49 505.233 L2123.49 513.705 Q2124.5 513.358 2125.52 513.196 Q2126.54 513.01 2127.56 513.01 Q2133.35 513.01 2136.73 516.182 Q2140.11 519.353 2140.11 524.77 Q2140.11 530.348 2136.63 533.45 Q2133.16 536.529 2126.84 536.529 Q2124.67 536.529 2122.4 536.158 Q2120.15 535.788 2117.74 535.047 L2117.74 530.348 Q2119.83 531.483 2122.05 532.038 Q2124.27 532.594 2126.75 532.594 Q2130.75 532.594 2133.09 530.487 Q2135.43 528.381 2135.43 524.77 Q2135.43 521.159 2133.09 519.052 Q2130.75 516.946 2126.75 516.946 Q2124.87 516.946 2123 517.362 Q2121.15 517.779 2119.2 518.659 L2119.2 501.298 Z\" fill=\"#000000\" fill-rule=\"evenodd\" fill-opacity=\"1\" /><path clip-path=\"url(#clip330)\" d=\"M 0 0 M2155.18 504.376 Q2151.56 504.376 2149.74 507.941 Q2147.93 511.483 2147.93 518.612 Q2147.93 525.719 2149.74 529.284 Q2151.56 532.825 2155.18 532.825 Q2158.81 532.825 2160.62 529.284 Q2162.44 525.719 2162.44 518.612 Q2162.44 511.483 2160.62 507.941 Q2158.81 504.376 2155.18 504.376 M2155.18 500.673 Q2160.99 500.673 2164.04 505.279 Q2167.12 509.862 2167.12 518.612 Q2167.12 527.339 2164.04 531.946 Q2160.99 536.529 2155.18 536.529 Q2149.37 536.529 2146.29 531.946 Q2143.23 527.339 2143.23 518.612 Q2143.23 509.862 2146.29 505.279 Q2149.37 500.673 2155.18 500.673 Z\" fill=\"#000000\" fill-rule=\"evenodd\" fill-opacity=\"1\" /><path clip-path=\"url(#clip330)\" d=\"M 0 0 M2182.19 504.376 Q2178.58 504.376 2176.75 507.941 Q2174.94 511.483 2174.94 518.612 Q2174.94 525.719 2176.75 529.284 Q2178.58 532.825 2182.19 532.825 Q2185.82 532.825 2187.63 529.284 Q2189.46 525.719 2189.46 518.612 Q2189.46 511.483 2187.63 507.941 Q2185.82 504.376 2182.19 504.376 M2182.19 500.673 Q2188 500.673 2191.05 505.279 Q2194.13 509.862 2194.13 518.612 Q2194.13 527.339 2191.05 531.946 Q2188 536.529 2182.19 536.529 Q2176.38 536.529 2173.3 531.946 Q2170.24 527.339 2170.24 518.612 Q2170.24 509.862 2173.3 505.279 Q2176.38 500.673 2182.19 500.673 Z\" fill=\"#000000\" fill-rule=\"evenodd\" fill-opacity=\"1\" /><path clip-path=\"url(#clip330)\" d=\"M 0 0 M2199.2 529.978 L2204.09 529.978 L2204.09 535.858 L2199.2 535.858 L2199.2 529.978 Z\" fill=\"#000000\" fill-rule=\"evenodd\" fill-opacity=\"1\" /><path clip-path=\"url(#clip330)\" d=\"M 0 0 M2219.16 504.376 Q2215.55 504.376 2213.72 507.941 Q2211.91 511.483 2211.91 518.612 Q2211.91 525.719 2213.72 529.284 Q2215.55 532.825 2219.16 532.825 Q2222.79 532.825 2224.6 529.284 Q2226.42 525.719 2226.42 518.612 Q2226.42 511.483 2224.6 507.941 Q2222.79 504.376 2219.16 504.376 M2219.16 500.673 Q2224.97 500.673 2228.02 505.279 Q2231.1 509.862 2231.1 518.612 Q2231.1 527.339 2228.02 531.946 Q2224.97 536.529 2219.16 536.529 Q2213.35 536.529 2210.27 531.946 Q2207.21 527.339 2207.21 518.612 Q2207.21 509.862 2210.27 505.279 Q2213.35 500.673 2219.16 500.673 Z\" fill=\"#000000\" fill-rule=\"evenodd\" fill-opacity=\"1\" /><polyline clip-path=\"url(#clip330)\" style=\"stroke:#c68125; stroke-width:4; stroke-opacity:1; fill:none\" stroke-dasharray=\"16, 10\" points=\"\n",
       "  1838.19,579.058 1984.18,579.058 \n",
       "  \"/>\n",
       "<path clip-path=\"url(#clip330)\" d=\"M 0 0 M2008.51 561.778 L2015.48 561.778 L2024.3 585.296 L2033.16 561.778 L2040.13 561.778 L2040.13 596.338 L2035.57 596.338 L2035.57 565.99 L2026.66 589.694 L2021.96 589.694 L2013.05 565.99 L2013.05 596.338 L2008.51 596.338 L2008.51 561.778 Z\" fill=\"#000000\" fill-rule=\"evenodd\" fill-opacity=\"1\" /><path clip-path=\"url(#clip330)\" d=\"M 0 0 M2039.99 561.778 L2069.23 561.778 L2069.23 565.713 L2056.96 565.713 L2056.96 596.338 L2052.26 596.338 L2052.26 565.713 L2039.99 565.713 L2039.99 561.778 Z\" fill=\"#000000\" fill-rule=\"evenodd\" fill-opacity=\"1\" /><path clip-path=\"url(#clip330)\" d=\"M 0 0 M2096.98 564.44 L2096.98 569.37 Q2094.62 567.171 2091.93 566.083 Q2089.27 564.995 2086.26 564.995 Q2080.34 564.995 2077.19 568.629 Q2074.04 572.24 2074.04 579.092 Q2074.04 585.921 2077.19 589.555 Q2080.34 593.166 2086.26 593.166 Q2089.27 593.166 2091.93 592.078 Q2094.62 590.99 2096.98 588.791 L2096.98 593.676 Q2094.53 595.342 2091.77 596.176 Q2089.04 597.009 2085.99 597.009 Q2078.14 597.009 2073.62 592.217 Q2069.11 587.402 2069.11 579.092 Q2069.11 570.759 2073.62 565.967 Q2078.14 561.153 2085.99 561.153 Q2089.09 561.153 2091.82 561.986 Q2094.57 562.796 2096.98 564.44 Z\" fill=\"#000000\" fill-rule=\"evenodd\" fill-opacity=\"1\" /><path clip-path=\"url(#clip330)\" d=\"\n",
       "M1148.37 1414.49 L2243.27 1414.49 L2243.27 1054.69 L1148.37 1054.69  Z\n",
       "  \" fill=\"#ffffff\" fill-rule=\"evenodd\" fill-opacity=\"1\"/>\n",
       "<defs>\n",
       "  <clipPath id=\"clip333\">\n",
       "    <rect x=\"1148\" y=\"1054\" width=\"1096\" height=\"361\"/>\n",
       "  </clipPath>\n",
       "</defs>\n",
       "<polyline clip-path=\"url(#clip333)\" style=\"stroke:#000000; stroke-width:2; stroke-opacity:0.1; fill:none\" points=\"\n",
       "  1148.37,1414.49 1148.37,1054.69 \n",
       "  \"/>\n",
       "<polyline clip-path=\"url(#clip333)\" style=\"stroke:#000000; stroke-width:2; stroke-opacity:0.1; fill:none\" points=\"\n",
       "  1513.34,1414.49 1513.34,1054.69 \n",
       "  \"/>\n",
       "<polyline clip-path=\"url(#clip333)\" style=\"stroke:#000000; stroke-width:2; stroke-opacity:0.1; fill:none\" points=\"\n",
       "  1878.3,1414.49 1878.3,1054.69 \n",
       "  \"/>\n",
       "<polyline clip-path=\"url(#clip333)\" style=\"stroke:#000000; stroke-width:2; stroke-opacity:0.1; fill:none\" points=\"\n",
       "  2243.27,1414.49 2243.27,1054.69 \n",
       "  \"/>\n",
       "<polyline clip-path=\"url(#clip330)\" style=\"stroke:#000000; stroke-width:4; stroke-opacity:1; fill:none\" points=\"\n",
       "  1148.37,1414.49 2243.27,1414.49 \n",
       "  \"/>\n",
       "<polyline clip-path=\"url(#clip330)\" style=\"stroke:#000000; stroke-width:4; stroke-opacity:1; fill:none\" points=\"\n",
       "  1148.37,1054.69 2243.27,1054.69 \n",
       "  \"/>\n",
       "<polyline clip-path=\"url(#clip330)\" style=\"stroke:#000000; stroke-width:4; stroke-opacity:1; fill:none\" points=\"\n",
       "  1148.37,1414.49 1148.37,1410.17 \n",
       "  \"/>\n",
       "<polyline clip-path=\"url(#clip330)\" style=\"stroke:#000000; stroke-width:4; stroke-opacity:1; fill:none\" points=\"\n",
       "  1513.34,1414.49 1513.34,1410.17 \n",
       "  \"/>\n",
       "<polyline clip-path=\"url(#clip330)\" style=\"stroke:#000000; stroke-width:4; stroke-opacity:1; fill:none\" points=\"\n",
       "  1878.3,1414.49 1878.3,1410.17 \n",
       "  \"/>\n",
       "<polyline clip-path=\"url(#clip330)\" style=\"stroke:#000000; stroke-width:4; stroke-opacity:1; fill:none\" points=\"\n",
       "  2243.27,1414.49 2243.27,1410.17 \n",
       "  \"/>\n",
       "<path clip-path=\"url(#clip330)\" d=\"M 0 0 M1138.65 1440.6 L1157 1440.6 L1157 1444.53 L1142.93 1444.53 L1142.93 1453.01 Q1143.95 1452.66 1144.97 1452.5 Q1145.99 1452.31 1147 1452.31 Q1152.79 1452.31 1156.17 1455.48 Q1159.55 1458.66 1159.55 1464.07 Q1159.55 1469.65 1156.08 1472.75 Q1152.61 1475.83 1146.29 1475.83 Q1144.11 1475.83 1141.84 1475.46 Q1139.6 1475.09 1137.19 1474.35 L1137.19 1469.65 Q1139.27 1470.78 1141.5 1471.34 Q1143.72 1471.9 1146.19 1471.9 Q1150.2 1471.9 1152.54 1469.79 Q1154.87 1467.68 1154.87 1464.07 Q1154.87 1460.46 1152.54 1458.35 Q1150.2 1456.25 1146.19 1456.25 Q1144.32 1456.25 1142.44 1456.66 Q1140.59 1457.08 1138.65 1457.96 L1138.65 1440.6 Z\" fill=\"#000000\" fill-rule=\"evenodd\" fill-opacity=\"1\" /><path clip-path=\"url(#clip330)\" d=\"M 0 0 M1513.74 1456.02 Q1510.59 1456.02 1508.74 1458.17 Q1506.91 1460.32 1506.91 1464.07 Q1506.91 1467.8 1508.74 1469.97 Q1510.59 1472.13 1513.74 1472.13 Q1516.89 1472.13 1518.72 1469.97 Q1520.57 1467.8 1520.57 1464.07 Q1520.57 1460.32 1518.72 1458.17 Q1516.89 1456.02 1513.74 1456.02 M1523.02 1441.36 L1523.02 1445.62 Q1521.26 1444.79 1519.46 1444.35 Q1517.68 1443.91 1515.92 1443.91 Q1511.29 1443.91 1508.83 1447.03 Q1506.4 1450.16 1506.06 1456.48 Q1507.42 1454.47 1509.48 1453.4 Q1511.54 1452.31 1514.02 1452.31 Q1519.23 1452.31 1522.24 1455.48 Q1525.27 1458.63 1525.27 1464.07 Q1525.27 1469.4 1522.12 1472.61 Q1518.97 1475.83 1513.74 1475.83 Q1507.75 1475.83 1504.57 1471.25 Q1501.4 1466.64 1501.4 1457.91 Q1501.4 1449.72 1505.29 1444.86 Q1509.18 1439.97 1515.73 1439.97 Q1517.49 1439.97 1519.27 1440.32 Q1521.08 1440.67 1523.02 1441.36 Z\" fill=\"#000000\" fill-rule=\"evenodd\" fill-opacity=\"1\" /><path clip-path=\"url(#clip330)\" d=\"M 0 0 M1867.19 1440.6 L1889.41 1440.6 L1889.41 1442.59 L1876.87 1475.16 L1871.98 1475.16 L1883.79 1444.53 L1867.19 1444.53 L1867.19 1440.6 Z\" fill=\"#000000\" fill-rule=\"evenodd\" fill-opacity=\"1\" /><path clip-path=\"url(#clip330)\" d=\"M 0 0 M2243.27 1458.75 Q2239.93 1458.75 2238.01 1460.53 Q2236.11 1462.31 2236.11 1465.44 Q2236.11 1468.56 2238.01 1470.34 Q2239.93 1472.13 2243.27 1472.13 Q2246.6 1472.13 2248.52 1470.34 Q2250.44 1468.54 2250.44 1465.44 Q2250.44 1462.31 2248.52 1460.53 Q2246.62 1458.75 2243.27 1458.75 M2238.59 1456.76 Q2235.58 1456.02 2233.89 1453.96 Q2232.22 1451.9 2232.22 1448.93 Q2232.22 1444.79 2235.16 1442.38 Q2238.13 1439.97 2243.27 1439.97 Q2248.43 1439.97 2251.37 1442.38 Q2254.31 1444.79 2254.31 1448.93 Q2254.31 1451.9 2252.62 1453.96 Q2250.95 1456.02 2247.97 1456.76 Q2251.34 1457.54 2253.22 1459.84 Q2255.12 1462.13 2255.12 1465.44 Q2255.12 1470.46 2252.04 1473.15 Q2248.98 1475.83 2243.27 1475.83 Q2237.55 1475.83 2234.47 1473.15 Q2231.41 1470.46 2231.41 1465.44 Q2231.41 1462.13 2233.31 1459.84 Q2235.21 1457.54 2238.59 1456.76 M2236.88 1449.37 Q2236.88 1452.06 2238.54 1453.56 Q2240.23 1455.07 2243.27 1455.07 Q2246.28 1455.07 2247.97 1453.56 Q2249.68 1452.06 2249.68 1449.37 Q2249.68 1446.69 2247.97 1445.18 Q2246.28 1443.68 2243.27 1443.68 Q2240.23 1443.68 2238.54 1445.18 Q2236.88 1446.69 2236.88 1449.37 Z\" fill=\"#000000\" fill-rule=\"evenodd\" fill-opacity=\"1\" /><polyline clip-path=\"url(#clip333)\" style=\"stroke:#000000; stroke-width:2; stroke-opacity:0.1; fill:none\" points=\"\n",
       "  1148.37,1414.49 2243.27,1414.49 \n",
       "  \"/>\n",
       "<polyline clip-path=\"url(#clip333)\" style=\"stroke:#000000; stroke-width:2; stroke-opacity:0.1; fill:none\" points=\"\n",
       "  1148.37,1342.53 2243.27,1342.53 \n",
       "  \"/>\n",
       "<polyline clip-path=\"url(#clip333)\" style=\"stroke:#000000; stroke-width:2; stroke-opacity:0.1; fill:none\" points=\"\n",
       "  1148.37,1270.57 2243.27,1270.57 \n",
       "  \"/>\n",
       "<polyline clip-path=\"url(#clip333)\" style=\"stroke:#000000; stroke-width:2; stroke-opacity:0.1; fill:none\" points=\"\n",
       "  1148.37,1198.61 2243.27,1198.61 \n",
       "  \"/>\n",
       "<polyline clip-path=\"url(#clip333)\" style=\"stroke:#000000; stroke-width:2; stroke-opacity:0.1; fill:none\" points=\"\n",
       "  1148.37,1126.65 2243.27,1126.65 \n",
       "  \"/>\n",
       "<polyline clip-path=\"url(#clip333)\" style=\"stroke:#000000; stroke-width:2; stroke-opacity:0.1; fill:none\" points=\"\n",
       "  1148.37,1054.69 2243.27,1054.69 \n",
       "  \"/>\n",
       "<polyline clip-path=\"url(#clip330)\" style=\"stroke:#000000; stroke-width:4; stroke-opacity:1; fill:none\" points=\"\n",
       "  1148.37,1414.49 1148.37,1054.69 \n",
       "  \"/>\n",
       "<polyline clip-path=\"url(#clip330)\" style=\"stroke:#000000; stroke-width:4; stroke-opacity:1; fill:none\" points=\"\n",
       "  2243.27,1414.49 2243.27,1054.69 \n",
       "  \"/>\n",
       "<polyline clip-path=\"url(#clip330)\" style=\"stroke:#000000; stroke-width:4; stroke-opacity:1; fill:none\" points=\"\n",
       "  1148.37,1414.49 1161.51,1414.49 \n",
       "  \"/>\n",
       "<polyline clip-path=\"url(#clip330)\" style=\"stroke:#000000; stroke-width:4; stroke-opacity:1; fill:none\" points=\"\n",
       "  1148.37,1342.53 1161.51,1342.53 \n",
       "  \"/>\n",
       "<polyline clip-path=\"url(#clip330)\" style=\"stroke:#000000; stroke-width:4; stroke-opacity:1; fill:none\" points=\"\n",
       "  1148.37,1270.57 1161.51,1270.57 \n",
       "  \"/>\n",
       "<polyline clip-path=\"url(#clip330)\" style=\"stroke:#000000; stroke-width:4; stroke-opacity:1; fill:none\" points=\"\n",
       "  1148.37,1198.61 1161.51,1198.61 \n",
       "  \"/>\n",
       "<polyline clip-path=\"url(#clip330)\" style=\"stroke:#000000; stroke-width:4; stroke-opacity:1; fill:none\" points=\"\n",
       "  1148.37,1126.65 1161.51,1126.65 \n",
       "  \"/>\n",
       "<polyline clip-path=\"url(#clip330)\" style=\"stroke:#000000; stroke-width:4; stroke-opacity:1; fill:none\" points=\"\n",
       "  1148.37,1054.69 1161.51,1054.69 \n",
       "  \"/>\n",
       "<path clip-path=\"url(#clip330)\" d=\"M 0 0 M1036.44 1400.29 Q1032.83 1400.29 1031.01 1403.85 Q1029.2 1407.39 1029.2 1414.52 Q1029.2 1421.63 1031.01 1425.19 Q1032.83 1428.74 1036.44 1428.74 Q1040.08 1428.74 1041.88 1425.19 Q1043.71 1421.63 1043.71 1414.52 Q1043.71 1407.39 1041.88 1403.85 Q1040.08 1400.29 1036.44 1400.29 M1036.44 1396.58 Q1042.25 1396.58 1045.31 1401.19 Q1048.39 1405.77 1048.39 1414.52 Q1048.39 1423.25 1045.31 1427.86 Q1042.25 1432.44 1036.44 1432.44 Q1030.63 1432.44 1027.56 1427.86 Q1024.5 1423.25 1024.5 1414.52 Q1024.5 1405.77 1027.56 1401.19 Q1030.63 1396.58 1036.44 1396.58 Z\" fill=\"#000000\" fill-rule=\"evenodd\" fill-opacity=\"1\" /><path clip-path=\"url(#clip330)\" d=\"M 0 0 M1053.46 1425.89 L1058.34 1425.89 L1058.34 1431.77 L1053.46 1431.77 L1053.46 1425.89 Z\" fill=\"#000000\" fill-rule=\"evenodd\" fill-opacity=\"1\" /><path clip-path=\"url(#clip330)\" d=\"M 0 0 M1073.41 1400.29 Q1069.8 1400.29 1067.97 1403.85 Q1066.17 1407.39 1066.17 1414.52 Q1066.17 1421.63 1067.97 1425.19 Q1069.8 1428.74 1073.41 1428.74 Q1077.05 1428.74 1078.85 1425.19 Q1080.68 1421.63 1080.68 1414.52 Q1080.68 1407.39 1078.85 1403.85 Q1077.05 1400.29 1073.41 1400.29 M1073.41 1396.58 Q1079.22 1396.58 1082.28 1401.19 Q1085.36 1405.77 1085.36 1414.52 Q1085.36 1423.25 1082.28 1427.86 Q1079.22 1432.44 1073.41 1432.44 Q1067.6 1432.44 1064.52 1427.86 Q1061.47 1423.25 1061.47 1414.52 Q1061.47 1405.77 1064.52 1401.19 Q1067.6 1396.58 1073.41 1396.58 Z\" fill=\"#000000\" fill-rule=\"evenodd\" fill-opacity=\"1\" /><path clip-path=\"url(#clip330)\" d=\"M 0 0 M1100.43 1400.29 Q1096.81 1400.29 1094.99 1403.85 Q1093.18 1407.39 1093.18 1414.52 Q1093.18 1421.63 1094.99 1425.19 Q1096.81 1428.74 1100.43 1428.74 Q1104.06 1428.74 1105.87 1425.19 Q1107.69 1421.63 1107.69 1414.52 Q1107.69 1407.39 1105.87 1403.85 Q1104.06 1400.29 1100.43 1400.29 M1100.43 1396.58 Q1106.24 1396.58 1109.29 1401.19 Q1112.37 1405.77 1112.37 1414.52 Q1112.37 1423.25 1109.29 1427.86 Q1106.24 1432.44 1100.43 1432.44 Q1094.62 1432.44 1091.54 1427.86 Q1088.48 1423.25 1088.48 1414.52 Q1088.48 1405.77 1091.54 1401.19 Q1094.62 1396.58 1100.43 1396.58 Z\" fill=\"#000000\" fill-rule=\"evenodd\" fill-opacity=\"1\" /><path clip-path=\"url(#clip330)\" d=\"M 0 0 M1038.04 1328.33 Q1034.43 1328.33 1032.6 1331.89 Q1030.8 1335.43 1030.8 1342.56 Q1030.8 1349.67 1032.6 1353.23 Q1034.43 1356.78 1038.04 1356.78 Q1041.68 1356.78 1043.48 1353.23 Q1045.31 1349.67 1045.31 1342.56 Q1045.31 1335.43 1043.48 1331.89 Q1041.68 1328.33 1038.04 1328.33 M1038.04 1324.62 Q1043.85 1324.62 1046.91 1329.23 Q1049.99 1333.81 1049.99 1342.56 Q1049.99 1351.29 1046.91 1355.9 Q1043.85 1360.48 1038.04 1360.48 Q1032.23 1360.48 1029.15 1355.9 Q1026.1 1351.29 1026.1 1342.56 Q1026.1 1333.81 1029.15 1329.23 Q1032.23 1324.62 1038.04 1324.62 Z\" fill=\"#000000\" fill-rule=\"evenodd\" fill-opacity=\"1\" /><path clip-path=\"url(#clip330)\" d=\"M 0 0 M1055.06 1353.93 L1059.94 1353.93 L1059.94 1359.81 L1055.06 1359.81 L1055.06 1353.93 Z\" fill=\"#000000\" fill-rule=\"evenodd\" fill-opacity=\"1\" /><path clip-path=\"url(#clip330)\" d=\"M 0 0 M1075.01 1328.33 Q1071.4 1328.33 1069.57 1331.89 Q1067.76 1335.43 1067.76 1342.56 Q1067.76 1349.67 1069.57 1353.23 Q1071.4 1356.78 1075.01 1356.78 Q1078.64 1356.78 1080.45 1353.23 Q1082.28 1349.67 1082.28 1342.56 Q1082.28 1335.43 1080.45 1331.89 Q1078.64 1328.33 1075.01 1328.33 M1075.01 1324.62 Q1080.82 1324.62 1083.88 1329.23 Q1086.95 1333.81 1086.95 1342.56 Q1086.95 1351.29 1083.88 1355.9 Q1080.82 1360.48 1075.01 1360.48 Q1069.2 1360.48 1066.12 1355.9 Q1063.07 1351.29 1063.07 1342.56 Q1063.07 1333.81 1066.12 1329.23 Q1069.2 1324.62 1075.01 1324.62 Z\" fill=\"#000000\" fill-rule=\"evenodd\" fill-opacity=\"1\" /><path clip-path=\"url(#clip330)\" d=\"M 0 0 M1096.05 1355.87 L1112.37 1355.87 L1112.37 1359.81 L1090.43 1359.81 L1090.43 1355.87 Q1093.09 1353.12 1097.67 1348.49 Q1102.28 1343.84 1103.46 1342.49 Q1105.7 1339.97 1106.58 1338.23 Q1107.49 1336.47 1107.49 1334.78 Q1107.49 1332.03 1105.54 1330.29 Q1103.62 1328.56 1100.52 1328.56 Q1098.32 1328.56 1095.87 1329.32 Q1093.44 1330.09 1090.66 1331.64 L1090.66 1326.91 Q1093.48 1325.78 1095.94 1325.2 Q1098.39 1324.62 1100.43 1324.62 Q1105.8 1324.62 1108.99 1327.31 Q1112.19 1329.99 1112.19 1334.48 Q1112.19 1336.61 1111.37 1338.53 Q1110.59 1340.43 1108.48 1343.03 Q1107.9 1343.7 1104.8 1346.91 Q1101.7 1350.11 1096.05 1355.87 Z\" fill=\"#000000\" fill-rule=\"evenodd\" fill-opacity=\"1\" /><path clip-path=\"url(#clip330)\" d=\"M 0 0 M1035.96 1256.37 Q1032.35 1256.37 1030.52 1259.93 Q1028.71 1263.47 1028.71 1270.6 Q1028.71 1277.71 1030.52 1281.27 Q1032.35 1284.81 1035.96 1284.81 Q1039.59 1284.81 1041.4 1281.27 Q1043.23 1277.71 1043.23 1270.6 Q1043.23 1263.47 1041.4 1259.93 Q1039.59 1256.37 1035.96 1256.37 M1035.96 1252.66 Q1041.77 1252.66 1044.82 1257.27 Q1047.9 1261.85 1047.9 1270.6 Q1047.9 1279.33 1044.82 1283.94 Q1041.77 1288.52 1035.96 1288.52 Q1030.15 1288.52 1027.07 1283.94 Q1024.01 1279.33 1024.01 1270.6 Q1024.01 1261.85 1027.07 1257.27 Q1030.15 1252.66 1035.96 1252.66 Z\" fill=\"#000000\" fill-rule=\"evenodd\" fill-opacity=\"1\" /><path clip-path=\"url(#clip330)\" d=\"M 0 0 M1052.97 1281.97 L1057.86 1281.97 L1057.86 1287.85 L1052.97 1287.85 L1052.97 1281.97 Z\" fill=\"#000000\" fill-rule=\"evenodd\" fill-opacity=\"1\" /><path clip-path=\"url(#clip330)\" d=\"M 0 0 M1072.93 1256.37 Q1069.32 1256.37 1067.49 1259.93 Q1065.68 1263.47 1065.68 1270.6 Q1065.68 1277.71 1067.49 1281.27 Q1069.32 1284.81 1072.93 1284.81 Q1076.56 1284.81 1078.37 1281.27 Q1080.19 1277.71 1080.19 1270.6 Q1080.19 1263.47 1078.37 1259.93 Q1076.56 1256.37 1072.93 1256.37 M1072.93 1252.66 Q1078.74 1252.66 1081.79 1257.27 Q1084.87 1261.85 1084.87 1270.6 Q1084.87 1279.33 1081.79 1283.94 Q1078.74 1288.52 1072.93 1288.52 Q1067.12 1288.52 1064.04 1283.94 Q1060.98 1279.33 1060.98 1270.6 Q1060.98 1261.85 1064.04 1257.27 Q1067.12 1252.66 1072.93 1252.66 Z\" fill=\"#000000\" fill-rule=\"evenodd\" fill-opacity=\"1\" /><path clip-path=\"url(#clip330)\" d=\"M 0 0 M1102.79 1257.36 L1090.98 1275.81 L1102.79 1275.81 L1102.79 1257.36 M1101.56 1253.29 L1107.44 1253.29 L1107.44 1275.81 L1112.37 1275.81 L1112.37 1279.7 L1107.44 1279.7 L1107.44 1287.85 L1102.79 1287.85 L1102.79 1279.7 L1087.19 1279.7 L1087.19 1275.19 L1101.56 1253.29 Z\" fill=\"#000000\" fill-rule=\"evenodd\" fill-opacity=\"1\" /><path clip-path=\"url(#clip330)\" d=\"M 0 0 M1036.28 1184.41 Q1032.67 1184.41 1030.84 1187.97 Q1029.04 1191.51 1029.04 1198.64 Q1029.04 1205.75 1030.84 1209.31 Q1032.67 1212.85 1036.28 1212.85 Q1039.92 1212.85 1041.72 1209.31 Q1043.55 1205.75 1043.55 1198.64 Q1043.55 1191.51 1041.72 1187.97 Q1039.92 1184.41 1036.28 1184.41 M1036.28 1180.7 Q1042.09 1180.7 1045.15 1185.31 Q1048.23 1189.89 1048.23 1198.64 Q1048.23 1207.37 1045.15 1211.98 Q1042.09 1216.56 1036.28 1216.56 Q1030.47 1216.56 1027.39 1211.98 Q1024.34 1207.37 1024.34 1198.64 Q1024.34 1189.89 1027.39 1185.31 Q1030.47 1180.7 1036.28 1180.7 Z\" fill=\"#000000\" fill-rule=\"evenodd\" fill-opacity=\"1\" /><path clip-path=\"url(#clip330)\" d=\"M 0 0 M1053.3 1210.01 L1058.18 1210.01 L1058.18 1215.89 L1053.3 1215.89 L1053.3 1210.01 Z\" fill=\"#000000\" fill-rule=\"evenodd\" fill-opacity=\"1\" /><path clip-path=\"url(#clip330)\" d=\"M 0 0 M1073.25 1184.41 Q1069.64 1184.41 1067.81 1187.97 Q1066 1191.51 1066 1198.64 Q1066 1205.75 1067.81 1209.31 Q1069.64 1212.85 1073.25 1212.85 Q1076.88 1212.85 1078.69 1209.31 Q1080.52 1205.75 1080.52 1198.64 Q1080.52 1191.51 1078.69 1187.97 Q1076.88 1184.41 1073.25 1184.41 M1073.25 1180.7 Q1079.06 1180.7 1082.12 1185.31 Q1085.19 1189.89 1085.19 1198.64 Q1085.19 1207.37 1082.12 1211.98 Q1079.06 1216.56 1073.25 1216.56 Q1067.44 1216.56 1064.36 1211.98 Q1061.31 1207.37 1061.31 1198.64 Q1061.31 1189.89 1064.36 1185.31 Q1067.44 1180.7 1073.25 1180.7 Z\" fill=\"#000000\" fill-rule=\"evenodd\" fill-opacity=\"1\" /><path clip-path=\"url(#clip330)\" d=\"M 0 0 M1100.84 1196.74 Q1097.69 1196.74 1095.84 1198.9 Q1094.01 1201.05 1094.01 1204.8 Q1094.01 1208.53 1095.84 1210.7 Q1097.69 1212.85 1100.84 1212.85 Q1103.99 1212.85 1105.82 1210.7 Q1107.67 1208.53 1107.67 1204.8 Q1107.67 1201.05 1105.82 1198.9 Q1103.99 1196.74 1100.84 1196.74 M1110.12 1182.09 L1110.12 1186.35 Q1108.37 1185.52 1106.56 1185.08 Q1104.78 1184.64 1103.02 1184.64 Q1098.39 1184.64 1095.94 1187.76 Q1093.5 1190.89 1093.16 1197.21 Q1094.52 1195.19 1096.58 1194.13 Q1098.64 1193.04 1101.12 1193.04 Q1106.33 1193.04 1109.34 1196.21 Q1112.37 1199.36 1112.37 1204.8 Q1112.37 1210.12 1109.22 1213.34 Q1106.07 1216.56 1100.84 1216.56 Q1094.85 1216.56 1091.68 1211.98 Q1088.5 1207.37 1088.5 1198.64 Q1088.5 1190.45 1092.39 1185.59 Q1096.28 1180.7 1102.83 1180.7 Q1104.59 1180.7 1106.37 1181.05 Q1108.18 1181.4 1110.12 1182.09 Z\" fill=\"#000000\" fill-rule=\"evenodd\" fill-opacity=\"1\" /><path clip-path=\"url(#clip330)\" d=\"M 0 0 M1036.54 1112.45 Q1032.93 1112.45 1031.1 1116.01 Q1029.29 1119.55 1029.29 1126.68 Q1029.29 1133.79 1031.1 1137.35 Q1032.93 1140.89 1036.54 1140.89 Q1040.17 1140.89 1041.98 1137.35 Q1043.81 1133.79 1043.81 1126.68 Q1043.81 1119.55 1041.98 1116.01 Q1040.17 1112.45 1036.54 1112.45 M1036.54 1108.74 Q1042.35 1108.74 1045.4 1113.35 Q1048.48 1117.93 1048.48 1126.68 Q1048.48 1135.41 1045.4 1140.01 Q1042.35 1144.6 1036.54 1144.6 Q1030.73 1144.6 1027.65 1140.01 Q1024.59 1135.41 1024.59 1126.68 Q1024.59 1117.93 1027.65 1113.35 Q1030.73 1108.74 1036.54 1108.74 Z\" fill=\"#000000\" fill-rule=\"evenodd\" fill-opacity=\"1\" /><path clip-path=\"url(#clip330)\" d=\"M 0 0 M1053.55 1138.05 L1058.44 1138.05 L1058.44 1143.93 L1053.55 1143.93 L1053.55 1138.05 Z\" fill=\"#000000\" fill-rule=\"evenodd\" fill-opacity=\"1\" /><path clip-path=\"url(#clip330)\" d=\"M 0 0 M1073.5 1112.45 Q1069.89 1112.45 1068.07 1116.01 Q1066.26 1119.55 1066.26 1126.68 Q1066.26 1133.79 1068.07 1137.35 Q1069.89 1140.89 1073.5 1140.89 Q1077.14 1140.89 1078.94 1137.35 Q1080.77 1133.79 1080.77 1126.68 Q1080.77 1119.55 1078.94 1116.01 Q1077.14 1112.45 1073.5 1112.45 M1073.5 1108.74 Q1079.31 1108.74 1082.37 1113.35 Q1085.45 1117.93 1085.45 1126.68 Q1085.45 1135.41 1082.37 1140.01 Q1079.31 1144.6 1073.5 1144.6 Q1067.69 1144.6 1064.62 1140.01 Q1061.56 1135.41 1061.56 1126.68 Q1061.56 1117.93 1064.62 1113.35 Q1067.69 1108.74 1073.5 1108.74 Z\" fill=\"#000000\" fill-rule=\"evenodd\" fill-opacity=\"1\" /><path clip-path=\"url(#clip330)\" d=\"M 0 0 M1100.52 1127.51 Q1097.19 1127.51 1095.26 1129.3 Q1093.37 1131.08 1093.37 1134.2 Q1093.37 1137.33 1095.26 1139.11 Q1097.19 1140.89 1100.52 1140.89 Q1103.85 1140.89 1105.77 1139.11 Q1107.69 1137.31 1107.69 1134.2 Q1107.69 1131.08 1105.77 1129.3 Q1103.88 1127.51 1100.52 1127.51 M1095.84 1125.52 Q1092.83 1124.78 1091.14 1122.72 Q1089.48 1120.66 1089.48 1117.7 Q1089.48 1113.56 1092.42 1111.15 Q1095.38 1108.74 1100.52 1108.74 Q1105.68 1108.74 1108.62 1111.15 Q1111.56 1113.56 1111.56 1117.7 Q1111.56 1120.66 1109.87 1122.72 Q1108.2 1124.78 1105.22 1125.52 Q1108.6 1126.31 1110.47 1128.6 Q1112.37 1130.89 1112.37 1134.2 Q1112.37 1139.23 1109.29 1141.91 Q1106.24 1144.6 1100.52 1144.6 Q1094.8 1144.6 1091.72 1141.91 Q1088.67 1139.23 1088.67 1134.2 Q1088.67 1130.89 1090.56 1128.6 Q1092.46 1126.31 1095.84 1125.52 M1094.13 1118.14 Q1094.13 1120.83 1095.8 1122.33 Q1097.49 1123.83 1100.52 1123.83 Q1103.53 1123.83 1105.22 1122.33 Q1106.93 1120.83 1106.93 1118.14 Q1106.93 1115.45 1105.22 1113.95 Q1103.53 1112.45 1100.52 1112.45 Q1097.49 1112.45 1095.8 1113.95 Q1094.13 1115.45 1094.13 1118.14 Z\" fill=\"#000000\" fill-rule=\"evenodd\" fill-opacity=\"1\" /><path clip-path=\"url(#clip330)\" d=\"M 0 0 M1037.67 1040.49 Q1034.06 1040.49 1032.23 1044.05 Q1030.43 1047.59 1030.43 1054.72 Q1030.43 1061.83 1032.23 1065.39 Q1034.06 1068.93 1037.67 1068.93 Q1041.31 1068.93 1043.11 1065.39 Q1044.94 1061.83 1044.94 1054.72 Q1044.94 1047.59 1043.11 1044.05 Q1041.31 1040.49 1037.67 1040.49 M1037.67 1036.78 Q1043.48 1036.78 1046.54 1041.39 Q1049.62 1045.97 1049.62 1054.72 Q1049.62 1063.45 1046.54 1068.05 Q1043.48 1072.64 1037.67 1072.64 Q1031.86 1072.64 1028.78 1068.05 Q1025.73 1063.45 1025.73 1054.72 Q1025.73 1045.97 1028.78 1041.39 Q1031.86 1036.78 1037.67 1036.78 Z\" fill=\"#000000\" fill-rule=\"evenodd\" fill-opacity=\"1\" /><path clip-path=\"url(#clip330)\" d=\"M 0 0 M1054.69 1066.09 L1059.57 1066.09 L1059.57 1071.97 L1054.69 1071.97 L1054.69 1066.09 Z\" fill=\"#000000\" fill-rule=\"evenodd\" fill-opacity=\"1\" /><path clip-path=\"url(#clip330)\" d=\"M 0 0 M1065.45 1068.03 L1073.09 1068.03 L1073.09 1041.67 L1064.78 1043.33 L1064.78 1039.07 L1073.04 1037.41 L1077.72 1037.41 L1077.72 1068.03 L1085.36 1068.03 L1085.36 1071.97 L1065.45 1071.97 L1065.45 1068.03 Z\" fill=\"#000000\" fill-rule=\"evenodd\" fill-opacity=\"1\" /><path clip-path=\"url(#clip330)\" d=\"M 0 0 M1100.43 1040.49 Q1096.81 1040.49 1094.99 1044.05 Q1093.18 1047.59 1093.18 1054.72 Q1093.18 1061.83 1094.99 1065.39 Q1096.81 1068.93 1100.43 1068.93 Q1104.06 1068.93 1105.87 1065.39 Q1107.69 1061.83 1107.69 1054.72 Q1107.69 1047.59 1105.87 1044.05 Q1104.06 1040.49 1100.43 1040.49 M1100.43 1036.78 Q1106.24 1036.78 1109.29 1041.39 Q1112.37 1045.97 1112.37 1054.72 Q1112.37 1063.45 1109.29 1068.05 Q1106.24 1072.64 1100.43 1072.64 Q1094.62 1072.64 1091.54 1068.05 Q1088.48 1063.45 1088.48 1054.72 Q1088.48 1045.97 1091.54 1041.39 Q1094.62 1036.78 1100.43 1036.78 Z\" fill=\"#000000\" fill-rule=\"evenodd\" fill-opacity=\"1\" /><polyline clip-path=\"url(#clip333)\" style=\"stroke:#009af9; stroke-width:4; stroke-opacity:1; fill:none\" points=\"\n",
       "  -676.456,-461650 -639.96,-401718 -603.463,-349544 -566.967,-304121 -530.47,-264578 -493.974,-230152 -457.477,-200182 -420.981,-174091 -384.484,-151376 -347.988,-131602 \n",
       "  -311.491,-114386 -274.994,-99398.9 -238.498,-86351.3 -202.001,-74992.3 -165.505,-65103.5 -129.008,-56494.5 -92.5118,-48999.7 -56.0153,-42475 -19.5187,-36794.6 16.9778,-31849.5 \n",
       "  53.4743,-27544.4 89.9709,-23796.4 126.467,-20533.5 162.964,-17692.9 199.46,-15220 235.957,-13067.1 272.454,-11192.8 308.95,-9561.16 345.447,-8140.65 381.943,-6903.99 \n",
       "  418.44,-5827.39 454.936,-4890.12 491.433,-4074.16 527.929,-3363.8 564.426,-2745.38 600.922,-2206.99 637.419,-1738.29 673.915,-1330.24 710.412,-975.012 746.908,-665.755 \n",
       "  783.405,-396.523 819.902,-162.136 856.398,41.9162 892.895,219.559 929.391,374.211 965.888,508.847 1002.38,626.058 1038.88,728.099 1075.38,816.934 1111.87,894.271 \n",
       "  1148.37,961.6 1184.87,1020.21 1221.36,1071.24 1257.86,1115.67 1294.36,1154.34 1330.85,1188.01 1367.35,1217.32 1403.85,1242.84 1440.34,1265.05 1476.84,1284.39 \n",
       "  1513.34,1301.23 1549.83,1315.89 1586.33,1328.65 1622.83,1339.76 1659.32,1349.43 1695.82,1357.85 1732.31,1365.18 1768.81,1371.56 1805.31,1377.12 1841.8,1381.95 \n",
       "  1878.3,1386.17 1914.8,1389.83 1951.29,1393.02 1987.79,1395.8 2024.29,1398.22 2060.78,1400.32 2097.28,1402.16 2133.78,1403.75 2170.27,1405.14 2206.77,1406.35 \n",
       "  2243.27,1407.4 2279.76,1408.32 2316.26,1409.12 2352.76,1409.81 2389.25,1410.42 2425.75,1410.95 2462.25,1411.4 2498.74,1411.8 2535.24,1412.15 2571.74,1412.45 \n",
       "  2608.23,1412.72 2644.73,1412.95 2681.22,1413.15 2717.72,1413.32 2754.22,1413.47 2790.71,1413.6 2827.21,1413.72 2863.71,1413.82 2900.2,1413.9 2936.7,1413.98 \n",
       "  2973.2,1414.04 3009.69,1414.1 3046.19,1414.15 3082.69,1414.2 3119.18,1414.23 3155.68,1414.27 3192.18,1414.29 3228.67,1414.32 3265.17,1414.34 3301.67,1414.36 \n",
       "  3338.16,1414.38 3374.66,1414.39 3411.16,1414.4 3447.65,1414.41 3484.15,1414.42 3520.64,1414.43 3557.14,1414.44 3593.64,1414.45 3630.13,1414.45 3666.63,1414.46 \n",
       "  3703.13,1414.46 \n",
       "  \"/>\n",
       "<polyline clip-path=\"url(#clip333)\" style=\"stroke:#e26f46; stroke-width:4; stroke-opacity:1; fill:none\" stroke-dasharray=\"16, 10\" points=\"\n",
       "  -676.456,1371.31 -639.96,1371.31 -603.463,1371.31 -566.967,1371.31 -530.47,1371.31 -493.974,1371.31 -457.477,1371.31 -420.981,1371.31 -384.484,1371.31 -347.988,1371.31 \n",
       "  -311.491,1371.31 -274.994,1371.31 -238.498,1371.31 -202.001,1371.31 -165.505,1371.31 -129.008,1371.31 -92.5118,1371.31 -56.0153,1371.31 -19.5187,1371.31 16.9778,1371.31 \n",
       "  53.4743,1371.31 89.9709,1371.31 126.467,1371.31 162.964,1371.31 199.46,1371.31 235.957,1371.31 272.454,1371.31 308.95,1371.31 345.447,1371.31 381.943,1371.31 \n",
       "  418.44,1371.31 454.936,1371.31 491.433,1371.31 527.929,1371.31 564.426,1371.31 600.922,1371.31 637.419,1371.31 673.915,1371.31 710.412,1371.31 746.908,1371.31 \n",
       "  783.405,1371.31 819.902,1371.31 856.398,1371.31 892.895,1371.31 929.391,1371.31 965.888,1371.31 1002.38,1371.31 1038.88,1371.31 1075.38,1371.31 1111.87,1371.31 \n",
       "  1148.37,1371.31 1184.87,1371.31 1221.36,1371.31 1257.86,1371.31 1294.36,1371.31 1330.85,1371.31 1367.35,1371.31 1403.85,1371.31 1440.34,1371.31 1476.84,1371.31 \n",
       "  1513.34,1371.31 1549.83,1371.31 1586.33,1371.31 1622.83,1371.31 1659.32,1371.31 1695.82,1371.31 1732.31,1371.31 1768.81,1371.31 1805.31,1371.31 1841.8,1371.31 \n",
       "  1878.3,1371.31 1914.8,1371.31 1951.29,1371.31 1987.79,1371.31 2024.29,1371.31 2060.78,1371.31 2097.28,1371.31 2133.78,1371.31 2170.27,1371.31 2206.77,1371.31 \n",
       "  2243.27,1371.31 2279.76,1371.31 2316.26,1371.31 2352.76,1371.31 2389.25,1371.31 2425.75,1371.31 2462.25,1371.31 2498.74,1371.31 2535.24,1371.31 2571.74,1371.31 \n",
       "  2608.23,1371.31 2644.73,1371.31 2681.22,1371.31 2717.72,1371.31 2754.22,1371.31 2790.71,1371.31 2827.21,1371.31 2863.71,1371.31 2900.2,1371.31 2936.7,1371.31 \n",
       "  2973.2,1371.31 3009.69,1371.31 3046.19,1371.31 3082.69,1371.31 3119.18,1371.31 3155.68,1371.31 3192.18,1371.31 3228.67,1371.31 3265.17,1371.31 3301.67,1371.31 \n",
       "  3338.16,1371.31 3374.66,1371.31 3411.16,1371.31 3447.65,1371.31 3484.15,1371.31 3520.64,1371.31 3557.14,1371.31 3593.64,1371.31 3630.13,1371.31 3666.63,1371.31 \n",
       "  3703.13,1371.31 \n",
       "  \"/>\n",
       "<polyline clip-path=\"url(#clip333)\" style=\"stroke:#3da44d; stroke-width:4; stroke-opacity:1; fill:none\" points=\"\n",
       "  -676.456,-924714 -639.96,-804851 -603.463,-700502 -566.967,-609657 -530.47,-530570 -493.974,-461719 -457.477,-401779 -420.981,-349596 -384.484,-304167 -347.988,-264618 \n",
       "  -311.491,-230187 -274.994,-200212 -238.498,-174117 -202.001,-151399 -165.505,-131622 -129.008,-114404 -92.5118,-99414 -56.0153,-86364.4 -19.5187,-75003.8 16.9778,-65113.5 \n",
       "  53.4743,-56503.2 89.9709,-49007.3 126.467,-42481.5 162.964,-36800.4 199.46,-31854.5 235.957,-27548.7 272.454,-23800.2 308.95,-20536.8 345.447,-17695.8 381.943,-15222.5 \n",
       "  418.44,-13069.3 454.936,-11194.7 491.433,-9562.8 527.929,-8142.08 564.426,-6905.24 600.922,-5828.47 637.419,-4891.06 673.915,-4074.98 710.412,-3364.51 746.908,-2746 \n",
       "  783.405,-2207.53 819.902,-1738.76 856.398,-1330.66 892.895,-975.37 929.391,-666.066 965.888,-396.794 1002.38,-162.372 1038.88,41.7109 1075.38,219.38 1111.87,374.055 \n",
       "  1148.37,508.711 1184.87,625.94 1221.36,727.997 1257.86,816.845 1294.36,894.194 1330.85,961.532 1367.35,1020.15 1403.85,1071.19 1440.34,1115.62 1476.84,1154.3 \n",
       "  1513.34,1187.98 1549.83,1217.29 1586.33,1242.81 1622.83,1265.03 1659.32,1284.38 1695.82,1301.21 1732.31,1315.87 1768.81,1328.64 1805.31,1339.75 1841.8,1349.42 \n",
       "  1878.3,1357.84 1914.8,1365.17 1951.29,1371.56 1987.79,1377.11 2024.29,1381.95 2060.78,1386.16 2097.28,1389.83 2133.78,1393.02 2170.27,1395.8 2206.77,1398.22 \n",
       "  2243.27,1400.32 2279.76,1402.16 2316.26,1403.75 2352.76,1405.14 2389.25,1406.35 2425.75,1407.4 2462.25,1408.32 2498.74,1409.12 2535.24,1409.81 2571.74,1410.42 \n",
       "  2608.23,1410.95 2644.73,1411.4 2681.22,1411.8 2717.72,1412.15 2754.22,1412.45 2790.71,1412.72 2827.21,1412.95 2863.71,1413.15 2900.2,1413.32 2936.7,1413.47 \n",
       "  2973.2,1413.6 3009.69,1413.72 3046.19,1413.82 3082.69,1413.9 3119.18,1413.98 3155.68,1414.04 3192.18,1414.1 3228.67,1414.15 3265.17,1414.2 3301.67,1414.23 \n",
       "  3338.16,1414.27 3374.66,1414.29 3411.16,1414.32 3447.65,1414.34 3484.15,1414.36 3520.64,1414.38 3557.14,1414.39 3593.64,1414.4 3630.13,1414.41 3666.63,1414.42 \n",
       "  3703.13,1414.43 \n",
       "  \"/>\n",
       "<polyline clip-path=\"url(#clip333)\" style=\"stroke:#c271d2; stroke-width:4; stroke-opacity:1; fill:none\" points=\"\n",
       "  -676.456,-230118 -639.96,-200152 -603.463,-174065 -566.967,-151353 -530.47,-131582 -493.974,-114369 -457.477,-99383.8 -420.981,-86338.2 -384.484,-74980.9 -347.988,-65093.6 \n",
       "  -311.491,-56485.9 -274.994,-48992.2 -238.498,-42468.4 -202.001,-36788.9 -165.505,-31844.5 -129.008,-27540 -92.5118,-23792.6 -56.0153,-20530.2 -19.5187,-17690.1 16.9778,-15217.5 \n",
       "  53.4743,-13064.9 89.9709,-11191 126.467,-9559.52 162.964,-8139.22 199.46,-6902.75 235.957,-5826.3 272.454,-4889.18 308.95,-4073.34 345.447,-3363.08 381.943,-2744.75 \n",
       "  418.44,-2206.45 454.936,-1737.82 491.433,-1329.83 527.929,-974.655 564.426,-665.444 600.922,-396.252 637.419,-161.9 673.915,42.1215 710.412,219.738 746.908,374.366 \n",
       "  783.405,508.982 819.902,626.176 856.398,728.202 892.895,817.023 929.391,894.349 965.888,961.667 1002.38,1020.27 1038.88,1071.29 1075.38,1115.71 1111.87,1154.38 \n",
       "  1148.37,1188.04 1184.87,1217.35 1221.36,1242.86 1257.86,1265.08 1294.36,1284.41 1330.85,1301.25 1367.35,1315.9 1403.85,1328.66 1440.34,1339.77 1476.84,1349.44 \n",
       "  1513.34,1357.86 1549.83,1365.19 1586.33,1371.57 1622.83,1377.12 1659.32,1381.96 1695.82,1386.17 1732.31,1389.83 1768.81,1393.03 1805.31,1395.8 1841.8,1398.22 \n",
       "  1878.3,1400.33 1914.8,1402.16 1951.29,1403.75 1987.79,1405.14 2024.29,1406.35 2060.78,1407.41 2097.28,1408.32 2133.78,1409.12 2170.27,1409.82 2206.77,1410.42 \n",
       "  2243.27,1410.95 2279.76,1411.4 2316.26,1411.8 2352.76,1412.15 2389.25,1412.45 2425.75,1412.72 2462.25,1412.95 2498.74,1413.15 2535.24,1413.32 2571.74,1413.47 \n",
       "  2608.23,1413.6 2644.73,1413.72 2681.22,1413.82 2717.72,1413.9 2754.22,1413.98 2790.71,1414.04 2827.21,1414.1 2863.71,1414.15 2900.2,1414.2 2936.7,1414.23 \n",
       "  2973.2,1414.27 3009.69,1414.29 3046.19,1414.32 3082.69,1414.34 3119.18,1414.36 3155.68,1414.38 3192.18,1414.39 3228.67,1414.4 3265.17,1414.41 3301.67,1414.42 \n",
       "  3338.16,1414.43 3374.66,1414.44 3411.16,1414.45 3447.65,1414.45 3484.15,1414.46 3520.64,1414.46 3557.14,1414.46 3593.64,1414.47 3630.13,1414.47 3666.63,1414.47 \n",
       "  3703.13,1414.47 \n",
       "  \"/>\n",
       "<circle clip-path=\"url(#clip333)\" cx=\"1767.27\" cy=\"1371.31\" r=\"10\" fill=\"#ffff00\" fill-rule=\"evenodd\" fill-opacity=\"1\" stroke=\"#000000\" stroke-opacity=\"1\" stroke-width=\"3.2\"/>\n",
       "<circle clip-path=\"url(#clip333)\" cx=\"1949.79\" cy=\"1371.31\" r=\"10\" fill=\"#ff0000\" fill-rule=\"evenodd\" fill-opacity=\"1\" stroke=\"#000000\" stroke-opacity=\"1\" stroke-width=\"3.2\"/>\n",
       "<circle clip-path=\"url(#clip333)\" cx=\"1584.75\" cy=\"1371.31\" r=\"10\" fill=\"#ffc0cb\" fill-rule=\"evenodd\" fill-opacity=\"1\" stroke=\"#000000\" stroke-opacity=\"1\" stroke-width=\"3.2\"/>\n",
       "<polyline clip-path=\"url(#clip333)\" style=\"stroke:#c68125; stroke-width:4; stroke-opacity:1; fill:none\" stroke-dasharray=\"16, 10\" points=\"\n",
       "  -676.456,-718187 -639.96,-718187 -603.463,-718187 -566.967,-718187 -530.47,-718187 -493.974,-718187 -457.477,-718187 -420.981,-718187 -384.484,-718187 -347.988,-718187 \n",
       "  -311.491,-718187 -274.994,-718187 -238.498,-718187 -202.001,-718187 -165.505,-718187 -129.008,-718187 -92.5118,-718187 -56.0153,-718187 -19.5187,-718187 16.9778,-718187 \n",
       "  53.4743,-718187 89.9709,-718187 126.467,-718187 162.964,-718187 199.46,-718187 235.957,-718187 272.454,-718187 308.95,-718187 345.447,-718187 381.943,-718187 \n",
       "  418.44,-718187 454.936,-718187 491.433,-718187 527.929,-718187 564.426,-718187 600.922,-718187 637.419,-718187 673.915,-718187 710.412,-718187 746.908,-718187 \n",
       "  783.405,-718187 819.902,-718187 856.398,-718187 892.895,-718187 929.391,-718187 965.888,-718187 1002.38,-718187 1038.88,-718187 1075.38,-718187 1111.87,-718187 \n",
       "  1148.37,-718187 1184.87,-718187 1221.36,-718187 1257.86,-718187 1294.36,-718187 1330.85,-718187 1367.35,-718187 1403.85,-718187 1440.34,-718187 1476.84,-718187 \n",
       "  1513.34,-718187 1549.83,-718187 1586.33,-718187 1622.83,-718187 1659.32,-718187 1695.82,-718187 1732.31,-718187 1768.81,-718187 1805.31,-718187 1841.8,-718187 \n",
       "  1878.3,-718187 1914.8,-718187 1951.29,-718187 1987.79,-718187 2024.29,-718187 2060.78,-718187 2097.28,-718187 2133.78,-718187 2170.27,-718187 2206.77,-718187 \n",
       "  2243.27,-718187 2279.76,-718187 2316.26,-718187 2352.76,-718187 2389.25,-718187 2425.75,-718187 2462.25,-718187 2498.74,-718187 2535.24,-718187 2571.74,-718187 \n",
       "  2608.23,-718187 2644.73,-718187 2681.22,-718187 2717.72,-718187 2754.22,-718187 2790.71,-718187 2827.21,-718187 2863.71,-718187 2900.2,-718187 2936.7,-718187 \n",
       "  2973.2,-718187 3009.69,-718187 3046.19,-718187 3082.69,-718187 3119.18,-718187 3155.68,-718187 3192.18,-718187 3228.67,-718187 3265.17,-718187 3301.67,-718187 \n",
       "  3338.16,-718187 3374.66,-718187 3411.16,-718187 3447.65,-718187 3484.15,-718187 3520.64,-718187 3557.14,-718187 3593.64,-718187 3630.13,-718187 3666.63,-718187 \n",
       "  3703.13,-718187 \n",
       "  \"/>\n",
       "</svg>\n"
      ]
     },
     "execution_count": 659,
     "metadata": {},
     "output_type": "execute_result"
    }
   ],
   "source": [
    "lens!([5, 8],[0, 0.1],\n",
    "framestyle=:box,\n",
    "inset=(1, bbox(0.05, 0.05, 0.5, 0.25, :right, :bottom))\n",
    ")"
   ]
  },
  {
   "cell_type": "markdown",
   "metadata": {},
   "source": [
    "Można z tego wyciągnąć następujący wniosek:"
   ]
  },
  {
   "cell_type": "code",
   "execution_count": 660,
   "metadata": {},
   "outputs": [
    {
     "name": "stdout",
     "output_type": "stream",
     "text": [
      "Dawkę 1000 należy powtórzyć w czasie 6.695767491916824 h\n",
      "Dawkę 500.0 należy powtórzyć w czasie 6.195661301036632 h\n"
     ]
    }
   ],
   "source": [
    "println(\"Dawkę $X₀ należy powtórzyć w czasie $time₀ h\")\n",
    "println(\"Dawkę $X₃ należy powtórzyć w czasie $time₃ h\")"
   ]
  },
  {
   "cell_type": "markdown",
   "metadata": {},
   "source": [
    "Dawki 2000 mg należałoby unikać z uwagi na to, że osiąga minimalne stężenie toksyczne"
   ]
  },
  {
   "cell_type": "markdown",
   "metadata": {},
   "source": [
    "* Dawka została podana doustnie"
   ]
  },
  {
   "cell_type": "markdown",
   "metadata": {},
   "source": [
    "Przyjmijmy teraz, że dawka została podana doustnie. Parametry farmakologiczne niech pozostaną takie same,\n",
    "* $MIC$ 0.012 mg/l,\n",
    "* $Cl_s$ 25.3 l/h\n",
    "* $V_D$ 7.77 l."
   ]
  },
  {
   "cell_type": "markdown",
   "metadata": {},
   "source": [
    "## 9. Bibliografia<a name=\"9\"></a>"
   ]
  },
  {
   "cell_type": "markdown",
   "metadata": {},
   "source": [
    "1. Orzechowska-Juzwenko K. (red.), *Podstawy farmakologii klinicznej*, VOLUMED, Wrocław 1997\n",
    "2. Grabowski T., *Farmakokinetyka i biofarmacja*, www.biokinetica.pl, wydanie04122015\n",
    "3. Herman T.W., *Farmakokinetyka. Teoria i Praktyka*, Wydawnictwo Lekarskie PZWL, Warszawa 2002\n",
    "4. Występowaniu wyrażenia *pharmakinetics* https://pubmed.ncbi.nlm.nih.gov/\n",
    "5. https://journals.asm.org/doi/10.1128/AAC.00182-11"
   ]
  },
  {
   "cell_type": "markdown",
   "metadata": {},
   "source": []
  }
 ],
 "metadata": {
  "interpreter": {
   "hash": "0a3efb3bb407a7e3626485f94149d9397fa80536653b5fb992d7b2e29c0fd3ba"
  },
  "kernelspec": {
   "display_name": "Julia 1.5.3",
   "language": "julia",
   "name": "julia-1.5"
  },
  "language_info": {
   "file_extension": ".jl",
   "mimetype": "application/julia",
   "name": "julia",
   "version": "1.5.3"
  }
 },
 "nbformat": 4,
 "nbformat_minor": 4
}
