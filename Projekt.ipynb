{
 "cells": [
  {
   "cell_type": "markdown",
   "metadata": {},
   "source": [
    "# Dynamika wchłaniania się leków - farmakokinetyka"
   ]
  },
  {
   "cell_type": "markdown",
   "metadata": {},
   "source": [
    "### Równania różniczkowe w technice"
   ]
  },
  {
   "cell_type": "markdown",
   "metadata": {},
   "source": [
    "#### Urszula Spik i Natalia Jelito\n",
    "---"
   ]
  },
  {
   "cell_type": "markdown",
   "metadata": {},
   "source": [
    "## Spis treści:"
   ]
  },
  {
   "cell_type": "markdown",
   "metadata": {},
   "source": [
    "1. [Czym jest farmakokinetyka i jej zastosowania](#1)\n",
    "2. [Nota historyczna](#2)\n",
    "3. [Model jednokompartmentowy - pojęcia wstępne](#3)\n",
    "    1. [Pojęcie kompartmentu](#3.1)\n",
    "    2. [Modelowanie kompartmentowe](#3.2)\n",
    "    3. [Otwarty model jednokompartmentowy](#3.3)\n",
    "    4. [Założenia dla modelu kompartmentowego](#3.4)\n",
    "4. [Masa (stężenie) leku we krwi jako funkcja czasu](#4)\n",
    "    1. [Dawka jednorazowa dożylna](#4.1)\n",
    "    2. [Dawka jednorazowa pozanaczyniowa](#4.2)\n",
    "5. [Parametry farmakokinetyczne](#5)\n",
    "6. [LADME - procesy farmakinetyczne](#6)\n",
    "    1. [Uwalnianie (L)](#6.1)\n",
    "    2. [Wchłanianie (A)](#6.2)\n",
    "    3. [Rozmieszczanie (D)](#6.3)\n",
    "    4. [Metabolizm (M)](#6.4)\n",
    "    5. [Wydalanie (E)](#6.5)\n",
    "7. [Metody numeryczne](#6)\n",
    "    1. [Algorytm](#7.1)\n",
    "    2. [Implementacja](#7.2)\n",
    "8. [Zastosowanie modelu na przykładach](#8)\n",
    "    1. [Dawka jednorazowa dożylna](#8.1)\n",
    "    2. [Dawka jednorazowa doustna](#8.2)\n",
    "9. [Bibliografia](#9)\n",
    "---"
   ]
  },
  {
   "cell_type": "markdown",
   "metadata": {},
   "source": [
    "## 1. Czym jest farmakokinetyka i jej zastosowania <a name=\"1\"></a>"
   ]
  },
  {
   "cell_type": "markdown",
   "metadata": {},
   "source": [
    "**Farmakokinetyka** *(pharmacokinetics)* to dziedzina farmakologii opisująca przebieg procesów dotyczących losów leków i ich metabolitów w czasie.\n",
    "\n",
    "Celem nowoczesnej farmakometrii jest  jest kontrola właściwości leku na każdym etapie jego tworzenia, czyli zaczynając od szukania kandydatów na leki, poprzez projekt i formulację postaci aż do zastosowania u pacjenta i późniejszym zakończeniu terapii i kontroli jej skutków. Obiektywne kontrolowanie właściwości leku jest możliwe dzięki złożonemu opisowi fizykochemicznemu oraz matematycznemu zarówno samego leku jak i zmian jakim ulega na przestrzeni czasu w żywym organizmu.\n",
    "\n",
    "Obecnie analiza parametrów farmakokinetycznych i toksykokinetycznych rozwija się w czterech podstawowych środowiskach badawczych: *in silico*(łac. w krzemie - komputerowo), *in vivo* (łac. na żywym - w organizmie), *in vitro*(łac, w szkle - laboratoryjnie), *in situ*(łac. w miejscu - reakcje biochemiczne w utrwalonym chemicznie organizmie).\n",
    "\n",
    "Zainteresowanie farmakokinetyką ma tendencję wzrostową co widać w rosnącej liczbie publikacji naukowych zawierających słowo kluczowe *pharmacokinetics* w tytule publikacji. \n",
    "\n",
    "![Występowanie słowa pharmacokinetics](obrazy/wystepowanie.png)"
   ]
  },
  {
   "cell_type": "markdown",
   "metadata": {},
   "source": [
    "## 2. Nota historyczna <a name=\"2\"></a>"
   ]
  },
  {
   "cell_type": "markdown",
   "metadata": {},
   "source": [
    "Termin farmakokinetyka został wprowadzony dopiero 1953 przez Friedricha Hartmuta Dosta, a jej gwałtowny rozwój przypada na okres powojenny, głównie w Stanach Zjednoczonych i Europie Zachodniej. Było to uwarunkowane szerokim zastosowaniem cyfrowych i analogowych maszyn matematycznych.\n",
    "\n",
    "Farmakokinetyka jest dziedziną, która ma silny związek z osiągnięciami pochodzącymi z innych dziedzin naukowych. Przykład w tej sytuacji będzie stanowić analiza chemiczna, która dała początek podstawowym narzędziom analizy wykorzystywanych w farmakokinetyce.\n",
    "\n",
    "Jednym z początkowych, przełomowych wydarzeń było wykazanie przez Erika Widmarka w latach 1920-1932, że jest możliwe przedstawienie zamiany stęzenia we krwi acetonu i alkoholu etylowego w sposób matematyczny za pomocą prostych równań i wykresów.\n",
    "\n",
    "Pierwasza publikacja z zakresu farmakokinetyki miała miejsce w 1937 przez Torstena i Teorell pt. *„Kinetics of distribution of substances administered to the body”.*"
   ]
  },
  {
   "cell_type": "markdown",
   "metadata": {},
   "source": [
    "## 3. Model jednokompartmentowy  <a name=\"3\"></a>"
   ]
  },
  {
   "cell_type": "markdown",
   "metadata": {},
   "source": [
    "### A. Pojęcie kompartmentu <a name=\"3.1\"></a>"
   ]
  },
  {
   "cell_type": "markdown",
   "metadata": {},
   "source": [
    "Aby interpretować wyniki w sposób matematyczny przyjmuje się model, w którym organizm składa się z jednego bądź kilku tzw. *kompartmentów*. \n",
    "\n",
    "Stosowane w modelu matematycznym kompartmenty nie zawsze pokrywają się ze strukurami anatomicznymi organizmu. Przyjmuje się, że z uwagi na złożoność każdego żywego organizmu stanowią one układ wielokompartmentowy. Jednak można zauważyć, że wiele tkanek wykazuje podobne właściwości w odniesieniu do badanego leku. Dzięki temu możliwe jest łączenie ich w jeden kompartment i w ten sposób redukować liczbę kompartmentów do jedynie kilku.\n",
    "Kompartment nie zawsze dotyczy stanu fizycznego substancji leczniczej, czyli miejsca jej występowania w organizmie ale także jej różnych form.\n",
    "\n",
    "Biorąc te założenia można podać definicję kompartmentu:\n",
    "\n",
    "*Jeśli lek występuje w układzie biologicznym w kulku rozróżnialnych formach lub miejscach organizmu i jeśli przechodzi z jednej formy lub miejsca w inną formę lub do innego miejsca z mierzalną szybkością, to wtedy każda forma i(lub) każde miejsce są traktowane jako oddzielne kompartmenty*."
   ]
  },
  {
   "cell_type": "markdown",
   "metadata": {},
   "source": [
    "### B. Modelowanie kompartmentowe <a name=\"3.2\"></a>"
   ]
  },
  {
   "cell_type": "markdown",
   "metadata": {},
   "source": [
    "Modelowanie za pomocą definiowania przestrzeni - kompartmentów w organizmie w których\n",
    "zachodzi dyspozycja leku zwykle obejmuje modele 1,2 lub 3 kompartmentowe. Model jednokompartmentowy jest wyidelanizowany i jest bardzo duzym uproszczeniem. Zwykle podstawą tego typu założenia jest brak\n",
    "możliwości śledzenia procesów dystrybucji leku za pomocą narzędzi jakimi dysponuje modelowanie\n",
    "kompartmentowe. Jest to wiec model znacznie ograniczający dokładny opis kompletnego profilu\n",
    "farmakokinetycznego. \n",
    "\n",
    "\n",
    "Przeciwieństwem wyidealizowanego modelu jednokompartmentowego jest model\n",
    "jednokompartmentowy w którym bierze się pod uwagę istnienie kompartmentów peryferyjnych. Jednak\n",
    "transport leku w ich obrębie nadal nie jest możliwy do zdefiniowania za pomocą stałych szybkości czy\n",
    "eksponencjałów steżeń. Bliższe realiom fizjologii organizmu są modele dwukompartmentowe lub\n",
    "trójkompartmentowe.\n",
    "\n",
    "\n",
    "Dwa podstawowe kompartmenty jakie można wyróżnić w organizmie to\n",
    "kompartment centralny oraz kompartment obwodowy.Za kompartment centralny uważa się krew (klasyczna definicja), czasami również płyn międzykomórkowy i dobrze ukrwione narządy. Pojęcie kompartmentu centralnego wiąże się ściśle z\n",
    "poziomem stężeń jakie leki osiągają w osoczu, które stanowi część całej objętości krwi. Pojęcie to\n",
    "rozszerzają zagadnienia wiązania leków przez białka krwi oraz transportu niektórych leków do wnętrza\n",
    "komórek krwi. Narządy dobrze unaczynione zwykle zawierają lek w stężeniu zbliżonym do stężenia\n",
    "notowanego w osoczu. \n",
    "\n",
    "W tym sensie kompartmentem peryferyjnym staje się każda inna przestrzeń do której\n",
    "zachodzi dystrybucja. Za kompartment tkankowy uważa się tkanki słabo unaczynione do których lek\n",
    "przenika długo zwykle osiągając w nich niższe stężenie. W niektórych tkankach lek rozmieszcza się\n",
    "szybko w znacznych ilościach. Proces ten zależny jest od budowy chemicznej i postaci leku, drogi podania,\n",
    "jego powinowactwa do określonych typów tkanek. Zwykle poziom substancji leczniczej w\n",
    "kompartmencie tkankowym rośnie powoli i jest niższy od poziomów notowanych w kompartmencie\n",
    "centralnym. \n",
    "\n",
    "Kompartment efektorowy stanowi każde miejsce do którego dociera lek gwarantujące\n",
    "uzyskanie efektu terapeutycznego. Kompartmentem tym zwykle są tkanki objęte procesem patologicznym.\n",
    "Kompartmentem efektorowym dla leków o działaniu miejscowym może być powierzchnia skóry i komórki\n",
    "skóry lub dla leków podawanych w schorzeniach przewodu pokarmowego nabłonek jelit. Nie zawsze droga\n",
    "leku z miejsca podania do kompartmentu efektorowego musi być więc znacznie oddalona od miejsca\n",
    "podania leku. Jednak często trudnym zadaniem jest stworzenie takiej postaci leku która zagwarantuje\n",
    "zaistnienie substancji leczniczej w kompartmencie docelowym - efektorowym w pożądanym stężeniu przez\n",
    "określony czas. "
   ]
  },
  {
   "cell_type": "markdown",
   "metadata": {},
   "source": [
    "### C. Otwarty model jednokompartmentowy <a name=\"3.3\"></a>"
   ]
  },
  {
   "cell_type": "markdown",
   "metadata": {},
   "source": [
    "To najprostszy model farmakokinetyczny. Składa się on z jednego kompartmentu. Określamy go jako otwarty ponieważ można wprowadzić do organizmu lek różnymi sposobami (dożylnie lub pozanaczyniowo), eliminowany jest również innymi drogami (np. przez nerki z moczem)."
   ]
  },
  {
   "cell_type": "markdown",
   "metadata": {},
   "source": [
    "### D. Założenia dla modelu jednokompartmentowego <a name=\"3.4\"></a>"
   ]
  },
  {
   "cell_type": "markdown",
   "metadata": {},
   "source": [
    "* Organizm to jeden kompartment, którego objętość dystrybucji wynosi $V_d$.\n",
    "* Nastąpuje natychmiastowe i homogeniczne mieszanie leku w krążących płynach i tkankach organizmu.\n",
    "* Badana objętość płynu ustrojowego ma określoną masę leku, która jest cały czas proporcjonalna do stężenia leku w każdym dostępnym płynie ustrojowym lub w każdej liczącej się tkance.\n",
    "* Lek eliminowany jest od razu po wprowadzeniu.\n",
    "* Procesy wchłaniania i eliminacji zachodzą z różnymi szybkościami. Przeważnie wchłanianie jest szybsze od eliminacji.\n",
    "* Stosowane modele liniowe są stacjonarne tzn. występujące w równaniach różniczkowych stałe szybkości są nie zależne od czasu\n",
    "* Stała szybkości eliminacji leku z organizmu ($\\mathrm{K}$) jest sumą wszystkich szybkości wydalania z organizmu"
   ]
  },
  {
   "cell_type": "markdown",
   "metadata": {},
   "source": [
    "## 4. Masa (stężenie) leku we krwi jako funkcja czasu <a name=\"4\"></a>"
   ]
  },
  {
   "cell_type": "markdown",
   "metadata": {},
   "source": [
    "### A. Dawka jednorazowa dożylna w modelu jednokompartmentowym<a name=\"4.1\"></a>"
   ]
  },
  {
   "cell_type": "markdown",
   "metadata": {},
   "source": [
    "Model ten można zobrazować za pomocą poniższego schematu:"
   ]
  },
  {
   "cell_type": "markdown",
   "metadata": {},
   "source": [
    "![Dawka jednorazowa dożyln](obrazy/dozylnaschemat.png)"
   ]
  },
  {
   "cell_type": "markdown",
   "metadata": {},
   "source": [
    "gdzie:\n",
    "\n",
    "$X_0$ - masa leku podana dożylnie (dawka) w postaci jednorazowego wstrzyknięcia,\n",
    "\n",
    "$X$ - masa leku we krwi (reprezentującej cały komparment) w czasie t,\n",
    "\n",
    "$X_u$ - masa leku we krwi (reprezentującej cały kompartment) w czasie t,\n",
    "\n",
    "$X_{nr}$ - masa leku wydalona drogami pozanerkowymi w czasie t, \n",
    "\n",
    "$\\mathrm{k_e}$ - stała szybkości wydalania leku przez nerki zgodnie z procesem pierwszego rzędu, \n",
    "\n",
    "$\\mathrm{k_{nr}}$ - stała szybkości pierwszego rzędu wydalania leku drogami pozanerkowymi, np. z żółcią po metabolizmie w wątrobie."
   ]
  },
  {
   "cell_type": "markdown",
   "metadata": {},
   "source": [
    "Stałą szybkości eliminacji leku z organizmu możemy zapisać jako:\n",
    "$$ \\mathrm{K} = \\mathrm{k_e} + \\mathrm{k_{nr}} \\tag{4.1}$$"
   ]
  },
  {
   "cell_type": "markdown",
   "metadata": {},
   "source": [
    "W ten sposób, przy założeniu, że dystrybucja dawki dożylnej będzie zachodziła natychmiastowo w całym organizmie (kompartmencie), nasz model ulega uproszczeniu:"
   ]
  },
  {
   "cell_type": "markdown",
   "metadata": {},
   "source": [
    "![Dawka dożylna schemat uproszczony](obrazy/dozylnaschematupr.png)"
   ]
  },
  {
   "cell_type": "markdown",
   "metadata": {},
   "source": [
    "W celu wyprowadzenia równania na ilość leku we krwi będącego funkcją czasu należy rozwiązać równanie różniczkowe pierwszego rzędu w postaci:\n",
    "$$ \\frac{dX}{dt} = -\\mathrm{K} \\cdot X \\tag{4.2}$$"
   ]
  },
  {
   "cell_type": "markdown",
   "metadata": {},
   "source": [
    "Korzystając z metody rozdzielenia zmiennych uzyskujemy równanie:\n",
    "$$ \\int_{X}^{X_0} \\frac{dX}{X} = -\\mathrm{K} \\cdot \\int_{0}^{t} dt $$\n",
    "\n",
    "Które po scałkowaniu przyjmuje postać:\n",
    "$$ \\mathrm{ln}X - \\mathrm{ln}X_0 = -\\mathrm{K} \\cdot t$$\n"
   ]
  },
  {
   "cell_type": "markdown",
   "metadata": {},
   "source": [
    "Następnie można sprowadzić je do równania:\n",
    "\n",
    "$$X = X_0 \\cdot \\mathrm{e}^{-\\mathrm{K} \\cdot t} \\tag{4.3}$$"
   ]
  },
  {
   "cell_type": "markdown",
   "metadata": {},
   "source": [
    "Z czego widać, że masa leku we krwi jest malejącą funkcją wykładniczą czasu."
   ]
  },
  {
   "cell_type": "markdown",
   "metadata": {},
   "source": [
    "Za pomocą doświadczeń w praktyce wyznacza się stężenie leku we krwi ($C$), a nie jego masę. Zatem powyższe równanie jest niepraktyczne. \n",
    "\n",
    "Wprowadżmy jednak pojęcie objętości dystrybucji ($V_d$), czyli hipotetycznej objętości płynów ustrojowych, których po homogenicznym rozmieszczeniu wprowadzanej dawki dożylnej lek miałby takie stężenie jak we krwi. W tym momencie można zapisać, że $$X = V_d \\cdot C \\tag{4.4}$$"
   ]
  },
  {
   "cell_type": "markdown",
   "metadata": {},
   "source": [
    "Używrając tej równości doprowadzamy nasze równanie do postaci \n",
    "\n",
    "$$ C(t) = C_0 \\cdot \\mathrm{e}^{-\\mathrm{K} \\cdot t} \\tag{4.5}$$"
   ]
  },
  {
   "cell_type": "markdown",
   "metadata": {},
   "source": [
    "Powyższe równanie można zlogarytmować, wtedy przyjmuje ono postać liniowego równania pierwszego rzędu:\n",
    "$$\\mathrm{ln}C = \\mathrm{ln}C_0 - \\mathrm{K} \\cdot t \\tag{4.6}$$"
   ]
  },
  {
   "cell_type": "markdown",
   "metadata": {},
   "source": [
    "### B Dawka pozanaczyniowa<a name=\"4.2\"></a>\n",
    "Gdy lek podawany jest pozanaczyniowo można przyjać następujący model jednokompartmentowy\n",
    "\n",
    "![Model pozanaczyniowy](obrazy/pozanacz.png)\n",
    "\n",
    "gdzie:\n",
    "$X_D$ - masa (ilość) leku w żołądku (mięśniu, jelicie grubym itp.)\n",
    "$\\mathrm{k}_a$ - stała szybkości pierwszego rzędu wchłaniania leku (absorbcji) do krwi.\n",
    "\n",
    "Naszym celem będzie znalezienie wzorów na $X_D$, $X$, $X_u$ jako funkcje czasu. \n",
    "Aby to osiągnąć zapiszmy odpowiednie równiania różniczkowe:\n",
    "$$-\\frac{\\mathrm{d}X_D}{\\mathrm{d}t} = \\mathrm{k}_a \\cdot X_D \\tag{4.6}$$\n",
    "$$ \\frac{\\mathrm{d}X}{\\mathrm{d}t} = \\mathrm{k}_a \\cdot X_D - \\mathrm{k}_e \\cdot X \\tag{4.7}$$\n",
    "$$\\frac{\\mathrm{d}X_u}{\\mathrm{d}t} = \\mathrm{k}_e \\cdot X \\tag{4.8}$$"
   ]
  },
  {
   "cell_type": "markdown",
   "metadata": {},
   "source": [
    "Z równania (4.6) otrzymujemy, że: $$X_D = X_{D_0} \\cdot \\mathrm{e}^{-\\mathrm{k}_e \\cdot t} \\tag{4.9}$$"
   ]
  },
  {
   "cell_type": "markdown",
   "metadata": {},
   "source": [
    "Aby znaleźć wyrażenie na $X$, różniczkujemy równanie (4.7) względem czasu:\n",
    "$$\\frac{\\mathrm{d}^2 X}{\\mathrm{d} t^2} = \\mathrm{k}_a \\cdot \\frac{\\mathrm{d}X_D}{\\mathrm{d}t} - \\mathrm{k}_e \\cdot \\frac{\\mathrm{d}X}{\\mathrm{d}t}$$"
   ]
  },
  {
   "cell_type": "markdown",
   "metadata": {},
   "source": [
    "Wykorzystamy teraz równanie (4.6) otrzymując:\n",
    "$$\\frac{\\mathrm{d}^2 X}{\\mathrm{d} t^2} + \\mathrm{k}_e \\cdot \\frac{\\mathrm{d}X}{\\mathrm{d}t} + \\mathrm{k}_a \\cdot \\mathrm{k}_a \\cdot X_D = 0$$"
   ]
  },
  {
   "cell_type": "markdown",
   "metadata": {},
   "source": [
    "Następnie ponownie skorzystamy z równania (4.7), dzięki któremu dostaniemy:\n",
    "$$\\frac{\\mathrm{d}^2 X}{\\mathrm{d} t^2} + \\left(\\mathrm{k}_a + \\mathrm{k}_e\\right) \\cdot \\frac{\\mathrm{d}X}{\\mathrm{d}t} + \\mathrm{k}_a \\cdot \\mathrm{k}_e \\cdot X = 0 \\tag{4.10}$$"
   ]
  },
  {
   "cell_type": "markdown",
   "metadata": {},
   "source": [
    "W ten sposób mamy równanie różniczkowe drugiego rzędu o stałych współczynnikach, którego rozwiązaniem będzie: $$X = C_1 \\cdot \\mathrm{e}^{r_1 \\cdot t} + C_2 \\cdot \\mathrm{e}^{r_2 \\cdot t} \\tag{4.11}$$"
   ]
  },
  {
   "cell_type": "markdown",
   "metadata": {},
   "source": [
    "W celu obliczenia $r_1$ i $r_2$ należy rozwiązać następujące równanie kwadratowe: $$r^2 + \\left(\\mathrm{k}_a + \\mathrm{k}_e\\right) \\cdot r + \\mathrm{k}_a \\cdot \\mathrm{k}_e = 0 \\tag{4.12}$$"
   ]
  },
  {
   "cell_type": "markdown",
   "metadata": {},
   "source": [
    "$$\\Delta = \\left(\\mathrm{k}_a - \\mathrm{k}_e\\right)^2 $$\n",
    "$$ r_1 = -\\mathrm{k}_e$$\n",
    "$$ r_2 = -\\mathrm{k}_a$$"
   ]
  },
  {
   "cell_type": "markdown",
   "metadata": {},
   "source": [
    "Stałe całkowania znajdziemy z warunków początkowych. W czasie $t=0$, $X=X_0=0$, co daje nam: $$C_1 + C_2 = 0 \\tag{4.13}$$"
   ]
  },
  {
   "cell_type": "markdown",
   "metadata": {},
   "source": [
    "Ponadto pochodna z równania (4.7) urości się do:\n",
    "$$\\frac{\\mathrm{d}X}{\\mathrm{d}t}\\biggr\\rvert_{t=0} = \\mathrm{k}_a \\cdot \\mathrm{X}_{D_0}$$"
   ]
  },
  {
   "cell_type": "markdown",
   "metadata": {},
   "source": [
    "Powyższą pochodną można obliczyć różniczkując po $t$ wynik równania (4.10):\n",
    "$$ X' = \\left(C_1 \\cdot \\mathrm{e}^{-\\mathrm{k}_e \\cdot t} + C_2 \\cdot \\mathrm{e}^{-\\mathrm{k}_a \\cdot t}\\right)'$$"
   ]
  },
  {
   "cell_type": "markdown",
   "metadata": {},
   "source": [
    "Oblicza się ją jako sumę pochodnych w następujący sposób przez podstawienie: $$u = - \\mathrm{k}_e t$$ $$\\frac{\\mathrm{d}u}{\\mathrm{d}t}=-\\mathrm{k}_e$$ \n",
    "$$\\frac{\\mathrm{d}X}{\\mathrm{d}u} = - C_1 \\cdot \\mathrm{e}^u$$ \n",
    "$$\\frac{\\mathrm{d}X}{\\mathrm{d}u} \\cdot \\frac{\\mathrm{d}u}{\\mathrm{d}t} = - \\mathrm{k}_e \\cdot C_1 \\cdot \\mathrm{e}^{- \\mathrm{k}_e \\cdot t}$$"
   ]
  },
  {
   "cell_type": "markdown",
   "metadata": {},
   "source": [
    "Z czego ostatecznie dostajemy:\n",
    "$$\\frac{\\mathrm{d}X}{\\mathrm{d}t} = - \\mathrm{k}_e \\cdot C_1 \\cdot \\mathrm{e}^{- \\mathrm{k}_e \\cdot t} - \\mathrm{k}_a \\cdot C_2 \\cdot \\mathrm{e}^{- \\mathrm{k}_a \\cdot t}$$"
   ]
  },
  {
   "cell_type": "markdown",
   "metadata": {},
   "source": [
    "Teraz powyższa pochodna w czasie t = 0 wynosi:\n",
    "$$\\frac{\\mathrm{d}X}{\\mathrm{d}t}\\biggr\\rvert_{t=0} = - \\mathrm{k}_e \\cdot C_1 - \\mathrm{k}_a \\cdot C_2$$"
   ]
  },
  {
   "cell_type": "markdown",
   "metadata": {},
   "source": [
    "W ten sposób dostajemy układ równań z dwoma niewiadomymi:"
   ]
  },
  {
   "cell_type": "markdown",
   "metadata": {},
   "source": [
    "$$\\begin{cases}\n",
    "C_1 + C_2\\\\\n",
    "\\mathrm{k}_a \\cdot X_{D_0} = - \\mathrm{k}_e \\cdot C_1 - \\mathrm{k}_a \\cdot C_2\n",
    "\\end{cases}$$"
   ]
  },
  {
   "cell_type": "markdown",
   "metadata": {},
   "source": [
    "Gdzie po rozwiązaniu otrzymujemy wartości stałych $C_1$, $C_2$:\n",
    "$$ C_1 = - \\frac{\\mathrm{k}_a \\cdot X_{D_0}}{\\mathrm{k}_e - \\mathrm{k}_a}$$\n",
    "$$ C_2 = \\frac{\\mathrm{k}_a \\cdot X_{D_0}}{\\mathrm{k}_e - \\mathrm{k}_a}$$"
   ]
  },
  {
   "cell_type": "markdown",
   "metadata": {},
   "source": [
    "Następnie wstawiając uzyskane wartości do równania (4.11) możemy zapisać\n",
    "$$X = \\frac{\\mathrm{k}_a \\cdot X_{D_0}}{\\mathrm{k}_e - \\mathrm{k}_a} \\cdot \\left(\\mathrm{e}^{-\\mathrm{k}_e \\cdot t} - \\mathrm{e}^{-\\mathrm{k}_a \\cdot t}\\right)$$"
   ]
  },
  {
   "cell_type": "markdown",
   "metadata": {},
   "source": [
    "Dzieląc przez $V_d$ i wykorzystując równanie (4.4) otrzymujemy wzór na stężenie leku we krwi:\n",
    "$$ C(t) = \\frac{\\mathrm{k}_a \\cdot X_{D_0}}{V_d \\cdot \\left(\\mathrm{k}_e - \\mathrm{k}_a\\right)} \\cdot \\left(\\mathrm{e}^{-\\mathrm{k}_e \\cdot t} - \\mathrm{e}^{-\\mathrm{k}_a \\cdot t}\\right)$$"
   ]
  },
  {
   "cell_type": "markdown",
   "metadata": {},
   "source": [
    "Powyższy wzór określany jest jako *wzór Batemana*"
   ]
  },
  {
   "cell_type": "markdown",
   "metadata": {},
   "source": [
    "## 5. Parametry farmakokinetyczne<a name=\"5\"></a>\n",
    "Parametry farmakokinetyczne będą opisywać losy leku w organizmie w sposób ilościowy. Informacje na ten temat są niezbędne w rejestracji nowych leków (niegenerycznych) a także leków odtwórczych (generycznych). Parametry farmakokinetyczne wykorzystuje się również w tzw. terapeutrycznym monitorowaniu leków (TDM), które pozwala na optymalizację dawkowania.\n",
    "Do parametrów farmakokinetycznych należą m.in:\n",
    "* AUC - wielkość powierzchni pod krzywą zmian stężenia leku we krwi,\n",
    "* maksymalne stężenie leku we krwi ($C_{max}$),\n",
    "* czas, po którym zostaje osiągnięte stężenie maksymalne ($t_{max}$),\n",
    "* objętość dystrybucji\n",
    "* stała szybkość eliminacji ($\\mathrm{K}$)\n",
    "* biologiczny okres półtrwania\n",
    "* klirens leku\n",
    "\n",
    "Powiązane są one z procesami farmakokinetycznymi."
   ]
  },
  {
   "cell_type": "markdown",
   "metadata": {},
   "source": [
    "## 6. LADME - procesy farmakokinetyczne<a name=\"6\"></a>"
   ]
  },
  {
   "cell_type": "markdown",
   "metadata": {},
   "source": [
    "Do opisu procesów farmakokinetycznych używany jest system LADME. \n",
    "Jest to skrót od angielskich słów:\n",
    "* L - liberation (uwalnianie),\n",
    "* A - absorption (wchłanianie),\n",
    "* D - distribution (rozmieszczenie)\n",
    "* M - metabolism (metabolizm), \n",
    "* E - excretion/ elimination (wydalanie, usuwanie).\n",
    "\n",
    "Odzwierciedla on drogę jaką przechodzi lek od podania do wydalenia z organizmu.\n",
    "Często rozbudowany jest do LADMER dla podkreślenia analizy efektu - R (ang. response). Najczęściej obliczane parametry dotyczą procesów mieszczących się w pojęciach A, D, M, E."
   ]
  },
  {
   "cell_type": "markdown",
   "metadata": {},
   "source": [
    "### A. Uwalnianie (L) <a name=\"6.1\"></a>\n",
    "Pierwszym z procesów zachodzących po wprowadzeniu leku do organizmu jest uwalnianie związku leczniczego z postaci leku (np. tabletka, drażetka). Aby lek został wchłonięty do krwioobiegu konieczne jest rozpuszczenie substancji lecznicej.\n",
    "\n",
    "Etapy uwalniania leku:\n",
    "1. rozpad postaci leku \n",
    "2. rozpuszczanie substancji leczniczej \n",
    "3. dyfuzja leku do miejsca wchłaniania."
   ]
  },
  {
   "cell_type": "markdown",
   "metadata": {},
   "source": [
    "### B . Wchłanianie (A) <a name=\"6.2\"></a>\n",
    "Wchłanianie to przenoszenie substancji leczniczej z miejsca wchłaniania do krążenia ogólnego. Odbywa się ono na zasadzie przenikania cząstek leku przez błony biologiczne. Jedynie bezpośrednie podanie leku do krwi omija ten proces.\n",
    "\n",
    "\n",
    "\n",
    "1. **Stan stacjonarny (steady state)**\n",
    "    Przy wielokrotnym dawkowaniu leku, w miarę podawania kolejnych dawek, stężenie leku we krwi rośnie i ustala się stan stacjonarny, w którym szybkość i ilość leku dostające się do organizmu równają się szybkości i ilości leku opuszczającej organizm.\n",
    "    <br/><br/>\n",
    "2. **Efekt pierwszego przejścia (first pass effect)** \n",
    "    Zjawisko zmniejszania ilości leku po jego wchłonięciu z przewodu pokarmowego, a przed dotarciem do krązenia ogólnego. Substancja podana doustnie przechodzi do krwiobiegu przez układ krążenia, co oznacza, że musi najpierw przejść przez wątrobę. W efekcie dawka tego samego leku podana doustnie zazwyczaj jest większa niż równoważna dawka podawana np. dożylnie (rodzaje transportu)\n",
    "    <br/><br/>\n",
    "3. **Dostępność biologiczna** \n",
    "    Dostęność biologiczna jest określana przez ułamek dawki substancji leczniczej, który dostaje się do krążenia ogólnego i przez szybkość z jaką zachodzi ten proces. Stopień dostępności biologicznej jest zależny od procesu technologicznego produkcji danego preparatu. Charakteryzują ją następujące parametry farmakokinetyczne:\n",
    "    * wielkość pod krzywą zmian stężenia leku we krwi, czyli pole pod krzywą AUC (Area Under the Curve), parametr informuje o całkowitej ilości leku jaka została wchłonięta do organizmu\n",
    "    * maksymalne stężenie leku we krwi ($C_{max}$)\n",
    "    * czas, po którym zostaje osiągnięte stężenie maksymalne ($t_{max}$)\n",
    "    \n",
    "    Warunkiem działania leczniczego jest takie stężenie maksymalnego leku we krwi, które zajmie obszar powyżej minimalnego stężenia terapeutycznego MEC (Minimal Effective Concentration) oraz poniżej minimalnego stężenia toksycznego MTC (Minimal Toxic Concentration) .\n",
    "    \n",
    "    Istnieje podział na biodostępność względną i bezwzględną:\n",
    "       \n",
    "    + biodostępność bezwzględną określa się porównując biodostępność leku podanego pozanaczyniowo z tym samym lekiem podanym donaczyniowo, aby ocenić jest wartość leczniczą przy innej niż donaczyniowa drodze podania. \n",
    "    $$ EBA = \\frac{AUC_{po}\\cdot D_{iv}}{AUC_{iv}\\cdot D_{po}}\\cdot 100\\% $$\n",
    "    Gdzie $AUC$ - pole pod krzywą,\n",
    "    $D$ - dawka,\n",
    "    *po* - pozanaczyniowo,\n",
    "    *iv* - donaczyniowo.\n",
    "    \n",
    "    + biodostępność względną wyznaczamy porównując preparat badany z preparatem standardowym o znanej dostępności biologicznej \n",
    "    $$ EBA = \\frac{AUC_{A}\\cdot D_{B}}{AUC_{B}\\cdot D_{A}}\\cdot 100\\% $$\n",
    "    Gdzie $AUC$ - pole pod krzywą,\n",
    "    $D$ - dawka,\n",
    "    *A* - lek badany,\n",
    "    *B* - lek standardowy.\n",
    "    "
   ]
  },
  {
   "cell_type": "markdown",
   "metadata": {},
   "source": [
    "### C. Rozmieszczenie (D) <a name=\"6.3\"></a>\n",
    "Kolejnym procesem jest rozmieszczenie wchłoniętej substancji leczniczej w organizmie zapewniające dotarcie leku do miejsca jego działania.\n",
    "1. **Objętość dystrybucji ($V_d$)**\n",
    "\n",
    "     to parametr farmakokinetyczny definiowany jako hipotetyczna objętość płynów ustrojowych, w której lek, po równomiernym rozmieszczeniu, osiągałby takie samo stężenie jak we krwi. Wyrażana jest w litrach. W praktyce oznacza to, że gdy objętość dystrybucji wynosi:\n",
    "    * 3 - 5 litrów (4,3% masy ciała) - dystrybucja leku ograniczona jest do krwi,\n",
    "    * 10 - 20 litrów (23% masy ciała) - lek rozmieszcza się w płynie pozakomórkowym,\n",
    "    * 25 - 30 litrów (34% masy ciała) - lek rozmieszcza się w płynie wewnątrzkomórkowym,\n",
    "    * ok. 40 litrów (60% masy ciała) - lek rozmieszcza się we wszystkich płynach organizmu,\n",
    "    * 100% masy ciała - lek silnie łączy się z tkankami i kumuluje w narządach.\n",
    "    \n",
    "    Dla wielu leków wartość wartość dystrybucji przekracza realną ilość płynów ustrojowych w organizmie, dlatego zwana jest pozorną. Matematycznie określa się ją jako stosunek całkowitej ilości leku w organizmie ($X$) do stężenia leku we krwi ($C$). $$ V_d = \\frac{X}{C} $$\n",
    "    \n",
    "    Objętość dystrybucji jest współczynnikiem pozwalającym obliczyć stężenie leku we krwi na niedającą się wyznaczyć doświadczalnie ilość (masę) leku w organizmie $$ X = V_d \\cdot C $$\n",
    "    \n",
    "    Objętość dystrybucji zależy w dużym stopniu od masy ciała, dlatego można posługiwać się tzw, względną objętościa dystrybucji (współczynnikiem dystrybucji), $\\Delta '$: $$\\Delta ' = \\frac{V_d}{BW} $$ gdzie $BW$ jest masą ciała.\n",
    "    \n",
    "    Tak zdefiniowany parametr określa ułamek objętości ciała (całe ciało to 1), gdzie lek dociera. Dla większości leków ten współczynnik jest mniejszy od 1, ponieważ niecałkowita objętość organizmu jest dla tych leków dostęna. Względna objętość dystrybucji większa od 1 jest wielkością charakterystyczną dla leków w znacznym stopniu wiążących się z białkami krwi lub wykazujących duże powinowactwo do tkanki kostnej lub tłuszczowej."
   ]
  },
  {
   "cell_type": "markdown",
   "metadata": {},
   "source": [
    "### D. Metabolizm (M)<a name=\"6.4\"></a>\n",
    "Metabolizm leku to wszystkie przemiany biochemiczne, którym ulega lek w żywym organizmie, które mają na celu unieczynnienie substancji oraz ułatwienie jego eliminacji z organizmu. Zachodzą głównie w mikrosomach wątroby, ale też w przewodzie pokarmowym, płucach, nerkach, obrębie skóry i innych tkankach. Procesy związane z metabolizmem zachodzą w dwóch fazach.\n",
    "1. Reakcje pierwszej fazy:\n",
    "    * utlenianie, \n",
    "    * redukcja, \n",
    "    * hydroliza.\n",
    "2. Reakcje drugiej fazy można podzielić na reakcje:\n",
    "    * sprzęgania z kwasem glukuronowym, siarkowym, glutaminowym, z glukozą, aminokwasami, glicyną, z grupą metylową,\n",
    "    * acetylacji,\n",
    "    * alkilacji."
   ]
  },
  {
   "cell_type": "markdown",
   "metadata": {},
   "source": [
    "### E. Wydalanie/usuwanie (E)<a name=\"6.5\"></a>\n",
    "Ostatnim etapem jest wydalanie leków z organizmu. Odbywa się ono wieloma kanałami, przez nerki z moczem, przez wątrobę żółcią, przez gruczoły ślinowe ze śliną, przez gruczoły potowe z potem, przez płuca z wydychanym powietrzem, przez gruczoły mleczne z mlekiem.\n",
    "\n",
    "Z procesem usuwania leku powiązane są następujące parametry farmakokinetyczne:\n",
    "1. **Stała szybkość eliminacji ($\\mathrm{K}$)** która jest sumą wszystkich stałych szybkości wydalania leku z organizmu.\n",
    "\n",
    "    Wyznacza się ją z równania $\\mathrm{ln}C  = \\mathrm{ln}C_0 -\\mathrm{K} \\cdot t $ . Z tego równania możemy wywnioskować, że lnC jest liniową funkcją czasu (t). Współczynnik kierunkowy otrzymanej prostej równa się -K. Po zamianie znaku współczynnika kierunkowego prostej otrzymuje się wartość stałej szybkości eliminacji leku z krwi różnymi drogami. Jej wymiar stanowi odwrotność jednostki czasu ( 1/h). Wartość tej stałej jest więc niezależna od sposobu wyrażania stężeń leku we krwi, co jest cechą charakterystyczną tylko stałej szybkości pierwszego rzędu.\n",
    "\n",
    "2. **Biologiczny okres półtrwania**, który jest czasem, w którym stężenie leku we krwi, surowicy lub w osoczu spadnie do połowy wartości wyjściowej. Parametr ten pozwala określić m.in. dawkowanie leków. Wyprowadza się go z równania $\\mathrm{K} \\cdot t = \\mathrm{ln}C_0 - \\mathrm{ln}C$, wtedy $$ t = \\frac{\\mathrm{ln}\\left(\\frac{C}{C_0}\\right)}{\\mathrm{K}} $$ My szukamy takiego $t$ dla którego $C = \\frac{C_0}{2}$, czyli gdzie stężenie spadnie do połowy początkowego stężenia. $$ t_{\\frac{1}{2}} = \\frac{\\mathrm{ln}\\left(\\frac{2 C_0}{C_0}\\right)}{\\mathrm{K}} = \\frac{\\mathrm{ln}2}{\\mathrm{K}}$$ Przybliżając $\\mathrm{ln}2 = 0,693$ otrzymujemy $$t_{\\frac{1}{2}} = \\frac{0.693}{\\mathrm{K}}$$\n",
    "Wartość $t_{\\frac{1}{2}}$ jest wartością charakterystyczną dla danego leku, jednak zależy od różnych czynników np. płci, wieku, stanu zdrowotnego czy aktywności fizycznej.\n",
    "    \n",
    "3. **Klirens leku (ang. clearance czyli oczyszczanie)**\n",
    "\n",
    "    Wyraża sprawność, z jaką osocze zostaje oczyszczone z danej substancji. Wyrażany jest jako objętość osocza całkowicie oczyszczonego z danej substancji w jednostce czasu. Wylicza się go z następujących wzorów:\n",
    "    * $ Cl = \\frac{v}{C} $ gdzie $v$ jest szybkością eliminacji leku\n",
    "    * $ Cl = \\mathrm{K} \\cdot V_d$\n",
    "\n",
    "    Rozpatrując narząd, który eliminuje lek oznaczmy szybkość transportu tego leku przez narząd jako $Q$ [ml/min], $C_a$- stężenie leku we krwi tętniczej wpływającej do narządu, $C_v$ - stężenie leku we krwi żylnej opuszczającej narząd. Wtedy iloczyn $C_a \\cdot Q $ określa szybkość transportu do danego narządu, a iloczyn $C_v \\cdot Q$ - szybkość z jaką lek opuszcza ten narząd. Stąd szybkość eliminacji możemy określić jako różnicę $$C_a \\cdot Q - C_v \\cdot Q = Q(C_a - C_v)$$\n",
    "    \n",
    "    Bezwymiarową wielkość zwaną współczynnikiem ekstrakcji (ang. ER - Extraction Ratio) wyraża się jako $$ER = \\frac{Q(C_a - C_v)}{Q \\cdot C_a} = \\frac{C_a - C_v}{C_a}$$ Gdy ER = 0 to narząd nie eliminuje leku ($Ca = Cv$). Przy niemal całkowitej eliminacji leku przez dany narząd $(Cv = 0)$ $ER = 1$. Współczynnik ekstrakcji można traktować jako wskaźnik skuteczności oczyszczania krwi przez dany narząd.\n",
    "    \n",
    "    Klirens ogólnoustrojowy $(Cl_s)$ jest sumą poszczególnych klirensów narządowych. Wyraża się go stosunkiem eliminacji wprowadzonej masy ($X$) leku do jego stężenia we krwi lub osoczu. $$Cl_s = \\frac{1}{C} \\cdot \\frac{\\mathrm{d}X}{\\mathrm{d}t}$$ Całkując powyższe równanie na przedziale czasu od $t = 0$ do $t =\\infty$ uzyskuje sie wyrażenie: $$Cl_s = \\frac{\\int_{0}^{t} (\\frac{dX}{dt})\\,dt }{\\int_{0}^{t} C \\,dt}$$\n",
    "    Wyrażenie w liczniku odpowiada całkowitej masie wyeliminowanego leku, czyli podanej dożylnie dawce $D$, a mianownik równa się poku pod krzywą stężenia leku we krwi jako funkcji czasu ( AUC): $$Cl_s = \\frac{D}{AUC}$$\n",
    "    Z równań (których) można wyznaczyć zależność między parametrami $V_d$, $K$ i $Cl_s$: $$ Vd = \\frac{Cl_s}{K}$$\n"
   ]
  },
  {
   "cell_type": "markdown",
   "metadata": {},
   "source": [
    "## 7. Metody numeryczne"
   ]
  },
  {
   "cell_type": "markdown",
   "metadata": {},
   "source": [
    "### A. Algorytm Rungego-Kutty 4. rzędu"
   ]
  },
  {
   "cell_type": "markdown",
   "metadata": {},
   "source": [
    "Mając równanie w postaci $y' = f(t,y)$ z warunkami początkowymi $y(t_0) = y_0$, przyjmujemy dowolne h, będące wielkością kroku całkowania. Wtedy iteracyjny wzór na y według metody Rungego-Kutty 4. rzędu to: \n",
    "$$ y_{n+1} = y_n + \\Delta y_n,$$\n",
    "$$\\Delta y_n = \\frac{1}{6}\\left(k_1 + 2k_2 + 2k_3 + k_4\\right)$$\n",
    "gdzie:\n",
    "\n",
    "$k_1 = hf(x_n,y_n)$\n",
    "\n",
    "$k_2 = hf\\left(x_n + \\frac{h}{2}, y_n + \\frac{k_1}{2}\\right)$\n",
    "\n",
    "$k_3 = hf\\left(x_n + \\frac{h}{2}, y_n + \\frac{k_2}{2}\\right)$\n",
    "\n",
    "$k_4 = hf(x_n + h, y_n + k_3)$"
   ]
  },
  {
   "cell_type": "markdown",
   "metadata": {},
   "source": [
    "### B. Implementacja"
   ]
  },
  {
   "cell_type": "code",
   "execution_count": 204,
   "metadata": {},
   "outputs": [
    {
     "data": {
      "text/plain": [
       "runge_kutta (generic function with 1 method)"
      ]
     },
     "execution_count": 204,
     "metadata": {},
     "output_type": "execute_result"
    }
   ],
   "source": [
    "function runge_kutta(f, t, y₀)\n",
    "    y = fill(NaN, length(t))\n",
    "    y[1] = y₀\n",
    "    h = (t[end] - t[1]) / (length(t)-1)\n",
    "    for n in 1:length(t)-1\n",
    "        k₁ = h * f(t[n], y[n])\n",
    "        k₂ = h * f(t[n] + h/2, y[n] + k₁/2)\n",
    "        k₃ = h * f(t[n] + h/2, y[n] + k₂/2)\n",
    "        k₄ = h * f(t[n] + h, y[n] + k₃)\n",
    "        y[n + 1] = y[n] + (k₁ + 2k₂ + 2k₃ + k₄) / 6\n",
    "    end\n",
    "    return y\n",
    "end"
   ]
  },
  {
   "cell_type": "markdown",
   "metadata": {},
   "source": [
    "## 8. Zastosowanie modelu na przykładach<a name=\"8\"></a>"
   ]
  },
  {
   "cell_type": "code",
   "execution_count": 205,
   "metadata": {},
   "outputs": [],
   "source": [
    "using Plots"
   ]
  },
  {
   "cell_type": "markdown",
   "metadata": {},
   "source": [
    "### Przykład 1 - dostosowywanie się modelów do rzeczywistych danych"
   ]
  },
  {
   "cell_type": "markdown",
   "metadata": {},
   "source": [
    "### A. Dawka dożylna"
   ]
  },
  {
   "cell_type": "markdown",
   "metadata": {},
   "source": [
    "Poniższa tabela [3] przedstawia wartośći mierzone stężenia ibuprofenu w osoczu krwi królika ($C$) [mg/l] w różnym czasie ($t$) po podaniu jednorazowej dawki dożylnej soli lizynowej ibuprofenu. $X_0 = 146.3 mg$, $V_d = 0.608 l$,  stała $K$ jest równa $2,44/h$"
   ]
  },
  {
   "cell_type": "markdown",
   "metadata": {},
   "source": [
    "<table>\n",
    "  <tr>\n",
    "    <th>Czas ($t$)</th>\n",
    "    <td>0,083</td>\n",
    "    <td>0,167</td>\n",
    "    <td>0,250</td>\n",
    "    <td>0,367</td>\n",
    "    <td>0,533</td>\n",
    "    <td>0,667</td>\n",
    "    <td>0,833</td>\n",
    "    <td>1,000</td>\n",
    "    <td>1,330</td>\n",
    "    <td>1,420</td>\n",
    "    <td>1,500</td>\n",
    "  </tr>\n",
    "  <tr>\n",
    "    <th>Stężenie ($C$)</th>\n",
    "    <td>217,9</td>\n",
    "    <td>169,3</td>\n",
    "    <td>118,9</td>\n",
    "    <td>102,9</td>\n",
    "    <td>74,7</td>\n",
    "    <td>55,1</td>\n",
    "    <td>36,2</td>\n",
    "    <td>22,8</td>\n",
    "    <td>16,1</td>\n",
    "    <td>9,1</td>\n",
    "    <td>7,3</td>\n",
    "  </tr>\n",
    "</table>"
   ]
  },
  {
   "cell_type": "markdown",
   "metadata": {},
   "source": [
    "Z powyższych informacji możemy wyliczyć $C_0$\n",
    "$$C_0 = \\frac{X_0}{V_d} = 240.6 \\frac{mg}{l}$$"
   ]
  },
  {
   "cell_type": "code",
   "execution_count": 189,
   "metadata": {},
   "outputs": [],
   "source": [
    "t = [0, 0.083, 0.167, 0.250, 0.367, 0.533, 0.667, 0.833, 1.000, 1.330, 1.420, 1.500]\n",
    "C = [240.6, 217.9, 169.3, 118.9, 102.9, 74.7, 55.1, 36.2, 22.8, 16.1, 9.1, 7.3];"
   ]
  },
  {
   "cell_type": "code",
   "execution_count": 190,
   "metadata": {},
   "outputs": [
    {
     "data": {
      "image/svg+xml": [
       "<?xml version=\"1.0\" encoding=\"utf-8\"?>\n",
       "<svg xmlns=\"http://www.w3.org/2000/svg\" xmlns:xlink=\"http://www.w3.org/1999/xlink\" width=\"600\" height=\"400\" viewBox=\"0 0 2400 1600\">\n",
       "<defs>\n",
       "  <clipPath id=\"clip410\">\n",
       "    <rect x=\"0\" y=\"0\" width=\"2400\" height=\"1600\"/>\n",
       "  </clipPath>\n",
       "</defs>\n",
       "<path clip-path=\"url(#clip410)\" d=\"\n",
       "M0 1600 L2400 1600 L2400 0 L0 0  Z\n",
       "  \" fill=\"#ffffff\" fill-rule=\"evenodd\" fill-opacity=\"1\"/>\n",
       "<defs>\n",
       "  <clipPath id=\"clip411\">\n",
       "    <rect x=\"480\" y=\"0\" width=\"1681\" height=\"1600\"/>\n",
       "  </clipPath>\n",
       "</defs>\n",
       "<path clip-path=\"url(#clip410)\" d=\"\n",
       "M226.232 1423.18 L2352.76 1423.18 L2352.76 47.2441 L226.232 47.2441  Z\n",
       "  \" fill=\"#ffffff\" fill-rule=\"evenodd\" fill-opacity=\"1\"/>\n",
       "<defs>\n",
       "  <clipPath id=\"clip412\">\n",
       "    <rect x=\"226\" y=\"47\" width=\"2128\" height=\"1377\"/>\n",
       "  </clipPath>\n",
       "</defs>\n",
       "<polyline clip-path=\"url(#clip412)\" style=\"stroke:#000000; stroke-width:2; stroke-opacity:0.1; fill:none\" points=\"\n",
       "  286.417,1423.18 286.417,47.2441 \n",
       "  \"/>\n",
       "<polyline clip-path=\"url(#clip412)\" style=\"stroke:#000000; stroke-width:2; stroke-opacity:0.1; fill:none\" points=\"\n",
       "  955.135,1423.18 955.135,47.2441 \n",
       "  \"/>\n",
       "<polyline clip-path=\"url(#clip412)\" style=\"stroke:#000000; stroke-width:2; stroke-opacity:0.1; fill:none\" points=\"\n",
       "  1623.85,1423.18 1623.85,47.2441 \n",
       "  \"/>\n",
       "<polyline clip-path=\"url(#clip412)\" style=\"stroke:#000000; stroke-width:2; stroke-opacity:0.1; fill:none\" points=\"\n",
       "  2292.57,1423.18 2292.57,47.2441 \n",
       "  \"/>\n",
       "<polyline clip-path=\"url(#clip410)\" style=\"stroke:#000000; stroke-width:4; stroke-opacity:1; fill:none\" points=\"\n",
       "  226.232,1423.18 2352.76,1423.18 \n",
       "  \"/>\n",
       "<polyline clip-path=\"url(#clip410)\" style=\"stroke:#000000; stroke-width:4; stroke-opacity:1; fill:none\" points=\"\n",
       "  286.417,1423.18 286.417,1406.67 \n",
       "  \"/>\n",
       "<polyline clip-path=\"url(#clip410)\" style=\"stroke:#000000; stroke-width:4; stroke-opacity:1; fill:none\" points=\"\n",
       "  955.135,1423.18 955.135,1406.67 \n",
       "  \"/>\n",
       "<polyline clip-path=\"url(#clip410)\" style=\"stroke:#000000; stroke-width:4; stroke-opacity:1; fill:none\" points=\"\n",
       "  1623.85,1423.18 1623.85,1406.67 \n",
       "  \"/>\n",
       "<polyline clip-path=\"url(#clip410)\" style=\"stroke:#000000; stroke-width:4; stroke-opacity:1; fill:none\" points=\"\n",
       "  2292.57,1423.18 2292.57,1406.67 \n",
       "  \"/>\n",
       "<path clip-path=\"url(#clip410)\" d=\"M 0 0 M267.933 1452.37 Q264.322 1452.37 262.493 1455.94 Q260.688 1459.48 260.688 1466.61 Q260.688 1473.71 262.493 1477.28 Q264.322 1480.82 267.933 1480.82 Q271.567 1480.82 273.373 1477.28 Q275.201 1473.71 275.201 1466.61 Q275.201 1459.48 273.373 1455.94 Q271.567 1452.37 267.933 1452.37 M267.933 1448.67 Q273.743 1448.67 276.799 1453.27 Q279.877 1457.86 279.877 1466.61 Q279.877 1475.33 276.799 1479.94 Q273.743 1484.52 267.933 1484.52 Q262.123 1484.52 259.044 1479.94 Q255.989 1475.33 255.989 1466.61 Q255.989 1457.86 259.044 1453.27 Q262.123 1448.67 267.933 1448.67 Z\" fill=\"#000000\" fill-rule=\"evenodd\" fill-opacity=\"1\" /><path clip-path=\"url(#clip410)\" d=\"M 0 0 M284.947 1477.97 L289.831 1477.97 L289.831 1483.85 L284.947 1483.85 L284.947 1477.97 Z\" fill=\"#000000\" fill-rule=\"evenodd\" fill-opacity=\"1\" /><path clip-path=\"url(#clip410)\" d=\"M 0 0 M304.9 1452.37 Q301.289 1452.37 299.461 1455.94 Q297.655 1459.48 297.655 1466.61 Q297.655 1473.71 299.461 1477.28 Q301.289 1480.82 304.9 1480.82 Q308.535 1480.82 310.34 1477.28 Q312.169 1473.71 312.169 1466.61 Q312.169 1459.48 310.34 1455.94 Q308.535 1452.37 304.9 1452.37 M304.9 1448.67 Q310.71 1448.67 313.766 1453.27 Q316.845 1457.86 316.845 1466.61 Q316.845 1475.33 313.766 1479.94 Q310.71 1484.52 304.9 1484.52 Q299.09 1484.52 296.011 1479.94 Q292.956 1475.33 292.956 1466.61 Q292.956 1457.86 296.011 1453.27 Q299.09 1448.67 304.9 1448.67 Z\" fill=\"#000000\" fill-rule=\"evenodd\" fill-opacity=\"1\" /><path clip-path=\"url(#clip410)\" d=\"M 0 0 M937.149 1452.37 Q933.538 1452.37 931.709 1455.94 Q929.903 1459.48 929.903 1466.61 Q929.903 1473.71 931.709 1477.28 Q933.538 1480.82 937.149 1480.82 Q940.783 1480.82 942.589 1477.28 Q944.417 1473.71 944.417 1466.61 Q944.417 1459.48 942.589 1455.94 Q940.783 1452.37 937.149 1452.37 M937.149 1448.67 Q942.959 1448.67 946.015 1453.27 Q949.093 1457.86 949.093 1466.61 Q949.093 1475.33 946.015 1479.94 Q942.959 1484.52 937.149 1484.52 Q931.339 1484.52 928.26 1479.94 Q925.204 1475.33 925.204 1466.61 Q925.204 1457.86 928.26 1453.27 Q931.339 1448.67 937.149 1448.67 Z\" fill=\"#000000\" fill-rule=\"evenodd\" fill-opacity=\"1\" /><path clip-path=\"url(#clip410)\" d=\"M 0 0 M954.163 1477.97 L959.047 1477.97 L959.047 1483.85 L954.163 1483.85 L954.163 1477.97 Z\" fill=\"#000000\" fill-rule=\"evenodd\" fill-opacity=\"1\" /><path clip-path=\"url(#clip410)\" d=\"M 0 0 M964.163 1449.29 L982.519 1449.29 L982.519 1453.23 L968.445 1453.23 L968.445 1461.7 Q969.463 1461.35 970.482 1461.19 Q971.5 1461 972.519 1461 Q978.306 1461 981.686 1464.18 Q985.065 1467.35 985.065 1472.76 Q985.065 1478.34 981.593 1481.44 Q978.121 1484.52 971.801 1484.52 Q969.625 1484.52 967.357 1484.15 Q965.112 1483.78 962.704 1483.04 L962.704 1478.34 Q964.788 1479.48 967.01 1480.03 Q969.232 1480.59 971.709 1480.59 Q975.713 1480.59 978.051 1478.48 Q980.389 1476.38 980.389 1472.76 Q980.389 1469.15 978.051 1467.05 Q975.713 1464.94 971.709 1464.94 Q969.834 1464.94 967.959 1465.36 Q966.107 1465.77 964.163 1466.65 L964.163 1449.29 Z\" fill=\"#000000\" fill-rule=\"evenodd\" fill-opacity=\"1\" /><path clip-path=\"url(#clip410)\" d=\"M 0 0 M1595.75 1479.92 L1603.39 1479.92 L1603.39 1453.55 L1595.08 1455.22 L1595.08 1450.96 L1603.34 1449.29 L1608.02 1449.29 L1608.02 1479.92 L1615.66 1479.92 L1615.66 1483.85 L1595.75 1483.85 L1595.75 1479.92 Z\" fill=\"#000000\" fill-rule=\"evenodd\" fill-opacity=\"1\" /><path clip-path=\"url(#clip410)\" d=\"M 0 0 M1620.73 1477.97 L1625.61 1477.97 L1625.61 1483.85 L1620.73 1483.85 L1620.73 1477.97 Z\" fill=\"#000000\" fill-rule=\"evenodd\" fill-opacity=\"1\" /><path clip-path=\"url(#clip410)\" d=\"M 0 0 M1640.68 1452.37 Q1637.07 1452.37 1635.24 1455.94 Q1633.44 1459.48 1633.44 1466.61 Q1633.44 1473.71 1635.24 1477.28 Q1637.07 1480.82 1640.68 1480.82 Q1644.32 1480.82 1646.12 1477.28 Q1647.95 1473.71 1647.95 1466.61 Q1647.95 1459.48 1646.12 1455.94 Q1644.32 1452.37 1640.68 1452.37 M1640.68 1448.67 Q1646.49 1448.67 1649.55 1453.27 Q1652.63 1457.86 1652.63 1466.61 Q1652.63 1475.33 1649.55 1479.94 Q1646.49 1484.52 1640.68 1484.52 Q1634.87 1484.52 1631.79 1479.94 Q1628.74 1475.33 1628.74 1466.61 Q1628.74 1457.86 1631.79 1453.27 Q1634.87 1448.67 1640.68 1448.67 Z\" fill=\"#000000\" fill-rule=\"evenodd\" fill-opacity=\"1\" /><path clip-path=\"url(#clip410)\" d=\"M 0 0 M2264.97 1479.92 L2272.61 1479.92 L2272.61 1453.55 L2264.3 1455.22 L2264.3 1450.96 L2272.56 1449.29 L2277.24 1449.29 L2277.24 1479.92 L2284.87 1479.92 L2284.87 1483.85 L2264.97 1483.85 L2264.97 1479.92 Z\" fill=\"#000000\" fill-rule=\"evenodd\" fill-opacity=\"1\" /><path clip-path=\"url(#clip410)\" d=\"M 0 0 M2289.94 1477.97 L2294.83 1477.97 L2294.83 1483.85 L2289.94 1483.85 L2289.94 1477.97 Z\" fill=\"#000000\" fill-rule=\"evenodd\" fill-opacity=\"1\" /><path clip-path=\"url(#clip410)\" d=\"M 0 0 M2299.94 1449.29 L2318.3 1449.29 L2318.3 1453.23 L2304.23 1453.23 L2304.23 1461.7 Q2305.24 1461.35 2306.26 1461.19 Q2307.28 1461 2308.3 1461 Q2314.09 1461 2317.47 1464.18 Q2320.85 1467.35 2320.85 1472.76 Q2320.85 1478.34 2317.37 1481.44 Q2313.9 1484.52 2307.58 1484.52 Q2305.41 1484.52 2303.14 1484.15 Q2300.89 1483.78 2298.49 1483.04 L2298.49 1478.34 Q2300.57 1479.48 2302.79 1480.03 Q2305.01 1480.59 2307.49 1480.59 Q2311.49 1480.59 2313.83 1478.48 Q2316.17 1476.38 2316.17 1472.76 Q2316.17 1469.15 2313.83 1467.05 Q2311.49 1464.94 2307.49 1464.94 Q2305.62 1464.94 2303.74 1465.36 Q2301.89 1465.77 2299.94 1466.65 L2299.94 1449.29 Z\" fill=\"#000000\" fill-rule=\"evenodd\" fill-opacity=\"1\" /><path clip-path=\"url(#clip410)\" d=\"M 0 0 M1240.84 1522.27 L1240.84 1532.4 L1252.91 1532.4 L1252.91 1536.95 L1240.84 1536.95 L1240.84 1556.3 Q1240.84 1560.66 1242.02 1561.9 Q1243.23 1563.14 1246.89 1563.14 L1252.91 1563.14 L1252.91 1568.04 L1246.89 1568.04 Q1240.11 1568.04 1237.53 1565.53 Q1234.96 1562.98 1234.96 1556.3 L1234.96 1536.95 L1230.66 1536.95 L1230.66 1532.4 L1234.96 1532.4 L1234.96 1522.27 L1240.84 1522.27 Z\" fill=\"#000000\" fill-rule=\"evenodd\" fill-opacity=\"1\" /><path clip-path=\"url(#clip410)\" d=\"M 0 0 M1279.23 1518.52 L1292.72 1518.52 L1292.72 1523.07 L1285.09 1523.07 L1285.09 1572.09 L1292.72 1572.09 L1292.72 1576.64 L1279.23 1576.64 L1279.23 1518.52 Z\" fill=\"#000000\" fill-rule=\"evenodd\" fill-opacity=\"1\" /><path clip-path=\"url(#clip410)\" d=\"M 0 0 M1328.5 1546.53 L1328.5 1568.04 L1322.64 1568.04 L1322.64 1546.72 Q1322.64 1541.66 1320.67 1539.14 Q1318.7 1536.63 1314.75 1536.63 Q1310.01 1536.63 1307.27 1539.65 Q1304.53 1542.68 1304.53 1547.9 L1304.53 1568.04 L1298.64 1568.04 L1298.64 1518.52 L1304.53 1518.52 L1304.53 1537.93 Q1306.63 1534.72 1309.47 1533.13 Q1312.33 1531.54 1316.05 1531.54 Q1322.2 1531.54 1325.35 1535.36 Q1328.5 1539.14 1328.5 1546.53 Z\" fill=\"#000000\" fill-rule=\"evenodd\" fill-opacity=\"1\" /><path clip-path=\"url(#clip410)\" d=\"M 0 0 M1348.33 1518.52 L1348.33 1576.64 L1334.83 1576.64 L1334.83 1572.09 L1342.44 1572.09 L1342.44 1523.07 L1334.83 1523.07 L1334.83 1518.52 L1348.33 1518.52 Z\" fill=\"#000000\" fill-rule=\"evenodd\" fill-opacity=\"1\" /><polyline clip-path=\"url(#clip412)\" style=\"stroke:#000000; stroke-width:2; stroke-opacity:0.1; fill:none\" points=\"\n",
       "  226.232,1146.66 2352.76,1146.66 \n",
       "  \"/>\n",
       "<polyline clip-path=\"url(#clip412)\" style=\"stroke:#000000; stroke-width:2; stroke-opacity:0.1; fill:none\" points=\"\n",
       "  226.232,868.467 2352.76,868.467 \n",
       "  \"/>\n",
       "<polyline clip-path=\"url(#clip412)\" style=\"stroke:#000000; stroke-width:2; stroke-opacity:0.1; fill:none\" points=\"\n",
       "  226.232,590.273 2352.76,590.273 \n",
       "  \"/>\n",
       "<polyline clip-path=\"url(#clip412)\" style=\"stroke:#000000; stroke-width:2; stroke-opacity:0.1; fill:none\" points=\"\n",
       "  226.232,312.079 2352.76,312.079 \n",
       "  \"/>\n",
       "<polyline clip-path=\"url(#clip410)\" style=\"stroke:#000000; stroke-width:4; stroke-opacity:1; fill:none\" points=\"\n",
       "  226.232,1423.18 226.232,47.2441 \n",
       "  \"/>\n",
       "<polyline clip-path=\"url(#clip410)\" style=\"stroke:#000000; stroke-width:4; stroke-opacity:1; fill:none\" points=\"\n",
       "  226.232,1146.66 251.75,1146.66 \n",
       "  \"/>\n",
       "<polyline clip-path=\"url(#clip410)\" style=\"stroke:#000000; stroke-width:4; stroke-opacity:1; fill:none\" points=\"\n",
       "  226.232,868.467 251.75,868.467 \n",
       "  \"/>\n",
       "<polyline clip-path=\"url(#clip410)\" style=\"stroke:#000000; stroke-width:4; stroke-opacity:1; fill:none\" points=\"\n",
       "  226.232,590.273 251.75,590.273 \n",
       "  \"/>\n",
       "<polyline clip-path=\"url(#clip410)\" style=\"stroke:#000000; stroke-width:4; stroke-opacity:1; fill:none\" points=\"\n",
       "  226.232,312.079 251.75,312.079 \n",
       "  \"/>\n",
       "<path clip-path=\"url(#clip410)\" d=\"M 0 0 M142.316 1129.38 L160.672 1129.38 L160.672 1133.32 L146.598 1133.32 L146.598 1141.79 Q147.616 1141.44 148.635 1141.28 Q149.653 1141.09 150.672 1141.09 Q156.459 1141.09 159.839 1144.26 Q163.218 1147.44 163.218 1152.85 Q163.218 1158.43 159.746 1161.53 Q156.274 1164.61 149.954 1164.61 Q147.778 1164.61 145.51 1164.24 Q143.265 1163.87 140.857 1163.13 L140.857 1158.43 Q142.941 1159.57 145.163 1160.12 Q147.385 1160.68 149.862 1160.68 Q153.866 1160.68 156.204 1158.57 Q158.542 1156.46 158.542 1152.85 Q158.542 1149.24 156.204 1147.14 Q153.866 1145.03 149.862 1145.03 Q147.987 1145.03 146.112 1145.45 Q144.26 1145.86 142.316 1146.74 L142.316 1129.38 Z\" fill=\"#000000\" fill-rule=\"evenodd\" fill-opacity=\"1\" /><path clip-path=\"url(#clip410)\" d=\"M 0 0 M178.288 1132.46 Q174.677 1132.46 172.848 1136.02 Q171.042 1139.57 171.042 1146.7 Q171.042 1153.8 172.848 1157.37 Q174.677 1160.91 178.288 1160.91 Q181.922 1160.91 183.727 1157.37 Q185.556 1153.8 185.556 1146.7 Q185.556 1139.57 183.727 1136.02 Q181.922 1132.46 178.288 1132.46 M178.288 1128.76 Q184.098 1128.76 187.153 1133.36 Q190.232 1137.95 190.232 1146.7 Q190.232 1155.42 187.153 1160.03 Q184.098 1164.61 178.288 1164.61 Q172.477 1164.61 169.399 1160.03 Q166.343 1155.42 166.343 1146.7 Q166.343 1137.95 169.399 1133.36 Q172.477 1128.76 178.288 1128.76 Z\" fill=\"#000000\" fill-rule=\"evenodd\" fill-opacity=\"1\" /><path clip-path=\"url(#clip410)\" d=\"M 0 0 M116.297 881.812 L123.936 881.812 L123.936 855.446 L115.626 857.113 L115.626 852.853 L123.89 851.187 L128.566 851.187 L128.566 881.812 L136.204 881.812 L136.204 885.747 L116.297 885.747 L116.297 881.812 Z\" fill=\"#000000\" fill-rule=\"evenodd\" fill-opacity=\"1\" /><path clip-path=\"url(#clip410)\" d=\"M 0 0 M151.274 854.266 Q147.663 854.266 145.834 857.83 Q144.029 861.372 144.029 868.502 Q144.029 875.608 145.834 879.173 Q147.663 882.714 151.274 882.714 Q154.908 882.714 156.714 879.173 Q158.542 875.608 158.542 868.502 Q158.542 861.372 156.714 857.83 Q154.908 854.266 151.274 854.266 M151.274 850.562 Q157.084 850.562 160.14 855.168 Q163.218 859.752 163.218 868.502 Q163.218 877.228 160.14 881.835 Q157.084 886.418 151.274 886.418 Q145.464 886.418 142.385 881.835 Q139.329 877.228 139.329 868.502 Q139.329 859.752 142.385 855.168 Q145.464 850.562 151.274 850.562 Z\" fill=\"#000000\" fill-rule=\"evenodd\" fill-opacity=\"1\" /><path clip-path=\"url(#clip410)\" d=\"M 0 0 M178.288 854.266 Q174.677 854.266 172.848 857.83 Q171.042 861.372 171.042 868.502 Q171.042 875.608 172.848 879.173 Q174.677 882.714 178.288 882.714 Q181.922 882.714 183.727 879.173 Q185.556 875.608 185.556 868.502 Q185.556 861.372 183.727 857.83 Q181.922 854.266 178.288 854.266 M178.288 850.562 Q184.098 850.562 187.153 855.168 Q190.232 859.752 190.232 868.502 Q190.232 877.228 187.153 881.835 Q184.098 886.418 178.288 886.418 Q172.477 886.418 169.399 881.835 Q166.343 877.228 166.343 868.502 Q166.343 859.752 169.399 855.168 Q172.477 850.562 178.288 850.562 Z\" fill=\"#000000\" fill-rule=\"evenodd\" fill-opacity=\"1\" /><path clip-path=\"url(#clip410)\" d=\"M 0 0 M117.293 603.618 L124.931 603.618 L124.931 577.252 L116.621 578.919 L116.621 574.66 L124.885 572.993 L129.561 572.993 L129.561 603.618 L137.2 603.618 L137.2 607.553 L117.293 607.553 L117.293 603.618 Z\" fill=\"#000000\" fill-rule=\"evenodd\" fill-opacity=\"1\" /><path clip-path=\"url(#clip410)\" d=\"M 0 0 M142.316 572.993 L160.672 572.993 L160.672 576.928 L146.598 576.928 L146.598 585.4 Q147.616 585.053 148.635 584.891 Q149.653 584.706 150.672 584.706 Q156.459 584.706 159.839 587.877 Q163.218 591.048 163.218 596.465 Q163.218 602.044 159.746 605.146 Q156.274 608.224 149.954 608.224 Q147.778 608.224 145.51 607.854 Q143.265 607.484 140.857 606.743 L140.857 602.044 Q142.941 603.178 145.163 603.734 Q147.385 604.289 149.862 604.289 Q153.866 604.289 156.204 602.183 Q158.542 600.076 158.542 596.465 Q158.542 592.854 156.204 590.747 Q153.866 588.641 149.862 588.641 Q147.987 588.641 146.112 589.058 Q144.26 589.474 142.316 590.354 L142.316 572.993 Z\" fill=\"#000000\" fill-rule=\"evenodd\" fill-opacity=\"1\" /><path clip-path=\"url(#clip410)\" d=\"M 0 0 M178.288 576.072 Q174.677 576.072 172.848 579.636 Q171.042 583.178 171.042 590.308 Q171.042 597.414 172.848 600.979 Q174.677 604.521 178.288 604.521 Q181.922 604.521 183.727 600.979 Q185.556 597.414 185.556 590.308 Q185.556 583.178 183.727 579.636 Q181.922 576.072 178.288 576.072 M178.288 572.368 Q184.098 572.368 187.153 576.974 Q190.232 581.558 190.232 590.308 Q190.232 599.034 187.153 603.641 Q184.098 608.224 178.288 608.224 Q172.477 608.224 169.399 603.641 Q166.343 599.034 166.343 590.308 Q166.343 581.558 169.399 576.974 Q172.477 572.368 178.288 572.368 Z\" fill=\"#000000\" fill-rule=\"evenodd\" fill-opacity=\"1\" /><path clip-path=\"url(#clip410)\" d=\"M 0 0 M119.885 325.424 L136.204 325.424 L136.204 329.359 L114.26 329.359 L114.26 325.424 Q116.922 322.669 121.505 318.04 Q126.112 313.387 127.292 312.044 Q129.538 309.521 130.417 307.785 Q131.32 306.026 131.32 304.336 Q131.32 301.581 129.376 299.845 Q127.455 298.109 124.353 298.109 Q122.154 298.109 119.7 298.873 Q117.269 299.637 114.492 301.188 L114.492 296.466 Q117.316 295.331 119.769 294.753 Q122.223 294.174 124.26 294.174 Q129.63 294.174 132.825 296.859 Q136.019 299.544 136.019 304.035 Q136.019 306.165 135.209 308.086 Q134.422 309.984 132.316 312.577 Q131.737 313.248 128.635 316.466 Q125.533 319.66 119.885 325.424 Z\" fill=\"#000000\" fill-rule=\"evenodd\" fill-opacity=\"1\" /><path clip-path=\"url(#clip410)\" d=\"M 0 0 M151.274 297.878 Q147.663 297.878 145.834 301.443 Q144.029 304.984 144.029 312.114 Q144.029 319.22 145.834 322.785 Q147.663 326.327 151.274 326.327 Q154.908 326.327 156.714 322.785 Q158.542 319.22 158.542 312.114 Q158.542 304.984 156.714 301.443 Q154.908 297.878 151.274 297.878 M151.274 294.174 Q157.084 294.174 160.14 298.781 Q163.218 303.364 163.218 312.114 Q163.218 320.841 160.14 325.447 Q157.084 330.03 151.274 330.03 Q145.464 330.03 142.385 325.447 Q139.329 320.841 139.329 312.114 Q139.329 303.364 142.385 298.781 Q145.464 294.174 151.274 294.174 Z\" fill=\"#000000\" fill-rule=\"evenodd\" fill-opacity=\"1\" /><path clip-path=\"url(#clip410)\" d=\"M 0 0 M178.288 297.878 Q174.677 297.878 172.848 301.443 Q171.042 304.984 171.042 312.114 Q171.042 319.22 172.848 322.785 Q174.677 326.327 178.288 326.327 Q181.922 326.327 183.727 322.785 Q185.556 319.22 185.556 312.114 Q185.556 304.984 183.727 301.443 Q181.922 297.878 178.288 297.878 M178.288 294.174 Q184.098 294.174 187.153 298.781 Q190.232 303.364 190.232 312.114 Q190.232 320.841 187.153 325.447 Q184.098 330.03 178.288 330.03 Q172.477 330.03 169.399 325.447 Q166.343 320.841 166.343 312.114 Q166.343 303.364 169.399 298.781 Q172.477 294.174 178.288 294.174 Z\" fill=\"#000000\" fill-rule=\"evenodd\" fill-opacity=\"1\" /><path clip-path=\"url(#clip410)\" d=\"M 0 0 M20.1444 809.563 L26.9239 809.563 Q23.9002 812.81 22.4043 816.502 Q20.9083 820.162 20.9083 824.3 Q20.9083 832.448 25.9054 836.777 Q30.8707 841.105 40.2919 841.105 Q49.6813 841.105 54.6784 836.777 Q59.6436 832.448 59.6436 824.3 Q59.6436 820.162 58.1477 816.502 Q56.6518 812.81 53.6281 809.563 L60.3439 809.563 Q62.6355 812.937 63.7814 816.725 Q64.9272 820.481 64.9272 824.682 Q64.9272 835.472 58.3387 841.678 Q51.7183 847.885 40.2919 847.885 Q28.8336 847.885 22.2451 841.678 Q15.6248 835.472 15.6248 824.682 Q15.6248 820.417 16.7706 816.661 Q17.8846 812.874 20.1444 809.563 Z\" fill=\"#000000\" fill-rule=\"evenodd\" fill-opacity=\"1\" /><path clip-path=\"url(#clip410)\" d=\"M 0 0 M14.479 783.241 L14.479 769.746 L19.0304 769.746 L19.0304 777.385 L68.0464 777.385 L68.0464 769.746 L72.5979 769.746 L72.5979 783.241 L14.479 783.241 Z\" fill=\"#000000\" fill-rule=\"evenodd\" fill-opacity=\"1\" /><path clip-path=\"url(#clip410)\" d=\"M 0 0 M35.1993 735.849 Q31.2526 733.652 29.3747 730.597 Q27.4968 727.541 27.4968 723.404 Q27.4968 717.834 31.4117 714.81 Q35.2948 711.786 42.4881 711.786 L64.0042 711.786 L64.0042 717.674 L42.679 717.674 Q37.5546 717.674 35.072 719.489 Q32.5894 721.303 32.5894 725.027 Q32.5894 729.578 35.6131 732.22 Q38.6368 734.862 43.8567 734.862 L64.0042 734.862 L64.0042 740.75 L42.679 740.75 Q37.5228 740.75 35.072 742.564 Q32.5894 744.379 32.5894 748.166 Q32.5894 752.654 35.6449 755.296 Q38.6686 757.938 43.8567 757.938 L64.0042 757.938 L64.0042 763.826 L28.3562 763.826 L28.3562 757.938 L33.8944 757.938 Q30.616 755.932 29.0564 753.131 Q27.4968 750.331 27.4968 746.479 Q27.4968 742.596 29.4702 739.891 Q31.4436 737.154 35.1993 735.849 Z\" fill=\"#000000\" fill-rule=\"evenodd\" fill-opacity=\"1\" /><path clip-path=\"url(#clip410)\" d=\"M 0 0 M45.7664 682.186 Q39.4007 682.186 35.8996 684.827 Q32.3984 687.437 32.3984 692.18 Q32.3984 696.89 35.8996 699.532 Q39.4007 702.142 45.7664 702.142 Q52.1003 702.142 55.6014 699.532 Q59.1026 696.89 59.1026 692.18 Q59.1026 687.437 55.6014 684.827 Q52.1003 682.186 45.7664 682.186 M59.58 676.329 Q68.683 676.329 73.1071 680.371 Q77.5631 684.414 77.5631 692.753 Q77.5631 695.84 77.0857 698.577 Q76.6401 701.315 75.6852 703.893 L69.9879 703.893 Q71.3884 701.315 72.0568 698.8 Q72.7252 696.286 72.7252 693.676 Q72.7252 687.915 69.7015 685.05 Q66.7096 682.186 60.6303 682.186 L57.7339 682.186 Q60.885 684 62.4446 686.833 Q64.0042 689.665 64.0042 693.612 Q64.0042 700.169 59.0071 704.179 Q54.01 708.19 45.7664 708.19 Q37.491 708.19 32.4939 704.179 Q27.4968 700.169 27.4968 693.612 Q27.4968 689.665 29.0564 686.833 Q30.616 684 33.7671 682.186 L28.3562 682.186 L28.3562 676.329 L59.58 676.329 Z\" fill=\"#000000\" fill-rule=\"evenodd\" fill-opacity=\"1\" /><path clip-path=\"url(#clip410)\" d=\"M 0 0 M16.4842 659.778 L16.4842 654.367 L70.0516 670.918 L70.0516 676.329 L16.4842 659.778 Z\" fill=\"#000000\" fill-rule=\"evenodd\" fill-opacity=\"1\" /><path clip-path=\"url(#clip410)\" d=\"M 0 0 M14.479 648.225 L14.479 642.368 L64.0042 642.368 L64.0042 648.225 L14.479 648.225 Z\" fill=\"#000000\" fill-rule=\"evenodd\" fill-opacity=\"1\" /><path clip-path=\"url(#clip410)\" d=\"M 0 0 M14.479 622.539 L72.5979 622.539 L72.5979 636.034 L68.0464 636.034 L68.0464 628.427 L19.0304 628.427 L19.0304 636.034 L14.479 636.034 L14.479 622.539 Z\" fill=\"#000000\" fill-rule=\"evenodd\" fill-opacity=\"1\" /><circle clip-path=\"url(#clip412)\" cx=\"286.417\" cy=\"86.1857\" r=\"14\" fill=\"#da70d6\" fill-rule=\"evenodd\" fill-opacity=\"1\" stroke=\"#000000\" stroke-opacity=\"1\" stroke-width=\"3.2\"/>\n",
       "<circle clip-path=\"url(#clip412)\" cx=\"397.424\" cy=\"212.486\" r=\"14\" fill=\"#da70d6\" fill-rule=\"evenodd\" fill-opacity=\"1\" stroke=\"#000000\" stroke-opacity=\"1\" stroke-width=\"3.2\"/>\n",
       "<circle clip-path=\"url(#clip412)\" cx=\"509.768\" cy=\"482.89\" r=\"14\" fill=\"#da70d6\" fill-rule=\"evenodd\" fill-opacity=\"1\" stroke=\"#000000\" stroke-opacity=\"1\" stroke-width=\"3.2\"/>\n",
       "<circle clip-path=\"url(#clip412)\" cx=\"620.776\" cy=\"763.31\" r=\"14\" fill=\"#da70d6\" fill-rule=\"evenodd\" fill-opacity=\"1\" stroke=\"#000000\" stroke-opacity=\"1\" stroke-width=\"3.2\"/>\n",
       "<circle clip-path=\"url(#clip412)\" cx=\"777.256\" cy=\"852.332\" r=\"14\" fill=\"#da70d6\" fill-rule=\"evenodd\" fill-opacity=\"1\" stroke=\"#000000\" stroke-opacity=\"1\" stroke-width=\"3.2\"/>\n",
       "<circle clip-path=\"url(#clip412)\" cx=\"999.27\" cy=\"1009.23\" r=\"14\" fill=\"#da70d6\" fill-rule=\"evenodd\" fill-opacity=\"1\" stroke=\"#000000\" stroke-opacity=\"1\" stroke-width=\"3.2\"/>\n",
       "<circle clip-path=\"url(#clip412)\" cx=\"1178.49\" cy=\"1118.28\" r=\"14\" fill=\"#da70d6\" fill-rule=\"evenodd\" fill-opacity=\"1\" stroke=\"#000000\" stroke-opacity=\"1\" stroke-width=\"3.2\"/>\n",
       "<circle clip-path=\"url(#clip412)\" cx=\"1400.5\" cy=\"1223.44\" r=\"14\" fill=\"#da70d6\" fill-rule=\"evenodd\" fill-opacity=\"1\" stroke=\"#000000\" stroke-opacity=\"1\" stroke-width=\"3.2\"/>\n",
       "<circle clip-path=\"url(#clip412)\" cx=\"1623.85\" cy=\"1298\" r=\"14\" fill=\"#da70d6\" fill-rule=\"evenodd\" fill-opacity=\"1\" stroke=\"#000000\" stroke-opacity=\"1\" stroke-width=\"3.2\"/>\n",
       "<circle clip-path=\"url(#clip412)\" cx=\"2065.21\" cy=\"1335.28\" r=\"14\" fill=\"#da70d6\" fill-rule=\"evenodd\" fill-opacity=\"1\" stroke=\"#000000\" stroke-opacity=\"1\" stroke-width=\"3.2\"/>\n",
       "<circle clip-path=\"url(#clip412)\" cx=\"2185.58\" cy=\"1374.22\" r=\"14\" fill=\"#da70d6\" fill-rule=\"evenodd\" fill-opacity=\"1\" stroke=\"#000000\" stroke-opacity=\"1\" stroke-width=\"3.2\"/>\n",
       "<circle clip-path=\"url(#clip412)\" cx=\"2292.57\" cy=\"1384.24\" r=\"14\" fill=\"#da70d6\" fill-rule=\"evenodd\" fill-opacity=\"1\" stroke=\"#000000\" stroke-opacity=\"1\" stroke-width=\"3.2\"/>\n",
       "<path clip-path=\"url(#clip410)\" d=\"\n",
       "M1654.46 214.069 L2281.87 214.069 L2281.87 93.1086 L1654.46 93.1086  Z\n",
       "  \" fill=\"#ffffff\" fill-rule=\"evenodd\" fill-opacity=\"1\"/>\n",
       "<polyline clip-path=\"url(#clip410)\" style=\"stroke:#000000; stroke-width:4; stroke-opacity:1; fill:none\" points=\"\n",
       "  1654.46,214.069 2281.87,214.069 2281.87,93.1086 1654.46,93.1086 1654.46,214.069 \n",
       "  \"/>\n",
       "<circle clip-path=\"url(#clip410)\" cx=\"1748.97\" cy=\"153.589\" r=\"23\" fill=\"#da70d6\" fill-rule=\"evenodd\" fill-opacity=\"1\" stroke=\"#000000\" stroke-opacity=\"1\" stroke-width=\"5.12\"/>\n",
       "<path clip-path=\"url(#clip410)\" d=\"M 0 0 M1843.48 144.943 L1847.74 144.943 L1853.07 165.174 L1858.37 144.943 L1863.39 144.943 L1868.71 165.174 L1874.02 144.943 L1878.28 144.943 L1871.49 170.869 L1866.47 170.869 L1860.89 149.619 L1855.29 170.869 L1850.27 170.869 L1843.48 144.943 Z\" fill=\"#000000\" fill-rule=\"evenodd\" fill-opacity=\"1\" /><path clip-path=\"url(#clip410)\" d=\"M 0 0 M1894.52 157.836 Q1889.36 157.836 1887.37 159.017 Q1885.38 160.197 1885.38 163.045 Q1885.38 165.313 1886.86 166.656 Q1888.37 167.975 1890.94 167.975 Q1894.48 167.975 1896.61 165.475 Q1898.76 162.952 1898.76 158.785 L1898.76 157.836 L1894.52 157.836 M1903.02 156.077 L1903.02 170.869 L1898.76 170.869 L1898.76 166.933 Q1897.3 169.295 1895.13 170.429 Q1892.95 171.54 1889.8 171.54 Q1885.82 171.54 1883.46 169.318 Q1881.12 167.072 1881.12 163.322 Q1881.12 158.947 1884.04 156.725 Q1886.98 154.503 1892.79 154.503 L1898.76 154.503 L1898.76 154.086 Q1898.76 151.147 1896.82 149.549 Q1894.9 147.929 1891.4 147.929 Q1889.18 147.929 1887.07 148.461 Q1884.96 148.994 1883.02 150.059 L1883.02 146.123 Q1885.36 145.221 1887.56 144.781 Q1889.76 144.318 1891.84 144.318 Q1897.46 144.318 1900.24 147.234 Q1903.02 150.151 1903.02 156.077 Z\" fill=\"#000000\" fill-rule=\"evenodd\" fill-opacity=\"1\" /><path clip-path=\"url(#clip410)\" d=\"M 0 0 M1922.51 148.924 Q1921.79 148.508 1920.94 148.322 Q1920.1 148.114 1919.08 148.114 Q1915.47 148.114 1913.53 150.475 Q1911.61 152.813 1911.61 157.211 L1911.61 170.869 L1907.33 170.869 L1907.33 144.943 L1911.61 144.943 L1911.61 148.971 Q1912.95 146.609 1915.1 145.475 Q1917.26 144.318 1920.33 144.318 Q1920.77 144.318 1921.31 144.387 Q1921.84 144.434 1922.49 144.549 L1922.51 148.924 Z\" fill=\"#000000\" fill-rule=\"evenodd\" fill-opacity=\"1\" /><path clip-path=\"url(#clip410)\" d=\"M 0 0 M1931.19 137.582 L1931.19 144.943 L1939.96 144.943 L1939.96 148.253 L1931.19 148.253 L1931.19 162.327 Q1931.19 165.498 1932.05 166.401 Q1932.93 167.304 1935.59 167.304 L1939.96 167.304 L1939.96 170.869 L1935.59 170.869 Q1930.66 170.869 1928.78 169.04 Q1926.91 167.188 1926.91 162.327 L1926.91 148.253 L1923.78 148.253 L1923.78 144.943 L1926.91 144.943 L1926.91 137.582 L1931.19 137.582 Z\" fill=\"#000000\" fill-rule=\"evenodd\" fill-opacity=\"1\" /><path clip-path=\"url(#clip410)\" d=\"M 0 0 M1954.48 147.929 Q1951.05 147.929 1949.06 150.614 Q1947.07 153.276 1947.07 157.929 Q1947.07 162.582 1949.04 165.267 Q1951.03 167.929 1954.48 167.929 Q1957.88 167.929 1959.87 165.244 Q1961.86 162.558 1961.86 157.929 Q1961.86 153.322 1959.87 150.637 Q1957.88 147.929 1954.48 147.929 M1954.48 144.318 Q1960.03 144.318 1963.21 147.929 Q1966.38 151.54 1966.38 157.929 Q1966.38 164.295 1963.21 167.929 Q1960.03 171.54 1954.48 171.54 Q1948.9 171.54 1945.73 167.929 Q1942.58 164.295 1942.58 157.929 Q1942.58 151.54 1945.73 147.929 Q1948.9 144.318 1954.48 144.318 Z\" fill=\"#000000\" fill-rule=\"evenodd\" fill-opacity=\"1\" /><path clip-path=\"url(#clip410)\" d=\"M 0 0 M1982.97 132.79 L1987.58 132.79 L1980.03 141.494 L1976.49 141.494 L1982.97 132.79 M1987.37 145.707 L1987.37 149.734 Q1985.57 148.809 1983.62 148.346 Q1981.68 147.883 1979.59 147.883 Q1976.42 147.883 1974.83 148.855 Q1973.25 149.827 1973.25 151.771 Q1973.25 153.253 1974.39 154.109 Q1975.52 154.943 1978.95 155.707 L1980.4 156.031 Q1984.94 157.003 1986.84 158.785 Q1988.76 160.545 1988.76 163.716 Q1988.76 167.327 1985.89 169.433 Q1983.04 171.54 1978.04 171.54 Q1975.96 171.54 1973.69 171.123 Q1971.45 170.73 1968.95 169.92 L1968.95 165.521 Q1971.31 166.748 1973.6 167.373 Q1975.89 167.975 1978.14 167.975 Q1981.14 167.975 1982.77 166.957 Q1984.39 165.915 1984.39 164.04 Q1984.39 162.304 1983.2 161.378 Q1982.05 160.452 1978.09 159.596 L1976.61 159.248 Q1972.65 158.415 1970.89 156.702 Q1969.13 154.966 1969.13 151.957 Q1969.13 148.299 1971.72 146.309 Q1974.32 144.318 1979.08 144.318 Q1981.45 144.318 1983.53 144.665 Q1985.61 145.012 1987.37 145.707 Z\" fill=\"#000000\" fill-rule=\"evenodd\" fill-opacity=\"1\" /><path clip-path=\"url(#clip410)\" d=\"M 0 0 M2011.89 145.938 L2011.89 149.92 Q2010.08 148.924 2008.25 148.438 Q2006.45 147.929 2004.59 147.929 Q2000.45 147.929 1998.16 150.568 Q1995.87 153.184 1995.87 157.929 Q1995.87 162.674 1998.16 165.313 Q2000.45 167.929 2004.59 167.929 Q2006.45 167.929 2008.25 167.443 Q2010.08 166.933 2011.89 165.938 L2011.89 169.873 Q2010.1 170.707 2008.18 171.123 Q2006.28 171.54 2004.13 171.54 Q1998.27 171.54 1994.83 167.859 Q1991.38 164.179 1991.38 157.929 Q1991.38 151.586 1994.85 147.952 Q1998.34 144.318 2004.41 144.318 Q2006.38 144.318 2008.25 144.735 Q2010.13 145.128 2011.89 145.938 Z\" fill=\"#000000\" fill-rule=\"evenodd\" fill-opacity=\"1\" /><path clip-path=\"url(#clip410)\" d=\"M 0 0 M2016.35 144.943 L2020.61 144.943 L2020.61 170.869 L2016.35 170.869 L2016.35 144.943 M2016.35 134.85 L2020.61 134.85 L2020.61 140.244 L2016.35 140.244 L2016.35 134.85 Z\" fill=\"#000000\" fill-rule=\"evenodd\" fill-opacity=\"1\" /><path clip-path=\"url(#clip410)\" d=\"M 0 0 M2060.33 149.92 Q2061.93 147.049 2064.15 145.684 Q2066.38 144.318 2069.39 144.318 Q2073.44 144.318 2075.64 147.165 Q2077.83 149.989 2077.83 155.221 L2077.83 170.869 L2073.55 170.869 L2073.55 155.359 Q2073.55 151.633 2072.23 149.827 Q2070.91 148.022 2068.2 148.022 Q2064.89 148.022 2062.97 150.221 Q2061.05 152.42 2061.05 156.216 L2061.05 170.869 L2056.77 170.869 L2056.77 155.359 Q2056.77 151.609 2055.45 149.827 Q2054.13 148.022 2051.38 148.022 Q2048.11 148.022 2046.19 150.244 Q2044.27 152.443 2044.27 156.216 L2044.27 170.869 L2039.99 170.869 L2039.99 144.943 L2044.27 144.943 L2044.27 148.971 Q2045.73 146.586 2047.76 145.452 Q2049.8 144.318 2052.6 144.318 Q2055.43 144.318 2057.39 145.753 Q2059.39 147.188 2060.33 149.92 Z\" fill=\"#000000\" fill-rule=\"evenodd\" fill-opacity=\"1\" /><path clip-path=\"url(#clip410)\" d=\"M 0 0 M2082.3 144.943 L2086.56 144.943 L2086.56 170.869 L2082.3 170.869 L2082.3 144.943 M2082.3 134.85 L2086.56 134.85 L2086.56 140.244 L2082.3 140.244 L2082.3 134.85 Z\" fill=\"#000000\" fill-rule=\"evenodd\" fill-opacity=\"1\" /><path clip-path=\"url(#clip410)\" d=\"M 0 0 M2113.2 156.841 L2113.2 158.924 L2093.62 158.924 Q2093.9 163.322 2096.26 165.637 Q2098.64 167.929 2102.88 167.929 Q2105.33 167.929 2107.63 167.327 Q2109.94 166.725 2112.21 165.521 L2112.21 169.549 Q2109.92 170.521 2107.51 171.031 Q2105.1 171.54 2102.63 171.54 Q2096.42 171.54 2092.79 167.929 Q2089.18 164.318 2089.18 158.16 Q2089.18 151.795 2092.6 148.068 Q2096.05 144.318 2101.88 144.318 Q2107.12 144.318 2110.15 147.697 Q2113.2 151.054 2113.2 156.841 M2108.95 155.591 Q2108.9 152.096 2106.98 150.012 Q2105.08 147.929 2101.93 147.929 Q2098.37 147.929 2096.21 149.943 Q2094.08 151.957 2093.76 155.614 L2108.95 155.591 Z\" fill=\"#000000\" fill-rule=\"evenodd\" fill-opacity=\"1\" /><path clip-path=\"url(#clip410)\" d=\"M 0 0 M2132.69 148.924 Q2131.98 148.508 2131.12 148.322 Q2130.29 148.114 2129.27 148.114 Q2125.66 148.114 2123.71 150.475 Q2121.79 152.813 2121.79 157.211 L2121.79 170.869 L2117.51 170.869 L2117.51 144.943 L2121.79 144.943 L2121.79 148.971 Q2123.13 146.609 2125.29 145.475 Q2127.44 144.318 2130.52 144.318 Q2130.96 144.318 2131.49 144.387 Q2132.02 144.434 2132.67 144.549 L2132.69 148.924 Z\" fill=\"#000000\" fill-rule=\"evenodd\" fill-opacity=\"1\" /><path clip-path=\"url(#clip410)\" d=\"M 0 0 M2135.31 144.943 L2155.54 144.943 L2155.54 148.832 L2139.52 167.466 L2155.54 167.466 L2155.54 170.869 L2134.73 170.869 L2134.73 166.98 L2150.75 148.346 L2135.31 148.346 L2135.31 144.943 Z\" fill=\"#000000\" fill-rule=\"evenodd\" fill-opacity=\"1\" /><path clip-path=\"url(#clip410)\" d=\"M 0 0 M2170.06 147.929 Q2166.63 147.929 2164.64 150.614 Q2162.65 153.276 2162.65 157.929 Q2162.65 162.582 2164.62 165.267 Q2166.61 167.929 2170.06 167.929 Q2173.46 167.929 2175.45 165.244 Q2177.44 162.558 2177.44 157.929 Q2177.44 153.322 2175.45 150.637 Q2173.46 147.929 2170.06 147.929 M2170.06 144.318 Q2175.61 144.318 2178.78 147.929 Q2181.95 151.54 2181.95 157.929 Q2181.95 164.295 2178.78 167.929 Q2175.61 171.54 2170.06 171.54 Q2164.48 171.54 2161.31 167.929 Q2158.16 164.295 2158.16 157.929 Q2158.16 151.54 2161.31 147.929 Q2164.48 144.318 2170.06 144.318 Z\" fill=\"#000000\" fill-rule=\"evenodd\" fill-opacity=\"1\" /><path clip-path=\"url(#clip410)\" d=\"M 0 0 M2207.97 155.221 L2207.97 170.869 L2203.71 170.869 L2203.71 155.359 Q2203.71 151.679 2202.28 149.85 Q2200.84 148.022 2197.97 148.022 Q2194.52 148.022 2192.53 150.221 Q2190.54 152.42 2190.54 156.216 L2190.54 170.869 L2186.26 170.869 L2186.26 144.943 L2190.54 144.943 L2190.54 148.971 Q2192.07 146.633 2194.13 145.475 Q2196.21 144.318 2198.92 144.318 Q2203.39 144.318 2205.68 147.096 Q2207.97 149.85 2207.97 155.221 Z\" fill=\"#000000\" fill-rule=\"evenodd\" fill-opacity=\"1\" /><path clip-path=\"url(#clip410)\" d=\"M 0 0 M2234.62 156.841 L2234.62 158.924 L2215.03 158.924 Q2215.31 163.322 2217.67 165.637 Q2220.06 167.929 2224.29 167.929 Q2226.75 167.929 2229.04 167.327 Q2231.35 166.725 2233.62 165.521 L2233.62 169.549 Q2231.33 170.521 2228.92 171.031 Q2226.51 171.54 2224.04 171.54 Q2217.83 171.54 2214.2 167.929 Q2210.59 164.318 2210.59 158.16 Q2210.59 151.795 2214.01 148.068 Q2217.46 144.318 2223.3 144.318 Q2228.53 144.318 2231.56 147.697 Q2234.62 151.054 2234.62 156.841 M2230.36 155.591 Q2230.31 152.096 2228.39 150.012 Q2226.49 147.929 2223.34 147.929 Q2219.78 147.929 2217.63 149.943 Q2215.5 151.957 2215.17 155.614 L2230.36 155.591 Z\" fill=\"#000000\" fill-rule=\"evenodd\" fill-opacity=\"1\" /></svg>\n"
      ]
     },
     "execution_count": 190,
     "metadata": {},
     "output_type": "execute_result"
    }
   ],
   "source": [
    "scatter(t, C, xlabel=\"t [h]\", ylabel=\"C [mg/l]\", label = \"wartości mierzone\", color=\"orchid\")"
   ]
  },
  {
   "cell_type": "markdown",
   "metadata": {},
   "source": [
    "Rozpatrzmy teraz model jednokompartmentowy rozważając równanie różniczkowe (4.2) w postaci \n",
    "$$ \\frac{dX}{dt} = -\\mathrm{K} \\cdot X $$"
   ]
  },
  {
   "cell_type": "markdown",
   "metadata": {},
   "source": [
    "Najpierw wykorzystajmy nasze rozwiązanie analityczne\n",
    "$$ C(t) = C_0 \\cdot \\mathrm{e}^{-\\mathrm{K} \\cdot t} $$"
   ]
  },
  {
   "cell_type": "code",
   "execution_count": 191,
   "metadata": {},
   "outputs": [
    {
     "data": {
      "text/plain": [
       "one_comp (generic function with 1 method)"
      ]
     },
     "execution_count": 191,
     "metadata": {},
     "output_type": "execute_result"
    }
   ],
   "source": [
    "function one_comp(t, C, K)\n",
    "    return C*ℯ^(-K*t)\n",
    "end"
   ]
  },
  {
   "cell_type": "code",
   "execution_count": 192,
   "metadata": {},
   "outputs": [
    {
     "data": {
      "text/plain": [
       "one_comp_array (generic function with 1 method)"
      ]
     },
     "execution_count": 192,
     "metadata": {},
     "output_type": "execute_result"
    }
   ],
   "source": [
    "function one_comp_array(t, C, K)\n",
    "    x = fill(NaN, length(t))\n",
    "    for i in 1:(length(t))\n",
    "        x[i] = C*ℯ^(-K*t[i])\n",
    "    end\n",
    "    return x\n",
    "end"
   ]
  },
  {
   "cell_type": "code",
   "execution_count": 193,
   "metadata": {},
   "outputs": [],
   "source": [
    "t_step = Array(0:0.1:1.5)\n",
    "analyt = one_comp_array(t_step, 240.6, 2.44);"
   ]
  },
  {
   "cell_type": "code",
   "execution_count": 194,
   "metadata": {},
   "outputs": [
    {
     "data": {
      "image/svg+xml": [
       "<?xml version=\"1.0\" encoding=\"utf-8\"?>\n",
       "<svg xmlns=\"http://www.w3.org/2000/svg\" xmlns:xlink=\"http://www.w3.org/1999/xlink\" width=\"600\" height=\"400\" viewBox=\"0 0 2400 1600\">\n",
       "<defs>\n",
       "  <clipPath id=\"clip450\">\n",
       "    <rect x=\"0\" y=\"0\" width=\"2400\" height=\"1600\"/>\n",
       "  </clipPath>\n",
       "</defs>\n",
       "<path clip-path=\"url(#clip450)\" d=\"\n",
       "M0 1600 L2400 1600 L2400 0 L0 0  Z\n",
       "  \" fill=\"#ffffff\" fill-rule=\"evenodd\" fill-opacity=\"1\"/>\n",
       "<defs>\n",
       "  <clipPath id=\"clip451\">\n",
       "    <rect x=\"480\" y=\"0\" width=\"1681\" height=\"1600\"/>\n",
       "  </clipPath>\n",
       "</defs>\n",
       "<path clip-path=\"url(#clip450)\" d=\"\n",
       "M226.232 1423.18 L2352.76 1423.18 L2352.76 47.2441 L226.232 47.2441  Z\n",
       "  \" fill=\"#ffffff\" fill-rule=\"evenodd\" fill-opacity=\"1\"/>\n",
       "<defs>\n",
       "  <clipPath id=\"clip452\">\n",
       "    <rect x=\"226\" y=\"47\" width=\"2128\" height=\"1377\"/>\n",
       "  </clipPath>\n",
       "</defs>\n",
       "<polyline clip-path=\"url(#clip452)\" style=\"stroke:#000000; stroke-width:2; stroke-opacity:0.1; fill:none\" points=\"\n",
       "  286.417,1423.18 286.417,47.2441 \n",
       "  \"/>\n",
       "<polyline clip-path=\"url(#clip452)\" style=\"stroke:#000000; stroke-width:2; stroke-opacity:0.1; fill:none\" points=\"\n",
       "  955.135,1423.18 955.135,47.2441 \n",
       "  \"/>\n",
       "<polyline clip-path=\"url(#clip452)\" style=\"stroke:#000000; stroke-width:2; stroke-opacity:0.1; fill:none\" points=\"\n",
       "  1623.85,1423.18 1623.85,47.2441 \n",
       "  \"/>\n",
       "<polyline clip-path=\"url(#clip452)\" style=\"stroke:#000000; stroke-width:2; stroke-opacity:0.1; fill:none\" points=\"\n",
       "  2292.57,1423.18 2292.57,47.2441 \n",
       "  \"/>\n",
       "<polyline clip-path=\"url(#clip450)\" style=\"stroke:#000000; stroke-width:4; stroke-opacity:1; fill:none\" points=\"\n",
       "  226.232,1423.18 2352.76,1423.18 \n",
       "  \"/>\n",
       "<polyline clip-path=\"url(#clip450)\" style=\"stroke:#000000; stroke-width:4; stroke-opacity:1; fill:none\" points=\"\n",
       "  286.417,1423.18 286.417,1406.67 \n",
       "  \"/>\n",
       "<polyline clip-path=\"url(#clip450)\" style=\"stroke:#000000; stroke-width:4; stroke-opacity:1; fill:none\" points=\"\n",
       "  955.135,1423.18 955.135,1406.67 \n",
       "  \"/>\n",
       "<polyline clip-path=\"url(#clip450)\" style=\"stroke:#000000; stroke-width:4; stroke-opacity:1; fill:none\" points=\"\n",
       "  1623.85,1423.18 1623.85,1406.67 \n",
       "  \"/>\n",
       "<polyline clip-path=\"url(#clip450)\" style=\"stroke:#000000; stroke-width:4; stroke-opacity:1; fill:none\" points=\"\n",
       "  2292.57,1423.18 2292.57,1406.67 \n",
       "  \"/>\n",
       "<path clip-path=\"url(#clip450)\" d=\"M 0 0 M267.933 1452.37 Q264.322 1452.37 262.493 1455.94 Q260.688 1459.48 260.688 1466.61 Q260.688 1473.71 262.493 1477.28 Q264.322 1480.82 267.933 1480.82 Q271.567 1480.82 273.373 1477.28 Q275.201 1473.71 275.201 1466.61 Q275.201 1459.48 273.373 1455.94 Q271.567 1452.37 267.933 1452.37 M267.933 1448.67 Q273.743 1448.67 276.799 1453.27 Q279.877 1457.86 279.877 1466.61 Q279.877 1475.33 276.799 1479.94 Q273.743 1484.52 267.933 1484.52 Q262.123 1484.52 259.044 1479.94 Q255.989 1475.33 255.989 1466.61 Q255.989 1457.86 259.044 1453.27 Q262.123 1448.67 267.933 1448.67 Z\" fill=\"#000000\" fill-rule=\"evenodd\" fill-opacity=\"1\" /><path clip-path=\"url(#clip450)\" d=\"M 0 0 M284.947 1477.97 L289.831 1477.97 L289.831 1483.85 L284.947 1483.85 L284.947 1477.97 Z\" fill=\"#000000\" fill-rule=\"evenodd\" fill-opacity=\"1\" /><path clip-path=\"url(#clip450)\" d=\"M 0 0 M304.9 1452.37 Q301.289 1452.37 299.461 1455.94 Q297.655 1459.48 297.655 1466.61 Q297.655 1473.71 299.461 1477.28 Q301.289 1480.82 304.9 1480.82 Q308.535 1480.82 310.34 1477.28 Q312.169 1473.71 312.169 1466.61 Q312.169 1459.48 310.34 1455.94 Q308.535 1452.37 304.9 1452.37 M304.9 1448.67 Q310.71 1448.67 313.766 1453.27 Q316.845 1457.86 316.845 1466.61 Q316.845 1475.33 313.766 1479.94 Q310.71 1484.52 304.9 1484.52 Q299.09 1484.52 296.011 1479.94 Q292.956 1475.33 292.956 1466.61 Q292.956 1457.86 296.011 1453.27 Q299.09 1448.67 304.9 1448.67 Z\" fill=\"#000000\" fill-rule=\"evenodd\" fill-opacity=\"1\" /><path clip-path=\"url(#clip450)\" d=\"M 0 0 M937.149 1452.37 Q933.538 1452.37 931.709 1455.94 Q929.903 1459.48 929.903 1466.61 Q929.903 1473.71 931.709 1477.28 Q933.538 1480.82 937.149 1480.82 Q940.783 1480.82 942.589 1477.28 Q944.417 1473.71 944.417 1466.61 Q944.417 1459.48 942.589 1455.94 Q940.783 1452.37 937.149 1452.37 M937.149 1448.67 Q942.959 1448.67 946.015 1453.27 Q949.093 1457.86 949.093 1466.61 Q949.093 1475.33 946.015 1479.94 Q942.959 1484.52 937.149 1484.52 Q931.339 1484.52 928.26 1479.94 Q925.204 1475.33 925.204 1466.61 Q925.204 1457.86 928.26 1453.27 Q931.339 1448.67 937.149 1448.67 Z\" fill=\"#000000\" fill-rule=\"evenodd\" fill-opacity=\"1\" /><path clip-path=\"url(#clip450)\" d=\"M 0 0 M954.163 1477.97 L959.047 1477.97 L959.047 1483.85 L954.163 1483.85 L954.163 1477.97 Z\" fill=\"#000000\" fill-rule=\"evenodd\" fill-opacity=\"1\" /><path clip-path=\"url(#clip450)\" d=\"M 0 0 M964.163 1449.29 L982.519 1449.29 L982.519 1453.23 L968.445 1453.23 L968.445 1461.7 Q969.463 1461.35 970.482 1461.19 Q971.5 1461 972.519 1461 Q978.306 1461 981.686 1464.18 Q985.065 1467.35 985.065 1472.76 Q985.065 1478.34 981.593 1481.44 Q978.121 1484.52 971.801 1484.52 Q969.625 1484.52 967.357 1484.15 Q965.112 1483.78 962.704 1483.04 L962.704 1478.34 Q964.788 1479.48 967.01 1480.03 Q969.232 1480.59 971.709 1480.59 Q975.713 1480.59 978.051 1478.48 Q980.389 1476.38 980.389 1472.76 Q980.389 1469.15 978.051 1467.05 Q975.713 1464.94 971.709 1464.94 Q969.834 1464.94 967.959 1465.36 Q966.107 1465.77 964.163 1466.65 L964.163 1449.29 Z\" fill=\"#000000\" fill-rule=\"evenodd\" fill-opacity=\"1\" /><path clip-path=\"url(#clip450)\" d=\"M 0 0 M1595.75 1479.92 L1603.39 1479.92 L1603.39 1453.55 L1595.08 1455.22 L1595.08 1450.96 L1603.34 1449.29 L1608.02 1449.29 L1608.02 1479.92 L1615.66 1479.92 L1615.66 1483.85 L1595.75 1483.85 L1595.75 1479.92 Z\" fill=\"#000000\" fill-rule=\"evenodd\" fill-opacity=\"1\" /><path clip-path=\"url(#clip450)\" d=\"M 0 0 M1620.73 1477.97 L1625.61 1477.97 L1625.61 1483.85 L1620.73 1483.85 L1620.73 1477.97 Z\" fill=\"#000000\" fill-rule=\"evenodd\" fill-opacity=\"1\" /><path clip-path=\"url(#clip450)\" d=\"M 0 0 M1640.68 1452.37 Q1637.07 1452.37 1635.24 1455.94 Q1633.44 1459.48 1633.44 1466.61 Q1633.44 1473.71 1635.24 1477.28 Q1637.07 1480.82 1640.68 1480.82 Q1644.32 1480.82 1646.12 1477.28 Q1647.95 1473.71 1647.95 1466.61 Q1647.95 1459.48 1646.12 1455.94 Q1644.32 1452.37 1640.68 1452.37 M1640.68 1448.67 Q1646.49 1448.67 1649.55 1453.27 Q1652.63 1457.86 1652.63 1466.61 Q1652.63 1475.33 1649.55 1479.94 Q1646.49 1484.52 1640.68 1484.52 Q1634.87 1484.52 1631.79 1479.94 Q1628.74 1475.33 1628.74 1466.61 Q1628.74 1457.86 1631.79 1453.27 Q1634.87 1448.67 1640.68 1448.67 Z\" fill=\"#000000\" fill-rule=\"evenodd\" fill-opacity=\"1\" /><path clip-path=\"url(#clip450)\" d=\"M 0 0 M2264.97 1479.92 L2272.61 1479.92 L2272.61 1453.55 L2264.3 1455.22 L2264.3 1450.96 L2272.56 1449.29 L2277.24 1449.29 L2277.24 1479.92 L2284.87 1479.92 L2284.87 1483.85 L2264.97 1483.85 L2264.97 1479.92 Z\" fill=\"#000000\" fill-rule=\"evenodd\" fill-opacity=\"1\" /><path clip-path=\"url(#clip450)\" d=\"M 0 0 M2289.94 1477.97 L2294.83 1477.97 L2294.83 1483.85 L2289.94 1483.85 L2289.94 1477.97 Z\" fill=\"#000000\" fill-rule=\"evenodd\" fill-opacity=\"1\" /><path clip-path=\"url(#clip450)\" d=\"M 0 0 M2299.94 1449.29 L2318.3 1449.29 L2318.3 1453.23 L2304.23 1453.23 L2304.23 1461.7 Q2305.24 1461.35 2306.26 1461.19 Q2307.28 1461 2308.3 1461 Q2314.09 1461 2317.47 1464.18 Q2320.85 1467.35 2320.85 1472.76 Q2320.85 1478.34 2317.37 1481.44 Q2313.9 1484.52 2307.58 1484.52 Q2305.41 1484.52 2303.14 1484.15 Q2300.89 1483.78 2298.49 1483.04 L2298.49 1478.34 Q2300.57 1479.48 2302.79 1480.03 Q2305.01 1480.59 2307.49 1480.59 Q2311.49 1480.59 2313.83 1478.48 Q2316.17 1476.38 2316.17 1472.76 Q2316.17 1469.15 2313.83 1467.05 Q2311.49 1464.94 2307.49 1464.94 Q2305.62 1464.94 2303.74 1465.36 Q2301.89 1465.77 2299.94 1466.65 L2299.94 1449.29 Z\" fill=\"#000000\" fill-rule=\"evenodd\" fill-opacity=\"1\" /><path clip-path=\"url(#clip450)\" d=\"M 0 0 M1240.84 1522.27 L1240.84 1532.4 L1252.91 1532.4 L1252.91 1536.95 L1240.84 1536.95 L1240.84 1556.3 Q1240.84 1560.66 1242.02 1561.9 Q1243.23 1563.14 1246.89 1563.14 L1252.91 1563.14 L1252.91 1568.04 L1246.89 1568.04 Q1240.11 1568.04 1237.53 1565.53 Q1234.96 1562.98 1234.96 1556.3 L1234.96 1536.95 L1230.66 1536.95 L1230.66 1532.4 L1234.96 1532.4 L1234.96 1522.27 L1240.84 1522.27 Z\" fill=\"#000000\" fill-rule=\"evenodd\" fill-opacity=\"1\" /><path clip-path=\"url(#clip450)\" d=\"M 0 0 M1279.23 1518.52 L1292.72 1518.52 L1292.72 1523.07 L1285.09 1523.07 L1285.09 1572.09 L1292.72 1572.09 L1292.72 1576.64 L1279.23 1576.64 L1279.23 1518.52 Z\" fill=\"#000000\" fill-rule=\"evenodd\" fill-opacity=\"1\" /><path clip-path=\"url(#clip450)\" d=\"M 0 0 M1328.5 1546.53 L1328.5 1568.04 L1322.64 1568.04 L1322.64 1546.72 Q1322.64 1541.66 1320.67 1539.14 Q1318.7 1536.63 1314.75 1536.63 Q1310.01 1536.63 1307.27 1539.65 Q1304.53 1542.68 1304.53 1547.9 L1304.53 1568.04 L1298.64 1568.04 L1298.64 1518.52 L1304.53 1518.52 L1304.53 1537.93 Q1306.63 1534.72 1309.47 1533.13 Q1312.33 1531.54 1316.05 1531.54 Q1322.2 1531.54 1325.35 1535.36 Q1328.5 1539.14 1328.5 1546.53 Z\" fill=\"#000000\" fill-rule=\"evenodd\" fill-opacity=\"1\" /><path clip-path=\"url(#clip450)\" d=\"M 0 0 M1348.33 1518.52 L1348.33 1576.64 L1334.83 1576.64 L1334.83 1572.09 L1342.44 1572.09 L1342.44 1523.07 L1334.83 1523.07 L1334.83 1518.52 L1348.33 1518.52 Z\" fill=\"#000000\" fill-rule=\"evenodd\" fill-opacity=\"1\" /><polyline clip-path=\"url(#clip452)\" style=\"stroke:#000000; stroke-width:2; stroke-opacity:0.1; fill:none\" points=\"\n",
       "  226.232,1418.52 2352.76,1418.52 \n",
       "  \"/>\n",
       "<polyline clip-path=\"url(#clip452)\" style=\"stroke:#000000; stroke-width:2; stroke-opacity:0.1; fill:none\" points=\"\n",
       "  226.232,1141.64 2352.76,1141.64 \n",
       "  \"/>\n",
       "<polyline clip-path=\"url(#clip452)\" style=\"stroke:#000000; stroke-width:2; stroke-opacity:0.1; fill:none\" points=\"\n",
       "  226.232,864.767 2352.76,864.767 \n",
       "  \"/>\n",
       "<polyline clip-path=\"url(#clip452)\" style=\"stroke:#000000; stroke-width:2; stroke-opacity:0.1; fill:none\" points=\"\n",
       "  226.232,587.889 2352.76,587.889 \n",
       "  \"/>\n",
       "<polyline clip-path=\"url(#clip452)\" style=\"stroke:#000000; stroke-width:2; stroke-opacity:0.1; fill:none\" points=\"\n",
       "  226.232,311.011 2352.76,311.011 \n",
       "  \"/>\n",
       "<polyline clip-path=\"url(#clip450)\" style=\"stroke:#000000; stroke-width:4; stroke-opacity:1; fill:none\" points=\"\n",
       "  226.232,1423.18 226.232,47.2441 \n",
       "  \"/>\n",
       "<polyline clip-path=\"url(#clip450)\" style=\"stroke:#000000; stroke-width:4; stroke-opacity:1; fill:none\" points=\"\n",
       "  226.232,1418.52 251.75,1418.52 \n",
       "  \"/>\n",
       "<polyline clip-path=\"url(#clip450)\" style=\"stroke:#000000; stroke-width:4; stroke-opacity:1; fill:none\" points=\"\n",
       "  226.232,1141.64 251.75,1141.64 \n",
       "  \"/>\n",
       "<polyline clip-path=\"url(#clip450)\" style=\"stroke:#000000; stroke-width:4; stroke-opacity:1; fill:none\" points=\"\n",
       "  226.232,864.767 251.75,864.767 \n",
       "  \"/>\n",
       "<polyline clip-path=\"url(#clip450)\" style=\"stroke:#000000; stroke-width:4; stroke-opacity:1; fill:none\" points=\"\n",
       "  226.232,587.889 251.75,587.889 \n",
       "  \"/>\n",
       "<polyline clip-path=\"url(#clip450)\" style=\"stroke:#000000; stroke-width:4; stroke-opacity:1; fill:none\" points=\"\n",
       "  226.232,311.011 251.75,311.011 \n",
       "  \"/>\n",
       "<path clip-path=\"url(#clip450)\" d=\"M 0 0 M178.288 1404.32 Q174.677 1404.32 172.848 1407.89 Q171.042 1411.43 171.042 1418.56 Q171.042 1425.66 172.848 1429.23 Q174.677 1432.77 178.288 1432.77 Q181.922 1432.77 183.727 1429.23 Q185.556 1425.66 185.556 1418.56 Q185.556 1411.43 183.727 1407.89 Q181.922 1404.32 178.288 1404.32 M178.288 1400.62 Q184.098 1400.62 187.153 1405.22 Q190.232 1409.81 190.232 1418.56 Q190.232 1427.28 187.153 1431.89 Q184.098 1436.47 178.288 1436.47 Q172.477 1436.47 169.399 1431.89 Q166.343 1427.28 166.343 1418.56 Q166.343 1409.81 169.399 1405.22 Q172.477 1400.62 178.288 1400.62 Z\" fill=\"#000000\" fill-rule=\"evenodd\" fill-opacity=\"1\" /><path clip-path=\"url(#clip450)\" d=\"M 0 0 M142.316 1124.36 L160.672 1124.36 L160.672 1128.3 L146.598 1128.3 L146.598 1136.77 Q147.616 1136.42 148.635 1136.26 Q149.653 1136.08 150.672 1136.08 Q156.459 1136.08 159.839 1139.25 Q163.218 1142.42 163.218 1147.84 Q163.218 1153.42 159.746 1156.52 Q156.274 1159.6 149.954 1159.6 Q147.778 1159.6 145.51 1159.23 Q143.265 1158.86 140.857 1158.11 L140.857 1153.42 Q142.941 1154.55 145.163 1155.11 Q147.385 1155.66 149.862 1155.66 Q153.866 1155.66 156.204 1153.55 Q158.542 1151.45 158.542 1147.84 Q158.542 1144.23 156.204 1142.12 Q153.866 1140.01 149.862 1140.01 Q147.987 1140.01 146.112 1140.43 Q144.26 1140.85 142.316 1141.73 L142.316 1124.36 Z\" fill=\"#000000\" fill-rule=\"evenodd\" fill-opacity=\"1\" /><path clip-path=\"url(#clip450)\" d=\"M 0 0 M178.288 1127.44 Q174.677 1127.44 172.848 1131.01 Q171.042 1134.55 171.042 1141.68 Q171.042 1148.79 172.848 1152.35 Q174.677 1155.89 178.288 1155.89 Q181.922 1155.89 183.727 1152.35 Q185.556 1148.79 185.556 1141.68 Q185.556 1134.55 183.727 1131.01 Q181.922 1127.44 178.288 1127.44 M178.288 1123.74 Q184.098 1123.74 187.153 1128.35 Q190.232 1132.93 190.232 1141.68 Q190.232 1150.41 187.153 1155.01 Q184.098 1159.6 178.288 1159.6 Q172.477 1159.6 169.399 1155.01 Q166.343 1150.41 166.343 1141.68 Q166.343 1132.93 169.399 1128.35 Q172.477 1123.74 178.288 1123.74 Z\" fill=\"#000000\" fill-rule=\"evenodd\" fill-opacity=\"1\" /><path clip-path=\"url(#clip450)\" d=\"M 0 0 M116.297 878.111 L123.936 878.111 L123.936 851.746 L115.626 853.413 L115.626 849.153 L123.89 847.487 L128.566 847.487 L128.566 878.111 L136.204 878.111 L136.204 882.047 L116.297 882.047 L116.297 878.111 Z\" fill=\"#000000\" fill-rule=\"evenodd\" fill-opacity=\"1\" /><path clip-path=\"url(#clip450)\" d=\"M 0 0 M151.274 850.565 Q147.663 850.565 145.834 854.13 Q144.029 857.672 144.029 864.801 Q144.029 871.908 145.834 875.473 Q147.663 879.014 151.274 879.014 Q154.908 879.014 156.714 875.473 Q158.542 871.908 158.542 864.801 Q158.542 857.672 156.714 854.13 Q154.908 850.565 151.274 850.565 M151.274 846.862 Q157.084 846.862 160.14 851.468 Q163.218 856.051 163.218 864.801 Q163.218 873.528 160.14 878.135 Q157.084 882.718 151.274 882.718 Q145.464 882.718 142.385 878.135 Q139.329 873.528 139.329 864.801 Q139.329 856.051 142.385 851.468 Q145.464 846.862 151.274 846.862 Z\" fill=\"#000000\" fill-rule=\"evenodd\" fill-opacity=\"1\" /><path clip-path=\"url(#clip450)\" d=\"M 0 0 M178.288 850.565 Q174.677 850.565 172.848 854.13 Q171.042 857.672 171.042 864.801 Q171.042 871.908 172.848 875.473 Q174.677 879.014 178.288 879.014 Q181.922 879.014 183.727 875.473 Q185.556 871.908 185.556 864.801 Q185.556 857.672 183.727 854.13 Q181.922 850.565 178.288 850.565 M178.288 846.862 Q184.098 846.862 187.153 851.468 Q190.232 856.051 190.232 864.801 Q190.232 873.528 187.153 878.135 Q184.098 882.718 178.288 882.718 Q172.477 882.718 169.399 878.135 Q166.343 873.528 166.343 864.801 Q166.343 856.051 169.399 851.468 Q172.477 846.862 178.288 846.862 Z\" fill=\"#000000\" fill-rule=\"evenodd\" fill-opacity=\"1\" /><path clip-path=\"url(#clip450)\" d=\"M 0 0 M117.293 601.233 L124.931 601.233 L124.931 574.868 L116.621 576.535 L116.621 572.275 L124.885 570.609 L129.561 570.609 L129.561 601.233 L137.2 601.233 L137.2 605.169 L117.293 605.169 L117.293 601.233 Z\" fill=\"#000000\" fill-rule=\"evenodd\" fill-opacity=\"1\" /><path clip-path=\"url(#clip450)\" d=\"M 0 0 M142.316 570.609 L160.672 570.609 L160.672 574.544 L146.598 574.544 L146.598 583.016 Q147.616 582.669 148.635 582.507 Q149.653 582.322 150.672 582.322 Q156.459 582.322 159.839 585.493 Q163.218 588.664 163.218 594.081 Q163.218 599.659 159.746 602.761 Q156.274 605.84 149.954 605.84 Q147.778 605.84 145.51 605.47 Q143.265 605.099 140.857 604.358 L140.857 599.659 Q142.941 600.794 145.163 601.349 Q147.385 601.905 149.862 601.905 Q153.866 601.905 156.204 599.798 Q158.542 597.692 158.542 594.081 Q158.542 590.47 156.204 588.363 Q153.866 586.257 149.862 586.257 Q147.987 586.257 146.112 586.673 Q144.26 587.09 142.316 587.97 L142.316 570.609 Z\" fill=\"#000000\" fill-rule=\"evenodd\" fill-opacity=\"1\" /><path clip-path=\"url(#clip450)\" d=\"M 0 0 M178.288 573.687 Q174.677 573.687 172.848 577.252 Q171.042 580.794 171.042 587.923 Q171.042 595.03 172.848 598.595 Q174.677 602.136 178.288 602.136 Q181.922 602.136 183.727 598.595 Q185.556 595.03 185.556 587.923 Q185.556 580.794 183.727 577.252 Q181.922 573.687 178.288 573.687 M178.288 569.984 Q184.098 569.984 187.153 574.59 Q190.232 579.173 190.232 587.923 Q190.232 596.65 187.153 601.257 Q184.098 605.84 178.288 605.84 Q172.477 605.84 169.399 601.257 Q166.343 596.65 166.343 587.923 Q166.343 579.173 169.399 574.59 Q172.477 569.984 178.288 569.984 Z\" fill=\"#000000\" fill-rule=\"evenodd\" fill-opacity=\"1\" /><path clip-path=\"url(#clip450)\" d=\"M 0 0 M119.885 324.355 L136.204 324.355 L136.204 328.291 L114.26 328.291 L114.26 324.355 Q116.922 321.601 121.505 316.971 Q126.112 312.318 127.292 310.976 Q129.538 308.453 130.417 306.717 Q131.32 304.957 131.32 303.268 Q131.32 300.513 129.376 298.777 Q127.455 297.041 124.353 297.041 Q122.154 297.041 119.7 297.805 Q117.269 298.569 114.492 300.119 L114.492 295.397 Q117.316 294.263 119.769 293.684 Q122.223 293.106 124.26 293.106 Q129.63 293.106 132.825 295.791 Q136.019 298.476 136.019 302.967 Q136.019 305.096 135.209 307.018 Q134.422 308.916 132.316 311.508 Q131.737 312.18 128.635 315.397 Q125.533 318.592 119.885 324.355 Z\" fill=\"#000000\" fill-rule=\"evenodd\" fill-opacity=\"1\" /><path clip-path=\"url(#clip450)\" d=\"M 0 0 M151.274 296.809 Q147.663 296.809 145.834 300.374 Q144.029 303.916 144.029 311.045 Q144.029 318.152 145.834 321.717 Q147.663 325.258 151.274 325.258 Q154.908 325.258 156.714 321.717 Q158.542 318.152 158.542 311.045 Q158.542 303.916 156.714 300.374 Q154.908 296.809 151.274 296.809 M151.274 293.106 Q157.084 293.106 160.14 297.712 Q163.218 302.295 163.218 311.045 Q163.218 319.772 160.14 324.379 Q157.084 328.962 151.274 328.962 Q145.464 328.962 142.385 324.379 Q139.329 319.772 139.329 311.045 Q139.329 302.295 142.385 297.712 Q145.464 293.106 151.274 293.106 Z\" fill=\"#000000\" fill-rule=\"evenodd\" fill-opacity=\"1\" /><path clip-path=\"url(#clip450)\" d=\"M 0 0 M178.288 296.809 Q174.677 296.809 172.848 300.374 Q171.042 303.916 171.042 311.045 Q171.042 318.152 172.848 321.717 Q174.677 325.258 178.288 325.258 Q181.922 325.258 183.727 321.717 Q185.556 318.152 185.556 311.045 Q185.556 303.916 183.727 300.374 Q181.922 296.809 178.288 296.809 M178.288 293.106 Q184.098 293.106 187.153 297.712 Q190.232 302.295 190.232 311.045 Q190.232 319.772 187.153 324.379 Q184.098 328.962 178.288 328.962 Q172.477 328.962 169.399 324.379 Q166.343 319.772 166.343 311.045 Q166.343 302.295 169.399 297.712 Q172.477 293.106 178.288 293.106 Z\" fill=\"#000000\" fill-rule=\"evenodd\" fill-opacity=\"1\" /><path clip-path=\"url(#clip450)\" d=\"M 0 0 M20.1444 809.563 L26.9239 809.563 Q23.9002 812.81 22.4043 816.502 Q20.9083 820.162 20.9083 824.3 Q20.9083 832.448 25.9054 836.777 Q30.8707 841.105 40.2919 841.105 Q49.6813 841.105 54.6784 836.777 Q59.6436 832.448 59.6436 824.3 Q59.6436 820.162 58.1477 816.502 Q56.6518 812.81 53.6281 809.563 L60.3439 809.563 Q62.6355 812.937 63.7814 816.725 Q64.9272 820.481 64.9272 824.682 Q64.9272 835.472 58.3387 841.678 Q51.7183 847.885 40.2919 847.885 Q28.8336 847.885 22.2451 841.678 Q15.6248 835.472 15.6248 824.682 Q15.6248 820.417 16.7706 816.661 Q17.8846 812.874 20.1444 809.563 Z\" fill=\"#000000\" fill-rule=\"evenodd\" fill-opacity=\"1\" /><path clip-path=\"url(#clip450)\" d=\"M 0 0 M14.479 783.241 L14.479 769.746 L19.0304 769.746 L19.0304 777.385 L68.0464 777.385 L68.0464 769.746 L72.5979 769.746 L72.5979 783.241 L14.479 783.241 Z\" fill=\"#000000\" fill-rule=\"evenodd\" fill-opacity=\"1\" /><path clip-path=\"url(#clip450)\" d=\"M 0 0 M35.1993 735.849 Q31.2526 733.652 29.3747 730.597 Q27.4968 727.541 27.4968 723.404 Q27.4968 717.834 31.4117 714.81 Q35.2948 711.786 42.4881 711.786 L64.0042 711.786 L64.0042 717.674 L42.679 717.674 Q37.5546 717.674 35.072 719.489 Q32.5894 721.303 32.5894 725.027 Q32.5894 729.578 35.6131 732.22 Q38.6368 734.862 43.8567 734.862 L64.0042 734.862 L64.0042 740.75 L42.679 740.75 Q37.5228 740.75 35.072 742.564 Q32.5894 744.379 32.5894 748.166 Q32.5894 752.654 35.6449 755.296 Q38.6686 757.938 43.8567 757.938 L64.0042 757.938 L64.0042 763.826 L28.3562 763.826 L28.3562 757.938 L33.8944 757.938 Q30.616 755.932 29.0564 753.131 Q27.4968 750.331 27.4968 746.479 Q27.4968 742.596 29.4702 739.891 Q31.4436 737.154 35.1993 735.849 Z\" fill=\"#000000\" fill-rule=\"evenodd\" fill-opacity=\"1\" /><path clip-path=\"url(#clip450)\" d=\"M 0 0 M45.7664 682.186 Q39.4007 682.186 35.8996 684.827 Q32.3984 687.437 32.3984 692.18 Q32.3984 696.89 35.8996 699.532 Q39.4007 702.142 45.7664 702.142 Q52.1003 702.142 55.6014 699.532 Q59.1026 696.89 59.1026 692.18 Q59.1026 687.437 55.6014 684.827 Q52.1003 682.186 45.7664 682.186 M59.58 676.329 Q68.683 676.329 73.1071 680.371 Q77.5631 684.414 77.5631 692.753 Q77.5631 695.84 77.0857 698.577 Q76.6401 701.315 75.6852 703.893 L69.9879 703.893 Q71.3884 701.315 72.0568 698.8 Q72.7252 696.286 72.7252 693.676 Q72.7252 687.915 69.7015 685.05 Q66.7096 682.186 60.6303 682.186 L57.7339 682.186 Q60.885 684 62.4446 686.833 Q64.0042 689.665 64.0042 693.612 Q64.0042 700.169 59.0071 704.179 Q54.01 708.19 45.7664 708.19 Q37.491 708.19 32.4939 704.179 Q27.4968 700.169 27.4968 693.612 Q27.4968 689.665 29.0564 686.833 Q30.616 684 33.7671 682.186 L28.3562 682.186 L28.3562 676.329 L59.58 676.329 Z\" fill=\"#000000\" fill-rule=\"evenodd\" fill-opacity=\"1\" /><path clip-path=\"url(#clip450)\" d=\"M 0 0 M16.4842 659.778 L16.4842 654.367 L70.0516 670.918 L70.0516 676.329 L16.4842 659.778 Z\" fill=\"#000000\" fill-rule=\"evenodd\" fill-opacity=\"1\" /><path clip-path=\"url(#clip450)\" d=\"M 0 0 M14.479 648.225 L14.479 642.368 L64.0042 642.368 L64.0042 648.225 L14.479 648.225 Z\" fill=\"#000000\" fill-rule=\"evenodd\" fill-opacity=\"1\" /><path clip-path=\"url(#clip450)\" d=\"M 0 0 M14.479 622.539 L72.5979 622.539 L72.5979 636.034 L68.0464 636.034 L68.0464 628.427 L19.0304 628.427 L19.0304 636.034 L14.479 636.034 L14.479 622.539 Z\" fill=\"#000000\" fill-rule=\"evenodd\" fill-opacity=\"1\" /><circle clip-path=\"url(#clip452)\" cx=\"286.417\" cy=\"86.1857\" r=\"14\" fill=\"#da70d6\" fill-rule=\"evenodd\" fill-opacity=\"1\" stroke=\"#000000\" stroke-opacity=\"1\" stroke-width=\"3.2\"/>\n",
       "<circle clip-path=\"url(#clip452)\" cx=\"397.424\" cy=\"211.888\" r=\"14\" fill=\"#da70d6\" fill-rule=\"evenodd\" fill-opacity=\"1\" stroke=\"#000000\" stroke-opacity=\"1\" stroke-width=\"3.2\"/>\n",
       "<circle clip-path=\"url(#clip452)\" cx=\"509.768\" cy=\"481.014\" r=\"14\" fill=\"#da70d6\" fill-rule=\"evenodd\" fill-opacity=\"1\" stroke=\"#000000\" stroke-opacity=\"1\" stroke-width=\"3.2\"/>\n",
       "<circle clip-path=\"url(#clip452)\" cx=\"620.776\" cy=\"760.107\" r=\"14\" fill=\"#da70d6\" fill-rule=\"evenodd\" fill-opacity=\"1\" stroke=\"#000000\" stroke-opacity=\"1\" stroke-width=\"3.2\"/>\n",
       "<circle clip-path=\"url(#clip452)\" cx=\"777.256\" cy=\"848.708\" r=\"14\" fill=\"#da70d6\" fill-rule=\"evenodd\" fill-opacity=\"1\" stroke=\"#000000\" stroke-opacity=\"1\" stroke-width=\"3.2\"/>\n",
       "<circle clip-path=\"url(#clip452)\" cx=\"999.27\" cy=\"1004.87\" r=\"14\" fill=\"#da70d6\" fill-rule=\"evenodd\" fill-opacity=\"1\" stroke=\"#000000\" stroke-opacity=\"1\" stroke-width=\"3.2\"/>\n",
       "<circle clip-path=\"url(#clip452)\" cx=\"1178.49\" cy=\"1113.4\" r=\"14\" fill=\"#da70d6\" fill-rule=\"evenodd\" fill-opacity=\"1\" stroke=\"#000000\" stroke-opacity=\"1\" stroke-width=\"3.2\"/>\n",
       "<circle clip-path=\"url(#clip452)\" cx=\"1400.5\" cy=\"1218.06\" r=\"14\" fill=\"#da70d6\" fill-rule=\"evenodd\" fill-opacity=\"1\" stroke=\"#000000\" stroke-opacity=\"1\" stroke-width=\"3.2\"/>\n",
       "<circle clip-path=\"url(#clip452)\" cx=\"1623.85\" cy=\"1292.27\" r=\"14\" fill=\"#da70d6\" fill-rule=\"evenodd\" fill-opacity=\"1\" stroke=\"#000000\" stroke-opacity=\"1\" stroke-width=\"3.2\"/>\n",
       "<circle clip-path=\"url(#clip452)\" cx=\"2065.21\" cy=\"1329.37\" r=\"14\" fill=\"#da70d6\" fill-rule=\"evenodd\" fill-opacity=\"1\" stroke=\"#000000\" stroke-opacity=\"1\" stroke-width=\"3.2\"/>\n",
       "<circle clip-path=\"url(#clip452)\" cx=\"2185.58\" cy=\"1368.13\" r=\"14\" fill=\"#da70d6\" fill-rule=\"evenodd\" fill-opacity=\"1\" stroke=\"#000000\" stroke-opacity=\"1\" stroke-width=\"3.2\"/>\n",
       "<circle clip-path=\"url(#clip452)\" cx=\"2292.57\" cy=\"1378.1\" r=\"14\" fill=\"#da70d6\" fill-rule=\"evenodd\" fill-opacity=\"1\" stroke=\"#000000\" stroke-opacity=\"1\" stroke-width=\"3.2\"/>\n",
       "<polyline clip-path=\"url(#clip452)\" style=\"stroke:#e26f46; stroke-width:4; stroke-opacity:1; fill:none\" points=\"\n",
       "  286.417,86.1857 420.16,374.653 553.904,600.664 687.648,777.74 821.391,916.478 955.135,1025.18 1088.88,1110.34 1222.62,1177.07 1356.37,1229.34 1490.11,1270.3 \n",
       "  1623.85,1302.4 1757.6,1327.54 1891.34,1347.24 2025.08,1362.67 2158.83,1374.76 2292.57,1384.24 \n",
       "  \"/>\n",
       "<path clip-path=\"url(#clip450)\" d=\"\n",
       "M1617.7 274.549 L2281.87 274.549 L2281.87 93.1086 L1617.7 93.1086  Z\n",
       "  \" fill=\"#ffffff\" fill-rule=\"evenodd\" fill-opacity=\"1\"/>\n",
       "<polyline clip-path=\"url(#clip450)\" style=\"stroke:#000000; stroke-width:4; stroke-opacity:1; fill:none\" points=\"\n",
       "  1617.7,274.549 2281.87,274.549 2281.87,93.1086 1617.7,93.1086 1617.7,274.549 \n",
       "  \"/>\n",
       "<circle clip-path=\"url(#clip450)\" cx=\"1712.21\" cy=\"153.589\" r=\"23\" fill=\"#da70d6\" fill-rule=\"evenodd\" fill-opacity=\"1\" stroke=\"#000000\" stroke-opacity=\"1\" stroke-width=\"5.12\"/>\n",
       "<path clip-path=\"url(#clip450)\" d=\"M 0 0 M1806.72 144.943 L1810.98 144.943 L1816.31 165.174 L1821.61 144.943 L1826.63 144.943 L1831.96 165.174 L1837.26 144.943 L1841.52 144.943 L1834.73 170.869 L1829.71 170.869 L1824.13 149.619 L1818.53 170.869 L1813.51 170.869 L1806.72 144.943 Z\" fill=\"#000000\" fill-rule=\"evenodd\" fill-opacity=\"1\" /><path clip-path=\"url(#clip450)\" d=\"M 0 0 M1857.77 157.836 Q1852.6 157.836 1850.61 159.017 Q1848.62 160.197 1848.62 163.045 Q1848.62 165.313 1850.1 166.656 Q1851.61 167.975 1854.18 167.975 Q1857.72 167.975 1859.85 165.475 Q1862 162.952 1862 158.785 L1862 157.836 L1857.77 157.836 M1866.26 156.077 L1866.26 170.869 L1862 170.869 L1862 166.933 Q1860.54 169.295 1858.37 170.429 Q1856.19 171.54 1853.04 171.54 Q1849.06 171.54 1846.7 169.318 Q1844.36 167.072 1844.36 163.322 Q1844.36 158.947 1847.28 156.725 Q1850.22 154.503 1856.03 154.503 L1862 154.503 L1862 154.086 Q1862 151.147 1860.06 149.549 Q1858.14 147.929 1854.64 147.929 Q1852.42 147.929 1850.31 148.461 Q1848.21 148.994 1846.26 150.059 L1846.26 146.123 Q1848.6 145.221 1850.8 144.781 Q1853 144.318 1855.08 144.318 Q1860.71 144.318 1863.48 147.234 Q1866.26 150.151 1866.26 156.077 Z\" fill=\"#000000\" fill-rule=\"evenodd\" fill-opacity=\"1\" /><path clip-path=\"url(#clip450)\" d=\"M 0 0 M1885.75 148.924 Q1885.03 148.508 1884.18 148.322 Q1883.34 148.114 1882.33 148.114 Q1878.71 148.114 1876.77 150.475 Q1874.85 152.813 1874.85 157.211 L1874.85 170.869 L1870.57 170.869 L1870.57 144.943 L1874.85 144.943 L1874.85 148.971 Q1876.19 146.609 1878.34 145.475 Q1880.5 144.318 1883.58 144.318 Q1884.02 144.318 1884.55 144.387 Q1885.08 144.434 1885.73 144.549 L1885.75 148.924 Z\" fill=\"#000000\" fill-rule=\"evenodd\" fill-opacity=\"1\" /><path clip-path=\"url(#clip450)\" d=\"M 0 0 M1894.43 137.582 L1894.43 144.943 L1903.21 144.943 L1903.21 148.253 L1894.43 148.253 L1894.43 162.327 Q1894.43 165.498 1895.29 166.401 Q1896.17 167.304 1898.83 167.304 L1903.21 167.304 L1903.21 170.869 L1898.83 170.869 Q1893.9 170.869 1892.02 169.04 Q1890.15 167.188 1890.15 162.327 L1890.15 148.253 L1887.02 148.253 L1887.02 144.943 L1890.15 144.943 L1890.15 137.582 L1894.43 137.582 Z\" fill=\"#000000\" fill-rule=\"evenodd\" fill-opacity=\"1\" /><path clip-path=\"url(#clip450)\" d=\"M 0 0 M1917.72 147.929 Q1914.29 147.929 1912.3 150.614 Q1910.31 153.276 1910.31 157.929 Q1910.31 162.582 1912.28 165.267 Q1914.27 167.929 1917.72 167.929 Q1921.12 167.929 1923.11 165.244 Q1925.1 162.558 1925.1 157.929 Q1925.1 153.322 1923.11 150.637 Q1921.12 147.929 1917.72 147.929 M1917.72 144.318 Q1923.27 144.318 1926.45 147.929 Q1929.62 151.54 1929.62 157.929 Q1929.62 164.295 1926.45 167.929 Q1923.27 171.54 1917.72 171.54 Q1912.14 171.54 1908.97 167.929 Q1905.82 164.295 1905.82 157.929 Q1905.82 151.54 1908.97 147.929 Q1912.14 144.318 1917.72 144.318 Z\" fill=\"#000000\" fill-rule=\"evenodd\" fill-opacity=\"1\" /><path clip-path=\"url(#clip450)\" d=\"M 0 0 M1946.21 132.79 L1950.82 132.79 L1943.27 141.494 L1939.73 141.494 L1946.21 132.79 M1950.61 145.707 L1950.61 149.734 Q1948.81 148.809 1946.86 148.346 Q1944.92 147.883 1942.83 147.883 Q1939.66 147.883 1938.07 148.855 Q1936.49 149.827 1936.49 151.771 Q1936.49 153.253 1937.63 154.109 Q1938.76 154.943 1942.19 155.707 L1943.65 156.031 Q1948.18 157.003 1950.08 158.785 Q1952 160.545 1952 163.716 Q1952 167.327 1949.13 169.433 Q1946.28 171.54 1941.28 171.54 Q1939.2 171.54 1936.93 171.123 Q1934.69 170.73 1932.19 169.92 L1932.19 165.521 Q1934.55 166.748 1936.84 167.373 Q1939.13 167.975 1941.38 167.975 Q1944.39 167.975 1946.01 166.957 Q1947.63 165.915 1947.63 164.04 Q1947.63 162.304 1946.45 161.378 Q1945.29 160.452 1941.33 159.596 L1939.85 159.248 Q1935.89 158.415 1934.13 156.702 Q1932.37 154.966 1932.37 151.957 Q1932.37 148.299 1934.96 146.309 Q1937.56 144.318 1942.33 144.318 Q1944.69 144.318 1946.77 144.665 Q1948.85 145.012 1950.61 145.707 Z\" fill=\"#000000\" fill-rule=\"evenodd\" fill-opacity=\"1\" /><path clip-path=\"url(#clip450)\" d=\"M 0 0 M1975.13 145.938 L1975.13 149.92 Q1973.32 148.924 1971.49 148.438 Q1969.69 147.929 1967.83 147.929 Q1963.69 147.929 1961.4 150.568 Q1959.11 153.184 1959.11 157.929 Q1959.11 162.674 1961.4 165.313 Q1963.69 167.929 1967.83 167.929 Q1969.69 167.929 1971.49 167.443 Q1973.32 166.933 1975.13 165.938 L1975.13 169.873 Q1973.34 170.707 1971.42 171.123 Q1969.52 171.54 1967.37 171.54 Q1961.52 171.54 1958.07 167.859 Q1954.62 164.179 1954.62 157.929 Q1954.62 151.586 1958.09 147.952 Q1961.58 144.318 1967.65 144.318 Q1969.62 144.318 1971.49 144.735 Q1973.37 145.128 1975.13 145.938 Z\" fill=\"#000000\" fill-rule=\"evenodd\" fill-opacity=\"1\" /><path clip-path=\"url(#clip450)\" d=\"M 0 0 M1979.59 144.943 L1983.85 144.943 L1983.85 170.869 L1979.59 170.869 L1979.59 144.943 M1979.59 134.85 L1983.85 134.85 L1983.85 140.244 L1979.59 140.244 L1979.59 134.85 Z\" fill=\"#000000\" fill-rule=\"evenodd\" fill-opacity=\"1\" /><path clip-path=\"url(#clip450)\" d=\"M 0 0 M2023.58 149.92 Q2025.17 147.049 2027.39 145.684 Q2029.62 144.318 2032.63 144.318 Q2036.68 144.318 2038.88 147.165 Q2041.08 149.989 2041.08 155.221 L2041.08 170.869 L2036.79 170.869 L2036.79 155.359 Q2036.79 151.633 2035.47 149.827 Q2034.15 148.022 2031.45 148.022 Q2028.14 148.022 2026.21 150.221 Q2024.29 152.42 2024.29 156.216 L2024.29 170.869 L2020.01 170.869 L2020.01 155.359 Q2020.01 151.609 2018.69 149.827 Q2017.37 148.022 2014.62 148.022 Q2011.35 148.022 2009.43 150.244 Q2007.51 152.443 2007.51 156.216 L2007.51 170.869 L2003.23 170.869 L2003.23 144.943 L2007.51 144.943 L2007.51 148.971 Q2008.97 146.586 2011.01 145.452 Q2013.04 144.318 2015.84 144.318 Q2018.67 144.318 2020.64 145.753 Q2022.63 147.188 2023.58 149.92 Z\" fill=\"#000000\" fill-rule=\"evenodd\" fill-opacity=\"1\" /><path clip-path=\"url(#clip450)\" d=\"M 0 0 M2045.54 144.943 L2049.8 144.943 L2049.8 170.869 L2045.54 170.869 L2045.54 144.943 M2045.54 134.85 L2049.8 134.85 L2049.8 140.244 L2045.54 140.244 L2045.54 134.85 Z\" fill=\"#000000\" fill-rule=\"evenodd\" fill-opacity=\"1\" /><path clip-path=\"url(#clip450)\" d=\"M 0 0 M2076.45 156.841 L2076.45 158.924 L2056.86 158.924 Q2057.14 163.322 2059.5 165.637 Q2061.89 167.929 2066.12 167.929 Q2068.57 167.929 2070.87 167.327 Q2073.18 166.725 2075.45 165.521 L2075.45 169.549 Q2073.16 170.521 2070.75 171.031 Q2068.34 171.54 2065.87 171.54 Q2059.66 171.54 2056.03 167.929 Q2052.42 164.318 2052.42 158.16 Q2052.42 151.795 2055.84 148.068 Q2059.29 144.318 2065.13 144.318 Q2070.36 144.318 2073.39 147.697 Q2076.45 151.054 2076.45 156.841 M2072.19 155.591 Q2072.14 152.096 2070.22 150.012 Q2068.32 147.929 2065.17 147.929 Q2061.61 147.929 2059.45 149.943 Q2057.32 151.957 2057 155.614 L2072.19 155.591 Z\" fill=\"#000000\" fill-rule=\"evenodd\" fill-opacity=\"1\" /><path clip-path=\"url(#clip450)\" d=\"M 0 0 M2095.94 148.924 Q2095.22 148.508 2094.36 148.322 Q2093.53 148.114 2092.51 148.114 Q2088.9 148.114 2086.95 150.475 Q2085.03 152.813 2085.03 157.211 L2085.03 170.869 L2080.75 170.869 L2080.75 144.943 L2085.03 144.943 L2085.03 148.971 Q2086.38 146.609 2088.53 145.475 Q2090.68 144.318 2093.76 144.318 Q2094.2 144.318 2094.73 144.387 Q2095.26 144.434 2095.91 144.549 L2095.94 148.924 Z\" fill=\"#000000\" fill-rule=\"evenodd\" fill-opacity=\"1\" /><path clip-path=\"url(#clip450)\" d=\"M 0 0 M2098.55 144.943 L2118.78 144.943 L2118.78 148.832 L2102.76 167.466 L2118.78 167.466 L2118.78 170.869 L2097.97 170.869 L2097.97 166.98 L2113.99 148.346 L2098.55 148.346 L2098.55 144.943 Z\" fill=\"#000000\" fill-rule=\"evenodd\" fill-opacity=\"1\" /><path clip-path=\"url(#clip450)\" d=\"M 0 0 M2133.3 147.929 Q2129.87 147.929 2127.88 150.614 Q2125.89 153.276 2125.89 157.929 Q2125.89 162.582 2127.86 165.267 Q2129.85 167.929 2133.3 167.929 Q2136.7 167.929 2138.69 165.244 Q2140.68 162.558 2140.68 157.929 Q2140.68 153.322 2138.69 150.637 Q2136.7 147.929 2133.3 147.929 M2133.3 144.318 Q2138.85 144.318 2142.02 147.929 Q2145.19 151.54 2145.19 157.929 Q2145.19 164.295 2142.02 167.929 Q2138.85 171.54 2133.3 171.54 Q2127.72 171.54 2124.55 167.929 Q2121.4 164.295 2121.4 157.929 Q2121.4 151.54 2124.55 147.929 Q2127.72 144.318 2133.3 144.318 Z\" fill=\"#000000\" fill-rule=\"evenodd\" fill-opacity=\"1\" /><path clip-path=\"url(#clip450)\" d=\"M 0 0 M2171.21 155.221 L2171.21 170.869 L2166.95 170.869 L2166.95 155.359 Q2166.95 151.679 2165.52 149.85 Q2164.08 148.022 2161.21 148.022 Q2157.76 148.022 2155.77 150.221 Q2153.78 152.42 2153.78 156.216 L2153.78 170.869 L2149.5 170.869 L2149.5 144.943 L2153.78 144.943 L2153.78 148.971 Q2155.31 146.633 2157.37 145.475 Q2159.45 144.318 2162.16 144.318 Q2166.63 144.318 2168.92 147.096 Q2171.21 149.85 2171.21 155.221 Z\" fill=\"#000000\" fill-rule=\"evenodd\" fill-opacity=\"1\" /><path clip-path=\"url(#clip450)\" d=\"M 0 0 M2197.86 156.841 L2197.86 158.924 L2178.27 158.924 Q2178.55 163.322 2180.91 165.637 Q2183.3 167.929 2187.53 167.929 Q2189.99 167.929 2192.28 167.327 Q2194.59 166.725 2196.86 165.521 L2196.86 169.549 Q2194.57 170.521 2192.16 171.031 Q2189.75 171.54 2187.28 171.54 Q2181.07 171.54 2177.44 167.929 Q2173.83 164.318 2173.83 158.16 Q2173.83 151.795 2177.25 148.068 Q2180.7 144.318 2186.54 144.318 Q2191.77 144.318 2194.8 147.697 Q2197.86 151.054 2197.86 156.841 M2193.6 155.591 Q2193.55 152.096 2191.63 150.012 Q2189.73 147.929 2186.58 147.929 Q2183.02 147.929 2180.87 149.943 Q2178.74 151.957 2178.41 155.614 L2193.6 155.591 Z\" fill=\"#000000\" fill-rule=\"evenodd\" fill-opacity=\"1\" /><polyline clip-path=\"url(#clip450)\" style=\"stroke:#e26f46; stroke-width:4; stroke-opacity:1; fill:none\" points=\"\n",
       "  1641.33,214.069 1783.1,214.069 \n",
       "  \"/>\n",
       "<path clip-path=\"url(#clip450)\" d=\"M 0 0 M1806.72 205.423 L1810.98 205.423 L1816.31 225.654 L1821.61 205.423 L1826.63 205.423 L1831.96 225.654 L1837.26 205.423 L1841.52 205.423 L1834.73 231.349 L1829.71 231.349 L1824.13 210.099 L1818.53 231.349 L1813.51 231.349 L1806.72 205.423 Z\" fill=\"#000000\" fill-rule=\"evenodd\" fill-opacity=\"1\" /><path clip-path=\"url(#clip450)\" d=\"M 0 0 M1857.77 218.316 Q1852.6 218.316 1850.61 219.497 Q1848.62 220.677 1848.62 223.525 Q1848.62 225.793 1850.1 227.136 Q1851.61 228.455 1854.18 228.455 Q1857.72 228.455 1859.85 225.955 Q1862 223.432 1862 219.265 L1862 218.316 L1857.77 218.316 M1866.26 216.557 L1866.26 231.349 L1862 231.349 L1862 227.413 Q1860.54 229.775 1858.37 230.909 Q1856.19 232.02 1853.04 232.02 Q1849.06 232.02 1846.7 229.798 Q1844.36 227.552 1844.36 223.802 Q1844.36 219.427 1847.28 217.205 Q1850.22 214.983 1856.03 214.983 L1862 214.983 L1862 214.566 Q1862 211.627 1860.06 210.029 Q1858.14 208.409 1854.64 208.409 Q1852.42 208.409 1850.31 208.941 Q1848.21 209.474 1846.26 210.539 L1846.26 206.603 Q1848.6 205.701 1850.8 205.261 Q1853 204.798 1855.08 204.798 Q1860.71 204.798 1863.48 207.714 Q1866.26 210.631 1866.26 216.557 Z\" fill=\"#000000\" fill-rule=\"evenodd\" fill-opacity=\"1\" /><path clip-path=\"url(#clip450)\" d=\"M 0 0 M1885.75 209.404 Q1885.03 208.988 1884.18 208.802 Q1883.34 208.594 1882.33 208.594 Q1878.71 208.594 1876.77 210.955 Q1874.85 213.293 1874.85 217.691 L1874.85 231.349 L1870.57 231.349 L1870.57 205.423 L1874.85 205.423 L1874.85 209.451 Q1876.19 207.089 1878.34 205.955 Q1880.5 204.798 1883.58 204.798 Q1884.02 204.798 1884.55 204.867 Q1885.08 204.914 1885.73 205.029 L1885.75 209.404 Z\" fill=\"#000000\" fill-rule=\"evenodd\" fill-opacity=\"1\" /><path clip-path=\"url(#clip450)\" d=\"M 0 0 M1894.43 198.062 L1894.43 205.423 L1903.21 205.423 L1903.21 208.733 L1894.43 208.733 L1894.43 222.807 Q1894.43 225.978 1895.29 226.881 Q1896.17 227.784 1898.83 227.784 L1903.21 227.784 L1903.21 231.349 L1898.83 231.349 Q1893.9 231.349 1892.02 229.52 Q1890.15 227.668 1890.15 222.807 L1890.15 208.733 L1887.02 208.733 L1887.02 205.423 L1890.15 205.423 L1890.15 198.062 L1894.43 198.062 Z\" fill=\"#000000\" fill-rule=\"evenodd\" fill-opacity=\"1\" /><path clip-path=\"url(#clip450)\" d=\"M 0 0 M1917.72 208.409 Q1914.29 208.409 1912.3 211.094 Q1910.31 213.756 1910.31 218.409 Q1910.31 223.062 1912.28 225.747 Q1914.27 228.409 1917.72 228.409 Q1921.12 228.409 1923.11 225.724 Q1925.1 223.038 1925.1 218.409 Q1925.1 213.802 1923.11 211.117 Q1921.12 208.409 1917.72 208.409 M1917.72 204.798 Q1923.27 204.798 1926.45 208.409 Q1929.62 212.02 1929.62 218.409 Q1929.62 224.775 1926.45 228.409 Q1923.27 232.02 1917.72 232.02 Q1912.14 232.02 1908.97 228.409 Q1905.82 224.775 1905.82 218.409 Q1905.82 212.02 1908.97 208.409 Q1912.14 204.798 1917.72 204.798 Z\" fill=\"#000000\" fill-rule=\"evenodd\" fill-opacity=\"1\" /><path clip-path=\"url(#clip450)\" d=\"M 0 0 M1946.21 193.27 L1950.82 193.27 L1943.27 201.974 L1939.73 201.974 L1946.21 193.27 M1950.61 206.187 L1950.61 210.214 Q1948.81 209.289 1946.86 208.826 Q1944.92 208.363 1942.83 208.363 Q1939.66 208.363 1938.07 209.335 Q1936.49 210.307 1936.49 212.251 Q1936.49 213.733 1937.63 214.589 Q1938.76 215.423 1942.19 216.187 L1943.65 216.511 Q1948.18 217.483 1950.08 219.265 Q1952 221.025 1952 224.196 Q1952 227.807 1949.13 229.913 Q1946.28 232.02 1941.28 232.02 Q1939.2 232.02 1936.93 231.603 Q1934.69 231.21 1932.19 230.4 L1932.19 226.001 Q1934.55 227.228 1936.84 227.853 Q1939.13 228.455 1941.38 228.455 Q1944.39 228.455 1946.01 227.437 Q1947.63 226.395 1947.63 224.52 Q1947.63 222.784 1946.45 221.858 Q1945.29 220.932 1941.33 220.076 L1939.85 219.728 Q1935.89 218.895 1934.13 217.182 Q1932.37 215.446 1932.37 212.437 Q1932.37 208.779 1934.96 206.789 Q1937.56 204.798 1942.33 204.798 Q1944.69 204.798 1946.77 205.145 Q1948.85 205.492 1950.61 206.187 Z\" fill=\"#000000\" fill-rule=\"evenodd\" fill-opacity=\"1\" /><path clip-path=\"url(#clip450)\" d=\"M 0 0 M1975.13 206.418 L1975.13 210.4 Q1973.32 209.404 1971.49 208.918 Q1969.69 208.409 1967.83 208.409 Q1963.69 208.409 1961.4 211.048 Q1959.11 213.664 1959.11 218.409 Q1959.11 223.154 1961.4 225.793 Q1963.69 228.409 1967.83 228.409 Q1969.69 228.409 1971.49 227.923 Q1973.32 227.413 1975.13 226.418 L1975.13 230.353 Q1973.34 231.187 1971.42 231.603 Q1969.52 232.02 1967.37 232.02 Q1961.52 232.02 1958.07 228.339 Q1954.62 224.659 1954.62 218.409 Q1954.62 212.066 1958.09 208.432 Q1961.58 204.798 1967.65 204.798 Q1969.62 204.798 1971.49 205.215 Q1973.37 205.608 1975.13 206.418 Z\" fill=\"#000000\" fill-rule=\"evenodd\" fill-opacity=\"1\" /><path clip-path=\"url(#clip450)\" d=\"M 0 0 M1979.59 205.423 L1983.85 205.423 L1983.85 231.349 L1979.59 231.349 L1979.59 205.423 M1979.59 195.33 L1983.85 195.33 L1983.85 200.724 L1979.59 200.724 L1979.59 195.33 Z\" fill=\"#000000\" fill-rule=\"evenodd\" fill-opacity=\"1\" /><path clip-path=\"url(#clip450)\" d=\"M 0 0 M2015.17 218.316 Q2010.01 218.316 2008.02 219.497 Q2006.03 220.677 2006.03 223.525 Q2006.03 225.793 2007.51 227.136 Q2009.02 228.455 2011.58 228.455 Q2015.13 228.455 2017.26 225.955 Q2019.41 223.432 2019.41 219.265 L2019.41 218.316 L2015.17 218.316 M2023.67 216.557 L2023.67 231.349 L2019.41 231.349 L2019.41 227.413 Q2017.95 229.775 2015.77 230.909 Q2013.6 232.02 2010.45 232.02 Q2006.47 232.02 2004.11 229.798 Q2001.77 227.552 2001.77 223.802 Q2001.77 219.427 2004.69 217.205 Q2007.63 214.983 2013.44 214.983 L2019.41 214.983 L2019.41 214.566 Q2019.41 211.627 2017.46 210.029 Q2015.54 208.409 2012.05 208.409 Q2009.83 208.409 2007.72 208.941 Q2005.61 209.474 2003.67 210.539 L2003.67 206.603 Q2006.01 205.701 2008.2 205.261 Q2010.4 204.798 2012.49 204.798 Q2018.11 204.798 2020.89 207.714 Q2023.67 210.631 2023.67 216.557 Z\" fill=\"#000000\" fill-rule=\"evenodd\" fill-opacity=\"1\" /><path clip-path=\"url(#clip450)\" d=\"M 0 0 M2049.69 215.701 L2049.69 231.349 L2045.43 231.349 L2045.43 215.839 Q2045.43 212.159 2043.99 210.33 Q2042.56 208.502 2039.69 208.502 Q2036.24 208.502 2034.25 210.701 Q2032.26 212.9 2032.26 216.696 L2032.26 231.349 L2027.97 231.349 L2027.97 205.423 L2032.26 205.423 L2032.26 209.451 Q2033.78 207.113 2035.84 205.955 Q2037.93 204.798 2040.64 204.798 Q2045.1 204.798 2047.39 207.576 Q2049.69 210.33 2049.69 215.701 Z\" fill=\"#000000\" fill-rule=\"evenodd\" fill-opacity=\"1\" /><path clip-path=\"url(#clip450)\" d=\"M 0 0 M2065.94 218.316 Q2060.77 218.316 2058.78 219.497 Q2056.79 220.677 2056.79 223.525 Q2056.79 225.793 2058.27 227.136 Q2059.78 228.455 2062.35 228.455 Q2065.89 228.455 2068.02 225.955 Q2070.17 223.432 2070.17 219.265 L2070.17 218.316 L2065.94 218.316 M2074.43 216.557 L2074.43 231.349 L2070.17 231.349 L2070.17 227.413 Q2068.71 229.775 2066.54 230.909 Q2064.36 232.02 2061.21 232.02 Q2057.23 232.02 2054.87 229.798 Q2052.53 227.552 2052.53 223.802 Q2052.53 219.427 2055.45 217.205 Q2058.39 214.983 2064.2 214.983 L2070.17 214.983 L2070.17 214.566 Q2070.17 211.627 2068.23 210.029 Q2066.31 208.409 2062.81 208.409 Q2060.59 208.409 2058.48 208.941 Q2056.38 209.474 2054.43 210.539 L2054.43 206.603 Q2056.77 205.701 2058.97 205.261 Q2061.17 204.798 2063.25 204.798 Q2068.88 204.798 2071.65 207.714 Q2074.43 210.631 2074.43 216.557 Z\" fill=\"#000000\" fill-rule=\"evenodd\" fill-opacity=\"1\" /><path clip-path=\"url(#clip450)\" d=\"M 0 0 M2078.9 195.33 L2083.16 195.33 L2083.16 231.349 L2078.9 231.349 L2078.9 195.33 Z\" fill=\"#000000\" fill-rule=\"evenodd\" fill-opacity=\"1\" /><path clip-path=\"url(#clip450)\" d=\"M 0 0 M2087.63 205.423 L2091.88 205.423 L2091.88 231.349 L2087.63 231.349 L2087.63 205.423 M2087.63 195.33 L2091.88 195.33 L2091.88 200.724 L2087.63 200.724 L2087.63 195.33 Z\" fill=\"#000000\" fill-rule=\"evenodd\" fill-opacity=\"1\" /><path clip-path=\"url(#clip450)\" d=\"M 0 0 M2100.57 198.062 L2100.57 205.423 L2109.34 205.423 L2109.34 208.733 L2100.57 208.733 L2100.57 222.807 Q2100.57 225.978 2101.42 226.881 Q2102.3 227.784 2104.96 227.784 L2109.34 227.784 L2109.34 231.349 L2104.96 231.349 Q2100.03 231.349 2098.16 229.52 Q2096.28 227.668 2096.28 222.807 L2096.28 208.733 L2093.16 208.733 L2093.16 205.423 L2096.28 205.423 L2096.28 198.062 L2100.57 198.062 Z\" fill=\"#000000\" fill-rule=\"evenodd\" fill-opacity=\"1\" /><path clip-path=\"url(#clip450)\" d=\"M 0 0 M2124.59 233.756 Q2122.79 238.386 2121.07 239.798 Q2119.36 241.21 2116.49 241.21 L2113.09 241.21 L2113.09 237.645 L2115.59 237.645 Q2117.35 237.645 2118.32 236.812 Q2119.29 235.978 2120.47 232.876 L2121.24 230.932 L2110.75 205.423 L2115.26 205.423 L2123.37 225.701 L2131.47 205.423 L2135.98 205.423 L2124.59 233.756 Z\" fill=\"#000000\" fill-rule=\"evenodd\" fill-opacity=\"1\" /><path clip-path=\"url(#clip450)\" d=\"M 0 0 M2159.11 206.418 L2159.11 210.4 Q2157.3 209.404 2155.47 208.918 Q2153.67 208.409 2151.82 208.409 Q2147.67 208.409 2145.38 211.048 Q2143.09 213.664 2143.09 218.409 Q2143.09 223.154 2145.38 225.793 Q2147.67 228.409 2151.82 228.409 Q2153.67 228.409 2155.47 227.923 Q2157.3 227.413 2159.11 226.418 L2159.11 230.353 Q2157.32 231.187 2155.4 231.603 Q2153.51 232.02 2151.35 232.02 Q2145.5 232.02 2142.05 228.339 Q2138.6 224.659 2138.6 218.409 Q2138.6 212.066 2142.07 208.432 Q2145.57 204.798 2151.63 204.798 Q2153.6 204.798 2155.47 205.215 Q2157.35 205.608 2159.11 206.418 Z\" fill=\"#000000\" fill-rule=\"evenodd\" fill-opacity=\"1\" /><path clip-path=\"url(#clip450)\" d=\"M 0 0 M2161.72 205.423 L2181.95 205.423 L2181.95 209.312 L2165.94 227.946 L2181.95 227.946 L2181.95 231.349 L2161.14 231.349 L2161.14 227.46 L2177.16 208.826 L2161.72 208.826 L2161.72 205.423 Z\" fill=\"#000000\" fill-rule=\"evenodd\" fill-opacity=\"1\" /><path clip-path=\"url(#clip450)\" d=\"M 0 0 M2207.97 215.701 L2207.97 231.349 L2203.71 231.349 L2203.71 215.839 Q2203.71 212.159 2202.28 210.33 Q2200.84 208.502 2197.97 208.502 Q2194.52 208.502 2192.53 210.701 Q2190.54 212.9 2190.54 216.696 L2190.54 231.349 L2186.26 231.349 L2186.26 205.423 L2190.54 205.423 L2190.54 209.451 Q2192.07 207.113 2194.13 205.955 Q2196.21 204.798 2198.92 204.798 Q2203.39 204.798 2205.68 207.576 Q2207.97 210.33 2207.97 215.701 Z\" fill=\"#000000\" fill-rule=\"evenodd\" fill-opacity=\"1\" /><path clip-path=\"url(#clip450)\" d=\"M 0 0 M2234.62 217.321 L2234.62 219.404 L2215.03 219.404 Q2215.31 223.802 2217.67 226.117 Q2220.06 228.409 2224.29 228.409 Q2226.75 228.409 2229.04 227.807 Q2231.35 227.205 2233.62 226.001 L2233.62 230.029 Q2231.33 231.001 2228.92 231.511 Q2226.51 232.02 2224.04 232.02 Q2217.83 232.02 2214.2 228.409 Q2210.59 224.798 2210.59 218.64 Q2210.59 212.275 2214.01 208.548 Q2217.46 204.798 2223.3 204.798 Q2228.53 204.798 2231.56 208.177 Q2234.62 211.534 2234.62 217.321 M2230.36 216.071 Q2230.31 212.576 2228.39 210.492 Q2226.49 208.409 2223.34 208.409 Q2219.78 208.409 2217.63 210.423 Q2215.5 212.437 2215.17 216.094 L2230.36 216.071 Z\" fill=\"#000000\" fill-rule=\"evenodd\" fill-opacity=\"1\" /></svg>\n"
      ]
     },
     "execution_count": 194,
     "metadata": {},
     "output_type": "execute_result"
    }
   ],
   "source": [
    "plot!(t_step, analyt, label = \"wartości analityczne\")"
   ]
  },
  {
   "cell_type": "code",
   "execution_count": 195,
   "metadata": {},
   "outputs": [
    {
     "data": {
      "text/plain": [
       "model (generic function with 1 method)"
      ]
     },
     "execution_count": 195,
     "metadata": {},
     "output_type": "execute_result"
    }
   ],
   "source": [
    "function model(t, x)\n",
    "    return -2.44 * x\n",
    "end    "
   ]
  },
  {
   "cell_type": "code",
   "execution_count": 196,
   "metadata": {},
   "outputs": [],
   "source": [
    "numeric = runge_kutta(model, Array(0:0.1:1.5), 240.6);"
   ]
  },
  {
   "cell_type": "code",
   "execution_count": 197,
   "metadata": {},
   "outputs": [
    {
     "data": {
      "image/svg+xml": [
       "<?xml version=\"1.0\" encoding=\"utf-8\"?>\n",
       "<svg xmlns=\"http://www.w3.org/2000/svg\" xmlns:xlink=\"http://www.w3.org/1999/xlink\" width=\"600\" height=\"400\" viewBox=\"0 0 2400 1600\">\n",
       "<defs>\n",
       "  <clipPath id=\"clip490\">\n",
       "    <rect x=\"0\" y=\"0\" width=\"2400\" height=\"1600\"/>\n",
       "  </clipPath>\n",
       "</defs>\n",
       "<path clip-path=\"url(#clip490)\" d=\"\n",
       "M0 1600 L2400 1600 L2400 0 L0 0  Z\n",
       "  \" fill=\"#ffffff\" fill-rule=\"evenodd\" fill-opacity=\"1\"/>\n",
       "<defs>\n",
       "  <clipPath id=\"clip491\">\n",
       "    <rect x=\"480\" y=\"0\" width=\"1681\" height=\"1600\"/>\n",
       "  </clipPath>\n",
       "</defs>\n",
       "<path clip-path=\"url(#clip490)\" d=\"\n",
       "M226.232 1423.18 L2352.76 1423.18 L2352.76 47.2441 L226.232 47.2441  Z\n",
       "  \" fill=\"#ffffff\" fill-rule=\"evenodd\" fill-opacity=\"1\"/>\n",
       "<defs>\n",
       "  <clipPath id=\"clip492\">\n",
       "    <rect x=\"226\" y=\"47\" width=\"2128\" height=\"1377\"/>\n",
       "  </clipPath>\n",
       "</defs>\n",
       "<polyline clip-path=\"url(#clip492)\" style=\"stroke:#000000; stroke-width:2; stroke-opacity:0.1; fill:none\" points=\"\n",
       "  286.417,1423.18 286.417,47.2441 \n",
       "  \"/>\n",
       "<polyline clip-path=\"url(#clip492)\" style=\"stroke:#000000; stroke-width:2; stroke-opacity:0.1; fill:none\" points=\"\n",
       "  955.135,1423.18 955.135,47.2441 \n",
       "  \"/>\n",
       "<polyline clip-path=\"url(#clip492)\" style=\"stroke:#000000; stroke-width:2; stroke-opacity:0.1; fill:none\" points=\"\n",
       "  1623.85,1423.18 1623.85,47.2441 \n",
       "  \"/>\n",
       "<polyline clip-path=\"url(#clip492)\" style=\"stroke:#000000; stroke-width:2; stroke-opacity:0.1; fill:none\" points=\"\n",
       "  2292.57,1423.18 2292.57,47.2441 \n",
       "  \"/>\n",
       "<polyline clip-path=\"url(#clip490)\" style=\"stroke:#000000; stroke-width:4; stroke-opacity:1; fill:none\" points=\"\n",
       "  226.232,1423.18 2352.76,1423.18 \n",
       "  \"/>\n",
       "<polyline clip-path=\"url(#clip490)\" style=\"stroke:#000000; stroke-width:4; stroke-opacity:1; fill:none\" points=\"\n",
       "  286.417,1423.18 286.417,1406.67 \n",
       "  \"/>\n",
       "<polyline clip-path=\"url(#clip490)\" style=\"stroke:#000000; stroke-width:4; stroke-opacity:1; fill:none\" points=\"\n",
       "  955.135,1423.18 955.135,1406.67 \n",
       "  \"/>\n",
       "<polyline clip-path=\"url(#clip490)\" style=\"stroke:#000000; stroke-width:4; stroke-opacity:1; fill:none\" points=\"\n",
       "  1623.85,1423.18 1623.85,1406.67 \n",
       "  \"/>\n",
       "<polyline clip-path=\"url(#clip490)\" style=\"stroke:#000000; stroke-width:4; stroke-opacity:1; fill:none\" points=\"\n",
       "  2292.57,1423.18 2292.57,1406.67 \n",
       "  \"/>\n",
       "<path clip-path=\"url(#clip490)\" d=\"M 0 0 M267.933 1452.37 Q264.322 1452.37 262.493 1455.94 Q260.688 1459.48 260.688 1466.61 Q260.688 1473.71 262.493 1477.28 Q264.322 1480.82 267.933 1480.82 Q271.567 1480.82 273.373 1477.28 Q275.201 1473.71 275.201 1466.61 Q275.201 1459.48 273.373 1455.94 Q271.567 1452.37 267.933 1452.37 M267.933 1448.67 Q273.743 1448.67 276.799 1453.27 Q279.877 1457.86 279.877 1466.61 Q279.877 1475.33 276.799 1479.94 Q273.743 1484.52 267.933 1484.52 Q262.123 1484.52 259.044 1479.94 Q255.989 1475.33 255.989 1466.61 Q255.989 1457.86 259.044 1453.27 Q262.123 1448.67 267.933 1448.67 Z\" fill=\"#000000\" fill-rule=\"evenodd\" fill-opacity=\"1\" /><path clip-path=\"url(#clip490)\" d=\"M 0 0 M284.947 1477.97 L289.831 1477.97 L289.831 1483.85 L284.947 1483.85 L284.947 1477.97 Z\" fill=\"#000000\" fill-rule=\"evenodd\" fill-opacity=\"1\" /><path clip-path=\"url(#clip490)\" d=\"M 0 0 M304.9 1452.37 Q301.289 1452.37 299.461 1455.94 Q297.655 1459.48 297.655 1466.61 Q297.655 1473.71 299.461 1477.28 Q301.289 1480.82 304.9 1480.82 Q308.535 1480.82 310.34 1477.28 Q312.169 1473.71 312.169 1466.61 Q312.169 1459.48 310.34 1455.94 Q308.535 1452.37 304.9 1452.37 M304.9 1448.67 Q310.71 1448.67 313.766 1453.27 Q316.845 1457.86 316.845 1466.61 Q316.845 1475.33 313.766 1479.94 Q310.71 1484.52 304.9 1484.52 Q299.09 1484.52 296.011 1479.94 Q292.956 1475.33 292.956 1466.61 Q292.956 1457.86 296.011 1453.27 Q299.09 1448.67 304.9 1448.67 Z\" fill=\"#000000\" fill-rule=\"evenodd\" fill-opacity=\"1\" /><path clip-path=\"url(#clip490)\" d=\"M 0 0 M937.149 1452.37 Q933.538 1452.37 931.709 1455.94 Q929.903 1459.48 929.903 1466.61 Q929.903 1473.71 931.709 1477.28 Q933.538 1480.82 937.149 1480.82 Q940.783 1480.82 942.589 1477.28 Q944.417 1473.71 944.417 1466.61 Q944.417 1459.48 942.589 1455.94 Q940.783 1452.37 937.149 1452.37 M937.149 1448.67 Q942.959 1448.67 946.015 1453.27 Q949.093 1457.86 949.093 1466.61 Q949.093 1475.33 946.015 1479.94 Q942.959 1484.52 937.149 1484.52 Q931.339 1484.52 928.26 1479.94 Q925.204 1475.33 925.204 1466.61 Q925.204 1457.86 928.26 1453.27 Q931.339 1448.67 937.149 1448.67 Z\" fill=\"#000000\" fill-rule=\"evenodd\" fill-opacity=\"1\" /><path clip-path=\"url(#clip490)\" d=\"M 0 0 M954.163 1477.97 L959.047 1477.97 L959.047 1483.85 L954.163 1483.85 L954.163 1477.97 Z\" fill=\"#000000\" fill-rule=\"evenodd\" fill-opacity=\"1\" /><path clip-path=\"url(#clip490)\" d=\"M 0 0 M964.163 1449.29 L982.519 1449.29 L982.519 1453.23 L968.445 1453.23 L968.445 1461.7 Q969.463 1461.35 970.482 1461.19 Q971.5 1461 972.519 1461 Q978.306 1461 981.686 1464.18 Q985.065 1467.35 985.065 1472.76 Q985.065 1478.34 981.593 1481.44 Q978.121 1484.52 971.801 1484.52 Q969.625 1484.52 967.357 1484.15 Q965.112 1483.78 962.704 1483.04 L962.704 1478.34 Q964.788 1479.48 967.01 1480.03 Q969.232 1480.59 971.709 1480.59 Q975.713 1480.59 978.051 1478.48 Q980.389 1476.38 980.389 1472.76 Q980.389 1469.15 978.051 1467.05 Q975.713 1464.94 971.709 1464.94 Q969.834 1464.94 967.959 1465.36 Q966.107 1465.77 964.163 1466.65 L964.163 1449.29 Z\" fill=\"#000000\" fill-rule=\"evenodd\" fill-opacity=\"1\" /><path clip-path=\"url(#clip490)\" d=\"M 0 0 M1595.75 1479.92 L1603.39 1479.92 L1603.39 1453.55 L1595.08 1455.22 L1595.08 1450.96 L1603.34 1449.29 L1608.02 1449.29 L1608.02 1479.92 L1615.66 1479.92 L1615.66 1483.85 L1595.75 1483.85 L1595.75 1479.92 Z\" fill=\"#000000\" fill-rule=\"evenodd\" fill-opacity=\"1\" /><path clip-path=\"url(#clip490)\" d=\"M 0 0 M1620.73 1477.97 L1625.61 1477.97 L1625.61 1483.85 L1620.73 1483.85 L1620.73 1477.97 Z\" fill=\"#000000\" fill-rule=\"evenodd\" fill-opacity=\"1\" /><path clip-path=\"url(#clip490)\" d=\"M 0 0 M1640.68 1452.37 Q1637.07 1452.37 1635.24 1455.94 Q1633.44 1459.48 1633.44 1466.61 Q1633.44 1473.71 1635.24 1477.28 Q1637.07 1480.82 1640.68 1480.82 Q1644.32 1480.82 1646.12 1477.28 Q1647.95 1473.71 1647.95 1466.61 Q1647.95 1459.48 1646.12 1455.94 Q1644.32 1452.37 1640.68 1452.37 M1640.68 1448.67 Q1646.49 1448.67 1649.55 1453.27 Q1652.63 1457.86 1652.63 1466.61 Q1652.63 1475.33 1649.55 1479.94 Q1646.49 1484.52 1640.68 1484.52 Q1634.87 1484.52 1631.79 1479.94 Q1628.74 1475.33 1628.74 1466.61 Q1628.74 1457.86 1631.79 1453.27 Q1634.87 1448.67 1640.68 1448.67 Z\" fill=\"#000000\" fill-rule=\"evenodd\" fill-opacity=\"1\" /><path clip-path=\"url(#clip490)\" d=\"M 0 0 M2264.97 1479.92 L2272.61 1479.92 L2272.61 1453.55 L2264.3 1455.22 L2264.3 1450.96 L2272.56 1449.29 L2277.24 1449.29 L2277.24 1479.92 L2284.87 1479.92 L2284.87 1483.85 L2264.97 1483.85 L2264.97 1479.92 Z\" fill=\"#000000\" fill-rule=\"evenodd\" fill-opacity=\"1\" /><path clip-path=\"url(#clip490)\" d=\"M 0 0 M2289.94 1477.97 L2294.83 1477.97 L2294.83 1483.85 L2289.94 1483.85 L2289.94 1477.97 Z\" fill=\"#000000\" fill-rule=\"evenodd\" fill-opacity=\"1\" /><path clip-path=\"url(#clip490)\" d=\"M 0 0 M2299.94 1449.29 L2318.3 1449.29 L2318.3 1453.23 L2304.23 1453.23 L2304.23 1461.7 Q2305.24 1461.35 2306.26 1461.19 Q2307.28 1461 2308.3 1461 Q2314.09 1461 2317.47 1464.18 Q2320.85 1467.35 2320.85 1472.76 Q2320.85 1478.34 2317.37 1481.44 Q2313.9 1484.52 2307.58 1484.52 Q2305.41 1484.52 2303.14 1484.15 Q2300.89 1483.78 2298.49 1483.04 L2298.49 1478.34 Q2300.57 1479.48 2302.79 1480.03 Q2305.01 1480.59 2307.49 1480.59 Q2311.49 1480.59 2313.83 1478.48 Q2316.17 1476.38 2316.17 1472.76 Q2316.17 1469.15 2313.83 1467.05 Q2311.49 1464.94 2307.49 1464.94 Q2305.62 1464.94 2303.74 1465.36 Q2301.89 1465.77 2299.94 1466.65 L2299.94 1449.29 Z\" fill=\"#000000\" fill-rule=\"evenodd\" fill-opacity=\"1\" /><path clip-path=\"url(#clip490)\" d=\"M 0 0 M1240.84 1522.27 L1240.84 1532.4 L1252.91 1532.4 L1252.91 1536.95 L1240.84 1536.95 L1240.84 1556.3 Q1240.84 1560.66 1242.02 1561.9 Q1243.23 1563.14 1246.89 1563.14 L1252.91 1563.14 L1252.91 1568.04 L1246.89 1568.04 Q1240.11 1568.04 1237.53 1565.53 Q1234.96 1562.98 1234.96 1556.3 L1234.96 1536.95 L1230.66 1536.95 L1230.66 1532.4 L1234.96 1532.4 L1234.96 1522.27 L1240.84 1522.27 Z\" fill=\"#000000\" fill-rule=\"evenodd\" fill-opacity=\"1\" /><path clip-path=\"url(#clip490)\" d=\"M 0 0 M1279.23 1518.52 L1292.72 1518.52 L1292.72 1523.07 L1285.09 1523.07 L1285.09 1572.09 L1292.72 1572.09 L1292.72 1576.64 L1279.23 1576.64 L1279.23 1518.52 Z\" fill=\"#000000\" fill-rule=\"evenodd\" fill-opacity=\"1\" /><path clip-path=\"url(#clip490)\" d=\"M 0 0 M1328.5 1546.53 L1328.5 1568.04 L1322.64 1568.04 L1322.64 1546.72 Q1322.64 1541.66 1320.67 1539.14 Q1318.7 1536.63 1314.75 1536.63 Q1310.01 1536.63 1307.27 1539.65 Q1304.53 1542.68 1304.53 1547.9 L1304.53 1568.04 L1298.64 1568.04 L1298.64 1518.52 L1304.53 1518.52 L1304.53 1537.93 Q1306.63 1534.72 1309.47 1533.13 Q1312.33 1531.54 1316.05 1531.54 Q1322.2 1531.54 1325.35 1535.36 Q1328.5 1539.14 1328.5 1546.53 Z\" fill=\"#000000\" fill-rule=\"evenodd\" fill-opacity=\"1\" /><path clip-path=\"url(#clip490)\" d=\"M 0 0 M1348.33 1518.52 L1348.33 1576.64 L1334.83 1576.64 L1334.83 1572.09 L1342.44 1572.09 L1342.44 1523.07 L1334.83 1523.07 L1334.83 1518.52 L1348.33 1518.52 Z\" fill=\"#000000\" fill-rule=\"evenodd\" fill-opacity=\"1\" /><polyline clip-path=\"url(#clip492)\" style=\"stroke:#000000; stroke-width:2; stroke-opacity:0.1; fill:none\" points=\"\n",
       "  226.232,1418.52 2352.76,1418.52 \n",
       "  \"/>\n",
       "<polyline clip-path=\"url(#clip492)\" style=\"stroke:#000000; stroke-width:2; stroke-opacity:0.1; fill:none\" points=\"\n",
       "  226.232,1141.64 2352.76,1141.64 \n",
       "  \"/>\n",
       "<polyline clip-path=\"url(#clip492)\" style=\"stroke:#000000; stroke-width:2; stroke-opacity:0.1; fill:none\" points=\"\n",
       "  226.232,864.767 2352.76,864.767 \n",
       "  \"/>\n",
       "<polyline clip-path=\"url(#clip492)\" style=\"stroke:#000000; stroke-width:2; stroke-opacity:0.1; fill:none\" points=\"\n",
       "  226.232,587.889 2352.76,587.889 \n",
       "  \"/>\n",
       "<polyline clip-path=\"url(#clip492)\" style=\"stroke:#000000; stroke-width:2; stroke-opacity:0.1; fill:none\" points=\"\n",
       "  226.232,311.011 2352.76,311.011 \n",
       "  \"/>\n",
       "<polyline clip-path=\"url(#clip490)\" style=\"stroke:#000000; stroke-width:4; stroke-opacity:1; fill:none\" points=\"\n",
       "  226.232,1423.18 226.232,47.2441 \n",
       "  \"/>\n",
       "<polyline clip-path=\"url(#clip490)\" style=\"stroke:#000000; stroke-width:4; stroke-opacity:1; fill:none\" points=\"\n",
       "  226.232,1418.52 251.75,1418.52 \n",
       "  \"/>\n",
       "<polyline clip-path=\"url(#clip490)\" style=\"stroke:#000000; stroke-width:4; stroke-opacity:1; fill:none\" points=\"\n",
       "  226.232,1141.64 251.75,1141.64 \n",
       "  \"/>\n",
       "<polyline clip-path=\"url(#clip490)\" style=\"stroke:#000000; stroke-width:4; stroke-opacity:1; fill:none\" points=\"\n",
       "  226.232,864.767 251.75,864.767 \n",
       "  \"/>\n",
       "<polyline clip-path=\"url(#clip490)\" style=\"stroke:#000000; stroke-width:4; stroke-opacity:1; fill:none\" points=\"\n",
       "  226.232,587.889 251.75,587.889 \n",
       "  \"/>\n",
       "<polyline clip-path=\"url(#clip490)\" style=\"stroke:#000000; stroke-width:4; stroke-opacity:1; fill:none\" points=\"\n",
       "  226.232,311.011 251.75,311.011 \n",
       "  \"/>\n",
       "<path clip-path=\"url(#clip490)\" d=\"M 0 0 M178.288 1404.32 Q174.677 1404.32 172.848 1407.89 Q171.042 1411.43 171.042 1418.56 Q171.042 1425.66 172.848 1429.23 Q174.677 1432.77 178.288 1432.77 Q181.922 1432.77 183.727 1429.23 Q185.556 1425.66 185.556 1418.56 Q185.556 1411.43 183.727 1407.89 Q181.922 1404.32 178.288 1404.32 M178.288 1400.62 Q184.098 1400.62 187.153 1405.22 Q190.232 1409.81 190.232 1418.56 Q190.232 1427.28 187.153 1431.89 Q184.098 1436.47 178.288 1436.47 Q172.477 1436.47 169.399 1431.89 Q166.343 1427.28 166.343 1418.56 Q166.343 1409.81 169.399 1405.22 Q172.477 1400.62 178.288 1400.62 Z\" fill=\"#000000\" fill-rule=\"evenodd\" fill-opacity=\"1\" /><path clip-path=\"url(#clip490)\" d=\"M 0 0 M142.316 1124.36 L160.672 1124.36 L160.672 1128.3 L146.598 1128.3 L146.598 1136.77 Q147.616 1136.42 148.635 1136.26 Q149.653 1136.08 150.672 1136.08 Q156.459 1136.08 159.839 1139.25 Q163.218 1142.42 163.218 1147.84 Q163.218 1153.42 159.746 1156.52 Q156.274 1159.6 149.954 1159.6 Q147.778 1159.6 145.51 1159.23 Q143.265 1158.86 140.857 1158.11 L140.857 1153.42 Q142.941 1154.55 145.163 1155.11 Q147.385 1155.66 149.862 1155.66 Q153.866 1155.66 156.204 1153.55 Q158.542 1151.45 158.542 1147.84 Q158.542 1144.23 156.204 1142.12 Q153.866 1140.01 149.862 1140.01 Q147.987 1140.01 146.112 1140.43 Q144.26 1140.85 142.316 1141.73 L142.316 1124.36 Z\" fill=\"#000000\" fill-rule=\"evenodd\" fill-opacity=\"1\" /><path clip-path=\"url(#clip490)\" d=\"M 0 0 M178.288 1127.44 Q174.677 1127.44 172.848 1131.01 Q171.042 1134.55 171.042 1141.68 Q171.042 1148.79 172.848 1152.35 Q174.677 1155.89 178.288 1155.89 Q181.922 1155.89 183.727 1152.35 Q185.556 1148.79 185.556 1141.68 Q185.556 1134.55 183.727 1131.01 Q181.922 1127.44 178.288 1127.44 M178.288 1123.74 Q184.098 1123.74 187.153 1128.35 Q190.232 1132.93 190.232 1141.68 Q190.232 1150.41 187.153 1155.01 Q184.098 1159.6 178.288 1159.6 Q172.477 1159.6 169.399 1155.01 Q166.343 1150.41 166.343 1141.68 Q166.343 1132.93 169.399 1128.35 Q172.477 1123.74 178.288 1123.74 Z\" fill=\"#000000\" fill-rule=\"evenodd\" fill-opacity=\"1\" /><path clip-path=\"url(#clip490)\" d=\"M 0 0 M116.297 878.111 L123.936 878.111 L123.936 851.746 L115.626 853.413 L115.626 849.153 L123.89 847.487 L128.566 847.487 L128.566 878.111 L136.204 878.111 L136.204 882.047 L116.297 882.047 L116.297 878.111 Z\" fill=\"#000000\" fill-rule=\"evenodd\" fill-opacity=\"1\" /><path clip-path=\"url(#clip490)\" d=\"M 0 0 M151.274 850.565 Q147.663 850.565 145.834 854.13 Q144.029 857.672 144.029 864.801 Q144.029 871.908 145.834 875.473 Q147.663 879.014 151.274 879.014 Q154.908 879.014 156.714 875.473 Q158.542 871.908 158.542 864.801 Q158.542 857.672 156.714 854.13 Q154.908 850.565 151.274 850.565 M151.274 846.862 Q157.084 846.862 160.14 851.468 Q163.218 856.051 163.218 864.801 Q163.218 873.528 160.14 878.135 Q157.084 882.718 151.274 882.718 Q145.464 882.718 142.385 878.135 Q139.329 873.528 139.329 864.801 Q139.329 856.051 142.385 851.468 Q145.464 846.862 151.274 846.862 Z\" fill=\"#000000\" fill-rule=\"evenodd\" fill-opacity=\"1\" /><path clip-path=\"url(#clip490)\" d=\"M 0 0 M178.288 850.565 Q174.677 850.565 172.848 854.13 Q171.042 857.672 171.042 864.801 Q171.042 871.908 172.848 875.473 Q174.677 879.014 178.288 879.014 Q181.922 879.014 183.727 875.473 Q185.556 871.908 185.556 864.801 Q185.556 857.672 183.727 854.13 Q181.922 850.565 178.288 850.565 M178.288 846.862 Q184.098 846.862 187.153 851.468 Q190.232 856.051 190.232 864.801 Q190.232 873.528 187.153 878.135 Q184.098 882.718 178.288 882.718 Q172.477 882.718 169.399 878.135 Q166.343 873.528 166.343 864.801 Q166.343 856.051 169.399 851.468 Q172.477 846.862 178.288 846.862 Z\" fill=\"#000000\" fill-rule=\"evenodd\" fill-opacity=\"1\" /><path clip-path=\"url(#clip490)\" d=\"M 0 0 M117.293 601.233 L124.931 601.233 L124.931 574.868 L116.621 576.535 L116.621 572.275 L124.885 570.609 L129.561 570.609 L129.561 601.233 L137.2 601.233 L137.2 605.169 L117.293 605.169 L117.293 601.233 Z\" fill=\"#000000\" fill-rule=\"evenodd\" fill-opacity=\"1\" /><path clip-path=\"url(#clip490)\" d=\"M 0 0 M142.316 570.609 L160.672 570.609 L160.672 574.544 L146.598 574.544 L146.598 583.016 Q147.616 582.669 148.635 582.507 Q149.653 582.322 150.672 582.322 Q156.459 582.322 159.839 585.493 Q163.218 588.664 163.218 594.081 Q163.218 599.659 159.746 602.761 Q156.274 605.84 149.954 605.84 Q147.778 605.84 145.51 605.47 Q143.265 605.099 140.857 604.358 L140.857 599.659 Q142.941 600.794 145.163 601.349 Q147.385 601.905 149.862 601.905 Q153.866 601.905 156.204 599.798 Q158.542 597.692 158.542 594.081 Q158.542 590.47 156.204 588.363 Q153.866 586.257 149.862 586.257 Q147.987 586.257 146.112 586.673 Q144.26 587.09 142.316 587.97 L142.316 570.609 Z\" fill=\"#000000\" fill-rule=\"evenodd\" fill-opacity=\"1\" /><path clip-path=\"url(#clip490)\" d=\"M 0 0 M178.288 573.687 Q174.677 573.687 172.848 577.252 Q171.042 580.794 171.042 587.923 Q171.042 595.03 172.848 598.595 Q174.677 602.136 178.288 602.136 Q181.922 602.136 183.727 598.595 Q185.556 595.03 185.556 587.923 Q185.556 580.794 183.727 577.252 Q181.922 573.687 178.288 573.687 M178.288 569.984 Q184.098 569.984 187.153 574.59 Q190.232 579.173 190.232 587.923 Q190.232 596.65 187.153 601.257 Q184.098 605.84 178.288 605.84 Q172.477 605.84 169.399 601.257 Q166.343 596.65 166.343 587.923 Q166.343 579.173 169.399 574.59 Q172.477 569.984 178.288 569.984 Z\" fill=\"#000000\" fill-rule=\"evenodd\" fill-opacity=\"1\" /><path clip-path=\"url(#clip490)\" d=\"M 0 0 M119.885 324.355 L136.204 324.355 L136.204 328.291 L114.26 328.291 L114.26 324.355 Q116.922 321.601 121.505 316.971 Q126.112 312.318 127.292 310.976 Q129.538 308.453 130.417 306.717 Q131.32 304.957 131.32 303.268 Q131.32 300.513 129.376 298.777 Q127.455 297.041 124.353 297.041 Q122.154 297.041 119.7 297.805 Q117.269 298.569 114.492 300.119 L114.492 295.397 Q117.316 294.263 119.769 293.684 Q122.223 293.106 124.26 293.106 Q129.63 293.106 132.825 295.791 Q136.019 298.476 136.019 302.967 Q136.019 305.096 135.209 307.018 Q134.422 308.916 132.316 311.508 Q131.737 312.18 128.635 315.397 Q125.533 318.592 119.885 324.355 Z\" fill=\"#000000\" fill-rule=\"evenodd\" fill-opacity=\"1\" /><path clip-path=\"url(#clip490)\" d=\"M 0 0 M151.274 296.809 Q147.663 296.809 145.834 300.374 Q144.029 303.916 144.029 311.045 Q144.029 318.152 145.834 321.717 Q147.663 325.258 151.274 325.258 Q154.908 325.258 156.714 321.717 Q158.542 318.152 158.542 311.045 Q158.542 303.916 156.714 300.374 Q154.908 296.809 151.274 296.809 M151.274 293.106 Q157.084 293.106 160.14 297.712 Q163.218 302.295 163.218 311.045 Q163.218 319.772 160.14 324.379 Q157.084 328.962 151.274 328.962 Q145.464 328.962 142.385 324.379 Q139.329 319.772 139.329 311.045 Q139.329 302.295 142.385 297.712 Q145.464 293.106 151.274 293.106 Z\" fill=\"#000000\" fill-rule=\"evenodd\" fill-opacity=\"1\" /><path clip-path=\"url(#clip490)\" d=\"M 0 0 M178.288 296.809 Q174.677 296.809 172.848 300.374 Q171.042 303.916 171.042 311.045 Q171.042 318.152 172.848 321.717 Q174.677 325.258 178.288 325.258 Q181.922 325.258 183.727 321.717 Q185.556 318.152 185.556 311.045 Q185.556 303.916 183.727 300.374 Q181.922 296.809 178.288 296.809 M178.288 293.106 Q184.098 293.106 187.153 297.712 Q190.232 302.295 190.232 311.045 Q190.232 319.772 187.153 324.379 Q184.098 328.962 178.288 328.962 Q172.477 328.962 169.399 324.379 Q166.343 319.772 166.343 311.045 Q166.343 302.295 169.399 297.712 Q172.477 293.106 178.288 293.106 Z\" fill=\"#000000\" fill-rule=\"evenodd\" fill-opacity=\"1\" /><path clip-path=\"url(#clip490)\" d=\"M 0 0 M20.1444 809.563 L26.9239 809.563 Q23.9002 812.81 22.4043 816.502 Q20.9083 820.162 20.9083 824.3 Q20.9083 832.448 25.9054 836.777 Q30.8707 841.105 40.2919 841.105 Q49.6813 841.105 54.6784 836.777 Q59.6436 832.448 59.6436 824.3 Q59.6436 820.162 58.1477 816.502 Q56.6518 812.81 53.6281 809.563 L60.3439 809.563 Q62.6355 812.937 63.7814 816.725 Q64.9272 820.481 64.9272 824.682 Q64.9272 835.472 58.3387 841.678 Q51.7183 847.885 40.2919 847.885 Q28.8336 847.885 22.2451 841.678 Q15.6248 835.472 15.6248 824.682 Q15.6248 820.417 16.7706 816.661 Q17.8846 812.874 20.1444 809.563 Z\" fill=\"#000000\" fill-rule=\"evenodd\" fill-opacity=\"1\" /><path clip-path=\"url(#clip490)\" d=\"M 0 0 M14.479 783.241 L14.479 769.746 L19.0304 769.746 L19.0304 777.385 L68.0464 777.385 L68.0464 769.746 L72.5979 769.746 L72.5979 783.241 L14.479 783.241 Z\" fill=\"#000000\" fill-rule=\"evenodd\" fill-opacity=\"1\" /><path clip-path=\"url(#clip490)\" d=\"M 0 0 M35.1993 735.849 Q31.2526 733.652 29.3747 730.597 Q27.4968 727.541 27.4968 723.404 Q27.4968 717.834 31.4117 714.81 Q35.2948 711.786 42.4881 711.786 L64.0042 711.786 L64.0042 717.674 L42.679 717.674 Q37.5546 717.674 35.072 719.489 Q32.5894 721.303 32.5894 725.027 Q32.5894 729.578 35.6131 732.22 Q38.6368 734.862 43.8567 734.862 L64.0042 734.862 L64.0042 740.75 L42.679 740.75 Q37.5228 740.75 35.072 742.564 Q32.5894 744.379 32.5894 748.166 Q32.5894 752.654 35.6449 755.296 Q38.6686 757.938 43.8567 757.938 L64.0042 757.938 L64.0042 763.826 L28.3562 763.826 L28.3562 757.938 L33.8944 757.938 Q30.616 755.932 29.0564 753.131 Q27.4968 750.331 27.4968 746.479 Q27.4968 742.596 29.4702 739.891 Q31.4436 737.154 35.1993 735.849 Z\" fill=\"#000000\" fill-rule=\"evenodd\" fill-opacity=\"1\" /><path clip-path=\"url(#clip490)\" d=\"M 0 0 M45.7664 682.186 Q39.4007 682.186 35.8996 684.827 Q32.3984 687.437 32.3984 692.18 Q32.3984 696.89 35.8996 699.532 Q39.4007 702.142 45.7664 702.142 Q52.1003 702.142 55.6014 699.532 Q59.1026 696.89 59.1026 692.18 Q59.1026 687.437 55.6014 684.827 Q52.1003 682.186 45.7664 682.186 M59.58 676.329 Q68.683 676.329 73.1071 680.371 Q77.5631 684.414 77.5631 692.753 Q77.5631 695.84 77.0857 698.577 Q76.6401 701.315 75.6852 703.893 L69.9879 703.893 Q71.3884 701.315 72.0568 698.8 Q72.7252 696.286 72.7252 693.676 Q72.7252 687.915 69.7015 685.05 Q66.7096 682.186 60.6303 682.186 L57.7339 682.186 Q60.885 684 62.4446 686.833 Q64.0042 689.665 64.0042 693.612 Q64.0042 700.169 59.0071 704.179 Q54.01 708.19 45.7664 708.19 Q37.491 708.19 32.4939 704.179 Q27.4968 700.169 27.4968 693.612 Q27.4968 689.665 29.0564 686.833 Q30.616 684 33.7671 682.186 L28.3562 682.186 L28.3562 676.329 L59.58 676.329 Z\" fill=\"#000000\" fill-rule=\"evenodd\" fill-opacity=\"1\" /><path clip-path=\"url(#clip490)\" d=\"M 0 0 M16.4842 659.778 L16.4842 654.367 L70.0516 670.918 L70.0516 676.329 L16.4842 659.778 Z\" fill=\"#000000\" fill-rule=\"evenodd\" fill-opacity=\"1\" /><path clip-path=\"url(#clip490)\" d=\"M 0 0 M14.479 648.225 L14.479 642.368 L64.0042 642.368 L64.0042 648.225 L14.479 648.225 Z\" fill=\"#000000\" fill-rule=\"evenodd\" fill-opacity=\"1\" /><path clip-path=\"url(#clip490)\" d=\"M 0 0 M14.479 622.539 L72.5979 622.539 L72.5979 636.034 L68.0464 636.034 L68.0464 628.427 L19.0304 628.427 L19.0304 636.034 L14.479 636.034 L14.479 622.539 Z\" fill=\"#000000\" fill-rule=\"evenodd\" fill-opacity=\"1\" /><circle clip-path=\"url(#clip492)\" cx=\"286.417\" cy=\"86.1857\" r=\"14\" fill=\"#da70d6\" fill-rule=\"evenodd\" fill-opacity=\"1\" stroke=\"#000000\" stroke-opacity=\"1\" stroke-width=\"3.2\"/>\n",
       "<circle clip-path=\"url(#clip492)\" cx=\"397.424\" cy=\"211.888\" r=\"14\" fill=\"#da70d6\" fill-rule=\"evenodd\" fill-opacity=\"1\" stroke=\"#000000\" stroke-opacity=\"1\" stroke-width=\"3.2\"/>\n",
       "<circle clip-path=\"url(#clip492)\" cx=\"509.768\" cy=\"481.014\" r=\"14\" fill=\"#da70d6\" fill-rule=\"evenodd\" fill-opacity=\"1\" stroke=\"#000000\" stroke-opacity=\"1\" stroke-width=\"3.2\"/>\n",
       "<circle clip-path=\"url(#clip492)\" cx=\"620.776\" cy=\"760.107\" r=\"14\" fill=\"#da70d6\" fill-rule=\"evenodd\" fill-opacity=\"1\" stroke=\"#000000\" stroke-opacity=\"1\" stroke-width=\"3.2\"/>\n",
       "<circle clip-path=\"url(#clip492)\" cx=\"777.256\" cy=\"848.708\" r=\"14\" fill=\"#da70d6\" fill-rule=\"evenodd\" fill-opacity=\"1\" stroke=\"#000000\" stroke-opacity=\"1\" stroke-width=\"3.2\"/>\n",
       "<circle clip-path=\"url(#clip492)\" cx=\"999.27\" cy=\"1004.87\" r=\"14\" fill=\"#da70d6\" fill-rule=\"evenodd\" fill-opacity=\"1\" stroke=\"#000000\" stroke-opacity=\"1\" stroke-width=\"3.2\"/>\n",
       "<circle clip-path=\"url(#clip492)\" cx=\"1178.49\" cy=\"1113.4\" r=\"14\" fill=\"#da70d6\" fill-rule=\"evenodd\" fill-opacity=\"1\" stroke=\"#000000\" stroke-opacity=\"1\" stroke-width=\"3.2\"/>\n",
       "<circle clip-path=\"url(#clip492)\" cx=\"1400.5\" cy=\"1218.06\" r=\"14\" fill=\"#da70d6\" fill-rule=\"evenodd\" fill-opacity=\"1\" stroke=\"#000000\" stroke-opacity=\"1\" stroke-width=\"3.2\"/>\n",
       "<circle clip-path=\"url(#clip492)\" cx=\"1623.85\" cy=\"1292.27\" r=\"14\" fill=\"#da70d6\" fill-rule=\"evenodd\" fill-opacity=\"1\" stroke=\"#000000\" stroke-opacity=\"1\" stroke-width=\"3.2\"/>\n",
       "<circle clip-path=\"url(#clip492)\" cx=\"2065.21\" cy=\"1329.37\" r=\"14\" fill=\"#da70d6\" fill-rule=\"evenodd\" fill-opacity=\"1\" stroke=\"#000000\" stroke-opacity=\"1\" stroke-width=\"3.2\"/>\n",
       "<circle clip-path=\"url(#clip492)\" cx=\"2185.58\" cy=\"1368.13\" r=\"14\" fill=\"#da70d6\" fill-rule=\"evenodd\" fill-opacity=\"1\" stroke=\"#000000\" stroke-opacity=\"1\" stroke-width=\"3.2\"/>\n",
       "<circle clip-path=\"url(#clip492)\" cx=\"2292.57\" cy=\"1378.1\" r=\"14\" fill=\"#da70d6\" fill-rule=\"evenodd\" fill-opacity=\"1\" stroke=\"#000000\" stroke-opacity=\"1\" stroke-width=\"3.2\"/>\n",
       "<polyline clip-path=\"url(#clip492)\" style=\"stroke:#e26f46; stroke-width:4; stroke-opacity:1; fill:none\" points=\"\n",
       "  286.417,86.1857 420.16,374.653 553.904,600.664 687.648,777.74 821.391,916.478 955.135,1025.18 1088.88,1110.34 1222.62,1177.07 1356.37,1229.34 1490.11,1270.3 \n",
       "  1623.85,1302.4 1757.6,1327.54 1891.34,1347.24 2025.08,1362.67 2158.83,1374.76 2292.57,1384.24 \n",
       "  \"/>\n",
       "<polyline clip-path=\"url(#clip492)\" style=\"stroke:#3da44d; stroke-width:4; stroke-opacity:1; fill:none\" points=\"\n",
       "  286.417,86.1857 420.16,374.644 553.904,600.649 687.648,777.723 821.391,916.46 955.135,1025.16 1088.88,1110.32 1222.62,1177.05 1356.37,1229.33 1490.11,1270.29 \n",
       "  1623.85,1302.38 1757.6,1327.53 1891.34,1347.23 2025.08,1362.67 2158.83,1374.76 2292.57,1384.23 \n",
       "  \"/>\n",
       "<path clip-path=\"url(#clip490)\" d=\"\n",
       "M1588.07 335.029 L2281.87 335.029 L2281.87 93.1086 L1588.07 93.1086  Z\n",
       "  \" fill=\"#ffffff\" fill-rule=\"evenodd\" fill-opacity=\"1\"/>\n",
       "<polyline clip-path=\"url(#clip490)\" style=\"stroke:#000000; stroke-width:4; stroke-opacity:1; fill:none\" points=\"\n",
       "  1588.07,335.029 2281.87,335.029 2281.87,93.1086 1588.07,93.1086 1588.07,335.029 \n",
       "  \"/>\n",
       "<circle clip-path=\"url(#clip490)\" cx=\"1682.58\" cy=\"153.589\" r=\"23\" fill=\"#da70d6\" fill-rule=\"evenodd\" fill-opacity=\"1\" stroke=\"#000000\" stroke-opacity=\"1\" stroke-width=\"5.12\"/>\n",
       "<path clip-path=\"url(#clip490)\" d=\"M 0 0 M1777.09 144.943 L1781.35 144.943 L1786.68 165.174 L1791.98 144.943 L1797 144.943 L1802.33 165.174 L1807.63 144.943 L1811.89 144.943 L1805.1 170.869 L1800.08 170.869 L1794.5 149.619 L1788.9 170.869 L1783.88 170.869 L1777.09 144.943 Z\" fill=\"#000000\" fill-rule=\"evenodd\" fill-opacity=\"1\" /><path clip-path=\"url(#clip490)\" d=\"M 0 0 M1828.14 157.836 Q1822.97 157.836 1820.98 159.017 Q1818.99 160.197 1818.99 163.045 Q1818.99 165.313 1820.47 166.656 Q1821.98 167.975 1824.55 167.975 Q1828.09 167.975 1830.22 165.475 Q1832.37 162.952 1832.37 158.785 L1832.37 157.836 L1828.14 157.836 M1836.63 156.077 L1836.63 170.869 L1832.37 170.869 L1832.37 166.933 Q1830.91 169.295 1828.74 170.429 Q1826.56 171.54 1823.41 171.54 Q1819.43 171.54 1817.07 169.318 Q1814.73 167.072 1814.73 163.322 Q1814.73 158.947 1817.65 156.725 Q1820.59 154.503 1826.4 154.503 L1832.37 154.503 L1832.37 154.086 Q1832.37 151.147 1830.43 149.549 Q1828.51 147.929 1825.01 147.929 Q1822.79 147.929 1820.68 148.461 Q1818.58 148.994 1816.63 150.059 L1816.63 146.123 Q1818.97 145.221 1821.17 144.781 Q1823.37 144.318 1825.45 144.318 Q1831.08 144.318 1833.85 147.234 Q1836.63 150.151 1836.63 156.077 Z\" fill=\"#000000\" fill-rule=\"evenodd\" fill-opacity=\"1\" /><path clip-path=\"url(#clip490)\" d=\"M 0 0 M1856.12 148.924 Q1855.4 148.508 1854.55 148.322 Q1853.71 148.114 1852.7 148.114 Q1849.09 148.114 1847.14 150.475 Q1845.22 152.813 1845.22 157.211 L1845.22 170.869 L1840.94 170.869 L1840.94 144.943 L1845.22 144.943 L1845.22 148.971 Q1846.56 146.609 1848.71 145.475 Q1850.87 144.318 1853.95 144.318 Q1854.39 144.318 1854.92 144.387 Q1855.45 144.434 1856.1 144.549 L1856.12 148.924 Z\" fill=\"#000000\" fill-rule=\"evenodd\" fill-opacity=\"1\" /><path clip-path=\"url(#clip490)\" d=\"M 0 0 M1864.8 137.582 L1864.8 144.943 L1873.58 144.943 L1873.58 148.253 L1864.8 148.253 L1864.8 162.327 Q1864.8 165.498 1865.66 166.401 Q1866.54 167.304 1869.2 167.304 L1873.58 167.304 L1873.58 170.869 L1869.2 170.869 Q1864.27 170.869 1862.4 169.04 Q1860.52 167.188 1860.52 162.327 L1860.52 148.253 L1857.4 148.253 L1857.4 144.943 L1860.52 144.943 L1860.52 137.582 L1864.8 137.582 Z\" fill=\"#000000\" fill-rule=\"evenodd\" fill-opacity=\"1\" /><path clip-path=\"url(#clip490)\" d=\"M 0 0 M1888.09 147.929 Q1884.66 147.929 1882.67 150.614 Q1880.68 153.276 1880.68 157.929 Q1880.68 162.582 1882.65 165.267 Q1884.64 167.929 1888.09 167.929 Q1891.49 167.929 1893.48 165.244 Q1895.47 162.558 1895.47 157.929 Q1895.47 153.322 1893.48 150.637 Q1891.49 147.929 1888.09 147.929 M1888.09 144.318 Q1893.65 144.318 1896.82 147.929 Q1899.99 151.54 1899.99 157.929 Q1899.99 164.295 1896.82 167.929 Q1893.65 171.54 1888.09 171.54 Q1882.51 171.54 1879.34 167.929 Q1876.19 164.295 1876.19 157.929 Q1876.19 151.54 1879.34 147.929 Q1882.51 144.318 1888.09 144.318 Z\" fill=\"#000000\" fill-rule=\"evenodd\" fill-opacity=\"1\" /><path clip-path=\"url(#clip490)\" d=\"M 0 0 M1916.58 132.79 L1921.19 132.79 L1913.65 141.494 L1910.1 141.494 L1916.58 132.79 M1920.98 145.707 L1920.98 149.734 Q1919.18 148.809 1917.23 148.346 Q1915.29 147.883 1913.21 147.883 Q1910.03 147.883 1908.44 148.855 Q1906.86 149.827 1906.86 151.771 Q1906.86 153.253 1908 154.109 Q1909.13 154.943 1912.56 155.707 L1914.02 156.031 Q1918.55 157.003 1920.45 158.785 Q1922.37 160.545 1922.37 163.716 Q1922.37 167.327 1919.5 169.433 Q1916.65 171.54 1911.65 171.54 Q1909.57 171.54 1907.3 171.123 Q1905.06 170.73 1902.56 169.92 L1902.56 165.521 Q1904.92 166.748 1907.21 167.373 Q1909.5 167.975 1911.75 167.975 Q1914.76 167.975 1916.38 166.957 Q1918 165.915 1918 164.04 Q1918 162.304 1916.82 161.378 Q1915.66 160.452 1911.7 159.596 L1910.22 159.248 Q1906.26 158.415 1904.5 156.702 Q1902.74 154.966 1902.74 151.957 Q1902.74 148.299 1905.34 146.309 Q1907.93 144.318 1912.7 144.318 Q1915.06 144.318 1917.14 144.665 Q1919.22 145.012 1920.98 145.707 Z\" fill=\"#000000\" fill-rule=\"evenodd\" fill-opacity=\"1\" /><path clip-path=\"url(#clip490)\" d=\"M 0 0 M1945.5 145.938 L1945.5 149.92 Q1943.69 148.924 1941.86 148.438 Q1940.06 147.929 1938.21 147.929 Q1934.06 147.929 1931.77 150.568 Q1929.48 153.184 1929.48 157.929 Q1929.48 162.674 1931.77 165.313 Q1934.06 167.929 1938.21 167.929 Q1940.06 167.929 1941.86 167.443 Q1943.69 166.933 1945.5 165.938 L1945.5 169.873 Q1943.71 170.707 1941.79 171.123 Q1939.9 171.54 1937.74 171.54 Q1931.89 171.54 1928.44 167.859 Q1924.99 164.179 1924.99 157.929 Q1924.99 151.586 1928.46 147.952 Q1931.96 144.318 1938.02 144.318 Q1939.99 144.318 1941.86 144.735 Q1943.74 145.128 1945.5 145.938 Z\" fill=\"#000000\" fill-rule=\"evenodd\" fill-opacity=\"1\" /><path clip-path=\"url(#clip490)\" d=\"M 0 0 M1949.96 144.943 L1954.22 144.943 L1954.22 170.869 L1949.96 170.869 L1949.96 144.943 M1949.96 134.85 L1954.22 134.85 L1954.22 140.244 L1949.96 140.244 L1949.96 134.85 Z\" fill=\"#000000\" fill-rule=\"evenodd\" fill-opacity=\"1\" /><path clip-path=\"url(#clip490)\" d=\"M 0 0 M1993.95 149.92 Q1995.54 147.049 1997.77 145.684 Q1999.99 144.318 2003 144.318 Q2007.05 144.318 2009.25 147.165 Q2011.45 149.989 2011.45 155.221 L2011.45 170.869 L2007.16 170.869 L2007.16 155.359 Q2007.16 151.633 2005.84 149.827 Q2004.52 148.022 2001.82 148.022 Q1998.51 148.022 1996.58 150.221 Q1994.66 152.42 1994.66 156.216 L1994.66 170.869 L1990.38 170.869 L1990.38 155.359 Q1990.38 151.609 1989.06 149.827 Q1987.74 148.022 1984.99 148.022 Q1981.72 148.022 1979.8 150.244 Q1977.88 152.443 1977.88 156.216 L1977.88 170.869 L1973.6 170.869 L1973.6 144.943 L1977.88 144.943 L1977.88 148.971 Q1979.34 146.586 1981.38 145.452 Q1983.41 144.318 1986.21 144.318 Q1989.04 144.318 1991.01 145.753 Q1993 147.188 1993.95 149.92 Z\" fill=\"#000000\" fill-rule=\"evenodd\" fill-opacity=\"1\" /><path clip-path=\"url(#clip490)\" d=\"M 0 0 M2015.91 144.943 L2020.17 144.943 L2020.17 170.869 L2015.91 170.869 L2015.91 144.943 M2015.91 134.85 L2020.17 134.85 L2020.17 140.244 L2015.91 140.244 L2015.91 134.85 Z\" fill=\"#000000\" fill-rule=\"evenodd\" fill-opacity=\"1\" /><path clip-path=\"url(#clip490)\" d=\"M 0 0 M2046.82 156.841 L2046.82 158.924 L2027.23 158.924 Q2027.51 163.322 2029.87 165.637 Q2032.26 167.929 2036.49 167.929 Q2038.95 167.929 2041.24 167.327 Q2043.55 166.725 2045.82 165.521 L2045.82 169.549 Q2043.53 170.521 2041.12 171.031 Q2038.71 171.54 2036.24 171.54 Q2030.03 171.54 2026.4 167.929 Q2022.79 164.318 2022.79 158.16 Q2022.79 151.795 2026.21 148.068 Q2029.66 144.318 2035.5 144.318 Q2040.73 144.318 2043.76 147.697 Q2046.82 151.054 2046.82 156.841 M2042.56 155.591 Q2042.51 152.096 2040.59 150.012 Q2038.69 147.929 2035.54 147.929 Q2031.98 147.929 2029.83 149.943 Q2027.7 151.957 2027.37 155.614 L2042.56 155.591 Z\" fill=\"#000000\" fill-rule=\"evenodd\" fill-opacity=\"1\" /><path clip-path=\"url(#clip490)\" d=\"M 0 0 M2066.31 148.924 Q2065.59 148.508 2064.73 148.322 Q2063.9 148.114 2062.88 148.114 Q2059.27 148.114 2057.32 150.475 Q2055.4 152.813 2055.4 157.211 L2055.4 170.869 L2051.12 170.869 L2051.12 144.943 L2055.4 144.943 L2055.4 148.971 Q2056.75 146.609 2058.9 145.475 Q2061.05 144.318 2064.13 144.318 Q2064.57 144.318 2065.1 144.387 Q2065.64 144.434 2066.28 144.549 L2066.31 148.924 Z\" fill=\"#000000\" fill-rule=\"evenodd\" fill-opacity=\"1\" /><path clip-path=\"url(#clip490)\" d=\"M 0 0 M2068.92 144.943 L2089.15 144.943 L2089.15 148.832 L2073.14 167.466 L2089.15 167.466 L2089.15 170.869 L2068.34 170.869 L2068.34 166.98 L2084.36 148.346 L2068.92 148.346 L2068.92 144.943 Z\" fill=\"#000000\" fill-rule=\"evenodd\" fill-opacity=\"1\" /><path clip-path=\"url(#clip490)\" d=\"M 0 0 M2103.67 147.929 Q2100.24 147.929 2098.25 150.614 Q2096.26 153.276 2096.26 157.929 Q2096.26 162.582 2098.23 165.267 Q2100.22 167.929 2103.67 167.929 Q2107.07 167.929 2109.06 165.244 Q2111.05 162.558 2111.05 157.929 Q2111.05 153.322 2109.06 150.637 Q2107.07 147.929 2103.67 147.929 M2103.67 144.318 Q2109.22 144.318 2112.39 147.929 Q2115.57 151.54 2115.57 157.929 Q2115.57 164.295 2112.39 167.929 Q2109.22 171.54 2103.67 171.54 Q2098.09 171.54 2094.92 167.929 Q2091.77 164.295 2091.77 157.929 Q2091.77 151.54 2094.92 147.929 Q2098.09 144.318 2103.67 144.318 Z\" fill=\"#000000\" fill-rule=\"evenodd\" fill-opacity=\"1\" /><path clip-path=\"url(#clip490)\" d=\"M 0 0 M2141.58 155.221 L2141.58 170.869 L2137.32 170.869 L2137.32 155.359 Q2137.32 151.679 2135.89 149.85 Q2134.45 148.022 2131.58 148.022 Q2128.13 148.022 2126.14 150.221 Q2124.15 152.42 2124.15 156.216 L2124.15 170.869 L2119.87 170.869 L2119.87 144.943 L2124.15 144.943 L2124.15 148.971 Q2125.68 146.633 2127.74 145.475 Q2129.82 144.318 2132.53 144.318 Q2137 144.318 2139.29 147.096 Q2141.58 149.85 2141.58 155.221 Z\" fill=\"#000000\" fill-rule=\"evenodd\" fill-opacity=\"1\" /><path clip-path=\"url(#clip490)\" d=\"M 0 0 M2168.23 156.841 L2168.23 158.924 L2148.64 158.924 Q2148.92 163.322 2151.28 165.637 Q2153.67 167.929 2157.9 167.929 Q2160.36 167.929 2162.65 167.327 Q2164.96 166.725 2167.23 165.521 L2167.23 169.549 Q2164.94 170.521 2162.53 171.031 Q2160.13 171.54 2157.65 171.54 Q2151.44 171.54 2147.81 167.929 Q2144.2 164.318 2144.2 158.16 Q2144.2 151.795 2147.63 148.068 Q2151.07 144.318 2156.91 144.318 Q2162.14 144.318 2165.17 147.697 Q2168.23 151.054 2168.23 156.841 M2163.97 155.591 Q2163.92 152.096 2162 150.012 Q2160.1 147.929 2156.95 147.929 Q2153.39 147.929 2151.24 149.943 Q2149.11 151.957 2148.78 155.614 L2163.97 155.591 Z\" fill=\"#000000\" fill-rule=\"evenodd\" fill-opacity=\"1\" /><polyline clip-path=\"url(#clip490)\" style=\"stroke:#e26f46; stroke-width:4; stroke-opacity:1; fill:none\" points=\"\n",
       "  1611.7,214.069 1753.47,214.069 \n",
       "  \"/>\n",
       "<path clip-path=\"url(#clip490)\" d=\"M 0 0 M1777.09 205.423 L1781.35 205.423 L1786.68 225.654 L1791.98 205.423 L1797 205.423 L1802.33 225.654 L1807.63 205.423 L1811.89 205.423 L1805.1 231.349 L1800.08 231.349 L1794.5 210.099 L1788.9 231.349 L1783.88 231.349 L1777.09 205.423 Z\" fill=\"#000000\" fill-rule=\"evenodd\" fill-opacity=\"1\" /><path clip-path=\"url(#clip490)\" d=\"M 0 0 M1828.14 218.316 Q1822.97 218.316 1820.98 219.497 Q1818.99 220.677 1818.99 223.525 Q1818.99 225.793 1820.47 227.136 Q1821.98 228.455 1824.55 228.455 Q1828.09 228.455 1830.22 225.955 Q1832.37 223.432 1832.37 219.265 L1832.37 218.316 L1828.14 218.316 M1836.63 216.557 L1836.63 231.349 L1832.37 231.349 L1832.37 227.413 Q1830.91 229.775 1828.74 230.909 Q1826.56 232.02 1823.41 232.02 Q1819.43 232.02 1817.07 229.798 Q1814.73 227.552 1814.73 223.802 Q1814.73 219.427 1817.65 217.205 Q1820.59 214.983 1826.4 214.983 L1832.37 214.983 L1832.37 214.566 Q1832.37 211.627 1830.43 210.029 Q1828.51 208.409 1825.01 208.409 Q1822.79 208.409 1820.68 208.941 Q1818.58 209.474 1816.63 210.539 L1816.63 206.603 Q1818.97 205.701 1821.17 205.261 Q1823.37 204.798 1825.45 204.798 Q1831.08 204.798 1833.85 207.714 Q1836.63 210.631 1836.63 216.557 Z\" fill=\"#000000\" fill-rule=\"evenodd\" fill-opacity=\"1\" /><path clip-path=\"url(#clip490)\" d=\"M 0 0 M1856.12 209.404 Q1855.4 208.988 1854.55 208.802 Q1853.71 208.594 1852.7 208.594 Q1849.09 208.594 1847.14 210.955 Q1845.22 213.293 1845.22 217.691 L1845.22 231.349 L1840.94 231.349 L1840.94 205.423 L1845.22 205.423 L1845.22 209.451 Q1846.56 207.089 1848.71 205.955 Q1850.87 204.798 1853.95 204.798 Q1854.39 204.798 1854.92 204.867 Q1855.45 204.914 1856.1 205.029 L1856.12 209.404 Z\" fill=\"#000000\" fill-rule=\"evenodd\" fill-opacity=\"1\" /><path clip-path=\"url(#clip490)\" d=\"M 0 0 M1864.8 198.062 L1864.8 205.423 L1873.58 205.423 L1873.58 208.733 L1864.8 208.733 L1864.8 222.807 Q1864.8 225.978 1865.66 226.881 Q1866.54 227.784 1869.2 227.784 L1873.58 227.784 L1873.58 231.349 L1869.2 231.349 Q1864.27 231.349 1862.4 229.52 Q1860.52 227.668 1860.52 222.807 L1860.52 208.733 L1857.4 208.733 L1857.4 205.423 L1860.52 205.423 L1860.52 198.062 L1864.8 198.062 Z\" fill=\"#000000\" fill-rule=\"evenodd\" fill-opacity=\"1\" /><path clip-path=\"url(#clip490)\" d=\"M 0 0 M1888.09 208.409 Q1884.66 208.409 1882.67 211.094 Q1880.68 213.756 1880.68 218.409 Q1880.68 223.062 1882.65 225.747 Q1884.64 228.409 1888.09 228.409 Q1891.49 228.409 1893.48 225.724 Q1895.47 223.038 1895.47 218.409 Q1895.47 213.802 1893.48 211.117 Q1891.49 208.409 1888.09 208.409 M1888.09 204.798 Q1893.65 204.798 1896.82 208.409 Q1899.99 212.02 1899.99 218.409 Q1899.99 224.775 1896.82 228.409 Q1893.65 232.02 1888.09 232.02 Q1882.51 232.02 1879.34 228.409 Q1876.19 224.775 1876.19 218.409 Q1876.19 212.02 1879.34 208.409 Q1882.51 204.798 1888.09 204.798 Z\" fill=\"#000000\" fill-rule=\"evenodd\" fill-opacity=\"1\" /><path clip-path=\"url(#clip490)\" d=\"M 0 0 M1916.58 193.27 L1921.19 193.27 L1913.65 201.974 L1910.1 201.974 L1916.58 193.27 M1920.98 206.187 L1920.98 210.214 Q1919.18 209.289 1917.23 208.826 Q1915.29 208.363 1913.21 208.363 Q1910.03 208.363 1908.44 209.335 Q1906.86 210.307 1906.86 212.251 Q1906.86 213.733 1908 214.589 Q1909.13 215.423 1912.56 216.187 L1914.02 216.511 Q1918.55 217.483 1920.45 219.265 Q1922.37 221.025 1922.37 224.196 Q1922.37 227.807 1919.5 229.913 Q1916.65 232.02 1911.65 232.02 Q1909.57 232.02 1907.3 231.603 Q1905.06 231.21 1902.56 230.4 L1902.56 226.001 Q1904.92 227.228 1907.21 227.853 Q1909.5 228.455 1911.75 228.455 Q1914.76 228.455 1916.38 227.437 Q1918 226.395 1918 224.52 Q1918 222.784 1916.82 221.858 Q1915.66 220.932 1911.7 220.076 L1910.22 219.728 Q1906.26 218.895 1904.5 217.182 Q1902.74 215.446 1902.74 212.437 Q1902.74 208.779 1905.34 206.789 Q1907.93 204.798 1912.7 204.798 Q1915.06 204.798 1917.14 205.145 Q1919.22 205.492 1920.98 206.187 Z\" fill=\"#000000\" fill-rule=\"evenodd\" fill-opacity=\"1\" /><path clip-path=\"url(#clip490)\" d=\"M 0 0 M1945.5 206.418 L1945.5 210.4 Q1943.69 209.404 1941.86 208.918 Q1940.06 208.409 1938.21 208.409 Q1934.06 208.409 1931.77 211.048 Q1929.48 213.664 1929.48 218.409 Q1929.48 223.154 1931.77 225.793 Q1934.06 228.409 1938.21 228.409 Q1940.06 228.409 1941.86 227.923 Q1943.69 227.413 1945.5 226.418 L1945.5 230.353 Q1943.71 231.187 1941.79 231.603 Q1939.9 232.02 1937.74 232.02 Q1931.89 232.02 1928.44 228.339 Q1924.99 224.659 1924.99 218.409 Q1924.99 212.066 1928.46 208.432 Q1931.96 204.798 1938.02 204.798 Q1939.99 204.798 1941.86 205.215 Q1943.74 205.608 1945.5 206.418 Z\" fill=\"#000000\" fill-rule=\"evenodd\" fill-opacity=\"1\" /><path clip-path=\"url(#clip490)\" d=\"M 0 0 M1949.96 205.423 L1954.22 205.423 L1954.22 231.349 L1949.96 231.349 L1949.96 205.423 M1949.96 195.33 L1954.22 195.33 L1954.22 200.724 L1949.96 200.724 L1949.96 195.33 Z\" fill=\"#000000\" fill-rule=\"evenodd\" fill-opacity=\"1\" /><path clip-path=\"url(#clip490)\" d=\"M 0 0 M1985.54 218.316 Q1980.38 218.316 1978.39 219.497 Q1976.4 220.677 1976.4 223.525 Q1976.4 225.793 1977.88 227.136 Q1979.39 228.455 1981.96 228.455 Q1985.5 228.455 1987.63 225.955 Q1989.78 223.432 1989.78 219.265 L1989.78 218.316 L1985.54 218.316 M1994.04 216.557 L1994.04 231.349 L1989.78 231.349 L1989.78 227.413 Q1988.32 229.775 1986.14 230.909 Q1983.97 232.02 1980.82 232.02 Q1976.84 232.02 1974.48 229.798 Q1972.14 227.552 1972.14 223.802 Q1972.14 219.427 1975.06 217.205 Q1978 214.983 1983.81 214.983 L1989.78 214.983 L1989.78 214.566 Q1989.78 211.627 1987.83 210.029 Q1985.91 208.409 1982.42 208.409 Q1980.2 208.409 1978.09 208.941 Q1975.98 209.474 1974.04 210.539 L1974.04 206.603 Q1976.38 205.701 1978.58 205.261 Q1980.77 204.798 1982.86 204.798 Q1988.48 204.798 1991.26 207.714 Q1994.04 210.631 1994.04 216.557 Z\" fill=\"#000000\" fill-rule=\"evenodd\" fill-opacity=\"1\" /><path clip-path=\"url(#clip490)\" d=\"M 0 0 M2020.06 215.701 L2020.06 231.349 L2015.8 231.349 L2015.8 215.839 Q2015.8 212.159 2014.36 210.33 Q2012.93 208.502 2010.06 208.502 Q2006.61 208.502 2004.62 210.701 Q2002.63 212.9 2002.63 216.696 L2002.63 231.349 L1998.34 231.349 L1998.34 205.423 L2002.63 205.423 L2002.63 209.451 Q2004.15 207.113 2006.21 205.955 Q2008.3 204.798 2011.01 204.798 Q2015.47 204.798 2017.76 207.576 Q2020.06 210.33 2020.06 215.701 Z\" fill=\"#000000\" fill-rule=\"evenodd\" fill-opacity=\"1\" /><path clip-path=\"url(#clip490)\" d=\"M 0 0 M2036.31 218.316 Q2031.14 218.316 2029.15 219.497 Q2027.16 220.677 2027.16 223.525 Q2027.16 225.793 2028.64 227.136 Q2030.15 228.455 2032.72 228.455 Q2036.26 228.455 2038.39 225.955 Q2040.54 223.432 2040.54 219.265 L2040.54 218.316 L2036.31 218.316 M2044.8 216.557 L2044.8 231.349 L2040.54 231.349 L2040.54 227.413 Q2039.08 229.775 2036.91 230.909 Q2034.73 232.02 2031.58 232.02 Q2027.6 232.02 2025.24 229.798 Q2022.9 227.552 2022.9 223.802 Q2022.9 219.427 2025.82 217.205 Q2028.76 214.983 2034.57 214.983 L2040.54 214.983 L2040.54 214.566 Q2040.54 211.627 2038.6 210.029 Q2036.68 208.409 2033.18 208.409 Q2030.96 208.409 2028.85 208.941 Q2026.75 209.474 2024.8 210.539 L2024.8 206.603 Q2027.14 205.701 2029.34 205.261 Q2031.54 204.798 2033.62 204.798 Q2039.25 204.798 2042.02 207.714 Q2044.8 210.631 2044.8 216.557 Z\" fill=\"#000000\" fill-rule=\"evenodd\" fill-opacity=\"1\" /><path clip-path=\"url(#clip490)\" d=\"M 0 0 M2049.27 195.33 L2053.53 195.33 L2053.53 231.349 L2049.27 231.349 L2049.27 195.33 Z\" fill=\"#000000\" fill-rule=\"evenodd\" fill-opacity=\"1\" /><path clip-path=\"url(#clip490)\" d=\"M 0 0 M2058 205.423 L2062.26 205.423 L2062.26 231.349 L2058 231.349 L2058 205.423 M2058 195.33 L2062.26 195.33 L2062.26 200.724 L2058 200.724 L2058 195.33 Z\" fill=\"#000000\" fill-rule=\"evenodd\" fill-opacity=\"1\" /><path clip-path=\"url(#clip490)\" d=\"M 0 0 M2070.94 198.062 L2070.94 205.423 L2079.71 205.423 L2079.71 208.733 L2070.94 208.733 L2070.94 222.807 Q2070.94 225.978 2071.79 226.881 Q2072.67 227.784 2075.33 227.784 L2079.71 227.784 L2079.71 231.349 L2075.33 231.349 Q2070.4 231.349 2068.53 229.52 Q2066.65 227.668 2066.65 222.807 L2066.65 208.733 L2063.53 208.733 L2063.53 205.423 L2066.65 205.423 L2066.65 198.062 L2070.94 198.062 Z\" fill=\"#000000\" fill-rule=\"evenodd\" fill-opacity=\"1\" /><path clip-path=\"url(#clip490)\" d=\"M 0 0 M2094.96 233.756 Q2093.16 238.386 2091.45 239.798 Q2089.73 241.21 2086.86 241.21 L2083.46 241.21 L2083.46 237.645 L2085.96 237.645 Q2087.72 237.645 2088.69 236.812 Q2089.66 235.978 2090.84 232.876 L2091.61 230.932 L2081.12 205.423 L2085.64 205.423 L2093.74 225.701 L2101.84 205.423 L2106.35 205.423 L2094.96 233.756 Z\" fill=\"#000000\" fill-rule=\"evenodd\" fill-opacity=\"1\" /><path clip-path=\"url(#clip490)\" d=\"M 0 0 M2129.48 206.418 L2129.48 210.4 Q2127.67 209.404 2125.84 208.918 Q2124.04 208.409 2122.19 208.409 Q2118.04 208.409 2115.75 211.048 Q2113.46 213.664 2113.46 218.409 Q2113.46 223.154 2115.75 225.793 Q2118.04 228.409 2122.19 228.409 Q2124.04 228.409 2125.84 227.923 Q2127.67 227.413 2129.48 226.418 L2129.48 230.353 Q2127.69 231.187 2125.77 231.603 Q2123.88 232.02 2121.72 232.02 Q2115.87 232.02 2112.42 228.339 Q2108.97 224.659 2108.97 218.409 Q2108.97 212.066 2112.44 208.432 Q2115.94 204.798 2122 204.798 Q2123.97 204.798 2125.84 205.215 Q2127.72 205.608 2129.48 206.418 Z\" fill=\"#000000\" fill-rule=\"evenodd\" fill-opacity=\"1\" /><path clip-path=\"url(#clip490)\" d=\"M 0 0 M2132.09 205.423 L2152.32 205.423 L2152.32 209.312 L2136.31 227.946 L2152.32 227.946 L2152.32 231.349 L2131.51 231.349 L2131.51 227.46 L2147.53 208.826 L2132.09 208.826 L2132.09 205.423 Z\" fill=\"#000000\" fill-rule=\"evenodd\" fill-opacity=\"1\" /><path clip-path=\"url(#clip490)\" d=\"M 0 0 M2178.34 215.701 L2178.34 231.349 L2174.08 231.349 L2174.08 215.839 Q2174.08 212.159 2172.65 210.33 Q2171.21 208.502 2168.34 208.502 Q2164.89 208.502 2162.9 210.701 Q2160.91 212.9 2160.91 216.696 L2160.91 231.349 L2156.63 231.349 L2156.63 205.423 L2160.91 205.423 L2160.91 209.451 Q2162.44 207.113 2164.5 205.955 Q2166.58 204.798 2169.29 204.798 Q2173.76 204.798 2176.05 207.576 Q2178.34 210.33 2178.34 215.701 Z\" fill=\"#000000\" fill-rule=\"evenodd\" fill-opacity=\"1\" /><path clip-path=\"url(#clip490)\" d=\"M 0 0 M2204.99 217.321 L2204.99 219.404 L2185.4 219.404 Q2185.68 223.802 2188.04 226.117 Q2190.43 228.409 2194.66 228.409 Q2197.12 228.409 2199.41 227.807 Q2201.72 227.205 2203.99 226.001 L2203.99 230.029 Q2201.7 231.001 2199.29 231.511 Q2196.88 232.02 2194.41 232.02 Q2188.2 232.02 2184.57 228.409 Q2180.96 224.798 2180.96 218.64 Q2180.96 212.275 2184.38 208.548 Q2187.83 204.798 2193.67 204.798 Q2198.9 204.798 2201.93 208.177 Q2204.99 211.534 2204.99 217.321 M2200.73 216.071 Q2200.68 212.576 2198.76 210.492 Q2196.86 208.409 2193.71 208.409 Q2190.15 208.409 2188 210.423 Q2185.87 212.437 2185.54 216.094 L2200.73 216.071 Z\" fill=\"#000000\" fill-rule=\"evenodd\" fill-opacity=\"1\" /><polyline clip-path=\"url(#clip490)\" style=\"stroke:#3da44d; stroke-width:4; stroke-opacity:1; fill:none\" points=\"\n",
       "  1611.7,274.549 1753.47,274.549 \n",
       "  \"/>\n",
       "<path clip-path=\"url(#clip490)\" d=\"M 0 0 M1777.09 265.903 L1781.35 265.903 L1786.68 286.134 L1791.98 265.903 L1797 265.903 L1802.33 286.134 L1807.63 265.903 L1811.89 265.903 L1805.1 291.829 L1800.08 291.829 L1794.5 270.579 L1788.9 291.829 L1783.88 291.829 L1777.09 265.903 Z\" fill=\"#000000\" fill-rule=\"evenodd\" fill-opacity=\"1\" /><path clip-path=\"url(#clip490)\" d=\"M 0 0 M1828.14 278.796 Q1822.97 278.796 1820.98 279.977 Q1818.99 281.157 1818.99 284.005 Q1818.99 286.273 1820.47 287.616 Q1821.98 288.935 1824.55 288.935 Q1828.09 288.935 1830.22 286.435 Q1832.37 283.912 1832.37 279.745 L1832.37 278.796 L1828.14 278.796 M1836.63 277.037 L1836.63 291.829 L1832.37 291.829 L1832.37 287.893 Q1830.91 290.255 1828.74 291.389 Q1826.56 292.5 1823.41 292.5 Q1819.43 292.5 1817.07 290.278 Q1814.73 288.032 1814.73 284.282 Q1814.73 279.907 1817.65 277.685 Q1820.59 275.463 1826.4 275.463 L1832.37 275.463 L1832.37 275.046 Q1832.37 272.107 1830.43 270.509 Q1828.51 268.889 1825.01 268.889 Q1822.79 268.889 1820.68 269.421 Q1818.58 269.954 1816.63 271.019 L1816.63 267.083 Q1818.97 266.181 1821.17 265.741 Q1823.37 265.278 1825.45 265.278 Q1831.08 265.278 1833.85 268.194 Q1836.63 271.111 1836.63 277.037 Z\" fill=\"#000000\" fill-rule=\"evenodd\" fill-opacity=\"1\" /><path clip-path=\"url(#clip490)\" d=\"M 0 0 M1856.12 269.884 Q1855.4 269.468 1854.55 269.282 Q1853.71 269.074 1852.7 269.074 Q1849.09 269.074 1847.14 271.435 Q1845.22 273.773 1845.22 278.171 L1845.22 291.829 L1840.94 291.829 L1840.94 265.903 L1845.22 265.903 L1845.22 269.931 Q1846.56 267.569 1848.71 266.435 Q1850.87 265.278 1853.95 265.278 Q1854.39 265.278 1854.92 265.347 Q1855.45 265.394 1856.1 265.509 L1856.12 269.884 Z\" fill=\"#000000\" fill-rule=\"evenodd\" fill-opacity=\"1\" /><path clip-path=\"url(#clip490)\" d=\"M 0 0 M1864.8 258.542 L1864.8 265.903 L1873.58 265.903 L1873.58 269.213 L1864.8 269.213 L1864.8 283.287 Q1864.8 286.458 1865.66 287.361 Q1866.54 288.264 1869.2 288.264 L1873.58 288.264 L1873.58 291.829 L1869.2 291.829 Q1864.27 291.829 1862.4 290 Q1860.52 288.148 1860.52 283.287 L1860.52 269.213 L1857.4 269.213 L1857.4 265.903 L1860.52 265.903 L1860.52 258.542 L1864.8 258.542 Z\" fill=\"#000000\" fill-rule=\"evenodd\" fill-opacity=\"1\" /><path clip-path=\"url(#clip490)\" d=\"M 0 0 M1888.09 268.889 Q1884.66 268.889 1882.67 271.574 Q1880.68 274.236 1880.68 278.889 Q1880.68 283.542 1882.65 286.227 Q1884.64 288.889 1888.09 288.889 Q1891.49 288.889 1893.48 286.204 Q1895.47 283.518 1895.47 278.889 Q1895.47 274.282 1893.48 271.597 Q1891.49 268.889 1888.09 268.889 M1888.09 265.278 Q1893.65 265.278 1896.82 268.889 Q1899.99 272.5 1899.99 278.889 Q1899.99 285.255 1896.82 288.889 Q1893.65 292.5 1888.09 292.5 Q1882.51 292.5 1879.34 288.889 Q1876.19 285.255 1876.19 278.889 Q1876.19 272.5 1879.34 268.889 Q1882.51 265.278 1888.09 265.278 Z\" fill=\"#000000\" fill-rule=\"evenodd\" fill-opacity=\"1\" /><path clip-path=\"url(#clip490)\" d=\"M 0 0 M1916.58 253.75 L1921.19 253.75 L1913.65 262.454 L1910.1 262.454 L1916.58 253.75 M1920.98 266.667 L1920.98 270.694 Q1919.18 269.769 1917.23 269.306 Q1915.29 268.843 1913.21 268.843 Q1910.03 268.843 1908.44 269.815 Q1906.86 270.787 1906.86 272.731 Q1906.86 274.213 1908 275.069 Q1909.13 275.903 1912.56 276.667 L1914.02 276.991 Q1918.55 277.963 1920.45 279.745 Q1922.37 281.505 1922.37 284.676 Q1922.37 288.287 1919.5 290.393 Q1916.65 292.5 1911.65 292.5 Q1909.57 292.5 1907.3 292.083 Q1905.06 291.69 1902.56 290.88 L1902.56 286.481 Q1904.92 287.708 1907.21 288.333 Q1909.5 288.935 1911.75 288.935 Q1914.76 288.935 1916.38 287.917 Q1918 286.875 1918 285 Q1918 283.264 1916.82 282.338 Q1915.66 281.412 1911.7 280.556 L1910.22 280.208 Q1906.26 279.375 1904.5 277.662 Q1902.74 275.926 1902.74 272.917 Q1902.74 269.259 1905.34 267.269 Q1907.93 265.278 1912.7 265.278 Q1915.06 265.278 1917.14 265.625 Q1919.22 265.972 1920.98 266.667 Z\" fill=\"#000000\" fill-rule=\"evenodd\" fill-opacity=\"1\" /><path clip-path=\"url(#clip490)\" d=\"M 0 0 M1945.5 266.898 L1945.5 270.88 Q1943.69 269.884 1941.86 269.398 Q1940.06 268.889 1938.21 268.889 Q1934.06 268.889 1931.77 271.528 Q1929.48 274.144 1929.48 278.889 Q1929.48 283.634 1931.77 286.273 Q1934.06 288.889 1938.21 288.889 Q1940.06 288.889 1941.86 288.403 Q1943.69 287.893 1945.5 286.898 L1945.5 290.833 Q1943.71 291.667 1941.79 292.083 Q1939.9 292.5 1937.74 292.5 Q1931.89 292.5 1928.44 288.819 Q1924.99 285.139 1924.99 278.889 Q1924.99 272.546 1928.46 268.912 Q1931.96 265.278 1938.02 265.278 Q1939.99 265.278 1941.86 265.695 Q1943.74 266.088 1945.5 266.898 Z\" fill=\"#000000\" fill-rule=\"evenodd\" fill-opacity=\"1\" /><path clip-path=\"url(#clip490)\" d=\"M 0 0 M1949.96 265.903 L1954.22 265.903 L1954.22 291.829 L1949.96 291.829 L1949.96 265.903 M1949.96 255.81 L1954.22 255.81 L1954.22 261.204 L1949.96 261.204 L1949.96 255.81 Z\" fill=\"#000000\" fill-rule=\"evenodd\" fill-opacity=\"1\" /><path clip-path=\"url(#clip490)\" d=\"M 0 0 M1995.31 276.181 L1995.31 291.829 L1991.05 291.829 L1991.05 276.319 Q1991.05 272.639 1989.62 270.81 Q1988.18 268.982 1985.31 268.982 Q1981.86 268.982 1979.87 271.181 Q1977.88 273.38 1977.88 277.176 L1977.88 291.829 L1973.6 291.829 L1973.6 265.903 L1977.88 265.903 L1977.88 269.931 Q1979.41 267.593 1981.47 266.435 Q1983.55 265.278 1986.26 265.278 Q1990.73 265.278 1993.02 268.056 Q1995.31 270.81 1995.31 276.181 Z\" fill=\"#000000\" fill-rule=\"evenodd\" fill-opacity=\"1\" /><path clip-path=\"url(#clip490)\" d=\"M 0 0 M1999.34 281.597 L1999.34 265.903 L2003.6 265.903 L2003.6 281.435 Q2003.6 285.116 2005.03 286.968 Q2006.47 288.796 2009.34 288.796 Q2012.79 288.796 2014.78 286.597 Q2016.79 284.398 2016.79 280.602 L2016.79 265.903 L2021.05 265.903 L2021.05 291.829 L2016.79 291.829 L2016.79 287.847 Q2015.24 290.208 2013.18 291.366 Q2011.14 292.5 2008.44 292.5 Q2003.97 292.5 2001.65 289.722 Q1999.34 286.944 1999.34 281.597 M2010.06 265.278 L2010.06 265.278 Z\" fill=\"#000000\" fill-rule=\"evenodd\" fill-opacity=\"1\" /><path clip-path=\"url(#clip490)\" d=\"M 0 0 M2045.7 270.88 Q2047.3 268.009 2049.52 266.644 Q2051.75 265.278 2054.76 265.278 Q2058.81 265.278 2061.01 268.125 Q2063.2 270.949 2063.2 276.181 L2063.2 291.829 L2058.92 291.829 L2058.92 276.319 Q2058.92 272.593 2057.6 270.787 Q2056.28 268.982 2053.57 268.982 Q2050.26 268.982 2048.34 271.181 Q2046.42 273.38 2046.42 277.176 L2046.42 291.829 L2042.14 291.829 L2042.14 276.319 Q2042.14 272.569 2040.82 270.787 Q2039.5 268.982 2036.75 268.982 Q2033.48 268.982 2031.56 271.204 Q2029.64 273.403 2029.64 277.176 L2029.64 291.829 L2025.36 291.829 L2025.36 265.903 L2029.64 265.903 L2029.64 269.931 Q2031.1 267.546 2033.14 266.412 Q2035.17 265.278 2037.97 265.278 Q2040.8 265.278 2042.76 266.713 Q2044.76 268.148 2045.7 270.88 Z\" fill=\"#000000\" fill-rule=\"evenodd\" fill-opacity=\"1\" /><path clip-path=\"url(#clip490)\" d=\"M 0 0 M2089.85 277.801 L2089.85 279.884 L2070.26 279.884 Q2070.54 284.282 2072.9 286.597 Q2075.29 288.889 2079.52 288.889 Q2081.98 288.889 2084.27 288.287 Q2086.58 287.685 2088.85 286.481 L2088.85 290.509 Q2086.56 291.481 2084.15 291.991 Q2081.75 292.5 2079.27 292.5 Q2073.07 292.5 2069.43 288.889 Q2065.82 285.278 2065.82 279.12 Q2065.82 272.755 2069.25 269.028 Q2072.7 265.278 2078.53 265.278 Q2083.76 265.278 2086.79 268.657 Q2089.85 272.014 2089.85 277.801 M2085.59 276.551 Q2085.54 273.056 2083.62 270.972 Q2081.72 268.889 2078.57 268.889 Q2075.01 268.889 2072.86 270.903 Q2070.73 272.917 2070.4 276.574 L2085.59 276.551 Z\" fill=\"#000000\" fill-rule=\"evenodd\" fill-opacity=\"1\" /><path clip-path=\"url(#clip490)\" d=\"M 0 0 M2109.34 269.884 Q2108.62 269.468 2107.76 269.282 Q2106.93 269.074 2105.91 269.074 Q2102.3 269.074 2100.36 271.435 Q2098.44 273.773 2098.44 278.171 L2098.44 291.829 L2094.15 291.829 L2094.15 265.903 L2098.44 265.903 L2098.44 269.931 Q2099.78 267.569 2101.93 266.435 Q2104.08 265.278 2107.16 265.278 Q2107.6 265.278 2108.13 265.347 Q2108.67 265.394 2109.32 265.509 L2109.34 269.884 Z\" fill=\"#000000\" fill-rule=\"evenodd\" fill-opacity=\"1\" /><path clip-path=\"url(#clip490)\" d=\"M 0 0 M2124.59 294.236 Q2122.79 298.866 2121.07 300.278 Q2119.36 301.69 2116.49 301.69 L2113.09 301.69 L2113.09 298.125 L2115.59 298.125 Q2117.35 298.125 2118.32 297.292 Q2119.29 296.458 2120.47 293.356 L2121.24 291.412 L2110.75 265.903 L2115.26 265.903 L2123.37 286.181 L2131.47 265.903 L2135.98 265.903 L2124.59 294.236 Z\" fill=\"#000000\" fill-rule=\"evenodd\" fill-opacity=\"1\" /><path clip-path=\"url(#clip490)\" d=\"M 0 0 M2159.11 266.898 L2159.11 270.88 Q2157.3 269.884 2155.47 269.398 Q2153.67 268.889 2151.82 268.889 Q2147.67 268.889 2145.38 271.528 Q2143.09 274.144 2143.09 278.889 Q2143.09 283.634 2145.38 286.273 Q2147.67 288.889 2151.82 288.889 Q2153.67 288.889 2155.47 288.403 Q2157.3 287.893 2159.11 286.898 L2159.11 290.833 Q2157.32 291.667 2155.4 292.083 Q2153.51 292.5 2151.35 292.5 Q2145.5 292.5 2142.05 288.819 Q2138.6 285.139 2138.6 278.889 Q2138.6 272.546 2142.07 268.912 Q2145.57 265.278 2151.63 265.278 Q2153.6 265.278 2155.47 265.695 Q2157.35 266.088 2159.11 266.898 Z\" fill=\"#000000\" fill-rule=\"evenodd\" fill-opacity=\"1\" /><path clip-path=\"url(#clip490)\" d=\"M 0 0 M2161.72 265.903 L2181.95 265.903 L2181.95 269.792 L2165.94 288.426 L2181.95 288.426 L2181.95 291.829 L2161.14 291.829 L2161.14 287.94 L2177.16 269.306 L2161.72 269.306 L2161.72 265.903 Z\" fill=\"#000000\" fill-rule=\"evenodd\" fill-opacity=\"1\" /><path clip-path=\"url(#clip490)\" d=\"M 0 0 M2207.97 276.181 L2207.97 291.829 L2203.71 291.829 L2203.71 276.319 Q2203.71 272.639 2202.28 270.81 Q2200.84 268.982 2197.97 268.982 Q2194.52 268.982 2192.53 271.181 Q2190.54 273.38 2190.54 277.176 L2190.54 291.829 L2186.26 291.829 L2186.26 265.903 L2190.54 265.903 L2190.54 269.931 Q2192.07 267.593 2194.13 266.435 Q2196.21 265.278 2198.92 265.278 Q2203.39 265.278 2205.68 268.056 Q2207.97 270.81 2207.97 276.181 Z\" fill=\"#000000\" fill-rule=\"evenodd\" fill-opacity=\"1\" /><path clip-path=\"url(#clip490)\" d=\"M 0 0 M2234.62 277.801 L2234.62 279.884 L2215.03 279.884 Q2215.31 284.282 2217.67 286.597 Q2220.06 288.889 2224.29 288.889 Q2226.75 288.889 2229.04 288.287 Q2231.35 287.685 2233.62 286.481 L2233.62 290.509 Q2231.33 291.481 2228.92 291.991 Q2226.51 292.5 2224.04 292.5 Q2217.83 292.5 2214.2 288.889 Q2210.59 285.278 2210.59 279.12 Q2210.59 272.755 2214.01 269.028 Q2217.46 265.278 2223.3 265.278 Q2228.53 265.278 2231.56 268.657 Q2234.62 272.014 2234.62 277.801 M2230.36 276.551 Q2230.31 273.056 2228.39 270.972 Q2226.49 268.889 2223.34 268.889 Q2219.78 268.889 2217.63 270.903 Q2215.5 272.917 2215.17 276.574 L2230.36 276.551 Z\" fill=\"#000000\" fill-rule=\"evenodd\" fill-opacity=\"1\" /></svg>\n"
      ]
     },
     "execution_count": 197,
     "metadata": {},
     "output_type": "execute_result"
    }
   ],
   "source": [
    "plot!(t_step, numeric, label = \"wartości numeryczne\")"
   ]
  },
  {
   "cell_type": "markdown",
   "metadata": {},
   "source": [
    "Nasz model stanowi dobre dopasowanie w stosunku to wartości mierzalnych, zarówno wyliczając jego wartości w sposób analityczny jak i numeryczny "
   ]
  },
  {
   "cell_type": "markdown",
   "metadata": {},
   "source": [
    "Możemy obliczyć $t_{\\frac{1}{2}}$"
   ]
  },
  {
   "cell_type": "code",
   "execution_count": 198,
   "metadata": {},
   "outputs": [
    {
     "data": {
      "text/plain": [
       "0.2840163934426229"
      ]
     },
     "execution_count": 198,
     "metadata": {},
     "output_type": "execute_result"
    }
   ],
   "source": [
    "tₕ= 0.693/2.44"
   ]
  },
  {
   "cell_type": "code",
   "execution_count": 199,
   "metadata": {},
   "outputs": [
    {
     "data": {
      "image/svg+xml": [
       "<?xml version=\"1.0\" encoding=\"utf-8\"?>\n",
       "<svg xmlns=\"http://www.w3.org/2000/svg\" xmlns:xlink=\"http://www.w3.org/1999/xlink\" width=\"600\" height=\"400\" viewBox=\"0 0 2400 1600\">\n",
       "<defs>\n",
       "  <clipPath id=\"clip530\">\n",
       "    <rect x=\"0\" y=\"0\" width=\"2400\" height=\"1600\"/>\n",
       "  </clipPath>\n",
       "</defs>\n",
       "<path clip-path=\"url(#clip530)\" d=\"\n",
       "M0 1600 L2400 1600 L2400 0 L0 0  Z\n",
       "  \" fill=\"#ffffff\" fill-rule=\"evenodd\" fill-opacity=\"1\"/>\n",
       "<defs>\n",
       "  <clipPath id=\"clip531\">\n",
       "    <rect x=\"480\" y=\"0\" width=\"1681\" height=\"1600\"/>\n",
       "  </clipPath>\n",
       "</defs>\n",
       "<path clip-path=\"url(#clip530)\" d=\"\n",
       "M226.232 1423.18 L2352.76 1423.18 L2352.76 47.2441 L226.232 47.2441  Z\n",
       "  \" fill=\"#ffffff\" fill-rule=\"evenodd\" fill-opacity=\"1\"/>\n",
       "<defs>\n",
       "  <clipPath id=\"clip532\">\n",
       "    <rect x=\"226\" y=\"47\" width=\"2128\" height=\"1377\"/>\n",
       "  </clipPath>\n",
       "</defs>\n",
       "<polyline clip-path=\"url(#clip532)\" style=\"stroke:#000000; stroke-width:2; stroke-opacity:0.1; fill:none\" points=\"\n",
       "  286.417,1423.18 286.417,47.2441 \n",
       "  \"/>\n",
       "<polyline clip-path=\"url(#clip532)\" style=\"stroke:#000000; stroke-width:2; stroke-opacity:0.1; fill:none\" points=\"\n",
       "  955.135,1423.18 955.135,47.2441 \n",
       "  \"/>\n",
       "<polyline clip-path=\"url(#clip532)\" style=\"stroke:#000000; stroke-width:2; stroke-opacity:0.1; fill:none\" points=\"\n",
       "  1623.85,1423.18 1623.85,47.2441 \n",
       "  \"/>\n",
       "<polyline clip-path=\"url(#clip532)\" style=\"stroke:#000000; stroke-width:2; stroke-opacity:0.1; fill:none\" points=\"\n",
       "  2292.57,1423.18 2292.57,47.2441 \n",
       "  \"/>\n",
       "<polyline clip-path=\"url(#clip530)\" style=\"stroke:#000000; stroke-width:4; stroke-opacity:1; fill:none\" points=\"\n",
       "  226.232,1423.18 2352.76,1423.18 \n",
       "  \"/>\n",
       "<polyline clip-path=\"url(#clip530)\" style=\"stroke:#000000; stroke-width:4; stroke-opacity:1; fill:none\" points=\"\n",
       "  286.417,1423.18 286.417,1406.67 \n",
       "  \"/>\n",
       "<polyline clip-path=\"url(#clip530)\" style=\"stroke:#000000; stroke-width:4; stroke-opacity:1; fill:none\" points=\"\n",
       "  955.135,1423.18 955.135,1406.67 \n",
       "  \"/>\n",
       "<polyline clip-path=\"url(#clip530)\" style=\"stroke:#000000; stroke-width:4; stroke-opacity:1; fill:none\" points=\"\n",
       "  1623.85,1423.18 1623.85,1406.67 \n",
       "  \"/>\n",
       "<polyline clip-path=\"url(#clip530)\" style=\"stroke:#000000; stroke-width:4; stroke-opacity:1; fill:none\" points=\"\n",
       "  2292.57,1423.18 2292.57,1406.67 \n",
       "  \"/>\n",
       "<path clip-path=\"url(#clip530)\" d=\"M 0 0 M267.933 1452.37 Q264.322 1452.37 262.493 1455.94 Q260.688 1459.48 260.688 1466.61 Q260.688 1473.71 262.493 1477.28 Q264.322 1480.82 267.933 1480.82 Q271.567 1480.82 273.373 1477.28 Q275.201 1473.71 275.201 1466.61 Q275.201 1459.48 273.373 1455.94 Q271.567 1452.37 267.933 1452.37 M267.933 1448.67 Q273.743 1448.67 276.799 1453.27 Q279.877 1457.86 279.877 1466.61 Q279.877 1475.33 276.799 1479.94 Q273.743 1484.52 267.933 1484.52 Q262.123 1484.52 259.044 1479.94 Q255.989 1475.33 255.989 1466.61 Q255.989 1457.86 259.044 1453.27 Q262.123 1448.67 267.933 1448.67 Z\" fill=\"#000000\" fill-rule=\"evenodd\" fill-opacity=\"1\" /><path clip-path=\"url(#clip530)\" d=\"M 0 0 M284.947 1477.97 L289.831 1477.97 L289.831 1483.85 L284.947 1483.85 L284.947 1477.97 Z\" fill=\"#000000\" fill-rule=\"evenodd\" fill-opacity=\"1\" /><path clip-path=\"url(#clip530)\" d=\"M 0 0 M304.9 1452.37 Q301.289 1452.37 299.461 1455.94 Q297.655 1459.48 297.655 1466.61 Q297.655 1473.71 299.461 1477.28 Q301.289 1480.82 304.9 1480.82 Q308.535 1480.82 310.34 1477.28 Q312.169 1473.71 312.169 1466.61 Q312.169 1459.48 310.34 1455.94 Q308.535 1452.37 304.9 1452.37 M304.9 1448.67 Q310.71 1448.67 313.766 1453.27 Q316.845 1457.86 316.845 1466.61 Q316.845 1475.33 313.766 1479.94 Q310.71 1484.52 304.9 1484.52 Q299.09 1484.52 296.011 1479.94 Q292.956 1475.33 292.956 1466.61 Q292.956 1457.86 296.011 1453.27 Q299.09 1448.67 304.9 1448.67 Z\" fill=\"#000000\" fill-rule=\"evenodd\" fill-opacity=\"1\" /><path clip-path=\"url(#clip530)\" d=\"M 0 0 M937.149 1452.37 Q933.538 1452.37 931.709 1455.94 Q929.903 1459.48 929.903 1466.61 Q929.903 1473.71 931.709 1477.28 Q933.538 1480.82 937.149 1480.82 Q940.783 1480.82 942.589 1477.28 Q944.417 1473.71 944.417 1466.61 Q944.417 1459.48 942.589 1455.94 Q940.783 1452.37 937.149 1452.37 M937.149 1448.67 Q942.959 1448.67 946.015 1453.27 Q949.093 1457.86 949.093 1466.61 Q949.093 1475.33 946.015 1479.94 Q942.959 1484.52 937.149 1484.52 Q931.339 1484.52 928.26 1479.94 Q925.204 1475.33 925.204 1466.61 Q925.204 1457.86 928.26 1453.27 Q931.339 1448.67 937.149 1448.67 Z\" fill=\"#000000\" fill-rule=\"evenodd\" fill-opacity=\"1\" /><path clip-path=\"url(#clip530)\" d=\"M 0 0 M954.163 1477.97 L959.047 1477.97 L959.047 1483.85 L954.163 1483.85 L954.163 1477.97 Z\" fill=\"#000000\" fill-rule=\"evenodd\" fill-opacity=\"1\" /><path clip-path=\"url(#clip530)\" d=\"M 0 0 M964.163 1449.29 L982.519 1449.29 L982.519 1453.23 L968.445 1453.23 L968.445 1461.7 Q969.463 1461.35 970.482 1461.19 Q971.5 1461 972.519 1461 Q978.306 1461 981.686 1464.18 Q985.065 1467.35 985.065 1472.76 Q985.065 1478.34 981.593 1481.44 Q978.121 1484.52 971.801 1484.52 Q969.625 1484.52 967.357 1484.15 Q965.112 1483.78 962.704 1483.04 L962.704 1478.34 Q964.788 1479.48 967.01 1480.03 Q969.232 1480.59 971.709 1480.59 Q975.713 1480.59 978.051 1478.48 Q980.389 1476.38 980.389 1472.76 Q980.389 1469.15 978.051 1467.05 Q975.713 1464.94 971.709 1464.94 Q969.834 1464.94 967.959 1465.36 Q966.107 1465.77 964.163 1466.65 L964.163 1449.29 Z\" fill=\"#000000\" fill-rule=\"evenodd\" fill-opacity=\"1\" /><path clip-path=\"url(#clip530)\" d=\"M 0 0 M1595.75 1479.92 L1603.39 1479.92 L1603.39 1453.55 L1595.08 1455.22 L1595.08 1450.96 L1603.34 1449.29 L1608.02 1449.29 L1608.02 1479.92 L1615.66 1479.92 L1615.66 1483.85 L1595.75 1483.85 L1595.75 1479.92 Z\" fill=\"#000000\" fill-rule=\"evenodd\" fill-opacity=\"1\" /><path clip-path=\"url(#clip530)\" d=\"M 0 0 M1620.73 1477.97 L1625.61 1477.97 L1625.61 1483.85 L1620.73 1483.85 L1620.73 1477.97 Z\" fill=\"#000000\" fill-rule=\"evenodd\" fill-opacity=\"1\" /><path clip-path=\"url(#clip530)\" d=\"M 0 0 M1640.68 1452.37 Q1637.07 1452.37 1635.24 1455.94 Q1633.44 1459.48 1633.44 1466.61 Q1633.44 1473.71 1635.24 1477.28 Q1637.07 1480.82 1640.68 1480.82 Q1644.32 1480.82 1646.12 1477.28 Q1647.95 1473.71 1647.95 1466.61 Q1647.95 1459.48 1646.12 1455.94 Q1644.32 1452.37 1640.68 1452.37 M1640.68 1448.67 Q1646.49 1448.67 1649.55 1453.27 Q1652.63 1457.86 1652.63 1466.61 Q1652.63 1475.33 1649.55 1479.94 Q1646.49 1484.52 1640.68 1484.52 Q1634.87 1484.52 1631.79 1479.94 Q1628.74 1475.33 1628.74 1466.61 Q1628.74 1457.86 1631.79 1453.27 Q1634.87 1448.67 1640.68 1448.67 Z\" fill=\"#000000\" fill-rule=\"evenodd\" fill-opacity=\"1\" /><path clip-path=\"url(#clip530)\" d=\"M 0 0 M2264.97 1479.92 L2272.61 1479.92 L2272.61 1453.55 L2264.3 1455.22 L2264.3 1450.96 L2272.56 1449.29 L2277.24 1449.29 L2277.24 1479.92 L2284.87 1479.92 L2284.87 1483.85 L2264.97 1483.85 L2264.97 1479.92 Z\" fill=\"#000000\" fill-rule=\"evenodd\" fill-opacity=\"1\" /><path clip-path=\"url(#clip530)\" d=\"M 0 0 M2289.94 1477.97 L2294.83 1477.97 L2294.83 1483.85 L2289.94 1483.85 L2289.94 1477.97 Z\" fill=\"#000000\" fill-rule=\"evenodd\" fill-opacity=\"1\" /><path clip-path=\"url(#clip530)\" d=\"M 0 0 M2299.94 1449.29 L2318.3 1449.29 L2318.3 1453.23 L2304.23 1453.23 L2304.23 1461.7 Q2305.24 1461.35 2306.26 1461.19 Q2307.28 1461 2308.3 1461 Q2314.09 1461 2317.47 1464.18 Q2320.85 1467.35 2320.85 1472.76 Q2320.85 1478.34 2317.37 1481.44 Q2313.9 1484.52 2307.58 1484.52 Q2305.41 1484.52 2303.14 1484.15 Q2300.89 1483.78 2298.49 1483.04 L2298.49 1478.34 Q2300.57 1479.48 2302.79 1480.03 Q2305.01 1480.59 2307.49 1480.59 Q2311.49 1480.59 2313.83 1478.48 Q2316.17 1476.38 2316.17 1472.76 Q2316.17 1469.15 2313.83 1467.05 Q2311.49 1464.94 2307.49 1464.94 Q2305.62 1464.94 2303.74 1465.36 Q2301.89 1465.77 2299.94 1466.65 L2299.94 1449.29 Z\" fill=\"#000000\" fill-rule=\"evenodd\" fill-opacity=\"1\" /><path clip-path=\"url(#clip530)\" d=\"M 0 0 M1240.84 1522.27 L1240.84 1532.4 L1252.91 1532.4 L1252.91 1536.95 L1240.84 1536.95 L1240.84 1556.3 Q1240.84 1560.66 1242.02 1561.9 Q1243.23 1563.14 1246.89 1563.14 L1252.91 1563.14 L1252.91 1568.04 L1246.89 1568.04 Q1240.11 1568.04 1237.53 1565.53 Q1234.96 1562.98 1234.96 1556.3 L1234.96 1536.95 L1230.66 1536.95 L1230.66 1532.4 L1234.96 1532.4 L1234.96 1522.27 L1240.84 1522.27 Z\" fill=\"#000000\" fill-rule=\"evenodd\" fill-opacity=\"1\" /><path clip-path=\"url(#clip530)\" d=\"M 0 0 M1279.23 1518.52 L1292.72 1518.52 L1292.72 1523.07 L1285.09 1523.07 L1285.09 1572.09 L1292.72 1572.09 L1292.72 1576.64 L1279.23 1576.64 L1279.23 1518.52 Z\" fill=\"#000000\" fill-rule=\"evenodd\" fill-opacity=\"1\" /><path clip-path=\"url(#clip530)\" d=\"M 0 0 M1328.5 1546.53 L1328.5 1568.04 L1322.64 1568.04 L1322.64 1546.72 Q1322.64 1541.66 1320.67 1539.14 Q1318.7 1536.63 1314.75 1536.63 Q1310.01 1536.63 1307.27 1539.65 Q1304.53 1542.68 1304.53 1547.9 L1304.53 1568.04 L1298.64 1568.04 L1298.64 1518.52 L1304.53 1518.52 L1304.53 1537.93 Q1306.63 1534.72 1309.47 1533.13 Q1312.33 1531.54 1316.05 1531.54 Q1322.2 1531.54 1325.35 1535.36 Q1328.5 1539.14 1328.5 1546.53 Z\" fill=\"#000000\" fill-rule=\"evenodd\" fill-opacity=\"1\" /><path clip-path=\"url(#clip530)\" d=\"M 0 0 M1348.33 1518.52 L1348.33 1576.64 L1334.83 1576.64 L1334.83 1572.09 L1342.44 1572.09 L1342.44 1523.07 L1334.83 1523.07 L1334.83 1518.52 L1348.33 1518.52 Z\" fill=\"#000000\" fill-rule=\"evenodd\" fill-opacity=\"1\" /><polyline clip-path=\"url(#clip532)\" style=\"stroke:#000000; stroke-width:2; stroke-opacity:0.1; fill:none\" points=\"\n",
       "  226.232,1418.52 2352.76,1418.52 \n",
       "  \"/>\n",
       "<polyline clip-path=\"url(#clip532)\" style=\"stroke:#000000; stroke-width:2; stroke-opacity:0.1; fill:none\" points=\"\n",
       "  226.232,1141.64 2352.76,1141.64 \n",
       "  \"/>\n",
       "<polyline clip-path=\"url(#clip532)\" style=\"stroke:#000000; stroke-width:2; stroke-opacity:0.1; fill:none\" points=\"\n",
       "  226.232,864.767 2352.76,864.767 \n",
       "  \"/>\n",
       "<polyline clip-path=\"url(#clip532)\" style=\"stroke:#000000; stroke-width:2; stroke-opacity:0.1; fill:none\" points=\"\n",
       "  226.232,587.889 2352.76,587.889 \n",
       "  \"/>\n",
       "<polyline clip-path=\"url(#clip532)\" style=\"stroke:#000000; stroke-width:2; stroke-opacity:0.1; fill:none\" points=\"\n",
       "  226.232,311.011 2352.76,311.011 \n",
       "  \"/>\n",
       "<polyline clip-path=\"url(#clip530)\" style=\"stroke:#000000; stroke-width:4; stroke-opacity:1; fill:none\" points=\"\n",
       "  226.232,1423.18 226.232,47.2441 \n",
       "  \"/>\n",
       "<polyline clip-path=\"url(#clip530)\" style=\"stroke:#000000; stroke-width:4; stroke-opacity:1; fill:none\" points=\"\n",
       "  226.232,1418.52 251.75,1418.52 \n",
       "  \"/>\n",
       "<polyline clip-path=\"url(#clip530)\" style=\"stroke:#000000; stroke-width:4; stroke-opacity:1; fill:none\" points=\"\n",
       "  226.232,1141.64 251.75,1141.64 \n",
       "  \"/>\n",
       "<polyline clip-path=\"url(#clip530)\" style=\"stroke:#000000; stroke-width:4; stroke-opacity:1; fill:none\" points=\"\n",
       "  226.232,864.767 251.75,864.767 \n",
       "  \"/>\n",
       "<polyline clip-path=\"url(#clip530)\" style=\"stroke:#000000; stroke-width:4; stroke-opacity:1; fill:none\" points=\"\n",
       "  226.232,587.889 251.75,587.889 \n",
       "  \"/>\n",
       "<polyline clip-path=\"url(#clip530)\" style=\"stroke:#000000; stroke-width:4; stroke-opacity:1; fill:none\" points=\"\n",
       "  226.232,311.011 251.75,311.011 \n",
       "  \"/>\n",
       "<path clip-path=\"url(#clip530)\" d=\"M 0 0 M178.288 1404.32 Q174.677 1404.32 172.848 1407.89 Q171.042 1411.43 171.042 1418.56 Q171.042 1425.66 172.848 1429.23 Q174.677 1432.77 178.288 1432.77 Q181.922 1432.77 183.727 1429.23 Q185.556 1425.66 185.556 1418.56 Q185.556 1411.43 183.727 1407.89 Q181.922 1404.32 178.288 1404.32 M178.288 1400.62 Q184.098 1400.62 187.153 1405.22 Q190.232 1409.81 190.232 1418.56 Q190.232 1427.28 187.153 1431.89 Q184.098 1436.47 178.288 1436.47 Q172.477 1436.47 169.399 1431.89 Q166.343 1427.28 166.343 1418.56 Q166.343 1409.81 169.399 1405.22 Q172.477 1400.62 178.288 1400.62 Z\" fill=\"#000000\" fill-rule=\"evenodd\" fill-opacity=\"1\" /><path clip-path=\"url(#clip530)\" d=\"M 0 0 M142.316 1124.36 L160.672 1124.36 L160.672 1128.3 L146.598 1128.3 L146.598 1136.77 Q147.616 1136.42 148.635 1136.26 Q149.653 1136.08 150.672 1136.08 Q156.459 1136.08 159.839 1139.25 Q163.218 1142.42 163.218 1147.84 Q163.218 1153.42 159.746 1156.52 Q156.274 1159.6 149.954 1159.6 Q147.778 1159.6 145.51 1159.23 Q143.265 1158.86 140.857 1158.11 L140.857 1153.42 Q142.941 1154.55 145.163 1155.11 Q147.385 1155.66 149.862 1155.66 Q153.866 1155.66 156.204 1153.55 Q158.542 1151.45 158.542 1147.84 Q158.542 1144.23 156.204 1142.12 Q153.866 1140.01 149.862 1140.01 Q147.987 1140.01 146.112 1140.43 Q144.26 1140.85 142.316 1141.73 L142.316 1124.36 Z\" fill=\"#000000\" fill-rule=\"evenodd\" fill-opacity=\"1\" /><path clip-path=\"url(#clip530)\" d=\"M 0 0 M178.288 1127.44 Q174.677 1127.44 172.848 1131.01 Q171.042 1134.55 171.042 1141.68 Q171.042 1148.79 172.848 1152.35 Q174.677 1155.89 178.288 1155.89 Q181.922 1155.89 183.727 1152.35 Q185.556 1148.79 185.556 1141.68 Q185.556 1134.55 183.727 1131.01 Q181.922 1127.44 178.288 1127.44 M178.288 1123.74 Q184.098 1123.74 187.153 1128.35 Q190.232 1132.93 190.232 1141.68 Q190.232 1150.41 187.153 1155.01 Q184.098 1159.6 178.288 1159.6 Q172.477 1159.6 169.399 1155.01 Q166.343 1150.41 166.343 1141.68 Q166.343 1132.93 169.399 1128.35 Q172.477 1123.74 178.288 1123.74 Z\" fill=\"#000000\" fill-rule=\"evenodd\" fill-opacity=\"1\" /><path clip-path=\"url(#clip530)\" d=\"M 0 0 M116.297 878.111 L123.936 878.111 L123.936 851.746 L115.626 853.413 L115.626 849.153 L123.89 847.487 L128.566 847.487 L128.566 878.111 L136.204 878.111 L136.204 882.047 L116.297 882.047 L116.297 878.111 Z\" fill=\"#000000\" fill-rule=\"evenodd\" fill-opacity=\"1\" /><path clip-path=\"url(#clip530)\" d=\"M 0 0 M151.274 850.565 Q147.663 850.565 145.834 854.13 Q144.029 857.672 144.029 864.801 Q144.029 871.908 145.834 875.473 Q147.663 879.014 151.274 879.014 Q154.908 879.014 156.714 875.473 Q158.542 871.908 158.542 864.801 Q158.542 857.672 156.714 854.13 Q154.908 850.565 151.274 850.565 M151.274 846.862 Q157.084 846.862 160.14 851.468 Q163.218 856.051 163.218 864.801 Q163.218 873.528 160.14 878.135 Q157.084 882.718 151.274 882.718 Q145.464 882.718 142.385 878.135 Q139.329 873.528 139.329 864.801 Q139.329 856.051 142.385 851.468 Q145.464 846.862 151.274 846.862 Z\" fill=\"#000000\" fill-rule=\"evenodd\" fill-opacity=\"1\" /><path clip-path=\"url(#clip530)\" d=\"M 0 0 M178.288 850.565 Q174.677 850.565 172.848 854.13 Q171.042 857.672 171.042 864.801 Q171.042 871.908 172.848 875.473 Q174.677 879.014 178.288 879.014 Q181.922 879.014 183.727 875.473 Q185.556 871.908 185.556 864.801 Q185.556 857.672 183.727 854.13 Q181.922 850.565 178.288 850.565 M178.288 846.862 Q184.098 846.862 187.153 851.468 Q190.232 856.051 190.232 864.801 Q190.232 873.528 187.153 878.135 Q184.098 882.718 178.288 882.718 Q172.477 882.718 169.399 878.135 Q166.343 873.528 166.343 864.801 Q166.343 856.051 169.399 851.468 Q172.477 846.862 178.288 846.862 Z\" fill=\"#000000\" fill-rule=\"evenodd\" fill-opacity=\"1\" /><path clip-path=\"url(#clip530)\" d=\"M 0 0 M117.293 601.233 L124.931 601.233 L124.931 574.868 L116.621 576.535 L116.621 572.275 L124.885 570.609 L129.561 570.609 L129.561 601.233 L137.2 601.233 L137.2 605.169 L117.293 605.169 L117.293 601.233 Z\" fill=\"#000000\" fill-rule=\"evenodd\" fill-opacity=\"1\" /><path clip-path=\"url(#clip530)\" d=\"M 0 0 M142.316 570.609 L160.672 570.609 L160.672 574.544 L146.598 574.544 L146.598 583.016 Q147.616 582.669 148.635 582.507 Q149.653 582.322 150.672 582.322 Q156.459 582.322 159.839 585.493 Q163.218 588.664 163.218 594.081 Q163.218 599.659 159.746 602.761 Q156.274 605.84 149.954 605.84 Q147.778 605.84 145.51 605.47 Q143.265 605.099 140.857 604.358 L140.857 599.659 Q142.941 600.794 145.163 601.349 Q147.385 601.905 149.862 601.905 Q153.866 601.905 156.204 599.798 Q158.542 597.692 158.542 594.081 Q158.542 590.47 156.204 588.363 Q153.866 586.257 149.862 586.257 Q147.987 586.257 146.112 586.673 Q144.26 587.09 142.316 587.97 L142.316 570.609 Z\" fill=\"#000000\" fill-rule=\"evenodd\" fill-opacity=\"1\" /><path clip-path=\"url(#clip530)\" d=\"M 0 0 M178.288 573.687 Q174.677 573.687 172.848 577.252 Q171.042 580.794 171.042 587.923 Q171.042 595.03 172.848 598.595 Q174.677 602.136 178.288 602.136 Q181.922 602.136 183.727 598.595 Q185.556 595.03 185.556 587.923 Q185.556 580.794 183.727 577.252 Q181.922 573.687 178.288 573.687 M178.288 569.984 Q184.098 569.984 187.153 574.59 Q190.232 579.173 190.232 587.923 Q190.232 596.65 187.153 601.257 Q184.098 605.84 178.288 605.84 Q172.477 605.84 169.399 601.257 Q166.343 596.65 166.343 587.923 Q166.343 579.173 169.399 574.59 Q172.477 569.984 178.288 569.984 Z\" fill=\"#000000\" fill-rule=\"evenodd\" fill-opacity=\"1\" /><path clip-path=\"url(#clip530)\" d=\"M 0 0 M119.885 324.355 L136.204 324.355 L136.204 328.291 L114.26 328.291 L114.26 324.355 Q116.922 321.601 121.505 316.971 Q126.112 312.318 127.292 310.976 Q129.538 308.453 130.417 306.717 Q131.32 304.957 131.32 303.268 Q131.32 300.513 129.376 298.777 Q127.455 297.041 124.353 297.041 Q122.154 297.041 119.7 297.805 Q117.269 298.569 114.492 300.119 L114.492 295.397 Q117.316 294.263 119.769 293.684 Q122.223 293.106 124.26 293.106 Q129.63 293.106 132.825 295.791 Q136.019 298.476 136.019 302.967 Q136.019 305.096 135.209 307.018 Q134.422 308.916 132.316 311.508 Q131.737 312.18 128.635 315.397 Q125.533 318.592 119.885 324.355 Z\" fill=\"#000000\" fill-rule=\"evenodd\" fill-opacity=\"1\" /><path clip-path=\"url(#clip530)\" d=\"M 0 0 M151.274 296.809 Q147.663 296.809 145.834 300.374 Q144.029 303.916 144.029 311.045 Q144.029 318.152 145.834 321.717 Q147.663 325.258 151.274 325.258 Q154.908 325.258 156.714 321.717 Q158.542 318.152 158.542 311.045 Q158.542 303.916 156.714 300.374 Q154.908 296.809 151.274 296.809 M151.274 293.106 Q157.084 293.106 160.14 297.712 Q163.218 302.295 163.218 311.045 Q163.218 319.772 160.14 324.379 Q157.084 328.962 151.274 328.962 Q145.464 328.962 142.385 324.379 Q139.329 319.772 139.329 311.045 Q139.329 302.295 142.385 297.712 Q145.464 293.106 151.274 293.106 Z\" fill=\"#000000\" fill-rule=\"evenodd\" fill-opacity=\"1\" /><path clip-path=\"url(#clip530)\" d=\"M 0 0 M178.288 296.809 Q174.677 296.809 172.848 300.374 Q171.042 303.916 171.042 311.045 Q171.042 318.152 172.848 321.717 Q174.677 325.258 178.288 325.258 Q181.922 325.258 183.727 321.717 Q185.556 318.152 185.556 311.045 Q185.556 303.916 183.727 300.374 Q181.922 296.809 178.288 296.809 M178.288 293.106 Q184.098 293.106 187.153 297.712 Q190.232 302.295 190.232 311.045 Q190.232 319.772 187.153 324.379 Q184.098 328.962 178.288 328.962 Q172.477 328.962 169.399 324.379 Q166.343 319.772 166.343 311.045 Q166.343 302.295 169.399 297.712 Q172.477 293.106 178.288 293.106 Z\" fill=\"#000000\" fill-rule=\"evenodd\" fill-opacity=\"1\" /><path clip-path=\"url(#clip530)\" d=\"M 0 0 M20.1444 809.563 L26.9239 809.563 Q23.9002 812.81 22.4043 816.502 Q20.9083 820.162 20.9083 824.3 Q20.9083 832.448 25.9054 836.777 Q30.8707 841.105 40.2919 841.105 Q49.6813 841.105 54.6784 836.777 Q59.6436 832.448 59.6436 824.3 Q59.6436 820.162 58.1477 816.502 Q56.6518 812.81 53.6281 809.563 L60.3439 809.563 Q62.6355 812.937 63.7814 816.725 Q64.9272 820.481 64.9272 824.682 Q64.9272 835.472 58.3387 841.678 Q51.7183 847.885 40.2919 847.885 Q28.8336 847.885 22.2451 841.678 Q15.6248 835.472 15.6248 824.682 Q15.6248 820.417 16.7706 816.661 Q17.8846 812.874 20.1444 809.563 Z\" fill=\"#000000\" fill-rule=\"evenodd\" fill-opacity=\"1\" /><path clip-path=\"url(#clip530)\" d=\"M 0 0 M14.479 783.241 L14.479 769.746 L19.0304 769.746 L19.0304 777.385 L68.0464 777.385 L68.0464 769.746 L72.5979 769.746 L72.5979 783.241 L14.479 783.241 Z\" fill=\"#000000\" fill-rule=\"evenodd\" fill-opacity=\"1\" /><path clip-path=\"url(#clip530)\" d=\"M 0 0 M35.1993 735.849 Q31.2526 733.652 29.3747 730.597 Q27.4968 727.541 27.4968 723.404 Q27.4968 717.834 31.4117 714.81 Q35.2948 711.786 42.4881 711.786 L64.0042 711.786 L64.0042 717.674 L42.679 717.674 Q37.5546 717.674 35.072 719.489 Q32.5894 721.303 32.5894 725.027 Q32.5894 729.578 35.6131 732.22 Q38.6368 734.862 43.8567 734.862 L64.0042 734.862 L64.0042 740.75 L42.679 740.75 Q37.5228 740.75 35.072 742.564 Q32.5894 744.379 32.5894 748.166 Q32.5894 752.654 35.6449 755.296 Q38.6686 757.938 43.8567 757.938 L64.0042 757.938 L64.0042 763.826 L28.3562 763.826 L28.3562 757.938 L33.8944 757.938 Q30.616 755.932 29.0564 753.131 Q27.4968 750.331 27.4968 746.479 Q27.4968 742.596 29.4702 739.891 Q31.4436 737.154 35.1993 735.849 Z\" fill=\"#000000\" fill-rule=\"evenodd\" fill-opacity=\"1\" /><path clip-path=\"url(#clip530)\" d=\"M 0 0 M45.7664 682.186 Q39.4007 682.186 35.8996 684.827 Q32.3984 687.437 32.3984 692.18 Q32.3984 696.89 35.8996 699.532 Q39.4007 702.142 45.7664 702.142 Q52.1003 702.142 55.6014 699.532 Q59.1026 696.89 59.1026 692.18 Q59.1026 687.437 55.6014 684.827 Q52.1003 682.186 45.7664 682.186 M59.58 676.329 Q68.683 676.329 73.1071 680.371 Q77.5631 684.414 77.5631 692.753 Q77.5631 695.84 77.0857 698.577 Q76.6401 701.315 75.6852 703.893 L69.9879 703.893 Q71.3884 701.315 72.0568 698.8 Q72.7252 696.286 72.7252 693.676 Q72.7252 687.915 69.7015 685.05 Q66.7096 682.186 60.6303 682.186 L57.7339 682.186 Q60.885 684 62.4446 686.833 Q64.0042 689.665 64.0042 693.612 Q64.0042 700.169 59.0071 704.179 Q54.01 708.19 45.7664 708.19 Q37.491 708.19 32.4939 704.179 Q27.4968 700.169 27.4968 693.612 Q27.4968 689.665 29.0564 686.833 Q30.616 684 33.7671 682.186 L28.3562 682.186 L28.3562 676.329 L59.58 676.329 Z\" fill=\"#000000\" fill-rule=\"evenodd\" fill-opacity=\"1\" /><path clip-path=\"url(#clip530)\" d=\"M 0 0 M16.4842 659.778 L16.4842 654.367 L70.0516 670.918 L70.0516 676.329 L16.4842 659.778 Z\" fill=\"#000000\" fill-rule=\"evenodd\" fill-opacity=\"1\" /><path clip-path=\"url(#clip530)\" d=\"M 0 0 M14.479 648.225 L14.479 642.368 L64.0042 642.368 L64.0042 648.225 L14.479 648.225 Z\" fill=\"#000000\" fill-rule=\"evenodd\" fill-opacity=\"1\" /><path clip-path=\"url(#clip530)\" d=\"M 0 0 M14.479 622.539 L72.5979 622.539 L72.5979 636.034 L68.0464 636.034 L68.0464 628.427 L19.0304 628.427 L19.0304 636.034 L14.479 636.034 L14.479 622.539 Z\" fill=\"#000000\" fill-rule=\"evenodd\" fill-opacity=\"1\" /><circle clip-path=\"url(#clip532)\" cx=\"286.417\" cy=\"86.1857\" r=\"14\" fill=\"#da70d6\" fill-rule=\"evenodd\" fill-opacity=\"1\" stroke=\"#000000\" stroke-opacity=\"1\" stroke-width=\"3.2\"/>\n",
       "<circle clip-path=\"url(#clip532)\" cx=\"397.424\" cy=\"211.888\" r=\"14\" fill=\"#da70d6\" fill-rule=\"evenodd\" fill-opacity=\"1\" stroke=\"#000000\" stroke-opacity=\"1\" stroke-width=\"3.2\"/>\n",
       "<circle clip-path=\"url(#clip532)\" cx=\"509.768\" cy=\"481.014\" r=\"14\" fill=\"#da70d6\" fill-rule=\"evenodd\" fill-opacity=\"1\" stroke=\"#000000\" stroke-opacity=\"1\" stroke-width=\"3.2\"/>\n",
       "<circle clip-path=\"url(#clip532)\" cx=\"620.776\" cy=\"760.107\" r=\"14\" fill=\"#da70d6\" fill-rule=\"evenodd\" fill-opacity=\"1\" stroke=\"#000000\" stroke-opacity=\"1\" stroke-width=\"3.2\"/>\n",
       "<circle clip-path=\"url(#clip532)\" cx=\"777.256\" cy=\"848.708\" r=\"14\" fill=\"#da70d6\" fill-rule=\"evenodd\" fill-opacity=\"1\" stroke=\"#000000\" stroke-opacity=\"1\" stroke-width=\"3.2\"/>\n",
       "<circle clip-path=\"url(#clip532)\" cx=\"999.27\" cy=\"1004.87\" r=\"14\" fill=\"#da70d6\" fill-rule=\"evenodd\" fill-opacity=\"1\" stroke=\"#000000\" stroke-opacity=\"1\" stroke-width=\"3.2\"/>\n",
       "<circle clip-path=\"url(#clip532)\" cx=\"1178.49\" cy=\"1113.4\" r=\"14\" fill=\"#da70d6\" fill-rule=\"evenodd\" fill-opacity=\"1\" stroke=\"#000000\" stroke-opacity=\"1\" stroke-width=\"3.2\"/>\n",
       "<circle clip-path=\"url(#clip532)\" cx=\"1400.5\" cy=\"1218.06\" r=\"14\" fill=\"#da70d6\" fill-rule=\"evenodd\" fill-opacity=\"1\" stroke=\"#000000\" stroke-opacity=\"1\" stroke-width=\"3.2\"/>\n",
       "<circle clip-path=\"url(#clip532)\" cx=\"1623.85\" cy=\"1292.27\" r=\"14\" fill=\"#da70d6\" fill-rule=\"evenodd\" fill-opacity=\"1\" stroke=\"#000000\" stroke-opacity=\"1\" stroke-width=\"3.2\"/>\n",
       "<circle clip-path=\"url(#clip532)\" cx=\"2065.21\" cy=\"1329.37\" r=\"14\" fill=\"#da70d6\" fill-rule=\"evenodd\" fill-opacity=\"1\" stroke=\"#000000\" stroke-opacity=\"1\" stroke-width=\"3.2\"/>\n",
       "<circle clip-path=\"url(#clip532)\" cx=\"2185.58\" cy=\"1368.13\" r=\"14\" fill=\"#da70d6\" fill-rule=\"evenodd\" fill-opacity=\"1\" stroke=\"#000000\" stroke-opacity=\"1\" stroke-width=\"3.2\"/>\n",
       "<circle clip-path=\"url(#clip532)\" cx=\"2292.57\" cy=\"1378.1\" r=\"14\" fill=\"#da70d6\" fill-rule=\"evenodd\" fill-opacity=\"1\" stroke=\"#000000\" stroke-opacity=\"1\" stroke-width=\"3.2\"/>\n",
       "<polyline clip-path=\"url(#clip532)\" style=\"stroke:#e26f46; stroke-width:4; stroke-opacity:1; fill:none\" points=\"\n",
       "  286.417,86.1857 420.16,374.653 553.904,600.664 687.648,777.74 821.391,916.478 955.135,1025.18 1088.88,1110.34 1222.62,1177.07 1356.37,1229.34 1490.11,1270.3 \n",
       "  1623.85,1302.4 1757.6,1327.54 1891.34,1347.24 2025.08,1362.67 2158.83,1374.76 2292.57,1384.24 \n",
       "  \"/>\n",
       "<polyline clip-path=\"url(#clip532)\" style=\"stroke:#3da44d; stroke-width:4; stroke-opacity:1; fill:none\" points=\"\n",
       "  286.417,86.1857 420.16,374.644 553.904,600.649 687.648,777.723 821.391,916.46 955.135,1025.16 1088.88,1110.32 1222.62,1177.05 1356.37,1229.33 1490.11,1270.29 \n",
       "  1623.85,1302.38 1757.6,1327.53 1891.34,1347.23 2025.08,1362.67 2158.83,1374.76 2292.57,1384.23 \n",
       "  \"/>\n",
       "<circle clip-path=\"url(#clip532)\" cx=\"666.27\" cy=\"752.256\" r=\"18\" fill=\"#ffff00\" fill-rule=\"evenodd\" fill-opacity=\"1\" stroke=\"#000000\" stroke-opacity=\"1\" stroke-width=\"3.2\"/>\n",
       "<path clip-path=\"url(#clip530)\" d=\"\n",
       "M1588.07 395.509 L2281.87 395.509 L2281.87 93.1086 L1588.07 93.1086  Z\n",
       "  \" fill=\"#ffffff\" fill-rule=\"evenodd\" fill-opacity=\"1\"/>\n",
       "<polyline clip-path=\"url(#clip530)\" style=\"stroke:#000000; stroke-width:4; stroke-opacity:1; fill:none\" points=\"\n",
       "  1588.07,395.509 2281.87,395.509 2281.87,93.1086 1588.07,93.1086 1588.07,395.509 \n",
       "  \"/>\n",
       "<circle clip-path=\"url(#clip530)\" cx=\"1682.58\" cy=\"153.589\" r=\"23\" fill=\"#da70d6\" fill-rule=\"evenodd\" fill-opacity=\"1\" stroke=\"#000000\" stroke-opacity=\"1\" stroke-width=\"5.12\"/>\n",
       "<path clip-path=\"url(#clip530)\" d=\"M 0 0 M1777.09 144.943 L1781.35 144.943 L1786.68 165.174 L1791.98 144.943 L1797 144.943 L1802.33 165.174 L1807.63 144.943 L1811.89 144.943 L1805.1 170.869 L1800.08 170.869 L1794.5 149.619 L1788.9 170.869 L1783.88 170.869 L1777.09 144.943 Z\" fill=\"#000000\" fill-rule=\"evenodd\" fill-opacity=\"1\" /><path clip-path=\"url(#clip530)\" d=\"M 0 0 M1828.14 157.836 Q1822.97 157.836 1820.98 159.017 Q1818.99 160.197 1818.99 163.045 Q1818.99 165.313 1820.47 166.656 Q1821.98 167.975 1824.55 167.975 Q1828.09 167.975 1830.22 165.475 Q1832.37 162.952 1832.37 158.785 L1832.37 157.836 L1828.14 157.836 M1836.63 156.077 L1836.63 170.869 L1832.37 170.869 L1832.37 166.933 Q1830.91 169.295 1828.74 170.429 Q1826.56 171.54 1823.41 171.54 Q1819.43 171.54 1817.07 169.318 Q1814.73 167.072 1814.73 163.322 Q1814.73 158.947 1817.65 156.725 Q1820.59 154.503 1826.4 154.503 L1832.37 154.503 L1832.37 154.086 Q1832.37 151.147 1830.43 149.549 Q1828.51 147.929 1825.01 147.929 Q1822.79 147.929 1820.68 148.461 Q1818.58 148.994 1816.63 150.059 L1816.63 146.123 Q1818.97 145.221 1821.17 144.781 Q1823.37 144.318 1825.45 144.318 Q1831.08 144.318 1833.85 147.234 Q1836.63 150.151 1836.63 156.077 Z\" fill=\"#000000\" fill-rule=\"evenodd\" fill-opacity=\"1\" /><path clip-path=\"url(#clip530)\" d=\"M 0 0 M1856.12 148.924 Q1855.4 148.508 1854.55 148.322 Q1853.71 148.114 1852.7 148.114 Q1849.09 148.114 1847.14 150.475 Q1845.22 152.813 1845.22 157.211 L1845.22 170.869 L1840.94 170.869 L1840.94 144.943 L1845.22 144.943 L1845.22 148.971 Q1846.56 146.609 1848.71 145.475 Q1850.87 144.318 1853.95 144.318 Q1854.39 144.318 1854.92 144.387 Q1855.45 144.434 1856.1 144.549 L1856.12 148.924 Z\" fill=\"#000000\" fill-rule=\"evenodd\" fill-opacity=\"1\" /><path clip-path=\"url(#clip530)\" d=\"M 0 0 M1864.8 137.582 L1864.8 144.943 L1873.58 144.943 L1873.58 148.253 L1864.8 148.253 L1864.8 162.327 Q1864.8 165.498 1865.66 166.401 Q1866.54 167.304 1869.2 167.304 L1873.58 167.304 L1873.58 170.869 L1869.2 170.869 Q1864.27 170.869 1862.4 169.04 Q1860.52 167.188 1860.52 162.327 L1860.52 148.253 L1857.4 148.253 L1857.4 144.943 L1860.52 144.943 L1860.52 137.582 L1864.8 137.582 Z\" fill=\"#000000\" fill-rule=\"evenodd\" fill-opacity=\"1\" /><path clip-path=\"url(#clip530)\" d=\"M 0 0 M1888.09 147.929 Q1884.66 147.929 1882.67 150.614 Q1880.68 153.276 1880.68 157.929 Q1880.68 162.582 1882.65 165.267 Q1884.64 167.929 1888.09 167.929 Q1891.49 167.929 1893.48 165.244 Q1895.47 162.558 1895.47 157.929 Q1895.47 153.322 1893.48 150.637 Q1891.49 147.929 1888.09 147.929 M1888.09 144.318 Q1893.65 144.318 1896.82 147.929 Q1899.99 151.54 1899.99 157.929 Q1899.99 164.295 1896.82 167.929 Q1893.65 171.54 1888.09 171.54 Q1882.51 171.54 1879.34 167.929 Q1876.19 164.295 1876.19 157.929 Q1876.19 151.54 1879.34 147.929 Q1882.51 144.318 1888.09 144.318 Z\" fill=\"#000000\" fill-rule=\"evenodd\" fill-opacity=\"1\" /><path clip-path=\"url(#clip530)\" d=\"M 0 0 M1916.58 132.79 L1921.19 132.79 L1913.65 141.494 L1910.1 141.494 L1916.58 132.79 M1920.98 145.707 L1920.98 149.734 Q1919.18 148.809 1917.23 148.346 Q1915.29 147.883 1913.21 147.883 Q1910.03 147.883 1908.44 148.855 Q1906.86 149.827 1906.86 151.771 Q1906.86 153.253 1908 154.109 Q1909.13 154.943 1912.56 155.707 L1914.02 156.031 Q1918.55 157.003 1920.45 158.785 Q1922.37 160.545 1922.37 163.716 Q1922.37 167.327 1919.5 169.433 Q1916.65 171.54 1911.65 171.54 Q1909.57 171.54 1907.3 171.123 Q1905.06 170.73 1902.56 169.92 L1902.56 165.521 Q1904.92 166.748 1907.21 167.373 Q1909.5 167.975 1911.75 167.975 Q1914.76 167.975 1916.38 166.957 Q1918 165.915 1918 164.04 Q1918 162.304 1916.82 161.378 Q1915.66 160.452 1911.7 159.596 L1910.22 159.248 Q1906.26 158.415 1904.5 156.702 Q1902.74 154.966 1902.74 151.957 Q1902.74 148.299 1905.34 146.309 Q1907.93 144.318 1912.7 144.318 Q1915.06 144.318 1917.14 144.665 Q1919.22 145.012 1920.98 145.707 Z\" fill=\"#000000\" fill-rule=\"evenodd\" fill-opacity=\"1\" /><path clip-path=\"url(#clip530)\" d=\"M 0 0 M1945.5 145.938 L1945.5 149.92 Q1943.69 148.924 1941.86 148.438 Q1940.06 147.929 1938.21 147.929 Q1934.06 147.929 1931.77 150.568 Q1929.48 153.184 1929.48 157.929 Q1929.48 162.674 1931.77 165.313 Q1934.06 167.929 1938.21 167.929 Q1940.06 167.929 1941.86 167.443 Q1943.69 166.933 1945.5 165.938 L1945.5 169.873 Q1943.71 170.707 1941.79 171.123 Q1939.9 171.54 1937.74 171.54 Q1931.89 171.54 1928.44 167.859 Q1924.99 164.179 1924.99 157.929 Q1924.99 151.586 1928.46 147.952 Q1931.96 144.318 1938.02 144.318 Q1939.99 144.318 1941.86 144.735 Q1943.74 145.128 1945.5 145.938 Z\" fill=\"#000000\" fill-rule=\"evenodd\" fill-opacity=\"1\" /><path clip-path=\"url(#clip530)\" d=\"M 0 0 M1949.96 144.943 L1954.22 144.943 L1954.22 170.869 L1949.96 170.869 L1949.96 144.943 M1949.96 134.85 L1954.22 134.85 L1954.22 140.244 L1949.96 140.244 L1949.96 134.85 Z\" fill=\"#000000\" fill-rule=\"evenodd\" fill-opacity=\"1\" /><path clip-path=\"url(#clip530)\" d=\"M 0 0 M1993.95 149.92 Q1995.54 147.049 1997.77 145.684 Q1999.99 144.318 2003 144.318 Q2007.05 144.318 2009.25 147.165 Q2011.45 149.989 2011.45 155.221 L2011.45 170.869 L2007.16 170.869 L2007.16 155.359 Q2007.16 151.633 2005.84 149.827 Q2004.52 148.022 2001.82 148.022 Q1998.51 148.022 1996.58 150.221 Q1994.66 152.42 1994.66 156.216 L1994.66 170.869 L1990.38 170.869 L1990.38 155.359 Q1990.38 151.609 1989.06 149.827 Q1987.74 148.022 1984.99 148.022 Q1981.72 148.022 1979.8 150.244 Q1977.88 152.443 1977.88 156.216 L1977.88 170.869 L1973.6 170.869 L1973.6 144.943 L1977.88 144.943 L1977.88 148.971 Q1979.34 146.586 1981.38 145.452 Q1983.41 144.318 1986.21 144.318 Q1989.04 144.318 1991.01 145.753 Q1993 147.188 1993.95 149.92 Z\" fill=\"#000000\" fill-rule=\"evenodd\" fill-opacity=\"1\" /><path clip-path=\"url(#clip530)\" d=\"M 0 0 M2015.91 144.943 L2020.17 144.943 L2020.17 170.869 L2015.91 170.869 L2015.91 144.943 M2015.91 134.85 L2020.17 134.85 L2020.17 140.244 L2015.91 140.244 L2015.91 134.85 Z\" fill=\"#000000\" fill-rule=\"evenodd\" fill-opacity=\"1\" /><path clip-path=\"url(#clip530)\" d=\"M 0 0 M2046.82 156.841 L2046.82 158.924 L2027.23 158.924 Q2027.51 163.322 2029.87 165.637 Q2032.26 167.929 2036.49 167.929 Q2038.95 167.929 2041.24 167.327 Q2043.55 166.725 2045.82 165.521 L2045.82 169.549 Q2043.53 170.521 2041.12 171.031 Q2038.71 171.54 2036.24 171.54 Q2030.03 171.54 2026.4 167.929 Q2022.79 164.318 2022.79 158.16 Q2022.79 151.795 2026.21 148.068 Q2029.66 144.318 2035.5 144.318 Q2040.73 144.318 2043.76 147.697 Q2046.82 151.054 2046.82 156.841 M2042.56 155.591 Q2042.51 152.096 2040.59 150.012 Q2038.69 147.929 2035.54 147.929 Q2031.98 147.929 2029.83 149.943 Q2027.7 151.957 2027.37 155.614 L2042.56 155.591 Z\" fill=\"#000000\" fill-rule=\"evenodd\" fill-opacity=\"1\" /><path clip-path=\"url(#clip530)\" d=\"M 0 0 M2066.31 148.924 Q2065.59 148.508 2064.73 148.322 Q2063.9 148.114 2062.88 148.114 Q2059.27 148.114 2057.32 150.475 Q2055.4 152.813 2055.4 157.211 L2055.4 170.869 L2051.12 170.869 L2051.12 144.943 L2055.4 144.943 L2055.4 148.971 Q2056.75 146.609 2058.9 145.475 Q2061.05 144.318 2064.13 144.318 Q2064.57 144.318 2065.1 144.387 Q2065.64 144.434 2066.28 144.549 L2066.31 148.924 Z\" fill=\"#000000\" fill-rule=\"evenodd\" fill-opacity=\"1\" /><path clip-path=\"url(#clip530)\" d=\"M 0 0 M2068.92 144.943 L2089.15 144.943 L2089.15 148.832 L2073.14 167.466 L2089.15 167.466 L2089.15 170.869 L2068.34 170.869 L2068.34 166.98 L2084.36 148.346 L2068.92 148.346 L2068.92 144.943 Z\" fill=\"#000000\" fill-rule=\"evenodd\" fill-opacity=\"1\" /><path clip-path=\"url(#clip530)\" d=\"M 0 0 M2103.67 147.929 Q2100.24 147.929 2098.25 150.614 Q2096.26 153.276 2096.26 157.929 Q2096.26 162.582 2098.23 165.267 Q2100.22 167.929 2103.67 167.929 Q2107.07 167.929 2109.06 165.244 Q2111.05 162.558 2111.05 157.929 Q2111.05 153.322 2109.06 150.637 Q2107.07 147.929 2103.67 147.929 M2103.67 144.318 Q2109.22 144.318 2112.39 147.929 Q2115.57 151.54 2115.57 157.929 Q2115.57 164.295 2112.39 167.929 Q2109.22 171.54 2103.67 171.54 Q2098.09 171.54 2094.92 167.929 Q2091.77 164.295 2091.77 157.929 Q2091.77 151.54 2094.92 147.929 Q2098.09 144.318 2103.67 144.318 Z\" fill=\"#000000\" fill-rule=\"evenodd\" fill-opacity=\"1\" /><path clip-path=\"url(#clip530)\" d=\"M 0 0 M2141.58 155.221 L2141.58 170.869 L2137.32 170.869 L2137.32 155.359 Q2137.32 151.679 2135.89 149.85 Q2134.45 148.022 2131.58 148.022 Q2128.13 148.022 2126.14 150.221 Q2124.15 152.42 2124.15 156.216 L2124.15 170.869 L2119.87 170.869 L2119.87 144.943 L2124.15 144.943 L2124.15 148.971 Q2125.68 146.633 2127.74 145.475 Q2129.82 144.318 2132.53 144.318 Q2137 144.318 2139.29 147.096 Q2141.58 149.85 2141.58 155.221 Z\" fill=\"#000000\" fill-rule=\"evenodd\" fill-opacity=\"1\" /><path clip-path=\"url(#clip530)\" d=\"M 0 0 M2168.23 156.841 L2168.23 158.924 L2148.64 158.924 Q2148.92 163.322 2151.28 165.637 Q2153.67 167.929 2157.9 167.929 Q2160.36 167.929 2162.65 167.327 Q2164.96 166.725 2167.23 165.521 L2167.23 169.549 Q2164.94 170.521 2162.53 171.031 Q2160.13 171.54 2157.65 171.54 Q2151.44 171.54 2147.81 167.929 Q2144.2 164.318 2144.2 158.16 Q2144.2 151.795 2147.63 148.068 Q2151.07 144.318 2156.91 144.318 Q2162.14 144.318 2165.17 147.697 Q2168.23 151.054 2168.23 156.841 M2163.97 155.591 Q2163.92 152.096 2162 150.012 Q2160.1 147.929 2156.95 147.929 Q2153.39 147.929 2151.24 149.943 Q2149.11 151.957 2148.78 155.614 L2163.97 155.591 Z\" fill=\"#000000\" fill-rule=\"evenodd\" fill-opacity=\"1\" /><polyline clip-path=\"url(#clip530)\" style=\"stroke:#e26f46; stroke-width:4; stroke-opacity:1; fill:none\" points=\"\n",
       "  1611.7,214.069 1753.47,214.069 \n",
       "  \"/>\n",
       "<path clip-path=\"url(#clip530)\" d=\"M 0 0 M1777.09 205.423 L1781.35 205.423 L1786.68 225.654 L1791.98 205.423 L1797 205.423 L1802.33 225.654 L1807.63 205.423 L1811.89 205.423 L1805.1 231.349 L1800.08 231.349 L1794.5 210.099 L1788.9 231.349 L1783.88 231.349 L1777.09 205.423 Z\" fill=\"#000000\" fill-rule=\"evenodd\" fill-opacity=\"1\" /><path clip-path=\"url(#clip530)\" d=\"M 0 0 M1828.14 218.316 Q1822.97 218.316 1820.98 219.497 Q1818.99 220.677 1818.99 223.525 Q1818.99 225.793 1820.47 227.136 Q1821.98 228.455 1824.55 228.455 Q1828.09 228.455 1830.22 225.955 Q1832.37 223.432 1832.37 219.265 L1832.37 218.316 L1828.14 218.316 M1836.63 216.557 L1836.63 231.349 L1832.37 231.349 L1832.37 227.413 Q1830.91 229.775 1828.74 230.909 Q1826.56 232.02 1823.41 232.02 Q1819.43 232.02 1817.07 229.798 Q1814.73 227.552 1814.73 223.802 Q1814.73 219.427 1817.65 217.205 Q1820.59 214.983 1826.4 214.983 L1832.37 214.983 L1832.37 214.566 Q1832.37 211.627 1830.43 210.029 Q1828.51 208.409 1825.01 208.409 Q1822.79 208.409 1820.68 208.941 Q1818.58 209.474 1816.63 210.539 L1816.63 206.603 Q1818.97 205.701 1821.17 205.261 Q1823.37 204.798 1825.45 204.798 Q1831.08 204.798 1833.85 207.714 Q1836.63 210.631 1836.63 216.557 Z\" fill=\"#000000\" fill-rule=\"evenodd\" fill-opacity=\"1\" /><path clip-path=\"url(#clip530)\" d=\"M 0 0 M1856.12 209.404 Q1855.4 208.988 1854.55 208.802 Q1853.71 208.594 1852.7 208.594 Q1849.09 208.594 1847.14 210.955 Q1845.22 213.293 1845.22 217.691 L1845.22 231.349 L1840.94 231.349 L1840.94 205.423 L1845.22 205.423 L1845.22 209.451 Q1846.56 207.089 1848.71 205.955 Q1850.87 204.798 1853.95 204.798 Q1854.39 204.798 1854.92 204.867 Q1855.45 204.914 1856.1 205.029 L1856.12 209.404 Z\" fill=\"#000000\" fill-rule=\"evenodd\" fill-opacity=\"1\" /><path clip-path=\"url(#clip530)\" d=\"M 0 0 M1864.8 198.062 L1864.8 205.423 L1873.58 205.423 L1873.58 208.733 L1864.8 208.733 L1864.8 222.807 Q1864.8 225.978 1865.66 226.881 Q1866.54 227.784 1869.2 227.784 L1873.58 227.784 L1873.58 231.349 L1869.2 231.349 Q1864.27 231.349 1862.4 229.52 Q1860.52 227.668 1860.52 222.807 L1860.52 208.733 L1857.4 208.733 L1857.4 205.423 L1860.52 205.423 L1860.52 198.062 L1864.8 198.062 Z\" fill=\"#000000\" fill-rule=\"evenodd\" fill-opacity=\"1\" /><path clip-path=\"url(#clip530)\" d=\"M 0 0 M1888.09 208.409 Q1884.66 208.409 1882.67 211.094 Q1880.68 213.756 1880.68 218.409 Q1880.68 223.062 1882.65 225.747 Q1884.64 228.409 1888.09 228.409 Q1891.49 228.409 1893.48 225.724 Q1895.47 223.038 1895.47 218.409 Q1895.47 213.802 1893.48 211.117 Q1891.49 208.409 1888.09 208.409 M1888.09 204.798 Q1893.65 204.798 1896.82 208.409 Q1899.99 212.02 1899.99 218.409 Q1899.99 224.775 1896.82 228.409 Q1893.65 232.02 1888.09 232.02 Q1882.51 232.02 1879.34 228.409 Q1876.19 224.775 1876.19 218.409 Q1876.19 212.02 1879.34 208.409 Q1882.51 204.798 1888.09 204.798 Z\" fill=\"#000000\" fill-rule=\"evenodd\" fill-opacity=\"1\" /><path clip-path=\"url(#clip530)\" d=\"M 0 0 M1916.58 193.27 L1921.19 193.27 L1913.65 201.974 L1910.1 201.974 L1916.58 193.27 M1920.98 206.187 L1920.98 210.214 Q1919.18 209.289 1917.23 208.826 Q1915.29 208.363 1913.21 208.363 Q1910.03 208.363 1908.44 209.335 Q1906.86 210.307 1906.86 212.251 Q1906.86 213.733 1908 214.589 Q1909.13 215.423 1912.56 216.187 L1914.02 216.511 Q1918.55 217.483 1920.45 219.265 Q1922.37 221.025 1922.37 224.196 Q1922.37 227.807 1919.5 229.913 Q1916.65 232.02 1911.65 232.02 Q1909.57 232.02 1907.3 231.603 Q1905.06 231.21 1902.56 230.4 L1902.56 226.001 Q1904.92 227.228 1907.21 227.853 Q1909.5 228.455 1911.75 228.455 Q1914.76 228.455 1916.38 227.437 Q1918 226.395 1918 224.52 Q1918 222.784 1916.82 221.858 Q1915.66 220.932 1911.7 220.076 L1910.22 219.728 Q1906.26 218.895 1904.5 217.182 Q1902.74 215.446 1902.74 212.437 Q1902.74 208.779 1905.34 206.789 Q1907.93 204.798 1912.7 204.798 Q1915.06 204.798 1917.14 205.145 Q1919.22 205.492 1920.98 206.187 Z\" fill=\"#000000\" fill-rule=\"evenodd\" fill-opacity=\"1\" /><path clip-path=\"url(#clip530)\" d=\"M 0 0 M1945.5 206.418 L1945.5 210.4 Q1943.69 209.404 1941.86 208.918 Q1940.06 208.409 1938.21 208.409 Q1934.06 208.409 1931.77 211.048 Q1929.48 213.664 1929.48 218.409 Q1929.48 223.154 1931.77 225.793 Q1934.06 228.409 1938.21 228.409 Q1940.06 228.409 1941.86 227.923 Q1943.69 227.413 1945.5 226.418 L1945.5 230.353 Q1943.71 231.187 1941.79 231.603 Q1939.9 232.02 1937.74 232.02 Q1931.89 232.02 1928.44 228.339 Q1924.99 224.659 1924.99 218.409 Q1924.99 212.066 1928.46 208.432 Q1931.96 204.798 1938.02 204.798 Q1939.99 204.798 1941.86 205.215 Q1943.74 205.608 1945.5 206.418 Z\" fill=\"#000000\" fill-rule=\"evenodd\" fill-opacity=\"1\" /><path clip-path=\"url(#clip530)\" d=\"M 0 0 M1949.96 205.423 L1954.22 205.423 L1954.22 231.349 L1949.96 231.349 L1949.96 205.423 M1949.96 195.33 L1954.22 195.33 L1954.22 200.724 L1949.96 200.724 L1949.96 195.33 Z\" fill=\"#000000\" fill-rule=\"evenodd\" fill-opacity=\"1\" /><path clip-path=\"url(#clip530)\" d=\"M 0 0 M1985.54 218.316 Q1980.38 218.316 1978.39 219.497 Q1976.4 220.677 1976.4 223.525 Q1976.4 225.793 1977.88 227.136 Q1979.39 228.455 1981.96 228.455 Q1985.5 228.455 1987.63 225.955 Q1989.78 223.432 1989.78 219.265 L1989.78 218.316 L1985.54 218.316 M1994.04 216.557 L1994.04 231.349 L1989.78 231.349 L1989.78 227.413 Q1988.32 229.775 1986.14 230.909 Q1983.97 232.02 1980.82 232.02 Q1976.84 232.02 1974.48 229.798 Q1972.14 227.552 1972.14 223.802 Q1972.14 219.427 1975.06 217.205 Q1978 214.983 1983.81 214.983 L1989.78 214.983 L1989.78 214.566 Q1989.78 211.627 1987.83 210.029 Q1985.91 208.409 1982.42 208.409 Q1980.2 208.409 1978.09 208.941 Q1975.98 209.474 1974.04 210.539 L1974.04 206.603 Q1976.38 205.701 1978.58 205.261 Q1980.77 204.798 1982.86 204.798 Q1988.48 204.798 1991.26 207.714 Q1994.04 210.631 1994.04 216.557 Z\" fill=\"#000000\" fill-rule=\"evenodd\" fill-opacity=\"1\" /><path clip-path=\"url(#clip530)\" d=\"M 0 0 M2020.06 215.701 L2020.06 231.349 L2015.8 231.349 L2015.8 215.839 Q2015.8 212.159 2014.36 210.33 Q2012.93 208.502 2010.06 208.502 Q2006.61 208.502 2004.62 210.701 Q2002.63 212.9 2002.63 216.696 L2002.63 231.349 L1998.34 231.349 L1998.34 205.423 L2002.63 205.423 L2002.63 209.451 Q2004.15 207.113 2006.21 205.955 Q2008.3 204.798 2011.01 204.798 Q2015.47 204.798 2017.76 207.576 Q2020.06 210.33 2020.06 215.701 Z\" fill=\"#000000\" fill-rule=\"evenodd\" fill-opacity=\"1\" /><path clip-path=\"url(#clip530)\" d=\"M 0 0 M2036.31 218.316 Q2031.14 218.316 2029.15 219.497 Q2027.16 220.677 2027.16 223.525 Q2027.16 225.793 2028.64 227.136 Q2030.15 228.455 2032.72 228.455 Q2036.26 228.455 2038.39 225.955 Q2040.54 223.432 2040.54 219.265 L2040.54 218.316 L2036.31 218.316 M2044.8 216.557 L2044.8 231.349 L2040.54 231.349 L2040.54 227.413 Q2039.08 229.775 2036.91 230.909 Q2034.73 232.02 2031.58 232.02 Q2027.6 232.02 2025.24 229.798 Q2022.9 227.552 2022.9 223.802 Q2022.9 219.427 2025.82 217.205 Q2028.76 214.983 2034.57 214.983 L2040.54 214.983 L2040.54 214.566 Q2040.54 211.627 2038.6 210.029 Q2036.68 208.409 2033.18 208.409 Q2030.96 208.409 2028.85 208.941 Q2026.75 209.474 2024.8 210.539 L2024.8 206.603 Q2027.14 205.701 2029.34 205.261 Q2031.54 204.798 2033.62 204.798 Q2039.25 204.798 2042.02 207.714 Q2044.8 210.631 2044.8 216.557 Z\" fill=\"#000000\" fill-rule=\"evenodd\" fill-opacity=\"1\" /><path clip-path=\"url(#clip530)\" d=\"M 0 0 M2049.27 195.33 L2053.53 195.33 L2053.53 231.349 L2049.27 231.349 L2049.27 195.33 Z\" fill=\"#000000\" fill-rule=\"evenodd\" fill-opacity=\"1\" /><path clip-path=\"url(#clip530)\" d=\"M 0 0 M2058 205.423 L2062.26 205.423 L2062.26 231.349 L2058 231.349 L2058 205.423 M2058 195.33 L2062.26 195.33 L2062.26 200.724 L2058 200.724 L2058 195.33 Z\" fill=\"#000000\" fill-rule=\"evenodd\" fill-opacity=\"1\" /><path clip-path=\"url(#clip530)\" d=\"M 0 0 M2070.94 198.062 L2070.94 205.423 L2079.71 205.423 L2079.71 208.733 L2070.94 208.733 L2070.94 222.807 Q2070.94 225.978 2071.79 226.881 Q2072.67 227.784 2075.33 227.784 L2079.71 227.784 L2079.71 231.349 L2075.33 231.349 Q2070.4 231.349 2068.53 229.52 Q2066.65 227.668 2066.65 222.807 L2066.65 208.733 L2063.53 208.733 L2063.53 205.423 L2066.65 205.423 L2066.65 198.062 L2070.94 198.062 Z\" fill=\"#000000\" fill-rule=\"evenodd\" fill-opacity=\"1\" /><path clip-path=\"url(#clip530)\" d=\"M 0 0 M2094.96 233.756 Q2093.16 238.386 2091.45 239.798 Q2089.73 241.21 2086.86 241.21 L2083.46 241.21 L2083.46 237.645 L2085.96 237.645 Q2087.72 237.645 2088.69 236.812 Q2089.66 235.978 2090.84 232.876 L2091.61 230.932 L2081.12 205.423 L2085.64 205.423 L2093.74 225.701 L2101.84 205.423 L2106.35 205.423 L2094.96 233.756 Z\" fill=\"#000000\" fill-rule=\"evenodd\" fill-opacity=\"1\" /><path clip-path=\"url(#clip530)\" d=\"M 0 0 M2129.48 206.418 L2129.48 210.4 Q2127.67 209.404 2125.84 208.918 Q2124.04 208.409 2122.19 208.409 Q2118.04 208.409 2115.75 211.048 Q2113.46 213.664 2113.46 218.409 Q2113.46 223.154 2115.75 225.793 Q2118.04 228.409 2122.19 228.409 Q2124.04 228.409 2125.84 227.923 Q2127.67 227.413 2129.48 226.418 L2129.48 230.353 Q2127.69 231.187 2125.77 231.603 Q2123.88 232.02 2121.72 232.02 Q2115.87 232.02 2112.42 228.339 Q2108.97 224.659 2108.97 218.409 Q2108.97 212.066 2112.44 208.432 Q2115.94 204.798 2122 204.798 Q2123.97 204.798 2125.84 205.215 Q2127.72 205.608 2129.48 206.418 Z\" fill=\"#000000\" fill-rule=\"evenodd\" fill-opacity=\"1\" /><path clip-path=\"url(#clip530)\" d=\"M 0 0 M2132.09 205.423 L2152.32 205.423 L2152.32 209.312 L2136.31 227.946 L2152.32 227.946 L2152.32 231.349 L2131.51 231.349 L2131.51 227.46 L2147.53 208.826 L2132.09 208.826 L2132.09 205.423 Z\" fill=\"#000000\" fill-rule=\"evenodd\" fill-opacity=\"1\" /><path clip-path=\"url(#clip530)\" d=\"M 0 0 M2178.34 215.701 L2178.34 231.349 L2174.08 231.349 L2174.08 215.839 Q2174.08 212.159 2172.65 210.33 Q2171.21 208.502 2168.34 208.502 Q2164.89 208.502 2162.9 210.701 Q2160.91 212.9 2160.91 216.696 L2160.91 231.349 L2156.63 231.349 L2156.63 205.423 L2160.91 205.423 L2160.91 209.451 Q2162.44 207.113 2164.5 205.955 Q2166.58 204.798 2169.29 204.798 Q2173.76 204.798 2176.05 207.576 Q2178.34 210.33 2178.34 215.701 Z\" fill=\"#000000\" fill-rule=\"evenodd\" fill-opacity=\"1\" /><path clip-path=\"url(#clip530)\" d=\"M 0 0 M2204.99 217.321 L2204.99 219.404 L2185.4 219.404 Q2185.68 223.802 2188.04 226.117 Q2190.43 228.409 2194.66 228.409 Q2197.12 228.409 2199.41 227.807 Q2201.72 227.205 2203.99 226.001 L2203.99 230.029 Q2201.7 231.001 2199.29 231.511 Q2196.88 232.02 2194.41 232.02 Q2188.2 232.02 2184.57 228.409 Q2180.96 224.798 2180.96 218.64 Q2180.96 212.275 2184.38 208.548 Q2187.83 204.798 2193.67 204.798 Q2198.9 204.798 2201.93 208.177 Q2204.99 211.534 2204.99 217.321 M2200.73 216.071 Q2200.68 212.576 2198.76 210.492 Q2196.86 208.409 2193.71 208.409 Q2190.15 208.409 2188 210.423 Q2185.87 212.437 2185.54 216.094 L2200.73 216.071 Z\" fill=\"#000000\" fill-rule=\"evenodd\" fill-opacity=\"1\" /><polyline clip-path=\"url(#clip530)\" style=\"stroke:#3da44d; stroke-width:4; stroke-opacity:1; fill:none\" points=\"\n",
       "  1611.7,274.549 1753.47,274.549 \n",
       "  \"/>\n",
       "<path clip-path=\"url(#clip530)\" d=\"M 0 0 M1777.09 265.903 L1781.35 265.903 L1786.68 286.134 L1791.98 265.903 L1797 265.903 L1802.33 286.134 L1807.63 265.903 L1811.89 265.903 L1805.1 291.829 L1800.08 291.829 L1794.5 270.579 L1788.9 291.829 L1783.88 291.829 L1777.09 265.903 Z\" fill=\"#000000\" fill-rule=\"evenodd\" fill-opacity=\"1\" /><path clip-path=\"url(#clip530)\" d=\"M 0 0 M1828.14 278.796 Q1822.97 278.796 1820.98 279.977 Q1818.99 281.157 1818.99 284.005 Q1818.99 286.273 1820.47 287.616 Q1821.98 288.935 1824.55 288.935 Q1828.09 288.935 1830.22 286.435 Q1832.37 283.912 1832.37 279.745 L1832.37 278.796 L1828.14 278.796 M1836.63 277.037 L1836.63 291.829 L1832.37 291.829 L1832.37 287.893 Q1830.91 290.255 1828.74 291.389 Q1826.56 292.5 1823.41 292.5 Q1819.43 292.5 1817.07 290.278 Q1814.73 288.032 1814.73 284.282 Q1814.73 279.907 1817.65 277.685 Q1820.59 275.463 1826.4 275.463 L1832.37 275.463 L1832.37 275.046 Q1832.37 272.107 1830.43 270.509 Q1828.51 268.889 1825.01 268.889 Q1822.79 268.889 1820.68 269.421 Q1818.58 269.954 1816.63 271.019 L1816.63 267.083 Q1818.97 266.181 1821.17 265.741 Q1823.37 265.278 1825.45 265.278 Q1831.08 265.278 1833.85 268.194 Q1836.63 271.111 1836.63 277.037 Z\" fill=\"#000000\" fill-rule=\"evenodd\" fill-opacity=\"1\" /><path clip-path=\"url(#clip530)\" d=\"M 0 0 M1856.12 269.884 Q1855.4 269.468 1854.55 269.282 Q1853.71 269.074 1852.7 269.074 Q1849.09 269.074 1847.14 271.435 Q1845.22 273.773 1845.22 278.171 L1845.22 291.829 L1840.94 291.829 L1840.94 265.903 L1845.22 265.903 L1845.22 269.931 Q1846.56 267.569 1848.71 266.435 Q1850.87 265.278 1853.95 265.278 Q1854.39 265.278 1854.92 265.347 Q1855.45 265.394 1856.1 265.509 L1856.12 269.884 Z\" fill=\"#000000\" fill-rule=\"evenodd\" fill-opacity=\"1\" /><path clip-path=\"url(#clip530)\" d=\"M 0 0 M1864.8 258.542 L1864.8 265.903 L1873.58 265.903 L1873.58 269.213 L1864.8 269.213 L1864.8 283.287 Q1864.8 286.458 1865.66 287.361 Q1866.54 288.264 1869.2 288.264 L1873.58 288.264 L1873.58 291.829 L1869.2 291.829 Q1864.27 291.829 1862.4 290 Q1860.52 288.148 1860.52 283.287 L1860.52 269.213 L1857.4 269.213 L1857.4 265.903 L1860.52 265.903 L1860.52 258.542 L1864.8 258.542 Z\" fill=\"#000000\" fill-rule=\"evenodd\" fill-opacity=\"1\" /><path clip-path=\"url(#clip530)\" d=\"M 0 0 M1888.09 268.889 Q1884.66 268.889 1882.67 271.574 Q1880.68 274.236 1880.68 278.889 Q1880.68 283.542 1882.65 286.227 Q1884.64 288.889 1888.09 288.889 Q1891.49 288.889 1893.48 286.204 Q1895.47 283.518 1895.47 278.889 Q1895.47 274.282 1893.48 271.597 Q1891.49 268.889 1888.09 268.889 M1888.09 265.278 Q1893.65 265.278 1896.82 268.889 Q1899.99 272.5 1899.99 278.889 Q1899.99 285.255 1896.82 288.889 Q1893.65 292.5 1888.09 292.5 Q1882.51 292.5 1879.34 288.889 Q1876.19 285.255 1876.19 278.889 Q1876.19 272.5 1879.34 268.889 Q1882.51 265.278 1888.09 265.278 Z\" fill=\"#000000\" fill-rule=\"evenodd\" fill-opacity=\"1\" /><path clip-path=\"url(#clip530)\" d=\"M 0 0 M1916.58 253.75 L1921.19 253.75 L1913.65 262.454 L1910.1 262.454 L1916.58 253.75 M1920.98 266.667 L1920.98 270.694 Q1919.18 269.769 1917.23 269.306 Q1915.29 268.843 1913.21 268.843 Q1910.03 268.843 1908.44 269.815 Q1906.86 270.787 1906.86 272.731 Q1906.86 274.213 1908 275.069 Q1909.13 275.903 1912.56 276.667 L1914.02 276.991 Q1918.55 277.963 1920.45 279.745 Q1922.37 281.505 1922.37 284.676 Q1922.37 288.287 1919.5 290.393 Q1916.65 292.5 1911.65 292.5 Q1909.57 292.5 1907.3 292.083 Q1905.06 291.69 1902.56 290.88 L1902.56 286.481 Q1904.92 287.708 1907.21 288.333 Q1909.5 288.935 1911.75 288.935 Q1914.76 288.935 1916.38 287.917 Q1918 286.875 1918 285 Q1918 283.264 1916.82 282.338 Q1915.66 281.412 1911.7 280.556 L1910.22 280.208 Q1906.26 279.375 1904.5 277.662 Q1902.74 275.926 1902.74 272.917 Q1902.74 269.259 1905.34 267.269 Q1907.93 265.278 1912.7 265.278 Q1915.06 265.278 1917.14 265.625 Q1919.22 265.972 1920.98 266.667 Z\" fill=\"#000000\" fill-rule=\"evenodd\" fill-opacity=\"1\" /><path clip-path=\"url(#clip530)\" d=\"M 0 0 M1945.5 266.898 L1945.5 270.88 Q1943.69 269.884 1941.86 269.398 Q1940.06 268.889 1938.21 268.889 Q1934.06 268.889 1931.77 271.528 Q1929.48 274.144 1929.48 278.889 Q1929.48 283.634 1931.77 286.273 Q1934.06 288.889 1938.21 288.889 Q1940.06 288.889 1941.86 288.403 Q1943.69 287.893 1945.5 286.898 L1945.5 290.833 Q1943.71 291.667 1941.79 292.083 Q1939.9 292.5 1937.74 292.5 Q1931.89 292.5 1928.44 288.819 Q1924.99 285.139 1924.99 278.889 Q1924.99 272.546 1928.46 268.912 Q1931.96 265.278 1938.02 265.278 Q1939.99 265.278 1941.86 265.695 Q1943.74 266.088 1945.5 266.898 Z\" fill=\"#000000\" fill-rule=\"evenodd\" fill-opacity=\"1\" /><path clip-path=\"url(#clip530)\" d=\"M 0 0 M1949.96 265.903 L1954.22 265.903 L1954.22 291.829 L1949.96 291.829 L1949.96 265.903 M1949.96 255.81 L1954.22 255.81 L1954.22 261.204 L1949.96 261.204 L1949.96 255.81 Z\" fill=\"#000000\" fill-rule=\"evenodd\" fill-opacity=\"1\" /><path clip-path=\"url(#clip530)\" d=\"M 0 0 M1995.31 276.181 L1995.31 291.829 L1991.05 291.829 L1991.05 276.319 Q1991.05 272.639 1989.62 270.81 Q1988.18 268.982 1985.31 268.982 Q1981.86 268.982 1979.87 271.181 Q1977.88 273.38 1977.88 277.176 L1977.88 291.829 L1973.6 291.829 L1973.6 265.903 L1977.88 265.903 L1977.88 269.931 Q1979.41 267.593 1981.47 266.435 Q1983.55 265.278 1986.26 265.278 Q1990.73 265.278 1993.02 268.056 Q1995.31 270.81 1995.31 276.181 Z\" fill=\"#000000\" fill-rule=\"evenodd\" fill-opacity=\"1\" /><path clip-path=\"url(#clip530)\" d=\"M 0 0 M1999.34 281.597 L1999.34 265.903 L2003.6 265.903 L2003.6 281.435 Q2003.6 285.116 2005.03 286.968 Q2006.47 288.796 2009.34 288.796 Q2012.79 288.796 2014.78 286.597 Q2016.79 284.398 2016.79 280.602 L2016.79 265.903 L2021.05 265.903 L2021.05 291.829 L2016.79 291.829 L2016.79 287.847 Q2015.24 290.208 2013.18 291.366 Q2011.14 292.5 2008.44 292.5 Q2003.97 292.5 2001.65 289.722 Q1999.34 286.944 1999.34 281.597 M2010.06 265.278 L2010.06 265.278 Z\" fill=\"#000000\" fill-rule=\"evenodd\" fill-opacity=\"1\" /><path clip-path=\"url(#clip530)\" d=\"M 0 0 M2045.7 270.88 Q2047.3 268.009 2049.52 266.644 Q2051.75 265.278 2054.76 265.278 Q2058.81 265.278 2061.01 268.125 Q2063.2 270.949 2063.2 276.181 L2063.2 291.829 L2058.92 291.829 L2058.92 276.319 Q2058.92 272.593 2057.6 270.787 Q2056.28 268.982 2053.57 268.982 Q2050.26 268.982 2048.34 271.181 Q2046.42 273.38 2046.42 277.176 L2046.42 291.829 L2042.14 291.829 L2042.14 276.319 Q2042.14 272.569 2040.82 270.787 Q2039.5 268.982 2036.75 268.982 Q2033.48 268.982 2031.56 271.204 Q2029.64 273.403 2029.64 277.176 L2029.64 291.829 L2025.36 291.829 L2025.36 265.903 L2029.64 265.903 L2029.64 269.931 Q2031.1 267.546 2033.14 266.412 Q2035.17 265.278 2037.97 265.278 Q2040.8 265.278 2042.76 266.713 Q2044.76 268.148 2045.7 270.88 Z\" fill=\"#000000\" fill-rule=\"evenodd\" fill-opacity=\"1\" /><path clip-path=\"url(#clip530)\" d=\"M 0 0 M2089.85 277.801 L2089.85 279.884 L2070.26 279.884 Q2070.54 284.282 2072.9 286.597 Q2075.29 288.889 2079.52 288.889 Q2081.98 288.889 2084.27 288.287 Q2086.58 287.685 2088.85 286.481 L2088.85 290.509 Q2086.56 291.481 2084.15 291.991 Q2081.75 292.5 2079.27 292.5 Q2073.07 292.5 2069.43 288.889 Q2065.82 285.278 2065.82 279.12 Q2065.82 272.755 2069.25 269.028 Q2072.7 265.278 2078.53 265.278 Q2083.76 265.278 2086.79 268.657 Q2089.85 272.014 2089.85 277.801 M2085.59 276.551 Q2085.54 273.056 2083.62 270.972 Q2081.72 268.889 2078.57 268.889 Q2075.01 268.889 2072.86 270.903 Q2070.73 272.917 2070.4 276.574 L2085.59 276.551 Z\" fill=\"#000000\" fill-rule=\"evenodd\" fill-opacity=\"1\" /><path clip-path=\"url(#clip530)\" d=\"M 0 0 M2109.34 269.884 Q2108.62 269.468 2107.76 269.282 Q2106.93 269.074 2105.91 269.074 Q2102.3 269.074 2100.36 271.435 Q2098.44 273.773 2098.44 278.171 L2098.44 291.829 L2094.15 291.829 L2094.15 265.903 L2098.44 265.903 L2098.44 269.931 Q2099.78 267.569 2101.93 266.435 Q2104.08 265.278 2107.16 265.278 Q2107.6 265.278 2108.13 265.347 Q2108.67 265.394 2109.32 265.509 L2109.34 269.884 Z\" fill=\"#000000\" fill-rule=\"evenodd\" fill-opacity=\"1\" /><path clip-path=\"url(#clip530)\" d=\"M 0 0 M2124.59 294.236 Q2122.79 298.866 2121.07 300.278 Q2119.36 301.69 2116.49 301.69 L2113.09 301.69 L2113.09 298.125 L2115.59 298.125 Q2117.35 298.125 2118.32 297.292 Q2119.29 296.458 2120.47 293.356 L2121.24 291.412 L2110.75 265.903 L2115.26 265.903 L2123.37 286.181 L2131.47 265.903 L2135.98 265.903 L2124.59 294.236 Z\" fill=\"#000000\" fill-rule=\"evenodd\" fill-opacity=\"1\" /><path clip-path=\"url(#clip530)\" d=\"M 0 0 M2159.11 266.898 L2159.11 270.88 Q2157.3 269.884 2155.47 269.398 Q2153.67 268.889 2151.82 268.889 Q2147.67 268.889 2145.38 271.528 Q2143.09 274.144 2143.09 278.889 Q2143.09 283.634 2145.38 286.273 Q2147.67 288.889 2151.82 288.889 Q2153.67 288.889 2155.47 288.403 Q2157.3 287.893 2159.11 286.898 L2159.11 290.833 Q2157.32 291.667 2155.4 292.083 Q2153.51 292.5 2151.35 292.5 Q2145.5 292.5 2142.05 288.819 Q2138.6 285.139 2138.6 278.889 Q2138.6 272.546 2142.07 268.912 Q2145.57 265.278 2151.63 265.278 Q2153.6 265.278 2155.47 265.695 Q2157.35 266.088 2159.11 266.898 Z\" fill=\"#000000\" fill-rule=\"evenodd\" fill-opacity=\"1\" /><path clip-path=\"url(#clip530)\" d=\"M 0 0 M2161.72 265.903 L2181.95 265.903 L2181.95 269.792 L2165.94 288.426 L2181.95 288.426 L2181.95 291.829 L2161.14 291.829 L2161.14 287.94 L2177.16 269.306 L2161.72 269.306 L2161.72 265.903 Z\" fill=\"#000000\" fill-rule=\"evenodd\" fill-opacity=\"1\" /><path clip-path=\"url(#clip530)\" d=\"M 0 0 M2207.97 276.181 L2207.97 291.829 L2203.71 291.829 L2203.71 276.319 Q2203.71 272.639 2202.28 270.81 Q2200.84 268.982 2197.97 268.982 Q2194.52 268.982 2192.53 271.181 Q2190.54 273.38 2190.54 277.176 L2190.54 291.829 L2186.26 291.829 L2186.26 265.903 L2190.54 265.903 L2190.54 269.931 Q2192.07 267.593 2194.13 266.435 Q2196.21 265.278 2198.92 265.278 Q2203.39 265.278 2205.68 268.056 Q2207.97 270.81 2207.97 276.181 Z\" fill=\"#000000\" fill-rule=\"evenodd\" fill-opacity=\"1\" /><path clip-path=\"url(#clip530)\" d=\"M 0 0 M2234.62 277.801 L2234.62 279.884 L2215.03 279.884 Q2215.31 284.282 2217.67 286.597 Q2220.06 288.889 2224.29 288.889 Q2226.75 288.889 2229.04 288.287 Q2231.35 287.685 2233.62 286.481 L2233.62 290.509 Q2231.33 291.481 2228.92 291.991 Q2226.51 292.5 2224.04 292.5 Q2217.83 292.5 2214.2 288.889 Q2210.59 285.278 2210.59 279.12 Q2210.59 272.755 2214.01 269.028 Q2217.46 265.278 2223.3 265.278 Q2228.53 265.278 2231.56 268.657 Q2234.62 272.014 2234.62 277.801 M2230.36 276.551 Q2230.31 273.056 2228.39 270.972 Q2226.49 268.889 2223.34 268.889 Q2219.78 268.889 2217.63 270.903 Q2215.5 272.917 2215.17 276.574 L2230.36 276.551 Z\" fill=\"#000000\" fill-rule=\"evenodd\" fill-opacity=\"1\" /><polyline clip-path=\"url(#clip530)\" style=\"stroke:#808080; stroke-width:4; stroke-opacity:1; fill:none\" points=\"\n",
       "  1611.7,335.029 1753.47,335.029 \n",
       "  \"/>\n",
       "<circle clip-path=\"url(#clip530)\" cx=\"1682.58\" cy=\"335.029\" r=\"23\" fill=\"#ffff00\" fill-rule=\"evenodd\" fill-opacity=\"1\" stroke=\"#000000\" stroke-opacity=\"1\" stroke-width=\"4.096\"/>\n",
       "<path clip-path=\"url(#clip530)\" d=\"M 0 0 M1784.5 319.022 L1784.5 326.383 L1793.28 326.383 L1793.28 329.693 L1784.5 329.693 L1784.5 343.767 Q1784.5 346.938 1785.36 347.841 Q1786.24 348.744 1788.9 348.744 L1793.28 348.744 L1793.28 352.309 L1788.9 352.309 Q1783.97 352.309 1782.09 350.48 Q1780.22 348.628 1780.22 343.767 L1780.22 329.693 L1777.09 329.693 L1777.09 326.383 L1780.22 326.383 L1780.22 319.022 L1784.5 319.022 Z\" fill=\"#000000\" fill-rule=\"evenodd\" fill-opacity=\"1\" /><path clip-path=\"url(#clip530)\" d=\"M 0 0 M1809.66 343.536 L1809.66 352.309 L1806.98 352.309 L1806.98 343.628 Q1806.98 341.568 1806.08 340.549 Q1805.17 339.508 1803.37 339.508 Q1801.19 339.508 1799.94 340.758 Q1798.69 341.985 1798.69 344.114 L1798.69 352.309 L1795.98 352.309 L1795.98 332.147 L1798.69 332.147 L1798.69 340.04 Q1799.64 338.744 1800.94 338.096 Q1802.26 337.448 1803.97 337.448 Q1806.77 337.448 1808.21 338.999 Q1809.66 340.549 1809.66 343.536 Z\" fill=\"#000000\" fill-rule=\"evenodd\" fill-opacity=\"1\" /></svg>\n"
      ]
     },
     "execution_count": 199,
     "metadata": {},
     "output_type": "execute_result"
    }
   ],
   "source": [
    "plot!([tₕ], [one_comp(tₕ, 240.6, 2.44)], markers = :circle, color=\"grey\", markersize = 5,\n",
    "markercolor = :yellow,label=\"tₕ\")"
   ]
  },
  {
   "cell_type": "markdown",
   "metadata": {},
   "source": [
    "### B. Dawka pozanaczyniowa"
   ]
  },
  {
   "cell_type": "markdown",
   "metadata": {},
   "source": [
    "Poniższa tabela [3] przedstawia stężenie nimesulidu w surowicy krwi ochotnika ($C$) [mg/l] oznaczone w różnym czasie t [h], po podaniu jednorazowej dawki doustnej."
   ]
  },
  {
   "cell_type": "markdown",
   "metadata": {},
   "source": [
    "<table>\n",
    "  <tr>\n",
    "    <th>Czas ($t$)</th>\n",
    "    <td>0,5</td>\n",
    "    <td>1,0</td>\n",
    "    <td>1,5</td>\n",
    "    <td>2</td>\n",
    "    <td>3</td>\n",
    "    <td>6</td>\n",
    "    <td>9</td>\n",
    "    <td>12</td>\n",
    "    <td>24</td>\n",
    "  </tr>\n",
    "  <tr>\n",
    "    <th>Stężenie ($C$)</th>\n",
    "    <td>2,6</td>\n",
    "    <td>3,95</td>\n",
    "    <td>3,88</td>\n",
    "    <td>3,55</td>\n",
    "    <td>2,83</td>\n",
    "    <td>1,27</td>\n",
    "    <td>0,44</td>\n",
    "    <td>0,17</td>\n",
    "    <td>0,05</td>\n",
    "  </tr>\n",
    "</table>"
   ]
  },
  {
   "cell_type": "code",
   "execution_count": 200,
   "metadata": {},
   "outputs": [],
   "source": [
    "t_2 = [0.5, 1.0, 1.5, 2, 3, 6, 9, 12, 24]\n",
    "C_2 = [2.6, 3.95, 3.88, 3.55, 2.83, 1.27, 0.44, 0.17, 0.05];"
   ]
  },
  {
   "cell_type": "code",
   "execution_count": 201,
   "metadata": {},
   "outputs": [
    {
     "data": {
      "image/svg+xml": [
       "<?xml version=\"1.0\" encoding=\"utf-8\"?>\n",
       "<svg xmlns=\"http://www.w3.org/2000/svg\" xmlns:xlink=\"http://www.w3.org/1999/xlink\" width=\"600\" height=\"400\" viewBox=\"0 0 2400 1600\">\n",
       "<defs>\n",
       "  <clipPath id=\"clip570\">\n",
       "    <rect x=\"0\" y=\"0\" width=\"2400\" height=\"1600\"/>\n",
       "  </clipPath>\n",
       "</defs>\n",
       "<path clip-path=\"url(#clip570)\" d=\"\n",
       "M0 1600 L2400 1600 L2400 0 L0 0  Z\n",
       "  \" fill=\"#ffffff\" fill-rule=\"evenodd\" fill-opacity=\"1\"/>\n",
       "<defs>\n",
       "  <clipPath id=\"clip571\">\n",
       "    <rect x=\"480\" y=\"0\" width=\"1681\" height=\"1600\"/>\n",
       "  </clipPath>\n",
       "</defs>\n",
       "<path clip-path=\"url(#clip570)\" d=\"\n",
       "M175.445 1423.18 L2352.76 1423.18 L2352.76 47.2441 L175.445 47.2441  Z\n",
       "  \" fill=\"#ffffff\" fill-rule=\"evenodd\" fill-opacity=\"1\"/>\n",
       "<defs>\n",
       "  <clipPath id=\"clip572\">\n",
       "    <rect x=\"175\" y=\"47\" width=\"2178\" height=\"1377\"/>\n",
       "  </clipPath>\n",
       "</defs>\n",
       "<polyline clip-path=\"url(#clip572)\" style=\"stroke:#000000; stroke-width:2; stroke-opacity:0.1; fill:none\" points=\"\n",
       "  193.364,1423.18 193.364,47.2441 \n",
       "  \"/>\n",
       "<polyline clip-path=\"url(#clip572)\" style=\"stroke:#000000; stroke-width:2; stroke-opacity:0.1; fill:none\" points=\"\n",
       "  630.399,1423.18 630.399,47.2441 \n",
       "  \"/>\n",
       "<polyline clip-path=\"url(#clip572)\" style=\"stroke:#000000; stroke-width:2; stroke-opacity:0.1; fill:none\" points=\"\n",
       "  1067.43,1423.18 1067.43,47.2441 \n",
       "  \"/>\n",
       "<polyline clip-path=\"url(#clip572)\" style=\"stroke:#000000; stroke-width:2; stroke-opacity:0.1; fill:none\" points=\"\n",
       "  1504.47,1423.18 1504.47,47.2441 \n",
       "  \"/>\n",
       "<polyline clip-path=\"url(#clip572)\" style=\"stroke:#000000; stroke-width:2; stroke-opacity:0.1; fill:none\" points=\"\n",
       "  1941.51,1423.18 1941.51,47.2441 \n",
       "  \"/>\n",
       "<polyline clip-path=\"url(#clip570)\" style=\"stroke:#000000; stroke-width:4; stroke-opacity:1; fill:none\" points=\"\n",
       "  175.445,1423.18 2352.76,1423.18 \n",
       "  \"/>\n",
       "<polyline clip-path=\"url(#clip570)\" style=\"stroke:#000000; stroke-width:4; stroke-opacity:1; fill:none\" points=\"\n",
       "  193.364,1423.18 193.364,1406.67 \n",
       "  \"/>\n",
       "<polyline clip-path=\"url(#clip570)\" style=\"stroke:#000000; stroke-width:4; stroke-opacity:1; fill:none\" points=\"\n",
       "  630.399,1423.18 630.399,1406.67 \n",
       "  \"/>\n",
       "<polyline clip-path=\"url(#clip570)\" style=\"stroke:#000000; stroke-width:4; stroke-opacity:1; fill:none\" points=\"\n",
       "  1067.43,1423.18 1067.43,1406.67 \n",
       "  \"/>\n",
       "<polyline clip-path=\"url(#clip570)\" style=\"stroke:#000000; stroke-width:4; stroke-opacity:1; fill:none\" points=\"\n",
       "  1504.47,1423.18 1504.47,1406.67 \n",
       "  \"/>\n",
       "<polyline clip-path=\"url(#clip570)\" style=\"stroke:#000000; stroke-width:4; stroke-opacity:1; fill:none\" points=\"\n",
       "  1941.51,1423.18 1941.51,1406.67 \n",
       "  \"/>\n",
       "<path clip-path=\"url(#clip570)\" d=\"M 0 0 M193.364 1452.37 Q189.753 1452.37 187.924 1455.94 Q186.118 1459.48 186.118 1466.61 Q186.118 1473.71 187.924 1477.28 Q189.753 1480.82 193.364 1480.82 Q196.998 1480.82 198.803 1477.28 Q200.632 1473.71 200.632 1466.61 Q200.632 1459.48 198.803 1455.94 Q196.998 1452.37 193.364 1452.37 M193.364 1448.67 Q199.174 1448.67 202.229 1453.27 Q205.308 1457.86 205.308 1466.61 Q205.308 1475.33 202.229 1479.94 Q199.174 1484.52 193.364 1484.52 Q187.554 1484.52 184.475 1479.94 Q181.419 1475.33 181.419 1466.61 Q181.419 1457.86 184.475 1453.27 Q187.554 1448.67 193.364 1448.67 Z\" fill=\"#000000\" fill-rule=\"evenodd\" fill-opacity=\"1\" /><path clip-path=\"url(#clip570)\" d=\"M 0 0 M620.677 1449.29 L639.033 1449.29 L639.033 1453.23 L624.959 1453.23 L624.959 1461.7 Q625.978 1461.35 626.996 1461.19 Q628.015 1461 629.033 1461 Q634.82 1461 638.2 1464.18 Q641.58 1467.35 641.58 1472.76 Q641.58 1478.34 638.107 1481.44 Q634.635 1484.52 628.316 1484.52 Q626.14 1484.52 623.871 1484.15 Q621.626 1483.78 619.219 1483.04 L619.219 1478.34 Q621.302 1479.48 623.524 1480.03 Q625.746 1480.59 628.223 1480.59 Q632.228 1480.59 634.566 1478.48 Q636.904 1476.38 636.904 1472.76 Q636.904 1469.15 634.566 1467.05 Q632.228 1464.94 628.223 1464.94 Q626.348 1464.94 624.473 1465.36 Q622.621 1465.77 620.677 1466.65 L620.677 1449.29 Z\" fill=\"#000000\" fill-rule=\"evenodd\" fill-opacity=\"1\" /><path clip-path=\"url(#clip570)\" d=\"M 0 0 M1044.31 1479.92 L1051.95 1479.92 L1051.95 1453.55 L1043.64 1455.22 L1043.64 1450.96 L1051.9 1449.29 L1056.58 1449.29 L1056.58 1479.92 L1064.22 1479.92 L1064.22 1483.85 L1044.31 1483.85 L1044.31 1479.92 Z\" fill=\"#000000\" fill-rule=\"evenodd\" fill-opacity=\"1\" /><path clip-path=\"url(#clip570)\" d=\"M 0 0 M1079.29 1452.37 Q1075.68 1452.37 1073.85 1455.94 Q1072.04 1459.48 1072.04 1466.61 Q1072.04 1473.71 1073.85 1477.28 Q1075.68 1480.82 1079.29 1480.82 Q1082.92 1480.82 1084.73 1477.28 Q1086.55 1473.71 1086.55 1466.61 Q1086.55 1459.48 1084.73 1455.94 Q1082.92 1452.37 1079.29 1452.37 M1079.29 1448.67 Q1085.1 1448.67 1088.15 1453.27 Q1091.23 1457.86 1091.23 1466.61 Q1091.23 1475.33 1088.15 1479.94 Q1085.1 1484.52 1079.29 1484.52 Q1073.48 1484.52 1070.4 1479.94 Q1067.34 1475.33 1067.34 1466.61 Q1067.34 1457.86 1070.4 1453.27 Q1073.48 1448.67 1079.29 1448.67 Z\" fill=\"#000000\" fill-rule=\"evenodd\" fill-opacity=\"1\" /><path clip-path=\"url(#clip570)\" d=\"M 0 0 M1481.84 1479.92 L1489.48 1479.92 L1489.48 1453.55 L1481.17 1455.22 L1481.17 1450.96 L1489.44 1449.29 L1494.11 1449.29 L1494.11 1479.92 L1501.75 1479.92 L1501.75 1483.85 L1481.84 1483.85 L1481.84 1479.92 Z\" fill=\"#000000\" fill-rule=\"evenodd\" fill-opacity=\"1\" /><path clip-path=\"url(#clip570)\" d=\"M 0 0 M1506.87 1449.29 L1525.22 1449.29 L1525.22 1453.23 L1511.15 1453.23 L1511.15 1461.7 Q1512.17 1461.35 1513.19 1461.19 Q1514.2 1461 1515.22 1461 Q1521.01 1461 1524.39 1464.18 Q1527.77 1467.35 1527.77 1472.76 Q1527.77 1478.34 1524.3 1481.44 Q1520.82 1484.52 1514.5 1484.52 Q1512.33 1484.52 1510.06 1484.15 Q1507.81 1483.78 1505.41 1483.04 L1505.41 1478.34 Q1507.49 1479.48 1509.71 1480.03 Q1511.94 1480.59 1514.41 1480.59 Q1518.42 1480.59 1520.75 1478.48 Q1523.09 1476.38 1523.09 1472.76 Q1523.09 1469.15 1520.75 1467.05 Q1518.42 1464.94 1514.41 1464.94 Q1512.54 1464.94 1510.66 1465.36 Q1508.81 1465.77 1506.87 1466.65 L1506.87 1449.29 Z\" fill=\"#000000\" fill-rule=\"evenodd\" fill-opacity=\"1\" /><path clip-path=\"url(#clip570)\" d=\"M 0 0 M1922.65 1479.92 L1938.97 1479.92 L1938.97 1483.85 L1917.03 1483.85 L1917.03 1479.92 Q1919.69 1477.16 1924.27 1472.53 Q1928.88 1467.88 1930.06 1466.54 Q1932.3 1464.01 1933.18 1462.28 Q1934.09 1460.52 1934.09 1458.83 Q1934.09 1456.07 1932.14 1454.34 Q1930.22 1452.6 1927.12 1452.6 Q1924.92 1452.6 1922.47 1453.37 Q1920.04 1454.13 1917.26 1455.68 L1917.26 1450.96 Q1920.08 1449.82 1922.54 1449.25 Q1924.99 1448.67 1927.03 1448.67 Q1932.4 1448.67 1935.59 1451.35 Q1938.79 1454.04 1938.79 1458.53 Q1938.79 1460.66 1937.98 1462.58 Q1937.19 1464.48 1935.08 1467.07 Q1934.5 1467.74 1931.4 1470.96 Q1928.3 1474.15 1922.65 1479.92 Z\" fill=\"#000000\" fill-rule=\"evenodd\" fill-opacity=\"1\" /><path clip-path=\"url(#clip570)\" d=\"M 0 0 M1954.04 1452.37 Q1950.43 1452.37 1948.6 1455.94 Q1946.79 1459.48 1946.79 1466.61 Q1946.79 1473.71 1948.6 1477.28 Q1950.43 1480.82 1954.04 1480.82 Q1957.67 1480.82 1959.48 1477.28 Q1961.31 1473.71 1961.31 1466.61 Q1961.31 1459.48 1959.48 1455.94 Q1957.67 1452.37 1954.04 1452.37 M1954.04 1448.67 Q1959.85 1448.67 1962.91 1453.27 Q1965.98 1457.86 1965.98 1466.61 Q1965.98 1475.33 1962.91 1479.94 Q1959.85 1484.52 1954.04 1484.52 Q1948.23 1484.52 1945.15 1479.94 Q1942.1 1475.33 1942.1 1466.61 Q1942.1 1457.86 1945.15 1453.27 Q1948.23 1448.67 1954.04 1448.67 Z\" fill=\"#000000\" fill-rule=\"evenodd\" fill-opacity=\"1\" /><path clip-path=\"url(#clip570)\" d=\"M 0 0 M1215.45 1522.27 L1215.45 1532.4 L1227.51 1532.4 L1227.51 1536.95 L1215.45 1536.95 L1215.45 1556.3 Q1215.45 1560.66 1216.63 1561.9 Q1217.84 1563.14 1221.5 1563.14 L1227.51 1563.14 L1227.51 1568.04 L1221.5 1568.04 Q1214.72 1568.04 1212.14 1565.53 Q1209.56 1562.98 1209.56 1556.3 L1209.56 1536.95 L1205.27 1536.95 L1205.27 1532.4 L1209.56 1532.4 L1209.56 1522.27 L1215.45 1522.27 Z\" fill=\"#000000\" fill-rule=\"evenodd\" fill-opacity=\"1\" /><path clip-path=\"url(#clip570)\" d=\"M 0 0 M1253.84 1518.52 L1267.33 1518.52 L1267.33 1523.07 L1259.69 1523.07 L1259.69 1572.09 L1267.33 1572.09 L1267.33 1576.64 L1253.84 1576.64 L1253.84 1518.52 Z\" fill=\"#000000\" fill-rule=\"evenodd\" fill-opacity=\"1\" /><path clip-path=\"url(#clip570)\" d=\"M 0 0 M1303.11 1546.53 L1303.11 1568.04 L1297.25 1568.04 L1297.25 1546.72 Q1297.25 1541.66 1295.28 1539.14 Q1293.3 1536.63 1289.36 1536.63 Q1284.61 1536.63 1281.88 1539.65 Q1279.14 1542.68 1279.14 1547.9 L1279.14 1568.04 L1273.25 1568.04 L1273.25 1518.52 L1279.14 1518.52 L1279.14 1537.93 Q1281.24 1534.72 1284.07 1533.13 Q1286.94 1531.54 1290.66 1531.54 Q1296.8 1531.54 1299.96 1535.36 Q1303.11 1539.14 1303.11 1546.53 Z\" fill=\"#000000\" fill-rule=\"evenodd\" fill-opacity=\"1\" /><path clip-path=\"url(#clip570)\" d=\"M 0 0 M1322.94 1518.52 L1322.94 1576.64 L1309.44 1576.64 L1309.44 1572.09 L1317.05 1572.09 L1317.05 1523.07 L1309.44 1523.07 L1309.44 1518.52 L1322.94 1518.52 Z\" fill=\"#000000\" fill-rule=\"evenodd\" fill-opacity=\"1\" /><polyline clip-path=\"url(#clip572)\" style=\"stroke:#000000; stroke-width:2; stroke-opacity:0.1; fill:none\" points=\"\n",
       "  175.445,1400.88 2352.76,1400.88 \n",
       "  \"/>\n",
       "<polyline clip-path=\"url(#clip572)\" style=\"stroke:#000000; stroke-width:2; stroke-opacity:0.1; fill:none\" points=\"\n",
       "  175.445,1068.05 2352.76,1068.05 \n",
       "  \"/>\n",
       "<polyline clip-path=\"url(#clip572)\" style=\"stroke:#000000; stroke-width:2; stroke-opacity:0.1; fill:none\" points=\"\n",
       "  175.445,735.212 2352.76,735.212 \n",
       "  \"/>\n",
       "<polyline clip-path=\"url(#clip572)\" style=\"stroke:#000000; stroke-width:2; stroke-opacity:0.1; fill:none\" points=\"\n",
       "  175.445,402.378 2352.76,402.378 \n",
       "  \"/>\n",
       "<polyline clip-path=\"url(#clip572)\" style=\"stroke:#000000; stroke-width:2; stroke-opacity:0.1; fill:none\" points=\"\n",
       "  175.445,69.544 2352.76,69.544 \n",
       "  \"/>\n",
       "<polyline clip-path=\"url(#clip570)\" style=\"stroke:#000000; stroke-width:4; stroke-opacity:1; fill:none\" points=\"\n",
       "  175.445,1423.18 175.445,47.2441 \n",
       "  \"/>\n",
       "<polyline clip-path=\"url(#clip570)\" style=\"stroke:#000000; stroke-width:4; stroke-opacity:1; fill:none\" points=\"\n",
       "  175.445,1400.88 201.573,1400.88 \n",
       "  \"/>\n",
       "<polyline clip-path=\"url(#clip570)\" style=\"stroke:#000000; stroke-width:4; stroke-opacity:1; fill:none\" points=\"\n",
       "  175.445,1068.05 201.573,1068.05 \n",
       "  \"/>\n",
       "<polyline clip-path=\"url(#clip570)\" style=\"stroke:#000000; stroke-width:4; stroke-opacity:1; fill:none\" points=\"\n",
       "  175.445,735.212 201.573,735.212 \n",
       "  \"/>\n",
       "<polyline clip-path=\"url(#clip570)\" style=\"stroke:#000000; stroke-width:4; stroke-opacity:1; fill:none\" points=\"\n",
       "  175.445,402.378 201.573,402.378 \n",
       "  \"/>\n",
       "<polyline clip-path=\"url(#clip570)\" style=\"stroke:#000000; stroke-width:4; stroke-opacity:1; fill:none\" points=\"\n",
       "  175.445,69.544 201.573,69.544 \n",
       "  \"/>\n",
       "<path clip-path=\"url(#clip570)\" d=\"M 0 0 M127.501 1386.68 Q123.89 1386.68 122.061 1390.24 Q120.255 1393.79 120.255 1400.91 Q120.255 1408.02 122.061 1411.59 Q123.89 1415.13 127.501 1415.13 Q131.135 1415.13 132.941 1411.59 Q134.769 1408.02 134.769 1400.91 Q134.769 1393.79 132.941 1390.24 Q131.135 1386.68 127.501 1386.68 M127.501 1382.97 Q133.311 1382.97 136.367 1387.58 Q139.445 1392.16 139.445 1400.91 Q139.445 1409.64 136.367 1414.25 Q133.311 1418.83 127.501 1418.83 Q121.691 1418.83 118.612 1414.25 Q115.556 1409.64 115.556 1400.91 Q115.556 1392.16 118.612 1387.58 Q121.691 1382.97 127.501 1382.97 Z\" fill=\"#000000\" fill-rule=\"evenodd\" fill-opacity=\"1\" /><path clip-path=\"url(#clip570)\" d=\"M 0 0 M119.538 1081.39 L127.177 1081.39 L127.177 1055.03 L118.867 1056.69 L118.867 1052.43 L127.13 1050.77 L131.806 1050.77 L131.806 1081.39 L139.445 1081.39 L139.445 1085.33 L119.538 1085.33 L119.538 1081.39 Z\" fill=\"#000000\" fill-rule=\"evenodd\" fill-opacity=\"1\" /><path clip-path=\"url(#clip570)\" d=\"M 0 0 M123.126 748.557 L139.445 748.557 L139.445 752.492 L117.501 752.492 L117.501 748.557 Q120.163 745.802 124.746 741.173 Q129.353 736.52 130.533 735.177 Q132.779 732.654 133.658 730.918 Q134.561 729.159 134.561 727.469 Q134.561 724.714 132.617 722.978 Q130.695 721.242 127.593 721.242 Q125.394 721.242 122.941 722.006 Q120.51 722.77 117.732 724.321 L117.732 719.599 Q120.556 718.464 123.01 717.886 Q125.464 717.307 127.501 717.307 Q132.871 717.307 136.066 719.992 Q139.26 722.677 139.26 727.168 Q139.26 729.298 138.45 731.219 Q137.663 733.117 135.556 735.71 Q134.978 736.381 131.876 739.599 Q128.774 742.793 123.126 748.557 Z\" fill=\"#000000\" fill-rule=\"evenodd\" fill-opacity=\"1\" /><path clip-path=\"url(#clip570)\" d=\"M 0 0 M132.316 401.024 Q135.672 401.741 137.547 404.01 Q139.445 406.278 139.445 409.612 Q139.445 414.727 135.927 417.528 Q132.408 420.329 125.927 420.329 Q123.751 420.329 121.436 419.889 Q119.144 419.473 116.691 418.616 L116.691 414.102 Q118.635 415.237 120.95 415.815 Q123.265 416.394 125.788 416.394 Q130.186 416.394 132.478 414.658 Q134.792 412.922 134.792 409.612 Q134.792 406.556 132.64 404.843 Q130.51 403.107 126.691 403.107 L122.663 403.107 L122.663 399.265 L126.876 399.265 Q130.325 399.265 132.154 397.899 Q133.982 396.51 133.982 393.917 Q133.982 391.255 132.084 389.843 Q130.209 388.408 126.691 388.408 Q124.769 388.408 122.57 388.825 Q120.371 389.241 117.732 390.121 L117.732 385.954 Q120.394 385.214 122.709 384.843 Q125.047 384.473 127.107 384.473 Q132.431 384.473 135.533 386.904 Q138.635 389.311 138.635 393.431 Q138.635 396.302 136.992 398.292 Q135.348 400.26 132.316 401.024 Z\" fill=\"#000000\" fill-rule=\"evenodd\" fill-opacity=\"1\" /><path clip-path=\"url(#clip570)\" d=\"M 0 0 M129.862 56.338 L118.056 74.787 L129.862 74.787 L129.862 56.338 M128.635 52.264 L134.515 52.264 L134.515 74.787 L139.445 74.787 L139.445 78.6759 L134.515 78.6759 L134.515 86.824 L129.862 86.824 L129.862 78.6759 L114.26 78.6759 L114.26 74.162 L128.635 52.264 Z\" fill=\"#000000\" fill-rule=\"evenodd\" fill-opacity=\"1\" /><path clip-path=\"url(#clip570)\" d=\"M 0 0 M20.1444 809.563 L26.9239 809.563 Q23.9002 812.81 22.4043 816.502 Q20.9083 820.162 20.9083 824.3 Q20.9083 832.448 25.9054 836.777 Q30.8707 841.105 40.2919 841.105 Q49.6813 841.105 54.6784 836.777 Q59.6436 832.448 59.6436 824.3 Q59.6436 820.162 58.1477 816.502 Q56.6518 812.81 53.6281 809.563 L60.3439 809.563 Q62.6355 812.937 63.7814 816.725 Q64.9272 820.481 64.9272 824.682 Q64.9272 835.472 58.3387 841.678 Q51.7183 847.885 40.2919 847.885 Q28.8336 847.885 22.2451 841.678 Q15.6248 835.472 15.6248 824.682 Q15.6248 820.417 16.7706 816.661 Q17.8846 812.874 20.1444 809.563 Z\" fill=\"#000000\" fill-rule=\"evenodd\" fill-opacity=\"1\" /><path clip-path=\"url(#clip570)\" d=\"M 0 0 M14.479 783.241 L14.479 769.746 L19.0304 769.746 L19.0304 777.385 L68.0464 777.385 L68.0464 769.746 L72.5979 769.746 L72.5979 783.241 L14.479 783.241 Z\" fill=\"#000000\" fill-rule=\"evenodd\" fill-opacity=\"1\" /><path clip-path=\"url(#clip570)\" d=\"M 0 0 M35.1993 735.849 Q31.2526 733.652 29.3747 730.597 Q27.4968 727.541 27.4968 723.404 Q27.4968 717.834 31.4117 714.81 Q35.2948 711.786 42.4881 711.786 L64.0042 711.786 L64.0042 717.674 L42.679 717.674 Q37.5546 717.674 35.072 719.489 Q32.5894 721.303 32.5894 725.027 Q32.5894 729.578 35.6131 732.22 Q38.6368 734.862 43.8567 734.862 L64.0042 734.862 L64.0042 740.75 L42.679 740.75 Q37.5228 740.75 35.072 742.564 Q32.5894 744.379 32.5894 748.166 Q32.5894 752.654 35.6449 755.296 Q38.6686 757.938 43.8567 757.938 L64.0042 757.938 L64.0042 763.826 L28.3562 763.826 L28.3562 757.938 L33.8944 757.938 Q30.616 755.932 29.0564 753.131 Q27.4968 750.331 27.4968 746.479 Q27.4968 742.596 29.4702 739.891 Q31.4436 737.154 35.1993 735.849 Z\" fill=\"#000000\" fill-rule=\"evenodd\" fill-opacity=\"1\" /><path clip-path=\"url(#clip570)\" d=\"M 0 0 M45.7664 682.186 Q39.4007 682.186 35.8996 684.827 Q32.3984 687.437 32.3984 692.18 Q32.3984 696.89 35.8996 699.532 Q39.4007 702.142 45.7664 702.142 Q52.1003 702.142 55.6014 699.532 Q59.1026 696.89 59.1026 692.18 Q59.1026 687.437 55.6014 684.827 Q52.1003 682.186 45.7664 682.186 M59.58 676.329 Q68.683 676.329 73.1071 680.371 Q77.5631 684.414 77.5631 692.753 Q77.5631 695.84 77.0857 698.577 Q76.6401 701.315 75.6852 703.893 L69.9879 703.893 Q71.3884 701.315 72.0568 698.8 Q72.7252 696.286 72.7252 693.676 Q72.7252 687.915 69.7015 685.05 Q66.7096 682.186 60.6303 682.186 L57.7339 682.186 Q60.885 684 62.4446 686.833 Q64.0042 689.665 64.0042 693.612 Q64.0042 700.169 59.0071 704.179 Q54.01 708.19 45.7664 708.19 Q37.491 708.19 32.4939 704.179 Q27.4968 700.169 27.4968 693.612 Q27.4968 689.665 29.0564 686.833 Q30.616 684 33.7671 682.186 L28.3562 682.186 L28.3562 676.329 L59.58 676.329 Z\" fill=\"#000000\" fill-rule=\"evenodd\" fill-opacity=\"1\" /><path clip-path=\"url(#clip570)\" d=\"M 0 0 M16.4842 659.778 L16.4842 654.367 L70.0516 670.918 L70.0516 676.329 L16.4842 659.778 Z\" fill=\"#000000\" fill-rule=\"evenodd\" fill-opacity=\"1\" /><path clip-path=\"url(#clip570)\" d=\"M 0 0 M14.479 648.225 L14.479 642.368 L64.0042 642.368 L64.0042 648.225 L14.479 648.225 Z\" fill=\"#000000\" fill-rule=\"evenodd\" fill-opacity=\"1\" /><path clip-path=\"url(#clip570)\" d=\"M 0 0 M14.479 622.539 L72.5979 622.539 L72.5979 636.034 L68.0464 636.034 L68.0464 628.427 L19.0304 628.427 L19.0304 636.034 L14.479 636.034 L14.479 622.539 Z\" fill=\"#000000\" fill-rule=\"evenodd\" fill-opacity=\"1\" /><circle clip-path=\"url(#clip572)\" cx=\"237.067\" cy=\"535.512\" r=\"14\" fill=\"#009af9\" fill-rule=\"evenodd\" fill-opacity=\"1\" stroke=\"#000000\" stroke-opacity=\"1\" stroke-width=\"3.2\"/>\n",
       "<circle clip-path=\"url(#clip572)\" cx=\"280.771\" cy=\"86.1857\" r=\"14\" fill=\"#009af9\" fill-rule=\"evenodd\" fill-opacity=\"1\" stroke=\"#000000\" stroke-opacity=\"1\" stroke-width=\"3.2\"/>\n",
       "<circle clip-path=\"url(#clip572)\" cx=\"324.474\" cy=\"109.484\" r=\"14\" fill=\"#009af9\" fill-rule=\"evenodd\" fill-opacity=\"1\" stroke=\"#000000\" stroke-opacity=\"1\" stroke-width=\"3.2\"/>\n",
       "<circle clip-path=\"url(#clip572)\" cx=\"368.178\" cy=\"219.319\" r=\"14\" fill=\"#009af9\" fill-rule=\"evenodd\" fill-opacity=\"1\" stroke=\"#000000\" stroke-opacity=\"1\" stroke-width=\"3.2\"/>\n",
       "<circle clip-path=\"url(#clip572)\" cx=\"455.585\" cy=\"458.96\" r=\"14\" fill=\"#009af9\" fill-rule=\"evenodd\" fill-opacity=\"1\" stroke=\"#000000\" stroke-opacity=\"1\" stroke-width=\"3.2\"/>\n",
       "<circle clip-path=\"url(#clip572)\" cx=\"717.806\" cy=\"978.181\" r=\"14\" fill=\"#009af9\" fill-rule=\"evenodd\" fill-opacity=\"1\" stroke=\"#000000\" stroke-opacity=\"1\" stroke-width=\"3.2\"/>\n",
       "<circle clip-path=\"url(#clip572)\" cx=\"980.028\" cy=\"1254.43\" r=\"14\" fill=\"#009af9\" fill-rule=\"evenodd\" fill-opacity=\"1\" stroke=\"#000000\" stroke-opacity=\"1\" stroke-width=\"3.2\"/>\n",
       "<circle clip-path=\"url(#clip572)\" cx=\"1242.25\" cy=\"1344.3\" r=\"14\" fill=\"#009af9\" fill-rule=\"evenodd\" fill-opacity=\"1\" stroke=\"#000000\" stroke-opacity=\"1\" stroke-width=\"3.2\"/>\n",
       "<circle clip-path=\"url(#clip572)\" cx=\"2291.13\" cy=\"1384.24\" r=\"14\" fill=\"#009af9\" fill-rule=\"evenodd\" fill-opacity=\"1\" stroke=\"#000000\" stroke-opacity=\"1\" stroke-width=\"3.2\"/>\n",
       "<path clip-path=\"url(#clip570)\" d=\"\n",
       "M1647.12 214.069 L2280.18 214.069 L2280.18 93.1086 L1647.12 93.1086  Z\n",
       "  \" fill=\"#ffffff\" fill-rule=\"evenodd\" fill-opacity=\"1\"/>\n",
       "<polyline clip-path=\"url(#clip570)\" style=\"stroke:#000000; stroke-width:4; stroke-opacity:1; fill:none\" points=\"\n",
       "  1647.12,214.069 2280.18,214.069 2280.18,93.1086 1647.12,93.1086 1647.12,214.069 \n",
       "  \"/>\n",
       "<circle clip-path=\"url(#clip570)\" cx=\"1743.89\" cy=\"153.589\" r=\"23\" fill=\"#009af9\" fill-rule=\"evenodd\" fill-opacity=\"1\" stroke=\"#000000\" stroke-opacity=\"1\" stroke-width=\"5.12\"/>\n",
       "<path clip-path=\"url(#clip570)\" d=\"M 0 0 M1840.66 144.943 L1844.92 144.943 L1850.25 165.174 L1855.55 144.943 L1860.57 144.943 L1865.89 165.174 L1871.19 144.943 L1875.45 144.943 L1868.67 170.869 L1863.65 170.869 L1858.07 149.619 L1852.47 170.869 L1847.44 170.869 L1840.66 144.943 Z\" fill=\"#000000\" fill-rule=\"evenodd\" fill-opacity=\"1\" /><path clip-path=\"url(#clip570)\" d=\"M 0 0 M1891.7 157.836 Q1886.54 157.836 1884.55 159.017 Q1882.56 160.197 1882.56 163.045 Q1882.56 165.313 1884.04 166.656 Q1885.55 167.975 1888.12 167.975 Q1891.66 167.975 1893.79 165.475 Q1895.94 162.952 1895.94 158.785 L1895.94 157.836 L1891.7 157.836 M1900.2 156.077 L1900.2 170.869 L1895.94 170.869 L1895.94 166.933 Q1894.48 169.295 1892.31 170.429 Q1890.13 171.54 1886.98 171.54 Q1883 171.54 1880.64 169.318 Q1878.3 167.072 1878.3 163.322 Q1878.3 158.947 1881.22 156.725 Q1884.16 154.503 1889.97 154.503 L1895.94 154.503 L1895.94 154.086 Q1895.94 151.147 1894 149.549 Q1892.07 147.929 1888.58 147.929 Q1886.36 147.929 1884.25 148.461 Q1882.14 148.994 1880.2 150.059 L1880.2 146.123 Q1882.54 145.221 1884.74 144.781 Q1886.93 144.318 1889.02 144.318 Q1894.64 144.318 1897.42 147.234 Q1900.2 150.151 1900.2 156.077 Z\" fill=\"#000000\" fill-rule=\"evenodd\" fill-opacity=\"1\" /><path clip-path=\"url(#clip570)\" d=\"M 0 0 M1919.69 148.924 Q1918.97 148.508 1918.12 148.322 Q1917.28 148.114 1916.26 148.114 Q1912.65 148.114 1910.71 150.475 Q1908.79 152.813 1908.79 157.211 L1908.79 170.869 L1904.5 170.869 L1904.5 144.943 L1908.79 144.943 L1908.79 148.971 Q1910.13 146.609 1912.28 145.475 Q1914.43 144.318 1917.51 144.318 Q1917.95 144.318 1918.49 144.387 Q1919.02 144.434 1919.67 144.549 L1919.69 148.924 Z\" fill=\"#000000\" fill-rule=\"evenodd\" fill-opacity=\"1\" /><path clip-path=\"url(#clip570)\" d=\"M 0 0 M1928.37 137.582 L1928.37 144.943 L1937.14 144.943 L1937.14 148.253 L1928.37 148.253 L1928.37 162.327 Q1928.37 165.498 1929.23 166.401 Q1930.11 167.304 1932.77 167.304 L1937.14 167.304 L1937.14 170.869 L1932.77 170.869 Q1927.84 170.869 1925.96 169.04 Q1924.09 167.188 1924.09 162.327 L1924.09 148.253 L1920.96 148.253 L1920.96 144.943 L1924.09 144.943 L1924.09 137.582 L1928.37 137.582 Z\" fill=\"#000000\" fill-rule=\"evenodd\" fill-opacity=\"1\" /><path clip-path=\"url(#clip570)\" d=\"M 0 0 M1951.66 147.929 Q1948.23 147.929 1946.24 150.614 Q1944.25 153.276 1944.25 157.929 Q1944.25 162.582 1946.22 165.267 Q1948.21 167.929 1951.66 167.929 Q1955.06 167.929 1957.05 165.244 Q1959.04 162.558 1959.04 157.929 Q1959.04 153.322 1957.05 150.637 Q1955.06 147.929 1951.66 147.929 M1951.66 144.318 Q1957.21 144.318 1960.38 147.929 Q1963.55 151.54 1963.55 157.929 Q1963.55 164.295 1960.38 167.929 Q1957.21 171.54 1951.66 171.54 Q1946.08 171.54 1942.91 167.929 Q1939.76 164.295 1939.76 157.929 Q1939.76 151.54 1942.91 147.929 Q1946.08 144.318 1951.66 144.318 Z\" fill=\"#000000\" fill-rule=\"evenodd\" fill-opacity=\"1\" /><path clip-path=\"url(#clip570)\" d=\"M 0 0 M1980.15 132.79 L1984.76 132.79 L1977.21 141.494 L1973.67 141.494 L1980.15 132.79 M1984.55 145.707 L1984.55 149.734 Q1982.74 148.809 1980.8 148.346 Q1978.86 147.883 1976.77 147.883 Q1973.6 147.883 1972 148.855 Q1970.43 149.827 1970.43 151.771 Q1970.43 153.253 1971.56 154.109 Q1972.7 154.943 1976.12 155.707 L1977.58 156.031 Q1982.12 157.003 1984.02 158.785 Q1985.94 160.545 1985.94 163.716 Q1985.94 167.327 1983.07 169.433 Q1980.22 171.54 1975.22 171.54 Q1973.14 171.54 1970.87 171.123 Q1968.62 170.73 1966.12 169.92 L1966.12 165.521 Q1968.49 166.748 1970.78 167.373 Q1973.07 167.975 1975.31 167.975 Q1978.32 167.975 1979.94 166.957 Q1981.56 165.915 1981.56 164.04 Q1981.56 162.304 1980.38 161.378 Q1979.23 160.452 1975.27 159.596 L1973.79 159.248 Q1969.83 158.415 1968.07 156.702 Q1966.31 154.966 1966.31 151.957 Q1966.31 148.299 1968.9 146.309 Q1971.49 144.318 1976.26 144.318 Q1978.62 144.318 1980.71 144.665 Q1982.79 145.012 1984.55 145.707 Z\" fill=\"#000000\" fill-rule=\"evenodd\" fill-opacity=\"1\" /><path clip-path=\"url(#clip570)\" d=\"M 0 0 M2009.06 145.938 L2009.06 149.92 Q2007.26 148.924 2005.43 148.438 Q2003.62 147.929 2001.77 147.929 Q1997.63 147.929 1995.34 150.568 Q1993.05 153.184 1993.05 157.929 Q1993.05 162.674 1995.34 165.313 Q1997.63 167.929 2001.77 167.929 Q2003.62 167.929 2005.43 167.443 Q2007.26 166.933 2009.06 165.938 L2009.06 169.873 Q2007.28 170.707 2005.36 171.123 Q2003.46 171.54 2001.31 171.54 Q1995.45 171.54 1992 167.859 Q1988.55 164.179 1988.55 157.929 Q1988.55 151.586 1992.03 147.952 Q1995.52 144.318 2001.59 144.318 Q2003.55 144.318 2005.43 144.735 Q2007.3 145.128 2009.06 145.938 Z\" fill=\"#000000\" fill-rule=\"evenodd\" fill-opacity=\"1\" /><path clip-path=\"url(#clip570)\" d=\"M 0 0 M2013.53 144.943 L2017.79 144.943 L2017.79 170.869 L2013.53 170.869 L2013.53 144.943 M2013.53 134.85 L2017.79 134.85 L2017.79 140.244 L2013.53 140.244 L2013.53 134.85 Z\" fill=\"#000000\" fill-rule=\"evenodd\" fill-opacity=\"1\" /><path clip-path=\"url(#clip570)\" d=\"M 0 0 M2057.51 149.92 Q2059.11 147.049 2061.33 145.684 Q2063.55 144.318 2066.56 144.318 Q2070.61 144.318 2072.81 147.165 Q2075.01 149.989 2075.01 155.221 L2075.01 170.869 L2070.73 170.869 L2070.73 155.359 Q2070.73 151.633 2069.41 149.827 Q2068.09 148.022 2065.38 148.022 Q2062.07 148.022 2060.15 150.221 Q2058.23 152.42 2058.23 156.216 L2058.23 170.869 L2053.95 170.869 L2053.95 155.359 Q2053.95 151.609 2052.63 149.827 Q2051.31 148.022 2048.55 148.022 Q2045.29 148.022 2043.37 150.244 Q2041.45 152.443 2041.45 156.216 L2041.45 170.869 L2037.17 170.869 L2037.17 144.943 L2041.45 144.943 L2041.45 148.971 Q2042.91 146.586 2044.94 145.452 Q2046.98 144.318 2049.78 144.318 Q2052.61 144.318 2054.57 145.753 Q2056.56 147.188 2057.51 149.92 Z\" fill=\"#000000\" fill-rule=\"evenodd\" fill-opacity=\"1\" /><path clip-path=\"url(#clip570)\" d=\"M 0 0 M2079.48 144.943 L2083.74 144.943 L2083.74 170.869 L2079.48 170.869 L2079.48 144.943 M2079.48 134.85 L2083.74 134.85 L2083.74 140.244 L2079.48 140.244 L2079.48 134.85 Z\" fill=\"#000000\" fill-rule=\"evenodd\" fill-opacity=\"1\" /><path clip-path=\"url(#clip570)\" d=\"M 0 0 M2110.38 156.841 L2110.38 158.924 L2090.8 158.924 Q2091.08 163.322 2093.44 165.637 Q2095.82 167.929 2100.06 167.929 Q2102.51 167.929 2104.8 167.327 Q2107.12 166.725 2109.39 165.521 L2109.39 169.549 Q2107.1 170.521 2104.69 171.031 Q2102.28 171.54 2099.8 171.54 Q2093.6 171.54 2089.97 167.929 Q2086.36 164.318 2086.36 158.16 Q2086.36 151.795 2089.78 148.068 Q2093.23 144.318 2099.06 144.318 Q2104.29 144.318 2107.33 147.697 Q2110.38 151.054 2110.38 156.841 M2106.12 155.591 Q2106.08 152.096 2104.16 150.012 Q2102.26 147.929 2099.11 147.929 Q2095.54 147.929 2093.39 149.943 Q2091.26 151.957 2090.94 155.614 L2106.12 155.591 Z\" fill=\"#000000\" fill-rule=\"evenodd\" fill-opacity=\"1\" /><path clip-path=\"url(#clip570)\" d=\"M 0 0 M2129.87 148.924 Q2129.16 148.508 2128.3 148.322 Q2127.47 148.114 2126.45 148.114 Q2122.84 148.114 2120.89 150.475 Q2118.97 152.813 2118.97 157.211 L2118.97 170.869 L2114.69 170.869 L2114.69 144.943 L2118.97 144.943 L2118.97 148.971 Q2120.31 146.609 2122.47 145.475 Q2124.62 144.318 2127.7 144.318 Q2128.14 144.318 2128.67 144.387 Q2129.2 144.434 2129.85 144.549 L2129.87 148.924 Z\" fill=\"#000000\" fill-rule=\"evenodd\" fill-opacity=\"1\" /><path clip-path=\"url(#clip570)\" d=\"M 0 0 M2132.49 144.943 L2152.72 144.943 L2152.72 148.832 L2136.7 167.466 L2152.72 167.466 L2152.72 170.869 L2131.91 170.869 L2131.91 166.98 L2147.93 148.346 L2132.49 148.346 L2132.49 144.943 Z\" fill=\"#000000\" fill-rule=\"evenodd\" fill-opacity=\"1\" /><path clip-path=\"url(#clip570)\" d=\"M 0 0 M2167.23 147.929 Q2163.81 147.929 2161.82 150.614 Q2159.83 153.276 2159.83 157.929 Q2159.83 162.582 2161.79 165.267 Q2163.79 167.929 2167.23 167.929 Q2170.64 167.929 2172.63 165.244 Q2174.62 162.558 2174.62 157.929 Q2174.62 153.322 2172.63 150.637 Q2170.64 147.929 2167.23 147.929 M2167.23 144.318 Q2172.79 144.318 2175.96 147.929 Q2179.13 151.54 2179.13 157.929 Q2179.13 164.295 2175.96 167.929 Q2172.79 171.54 2167.23 171.54 Q2161.66 171.54 2158.48 167.929 Q2155.34 164.295 2155.34 157.929 Q2155.34 151.54 2158.48 147.929 Q2161.66 144.318 2167.23 144.318 Z\" fill=\"#000000\" fill-rule=\"evenodd\" fill-opacity=\"1\" /><path clip-path=\"url(#clip570)\" d=\"M 0 0 M2205.15 155.221 L2205.15 170.869 L2200.89 170.869 L2200.89 155.359 Q2200.89 151.679 2199.46 149.85 Q2198.02 148.022 2195.15 148.022 Q2191.7 148.022 2189.71 150.221 Q2187.72 152.42 2187.72 156.216 L2187.72 170.869 L2183.44 170.869 L2183.44 144.943 L2187.72 144.943 L2187.72 148.971 Q2189.25 146.633 2191.31 145.475 Q2193.39 144.318 2196.1 144.318 Q2200.57 144.318 2202.86 147.096 Q2205.15 149.85 2205.15 155.221 Z\" fill=\"#000000\" fill-rule=\"evenodd\" fill-opacity=\"1\" /><path clip-path=\"url(#clip570)\" d=\"M 0 0 M2231.79 156.841 L2231.79 158.924 L2212.21 158.924 Q2212.49 163.322 2214.85 165.637 Q2217.23 167.929 2221.47 167.929 Q2223.92 167.929 2226.22 167.327 Q2228.53 166.725 2230.8 165.521 L2230.8 169.549 Q2228.51 170.521 2226.1 171.031 Q2223.69 171.54 2221.22 171.54 Q2215.01 171.54 2211.38 167.929 Q2207.77 164.318 2207.77 158.16 Q2207.77 151.795 2211.19 148.068 Q2214.64 144.318 2220.47 144.318 Q2225.71 144.318 2228.74 147.697 Q2231.79 151.054 2231.79 156.841 M2227.53 155.591 Q2227.49 152.096 2225.57 150.012 Q2223.67 147.929 2220.52 147.929 Q2216.96 147.929 2214.8 149.943 Q2212.67 151.957 2212.35 155.614 L2227.53 155.591 Z\" fill=\"#000000\" fill-rule=\"evenodd\" fill-opacity=\"1\" /></svg>\n"
      ]
     },
     "execution_count": 201,
     "metadata": {},
     "output_type": "execute_result"
    }
   ],
   "source": [
    "scatter(t_2, C_2, xlabel=\"t [h]\", ylabel=\"C [mg/l]\", label = \"wartości mierzone\")"
   ]
  },
  {
   "cell_type": "markdown",
   "metadata": {},
   "source": [
    "W naszych analitycznych rozważaniach doszliśmy do wzoru $$ C(t) = \\frac{\\mathrm{k}_a \\cdot X_{D_0}}{V_d \\cdot \\left(\\mathrm{k}_a - \\mathrm{k}_e\\right)} \\cdot \\left(\\mathrm{e}^{-\\mathrm{k}_e \\cdot t} - \\mathrm{e}^{-\\mathrm{k}_a \\cdot t}\\right)$$"
   ]
  },
  {
   "cell_type": "markdown",
   "metadata": {},
   "source": [
    "W przypadku naszych danych $V_d = 18,7l$, $\\mathrm{k}_e = 0,279/h$, $\\mathrm{k}_a = 2,29/h$, $X_{D_0} = 100mg$"
   ]
  },
  {
   "cell_type": "markdown",
   "metadata": {},
   "source": [
    "Wykorzystując analityczne rozwiązanie możemy wyliczyć wartość stężenia w kolejnych okresach czasu"
   ]
  },
  {
   "cell_type": "code",
   "execution_count": 202,
   "metadata": {},
   "outputs": [
    {
     "data": {
      "text/plain": [
       "one_analyt2 (generic function with 1 method)"
      ]
     },
     "execution_count": 202,
     "metadata": {},
     "output_type": "execute_result"
    }
   ],
   "source": [
    "function one_analyt2(t)\n",
    "    x = fill(NaN, length(t))\n",
    "    for i in 1:(length(t))\n",
    "        x[i] = ((2.29*100)/(18.7*(2.29-0.279))*(ℯ^(-0.279*t[i])-ℯ^(-2.29*t[i])))\n",
    "    end\n",
    "    return x\n",
    "end"
   ]
  },
  {
   "cell_type": "code",
   "execution_count": 203,
   "metadata": {},
   "outputs": [
    {
     "data": {
      "image/svg+xml": [
       "<?xml version=\"1.0\" encoding=\"utf-8\"?>\n",
       "<svg xmlns=\"http://www.w3.org/2000/svg\" xmlns:xlink=\"http://www.w3.org/1999/xlink\" width=\"600\" height=\"400\" viewBox=\"0 0 2400 1600\">\n",
       "<defs>\n",
       "  <clipPath id=\"clip610\">\n",
       "    <rect x=\"0\" y=\"0\" width=\"2400\" height=\"1600\"/>\n",
       "  </clipPath>\n",
       "</defs>\n",
       "<path clip-path=\"url(#clip610)\" d=\"\n",
       "M0 1600 L2400 1600 L2400 0 L0 0  Z\n",
       "  \" fill=\"#ffffff\" fill-rule=\"evenodd\" fill-opacity=\"1\"/>\n",
       "<defs>\n",
       "  <clipPath id=\"clip611\">\n",
       "    <rect x=\"480\" y=\"0\" width=\"1681\" height=\"1600\"/>\n",
       "  </clipPath>\n",
       "</defs>\n",
       "<path clip-path=\"url(#clip610)\" d=\"\n",
       "M175.445 1423.18 L2352.76 1423.18 L2352.76 47.2441 L175.445 47.2441  Z\n",
       "  \" fill=\"#ffffff\" fill-rule=\"evenodd\" fill-opacity=\"1\"/>\n",
       "<defs>\n",
       "  <clipPath id=\"clip612\">\n",
       "    <rect x=\"175\" y=\"47\" width=\"2178\" height=\"1377\"/>\n",
       "  </clipPath>\n",
       "</defs>\n",
       "<polyline clip-path=\"url(#clip612)\" style=\"stroke:#000000; stroke-width:2; stroke-opacity:0.1; fill:none\" points=\"\n",
       "  237.067,1423.18 237.067,47.2441 \n",
       "  \"/>\n",
       "<polyline clip-path=\"url(#clip612)\" style=\"stroke:#000000; stroke-width:2; stroke-opacity:0.1; fill:none\" points=\"\n",
       "  664.998,1423.18 664.998,47.2441 \n",
       "  \"/>\n",
       "<polyline clip-path=\"url(#clip612)\" style=\"stroke:#000000; stroke-width:2; stroke-opacity:0.1; fill:none\" points=\"\n",
       "  1092.93,1423.18 1092.93,47.2441 \n",
       "  \"/>\n",
       "<polyline clip-path=\"url(#clip612)\" style=\"stroke:#000000; stroke-width:2; stroke-opacity:0.1; fill:none\" points=\"\n",
       "  1520.86,1423.18 1520.86,47.2441 \n",
       "  \"/>\n",
       "<polyline clip-path=\"url(#clip612)\" style=\"stroke:#000000; stroke-width:2; stroke-opacity:0.1; fill:none\" points=\"\n",
       "  1948.79,1423.18 1948.79,47.2441 \n",
       "  \"/>\n",
       "<polyline clip-path=\"url(#clip610)\" style=\"stroke:#000000; stroke-width:4; stroke-opacity:1; fill:none\" points=\"\n",
       "  175.445,1423.18 2352.76,1423.18 \n",
       "  \"/>\n",
       "<polyline clip-path=\"url(#clip610)\" style=\"stroke:#000000; stroke-width:4; stroke-opacity:1; fill:none\" points=\"\n",
       "  237.067,1423.18 237.067,1406.67 \n",
       "  \"/>\n",
       "<polyline clip-path=\"url(#clip610)\" style=\"stroke:#000000; stroke-width:4; stroke-opacity:1; fill:none\" points=\"\n",
       "  664.998,1423.18 664.998,1406.67 \n",
       "  \"/>\n",
       "<polyline clip-path=\"url(#clip610)\" style=\"stroke:#000000; stroke-width:4; stroke-opacity:1; fill:none\" points=\"\n",
       "  1092.93,1423.18 1092.93,1406.67 \n",
       "  \"/>\n",
       "<polyline clip-path=\"url(#clip610)\" style=\"stroke:#000000; stroke-width:4; stroke-opacity:1; fill:none\" points=\"\n",
       "  1520.86,1423.18 1520.86,1406.67 \n",
       "  \"/>\n",
       "<polyline clip-path=\"url(#clip610)\" style=\"stroke:#000000; stroke-width:4; stroke-opacity:1; fill:none\" points=\"\n",
       "  1948.79,1423.18 1948.79,1406.67 \n",
       "  \"/>\n",
       "<path clip-path=\"url(#clip610)\" d=\"M 0 0 M237.067 1452.37 Q233.456 1452.37 231.627 1455.94 Q229.822 1459.48 229.822 1466.61 Q229.822 1473.71 231.627 1477.28 Q233.456 1480.82 237.067 1480.82 Q240.701 1480.82 242.507 1477.28 Q244.336 1473.71 244.336 1466.61 Q244.336 1459.48 242.507 1455.94 Q240.701 1452.37 237.067 1452.37 M237.067 1448.67 Q242.877 1448.67 245.933 1453.27 Q249.012 1457.86 249.012 1466.61 Q249.012 1475.33 245.933 1479.94 Q242.877 1484.52 237.067 1484.52 Q231.257 1484.52 228.178 1479.94 Q225.123 1475.33 225.123 1466.61 Q225.123 1457.86 228.178 1453.27 Q231.257 1448.67 237.067 1448.67 Z\" fill=\"#000000\" fill-rule=\"evenodd\" fill-opacity=\"1\" /><path clip-path=\"url(#clip610)\" d=\"M 0 0 M655.276 1449.29 L673.632 1449.29 L673.632 1453.23 L659.558 1453.23 L659.558 1461.7 Q660.576 1461.35 661.595 1461.19 Q662.614 1461 663.632 1461 Q669.419 1461 672.799 1464.18 Q676.178 1467.35 676.178 1472.76 Q676.178 1478.34 672.706 1481.44 Q669.234 1484.52 662.914 1484.52 Q660.739 1484.52 658.47 1484.15 Q656.225 1483.78 653.817 1483.04 L653.817 1478.34 Q655.901 1479.48 658.123 1480.03 Q660.345 1480.59 662.822 1480.59 Q666.826 1480.59 669.164 1478.48 Q671.502 1476.38 671.502 1472.76 Q671.502 1469.15 669.164 1467.05 Q666.826 1464.94 662.822 1464.94 Q660.947 1464.94 659.072 1465.36 Q657.22 1465.77 655.276 1466.65 L655.276 1449.29 Z\" fill=\"#000000\" fill-rule=\"evenodd\" fill-opacity=\"1\" /><path clip-path=\"url(#clip610)\" d=\"M 0 0 M1069.8 1479.92 L1077.44 1479.92 L1077.44 1453.55 L1069.13 1455.22 L1069.13 1450.96 L1077.4 1449.29 L1082.07 1449.29 L1082.07 1479.92 L1089.71 1479.92 L1089.71 1483.85 L1069.8 1483.85 L1069.8 1479.92 Z\" fill=\"#000000\" fill-rule=\"evenodd\" fill-opacity=\"1\" /><path clip-path=\"url(#clip610)\" d=\"M 0 0 M1104.78 1452.37 Q1101.17 1452.37 1099.34 1455.94 Q1097.53 1459.48 1097.53 1466.61 Q1097.53 1473.71 1099.34 1477.28 Q1101.17 1480.82 1104.78 1480.82 Q1108.41 1480.82 1110.22 1477.28 Q1112.05 1473.71 1112.05 1466.61 Q1112.05 1459.48 1110.22 1455.94 Q1108.41 1452.37 1104.78 1452.37 M1104.78 1448.67 Q1110.59 1448.67 1113.65 1453.27 Q1116.72 1457.86 1116.72 1466.61 Q1116.72 1475.33 1113.65 1479.94 Q1110.59 1484.52 1104.78 1484.52 Q1098.97 1484.52 1095.89 1479.94 Q1092.84 1475.33 1092.84 1466.61 Q1092.84 1457.86 1095.89 1453.27 Q1098.97 1448.67 1104.78 1448.67 Z\" fill=\"#000000\" fill-rule=\"evenodd\" fill-opacity=\"1\" /><path clip-path=\"url(#clip610)\" d=\"M 0 0 M1498.23 1479.92 L1505.87 1479.92 L1505.87 1453.55 L1497.56 1455.22 L1497.56 1450.96 L1505.82 1449.29 L1510.5 1449.29 L1510.5 1479.92 L1518.14 1479.92 L1518.14 1483.85 L1498.23 1483.85 L1498.23 1479.92 Z\" fill=\"#000000\" fill-rule=\"evenodd\" fill-opacity=\"1\" /><path clip-path=\"url(#clip610)\" d=\"M 0 0 M1523.25 1449.29 L1541.61 1449.29 L1541.61 1453.23 L1527.54 1453.23 L1527.54 1461.7 Q1528.56 1461.35 1529.57 1461.19 Q1530.59 1461 1531.61 1461 Q1537.4 1461 1540.78 1464.18 Q1544.16 1467.35 1544.16 1472.76 Q1544.16 1478.34 1540.69 1481.44 Q1537.21 1484.52 1530.89 1484.52 Q1528.72 1484.52 1526.45 1484.15 Q1524.2 1483.78 1521.8 1483.04 L1521.8 1478.34 Q1523.88 1479.48 1526.1 1480.03 Q1528.32 1480.59 1530.8 1480.59 Q1534.81 1480.59 1537.14 1478.48 Q1539.48 1476.38 1539.48 1472.76 Q1539.48 1469.15 1537.14 1467.05 Q1534.81 1464.94 1530.8 1464.94 Q1528.93 1464.94 1527.05 1465.36 Q1525.2 1465.77 1523.25 1466.65 L1523.25 1449.29 Z\" fill=\"#000000\" fill-rule=\"evenodd\" fill-opacity=\"1\" /><path clip-path=\"url(#clip610)\" d=\"M 0 0 M1929.94 1479.92 L1946.25 1479.92 L1946.25 1483.85 L1924.31 1483.85 L1924.31 1479.92 Q1926.97 1477.16 1931.56 1472.53 Q1936.16 1467.88 1937.34 1466.54 Q1939.59 1464.01 1940.47 1462.28 Q1941.37 1460.52 1941.37 1458.83 Q1941.37 1456.07 1939.43 1454.34 Q1937.5 1452.6 1934.4 1452.6 Q1932.2 1452.6 1929.75 1453.37 Q1927.32 1454.13 1924.54 1455.68 L1924.54 1450.96 Q1927.37 1449.82 1929.82 1449.25 Q1932.27 1448.67 1934.31 1448.67 Q1939.68 1448.67 1942.88 1451.35 Q1946.07 1454.04 1946.07 1458.53 Q1946.07 1460.66 1945.26 1462.58 Q1944.47 1464.48 1942.37 1467.07 Q1941.79 1467.74 1938.69 1470.96 Q1935.58 1474.15 1929.94 1479.92 Z\" fill=\"#000000\" fill-rule=\"evenodd\" fill-opacity=\"1\" /><path clip-path=\"url(#clip610)\" d=\"M 0 0 M1961.32 1452.37 Q1957.71 1452.37 1955.88 1455.94 Q1954.08 1459.48 1954.08 1466.61 Q1954.08 1473.71 1955.88 1477.28 Q1957.71 1480.82 1961.32 1480.82 Q1964.96 1480.82 1966.76 1477.28 Q1968.59 1473.71 1968.59 1466.61 Q1968.59 1459.48 1966.76 1455.94 Q1964.96 1452.37 1961.32 1452.37 M1961.32 1448.67 Q1967.13 1448.67 1970.19 1453.27 Q1973.27 1457.86 1973.27 1466.61 Q1973.27 1475.33 1970.19 1479.94 Q1967.13 1484.52 1961.32 1484.52 Q1955.51 1484.52 1952.44 1479.94 Q1949.38 1475.33 1949.38 1466.61 Q1949.38 1457.86 1952.44 1453.27 Q1955.51 1448.67 1961.32 1448.67 Z\" fill=\"#000000\" fill-rule=\"evenodd\" fill-opacity=\"1\" /><path clip-path=\"url(#clip610)\" d=\"M 0 0 M1215.45 1522.27 L1215.45 1532.4 L1227.51 1532.4 L1227.51 1536.95 L1215.45 1536.95 L1215.45 1556.3 Q1215.45 1560.66 1216.63 1561.9 Q1217.84 1563.14 1221.5 1563.14 L1227.51 1563.14 L1227.51 1568.04 L1221.5 1568.04 Q1214.72 1568.04 1212.14 1565.53 Q1209.56 1562.98 1209.56 1556.3 L1209.56 1536.95 L1205.27 1536.95 L1205.27 1532.4 L1209.56 1532.4 L1209.56 1522.27 L1215.45 1522.27 Z\" fill=\"#000000\" fill-rule=\"evenodd\" fill-opacity=\"1\" /><path clip-path=\"url(#clip610)\" d=\"M 0 0 M1253.84 1518.52 L1267.33 1518.52 L1267.33 1523.07 L1259.69 1523.07 L1259.69 1572.09 L1267.33 1572.09 L1267.33 1576.64 L1253.84 1576.64 L1253.84 1518.52 Z\" fill=\"#000000\" fill-rule=\"evenodd\" fill-opacity=\"1\" /><path clip-path=\"url(#clip610)\" d=\"M 0 0 M1303.11 1546.53 L1303.11 1568.04 L1297.25 1568.04 L1297.25 1546.72 Q1297.25 1541.66 1295.28 1539.14 Q1293.3 1536.63 1289.36 1536.63 Q1284.61 1536.63 1281.88 1539.65 Q1279.14 1542.68 1279.14 1547.9 L1279.14 1568.04 L1273.25 1568.04 L1273.25 1518.52 L1279.14 1518.52 L1279.14 1537.93 Q1281.24 1534.72 1284.07 1533.13 Q1286.94 1531.54 1290.66 1531.54 Q1296.8 1531.54 1299.96 1535.36 Q1303.11 1539.14 1303.11 1546.53 Z\" fill=\"#000000\" fill-rule=\"evenodd\" fill-opacity=\"1\" /><path clip-path=\"url(#clip610)\" d=\"M 0 0 M1322.94 1518.52 L1322.94 1576.64 L1309.44 1576.64 L1309.44 1572.09 L1317.05 1572.09 L1317.05 1523.07 L1309.44 1523.07 L1309.44 1518.52 L1322.94 1518.52 Z\" fill=\"#000000\" fill-rule=\"evenodd\" fill-opacity=\"1\" /><polyline clip-path=\"url(#clip612)\" style=\"stroke:#000000; stroke-width:2; stroke-opacity:0.1; fill:none\" points=\"\n",
       "  175.445,1384.24 2352.76,1384.24 \n",
       "  \"/>\n",
       "<polyline clip-path=\"url(#clip612)\" style=\"stroke:#000000; stroke-width:2; stroke-opacity:0.1; fill:none\" points=\"\n",
       "  175.445,1058.94 2352.76,1058.94 \n",
       "  \"/>\n",
       "<polyline clip-path=\"url(#clip612)\" style=\"stroke:#000000; stroke-width:2; stroke-opacity:0.1; fill:none\" points=\"\n",
       "  175.445,733.632 2352.76,733.632 \n",
       "  \"/>\n",
       "<polyline clip-path=\"url(#clip612)\" style=\"stroke:#000000; stroke-width:2; stroke-opacity:0.1; fill:none\" points=\"\n",
       "  175.445,408.33 2352.76,408.33 \n",
       "  \"/>\n",
       "<polyline clip-path=\"url(#clip612)\" style=\"stroke:#000000; stroke-width:2; stroke-opacity:0.1; fill:none\" points=\"\n",
       "  175.445,83.0267 2352.76,83.0267 \n",
       "  \"/>\n",
       "<polyline clip-path=\"url(#clip610)\" style=\"stroke:#000000; stroke-width:4; stroke-opacity:1; fill:none\" points=\"\n",
       "  175.445,1423.18 175.445,47.2441 \n",
       "  \"/>\n",
       "<polyline clip-path=\"url(#clip610)\" style=\"stroke:#000000; stroke-width:4; stroke-opacity:1; fill:none\" points=\"\n",
       "  175.445,1384.24 201.573,1384.24 \n",
       "  \"/>\n",
       "<polyline clip-path=\"url(#clip610)\" style=\"stroke:#000000; stroke-width:4; stroke-opacity:1; fill:none\" points=\"\n",
       "  175.445,1058.94 201.573,1058.94 \n",
       "  \"/>\n",
       "<polyline clip-path=\"url(#clip610)\" style=\"stroke:#000000; stroke-width:4; stroke-opacity:1; fill:none\" points=\"\n",
       "  175.445,733.632 201.573,733.632 \n",
       "  \"/>\n",
       "<polyline clip-path=\"url(#clip610)\" style=\"stroke:#000000; stroke-width:4; stroke-opacity:1; fill:none\" points=\"\n",
       "  175.445,408.33 201.573,408.33 \n",
       "  \"/>\n",
       "<polyline clip-path=\"url(#clip610)\" style=\"stroke:#000000; stroke-width:4; stroke-opacity:1; fill:none\" points=\"\n",
       "  175.445,83.0267 201.573,83.0267 \n",
       "  \"/>\n",
       "<path clip-path=\"url(#clip610)\" d=\"M 0 0 M127.501 1370.04 Q123.89 1370.04 122.061 1373.6 Q120.255 1377.14 120.255 1384.27 Q120.255 1391.38 122.061 1394.94 Q123.89 1398.49 127.501 1398.49 Q131.135 1398.49 132.941 1394.94 Q134.769 1391.38 134.769 1384.27 Q134.769 1377.14 132.941 1373.6 Q131.135 1370.04 127.501 1370.04 M127.501 1366.33 Q133.311 1366.33 136.367 1370.94 Q139.445 1375.52 139.445 1384.27 Q139.445 1393 136.367 1397.61 Q133.311 1402.19 127.501 1402.19 Q121.691 1402.19 118.612 1397.61 Q115.556 1393 115.556 1384.27 Q115.556 1375.52 118.612 1370.94 Q121.691 1366.33 127.501 1366.33 Z\" fill=\"#000000\" fill-rule=\"evenodd\" fill-opacity=\"1\" /><path clip-path=\"url(#clip610)\" d=\"M 0 0 M119.538 1072.28 L127.177 1072.28 L127.177 1045.91 L118.867 1047.58 L118.867 1043.32 L127.13 1041.66 L131.806 1041.66 L131.806 1072.28 L139.445 1072.28 L139.445 1076.22 L119.538 1076.22 L119.538 1072.28 Z\" fill=\"#000000\" fill-rule=\"evenodd\" fill-opacity=\"1\" /><path clip-path=\"url(#clip610)\" d=\"M 0 0 M123.126 746.977 L139.445 746.977 L139.445 750.912 L117.501 750.912 L117.501 746.977 Q120.163 744.223 124.746 739.593 Q129.353 734.94 130.533 733.598 Q132.779 731.075 133.658 729.339 Q134.561 727.579 134.561 725.889 Q134.561 723.135 132.617 721.399 Q130.695 719.663 127.593 719.663 Q125.394 719.663 122.941 720.427 Q120.51 721.19 117.732 722.741 L117.732 718.019 Q120.556 716.885 123.01 716.306 Q125.464 715.727 127.501 715.727 Q132.871 715.727 136.066 718.413 Q139.26 721.098 139.26 725.589 Q139.26 727.718 138.45 729.639 Q137.663 731.538 135.556 734.13 Q134.978 734.801 131.876 738.019 Q128.774 741.213 123.126 746.977 Z\" fill=\"#000000\" fill-rule=\"evenodd\" fill-opacity=\"1\" /><path clip-path=\"url(#clip610)\" d=\"M 0 0 M132.316 406.975 Q135.672 407.693 137.547 409.962 Q139.445 412.23 139.445 415.563 Q139.445 420.679 135.927 423.48 Q132.408 426.281 125.927 426.281 Q123.751 426.281 121.436 425.841 Q119.144 425.424 116.691 424.568 L116.691 420.054 Q118.635 421.188 120.95 421.767 Q123.265 422.346 125.788 422.346 Q130.186 422.346 132.478 420.61 Q134.792 418.874 134.792 415.563 Q134.792 412.508 132.64 410.795 Q130.51 409.059 126.691 409.059 L122.663 409.059 L122.663 405.216 L126.876 405.216 Q130.325 405.216 132.154 403.85 Q133.982 402.462 133.982 399.869 Q133.982 397.207 132.084 395.795 Q130.209 394.36 126.691 394.36 Q124.769 394.36 122.57 394.776 Q120.371 395.193 117.732 396.073 L117.732 391.906 Q120.394 391.165 122.709 390.795 Q125.047 390.425 127.107 390.425 Q132.431 390.425 135.533 392.855 Q138.635 395.263 138.635 399.383 Q138.635 402.253 136.992 404.244 Q135.348 406.212 132.316 406.975 Z\" fill=\"#000000\" fill-rule=\"evenodd\" fill-opacity=\"1\" /><path clip-path=\"url(#clip610)\" d=\"M 0 0 M129.862 69.8208 L118.056 88.2697 L129.862 88.2697 L129.862 69.8208 M128.635 65.7467 L134.515 65.7467 L134.515 88.2697 L139.445 88.2697 L139.445 92.1586 L134.515 92.1586 L134.515 100.307 L129.862 100.307 L129.862 92.1586 L114.26 92.1586 L114.26 87.6447 L128.635 65.7467 Z\" fill=\"#000000\" fill-rule=\"evenodd\" fill-opacity=\"1\" /><path clip-path=\"url(#clip610)\" d=\"M 0 0 M20.1444 809.563 L26.9239 809.563 Q23.9002 812.81 22.4043 816.502 Q20.9083 820.162 20.9083 824.3 Q20.9083 832.448 25.9054 836.777 Q30.8707 841.105 40.2919 841.105 Q49.6813 841.105 54.6784 836.777 Q59.6436 832.448 59.6436 824.3 Q59.6436 820.162 58.1477 816.502 Q56.6518 812.81 53.6281 809.563 L60.3439 809.563 Q62.6355 812.937 63.7814 816.725 Q64.9272 820.481 64.9272 824.682 Q64.9272 835.472 58.3387 841.678 Q51.7183 847.885 40.2919 847.885 Q28.8336 847.885 22.2451 841.678 Q15.6248 835.472 15.6248 824.682 Q15.6248 820.417 16.7706 816.661 Q17.8846 812.874 20.1444 809.563 Z\" fill=\"#000000\" fill-rule=\"evenodd\" fill-opacity=\"1\" /><path clip-path=\"url(#clip610)\" d=\"M 0 0 M14.479 783.241 L14.479 769.746 L19.0304 769.746 L19.0304 777.385 L68.0464 777.385 L68.0464 769.746 L72.5979 769.746 L72.5979 783.241 L14.479 783.241 Z\" fill=\"#000000\" fill-rule=\"evenodd\" fill-opacity=\"1\" /><path clip-path=\"url(#clip610)\" d=\"M 0 0 M35.1993 735.849 Q31.2526 733.652 29.3747 730.597 Q27.4968 727.541 27.4968 723.404 Q27.4968 717.834 31.4117 714.81 Q35.2948 711.786 42.4881 711.786 L64.0042 711.786 L64.0042 717.674 L42.679 717.674 Q37.5546 717.674 35.072 719.489 Q32.5894 721.303 32.5894 725.027 Q32.5894 729.578 35.6131 732.22 Q38.6368 734.862 43.8567 734.862 L64.0042 734.862 L64.0042 740.75 L42.679 740.75 Q37.5228 740.75 35.072 742.564 Q32.5894 744.379 32.5894 748.166 Q32.5894 752.654 35.6449 755.296 Q38.6686 757.938 43.8567 757.938 L64.0042 757.938 L64.0042 763.826 L28.3562 763.826 L28.3562 757.938 L33.8944 757.938 Q30.616 755.932 29.0564 753.131 Q27.4968 750.331 27.4968 746.479 Q27.4968 742.596 29.4702 739.891 Q31.4436 737.154 35.1993 735.849 Z\" fill=\"#000000\" fill-rule=\"evenodd\" fill-opacity=\"1\" /><path clip-path=\"url(#clip610)\" d=\"M 0 0 M45.7664 682.186 Q39.4007 682.186 35.8996 684.827 Q32.3984 687.437 32.3984 692.18 Q32.3984 696.89 35.8996 699.532 Q39.4007 702.142 45.7664 702.142 Q52.1003 702.142 55.6014 699.532 Q59.1026 696.89 59.1026 692.18 Q59.1026 687.437 55.6014 684.827 Q52.1003 682.186 45.7664 682.186 M59.58 676.329 Q68.683 676.329 73.1071 680.371 Q77.5631 684.414 77.5631 692.753 Q77.5631 695.84 77.0857 698.577 Q76.6401 701.315 75.6852 703.893 L69.9879 703.893 Q71.3884 701.315 72.0568 698.8 Q72.7252 696.286 72.7252 693.676 Q72.7252 687.915 69.7015 685.05 Q66.7096 682.186 60.6303 682.186 L57.7339 682.186 Q60.885 684 62.4446 686.833 Q64.0042 689.665 64.0042 693.612 Q64.0042 700.169 59.0071 704.179 Q54.01 708.19 45.7664 708.19 Q37.491 708.19 32.4939 704.179 Q27.4968 700.169 27.4968 693.612 Q27.4968 689.665 29.0564 686.833 Q30.616 684 33.7671 682.186 L28.3562 682.186 L28.3562 676.329 L59.58 676.329 Z\" fill=\"#000000\" fill-rule=\"evenodd\" fill-opacity=\"1\" /><path clip-path=\"url(#clip610)\" d=\"M 0 0 M16.4842 659.778 L16.4842 654.367 L70.0516 670.918 L70.0516 676.329 L16.4842 659.778 Z\" fill=\"#000000\" fill-rule=\"evenodd\" fill-opacity=\"1\" /><path clip-path=\"url(#clip610)\" d=\"M 0 0 M14.479 648.225 L14.479 642.368 L64.0042 642.368 L64.0042 648.225 L14.479 648.225 Z\" fill=\"#000000\" fill-rule=\"evenodd\" fill-opacity=\"1\" /><path clip-path=\"url(#clip610)\" d=\"M 0 0 M14.479 622.539 L72.5979 622.539 L72.5979 636.034 L68.0464 636.034 L68.0464 628.427 L19.0304 628.427 L19.0304 636.034 L14.479 636.034 L14.479 622.539 Z\" fill=\"#000000\" fill-rule=\"evenodd\" fill-opacity=\"1\" /><circle clip-path=\"url(#clip612)\" cx=\"279.86\" cy=\"538.451\" r=\"14\" fill=\"#009af9\" fill-rule=\"evenodd\" fill-opacity=\"1\" stroke=\"#000000\" stroke-opacity=\"1\" stroke-width=\"3.2\"/>\n",
       "<circle clip-path=\"url(#clip612)\" cx=\"322.653\" cy=\"99.2919\" r=\"14\" fill=\"#009af9\" fill-rule=\"evenodd\" fill-opacity=\"1\" stroke=\"#000000\" stroke-opacity=\"1\" stroke-width=\"3.2\"/>\n",
       "<circle clip-path=\"url(#clip612)\" cx=\"365.446\" cy=\"122.063\" r=\"14\" fill=\"#009af9\" fill-rule=\"evenodd\" fill-opacity=\"1\" stroke=\"#000000\" stroke-opacity=\"1\" stroke-width=\"3.2\"/>\n",
       "<circle clip-path=\"url(#clip612)\" cx=\"408.239\" cy=\"229.413\" r=\"14\" fill=\"#009af9\" fill-rule=\"evenodd\" fill-opacity=\"1\" stroke=\"#000000\" stroke-opacity=\"1\" stroke-width=\"3.2\"/>\n",
       "<circle clip-path=\"url(#clip612)\" cx=\"493.826\" cy=\"463.631\" r=\"14\" fill=\"#009af9\" fill-rule=\"evenodd\" fill-opacity=\"1\" stroke=\"#000000\" stroke-opacity=\"1\" stroke-width=\"3.2\"/>\n",
       "<circle clip-path=\"url(#clip612)\" cx=\"750.584\" cy=\"971.104\" r=\"14\" fill=\"#009af9\" fill-rule=\"evenodd\" fill-opacity=\"1\" stroke=\"#000000\" stroke-opacity=\"1\" stroke-width=\"3.2\"/>\n",
       "<circle clip-path=\"url(#clip612)\" cx=\"1007.34\" cy=\"1241.1\" r=\"14\" fill=\"#009af9\" fill-rule=\"evenodd\" fill-opacity=\"1\" stroke=\"#000000\" stroke-opacity=\"1\" stroke-width=\"3.2\"/>\n",
       "<circle clip-path=\"url(#clip612)\" cx=\"1264.1\" cy=\"1328.94\" r=\"14\" fill=\"#009af9\" fill-rule=\"evenodd\" fill-opacity=\"1\" stroke=\"#000000\" stroke-opacity=\"1\" stroke-width=\"3.2\"/>\n",
       "<circle clip-path=\"url(#clip612)\" cx=\"2291.13\" cy=\"1367.97\" r=\"14\" fill=\"#009af9\" fill-rule=\"evenodd\" fill-opacity=\"1\" stroke=\"#000000\" stroke-opacity=\"1\" stroke-width=\"3.2\"/>\n",
       "<polyline clip-path=\"url(#clip612)\" style=\"stroke:#e26f46; stroke-width:4; stroke-opacity:1; fill:none\" points=\"\n",
       "  237.067,1384.24 245.626,1033.3 254.184,763.848 262.743,558.934 271.302,405.092 279.86,291.617 288.419,210.003 296.977,153.492 305.536,116.715 314.095,95.4078 \n",
       "  322.653,86.1857 331.212,86.3627 339.771,93.8085 348.329,106.834 356.888,124.103 365.446,144.555 374.005,167.355 382.564,191.843 391.122,217.497 399.681,243.91 \n",
       "  408.239,270.76 416.798,297.798 425.357,324.829 433.915,351.701 442.474,378.301 451.032,404.538 459.591,430.349 468.15,455.684 476.708,480.508 485.267,504.797 \n",
       "  493.826,528.537 502.384,551.716 510.943,574.333 519.501,596.386 528.06,617.88 536.619,638.82 545.177,659.214 553.736,679.07 562.294,698.399 570.853,717.211 \n",
       "  579.412,735.518 587.97,753.33 596.529,770.66 605.087,787.519 613.646,803.918 622.205,819.871 630.763,835.387 639.322,850.479 647.881,865.158 656.439,879.434 \n",
       "  664.998,893.319 673.556,906.822 682.115,919.955 690.674,932.727 699.232,945.149 707.791,957.228 716.349,968.976 724.908,980.401 733.467,991.511 742.025,1002.32 \n",
       "  750.584,1012.82 759.142,1023.04 767.701,1032.98 776.26,1042.65 784.818,1052.04 793.377,1061.18 801.936,1070.07 810.494,1078.72 819.053,1087.12 827.611,1095.3 \n",
       "  836.17,1103.25 844.729,1110.98 853.287,1118.5 861.846,1125.81 870.404,1132.92 878.963,1139.83 887.522,1146.56 896.08,1153.1 904.639,1159.46 913.197,1165.64 \n",
       "  921.756,1171.66 930.315,1177.51 938.873,1183.19 947.432,1188.73 955.991,1194.11 964.549,1199.34 973.108,1204.42 981.666,1209.37 990.225,1214.18 998.784,1218.86 \n",
       "  1007.34,1223.41 1015.9,1227.84 1024.46,1232.14 1033.02,1236.33 1041.58,1240.4 1050.14,1244.35 1058.69,1248.2 1067.25,1251.94 1075.81,1255.58 1084.37,1259.12 \n",
       "  1092.93,1262.57 1101.49,1265.91 1110.05,1269.17 1118.6,1272.34 1127.16,1275.42 1135.72,1278.41 1144.28,1281.32 1152.84,1284.15 1161.4,1286.91 1169.96,1289.58 \n",
       "  1178.51,1292.19 1187.07,1294.72 1195.63,1297.18 1204.19,1299.58 1212.75,1301.91 1221.31,1304.17 1229.87,1306.38 1238.42,1308.52 1246.98,1310.6 1255.54,1312.63 \n",
       "  1264.1,1314.6 1272.66,1316.52 1281.22,1318.38 1289.78,1320.19 1298.34,1321.95 1306.89,1323.67 1315.45,1325.33 1324.01,1326.95 1332.57,1328.53 1341.13,1330.06 \n",
       "  1349.69,1331.55 1358.25,1333 1366.8,1334.41 1375.36,1335.78 1383.92,1337.12 1392.48,1338.41 1401.04,1339.67 1409.6,1340.9 1418.16,1342.09 1426.71,1343.25 \n",
       "  1435.27,1344.38 1443.83,1345.48 1452.39,1346.54 1460.95,1347.58 1469.51,1348.59 1478.07,1349.57 1486.62,1350.52 1495.18,1351.45 1503.74,1352.35 1512.3,1353.23 \n",
       "  1520.86,1354.08 1529.42,1354.91 1537.98,1355.72 1546.53,1356.51 1555.09,1357.27 1563.65,1358.01 1572.21,1358.73 1580.77,1359.43 1589.33,1360.12 1597.89,1360.78 \n",
       "  1606.45,1361.43 1615,1362.05 1623.56,1362.66 1632.12,1363.26 1640.68,1363.83 1649.24,1364.4 1657.8,1364.94 1666.36,1365.47 1674.91,1365.99 1683.47,1366.49 \n",
       "  1692.03,1366.98 1700.59,1367.45 1709.15,1367.92 1717.71,1368.37 1726.27,1368.8 1734.82,1369.23 1743.38,1369.64 1751.94,1370.04 1760.5,1370.43 1769.06,1370.81 \n",
       "  1777.62,1371.18 1786.18,1371.54 1794.73,1371.89 1803.29,1372.23 1811.85,1372.56 1820.41,1372.88 1828.97,1373.19 1837.53,1373.5 1846.09,1373.79 1854.64,1374.08 \n",
       "  1863.2,1374.36 1871.76,1374.63 1880.32,1374.9 1888.88,1375.15 1897.44,1375.4 1906,1375.65 1914.56,1375.88 1923.11,1376.11 1931.67,1376.34 1940.23,1376.55 \n",
       "  1948.79,1376.77 1957.35,1376.97 1965.91,1377.17 1974.47,1377.37 1983.02,1377.55 1991.58,1377.74 2000.14,1377.92 2008.7,1378.09 2017.26,1378.26 2025.82,1378.42 \n",
       "  2034.38,1378.58 2042.93,1378.74 2051.49,1378.89 2060.05,1379.04 2068.61,1379.18 2077.17,1379.32 2085.73,1379.46 2094.29,1379.59 2102.84,1379.72 2111.4,1379.84 \n",
       "  2119.96,1379.96 2128.52,1380.08 2137.08,1380.19 2145.64,1380.3 2154.2,1380.41 2162.75,1380.52 2171.31,1380.62 2179.87,1380.72 2188.43,1380.82 2196.99,1380.91 \n",
       "  2205.55,1381 2214.11,1381.09 2222.67,1381.18 2231.22,1381.26 2239.78,1381.34 2248.34,1381.42 2256.9,1381.5 2265.46,1381.58 2274.02,1381.65 2282.58,1381.72 \n",
       "  2291.13,1381.79 \n",
       "  \"/>\n",
       "<path clip-path=\"url(#clip610)\" d=\"\n",
       "M1647.12 274.549 L2280.18 274.549 L2280.18 93.1086 L1647.12 93.1086  Z\n",
       "  \" fill=\"#ffffff\" fill-rule=\"evenodd\" fill-opacity=\"1\"/>\n",
       "<polyline clip-path=\"url(#clip610)\" style=\"stroke:#000000; stroke-width:4; stroke-opacity:1; fill:none\" points=\"\n",
       "  1647.12,274.549 2280.18,274.549 2280.18,93.1086 1647.12,93.1086 1647.12,274.549 \n",
       "  \"/>\n",
       "<circle clip-path=\"url(#clip610)\" cx=\"1743.89\" cy=\"153.589\" r=\"23\" fill=\"#009af9\" fill-rule=\"evenodd\" fill-opacity=\"1\" stroke=\"#000000\" stroke-opacity=\"1\" stroke-width=\"5.12\"/>\n",
       "<path clip-path=\"url(#clip610)\" d=\"M 0 0 M1840.66 144.943 L1844.92 144.943 L1850.25 165.174 L1855.55 144.943 L1860.57 144.943 L1865.89 165.174 L1871.19 144.943 L1875.45 144.943 L1868.67 170.869 L1863.65 170.869 L1858.07 149.619 L1852.47 170.869 L1847.44 170.869 L1840.66 144.943 Z\" fill=\"#000000\" fill-rule=\"evenodd\" fill-opacity=\"1\" /><path clip-path=\"url(#clip610)\" d=\"M 0 0 M1891.7 157.836 Q1886.54 157.836 1884.55 159.017 Q1882.56 160.197 1882.56 163.045 Q1882.56 165.313 1884.04 166.656 Q1885.55 167.975 1888.12 167.975 Q1891.66 167.975 1893.79 165.475 Q1895.94 162.952 1895.94 158.785 L1895.94 157.836 L1891.7 157.836 M1900.2 156.077 L1900.2 170.869 L1895.94 170.869 L1895.94 166.933 Q1894.48 169.295 1892.31 170.429 Q1890.13 171.54 1886.98 171.54 Q1883 171.54 1880.64 169.318 Q1878.3 167.072 1878.3 163.322 Q1878.3 158.947 1881.22 156.725 Q1884.16 154.503 1889.97 154.503 L1895.94 154.503 L1895.94 154.086 Q1895.94 151.147 1894 149.549 Q1892.07 147.929 1888.58 147.929 Q1886.36 147.929 1884.25 148.461 Q1882.14 148.994 1880.2 150.059 L1880.2 146.123 Q1882.54 145.221 1884.74 144.781 Q1886.93 144.318 1889.02 144.318 Q1894.64 144.318 1897.42 147.234 Q1900.2 150.151 1900.2 156.077 Z\" fill=\"#000000\" fill-rule=\"evenodd\" fill-opacity=\"1\" /><path clip-path=\"url(#clip610)\" d=\"M 0 0 M1919.69 148.924 Q1918.97 148.508 1918.12 148.322 Q1917.28 148.114 1916.26 148.114 Q1912.65 148.114 1910.71 150.475 Q1908.79 152.813 1908.79 157.211 L1908.79 170.869 L1904.5 170.869 L1904.5 144.943 L1908.79 144.943 L1908.79 148.971 Q1910.13 146.609 1912.28 145.475 Q1914.43 144.318 1917.51 144.318 Q1917.95 144.318 1918.49 144.387 Q1919.02 144.434 1919.67 144.549 L1919.69 148.924 Z\" fill=\"#000000\" fill-rule=\"evenodd\" fill-opacity=\"1\" /><path clip-path=\"url(#clip610)\" d=\"M 0 0 M1928.37 137.582 L1928.37 144.943 L1937.14 144.943 L1937.14 148.253 L1928.37 148.253 L1928.37 162.327 Q1928.37 165.498 1929.23 166.401 Q1930.11 167.304 1932.77 167.304 L1937.14 167.304 L1937.14 170.869 L1932.77 170.869 Q1927.84 170.869 1925.96 169.04 Q1924.09 167.188 1924.09 162.327 L1924.09 148.253 L1920.96 148.253 L1920.96 144.943 L1924.09 144.943 L1924.09 137.582 L1928.37 137.582 Z\" fill=\"#000000\" fill-rule=\"evenodd\" fill-opacity=\"1\" /><path clip-path=\"url(#clip610)\" d=\"M 0 0 M1951.66 147.929 Q1948.23 147.929 1946.24 150.614 Q1944.25 153.276 1944.25 157.929 Q1944.25 162.582 1946.22 165.267 Q1948.21 167.929 1951.66 167.929 Q1955.06 167.929 1957.05 165.244 Q1959.04 162.558 1959.04 157.929 Q1959.04 153.322 1957.05 150.637 Q1955.06 147.929 1951.66 147.929 M1951.66 144.318 Q1957.21 144.318 1960.38 147.929 Q1963.55 151.54 1963.55 157.929 Q1963.55 164.295 1960.38 167.929 Q1957.21 171.54 1951.66 171.54 Q1946.08 171.54 1942.91 167.929 Q1939.76 164.295 1939.76 157.929 Q1939.76 151.54 1942.91 147.929 Q1946.08 144.318 1951.66 144.318 Z\" fill=\"#000000\" fill-rule=\"evenodd\" fill-opacity=\"1\" /><path clip-path=\"url(#clip610)\" d=\"M 0 0 M1980.15 132.79 L1984.76 132.79 L1977.21 141.494 L1973.67 141.494 L1980.15 132.79 M1984.55 145.707 L1984.55 149.734 Q1982.74 148.809 1980.8 148.346 Q1978.86 147.883 1976.77 147.883 Q1973.6 147.883 1972 148.855 Q1970.43 149.827 1970.43 151.771 Q1970.43 153.253 1971.56 154.109 Q1972.7 154.943 1976.12 155.707 L1977.58 156.031 Q1982.12 157.003 1984.02 158.785 Q1985.94 160.545 1985.94 163.716 Q1985.94 167.327 1983.07 169.433 Q1980.22 171.54 1975.22 171.54 Q1973.14 171.54 1970.87 171.123 Q1968.62 170.73 1966.12 169.92 L1966.12 165.521 Q1968.49 166.748 1970.78 167.373 Q1973.07 167.975 1975.31 167.975 Q1978.32 167.975 1979.94 166.957 Q1981.56 165.915 1981.56 164.04 Q1981.56 162.304 1980.38 161.378 Q1979.23 160.452 1975.27 159.596 L1973.79 159.248 Q1969.83 158.415 1968.07 156.702 Q1966.31 154.966 1966.31 151.957 Q1966.31 148.299 1968.9 146.309 Q1971.49 144.318 1976.26 144.318 Q1978.62 144.318 1980.71 144.665 Q1982.79 145.012 1984.55 145.707 Z\" fill=\"#000000\" fill-rule=\"evenodd\" fill-opacity=\"1\" /><path clip-path=\"url(#clip610)\" d=\"M 0 0 M2009.06 145.938 L2009.06 149.92 Q2007.26 148.924 2005.43 148.438 Q2003.62 147.929 2001.77 147.929 Q1997.63 147.929 1995.34 150.568 Q1993.05 153.184 1993.05 157.929 Q1993.05 162.674 1995.34 165.313 Q1997.63 167.929 2001.77 167.929 Q2003.62 167.929 2005.43 167.443 Q2007.26 166.933 2009.06 165.938 L2009.06 169.873 Q2007.28 170.707 2005.36 171.123 Q2003.46 171.54 2001.31 171.54 Q1995.45 171.54 1992 167.859 Q1988.55 164.179 1988.55 157.929 Q1988.55 151.586 1992.03 147.952 Q1995.52 144.318 2001.59 144.318 Q2003.55 144.318 2005.43 144.735 Q2007.3 145.128 2009.06 145.938 Z\" fill=\"#000000\" fill-rule=\"evenodd\" fill-opacity=\"1\" /><path clip-path=\"url(#clip610)\" d=\"M 0 0 M2013.53 144.943 L2017.79 144.943 L2017.79 170.869 L2013.53 170.869 L2013.53 144.943 M2013.53 134.85 L2017.79 134.85 L2017.79 140.244 L2013.53 140.244 L2013.53 134.85 Z\" fill=\"#000000\" fill-rule=\"evenodd\" fill-opacity=\"1\" /><path clip-path=\"url(#clip610)\" d=\"M 0 0 M2057.51 149.92 Q2059.11 147.049 2061.33 145.684 Q2063.55 144.318 2066.56 144.318 Q2070.61 144.318 2072.81 147.165 Q2075.01 149.989 2075.01 155.221 L2075.01 170.869 L2070.73 170.869 L2070.73 155.359 Q2070.73 151.633 2069.41 149.827 Q2068.09 148.022 2065.38 148.022 Q2062.07 148.022 2060.15 150.221 Q2058.23 152.42 2058.23 156.216 L2058.23 170.869 L2053.95 170.869 L2053.95 155.359 Q2053.95 151.609 2052.63 149.827 Q2051.31 148.022 2048.55 148.022 Q2045.29 148.022 2043.37 150.244 Q2041.45 152.443 2041.45 156.216 L2041.45 170.869 L2037.17 170.869 L2037.17 144.943 L2041.45 144.943 L2041.45 148.971 Q2042.91 146.586 2044.94 145.452 Q2046.98 144.318 2049.78 144.318 Q2052.61 144.318 2054.57 145.753 Q2056.56 147.188 2057.51 149.92 Z\" fill=\"#000000\" fill-rule=\"evenodd\" fill-opacity=\"1\" /><path clip-path=\"url(#clip610)\" d=\"M 0 0 M2079.48 144.943 L2083.74 144.943 L2083.74 170.869 L2079.48 170.869 L2079.48 144.943 M2079.48 134.85 L2083.74 134.85 L2083.74 140.244 L2079.48 140.244 L2079.48 134.85 Z\" fill=\"#000000\" fill-rule=\"evenodd\" fill-opacity=\"1\" /><path clip-path=\"url(#clip610)\" d=\"M 0 0 M2110.38 156.841 L2110.38 158.924 L2090.8 158.924 Q2091.08 163.322 2093.44 165.637 Q2095.82 167.929 2100.06 167.929 Q2102.51 167.929 2104.8 167.327 Q2107.12 166.725 2109.39 165.521 L2109.39 169.549 Q2107.1 170.521 2104.69 171.031 Q2102.28 171.54 2099.8 171.54 Q2093.6 171.54 2089.97 167.929 Q2086.36 164.318 2086.36 158.16 Q2086.36 151.795 2089.78 148.068 Q2093.23 144.318 2099.06 144.318 Q2104.29 144.318 2107.33 147.697 Q2110.38 151.054 2110.38 156.841 M2106.12 155.591 Q2106.08 152.096 2104.16 150.012 Q2102.26 147.929 2099.11 147.929 Q2095.54 147.929 2093.39 149.943 Q2091.26 151.957 2090.94 155.614 L2106.12 155.591 Z\" fill=\"#000000\" fill-rule=\"evenodd\" fill-opacity=\"1\" /><path clip-path=\"url(#clip610)\" d=\"M 0 0 M2129.87 148.924 Q2129.16 148.508 2128.3 148.322 Q2127.47 148.114 2126.45 148.114 Q2122.84 148.114 2120.89 150.475 Q2118.97 152.813 2118.97 157.211 L2118.97 170.869 L2114.69 170.869 L2114.69 144.943 L2118.97 144.943 L2118.97 148.971 Q2120.31 146.609 2122.47 145.475 Q2124.62 144.318 2127.7 144.318 Q2128.14 144.318 2128.67 144.387 Q2129.2 144.434 2129.85 144.549 L2129.87 148.924 Z\" fill=\"#000000\" fill-rule=\"evenodd\" fill-opacity=\"1\" /><path clip-path=\"url(#clip610)\" d=\"M 0 0 M2132.49 144.943 L2152.72 144.943 L2152.72 148.832 L2136.7 167.466 L2152.72 167.466 L2152.72 170.869 L2131.91 170.869 L2131.91 166.98 L2147.93 148.346 L2132.49 148.346 L2132.49 144.943 Z\" fill=\"#000000\" fill-rule=\"evenodd\" fill-opacity=\"1\" /><path clip-path=\"url(#clip610)\" d=\"M 0 0 M2167.23 147.929 Q2163.81 147.929 2161.82 150.614 Q2159.83 153.276 2159.83 157.929 Q2159.83 162.582 2161.79 165.267 Q2163.79 167.929 2167.23 167.929 Q2170.64 167.929 2172.63 165.244 Q2174.62 162.558 2174.62 157.929 Q2174.62 153.322 2172.63 150.637 Q2170.64 147.929 2167.23 147.929 M2167.23 144.318 Q2172.79 144.318 2175.96 147.929 Q2179.13 151.54 2179.13 157.929 Q2179.13 164.295 2175.96 167.929 Q2172.79 171.54 2167.23 171.54 Q2161.66 171.54 2158.48 167.929 Q2155.34 164.295 2155.34 157.929 Q2155.34 151.54 2158.48 147.929 Q2161.66 144.318 2167.23 144.318 Z\" fill=\"#000000\" fill-rule=\"evenodd\" fill-opacity=\"1\" /><path clip-path=\"url(#clip610)\" d=\"M 0 0 M2205.15 155.221 L2205.15 170.869 L2200.89 170.869 L2200.89 155.359 Q2200.89 151.679 2199.46 149.85 Q2198.02 148.022 2195.15 148.022 Q2191.7 148.022 2189.71 150.221 Q2187.72 152.42 2187.72 156.216 L2187.72 170.869 L2183.44 170.869 L2183.44 144.943 L2187.72 144.943 L2187.72 148.971 Q2189.25 146.633 2191.31 145.475 Q2193.39 144.318 2196.1 144.318 Q2200.57 144.318 2202.86 147.096 Q2205.15 149.85 2205.15 155.221 Z\" fill=\"#000000\" fill-rule=\"evenodd\" fill-opacity=\"1\" /><path clip-path=\"url(#clip610)\" d=\"M 0 0 M2231.79 156.841 L2231.79 158.924 L2212.21 158.924 Q2212.49 163.322 2214.85 165.637 Q2217.23 167.929 2221.47 167.929 Q2223.92 167.929 2226.22 167.327 Q2228.53 166.725 2230.8 165.521 L2230.8 169.549 Q2228.51 170.521 2226.1 171.031 Q2223.69 171.54 2221.22 171.54 Q2215.01 171.54 2211.38 167.929 Q2207.77 164.318 2207.77 158.16 Q2207.77 151.795 2211.19 148.068 Q2214.64 144.318 2220.47 144.318 Q2225.71 144.318 2228.74 147.697 Q2231.79 151.054 2231.79 156.841 M2227.53 155.591 Q2227.49 152.096 2225.57 150.012 Q2223.67 147.929 2220.52 147.929 Q2216.96 147.929 2214.8 149.943 Q2212.67 151.957 2212.35 155.614 L2227.53 155.591 Z\" fill=\"#000000\" fill-rule=\"evenodd\" fill-opacity=\"1\" /><polyline clip-path=\"url(#clip610)\" style=\"stroke:#e26f46; stroke-width:4; stroke-opacity:1; fill:none\" points=\"\n",
       "  1671.32,214.069 1816.47,214.069 \n",
       "  \"/>\n",
       "<path clip-path=\"url(#clip610)\" d=\"M 0 0 M1840.66 205.423 L1844.92 205.423 L1850.25 225.654 L1855.55 205.423 L1860.57 205.423 L1865.89 225.654 L1871.19 205.423 L1875.45 205.423 L1868.67 231.349 L1863.65 231.349 L1858.07 210.099 L1852.47 231.349 L1847.44 231.349 L1840.66 205.423 Z\" fill=\"#000000\" fill-rule=\"evenodd\" fill-opacity=\"1\" /><path clip-path=\"url(#clip610)\" d=\"M 0 0 M1891.7 218.316 Q1886.54 218.316 1884.55 219.497 Q1882.56 220.677 1882.56 223.525 Q1882.56 225.793 1884.04 227.136 Q1885.55 228.455 1888.12 228.455 Q1891.66 228.455 1893.79 225.955 Q1895.94 223.432 1895.94 219.265 L1895.94 218.316 L1891.7 218.316 M1900.2 216.557 L1900.2 231.349 L1895.94 231.349 L1895.94 227.413 Q1894.48 229.775 1892.31 230.909 Q1890.13 232.02 1886.98 232.02 Q1883 232.02 1880.64 229.798 Q1878.3 227.552 1878.3 223.802 Q1878.3 219.427 1881.22 217.205 Q1884.16 214.983 1889.97 214.983 L1895.94 214.983 L1895.94 214.566 Q1895.94 211.627 1894 210.029 Q1892.07 208.409 1888.58 208.409 Q1886.36 208.409 1884.25 208.941 Q1882.14 209.474 1880.2 210.539 L1880.2 206.603 Q1882.54 205.701 1884.74 205.261 Q1886.93 204.798 1889.02 204.798 Q1894.64 204.798 1897.42 207.714 Q1900.2 210.631 1900.2 216.557 Z\" fill=\"#000000\" fill-rule=\"evenodd\" fill-opacity=\"1\" /><path clip-path=\"url(#clip610)\" d=\"M 0 0 M1919.69 209.404 Q1918.97 208.988 1918.12 208.802 Q1917.28 208.594 1916.26 208.594 Q1912.65 208.594 1910.71 210.955 Q1908.79 213.293 1908.79 217.691 L1908.79 231.349 L1904.5 231.349 L1904.5 205.423 L1908.79 205.423 L1908.79 209.451 Q1910.13 207.089 1912.28 205.955 Q1914.43 204.798 1917.51 204.798 Q1917.95 204.798 1918.49 204.867 Q1919.02 204.914 1919.67 205.029 L1919.69 209.404 Z\" fill=\"#000000\" fill-rule=\"evenodd\" fill-opacity=\"1\" /><path clip-path=\"url(#clip610)\" d=\"M 0 0 M1928.37 198.062 L1928.37 205.423 L1937.14 205.423 L1937.14 208.733 L1928.37 208.733 L1928.37 222.807 Q1928.37 225.978 1929.23 226.881 Q1930.11 227.784 1932.77 227.784 L1937.14 227.784 L1937.14 231.349 L1932.77 231.349 Q1927.84 231.349 1925.96 229.52 Q1924.09 227.668 1924.09 222.807 L1924.09 208.733 L1920.96 208.733 L1920.96 205.423 L1924.09 205.423 L1924.09 198.062 L1928.37 198.062 Z\" fill=\"#000000\" fill-rule=\"evenodd\" fill-opacity=\"1\" /><path clip-path=\"url(#clip610)\" d=\"M 0 0 M1951.66 208.409 Q1948.23 208.409 1946.24 211.094 Q1944.25 213.756 1944.25 218.409 Q1944.25 223.062 1946.22 225.747 Q1948.21 228.409 1951.66 228.409 Q1955.06 228.409 1957.05 225.724 Q1959.04 223.038 1959.04 218.409 Q1959.04 213.802 1957.05 211.117 Q1955.06 208.409 1951.66 208.409 M1951.66 204.798 Q1957.21 204.798 1960.38 208.409 Q1963.55 212.02 1963.55 218.409 Q1963.55 224.775 1960.38 228.409 Q1957.21 232.02 1951.66 232.02 Q1946.08 232.02 1942.91 228.409 Q1939.76 224.775 1939.76 218.409 Q1939.76 212.02 1942.91 208.409 Q1946.08 204.798 1951.66 204.798 Z\" fill=\"#000000\" fill-rule=\"evenodd\" fill-opacity=\"1\" /><path clip-path=\"url(#clip610)\" d=\"M 0 0 M1980.15 193.27 L1984.76 193.27 L1977.21 201.974 L1973.67 201.974 L1980.15 193.27 M1984.55 206.187 L1984.55 210.214 Q1982.74 209.289 1980.8 208.826 Q1978.86 208.363 1976.77 208.363 Q1973.6 208.363 1972 209.335 Q1970.43 210.307 1970.43 212.251 Q1970.43 213.733 1971.56 214.589 Q1972.7 215.423 1976.12 216.187 L1977.58 216.511 Q1982.12 217.483 1984.02 219.265 Q1985.94 221.025 1985.94 224.196 Q1985.94 227.807 1983.07 229.913 Q1980.22 232.02 1975.22 232.02 Q1973.14 232.02 1970.87 231.603 Q1968.62 231.21 1966.12 230.4 L1966.12 226.001 Q1968.49 227.228 1970.78 227.853 Q1973.07 228.455 1975.31 228.455 Q1978.32 228.455 1979.94 227.437 Q1981.56 226.395 1981.56 224.52 Q1981.56 222.784 1980.38 221.858 Q1979.23 220.932 1975.27 220.076 L1973.79 219.728 Q1969.83 218.895 1968.07 217.182 Q1966.31 215.446 1966.31 212.437 Q1966.31 208.779 1968.9 206.789 Q1971.49 204.798 1976.26 204.798 Q1978.62 204.798 1980.71 205.145 Q1982.79 205.492 1984.55 206.187 Z\" fill=\"#000000\" fill-rule=\"evenodd\" fill-opacity=\"1\" /><path clip-path=\"url(#clip610)\" d=\"M 0 0 M2009.06 206.418 L2009.06 210.4 Q2007.26 209.404 2005.43 208.918 Q2003.62 208.409 2001.77 208.409 Q1997.63 208.409 1995.34 211.048 Q1993.05 213.664 1993.05 218.409 Q1993.05 223.154 1995.34 225.793 Q1997.63 228.409 2001.77 228.409 Q2003.62 228.409 2005.43 227.923 Q2007.26 227.413 2009.06 226.418 L2009.06 230.353 Q2007.28 231.187 2005.36 231.603 Q2003.46 232.02 2001.31 232.02 Q1995.45 232.02 1992 228.339 Q1988.55 224.659 1988.55 218.409 Q1988.55 212.066 1992.03 208.432 Q1995.52 204.798 2001.59 204.798 Q2003.55 204.798 2005.43 205.215 Q2007.3 205.608 2009.06 206.418 Z\" fill=\"#000000\" fill-rule=\"evenodd\" fill-opacity=\"1\" /><path clip-path=\"url(#clip610)\" d=\"M 0 0 M2013.53 205.423 L2017.79 205.423 L2017.79 231.349 L2013.53 231.349 L2013.53 205.423 M2013.53 195.33 L2017.79 195.33 L2017.79 200.724 L2013.53 200.724 L2013.53 195.33 Z\" fill=\"#000000\" fill-rule=\"evenodd\" fill-opacity=\"1\" /><path clip-path=\"url(#clip610)\" d=\"M 0 0 M2047.37 208.409 Q2043.95 208.409 2041.96 211.094 Q2039.97 213.756 2039.97 218.409 Q2039.97 223.062 2041.93 225.747 Q2043.92 228.409 2047.37 228.409 Q2050.78 228.409 2052.77 225.724 Q2054.76 223.038 2054.76 218.409 Q2054.76 213.802 2052.77 211.117 Q2050.78 208.409 2047.37 208.409 M2047.37 204.798 Q2052.93 204.798 2056.1 208.409 Q2059.27 212.02 2059.27 218.409 Q2059.27 224.775 2056.1 228.409 Q2052.93 232.02 2047.37 232.02 Q2041.8 232.02 2038.62 228.409 Q2035.48 224.775 2035.48 218.409 Q2035.48 212.02 2038.62 208.409 Q2041.8 204.798 2047.37 204.798 Z\" fill=\"#000000\" fill-rule=\"evenodd\" fill-opacity=\"1\" /><path clip-path=\"url(#clip610)\" d=\"M 0 0 M2082.35 218.409 Q2082.35 213.71 2080.41 211.048 Q2078.48 208.363 2075.11 208.363 Q2071.73 208.363 2069.78 211.048 Q2067.86 213.71 2067.86 218.409 Q2067.86 223.108 2069.78 225.793 Q2071.73 228.455 2075.11 228.455 Q2078.48 228.455 2080.41 225.793 Q2082.35 223.108 2082.35 218.409 M2067.86 209.358 Q2069.2 207.043 2071.24 205.932 Q2073.3 204.798 2076.15 204.798 Q2080.87 204.798 2083.81 208.548 Q2086.77 212.298 2086.77 218.409 Q2086.77 224.52 2083.81 228.27 Q2080.87 232.02 2076.15 232.02 Q2073.3 232.02 2071.24 230.909 Q2069.2 229.775 2067.86 227.46 L2067.86 231.349 L2063.58 231.349 L2063.58 195.33 L2067.86 195.33 L2067.86 209.358 Z\" fill=\"#000000\" fill-rule=\"evenodd\" fill-opacity=\"1\" /><path clip-path=\"url(#clip610)\" d=\"M 0 0 M2091.24 195.33 L2095.5 195.33 L2095.5 231.349 L2091.24 231.349 L2091.24 195.33 Z\" fill=\"#000000\" fill-rule=\"evenodd\" fill-opacity=\"1\" /><path clip-path=\"url(#clip610)\" d=\"M 0 0 M2099.97 205.423 L2104.23 205.423 L2104.23 231.349 L2099.97 231.349 L2099.97 205.423 M2099.97 195.33 L2104.23 195.33 L2104.23 200.724 L2099.97 200.724 L2099.97 195.33 Z\" fill=\"#000000\" fill-rule=\"evenodd\" fill-opacity=\"1\" /><path clip-path=\"url(#clip610)\" d=\"M 0 0 M2127.35 206.418 L2127.35 210.4 Q2125.54 209.404 2123.72 208.918 Q2121.91 208.409 2120.06 208.409 Q2115.92 208.409 2113.62 211.048 Q2111.33 213.664 2111.33 218.409 Q2111.33 223.154 2113.62 225.793 Q2115.92 228.409 2120.06 228.409 Q2121.91 228.409 2123.72 227.923 Q2125.54 227.413 2127.35 226.418 L2127.35 230.353 Q2125.57 231.187 2123.65 231.603 Q2121.75 232.02 2119.6 232.02 Q2113.74 232.02 2110.29 228.339 Q2106.84 224.659 2106.84 218.409 Q2106.84 212.066 2110.31 208.432 Q2113.81 204.798 2119.87 204.798 Q2121.84 204.798 2123.72 205.215 Q2125.59 205.608 2127.35 206.418 Z\" fill=\"#000000\" fill-rule=\"evenodd\" fill-opacity=\"1\" /><path clip-path=\"url(#clip610)\" d=\"M 0 0 M2129.97 205.423 L2150.2 205.423 L2150.2 209.312 L2134.18 227.946 L2150.2 227.946 L2150.2 231.349 L2129.39 231.349 L2129.39 227.46 L2145.41 208.826 L2129.97 208.826 L2129.97 205.423 Z\" fill=\"#000000\" fill-rule=\"evenodd\" fill-opacity=\"1\" /><path clip-path=\"url(#clip610)\" d=\"M 0 0 M2164.71 208.409 Q2161.29 208.409 2159.29 211.094 Q2157.3 213.756 2157.3 218.409 Q2157.3 223.062 2159.27 225.747 Q2161.26 228.409 2164.71 228.409 Q2168.11 228.409 2170.1 225.724 Q2172.1 223.038 2172.1 218.409 Q2172.1 213.802 2170.1 211.117 Q2168.11 208.409 2164.71 208.409 M2164.71 204.798 Q2170.27 204.798 2173.44 208.409 Q2176.61 212.02 2176.61 218.409 Q2176.61 224.775 2173.44 228.409 Q2170.27 232.02 2164.71 232.02 Q2159.13 232.02 2155.96 228.409 Q2152.81 224.775 2152.81 218.409 Q2152.81 212.02 2155.96 208.409 Q2159.13 204.798 2164.71 204.798 Z\" fill=\"#000000\" fill-rule=\"evenodd\" fill-opacity=\"1\" /><path clip-path=\"url(#clip610)\" d=\"M 0 0 M2202.63 215.701 L2202.63 231.349 L2198.37 231.349 L2198.37 215.839 Q2198.37 212.159 2196.93 210.33 Q2195.5 208.502 2192.63 208.502 Q2189.18 208.502 2187.19 210.701 Q2185.2 212.9 2185.2 216.696 L2185.2 231.349 L2180.91 231.349 L2180.91 205.423 L2185.2 205.423 L2185.2 209.451 Q2186.72 207.113 2188.79 205.955 Q2190.87 204.798 2193.58 204.798 Q2198.04 204.798 2200.34 207.576 Q2202.63 210.33 2202.63 215.701 Z\" fill=\"#000000\" fill-rule=\"evenodd\" fill-opacity=\"1\" /><path clip-path=\"url(#clip610)\" d=\"M 0 0 M2229.27 217.321 L2229.27 219.404 L2209.69 219.404 Q2209.97 223.802 2212.33 226.117 Q2214.71 228.409 2218.95 228.409 Q2221.4 228.409 2223.69 227.807 Q2226.01 227.205 2228.28 226.001 L2228.28 230.029 Q2225.98 231.001 2223.58 231.511 Q2221.17 232.02 2218.69 232.02 Q2212.49 232.02 2208.85 228.409 Q2205.24 224.798 2205.24 218.64 Q2205.24 212.275 2208.67 208.548 Q2212.12 204.798 2217.95 204.798 Q2223.18 204.798 2226.22 208.177 Q2229.27 211.534 2229.27 217.321 M2225.01 216.071 Q2224.97 212.576 2223.04 210.492 Q2221.15 208.409 2218 208.409 Q2214.43 208.409 2212.28 210.423 Q2210.15 212.437 2209.83 216.094 L2225.01 216.071 Z\" fill=\"#000000\" fill-rule=\"evenodd\" fill-opacity=\"1\" /></svg>\n"
      ]
     },
     "execution_count": 203,
     "metadata": {},
     "output_type": "execute_result"
    }
   ],
   "source": [
    "t_step = Array(0:0.1:24)\n",
    "plot!(t_step, one_analyt2(t_step), label=\"wartości obliczone\")"
   ]
  },
  {
   "cell_type": "markdown",
   "metadata": {},
   "source": [
    "Jak widać rozwiązanie analityczne dobrze dopasowuje się do zmierzonych danych"
   ]
  },
  {
   "cell_type": "markdown",
   "metadata": {},
   "source": [
    "### Przykład 2 - zastosowanie modelu w planowaniu leczenia"
   ]
  },
  {
   "cell_type": "markdown",
   "metadata": {},
   "source": [
    "Weźmy pacjenta o masie ciała 70 kg leczącego się antybiotykiem - Benzylopenicyliną przeciwko bakteriom *Streptococcus pyogenes*[5]. Przyjmijmy następujące dane:\n",
    "* $MIC$ 1 mg/l, gdzie $MIC$ to minimalne stężenie hamujące\n",
    "* $Cl_s$ 25.3 l/h\n",
    "* $V_D$ 7.77 l\n",
    "\n",
    "Wiemy że dla Benzylopenicyliny biologiczny okres półtrwania wynosi 30 minut"
   ]
  },
  {
   "cell_type": "markdown",
   "metadata": {},
   "source": [
    "Zastosujemy model jednokompartmentowy gdzie dawka jest podawana dożylnie"
   ]
  },
  {
   "cell_type": "markdown",
   "metadata": {},
   "source": [
    "W tym celu potrzebujemy wyznaczyć stałą $K$. Wiemy, że $$t_\\frac{1}{2} = \\frac{0.693}{\\mathrm{K}}.$$ Można z tego wyliczyć stałą $\\mathrm{K}$"
   ]
  },
  {
   "cell_type": "code",
   "execution_count": 345,
   "metadata": {},
   "outputs": [
    {
     "data": {
      "text/plain": [
       "k_const (generic function with 1 method)"
      ]
     },
     "execution_count": 345,
     "metadata": {},
     "output_type": "execute_result"
    }
   ],
   "source": [
    "function k_const(tₕ)\n",
    "    return 0.693/tₕ\n",
    "end"
   ]
  },
  {
   "cell_type": "code",
   "execution_count": 373,
   "metadata": {},
   "outputs": [],
   "source": [
    "K = k_const(0.5)\n",
    "MIC = 5\n",
    "V = 7.77;"
   ]
  },
  {
   "cell_type": "code",
   "execution_count": 347,
   "metadata": {},
   "outputs": [
    {
     "data": {
      "text/plain": [
       "model2 (generic function with 1 method)"
      ]
     },
     "execution_count": 347,
     "metadata": {},
     "output_type": "execute_result"
    }
   ],
   "source": [
    "function model2(t, x)\n",
    "    return -K * x\n",
    "end"
   ]
  },
  {
   "cell_type": "markdown",
   "metadata": {},
   "source": [
    "Weźmy dawkę początkową równą 1000 mg, a następnie na podstawie wzoru $C_0 = \\frac{X_0}{V_d}$ obliczamy stężenie początkowe"
   ]
  },
  {
   "cell_type": "code",
   "execution_count": 348,
   "metadata": {},
   "outputs": [
    {
     "data": {
      "text/plain": [
       "7.77"
      ]
     },
     "execution_count": 348,
     "metadata": {},
     "output_type": "execute_result"
    }
   ],
   "source": [
    "X₀ = 500\n",
    "V = 7.77"
   ]
  },
  {
   "cell_type": "code",
   "execution_count": 349,
   "metadata": {},
   "outputs": [
    {
     "data": {
      "text/plain": [
       "beginC (generic function with 1 method)"
      ]
     },
     "execution_count": 349,
     "metadata": {},
     "output_type": "execute_result"
    }
   ],
   "source": [
    "function beginC(X, V)\n",
    "    return X/V\n",
    "end"
   ]
  },
  {
   "cell_type": "code",
   "execution_count": 350,
   "metadata": {},
   "outputs": [],
   "source": [
    "t_plot = Array(0:0.1:4);"
   ]
  },
  {
   "cell_type": "code",
   "execution_count": 351,
   "metadata": {},
   "outputs": [],
   "source": [
    "data = runge_kutta(model2, t_plot, beginC(X₀, V));"
   ]
  },
  {
   "cell_type": "code",
   "execution_count": 403,
   "metadata": {},
   "outputs": [
    {
     "data": {
      "image/svg+xml": [
       "<?xml version=\"1.0\" encoding=\"utf-8\"?>\n",
       "<svg xmlns=\"http://www.w3.org/2000/svg\" xmlns:xlink=\"http://www.w3.org/1999/xlink\" width=\"600\" height=\"400\" viewBox=\"0 0 2400 1600\">\n",
       "<defs>\n",
       "  <clipPath id=\"clip450\">\n",
       "    <rect x=\"0\" y=\"0\" width=\"2400\" height=\"1600\"/>\n",
       "  </clipPath>\n",
       "</defs>\n",
       "<path clip-path=\"url(#clip450)\" d=\"\n",
       "M0 1600 L2400 1600 L2400 0 L0 0  Z\n",
       "  \" fill=\"#ffffff\" fill-rule=\"evenodd\" fill-opacity=\"1\"/>\n",
       "<defs>\n",
       "  <clipPath id=\"clip451\">\n",
       "    <rect x=\"480\" y=\"0\" width=\"1681\" height=\"1600\"/>\n",
       "  </clipPath>\n",
       "</defs>\n",
       "<path clip-path=\"url(#clip450)\" d=\"\n",
       "M139.191 1486.45 L2352.76 1486.45 L2352.76 47.2441 L139.191 47.2441  Z\n",
       "  \" fill=\"#ffffff\" fill-rule=\"evenodd\" fill-opacity=\"1\"/>\n",
       "<defs>\n",
       "  <clipPath id=\"clip452\">\n",
       "    <rect x=\"139\" y=\"47\" width=\"2215\" height=\"1440\"/>\n",
       "  </clipPath>\n",
       "</defs>\n",
       "<polyline clip-path=\"url(#clip452)\" style=\"stroke:#000000; stroke-width:2; stroke-opacity:0.1; fill:none\" points=\"\n",
       "  201.839,1486.45 201.839,47.2441 \n",
       "  \"/>\n",
       "<polyline clip-path=\"url(#clip452)\" style=\"stroke:#000000; stroke-width:2; stroke-opacity:0.1; fill:none\" points=\"\n",
       "  723.906,1486.45 723.906,47.2441 \n",
       "  \"/>\n",
       "<polyline clip-path=\"url(#clip452)\" style=\"stroke:#000000; stroke-width:2; stroke-opacity:0.1; fill:none\" points=\"\n",
       "  1245.97,1486.45 1245.97,47.2441 \n",
       "  \"/>\n",
       "<polyline clip-path=\"url(#clip452)\" style=\"stroke:#000000; stroke-width:2; stroke-opacity:0.1; fill:none\" points=\"\n",
       "  1768.04,1486.45 1768.04,47.2441 \n",
       "  \"/>\n",
       "<polyline clip-path=\"url(#clip452)\" style=\"stroke:#000000; stroke-width:2; stroke-opacity:0.1; fill:none\" points=\"\n",
       "  2290.11,1486.45 2290.11,47.2441 \n",
       "  \"/>\n",
       "<polyline clip-path=\"url(#clip450)\" style=\"stroke:#000000; stroke-width:4; stroke-opacity:1; fill:none\" points=\"\n",
       "  139.191,1486.45 2352.76,1486.45 \n",
       "  \"/>\n",
       "<polyline clip-path=\"url(#clip450)\" style=\"stroke:#000000; stroke-width:4; stroke-opacity:1; fill:none\" points=\"\n",
       "  201.839,1486.45 201.839,1469.18 \n",
       "  \"/>\n",
       "<polyline clip-path=\"url(#clip450)\" style=\"stroke:#000000; stroke-width:4; stroke-opacity:1; fill:none\" points=\"\n",
       "  723.906,1486.45 723.906,1469.18 \n",
       "  \"/>\n",
       "<polyline clip-path=\"url(#clip450)\" style=\"stroke:#000000; stroke-width:4; stroke-opacity:1; fill:none\" points=\"\n",
       "  1245.97,1486.45 1245.97,1469.18 \n",
       "  \"/>\n",
       "<polyline clip-path=\"url(#clip450)\" style=\"stroke:#000000; stroke-width:4; stroke-opacity:1; fill:none\" points=\"\n",
       "  1768.04,1486.45 1768.04,1469.18 \n",
       "  \"/>\n",
       "<polyline clip-path=\"url(#clip450)\" style=\"stroke:#000000; stroke-width:4; stroke-opacity:1; fill:none\" points=\"\n",
       "  2290.11,1486.45 2290.11,1469.18 \n",
       "  \"/>\n",
       "<path clip-path=\"url(#clip450)\" d=\"M 0 0 M201.839 1515.64 Q198.228 1515.64 196.399 1519.2 Q194.594 1522.75 194.594 1529.87 Q194.594 1536.98 196.399 1540.55 Q198.228 1544.09 201.839 1544.09 Q205.473 1544.09 207.279 1540.55 Q209.107 1536.98 209.107 1529.87 Q209.107 1522.75 207.279 1519.2 Q205.473 1515.64 201.839 1515.64 M201.839 1511.93 Q207.649 1511.93 210.705 1516.54 Q213.783 1521.12 213.783 1529.87 Q213.783 1538.6 210.705 1543.21 Q207.649 1547.79 201.839 1547.79 Q196.029 1547.79 192.95 1543.21 Q189.895 1538.6 189.895 1529.87 Q189.895 1521.12 192.95 1516.54 Q196.029 1511.93 201.839 1511.93 Z\" fill=\"#000000\" fill-rule=\"evenodd\" fill-opacity=\"1\" /><path clip-path=\"url(#clip450)\" d=\"M 0 0 M714.288 1543.18 L721.927 1543.18 L721.927 1516.82 L713.617 1518.49 L713.617 1514.23 L721.881 1512.56 L726.557 1512.56 L726.557 1543.18 L734.195 1543.18 L734.195 1547.12 L714.288 1547.12 L714.288 1543.18 Z\" fill=\"#000000\" fill-rule=\"evenodd\" fill-opacity=\"1\" /><path clip-path=\"url(#clip450)\" d=\"M 0 0 M1240.63 1543.18 L1256.95 1543.18 L1256.95 1547.12 L1235 1547.12 L1235 1543.18 Q1237.66 1540.43 1242.25 1535.8 Q1246.85 1531.15 1248.03 1529.81 Q1250.28 1527.28 1251.16 1525.55 Q1252.06 1523.79 1252.06 1522.1 Q1252.06 1519.34 1250.12 1517.61 Q1248.2 1515.87 1245.09 1515.87 Q1242.89 1515.87 1240.44 1516.63 Q1238.01 1517.4 1235.23 1518.95 L1235.23 1514.23 Q1238.06 1513.09 1240.51 1512.51 Q1242.96 1511.93 1245 1511.93 Q1250.37 1511.93 1253.57 1514.62 Q1256.76 1517.31 1256.76 1521.8 Q1256.76 1523.93 1255.95 1525.85 Q1255.16 1527.74 1253.06 1530.34 Q1252.48 1531.01 1249.38 1534.23 Q1246.27 1537.42 1240.63 1543.18 Z\" fill=\"#000000\" fill-rule=\"evenodd\" fill-opacity=\"1\" /><path clip-path=\"url(#clip450)\" d=\"M 0 0 M1772.29 1528.49 Q1775.64 1529.2 1777.52 1531.47 Q1779.42 1533.74 1779.42 1537.07 Q1779.42 1542.19 1775.9 1544.99 Q1772.38 1547.79 1765.9 1547.79 Q1763.72 1547.79 1761.41 1547.35 Q1759.12 1546.93 1756.66 1546.08 L1756.66 1541.56 Q1758.61 1542.7 1760.92 1543.28 Q1763.24 1543.86 1765.76 1543.86 Q1770.16 1543.86 1772.45 1542.12 Q1774.77 1540.38 1774.77 1537.07 Q1774.77 1534.02 1772.61 1532.31 Q1770.48 1530.57 1766.66 1530.57 L1762.64 1530.57 L1762.64 1526.73 L1766.85 1526.73 Q1770.3 1526.73 1772.13 1525.36 Q1773.95 1523.97 1773.95 1521.38 Q1773.95 1518.72 1772.06 1517.31 Q1770.18 1515.87 1766.66 1515.87 Q1764.74 1515.87 1762.54 1516.29 Q1760.34 1516.7 1757.71 1517.58 L1757.71 1513.42 Q1760.37 1512.68 1762.68 1512.31 Q1765.02 1511.93 1767.08 1511.93 Q1772.4 1511.93 1775.51 1514.37 Q1778.61 1516.77 1778.61 1520.89 Q1778.61 1523.76 1776.96 1525.75 Q1775.32 1527.72 1772.29 1528.49 Z\" fill=\"#000000\" fill-rule=\"evenodd\" fill-opacity=\"1\" /><path clip-path=\"url(#clip450)\" d=\"M 0 0 M2293.12 1516.63 L2281.31 1535.08 L2293.12 1535.08 L2293.12 1516.63 M2291.89 1512.56 L2297.77 1512.56 L2297.77 1535.08 L2302.7 1535.08 L2302.7 1538.97 L2297.77 1538.97 L2297.77 1547.12 L2293.12 1547.12 L2293.12 1538.97 L2277.52 1538.97 L2277.52 1534.46 L2291.89 1512.56 Z\" fill=\"#000000\" fill-rule=\"evenodd\" fill-opacity=\"1\" /><polyline clip-path=\"url(#clip452)\" style=\"stroke:#000000; stroke-width:2; stroke-opacity:0.1; fill:none\" points=\"\n",
       "  139.191,1451.05 2352.76,1451.05 \n",
       "  \"/>\n",
       "<polyline clip-path=\"url(#clip452)\" style=\"stroke:#000000; stroke-width:2; stroke-opacity:0.1; fill:none\" points=\"\n",
       "  139.191,1239.23 2352.76,1239.23 \n",
       "  \"/>\n",
       "<polyline clip-path=\"url(#clip452)\" style=\"stroke:#000000; stroke-width:2; stroke-opacity:0.1; fill:none\" points=\"\n",
       "  139.191,1027.4 2352.76,1027.4 \n",
       "  \"/>\n",
       "<polyline clip-path=\"url(#clip452)\" style=\"stroke:#000000; stroke-width:2; stroke-opacity:0.1; fill:none\" points=\"\n",
       "  139.191,815.583 2352.76,815.583 \n",
       "  \"/>\n",
       "<polyline clip-path=\"url(#clip452)\" style=\"stroke:#000000; stroke-width:2; stroke-opacity:0.1; fill:none\" points=\"\n",
       "  139.191,603.762 2352.76,603.762 \n",
       "  \"/>\n",
       "<polyline clip-path=\"url(#clip452)\" style=\"stroke:#000000; stroke-width:2; stroke-opacity:0.1; fill:none\" points=\"\n",
       "  139.191,391.941 2352.76,391.941 \n",
       "  \"/>\n",
       "<polyline clip-path=\"url(#clip452)\" style=\"stroke:#000000; stroke-width:2; stroke-opacity:0.1; fill:none\" points=\"\n",
       "  139.191,180.12 2352.76,180.12 \n",
       "  \"/>\n",
       "<polyline clip-path=\"url(#clip450)\" style=\"stroke:#000000; stroke-width:4; stroke-opacity:1; fill:none\" points=\"\n",
       "  139.191,1486.45 139.191,47.2441 \n",
       "  \"/>\n",
       "<polyline clip-path=\"url(#clip450)\" style=\"stroke:#000000; stroke-width:4; stroke-opacity:1; fill:none\" points=\"\n",
       "  139.191,1451.05 165.754,1451.05 \n",
       "  \"/>\n",
       "<polyline clip-path=\"url(#clip450)\" style=\"stroke:#000000; stroke-width:4; stroke-opacity:1; fill:none\" points=\"\n",
       "  139.191,1239.23 165.754,1239.23 \n",
       "  \"/>\n",
       "<polyline clip-path=\"url(#clip450)\" style=\"stroke:#000000; stroke-width:4; stroke-opacity:1; fill:none\" points=\"\n",
       "  139.191,1027.4 165.754,1027.4 \n",
       "  \"/>\n",
       "<polyline clip-path=\"url(#clip450)\" style=\"stroke:#000000; stroke-width:4; stroke-opacity:1; fill:none\" points=\"\n",
       "  139.191,815.583 165.754,815.583 \n",
       "  \"/>\n",
       "<polyline clip-path=\"url(#clip450)\" style=\"stroke:#000000; stroke-width:4; stroke-opacity:1; fill:none\" points=\"\n",
       "  139.191,603.762 165.754,603.762 \n",
       "  \"/>\n",
       "<polyline clip-path=\"url(#clip450)\" style=\"stroke:#000000; stroke-width:4; stroke-opacity:1; fill:none\" points=\"\n",
       "  139.191,391.941 165.754,391.941 \n",
       "  \"/>\n",
       "<polyline clip-path=\"url(#clip450)\" style=\"stroke:#000000; stroke-width:4; stroke-opacity:1; fill:none\" points=\"\n",
       "  139.191,180.12 165.754,180.12 \n",
       "  \"/>\n",
       "<path clip-path=\"url(#clip450)\" d=\"M 0 0 M91.2465 1436.85 Q87.6354 1436.85 85.8068 1440.41 Q84.0012 1443.95 84.0012 1451.08 Q84.0012 1458.19 85.8068 1461.75 Q87.6354 1465.29 91.2465 1465.29 Q94.8808 1465.29 96.6863 1461.75 Q98.515 1458.19 98.515 1451.08 Q98.515 1443.95 96.6863 1440.41 Q94.8808 1436.85 91.2465 1436.85 M91.2465 1433.14 Q97.0567 1433.14 100.112 1437.75 Q103.191 1442.33 103.191 1451.08 Q103.191 1459.81 100.112 1464.41 Q97.0567 1469 91.2465 1469 Q85.4364 1469 82.3577 1464.41 Q79.3022 1459.81 79.3022 1451.08 Q79.3022 1442.33 82.3577 1437.75 Q85.4364 1433.14 91.2465 1433.14 Z\" fill=\"#000000\" fill-rule=\"evenodd\" fill-opacity=\"1\" /><path clip-path=\"url(#clip450)\" d=\"M 0 0 M56.2699 1252.57 L63.9087 1252.57 L63.9087 1226.2 L55.5986 1227.87 L55.5986 1223.61 L63.8624 1221.95 L68.5383 1221.95 L68.5383 1252.57 L76.1772 1252.57 L76.1772 1256.51 L56.2699 1256.51 L56.2699 1252.57 Z\" fill=\"#000000\" fill-rule=\"evenodd\" fill-opacity=\"1\" /><path clip-path=\"url(#clip450)\" d=\"M 0 0 M91.2465 1225.02 Q87.6354 1225.02 85.8068 1228.59 Q84.0012 1232.13 84.0012 1239.26 Q84.0012 1246.37 85.8068 1249.93 Q87.6354 1253.47 91.2465 1253.47 Q94.8808 1253.47 96.6863 1249.93 Q98.515 1246.37 98.515 1239.26 Q98.515 1232.13 96.6863 1228.59 Q94.8808 1225.02 91.2465 1225.02 M91.2465 1221.32 Q97.0567 1221.32 100.112 1225.93 Q103.191 1230.51 103.191 1239.26 Q103.191 1247.99 100.112 1252.59 Q97.0567 1257.18 91.2465 1257.18 Q85.4364 1257.18 82.3577 1252.59 Q79.3022 1247.99 79.3022 1239.26 Q79.3022 1230.51 82.3577 1225.93 Q85.4364 1221.32 91.2465 1221.32 Z\" fill=\"#000000\" fill-rule=\"evenodd\" fill-opacity=\"1\" /><path clip-path=\"url(#clip450)\" d=\"M 0 0 M59.8578 1040.75 L76.1772 1040.75 L76.1772 1044.68 L54.2328 1044.68 L54.2328 1040.75 Q56.8949 1037.99 61.4782 1033.36 Q66.0846 1028.71 67.2652 1027.37 Q69.5105 1024.85 70.3902 1023.11 Q71.2929 1021.35 71.2929 1019.66 Q71.2929 1016.91 69.3485 1015.17 Q67.4272 1013.43 64.3254 1013.43 Q62.1263 1013.43 59.6726 1014.2 Q57.2421 1014.96 54.4643 1016.51 L54.4643 1011.79 Q57.2884 1010.66 59.7421 1010.08 Q62.1958 1009.5 64.2328 1009.5 Q69.6031 1009.5 72.7976 1012.18 Q75.992 1014.87 75.992 1019.36 Q75.992 1021.49 75.1818 1023.41 Q74.3948 1025.31 72.2883 1027.9 Q71.7096 1028.57 68.6078 1031.79 Q65.5059 1034.99 59.8578 1040.75 Z\" fill=\"#000000\" fill-rule=\"evenodd\" fill-opacity=\"1\" /><path clip-path=\"url(#clip450)\" d=\"M 0 0 M91.2465 1013.2 Q87.6354 1013.2 85.8068 1016.77 Q84.0012 1020.31 84.0012 1027.44 Q84.0012 1034.55 85.8068 1038.11 Q87.6354 1041.65 91.2465 1041.65 Q94.8808 1041.65 96.6863 1038.11 Q98.515 1034.55 98.515 1027.44 Q98.515 1020.31 96.6863 1016.77 Q94.8808 1013.2 91.2465 1013.2 M91.2465 1009.5 Q97.0567 1009.5 100.112 1014.11 Q103.191 1018.69 103.191 1027.44 Q103.191 1036.17 100.112 1040.77 Q97.0567 1045.36 91.2465 1045.36 Q85.4364 1045.36 82.3577 1040.77 Q79.3022 1036.17 79.3022 1027.44 Q79.3022 1018.69 82.3577 1014.11 Q85.4364 1009.5 91.2465 1009.5 Z\" fill=\"#000000\" fill-rule=\"evenodd\" fill-opacity=\"1\" /><path clip-path=\"url(#clip450)\" d=\"M 0 0 M69.0476 814.229 Q72.404 814.947 74.279 817.215 Q76.1772 819.484 76.1772 822.817 Q76.1772 827.933 72.6587 830.734 Q69.1402 833.534 62.6587 833.534 Q60.4828 833.534 58.168 833.095 Q55.8764 832.678 53.4227 831.822 L53.4227 827.308 Q55.3671 828.442 57.6819 829.021 Q59.9967 829.599 62.5198 829.599 Q66.918 829.599 69.2096 827.863 Q71.5244 826.127 71.5244 822.817 Q71.5244 819.761 69.3717 818.048 Q67.242 816.312 63.4226 816.312 L59.3949 816.312 L59.3949 812.47 L63.6078 812.47 Q67.0569 812.47 68.8855 811.104 Q70.7142 809.715 70.7142 807.123 Q70.7142 804.461 68.8161 803.049 Q66.9411 801.613 63.4226 801.613 Q61.5013 801.613 59.3023 802.03 Q57.1032 802.447 54.4643 803.326 L54.4643 799.16 Q57.1264 798.419 59.4412 798.049 Q61.7791 797.678 63.8393 797.678 Q69.1633 797.678 72.2652 800.109 Q75.367 802.516 75.367 806.636 Q75.367 809.507 73.7235 811.498 Q72.08 813.465 69.0476 814.229 Z\" fill=\"#000000\" fill-rule=\"evenodd\" fill-opacity=\"1\" /><path clip-path=\"url(#clip450)\" d=\"M 0 0 M91.2465 801.382 Q87.6354 801.382 85.8068 804.947 Q84.0012 808.488 84.0012 815.618 Q84.0012 822.724 85.8068 826.289 Q87.6354 829.831 91.2465 829.831 Q94.8808 829.831 96.6863 826.289 Q98.515 822.724 98.515 815.618 Q98.515 808.488 96.6863 804.947 Q94.8808 801.382 91.2465 801.382 M91.2465 797.678 Q97.0567 797.678 100.112 802.285 Q103.191 806.868 103.191 815.618 Q103.191 824.345 100.112 828.951 Q97.0567 833.534 91.2465 833.534 Q85.4364 833.534 82.3577 828.951 Q79.3022 824.345 79.3022 815.618 Q79.3022 806.868 82.3577 802.285 Q85.4364 797.678 91.2465 797.678 Z\" fill=\"#000000\" fill-rule=\"evenodd\" fill-opacity=\"1\" /><path clip-path=\"url(#clip450)\" d=\"M 0 0 M66.5939 590.556 L54.7884 609.005 L66.5939 609.005 L66.5939 590.556 M65.367 586.482 L71.2466 586.482 L71.2466 609.005 L76.1772 609.005 L76.1772 612.894 L71.2466 612.894 L71.2466 621.042 L66.5939 621.042 L66.5939 612.894 L50.9921 612.894 L50.9921 608.38 L65.367 586.482 Z\" fill=\"#000000\" fill-rule=\"evenodd\" fill-opacity=\"1\" /><path clip-path=\"url(#clip450)\" d=\"M 0 0 M91.2465 589.561 Q87.6354 589.561 85.8068 593.126 Q84.0012 596.667 84.0012 603.797 Q84.0012 610.903 85.8068 614.468 Q87.6354 618.01 91.2465 618.01 Q94.8808 618.01 96.6863 614.468 Q98.515 610.903 98.515 603.797 Q98.515 596.667 96.6863 593.126 Q94.8808 589.561 91.2465 589.561 M91.2465 585.857 Q97.0567 585.857 100.112 590.464 Q103.191 595.047 103.191 603.797 Q103.191 612.524 100.112 617.13 Q97.0567 621.713 91.2465 621.713 Q85.4364 621.713 82.3577 617.13 Q79.3022 612.524 79.3022 603.797 Q79.3022 595.047 82.3577 590.464 Q85.4364 585.857 91.2465 585.857 Z\" fill=\"#000000\" fill-rule=\"evenodd\" fill-opacity=\"1\" /><path clip-path=\"url(#clip450)\" d=\"M 0 0 M55.2745 374.661 L73.6309 374.661 L73.6309 378.596 L59.5569 378.596 L59.5569 387.068 Q60.5754 386.721 61.5939 386.559 Q62.6124 386.374 63.6309 386.374 Q69.418 386.374 72.7976 389.545 Q76.1772 392.716 76.1772 398.133 Q76.1772 403.712 72.705 406.814 Q69.2328 409.892 62.9134 409.892 Q60.7374 409.892 58.4689 409.522 Q56.2236 409.152 53.8162 408.411 L53.8162 403.712 Q55.8995 404.846 58.1217 405.402 Q60.3439 405.957 62.8208 405.957 Q66.8254 405.957 69.1633 403.851 Q71.5013 401.744 71.5013 398.133 Q71.5013 394.522 69.1633 392.415 Q66.8254 390.309 62.8208 390.309 Q60.9458 390.309 59.0708 390.726 Q57.2189 391.142 55.2745 392.022 L55.2745 374.661 Z\" fill=\"#000000\" fill-rule=\"evenodd\" fill-opacity=\"1\" /><path clip-path=\"url(#clip450)\" d=\"M 0 0 M91.2465 377.74 Q87.6354 377.74 85.8068 381.304 Q84.0012 384.846 84.0012 391.976 Q84.0012 399.082 85.8068 402.647 Q87.6354 406.189 91.2465 406.189 Q94.8808 406.189 96.6863 402.647 Q98.515 399.082 98.515 391.976 Q98.515 384.846 96.6863 381.304 Q94.8808 377.74 91.2465 377.74 M91.2465 374.036 Q97.0567 374.036 100.112 378.642 Q103.191 383.226 103.191 391.976 Q103.191 400.702 100.112 405.309 Q97.0567 409.892 91.2465 409.892 Q85.4364 409.892 82.3577 405.309 Q79.3022 400.702 79.3022 391.976 Q79.3022 383.226 82.3577 378.642 Q85.4364 374.036 91.2465 374.036 Z\" fill=\"#000000\" fill-rule=\"evenodd\" fill-opacity=\"1\" /><path clip-path=\"url(#clip450)\" d=\"M 0 0 M64.6495 178.256 Q61.5013 178.256 59.6495 180.409 Q57.8208 182.562 57.8208 186.312 Q57.8208 190.039 59.6495 192.215 Q61.5013 194.367 64.6495 194.367 Q67.7976 194.367 69.6263 192.215 Q71.4781 190.039 71.4781 186.312 Q71.4781 182.562 69.6263 180.409 Q67.7976 178.256 64.6495 178.256 M73.9318 163.604 L73.9318 167.863 Q72.1726 167.03 70.367 166.59 Q68.5846 166.15 66.8254 166.15 Q62.1958 166.15 59.7421 169.275 Q57.3115 172.4 56.9643 178.719 Q58.33 176.705 60.3902 175.641 Q62.4504 174.553 64.9272 174.553 Q70.1355 174.553 73.1448 177.724 Q76.1772 180.872 76.1772 186.312 Q76.1772 191.636 73.029 194.854 Q69.8809 198.071 64.6495 198.071 Q58.6541 198.071 55.4828 193.488 Q52.3116 188.881 52.3116 180.155 Q52.3116 171.96 56.2004 167.099 Q60.0893 162.215 66.6402 162.215 Q68.3994 162.215 70.1818 162.562 Q71.9874 162.909 73.9318 163.604 Z\" fill=\"#000000\" fill-rule=\"evenodd\" fill-opacity=\"1\" /><path clip-path=\"url(#clip450)\" d=\"M 0 0 M91.2465 165.919 Q87.6354 165.919 85.8068 169.483 Q84.0012 173.025 84.0012 180.155 Q84.0012 187.261 85.8068 190.826 Q87.6354 194.367 91.2465 194.367 Q94.8808 194.367 96.6863 190.826 Q98.515 187.261 98.515 180.155 Q98.515 173.025 96.6863 169.483 Q94.8808 165.919 91.2465 165.919 M91.2465 162.215 Q97.0567 162.215 100.112 166.821 Q103.191 171.405 103.191 180.155 Q103.191 188.881 100.112 193.488 Q97.0567 198.071 91.2465 198.071 Q85.4364 198.071 82.3577 193.488 Q79.3022 188.881 79.3022 180.155 Q79.3022 171.405 82.3577 166.821 Q85.4364 162.215 91.2465 162.215 Z\" fill=\"#000000\" fill-rule=\"evenodd\" fill-opacity=\"1\" /><polyline clip-path=\"url(#clip452)\" style=\"stroke:#009af9; stroke-width:4; stroke-opacity:1; fill:none\" points=\"\n",
       "  201.839,87.9763 254.046,264.389 306.252,417.971 358.459,551.675 410.666,668.075 462.873,769.409 515.079,857.629 567.286,934.431 619.493,1001.29 671.699,1059.5 \n",
       "  723.906,1110.18 776.113,1154.29 828.32,1192.7 880.526,1226.14 932.733,1255.25 984.94,1280.59 1037.15,1302.65 1089.35,1321.85 1141.56,1338.57 1193.77,1353.13 \n",
       "  1245.97,1365.8 1298.18,1376.84 1350.39,1386.44 1402.59,1394.8 1454.8,1402.08 1507.01,1408.42 1559.21,1413.94 1611.42,1418.74 1663.63,1422.92 1715.83,1426.56 \n",
       "  1768.04,1429.73 1820.25,1432.49 1872.45,1434.89 1924.66,1436.98 1976.87,1438.8 2029.07,1440.39 2081.28,1441.77 2133.49,1442.97 2185.69,1444.01 2237.9,1444.92 \n",
       "  2290.11,1445.72 \n",
       "  \"/>\n",
       "<path clip-path=\"url(#clip450)\" d=\"\n",
       "M1873.62 216.178 L2278.97 216.178 L2278.97 95.2176 L1873.62 95.2176  Z\n",
       "  \" fill=\"#ffffff\" fill-rule=\"evenodd\" fill-opacity=\"1\"/>\n",
       "<polyline clip-path=\"url(#clip450)\" style=\"stroke:#000000; stroke-width:4; stroke-opacity:1; fill:none\" points=\"\n",
       "  1873.62,216.178 2278.97,216.178 2278.97,95.2176 1873.62,95.2176 1873.62,216.178 \n",
       "  \"/>\n",
       "<polyline clip-path=\"url(#clip450)\" style=\"stroke:#009af9; stroke-width:4; stroke-opacity:1; fill:none\" points=\"\n",
       "  1898.22,155.698 2045.79,155.698 \n",
       "  \"/>\n",
       "<path clip-path=\"url(#clip450)\" d=\"M 0 0 M2071.84 138.418 L2090.2 138.418 L2090.2 142.353 L2076.12 142.353 L2076.12 150.825 Q2077.14 150.478 2078.16 150.316 Q2079.18 150.13 2080.2 150.13 Q2085.98 150.13 2089.36 153.302 Q2092.74 156.473 2092.74 161.89 Q2092.74 167.468 2089.27 170.57 Q2085.8 173.649 2079.48 173.649 Q2077.3 173.649 2075.04 173.278 Q2072.79 172.908 2070.38 172.167 L2070.38 167.468 Q2072.47 168.603 2074.69 169.158 Q2076.91 169.714 2079.39 169.714 Q2083.39 169.714 2085.73 167.607 Q2088.07 165.501 2088.07 161.89 Q2088.07 158.279 2085.73 156.172 Q2083.39 154.066 2079.39 154.066 Q2077.51 154.066 2075.64 154.482 Q2073.79 154.899 2071.84 155.779 L2071.84 138.418 Z\" fill=\"#000000\" fill-rule=\"evenodd\" fill-opacity=\"1\" /><path clip-path=\"url(#clip450)\" d=\"M 0 0 M2107.81 141.496 Q2104.2 141.496 2102.37 145.061 Q2100.57 148.603 2100.57 155.732 Q2100.57 162.839 2102.37 166.404 Q2104.2 169.945 2107.81 169.945 Q2111.45 169.945 2113.25 166.404 Q2115.08 162.839 2115.08 155.732 Q2115.08 148.603 2113.25 145.061 Q2111.45 141.496 2107.81 141.496 M2107.81 137.793 Q2113.62 137.793 2116.68 142.399 Q2119.76 146.982 2119.76 155.732 Q2119.76 164.459 2116.68 169.066 Q2113.62 173.649 2107.81 173.649 Q2102 173.649 2098.92 169.066 Q2095.87 164.459 2095.87 155.732 Q2095.87 146.982 2098.92 142.399 Q2102 137.793 2107.81 137.793 Z\" fill=\"#000000\" fill-rule=\"evenodd\" fill-opacity=\"1\" /><path clip-path=\"url(#clip450)\" d=\"M 0 0 M2134.83 141.496 Q2131.22 141.496 2129.39 145.061 Q2127.58 148.603 2127.58 155.732 Q2127.58 162.839 2129.39 166.404 Q2131.22 169.945 2134.83 169.945 Q2138.46 169.945 2140.27 166.404 Q2142.1 162.839 2142.1 155.732 Q2142.1 148.603 2140.27 145.061 Q2138.46 141.496 2134.83 141.496 M2134.83 137.793 Q2140.64 137.793 2143.69 142.399 Q2146.77 146.982 2146.77 155.732 Q2146.77 164.459 2143.69 169.066 Q2140.64 173.649 2134.83 173.649 Q2129.02 173.649 2125.94 169.066 Q2122.88 164.459 2122.88 155.732 Q2122.88 146.982 2125.94 142.399 Q2129.02 137.793 2134.83 137.793 Z\" fill=\"#000000\" fill-rule=\"evenodd\" fill-opacity=\"1\" /><path clip-path=\"url(#clip450)\" d=\"M 0 0 M2186.49 152.029 Q2188.09 149.158 2190.31 147.793 Q2192.53 146.427 2195.54 146.427 Q2199.6 146.427 2201.79 149.274 Q2203.99 152.098 2203.99 157.329 L2203.99 172.978 L2199.71 172.978 L2199.71 157.468 Q2199.71 153.742 2198.39 151.936 Q2197.07 150.13 2194.36 150.13 Q2191.05 150.13 2189.13 152.33 Q2187.21 154.529 2187.21 158.325 L2187.21 172.978 L2182.93 172.978 L2182.93 157.468 Q2182.93 153.718 2181.61 151.936 Q2180.29 150.13 2177.53 150.13 Q2174.27 150.13 2172.35 152.353 Q2170.43 154.552 2170.43 158.325 L2170.43 172.978 L2166.15 172.978 L2166.15 147.052 L2170.43 147.052 L2170.43 151.08 Q2171.89 148.695 2173.92 147.561 Q2175.96 146.427 2178.76 146.427 Q2181.59 146.427 2183.55 147.862 Q2185.54 149.297 2186.49 152.029 Z\" fill=\"#000000\" fill-rule=\"evenodd\" fill-opacity=\"1\" /><path clip-path=\"url(#clip450)\" d=\"M 0 0 M2225.52 159.714 Q2225.52 155.084 2223.6 152.538 Q2221.7 149.992 2218.25 149.992 Q2214.83 149.992 2212.91 152.538 Q2211.01 155.084 2211.01 159.714 Q2211.01 164.32 2212.91 166.866 Q2214.83 169.413 2218.25 169.413 Q2221.7 169.413 2223.6 166.866 Q2225.52 164.32 2225.52 159.714 M2229.78 169.76 Q2229.78 176.38 2226.84 179.598 Q2223.9 182.839 2217.84 182.839 Q2215.59 182.839 2213.6 182.491 Q2211.61 182.167 2209.73 181.473 L2209.73 177.329 Q2211.61 178.348 2213.44 178.834 Q2215.27 179.32 2217.16 179.32 Q2221.35 179.32 2223.44 177.121 Q2225.52 174.945 2225.52 170.524 L2225.52 168.417 Q2224.2 170.709 2222.14 171.843 Q2220.08 172.978 2217.21 172.978 Q2212.44 172.978 2209.53 169.343 Q2206.61 165.709 2206.61 159.714 Q2206.61 153.695 2209.53 150.061 Q2212.44 146.427 2217.21 146.427 Q2220.08 146.427 2222.14 147.561 Q2224.2 148.695 2225.52 150.987 L2225.52 147.052 L2229.78 147.052 L2229.78 169.76 Z\" fill=\"#000000\" fill-rule=\"evenodd\" fill-opacity=\"1\" /></svg>\n"
      ]
     },
     "execution_count": 403,
     "metadata": {},
     "output_type": "execute_result"
    }
   ],
   "source": [
    "plot(t_plot, data, label=\"$X₀ mg\")"
   ]
  },
  {
   "cell_type": "code",
   "execution_count": 404,
   "metadata": {},
   "outputs": [
    {
     "data": {
      "image/svg+xml": [
       "<?xml version=\"1.0\" encoding=\"utf-8\"?>\n",
       "<svg xmlns=\"http://www.w3.org/2000/svg\" xmlns:xlink=\"http://www.w3.org/1999/xlink\" width=\"600\" height=\"400\" viewBox=\"0 0 2400 1600\">\n",
       "<defs>\n",
       "  <clipPath id=\"clip490\">\n",
       "    <rect x=\"0\" y=\"0\" width=\"2400\" height=\"1600\"/>\n",
       "  </clipPath>\n",
       "</defs>\n",
       "<path clip-path=\"url(#clip490)\" d=\"\n",
       "M0 1600 L2400 1600 L2400 0 L0 0  Z\n",
       "  \" fill=\"#ffffff\" fill-rule=\"evenodd\" fill-opacity=\"1\"/>\n",
       "<defs>\n",
       "  <clipPath id=\"clip491\">\n",
       "    <rect x=\"480\" y=\"0\" width=\"1681\" height=\"1600\"/>\n",
       "  </clipPath>\n",
       "</defs>\n",
       "<path clip-path=\"url(#clip490)\" d=\"\n",
       "M139.191 1486.45 L2352.76 1486.45 L2352.76 47.2441 L139.191 47.2441  Z\n",
       "  \" fill=\"#ffffff\" fill-rule=\"evenodd\" fill-opacity=\"1\"/>\n",
       "<defs>\n",
       "  <clipPath id=\"clip492\">\n",
       "    <rect x=\"139\" y=\"47\" width=\"2215\" height=\"1440\"/>\n",
       "  </clipPath>\n",
       "</defs>\n",
       "<polyline clip-path=\"url(#clip492)\" style=\"stroke:#000000; stroke-width:2; stroke-opacity:0.1; fill:none\" points=\"\n",
       "  201.839,1486.45 201.839,47.2441 \n",
       "  \"/>\n",
       "<polyline clip-path=\"url(#clip492)\" style=\"stroke:#000000; stroke-width:2; stroke-opacity:0.1; fill:none\" points=\"\n",
       "  723.906,1486.45 723.906,47.2441 \n",
       "  \"/>\n",
       "<polyline clip-path=\"url(#clip492)\" style=\"stroke:#000000; stroke-width:2; stroke-opacity:0.1; fill:none\" points=\"\n",
       "  1245.97,1486.45 1245.97,47.2441 \n",
       "  \"/>\n",
       "<polyline clip-path=\"url(#clip492)\" style=\"stroke:#000000; stroke-width:2; stroke-opacity:0.1; fill:none\" points=\"\n",
       "  1768.04,1486.45 1768.04,47.2441 \n",
       "  \"/>\n",
       "<polyline clip-path=\"url(#clip492)\" style=\"stroke:#000000; stroke-width:2; stroke-opacity:0.1; fill:none\" points=\"\n",
       "  2290.11,1486.45 2290.11,47.2441 \n",
       "  \"/>\n",
       "<polyline clip-path=\"url(#clip490)\" style=\"stroke:#000000; stroke-width:4; stroke-opacity:1; fill:none\" points=\"\n",
       "  139.191,1486.45 2352.76,1486.45 \n",
       "  \"/>\n",
       "<polyline clip-path=\"url(#clip490)\" style=\"stroke:#000000; stroke-width:4; stroke-opacity:1; fill:none\" points=\"\n",
       "  201.839,1486.45 201.839,1469.18 \n",
       "  \"/>\n",
       "<polyline clip-path=\"url(#clip490)\" style=\"stroke:#000000; stroke-width:4; stroke-opacity:1; fill:none\" points=\"\n",
       "  723.906,1486.45 723.906,1469.18 \n",
       "  \"/>\n",
       "<polyline clip-path=\"url(#clip490)\" style=\"stroke:#000000; stroke-width:4; stroke-opacity:1; fill:none\" points=\"\n",
       "  1245.97,1486.45 1245.97,1469.18 \n",
       "  \"/>\n",
       "<polyline clip-path=\"url(#clip490)\" style=\"stroke:#000000; stroke-width:4; stroke-opacity:1; fill:none\" points=\"\n",
       "  1768.04,1486.45 1768.04,1469.18 \n",
       "  \"/>\n",
       "<polyline clip-path=\"url(#clip490)\" style=\"stroke:#000000; stroke-width:4; stroke-opacity:1; fill:none\" points=\"\n",
       "  2290.11,1486.45 2290.11,1469.18 \n",
       "  \"/>\n",
       "<path clip-path=\"url(#clip490)\" d=\"M 0 0 M201.839 1515.64 Q198.228 1515.64 196.399 1519.2 Q194.594 1522.75 194.594 1529.87 Q194.594 1536.98 196.399 1540.55 Q198.228 1544.09 201.839 1544.09 Q205.473 1544.09 207.279 1540.55 Q209.107 1536.98 209.107 1529.87 Q209.107 1522.75 207.279 1519.2 Q205.473 1515.64 201.839 1515.64 M201.839 1511.93 Q207.649 1511.93 210.705 1516.54 Q213.783 1521.12 213.783 1529.87 Q213.783 1538.6 210.705 1543.21 Q207.649 1547.79 201.839 1547.79 Q196.029 1547.79 192.95 1543.21 Q189.895 1538.6 189.895 1529.87 Q189.895 1521.12 192.95 1516.54 Q196.029 1511.93 201.839 1511.93 Z\" fill=\"#000000\" fill-rule=\"evenodd\" fill-opacity=\"1\" /><path clip-path=\"url(#clip490)\" d=\"M 0 0 M714.288 1543.18 L721.927 1543.18 L721.927 1516.82 L713.617 1518.49 L713.617 1514.23 L721.881 1512.56 L726.557 1512.56 L726.557 1543.18 L734.195 1543.18 L734.195 1547.12 L714.288 1547.12 L714.288 1543.18 Z\" fill=\"#000000\" fill-rule=\"evenodd\" fill-opacity=\"1\" /><path clip-path=\"url(#clip490)\" d=\"M 0 0 M1240.63 1543.18 L1256.95 1543.18 L1256.95 1547.12 L1235 1547.12 L1235 1543.18 Q1237.66 1540.43 1242.25 1535.8 Q1246.85 1531.15 1248.03 1529.81 Q1250.28 1527.28 1251.16 1525.55 Q1252.06 1523.79 1252.06 1522.1 Q1252.06 1519.34 1250.12 1517.61 Q1248.2 1515.87 1245.09 1515.87 Q1242.89 1515.87 1240.44 1516.63 Q1238.01 1517.4 1235.23 1518.95 L1235.23 1514.23 Q1238.06 1513.09 1240.51 1512.51 Q1242.96 1511.93 1245 1511.93 Q1250.37 1511.93 1253.57 1514.62 Q1256.76 1517.31 1256.76 1521.8 Q1256.76 1523.93 1255.95 1525.85 Q1255.16 1527.74 1253.06 1530.34 Q1252.48 1531.01 1249.38 1534.23 Q1246.27 1537.42 1240.63 1543.18 Z\" fill=\"#000000\" fill-rule=\"evenodd\" fill-opacity=\"1\" /><path clip-path=\"url(#clip490)\" d=\"M 0 0 M1772.29 1528.49 Q1775.64 1529.2 1777.52 1531.47 Q1779.42 1533.74 1779.42 1537.07 Q1779.42 1542.19 1775.9 1544.99 Q1772.38 1547.79 1765.9 1547.79 Q1763.72 1547.79 1761.41 1547.35 Q1759.12 1546.93 1756.66 1546.08 L1756.66 1541.56 Q1758.61 1542.7 1760.92 1543.28 Q1763.24 1543.86 1765.76 1543.86 Q1770.16 1543.86 1772.45 1542.12 Q1774.77 1540.38 1774.77 1537.07 Q1774.77 1534.02 1772.61 1532.31 Q1770.48 1530.57 1766.66 1530.57 L1762.64 1530.57 L1762.64 1526.73 L1766.85 1526.73 Q1770.3 1526.73 1772.13 1525.36 Q1773.95 1523.97 1773.95 1521.38 Q1773.95 1518.72 1772.06 1517.31 Q1770.18 1515.87 1766.66 1515.87 Q1764.74 1515.87 1762.54 1516.29 Q1760.34 1516.7 1757.71 1517.58 L1757.71 1513.42 Q1760.37 1512.68 1762.68 1512.31 Q1765.02 1511.93 1767.08 1511.93 Q1772.4 1511.93 1775.51 1514.37 Q1778.61 1516.77 1778.61 1520.89 Q1778.61 1523.76 1776.96 1525.75 Q1775.32 1527.72 1772.29 1528.49 Z\" fill=\"#000000\" fill-rule=\"evenodd\" fill-opacity=\"1\" /><path clip-path=\"url(#clip490)\" d=\"M 0 0 M2293.12 1516.63 L2281.31 1535.08 L2293.12 1535.08 L2293.12 1516.63 M2291.89 1512.56 L2297.77 1512.56 L2297.77 1535.08 L2302.7 1535.08 L2302.7 1538.97 L2297.77 1538.97 L2297.77 1547.12 L2293.12 1547.12 L2293.12 1538.97 L2277.52 1538.97 L2277.52 1534.46 L2291.89 1512.56 Z\" fill=\"#000000\" fill-rule=\"evenodd\" fill-opacity=\"1\" /><polyline clip-path=\"url(#clip492)\" style=\"stroke:#000000; stroke-width:2; stroke-opacity:0.1; fill:none\" points=\"\n",
       "  139.191,1451.05 2352.76,1451.05 \n",
       "  \"/>\n",
       "<polyline clip-path=\"url(#clip492)\" style=\"stroke:#000000; stroke-width:2; stroke-opacity:0.1; fill:none\" points=\"\n",
       "  139.191,1239.23 2352.76,1239.23 \n",
       "  \"/>\n",
       "<polyline clip-path=\"url(#clip492)\" style=\"stroke:#000000; stroke-width:2; stroke-opacity:0.1; fill:none\" points=\"\n",
       "  139.191,1027.4 2352.76,1027.4 \n",
       "  \"/>\n",
       "<polyline clip-path=\"url(#clip492)\" style=\"stroke:#000000; stroke-width:2; stroke-opacity:0.1; fill:none\" points=\"\n",
       "  139.191,815.583 2352.76,815.583 \n",
       "  \"/>\n",
       "<polyline clip-path=\"url(#clip492)\" style=\"stroke:#000000; stroke-width:2; stroke-opacity:0.1; fill:none\" points=\"\n",
       "  139.191,603.762 2352.76,603.762 \n",
       "  \"/>\n",
       "<polyline clip-path=\"url(#clip492)\" style=\"stroke:#000000; stroke-width:2; stroke-opacity:0.1; fill:none\" points=\"\n",
       "  139.191,391.941 2352.76,391.941 \n",
       "  \"/>\n",
       "<polyline clip-path=\"url(#clip492)\" style=\"stroke:#000000; stroke-width:2; stroke-opacity:0.1; fill:none\" points=\"\n",
       "  139.191,180.12 2352.76,180.12 \n",
       "  \"/>\n",
       "<polyline clip-path=\"url(#clip490)\" style=\"stroke:#000000; stroke-width:4; stroke-opacity:1; fill:none\" points=\"\n",
       "  139.191,1486.45 139.191,47.2441 \n",
       "  \"/>\n",
       "<polyline clip-path=\"url(#clip490)\" style=\"stroke:#000000; stroke-width:4; stroke-opacity:1; fill:none\" points=\"\n",
       "  139.191,1451.05 165.754,1451.05 \n",
       "  \"/>\n",
       "<polyline clip-path=\"url(#clip490)\" style=\"stroke:#000000; stroke-width:4; stroke-opacity:1; fill:none\" points=\"\n",
       "  139.191,1239.23 165.754,1239.23 \n",
       "  \"/>\n",
       "<polyline clip-path=\"url(#clip490)\" style=\"stroke:#000000; stroke-width:4; stroke-opacity:1; fill:none\" points=\"\n",
       "  139.191,1027.4 165.754,1027.4 \n",
       "  \"/>\n",
       "<polyline clip-path=\"url(#clip490)\" style=\"stroke:#000000; stroke-width:4; stroke-opacity:1; fill:none\" points=\"\n",
       "  139.191,815.583 165.754,815.583 \n",
       "  \"/>\n",
       "<polyline clip-path=\"url(#clip490)\" style=\"stroke:#000000; stroke-width:4; stroke-opacity:1; fill:none\" points=\"\n",
       "  139.191,603.762 165.754,603.762 \n",
       "  \"/>\n",
       "<polyline clip-path=\"url(#clip490)\" style=\"stroke:#000000; stroke-width:4; stroke-opacity:1; fill:none\" points=\"\n",
       "  139.191,391.941 165.754,391.941 \n",
       "  \"/>\n",
       "<polyline clip-path=\"url(#clip490)\" style=\"stroke:#000000; stroke-width:4; stroke-opacity:1; fill:none\" points=\"\n",
       "  139.191,180.12 165.754,180.12 \n",
       "  \"/>\n",
       "<path clip-path=\"url(#clip490)\" d=\"M 0 0 M91.2465 1436.85 Q87.6354 1436.85 85.8068 1440.41 Q84.0012 1443.95 84.0012 1451.08 Q84.0012 1458.19 85.8068 1461.75 Q87.6354 1465.29 91.2465 1465.29 Q94.8808 1465.29 96.6863 1461.75 Q98.515 1458.19 98.515 1451.08 Q98.515 1443.95 96.6863 1440.41 Q94.8808 1436.85 91.2465 1436.85 M91.2465 1433.14 Q97.0567 1433.14 100.112 1437.75 Q103.191 1442.33 103.191 1451.08 Q103.191 1459.81 100.112 1464.41 Q97.0567 1469 91.2465 1469 Q85.4364 1469 82.3577 1464.41 Q79.3022 1459.81 79.3022 1451.08 Q79.3022 1442.33 82.3577 1437.75 Q85.4364 1433.14 91.2465 1433.14 Z\" fill=\"#000000\" fill-rule=\"evenodd\" fill-opacity=\"1\" /><path clip-path=\"url(#clip490)\" d=\"M 0 0 M56.2699 1252.57 L63.9087 1252.57 L63.9087 1226.2 L55.5986 1227.87 L55.5986 1223.61 L63.8624 1221.95 L68.5383 1221.95 L68.5383 1252.57 L76.1772 1252.57 L76.1772 1256.51 L56.2699 1256.51 L56.2699 1252.57 Z\" fill=\"#000000\" fill-rule=\"evenodd\" fill-opacity=\"1\" /><path clip-path=\"url(#clip490)\" d=\"M 0 0 M91.2465 1225.02 Q87.6354 1225.02 85.8068 1228.59 Q84.0012 1232.13 84.0012 1239.26 Q84.0012 1246.37 85.8068 1249.93 Q87.6354 1253.47 91.2465 1253.47 Q94.8808 1253.47 96.6863 1249.93 Q98.515 1246.37 98.515 1239.26 Q98.515 1232.13 96.6863 1228.59 Q94.8808 1225.02 91.2465 1225.02 M91.2465 1221.32 Q97.0567 1221.32 100.112 1225.93 Q103.191 1230.51 103.191 1239.26 Q103.191 1247.99 100.112 1252.59 Q97.0567 1257.18 91.2465 1257.18 Q85.4364 1257.18 82.3577 1252.59 Q79.3022 1247.99 79.3022 1239.26 Q79.3022 1230.51 82.3577 1225.93 Q85.4364 1221.32 91.2465 1221.32 Z\" fill=\"#000000\" fill-rule=\"evenodd\" fill-opacity=\"1\" /><path clip-path=\"url(#clip490)\" d=\"M 0 0 M59.8578 1040.75 L76.1772 1040.75 L76.1772 1044.68 L54.2328 1044.68 L54.2328 1040.75 Q56.8949 1037.99 61.4782 1033.36 Q66.0846 1028.71 67.2652 1027.37 Q69.5105 1024.85 70.3902 1023.11 Q71.2929 1021.35 71.2929 1019.66 Q71.2929 1016.91 69.3485 1015.17 Q67.4272 1013.43 64.3254 1013.43 Q62.1263 1013.43 59.6726 1014.2 Q57.2421 1014.96 54.4643 1016.51 L54.4643 1011.79 Q57.2884 1010.66 59.7421 1010.08 Q62.1958 1009.5 64.2328 1009.5 Q69.6031 1009.5 72.7976 1012.18 Q75.992 1014.87 75.992 1019.36 Q75.992 1021.49 75.1818 1023.41 Q74.3948 1025.31 72.2883 1027.9 Q71.7096 1028.57 68.6078 1031.79 Q65.5059 1034.99 59.8578 1040.75 Z\" fill=\"#000000\" fill-rule=\"evenodd\" fill-opacity=\"1\" /><path clip-path=\"url(#clip490)\" d=\"M 0 0 M91.2465 1013.2 Q87.6354 1013.2 85.8068 1016.77 Q84.0012 1020.31 84.0012 1027.44 Q84.0012 1034.55 85.8068 1038.11 Q87.6354 1041.65 91.2465 1041.65 Q94.8808 1041.65 96.6863 1038.11 Q98.515 1034.55 98.515 1027.44 Q98.515 1020.31 96.6863 1016.77 Q94.8808 1013.2 91.2465 1013.2 M91.2465 1009.5 Q97.0567 1009.5 100.112 1014.11 Q103.191 1018.69 103.191 1027.44 Q103.191 1036.17 100.112 1040.77 Q97.0567 1045.36 91.2465 1045.36 Q85.4364 1045.36 82.3577 1040.77 Q79.3022 1036.17 79.3022 1027.44 Q79.3022 1018.69 82.3577 1014.11 Q85.4364 1009.5 91.2465 1009.5 Z\" fill=\"#000000\" fill-rule=\"evenodd\" fill-opacity=\"1\" /><path clip-path=\"url(#clip490)\" d=\"M 0 0 M69.0476 814.229 Q72.404 814.947 74.279 817.215 Q76.1772 819.484 76.1772 822.817 Q76.1772 827.933 72.6587 830.734 Q69.1402 833.534 62.6587 833.534 Q60.4828 833.534 58.168 833.095 Q55.8764 832.678 53.4227 831.822 L53.4227 827.308 Q55.3671 828.442 57.6819 829.021 Q59.9967 829.599 62.5198 829.599 Q66.918 829.599 69.2096 827.863 Q71.5244 826.127 71.5244 822.817 Q71.5244 819.761 69.3717 818.048 Q67.242 816.312 63.4226 816.312 L59.3949 816.312 L59.3949 812.47 L63.6078 812.47 Q67.0569 812.47 68.8855 811.104 Q70.7142 809.715 70.7142 807.123 Q70.7142 804.461 68.8161 803.049 Q66.9411 801.613 63.4226 801.613 Q61.5013 801.613 59.3023 802.03 Q57.1032 802.447 54.4643 803.326 L54.4643 799.16 Q57.1264 798.419 59.4412 798.049 Q61.7791 797.678 63.8393 797.678 Q69.1633 797.678 72.2652 800.109 Q75.367 802.516 75.367 806.636 Q75.367 809.507 73.7235 811.498 Q72.08 813.465 69.0476 814.229 Z\" fill=\"#000000\" fill-rule=\"evenodd\" fill-opacity=\"1\" /><path clip-path=\"url(#clip490)\" d=\"M 0 0 M91.2465 801.382 Q87.6354 801.382 85.8068 804.947 Q84.0012 808.488 84.0012 815.618 Q84.0012 822.724 85.8068 826.289 Q87.6354 829.831 91.2465 829.831 Q94.8808 829.831 96.6863 826.289 Q98.515 822.724 98.515 815.618 Q98.515 808.488 96.6863 804.947 Q94.8808 801.382 91.2465 801.382 M91.2465 797.678 Q97.0567 797.678 100.112 802.285 Q103.191 806.868 103.191 815.618 Q103.191 824.345 100.112 828.951 Q97.0567 833.534 91.2465 833.534 Q85.4364 833.534 82.3577 828.951 Q79.3022 824.345 79.3022 815.618 Q79.3022 806.868 82.3577 802.285 Q85.4364 797.678 91.2465 797.678 Z\" fill=\"#000000\" fill-rule=\"evenodd\" fill-opacity=\"1\" /><path clip-path=\"url(#clip490)\" d=\"M 0 0 M66.5939 590.556 L54.7884 609.005 L66.5939 609.005 L66.5939 590.556 M65.367 586.482 L71.2466 586.482 L71.2466 609.005 L76.1772 609.005 L76.1772 612.894 L71.2466 612.894 L71.2466 621.042 L66.5939 621.042 L66.5939 612.894 L50.9921 612.894 L50.9921 608.38 L65.367 586.482 Z\" fill=\"#000000\" fill-rule=\"evenodd\" fill-opacity=\"1\" /><path clip-path=\"url(#clip490)\" d=\"M 0 0 M91.2465 589.561 Q87.6354 589.561 85.8068 593.126 Q84.0012 596.667 84.0012 603.797 Q84.0012 610.903 85.8068 614.468 Q87.6354 618.01 91.2465 618.01 Q94.8808 618.01 96.6863 614.468 Q98.515 610.903 98.515 603.797 Q98.515 596.667 96.6863 593.126 Q94.8808 589.561 91.2465 589.561 M91.2465 585.857 Q97.0567 585.857 100.112 590.464 Q103.191 595.047 103.191 603.797 Q103.191 612.524 100.112 617.13 Q97.0567 621.713 91.2465 621.713 Q85.4364 621.713 82.3577 617.13 Q79.3022 612.524 79.3022 603.797 Q79.3022 595.047 82.3577 590.464 Q85.4364 585.857 91.2465 585.857 Z\" fill=\"#000000\" fill-rule=\"evenodd\" fill-opacity=\"1\" /><path clip-path=\"url(#clip490)\" d=\"M 0 0 M55.2745 374.661 L73.6309 374.661 L73.6309 378.596 L59.5569 378.596 L59.5569 387.068 Q60.5754 386.721 61.5939 386.559 Q62.6124 386.374 63.6309 386.374 Q69.418 386.374 72.7976 389.545 Q76.1772 392.716 76.1772 398.133 Q76.1772 403.712 72.705 406.814 Q69.2328 409.892 62.9134 409.892 Q60.7374 409.892 58.4689 409.522 Q56.2236 409.152 53.8162 408.411 L53.8162 403.712 Q55.8995 404.846 58.1217 405.402 Q60.3439 405.957 62.8208 405.957 Q66.8254 405.957 69.1633 403.851 Q71.5013 401.744 71.5013 398.133 Q71.5013 394.522 69.1633 392.415 Q66.8254 390.309 62.8208 390.309 Q60.9458 390.309 59.0708 390.726 Q57.2189 391.142 55.2745 392.022 L55.2745 374.661 Z\" fill=\"#000000\" fill-rule=\"evenodd\" fill-opacity=\"1\" /><path clip-path=\"url(#clip490)\" d=\"M 0 0 M91.2465 377.74 Q87.6354 377.74 85.8068 381.304 Q84.0012 384.846 84.0012 391.976 Q84.0012 399.082 85.8068 402.647 Q87.6354 406.189 91.2465 406.189 Q94.8808 406.189 96.6863 402.647 Q98.515 399.082 98.515 391.976 Q98.515 384.846 96.6863 381.304 Q94.8808 377.74 91.2465 377.74 M91.2465 374.036 Q97.0567 374.036 100.112 378.642 Q103.191 383.226 103.191 391.976 Q103.191 400.702 100.112 405.309 Q97.0567 409.892 91.2465 409.892 Q85.4364 409.892 82.3577 405.309 Q79.3022 400.702 79.3022 391.976 Q79.3022 383.226 82.3577 378.642 Q85.4364 374.036 91.2465 374.036 Z\" fill=\"#000000\" fill-rule=\"evenodd\" fill-opacity=\"1\" /><path clip-path=\"url(#clip490)\" d=\"M 0 0 M64.6495 178.256 Q61.5013 178.256 59.6495 180.409 Q57.8208 182.562 57.8208 186.312 Q57.8208 190.039 59.6495 192.215 Q61.5013 194.367 64.6495 194.367 Q67.7976 194.367 69.6263 192.215 Q71.4781 190.039 71.4781 186.312 Q71.4781 182.562 69.6263 180.409 Q67.7976 178.256 64.6495 178.256 M73.9318 163.604 L73.9318 167.863 Q72.1726 167.03 70.367 166.59 Q68.5846 166.15 66.8254 166.15 Q62.1958 166.15 59.7421 169.275 Q57.3115 172.4 56.9643 178.719 Q58.33 176.705 60.3902 175.641 Q62.4504 174.553 64.9272 174.553 Q70.1355 174.553 73.1448 177.724 Q76.1772 180.872 76.1772 186.312 Q76.1772 191.636 73.029 194.854 Q69.8809 198.071 64.6495 198.071 Q58.6541 198.071 55.4828 193.488 Q52.3116 188.881 52.3116 180.155 Q52.3116 171.96 56.2004 167.099 Q60.0893 162.215 66.6402 162.215 Q68.3994 162.215 70.1818 162.562 Q71.9874 162.909 73.9318 163.604 Z\" fill=\"#000000\" fill-rule=\"evenodd\" fill-opacity=\"1\" /><path clip-path=\"url(#clip490)\" d=\"M 0 0 M91.2465 165.919 Q87.6354 165.919 85.8068 169.483 Q84.0012 173.025 84.0012 180.155 Q84.0012 187.261 85.8068 190.826 Q87.6354 194.367 91.2465 194.367 Q94.8808 194.367 96.6863 190.826 Q98.515 187.261 98.515 180.155 Q98.515 173.025 96.6863 169.483 Q94.8808 165.919 91.2465 165.919 M91.2465 162.215 Q97.0567 162.215 100.112 166.821 Q103.191 171.405 103.191 180.155 Q103.191 188.881 100.112 193.488 Q97.0567 198.071 91.2465 198.071 Q85.4364 198.071 82.3577 193.488 Q79.3022 188.881 79.3022 180.155 Q79.3022 171.405 82.3577 166.821 Q85.4364 162.215 91.2465 162.215 Z\" fill=\"#000000\" fill-rule=\"evenodd\" fill-opacity=\"1\" /><polyline clip-path=\"url(#clip492)\" style=\"stroke:#009af9; stroke-width:4; stroke-opacity:1; fill:none\" points=\"\n",
       "  201.839,87.9763 254.046,264.389 306.252,417.971 358.459,551.675 410.666,668.075 462.873,769.409 515.079,857.629 567.286,934.431 619.493,1001.29 671.699,1059.5 \n",
       "  723.906,1110.18 776.113,1154.29 828.32,1192.7 880.526,1226.14 932.733,1255.25 984.94,1280.59 1037.15,1302.65 1089.35,1321.85 1141.56,1338.57 1193.77,1353.13 \n",
       "  1245.97,1365.8 1298.18,1376.84 1350.39,1386.44 1402.59,1394.8 1454.8,1402.08 1507.01,1408.42 1559.21,1413.94 1611.42,1418.74 1663.63,1422.92 1715.83,1426.56 \n",
       "  1768.04,1429.73 1820.25,1432.49 1872.45,1434.89 1924.66,1436.98 1976.87,1438.8 2029.07,1440.39 2081.28,1441.77 2133.49,1442.97 2185.69,1444.01 2237.9,1444.92 \n",
       "  2290.11,1445.72 \n",
       "  \"/>\n",
       "<polyline clip-path=\"url(#clip492)\" style=\"stroke:#e26f46; stroke-width:4; stroke-opacity:1; fill:none\" stroke-dasharray=\"16, 10\" points=\"\n",
       "  201.839,1345.14 254.046,1345.14 306.252,1345.14 358.459,1345.14 410.666,1345.14 462.873,1345.14 515.079,1345.14 567.286,1345.14 619.493,1345.14 671.699,1345.14 \n",
       "  723.906,1345.14 776.113,1345.14 828.32,1345.14 880.526,1345.14 932.733,1345.14 984.94,1345.14 1037.15,1345.14 1089.35,1345.14 1141.56,1345.14 1193.77,1345.14 \n",
       "  1245.97,1345.14 1298.18,1345.14 1350.39,1345.14 1402.59,1345.14 1454.8,1345.14 1507.01,1345.14 1559.21,1345.14 1611.42,1345.14 1663.63,1345.14 1715.83,1345.14 \n",
       "  1768.04,1345.14 1820.25,1345.14 1872.45,1345.14 1924.66,1345.14 1976.87,1345.14 2029.07,1345.14 2081.28,1345.14 2133.49,1345.14 2185.69,1345.14 2237.9,1345.14 \n",
       "  2290.11,1345.14 \n",
       "  \"/>\n",
       "<path clip-path=\"url(#clip490)\" d=\"\n",
       "M1873.62 276.658 L2278.97 276.658 L2278.97 95.2176 L1873.62 95.2176  Z\n",
       "  \" fill=\"#ffffff\" fill-rule=\"evenodd\" fill-opacity=\"1\"/>\n",
       "<polyline clip-path=\"url(#clip490)\" style=\"stroke:#000000; stroke-width:4; stroke-opacity:1; fill:none\" points=\"\n",
       "  1873.62,276.658 2278.97,276.658 2278.97,95.2176 1873.62,95.2176 1873.62,276.658 \n",
       "  \"/>\n",
       "<polyline clip-path=\"url(#clip490)\" style=\"stroke:#009af9; stroke-width:4; stroke-opacity:1; fill:none\" points=\"\n",
       "  1898.22,155.698 2045.79,155.698 \n",
       "  \"/>\n",
       "<path clip-path=\"url(#clip490)\" d=\"M 0 0 M2071.84 138.418 L2090.2 138.418 L2090.2 142.353 L2076.12 142.353 L2076.12 150.825 Q2077.14 150.478 2078.16 150.316 Q2079.18 150.13 2080.2 150.13 Q2085.98 150.13 2089.36 153.302 Q2092.74 156.473 2092.74 161.89 Q2092.74 167.468 2089.27 170.57 Q2085.8 173.649 2079.48 173.649 Q2077.3 173.649 2075.04 173.278 Q2072.79 172.908 2070.38 172.167 L2070.38 167.468 Q2072.47 168.603 2074.69 169.158 Q2076.91 169.714 2079.39 169.714 Q2083.39 169.714 2085.73 167.607 Q2088.07 165.501 2088.07 161.89 Q2088.07 158.279 2085.73 156.172 Q2083.39 154.066 2079.39 154.066 Q2077.51 154.066 2075.64 154.482 Q2073.79 154.899 2071.84 155.779 L2071.84 138.418 Z\" fill=\"#000000\" fill-rule=\"evenodd\" fill-opacity=\"1\" /><path clip-path=\"url(#clip490)\" d=\"M 0 0 M2107.81 141.496 Q2104.2 141.496 2102.37 145.061 Q2100.57 148.603 2100.57 155.732 Q2100.57 162.839 2102.37 166.404 Q2104.2 169.945 2107.81 169.945 Q2111.45 169.945 2113.25 166.404 Q2115.08 162.839 2115.08 155.732 Q2115.08 148.603 2113.25 145.061 Q2111.45 141.496 2107.81 141.496 M2107.81 137.793 Q2113.62 137.793 2116.68 142.399 Q2119.76 146.982 2119.76 155.732 Q2119.76 164.459 2116.68 169.066 Q2113.62 173.649 2107.81 173.649 Q2102 173.649 2098.92 169.066 Q2095.87 164.459 2095.87 155.732 Q2095.87 146.982 2098.92 142.399 Q2102 137.793 2107.81 137.793 Z\" fill=\"#000000\" fill-rule=\"evenodd\" fill-opacity=\"1\" /><path clip-path=\"url(#clip490)\" d=\"M 0 0 M2134.83 141.496 Q2131.22 141.496 2129.39 145.061 Q2127.58 148.603 2127.58 155.732 Q2127.58 162.839 2129.39 166.404 Q2131.22 169.945 2134.83 169.945 Q2138.46 169.945 2140.27 166.404 Q2142.1 162.839 2142.1 155.732 Q2142.1 148.603 2140.27 145.061 Q2138.46 141.496 2134.83 141.496 M2134.83 137.793 Q2140.64 137.793 2143.69 142.399 Q2146.77 146.982 2146.77 155.732 Q2146.77 164.459 2143.69 169.066 Q2140.64 173.649 2134.83 173.649 Q2129.02 173.649 2125.94 169.066 Q2122.88 164.459 2122.88 155.732 Q2122.88 146.982 2125.94 142.399 Q2129.02 137.793 2134.83 137.793 Z\" fill=\"#000000\" fill-rule=\"evenodd\" fill-opacity=\"1\" /><path clip-path=\"url(#clip490)\" d=\"M 0 0 M2186.49 152.029 Q2188.09 149.158 2190.31 147.793 Q2192.53 146.427 2195.54 146.427 Q2199.6 146.427 2201.79 149.274 Q2203.99 152.098 2203.99 157.329 L2203.99 172.978 L2199.71 172.978 L2199.71 157.468 Q2199.71 153.742 2198.39 151.936 Q2197.07 150.13 2194.36 150.13 Q2191.05 150.13 2189.13 152.33 Q2187.21 154.529 2187.21 158.325 L2187.21 172.978 L2182.93 172.978 L2182.93 157.468 Q2182.93 153.718 2181.61 151.936 Q2180.29 150.13 2177.53 150.13 Q2174.27 150.13 2172.35 152.353 Q2170.43 154.552 2170.43 158.325 L2170.43 172.978 L2166.15 172.978 L2166.15 147.052 L2170.43 147.052 L2170.43 151.08 Q2171.89 148.695 2173.92 147.561 Q2175.96 146.427 2178.76 146.427 Q2181.59 146.427 2183.55 147.862 Q2185.54 149.297 2186.49 152.029 Z\" fill=\"#000000\" fill-rule=\"evenodd\" fill-opacity=\"1\" /><path clip-path=\"url(#clip490)\" d=\"M 0 0 M2225.52 159.714 Q2225.52 155.084 2223.6 152.538 Q2221.7 149.992 2218.25 149.992 Q2214.83 149.992 2212.91 152.538 Q2211.01 155.084 2211.01 159.714 Q2211.01 164.32 2212.91 166.866 Q2214.83 169.413 2218.25 169.413 Q2221.7 169.413 2223.6 166.866 Q2225.52 164.32 2225.52 159.714 M2229.78 169.76 Q2229.78 176.38 2226.84 179.598 Q2223.9 182.839 2217.84 182.839 Q2215.59 182.839 2213.6 182.491 Q2211.61 182.167 2209.73 181.473 L2209.73 177.329 Q2211.61 178.348 2213.44 178.834 Q2215.27 179.32 2217.16 179.32 Q2221.35 179.32 2223.44 177.121 Q2225.52 174.945 2225.52 170.524 L2225.52 168.417 Q2224.2 170.709 2222.14 171.843 Q2220.08 172.978 2217.21 172.978 Q2212.44 172.978 2209.53 169.343 Q2206.61 165.709 2206.61 159.714 Q2206.61 153.695 2209.53 150.061 Q2212.44 146.427 2217.21 146.427 Q2220.08 146.427 2222.14 147.561 Q2224.2 148.695 2225.52 150.987 L2225.52 147.052 L2229.78 147.052 L2229.78 169.76 Z\" fill=\"#000000\" fill-rule=\"evenodd\" fill-opacity=\"1\" /><polyline clip-path=\"url(#clip490)\" style=\"stroke:#e26f46; stroke-width:4; stroke-opacity:1; fill:none\" stroke-dasharray=\"16, 10\" points=\"\n",
       "  1898.22,216.178 2045.79,216.178 \n",
       "  \"/>\n",
       "<path clip-path=\"url(#clip490)\" d=\"M 0 0 M2070.38 198.898 L2077.35 198.898 L2086.17 222.416 L2095.04 198.898 L2102 198.898 L2102 233.458 L2097.44 233.458 L2097.44 203.11 L2088.53 226.814 L2083.83 226.814 L2074.92 203.11 L2074.92 233.458 L2070.38 233.458 L2070.38 198.898 Z\" fill=\"#000000\" fill-rule=\"evenodd\" fill-opacity=\"1\" /><path clip-path=\"url(#clip490)\" d=\"M 0 0 M2106.66 198.898 L2111.33 198.898 L2111.33 233.458 L2106.66 233.458 L2106.66 198.898 Z\" fill=\"#000000\" fill-rule=\"evenodd\" fill-opacity=\"1\" /><path clip-path=\"url(#clip490)\" d=\"M 0 0 M2141.86 201.56 L2141.86 206.49 Q2139.5 204.291 2136.82 203.203 Q2134.16 202.115 2131.15 202.115 Q2125.22 202.115 2122.07 205.749 Q2118.92 209.36 2118.92 216.212 Q2118.92 223.041 2122.07 226.675 Q2125.22 230.286 2131.15 230.286 Q2134.16 230.286 2136.82 229.198 Q2139.5 228.11 2141.86 225.911 L2141.86 230.796 Q2139.41 232.462 2136.66 233.296 Q2133.92 234.129 2130.87 234.129 Q2123.02 234.129 2118.51 229.337 Q2113.99 224.522 2113.99 216.212 Q2113.99 207.879 2118.51 203.087 Q2123.02 198.273 2130.87 198.273 Q2133.97 198.273 2136.7 199.106 Q2139.46 199.916 2141.86 201.56 Z\" fill=\"#000000\" fill-rule=\"evenodd\" fill-opacity=\"1\" /></svg>\n"
      ]
     },
     "execution_count": 404,
     "metadata": {},
     "output_type": "execute_result"
    }
   ],
   "source": [
    "plot!(t_plot, fill(MIC, length(t_plot)), linestyle=:dash, label=\"MIC\")"
   ]
  },
  {
   "cell_type": "markdown",
   "metadata": {},
   "source": [
    "Zmniejszmy i zwiększmy dawkę początką dwukrotnie"
   ]
  },
  {
   "cell_type": "code",
   "execution_count": 405,
   "metadata": {},
   "outputs": [],
   "source": [
    "X₂ = 2*X₀\n",
    "X₃ = X₀/2;"
   ]
  },
  {
   "cell_type": "code",
   "execution_count": 406,
   "metadata": {},
   "outputs": [],
   "source": [
    "data2 = runge_kutta(model2, t_plot, beginC(X₂, V))\n",
    "data3 = runge_kutta(model2, t_plot, beginC(X₃, V));"
   ]
  },
  {
   "cell_type": "code",
   "execution_count": 407,
   "metadata": {},
   "outputs": [
    {
     "data": {
      "image/svg+xml": [
       "<?xml version=\"1.0\" encoding=\"utf-8\"?>\n",
       "<svg xmlns=\"http://www.w3.org/2000/svg\" xmlns:xlink=\"http://www.w3.org/1999/xlink\" width=\"600\" height=\"400\" viewBox=\"0 0 2400 1600\">\n",
       "<defs>\n",
       "  <clipPath id=\"clip530\">\n",
       "    <rect x=\"0\" y=\"0\" width=\"2400\" height=\"1600\"/>\n",
       "  </clipPath>\n",
       "</defs>\n",
       "<path clip-path=\"url(#clip530)\" d=\"\n",
       "M0 1600 L2400 1600 L2400 0 L0 0  Z\n",
       "  \" fill=\"#ffffff\" fill-rule=\"evenodd\" fill-opacity=\"1\"/>\n",
       "<defs>\n",
       "  <clipPath id=\"clip531\">\n",
       "    <rect x=\"480\" y=\"0\" width=\"1681\" height=\"1600\"/>\n",
       "  </clipPath>\n",
       "</defs>\n",
       "<path clip-path=\"url(#clip530)\" d=\"\n",
       "M161.598 1486.45 L2352.76 1486.45 L2352.76 47.2441 L161.598 47.2441  Z\n",
       "  \" fill=\"#ffffff\" fill-rule=\"evenodd\" fill-opacity=\"1\"/>\n",
       "<defs>\n",
       "  <clipPath id=\"clip532\">\n",
       "    <rect x=\"161\" y=\"47\" width=\"2192\" height=\"1440\"/>\n",
       "  </clipPath>\n",
       "</defs>\n",
       "<polyline clip-path=\"url(#clip532)\" style=\"stroke:#000000; stroke-width:2; stroke-opacity:0.1; fill:none\" points=\"\n",
       "  223.612,1486.45 223.612,47.2441 \n",
       "  \"/>\n",
       "<polyline clip-path=\"url(#clip532)\" style=\"stroke:#000000; stroke-width:2; stroke-opacity:0.1; fill:none\" points=\"\n",
       "  740.395,1486.45 740.395,47.2441 \n",
       "  \"/>\n",
       "<polyline clip-path=\"url(#clip532)\" style=\"stroke:#000000; stroke-width:2; stroke-opacity:0.1; fill:none\" points=\"\n",
       "  1257.18,1486.45 1257.18,47.2441 \n",
       "  \"/>\n",
       "<polyline clip-path=\"url(#clip532)\" style=\"stroke:#000000; stroke-width:2; stroke-opacity:0.1; fill:none\" points=\"\n",
       "  1773.96,1486.45 1773.96,47.2441 \n",
       "  \"/>\n",
       "<polyline clip-path=\"url(#clip532)\" style=\"stroke:#000000; stroke-width:2; stroke-opacity:0.1; fill:none\" points=\"\n",
       "  2290.74,1486.45 2290.74,47.2441 \n",
       "  \"/>\n",
       "<polyline clip-path=\"url(#clip530)\" style=\"stroke:#000000; stroke-width:4; stroke-opacity:1; fill:none\" points=\"\n",
       "  161.598,1486.45 2352.76,1486.45 \n",
       "  \"/>\n",
       "<polyline clip-path=\"url(#clip530)\" style=\"stroke:#000000; stroke-width:4; stroke-opacity:1; fill:none\" points=\"\n",
       "  223.612,1486.45 223.612,1469.18 \n",
       "  \"/>\n",
       "<polyline clip-path=\"url(#clip530)\" style=\"stroke:#000000; stroke-width:4; stroke-opacity:1; fill:none\" points=\"\n",
       "  740.395,1486.45 740.395,1469.18 \n",
       "  \"/>\n",
       "<polyline clip-path=\"url(#clip530)\" style=\"stroke:#000000; stroke-width:4; stroke-opacity:1; fill:none\" points=\"\n",
       "  1257.18,1486.45 1257.18,1469.18 \n",
       "  \"/>\n",
       "<polyline clip-path=\"url(#clip530)\" style=\"stroke:#000000; stroke-width:4; stroke-opacity:1; fill:none\" points=\"\n",
       "  1773.96,1486.45 1773.96,1469.18 \n",
       "  \"/>\n",
       "<polyline clip-path=\"url(#clip530)\" style=\"stroke:#000000; stroke-width:4; stroke-opacity:1; fill:none\" points=\"\n",
       "  2290.74,1486.45 2290.74,1469.18 \n",
       "  \"/>\n",
       "<path clip-path=\"url(#clip530)\" d=\"M 0 0 M223.612 1515.64 Q220.001 1515.64 218.172 1519.2 Q216.367 1522.75 216.367 1529.87 Q216.367 1536.98 218.172 1540.55 Q220.001 1544.09 223.612 1544.09 Q227.246 1544.09 229.052 1540.55 Q230.881 1536.98 230.881 1529.87 Q230.881 1522.75 229.052 1519.2 Q227.246 1515.64 223.612 1515.64 M223.612 1511.93 Q229.422 1511.93 232.478 1516.54 Q235.556 1521.12 235.556 1529.87 Q235.556 1538.6 232.478 1543.21 Q229.422 1547.79 223.612 1547.79 Q217.802 1547.79 214.723 1543.21 Q211.668 1538.6 211.668 1529.87 Q211.668 1521.12 214.723 1516.54 Q217.802 1511.93 223.612 1511.93 Z\" fill=\"#000000\" fill-rule=\"evenodd\" fill-opacity=\"1\" /><path clip-path=\"url(#clip530)\" d=\"M 0 0 M730.777 1543.18 L738.415 1543.18 L738.415 1516.82 L730.105 1518.49 L730.105 1514.23 L738.369 1512.56 L743.045 1512.56 L743.045 1543.18 L750.684 1543.18 L750.684 1547.12 L730.777 1547.12 L730.777 1543.18 Z\" fill=\"#000000\" fill-rule=\"evenodd\" fill-opacity=\"1\" /><path clip-path=\"url(#clip530)\" d=\"M 0 0 M1251.83 1543.18 L1268.15 1543.18 L1268.15 1547.12 L1246.2 1547.12 L1246.2 1543.18 Q1248.87 1540.43 1253.45 1535.8 Q1258.06 1531.15 1259.24 1529.81 Q1261.48 1527.28 1262.36 1525.55 Q1263.26 1523.79 1263.26 1522.1 Q1263.26 1519.34 1261.32 1517.61 Q1259.4 1515.87 1256.3 1515.87 Q1254.1 1515.87 1251.64 1516.63 Q1249.21 1517.4 1246.44 1518.95 L1246.44 1514.23 Q1249.26 1513.09 1251.71 1512.51 Q1254.17 1511.93 1256.2 1511.93 Q1261.58 1511.93 1264.77 1514.62 Q1267.96 1517.31 1267.96 1521.8 Q1267.96 1523.93 1267.15 1525.85 Q1266.37 1527.74 1264.26 1530.34 Q1263.68 1531.01 1260.58 1534.23 Q1257.48 1537.42 1251.83 1543.18 Z\" fill=\"#000000\" fill-rule=\"evenodd\" fill-opacity=\"1\" /><path clip-path=\"url(#clip530)\" d=\"M 0 0 M1778.21 1528.49 Q1781.56 1529.2 1783.44 1531.47 Q1785.34 1533.74 1785.34 1537.07 Q1785.34 1542.19 1781.82 1544.99 Q1778.3 1547.79 1771.82 1547.79 Q1769.64 1547.79 1767.33 1547.35 Q1765.04 1546.93 1762.58 1546.08 L1762.58 1541.56 Q1764.53 1542.7 1766.84 1543.28 Q1769.16 1543.86 1771.68 1543.86 Q1776.08 1543.86 1778.37 1542.12 Q1780.68 1540.38 1780.68 1537.07 Q1780.68 1534.02 1778.53 1532.31 Q1776.4 1530.57 1772.58 1530.57 L1768.55 1530.57 L1768.55 1526.73 L1772.77 1526.73 Q1776.22 1526.73 1778.05 1525.36 Q1779.87 1523.97 1779.87 1521.38 Q1779.87 1518.72 1777.98 1517.31 Q1776.1 1515.87 1772.58 1515.87 Q1770.66 1515.87 1768.46 1516.29 Q1766.26 1516.7 1763.62 1517.58 L1763.62 1513.42 Q1766.29 1512.68 1768.6 1512.31 Q1770.94 1511.93 1773 1511.93 Q1778.32 1511.93 1781.42 1514.37 Q1784.53 1516.77 1784.53 1520.89 Q1784.53 1523.76 1782.88 1525.75 Q1781.24 1527.72 1778.21 1528.49 Z\" fill=\"#000000\" fill-rule=\"evenodd\" fill-opacity=\"1\" /><path clip-path=\"url(#clip530)\" d=\"M 0 0 M2293.75 1516.63 L2281.95 1535.08 L2293.75 1535.08 L2293.75 1516.63 M2292.52 1512.56 L2298.4 1512.56 L2298.4 1535.08 L2303.33 1535.08 L2303.33 1538.97 L2298.4 1538.97 L2298.4 1547.12 L2293.75 1547.12 L2293.75 1538.97 L2278.15 1538.97 L2278.15 1534.46 L2292.52 1512.56 Z\" fill=\"#000000\" fill-rule=\"evenodd\" fill-opacity=\"1\" /><polyline clip-path=\"url(#clip532)\" style=\"stroke:#000000; stroke-width:2; stroke-opacity:0.1; fill:none\" points=\"\n",
       "  161.598,1447.04 2352.76,1447.04 \n",
       "  \"/>\n",
       "<polyline clip-path=\"url(#clip532)\" style=\"stroke:#000000; stroke-width:2; stroke-opacity:0.1; fill:none\" points=\"\n",
       "  161.598,1235.85 2352.76,1235.85 \n",
       "  \"/>\n",
       "<polyline clip-path=\"url(#clip532)\" style=\"stroke:#000000; stroke-width:2; stroke-opacity:0.1; fill:none\" points=\"\n",
       "  161.598,1024.65 2352.76,1024.65 \n",
       "  \"/>\n",
       "<polyline clip-path=\"url(#clip532)\" style=\"stroke:#000000; stroke-width:2; stroke-opacity:0.1; fill:none\" points=\"\n",
       "  161.598,813.447 2352.76,813.447 \n",
       "  \"/>\n",
       "<polyline clip-path=\"url(#clip532)\" style=\"stroke:#000000; stroke-width:2; stroke-opacity:0.1; fill:none\" points=\"\n",
       "  161.598,602.248 2352.76,602.248 \n",
       "  \"/>\n",
       "<polyline clip-path=\"url(#clip532)\" style=\"stroke:#000000; stroke-width:2; stroke-opacity:0.1; fill:none\" points=\"\n",
       "  161.598,391.048 2352.76,391.048 \n",
       "  \"/>\n",
       "<polyline clip-path=\"url(#clip532)\" style=\"stroke:#000000; stroke-width:2; stroke-opacity:0.1; fill:none\" points=\"\n",
       "  161.598,179.849 2352.76,179.849 \n",
       "  \"/>\n",
       "<polyline clip-path=\"url(#clip530)\" style=\"stroke:#000000; stroke-width:4; stroke-opacity:1; fill:none\" points=\"\n",
       "  161.598,1486.45 161.598,47.2441 \n",
       "  \"/>\n",
       "<polyline clip-path=\"url(#clip530)\" style=\"stroke:#000000; stroke-width:4; stroke-opacity:1; fill:none\" points=\"\n",
       "  161.598,1447.04 187.892,1447.04 \n",
       "  \"/>\n",
       "<polyline clip-path=\"url(#clip530)\" style=\"stroke:#000000; stroke-width:4; stroke-opacity:1; fill:none\" points=\"\n",
       "  161.598,1235.85 187.892,1235.85 \n",
       "  \"/>\n",
       "<polyline clip-path=\"url(#clip530)\" style=\"stroke:#000000; stroke-width:4; stroke-opacity:1; fill:none\" points=\"\n",
       "  161.598,1024.65 187.892,1024.65 \n",
       "  \"/>\n",
       "<polyline clip-path=\"url(#clip530)\" style=\"stroke:#000000; stroke-width:4; stroke-opacity:1; fill:none\" points=\"\n",
       "  161.598,813.447 187.892,813.447 \n",
       "  \"/>\n",
       "<polyline clip-path=\"url(#clip530)\" style=\"stroke:#000000; stroke-width:4; stroke-opacity:1; fill:none\" points=\"\n",
       "  161.598,602.248 187.892,602.248 \n",
       "  \"/>\n",
       "<polyline clip-path=\"url(#clip530)\" style=\"stroke:#000000; stroke-width:4; stroke-opacity:1; fill:none\" points=\"\n",
       "  161.598,391.048 187.892,391.048 \n",
       "  \"/>\n",
       "<polyline clip-path=\"url(#clip530)\" style=\"stroke:#000000; stroke-width:4; stroke-opacity:1; fill:none\" points=\"\n",
       "  161.598,179.849 187.892,179.849 \n",
       "  \"/>\n",
       "<path clip-path=\"url(#clip530)\" d=\"M 0 0 M113.654 1432.84 Q110.043 1432.84 108.214 1436.41 Q106.408 1439.95 106.408 1447.08 Q106.408 1454.19 108.214 1457.75 Q110.043 1461.29 113.654 1461.29 Q117.288 1461.29 119.094 1457.75 Q120.922 1454.19 120.922 1447.08 Q120.922 1439.95 119.094 1436.41 Q117.288 1432.84 113.654 1432.84 M113.654 1429.14 Q119.464 1429.14 122.52 1433.75 Q125.598 1438.33 125.598 1447.08 Q125.598 1455.81 122.52 1460.41 Q119.464 1465 113.654 1465 Q107.844 1465 104.765 1460.41 Q101.709 1455.81 101.709 1447.08 Q101.709 1438.33 104.765 1433.75 Q107.844 1429.14 113.654 1429.14 Z\" fill=\"#000000\" fill-rule=\"evenodd\" fill-opacity=\"1\" /><path clip-path=\"url(#clip530)\" d=\"M 0 0 M82.2651 1249.19 L98.5845 1249.19 L98.5845 1253.13 L76.6401 1253.13 L76.6401 1249.19 Q79.3022 1246.44 83.8855 1241.81 Q88.4919 1237.15 89.6725 1235.81 Q91.9178 1233.29 92.7975 1231.55 Q93.7002 1229.79 93.7002 1228.1 Q93.7002 1225.35 91.7558 1223.61 Q89.8345 1221.88 86.7327 1221.88 Q84.5336 1221.88 82.0799 1222.64 Q79.6494 1223.4 76.8716 1224.95 L76.8716 1220.23 Q79.6957 1219.1 82.1494 1218.52 Q84.6031 1217.94 86.6401 1217.94 Q92.0104 1217.94 95.2049 1220.63 Q98.3993 1223.31 98.3993 1227.8 Q98.3993 1229.93 97.5891 1231.85 Q96.8021 1233.75 94.6956 1236.34 Q94.1169 1237.01 91.0151 1240.23 Q87.9132 1243.43 82.2651 1249.19 Z\" fill=\"#000000\" fill-rule=\"evenodd\" fill-opacity=\"1\" /><path clip-path=\"url(#clip530)\" d=\"M 0 0 M113.654 1221.64 Q110.043 1221.64 108.214 1225.21 Q106.408 1228.75 106.408 1235.88 Q106.408 1242.99 108.214 1246.55 Q110.043 1250.09 113.654 1250.09 Q117.288 1250.09 119.094 1246.55 Q120.922 1242.99 120.922 1235.88 Q120.922 1228.75 119.094 1225.21 Q117.288 1221.64 113.654 1221.64 M113.654 1217.94 Q119.464 1217.94 122.52 1222.55 Q125.598 1227.13 125.598 1235.88 Q125.598 1244.61 122.52 1249.21 Q119.464 1253.8 113.654 1253.8 Q107.844 1253.8 104.765 1249.21 Q101.709 1244.61 101.709 1235.88 Q101.709 1227.13 104.765 1222.55 Q107.844 1217.94 113.654 1217.94 Z\" fill=\"#000000\" fill-rule=\"evenodd\" fill-opacity=\"1\" /><path clip-path=\"url(#clip530)\" d=\"M 0 0 M89.0012 1011.44 L77.1957 1029.89 L89.0012 1029.89 L89.0012 1011.44 M87.7743 1007.37 L93.6539 1007.37 L93.6539 1029.89 L98.5845 1029.89 L98.5845 1033.78 L93.6539 1033.78 L93.6539 1041.93 L89.0012 1041.93 L89.0012 1033.78 L73.3994 1033.78 L73.3994 1029.26 L87.7743 1007.37 Z\" fill=\"#000000\" fill-rule=\"evenodd\" fill-opacity=\"1\" /><path clip-path=\"url(#clip530)\" d=\"M 0 0 M113.654 1010.44 Q110.043 1010.44 108.214 1014.01 Q106.408 1017.55 106.408 1024.68 Q106.408 1031.79 108.214 1035.35 Q110.043 1038.89 113.654 1038.89 Q117.288 1038.89 119.094 1035.35 Q120.922 1031.79 120.922 1024.68 Q120.922 1017.55 119.094 1014.01 Q117.288 1010.44 113.654 1010.44 M113.654 1006.74 Q119.464 1006.74 122.52 1011.35 Q125.598 1015.93 125.598 1024.68 Q125.598 1033.41 122.52 1038.01 Q119.464 1042.6 113.654 1042.6 Q107.844 1042.6 104.765 1038.01 Q101.709 1033.41 101.709 1024.68 Q101.709 1015.93 104.765 1011.35 Q107.844 1006.74 113.654 1006.74 Z\" fill=\"#000000\" fill-rule=\"evenodd\" fill-opacity=\"1\" /><path clip-path=\"url(#clip530)\" d=\"M 0 0 M87.0567 811.583 Q83.9086 811.583 82.0568 813.736 Q80.2281 815.889 80.2281 819.639 Q80.2281 823.366 82.0568 825.542 Q83.9086 827.695 87.0567 827.695 Q90.2049 827.695 92.0336 825.542 Q93.8854 823.366 93.8854 819.639 Q93.8854 815.889 92.0336 813.736 Q90.2049 811.583 87.0567 811.583 M96.3391 796.931 L96.3391 801.19 Q94.5799 800.357 92.7743 799.917 Q90.9919 799.477 89.2327 799.477 Q84.6031 799.477 82.1494 802.602 Q79.7188 805.727 79.3716 812.046 Q80.7373 810.033 82.7975 808.968 Q84.8577 807.88 87.3345 807.88 Q92.5428 807.88 95.5521 811.051 Q98.5845 814.199 98.5845 819.639 Q98.5845 824.963 95.4363 828.181 Q92.2882 831.398 87.0567 831.398 Q81.0614 831.398 77.8901 826.815 Q74.7189 822.208 74.7189 813.482 Q74.7189 805.287 78.6077 800.426 Q82.4966 795.542 89.0475 795.542 Q90.8067 795.542 92.5891 795.889 Q94.3947 796.236 96.3391 796.931 Z\" fill=\"#000000\" fill-rule=\"evenodd\" fill-opacity=\"1\" /><path clip-path=\"url(#clip530)\" d=\"M 0 0 M113.654 799.246 Q110.043 799.246 108.214 802.81 Q106.408 806.352 106.408 813.482 Q106.408 820.588 108.214 824.153 Q110.043 827.695 113.654 827.695 Q117.288 827.695 119.094 824.153 Q120.922 820.588 120.922 813.482 Q120.922 806.352 119.094 802.81 Q117.288 799.246 113.654 799.246 M113.654 795.542 Q119.464 795.542 122.52 800.148 Q125.598 804.732 125.598 813.482 Q125.598 822.208 122.52 826.815 Q119.464 831.398 113.654 831.398 Q107.844 831.398 104.765 826.815 Q101.709 822.208 101.709 813.482 Q101.709 804.732 104.765 800.148 Q107.844 795.542 113.654 795.542 Z\" fill=\"#000000\" fill-rule=\"evenodd\" fill-opacity=\"1\" /><path clip-path=\"url(#clip530)\" d=\"M 0 0 M86.7327 603.116 Q83.3994 603.116 81.4781 604.898 Q79.5799 606.681 79.5799 609.806 Q79.5799 612.931 81.4781 614.713 Q83.3994 616.495 86.7327 616.495 Q90.066 616.495 91.9873 614.713 Q93.9086 612.907 93.9086 609.806 Q93.9086 606.681 91.9873 604.898 Q90.0891 603.116 86.7327 603.116 M82.0568 601.125 Q79.0475 600.384 77.3577 598.324 Q75.6911 596.264 75.6911 593.301 Q75.6911 589.157 78.6309 586.75 Q81.5938 584.343 86.7327 584.343 Q91.8947 584.343 94.8345 586.75 Q97.7743 589.157 97.7743 593.301 Q97.7743 596.264 96.0845 598.324 Q94.4178 600.384 91.4317 601.125 Q94.8113 601.912 96.6863 604.204 Q98.5845 606.495 98.5845 609.806 Q98.5845 614.829 95.5058 617.514 Q92.4502 620.199 86.7327 620.199 Q81.0151 620.199 77.9364 617.514 Q74.8809 614.829 74.8809 609.806 Q74.8809 606.495 76.779 604.204 Q78.6772 601.912 82.0568 601.125 M80.3438 593.741 Q80.3438 596.426 82.0105 597.931 Q83.7003 599.435 86.7327 599.435 Q89.7419 599.435 91.4317 597.931 Q93.1447 596.426 93.1447 593.741 Q93.1447 591.056 91.4317 589.551 Q89.7419 588.046 86.7327 588.046 Q83.7003 588.046 82.0105 589.551 Q80.3438 591.056 80.3438 593.741 Z\" fill=\"#000000\" fill-rule=\"evenodd\" fill-opacity=\"1\" /><path clip-path=\"url(#clip530)\" d=\"M 0 0 M113.654 588.046 Q110.043 588.046 108.214 591.611 Q106.408 595.153 106.408 602.282 Q106.408 609.389 108.214 612.954 Q110.043 616.495 113.654 616.495 Q117.288 616.495 119.094 612.954 Q120.922 609.389 120.922 602.282 Q120.922 595.153 119.094 591.611 Q117.288 588.046 113.654 588.046 M113.654 584.343 Q119.464 584.343 122.52 588.949 Q125.598 593.532 125.598 602.282 Q125.598 611.009 122.52 615.616 Q119.464 620.199 113.654 620.199 Q107.844 620.199 104.765 615.616 Q101.709 611.009 101.709 602.282 Q101.709 593.532 104.765 588.949 Q107.844 584.343 113.654 584.343 Z\" fill=\"#000000\" fill-rule=\"evenodd\" fill-opacity=\"1\" /><path clip-path=\"url(#clip530)\" d=\"M 0 0 M51.6634 404.393 L59.3023 404.393 L59.3023 378.028 L50.9921 379.694 L50.9921 375.435 L59.256 373.768 L63.9319 373.768 L63.9319 404.393 L71.5707 404.393 L71.5707 408.328 L51.6634 408.328 L51.6634 404.393 Z\" fill=\"#000000\" fill-rule=\"evenodd\" fill-opacity=\"1\" /><path clip-path=\"url(#clip530)\" d=\"M 0 0 M86.6401 376.847 Q83.029 376.847 81.2003 380.412 Q79.3948 383.954 79.3948 391.083 Q79.3948 398.19 81.2003 401.754 Q83.029 405.296 86.6401 405.296 Q90.2743 405.296 92.0799 401.754 Q93.9086 398.19 93.9086 391.083 Q93.9086 383.954 92.0799 380.412 Q90.2743 376.847 86.6401 376.847 M86.6401 373.143 Q92.4502 373.143 95.5058 377.75 Q98.5845 382.333 98.5845 391.083 Q98.5845 399.81 95.5058 404.416 Q92.4502 409 86.6401 409 Q80.8299 409 77.7512 404.416 Q74.6957 399.81 74.6957 391.083 Q74.6957 382.333 77.7512 377.75 Q80.8299 373.143 86.6401 373.143 Z\" fill=\"#000000\" fill-rule=\"evenodd\" fill-opacity=\"1\" /><path clip-path=\"url(#clip530)\" d=\"M 0 0 M113.654 376.847 Q110.043 376.847 108.214 380.412 Q106.408 383.954 106.408 391.083 Q106.408 398.19 108.214 401.754 Q110.043 405.296 113.654 405.296 Q117.288 405.296 119.094 401.754 Q120.922 398.19 120.922 391.083 Q120.922 383.954 119.094 380.412 Q117.288 376.847 113.654 376.847 M113.654 373.143 Q119.464 373.143 122.52 377.75 Q125.598 382.333 125.598 391.083 Q125.598 399.81 122.52 404.416 Q119.464 409 113.654 409 Q107.844 409 104.765 404.416 Q101.709 399.81 101.709 391.083 Q101.709 382.333 104.765 377.75 Q107.844 373.143 113.654 373.143 Z\" fill=\"#000000\" fill-rule=\"evenodd\" fill-opacity=\"1\" /><path clip-path=\"url(#clip530)\" d=\"M 0 0 M53.2606 193.194 L60.8995 193.194 L60.8995 166.829 L52.5893 168.495 L52.5893 164.236 L60.8532 162.569 L65.5291 162.569 L65.5291 193.194 L73.1679 193.194 L73.1679 197.129 L53.2606 197.129 L53.2606 193.194 Z\" fill=\"#000000\" fill-rule=\"evenodd\" fill-opacity=\"1\" /><path clip-path=\"url(#clip530)\" d=\"M 0 0 M82.2651 193.194 L98.5845 193.194 L98.5845 197.129 L76.6401 197.129 L76.6401 193.194 Q79.3022 190.44 83.8855 185.81 Q88.4919 181.157 89.6725 179.815 Q91.9178 177.291 92.7975 175.555 Q93.7002 173.796 93.7002 172.106 Q93.7002 169.352 91.7558 167.616 Q89.8345 165.879 86.7327 165.879 Q84.5336 165.879 82.0799 166.643 Q79.6494 167.407 76.8716 168.958 L76.8716 164.236 Q79.6957 163.102 82.1494 162.523 Q84.6031 161.944 86.6401 161.944 Q92.0104 161.944 95.2049 164.629 Q98.3993 167.315 98.3993 171.805 Q98.3993 173.935 97.5891 175.856 Q96.8021 177.754 94.6956 180.347 Q94.1169 181.018 91.0151 184.236 Q87.9132 187.43 82.2651 193.194 Z\" fill=\"#000000\" fill-rule=\"evenodd\" fill-opacity=\"1\" /><path clip-path=\"url(#clip530)\" d=\"M 0 0 M113.654 165.648 Q110.043 165.648 108.214 169.213 Q106.408 172.754 106.408 179.884 Q106.408 186.99 108.214 190.555 Q110.043 194.097 113.654 194.097 Q117.288 194.097 119.094 190.555 Q120.922 186.99 120.922 179.884 Q120.922 172.754 119.094 169.213 Q117.288 165.648 113.654 165.648 M113.654 161.944 Q119.464 161.944 122.52 166.551 Q125.598 171.134 125.598 179.884 Q125.598 188.611 122.52 193.217 Q119.464 197.801 113.654 197.801 Q107.844 197.801 104.765 193.217 Q101.709 188.611 101.709 179.884 Q101.709 171.134 104.765 166.551 Q107.844 161.944 113.654 161.944 Z\" fill=\"#000000\" fill-rule=\"evenodd\" fill-opacity=\"1\" /><polyline clip-path=\"url(#clip532)\" style=\"stroke:#009af9; stroke-width:4; stroke-opacity:1; fill:none\" points=\"\n",
       "  223.612,767.51 275.29,855.458 326.969,932.023 378.647,998.679 430.325,1056.71 482.003,1107.23 533.682,1151.21 585.36,1189.5 637.038,1222.83 688.716,1251.85 \n",
       "  740.395,1277.11 792.073,1299.1 843.751,1318.25 895.429,1334.92 947.108,1349.43 998.786,1362.06 1050.46,1373.06 1102.14,1382.64 1153.82,1390.97 1205.5,1398.23 \n",
       "  1257.18,1404.55 1308.86,1410.05 1360.53,1414.84 1412.21,1419 1463.89,1422.63 1515.57,1425.79 1567.25,1428.54 1618.92,1430.94 1670.6,1433.02 1722.28,1434.84 \n",
       "  1773.96,1436.42 1825.64,1437.79 1877.32,1438.99 1928.99,1440.03 1980.67,1440.94 2032.35,1441.73 2084.03,1442.42 2135.71,1443.02 2187.39,1443.54 2239.06,1443.99 \n",
       "  2290.74,1444.39 \n",
       "  \"/>\n",
       "<polyline clip-path=\"url(#clip532)\" style=\"stroke:#e26f46; stroke-width:4; stroke-opacity:1; fill:none\" stroke-dasharray=\"16, 10\" points=\"\n",
       "  223.612,1394.24 275.29,1394.24 326.969,1394.24 378.647,1394.24 430.325,1394.24 482.003,1394.24 533.682,1394.24 585.36,1394.24 637.038,1394.24 688.716,1394.24 \n",
       "  740.395,1394.24 792.073,1394.24 843.751,1394.24 895.429,1394.24 947.108,1394.24 998.786,1394.24 1050.46,1394.24 1102.14,1394.24 1153.82,1394.24 1205.5,1394.24 \n",
       "  1257.18,1394.24 1308.86,1394.24 1360.53,1394.24 1412.21,1394.24 1463.89,1394.24 1515.57,1394.24 1567.25,1394.24 1618.92,1394.24 1670.6,1394.24 1722.28,1394.24 \n",
       "  1773.96,1394.24 1825.64,1394.24 1877.32,1394.24 1928.99,1394.24 1980.67,1394.24 2032.35,1394.24 2084.03,1394.24 2135.71,1394.24 2187.39,1394.24 2239.06,1394.24 \n",
       "  2290.74,1394.24 \n",
       "  \"/>\n",
       "<polyline clip-path=\"url(#clip532)\" style=\"stroke:#3da44d; stroke-width:4; stroke-opacity:1; fill:none\" points=\"\n",
       "  223.612,87.9763 275.29,263.871 326.969,417.002 378.647,550.313 430.325,666.371 482.003,767.409 533.682,855.37 585.36,931.946 637.038,998.612 688.716,1056.65 \n",
       "  740.395,1107.18 792.073,1151.16 843.751,1189.46 895.429,1222.79 947.108,1251.82 998.786,1277.08 1050.46,1299.08 1102.14,1318.23 1153.82,1334.9 1205.5,1349.42 \n",
       "  1257.18,1362.05 1308.86,1373.05 1360.53,1382.63 1412.21,1390.97 1463.89,1398.22 1515.57,1404.54 1567.25,1410.04 1618.92,1414.83 1670.6,1419 1722.28,1422.63 \n",
       "  1773.96,1425.79 1825.64,1428.54 1877.32,1430.94 1928.99,1433.02 1980.67,1434.84 2032.35,1436.42 2084.03,1437.79 2135.71,1438.99 2187.39,1440.03 2239.06,1440.94 \n",
       "  2290.74,1441.73 \n",
       "  \"/>\n",
       "<polyline clip-path=\"url(#clip532)\" style=\"stroke:#c271d2; stroke-width:4; stroke-opacity:1; fill:none\" points=\"\n",
       "  223.612,1107.28 275.29,1151.25 326.969,1189.53 378.647,1222.86 430.325,1251.88 482.003,1277.14 533.682,1299.13 585.36,1318.27 637.038,1334.94 688.716,1349.45 \n",
       "  740.395,1362.08 792.073,1373.07 843.751,1382.65 895.429,1390.98 947.108,1398.24 998.786,1404.55 1050.46,1410.05 1102.14,1414.84 1153.82,1419.01 1205.5,1422.64 \n",
       "  1257.18,1425.8 1308.86,1428.55 1360.53,1430.94 1412.21,1433.02 1463.89,1434.84 1515.57,1436.42 1567.25,1437.79 1618.92,1438.99 1670.6,1440.03 1722.28,1440.94 \n",
       "  1773.96,1441.73 1825.64,1442.42 1877.32,1443.02 1928.99,1443.54 1980.67,1443.99 2032.35,1444.39 2084.03,1444.73 2135.71,1445.03 2187.39,1445.29 2239.06,1445.52 \n",
       "  2290.74,1445.72 \n",
       "  \"/>\n",
       "<path clip-path=\"url(#clip530)\" d=\"\n",
       "M1841.3 397.618 L2279.72 397.618 L2279.72 95.2176 L1841.3 95.2176  Z\n",
       "  \" fill=\"#ffffff\" fill-rule=\"evenodd\" fill-opacity=\"1\"/>\n",
       "<polyline clip-path=\"url(#clip530)\" style=\"stroke:#000000; stroke-width:4; stroke-opacity:1; fill:none\" points=\"\n",
       "  1841.3,397.618 2279.72,397.618 2279.72,95.2176 1841.3,95.2176 1841.3,397.618 \n",
       "  \"/>\n",
       "<polyline clip-path=\"url(#clip530)\" style=\"stroke:#009af9; stroke-width:4; stroke-opacity:1; fill:none\" points=\"\n",
       "  1865.65,155.698 2011.73,155.698 \n",
       "  \"/>\n",
       "<path clip-path=\"url(#clip530)\" d=\"M 0 0 M2037.53 138.418 L2055.89 138.418 L2055.89 142.353 L2041.81 142.353 L2041.81 150.825 Q2042.83 150.478 2043.85 150.316 Q2044.87 150.13 2045.89 150.13 Q2051.67 150.13 2055.05 153.302 Q2058.43 156.473 2058.43 161.89 Q2058.43 167.468 2054.96 170.57 Q2051.49 173.649 2045.17 173.649 Q2042.99 173.649 2040.73 173.278 Q2038.48 172.908 2036.07 172.167 L2036.07 167.468 Q2038.16 168.603 2040.38 169.158 Q2042.6 169.714 2045.08 169.714 Q2049.08 169.714 2051.42 167.607 Q2053.76 165.501 2053.76 161.89 Q2053.76 158.279 2051.42 156.172 Q2049.08 154.066 2045.08 154.066 Q2043.2 154.066 2041.33 154.482 Q2039.48 154.899 2037.53 155.779 L2037.53 138.418 Z\" fill=\"#000000\" fill-rule=\"evenodd\" fill-opacity=\"1\" /><path clip-path=\"url(#clip530)\" d=\"M 0 0 M2073.5 141.496 Q2069.89 141.496 2068.06 145.061 Q2066.26 148.603 2066.26 155.732 Q2066.26 162.839 2068.06 166.404 Q2069.89 169.945 2073.5 169.945 Q2077.14 169.945 2078.94 166.404 Q2080.77 162.839 2080.77 155.732 Q2080.77 148.603 2078.94 145.061 Q2077.14 141.496 2073.5 141.496 M2073.5 137.793 Q2079.31 137.793 2082.37 142.399 Q2085.45 146.982 2085.45 155.732 Q2085.45 164.459 2082.37 169.066 Q2079.31 173.649 2073.5 173.649 Q2067.69 173.649 2064.61 169.066 Q2061.56 164.459 2061.56 155.732 Q2061.56 146.982 2064.61 142.399 Q2067.69 137.793 2073.5 137.793 Z\" fill=\"#000000\" fill-rule=\"evenodd\" fill-opacity=\"1\" /><path clip-path=\"url(#clip530)\" d=\"M 0 0 M2100.52 141.496 Q2096.91 141.496 2095.08 145.061 Q2093.27 148.603 2093.27 155.732 Q2093.27 162.839 2095.08 166.404 Q2096.91 169.945 2100.52 169.945 Q2104.15 169.945 2105.96 166.404 Q2107.78 162.839 2107.78 155.732 Q2107.78 148.603 2105.96 145.061 Q2104.15 141.496 2100.52 141.496 M2100.52 137.793 Q2106.33 137.793 2109.38 142.399 Q2112.46 146.982 2112.46 155.732 Q2112.46 164.459 2109.38 169.066 Q2106.33 173.649 2100.52 173.649 Q2094.71 173.649 2091.63 169.066 Q2088.57 164.459 2088.57 155.732 Q2088.57 146.982 2091.63 142.399 Q2094.71 137.793 2100.52 137.793 Z\" fill=\"#000000\" fill-rule=\"evenodd\" fill-opacity=\"1\" /><path clip-path=\"url(#clip530)\" d=\"M 0 0 M2152.18 152.029 Q2153.78 149.158 2156 147.793 Q2158.22 146.427 2161.23 146.427 Q2165.28 146.427 2167.48 149.274 Q2169.68 152.098 2169.68 157.329 L2169.68 172.978 L2165.4 172.978 L2165.4 157.468 Q2165.4 153.742 2164.08 151.936 Q2162.76 150.13 2160.05 150.13 Q2156.74 150.13 2154.82 152.33 Q2152.9 154.529 2152.9 158.325 L2152.9 172.978 L2148.62 172.978 L2148.62 157.468 Q2148.62 153.718 2147.3 151.936 Q2145.98 150.13 2143.22 150.13 Q2139.96 150.13 2138.04 152.353 Q2136.12 154.552 2136.12 158.325 L2136.12 172.978 L2131.84 172.978 L2131.84 147.052 L2136.12 147.052 L2136.12 151.08 Q2137.58 148.695 2139.61 147.561 Q2141.65 146.427 2144.45 146.427 Q2147.28 146.427 2149.24 147.862 Q2151.23 149.297 2152.18 152.029 Z\" fill=\"#000000\" fill-rule=\"evenodd\" fill-opacity=\"1\" /><path clip-path=\"url(#clip530)\" d=\"M 0 0 M2191.21 159.714 Q2191.21 155.084 2189.29 152.538 Q2187.39 149.992 2183.94 149.992 Q2180.52 149.992 2178.59 152.538 Q2176.7 155.084 2176.7 159.714 Q2176.7 164.32 2178.59 166.866 Q2180.52 169.413 2183.94 169.413 Q2187.39 169.413 2189.29 166.866 Q2191.21 164.32 2191.21 159.714 M2195.47 169.76 Q2195.47 176.38 2192.53 179.598 Q2189.59 182.839 2183.53 182.839 Q2181.28 182.839 2179.29 182.491 Q2177.3 182.167 2175.42 181.473 L2175.42 177.329 Q2177.3 178.348 2179.13 178.834 Q2180.96 179.32 2182.85 179.32 Q2187.04 179.32 2189.13 177.121 Q2191.21 174.945 2191.21 170.524 L2191.21 168.417 Q2189.89 170.709 2187.83 171.843 Q2185.77 172.978 2182.9 172.978 Q2178.13 172.978 2175.22 169.343 Q2172.3 165.709 2172.3 159.714 Q2172.3 153.695 2175.22 150.061 Q2178.13 146.427 2182.9 146.427 Q2185.77 146.427 2187.83 147.561 Q2189.89 148.695 2191.21 150.987 L2191.21 147.052 L2195.47 147.052 L2195.47 169.76 Z\" fill=\"#000000\" fill-rule=\"evenodd\" fill-opacity=\"1\" /><polyline clip-path=\"url(#clip530)\" style=\"stroke:#e26f46; stroke-width:4; stroke-opacity:1; fill:none\" stroke-dasharray=\"16, 10\" points=\"\n",
       "  1865.65,216.178 2011.73,216.178 \n",
       "  \"/>\n",
       "<path clip-path=\"url(#clip530)\" d=\"M 0 0 M2036.07 198.898 L2043.04 198.898 L2051.86 222.416 L2060.72 198.898 L2067.69 198.898 L2067.69 233.458 L2063.13 233.458 L2063.13 203.11 L2054.22 226.814 L2049.52 226.814 L2040.61 203.11 L2040.61 233.458 L2036.07 233.458 L2036.07 198.898 Z\" fill=\"#000000\" fill-rule=\"evenodd\" fill-opacity=\"1\" /><path clip-path=\"url(#clip530)\" d=\"M 0 0 M2072.35 198.898 L2077.02 198.898 L2077.02 233.458 L2072.35 233.458 L2072.35 198.898 Z\" fill=\"#000000\" fill-rule=\"evenodd\" fill-opacity=\"1\" /><path clip-path=\"url(#clip530)\" d=\"M 0 0 M2107.55 201.56 L2107.55 206.49 Q2105.19 204.291 2102.51 203.203 Q2099.85 202.115 2096.84 202.115 Q2090.91 202.115 2087.76 205.749 Q2084.61 209.36 2084.61 216.212 Q2084.61 223.041 2087.76 226.675 Q2090.91 230.286 2096.84 230.286 Q2099.85 230.286 2102.51 229.198 Q2105.19 228.11 2107.55 225.911 L2107.55 230.796 Q2105.1 232.462 2102.35 233.296 Q2099.61 234.129 2096.56 234.129 Q2088.71 234.129 2084.2 229.337 Q2079.68 224.522 2079.68 216.212 Q2079.68 207.879 2084.2 203.087 Q2088.71 198.273 2096.56 198.273 Q2099.66 198.273 2102.39 199.106 Q2105.15 199.916 2107.55 201.56 Z\" fill=\"#000000\" fill-rule=\"evenodd\" fill-opacity=\"1\" /><polyline clip-path=\"url(#clip530)\" style=\"stroke:#3da44d; stroke-width:4; stroke-opacity:1; fill:none\" points=\"\n",
       "  1865.65,276.658 2011.73,276.658 \n",
       "  \"/>\n",
       "<path clip-path=\"url(#clip530)\" d=\"M 0 0 M2036.74 290.002 L2044.38 290.002 L2044.38 263.637 L2036.07 265.303 L2036.07 261.044 L2044.34 259.378 L2049.01 259.378 L2049.01 290.002 L2056.65 290.002 L2056.65 293.938 L2036.74 293.938 L2036.74 290.002 Z\" fill=\"#000000\" fill-rule=\"evenodd\" fill-opacity=\"1\" /><path clip-path=\"url(#clip530)\" d=\"M 0 0 M2071.72 262.456 Q2068.11 262.456 2066.28 266.021 Q2064.47 269.563 2064.47 276.692 Q2064.47 283.799 2066.28 287.364 Q2068.11 290.905 2071.72 290.905 Q2075.35 290.905 2077.16 287.364 Q2078.99 283.799 2078.99 276.692 Q2078.99 269.563 2077.16 266.021 Q2075.35 262.456 2071.72 262.456 M2071.72 258.753 Q2077.53 258.753 2080.59 263.359 Q2083.66 267.942 2083.66 276.692 Q2083.66 285.419 2080.59 290.026 Q2077.53 294.609 2071.72 294.609 Q2065.91 294.609 2062.83 290.026 Q2059.78 285.419 2059.78 276.692 Q2059.78 267.942 2062.83 263.359 Q2065.91 258.753 2071.72 258.753 Z\" fill=\"#000000\" fill-rule=\"evenodd\" fill-opacity=\"1\" /><path clip-path=\"url(#clip530)\" d=\"M 0 0 M2098.73 262.456 Q2095.12 262.456 2093.29 266.021 Q2091.49 269.563 2091.49 276.692 Q2091.49 283.799 2093.29 287.364 Q2095.12 290.905 2098.73 290.905 Q2102.37 290.905 2104.17 287.364 Q2106 283.799 2106 276.692 Q2106 269.563 2104.17 266.021 Q2102.37 262.456 2098.73 262.456 M2098.73 258.753 Q2104.54 258.753 2107.6 263.359 Q2110.68 267.942 2110.68 276.692 Q2110.68 285.419 2107.6 290.026 Q2104.54 294.609 2098.73 294.609 Q2092.92 294.609 2089.85 290.026 Q2086.79 285.419 2086.79 276.692 Q2086.79 267.942 2089.85 263.359 Q2092.92 258.753 2098.73 258.753 Z\" fill=\"#000000\" fill-rule=\"evenodd\" fill-opacity=\"1\" /><path clip-path=\"url(#clip530)\" d=\"M 0 0 M2125.75 262.456 Q2122.14 262.456 2120.31 266.021 Q2118.5 269.563 2118.5 276.692 Q2118.5 283.799 2120.31 287.364 Q2122.14 290.905 2125.75 290.905 Q2129.38 290.905 2131.19 287.364 Q2133.02 283.799 2133.02 276.692 Q2133.02 269.563 2131.19 266.021 Q2129.38 262.456 2125.75 262.456 M2125.75 258.753 Q2131.56 258.753 2134.61 263.359 Q2137.69 267.942 2137.69 276.692 Q2137.69 285.419 2134.61 290.026 Q2131.56 294.609 2125.75 294.609 Q2119.94 294.609 2116.86 290.026 Q2113.8 285.419 2113.8 276.692 Q2113.8 267.942 2116.86 263.359 Q2119.94 258.753 2125.75 258.753 Z\" fill=\"#000000\" fill-rule=\"evenodd\" fill-opacity=\"1\" /><path clip-path=\"url(#clip530)\" d=\"M 0 0 M2177.41 272.989 Q2179.01 270.118 2181.23 268.753 Q2183.46 267.387 2186.46 267.387 Q2190.52 267.387 2192.71 270.234 Q2194.91 273.058 2194.91 278.289 L2194.91 293.938 L2190.63 293.938 L2190.63 278.428 Q2190.63 274.702 2189.31 272.896 Q2187.99 271.09 2185.28 271.09 Q2181.97 271.09 2180.05 273.29 Q2178.13 275.489 2178.13 279.285 L2178.13 293.938 L2173.85 293.938 L2173.85 278.428 Q2173.85 274.678 2172.53 272.896 Q2171.21 271.09 2168.46 271.09 Q2165.19 271.09 2163.27 273.313 Q2161.35 275.512 2161.35 279.285 L2161.35 293.938 L2157.07 293.938 L2157.07 268.012 L2161.35 268.012 L2161.35 272.04 Q2162.81 269.655 2164.84 268.521 Q2166.88 267.387 2169.68 267.387 Q2172.51 267.387 2174.47 268.822 Q2176.47 270.257 2177.41 272.989 Z\" fill=\"#000000\" fill-rule=\"evenodd\" fill-opacity=\"1\" /><path clip-path=\"url(#clip530)\" d=\"M 0 0 M2216.44 280.674 Q2216.44 276.044 2214.52 273.498 Q2212.62 270.952 2209.17 270.952 Q2205.75 270.952 2203.83 273.498 Q2201.93 276.044 2201.93 280.674 Q2201.93 285.28 2203.83 287.826 Q2205.75 290.373 2209.17 290.373 Q2212.62 290.373 2214.52 287.826 Q2216.44 285.28 2216.44 280.674 M2220.7 290.72 Q2220.7 297.34 2217.76 300.558 Q2214.82 303.799 2208.76 303.799 Q2206.51 303.799 2204.52 303.451 Q2202.53 303.127 2200.65 302.433 L2200.65 298.289 Q2202.53 299.308 2204.36 299.794 Q2206.19 300.28 2208.09 300.28 Q2212.28 300.28 2214.36 298.081 Q2216.44 295.905 2216.44 291.484 L2216.44 289.377 Q2215.12 291.669 2213.06 292.803 Q2211 293.938 2208.13 293.938 Q2203.36 293.938 2200.45 290.303 Q2197.53 286.669 2197.53 280.674 Q2197.53 274.655 2200.45 271.021 Q2203.36 267.387 2208.13 267.387 Q2211 267.387 2213.06 268.521 Q2215.12 269.655 2216.44 271.947 L2216.44 268.012 L2220.7 268.012 L2220.7 290.72 Z\" fill=\"#000000\" fill-rule=\"evenodd\" fill-opacity=\"1\" /><polyline clip-path=\"url(#clip530)\" style=\"stroke:#c271d2; stroke-width:4; stroke-opacity:1; fill:none\" points=\"\n",
       "  1865.65,337.138 2011.73,337.138 \n",
       "  \"/>\n",
       "<path clip-path=\"url(#clip530)\" d=\"M 0 0 M2041.7 350.482 L2058.02 350.482 L2058.02 354.418 L2036.07 354.418 L2036.07 350.482 Q2038.73 347.728 2043.32 343.098 Q2047.92 338.445 2049.1 337.103 Q2051.35 334.58 2052.23 332.844 Q2053.13 331.084 2053.13 329.395 Q2053.13 326.64 2051.19 324.904 Q2049.27 323.168 2046.16 323.168 Q2043.97 323.168 2041.51 323.932 Q2039.08 324.695 2036.3 326.246 L2036.3 321.524 Q2039.13 320.39 2041.58 319.811 Q2044.04 319.233 2046.07 319.233 Q2051.44 319.233 2054.64 321.918 Q2057.83 324.603 2057.83 329.094 Q2057.83 331.223 2057.02 333.145 Q2056.23 335.043 2054.13 337.635 Q2053.55 338.307 2050.45 341.524 Q2047.35 344.719 2041.7 350.482 Z\" fill=\"#000000\" fill-rule=\"evenodd\" fill-opacity=\"1\" /><path clip-path=\"url(#clip530)\" d=\"M 0 0 M2063.13 319.858 L2081.49 319.858 L2081.49 323.793 L2067.41 323.793 L2067.41 332.265 Q2068.43 331.918 2069.45 331.756 Q2070.47 331.57 2071.49 331.57 Q2077.28 331.57 2080.66 334.742 Q2084.03 337.913 2084.03 343.33 Q2084.03 348.908 2080.56 352.01 Q2077.09 355.089 2070.77 355.089 Q2068.6 355.089 2066.33 354.718 Q2064.08 354.348 2061.67 353.607 L2061.67 348.908 Q2063.76 350.043 2065.98 350.598 Q2068.2 351.154 2070.68 351.154 Q2074.68 351.154 2077.02 349.047 Q2079.36 346.941 2079.36 343.33 Q2079.36 339.719 2077.02 337.612 Q2074.68 335.506 2070.68 335.506 Q2068.8 335.506 2066.93 335.922 Q2065.08 336.339 2063.13 337.219 L2063.13 319.858 Z\" fill=\"#000000\" fill-rule=\"evenodd\" fill-opacity=\"1\" /><path clip-path=\"url(#clip530)\" d=\"M 0 0 M2099.1 322.936 Q2095.49 322.936 2093.66 326.501 Q2091.86 330.043 2091.86 337.172 Q2091.86 344.279 2093.66 347.844 Q2095.49 351.385 2099.1 351.385 Q2102.74 351.385 2104.54 347.844 Q2106.37 344.279 2106.37 337.172 Q2106.37 330.043 2104.54 326.501 Q2102.74 322.936 2099.1 322.936 M2099.1 319.233 Q2104.91 319.233 2107.97 323.839 Q2111.05 328.422 2111.05 337.172 Q2111.05 345.899 2107.97 350.506 Q2104.91 355.089 2099.1 355.089 Q2093.29 355.089 2090.22 350.506 Q2087.16 345.899 2087.16 337.172 Q2087.16 328.422 2090.22 323.839 Q2093.29 319.233 2099.1 319.233 Z\" fill=\"#000000\" fill-rule=\"evenodd\" fill-opacity=\"1\" /><path clip-path=\"url(#clip530)\" d=\"M 0 0 M2116.12 348.538 L2121 348.538 L2121 354.418 L2116.12 354.418 L2116.12 348.538 Z\" fill=\"#000000\" fill-rule=\"evenodd\" fill-opacity=\"1\" /><path clip-path=\"url(#clip530)\" d=\"M 0 0 M2136.07 322.936 Q2132.46 322.936 2130.63 326.501 Q2128.83 330.043 2128.83 337.172 Q2128.83 344.279 2130.63 347.844 Q2132.46 351.385 2136.07 351.385 Q2139.71 351.385 2141.51 347.844 Q2143.34 344.279 2143.34 337.172 Q2143.34 330.043 2141.51 326.501 Q2139.71 322.936 2136.07 322.936 M2136.07 319.233 Q2141.88 319.233 2144.94 323.839 Q2148.02 328.422 2148.02 337.172 Q2148.02 345.899 2144.94 350.506 Q2141.88 355.089 2136.07 355.089 Q2130.26 355.089 2127.18 350.506 Q2124.13 345.899 2124.13 337.172 Q2124.13 328.422 2127.18 323.839 Q2130.26 319.233 2136.07 319.233 Z\" fill=\"#000000\" fill-rule=\"evenodd\" fill-opacity=\"1\" /><path clip-path=\"url(#clip530)\" d=\"M 0 0 M2187.74 333.469 Q2189.34 330.598 2191.56 329.233 Q2193.78 327.867 2196.79 327.867 Q2200.84 327.867 2203.04 330.714 Q2205.24 333.538 2205.24 338.769 L2205.24 354.418 L2200.96 354.418 L2200.96 338.908 Q2200.96 335.182 2199.64 333.376 Q2198.32 331.57 2195.61 331.57 Q2192.3 331.57 2190.38 333.77 Q2188.46 335.969 2188.46 339.765 L2188.46 354.418 L2184.17 354.418 L2184.17 338.908 Q2184.17 335.158 2182.85 333.376 Q2181.53 331.57 2178.78 331.57 Q2175.52 331.57 2173.59 333.793 Q2171.67 335.992 2171.67 339.765 L2171.67 354.418 L2167.39 354.418 L2167.39 328.492 L2171.67 328.492 L2171.67 332.52 Q2173.13 330.135 2175.17 329.001 Q2177.21 327.867 2180.01 327.867 Q2182.83 327.867 2184.8 329.302 Q2186.79 330.737 2187.74 333.469 Z\" fill=\"#000000\" fill-rule=\"evenodd\" fill-opacity=\"1\" /><path clip-path=\"url(#clip530)\" d=\"M 0 0 M2226.77 341.154 Q2226.77 336.524 2224.84 333.978 Q2222.95 331.432 2219.5 331.432 Q2216.07 331.432 2214.15 333.978 Q2212.25 336.524 2212.25 341.154 Q2212.25 345.76 2214.15 348.306 Q2216.07 350.853 2219.5 350.853 Q2222.95 350.853 2224.84 348.306 Q2226.77 345.76 2226.77 341.154 M2231.02 351.2 Q2231.02 357.82 2228.09 361.038 Q2225.15 364.279 2219.08 364.279 Q2216.84 364.279 2214.84 363.931 Q2212.85 363.607 2210.98 362.913 L2210.98 358.769 Q2212.85 359.788 2214.68 360.274 Q2216.51 360.76 2218.41 360.76 Q2222.6 360.76 2224.68 358.561 Q2226.77 356.385 2226.77 351.964 L2226.77 349.857 Q2225.45 352.149 2223.39 353.283 Q2221.33 354.418 2218.46 354.418 Q2213.69 354.418 2210.77 350.783 Q2207.85 347.149 2207.85 341.154 Q2207.85 335.135 2210.77 331.501 Q2213.69 327.867 2218.46 327.867 Q2221.33 327.867 2223.39 329.001 Q2225.45 330.135 2226.77 332.427 L2226.77 328.492 L2231.02 328.492 L2231.02 351.2 Z\" fill=\"#000000\" fill-rule=\"evenodd\" fill-opacity=\"1\" /></svg>\n"
      ]
     },
     "execution_count": 407,
     "metadata": {},
     "output_type": "execute_result"
    }
   ],
   "source": [
    "plot!(t_plot, data2, label=\"$X₂ mg\")\n",
    "plot!(t_plot, data3, label=\"$X₃ mg\")"
   ]
  },
  {
   "cell_type": "markdown",
   "metadata": {},
   "source": [
    "Można tutaj zauważyć, że im większa dawka tym czas po którym aplikacja leku powinna być powtórzona będzie większy. Jednak warto zauważyć, że istnieje coś takiego jak minimalne stężenie toksyczne. Przyjmując w naszym wypadku, że będzie ono wynosić 100 mg/l sprawia, że już dawka 1000 mg będzie osiągała to minimum i tym samym będzie już szkodliwa. "
   ]
  },
  {
   "cell_type": "code",
   "execution_count": 408,
   "metadata": {},
   "outputs": [
    {
     "data": {
      "image/svg+xml": [
       "<?xml version=\"1.0\" encoding=\"utf-8\"?>\n",
       "<svg xmlns=\"http://www.w3.org/2000/svg\" xmlns:xlink=\"http://www.w3.org/1999/xlink\" width=\"600\" height=\"400\" viewBox=\"0 0 2400 1600\">\n",
       "<defs>\n",
       "  <clipPath id=\"clip570\">\n",
       "    <rect x=\"0\" y=\"0\" width=\"2400\" height=\"1600\"/>\n",
       "  </clipPath>\n",
       "</defs>\n",
       "<path clip-path=\"url(#clip570)\" d=\"\n",
       "M0 1600 L2400 1600 L2400 0 L0 0  Z\n",
       "  \" fill=\"#ffffff\" fill-rule=\"evenodd\" fill-opacity=\"1\"/>\n",
       "<defs>\n",
       "  <clipPath id=\"clip571\">\n",
       "    <rect x=\"480\" y=\"0\" width=\"1681\" height=\"1600\"/>\n",
       "  </clipPath>\n",
       "</defs>\n",
       "<path clip-path=\"url(#clip570)\" d=\"\n",
       "M161.598 1486.45 L2352.76 1486.45 L2352.76 47.2441 L161.598 47.2441  Z\n",
       "  \" fill=\"#ffffff\" fill-rule=\"evenodd\" fill-opacity=\"1\"/>\n",
       "<defs>\n",
       "  <clipPath id=\"clip572\">\n",
       "    <rect x=\"161\" y=\"47\" width=\"2192\" height=\"1440\"/>\n",
       "  </clipPath>\n",
       "</defs>\n",
       "<polyline clip-path=\"url(#clip572)\" style=\"stroke:#000000; stroke-width:2; stroke-opacity:0.1; fill:none\" points=\"\n",
       "  223.612,1486.45 223.612,47.2441 \n",
       "  \"/>\n",
       "<polyline clip-path=\"url(#clip572)\" style=\"stroke:#000000; stroke-width:2; stroke-opacity:0.1; fill:none\" points=\"\n",
       "  740.395,1486.45 740.395,47.2441 \n",
       "  \"/>\n",
       "<polyline clip-path=\"url(#clip572)\" style=\"stroke:#000000; stroke-width:2; stroke-opacity:0.1; fill:none\" points=\"\n",
       "  1257.18,1486.45 1257.18,47.2441 \n",
       "  \"/>\n",
       "<polyline clip-path=\"url(#clip572)\" style=\"stroke:#000000; stroke-width:2; stroke-opacity:0.1; fill:none\" points=\"\n",
       "  1773.96,1486.45 1773.96,47.2441 \n",
       "  \"/>\n",
       "<polyline clip-path=\"url(#clip572)\" style=\"stroke:#000000; stroke-width:2; stroke-opacity:0.1; fill:none\" points=\"\n",
       "  2290.74,1486.45 2290.74,47.2441 \n",
       "  \"/>\n",
       "<polyline clip-path=\"url(#clip570)\" style=\"stroke:#000000; stroke-width:4; stroke-opacity:1; fill:none\" points=\"\n",
       "  161.598,1486.45 2352.76,1486.45 \n",
       "  \"/>\n",
       "<polyline clip-path=\"url(#clip570)\" style=\"stroke:#000000; stroke-width:4; stroke-opacity:1; fill:none\" points=\"\n",
       "  223.612,1486.45 223.612,1469.18 \n",
       "  \"/>\n",
       "<polyline clip-path=\"url(#clip570)\" style=\"stroke:#000000; stroke-width:4; stroke-opacity:1; fill:none\" points=\"\n",
       "  740.395,1486.45 740.395,1469.18 \n",
       "  \"/>\n",
       "<polyline clip-path=\"url(#clip570)\" style=\"stroke:#000000; stroke-width:4; stroke-opacity:1; fill:none\" points=\"\n",
       "  1257.18,1486.45 1257.18,1469.18 \n",
       "  \"/>\n",
       "<polyline clip-path=\"url(#clip570)\" style=\"stroke:#000000; stroke-width:4; stroke-opacity:1; fill:none\" points=\"\n",
       "  1773.96,1486.45 1773.96,1469.18 \n",
       "  \"/>\n",
       "<polyline clip-path=\"url(#clip570)\" style=\"stroke:#000000; stroke-width:4; stroke-opacity:1; fill:none\" points=\"\n",
       "  2290.74,1486.45 2290.74,1469.18 \n",
       "  \"/>\n",
       "<path clip-path=\"url(#clip570)\" d=\"M 0 0 M223.612 1515.64 Q220.001 1515.64 218.172 1519.2 Q216.367 1522.75 216.367 1529.87 Q216.367 1536.98 218.172 1540.55 Q220.001 1544.09 223.612 1544.09 Q227.246 1544.09 229.052 1540.55 Q230.881 1536.98 230.881 1529.87 Q230.881 1522.75 229.052 1519.2 Q227.246 1515.64 223.612 1515.64 M223.612 1511.93 Q229.422 1511.93 232.478 1516.54 Q235.556 1521.12 235.556 1529.87 Q235.556 1538.6 232.478 1543.21 Q229.422 1547.79 223.612 1547.79 Q217.802 1547.79 214.723 1543.21 Q211.668 1538.6 211.668 1529.87 Q211.668 1521.12 214.723 1516.54 Q217.802 1511.93 223.612 1511.93 Z\" fill=\"#000000\" fill-rule=\"evenodd\" fill-opacity=\"1\" /><path clip-path=\"url(#clip570)\" d=\"M 0 0 M730.777 1543.18 L738.415 1543.18 L738.415 1516.82 L730.105 1518.49 L730.105 1514.23 L738.369 1512.56 L743.045 1512.56 L743.045 1543.18 L750.684 1543.18 L750.684 1547.12 L730.777 1547.12 L730.777 1543.18 Z\" fill=\"#000000\" fill-rule=\"evenodd\" fill-opacity=\"1\" /><path clip-path=\"url(#clip570)\" d=\"M 0 0 M1251.83 1543.18 L1268.15 1543.18 L1268.15 1547.12 L1246.2 1547.12 L1246.2 1543.18 Q1248.87 1540.43 1253.45 1535.8 Q1258.06 1531.15 1259.24 1529.81 Q1261.48 1527.28 1262.36 1525.55 Q1263.26 1523.79 1263.26 1522.1 Q1263.26 1519.34 1261.32 1517.61 Q1259.4 1515.87 1256.3 1515.87 Q1254.1 1515.87 1251.64 1516.63 Q1249.21 1517.4 1246.44 1518.95 L1246.44 1514.23 Q1249.26 1513.09 1251.71 1512.51 Q1254.17 1511.93 1256.2 1511.93 Q1261.58 1511.93 1264.77 1514.62 Q1267.96 1517.31 1267.96 1521.8 Q1267.96 1523.93 1267.15 1525.85 Q1266.37 1527.74 1264.26 1530.34 Q1263.68 1531.01 1260.58 1534.23 Q1257.48 1537.42 1251.83 1543.18 Z\" fill=\"#000000\" fill-rule=\"evenodd\" fill-opacity=\"1\" /><path clip-path=\"url(#clip570)\" d=\"M 0 0 M1778.21 1528.49 Q1781.56 1529.2 1783.44 1531.47 Q1785.34 1533.74 1785.34 1537.07 Q1785.34 1542.19 1781.82 1544.99 Q1778.3 1547.79 1771.82 1547.79 Q1769.64 1547.79 1767.33 1547.35 Q1765.04 1546.93 1762.58 1546.08 L1762.58 1541.56 Q1764.53 1542.7 1766.84 1543.28 Q1769.16 1543.86 1771.68 1543.86 Q1776.08 1543.86 1778.37 1542.12 Q1780.68 1540.38 1780.68 1537.07 Q1780.68 1534.02 1778.53 1532.31 Q1776.4 1530.57 1772.58 1530.57 L1768.55 1530.57 L1768.55 1526.73 L1772.77 1526.73 Q1776.22 1526.73 1778.05 1525.36 Q1779.87 1523.97 1779.87 1521.38 Q1779.87 1518.72 1777.98 1517.31 Q1776.1 1515.87 1772.58 1515.87 Q1770.66 1515.87 1768.46 1516.29 Q1766.26 1516.7 1763.62 1517.58 L1763.62 1513.42 Q1766.29 1512.68 1768.6 1512.31 Q1770.94 1511.93 1773 1511.93 Q1778.32 1511.93 1781.42 1514.37 Q1784.53 1516.77 1784.53 1520.89 Q1784.53 1523.76 1782.88 1525.75 Q1781.24 1527.72 1778.21 1528.49 Z\" fill=\"#000000\" fill-rule=\"evenodd\" fill-opacity=\"1\" /><path clip-path=\"url(#clip570)\" d=\"M 0 0 M2293.75 1516.63 L2281.95 1535.08 L2293.75 1535.08 L2293.75 1516.63 M2292.52 1512.56 L2298.4 1512.56 L2298.4 1535.08 L2303.33 1535.08 L2303.33 1538.97 L2298.4 1538.97 L2298.4 1547.12 L2293.75 1547.12 L2293.75 1538.97 L2278.15 1538.97 L2278.15 1534.46 L2292.52 1512.56 Z\" fill=\"#000000\" fill-rule=\"evenodd\" fill-opacity=\"1\" /><polyline clip-path=\"url(#clip572)\" style=\"stroke:#000000; stroke-width:2; stroke-opacity:0.1; fill:none\" points=\"\n",
       "  161.598,1447.04 2352.76,1447.04 \n",
       "  \"/>\n",
       "<polyline clip-path=\"url(#clip572)\" style=\"stroke:#000000; stroke-width:2; stroke-opacity:0.1; fill:none\" points=\"\n",
       "  161.598,1235.85 2352.76,1235.85 \n",
       "  \"/>\n",
       "<polyline clip-path=\"url(#clip572)\" style=\"stroke:#000000; stroke-width:2; stroke-opacity:0.1; fill:none\" points=\"\n",
       "  161.598,1024.65 2352.76,1024.65 \n",
       "  \"/>\n",
       "<polyline clip-path=\"url(#clip572)\" style=\"stroke:#000000; stroke-width:2; stroke-opacity:0.1; fill:none\" points=\"\n",
       "  161.598,813.447 2352.76,813.447 \n",
       "  \"/>\n",
       "<polyline clip-path=\"url(#clip572)\" style=\"stroke:#000000; stroke-width:2; stroke-opacity:0.1; fill:none\" points=\"\n",
       "  161.598,602.248 2352.76,602.248 \n",
       "  \"/>\n",
       "<polyline clip-path=\"url(#clip572)\" style=\"stroke:#000000; stroke-width:2; stroke-opacity:0.1; fill:none\" points=\"\n",
       "  161.598,391.048 2352.76,391.048 \n",
       "  \"/>\n",
       "<polyline clip-path=\"url(#clip572)\" style=\"stroke:#000000; stroke-width:2; stroke-opacity:0.1; fill:none\" points=\"\n",
       "  161.598,179.849 2352.76,179.849 \n",
       "  \"/>\n",
       "<polyline clip-path=\"url(#clip570)\" style=\"stroke:#000000; stroke-width:4; stroke-opacity:1; fill:none\" points=\"\n",
       "  161.598,1486.45 161.598,47.2441 \n",
       "  \"/>\n",
       "<polyline clip-path=\"url(#clip570)\" style=\"stroke:#000000; stroke-width:4; stroke-opacity:1; fill:none\" points=\"\n",
       "  161.598,1447.04 187.892,1447.04 \n",
       "  \"/>\n",
       "<polyline clip-path=\"url(#clip570)\" style=\"stroke:#000000; stroke-width:4; stroke-opacity:1; fill:none\" points=\"\n",
       "  161.598,1235.85 187.892,1235.85 \n",
       "  \"/>\n",
       "<polyline clip-path=\"url(#clip570)\" style=\"stroke:#000000; stroke-width:4; stroke-opacity:1; fill:none\" points=\"\n",
       "  161.598,1024.65 187.892,1024.65 \n",
       "  \"/>\n",
       "<polyline clip-path=\"url(#clip570)\" style=\"stroke:#000000; stroke-width:4; stroke-opacity:1; fill:none\" points=\"\n",
       "  161.598,813.447 187.892,813.447 \n",
       "  \"/>\n",
       "<polyline clip-path=\"url(#clip570)\" style=\"stroke:#000000; stroke-width:4; stroke-opacity:1; fill:none\" points=\"\n",
       "  161.598,602.248 187.892,602.248 \n",
       "  \"/>\n",
       "<polyline clip-path=\"url(#clip570)\" style=\"stroke:#000000; stroke-width:4; stroke-opacity:1; fill:none\" points=\"\n",
       "  161.598,391.048 187.892,391.048 \n",
       "  \"/>\n",
       "<polyline clip-path=\"url(#clip570)\" style=\"stroke:#000000; stroke-width:4; stroke-opacity:1; fill:none\" points=\"\n",
       "  161.598,179.849 187.892,179.849 \n",
       "  \"/>\n",
       "<path clip-path=\"url(#clip570)\" d=\"M 0 0 M113.654 1432.84 Q110.043 1432.84 108.214 1436.41 Q106.408 1439.95 106.408 1447.08 Q106.408 1454.19 108.214 1457.75 Q110.043 1461.29 113.654 1461.29 Q117.288 1461.29 119.094 1457.75 Q120.922 1454.19 120.922 1447.08 Q120.922 1439.95 119.094 1436.41 Q117.288 1432.84 113.654 1432.84 M113.654 1429.14 Q119.464 1429.14 122.52 1433.75 Q125.598 1438.33 125.598 1447.08 Q125.598 1455.81 122.52 1460.41 Q119.464 1465 113.654 1465 Q107.844 1465 104.765 1460.41 Q101.709 1455.81 101.709 1447.08 Q101.709 1438.33 104.765 1433.75 Q107.844 1429.14 113.654 1429.14 Z\" fill=\"#000000\" fill-rule=\"evenodd\" fill-opacity=\"1\" /><path clip-path=\"url(#clip570)\" d=\"M 0 0 M82.2651 1249.19 L98.5845 1249.19 L98.5845 1253.13 L76.6401 1253.13 L76.6401 1249.19 Q79.3022 1246.44 83.8855 1241.81 Q88.4919 1237.15 89.6725 1235.81 Q91.9178 1233.29 92.7975 1231.55 Q93.7002 1229.79 93.7002 1228.1 Q93.7002 1225.35 91.7558 1223.61 Q89.8345 1221.88 86.7327 1221.88 Q84.5336 1221.88 82.0799 1222.64 Q79.6494 1223.4 76.8716 1224.95 L76.8716 1220.23 Q79.6957 1219.1 82.1494 1218.52 Q84.6031 1217.94 86.6401 1217.94 Q92.0104 1217.94 95.2049 1220.63 Q98.3993 1223.31 98.3993 1227.8 Q98.3993 1229.93 97.5891 1231.85 Q96.8021 1233.75 94.6956 1236.34 Q94.1169 1237.01 91.0151 1240.23 Q87.9132 1243.43 82.2651 1249.19 Z\" fill=\"#000000\" fill-rule=\"evenodd\" fill-opacity=\"1\" /><path clip-path=\"url(#clip570)\" d=\"M 0 0 M113.654 1221.64 Q110.043 1221.64 108.214 1225.21 Q106.408 1228.75 106.408 1235.88 Q106.408 1242.99 108.214 1246.55 Q110.043 1250.09 113.654 1250.09 Q117.288 1250.09 119.094 1246.55 Q120.922 1242.99 120.922 1235.88 Q120.922 1228.75 119.094 1225.21 Q117.288 1221.64 113.654 1221.64 M113.654 1217.94 Q119.464 1217.94 122.52 1222.55 Q125.598 1227.13 125.598 1235.88 Q125.598 1244.61 122.52 1249.21 Q119.464 1253.8 113.654 1253.8 Q107.844 1253.8 104.765 1249.21 Q101.709 1244.61 101.709 1235.88 Q101.709 1227.13 104.765 1222.55 Q107.844 1217.94 113.654 1217.94 Z\" fill=\"#000000\" fill-rule=\"evenodd\" fill-opacity=\"1\" /><path clip-path=\"url(#clip570)\" d=\"M 0 0 M89.0012 1011.44 L77.1957 1029.89 L89.0012 1029.89 L89.0012 1011.44 M87.7743 1007.37 L93.6539 1007.37 L93.6539 1029.89 L98.5845 1029.89 L98.5845 1033.78 L93.6539 1033.78 L93.6539 1041.93 L89.0012 1041.93 L89.0012 1033.78 L73.3994 1033.78 L73.3994 1029.26 L87.7743 1007.37 Z\" fill=\"#000000\" fill-rule=\"evenodd\" fill-opacity=\"1\" /><path clip-path=\"url(#clip570)\" d=\"M 0 0 M113.654 1010.44 Q110.043 1010.44 108.214 1014.01 Q106.408 1017.55 106.408 1024.68 Q106.408 1031.79 108.214 1035.35 Q110.043 1038.89 113.654 1038.89 Q117.288 1038.89 119.094 1035.35 Q120.922 1031.79 120.922 1024.68 Q120.922 1017.55 119.094 1014.01 Q117.288 1010.44 113.654 1010.44 M113.654 1006.74 Q119.464 1006.74 122.52 1011.35 Q125.598 1015.93 125.598 1024.68 Q125.598 1033.41 122.52 1038.01 Q119.464 1042.6 113.654 1042.6 Q107.844 1042.6 104.765 1038.01 Q101.709 1033.41 101.709 1024.68 Q101.709 1015.93 104.765 1011.35 Q107.844 1006.74 113.654 1006.74 Z\" fill=\"#000000\" fill-rule=\"evenodd\" fill-opacity=\"1\" /><path clip-path=\"url(#clip570)\" d=\"M 0 0 M87.0567 811.583 Q83.9086 811.583 82.0568 813.736 Q80.2281 815.889 80.2281 819.639 Q80.2281 823.366 82.0568 825.542 Q83.9086 827.695 87.0567 827.695 Q90.2049 827.695 92.0336 825.542 Q93.8854 823.366 93.8854 819.639 Q93.8854 815.889 92.0336 813.736 Q90.2049 811.583 87.0567 811.583 M96.3391 796.931 L96.3391 801.19 Q94.5799 800.357 92.7743 799.917 Q90.9919 799.477 89.2327 799.477 Q84.6031 799.477 82.1494 802.602 Q79.7188 805.727 79.3716 812.046 Q80.7373 810.033 82.7975 808.968 Q84.8577 807.88 87.3345 807.88 Q92.5428 807.88 95.5521 811.051 Q98.5845 814.199 98.5845 819.639 Q98.5845 824.963 95.4363 828.181 Q92.2882 831.398 87.0567 831.398 Q81.0614 831.398 77.8901 826.815 Q74.7189 822.208 74.7189 813.482 Q74.7189 805.287 78.6077 800.426 Q82.4966 795.542 89.0475 795.542 Q90.8067 795.542 92.5891 795.889 Q94.3947 796.236 96.3391 796.931 Z\" fill=\"#000000\" fill-rule=\"evenodd\" fill-opacity=\"1\" /><path clip-path=\"url(#clip570)\" d=\"M 0 0 M113.654 799.246 Q110.043 799.246 108.214 802.81 Q106.408 806.352 106.408 813.482 Q106.408 820.588 108.214 824.153 Q110.043 827.695 113.654 827.695 Q117.288 827.695 119.094 824.153 Q120.922 820.588 120.922 813.482 Q120.922 806.352 119.094 802.81 Q117.288 799.246 113.654 799.246 M113.654 795.542 Q119.464 795.542 122.52 800.148 Q125.598 804.732 125.598 813.482 Q125.598 822.208 122.52 826.815 Q119.464 831.398 113.654 831.398 Q107.844 831.398 104.765 826.815 Q101.709 822.208 101.709 813.482 Q101.709 804.732 104.765 800.148 Q107.844 795.542 113.654 795.542 Z\" fill=\"#000000\" fill-rule=\"evenodd\" fill-opacity=\"1\" /><path clip-path=\"url(#clip570)\" d=\"M 0 0 M86.7327 603.116 Q83.3994 603.116 81.4781 604.898 Q79.5799 606.681 79.5799 609.806 Q79.5799 612.931 81.4781 614.713 Q83.3994 616.495 86.7327 616.495 Q90.066 616.495 91.9873 614.713 Q93.9086 612.907 93.9086 609.806 Q93.9086 606.681 91.9873 604.898 Q90.0891 603.116 86.7327 603.116 M82.0568 601.125 Q79.0475 600.384 77.3577 598.324 Q75.6911 596.264 75.6911 593.301 Q75.6911 589.157 78.6309 586.75 Q81.5938 584.343 86.7327 584.343 Q91.8947 584.343 94.8345 586.75 Q97.7743 589.157 97.7743 593.301 Q97.7743 596.264 96.0845 598.324 Q94.4178 600.384 91.4317 601.125 Q94.8113 601.912 96.6863 604.204 Q98.5845 606.495 98.5845 609.806 Q98.5845 614.829 95.5058 617.514 Q92.4502 620.199 86.7327 620.199 Q81.0151 620.199 77.9364 617.514 Q74.8809 614.829 74.8809 609.806 Q74.8809 606.495 76.779 604.204 Q78.6772 601.912 82.0568 601.125 M80.3438 593.741 Q80.3438 596.426 82.0105 597.931 Q83.7003 599.435 86.7327 599.435 Q89.7419 599.435 91.4317 597.931 Q93.1447 596.426 93.1447 593.741 Q93.1447 591.056 91.4317 589.551 Q89.7419 588.046 86.7327 588.046 Q83.7003 588.046 82.0105 589.551 Q80.3438 591.056 80.3438 593.741 Z\" fill=\"#000000\" fill-rule=\"evenodd\" fill-opacity=\"1\" /><path clip-path=\"url(#clip570)\" d=\"M 0 0 M113.654 588.046 Q110.043 588.046 108.214 591.611 Q106.408 595.153 106.408 602.282 Q106.408 609.389 108.214 612.954 Q110.043 616.495 113.654 616.495 Q117.288 616.495 119.094 612.954 Q120.922 609.389 120.922 602.282 Q120.922 595.153 119.094 591.611 Q117.288 588.046 113.654 588.046 M113.654 584.343 Q119.464 584.343 122.52 588.949 Q125.598 593.532 125.598 602.282 Q125.598 611.009 122.52 615.616 Q119.464 620.199 113.654 620.199 Q107.844 620.199 104.765 615.616 Q101.709 611.009 101.709 602.282 Q101.709 593.532 104.765 588.949 Q107.844 584.343 113.654 584.343 Z\" fill=\"#000000\" fill-rule=\"evenodd\" fill-opacity=\"1\" /><path clip-path=\"url(#clip570)\" d=\"M 0 0 M51.6634 404.393 L59.3023 404.393 L59.3023 378.028 L50.9921 379.694 L50.9921 375.435 L59.256 373.768 L63.9319 373.768 L63.9319 404.393 L71.5707 404.393 L71.5707 408.328 L51.6634 408.328 L51.6634 404.393 Z\" fill=\"#000000\" fill-rule=\"evenodd\" fill-opacity=\"1\" /><path clip-path=\"url(#clip570)\" d=\"M 0 0 M86.6401 376.847 Q83.029 376.847 81.2003 380.412 Q79.3948 383.954 79.3948 391.083 Q79.3948 398.19 81.2003 401.754 Q83.029 405.296 86.6401 405.296 Q90.2743 405.296 92.0799 401.754 Q93.9086 398.19 93.9086 391.083 Q93.9086 383.954 92.0799 380.412 Q90.2743 376.847 86.6401 376.847 M86.6401 373.143 Q92.4502 373.143 95.5058 377.75 Q98.5845 382.333 98.5845 391.083 Q98.5845 399.81 95.5058 404.416 Q92.4502 409 86.6401 409 Q80.8299 409 77.7512 404.416 Q74.6957 399.81 74.6957 391.083 Q74.6957 382.333 77.7512 377.75 Q80.8299 373.143 86.6401 373.143 Z\" fill=\"#000000\" fill-rule=\"evenodd\" fill-opacity=\"1\" /><path clip-path=\"url(#clip570)\" d=\"M 0 0 M113.654 376.847 Q110.043 376.847 108.214 380.412 Q106.408 383.954 106.408 391.083 Q106.408 398.19 108.214 401.754 Q110.043 405.296 113.654 405.296 Q117.288 405.296 119.094 401.754 Q120.922 398.19 120.922 391.083 Q120.922 383.954 119.094 380.412 Q117.288 376.847 113.654 376.847 M113.654 373.143 Q119.464 373.143 122.52 377.75 Q125.598 382.333 125.598 391.083 Q125.598 399.81 122.52 404.416 Q119.464 409 113.654 409 Q107.844 409 104.765 404.416 Q101.709 399.81 101.709 391.083 Q101.709 382.333 104.765 377.75 Q107.844 373.143 113.654 373.143 Z\" fill=\"#000000\" fill-rule=\"evenodd\" fill-opacity=\"1\" /><path clip-path=\"url(#clip570)\" d=\"M 0 0 M53.2606 193.194 L60.8995 193.194 L60.8995 166.829 L52.5893 168.495 L52.5893 164.236 L60.8532 162.569 L65.5291 162.569 L65.5291 193.194 L73.1679 193.194 L73.1679 197.129 L53.2606 197.129 L53.2606 193.194 Z\" fill=\"#000000\" fill-rule=\"evenodd\" fill-opacity=\"1\" /><path clip-path=\"url(#clip570)\" d=\"M 0 0 M82.2651 193.194 L98.5845 193.194 L98.5845 197.129 L76.6401 197.129 L76.6401 193.194 Q79.3022 190.44 83.8855 185.81 Q88.4919 181.157 89.6725 179.815 Q91.9178 177.291 92.7975 175.555 Q93.7002 173.796 93.7002 172.106 Q93.7002 169.352 91.7558 167.616 Q89.8345 165.879 86.7327 165.879 Q84.5336 165.879 82.0799 166.643 Q79.6494 167.407 76.8716 168.958 L76.8716 164.236 Q79.6957 163.102 82.1494 162.523 Q84.6031 161.944 86.6401 161.944 Q92.0104 161.944 95.2049 164.629 Q98.3993 167.315 98.3993 171.805 Q98.3993 173.935 97.5891 175.856 Q96.8021 177.754 94.6956 180.347 Q94.1169 181.018 91.0151 184.236 Q87.9132 187.43 82.2651 193.194 Z\" fill=\"#000000\" fill-rule=\"evenodd\" fill-opacity=\"1\" /><path clip-path=\"url(#clip570)\" d=\"M 0 0 M113.654 165.648 Q110.043 165.648 108.214 169.213 Q106.408 172.754 106.408 179.884 Q106.408 186.99 108.214 190.555 Q110.043 194.097 113.654 194.097 Q117.288 194.097 119.094 190.555 Q120.922 186.99 120.922 179.884 Q120.922 172.754 119.094 169.213 Q117.288 165.648 113.654 165.648 M113.654 161.944 Q119.464 161.944 122.52 166.551 Q125.598 171.134 125.598 179.884 Q125.598 188.611 122.52 193.217 Q119.464 197.801 113.654 197.801 Q107.844 197.801 104.765 193.217 Q101.709 188.611 101.709 179.884 Q101.709 171.134 104.765 166.551 Q107.844 161.944 113.654 161.944 Z\" fill=\"#000000\" fill-rule=\"evenodd\" fill-opacity=\"1\" /><polyline clip-path=\"url(#clip572)\" style=\"stroke:#009af9; stroke-width:4; stroke-opacity:1; fill:none\" points=\"\n",
       "  223.612,767.51 275.29,855.458 326.969,932.023 378.647,998.679 430.325,1056.71 482.003,1107.23 533.682,1151.21 585.36,1189.5 637.038,1222.83 688.716,1251.85 \n",
       "  740.395,1277.11 792.073,1299.1 843.751,1318.25 895.429,1334.92 947.108,1349.43 998.786,1362.06 1050.46,1373.06 1102.14,1382.64 1153.82,1390.97 1205.5,1398.23 \n",
       "  1257.18,1404.55 1308.86,1410.05 1360.53,1414.84 1412.21,1419 1463.89,1422.63 1515.57,1425.79 1567.25,1428.54 1618.92,1430.94 1670.6,1433.02 1722.28,1434.84 \n",
       "  1773.96,1436.42 1825.64,1437.79 1877.32,1438.99 1928.99,1440.03 1980.67,1440.94 2032.35,1441.73 2084.03,1442.42 2135.71,1443.02 2187.39,1443.54 2239.06,1443.99 \n",
       "  2290.74,1444.39 \n",
       "  \"/>\n",
       "<polyline clip-path=\"url(#clip572)\" style=\"stroke:#e26f46; stroke-width:4; stroke-opacity:1; fill:none\" stroke-dasharray=\"16, 10\" points=\"\n",
       "  223.612,1394.24 275.29,1394.24 326.969,1394.24 378.647,1394.24 430.325,1394.24 482.003,1394.24 533.682,1394.24 585.36,1394.24 637.038,1394.24 688.716,1394.24 \n",
       "  740.395,1394.24 792.073,1394.24 843.751,1394.24 895.429,1394.24 947.108,1394.24 998.786,1394.24 1050.46,1394.24 1102.14,1394.24 1153.82,1394.24 1205.5,1394.24 \n",
       "  1257.18,1394.24 1308.86,1394.24 1360.53,1394.24 1412.21,1394.24 1463.89,1394.24 1515.57,1394.24 1567.25,1394.24 1618.92,1394.24 1670.6,1394.24 1722.28,1394.24 \n",
       "  1773.96,1394.24 1825.64,1394.24 1877.32,1394.24 1928.99,1394.24 1980.67,1394.24 2032.35,1394.24 2084.03,1394.24 2135.71,1394.24 2187.39,1394.24 2239.06,1394.24 \n",
       "  2290.74,1394.24 \n",
       "  \"/>\n",
       "<polyline clip-path=\"url(#clip572)\" style=\"stroke:#3da44d; stroke-width:4; stroke-opacity:1; fill:none\" points=\"\n",
       "  223.612,87.9763 275.29,263.871 326.969,417.002 378.647,550.313 430.325,666.371 482.003,767.409 533.682,855.37 585.36,931.946 637.038,998.612 688.716,1056.65 \n",
       "  740.395,1107.18 792.073,1151.16 843.751,1189.46 895.429,1222.79 947.108,1251.82 998.786,1277.08 1050.46,1299.08 1102.14,1318.23 1153.82,1334.9 1205.5,1349.42 \n",
       "  1257.18,1362.05 1308.86,1373.05 1360.53,1382.63 1412.21,1390.97 1463.89,1398.22 1515.57,1404.54 1567.25,1410.04 1618.92,1414.83 1670.6,1419 1722.28,1422.63 \n",
       "  1773.96,1425.79 1825.64,1428.54 1877.32,1430.94 1928.99,1433.02 1980.67,1434.84 2032.35,1436.42 2084.03,1437.79 2135.71,1438.99 2187.39,1440.03 2239.06,1440.94 \n",
       "  2290.74,1441.73 \n",
       "  \"/>\n",
       "<polyline clip-path=\"url(#clip572)\" style=\"stroke:#c271d2; stroke-width:4; stroke-opacity:1; fill:none\" points=\"\n",
       "  223.612,1107.28 275.29,1151.25 326.969,1189.53 378.647,1222.86 430.325,1251.88 482.003,1277.14 533.682,1299.13 585.36,1318.27 637.038,1334.94 688.716,1349.45 \n",
       "  740.395,1362.08 792.073,1373.07 843.751,1382.65 895.429,1390.98 947.108,1398.24 998.786,1404.55 1050.46,1410.05 1102.14,1414.84 1153.82,1419.01 1205.5,1422.64 \n",
       "  1257.18,1425.8 1308.86,1428.55 1360.53,1430.94 1412.21,1433.02 1463.89,1434.84 1515.57,1436.42 1567.25,1437.79 1618.92,1438.99 1670.6,1440.03 1722.28,1440.94 \n",
       "  1773.96,1441.73 1825.64,1442.42 1877.32,1443.02 1928.99,1443.54 1980.67,1443.99 2032.35,1444.39 2084.03,1444.73 2135.71,1445.03 2187.39,1445.29 2239.06,1445.52 \n",
       "  2290.74,1445.72 \n",
       "  \"/>\n",
       "<polyline clip-path=\"url(#clip572)\" style=\"stroke:#ac8d18; stroke-width:4; stroke-opacity:1; fill:none\" stroke-dasharray=\"16, 10\" points=\"\n",
       "  223.612,391.048 275.29,391.048 326.969,391.048 378.647,391.048 430.325,391.048 482.003,391.048 533.682,391.048 585.36,391.048 637.038,391.048 688.716,391.048 \n",
       "  740.395,391.048 792.073,391.048 843.751,391.048 895.429,391.048 947.108,391.048 998.786,391.048 1050.46,391.048 1102.14,391.048 1153.82,391.048 1205.5,391.048 \n",
       "  1257.18,391.048 1308.86,391.048 1360.53,391.048 1412.21,391.048 1463.89,391.048 1515.57,391.048 1567.25,391.048 1618.92,391.048 1670.6,391.048 1722.28,391.048 \n",
       "  1773.96,391.048 1825.64,391.048 1877.32,391.048 1928.99,391.048 1980.67,391.048 2032.35,391.048 2084.03,391.048 2135.71,391.048 2187.39,391.048 2239.06,391.048 \n",
       "  2290.74,391.048 \n",
       "  \"/>\n",
       "<path clip-path=\"url(#clip570)\" d=\"\n",
       "M1841.3 458.098 L2279.72 458.098 L2279.72 95.2176 L1841.3 95.2176  Z\n",
       "  \" fill=\"#ffffff\" fill-rule=\"evenodd\" fill-opacity=\"1\"/>\n",
       "<polyline clip-path=\"url(#clip570)\" style=\"stroke:#000000; stroke-width:4; stroke-opacity:1; fill:none\" points=\"\n",
       "  1841.3,458.098 2279.72,458.098 2279.72,95.2176 1841.3,95.2176 1841.3,458.098 \n",
       "  \"/>\n",
       "<polyline clip-path=\"url(#clip570)\" style=\"stroke:#009af9; stroke-width:4; stroke-opacity:1; fill:none\" points=\"\n",
       "  1865.65,155.698 2011.73,155.698 \n",
       "  \"/>\n",
       "<path clip-path=\"url(#clip570)\" d=\"M 0 0 M2037.53 138.418 L2055.89 138.418 L2055.89 142.353 L2041.81 142.353 L2041.81 150.825 Q2042.83 150.478 2043.85 150.316 Q2044.87 150.13 2045.89 150.13 Q2051.67 150.13 2055.05 153.302 Q2058.43 156.473 2058.43 161.89 Q2058.43 167.468 2054.96 170.57 Q2051.49 173.649 2045.17 173.649 Q2042.99 173.649 2040.73 173.278 Q2038.48 172.908 2036.07 172.167 L2036.07 167.468 Q2038.16 168.603 2040.38 169.158 Q2042.6 169.714 2045.08 169.714 Q2049.08 169.714 2051.42 167.607 Q2053.76 165.501 2053.76 161.89 Q2053.76 158.279 2051.42 156.172 Q2049.08 154.066 2045.08 154.066 Q2043.2 154.066 2041.33 154.482 Q2039.48 154.899 2037.53 155.779 L2037.53 138.418 Z\" fill=\"#000000\" fill-rule=\"evenodd\" fill-opacity=\"1\" /><path clip-path=\"url(#clip570)\" d=\"M 0 0 M2073.5 141.496 Q2069.89 141.496 2068.06 145.061 Q2066.26 148.603 2066.26 155.732 Q2066.26 162.839 2068.06 166.404 Q2069.89 169.945 2073.5 169.945 Q2077.14 169.945 2078.94 166.404 Q2080.77 162.839 2080.77 155.732 Q2080.77 148.603 2078.94 145.061 Q2077.14 141.496 2073.5 141.496 M2073.5 137.793 Q2079.31 137.793 2082.37 142.399 Q2085.45 146.982 2085.45 155.732 Q2085.45 164.459 2082.37 169.066 Q2079.31 173.649 2073.5 173.649 Q2067.69 173.649 2064.61 169.066 Q2061.56 164.459 2061.56 155.732 Q2061.56 146.982 2064.61 142.399 Q2067.69 137.793 2073.5 137.793 Z\" fill=\"#000000\" fill-rule=\"evenodd\" fill-opacity=\"1\" /><path clip-path=\"url(#clip570)\" d=\"M 0 0 M2100.52 141.496 Q2096.91 141.496 2095.08 145.061 Q2093.27 148.603 2093.27 155.732 Q2093.27 162.839 2095.08 166.404 Q2096.91 169.945 2100.52 169.945 Q2104.15 169.945 2105.96 166.404 Q2107.78 162.839 2107.78 155.732 Q2107.78 148.603 2105.96 145.061 Q2104.15 141.496 2100.52 141.496 M2100.52 137.793 Q2106.33 137.793 2109.38 142.399 Q2112.46 146.982 2112.46 155.732 Q2112.46 164.459 2109.38 169.066 Q2106.33 173.649 2100.52 173.649 Q2094.71 173.649 2091.63 169.066 Q2088.57 164.459 2088.57 155.732 Q2088.57 146.982 2091.63 142.399 Q2094.71 137.793 2100.52 137.793 Z\" fill=\"#000000\" fill-rule=\"evenodd\" fill-opacity=\"1\" /><path clip-path=\"url(#clip570)\" d=\"M 0 0 M2152.18 152.029 Q2153.78 149.158 2156 147.793 Q2158.22 146.427 2161.23 146.427 Q2165.28 146.427 2167.48 149.274 Q2169.68 152.098 2169.68 157.329 L2169.68 172.978 L2165.4 172.978 L2165.4 157.468 Q2165.4 153.742 2164.08 151.936 Q2162.76 150.13 2160.05 150.13 Q2156.74 150.13 2154.82 152.33 Q2152.9 154.529 2152.9 158.325 L2152.9 172.978 L2148.62 172.978 L2148.62 157.468 Q2148.62 153.718 2147.3 151.936 Q2145.98 150.13 2143.22 150.13 Q2139.96 150.13 2138.04 152.353 Q2136.12 154.552 2136.12 158.325 L2136.12 172.978 L2131.84 172.978 L2131.84 147.052 L2136.12 147.052 L2136.12 151.08 Q2137.58 148.695 2139.61 147.561 Q2141.65 146.427 2144.45 146.427 Q2147.28 146.427 2149.24 147.862 Q2151.23 149.297 2152.18 152.029 Z\" fill=\"#000000\" fill-rule=\"evenodd\" fill-opacity=\"1\" /><path clip-path=\"url(#clip570)\" d=\"M 0 0 M2191.21 159.714 Q2191.21 155.084 2189.29 152.538 Q2187.39 149.992 2183.94 149.992 Q2180.52 149.992 2178.59 152.538 Q2176.7 155.084 2176.7 159.714 Q2176.7 164.32 2178.59 166.866 Q2180.52 169.413 2183.94 169.413 Q2187.39 169.413 2189.29 166.866 Q2191.21 164.32 2191.21 159.714 M2195.47 169.76 Q2195.47 176.38 2192.53 179.598 Q2189.59 182.839 2183.53 182.839 Q2181.28 182.839 2179.29 182.491 Q2177.3 182.167 2175.42 181.473 L2175.42 177.329 Q2177.3 178.348 2179.13 178.834 Q2180.96 179.32 2182.85 179.32 Q2187.04 179.32 2189.13 177.121 Q2191.21 174.945 2191.21 170.524 L2191.21 168.417 Q2189.89 170.709 2187.83 171.843 Q2185.77 172.978 2182.9 172.978 Q2178.13 172.978 2175.22 169.343 Q2172.3 165.709 2172.3 159.714 Q2172.3 153.695 2175.22 150.061 Q2178.13 146.427 2182.9 146.427 Q2185.77 146.427 2187.83 147.561 Q2189.89 148.695 2191.21 150.987 L2191.21 147.052 L2195.47 147.052 L2195.47 169.76 Z\" fill=\"#000000\" fill-rule=\"evenodd\" fill-opacity=\"1\" /><polyline clip-path=\"url(#clip570)\" style=\"stroke:#e26f46; stroke-width:4; stroke-opacity:1; fill:none\" stroke-dasharray=\"16, 10\" points=\"\n",
       "  1865.65,216.178 2011.73,216.178 \n",
       "  \"/>\n",
       "<path clip-path=\"url(#clip570)\" d=\"M 0 0 M2036.07 198.898 L2043.04 198.898 L2051.86 222.416 L2060.72 198.898 L2067.69 198.898 L2067.69 233.458 L2063.13 233.458 L2063.13 203.11 L2054.22 226.814 L2049.52 226.814 L2040.61 203.11 L2040.61 233.458 L2036.07 233.458 L2036.07 198.898 Z\" fill=\"#000000\" fill-rule=\"evenodd\" fill-opacity=\"1\" /><path clip-path=\"url(#clip570)\" d=\"M 0 0 M2072.35 198.898 L2077.02 198.898 L2077.02 233.458 L2072.35 233.458 L2072.35 198.898 Z\" fill=\"#000000\" fill-rule=\"evenodd\" fill-opacity=\"1\" /><path clip-path=\"url(#clip570)\" d=\"M 0 0 M2107.55 201.56 L2107.55 206.49 Q2105.19 204.291 2102.51 203.203 Q2099.85 202.115 2096.84 202.115 Q2090.91 202.115 2087.76 205.749 Q2084.61 209.36 2084.61 216.212 Q2084.61 223.041 2087.76 226.675 Q2090.91 230.286 2096.84 230.286 Q2099.85 230.286 2102.51 229.198 Q2105.19 228.11 2107.55 225.911 L2107.55 230.796 Q2105.1 232.462 2102.35 233.296 Q2099.61 234.129 2096.56 234.129 Q2088.71 234.129 2084.2 229.337 Q2079.68 224.522 2079.68 216.212 Q2079.68 207.879 2084.2 203.087 Q2088.71 198.273 2096.56 198.273 Q2099.66 198.273 2102.39 199.106 Q2105.15 199.916 2107.55 201.56 Z\" fill=\"#000000\" fill-rule=\"evenodd\" fill-opacity=\"1\" /><polyline clip-path=\"url(#clip570)\" style=\"stroke:#3da44d; stroke-width:4; stroke-opacity:1; fill:none\" points=\"\n",
       "  1865.65,276.658 2011.73,276.658 \n",
       "  \"/>\n",
       "<path clip-path=\"url(#clip570)\" d=\"M 0 0 M2036.74 290.002 L2044.38 290.002 L2044.38 263.637 L2036.07 265.303 L2036.07 261.044 L2044.34 259.378 L2049.01 259.378 L2049.01 290.002 L2056.65 290.002 L2056.65 293.938 L2036.74 293.938 L2036.74 290.002 Z\" fill=\"#000000\" fill-rule=\"evenodd\" fill-opacity=\"1\" /><path clip-path=\"url(#clip570)\" d=\"M 0 0 M2071.72 262.456 Q2068.11 262.456 2066.28 266.021 Q2064.47 269.563 2064.47 276.692 Q2064.47 283.799 2066.28 287.364 Q2068.11 290.905 2071.72 290.905 Q2075.35 290.905 2077.16 287.364 Q2078.99 283.799 2078.99 276.692 Q2078.99 269.563 2077.16 266.021 Q2075.35 262.456 2071.72 262.456 M2071.72 258.753 Q2077.53 258.753 2080.59 263.359 Q2083.66 267.942 2083.66 276.692 Q2083.66 285.419 2080.59 290.026 Q2077.53 294.609 2071.72 294.609 Q2065.91 294.609 2062.83 290.026 Q2059.78 285.419 2059.78 276.692 Q2059.78 267.942 2062.83 263.359 Q2065.91 258.753 2071.72 258.753 Z\" fill=\"#000000\" fill-rule=\"evenodd\" fill-opacity=\"1\" /><path clip-path=\"url(#clip570)\" d=\"M 0 0 M2098.73 262.456 Q2095.12 262.456 2093.29 266.021 Q2091.49 269.563 2091.49 276.692 Q2091.49 283.799 2093.29 287.364 Q2095.12 290.905 2098.73 290.905 Q2102.37 290.905 2104.17 287.364 Q2106 283.799 2106 276.692 Q2106 269.563 2104.17 266.021 Q2102.37 262.456 2098.73 262.456 M2098.73 258.753 Q2104.54 258.753 2107.6 263.359 Q2110.68 267.942 2110.68 276.692 Q2110.68 285.419 2107.6 290.026 Q2104.54 294.609 2098.73 294.609 Q2092.92 294.609 2089.85 290.026 Q2086.79 285.419 2086.79 276.692 Q2086.79 267.942 2089.85 263.359 Q2092.92 258.753 2098.73 258.753 Z\" fill=\"#000000\" fill-rule=\"evenodd\" fill-opacity=\"1\" /><path clip-path=\"url(#clip570)\" d=\"M 0 0 M2125.75 262.456 Q2122.14 262.456 2120.31 266.021 Q2118.5 269.563 2118.5 276.692 Q2118.5 283.799 2120.31 287.364 Q2122.14 290.905 2125.75 290.905 Q2129.38 290.905 2131.19 287.364 Q2133.02 283.799 2133.02 276.692 Q2133.02 269.563 2131.19 266.021 Q2129.38 262.456 2125.75 262.456 M2125.75 258.753 Q2131.56 258.753 2134.61 263.359 Q2137.69 267.942 2137.69 276.692 Q2137.69 285.419 2134.61 290.026 Q2131.56 294.609 2125.75 294.609 Q2119.94 294.609 2116.86 290.026 Q2113.8 285.419 2113.8 276.692 Q2113.8 267.942 2116.86 263.359 Q2119.94 258.753 2125.75 258.753 Z\" fill=\"#000000\" fill-rule=\"evenodd\" fill-opacity=\"1\" /><path clip-path=\"url(#clip570)\" d=\"M 0 0 M2177.41 272.989 Q2179.01 270.118 2181.23 268.753 Q2183.46 267.387 2186.46 267.387 Q2190.52 267.387 2192.71 270.234 Q2194.91 273.058 2194.91 278.289 L2194.91 293.938 L2190.63 293.938 L2190.63 278.428 Q2190.63 274.702 2189.31 272.896 Q2187.99 271.09 2185.28 271.09 Q2181.97 271.09 2180.05 273.29 Q2178.13 275.489 2178.13 279.285 L2178.13 293.938 L2173.85 293.938 L2173.85 278.428 Q2173.85 274.678 2172.53 272.896 Q2171.21 271.09 2168.46 271.09 Q2165.19 271.09 2163.27 273.313 Q2161.35 275.512 2161.35 279.285 L2161.35 293.938 L2157.07 293.938 L2157.07 268.012 L2161.35 268.012 L2161.35 272.04 Q2162.81 269.655 2164.84 268.521 Q2166.88 267.387 2169.68 267.387 Q2172.51 267.387 2174.47 268.822 Q2176.47 270.257 2177.41 272.989 Z\" fill=\"#000000\" fill-rule=\"evenodd\" fill-opacity=\"1\" /><path clip-path=\"url(#clip570)\" d=\"M 0 0 M2216.44 280.674 Q2216.44 276.044 2214.52 273.498 Q2212.62 270.952 2209.17 270.952 Q2205.75 270.952 2203.83 273.498 Q2201.93 276.044 2201.93 280.674 Q2201.93 285.28 2203.83 287.826 Q2205.75 290.373 2209.17 290.373 Q2212.62 290.373 2214.52 287.826 Q2216.44 285.28 2216.44 280.674 M2220.7 290.72 Q2220.7 297.34 2217.76 300.558 Q2214.82 303.799 2208.76 303.799 Q2206.51 303.799 2204.52 303.451 Q2202.53 303.127 2200.65 302.433 L2200.65 298.289 Q2202.53 299.308 2204.36 299.794 Q2206.19 300.28 2208.09 300.28 Q2212.28 300.28 2214.36 298.081 Q2216.44 295.905 2216.44 291.484 L2216.44 289.377 Q2215.12 291.669 2213.06 292.803 Q2211 293.938 2208.13 293.938 Q2203.36 293.938 2200.45 290.303 Q2197.53 286.669 2197.53 280.674 Q2197.53 274.655 2200.45 271.021 Q2203.36 267.387 2208.13 267.387 Q2211 267.387 2213.06 268.521 Q2215.12 269.655 2216.44 271.947 L2216.44 268.012 L2220.7 268.012 L2220.7 290.72 Z\" fill=\"#000000\" fill-rule=\"evenodd\" fill-opacity=\"1\" /><polyline clip-path=\"url(#clip570)\" style=\"stroke:#c271d2; stroke-width:4; stroke-opacity:1; fill:none\" points=\"\n",
       "  1865.65,337.138 2011.73,337.138 \n",
       "  \"/>\n",
       "<path clip-path=\"url(#clip570)\" d=\"M 0 0 M2041.7 350.482 L2058.02 350.482 L2058.02 354.418 L2036.07 354.418 L2036.07 350.482 Q2038.73 347.728 2043.32 343.098 Q2047.92 338.445 2049.1 337.103 Q2051.35 334.58 2052.23 332.844 Q2053.13 331.084 2053.13 329.395 Q2053.13 326.64 2051.19 324.904 Q2049.27 323.168 2046.16 323.168 Q2043.97 323.168 2041.51 323.932 Q2039.08 324.695 2036.3 326.246 L2036.3 321.524 Q2039.13 320.39 2041.58 319.811 Q2044.04 319.233 2046.07 319.233 Q2051.44 319.233 2054.64 321.918 Q2057.83 324.603 2057.83 329.094 Q2057.83 331.223 2057.02 333.145 Q2056.23 335.043 2054.13 337.635 Q2053.55 338.307 2050.45 341.524 Q2047.35 344.719 2041.7 350.482 Z\" fill=\"#000000\" fill-rule=\"evenodd\" fill-opacity=\"1\" /><path clip-path=\"url(#clip570)\" d=\"M 0 0 M2063.13 319.858 L2081.49 319.858 L2081.49 323.793 L2067.41 323.793 L2067.41 332.265 Q2068.43 331.918 2069.45 331.756 Q2070.47 331.57 2071.49 331.57 Q2077.28 331.57 2080.66 334.742 Q2084.03 337.913 2084.03 343.33 Q2084.03 348.908 2080.56 352.01 Q2077.09 355.089 2070.77 355.089 Q2068.6 355.089 2066.33 354.718 Q2064.08 354.348 2061.67 353.607 L2061.67 348.908 Q2063.76 350.043 2065.98 350.598 Q2068.2 351.154 2070.68 351.154 Q2074.68 351.154 2077.02 349.047 Q2079.36 346.941 2079.36 343.33 Q2079.36 339.719 2077.02 337.612 Q2074.68 335.506 2070.68 335.506 Q2068.8 335.506 2066.93 335.922 Q2065.08 336.339 2063.13 337.219 L2063.13 319.858 Z\" fill=\"#000000\" fill-rule=\"evenodd\" fill-opacity=\"1\" /><path clip-path=\"url(#clip570)\" d=\"M 0 0 M2099.1 322.936 Q2095.49 322.936 2093.66 326.501 Q2091.86 330.043 2091.86 337.172 Q2091.86 344.279 2093.66 347.844 Q2095.49 351.385 2099.1 351.385 Q2102.74 351.385 2104.54 347.844 Q2106.37 344.279 2106.37 337.172 Q2106.37 330.043 2104.54 326.501 Q2102.74 322.936 2099.1 322.936 M2099.1 319.233 Q2104.91 319.233 2107.97 323.839 Q2111.05 328.422 2111.05 337.172 Q2111.05 345.899 2107.97 350.506 Q2104.91 355.089 2099.1 355.089 Q2093.29 355.089 2090.22 350.506 Q2087.16 345.899 2087.16 337.172 Q2087.16 328.422 2090.22 323.839 Q2093.29 319.233 2099.1 319.233 Z\" fill=\"#000000\" fill-rule=\"evenodd\" fill-opacity=\"1\" /><path clip-path=\"url(#clip570)\" d=\"M 0 0 M2116.12 348.538 L2121 348.538 L2121 354.418 L2116.12 354.418 L2116.12 348.538 Z\" fill=\"#000000\" fill-rule=\"evenodd\" fill-opacity=\"1\" /><path clip-path=\"url(#clip570)\" d=\"M 0 0 M2136.07 322.936 Q2132.46 322.936 2130.63 326.501 Q2128.83 330.043 2128.83 337.172 Q2128.83 344.279 2130.63 347.844 Q2132.46 351.385 2136.07 351.385 Q2139.71 351.385 2141.51 347.844 Q2143.34 344.279 2143.34 337.172 Q2143.34 330.043 2141.51 326.501 Q2139.71 322.936 2136.07 322.936 M2136.07 319.233 Q2141.88 319.233 2144.94 323.839 Q2148.02 328.422 2148.02 337.172 Q2148.02 345.899 2144.94 350.506 Q2141.88 355.089 2136.07 355.089 Q2130.26 355.089 2127.18 350.506 Q2124.13 345.899 2124.13 337.172 Q2124.13 328.422 2127.18 323.839 Q2130.26 319.233 2136.07 319.233 Z\" fill=\"#000000\" fill-rule=\"evenodd\" fill-opacity=\"1\" /><path clip-path=\"url(#clip570)\" d=\"M 0 0 M2187.74 333.469 Q2189.34 330.598 2191.56 329.233 Q2193.78 327.867 2196.79 327.867 Q2200.84 327.867 2203.04 330.714 Q2205.24 333.538 2205.24 338.769 L2205.24 354.418 L2200.96 354.418 L2200.96 338.908 Q2200.96 335.182 2199.64 333.376 Q2198.32 331.57 2195.61 331.57 Q2192.3 331.57 2190.38 333.77 Q2188.46 335.969 2188.46 339.765 L2188.46 354.418 L2184.17 354.418 L2184.17 338.908 Q2184.17 335.158 2182.85 333.376 Q2181.53 331.57 2178.78 331.57 Q2175.52 331.57 2173.59 333.793 Q2171.67 335.992 2171.67 339.765 L2171.67 354.418 L2167.39 354.418 L2167.39 328.492 L2171.67 328.492 L2171.67 332.52 Q2173.13 330.135 2175.17 329.001 Q2177.21 327.867 2180.01 327.867 Q2182.83 327.867 2184.8 329.302 Q2186.79 330.737 2187.74 333.469 Z\" fill=\"#000000\" fill-rule=\"evenodd\" fill-opacity=\"1\" /><path clip-path=\"url(#clip570)\" d=\"M 0 0 M2226.77 341.154 Q2226.77 336.524 2224.84 333.978 Q2222.95 331.432 2219.5 331.432 Q2216.07 331.432 2214.15 333.978 Q2212.25 336.524 2212.25 341.154 Q2212.25 345.76 2214.15 348.306 Q2216.07 350.853 2219.5 350.853 Q2222.95 350.853 2224.84 348.306 Q2226.77 345.76 2226.77 341.154 M2231.02 351.2 Q2231.02 357.82 2228.09 361.038 Q2225.15 364.279 2219.08 364.279 Q2216.84 364.279 2214.84 363.931 Q2212.85 363.607 2210.98 362.913 L2210.98 358.769 Q2212.85 359.788 2214.68 360.274 Q2216.51 360.76 2218.41 360.76 Q2222.6 360.76 2224.68 358.561 Q2226.77 356.385 2226.77 351.964 L2226.77 349.857 Q2225.45 352.149 2223.39 353.283 Q2221.33 354.418 2218.46 354.418 Q2213.69 354.418 2210.77 350.783 Q2207.85 347.149 2207.85 341.154 Q2207.85 335.135 2210.77 331.501 Q2213.69 327.867 2218.46 327.867 Q2221.33 327.867 2223.39 329.001 Q2225.45 330.135 2226.77 332.427 L2226.77 328.492 L2231.02 328.492 L2231.02 351.2 Z\" fill=\"#000000\" fill-rule=\"evenodd\" fill-opacity=\"1\" /><polyline clip-path=\"url(#clip570)\" style=\"stroke:#ac8d18; stroke-width:4; stroke-opacity:1; fill:none\" stroke-dasharray=\"16, 10\" points=\"\n",
       "  1865.65,397.618 2011.73,397.618 \n",
       "  \"/>\n",
       "<path clip-path=\"url(#clip570)\" d=\"M 0 0 M2036.07 380.338 L2043.04 380.338 L2051.86 403.856 L2060.72 380.338 L2067.69 380.338 L2067.69 414.898 L2063.13 414.898 L2063.13 384.55 L2054.22 408.254 L2049.52 408.254 L2040.61 384.55 L2040.61 414.898 L2036.07 414.898 L2036.07 380.338 Z\" fill=\"#000000\" fill-rule=\"evenodd\" fill-opacity=\"1\" /><path clip-path=\"url(#clip570)\" d=\"M 0 0 M2067.55 380.338 L2096.79 380.338 L2096.79 384.273 L2084.52 384.273 L2084.52 414.898 L2079.82 414.898 L2079.82 384.273 L2067.55 384.273 L2067.55 380.338 Z\" fill=\"#000000\" fill-rule=\"evenodd\" fill-opacity=\"1\" /><path clip-path=\"url(#clip570)\" d=\"M 0 0 M2124.54 383 L2124.54 387.93 Q2122.18 385.731 2119.5 384.643 Q2116.84 383.555 2113.83 383.555 Q2107.9 383.555 2104.75 387.189 Q2101.6 390.8 2101.6 397.652 Q2101.6 404.481 2104.75 408.115 Q2107.9 411.726 2113.83 411.726 Q2116.84 411.726 2119.5 410.638 Q2122.18 409.55 2124.54 407.351 L2124.54 412.236 Q2122.09 413.902 2119.34 414.736 Q2116.6 415.569 2113.55 415.569 Q2105.7 415.569 2101.19 410.777 Q2096.67 405.962 2096.67 397.652 Q2096.67 389.319 2101.19 384.527 Q2105.7 379.713 2113.55 379.713 Q2116.65 379.713 2119.38 380.546 Q2122.14 381.356 2124.54 383 Z\" fill=\"#000000\" fill-rule=\"evenodd\" fill-opacity=\"1\" /></svg>\n"
      ]
     },
     "execution_count": 408,
     "metadata": {},
     "output_type": "execute_result"
    }
   ],
   "source": [
    "plot!(t_plot, fill(100, length(t_plot)), linestyle=:dash, label=\"MTC\")"
   ]
  },
  {
   "cell_type": "markdown",
   "metadata": {},
   "source": [
    "Można się teraz zastanowić po jakim czasie dla danej dawki należałoby ją powtórzyć. Będzie to moment gdy osiągniemy  minimalne stężenie hamujące ponieważ wtedy osiągniemy najmniejsze stężenie które będzie hamować rozwój naszych bakterii."
   ]
  },
  {
   "cell_type": "markdown",
   "metadata": {},
   "source": [
    "Skorzystamy w tym celu z wzoru $\\mathrm{ln}C  = \\mathrm{ln}C_0 -\\mathrm{K} \\cdot t $, wtedy:\n",
    "$$ t = \\frac{\\mathrm{ln}\\left(\\frac{C}{C_0}\\right)}{\\mathrm{K}} $$"
   ]
  },
  {
   "cell_type": "code",
   "execution_count": 409,
   "metadata": {},
   "outputs": [
    {
     "data": {
      "text/plain": [
       "time (generic function with 1 method)"
      ]
     },
     "execution_count": 409,
     "metadata": {},
     "output_type": "execute_result"
    }
   ],
   "source": [
    "function time(C, K, X₀, V)\n",
    "    return -log(C/beginC(X₀, V))/K\n",
    "end"
   ]
  },
  {
   "cell_type": "code",
   "execution_count": 410,
   "metadata": {},
   "outputs": [],
   "source": [
    "time₀ = time(MIC, K, X₀, V)\n",
    "time₃ = time(MIC, K, X₃, V);"
   ]
  },
  {
   "cell_type": "code",
   "execution_count": 411,
   "metadata": {},
   "outputs": [
    {
     "data": {
      "image/svg+xml": [
       "<?xml version=\"1.0\" encoding=\"utf-8\"?>\n",
       "<svg xmlns=\"http://www.w3.org/2000/svg\" xmlns:xlink=\"http://www.w3.org/1999/xlink\" width=\"600\" height=\"400\" viewBox=\"0 0 2400 1600\">\n",
       "<defs>\n",
       "  <clipPath id=\"clip610\">\n",
       "    <rect x=\"0\" y=\"0\" width=\"2400\" height=\"1600\"/>\n",
       "  </clipPath>\n",
       "</defs>\n",
       "<path clip-path=\"url(#clip610)\" d=\"\n",
       "M0 1600 L2400 1600 L2400 0 L0 0  Z\n",
       "  \" fill=\"#ffffff\" fill-rule=\"evenodd\" fill-opacity=\"1\"/>\n",
       "<defs>\n",
       "  <clipPath id=\"clip611\">\n",
       "    <rect x=\"480\" y=\"0\" width=\"1681\" height=\"1600\"/>\n",
       "  </clipPath>\n",
       "</defs>\n",
       "<path clip-path=\"url(#clip610)\" d=\"\n",
       "M161.598 1486.45 L2352.76 1486.45 L2352.76 47.2441 L161.598 47.2441  Z\n",
       "  \" fill=\"#ffffff\" fill-rule=\"evenodd\" fill-opacity=\"1\"/>\n",
       "<defs>\n",
       "  <clipPath id=\"clip612\">\n",
       "    <rect x=\"161\" y=\"47\" width=\"2192\" height=\"1440\"/>\n",
       "  </clipPath>\n",
       "</defs>\n",
       "<polyline clip-path=\"url(#clip612)\" style=\"stroke:#000000; stroke-width:2; stroke-opacity:0.1; fill:none\" points=\"\n",
       "  223.612,1486.45 223.612,47.2441 \n",
       "  \"/>\n",
       "<polyline clip-path=\"url(#clip612)\" style=\"stroke:#000000; stroke-width:2; stroke-opacity:0.1; fill:none\" points=\"\n",
       "  740.395,1486.45 740.395,47.2441 \n",
       "  \"/>\n",
       "<polyline clip-path=\"url(#clip612)\" style=\"stroke:#000000; stroke-width:2; stroke-opacity:0.1; fill:none\" points=\"\n",
       "  1257.18,1486.45 1257.18,47.2441 \n",
       "  \"/>\n",
       "<polyline clip-path=\"url(#clip612)\" style=\"stroke:#000000; stroke-width:2; stroke-opacity:0.1; fill:none\" points=\"\n",
       "  1773.96,1486.45 1773.96,47.2441 \n",
       "  \"/>\n",
       "<polyline clip-path=\"url(#clip612)\" style=\"stroke:#000000; stroke-width:2; stroke-opacity:0.1; fill:none\" points=\"\n",
       "  2290.74,1486.45 2290.74,47.2441 \n",
       "  \"/>\n",
       "<polyline clip-path=\"url(#clip610)\" style=\"stroke:#000000; stroke-width:4; stroke-opacity:1; fill:none\" points=\"\n",
       "  161.598,1486.45 2352.76,1486.45 \n",
       "  \"/>\n",
       "<polyline clip-path=\"url(#clip610)\" style=\"stroke:#000000; stroke-width:4; stroke-opacity:1; fill:none\" points=\"\n",
       "  223.612,1486.45 223.612,1469.18 \n",
       "  \"/>\n",
       "<polyline clip-path=\"url(#clip610)\" style=\"stroke:#000000; stroke-width:4; stroke-opacity:1; fill:none\" points=\"\n",
       "  740.395,1486.45 740.395,1469.18 \n",
       "  \"/>\n",
       "<polyline clip-path=\"url(#clip610)\" style=\"stroke:#000000; stroke-width:4; stroke-opacity:1; fill:none\" points=\"\n",
       "  1257.18,1486.45 1257.18,1469.18 \n",
       "  \"/>\n",
       "<polyline clip-path=\"url(#clip610)\" style=\"stroke:#000000; stroke-width:4; stroke-opacity:1; fill:none\" points=\"\n",
       "  1773.96,1486.45 1773.96,1469.18 \n",
       "  \"/>\n",
       "<polyline clip-path=\"url(#clip610)\" style=\"stroke:#000000; stroke-width:4; stroke-opacity:1; fill:none\" points=\"\n",
       "  2290.74,1486.45 2290.74,1469.18 \n",
       "  \"/>\n",
       "<path clip-path=\"url(#clip610)\" d=\"M 0 0 M223.612 1515.64 Q220.001 1515.64 218.172 1519.2 Q216.367 1522.75 216.367 1529.87 Q216.367 1536.98 218.172 1540.55 Q220.001 1544.09 223.612 1544.09 Q227.246 1544.09 229.052 1540.55 Q230.881 1536.98 230.881 1529.87 Q230.881 1522.75 229.052 1519.2 Q227.246 1515.64 223.612 1515.64 M223.612 1511.93 Q229.422 1511.93 232.478 1516.54 Q235.556 1521.12 235.556 1529.87 Q235.556 1538.6 232.478 1543.21 Q229.422 1547.79 223.612 1547.79 Q217.802 1547.79 214.723 1543.21 Q211.668 1538.6 211.668 1529.87 Q211.668 1521.12 214.723 1516.54 Q217.802 1511.93 223.612 1511.93 Z\" fill=\"#000000\" fill-rule=\"evenodd\" fill-opacity=\"1\" /><path clip-path=\"url(#clip610)\" d=\"M 0 0 M730.777 1543.18 L738.415 1543.18 L738.415 1516.82 L730.105 1518.49 L730.105 1514.23 L738.369 1512.56 L743.045 1512.56 L743.045 1543.18 L750.684 1543.18 L750.684 1547.12 L730.777 1547.12 L730.777 1543.18 Z\" fill=\"#000000\" fill-rule=\"evenodd\" fill-opacity=\"1\" /><path clip-path=\"url(#clip610)\" d=\"M 0 0 M1251.83 1543.18 L1268.15 1543.18 L1268.15 1547.12 L1246.2 1547.12 L1246.2 1543.18 Q1248.87 1540.43 1253.45 1535.8 Q1258.06 1531.15 1259.24 1529.81 Q1261.48 1527.28 1262.36 1525.55 Q1263.26 1523.79 1263.26 1522.1 Q1263.26 1519.34 1261.32 1517.61 Q1259.4 1515.87 1256.3 1515.87 Q1254.1 1515.87 1251.64 1516.63 Q1249.21 1517.4 1246.44 1518.95 L1246.44 1514.23 Q1249.26 1513.09 1251.71 1512.51 Q1254.17 1511.93 1256.2 1511.93 Q1261.58 1511.93 1264.77 1514.62 Q1267.96 1517.31 1267.96 1521.8 Q1267.96 1523.93 1267.15 1525.85 Q1266.37 1527.74 1264.26 1530.34 Q1263.68 1531.01 1260.58 1534.23 Q1257.48 1537.42 1251.83 1543.18 Z\" fill=\"#000000\" fill-rule=\"evenodd\" fill-opacity=\"1\" /><path clip-path=\"url(#clip610)\" d=\"M 0 0 M1778.21 1528.49 Q1781.56 1529.2 1783.44 1531.47 Q1785.34 1533.74 1785.34 1537.07 Q1785.34 1542.19 1781.82 1544.99 Q1778.3 1547.79 1771.82 1547.79 Q1769.64 1547.79 1767.33 1547.35 Q1765.04 1546.93 1762.58 1546.08 L1762.58 1541.56 Q1764.53 1542.7 1766.84 1543.28 Q1769.16 1543.86 1771.68 1543.86 Q1776.08 1543.86 1778.37 1542.12 Q1780.68 1540.38 1780.68 1537.07 Q1780.68 1534.02 1778.53 1532.31 Q1776.4 1530.57 1772.58 1530.57 L1768.55 1530.57 L1768.55 1526.73 L1772.77 1526.73 Q1776.22 1526.73 1778.05 1525.36 Q1779.87 1523.97 1779.87 1521.38 Q1779.87 1518.72 1777.98 1517.31 Q1776.1 1515.87 1772.58 1515.87 Q1770.66 1515.87 1768.46 1516.29 Q1766.26 1516.7 1763.62 1517.58 L1763.62 1513.42 Q1766.29 1512.68 1768.6 1512.31 Q1770.94 1511.93 1773 1511.93 Q1778.32 1511.93 1781.42 1514.37 Q1784.53 1516.77 1784.53 1520.89 Q1784.53 1523.76 1782.88 1525.75 Q1781.24 1527.72 1778.21 1528.49 Z\" fill=\"#000000\" fill-rule=\"evenodd\" fill-opacity=\"1\" /><path clip-path=\"url(#clip610)\" d=\"M 0 0 M2293.75 1516.63 L2281.95 1535.08 L2293.75 1535.08 L2293.75 1516.63 M2292.52 1512.56 L2298.4 1512.56 L2298.4 1535.08 L2303.33 1535.08 L2303.33 1538.97 L2298.4 1538.97 L2298.4 1547.12 L2293.75 1547.12 L2293.75 1538.97 L2278.15 1538.97 L2278.15 1534.46 L2292.52 1512.56 Z\" fill=\"#000000\" fill-rule=\"evenodd\" fill-opacity=\"1\" /><polyline clip-path=\"url(#clip612)\" style=\"stroke:#000000; stroke-width:2; stroke-opacity:0.1; fill:none\" points=\"\n",
       "  161.598,1447.04 2352.76,1447.04 \n",
       "  \"/>\n",
       "<polyline clip-path=\"url(#clip612)\" style=\"stroke:#000000; stroke-width:2; stroke-opacity:0.1; fill:none\" points=\"\n",
       "  161.598,1235.85 2352.76,1235.85 \n",
       "  \"/>\n",
       "<polyline clip-path=\"url(#clip612)\" style=\"stroke:#000000; stroke-width:2; stroke-opacity:0.1; fill:none\" points=\"\n",
       "  161.598,1024.65 2352.76,1024.65 \n",
       "  \"/>\n",
       "<polyline clip-path=\"url(#clip612)\" style=\"stroke:#000000; stroke-width:2; stroke-opacity:0.1; fill:none\" points=\"\n",
       "  161.598,813.447 2352.76,813.447 \n",
       "  \"/>\n",
       "<polyline clip-path=\"url(#clip612)\" style=\"stroke:#000000; stroke-width:2; stroke-opacity:0.1; fill:none\" points=\"\n",
       "  161.598,602.248 2352.76,602.248 \n",
       "  \"/>\n",
       "<polyline clip-path=\"url(#clip612)\" style=\"stroke:#000000; stroke-width:2; stroke-opacity:0.1; fill:none\" points=\"\n",
       "  161.598,391.048 2352.76,391.048 \n",
       "  \"/>\n",
       "<polyline clip-path=\"url(#clip612)\" style=\"stroke:#000000; stroke-width:2; stroke-opacity:0.1; fill:none\" points=\"\n",
       "  161.598,179.849 2352.76,179.849 \n",
       "  \"/>\n",
       "<polyline clip-path=\"url(#clip610)\" style=\"stroke:#000000; stroke-width:4; stroke-opacity:1; fill:none\" points=\"\n",
       "  161.598,1486.45 161.598,47.2441 \n",
       "  \"/>\n",
       "<polyline clip-path=\"url(#clip610)\" style=\"stroke:#000000; stroke-width:4; stroke-opacity:1; fill:none\" points=\"\n",
       "  161.598,1447.04 187.892,1447.04 \n",
       "  \"/>\n",
       "<polyline clip-path=\"url(#clip610)\" style=\"stroke:#000000; stroke-width:4; stroke-opacity:1; fill:none\" points=\"\n",
       "  161.598,1235.85 187.892,1235.85 \n",
       "  \"/>\n",
       "<polyline clip-path=\"url(#clip610)\" style=\"stroke:#000000; stroke-width:4; stroke-opacity:1; fill:none\" points=\"\n",
       "  161.598,1024.65 187.892,1024.65 \n",
       "  \"/>\n",
       "<polyline clip-path=\"url(#clip610)\" style=\"stroke:#000000; stroke-width:4; stroke-opacity:1; fill:none\" points=\"\n",
       "  161.598,813.447 187.892,813.447 \n",
       "  \"/>\n",
       "<polyline clip-path=\"url(#clip610)\" style=\"stroke:#000000; stroke-width:4; stroke-opacity:1; fill:none\" points=\"\n",
       "  161.598,602.248 187.892,602.248 \n",
       "  \"/>\n",
       "<polyline clip-path=\"url(#clip610)\" style=\"stroke:#000000; stroke-width:4; stroke-opacity:1; fill:none\" points=\"\n",
       "  161.598,391.048 187.892,391.048 \n",
       "  \"/>\n",
       "<polyline clip-path=\"url(#clip610)\" style=\"stroke:#000000; stroke-width:4; stroke-opacity:1; fill:none\" points=\"\n",
       "  161.598,179.849 187.892,179.849 \n",
       "  \"/>\n",
       "<path clip-path=\"url(#clip610)\" d=\"M 0 0 M113.654 1432.84 Q110.043 1432.84 108.214 1436.41 Q106.408 1439.95 106.408 1447.08 Q106.408 1454.19 108.214 1457.75 Q110.043 1461.29 113.654 1461.29 Q117.288 1461.29 119.094 1457.75 Q120.922 1454.19 120.922 1447.08 Q120.922 1439.95 119.094 1436.41 Q117.288 1432.84 113.654 1432.84 M113.654 1429.14 Q119.464 1429.14 122.52 1433.75 Q125.598 1438.33 125.598 1447.08 Q125.598 1455.81 122.52 1460.41 Q119.464 1465 113.654 1465 Q107.844 1465 104.765 1460.41 Q101.709 1455.81 101.709 1447.08 Q101.709 1438.33 104.765 1433.75 Q107.844 1429.14 113.654 1429.14 Z\" fill=\"#000000\" fill-rule=\"evenodd\" fill-opacity=\"1\" /><path clip-path=\"url(#clip610)\" d=\"M 0 0 M82.2651 1249.19 L98.5845 1249.19 L98.5845 1253.13 L76.6401 1253.13 L76.6401 1249.19 Q79.3022 1246.44 83.8855 1241.81 Q88.4919 1237.15 89.6725 1235.81 Q91.9178 1233.29 92.7975 1231.55 Q93.7002 1229.79 93.7002 1228.1 Q93.7002 1225.35 91.7558 1223.61 Q89.8345 1221.88 86.7327 1221.88 Q84.5336 1221.88 82.0799 1222.64 Q79.6494 1223.4 76.8716 1224.95 L76.8716 1220.23 Q79.6957 1219.1 82.1494 1218.52 Q84.6031 1217.94 86.6401 1217.94 Q92.0104 1217.94 95.2049 1220.63 Q98.3993 1223.31 98.3993 1227.8 Q98.3993 1229.93 97.5891 1231.85 Q96.8021 1233.75 94.6956 1236.34 Q94.1169 1237.01 91.0151 1240.23 Q87.9132 1243.43 82.2651 1249.19 Z\" fill=\"#000000\" fill-rule=\"evenodd\" fill-opacity=\"1\" /><path clip-path=\"url(#clip610)\" d=\"M 0 0 M113.654 1221.64 Q110.043 1221.64 108.214 1225.21 Q106.408 1228.75 106.408 1235.88 Q106.408 1242.99 108.214 1246.55 Q110.043 1250.09 113.654 1250.09 Q117.288 1250.09 119.094 1246.55 Q120.922 1242.99 120.922 1235.88 Q120.922 1228.75 119.094 1225.21 Q117.288 1221.64 113.654 1221.64 M113.654 1217.94 Q119.464 1217.94 122.52 1222.55 Q125.598 1227.13 125.598 1235.88 Q125.598 1244.61 122.52 1249.21 Q119.464 1253.8 113.654 1253.8 Q107.844 1253.8 104.765 1249.21 Q101.709 1244.61 101.709 1235.88 Q101.709 1227.13 104.765 1222.55 Q107.844 1217.94 113.654 1217.94 Z\" fill=\"#000000\" fill-rule=\"evenodd\" fill-opacity=\"1\" /><path clip-path=\"url(#clip610)\" d=\"M 0 0 M89.0012 1011.44 L77.1957 1029.89 L89.0012 1029.89 L89.0012 1011.44 M87.7743 1007.37 L93.6539 1007.37 L93.6539 1029.89 L98.5845 1029.89 L98.5845 1033.78 L93.6539 1033.78 L93.6539 1041.93 L89.0012 1041.93 L89.0012 1033.78 L73.3994 1033.78 L73.3994 1029.26 L87.7743 1007.37 Z\" fill=\"#000000\" fill-rule=\"evenodd\" fill-opacity=\"1\" /><path clip-path=\"url(#clip610)\" d=\"M 0 0 M113.654 1010.44 Q110.043 1010.44 108.214 1014.01 Q106.408 1017.55 106.408 1024.68 Q106.408 1031.79 108.214 1035.35 Q110.043 1038.89 113.654 1038.89 Q117.288 1038.89 119.094 1035.35 Q120.922 1031.79 120.922 1024.68 Q120.922 1017.55 119.094 1014.01 Q117.288 1010.44 113.654 1010.44 M113.654 1006.74 Q119.464 1006.74 122.52 1011.35 Q125.598 1015.93 125.598 1024.68 Q125.598 1033.41 122.52 1038.01 Q119.464 1042.6 113.654 1042.6 Q107.844 1042.6 104.765 1038.01 Q101.709 1033.41 101.709 1024.68 Q101.709 1015.93 104.765 1011.35 Q107.844 1006.74 113.654 1006.74 Z\" fill=\"#000000\" fill-rule=\"evenodd\" fill-opacity=\"1\" /><path clip-path=\"url(#clip610)\" d=\"M 0 0 M87.0567 811.583 Q83.9086 811.583 82.0568 813.736 Q80.2281 815.889 80.2281 819.639 Q80.2281 823.366 82.0568 825.542 Q83.9086 827.695 87.0567 827.695 Q90.2049 827.695 92.0336 825.542 Q93.8854 823.366 93.8854 819.639 Q93.8854 815.889 92.0336 813.736 Q90.2049 811.583 87.0567 811.583 M96.3391 796.931 L96.3391 801.19 Q94.5799 800.357 92.7743 799.917 Q90.9919 799.477 89.2327 799.477 Q84.6031 799.477 82.1494 802.602 Q79.7188 805.727 79.3716 812.046 Q80.7373 810.033 82.7975 808.968 Q84.8577 807.88 87.3345 807.88 Q92.5428 807.88 95.5521 811.051 Q98.5845 814.199 98.5845 819.639 Q98.5845 824.963 95.4363 828.181 Q92.2882 831.398 87.0567 831.398 Q81.0614 831.398 77.8901 826.815 Q74.7189 822.208 74.7189 813.482 Q74.7189 805.287 78.6077 800.426 Q82.4966 795.542 89.0475 795.542 Q90.8067 795.542 92.5891 795.889 Q94.3947 796.236 96.3391 796.931 Z\" fill=\"#000000\" fill-rule=\"evenodd\" fill-opacity=\"1\" /><path clip-path=\"url(#clip610)\" d=\"M 0 0 M113.654 799.246 Q110.043 799.246 108.214 802.81 Q106.408 806.352 106.408 813.482 Q106.408 820.588 108.214 824.153 Q110.043 827.695 113.654 827.695 Q117.288 827.695 119.094 824.153 Q120.922 820.588 120.922 813.482 Q120.922 806.352 119.094 802.81 Q117.288 799.246 113.654 799.246 M113.654 795.542 Q119.464 795.542 122.52 800.148 Q125.598 804.732 125.598 813.482 Q125.598 822.208 122.52 826.815 Q119.464 831.398 113.654 831.398 Q107.844 831.398 104.765 826.815 Q101.709 822.208 101.709 813.482 Q101.709 804.732 104.765 800.148 Q107.844 795.542 113.654 795.542 Z\" fill=\"#000000\" fill-rule=\"evenodd\" fill-opacity=\"1\" /><path clip-path=\"url(#clip610)\" d=\"M 0 0 M86.7327 603.116 Q83.3994 603.116 81.4781 604.898 Q79.5799 606.681 79.5799 609.806 Q79.5799 612.931 81.4781 614.713 Q83.3994 616.495 86.7327 616.495 Q90.066 616.495 91.9873 614.713 Q93.9086 612.907 93.9086 609.806 Q93.9086 606.681 91.9873 604.898 Q90.0891 603.116 86.7327 603.116 M82.0568 601.125 Q79.0475 600.384 77.3577 598.324 Q75.6911 596.264 75.6911 593.301 Q75.6911 589.157 78.6309 586.75 Q81.5938 584.343 86.7327 584.343 Q91.8947 584.343 94.8345 586.75 Q97.7743 589.157 97.7743 593.301 Q97.7743 596.264 96.0845 598.324 Q94.4178 600.384 91.4317 601.125 Q94.8113 601.912 96.6863 604.204 Q98.5845 606.495 98.5845 609.806 Q98.5845 614.829 95.5058 617.514 Q92.4502 620.199 86.7327 620.199 Q81.0151 620.199 77.9364 617.514 Q74.8809 614.829 74.8809 609.806 Q74.8809 606.495 76.779 604.204 Q78.6772 601.912 82.0568 601.125 M80.3438 593.741 Q80.3438 596.426 82.0105 597.931 Q83.7003 599.435 86.7327 599.435 Q89.7419 599.435 91.4317 597.931 Q93.1447 596.426 93.1447 593.741 Q93.1447 591.056 91.4317 589.551 Q89.7419 588.046 86.7327 588.046 Q83.7003 588.046 82.0105 589.551 Q80.3438 591.056 80.3438 593.741 Z\" fill=\"#000000\" fill-rule=\"evenodd\" fill-opacity=\"1\" /><path clip-path=\"url(#clip610)\" d=\"M 0 0 M113.654 588.046 Q110.043 588.046 108.214 591.611 Q106.408 595.153 106.408 602.282 Q106.408 609.389 108.214 612.954 Q110.043 616.495 113.654 616.495 Q117.288 616.495 119.094 612.954 Q120.922 609.389 120.922 602.282 Q120.922 595.153 119.094 591.611 Q117.288 588.046 113.654 588.046 M113.654 584.343 Q119.464 584.343 122.52 588.949 Q125.598 593.532 125.598 602.282 Q125.598 611.009 122.52 615.616 Q119.464 620.199 113.654 620.199 Q107.844 620.199 104.765 615.616 Q101.709 611.009 101.709 602.282 Q101.709 593.532 104.765 588.949 Q107.844 584.343 113.654 584.343 Z\" fill=\"#000000\" fill-rule=\"evenodd\" fill-opacity=\"1\" /><path clip-path=\"url(#clip610)\" d=\"M 0 0 M51.6634 404.393 L59.3023 404.393 L59.3023 378.028 L50.9921 379.694 L50.9921 375.435 L59.256 373.768 L63.9319 373.768 L63.9319 404.393 L71.5707 404.393 L71.5707 408.328 L51.6634 408.328 L51.6634 404.393 Z\" fill=\"#000000\" fill-rule=\"evenodd\" fill-opacity=\"1\" /><path clip-path=\"url(#clip610)\" d=\"M 0 0 M86.6401 376.847 Q83.029 376.847 81.2003 380.412 Q79.3948 383.954 79.3948 391.083 Q79.3948 398.19 81.2003 401.754 Q83.029 405.296 86.6401 405.296 Q90.2743 405.296 92.0799 401.754 Q93.9086 398.19 93.9086 391.083 Q93.9086 383.954 92.0799 380.412 Q90.2743 376.847 86.6401 376.847 M86.6401 373.143 Q92.4502 373.143 95.5058 377.75 Q98.5845 382.333 98.5845 391.083 Q98.5845 399.81 95.5058 404.416 Q92.4502 409 86.6401 409 Q80.8299 409 77.7512 404.416 Q74.6957 399.81 74.6957 391.083 Q74.6957 382.333 77.7512 377.75 Q80.8299 373.143 86.6401 373.143 Z\" fill=\"#000000\" fill-rule=\"evenodd\" fill-opacity=\"1\" /><path clip-path=\"url(#clip610)\" d=\"M 0 0 M113.654 376.847 Q110.043 376.847 108.214 380.412 Q106.408 383.954 106.408 391.083 Q106.408 398.19 108.214 401.754 Q110.043 405.296 113.654 405.296 Q117.288 405.296 119.094 401.754 Q120.922 398.19 120.922 391.083 Q120.922 383.954 119.094 380.412 Q117.288 376.847 113.654 376.847 M113.654 373.143 Q119.464 373.143 122.52 377.75 Q125.598 382.333 125.598 391.083 Q125.598 399.81 122.52 404.416 Q119.464 409 113.654 409 Q107.844 409 104.765 404.416 Q101.709 399.81 101.709 391.083 Q101.709 382.333 104.765 377.75 Q107.844 373.143 113.654 373.143 Z\" fill=\"#000000\" fill-rule=\"evenodd\" fill-opacity=\"1\" /><path clip-path=\"url(#clip610)\" d=\"M 0 0 M53.2606 193.194 L60.8995 193.194 L60.8995 166.829 L52.5893 168.495 L52.5893 164.236 L60.8532 162.569 L65.5291 162.569 L65.5291 193.194 L73.1679 193.194 L73.1679 197.129 L53.2606 197.129 L53.2606 193.194 Z\" fill=\"#000000\" fill-rule=\"evenodd\" fill-opacity=\"1\" /><path clip-path=\"url(#clip610)\" d=\"M 0 0 M82.2651 193.194 L98.5845 193.194 L98.5845 197.129 L76.6401 197.129 L76.6401 193.194 Q79.3022 190.44 83.8855 185.81 Q88.4919 181.157 89.6725 179.815 Q91.9178 177.291 92.7975 175.555 Q93.7002 173.796 93.7002 172.106 Q93.7002 169.352 91.7558 167.616 Q89.8345 165.879 86.7327 165.879 Q84.5336 165.879 82.0799 166.643 Q79.6494 167.407 76.8716 168.958 L76.8716 164.236 Q79.6957 163.102 82.1494 162.523 Q84.6031 161.944 86.6401 161.944 Q92.0104 161.944 95.2049 164.629 Q98.3993 167.315 98.3993 171.805 Q98.3993 173.935 97.5891 175.856 Q96.8021 177.754 94.6956 180.347 Q94.1169 181.018 91.0151 184.236 Q87.9132 187.43 82.2651 193.194 Z\" fill=\"#000000\" fill-rule=\"evenodd\" fill-opacity=\"1\" /><path clip-path=\"url(#clip610)\" d=\"M 0 0 M113.654 165.648 Q110.043 165.648 108.214 169.213 Q106.408 172.754 106.408 179.884 Q106.408 186.99 108.214 190.555 Q110.043 194.097 113.654 194.097 Q117.288 194.097 119.094 190.555 Q120.922 186.99 120.922 179.884 Q120.922 172.754 119.094 169.213 Q117.288 165.648 113.654 165.648 M113.654 161.944 Q119.464 161.944 122.52 166.551 Q125.598 171.134 125.598 179.884 Q125.598 188.611 122.52 193.217 Q119.464 197.801 113.654 197.801 Q107.844 197.801 104.765 193.217 Q101.709 188.611 101.709 179.884 Q101.709 171.134 104.765 166.551 Q107.844 161.944 113.654 161.944 Z\" fill=\"#000000\" fill-rule=\"evenodd\" fill-opacity=\"1\" /><polyline clip-path=\"url(#clip612)\" style=\"stroke:#009af9; stroke-width:4; stroke-opacity:1; fill:none\" points=\"\n",
       "  223.612,767.51 275.29,855.458 326.969,932.023 378.647,998.679 430.325,1056.71 482.003,1107.23 533.682,1151.21 585.36,1189.5 637.038,1222.83 688.716,1251.85 \n",
       "  740.395,1277.11 792.073,1299.1 843.751,1318.25 895.429,1334.92 947.108,1349.43 998.786,1362.06 1050.46,1373.06 1102.14,1382.64 1153.82,1390.97 1205.5,1398.23 \n",
       "  1257.18,1404.55 1308.86,1410.05 1360.53,1414.84 1412.21,1419 1463.89,1422.63 1515.57,1425.79 1567.25,1428.54 1618.92,1430.94 1670.6,1433.02 1722.28,1434.84 \n",
       "  1773.96,1436.42 1825.64,1437.79 1877.32,1438.99 1928.99,1440.03 1980.67,1440.94 2032.35,1441.73 2084.03,1442.42 2135.71,1443.02 2187.39,1443.54 2239.06,1443.99 \n",
       "  2290.74,1444.39 \n",
       "  \"/>\n",
       "<polyline clip-path=\"url(#clip612)\" style=\"stroke:#e26f46; stroke-width:4; stroke-opacity:1; fill:none\" stroke-dasharray=\"16, 10\" points=\"\n",
       "  223.612,1394.24 275.29,1394.24 326.969,1394.24 378.647,1394.24 430.325,1394.24 482.003,1394.24 533.682,1394.24 585.36,1394.24 637.038,1394.24 688.716,1394.24 \n",
       "  740.395,1394.24 792.073,1394.24 843.751,1394.24 895.429,1394.24 947.108,1394.24 998.786,1394.24 1050.46,1394.24 1102.14,1394.24 1153.82,1394.24 1205.5,1394.24 \n",
       "  1257.18,1394.24 1308.86,1394.24 1360.53,1394.24 1412.21,1394.24 1463.89,1394.24 1515.57,1394.24 1567.25,1394.24 1618.92,1394.24 1670.6,1394.24 1722.28,1394.24 \n",
       "  1773.96,1394.24 1825.64,1394.24 1877.32,1394.24 1928.99,1394.24 1980.67,1394.24 2032.35,1394.24 2084.03,1394.24 2135.71,1394.24 2187.39,1394.24 2239.06,1394.24 \n",
       "  2290.74,1394.24 \n",
       "  \"/>\n",
       "<polyline clip-path=\"url(#clip612)\" style=\"stroke:#3da44d; stroke-width:4; stroke-opacity:1; fill:none\" points=\"\n",
       "  223.612,87.9763 275.29,263.871 326.969,417.002 378.647,550.313 430.325,666.371 482.003,767.409 533.682,855.37 585.36,931.946 637.038,998.612 688.716,1056.65 \n",
       "  740.395,1107.18 792.073,1151.16 843.751,1189.46 895.429,1222.79 947.108,1251.82 998.786,1277.08 1050.46,1299.08 1102.14,1318.23 1153.82,1334.9 1205.5,1349.42 \n",
       "  1257.18,1362.05 1308.86,1373.05 1360.53,1382.63 1412.21,1390.97 1463.89,1398.22 1515.57,1404.54 1567.25,1410.04 1618.92,1414.83 1670.6,1419 1722.28,1422.63 \n",
       "  1773.96,1425.79 1825.64,1428.54 1877.32,1430.94 1928.99,1433.02 1980.67,1434.84 2032.35,1436.42 2084.03,1437.79 2135.71,1438.99 2187.39,1440.03 2239.06,1440.94 \n",
       "  2290.74,1441.73 \n",
       "  \"/>\n",
       "<polyline clip-path=\"url(#clip612)\" style=\"stroke:#c271d2; stroke-width:4; stroke-opacity:1; fill:none\" points=\"\n",
       "  223.612,1107.28 275.29,1151.25 326.969,1189.53 378.647,1222.86 430.325,1251.88 482.003,1277.14 533.682,1299.13 585.36,1318.27 637.038,1334.94 688.716,1349.45 \n",
       "  740.395,1362.08 792.073,1373.07 843.751,1382.65 895.429,1390.98 947.108,1398.24 998.786,1404.55 1050.46,1410.05 1102.14,1414.84 1153.82,1419.01 1205.5,1422.64 \n",
       "  1257.18,1425.8 1308.86,1428.55 1360.53,1430.94 1412.21,1433.02 1463.89,1434.84 1515.57,1436.42 1567.25,1437.79 1618.92,1438.99 1670.6,1440.03 1722.28,1440.94 \n",
       "  1773.96,1441.73 1825.64,1442.42 1877.32,1443.02 1928.99,1443.54 1980.67,1443.99 2032.35,1444.39 2084.03,1444.73 2135.71,1445.03 2187.39,1445.29 2239.06,1445.52 \n",
       "  2290.74,1445.72 \n",
       "  \"/>\n",
       "<polyline clip-path=\"url(#clip612)\" style=\"stroke:#ac8d18; stroke-width:4; stroke-opacity:1; fill:none\" stroke-dasharray=\"16, 10\" points=\"\n",
       "  223.612,391.048 275.29,391.048 326.969,391.048 378.647,391.048 430.325,391.048 482.003,391.048 533.682,391.048 585.36,391.048 637.038,391.048 688.716,391.048 \n",
       "  740.395,391.048 792.073,391.048 843.751,391.048 895.429,391.048 947.108,391.048 998.786,391.048 1050.46,391.048 1102.14,391.048 1153.82,391.048 1205.5,391.048 \n",
       "  1257.18,391.048 1308.86,391.048 1360.53,391.048 1412.21,391.048 1463.89,391.048 1515.57,391.048 1567.25,391.048 1618.92,391.048 1670.6,391.048 1722.28,391.048 \n",
       "  1773.96,391.048 1825.64,391.048 1877.32,391.048 1928.99,391.048 1980.67,391.048 2032.35,391.048 2084.03,391.048 2135.71,391.048 2187.39,391.048 2239.06,391.048 \n",
       "  2290.74,391.048 \n",
       "  \"/>\n",
       "<circle clip-path=\"url(#clip612)\" cx=\"1176.23\" cy=\"1394.24\" r=\"10\" fill=\"#ffff00\" fill-rule=\"evenodd\" fill-opacity=\"1\" stroke=\"#000000\" stroke-opacity=\"1\" stroke-width=\"3.2\"/>\n",
       "<circle clip-path=\"url(#clip612)\" cx=\"917.783\" cy=\"1394.24\" r=\"10\" fill=\"#ffc0cb\" fill-rule=\"evenodd\" fill-opacity=\"1\" stroke=\"#000000\" stroke-opacity=\"1\" stroke-width=\"3.2\"/>\n",
       "<path clip-path=\"url(#clip610)\" d=\"\n",
       "M1841.3 579.058 L2279.72 579.058 L2279.72 95.2176 L1841.3 95.2176  Z\n",
       "  \" fill=\"#ffffff\" fill-rule=\"evenodd\" fill-opacity=\"1\"/>\n",
       "<polyline clip-path=\"url(#clip610)\" style=\"stroke:#000000; stroke-width:4; stroke-opacity:1; fill:none\" points=\"\n",
       "  1841.3,579.058 2279.72,579.058 2279.72,95.2176 1841.3,95.2176 1841.3,579.058 \n",
       "  \"/>\n",
       "<polyline clip-path=\"url(#clip610)\" style=\"stroke:#009af9; stroke-width:4; stroke-opacity:1; fill:none\" points=\"\n",
       "  1865.65,155.698 2011.73,155.698 \n",
       "  \"/>\n",
       "<path clip-path=\"url(#clip610)\" d=\"M 0 0 M2037.53 138.418 L2055.89 138.418 L2055.89 142.353 L2041.81 142.353 L2041.81 150.825 Q2042.83 150.478 2043.85 150.316 Q2044.87 150.13 2045.89 150.13 Q2051.67 150.13 2055.05 153.302 Q2058.43 156.473 2058.43 161.89 Q2058.43 167.468 2054.96 170.57 Q2051.49 173.649 2045.17 173.649 Q2042.99 173.649 2040.73 173.278 Q2038.48 172.908 2036.07 172.167 L2036.07 167.468 Q2038.16 168.603 2040.38 169.158 Q2042.6 169.714 2045.08 169.714 Q2049.08 169.714 2051.42 167.607 Q2053.76 165.501 2053.76 161.89 Q2053.76 158.279 2051.42 156.172 Q2049.08 154.066 2045.08 154.066 Q2043.2 154.066 2041.33 154.482 Q2039.48 154.899 2037.53 155.779 L2037.53 138.418 Z\" fill=\"#000000\" fill-rule=\"evenodd\" fill-opacity=\"1\" /><path clip-path=\"url(#clip610)\" d=\"M 0 0 M2073.5 141.496 Q2069.89 141.496 2068.06 145.061 Q2066.26 148.603 2066.26 155.732 Q2066.26 162.839 2068.06 166.404 Q2069.89 169.945 2073.5 169.945 Q2077.14 169.945 2078.94 166.404 Q2080.77 162.839 2080.77 155.732 Q2080.77 148.603 2078.94 145.061 Q2077.14 141.496 2073.5 141.496 M2073.5 137.793 Q2079.31 137.793 2082.37 142.399 Q2085.45 146.982 2085.45 155.732 Q2085.45 164.459 2082.37 169.066 Q2079.31 173.649 2073.5 173.649 Q2067.69 173.649 2064.61 169.066 Q2061.56 164.459 2061.56 155.732 Q2061.56 146.982 2064.61 142.399 Q2067.69 137.793 2073.5 137.793 Z\" fill=\"#000000\" fill-rule=\"evenodd\" fill-opacity=\"1\" /><path clip-path=\"url(#clip610)\" d=\"M 0 0 M2100.52 141.496 Q2096.91 141.496 2095.08 145.061 Q2093.27 148.603 2093.27 155.732 Q2093.27 162.839 2095.08 166.404 Q2096.91 169.945 2100.52 169.945 Q2104.15 169.945 2105.96 166.404 Q2107.78 162.839 2107.78 155.732 Q2107.78 148.603 2105.96 145.061 Q2104.15 141.496 2100.52 141.496 M2100.52 137.793 Q2106.33 137.793 2109.38 142.399 Q2112.46 146.982 2112.46 155.732 Q2112.46 164.459 2109.38 169.066 Q2106.33 173.649 2100.52 173.649 Q2094.71 173.649 2091.63 169.066 Q2088.57 164.459 2088.57 155.732 Q2088.57 146.982 2091.63 142.399 Q2094.71 137.793 2100.52 137.793 Z\" fill=\"#000000\" fill-rule=\"evenodd\" fill-opacity=\"1\" /><path clip-path=\"url(#clip610)\" d=\"M 0 0 M2152.18 152.029 Q2153.78 149.158 2156 147.793 Q2158.22 146.427 2161.23 146.427 Q2165.28 146.427 2167.48 149.274 Q2169.68 152.098 2169.68 157.329 L2169.68 172.978 L2165.4 172.978 L2165.4 157.468 Q2165.4 153.742 2164.08 151.936 Q2162.76 150.13 2160.05 150.13 Q2156.74 150.13 2154.82 152.33 Q2152.9 154.529 2152.9 158.325 L2152.9 172.978 L2148.62 172.978 L2148.62 157.468 Q2148.62 153.718 2147.3 151.936 Q2145.98 150.13 2143.22 150.13 Q2139.96 150.13 2138.04 152.353 Q2136.12 154.552 2136.12 158.325 L2136.12 172.978 L2131.84 172.978 L2131.84 147.052 L2136.12 147.052 L2136.12 151.08 Q2137.58 148.695 2139.61 147.561 Q2141.65 146.427 2144.45 146.427 Q2147.28 146.427 2149.24 147.862 Q2151.23 149.297 2152.18 152.029 Z\" fill=\"#000000\" fill-rule=\"evenodd\" fill-opacity=\"1\" /><path clip-path=\"url(#clip610)\" d=\"M 0 0 M2191.21 159.714 Q2191.21 155.084 2189.29 152.538 Q2187.39 149.992 2183.94 149.992 Q2180.52 149.992 2178.59 152.538 Q2176.7 155.084 2176.7 159.714 Q2176.7 164.32 2178.59 166.866 Q2180.52 169.413 2183.94 169.413 Q2187.39 169.413 2189.29 166.866 Q2191.21 164.32 2191.21 159.714 M2195.47 169.76 Q2195.47 176.38 2192.53 179.598 Q2189.59 182.839 2183.53 182.839 Q2181.28 182.839 2179.29 182.491 Q2177.3 182.167 2175.42 181.473 L2175.42 177.329 Q2177.3 178.348 2179.13 178.834 Q2180.96 179.32 2182.85 179.32 Q2187.04 179.32 2189.13 177.121 Q2191.21 174.945 2191.21 170.524 L2191.21 168.417 Q2189.89 170.709 2187.83 171.843 Q2185.77 172.978 2182.9 172.978 Q2178.13 172.978 2175.22 169.343 Q2172.3 165.709 2172.3 159.714 Q2172.3 153.695 2175.22 150.061 Q2178.13 146.427 2182.9 146.427 Q2185.77 146.427 2187.83 147.561 Q2189.89 148.695 2191.21 150.987 L2191.21 147.052 L2195.47 147.052 L2195.47 169.76 Z\" fill=\"#000000\" fill-rule=\"evenodd\" fill-opacity=\"1\" /><polyline clip-path=\"url(#clip610)\" style=\"stroke:#e26f46; stroke-width:4; stroke-opacity:1; fill:none\" stroke-dasharray=\"16, 10\" points=\"\n",
       "  1865.65,216.178 2011.73,216.178 \n",
       "  \"/>\n",
       "<path clip-path=\"url(#clip610)\" d=\"M 0 0 M2036.07 198.898 L2043.04 198.898 L2051.86 222.416 L2060.72 198.898 L2067.69 198.898 L2067.69 233.458 L2063.13 233.458 L2063.13 203.11 L2054.22 226.814 L2049.52 226.814 L2040.61 203.11 L2040.61 233.458 L2036.07 233.458 L2036.07 198.898 Z\" fill=\"#000000\" fill-rule=\"evenodd\" fill-opacity=\"1\" /><path clip-path=\"url(#clip610)\" d=\"M 0 0 M2072.35 198.898 L2077.02 198.898 L2077.02 233.458 L2072.35 233.458 L2072.35 198.898 Z\" fill=\"#000000\" fill-rule=\"evenodd\" fill-opacity=\"1\" /><path clip-path=\"url(#clip610)\" d=\"M 0 0 M2107.55 201.56 L2107.55 206.49 Q2105.19 204.291 2102.51 203.203 Q2099.85 202.115 2096.84 202.115 Q2090.91 202.115 2087.76 205.749 Q2084.61 209.36 2084.61 216.212 Q2084.61 223.041 2087.76 226.675 Q2090.91 230.286 2096.84 230.286 Q2099.85 230.286 2102.51 229.198 Q2105.19 228.11 2107.55 225.911 L2107.55 230.796 Q2105.1 232.462 2102.35 233.296 Q2099.61 234.129 2096.56 234.129 Q2088.71 234.129 2084.2 229.337 Q2079.68 224.522 2079.68 216.212 Q2079.68 207.879 2084.2 203.087 Q2088.71 198.273 2096.56 198.273 Q2099.66 198.273 2102.39 199.106 Q2105.15 199.916 2107.55 201.56 Z\" fill=\"#000000\" fill-rule=\"evenodd\" fill-opacity=\"1\" /><polyline clip-path=\"url(#clip610)\" style=\"stroke:#3da44d; stroke-width:4; stroke-opacity:1; fill:none\" points=\"\n",
       "  1865.65,276.658 2011.73,276.658 \n",
       "  \"/>\n",
       "<path clip-path=\"url(#clip610)\" d=\"M 0 0 M2036.74 290.002 L2044.38 290.002 L2044.38 263.637 L2036.07 265.303 L2036.07 261.044 L2044.34 259.378 L2049.01 259.378 L2049.01 290.002 L2056.65 290.002 L2056.65 293.938 L2036.74 293.938 L2036.74 290.002 Z\" fill=\"#000000\" fill-rule=\"evenodd\" fill-opacity=\"1\" /><path clip-path=\"url(#clip610)\" d=\"M 0 0 M2071.72 262.456 Q2068.11 262.456 2066.28 266.021 Q2064.47 269.563 2064.47 276.692 Q2064.47 283.799 2066.28 287.364 Q2068.11 290.905 2071.72 290.905 Q2075.35 290.905 2077.16 287.364 Q2078.99 283.799 2078.99 276.692 Q2078.99 269.563 2077.16 266.021 Q2075.35 262.456 2071.72 262.456 M2071.72 258.753 Q2077.53 258.753 2080.59 263.359 Q2083.66 267.942 2083.66 276.692 Q2083.66 285.419 2080.59 290.026 Q2077.53 294.609 2071.72 294.609 Q2065.91 294.609 2062.83 290.026 Q2059.78 285.419 2059.78 276.692 Q2059.78 267.942 2062.83 263.359 Q2065.91 258.753 2071.72 258.753 Z\" fill=\"#000000\" fill-rule=\"evenodd\" fill-opacity=\"1\" /><path clip-path=\"url(#clip610)\" d=\"M 0 0 M2098.73 262.456 Q2095.12 262.456 2093.29 266.021 Q2091.49 269.563 2091.49 276.692 Q2091.49 283.799 2093.29 287.364 Q2095.12 290.905 2098.73 290.905 Q2102.37 290.905 2104.17 287.364 Q2106 283.799 2106 276.692 Q2106 269.563 2104.17 266.021 Q2102.37 262.456 2098.73 262.456 M2098.73 258.753 Q2104.54 258.753 2107.6 263.359 Q2110.68 267.942 2110.68 276.692 Q2110.68 285.419 2107.6 290.026 Q2104.54 294.609 2098.73 294.609 Q2092.92 294.609 2089.85 290.026 Q2086.79 285.419 2086.79 276.692 Q2086.79 267.942 2089.85 263.359 Q2092.92 258.753 2098.73 258.753 Z\" fill=\"#000000\" fill-rule=\"evenodd\" fill-opacity=\"1\" /><path clip-path=\"url(#clip610)\" d=\"M 0 0 M2125.75 262.456 Q2122.14 262.456 2120.31 266.021 Q2118.5 269.563 2118.5 276.692 Q2118.5 283.799 2120.31 287.364 Q2122.14 290.905 2125.75 290.905 Q2129.38 290.905 2131.19 287.364 Q2133.02 283.799 2133.02 276.692 Q2133.02 269.563 2131.19 266.021 Q2129.38 262.456 2125.75 262.456 M2125.75 258.753 Q2131.56 258.753 2134.61 263.359 Q2137.69 267.942 2137.69 276.692 Q2137.69 285.419 2134.61 290.026 Q2131.56 294.609 2125.75 294.609 Q2119.94 294.609 2116.86 290.026 Q2113.8 285.419 2113.8 276.692 Q2113.8 267.942 2116.86 263.359 Q2119.94 258.753 2125.75 258.753 Z\" fill=\"#000000\" fill-rule=\"evenodd\" fill-opacity=\"1\" /><path clip-path=\"url(#clip610)\" d=\"M 0 0 M2177.41 272.989 Q2179.01 270.118 2181.23 268.753 Q2183.46 267.387 2186.46 267.387 Q2190.52 267.387 2192.71 270.234 Q2194.91 273.058 2194.91 278.289 L2194.91 293.938 L2190.63 293.938 L2190.63 278.428 Q2190.63 274.702 2189.31 272.896 Q2187.99 271.09 2185.28 271.09 Q2181.97 271.09 2180.05 273.29 Q2178.13 275.489 2178.13 279.285 L2178.13 293.938 L2173.85 293.938 L2173.85 278.428 Q2173.85 274.678 2172.53 272.896 Q2171.21 271.09 2168.46 271.09 Q2165.19 271.09 2163.27 273.313 Q2161.35 275.512 2161.35 279.285 L2161.35 293.938 L2157.07 293.938 L2157.07 268.012 L2161.35 268.012 L2161.35 272.04 Q2162.81 269.655 2164.84 268.521 Q2166.88 267.387 2169.68 267.387 Q2172.51 267.387 2174.47 268.822 Q2176.47 270.257 2177.41 272.989 Z\" fill=\"#000000\" fill-rule=\"evenodd\" fill-opacity=\"1\" /><path clip-path=\"url(#clip610)\" d=\"M 0 0 M2216.44 280.674 Q2216.44 276.044 2214.52 273.498 Q2212.62 270.952 2209.17 270.952 Q2205.75 270.952 2203.83 273.498 Q2201.93 276.044 2201.93 280.674 Q2201.93 285.28 2203.83 287.826 Q2205.75 290.373 2209.17 290.373 Q2212.62 290.373 2214.52 287.826 Q2216.44 285.28 2216.44 280.674 M2220.7 290.72 Q2220.7 297.34 2217.76 300.558 Q2214.82 303.799 2208.76 303.799 Q2206.51 303.799 2204.52 303.451 Q2202.53 303.127 2200.65 302.433 L2200.65 298.289 Q2202.53 299.308 2204.36 299.794 Q2206.19 300.28 2208.09 300.28 Q2212.28 300.28 2214.36 298.081 Q2216.44 295.905 2216.44 291.484 L2216.44 289.377 Q2215.12 291.669 2213.06 292.803 Q2211 293.938 2208.13 293.938 Q2203.36 293.938 2200.45 290.303 Q2197.53 286.669 2197.53 280.674 Q2197.53 274.655 2200.45 271.021 Q2203.36 267.387 2208.13 267.387 Q2211 267.387 2213.06 268.521 Q2215.12 269.655 2216.44 271.947 L2216.44 268.012 L2220.7 268.012 L2220.7 290.72 Z\" fill=\"#000000\" fill-rule=\"evenodd\" fill-opacity=\"1\" /><polyline clip-path=\"url(#clip610)\" style=\"stroke:#c271d2; stroke-width:4; stroke-opacity:1; fill:none\" points=\"\n",
       "  1865.65,337.138 2011.73,337.138 \n",
       "  \"/>\n",
       "<path clip-path=\"url(#clip610)\" d=\"M 0 0 M2041.7 350.482 L2058.02 350.482 L2058.02 354.418 L2036.07 354.418 L2036.07 350.482 Q2038.73 347.728 2043.32 343.098 Q2047.92 338.445 2049.1 337.103 Q2051.35 334.58 2052.23 332.844 Q2053.13 331.084 2053.13 329.395 Q2053.13 326.64 2051.19 324.904 Q2049.27 323.168 2046.16 323.168 Q2043.97 323.168 2041.51 323.932 Q2039.08 324.695 2036.3 326.246 L2036.3 321.524 Q2039.13 320.39 2041.58 319.811 Q2044.04 319.233 2046.07 319.233 Q2051.44 319.233 2054.64 321.918 Q2057.83 324.603 2057.83 329.094 Q2057.83 331.223 2057.02 333.145 Q2056.23 335.043 2054.13 337.635 Q2053.55 338.307 2050.45 341.524 Q2047.35 344.719 2041.7 350.482 Z\" fill=\"#000000\" fill-rule=\"evenodd\" fill-opacity=\"1\" /><path clip-path=\"url(#clip610)\" d=\"M 0 0 M2063.13 319.858 L2081.49 319.858 L2081.49 323.793 L2067.41 323.793 L2067.41 332.265 Q2068.43 331.918 2069.45 331.756 Q2070.47 331.57 2071.49 331.57 Q2077.28 331.57 2080.66 334.742 Q2084.03 337.913 2084.03 343.33 Q2084.03 348.908 2080.56 352.01 Q2077.09 355.089 2070.77 355.089 Q2068.6 355.089 2066.33 354.718 Q2064.08 354.348 2061.67 353.607 L2061.67 348.908 Q2063.76 350.043 2065.98 350.598 Q2068.2 351.154 2070.68 351.154 Q2074.68 351.154 2077.02 349.047 Q2079.36 346.941 2079.36 343.33 Q2079.36 339.719 2077.02 337.612 Q2074.68 335.506 2070.68 335.506 Q2068.8 335.506 2066.93 335.922 Q2065.08 336.339 2063.13 337.219 L2063.13 319.858 Z\" fill=\"#000000\" fill-rule=\"evenodd\" fill-opacity=\"1\" /><path clip-path=\"url(#clip610)\" d=\"M 0 0 M2099.1 322.936 Q2095.49 322.936 2093.66 326.501 Q2091.86 330.043 2091.86 337.172 Q2091.86 344.279 2093.66 347.844 Q2095.49 351.385 2099.1 351.385 Q2102.74 351.385 2104.54 347.844 Q2106.37 344.279 2106.37 337.172 Q2106.37 330.043 2104.54 326.501 Q2102.74 322.936 2099.1 322.936 M2099.1 319.233 Q2104.91 319.233 2107.97 323.839 Q2111.05 328.422 2111.05 337.172 Q2111.05 345.899 2107.97 350.506 Q2104.91 355.089 2099.1 355.089 Q2093.29 355.089 2090.22 350.506 Q2087.16 345.899 2087.16 337.172 Q2087.16 328.422 2090.22 323.839 Q2093.29 319.233 2099.1 319.233 Z\" fill=\"#000000\" fill-rule=\"evenodd\" fill-opacity=\"1\" /><path clip-path=\"url(#clip610)\" d=\"M 0 0 M2116.12 348.538 L2121 348.538 L2121 354.418 L2116.12 354.418 L2116.12 348.538 Z\" fill=\"#000000\" fill-rule=\"evenodd\" fill-opacity=\"1\" /><path clip-path=\"url(#clip610)\" d=\"M 0 0 M2136.07 322.936 Q2132.46 322.936 2130.63 326.501 Q2128.83 330.043 2128.83 337.172 Q2128.83 344.279 2130.63 347.844 Q2132.46 351.385 2136.07 351.385 Q2139.71 351.385 2141.51 347.844 Q2143.34 344.279 2143.34 337.172 Q2143.34 330.043 2141.51 326.501 Q2139.71 322.936 2136.07 322.936 M2136.07 319.233 Q2141.88 319.233 2144.94 323.839 Q2148.02 328.422 2148.02 337.172 Q2148.02 345.899 2144.94 350.506 Q2141.88 355.089 2136.07 355.089 Q2130.26 355.089 2127.18 350.506 Q2124.13 345.899 2124.13 337.172 Q2124.13 328.422 2127.18 323.839 Q2130.26 319.233 2136.07 319.233 Z\" fill=\"#000000\" fill-rule=\"evenodd\" fill-opacity=\"1\" /><path clip-path=\"url(#clip610)\" d=\"M 0 0 M2187.74 333.469 Q2189.34 330.598 2191.56 329.233 Q2193.78 327.867 2196.79 327.867 Q2200.84 327.867 2203.04 330.714 Q2205.24 333.538 2205.24 338.769 L2205.24 354.418 L2200.96 354.418 L2200.96 338.908 Q2200.96 335.182 2199.64 333.376 Q2198.32 331.57 2195.61 331.57 Q2192.3 331.57 2190.38 333.77 Q2188.46 335.969 2188.46 339.765 L2188.46 354.418 L2184.17 354.418 L2184.17 338.908 Q2184.17 335.158 2182.85 333.376 Q2181.53 331.57 2178.78 331.57 Q2175.52 331.57 2173.59 333.793 Q2171.67 335.992 2171.67 339.765 L2171.67 354.418 L2167.39 354.418 L2167.39 328.492 L2171.67 328.492 L2171.67 332.52 Q2173.13 330.135 2175.17 329.001 Q2177.21 327.867 2180.01 327.867 Q2182.83 327.867 2184.8 329.302 Q2186.79 330.737 2187.74 333.469 Z\" fill=\"#000000\" fill-rule=\"evenodd\" fill-opacity=\"1\" /><path clip-path=\"url(#clip610)\" d=\"M 0 0 M2226.77 341.154 Q2226.77 336.524 2224.84 333.978 Q2222.95 331.432 2219.5 331.432 Q2216.07 331.432 2214.15 333.978 Q2212.25 336.524 2212.25 341.154 Q2212.25 345.76 2214.15 348.306 Q2216.07 350.853 2219.5 350.853 Q2222.95 350.853 2224.84 348.306 Q2226.77 345.76 2226.77 341.154 M2231.02 351.2 Q2231.02 357.82 2228.09 361.038 Q2225.15 364.279 2219.08 364.279 Q2216.84 364.279 2214.84 363.931 Q2212.85 363.607 2210.98 362.913 L2210.98 358.769 Q2212.85 359.788 2214.68 360.274 Q2216.51 360.76 2218.41 360.76 Q2222.6 360.76 2224.68 358.561 Q2226.77 356.385 2226.77 351.964 L2226.77 349.857 Q2225.45 352.149 2223.39 353.283 Q2221.33 354.418 2218.46 354.418 Q2213.69 354.418 2210.77 350.783 Q2207.85 347.149 2207.85 341.154 Q2207.85 335.135 2210.77 331.501 Q2213.69 327.867 2218.46 327.867 Q2221.33 327.867 2223.39 329.001 Q2225.45 330.135 2226.77 332.427 L2226.77 328.492 L2231.02 328.492 L2231.02 351.2 Z\" fill=\"#000000\" fill-rule=\"evenodd\" fill-opacity=\"1\" /><polyline clip-path=\"url(#clip610)\" style=\"stroke:#ac8d18; stroke-width:4; stroke-opacity:1; fill:none\" stroke-dasharray=\"16, 10\" points=\"\n",
       "  1865.65,397.618 2011.73,397.618 \n",
       "  \"/>\n",
       "<path clip-path=\"url(#clip610)\" d=\"M 0 0 M2036.07 380.338 L2043.04 380.338 L2051.86 403.856 L2060.72 380.338 L2067.69 380.338 L2067.69 414.898 L2063.13 414.898 L2063.13 384.55 L2054.22 408.254 L2049.52 408.254 L2040.61 384.55 L2040.61 414.898 L2036.07 414.898 L2036.07 380.338 Z\" fill=\"#000000\" fill-rule=\"evenodd\" fill-opacity=\"1\" /><path clip-path=\"url(#clip610)\" d=\"M 0 0 M2067.55 380.338 L2096.79 380.338 L2096.79 384.273 L2084.52 384.273 L2084.52 414.898 L2079.82 414.898 L2079.82 384.273 L2067.55 384.273 L2067.55 380.338 Z\" fill=\"#000000\" fill-rule=\"evenodd\" fill-opacity=\"1\" /><path clip-path=\"url(#clip610)\" d=\"M 0 0 M2124.54 383 L2124.54 387.93 Q2122.18 385.731 2119.5 384.643 Q2116.84 383.555 2113.83 383.555 Q2107.9 383.555 2104.75 387.189 Q2101.6 390.8 2101.6 397.652 Q2101.6 404.481 2104.75 408.115 Q2107.9 411.726 2113.83 411.726 Q2116.84 411.726 2119.5 410.638 Q2122.18 409.55 2124.54 407.351 L2124.54 412.236 Q2122.09 413.902 2119.34 414.736 Q2116.6 415.569 2113.55 415.569 Q2105.7 415.569 2101.19 410.777 Q2096.67 405.962 2096.67 397.652 Q2096.67 389.319 2101.19 384.527 Q2105.7 379.713 2113.55 379.713 Q2116.65 379.713 2119.38 380.546 Q2122.14 381.356 2124.54 383 Z\" fill=\"#000000\" fill-rule=\"evenodd\" fill-opacity=\"1\" /><polyline clip-path=\"url(#clip610)\" style=\"stroke:#ffff00; stroke-width:4; stroke-opacity:1; fill:none\" points=\"\n",
       "  1865.65,458.098 2011.73,458.098 \n",
       "  \"/>\n",
       "<circle clip-path=\"url(#clip610)\" cx=\"1938.69\" cy=\"458.098\" r=\"23\" fill=\"#ffff00\" fill-rule=\"evenodd\" fill-opacity=\"1\" stroke=\"#000000\" stroke-opacity=\"1\" stroke-width=\"6.82667\"/>\n",
       "<path clip-path=\"url(#clip610)\" d=\"M 0 0 M2043.48 442.091 L2043.48 449.452 L2052.25 449.452 L2052.25 452.762 L2043.48 452.762 L2043.48 466.836 Q2043.48 470.007 2044.34 470.91 Q2045.22 471.813 2047.88 471.813 L2052.25 471.813 L2052.25 475.378 L2047.88 475.378 Q2042.95 475.378 2041.07 473.549 Q2039.2 471.697 2039.2 466.836 L2039.2 452.762 L2036.07 452.762 L2036.07 449.452 L2039.2 449.452 L2039.2 442.091 L2043.48 442.091 Z\" fill=\"#000000\" fill-rule=\"evenodd\" fill-opacity=\"1\" /><path clip-path=\"url(#clip610)\" d=\"M 0 0 M2056.72 449.452 L2060.98 449.452 L2060.98 475.378 L2056.72 475.378 L2056.72 449.452 M2056.72 439.359 L2060.98 439.359 L2060.98 444.753 L2056.72 444.753 L2056.72 439.359 Z\" fill=\"#000000\" fill-rule=\"evenodd\" fill-opacity=\"1\" /><path clip-path=\"url(#clip610)\" d=\"M 0 0 M2085.63 454.429 Q2087.23 451.558 2089.45 450.193 Q2091.67 448.827 2094.68 448.827 Q2098.73 448.827 2100.93 451.674 Q2103.13 454.498 2103.13 459.729 L2103.13 475.378 L2098.85 475.378 L2098.85 459.868 Q2098.85 456.142 2097.53 454.336 Q2096.21 452.53 2093.5 452.53 Q2090.19 452.53 2088.27 454.73 Q2086.35 456.929 2086.35 460.725 L2086.35 475.378 L2082.07 475.378 L2082.07 459.868 Q2082.07 456.118 2080.75 454.336 Q2079.43 452.53 2076.67 452.53 Q2073.41 452.53 2071.49 454.753 Q2069.57 456.952 2069.57 460.725 L2069.57 475.378 L2065.29 475.378 L2065.29 449.452 L2069.57 449.452 L2069.57 453.48 Q2071.03 451.095 2073.06 449.961 Q2075.1 448.827 2077.9 448.827 Q2080.72 448.827 2082.69 450.262 Q2084.68 451.697 2085.63 454.429 Z\" fill=\"#000000\" fill-rule=\"evenodd\" fill-opacity=\"1\" /><path clip-path=\"url(#clip610)\" d=\"M 0 0 M2129.78 461.35 L2129.78 463.433 L2110.19 463.433 Q2110.47 467.831 2112.83 470.146 Q2115.22 472.438 2119.45 472.438 Q2121.91 472.438 2124.2 471.836 Q2126.51 471.234 2128.78 470.03 L2128.78 474.058 Q2126.49 475.03 2124.08 475.54 Q2121.67 476.049 2119.2 476.049 Q2112.99 476.049 2109.36 472.438 Q2105.75 468.827 2105.75 462.669 Q2105.75 456.304 2109.17 452.577 Q2112.62 448.827 2118.46 448.827 Q2123.69 448.827 2126.72 452.206 Q2129.78 455.563 2129.78 461.35 M2125.52 460.1 Q2125.47 456.605 2123.55 454.521 Q2121.65 452.438 2118.5 452.438 Q2114.94 452.438 2112.78 454.452 Q2110.66 456.466 2110.33 460.123 L2125.52 460.1 Z\" fill=\"#000000\" fill-rule=\"evenodd\" fill-opacity=\"1\" /><path clip-path=\"url(#clip610)\" d=\"M 0 0 M2142.97 459.706 Q2141.81 457.716 2139.47 457.716 Q2137.14 457.716 2135.98 459.706 Q2134.8 461.697 2134.8 465.679 Q2134.8 469.683 2135.98 471.674 Q2137.14 473.665 2139.47 473.665 Q2141.81 473.665 2142.97 471.674 Q2144.15 469.683 2144.15 465.679 Q2144.15 461.697 2142.97 459.706 M2139.47 455.655 Q2143.2 455.655 2145.17 458.225 Q2147.14 460.794 2147.14 465.679 Q2147.14 470.586 2145.17 473.155 Q2143.2 475.725 2139.47 475.725 Q2135.72 475.725 2133.76 473.155 Q2131.79 470.586 2131.79 465.679 Q2131.79 460.794 2133.76 458.225 Q2135.72 455.655 2139.47 455.655 Z\" fill=\"#000000\" fill-rule=\"evenodd\" fill-opacity=\"1\" /><polyline clip-path=\"url(#clip610)\" style=\"stroke:#ffc0cb; stroke-width:4; stroke-opacity:1; fill:none\" points=\"\n",
       "  1865.65,518.578 2011.73,518.578 \n",
       "  \"/>\n",
       "<circle clip-path=\"url(#clip610)\" cx=\"1938.69\" cy=\"518.578\" r=\"23\" fill=\"#ffc0cb\" fill-rule=\"evenodd\" fill-opacity=\"1\" stroke=\"#000000\" stroke-opacity=\"1\" stroke-width=\"6.82667\"/>\n",
       "<path clip-path=\"url(#clip610)\" d=\"M 0 0 M2043.48 502.571 L2043.48 509.932 L2052.25 509.932 L2052.25 513.242 L2043.48 513.242 L2043.48 527.316 Q2043.48 530.487 2044.34 531.39 Q2045.22 532.293 2047.88 532.293 L2052.25 532.293 L2052.25 535.858 L2047.88 535.858 Q2042.95 535.858 2041.07 534.029 Q2039.2 532.177 2039.2 527.316 L2039.2 513.242 L2036.07 513.242 L2036.07 509.932 L2039.2 509.932 L2039.2 502.571 L2043.48 502.571 Z\" fill=\"#000000\" fill-rule=\"evenodd\" fill-opacity=\"1\" /><path clip-path=\"url(#clip610)\" d=\"M 0 0 M2056.72 509.932 L2060.98 509.932 L2060.98 535.858 L2056.72 535.858 L2056.72 509.932 M2056.72 499.839 L2060.98 499.839 L2060.98 505.233 L2056.72 505.233 L2056.72 499.839 Z\" fill=\"#000000\" fill-rule=\"evenodd\" fill-opacity=\"1\" /><path clip-path=\"url(#clip610)\" d=\"M 0 0 M2085.63 514.909 Q2087.23 512.038 2089.45 510.673 Q2091.67 509.307 2094.68 509.307 Q2098.73 509.307 2100.93 512.154 Q2103.13 514.978 2103.13 520.209 L2103.13 535.858 L2098.85 535.858 L2098.85 520.348 Q2098.85 516.622 2097.53 514.816 Q2096.21 513.01 2093.5 513.01 Q2090.19 513.01 2088.27 515.21 Q2086.35 517.409 2086.35 521.205 L2086.35 535.858 L2082.07 535.858 L2082.07 520.348 Q2082.07 516.598 2080.75 514.816 Q2079.43 513.01 2076.67 513.01 Q2073.41 513.01 2071.49 515.233 Q2069.57 517.432 2069.57 521.205 L2069.57 535.858 L2065.29 535.858 L2065.29 509.932 L2069.57 509.932 L2069.57 513.96 Q2071.03 511.575 2073.06 510.441 Q2075.1 509.307 2077.9 509.307 Q2080.72 509.307 2082.69 510.742 Q2084.68 512.177 2085.63 514.909 Z\" fill=\"#000000\" fill-rule=\"evenodd\" fill-opacity=\"1\" /><path clip-path=\"url(#clip610)\" d=\"M 0 0 M2129.78 521.83 L2129.78 523.913 L2110.19 523.913 Q2110.47 528.311 2112.83 530.626 Q2115.22 532.918 2119.45 532.918 Q2121.91 532.918 2124.2 532.316 Q2126.51 531.714 2128.78 530.51 L2128.78 534.538 Q2126.49 535.51 2124.08 536.02 Q2121.67 536.529 2119.2 536.529 Q2112.99 536.529 2109.36 532.918 Q2105.75 529.307 2105.75 523.149 Q2105.75 516.784 2109.17 513.057 Q2112.62 509.307 2118.46 509.307 Q2123.69 509.307 2126.72 512.686 Q2129.78 516.043 2129.78 521.83 M2125.52 520.58 Q2125.47 517.085 2123.55 515.001 Q2121.65 512.918 2118.5 512.918 Q2114.94 512.918 2112.78 514.932 Q2110.66 516.946 2110.33 520.603 L2125.52 520.58 Z\" fill=\"#000000\" fill-rule=\"evenodd\" fill-opacity=\"1\" /><path clip-path=\"url(#clip610)\" d=\"M 0 0 M2141.91 525.395 Q2144.03 525.811 2145.19 527.084 Q2146.37 528.334 2146.37 530.233 Q2146.37 533.103 2144.17 534.654 Q2141.97 536.205 2137.88 536.205 Q2136.56 536.205 2135.1 535.95 Q2133.66 535.719 2132.04 535.256 L2132.04 532.455 Q2133.25 533.08 2134.61 533.381 Q2136 533.682 2137.55 533.682 Q2140.08 533.682 2141.47 532.779 Q2142.85 531.853 2142.85 530.233 Q2142.85 528.52 2141.56 527.64 Q2140.28 526.76 2137.78 526.76 L2135.79 526.76 L2135.79 524.26 L2137.97 524.26 Q2140.15 524.26 2141.26 523.543 Q2142.39 522.802 2142.39 521.413 Q2142.39 520.071 2141.23 519.376 Q2140.08 518.659 2137.88 518.659 Q2136.95 518.659 2135.77 518.867 Q2134.59 519.075 2132.72 519.608 L2132.72 516.946 Q2134.41 516.552 2135.89 516.344 Q2137.37 516.135 2138.64 516.135 Q2141.97 516.135 2143.92 517.501 Q2145.89 518.867 2145.89 521.159 Q2145.89 522.756 2144.84 523.867 Q2143.8 524.978 2141.91 525.395 Z\" fill=\"#000000\" fill-rule=\"evenodd\" fill-opacity=\"1\" /></svg>\n"
      ]
     },
     "execution_count": 411,
     "metadata": {},
     "output_type": "execute_result"
    }
   ],
   "source": [
    "plot!([time₀], [MIC], markers = :circle, color=\"yellow\", markersize = 3,label=\"time₀\")\n",
    "plot!([time₃], [MIC], markers = :circle, color=\"pink\", markersize = 3,label=\"time₃\")"
   ]
  },
  {
   "cell_type": "markdown",
   "metadata": {},
   "source": [
    "Można z tego wywnioskować wniosek"
   ]
  },
  {
   "cell_type": "code",
   "execution_count": 414,
   "metadata": {},
   "outputs": [
    {
     "name": "stdout",
     "output_type": "stream",
     "text": [
      "Dawkę 500 należy powtórzyć w czasie 1.8433622089527673 h\n",
      "Dawkę 250.0 należy powtórzyć w czasie 1.3432560180725759 h\n"
     ]
    }
   ],
   "source": [
    "println(\"Dawkę $X₀ należy powtórzyć w czasie $time₀ h\")\n",
    "println(\"Dawkę $X₃ należy powtórzyć w czasie $time₃ h\")"
   ]
  },
  {
   "cell_type": "markdown",
   "metadata": {},
   "source": [
    "## 9. Bibliografia<a name=\"9\"></a>"
   ]
  },
  {
   "cell_type": "markdown",
   "metadata": {},
   "source": [
    "1. Orzechowska-Juzwenko K. (red.), *Podstawy farmakologii klinicznej*, VOLUMED, Wrocław 1997\n",
    "2. Grabowski T., *Farmakokinetyka i biofarmacja*, www.biokinetica.pl, wydanie04122015\n",
    "3. Herman T.W., *Farmakokinetyka. Teoria i Praktyka*, Wydawnictwo Lekarskie PZWL, Warszawa 2002\n",
    "4. Występowaniu wyrażenia *pharmakinetics* https://pubmed.ncbi.nlm.nih.gov/\n",
    "5. https://journals.asm.org/doi/10.1128/AAC.00182-11"
   ]
  },
  {
   "cell_type": "markdown",
   "metadata": {},
   "source": []
  }
 ],
 "metadata": {
  "kernelspec": {
   "display_name": "Julia 1.5.3",
   "language": "julia",
   "name": "julia-1.5"
  },
  "language_info": {
   "file_extension": ".jl",
   "mimetype": "application/julia",
   "name": "julia",
   "version": "1.5.3"
  }
 },
 "nbformat": 4,
 "nbformat_minor": 4
}
