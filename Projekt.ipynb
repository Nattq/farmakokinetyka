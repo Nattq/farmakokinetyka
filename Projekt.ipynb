{
 "cells": [
  {
   "cell_type": "markdown",
   "metadata": {},
   "source": [
    "# Dynamika wchłaniania się leków - farmakokinetyka"
   ]
  },
  {
   "cell_type": "markdown",
   "metadata": {},
   "source": [
    "### Równania różniczkowe w technice"
   ]
  },
  {
   "cell_type": "markdown",
   "metadata": {},
   "source": [
    "#### Urszula Spik i Natalia Jelito\n",
    "---"
   ]
  },
  {
   "cell_type": "markdown",
   "metadata": {},
   "source": [
    "## Spis treści:"
   ]
  },
  {
   "cell_type": "markdown",
   "metadata": {},
   "source": [
    "1. [Czym jest farmakokinetyka i jej zastosowania](#1)\n",
    "2. [Nota historyczna](#2)\n",
    "3. [Model jednokompartmentowy - pojęcia wstępne](#3)\n",
    "    1. [Pojęcie kompartmentu](#3.1)\n",
    "    2. [Modelowanie kompartmentowe](#3.2)\n",
    "    3. [Otwarty model jednokompartmentowy](#3.3)\n",
    "    4. [Założenia dla modelu kompartmentowego](#3.4)\n",
    "4. [Masa (stężenie) leku we krwi jako funkcja czasu](#4)\n",
    "    1. [Dawka jednorazowa dożylna](#4.1)\n",
    "    2. [Dawka jednorazowa pozanaczyniowa](#4.2)\n",
    "5. [Parametry farmakokinetyczne](#5)\n",
    "6. [LADME - procesy farmakinetyczne](#6)\n",
    "    1. [Uwalnianie (L)](#6.1)\n",
    "    2. [Wchłanianie (A)](#6.2)\n",
    "    3. [Rozmieszczanie (D)](#6.3)\n",
    "    4. [Metabolizm (M)](#6.4)\n",
    "    5. [Wydalanie (E)](#6.5)\n",
    "7. [Zastosowanie modelu na przykładach](#7)\n",
    "    1. [Dawka jednorazowa dożylna](#7.1)\n",
    "    2. [Dawka jednorazowa doustna](#7.2)\n",
    "8. [Bibliografia](#8)\n",
    "---"
   ]
  },
  {
   "cell_type": "markdown",
   "metadata": {},
   "source": [
    "## 1. Czym jest farmakokinetyka i jej zastosowania <a name=\"1\"></a>"
   ]
  },
  {
   "cell_type": "markdown",
   "metadata": {},
   "source": [
    "**Farmakokinetyka** *(pharmacokinetics)* to dziedzina farmakologii opisująca przebieg procesów dotyczących losów leków i ich metabolitów w czasie.\n",
    "\n",
    "Celem nowoczesnej farmakometrii jest  jest kontrola właściwości leku na każdym etapie jego tworzenia, czyli zaczynając od szukania kandydatów na leki, poprzez projekt i formulację postaci aż do zastosowania u pacjenta i późniejszym zakończeniu terapii i kontroli jej skutków. Obiektywne kontrolowanie właściwości leku jest możliwe dzięki złożonemu opisowi fizykochemicznemu oraz matematycznemu zarówno samego leku jak i zmian jakim ulega na przestrzeni czasu w żywym organizmu.\n",
    "\n",
    "Obecnie analiza parametrów farmakokinetycznych i toksykokinetycznych rozwija się w czterech podstawowych środowiskach badawczych: *in silico*(łac. w krzemie - komputerowo), *in vivo* (łac. na żywym - w organizmie), *in vitro*(łac, w szkle - laboratoryjnie), *in situ*(łac. w miejscu - reakcje biochemiczne w utrwalonym chemicznie organizmie).\n"
   ]
  },
  {
   "cell_type": "markdown",
   "metadata": {},
   "source": [
    "## 2. Nota historyczna <a name=\"2\"></a>"
   ]
  },
  {
   "cell_type": "markdown",
   "metadata": {},
   "source": [
    "Termin farmakokinetyka został wprowadzony dopiero 1953 przez Friedricha Hartmuta Dosta, a jej gwałtowny rozwój przypada na okres powojenny, głównie w Stanach Zjednoczonych i Europie Zachodniej. Było to uwarunkowane szerokim zstosowaniem cydrowych i analogowych maszyn matematycznych.\n",
    "\n",
    "Jednym z początkowych, przełomowych wydarzeń było wykazanie przez Erika Widmarka w latach 1920-1932, że jest możliwe przedstawienie zamiany stęzenia we krwi acetonu i alkoholu etylowego w sposób matematyczny za pomocą prostych równań i wykresów.\n",
    "\n",
    "Pierwasza publikacja z zakresu farmakokinetyki miała miejsce w 1937 przez Torstena i Teorell pt. *„Kinetics of distribution of substances administered to the body”.*"
   ]
  },
  {
   "cell_type": "markdown",
   "metadata": {},
   "source": [
    "## 3. Model jednokompartmentowy  <a name=\"3\"></a>"
   ]
  },
  {
   "cell_type": "markdown",
   "metadata": {},
   "source": [
    "### A. Pojęcie kompartmentu <a name=\"3.1\"></a>"
   ]
  },
  {
   "cell_type": "markdown",
   "metadata": {},
   "source": [
    "Aby interpretować wyniki w sposób matematyczny przyjmuje się model, w którym organizm składa się z jednego bądź kilku tzw. *kompartmentów*. \n",
    "\n",
    "Stosowane w modelu matematycznym kompartmenty nie zawsze pokrywają się ze strukurami anatomicznymi organizmu. Przyjmuje się, że z uwagi na złożone struktury każdego żywego organizmu stanowią one układ wielokompartmentowy. Jednak można zauważyć, że wiele tkanek wykazuje podobne właściwości w odniesieniu do badanego leku. Dzięki temu możliwe jest łączenie ich w jeden kompartment i w ten sposób redukować liczbę kompartmentów do jedynie kilku.\n",
    "Kompartment nie zawsze dotyczy stanu fizycznego substancji leczniczej, czyli miejsca jej występowania w organizmie a jej różnych form.\n",
    "\n",
    "Biorąc te założenia można podać definicję kompartmentu:\n",
    "\n",
    "*Jeśli lek występuje w układzie biologicznym w kulku rozróżnialnych formach lub miejscach organizmu i jeśli przechodzi z jednej formy lub miejsca w inną formę lub do innego miejsca z mierzalną szybkością, to wtedy każda forma i(lub) każde miejsce są traktowane jako oddzielne kompartmenty*."
   ]
  },
  {
   "cell_type": "markdown",
   "metadata": {},
   "source": [
    "### B. Modelowanie kompartmentowe <a name=\"3.2\"></a>"
   ]
  },
  {
   "cell_type": "markdown",
   "metadata": {},
   "source": [
    "Modelowanie za pomocą definiowania przestrzeni - kompartmentów w organizmie w których\n",
    "zachodzi dyspozycja leku zwykle obejmuje modele 1,2 lub 3 kompartmentowe. Model jednokompartmentowy jest wyidelanizowany i jest bardzo duzym uproszczeniem. Zwykle podstawą tego typu założenia jest brak\n",
    "możliwości śledzenia procesów dystrybucji leku za pomocą narzędzi jakimi dysponuje modelowanie\n",
    "kompartmentowe. Jest to wiec model znacznie ograniczający dokładny opis kompletnego profilu\n",
    "farmakokinetycznego. \n",
    "\n",
    "\n",
    "Przeciwieństwem wyidealizowanego modelu jednokompartmentowego jest model\n",
    "jednokompartmentowy w którym bierze się pod uwagę istnienie kompartmentów peryferyjnych. Jednak\n",
    "transport leku w ich obrębie nadal nie jest możliwy do zdefiniowania za pomocą stałych szybkości czy\n",
    "eksponencjałów steżeń. Bliższe realiom fizjologii organizmu są modele dwukompartmentowe lub\n",
    "trójkompartmentowe.\n",
    "\n",
    "\n",
    "Dwa podstawowe kompartmenty jakie można wyróżnić w organizmie to\n",
    "kompartment centralny oraz kompartment obwodowy.Za kompartment centralny uważa się krew (klasyczna definicja), czasami również płyn międzykomórkowy i dobrze ukrwione narządy. Pojęcie kompartmentu centralnego wiąże się ściśle z\n",
    "poziomem stężeń jakie leki osiągają w osoczu, które stanowi część całej objętości krwi. Pojęcie to\n",
    "rozszerzają zagadnienia wiązania leków przez białka krwi oraz transportu niektórych leków do wnętrza\n",
    "komórek krwi. Narządy dobrze unaczynione zwykle zawierają lek w stężeniu zbliżonym do stężenia\n",
    "notowanego w osoczu. \n",
    "\n",
    "W tym sensie kompartmentem peryferyjnym staje się każda inna przestrzeń do której\n",
    "zachodzi dystrybucja. Za kompartment tkankowy uważa się tkanki słabo unaczynione do których lek\n",
    "przenika długo zwykle osiągając w nich niższe stężenie. W niektórych tkankach lek rozmieszcza się\n",
    "szybko w znacznych ilościach. Proces ten zależny jest od budowy chemicznej i postaci leku, drogi podania,\n",
    "jego powinowactwa do określonych typów tkanek. Zwykle poziom substancji leczniczej w\n",
    "kompartmencie tkankowym rośnie powoli i jest niższy od poziomów notowanych w kompartmencie\n",
    "centralnym. \n",
    "\n",
    "Kompartment efektorowy stanowi każde miejsce do którego dociera lek gwarantujące\n",
    "uzyskanie efektu terapeutycznego. Kompartmentem tym zwykle są tkanki objęte procesem patologicznym.\n",
    "Kompartmentem efektorowym dla leków o działaniu miejscowym może być powierzchnia skóry i komórki\n",
    "skóry lub dla leków podawanych w schorzeniach przewodu pokarmowego nabłonek jelit. Nie zawsze droga\n",
    "leku z miejsca podania do kompartmentu efektorowego musi być więc znacznie oddalona od miejsca\n",
    "podania leku. Jednak często trudnym zadaniem jest stworzenie takiej postaci leku która zagwarantuje\n",
    "zaistnienie substancji leczniczej w kompartmencie docelowym - efektorowym w pożądanym stężeniu przez\n",
    "określony czas. "
   ]
  },
  {
   "cell_type": "markdown",
   "metadata": {},
   "source": [
    "### C. Otwarty model jednokompartmentowy <a name=\"3.3\"></a>"
   ]
  },
  {
   "cell_type": "markdown",
   "metadata": {},
   "source": [
    "To najprostszy model farmakokinetyczny. Składa się on z jednego kompartmentu. Określamy go jako otwarty ponieważ można wprowadzić do organizmu lek różnymi sposobami (dożylnie lub pozanaczyniowo), eliminowany jest również innymi drogami (np. przez nerki z moczem)."
   ]
  },
  {
   "cell_type": "markdown",
   "metadata": {},
   "source": [
    "### D. Założenia dla modelu kompartmentowego <a name=\"3.4\"></a>"
   ]
  },
  {
   "cell_type": "markdown",
   "metadata": {},
   "source": [
    "* Organizm to jeden kompartment, którego objętość dystrybucji wynosi $V_d$.\n",
    "* Nastąpuje natychmiastowe i homogeniczne mieszanie leku w krążących płynach i tkankach organizmu.\n",
    "* Badana objętość płynu ustrojowego ma określoną masę leku, która jest cały czas proporcjonalna do stężenia leku w każdym dostępnym płynie ustrojowym lub w każdej liczącej się tkance.\n",
    "* Lek eliminowany jest od razu po wprowadzeniu.\n",
    "* Procesy wchłaniania i eliminacji zachodzą z różnymi szybkościami. Przeważnie wchłanianie jest szybsze od eliminacji.\n",
    "* Stała szybkości eliminacji leku z organizmu ($\\mathrm{K}$) jest sumą wszystkich szybkości wydalania z organizmu"
   ]
  },
  {
   "cell_type": "markdown",
   "metadata": {},
   "source": [
    "## 4. Masa (stężenie) leku we krwi jako funkcja czasu <a name=\"4\"></a>"
   ]
  },
  {
   "cell_type": "markdown",
   "metadata": {},
   "source": [
    "### A. Dawka jednorazowa dożylna w modelu jednokompartmentowym<a name=\"4.1\"></a>"
   ]
  },
  {
   "cell_type": "markdown",
   "metadata": {},
   "source": [
    "Model ten można zobrazować za pomocą poniższego schematu:"
   ]
  },
  {
   "cell_type": "markdown",
   "metadata": {},
   "source": [
    "![Dawka jednorazowa dożyln](obrazy/dozylnaschemat.png)"
   ]
  },
  {
   "cell_type": "markdown",
   "metadata": {},
   "source": [
    "gdzie:\n",
    "\n",
    "$X_0$ - masa leku podana dożylnie (dawka) w postaci jednorazowego wstrzyknięcia,\n",
    "\n",
    "$X$ - masa leku we krwi (reprezentującej cały komparment) w czasie t,\n",
    "\n",
    "$X_u$ - masa leku we krwi (reprezentującej cały kompartment) w czasie t,\n",
    "\n",
    "$X_{nr}$ - masa leku wydalona drogami pozanerkowymi w czasie t, \n",
    "\n",
    "$\\mathrm{k_e}$ - stała szybkości wydalania leku przez nerki zgodnie z procesem pierwszego rzędu, \n",
    "\n",
    "$\\mathrm{k_{nr}}$ - stała szybkości pierwszego rzędu wydalania leku drogami pozanerkowymi, np. z żółcią po metabolizmie w wątrobie."
   ]
  },
  {
   "cell_type": "markdown",
   "metadata": {},
   "source": [
    "Stałą szybkości eliminacji leku z organizmu możemy zapisać jako:\n",
    "$$ \\mathrm{K} = \\mathrm{k_e} + \\mathrm{k_{nr}} \\tag{4.1}$$"
   ]
  },
  {
   "cell_type": "markdown",
   "metadata": {},
   "source": [
    "W ten sposób, przy założeniu, że dystrybucja dawki dożylnej będzie zachodziła natychmiastowo w całym organizmie (kompartmencie), nasz model ulega uproszczeniu:"
   ]
  },
  {
   "cell_type": "markdown",
   "metadata": {},
   "source": [
    "![Dawka dożylna schemat uproszczony](obrazy/dozylnaschematupr.png)"
   ]
  },
  {
   "cell_type": "markdown",
   "metadata": {},
   "source": [
    "W celu wyprowadzenia równania na ilość leku we krwi będącego funkcją czasu należy rozwiązać równanie różniczkowe pierwszego rzędu w postaci:\n",
    "$$ \\frac{dX}{dt} = -\\mathrm{K} \\cdot X \\tag{4.2}$$"
   ]
  },
  {
   "cell_type": "markdown",
   "metadata": {},
   "source": [
    "Korzystając z metody rozdzielenia zmiennych uzyskujemy równanie:\n",
    "$$ \\int_{X}^{X_0} \\frac{dX}{X} = -\\mathrm{K} \\cdot \\int_{0}^{t} dt $$\n",
    "\n",
    "Które po scałkowaniu przyjmuje postać:\n",
    "$$ \\mathrm{ln}X - \\mathrm{ln}X_0 = -\\mathrm{K} \\cdot t$$\n"
   ]
  },
  {
   "cell_type": "markdown",
   "metadata": {},
   "source": [
    "Następnie można sprowadzić je do równania:\n",
    "\n",
    "$$X = X_0 \\cdot \\mathrm{e}^{-\\mathrm{K} \\cdot t} \\tag{4.3}$$"
   ]
  },
  {
   "cell_type": "markdown",
   "metadata": {},
   "source": [
    "Z czego widać, że masa leku we krwi jest malejącą funkcją wykładniczą czasu."
   ]
  },
  {
   "cell_type": "markdown",
   "metadata": {},
   "source": [
    "Za pomocą doświadczeń w praktyce wyznacza się stężenie leku we krwi ($C$), a nie jego masę. Zatem powyższe równanie jest niepraktyczne. \n",
    "\n",
    "Wprowadżmy jednak pojęcie objętości dystrybucji ($V_d$), czyli hipotetycznej objętości płynów ustrojowych, których po homogenicznym rozmieszczeniu wprowadzanej dawki dożylnej lek miałby takie stężenie jak we krwi. W tym momencie można zapisać, że $$X = V_d \\cdot C \\tag{4.4}$$"
   ]
  },
  {
   "cell_type": "markdown",
   "metadata": {},
   "source": [
    "Używrając tej równości doprowadzamy nasze równanie do postaci \n",
    "\n",
    "$$ C(t) = C_0 \\cdot \\mathrm{e}^{-\\mathrm{K} \\cdot t} \\tag{4.5}$$"
   ]
  },
  {
   "cell_type": "markdown",
   "metadata": {},
   "source": [
    "### B Dawka pozanaczyniowa<a name=\"4.2\"></a>\n",
    "Gdy lek podawany jest pozanaczyniowo można przyjać następujący model jednokompartmentowy\n",
    "\n",
    "![Model pozanaczyniowy](obrazy/pozanacz.png)\n",
    "\n",
    "gdzie:\n",
    "$X_D$ - masa (ilość) leku w żołądku (mięśniu, jelicie grubym itp.)\n",
    "$\\mathrm{k}_a$ - stała szybkości pierwszego rzędu wchłaniania leku (absorbcji) do krwi.\n",
    "\n",
    "Naszym celem będzie znalezienie wzorów na $X_D$, $X$, $X_u$ jako funkcje czasu. \n",
    "Aby to osiągnąć zapiszmy odpowiednie równiania różniczkowe:\n",
    "$$-\\frac{\\mathrm{d}X_D}{\\mathrm{d}t} = \\mathrm{k}_a \\cdot X_D \\tag{4.6}$$\n",
    "$$ \\frac{\\mathrm{d}X}{\\mathrm{d}t} = \\mathrm{k}_a \\cdot X_D - \\mathrm{k}_e \\cdot X \\tag{4.7}$$\n",
    "$$\\frac{\\mathrm{d}X_u}{\\mathrm{d}t} = \\mathrm{k}_e \\cdot X \\tag{4.8}$$"
   ]
  },
  {
   "cell_type": "markdown",
   "metadata": {},
   "source": [
    "Z równania (4.6) otrzymujemy, że: $$X_D = X_{D_0} \\cdot \\mathrm{e}^{-\\mathrm{k}_e \\cdot t} \\tag{4.9}$$"
   ]
  },
  {
   "cell_type": "markdown",
   "metadata": {},
   "source": [
    "Aby znaleźć wyrażenie na $X$, różniczkujemy równanie (4.7) względem czasu:\n",
    "$$\\frac{\\mathrm{d}^2 X}{\\mathrm{d} t^2} = \\mathrm{k}_a \\cdot \\frac{\\mathrm{d}X_D}{\\mathrm{d}t} - \\mathrm{k}_e \\cdot \\frac{\\mathrm{d}X}{\\mathrm{d}t}$$"
   ]
  },
  {
   "cell_type": "markdown",
   "metadata": {},
   "source": [
    "Wykorzystamy teraz równanie (4.6) otrzymując:\n",
    "$$\\frac{\\mathrm{d}^2 X}{\\mathrm{d} t^2} + \\mathrm{k}_e \\cdot \\frac{\\mathrm{d}X}{\\mathrm{d}t} + \\mathrm{k}_a \\cdot \\mathrm{k}_a \\cdot X_D = 0$$"
   ]
  },
  {
   "cell_type": "markdown",
   "metadata": {},
   "source": [
    "Następnie ponownie skorzystamy z równania (4.7), dzięki któremu dostaniemy:\n",
    "$$\\frac{\\mathrm{d}^2 X}{\\mathrm{d} t^2} + \\left(\\mathrm{k}_a + \\mathrm{k}_e\\right) \\cdot \\frac{\\mathrm{d}X}{\\mathrm{d}t} + \\mathrm{k}_a \\cdot \\mathrm{k}_e \\cdot X = 0 \\tag{4.10}$$"
   ]
  },
  {
   "cell_type": "markdown",
   "metadata": {},
   "source": [
    "W ten sposób mamy równanie różniczkowe drugiego rzędu o stałych współczynnikach, którego rozwiązaniem będzie: $$X = C_1 \\cdot \\mathrm{e}^{r_1 \\cdot t} + C_2 \\cdot \\mathrm{e}^{r_2 \\cdot t} \\tag{4.11}$$"
   ]
  },
  {
   "cell_type": "markdown",
   "metadata": {},
   "source": [
    "W celu obliczenia $r_1$ i $r_2$ należy rozwiązać następujące równanie kwadratowe: $$r^2 + \\left(\\mathrm{k}_a + \\mathrm{k}_e\\right) \\cdot r + \\mathrm{k}_a \\cdot \\mathrm{k}_e = 0 \\tag{4.12}$$"
   ]
  },
  {
   "cell_type": "markdown",
   "metadata": {},
   "source": [
    "$$\\Delta = \\left(\\mathrm{k}_a - \\mathrm{k}_e\\right)^2 $$\n",
    "$$ r_1 = -\\mathrm{k}_e$$\n",
    "$$ r_2 = -\\mathrm{k}_a$$"
   ]
  },
  {
   "cell_type": "markdown",
   "metadata": {},
   "source": [
    "Stałe całkowania znajdziemy z warunków początkowych. W czasie $t=0$, $X=X_0=0$, co daje nam: $$C_1 + C_2 = 0 \\tag{4.13}$$"
   ]
  },
  {
   "cell_type": "markdown",
   "metadata": {},
   "source": [
    "Ponadto pochodna z równania (4.7) urości się do:\n",
    "$$\\frac{\\mathrm{d}X}{\\mathrm{d}t}\\biggr\\rvert_{t=0} = \\mathrm{k}_a \\cdot \\mathrm{X}_{D_0}$$"
   ]
  },
  {
   "cell_type": "markdown",
   "metadata": {},
   "source": [
    "Powyższą pochodną można obliczyć różniczkując po $t$ wynik równania (4.10):\n",
    "$$ X' = \\left(C_1 \\cdot \\mathrm{e}^{-\\mathrm{k}_e \\cdot t} + C_2 \\cdot \\mathrm{e}^{-\\mathrm{k}_a \\cdot t}\\right)'$$"
   ]
  },
  {
   "cell_type": "markdown",
   "metadata": {},
   "source": [
    "Oblicza się ją jako sumę pochodnych w następujący sposób przez podstawienie: $$u = - \\mathrm{k}_e t$$ $$\\frac{\\mathrm{d}u}{\\mathrm{d}t}=-\\mathrm{k}_e$$ \n",
    "$$\\frac{\\mathrm{d}X}{\\mathrm{d}u} = - C_1 \\cdot \\mathrm{e}^u$$ \n",
    "$$\\frac{\\mathrm{d}X}{\\mathrm{d}u} \\cdot \\frac{\\mathrm{d}u}{\\mathrm{d}t} = - \\mathrm{k}_e \\cdot C_1 \\cdot \\mathrm{e}^{- \\mathrm{k}_e \\cdot t}$$"
   ]
  },
  {
   "cell_type": "markdown",
   "metadata": {},
   "source": [
    "Z czego ostatecznie dostajemy:\n",
    "$$\\frac{\\mathrm{d}X}{\\mathrm{d}t} = - \\mathrm{k}_e \\cdot C_1 \\cdot \\mathrm{e}^{- \\mathrm{k}_e \\cdot t} - \\mathrm{k}_a \\cdot C_2 \\cdot \\mathrm{e}^{- \\mathrm{k}_a \\cdot t}$$"
   ]
  },
  {
   "cell_type": "markdown",
   "metadata": {},
   "source": [
    "Teraz powyższa pochodna w czasie t = 0 wynosi:\n",
    "$$\\frac{\\mathrm{d}X}{\\mathrm{d}t}\\biggr\\rvert_{t=0} = - \\mathrm{k}_e \\cdot C_1 - \\mathrm{k}_a \\cdot C_2$$"
   ]
  },
  {
   "cell_type": "markdown",
   "metadata": {},
   "source": [
    "W ten sposób dostajemy układ równań z dwoma niewiadomymi:"
   ]
  },
  {
   "cell_type": "markdown",
   "metadata": {},
   "source": [
    "$$\\begin{cases}\n",
    "C_1 + C_2\\\\\n",
    "\\mathrm{k}_a \\cdot X_{D_0} = - \\mathrm{k}_e \\cdot C_1 - \\mathrm{k}_a \\cdot C_2\n",
    "\\end{cases}$$"
   ]
  },
  {
   "cell_type": "markdown",
   "metadata": {},
   "source": [
    "Gdzie po rozwiązaniu otrzymujemy wartości stałych $C_1$, $C_2$:\n",
    "$$ C_1 = - \\frac{\\mathrm{k}_a \\cdot X_{D_0}}{\\mathrm{k}_e - \\mathrm{k}_a}$$\n",
    "$$ C_2 = \\frac{\\mathrm{k}_a \\cdot X_{D_0}}{\\mathrm{k}_e - \\mathrm{k}_a}$$"
   ]
  },
  {
   "cell_type": "markdown",
   "metadata": {},
   "source": [
    "Następnie wstawiając uzyskane wartości do równania (4.11) możemy zapisać\n",
    "$$X = \\frac{\\mathrm{k}_a \\cdot X_{D_0}}{\\mathrm{k}_e - \\mathrm{k}_a} \\cdot \\left(\\mathrm{e}^{-\\mathrm{k}_e \\cdot t} - \\mathrm{e}^{-\\mathrm{k}_a \\cdot t}\\right)$$"
   ]
  },
  {
   "cell_type": "markdown",
   "metadata": {},
   "source": [
    "Dzieląc przez $V_d$ i wykorzystując równanie (4.4) otrzymujemy wzór na stężenie leku we krwi:\n",
    "$$ C(t) = \\frac{\\mathrm{k}_a \\cdot X_{D_0}}{V_d \\cdot \\left(\\mathrm{k}_e - \\mathrm{k}_a\\right)} \\cdot \\left(\\mathrm{e}^{-\\mathrm{k}_e \\cdot t} - \\mathrm{e}^{-\\mathrm{k}_a \\cdot t}\\right)$$"
   ]
  },
  {
   "cell_type": "markdown",
   "metadata": {},
   "source": [
    "Powyższy wzór określany jest jako *wzór Batemana*"
   ]
  },
  {
   "cell_type": "markdown",
   "metadata": {},
   "source": [
    "## 5. Parametry farmakokinetyczne<a name=\"5\"></a>\n",
    "Do parametrów farmakokinetycznych należą:\n",
    "* AUC - wielkość powierzchni pod krzywą zmian stężenia leku we krwi,\n",
    "* maksymalne stężenie leku we krwi ($C_{max}$),\n",
    "* czas, po którym zostaje osiągnięte stężenie maksymalne ($t_{max}$),\n",
    "* objętość dystrybucji\n",
    "* stała szybkość eliminacji ($\\mathrm{K}$)\n",
    "* biologiczny okres półtrwania\n",
    "* klirens leku\n",
    "\n",
    "Powiązane są one z procesami farmakokinetycznymi."
   ]
  },
  {
   "cell_type": "markdown",
   "metadata": {},
   "source": [
    "## 6. LADME - procesy farmakokinetyczne<a name=\"6\"></a>"
   ]
  },
  {
   "cell_type": "markdown",
   "metadata": {},
   "source": [
    "Do opisu procesów farmakokinetycznych używany jest system LADME. \n",
    "Jest to skrót od angielskich słów:\n",
    "* L - liberation (uwalnianie),\n",
    "* A - absorption (wchłanianie),\n",
    "* D - distribution (rozmieszczenie)\n",
    "* M - metabolism (metabolizm), \n",
    "* E - excretion/ elimination (wydalanie, usuwanie).\n",
    "\n",
    "Odzwierciedla on drogę jaką przechodzi lek od podania do wydalenia z organizmu.\n",
    "Często rozbudowany jest do LADMER dla podkreślenia analizy efektu - R (ang. response). Najczęściej obliczane parametry dotyczą procesów mieszczących się w pojęciach A, D, M, E."
   ]
  },
  {
   "cell_type": "markdown",
   "metadata": {},
   "source": [
    "### A. Uwalnianie (L) <a name=\"6.1\"></a>\n",
    "Pierwszym z procesów zachodzących po wprowadzeniu leku do organizmu jest uwalnianie związku leczniczego z postaci leku (np. tabletka, drażetka). Aby lek został wchłonięty do krwioobiegu konieczne jest rozpuszczenie substancji lecznicej.\n",
    "\n",
    "Etapy uwalniania leku:\n",
    "1. rozpad postaci leku \n",
    "2. rozpuszczanie substancji leczniczej \n",
    "3. dyfuzja leku do miejsca wchłaniania."
   ]
  },
  {
   "cell_type": "markdown",
   "metadata": {},
   "source": [
    "### B . Wchłanianie (A) <a name=\"6.2\"></a>\n",
    "Wchłanianie to przenoszenie substancji leczniczej z miejsca wchłaniania do krążenia ogólnego. Odbywa się ono na zasadzie przenikania cząstek leku przez błony biologiczne. Jedynie bezpośrednie podanie leku do krwi omija ten proces.\n",
    "\n",
    "\n",
    "\n",
    "1. **Stan stacjonarny (steady state)**\n",
    "    Przy wielokrotnym dawkowaniu leku, w miarę podawania kolejnych dawek, stężenie leku we krwi rośnie i ustala się stan stacjonarny, w którym szybkość i ilość leku dostające się do organizmu równają się szybkości i ilości leku opuszczającej organizm.\n",
    "    <br/><br/>\n",
    "2. **Efekt pierwszego przejścia (first pass effect)** \n",
    "    Zjawisko zmniejszania ilości leku po jego wchłonięciu z przewodu pokarmowego, a przed dotarciem do krązenia ogólnego. Substancja podana doustnie przechodzi do krwiobiegu przez układ krążenia, co oznacza, że musi najpierw przejść przez wątrobę. W efekcie dawka tego samego leku podana doustnie zazwyczaj jest większa niż równoważna dawka podawana np. dożylnie (rodzaje transportu)\n",
    "    <br/><br/>\n",
    "3. **Dostępność biologiczna** \n",
    "    Dostęność biologiczna jest określana przez ułamek dawki substancji leczniczej, który dostaje się do krążenia ogólnego i przez szybkość z jaką zachodzi ten proces. Stopień dostępności biologicznej jest zależny od procesu technologicznego produkcji danego preparatu. Charakteryzują ją następujące parametry farmakokinetyczne:\n",
    "    * wielkość pod krzywą zmian stężenia leku we krwi, czyli pole pod krzywą AUC (Area Under the Curve), parametr informuje o całkowitej ilości leku jaka została wchłonięta do organizmu\n",
    "    * maksymalne stężenie leku we krwi ($C_{max}$)\n",
    "    * czas, po którym zostaje osiągnięte stężenie maksymalne ($t_{max}$)\n",
    "    \n",
    "    Warunkiem działania leczniczego jest takie stężenie maksymalnego leku we krwi, które zajmie obszar powyżej minimalnego stężenia terapeutycznego MEC (Minimal Effective Concentration) oraz poniżej minimalnego stężenia toksycznego MTC (Minimal Toxic Concentration) .\n",
    "    \n",
    "    Istnieje podział na biodostępność względną i bezwzględną:\n",
    "       \n",
    "    + biodostępność bezwzględną określa się porównując biodostępność leku podanego pozanaczyniowo z tym samym lekiem podanym donaczyniowo, aby ocenić jest wartość leczniczą przy innej niż donaczyniowa drodze podania. \n",
    "    $$ EBA = \\frac{AUC_{po}\\cdot D_{iv}}{AUC_{iv}\\cdot D_{po}}\\cdot 100\\% $$\n",
    "    Gdzie $AUC$ - pole pod krzywą,\n",
    "    $D$ - dawka,\n",
    "    *po* - pozanaczyniowo,\n",
    "    *iv* - donaczyniowo.\n",
    "    \n",
    "    + biodostępność względną wyznaczamy porównując preparat badany z preparatem standardowym o znanej dostępności biologicznej \n",
    "    $$ EBA = \\frac{AUC_{A}\\cdot D_{B}}{AUC_{B}\\cdot D_{A}}\\cdot 100\\% $$\n",
    "    Gdzie $AUC$ - pole pod krzywą,\n",
    "    $D$ - dawka,\n",
    "    *A* - lek badany,\n",
    "    *B* - lek standardowy.\n",
    "    "
   ]
  },
  {
   "cell_type": "markdown",
   "metadata": {},
   "source": [
    "### C. Rozmieszczenie (D) <a name=\"6.3\"></a>\n",
    "Kolejnym procesem jest rozmieszczenie wchłoniętej substancji leczniczej w organizmie zapewniające dotarcie leku do miejsca jego działania.\n",
    "1. **Objętość dystrybucji ($V_d$)**\n",
    "\n",
    "     to parametr farmakokinetyczny definiowany jako hipotetyczna objętość płynów ustrojowych, w której lek, po równomiernym rozmieszczeniu, osiągałby takie samo stężenie jak we krwi. Wyrażana jest w litrach. W praktyce oznacza to, że gdy objętość dystrybucji wynosi:\n",
    "    * 3 - 5 litrów (4,3% masy ciała) - dystrybucja leku ograniczona jest do krwi,\n",
    "    * 10 - 20 litrów (23% masy ciała) - lek rozmieszcza się w płynie pozakomórkowym,\n",
    "    * 25 - 30 litrów (34% masy ciała) - lek rozmieszcza się w płynie wewnątrzkomórkowym,\n",
    "    * ok. 40 litrów (60% masy ciała) - lek rozmieszcza się we wszystkich płynach organizmu,\n",
    "    * 100% masy ciała - lek silnie łączy się z tkankami i kumuluje w narządach.\n",
    "    \n",
    "    Dla wielu leków wartość wartość dystrybucji przekracza realną ilość płynów ustrojowych w organizmie, dlatego zwana jest pozorną. Matematycznie określa się ją jako stosunek całkowitej ilości leku w organizmie ($X$) do stężenia leku we krwi ($C$). $$ V_d = \\frac{X}{C} $$\n",
    "    \n",
    "    Objętość dystrybucji jest współczynnikiem pozwalającym obliczyć stężenie leku we krwi na niedającą się wyznaczyć doświadczalnie ilość (masę) leku w organizmie $$ X = V_d \\cdot C $$\n",
    "    \n",
    "    Objętość dystrybucji zależy w dużym stopniu od masy ciała, dlatego można posługiwać się tzw, względną objętościa dystrybucji (współczynnikiem dystrybucji), $\\Delta '$: $$\\Delta ' = \\frac{V_d}{BW} $$ gdzie $BW$ jest masą ciała.\n",
    "    \n",
    "    Tak zdefiniowany parametr określa ułamek objętości ciała (całe ciało to 1), gdzie lek dociera. Dla większości leków ten współczynnik jest mniejszy od 1, ponieważ niecałkowita objętość organizmu jest dla tych leków dostęna. Względna objętość dystrybucji większa od 1 jest wielkością charakterystyczną dla leków w znacznym stopniu wiążących się z białkami krwi lub wykazujących duże powinowactwo do tkanki kostnej lub tłuszczowej."
   ]
  },
  {
   "cell_type": "markdown",
   "metadata": {},
   "source": [
    "### D. Metabolizm (M)<a name=\"6.4\"></a>\n",
    "Metabolizm leku to wszystkie przemiany biochemiczne, którym ulega lek w żywym organizmie, które mają na celu unieczynnienie substancji oraz ułatwienie jego eliminacji z organizmu. Zachodzą głównie w mikrosomach wątroby, ale też w przewodzie pokarmowym, płucach, nerkach, obrębie skóry i innych tkankach. Procesy związane z metabolizmem zachodzą w dwóch fazach.\n",
    "1. Reakcje pierwszej fazy:\n",
    "    * utlenianie, \n",
    "    * redukcja, \n",
    "    * hydroliza.\n",
    "2. Reakcje drugiej fazy można podzielić na reakcje:\n",
    "    * sprzęgania z kwasem glukuronowym, siarkowym, glutaminowym, z glukozą, aminokwasami, glicyną, z grupą metylową,\n",
    "    * acetylacji,\n",
    "    * alkilacji."
   ]
  },
  {
   "cell_type": "markdown",
   "metadata": {},
   "source": [
    "### E. Wydalanie/usuwanie (E)<a name=\"6.5\"></a>\n",
    "Ostatnim etapem jest wydalanie leków z organizmu. Odbywa się ono wieloma kanałami, przez nerki z moczem, przez wątrobę żółcią, przez gruczoły ślinowe ze śliną, przez gruczoły potowe z potem, przez płuca z wydychanym powietrzem, przez gruczoły mleczne z mlekiem.\n",
    "\n",
    "Z procesem usuwania leku powiązane są następujące parametry farmakokinetyczne:\n",
    "1. **Stała szybkość eliminacji ($\\mathrm{K}$)** która jest sumą wszystkich stałych szybkości wydalania leku z organizmu.\n",
    "\n",
    "    Wyznacza się ją z równania $\\mathrm{ln}C  = \\mathrm{ln}C_0 -\\mathrm{K} \\cdot t $ . Z tego równania możemy wywnioskować, że lnC jest liniową funkcją czasu (t). Współczynnik kierunkowy otrzymanej prostej równa się -K. Po zamianie znaku współczynnika kierunkowego prostej otrzymuje się wartość stałej szybkości eliminacji leku z krwi różnymi drogami. Jej wymiar stanowi odwrotność jednostki czasu ( 1/h). Wartość tej stałej jest więc niezależna od sposobu wyrażania stężeń leku we krwi, co jest cechą charakterystyczną tylko stałej szybkości pierwszego rzędu.\n",
    "\n",
    "2. **Biologiczny okres półtrwania**, który jest czasem, w którym stężenie leku we krwi, surowicy lub w osoczu spadnie do połowy wartości wyjściowej. Parametr ten pozwala określić m.in. dawkowanie leków. Wyprowadza się go z równania $\\mathrm{K} \\cdot t = \\mathrm{ln}C_0 - \\mathrm{ln}C$, wtedy $$ t = \\frac{\\mathrm{ln}\\left(\\frac{C}{C_0}\\right)}{\\mathrm{K}} $$ My szukamy takiego $t$ dla którego $C = \\frac{C_0}{2}$, czyli gdzie stężenie spadnie do połowy początkowego stężenia. $$ t_{\\frac{1}{2}} = \\frac{\\mathrm{ln}\\left(\\frac{2 C_0}{C_0}\\right)}{\\mathrm{K}} = \\frac{\\mathrm{ln}2}{\\mathrm{K}}$$ Przybliżając $\\mathrm{ln}2 = 0,693$ otrzymujemy $$t_{\\frac{1}{2}} = \\frac{0.693}{\\mathrm{K}}$$\n",
    "Wartość $t_{\\frac{1}{2}}$ jest wartością charakterystyczną dla danego leku, jednak zależy od różnych czynników np. płci, wieku, stanu zdrowotnego czy aktywności fizycznej.\n",
    "    \n",
    "3. **Klirens leku (ang. clearance czyli oczyszczanie)**\n",
    "\n",
    "    Wyraża sprawność, z jaką osocze zostaje oczyszczone z danej substancji. Wyrażany jest jako objętość osocza całkowicie oczyszczonego z danej substancji w jednostce czasu. Wylicza się go z następujących wzorów:\n",
    "    * $ Cl = \\frac{v}{C} $ gdzie $v$ jest szybkością eliminacji leku\n",
    "    * $ Cl = \\mathrm{K} \\cdot V_d$\n",
    "\n",
    "    Rozpatrując narząd, który eliminuje lek oznaczmy szybkość transportu tego leku przez narząd jako $Q$ [ml/min], $C_a$- stężenie leku we krwi tętniczej wpływającej do narządu, $C_v$ - stężenie leku we krwi żylnej opuszczającej narząd. Wtedy iloczyn $C_a \\cdot Q $ określa szybkość transportu do danego narządu, a iloczyn $C_v \\cdot Q$ - szybkość z jaką lek opuszcza ten narząd. Stąd szybkość eliminacji możemy określić jako różnicę $$C_a \\cdot Q - C_v \\cdot Q = Q(C_a - C_v)$$\n",
    "    \n",
    "    Bezwymiarową wielkość zwaną współczynnikiem ekstrakcji (ang. ER - Extraction Ratio) wyraża się jako $$ER = \\frac{Q(C_a - C_v)}{Q \\cdot C_a} = \\frac{C_a - C_v}{C_a}$$ Gdy ER = 0 to narząd nie eliminuje leku ($Ca = Cv$). Przy niemal całkowitej eliminacji leku przez dany narząd $(Cv = 0)$ $ER = 1$. Współczynnik ekstrakcji można traktować jako wskaźnik skuteczności oczyszczania krwi przez dany narząd.\n",
    "    \n",
    "    Klirens ogólnoustrojowy $(Cl_s)$ jest sumą poszczególnych klirensów narządowych. Wyraża się go stosunkiem eliminacji wprowadzonej masy ($X$) leku do jego stężenia we krwi lub osoczu. $$Cl_s = \\frac{1}{C} \\cdot \\frac{\\mathrm{d}X}{\\mathrm{d}t}$$ Całkując powyższe równanie na przedziale czasu od $t = 0$ do $t =\\infty$ uzyskuje sie wyrażenie: $$Cl_s = \\frac{\\int_{0}^{t} (\\frac{dX}{dt})\\,dt }{\\int_{0}^{t} C \\,dt}$$\n",
    "    Wyrażenie w liczniku odpowiada całkowitej masie wyeliminowanego leku, czyli podanej dożylnie dawce $D$, a mianownik równa się poku pod krzywą stężenia leku we krwi jako funkcji czasu ( AUC): $$Cl_s = \\frac{D}{AUC}$$\n",
    "    Z równań (których) można wyznaczyć zależność między parametrami $V_d$, $K$ i $Cl_s$: $$ Vd = \\frac{Cl_s}{K}$$\n"
   ]
  },
  {
   "cell_type": "markdown",
   "metadata": {},
   "source": [
    "## 7. Metody numeryczne"
   ]
  },
  {
   "cell_type": "markdown",
   "metadata": {},
   "source": [
    "### A. Algorytm Rungego-Kutty 4. rzędu"
   ]
  },
  {
   "cell_type": "markdown",
   "metadata": {},
   "source": [
    "Mając równanie w postaci $y' = f(t,y)$ z warunkami początkowymi $y(t_0) = y_0$, przyjmujemy dowolne h, będące wielkością kroku całkowania. Wtedy iteracyjny wzór na y według metody Rungego-Kutty 4. rzędu to: \n",
    "$$ y_{n+1} = y_n + \\Delta y_n,$$\n",
    "$$\\Delta y_n = \\frac{1}{6}\\left(k_1 + 2k_2 + 2k_3 + k_4\\right)$$\n",
    "gdzie:\n",
    "\n",
    "$k_1 = hf(x_n,y_n)$\n",
    "\n",
    "$k_2 = hf\\left(x_n + \\frac{h}{2}, y_n + \\frac{k_1}{2}\\right)$\n",
    "\n",
    "$k_3 = hf\\left(x_n + \\frac{h}{2}, y_n + \\frac{k_2}{2}\\right)$\n",
    "\n",
    "$k_4 = hf(x_n + h, y_n + k_3)$"
   ]
  },
  {
   "cell_type": "markdown",
   "metadata": {},
   "source": [
    "### B. Implementacja"
   ]
  },
  {
   "cell_type": "code",
   "execution_count": 166,
   "metadata": {},
   "outputs": [
    {
     "data": {
      "text/plain": [
       "runge_kutta (generic function with 3 methods)"
      ]
     },
     "execution_count": 166,
     "metadata": {},
     "output_type": "execute_result"
    }
   ],
   "source": [
    "function runge_kutta(f, t, y₀)\n",
    "    y = fill(NaN, length(t))\n",
    "    y[1] = y₀\n",
    "    h = (t[end] - t[1]) / (length(t)-1)\n",
    "    for n in 1:length(t)-1\n",
    "        k₁ = h * f(t[n], y[n])\n",
    "        k₂ = h * f(t[n] + h/2, y[n] + k₁/2)\n",
    "        k₃ = h * f(t[n] + h/2, y[n] + k₂/2)\n",
    "        k₄ = h * f(t[n] + h, y[n] + k₃)\n",
    "        y[n + 1] = y[n] + (k₁ + 2k₂ + 2k₃ + k₄) / 6\n",
    "    end\n",
    "    return y\n",
    "end"
   ]
  },
  {
   "cell_type": "markdown",
   "metadata": {},
   "source": [
    "## 8. Zastosowanie modelu na przykładach<a name=\"8\"></a>"
   ]
  },
  {
   "cell_type": "markdown",
   "metadata": {},
   "source": [
    "### A. Dawka dożylna"
   ]
  },
  {
   "cell_type": "code",
   "execution_count": 167,
   "metadata": {},
   "outputs": [],
   "source": [
    "using Plots"
   ]
  },
  {
   "cell_type": "markdown",
   "metadata": {},
   "source": [
    "Poniższa tabela przedstawia wartośći mierzone stężenia ibuprofenu w osoczu krwi królika ($C$) [mg/l] w różnym czasie ($t$) po podaniu jednorazowej dawki dożylnej soli lizynowej ibuprofenu. $C_0 = 250 \\frac{mg}{l}$, A stała $K$ jest równa 2,44"
   ]
  },
  {
   "cell_type": "markdown",
   "metadata": {},
   "source": [
    "<table>\n",
    "  <tr>\n",
    "    <th>Czas ($t$)</th>\n",
    "    <td>0,083</td>\n",
    "    <td>0,167</td>\n",
    "    <td>0,250</td>\n",
    "    <td>0,367</td>\n",
    "    <td>0,533</td>\n",
    "    <td>0,667</td>\n",
    "    <td>0,833</td>\n",
    "    <td>1,000</td>\n",
    "    <td>1,330</td>\n",
    "    <td>1,420</td>\n",
    "    <td>1,500</td>\n",
    "  </tr>\n",
    "  <tr>\n",
    "    <th>Stężenie ($C$)</th>\n",
    "    <td>217,9</td>\n",
    "    <td>169,3</td>\n",
    "    <td>118,9</td>\n",
    "    <td>102,9</td>\n",
    "    <td>74,7</td>\n",
    "    <td>55,1</td>\n",
    "    <td>36,2</td>\n",
    "    <td>22,8</td>\n",
    "    <td>16,1</td>\n",
    "    <td>9,1</td>\n",
    "    <td>7,3</td>\n",
    "  </tr>\n",
    "</table>"
   ]
  },
  {
   "cell_type": "code",
   "execution_count": 198,
   "metadata": {},
   "outputs": [],
   "source": [
    "t = [0, 0.083, 0.167, 0.250, 0.367, 0.533, 0.667, 0.833, 1.000, 1.330, 1.420, 1.500]\n",
    "C = [250, 217.9, 169.3, 118.9, 102.9, 74.7, 55.1, 36.2, 22.8, 16.1, 9.1, 7.3];"
   ]
  },
  {
   "cell_type": "code",
   "execution_count": 220,
   "metadata": {},
   "outputs": [
    {
     "data": {
      "image/svg+xml": [
       "<?xml version=\"1.0\" encoding=\"utf-8\"?>\n",
       "<svg xmlns=\"http://www.w3.org/2000/svg\" xmlns:xlink=\"http://www.w3.org/1999/xlink\" width=\"600\" height=\"400\" viewBox=\"0 0 2400 1600\">\n",
       "<defs>\n",
       "  <clipPath id=\"clip140\">\n",
       "    <rect x=\"0\" y=\"0\" width=\"2400\" height=\"1600\"/>\n",
       "  </clipPath>\n",
       "</defs>\n",
       "<path clip-path=\"url(#clip140)\" d=\"\n",
       "M0 1600 L2400 1600 L2400 0 L0 0  Z\n",
       "  \" fill=\"#ffffff\" fill-rule=\"evenodd\" fill-opacity=\"1\"/>\n",
       "<defs>\n",
       "  <clipPath id=\"clip141\">\n",
       "    <rect x=\"480\" y=\"0\" width=\"1681\" height=\"1600\"/>\n",
       "  </clipPath>\n",
       "</defs>\n",
       "<path clip-path=\"url(#clip140)\" d=\"\n",
       "M226.232 1423.18 L2352.76 1423.18 L2352.76 47.2441 L226.232 47.2441  Z\n",
       "  \" fill=\"#ffffff\" fill-rule=\"evenodd\" fill-opacity=\"1\"/>\n",
       "<defs>\n",
       "  <clipPath id=\"clip142\">\n",
       "    <rect x=\"226\" y=\"47\" width=\"2128\" height=\"1377\"/>\n",
       "  </clipPath>\n",
       "</defs>\n",
       "<polyline clip-path=\"url(#clip142)\" style=\"stroke:#000000; stroke-width:2; stroke-opacity:0.1; fill:none\" points=\"\n",
       "  286.417,1423.18 286.417,47.2441 \n",
       "  \"/>\n",
       "<polyline clip-path=\"url(#clip142)\" style=\"stroke:#000000; stroke-width:2; stroke-opacity:0.1; fill:none\" points=\"\n",
       "  955.135,1423.18 955.135,47.2441 \n",
       "  \"/>\n",
       "<polyline clip-path=\"url(#clip142)\" style=\"stroke:#000000; stroke-width:2; stroke-opacity:0.1; fill:none\" points=\"\n",
       "  1623.85,1423.18 1623.85,47.2441 \n",
       "  \"/>\n",
       "<polyline clip-path=\"url(#clip142)\" style=\"stroke:#000000; stroke-width:2; stroke-opacity:0.1; fill:none\" points=\"\n",
       "  2292.57,1423.18 2292.57,47.2441 \n",
       "  \"/>\n",
       "<polyline clip-path=\"url(#clip140)\" style=\"stroke:#000000; stroke-width:4; stroke-opacity:1; fill:none\" points=\"\n",
       "  226.232,1423.18 2352.76,1423.18 \n",
       "  \"/>\n",
       "<polyline clip-path=\"url(#clip140)\" style=\"stroke:#000000; stroke-width:4; stroke-opacity:1; fill:none\" points=\"\n",
       "  286.417,1423.18 286.417,1406.67 \n",
       "  \"/>\n",
       "<polyline clip-path=\"url(#clip140)\" style=\"stroke:#000000; stroke-width:4; stroke-opacity:1; fill:none\" points=\"\n",
       "  955.135,1423.18 955.135,1406.67 \n",
       "  \"/>\n",
       "<polyline clip-path=\"url(#clip140)\" style=\"stroke:#000000; stroke-width:4; stroke-opacity:1; fill:none\" points=\"\n",
       "  1623.85,1423.18 1623.85,1406.67 \n",
       "  \"/>\n",
       "<polyline clip-path=\"url(#clip140)\" style=\"stroke:#000000; stroke-width:4; stroke-opacity:1; fill:none\" points=\"\n",
       "  2292.57,1423.18 2292.57,1406.67 \n",
       "  \"/>\n",
       "<path clip-path=\"url(#clip140)\" d=\"M 0 0 M267.933 1452.37 Q264.322 1452.37 262.493 1455.94 Q260.688 1459.48 260.688 1466.61 Q260.688 1473.71 262.493 1477.28 Q264.322 1480.82 267.933 1480.82 Q271.567 1480.82 273.373 1477.28 Q275.201 1473.71 275.201 1466.61 Q275.201 1459.48 273.373 1455.94 Q271.567 1452.37 267.933 1452.37 M267.933 1448.67 Q273.743 1448.67 276.799 1453.27 Q279.877 1457.86 279.877 1466.61 Q279.877 1475.33 276.799 1479.94 Q273.743 1484.52 267.933 1484.52 Q262.123 1484.52 259.044 1479.94 Q255.989 1475.33 255.989 1466.61 Q255.989 1457.86 259.044 1453.27 Q262.123 1448.67 267.933 1448.67 Z\" fill=\"#000000\" fill-rule=\"evenodd\" fill-opacity=\"1\" /><path clip-path=\"url(#clip140)\" d=\"M 0 0 M284.947 1477.97 L289.831 1477.97 L289.831 1483.85 L284.947 1483.85 L284.947 1477.97 Z\" fill=\"#000000\" fill-rule=\"evenodd\" fill-opacity=\"1\" /><path clip-path=\"url(#clip140)\" d=\"M 0 0 M304.9 1452.37 Q301.289 1452.37 299.461 1455.94 Q297.655 1459.48 297.655 1466.61 Q297.655 1473.71 299.461 1477.28 Q301.289 1480.82 304.9 1480.82 Q308.535 1480.82 310.34 1477.28 Q312.169 1473.71 312.169 1466.61 Q312.169 1459.48 310.34 1455.94 Q308.535 1452.37 304.9 1452.37 M304.9 1448.67 Q310.71 1448.67 313.766 1453.27 Q316.845 1457.86 316.845 1466.61 Q316.845 1475.33 313.766 1479.94 Q310.71 1484.52 304.9 1484.52 Q299.09 1484.52 296.011 1479.94 Q292.956 1475.33 292.956 1466.61 Q292.956 1457.86 296.011 1453.27 Q299.09 1448.67 304.9 1448.67 Z\" fill=\"#000000\" fill-rule=\"evenodd\" fill-opacity=\"1\" /><path clip-path=\"url(#clip140)\" d=\"M 0 0 M937.149 1452.37 Q933.538 1452.37 931.709 1455.94 Q929.903 1459.48 929.903 1466.61 Q929.903 1473.71 931.709 1477.28 Q933.538 1480.82 937.149 1480.82 Q940.783 1480.82 942.589 1477.28 Q944.417 1473.71 944.417 1466.61 Q944.417 1459.48 942.589 1455.94 Q940.783 1452.37 937.149 1452.37 M937.149 1448.67 Q942.959 1448.67 946.015 1453.27 Q949.093 1457.86 949.093 1466.61 Q949.093 1475.33 946.015 1479.94 Q942.959 1484.52 937.149 1484.52 Q931.339 1484.52 928.26 1479.94 Q925.204 1475.33 925.204 1466.61 Q925.204 1457.86 928.26 1453.27 Q931.339 1448.67 937.149 1448.67 Z\" fill=\"#000000\" fill-rule=\"evenodd\" fill-opacity=\"1\" /><path clip-path=\"url(#clip140)\" d=\"M 0 0 M954.163 1477.97 L959.047 1477.97 L959.047 1483.85 L954.163 1483.85 L954.163 1477.97 Z\" fill=\"#000000\" fill-rule=\"evenodd\" fill-opacity=\"1\" /><path clip-path=\"url(#clip140)\" d=\"M 0 0 M964.163 1449.29 L982.519 1449.29 L982.519 1453.23 L968.445 1453.23 L968.445 1461.7 Q969.463 1461.35 970.482 1461.19 Q971.5 1461 972.519 1461 Q978.306 1461 981.686 1464.18 Q985.065 1467.35 985.065 1472.76 Q985.065 1478.34 981.593 1481.44 Q978.121 1484.52 971.801 1484.52 Q969.625 1484.52 967.357 1484.15 Q965.112 1483.78 962.704 1483.04 L962.704 1478.34 Q964.788 1479.48 967.01 1480.03 Q969.232 1480.59 971.709 1480.59 Q975.713 1480.59 978.051 1478.48 Q980.389 1476.38 980.389 1472.76 Q980.389 1469.15 978.051 1467.05 Q975.713 1464.94 971.709 1464.94 Q969.834 1464.94 967.959 1465.36 Q966.107 1465.77 964.163 1466.65 L964.163 1449.29 Z\" fill=\"#000000\" fill-rule=\"evenodd\" fill-opacity=\"1\" /><path clip-path=\"url(#clip140)\" d=\"M 0 0 M1595.75 1479.92 L1603.39 1479.92 L1603.39 1453.55 L1595.08 1455.22 L1595.08 1450.96 L1603.34 1449.29 L1608.02 1449.29 L1608.02 1479.92 L1615.66 1479.92 L1615.66 1483.85 L1595.75 1483.85 L1595.75 1479.92 Z\" fill=\"#000000\" fill-rule=\"evenodd\" fill-opacity=\"1\" /><path clip-path=\"url(#clip140)\" d=\"M 0 0 M1620.73 1477.97 L1625.61 1477.97 L1625.61 1483.85 L1620.73 1483.85 L1620.73 1477.97 Z\" fill=\"#000000\" fill-rule=\"evenodd\" fill-opacity=\"1\" /><path clip-path=\"url(#clip140)\" d=\"M 0 0 M1640.68 1452.37 Q1637.07 1452.37 1635.24 1455.94 Q1633.44 1459.48 1633.44 1466.61 Q1633.44 1473.71 1635.24 1477.28 Q1637.07 1480.82 1640.68 1480.82 Q1644.32 1480.82 1646.12 1477.28 Q1647.95 1473.71 1647.95 1466.61 Q1647.95 1459.48 1646.12 1455.94 Q1644.32 1452.37 1640.68 1452.37 M1640.68 1448.67 Q1646.49 1448.67 1649.55 1453.27 Q1652.63 1457.86 1652.63 1466.61 Q1652.63 1475.33 1649.55 1479.94 Q1646.49 1484.52 1640.68 1484.52 Q1634.87 1484.52 1631.79 1479.94 Q1628.74 1475.33 1628.74 1466.61 Q1628.74 1457.86 1631.79 1453.27 Q1634.87 1448.67 1640.68 1448.67 Z\" fill=\"#000000\" fill-rule=\"evenodd\" fill-opacity=\"1\" /><path clip-path=\"url(#clip140)\" d=\"M 0 0 M2264.97 1479.92 L2272.61 1479.92 L2272.61 1453.55 L2264.3 1455.22 L2264.3 1450.96 L2272.56 1449.29 L2277.24 1449.29 L2277.24 1479.92 L2284.87 1479.92 L2284.87 1483.85 L2264.97 1483.85 L2264.97 1479.92 Z\" fill=\"#000000\" fill-rule=\"evenodd\" fill-opacity=\"1\" /><path clip-path=\"url(#clip140)\" d=\"M 0 0 M2289.94 1477.97 L2294.83 1477.97 L2294.83 1483.85 L2289.94 1483.85 L2289.94 1477.97 Z\" fill=\"#000000\" fill-rule=\"evenodd\" fill-opacity=\"1\" /><path clip-path=\"url(#clip140)\" d=\"M 0 0 M2299.94 1449.29 L2318.3 1449.29 L2318.3 1453.23 L2304.23 1453.23 L2304.23 1461.7 Q2305.24 1461.35 2306.26 1461.19 Q2307.28 1461 2308.3 1461 Q2314.09 1461 2317.47 1464.18 Q2320.85 1467.35 2320.85 1472.76 Q2320.85 1478.34 2317.37 1481.44 Q2313.9 1484.52 2307.58 1484.52 Q2305.41 1484.52 2303.14 1484.15 Q2300.89 1483.78 2298.49 1483.04 L2298.49 1478.34 Q2300.57 1479.48 2302.79 1480.03 Q2305.01 1480.59 2307.49 1480.59 Q2311.49 1480.59 2313.83 1478.48 Q2316.17 1476.38 2316.17 1472.76 Q2316.17 1469.15 2313.83 1467.05 Q2311.49 1464.94 2307.49 1464.94 Q2305.62 1464.94 2303.74 1465.36 Q2301.89 1465.77 2299.94 1466.65 L2299.94 1449.29 Z\" fill=\"#000000\" fill-rule=\"evenodd\" fill-opacity=\"1\" /><path clip-path=\"url(#clip140)\" d=\"M 0 0 M1240.84 1522.27 L1240.84 1532.4 L1252.91 1532.4 L1252.91 1536.95 L1240.84 1536.95 L1240.84 1556.3 Q1240.84 1560.66 1242.02 1561.9 Q1243.23 1563.14 1246.89 1563.14 L1252.91 1563.14 L1252.91 1568.04 L1246.89 1568.04 Q1240.11 1568.04 1237.53 1565.53 Q1234.96 1562.98 1234.96 1556.3 L1234.96 1536.95 L1230.66 1536.95 L1230.66 1532.4 L1234.96 1532.4 L1234.96 1522.27 L1240.84 1522.27 Z\" fill=\"#000000\" fill-rule=\"evenodd\" fill-opacity=\"1\" /><path clip-path=\"url(#clip140)\" d=\"M 0 0 M1279.23 1518.52 L1292.72 1518.52 L1292.72 1523.07 L1285.09 1523.07 L1285.09 1572.09 L1292.72 1572.09 L1292.72 1576.64 L1279.23 1576.64 L1279.23 1518.52 Z\" fill=\"#000000\" fill-rule=\"evenodd\" fill-opacity=\"1\" /><path clip-path=\"url(#clip140)\" d=\"M 0 0 M1328.5 1546.53 L1328.5 1568.04 L1322.64 1568.04 L1322.64 1546.72 Q1322.64 1541.66 1320.67 1539.14 Q1318.7 1536.63 1314.75 1536.63 Q1310.01 1536.63 1307.27 1539.65 Q1304.53 1542.68 1304.53 1547.9 L1304.53 1568.04 L1298.64 1568.04 L1298.64 1518.52 L1304.53 1518.52 L1304.53 1537.93 Q1306.63 1534.72 1309.47 1533.13 Q1312.33 1531.54 1316.05 1531.54 Q1322.2 1531.54 1325.35 1535.36 Q1328.5 1539.14 1328.5 1546.53 Z\" fill=\"#000000\" fill-rule=\"evenodd\" fill-opacity=\"1\" /><path clip-path=\"url(#clip140)\" d=\"M 0 0 M1348.33 1518.52 L1348.33 1576.64 L1334.83 1576.64 L1334.83 1572.09 L1342.44 1572.09 L1342.44 1523.07 L1334.83 1523.07 L1334.83 1518.52 L1348.33 1518.52 Z\" fill=\"#000000\" fill-rule=\"evenodd\" fill-opacity=\"1\" /><polyline clip-path=\"url(#clip142)\" style=\"stroke:#000000; stroke-width:2; stroke-opacity:0.1; fill:none\" points=\"\n",
       "  226.232,1155.86 2352.76,1155.86 \n",
       "  \"/>\n",
       "<polyline clip-path=\"url(#clip142)\" style=\"stroke:#000000; stroke-width:2; stroke-opacity:0.1; fill:none\" points=\"\n",
       "  226.232,888.443 2352.76,888.443 \n",
       "  \"/>\n",
       "<polyline clip-path=\"url(#clip142)\" style=\"stroke:#000000; stroke-width:2; stroke-opacity:0.1; fill:none\" points=\"\n",
       "  226.232,621.024 2352.76,621.024 \n",
       "  \"/>\n",
       "<polyline clip-path=\"url(#clip142)\" style=\"stroke:#000000; stroke-width:2; stroke-opacity:0.1; fill:none\" points=\"\n",
       "  226.232,353.605 2352.76,353.605 \n",
       "  \"/>\n",
       "<polyline clip-path=\"url(#clip142)\" style=\"stroke:#000000; stroke-width:2; stroke-opacity:0.1; fill:none\" points=\"\n",
       "  226.232,86.1857 2352.76,86.1857 \n",
       "  \"/>\n",
       "<polyline clip-path=\"url(#clip140)\" style=\"stroke:#000000; stroke-width:4; stroke-opacity:1; fill:none\" points=\"\n",
       "  226.232,1423.18 226.232,47.2441 \n",
       "  \"/>\n",
       "<polyline clip-path=\"url(#clip140)\" style=\"stroke:#000000; stroke-width:4; stroke-opacity:1; fill:none\" points=\"\n",
       "  226.232,1155.86 251.75,1155.86 \n",
       "  \"/>\n",
       "<polyline clip-path=\"url(#clip140)\" style=\"stroke:#000000; stroke-width:4; stroke-opacity:1; fill:none\" points=\"\n",
       "  226.232,888.443 251.75,888.443 \n",
       "  \"/>\n",
       "<polyline clip-path=\"url(#clip140)\" style=\"stroke:#000000; stroke-width:4; stroke-opacity:1; fill:none\" points=\"\n",
       "  226.232,621.024 251.75,621.024 \n",
       "  \"/>\n",
       "<polyline clip-path=\"url(#clip140)\" style=\"stroke:#000000; stroke-width:4; stroke-opacity:1; fill:none\" points=\"\n",
       "  226.232,353.605 251.75,353.605 \n",
       "  \"/>\n",
       "<polyline clip-path=\"url(#clip140)\" style=\"stroke:#000000; stroke-width:4; stroke-opacity:1; fill:none\" points=\"\n",
       "  226.232,86.1857 251.75,86.1857 \n",
       "  \"/>\n",
       "<path clip-path=\"url(#clip140)\" d=\"M 0 0 M142.316 1138.58 L160.672 1138.58 L160.672 1142.52 L146.598 1142.52 L146.598 1150.99 Q147.616 1150.64 148.635 1150.48 Q149.653 1150.3 150.672 1150.3 Q156.459 1150.3 159.839 1153.47 Q163.218 1156.64 163.218 1162.05 Q163.218 1167.63 159.746 1170.73 Q156.274 1173.81 149.954 1173.81 Q147.778 1173.81 145.51 1173.44 Q143.265 1173.07 140.857 1172.33 L140.857 1167.63 Q142.941 1168.77 145.163 1169.32 Q147.385 1169.88 149.862 1169.88 Q153.866 1169.88 156.204 1167.77 Q158.542 1165.67 158.542 1162.05 Q158.542 1158.44 156.204 1156.34 Q153.866 1154.23 149.862 1154.23 Q147.987 1154.23 146.112 1154.65 Q144.26 1155.06 142.316 1155.94 L142.316 1138.58 Z\" fill=\"#000000\" fill-rule=\"evenodd\" fill-opacity=\"1\" /><path clip-path=\"url(#clip140)\" d=\"M 0 0 M178.288 1141.66 Q174.677 1141.66 172.848 1145.23 Q171.042 1148.77 171.042 1155.9 Q171.042 1163 172.848 1166.57 Q174.677 1170.11 178.288 1170.11 Q181.922 1170.11 183.727 1166.57 Q185.556 1163 185.556 1155.9 Q185.556 1148.77 183.727 1145.23 Q181.922 1141.66 178.288 1141.66 M178.288 1137.96 Q184.098 1137.96 187.153 1142.56 Q190.232 1147.15 190.232 1155.9 Q190.232 1164.62 187.153 1169.23 Q184.098 1173.81 178.288 1173.81 Q172.477 1173.81 169.399 1169.23 Q166.343 1164.62 166.343 1155.9 Q166.343 1147.15 169.399 1142.56 Q172.477 1137.96 178.288 1137.96 Z\" fill=\"#000000\" fill-rule=\"evenodd\" fill-opacity=\"1\" /><path clip-path=\"url(#clip140)\" d=\"M 0 0 M116.297 901.788 L123.936 901.788 L123.936 875.422 L115.626 877.089 L115.626 872.83 L123.89 871.163 L128.566 871.163 L128.566 901.788 L136.204 901.788 L136.204 905.723 L116.297 905.723 L116.297 901.788 Z\" fill=\"#000000\" fill-rule=\"evenodd\" fill-opacity=\"1\" /><path clip-path=\"url(#clip140)\" d=\"M 0 0 M151.274 874.242 Q147.663 874.242 145.834 877.807 Q144.029 881.348 144.029 888.478 Q144.029 895.584 145.834 899.149 Q147.663 902.691 151.274 902.691 Q154.908 902.691 156.714 899.149 Q158.542 895.584 158.542 888.478 Q158.542 881.348 156.714 877.807 Q154.908 874.242 151.274 874.242 M151.274 870.538 Q157.084 870.538 160.14 875.145 Q163.218 879.728 163.218 888.478 Q163.218 897.205 160.14 901.811 Q157.084 906.394 151.274 906.394 Q145.464 906.394 142.385 901.811 Q139.329 897.205 139.329 888.478 Q139.329 879.728 142.385 875.145 Q145.464 870.538 151.274 870.538 Z\" fill=\"#000000\" fill-rule=\"evenodd\" fill-opacity=\"1\" /><path clip-path=\"url(#clip140)\" d=\"M 0 0 M178.288 874.242 Q174.677 874.242 172.848 877.807 Q171.042 881.348 171.042 888.478 Q171.042 895.584 172.848 899.149 Q174.677 902.691 178.288 902.691 Q181.922 902.691 183.727 899.149 Q185.556 895.584 185.556 888.478 Q185.556 881.348 183.727 877.807 Q181.922 874.242 178.288 874.242 M178.288 870.538 Q184.098 870.538 187.153 875.145 Q190.232 879.728 190.232 888.478 Q190.232 897.205 187.153 901.811 Q184.098 906.394 178.288 906.394 Q172.477 906.394 169.399 901.811 Q166.343 897.205 166.343 888.478 Q166.343 879.728 169.399 875.145 Q172.477 870.538 178.288 870.538 Z\" fill=\"#000000\" fill-rule=\"evenodd\" fill-opacity=\"1\" /><path clip-path=\"url(#clip140)\" d=\"M 0 0 M117.293 634.369 L124.931 634.369 L124.931 608.003 L116.621 609.67 L116.621 605.411 L124.885 603.744 L129.561 603.744 L129.561 634.369 L137.2 634.369 L137.2 638.304 L117.293 638.304 L117.293 634.369 Z\" fill=\"#000000\" fill-rule=\"evenodd\" fill-opacity=\"1\" /><path clip-path=\"url(#clip140)\" d=\"M 0 0 M142.316 603.744 L160.672 603.744 L160.672 607.679 L146.598 607.679 L146.598 616.151 Q147.616 615.804 148.635 615.642 Q149.653 615.457 150.672 615.457 Q156.459 615.457 159.839 618.628 Q163.218 621.799 163.218 627.216 Q163.218 632.795 159.746 635.897 Q156.274 638.975 149.954 638.975 Q147.778 638.975 145.51 638.605 Q143.265 638.235 140.857 637.494 L140.857 632.795 Q142.941 633.929 145.163 634.485 Q147.385 635.04 149.862 635.04 Q153.866 635.04 156.204 632.934 Q158.542 630.827 158.542 627.216 Q158.542 623.605 156.204 621.499 Q153.866 619.392 149.862 619.392 Q147.987 619.392 146.112 619.809 Q144.26 620.225 142.316 621.105 L142.316 603.744 Z\" fill=\"#000000\" fill-rule=\"evenodd\" fill-opacity=\"1\" /><path clip-path=\"url(#clip140)\" d=\"M 0 0 M178.288 606.823 Q174.677 606.823 172.848 610.387 Q171.042 613.929 171.042 621.059 Q171.042 628.165 172.848 631.73 Q174.677 635.272 178.288 635.272 Q181.922 635.272 183.727 631.73 Q185.556 628.165 185.556 621.059 Q185.556 613.929 183.727 610.387 Q181.922 606.823 178.288 606.823 M178.288 603.119 Q184.098 603.119 187.153 607.725 Q190.232 612.309 190.232 621.059 Q190.232 629.786 187.153 634.392 Q184.098 638.975 178.288 638.975 Q172.477 638.975 169.399 634.392 Q166.343 629.786 166.343 621.059 Q166.343 612.309 169.399 607.725 Q172.477 603.119 178.288 603.119 Z\" fill=\"#000000\" fill-rule=\"evenodd\" fill-opacity=\"1\" /><path clip-path=\"url(#clip140)\" d=\"M 0 0 M119.885 366.95 L136.204 366.95 L136.204 370.885 L114.26 370.885 L114.26 366.95 Q116.922 364.195 121.505 359.565 Q126.112 354.913 127.292 353.57 Q129.538 351.047 130.417 349.311 Q131.32 347.552 131.32 345.862 Q131.32 343.107 129.376 341.371 Q127.455 339.635 124.353 339.635 Q122.154 339.635 119.7 340.399 Q117.269 341.163 114.492 342.714 L114.492 337.991 Q117.316 336.857 119.769 336.279 Q122.223 335.7 124.26 335.7 Q129.63 335.7 132.825 338.385 Q136.019 341.07 136.019 345.561 Q136.019 347.691 135.209 349.612 Q134.422 351.51 132.316 354.103 Q131.737 354.774 128.635 357.991 Q125.533 361.186 119.885 366.95 Z\" fill=\"#000000\" fill-rule=\"evenodd\" fill-opacity=\"1\" /><path clip-path=\"url(#clip140)\" d=\"M 0 0 M151.274 339.404 Q147.663 339.404 145.834 342.968 Q144.029 346.51 144.029 353.64 Q144.029 360.746 145.834 364.311 Q147.663 367.852 151.274 367.852 Q154.908 367.852 156.714 364.311 Q158.542 360.746 158.542 353.64 Q158.542 346.51 156.714 342.968 Q154.908 339.404 151.274 339.404 M151.274 335.7 Q157.084 335.7 160.14 340.306 Q163.218 344.89 163.218 353.64 Q163.218 362.366 160.14 366.973 Q157.084 371.556 151.274 371.556 Q145.464 371.556 142.385 366.973 Q139.329 362.366 139.329 353.64 Q139.329 344.89 142.385 340.306 Q145.464 335.7 151.274 335.7 Z\" fill=\"#000000\" fill-rule=\"evenodd\" fill-opacity=\"1\" /><path clip-path=\"url(#clip140)\" d=\"M 0 0 M178.288 339.404 Q174.677 339.404 172.848 342.968 Q171.042 346.51 171.042 353.64 Q171.042 360.746 172.848 364.311 Q174.677 367.852 178.288 367.852 Q181.922 367.852 183.727 364.311 Q185.556 360.746 185.556 353.64 Q185.556 346.51 183.727 342.968 Q181.922 339.404 178.288 339.404 M178.288 335.7 Q184.098 335.7 187.153 340.306 Q190.232 344.89 190.232 353.64 Q190.232 362.366 187.153 366.973 Q184.098 371.556 178.288 371.556 Q172.477 371.556 169.399 366.973 Q166.343 362.366 166.343 353.64 Q166.343 344.89 169.399 340.306 Q172.477 335.7 178.288 335.7 Z\" fill=\"#000000\" fill-rule=\"evenodd\" fill-opacity=\"1\" /><path clip-path=\"url(#clip140)\" d=\"M 0 0 M120.88 99.5305 L137.2 99.5305 L137.2 103.466 L115.256 103.466 L115.256 99.5305 Q117.918 96.7759 122.501 92.1463 Q127.107 87.4935 128.288 86.151 Q130.533 83.6278 131.413 81.8917 Q132.316 80.1325 132.316 78.4427 Q132.316 75.688 130.371 73.9519 Q128.45 72.2158 125.348 72.2158 Q123.149 72.2158 120.695 72.9797 Q118.265 73.7436 115.487 75.2945 L115.487 70.5723 Q118.311 69.4381 120.765 68.8594 Q123.218 68.2807 125.255 68.2807 Q130.626 68.2807 133.82 70.9658 Q137.015 73.651 137.015 78.1417 Q137.015 80.2714 136.204 82.1926 Q135.417 84.0908 133.311 86.6834 Q132.732 87.3546 129.63 90.5722 Q126.529 93.7667 120.88 99.5305 Z\" fill=\"#000000\" fill-rule=\"evenodd\" fill-opacity=\"1\" /><path clip-path=\"url(#clip140)\" d=\"M 0 0 M142.316 68.9057 L160.672 68.9057 L160.672 72.8408 L146.598 72.8408 L146.598 81.313 Q147.616 80.9658 148.635 80.8038 Q149.653 80.6186 150.672 80.6186 Q156.459 80.6186 159.839 83.7899 Q163.218 86.9611 163.218 92.3778 Q163.218 97.9564 159.746 101.058 Q156.274 104.137 149.954 104.137 Q147.778 104.137 145.51 103.767 Q143.265 103.396 140.857 102.655 L140.857 97.9564 Q142.941 99.0907 145.163 99.6462 Q147.385 100.202 149.862 100.202 Q153.866 100.202 156.204 98.0953 Q158.542 95.9889 158.542 92.3778 Q158.542 88.7667 156.204 86.6602 Q153.866 84.5537 149.862 84.5537 Q147.987 84.5537 146.112 84.9704 Q144.26 85.3871 142.316 86.2667 L142.316 68.9057 Z\" fill=\"#000000\" fill-rule=\"evenodd\" fill-opacity=\"1\" /><path clip-path=\"url(#clip140)\" d=\"M 0 0 M178.288 71.9844 Q174.677 71.9844 172.848 75.5492 Q171.042 79.0908 171.042 86.2204 Q171.042 93.3268 172.848 96.8916 Q174.677 100.433 178.288 100.433 Q181.922 100.433 183.727 96.8916 Q185.556 93.3268 185.556 86.2204 Q185.556 79.0908 183.727 75.5492 Q181.922 71.9844 178.288 71.9844 M178.288 68.2807 Q184.098 68.2807 187.153 72.8871 Q190.232 77.4704 190.232 86.2204 Q190.232 94.9472 187.153 99.5537 Q184.098 104.137 178.288 104.137 Q172.477 104.137 169.399 99.5537 Q166.343 94.9472 166.343 86.2204 Q166.343 77.4704 169.399 72.8871 Q172.477 68.2807 178.288 68.2807 Z\" fill=\"#000000\" fill-rule=\"evenodd\" fill-opacity=\"1\" /><path clip-path=\"url(#clip140)\" d=\"M 0 0 M20.1444 809.563 L26.9239 809.563 Q23.9002 812.81 22.4043 816.502 Q20.9083 820.162 20.9083 824.3 Q20.9083 832.448 25.9054 836.777 Q30.8707 841.105 40.2919 841.105 Q49.6813 841.105 54.6784 836.777 Q59.6436 832.448 59.6436 824.3 Q59.6436 820.162 58.1477 816.502 Q56.6518 812.81 53.6281 809.563 L60.3439 809.563 Q62.6355 812.937 63.7814 816.725 Q64.9272 820.481 64.9272 824.682 Q64.9272 835.472 58.3387 841.678 Q51.7183 847.885 40.2919 847.885 Q28.8336 847.885 22.2451 841.678 Q15.6248 835.472 15.6248 824.682 Q15.6248 820.417 16.7706 816.661 Q17.8846 812.874 20.1444 809.563 Z\" fill=\"#000000\" fill-rule=\"evenodd\" fill-opacity=\"1\" /><path clip-path=\"url(#clip140)\" d=\"M 0 0 M14.479 783.241 L14.479 769.746 L19.0304 769.746 L19.0304 777.385 L68.0464 777.385 L68.0464 769.746 L72.5979 769.746 L72.5979 783.241 L14.479 783.241 Z\" fill=\"#000000\" fill-rule=\"evenodd\" fill-opacity=\"1\" /><path clip-path=\"url(#clip140)\" d=\"M 0 0 M35.1993 735.849 Q31.2526 733.652 29.3747 730.597 Q27.4968 727.541 27.4968 723.404 Q27.4968 717.834 31.4117 714.81 Q35.2948 711.786 42.4881 711.786 L64.0042 711.786 L64.0042 717.674 L42.679 717.674 Q37.5546 717.674 35.072 719.489 Q32.5894 721.303 32.5894 725.027 Q32.5894 729.578 35.6131 732.22 Q38.6368 734.862 43.8567 734.862 L64.0042 734.862 L64.0042 740.75 L42.679 740.75 Q37.5228 740.75 35.072 742.564 Q32.5894 744.379 32.5894 748.166 Q32.5894 752.654 35.6449 755.296 Q38.6686 757.938 43.8567 757.938 L64.0042 757.938 L64.0042 763.826 L28.3562 763.826 L28.3562 757.938 L33.8944 757.938 Q30.616 755.932 29.0564 753.131 Q27.4968 750.331 27.4968 746.479 Q27.4968 742.596 29.4702 739.891 Q31.4436 737.154 35.1993 735.849 Z\" fill=\"#000000\" fill-rule=\"evenodd\" fill-opacity=\"1\" /><path clip-path=\"url(#clip140)\" d=\"M 0 0 M45.7664 682.186 Q39.4007 682.186 35.8996 684.827 Q32.3984 687.437 32.3984 692.18 Q32.3984 696.89 35.8996 699.532 Q39.4007 702.142 45.7664 702.142 Q52.1003 702.142 55.6014 699.532 Q59.1026 696.89 59.1026 692.18 Q59.1026 687.437 55.6014 684.827 Q52.1003 682.186 45.7664 682.186 M59.58 676.329 Q68.683 676.329 73.1071 680.371 Q77.5631 684.414 77.5631 692.753 Q77.5631 695.84 77.0857 698.577 Q76.6401 701.315 75.6852 703.893 L69.9879 703.893 Q71.3884 701.315 72.0568 698.8 Q72.7252 696.286 72.7252 693.676 Q72.7252 687.915 69.7015 685.05 Q66.7096 682.186 60.6303 682.186 L57.7339 682.186 Q60.885 684 62.4446 686.833 Q64.0042 689.665 64.0042 693.612 Q64.0042 700.169 59.0071 704.179 Q54.01 708.19 45.7664 708.19 Q37.491 708.19 32.4939 704.179 Q27.4968 700.169 27.4968 693.612 Q27.4968 689.665 29.0564 686.833 Q30.616 684 33.7671 682.186 L28.3562 682.186 L28.3562 676.329 L59.58 676.329 Z\" fill=\"#000000\" fill-rule=\"evenodd\" fill-opacity=\"1\" /><path clip-path=\"url(#clip140)\" d=\"M 0 0 M16.4842 659.778 L16.4842 654.367 L70.0516 670.918 L70.0516 676.329 L16.4842 659.778 Z\" fill=\"#000000\" fill-rule=\"evenodd\" fill-opacity=\"1\" /><path clip-path=\"url(#clip140)\" d=\"M 0 0 M14.479 648.225 L14.479 642.368 L64.0042 642.368 L64.0042 648.225 L14.479 648.225 Z\" fill=\"#000000\" fill-rule=\"evenodd\" fill-opacity=\"1\" /><path clip-path=\"url(#clip140)\" d=\"M 0 0 M14.479 622.539 L72.5979 622.539 L72.5979 636.034 L68.0464 636.034 L68.0464 628.427 L19.0304 628.427 L19.0304 636.034 L14.479 636.034 L14.479 622.539 Z\" fill=\"#000000\" fill-rule=\"evenodd\" fill-opacity=\"1\" /><circle clip-path=\"url(#clip142)\" cx=\"286.417\" cy=\"86.1857\" r=\"14\" fill=\"#da70d6\" fill-rule=\"evenodd\" fill-opacity=\"1\" stroke=\"#000000\" stroke-opacity=\"1\" stroke-width=\"3.2\"/>\n",
       "<circle clip-path=\"url(#clip142)\" cx=\"397.424\" cy=\"257.869\" r=\"14\" fill=\"#da70d6\" fill-rule=\"evenodd\" fill-opacity=\"1\" stroke=\"#000000\" stroke-opacity=\"1\" stroke-width=\"3.2\"/>\n",
       "<circle clip-path=\"url(#clip142)\" cx=\"509.768\" cy=\"517.8\" r=\"14\" fill=\"#da70d6\" fill-rule=\"evenodd\" fill-opacity=\"1\" stroke=\"#000000\" stroke-opacity=\"1\" stroke-width=\"3.2\"/>\n",
       "<circle clip-path=\"url(#clip142)\" cx=\"620.776\" cy=\"787.359\" r=\"14\" fill=\"#da70d6\" fill-rule=\"evenodd\" fill-opacity=\"1\" stroke=\"#000000\" stroke-opacity=\"1\" stroke-width=\"3.2\"/>\n",
       "<circle clip-path=\"url(#clip142)\" cx=\"777.256\" cy=\"872.933\" r=\"14\" fill=\"#da70d6\" fill-rule=\"evenodd\" fill-opacity=\"1\" stroke=\"#000000\" stroke-opacity=\"1\" stroke-width=\"3.2\"/>\n",
       "<circle clip-path=\"url(#clip142)\" cx=\"999.27\" cy=\"1023.76\" r=\"14\" fill=\"#da70d6\" fill-rule=\"evenodd\" fill-opacity=\"1\" stroke=\"#000000\" stroke-opacity=\"1\" stroke-width=\"3.2\"/>\n",
       "<circle clip-path=\"url(#clip142)\" cx=\"1178.49\" cy=\"1128.59\" r=\"14\" fill=\"#da70d6\" fill-rule=\"evenodd\" fill-opacity=\"1\" stroke=\"#000000\" stroke-opacity=\"1\" stroke-width=\"3.2\"/>\n",
       "<circle clip-path=\"url(#clip142)\" cx=\"1400.5\" cy=\"1229.67\" r=\"14\" fill=\"#da70d6\" fill-rule=\"evenodd\" fill-opacity=\"1\" stroke=\"#000000\" stroke-opacity=\"1\" stroke-width=\"3.2\"/>\n",
       "<circle clip-path=\"url(#clip142)\" cx=\"1623.85\" cy=\"1301.34\" r=\"14\" fill=\"#da70d6\" fill-rule=\"evenodd\" fill-opacity=\"1\" stroke=\"#000000\" stroke-opacity=\"1\" stroke-width=\"3.2\"/>\n",
       "<circle clip-path=\"url(#clip142)\" cx=\"2065.21\" cy=\"1337.17\" r=\"14\" fill=\"#da70d6\" fill-rule=\"evenodd\" fill-opacity=\"1\" stroke=\"#000000\" stroke-opacity=\"1\" stroke-width=\"3.2\"/>\n",
       "<circle clip-path=\"url(#clip142)\" cx=\"2185.58\" cy=\"1374.61\" r=\"14\" fill=\"#da70d6\" fill-rule=\"evenodd\" fill-opacity=\"1\" stroke=\"#000000\" stroke-opacity=\"1\" stroke-width=\"3.2\"/>\n",
       "<circle clip-path=\"url(#clip142)\" cx=\"2292.57\" cy=\"1384.24\" r=\"14\" fill=\"#da70d6\" fill-rule=\"evenodd\" fill-opacity=\"1\" stroke=\"#000000\" stroke-opacity=\"1\" stroke-width=\"3.2\"/>\n",
       "<path clip-path=\"url(#clip140)\" d=\"\n",
       "M1654.46 214.069 L2281.87 214.069 L2281.87 93.1086 L1654.46 93.1086  Z\n",
       "  \" fill=\"#ffffff\" fill-rule=\"evenodd\" fill-opacity=\"1\"/>\n",
       "<polyline clip-path=\"url(#clip140)\" style=\"stroke:#000000; stroke-width:4; stroke-opacity:1; fill:none\" points=\"\n",
       "  1654.46,214.069 2281.87,214.069 2281.87,93.1086 1654.46,93.1086 1654.46,214.069 \n",
       "  \"/>\n",
       "<circle clip-path=\"url(#clip140)\" cx=\"1748.97\" cy=\"153.589\" r=\"23\" fill=\"#da70d6\" fill-rule=\"evenodd\" fill-opacity=\"1\" stroke=\"#000000\" stroke-opacity=\"1\" stroke-width=\"5.12\"/>\n",
       "<path clip-path=\"url(#clip140)\" d=\"M 0 0 M1843.48 144.943 L1847.74 144.943 L1853.07 165.174 L1858.37 144.943 L1863.39 144.943 L1868.71 165.174 L1874.02 144.943 L1878.28 144.943 L1871.49 170.869 L1866.47 170.869 L1860.89 149.619 L1855.29 170.869 L1850.27 170.869 L1843.48 144.943 Z\" fill=\"#000000\" fill-rule=\"evenodd\" fill-opacity=\"1\" /><path clip-path=\"url(#clip140)\" d=\"M 0 0 M1894.52 157.836 Q1889.36 157.836 1887.37 159.017 Q1885.38 160.197 1885.38 163.045 Q1885.38 165.313 1886.86 166.656 Q1888.37 167.975 1890.94 167.975 Q1894.48 167.975 1896.61 165.475 Q1898.76 162.952 1898.76 158.785 L1898.76 157.836 L1894.52 157.836 M1903.02 156.077 L1903.02 170.869 L1898.76 170.869 L1898.76 166.933 Q1897.3 169.295 1895.13 170.429 Q1892.95 171.54 1889.8 171.54 Q1885.82 171.54 1883.46 169.318 Q1881.12 167.072 1881.12 163.322 Q1881.12 158.947 1884.04 156.725 Q1886.98 154.503 1892.79 154.503 L1898.76 154.503 L1898.76 154.086 Q1898.76 151.147 1896.82 149.549 Q1894.9 147.929 1891.4 147.929 Q1889.18 147.929 1887.07 148.461 Q1884.96 148.994 1883.02 150.059 L1883.02 146.123 Q1885.36 145.221 1887.56 144.781 Q1889.76 144.318 1891.84 144.318 Q1897.46 144.318 1900.24 147.234 Q1903.02 150.151 1903.02 156.077 Z\" fill=\"#000000\" fill-rule=\"evenodd\" fill-opacity=\"1\" /><path clip-path=\"url(#clip140)\" d=\"M 0 0 M1922.51 148.924 Q1921.79 148.508 1920.94 148.322 Q1920.1 148.114 1919.08 148.114 Q1915.47 148.114 1913.53 150.475 Q1911.61 152.813 1911.61 157.211 L1911.61 170.869 L1907.33 170.869 L1907.33 144.943 L1911.61 144.943 L1911.61 148.971 Q1912.95 146.609 1915.1 145.475 Q1917.26 144.318 1920.33 144.318 Q1920.77 144.318 1921.31 144.387 Q1921.84 144.434 1922.49 144.549 L1922.51 148.924 Z\" fill=\"#000000\" fill-rule=\"evenodd\" fill-opacity=\"1\" /><path clip-path=\"url(#clip140)\" d=\"M 0 0 M1931.19 137.582 L1931.19 144.943 L1939.96 144.943 L1939.96 148.253 L1931.19 148.253 L1931.19 162.327 Q1931.19 165.498 1932.05 166.401 Q1932.93 167.304 1935.59 167.304 L1939.96 167.304 L1939.96 170.869 L1935.59 170.869 Q1930.66 170.869 1928.78 169.04 Q1926.91 167.188 1926.91 162.327 L1926.91 148.253 L1923.78 148.253 L1923.78 144.943 L1926.91 144.943 L1926.91 137.582 L1931.19 137.582 Z\" fill=\"#000000\" fill-rule=\"evenodd\" fill-opacity=\"1\" /><path clip-path=\"url(#clip140)\" d=\"M 0 0 M1954.48 147.929 Q1951.05 147.929 1949.06 150.614 Q1947.07 153.276 1947.07 157.929 Q1947.07 162.582 1949.04 165.267 Q1951.03 167.929 1954.48 167.929 Q1957.88 167.929 1959.87 165.244 Q1961.86 162.558 1961.86 157.929 Q1961.86 153.322 1959.87 150.637 Q1957.88 147.929 1954.48 147.929 M1954.48 144.318 Q1960.03 144.318 1963.21 147.929 Q1966.38 151.54 1966.38 157.929 Q1966.38 164.295 1963.21 167.929 Q1960.03 171.54 1954.48 171.54 Q1948.9 171.54 1945.73 167.929 Q1942.58 164.295 1942.58 157.929 Q1942.58 151.54 1945.73 147.929 Q1948.9 144.318 1954.48 144.318 Z\" fill=\"#000000\" fill-rule=\"evenodd\" fill-opacity=\"1\" /><path clip-path=\"url(#clip140)\" d=\"M 0 0 M1982.97 132.79 L1987.58 132.79 L1980.03 141.494 L1976.49 141.494 L1982.97 132.79 M1987.37 145.707 L1987.37 149.734 Q1985.57 148.809 1983.62 148.346 Q1981.68 147.883 1979.59 147.883 Q1976.42 147.883 1974.83 148.855 Q1973.25 149.827 1973.25 151.771 Q1973.25 153.253 1974.39 154.109 Q1975.52 154.943 1978.95 155.707 L1980.4 156.031 Q1984.94 157.003 1986.84 158.785 Q1988.76 160.545 1988.76 163.716 Q1988.76 167.327 1985.89 169.433 Q1983.04 171.54 1978.04 171.54 Q1975.96 171.54 1973.69 171.123 Q1971.45 170.73 1968.95 169.92 L1968.95 165.521 Q1971.31 166.748 1973.6 167.373 Q1975.89 167.975 1978.14 167.975 Q1981.14 167.975 1982.77 166.957 Q1984.39 165.915 1984.39 164.04 Q1984.39 162.304 1983.2 161.378 Q1982.05 160.452 1978.09 159.596 L1976.61 159.248 Q1972.65 158.415 1970.89 156.702 Q1969.13 154.966 1969.13 151.957 Q1969.13 148.299 1971.72 146.309 Q1974.32 144.318 1979.08 144.318 Q1981.45 144.318 1983.53 144.665 Q1985.61 145.012 1987.37 145.707 Z\" fill=\"#000000\" fill-rule=\"evenodd\" fill-opacity=\"1\" /><path clip-path=\"url(#clip140)\" d=\"M 0 0 M2011.89 145.938 L2011.89 149.92 Q2010.08 148.924 2008.25 148.438 Q2006.45 147.929 2004.59 147.929 Q2000.45 147.929 1998.16 150.568 Q1995.87 153.184 1995.87 157.929 Q1995.87 162.674 1998.16 165.313 Q2000.45 167.929 2004.59 167.929 Q2006.45 167.929 2008.25 167.443 Q2010.08 166.933 2011.89 165.938 L2011.89 169.873 Q2010.1 170.707 2008.18 171.123 Q2006.28 171.54 2004.13 171.54 Q1998.27 171.54 1994.83 167.859 Q1991.38 164.179 1991.38 157.929 Q1991.38 151.586 1994.85 147.952 Q1998.34 144.318 2004.41 144.318 Q2006.38 144.318 2008.25 144.735 Q2010.13 145.128 2011.89 145.938 Z\" fill=\"#000000\" fill-rule=\"evenodd\" fill-opacity=\"1\" /><path clip-path=\"url(#clip140)\" d=\"M 0 0 M2016.35 144.943 L2020.61 144.943 L2020.61 170.869 L2016.35 170.869 L2016.35 144.943 M2016.35 134.85 L2020.61 134.85 L2020.61 140.244 L2016.35 140.244 L2016.35 134.85 Z\" fill=\"#000000\" fill-rule=\"evenodd\" fill-opacity=\"1\" /><path clip-path=\"url(#clip140)\" d=\"M 0 0 M2060.33 149.92 Q2061.93 147.049 2064.15 145.684 Q2066.38 144.318 2069.39 144.318 Q2073.44 144.318 2075.64 147.165 Q2077.83 149.989 2077.83 155.221 L2077.83 170.869 L2073.55 170.869 L2073.55 155.359 Q2073.55 151.633 2072.23 149.827 Q2070.91 148.022 2068.2 148.022 Q2064.89 148.022 2062.97 150.221 Q2061.05 152.42 2061.05 156.216 L2061.05 170.869 L2056.77 170.869 L2056.77 155.359 Q2056.77 151.609 2055.45 149.827 Q2054.13 148.022 2051.38 148.022 Q2048.11 148.022 2046.19 150.244 Q2044.27 152.443 2044.27 156.216 L2044.27 170.869 L2039.99 170.869 L2039.99 144.943 L2044.27 144.943 L2044.27 148.971 Q2045.73 146.586 2047.76 145.452 Q2049.8 144.318 2052.6 144.318 Q2055.43 144.318 2057.39 145.753 Q2059.39 147.188 2060.33 149.92 Z\" fill=\"#000000\" fill-rule=\"evenodd\" fill-opacity=\"1\" /><path clip-path=\"url(#clip140)\" d=\"M 0 0 M2082.3 144.943 L2086.56 144.943 L2086.56 170.869 L2082.3 170.869 L2082.3 144.943 M2082.3 134.85 L2086.56 134.85 L2086.56 140.244 L2082.3 140.244 L2082.3 134.85 Z\" fill=\"#000000\" fill-rule=\"evenodd\" fill-opacity=\"1\" /><path clip-path=\"url(#clip140)\" d=\"M 0 0 M2113.2 156.841 L2113.2 158.924 L2093.62 158.924 Q2093.9 163.322 2096.26 165.637 Q2098.64 167.929 2102.88 167.929 Q2105.33 167.929 2107.63 167.327 Q2109.94 166.725 2112.21 165.521 L2112.21 169.549 Q2109.92 170.521 2107.51 171.031 Q2105.1 171.54 2102.63 171.54 Q2096.42 171.54 2092.79 167.929 Q2089.18 164.318 2089.18 158.16 Q2089.18 151.795 2092.6 148.068 Q2096.05 144.318 2101.88 144.318 Q2107.12 144.318 2110.15 147.697 Q2113.2 151.054 2113.2 156.841 M2108.95 155.591 Q2108.9 152.096 2106.98 150.012 Q2105.08 147.929 2101.93 147.929 Q2098.37 147.929 2096.21 149.943 Q2094.08 151.957 2093.76 155.614 L2108.95 155.591 Z\" fill=\"#000000\" fill-rule=\"evenodd\" fill-opacity=\"1\" /><path clip-path=\"url(#clip140)\" d=\"M 0 0 M2132.69 148.924 Q2131.98 148.508 2131.12 148.322 Q2130.29 148.114 2129.27 148.114 Q2125.66 148.114 2123.71 150.475 Q2121.79 152.813 2121.79 157.211 L2121.79 170.869 L2117.51 170.869 L2117.51 144.943 L2121.79 144.943 L2121.79 148.971 Q2123.13 146.609 2125.29 145.475 Q2127.44 144.318 2130.52 144.318 Q2130.96 144.318 2131.49 144.387 Q2132.02 144.434 2132.67 144.549 L2132.69 148.924 Z\" fill=\"#000000\" fill-rule=\"evenodd\" fill-opacity=\"1\" /><path clip-path=\"url(#clip140)\" d=\"M 0 0 M2135.31 144.943 L2155.54 144.943 L2155.54 148.832 L2139.52 167.466 L2155.54 167.466 L2155.54 170.869 L2134.73 170.869 L2134.73 166.98 L2150.75 148.346 L2135.31 148.346 L2135.31 144.943 Z\" fill=\"#000000\" fill-rule=\"evenodd\" fill-opacity=\"1\" /><path clip-path=\"url(#clip140)\" d=\"M 0 0 M2170.06 147.929 Q2166.63 147.929 2164.64 150.614 Q2162.65 153.276 2162.65 157.929 Q2162.65 162.582 2164.62 165.267 Q2166.61 167.929 2170.06 167.929 Q2173.46 167.929 2175.45 165.244 Q2177.44 162.558 2177.44 157.929 Q2177.44 153.322 2175.45 150.637 Q2173.46 147.929 2170.06 147.929 M2170.06 144.318 Q2175.61 144.318 2178.78 147.929 Q2181.95 151.54 2181.95 157.929 Q2181.95 164.295 2178.78 167.929 Q2175.61 171.54 2170.06 171.54 Q2164.48 171.54 2161.31 167.929 Q2158.16 164.295 2158.16 157.929 Q2158.16 151.54 2161.31 147.929 Q2164.48 144.318 2170.06 144.318 Z\" fill=\"#000000\" fill-rule=\"evenodd\" fill-opacity=\"1\" /><path clip-path=\"url(#clip140)\" d=\"M 0 0 M2207.97 155.221 L2207.97 170.869 L2203.71 170.869 L2203.71 155.359 Q2203.71 151.679 2202.28 149.85 Q2200.84 148.022 2197.97 148.022 Q2194.52 148.022 2192.53 150.221 Q2190.54 152.42 2190.54 156.216 L2190.54 170.869 L2186.26 170.869 L2186.26 144.943 L2190.54 144.943 L2190.54 148.971 Q2192.07 146.633 2194.13 145.475 Q2196.21 144.318 2198.92 144.318 Q2203.39 144.318 2205.68 147.096 Q2207.97 149.85 2207.97 155.221 Z\" fill=\"#000000\" fill-rule=\"evenodd\" fill-opacity=\"1\" /><path clip-path=\"url(#clip140)\" d=\"M 0 0 M2234.62 156.841 L2234.62 158.924 L2215.03 158.924 Q2215.31 163.322 2217.67 165.637 Q2220.06 167.929 2224.29 167.929 Q2226.75 167.929 2229.04 167.327 Q2231.35 166.725 2233.62 165.521 L2233.62 169.549 Q2231.33 170.521 2228.92 171.031 Q2226.51 171.54 2224.04 171.54 Q2217.83 171.54 2214.2 167.929 Q2210.59 164.318 2210.59 158.16 Q2210.59 151.795 2214.01 148.068 Q2217.46 144.318 2223.3 144.318 Q2228.53 144.318 2231.56 147.697 Q2234.62 151.054 2234.62 156.841 M2230.36 155.591 Q2230.31 152.096 2228.39 150.012 Q2226.49 147.929 2223.34 147.929 Q2219.78 147.929 2217.63 149.943 Q2215.5 151.957 2215.17 155.614 L2230.36 155.591 Z\" fill=\"#000000\" fill-rule=\"evenodd\" fill-opacity=\"1\" /></svg>\n"
      ]
     },
     "execution_count": 220,
     "metadata": {},
     "output_type": "execute_result"
    }
   ],
   "source": [
    "scatter(t, C, xlabel=\"t [h]\", ylabel=\"C [mg/l]\", label = \"wartości mierzone\", color=\"orchid\")"
   ]
  },
  {
   "cell_type": "markdown",
   "metadata": {},
   "source": [
    "Rozpatrzmy teraz model jednokompartmentowy rozważając równanie różniczkowe (4.2) w postaci \n",
    "$$ \\frac{dX}{dt} = -\\mathrm{K} \\cdot X $$"
   ]
  },
  {
   "cell_type": "markdown",
   "metadata": {},
   "source": [
    "Najpierw wykorzystajmy nasze rozwiązanie analityczne\n",
    "$$ C(t) = C_0 \\cdot \\mathrm{e}^{-\\mathrm{K} \\cdot t} $$"
   ]
  },
  {
   "cell_type": "code",
   "execution_count": 210,
   "metadata": {},
   "outputs": [
    {
     "data": {
      "text/plain": [
       "one_analyt (generic function with 2 methods)"
      ]
     },
     "execution_count": 210,
     "metadata": {},
     "output_type": "execute_result"
    }
   ],
   "source": [
    "function one_analyt(t, C, K)\n",
    "    x = fill(NaN, length(t))\n",
    "    for i in 1:(length(t))\n",
    "        x[i] = C*ℯ^(-K*t[i])\n",
    "    end\n",
    "    return x\n",
    "end"
   ]
  },
  {
   "cell_type": "code",
   "execution_count": 211,
   "metadata": {},
   "outputs": [],
   "source": [
    "t_step = Array(0:0.1:1.5)\n",
    "analyt = one_analyt(t_step, 250, 2.44);"
   ]
  },
  {
   "cell_type": "code",
   "execution_count": 221,
   "metadata": {},
   "outputs": [
    {
     "data": {
      "image/svg+xml": [
       "<?xml version=\"1.0\" encoding=\"utf-8\"?>\n",
       "<svg xmlns=\"http://www.w3.org/2000/svg\" xmlns:xlink=\"http://www.w3.org/1999/xlink\" width=\"600\" height=\"400\" viewBox=\"0 0 2400 1600\">\n",
       "<defs>\n",
       "  <clipPath id=\"clip180\">\n",
       "    <rect x=\"0\" y=\"0\" width=\"2400\" height=\"1600\"/>\n",
       "  </clipPath>\n",
       "</defs>\n",
       "<path clip-path=\"url(#clip180)\" d=\"\n",
       "M0 1600 L2400 1600 L2400 0 L0 0  Z\n",
       "  \" fill=\"#ffffff\" fill-rule=\"evenodd\" fill-opacity=\"1\"/>\n",
       "<defs>\n",
       "  <clipPath id=\"clip181\">\n",
       "    <rect x=\"480\" y=\"0\" width=\"1681\" height=\"1600\"/>\n",
       "  </clipPath>\n",
       "</defs>\n",
       "<path clip-path=\"url(#clip180)\" d=\"\n",
       "M226.232 1423.18 L2352.76 1423.18 L2352.76 47.2441 L226.232 47.2441  Z\n",
       "  \" fill=\"#ffffff\" fill-rule=\"evenodd\" fill-opacity=\"1\"/>\n",
       "<defs>\n",
       "  <clipPath id=\"clip182\">\n",
       "    <rect x=\"226\" y=\"47\" width=\"2128\" height=\"1377\"/>\n",
       "  </clipPath>\n",
       "</defs>\n",
       "<polyline clip-path=\"url(#clip182)\" style=\"stroke:#000000; stroke-width:2; stroke-opacity:0.1; fill:none\" points=\"\n",
       "  286.417,1423.18 286.417,47.2441 \n",
       "  \"/>\n",
       "<polyline clip-path=\"url(#clip182)\" style=\"stroke:#000000; stroke-width:2; stroke-opacity:0.1; fill:none\" points=\"\n",
       "  955.135,1423.18 955.135,47.2441 \n",
       "  \"/>\n",
       "<polyline clip-path=\"url(#clip182)\" style=\"stroke:#000000; stroke-width:2; stroke-opacity:0.1; fill:none\" points=\"\n",
       "  1623.85,1423.18 1623.85,47.2441 \n",
       "  \"/>\n",
       "<polyline clip-path=\"url(#clip182)\" style=\"stroke:#000000; stroke-width:2; stroke-opacity:0.1; fill:none\" points=\"\n",
       "  2292.57,1423.18 2292.57,47.2441 \n",
       "  \"/>\n",
       "<polyline clip-path=\"url(#clip180)\" style=\"stroke:#000000; stroke-width:4; stroke-opacity:1; fill:none\" points=\"\n",
       "  226.232,1423.18 2352.76,1423.18 \n",
       "  \"/>\n",
       "<polyline clip-path=\"url(#clip180)\" style=\"stroke:#000000; stroke-width:4; stroke-opacity:1; fill:none\" points=\"\n",
       "  286.417,1423.18 286.417,1406.67 \n",
       "  \"/>\n",
       "<polyline clip-path=\"url(#clip180)\" style=\"stroke:#000000; stroke-width:4; stroke-opacity:1; fill:none\" points=\"\n",
       "  955.135,1423.18 955.135,1406.67 \n",
       "  \"/>\n",
       "<polyline clip-path=\"url(#clip180)\" style=\"stroke:#000000; stroke-width:4; stroke-opacity:1; fill:none\" points=\"\n",
       "  1623.85,1423.18 1623.85,1406.67 \n",
       "  \"/>\n",
       "<polyline clip-path=\"url(#clip180)\" style=\"stroke:#000000; stroke-width:4; stroke-opacity:1; fill:none\" points=\"\n",
       "  2292.57,1423.18 2292.57,1406.67 \n",
       "  \"/>\n",
       "<path clip-path=\"url(#clip180)\" d=\"M 0 0 M267.933 1452.37 Q264.322 1452.37 262.493 1455.94 Q260.688 1459.48 260.688 1466.61 Q260.688 1473.71 262.493 1477.28 Q264.322 1480.82 267.933 1480.82 Q271.567 1480.82 273.373 1477.28 Q275.201 1473.71 275.201 1466.61 Q275.201 1459.48 273.373 1455.94 Q271.567 1452.37 267.933 1452.37 M267.933 1448.67 Q273.743 1448.67 276.799 1453.27 Q279.877 1457.86 279.877 1466.61 Q279.877 1475.33 276.799 1479.94 Q273.743 1484.52 267.933 1484.52 Q262.123 1484.52 259.044 1479.94 Q255.989 1475.33 255.989 1466.61 Q255.989 1457.86 259.044 1453.27 Q262.123 1448.67 267.933 1448.67 Z\" fill=\"#000000\" fill-rule=\"evenodd\" fill-opacity=\"1\" /><path clip-path=\"url(#clip180)\" d=\"M 0 0 M284.947 1477.97 L289.831 1477.97 L289.831 1483.85 L284.947 1483.85 L284.947 1477.97 Z\" fill=\"#000000\" fill-rule=\"evenodd\" fill-opacity=\"1\" /><path clip-path=\"url(#clip180)\" d=\"M 0 0 M304.9 1452.37 Q301.289 1452.37 299.461 1455.94 Q297.655 1459.48 297.655 1466.61 Q297.655 1473.71 299.461 1477.28 Q301.289 1480.82 304.9 1480.82 Q308.535 1480.82 310.34 1477.28 Q312.169 1473.71 312.169 1466.61 Q312.169 1459.48 310.34 1455.94 Q308.535 1452.37 304.9 1452.37 M304.9 1448.67 Q310.71 1448.67 313.766 1453.27 Q316.845 1457.86 316.845 1466.61 Q316.845 1475.33 313.766 1479.94 Q310.71 1484.52 304.9 1484.52 Q299.09 1484.52 296.011 1479.94 Q292.956 1475.33 292.956 1466.61 Q292.956 1457.86 296.011 1453.27 Q299.09 1448.67 304.9 1448.67 Z\" fill=\"#000000\" fill-rule=\"evenodd\" fill-opacity=\"1\" /><path clip-path=\"url(#clip180)\" d=\"M 0 0 M937.149 1452.37 Q933.538 1452.37 931.709 1455.94 Q929.903 1459.48 929.903 1466.61 Q929.903 1473.71 931.709 1477.28 Q933.538 1480.82 937.149 1480.82 Q940.783 1480.82 942.589 1477.28 Q944.417 1473.71 944.417 1466.61 Q944.417 1459.48 942.589 1455.94 Q940.783 1452.37 937.149 1452.37 M937.149 1448.67 Q942.959 1448.67 946.015 1453.27 Q949.093 1457.86 949.093 1466.61 Q949.093 1475.33 946.015 1479.94 Q942.959 1484.52 937.149 1484.52 Q931.339 1484.52 928.26 1479.94 Q925.204 1475.33 925.204 1466.61 Q925.204 1457.86 928.26 1453.27 Q931.339 1448.67 937.149 1448.67 Z\" fill=\"#000000\" fill-rule=\"evenodd\" fill-opacity=\"1\" /><path clip-path=\"url(#clip180)\" d=\"M 0 0 M954.163 1477.97 L959.047 1477.97 L959.047 1483.85 L954.163 1483.85 L954.163 1477.97 Z\" fill=\"#000000\" fill-rule=\"evenodd\" fill-opacity=\"1\" /><path clip-path=\"url(#clip180)\" d=\"M 0 0 M964.163 1449.29 L982.519 1449.29 L982.519 1453.23 L968.445 1453.23 L968.445 1461.7 Q969.463 1461.35 970.482 1461.19 Q971.5 1461 972.519 1461 Q978.306 1461 981.686 1464.18 Q985.065 1467.35 985.065 1472.76 Q985.065 1478.34 981.593 1481.44 Q978.121 1484.52 971.801 1484.52 Q969.625 1484.52 967.357 1484.15 Q965.112 1483.78 962.704 1483.04 L962.704 1478.34 Q964.788 1479.48 967.01 1480.03 Q969.232 1480.59 971.709 1480.59 Q975.713 1480.59 978.051 1478.48 Q980.389 1476.38 980.389 1472.76 Q980.389 1469.15 978.051 1467.05 Q975.713 1464.94 971.709 1464.94 Q969.834 1464.94 967.959 1465.36 Q966.107 1465.77 964.163 1466.65 L964.163 1449.29 Z\" fill=\"#000000\" fill-rule=\"evenodd\" fill-opacity=\"1\" /><path clip-path=\"url(#clip180)\" d=\"M 0 0 M1595.75 1479.92 L1603.39 1479.92 L1603.39 1453.55 L1595.08 1455.22 L1595.08 1450.96 L1603.34 1449.29 L1608.02 1449.29 L1608.02 1479.92 L1615.66 1479.92 L1615.66 1483.85 L1595.75 1483.85 L1595.75 1479.92 Z\" fill=\"#000000\" fill-rule=\"evenodd\" fill-opacity=\"1\" /><path clip-path=\"url(#clip180)\" d=\"M 0 0 M1620.73 1477.97 L1625.61 1477.97 L1625.61 1483.85 L1620.73 1483.85 L1620.73 1477.97 Z\" fill=\"#000000\" fill-rule=\"evenodd\" fill-opacity=\"1\" /><path clip-path=\"url(#clip180)\" d=\"M 0 0 M1640.68 1452.37 Q1637.07 1452.37 1635.24 1455.94 Q1633.44 1459.48 1633.44 1466.61 Q1633.44 1473.71 1635.24 1477.28 Q1637.07 1480.82 1640.68 1480.82 Q1644.32 1480.82 1646.12 1477.28 Q1647.95 1473.71 1647.95 1466.61 Q1647.95 1459.48 1646.12 1455.94 Q1644.32 1452.37 1640.68 1452.37 M1640.68 1448.67 Q1646.49 1448.67 1649.55 1453.27 Q1652.63 1457.86 1652.63 1466.61 Q1652.63 1475.33 1649.55 1479.94 Q1646.49 1484.52 1640.68 1484.52 Q1634.87 1484.52 1631.79 1479.94 Q1628.74 1475.33 1628.74 1466.61 Q1628.74 1457.86 1631.79 1453.27 Q1634.87 1448.67 1640.68 1448.67 Z\" fill=\"#000000\" fill-rule=\"evenodd\" fill-opacity=\"1\" /><path clip-path=\"url(#clip180)\" d=\"M 0 0 M2264.97 1479.92 L2272.61 1479.92 L2272.61 1453.55 L2264.3 1455.22 L2264.3 1450.96 L2272.56 1449.29 L2277.24 1449.29 L2277.24 1479.92 L2284.87 1479.92 L2284.87 1483.85 L2264.97 1483.85 L2264.97 1479.92 Z\" fill=\"#000000\" fill-rule=\"evenodd\" fill-opacity=\"1\" /><path clip-path=\"url(#clip180)\" d=\"M 0 0 M2289.94 1477.97 L2294.83 1477.97 L2294.83 1483.85 L2289.94 1483.85 L2289.94 1477.97 Z\" fill=\"#000000\" fill-rule=\"evenodd\" fill-opacity=\"1\" /><path clip-path=\"url(#clip180)\" d=\"M 0 0 M2299.94 1449.29 L2318.3 1449.29 L2318.3 1453.23 L2304.23 1453.23 L2304.23 1461.7 Q2305.24 1461.35 2306.26 1461.19 Q2307.28 1461 2308.3 1461 Q2314.09 1461 2317.47 1464.18 Q2320.85 1467.35 2320.85 1472.76 Q2320.85 1478.34 2317.37 1481.44 Q2313.9 1484.52 2307.58 1484.52 Q2305.41 1484.52 2303.14 1484.15 Q2300.89 1483.78 2298.49 1483.04 L2298.49 1478.34 Q2300.57 1479.48 2302.79 1480.03 Q2305.01 1480.59 2307.49 1480.59 Q2311.49 1480.59 2313.83 1478.48 Q2316.17 1476.38 2316.17 1472.76 Q2316.17 1469.15 2313.83 1467.05 Q2311.49 1464.94 2307.49 1464.94 Q2305.62 1464.94 2303.74 1465.36 Q2301.89 1465.77 2299.94 1466.65 L2299.94 1449.29 Z\" fill=\"#000000\" fill-rule=\"evenodd\" fill-opacity=\"1\" /><path clip-path=\"url(#clip180)\" d=\"M 0 0 M1240.84 1522.27 L1240.84 1532.4 L1252.91 1532.4 L1252.91 1536.95 L1240.84 1536.95 L1240.84 1556.3 Q1240.84 1560.66 1242.02 1561.9 Q1243.23 1563.14 1246.89 1563.14 L1252.91 1563.14 L1252.91 1568.04 L1246.89 1568.04 Q1240.11 1568.04 1237.53 1565.53 Q1234.96 1562.98 1234.96 1556.3 L1234.96 1536.95 L1230.66 1536.95 L1230.66 1532.4 L1234.96 1532.4 L1234.96 1522.27 L1240.84 1522.27 Z\" fill=\"#000000\" fill-rule=\"evenodd\" fill-opacity=\"1\" /><path clip-path=\"url(#clip180)\" d=\"M 0 0 M1279.23 1518.52 L1292.72 1518.52 L1292.72 1523.07 L1285.09 1523.07 L1285.09 1572.09 L1292.72 1572.09 L1292.72 1576.64 L1279.23 1576.64 L1279.23 1518.52 Z\" fill=\"#000000\" fill-rule=\"evenodd\" fill-opacity=\"1\" /><path clip-path=\"url(#clip180)\" d=\"M 0 0 M1328.5 1546.53 L1328.5 1568.04 L1322.64 1568.04 L1322.64 1546.72 Q1322.64 1541.66 1320.67 1539.14 Q1318.7 1536.63 1314.75 1536.63 Q1310.01 1536.63 1307.27 1539.65 Q1304.53 1542.68 1304.53 1547.9 L1304.53 1568.04 L1298.64 1568.04 L1298.64 1518.52 L1304.53 1518.52 L1304.53 1537.93 Q1306.63 1534.72 1309.47 1533.13 Q1312.33 1531.54 1316.05 1531.54 Q1322.2 1531.54 1325.35 1535.36 Q1328.5 1539.14 1328.5 1546.53 Z\" fill=\"#000000\" fill-rule=\"evenodd\" fill-opacity=\"1\" /><path clip-path=\"url(#clip180)\" d=\"M 0 0 M1348.33 1518.52 L1348.33 1576.64 L1334.83 1576.64 L1334.83 1572.09 L1342.44 1572.09 L1342.44 1523.07 L1334.83 1523.07 L1334.83 1518.52 L1348.33 1518.52 Z\" fill=\"#000000\" fill-rule=\"evenodd\" fill-opacity=\"1\" /><polyline clip-path=\"url(#clip182)\" style=\"stroke:#000000; stroke-width:2; stroke-opacity:0.1; fill:none\" points=\"\n",
       "  226.232,1418.52 2352.76,1418.52 \n",
       "  \"/>\n",
       "<polyline clip-path=\"url(#clip182)\" style=\"stroke:#000000; stroke-width:2; stroke-opacity:0.1; fill:none\" points=\"\n",
       "  226.232,1152.06 2352.76,1152.06 \n",
       "  \"/>\n",
       "<polyline clip-path=\"url(#clip182)\" style=\"stroke:#000000; stroke-width:2; stroke-opacity:0.1; fill:none\" points=\"\n",
       "  226.232,885.588 2352.76,885.588 \n",
       "  \"/>\n",
       "<polyline clip-path=\"url(#clip182)\" style=\"stroke:#000000; stroke-width:2; stroke-opacity:0.1; fill:none\" points=\"\n",
       "  226.232,619.12 2352.76,619.12 \n",
       "  \"/>\n",
       "<polyline clip-path=\"url(#clip182)\" style=\"stroke:#000000; stroke-width:2; stroke-opacity:0.1; fill:none\" points=\"\n",
       "  226.232,352.653 2352.76,352.653 \n",
       "  \"/>\n",
       "<polyline clip-path=\"url(#clip182)\" style=\"stroke:#000000; stroke-width:2; stroke-opacity:0.1; fill:none\" points=\"\n",
       "  226.232,86.1857 2352.76,86.1857 \n",
       "  \"/>\n",
       "<polyline clip-path=\"url(#clip180)\" style=\"stroke:#000000; stroke-width:4; stroke-opacity:1; fill:none\" points=\"\n",
       "  226.232,1423.18 226.232,47.2441 \n",
       "  \"/>\n",
       "<polyline clip-path=\"url(#clip180)\" style=\"stroke:#000000; stroke-width:4; stroke-opacity:1; fill:none\" points=\"\n",
       "  226.232,1418.52 251.75,1418.52 \n",
       "  \"/>\n",
       "<polyline clip-path=\"url(#clip180)\" style=\"stroke:#000000; stroke-width:4; stroke-opacity:1; fill:none\" points=\"\n",
       "  226.232,1152.06 251.75,1152.06 \n",
       "  \"/>\n",
       "<polyline clip-path=\"url(#clip180)\" style=\"stroke:#000000; stroke-width:4; stroke-opacity:1; fill:none\" points=\"\n",
       "  226.232,885.588 251.75,885.588 \n",
       "  \"/>\n",
       "<polyline clip-path=\"url(#clip180)\" style=\"stroke:#000000; stroke-width:4; stroke-opacity:1; fill:none\" points=\"\n",
       "  226.232,619.12 251.75,619.12 \n",
       "  \"/>\n",
       "<polyline clip-path=\"url(#clip180)\" style=\"stroke:#000000; stroke-width:4; stroke-opacity:1; fill:none\" points=\"\n",
       "  226.232,352.653 251.75,352.653 \n",
       "  \"/>\n",
       "<polyline clip-path=\"url(#clip180)\" style=\"stroke:#000000; stroke-width:4; stroke-opacity:1; fill:none\" points=\"\n",
       "  226.232,86.1857 251.75,86.1857 \n",
       "  \"/>\n",
       "<path clip-path=\"url(#clip180)\" d=\"M 0 0 M178.288 1404.32 Q174.677 1404.32 172.848 1407.89 Q171.042 1411.43 171.042 1418.56 Q171.042 1425.66 172.848 1429.23 Q174.677 1432.77 178.288 1432.77 Q181.922 1432.77 183.727 1429.23 Q185.556 1425.66 185.556 1418.56 Q185.556 1411.43 183.727 1407.89 Q181.922 1404.32 178.288 1404.32 M178.288 1400.62 Q184.098 1400.62 187.153 1405.22 Q190.232 1409.81 190.232 1418.56 Q190.232 1427.28 187.153 1431.89 Q184.098 1436.47 178.288 1436.47 Q172.477 1436.47 169.399 1431.89 Q166.343 1427.28 166.343 1418.56 Q166.343 1409.81 169.399 1405.22 Q172.477 1400.62 178.288 1400.62 Z\" fill=\"#000000\" fill-rule=\"evenodd\" fill-opacity=\"1\" /><path clip-path=\"url(#clip180)\" d=\"M 0 0 M142.316 1134.78 L160.672 1134.78 L160.672 1138.71 L146.598 1138.71 L146.598 1147.18 Q147.616 1146.84 148.635 1146.67 Q149.653 1146.49 150.672 1146.49 Q156.459 1146.49 159.839 1149.66 Q163.218 1152.83 163.218 1158.25 Q163.218 1163.83 159.746 1166.93 Q156.274 1170.01 149.954 1170.01 Q147.778 1170.01 145.51 1169.64 Q143.265 1169.27 140.857 1168.53 L140.857 1163.83 Q142.941 1164.96 145.163 1165.52 Q147.385 1166.07 149.862 1166.07 Q153.866 1166.07 156.204 1163.96 Q158.542 1161.86 158.542 1158.25 Q158.542 1154.64 156.204 1152.53 Q153.866 1150.42 149.862 1150.42 Q147.987 1150.42 146.112 1150.84 Q144.26 1151.26 142.316 1152.14 L142.316 1134.78 Z\" fill=\"#000000\" fill-rule=\"evenodd\" fill-opacity=\"1\" /><path clip-path=\"url(#clip180)\" d=\"M 0 0 M178.288 1137.85 Q174.677 1137.85 172.848 1141.42 Q171.042 1144.96 171.042 1152.09 Q171.042 1159.2 172.848 1162.76 Q174.677 1166.3 178.288 1166.3 Q181.922 1166.3 183.727 1162.76 Q185.556 1159.2 185.556 1152.09 Q185.556 1144.96 183.727 1141.42 Q181.922 1137.85 178.288 1137.85 M178.288 1134.15 Q184.098 1134.15 187.153 1138.76 Q190.232 1143.34 190.232 1152.09 Q190.232 1160.82 187.153 1165.42 Q184.098 1170.01 178.288 1170.01 Q172.477 1170.01 169.399 1165.42 Q166.343 1160.82 166.343 1152.09 Q166.343 1143.34 169.399 1138.76 Q172.477 1134.15 178.288 1134.15 Z\" fill=\"#000000\" fill-rule=\"evenodd\" fill-opacity=\"1\" /><path clip-path=\"url(#clip180)\" d=\"M 0 0 M116.297 898.933 L123.936 898.933 L123.936 872.567 L115.626 874.234 L115.626 869.975 L123.89 868.308 L128.566 868.308 L128.566 898.933 L136.204 898.933 L136.204 902.868 L116.297 902.868 L116.297 898.933 Z\" fill=\"#000000\" fill-rule=\"evenodd\" fill-opacity=\"1\" /><path clip-path=\"url(#clip180)\" d=\"M 0 0 M151.274 871.387 Q147.663 871.387 145.834 874.951 Q144.029 878.493 144.029 885.623 Q144.029 892.729 145.834 896.294 Q147.663 899.835 151.274 899.835 Q154.908 899.835 156.714 896.294 Q158.542 892.729 158.542 885.623 Q158.542 878.493 156.714 874.951 Q154.908 871.387 151.274 871.387 M151.274 867.683 Q157.084 867.683 160.14 872.289 Q163.218 876.873 163.218 885.623 Q163.218 894.349 160.14 898.956 Q157.084 903.539 151.274 903.539 Q145.464 903.539 142.385 898.956 Q139.329 894.349 139.329 885.623 Q139.329 876.873 142.385 872.289 Q145.464 867.683 151.274 867.683 Z\" fill=\"#000000\" fill-rule=\"evenodd\" fill-opacity=\"1\" /><path clip-path=\"url(#clip180)\" d=\"M 0 0 M178.288 871.387 Q174.677 871.387 172.848 874.951 Q171.042 878.493 171.042 885.623 Q171.042 892.729 172.848 896.294 Q174.677 899.835 178.288 899.835 Q181.922 899.835 183.727 896.294 Q185.556 892.729 185.556 885.623 Q185.556 878.493 183.727 874.951 Q181.922 871.387 178.288 871.387 M178.288 867.683 Q184.098 867.683 187.153 872.289 Q190.232 876.873 190.232 885.623 Q190.232 894.349 187.153 898.956 Q184.098 903.539 178.288 903.539 Q172.477 903.539 169.399 898.956 Q166.343 894.349 166.343 885.623 Q166.343 876.873 169.399 872.289 Q172.477 867.683 178.288 867.683 Z\" fill=\"#000000\" fill-rule=\"evenodd\" fill-opacity=\"1\" /><path clip-path=\"url(#clip180)\" d=\"M 0 0 M117.293 632.465 L124.931 632.465 L124.931 606.1 L116.621 607.766 L116.621 603.507 L124.885 601.84 L129.561 601.84 L129.561 632.465 L137.2 632.465 L137.2 636.4 L117.293 636.4 L117.293 632.465 Z\" fill=\"#000000\" fill-rule=\"evenodd\" fill-opacity=\"1\" /><path clip-path=\"url(#clip180)\" d=\"M 0 0 M142.316 601.84 L160.672 601.84 L160.672 605.776 L146.598 605.776 L146.598 614.248 Q147.616 613.901 148.635 613.739 Q149.653 613.553 150.672 613.553 Q156.459 613.553 159.839 616.725 Q163.218 619.896 163.218 625.313 Q163.218 630.891 159.746 633.993 Q156.274 637.072 149.954 637.072 Q147.778 637.072 145.51 636.701 Q143.265 636.331 140.857 635.59 L140.857 630.891 Q142.941 632.025 145.163 632.581 Q147.385 633.137 149.862 633.137 Q153.866 633.137 156.204 631.03 Q158.542 628.924 158.542 625.313 Q158.542 621.701 156.204 619.595 Q153.866 617.489 149.862 617.489 Q147.987 617.489 146.112 617.905 Q144.26 618.322 142.316 619.201 L142.316 601.84 Z\" fill=\"#000000\" fill-rule=\"evenodd\" fill-opacity=\"1\" /><path clip-path=\"url(#clip180)\" d=\"M 0 0 M178.288 604.919 Q174.677 604.919 172.848 608.484 Q171.042 612.026 171.042 619.155 Q171.042 626.262 172.848 629.826 Q174.677 633.368 178.288 633.368 Q181.922 633.368 183.727 629.826 Q185.556 626.262 185.556 619.155 Q185.556 612.026 183.727 608.484 Q181.922 604.919 178.288 604.919 M178.288 601.215 Q184.098 601.215 187.153 605.822 Q190.232 610.405 190.232 619.155 Q190.232 627.882 187.153 632.488 Q184.098 637.072 178.288 637.072 Q172.477 637.072 169.399 632.488 Q166.343 627.882 166.343 619.155 Q166.343 610.405 169.399 605.822 Q172.477 601.215 178.288 601.215 Z\" fill=\"#000000\" fill-rule=\"evenodd\" fill-opacity=\"1\" /><path clip-path=\"url(#clip180)\" d=\"M 0 0 M119.885 365.998 L136.204 365.998 L136.204 369.933 L114.26 369.933 L114.26 365.998 Q116.922 363.243 121.505 358.614 Q126.112 353.961 127.292 352.618 Q129.538 350.095 130.417 348.359 Q131.32 346.6 131.32 344.91 Q131.32 342.155 129.376 340.419 Q127.455 338.683 124.353 338.683 Q122.154 338.683 119.7 339.447 Q117.269 340.211 114.492 341.762 L114.492 337.04 Q117.316 335.905 119.769 335.327 Q122.223 334.748 124.26 334.748 Q129.63 334.748 132.825 337.433 Q136.019 340.118 136.019 344.609 Q136.019 346.739 135.209 348.66 Q134.422 350.558 132.316 353.151 Q131.737 353.822 128.635 357.04 Q125.533 360.234 119.885 365.998 Z\" fill=\"#000000\" fill-rule=\"evenodd\" fill-opacity=\"1\" /><path clip-path=\"url(#clip180)\" d=\"M 0 0 M151.274 338.452 Q147.663 338.452 145.834 342.017 Q144.029 345.558 144.029 352.688 Q144.029 359.794 145.834 363.359 Q147.663 366.901 151.274 366.901 Q154.908 366.901 156.714 363.359 Q158.542 359.794 158.542 352.688 Q158.542 345.558 156.714 342.017 Q154.908 338.452 151.274 338.452 M151.274 334.748 Q157.084 334.748 160.14 339.355 Q163.218 343.938 163.218 352.688 Q163.218 361.415 160.14 366.021 Q157.084 370.604 151.274 370.604 Q145.464 370.604 142.385 366.021 Q139.329 361.415 139.329 352.688 Q139.329 343.938 142.385 339.355 Q145.464 334.748 151.274 334.748 Z\" fill=\"#000000\" fill-rule=\"evenodd\" fill-opacity=\"1\" /><path clip-path=\"url(#clip180)\" d=\"M 0 0 M178.288 338.452 Q174.677 338.452 172.848 342.017 Q171.042 345.558 171.042 352.688 Q171.042 359.794 172.848 363.359 Q174.677 366.901 178.288 366.901 Q181.922 366.901 183.727 363.359 Q185.556 359.794 185.556 352.688 Q185.556 345.558 183.727 342.017 Q181.922 338.452 178.288 338.452 M178.288 334.748 Q184.098 334.748 187.153 339.355 Q190.232 343.938 190.232 352.688 Q190.232 361.415 187.153 366.021 Q184.098 370.604 178.288 370.604 Q172.477 370.604 169.399 366.021 Q166.343 361.415 166.343 352.688 Q166.343 343.938 169.399 339.355 Q172.477 334.748 178.288 334.748 Z\" fill=\"#000000\" fill-rule=\"evenodd\" fill-opacity=\"1\" /><path clip-path=\"url(#clip180)\" d=\"M 0 0 M120.88 99.5305 L137.2 99.5305 L137.2 103.466 L115.256 103.466 L115.256 99.5305 Q117.918 96.7759 122.501 92.1463 Q127.107 87.4935 128.288 86.151 Q130.533 83.6278 131.413 81.8917 Q132.316 80.1325 132.316 78.4427 Q132.316 75.688 130.371 73.9519 Q128.45 72.2158 125.348 72.2158 Q123.149 72.2158 120.695 72.9797 Q118.265 73.7436 115.487 75.2945 L115.487 70.5723 Q118.311 69.4381 120.765 68.8594 Q123.218 68.2807 125.255 68.2807 Q130.626 68.2807 133.82 70.9658 Q137.015 73.651 137.015 78.1417 Q137.015 80.2714 136.204 82.1926 Q135.417 84.0908 133.311 86.6834 Q132.732 87.3546 129.63 90.5722 Q126.529 93.7667 120.88 99.5305 Z\" fill=\"#000000\" fill-rule=\"evenodd\" fill-opacity=\"1\" /><path clip-path=\"url(#clip180)\" d=\"M 0 0 M142.316 68.9057 L160.672 68.9057 L160.672 72.8408 L146.598 72.8408 L146.598 81.313 Q147.616 80.9658 148.635 80.8038 Q149.653 80.6186 150.672 80.6186 Q156.459 80.6186 159.839 83.7899 Q163.218 86.9611 163.218 92.3778 Q163.218 97.9564 159.746 101.058 Q156.274 104.137 149.954 104.137 Q147.778 104.137 145.51 103.767 Q143.265 103.396 140.857 102.655 L140.857 97.9564 Q142.941 99.0907 145.163 99.6462 Q147.385 100.202 149.862 100.202 Q153.866 100.202 156.204 98.0953 Q158.542 95.9889 158.542 92.3778 Q158.542 88.7667 156.204 86.6602 Q153.866 84.5537 149.862 84.5537 Q147.987 84.5537 146.112 84.9704 Q144.26 85.3871 142.316 86.2667 L142.316 68.9057 Z\" fill=\"#000000\" fill-rule=\"evenodd\" fill-opacity=\"1\" /><path clip-path=\"url(#clip180)\" d=\"M 0 0 M178.288 71.9844 Q174.677 71.9844 172.848 75.5492 Q171.042 79.0908 171.042 86.2204 Q171.042 93.3268 172.848 96.8916 Q174.677 100.433 178.288 100.433 Q181.922 100.433 183.727 96.8916 Q185.556 93.3268 185.556 86.2204 Q185.556 79.0908 183.727 75.5492 Q181.922 71.9844 178.288 71.9844 M178.288 68.2807 Q184.098 68.2807 187.153 72.8871 Q190.232 77.4704 190.232 86.2204 Q190.232 94.9472 187.153 99.5537 Q184.098 104.137 178.288 104.137 Q172.477 104.137 169.399 99.5537 Q166.343 94.9472 166.343 86.2204 Q166.343 77.4704 169.399 72.8871 Q172.477 68.2807 178.288 68.2807 Z\" fill=\"#000000\" fill-rule=\"evenodd\" fill-opacity=\"1\" /><path clip-path=\"url(#clip180)\" d=\"M 0 0 M20.1444 809.563 L26.9239 809.563 Q23.9002 812.81 22.4043 816.502 Q20.9083 820.162 20.9083 824.3 Q20.9083 832.448 25.9054 836.777 Q30.8707 841.105 40.2919 841.105 Q49.6813 841.105 54.6784 836.777 Q59.6436 832.448 59.6436 824.3 Q59.6436 820.162 58.1477 816.502 Q56.6518 812.81 53.6281 809.563 L60.3439 809.563 Q62.6355 812.937 63.7814 816.725 Q64.9272 820.481 64.9272 824.682 Q64.9272 835.472 58.3387 841.678 Q51.7183 847.885 40.2919 847.885 Q28.8336 847.885 22.2451 841.678 Q15.6248 835.472 15.6248 824.682 Q15.6248 820.417 16.7706 816.661 Q17.8846 812.874 20.1444 809.563 Z\" fill=\"#000000\" fill-rule=\"evenodd\" fill-opacity=\"1\" /><path clip-path=\"url(#clip180)\" d=\"M 0 0 M14.479 783.241 L14.479 769.746 L19.0304 769.746 L19.0304 777.385 L68.0464 777.385 L68.0464 769.746 L72.5979 769.746 L72.5979 783.241 L14.479 783.241 Z\" fill=\"#000000\" fill-rule=\"evenodd\" fill-opacity=\"1\" /><path clip-path=\"url(#clip180)\" d=\"M 0 0 M35.1993 735.849 Q31.2526 733.652 29.3747 730.597 Q27.4968 727.541 27.4968 723.404 Q27.4968 717.834 31.4117 714.81 Q35.2948 711.786 42.4881 711.786 L64.0042 711.786 L64.0042 717.674 L42.679 717.674 Q37.5546 717.674 35.072 719.489 Q32.5894 721.303 32.5894 725.027 Q32.5894 729.578 35.6131 732.22 Q38.6368 734.862 43.8567 734.862 L64.0042 734.862 L64.0042 740.75 L42.679 740.75 Q37.5228 740.75 35.072 742.564 Q32.5894 744.379 32.5894 748.166 Q32.5894 752.654 35.6449 755.296 Q38.6686 757.938 43.8567 757.938 L64.0042 757.938 L64.0042 763.826 L28.3562 763.826 L28.3562 757.938 L33.8944 757.938 Q30.616 755.932 29.0564 753.131 Q27.4968 750.331 27.4968 746.479 Q27.4968 742.596 29.4702 739.891 Q31.4436 737.154 35.1993 735.849 Z\" fill=\"#000000\" fill-rule=\"evenodd\" fill-opacity=\"1\" /><path clip-path=\"url(#clip180)\" d=\"M 0 0 M45.7664 682.186 Q39.4007 682.186 35.8996 684.827 Q32.3984 687.437 32.3984 692.18 Q32.3984 696.89 35.8996 699.532 Q39.4007 702.142 45.7664 702.142 Q52.1003 702.142 55.6014 699.532 Q59.1026 696.89 59.1026 692.18 Q59.1026 687.437 55.6014 684.827 Q52.1003 682.186 45.7664 682.186 M59.58 676.329 Q68.683 676.329 73.1071 680.371 Q77.5631 684.414 77.5631 692.753 Q77.5631 695.84 77.0857 698.577 Q76.6401 701.315 75.6852 703.893 L69.9879 703.893 Q71.3884 701.315 72.0568 698.8 Q72.7252 696.286 72.7252 693.676 Q72.7252 687.915 69.7015 685.05 Q66.7096 682.186 60.6303 682.186 L57.7339 682.186 Q60.885 684 62.4446 686.833 Q64.0042 689.665 64.0042 693.612 Q64.0042 700.169 59.0071 704.179 Q54.01 708.19 45.7664 708.19 Q37.491 708.19 32.4939 704.179 Q27.4968 700.169 27.4968 693.612 Q27.4968 689.665 29.0564 686.833 Q30.616 684 33.7671 682.186 L28.3562 682.186 L28.3562 676.329 L59.58 676.329 Z\" fill=\"#000000\" fill-rule=\"evenodd\" fill-opacity=\"1\" /><path clip-path=\"url(#clip180)\" d=\"M 0 0 M16.4842 659.778 L16.4842 654.367 L70.0516 670.918 L70.0516 676.329 L16.4842 659.778 Z\" fill=\"#000000\" fill-rule=\"evenodd\" fill-opacity=\"1\" /><path clip-path=\"url(#clip180)\" d=\"M 0 0 M14.479 648.225 L14.479 642.368 L64.0042 642.368 L64.0042 648.225 L14.479 648.225 Z\" fill=\"#000000\" fill-rule=\"evenodd\" fill-opacity=\"1\" /><path clip-path=\"url(#clip180)\" d=\"M 0 0 M14.479 622.539 L72.5979 622.539 L72.5979 636.034 L68.0464 636.034 L68.0464 628.427 L19.0304 628.427 L19.0304 636.034 L14.479 636.034 L14.479 622.539 Z\" fill=\"#000000\" fill-rule=\"evenodd\" fill-opacity=\"1\" /><circle clip-path=\"url(#clip182)\" cx=\"286.417\" cy=\"86.1857\" r=\"14\" fill=\"#da70d6\" fill-rule=\"evenodd\" fill-opacity=\"1\" stroke=\"#000000\" stroke-opacity=\"1\" stroke-width=\"3.2\"/>\n",
       "<circle clip-path=\"url(#clip182)\" cx=\"397.424\" cy=\"257.258\" r=\"14\" fill=\"#da70d6\" fill-rule=\"evenodd\" fill-opacity=\"1\" stroke=\"#000000\" stroke-opacity=\"1\" stroke-width=\"3.2\"/>\n",
       "<circle clip-path=\"url(#clip182)\" cx=\"509.768\" cy=\"516.264\" r=\"14\" fill=\"#da70d6\" fill-rule=\"evenodd\" fill-opacity=\"1\" stroke=\"#000000\" stroke-opacity=\"1\" stroke-width=\"3.2\"/>\n",
       "<circle clip-path=\"url(#clip182)\" cx=\"620.776\" cy=\"784.863\" r=\"14\" fill=\"#da70d6\" fill-rule=\"evenodd\" fill-opacity=\"1\" stroke=\"#000000\" stroke-opacity=\"1\" stroke-width=\"3.2\"/>\n",
       "<circle clip-path=\"url(#clip182)\" cx=\"777.256\" cy=\"870.133\" r=\"14\" fill=\"#da70d6\" fill-rule=\"evenodd\" fill-opacity=\"1\" stroke=\"#000000\" stroke-opacity=\"1\" stroke-width=\"3.2\"/>\n",
       "<circle clip-path=\"url(#clip182)\" cx=\"999.27\" cy=\"1020.42\" r=\"14\" fill=\"#da70d6\" fill-rule=\"evenodd\" fill-opacity=\"1\" stroke=\"#000000\" stroke-opacity=\"1\" stroke-width=\"3.2\"/>\n",
       "<circle clip-path=\"url(#clip182)\" cx=\"1178.49\" cy=\"1124.88\" r=\"14\" fill=\"#da70d6\" fill-rule=\"evenodd\" fill-opacity=\"1\" stroke=\"#000000\" stroke-opacity=\"1\" stroke-width=\"3.2\"/>\n",
       "<circle clip-path=\"url(#clip182)\" cx=\"1400.5\" cy=\"1225.6\" r=\"14\" fill=\"#da70d6\" fill-rule=\"evenodd\" fill-opacity=\"1\" stroke=\"#000000\" stroke-opacity=\"1\" stroke-width=\"3.2\"/>\n",
       "<circle clip-path=\"url(#clip182)\" cx=\"1623.85\" cy=\"1297.01\" r=\"14\" fill=\"#da70d6\" fill-rule=\"evenodd\" fill-opacity=\"1\" stroke=\"#000000\" stroke-opacity=\"1\" stroke-width=\"3.2\"/>\n",
       "<circle clip-path=\"url(#clip182)\" cx=\"2065.21\" cy=\"1332.72\" r=\"14\" fill=\"#da70d6\" fill-rule=\"evenodd\" fill-opacity=\"1\" stroke=\"#000000\" stroke-opacity=\"1\" stroke-width=\"3.2\"/>\n",
       "<circle clip-path=\"url(#clip182)\" cx=\"2185.58\" cy=\"1370.03\" r=\"14\" fill=\"#da70d6\" fill-rule=\"evenodd\" fill-opacity=\"1\" stroke=\"#000000\" stroke-opacity=\"1\" stroke-width=\"3.2\"/>\n",
       "<circle clip-path=\"url(#clip182)\" cx=\"2292.57\" cy=\"1379.62\" r=\"14\" fill=\"#da70d6\" fill-rule=\"evenodd\" fill-opacity=\"1\" stroke=\"#000000\" stroke-opacity=\"1\" stroke-width=\"3.2\"/>\n",
       "<polyline clip-path=\"url(#clip182)\" style=\"stroke:#e26f46; stroke-width:4; stroke-opacity:1; fill:none\" points=\"\n",
       "  286.417,86.1857 420.16,374.653 553.904,600.664 687.648,777.74 821.391,916.478 955.135,1025.18 1088.88,1110.34 1222.62,1177.07 1356.37,1229.34 1490.11,1270.3 \n",
       "  1623.85,1302.4 1757.6,1327.54 1891.34,1347.24 2025.08,1362.67 2158.83,1374.76 2292.57,1384.24 \n",
       "  \"/>\n",
       "<path clip-path=\"url(#clip180)\" d=\"\n",
       "M1617.7 274.549 L2281.87 274.549 L2281.87 93.1086 L1617.7 93.1086  Z\n",
       "  \" fill=\"#ffffff\" fill-rule=\"evenodd\" fill-opacity=\"1\"/>\n",
       "<polyline clip-path=\"url(#clip180)\" style=\"stroke:#000000; stroke-width:4; stroke-opacity:1; fill:none\" points=\"\n",
       "  1617.7,274.549 2281.87,274.549 2281.87,93.1086 1617.7,93.1086 1617.7,274.549 \n",
       "  \"/>\n",
       "<circle clip-path=\"url(#clip180)\" cx=\"1712.21\" cy=\"153.589\" r=\"23\" fill=\"#da70d6\" fill-rule=\"evenodd\" fill-opacity=\"1\" stroke=\"#000000\" stroke-opacity=\"1\" stroke-width=\"5.12\"/>\n",
       "<path clip-path=\"url(#clip180)\" d=\"M 0 0 M1806.72 144.943 L1810.98 144.943 L1816.31 165.174 L1821.61 144.943 L1826.63 144.943 L1831.96 165.174 L1837.26 144.943 L1841.52 144.943 L1834.73 170.869 L1829.71 170.869 L1824.13 149.619 L1818.53 170.869 L1813.51 170.869 L1806.72 144.943 Z\" fill=\"#000000\" fill-rule=\"evenodd\" fill-opacity=\"1\" /><path clip-path=\"url(#clip180)\" d=\"M 0 0 M1857.77 157.836 Q1852.6 157.836 1850.61 159.017 Q1848.62 160.197 1848.62 163.045 Q1848.62 165.313 1850.1 166.656 Q1851.61 167.975 1854.18 167.975 Q1857.72 167.975 1859.85 165.475 Q1862 162.952 1862 158.785 L1862 157.836 L1857.77 157.836 M1866.26 156.077 L1866.26 170.869 L1862 170.869 L1862 166.933 Q1860.54 169.295 1858.37 170.429 Q1856.19 171.54 1853.04 171.54 Q1849.06 171.54 1846.7 169.318 Q1844.36 167.072 1844.36 163.322 Q1844.36 158.947 1847.28 156.725 Q1850.22 154.503 1856.03 154.503 L1862 154.503 L1862 154.086 Q1862 151.147 1860.06 149.549 Q1858.14 147.929 1854.64 147.929 Q1852.42 147.929 1850.31 148.461 Q1848.21 148.994 1846.26 150.059 L1846.26 146.123 Q1848.6 145.221 1850.8 144.781 Q1853 144.318 1855.08 144.318 Q1860.71 144.318 1863.48 147.234 Q1866.26 150.151 1866.26 156.077 Z\" fill=\"#000000\" fill-rule=\"evenodd\" fill-opacity=\"1\" /><path clip-path=\"url(#clip180)\" d=\"M 0 0 M1885.75 148.924 Q1885.03 148.508 1884.18 148.322 Q1883.34 148.114 1882.33 148.114 Q1878.71 148.114 1876.77 150.475 Q1874.85 152.813 1874.85 157.211 L1874.85 170.869 L1870.57 170.869 L1870.57 144.943 L1874.85 144.943 L1874.85 148.971 Q1876.19 146.609 1878.34 145.475 Q1880.5 144.318 1883.58 144.318 Q1884.02 144.318 1884.55 144.387 Q1885.08 144.434 1885.73 144.549 L1885.75 148.924 Z\" fill=\"#000000\" fill-rule=\"evenodd\" fill-opacity=\"1\" /><path clip-path=\"url(#clip180)\" d=\"M 0 0 M1894.43 137.582 L1894.43 144.943 L1903.21 144.943 L1903.21 148.253 L1894.43 148.253 L1894.43 162.327 Q1894.43 165.498 1895.29 166.401 Q1896.17 167.304 1898.83 167.304 L1903.21 167.304 L1903.21 170.869 L1898.83 170.869 Q1893.9 170.869 1892.02 169.04 Q1890.15 167.188 1890.15 162.327 L1890.15 148.253 L1887.02 148.253 L1887.02 144.943 L1890.15 144.943 L1890.15 137.582 L1894.43 137.582 Z\" fill=\"#000000\" fill-rule=\"evenodd\" fill-opacity=\"1\" /><path clip-path=\"url(#clip180)\" d=\"M 0 0 M1917.72 147.929 Q1914.29 147.929 1912.3 150.614 Q1910.31 153.276 1910.31 157.929 Q1910.31 162.582 1912.28 165.267 Q1914.27 167.929 1917.72 167.929 Q1921.12 167.929 1923.11 165.244 Q1925.1 162.558 1925.1 157.929 Q1925.1 153.322 1923.11 150.637 Q1921.12 147.929 1917.72 147.929 M1917.72 144.318 Q1923.27 144.318 1926.45 147.929 Q1929.62 151.54 1929.62 157.929 Q1929.62 164.295 1926.45 167.929 Q1923.27 171.54 1917.72 171.54 Q1912.14 171.54 1908.97 167.929 Q1905.82 164.295 1905.82 157.929 Q1905.82 151.54 1908.97 147.929 Q1912.14 144.318 1917.72 144.318 Z\" fill=\"#000000\" fill-rule=\"evenodd\" fill-opacity=\"1\" /><path clip-path=\"url(#clip180)\" d=\"M 0 0 M1946.21 132.79 L1950.82 132.79 L1943.27 141.494 L1939.73 141.494 L1946.21 132.79 M1950.61 145.707 L1950.61 149.734 Q1948.81 148.809 1946.86 148.346 Q1944.92 147.883 1942.83 147.883 Q1939.66 147.883 1938.07 148.855 Q1936.49 149.827 1936.49 151.771 Q1936.49 153.253 1937.63 154.109 Q1938.76 154.943 1942.19 155.707 L1943.65 156.031 Q1948.18 157.003 1950.08 158.785 Q1952 160.545 1952 163.716 Q1952 167.327 1949.13 169.433 Q1946.28 171.54 1941.28 171.54 Q1939.2 171.54 1936.93 171.123 Q1934.69 170.73 1932.19 169.92 L1932.19 165.521 Q1934.55 166.748 1936.84 167.373 Q1939.13 167.975 1941.38 167.975 Q1944.39 167.975 1946.01 166.957 Q1947.63 165.915 1947.63 164.04 Q1947.63 162.304 1946.45 161.378 Q1945.29 160.452 1941.33 159.596 L1939.85 159.248 Q1935.89 158.415 1934.13 156.702 Q1932.37 154.966 1932.37 151.957 Q1932.37 148.299 1934.96 146.309 Q1937.56 144.318 1942.33 144.318 Q1944.69 144.318 1946.77 144.665 Q1948.85 145.012 1950.61 145.707 Z\" fill=\"#000000\" fill-rule=\"evenodd\" fill-opacity=\"1\" /><path clip-path=\"url(#clip180)\" d=\"M 0 0 M1975.13 145.938 L1975.13 149.92 Q1973.32 148.924 1971.49 148.438 Q1969.69 147.929 1967.83 147.929 Q1963.69 147.929 1961.4 150.568 Q1959.11 153.184 1959.11 157.929 Q1959.11 162.674 1961.4 165.313 Q1963.69 167.929 1967.83 167.929 Q1969.69 167.929 1971.49 167.443 Q1973.32 166.933 1975.13 165.938 L1975.13 169.873 Q1973.34 170.707 1971.42 171.123 Q1969.52 171.54 1967.37 171.54 Q1961.52 171.54 1958.07 167.859 Q1954.62 164.179 1954.62 157.929 Q1954.62 151.586 1958.09 147.952 Q1961.58 144.318 1967.65 144.318 Q1969.62 144.318 1971.49 144.735 Q1973.37 145.128 1975.13 145.938 Z\" fill=\"#000000\" fill-rule=\"evenodd\" fill-opacity=\"1\" /><path clip-path=\"url(#clip180)\" d=\"M 0 0 M1979.59 144.943 L1983.85 144.943 L1983.85 170.869 L1979.59 170.869 L1979.59 144.943 M1979.59 134.85 L1983.85 134.85 L1983.85 140.244 L1979.59 140.244 L1979.59 134.85 Z\" fill=\"#000000\" fill-rule=\"evenodd\" fill-opacity=\"1\" /><path clip-path=\"url(#clip180)\" d=\"M 0 0 M2023.58 149.92 Q2025.17 147.049 2027.39 145.684 Q2029.62 144.318 2032.63 144.318 Q2036.68 144.318 2038.88 147.165 Q2041.08 149.989 2041.08 155.221 L2041.08 170.869 L2036.79 170.869 L2036.79 155.359 Q2036.79 151.633 2035.47 149.827 Q2034.15 148.022 2031.45 148.022 Q2028.14 148.022 2026.21 150.221 Q2024.29 152.42 2024.29 156.216 L2024.29 170.869 L2020.01 170.869 L2020.01 155.359 Q2020.01 151.609 2018.69 149.827 Q2017.37 148.022 2014.62 148.022 Q2011.35 148.022 2009.43 150.244 Q2007.51 152.443 2007.51 156.216 L2007.51 170.869 L2003.23 170.869 L2003.23 144.943 L2007.51 144.943 L2007.51 148.971 Q2008.97 146.586 2011.01 145.452 Q2013.04 144.318 2015.84 144.318 Q2018.67 144.318 2020.64 145.753 Q2022.63 147.188 2023.58 149.92 Z\" fill=\"#000000\" fill-rule=\"evenodd\" fill-opacity=\"1\" /><path clip-path=\"url(#clip180)\" d=\"M 0 0 M2045.54 144.943 L2049.8 144.943 L2049.8 170.869 L2045.54 170.869 L2045.54 144.943 M2045.54 134.85 L2049.8 134.85 L2049.8 140.244 L2045.54 140.244 L2045.54 134.85 Z\" fill=\"#000000\" fill-rule=\"evenodd\" fill-opacity=\"1\" /><path clip-path=\"url(#clip180)\" d=\"M 0 0 M2076.45 156.841 L2076.45 158.924 L2056.86 158.924 Q2057.14 163.322 2059.5 165.637 Q2061.89 167.929 2066.12 167.929 Q2068.57 167.929 2070.87 167.327 Q2073.18 166.725 2075.45 165.521 L2075.45 169.549 Q2073.16 170.521 2070.75 171.031 Q2068.34 171.54 2065.87 171.54 Q2059.66 171.54 2056.03 167.929 Q2052.42 164.318 2052.42 158.16 Q2052.42 151.795 2055.84 148.068 Q2059.29 144.318 2065.13 144.318 Q2070.36 144.318 2073.39 147.697 Q2076.45 151.054 2076.45 156.841 M2072.19 155.591 Q2072.14 152.096 2070.22 150.012 Q2068.32 147.929 2065.17 147.929 Q2061.61 147.929 2059.45 149.943 Q2057.32 151.957 2057 155.614 L2072.19 155.591 Z\" fill=\"#000000\" fill-rule=\"evenodd\" fill-opacity=\"1\" /><path clip-path=\"url(#clip180)\" d=\"M 0 0 M2095.94 148.924 Q2095.22 148.508 2094.36 148.322 Q2093.53 148.114 2092.51 148.114 Q2088.9 148.114 2086.95 150.475 Q2085.03 152.813 2085.03 157.211 L2085.03 170.869 L2080.75 170.869 L2080.75 144.943 L2085.03 144.943 L2085.03 148.971 Q2086.38 146.609 2088.53 145.475 Q2090.68 144.318 2093.76 144.318 Q2094.2 144.318 2094.73 144.387 Q2095.26 144.434 2095.91 144.549 L2095.94 148.924 Z\" fill=\"#000000\" fill-rule=\"evenodd\" fill-opacity=\"1\" /><path clip-path=\"url(#clip180)\" d=\"M 0 0 M2098.55 144.943 L2118.78 144.943 L2118.78 148.832 L2102.76 167.466 L2118.78 167.466 L2118.78 170.869 L2097.97 170.869 L2097.97 166.98 L2113.99 148.346 L2098.55 148.346 L2098.55 144.943 Z\" fill=\"#000000\" fill-rule=\"evenodd\" fill-opacity=\"1\" /><path clip-path=\"url(#clip180)\" d=\"M 0 0 M2133.3 147.929 Q2129.87 147.929 2127.88 150.614 Q2125.89 153.276 2125.89 157.929 Q2125.89 162.582 2127.86 165.267 Q2129.85 167.929 2133.3 167.929 Q2136.7 167.929 2138.69 165.244 Q2140.68 162.558 2140.68 157.929 Q2140.68 153.322 2138.69 150.637 Q2136.7 147.929 2133.3 147.929 M2133.3 144.318 Q2138.85 144.318 2142.02 147.929 Q2145.19 151.54 2145.19 157.929 Q2145.19 164.295 2142.02 167.929 Q2138.85 171.54 2133.3 171.54 Q2127.72 171.54 2124.55 167.929 Q2121.4 164.295 2121.4 157.929 Q2121.4 151.54 2124.55 147.929 Q2127.72 144.318 2133.3 144.318 Z\" fill=\"#000000\" fill-rule=\"evenodd\" fill-opacity=\"1\" /><path clip-path=\"url(#clip180)\" d=\"M 0 0 M2171.21 155.221 L2171.21 170.869 L2166.95 170.869 L2166.95 155.359 Q2166.95 151.679 2165.52 149.85 Q2164.08 148.022 2161.21 148.022 Q2157.76 148.022 2155.77 150.221 Q2153.78 152.42 2153.78 156.216 L2153.78 170.869 L2149.5 170.869 L2149.5 144.943 L2153.78 144.943 L2153.78 148.971 Q2155.31 146.633 2157.37 145.475 Q2159.45 144.318 2162.16 144.318 Q2166.63 144.318 2168.92 147.096 Q2171.21 149.85 2171.21 155.221 Z\" fill=\"#000000\" fill-rule=\"evenodd\" fill-opacity=\"1\" /><path clip-path=\"url(#clip180)\" d=\"M 0 0 M2197.86 156.841 L2197.86 158.924 L2178.27 158.924 Q2178.55 163.322 2180.91 165.637 Q2183.3 167.929 2187.53 167.929 Q2189.99 167.929 2192.28 167.327 Q2194.59 166.725 2196.86 165.521 L2196.86 169.549 Q2194.57 170.521 2192.16 171.031 Q2189.75 171.54 2187.28 171.54 Q2181.07 171.54 2177.44 167.929 Q2173.83 164.318 2173.83 158.16 Q2173.83 151.795 2177.25 148.068 Q2180.7 144.318 2186.54 144.318 Q2191.77 144.318 2194.8 147.697 Q2197.86 151.054 2197.86 156.841 M2193.6 155.591 Q2193.55 152.096 2191.63 150.012 Q2189.73 147.929 2186.58 147.929 Q2183.02 147.929 2180.87 149.943 Q2178.74 151.957 2178.41 155.614 L2193.6 155.591 Z\" fill=\"#000000\" fill-rule=\"evenodd\" fill-opacity=\"1\" /><polyline clip-path=\"url(#clip180)\" style=\"stroke:#e26f46; stroke-width:4; stroke-opacity:1; fill:none\" points=\"\n",
       "  1641.33,214.069 1783.1,214.069 \n",
       "  \"/>\n",
       "<path clip-path=\"url(#clip180)\" d=\"M 0 0 M1806.72 205.423 L1810.98 205.423 L1816.31 225.654 L1821.61 205.423 L1826.63 205.423 L1831.96 225.654 L1837.26 205.423 L1841.52 205.423 L1834.73 231.349 L1829.71 231.349 L1824.13 210.099 L1818.53 231.349 L1813.51 231.349 L1806.72 205.423 Z\" fill=\"#000000\" fill-rule=\"evenodd\" fill-opacity=\"1\" /><path clip-path=\"url(#clip180)\" d=\"M 0 0 M1857.77 218.316 Q1852.6 218.316 1850.61 219.497 Q1848.62 220.677 1848.62 223.525 Q1848.62 225.793 1850.1 227.136 Q1851.61 228.455 1854.18 228.455 Q1857.72 228.455 1859.85 225.955 Q1862 223.432 1862 219.265 L1862 218.316 L1857.77 218.316 M1866.26 216.557 L1866.26 231.349 L1862 231.349 L1862 227.413 Q1860.54 229.775 1858.37 230.909 Q1856.19 232.02 1853.04 232.02 Q1849.06 232.02 1846.7 229.798 Q1844.36 227.552 1844.36 223.802 Q1844.36 219.427 1847.28 217.205 Q1850.22 214.983 1856.03 214.983 L1862 214.983 L1862 214.566 Q1862 211.627 1860.06 210.029 Q1858.14 208.409 1854.64 208.409 Q1852.42 208.409 1850.31 208.941 Q1848.21 209.474 1846.26 210.539 L1846.26 206.603 Q1848.6 205.701 1850.8 205.261 Q1853 204.798 1855.08 204.798 Q1860.71 204.798 1863.48 207.714 Q1866.26 210.631 1866.26 216.557 Z\" fill=\"#000000\" fill-rule=\"evenodd\" fill-opacity=\"1\" /><path clip-path=\"url(#clip180)\" d=\"M 0 0 M1885.75 209.404 Q1885.03 208.988 1884.18 208.802 Q1883.34 208.594 1882.33 208.594 Q1878.71 208.594 1876.77 210.955 Q1874.85 213.293 1874.85 217.691 L1874.85 231.349 L1870.57 231.349 L1870.57 205.423 L1874.85 205.423 L1874.85 209.451 Q1876.19 207.089 1878.34 205.955 Q1880.5 204.798 1883.58 204.798 Q1884.02 204.798 1884.55 204.867 Q1885.08 204.914 1885.73 205.029 L1885.75 209.404 Z\" fill=\"#000000\" fill-rule=\"evenodd\" fill-opacity=\"1\" /><path clip-path=\"url(#clip180)\" d=\"M 0 0 M1894.43 198.062 L1894.43 205.423 L1903.21 205.423 L1903.21 208.733 L1894.43 208.733 L1894.43 222.807 Q1894.43 225.978 1895.29 226.881 Q1896.17 227.784 1898.83 227.784 L1903.21 227.784 L1903.21 231.349 L1898.83 231.349 Q1893.9 231.349 1892.02 229.52 Q1890.15 227.668 1890.15 222.807 L1890.15 208.733 L1887.02 208.733 L1887.02 205.423 L1890.15 205.423 L1890.15 198.062 L1894.43 198.062 Z\" fill=\"#000000\" fill-rule=\"evenodd\" fill-opacity=\"1\" /><path clip-path=\"url(#clip180)\" d=\"M 0 0 M1917.72 208.409 Q1914.29 208.409 1912.3 211.094 Q1910.31 213.756 1910.31 218.409 Q1910.31 223.062 1912.28 225.747 Q1914.27 228.409 1917.72 228.409 Q1921.12 228.409 1923.11 225.724 Q1925.1 223.038 1925.1 218.409 Q1925.1 213.802 1923.11 211.117 Q1921.12 208.409 1917.72 208.409 M1917.72 204.798 Q1923.27 204.798 1926.45 208.409 Q1929.62 212.02 1929.62 218.409 Q1929.62 224.775 1926.45 228.409 Q1923.27 232.02 1917.72 232.02 Q1912.14 232.02 1908.97 228.409 Q1905.82 224.775 1905.82 218.409 Q1905.82 212.02 1908.97 208.409 Q1912.14 204.798 1917.72 204.798 Z\" fill=\"#000000\" fill-rule=\"evenodd\" fill-opacity=\"1\" /><path clip-path=\"url(#clip180)\" d=\"M 0 0 M1946.21 193.27 L1950.82 193.27 L1943.27 201.974 L1939.73 201.974 L1946.21 193.27 M1950.61 206.187 L1950.61 210.214 Q1948.81 209.289 1946.86 208.826 Q1944.92 208.363 1942.83 208.363 Q1939.66 208.363 1938.07 209.335 Q1936.49 210.307 1936.49 212.251 Q1936.49 213.733 1937.63 214.589 Q1938.76 215.423 1942.19 216.187 L1943.65 216.511 Q1948.18 217.483 1950.08 219.265 Q1952 221.025 1952 224.196 Q1952 227.807 1949.13 229.913 Q1946.28 232.02 1941.28 232.02 Q1939.2 232.02 1936.93 231.603 Q1934.69 231.21 1932.19 230.4 L1932.19 226.001 Q1934.55 227.228 1936.84 227.853 Q1939.13 228.455 1941.38 228.455 Q1944.39 228.455 1946.01 227.437 Q1947.63 226.395 1947.63 224.52 Q1947.63 222.784 1946.45 221.858 Q1945.29 220.932 1941.33 220.076 L1939.85 219.728 Q1935.89 218.895 1934.13 217.182 Q1932.37 215.446 1932.37 212.437 Q1932.37 208.779 1934.96 206.789 Q1937.56 204.798 1942.33 204.798 Q1944.69 204.798 1946.77 205.145 Q1948.85 205.492 1950.61 206.187 Z\" fill=\"#000000\" fill-rule=\"evenodd\" fill-opacity=\"1\" /><path clip-path=\"url(#clip180)\" d=\"M 0 0 M1975.13 206.418 L1975.13 210.4 Q1973.32 209.404 1971.49 208.918 Q1969.69 208.409 1967.83 208.409 Q1963.69 208.409 1961.4 211.048 Q1959.11 213.664 1959.11 218.409 Q1959.11 223.154 1961.4 225.793 Q1963.69 228.409 1967.83 228.409 Q1969.69 228.409 1971.49 227.923 Q1973.32 227.413 1975.13 226.418 L1975.13 230.353 Q1973.34 231.187 1971.42 231.603 Q1969.52 232.02 1967.37 232.02 Q1961.52 232.02 1958.07 228.339 Q1954.62 224.659 1954.62 218.409 Q1954.62 212.066 1958.09 208.432 Q1961.58 204.798 1967.65 204.798 Q1969.62 204.798 1971.49 205.215 Q1973.37 205.608 1975.13 206.418 Z\" fill=\"#000000\" fill-rule=\"evenodd\" fill-opacity=\"1\" /><path clip-path=\"url(#clip180)\" d=\"M 0 0 M1979.59 205.423 L1983.85 205.423 L1983.85 231.349 L1979.59 231.349 L1979.59 205.423 M1979.59 195.33 L1983.85 195.33 L1983.85 200.724 L1979.59 200.724 L1979.59 195.33 Z\" fill=\"#000000\" fill-rule=\"evenodd\" fill-opacity=\"1\" /><path clip-path=\"url(#clip180)\" d=\"M 0 0 M2015.17 218.316 Q2010.01 218.316 2008.02 219.497 Q2006.03 220.677 2006.03 223.525 Q2006.03 225.793 2007.51 227.136 Q2009.02 228.455 2011.58 228.455 Q2015.13 228.455 2017.26 225.955 Q2019.41 223.432 2019.41 219.265 L2019.41 218.316 L2015.17 218.316 M2023.67 216.557 L2023.67 231.349 L2019.41 231.349 L2019.41 227.413 Q2017.95 229.775 2015.77 230.909 Q2013.6 232.02 2010.45 232.02 Q2006.47 232.02 2004.11 229.798 Q2001.77 227.552 2001.77 223.802 Q2001.77 219.427 2004.69 217.205 Q2007.63 214.983 2013.44 214.983 L2019.41 214.983 L2019.41 214.566 Q2019.41 211.627 2017.46 210.029 Q2015.54 208.409 2012.05 208.409 Q2009.83 208.409 2007.72 208.941 Q2005.61 209.474 2003.67 210.539 L2003.67 206.603 Q2006.01 205.701 2008.2 205.261 Q2010.4 204.798 2012.49 204.798 Q2018.11 204.798 2020.89 207.714 Q2023.67 210.631 2023.67 216.557 Z\" fill=\"#000000\" fill-rule=\"evenodd\" fill-opacity=\"1\" /><path clip-path=\"url(#clip180)\" d=\"M 0 0 M2049.69 215.701 L2049.69 231.349 L2045.43 231.349 L2045.43 215.839 Q2045.43 212.159 2043.99 210.33 Q2042.56 208.502 2039.69 208.502 Q2036.24 208.502 2034.25 210.701 Q2032.26 212.9 2032.26 216.696 L2032.26 231.349 L2027.97 231.349 L2027.97 205.423 L2032.26 205.423 L2032.26 209.451 Q2033.78 207.113 2035.84 205.955 Q2037.93 204.798 2040.64 204.798 Q2045.1 204.798 2047.39 207.576 Q2049.69 210.33 2049.69 215.701 Z\" fill=\"#000000\" fill-rule=\"evenodd\" fill-opacity=\"1\" /><path clip-path=\"url(#clip180)\" d=\"M 0 0 M2065.94 218.316 Q2060.77 218.316 2058.78 219.497 Q2056.79 220.677 2056.79 223.525 Q2056.79 225.793 2058.27 227.136 Q2059.78 228.455 2062.35 228.455 Q2065.89 228.455 2068.02 225.955 Q2070.17 223.432 2070.17 219.265 L2070.17 218.316 L2065.94 218.316 M2074.43 216.557 L2074.43 231.349 L2070.17 231.349 L2070.17 227.413 Q2068.71 229.775 2066.54 230.909 Q2064.36 232.02 2061.21 232.02 Q2057.23 232.02 2054.87 229.798 Q2052.53 227.552 2052.53 223.802 Q2052.53 219.427 2055.45 217.205 Q2058.39 214.983 2064.2 214.983 L2070.17 214.983 L2070.17 214.566 Q2070.17 211.627 2068.23 210.029 Q2066.31 208.409 2062.81 208.409 Q2060.59 208.409 2058.48 208.941 Q2056.38 209.474 2054.43 210.539 L2054.43 206.603 Q2056.77 205.701 2058.97 205.261 Q2061.17 204.798 2063.25 204.798 Q2068.88 204.798 2071.65 207.714 Q2074.43 210.631 2074.43 216.557 Z\" fill=\"#000000\" fill-rule=\"evenodd\" fill-opacity=\"1\" /><path clip-path=\"url(#clip180)\" d=\"M 0 0 M2078.9 195.33 L2083.16 195.33 L2083.16 231.349 L2078.9 231.349 L2078.9 195.33 Z\" fill=\"#000000\" fill-rule=\"evenodd\" fill-opacity=\"1\" /><path clip-path=\"url(#clip180)\" d=\"M 0 0 M2087.63 205.423 L2091.88 205.423 L2091.88 231.349 L2087.63 231.349 L2087.63 205.423 M2087.63 195.33 L2091.88 195.33 L2091.88 200.724 L2087.63 200.724 L2087.63 195.33 Z\" fill=\"#000000\" fill-rule=\"evenodd\" fill-opacity=\"1\" /><path clip-path=\"url(#clip180)\" d=\"M 0 0 M2100.57 198.062 L2100.57 205.423 L2109.34 205.423 L2109.34 208.733 L2100.57 208.733 L2100.57 222.807 Q2100.57 225.978 2101.42 226.881 Q2102.3 227.784 2104.96 227.784 L2109.34 227.784 L2109.34 231.349 L2104.96 231.349 Q2100.03 231.349 2098.16 229.52 Q2096.28 227.668 2096.28 222.807 L2096.28 208.733 L2093.16 208.733 L2093.16 205.423 L2096.28 205.423 L2096.28 198.062 L2100.57 198.062 Z\" fill=\"#000000\" fill-rule=\"evenodd\" fill-opacity=\"1\" /><path clip-path=\"url(#clip180)\" d=\"M 0 0 M2124.59 233.756 Q2122.79 238.386 2121.07 239.798 Q2119.36 241.21 2116.49 241.21 L2113.09 241.21 L2113.09 237.645 L2115.59 237.645 Q2117.35 237.645 2118.32 236.812 Q2119.29 235.978 2120.47 232.876 L2121.24 230.932 L2110.75 205.423 L2115.26 205.423 L2123.37 225.701 L2131.47 205.423 L2135.98 205.423 L2124.59 233.756 Z\" fill=\"#000000\" fill-rule=\"evenodd\" fill-opacity=\"1\" /><path clip-path=\"url(#clip180)\" d=\"M 0 0 M2159.11 206.418 L2159.11 210.4 Q2157.3 209.404 2155.47 208.918 Q2153.67 208.409 2151.82 208.409 Q2147.67 208.409 2145.38 211.048 Q2143.09 213.664 2143.09 218.409 Q2143.09 223.154 2145.38 225.793 Q2147.67 228.409 2151.82 228.409 Q2153.67 228.409 2155.47 227.923 Q2157.3 227.413 2159.11 226.418 L2159.11 230.353 Q2157.32 231.187 2155.4 231.603 Q2153.51 232.02 2151.35 232.02 Q2145.5 232.02 2142.05 228.339 Q2138.6 224.659 2138.6 218.409 Q2138.6 212.066 2142.07 208.432 Q2145.57 204.798 2151.63 204.798 Q2153.6 204.798 2155.47 205.215 Q2157.35 205.608 2159.11 206.418 Z\" fill=\"#000000\" fill-rule=\"evenodd\" fill-opacity=\"1\" /><path clip-path=\"url(#clip180)\" d=\"M 0 0 M2161.72 205.423 L2181.95 205.423 L2181.95 209.312 L2165.94 227.946 L2181.95 227.946 L2181.95 231.349 L2161.14 231.349 L2161.14 227.46 L2177.16 208.826 L2161.72 208.826 L2161.72 205.423 Z\" fill=\"#000000\" fill-rule=\"evenodd\" fill-opacity=\"1\" /><path clip-path=\"url(#clip180)\" d=\"M 0 0 M2207.97 215.701 L2207.97 231.349 L2203.71 231.349 L2203.71 215.839 Q2203.71 212.159 2202.28 210.33 Q2200.84 208.502 2197.97 208.502 Q2194.52 208.502 2192.53 210.701 Q2190.54 212.9 2190.54 216.696 L2190.54 231.349 L2186.26 231.349 L2186.26 205.423 L2190.54 205.423 L2190.54 209.451 Q2192.07 207.113 2194.13 205.955 Q2196.21 204.798 2198.92 204.798 Q2203.39 204.798 2205.68 207.576 Q2207.97 210.33 2207.97 215.701 Z\" fill=\"#000000\" fill-rule=\"evenodd\" fill-opacity=\"1\" /><path clip-path=\"url(#clip180)\" d=\"M 0 0 M2234.62 217.321 L2234.62 219.404 L2215.03 219.404 Q2215.31 223.802 2217.67 226.117 Q2220.06 228.409 2224.29 228.409 Q2226.75 228.409 2229.04 227.807 Q2231.35 227.205 2233.62 226.001 L2233.62 230.029 Q2231.33 231.001 2228.92 231.511 Q2226.51 232.02 2224.04 232.02 Q2217.83 232.02 2214.2 228.409 Q2210.59 224.798 2210.59 218.64 Q2210.59 212.275 2214.01 208.548 Q2217.46 204.798 2223.3 204.798 Q2228.53 204.798 2231.56 208.177 Q2234.62 211.534 2234.62 217.321 M2230.36 216.071 Q2230.31 212.576 2228.39 210.492 Q2226.49 208.409 2223.34 208.409 Q2219.78 208.409 2217.63 210.423 Q2215.5 212.437 2215.17 216.094 L2230.36 216.071 Z\" fill=\"#000000\" fill-rule=\"evenodd\" fill-opacity=\"1\" /></svg>\n"
      ]
     },
     "execution_count": 221,
     "metadata": {},
     "output_type": "execute_result"
    }
   ],
   "source": [
    "plot!(t_step, analyt, label = \"wartości analityczne\")"
   ]
  },
  {
   "cell_type": "code",
   "execution_count": 213,
   "metadata": {},
   "outputs": [
    {
     "data": {
      "text/plain": [
       "model (generic function with 1 method)"
      ]
     },
     "execution_count": 213,
     "metadata": {},
     "output_type": "execute_result"
    }
   ],
   "source": [
    "function model(t, x)\n",
    "    return -2.44 * x\n",
    "end    "
   ]
  },
  {
   "cell_type": "code",
   "execution_count": 214,
   "metadata": {},
   "outputs": [],
   "source": [
    "numeric = runge_kutta(model, Array(0:0.1:1.5), 250.0);"
   ]
  },
  {
   "cell_type": "code",
   "execution_count": 222,
   "metadata": {},
   "outputs": [
    {
     "data": {
      "image/svg+xml": [
       "<?xml version=\"1.0\" encoding=\"utf-8\"?>\n",
       "<svg xmlns=\"http://www.w3.org/2000/svg\" xmlns:xlink=\"http://www.w3.org/1999/xlink\" width=\"600\" height=\"400\" viewBox=\"0 0 2400 1600\">\n",
       "<defs>\n",
       "  <clipPath id=\"clip220\">\n",
       "    <rect x=\"0\" y=\"0\" width=\"2400\" height=\"1600\"/>\n",
       "  </clipPath>\n",
       "</defs>\n",
       "<path clip-path=\"url(#clip220)\" d=\"\n",
       "M0 1600 L2400 1600 L2400 0 L0 0  Z\n",
       "  \" fill=\"#ffffff\" fill-rule=\"evenodd\" fill-opacity=\"1\"/>\n",
       "<defs>\n",
       "  <clipPath id=\"clip221\">\n",
       "    <rect x=\"480\" y=\"0\" width=\"1681\" height=\"1600\"/>\n",
       "  </clipPath>\n",
       "</defs>\n",
       "<path clip-path=\"url(#clip220)\" d=\"\n",
       "M226.232 1423.18 L2352.76 1423.18 L2352.76 47.2441 L226.232 47.2441  Z\n",
       "  \" fill=\"#ffffff\" fill-rule=\"evenodd\" fill-opacity=\"1\"/>\n",
       "<defs>\n",
       "  <clipPath id=\"clip222\">\n",
       "    <rect x=\"226\" y=\"47\" width=\"2128\" height=\"1377\"/>\n",
       "  </clipPath>\n",
       "</defs>\n",
       "<polyline clip-path=\"url(#clip222)\" style=\"stroke:#000000; stroke-width:2; stroke-opacity:0.1; fill:none\" points=\"\n",
       "  286.417,1423.18 286.417,47.2441 \n",
       "  \"/>\n",
       "<polyline clip-path=\"url(#clip222)\" style=\"stroke:#000000; stroke-width:2; stroke-opacity:0.1; fill:none\" points=\"\n",
       "  955.135,1423.18 955.135,47.2441 \n",
       "  \"/>\n",
       "<polyline clip-path=\"url(#clip222)\" style=\"stroke:#000000; stroke-width:2; stroke-opacity:0.1; fill:none\" points=\"\n",
       "  1623.85,1423.18 1623.85,47.2441 \n",
       "  \"/>\n",
       "<polyline clip-path=\"url(#clip222)\" style=\"stroke:#000000; stroke-width:2; stroke-opacity:0.1; fill:none\" points=\"\n",
       "  2292.57,1423.18 2292.57,47.2441 \n",
       "  \"/>\n",
       "<polyline clip-path=\"url(#clip220)\" style=\"stroke:#000000; stroke-width:4; stroke-opacity:1; fill:none\" points=\"\n",
       "  226.232,1423.18 2352.76,1423.18 \n",
       "  \"/>\n",
       "<polyline clip-path=\"url(#clip220)\" style=\"stroke:#000000; stroke-width:4; stroke-opacity:1; fill:none\" points=\"\n",
       "  286.417,1423.18 286.417,1406.67 \n",
       "  \"/>\n",
       "<polyline clip-path=\"url(#clip220)\" style=\"stroke:#000000; stroke-width:4; stroke-opacity:1; fill:none\" points=\"\n",
       "  955.135,1423.18 955.135,1406.67 \n",
       "  \"/>\n",
       "<polyline clip-path=\"url(#clip220)\" style=\"stroke:#000000; stroke-width:4; stroke-opacity:1; fill:none\" points=\"\n",
       "  1623.85,1423.18 1623.85,1406.67 \n",
       "  \"/>\n",
       "<polyline clip-path=\"url(#clip220)\" style=\"stroke:#000000; stroke-width:4; stroke-opacity:1; fill:none\" points=\"\n",
       "  2292.57,1423.18 2292.57,1406.67 \n",
       "  \"/>\n",
       "<path clip-path=\"url(#clip220)\" d=\"M 0 0 M267.933 1452.37 Q264.322 1452.37 262.493 1455.94 Q260.688 1459.48 260.688 1466.61 Q260.688 1473.71 262.493 1477.28 Q264.322 1480.82 267.933 1480.82 Q271.567 1480.82 273.373 1477.28 Q275.201 1473.71 275.201 1466.61 Q275.201 1459.48 273.373 1455.94 Q271.567 1452.37 267.933 1452.37 M267.933 1448.67 Q273.743 1448.67 276.799 1453.27 Q279.877 1457.86 279.877 1466.61 Q279.877 1475.33 276.799 1479.94 Q273.743 1484.52 267.933 1484.52 Q262.123 1484.52 259.044 1479.94 Q255.989 1475.33 255.989 1466.61 Q255.989 1457.86 259.044 1453.27 Q262.123 1448.67 267.933 1448.67 Z\" fill=\"#000000\" fill-rule=\"evenodd\" fill-opacity=\"1\" /><path clip-path=\"url(#clip220)\" d=\"M 0 0 M284.947 1477.97 L289.831 1477.97 L289.831 1483.85 L284.947 1483.85 L284.947 1477.97 Z\" fill=\"#000000\" fill-rule=\"evenodd\" fill-opacity=\"1\" /><path clip-path=\"url(#clip220)\" d=\"M 0 0 M304.9 1452.37 Q301.289 1452.37 299.461 1455.94 Q297.655 1459.48 297.655 1466.61 Q297.655 1473.71 299.461 1477.28 Q301.289 1480.82 304.9 1480.82 Q308.535 1480.82 310.34 1477.28 Q312.169 1473.71 312.169 1466.61 Q312.169 1459.48 310.34 1455.94 Q308.535 1452.37 304.9 1452.37 M304.9 1448.67 Q310.71 1448.67 313.766 1453.27 Q316.845 1457.86 316.845 1466.61 Q316.845 1475.33 313.766 1479.94 Q310.71 1484.52 304.9 1484.52 Q299.09 1484.52 296.011 1479.94 Q292.956 1475.33 292.956 1466.61 Q292.956 1457.86 296.011 1453.27 Q299.09 1448.67 304.9 1448.67 Z\" fill=\"#000000\" fill-rule=\"evenodd\" fill-opacity=\"1\" /><path clip-path=\"url(#clip220)\" d=\"M 0 0 M937.149 1452.37 Q933.538 1452.37 931.709 1455.94 Q929.903 1459.48 929.903 1466.61 Q929.903 1473.71 931.709 1477.28 Q933.538 1480.82 937.149 1480.82 Q940.783 1480.82 942.589 1477.28 Q944.417 1473.71 944.417 1466.61 Q944.417 1459.48 942.589 1455.94 Q940.783 1452.37 937.149 1452.37 M937.149 1448.67 Q942.959 1448.67 946.015 1453.27 Q949.093 1457.86 949.093 1466.61 Q949.093 1475.33 946.015 1479.94 Q942.959 1484.52 937.149 1484.52 Q931.339 1484.52 928.26 1479.94 Q925.204 1475.33 925.204 1466.61 Q925.204 1457.86 928.26 1453.27 Q931.339 1448.67 937.149 1448.67 Z\" fill=\"#000000\" fill-rule=\"evenodd\" fill-opacity=\"1\" /><path clip-path=\"url(#clip220)\" d=\"M 0 0 M954.163 1477.97 L959.047 1477.97 L959.047 1483.85 L954.163 1483.85 L954.163 1477.97 Z\" fill=\"#000000\" fill-rule=\"evenodd\" fill-opacity=\"1\" /><path clip-path=\"url(#clip220)\" d=\"M 0 0 M964.163 1449.29 L982.519 1449.29 L982.519 1453.23 L968.445 1453.23 L968.445 1461.7 Q969.463 1461.35 970.482 1461.19 Q971.5 1461 972.519 1461 Q978.306 1461 981.686 1464.18 Q985.065 1467.35 985.065 1472.76 Q985.065 1478.34 981.593 1481.44 Q978.121 1484.52 971.801 1484.52 Q969.625 1484.52 967.357 1484.15 Q965.112 1483.78 962.704 1483.04 L962.704 1478.34 Q964.788 1479.48 967.01 1480.03 Q969.232 1480.59 971.709 1480.59 Q975.713 1480.59 978.051 1478.48 Q980.389 1476.38 980.389 1472.76 Q980.389 1469.15 978.051 1467.05 Q975.713 1464.94 971.709 1464.94 Q969.834 1464.94 967.959 1465.36 Q966.107 1465.77 964.163 1466.65 L964.163 1449.29 Z\" fill=\"#000000\" fill-rule=\"evenodd\" fill-opacity=\"1\" /><path clip-path=\"url(#clip220)\" d=\"M 0 0 M1595.75 1479.92 L1603.39 1479.92 L1603.39 1453.55 L1595.08 1455.22 L1595.08 1450.96 L1603.34 1449.29 L1608.02 1449.29 L1608.02 1479.92 L1615.66 1479.92 L1615.66 1483.85 L1595.75 1483.85 L1595.75 1479.92 Z\" fill=\"#000000\" fill-rule=\"evenodd\" fill-opacity=\"1\" /><path clip-path=\"url(#clip220)\" d=\"M 0 0 M1620.73 1477.97 L1625.61 1477.97 L1625.61 1483.85 L1620.73 1483.85 L1620.73 1477.97 Z\" fill=\"#000000\" fill-rule=\"evenodd\" fill-opacity=\"1\" /><path clip-path=\"url(#clip220)\" d=\"M 0 0 M1640.68 1452.37 Q1637.07 1452.37 1635.24 1455.94 Q1633.44 1459.48 1633.44 1466.61 Q1633.44 1473.71 1635.24 1477.28 Q1637.07 1480.82 1640.68 1480.82 Q1644.32 1480.82 1646.12 1477.28 Q1647.95 1473.71 1647.95 1466.61 Q1647.95 1459.48 1646.12 1455.94 Q1644.32 1452.37 1640.68 1452.37 M1640.68 1448.67 Q1646.49 1448.67 1649.55 1453.27 Q1652.63 1457.86 1652.63 1466.61 Q1652.63 1475.33 1649.55 1479.94 Q1646.49 1484.52 1640.68 1484.52 Q1634.87 1484.52 1631.79 1479.94 Q1628.74 1475.33 1628.74 1466.61 Q1628.74 1457.86 1631.79 1453.27 Q1634.87 1448.67 1640.68 1448.67 Z\" fill=\"#000000\" fill-rule=\"evenodd\" fill-opacity=\"1\" /><path clip-path=\"url(#clip220)\" d=\"M 0 0 M2264.97 1479.92 L2272.61 1479.92 L2272.61 1453.55 L2264.3 1455.22 L2264.3 1450.96 L2272.56 1449.29 L2277.24 1449.29 L2277.24 1479.92 L2284.87 1479.92 L2284.87 1483.85 L2264.97 1483.85 L2264.97 1479.92 Z\" fill=\"#000000\" fill-rule=\"evenodd\" fill-opacity=\"1\" /><path clip-path=\"url(#clip220)\" d=\"M 0 0 M2289.94 1477.97 L2294.83 1477.97 L2294.83 1483.85 L2289.94 1483.85 L2289.94 1477.97 Z\" fill=\"#000000\" fill-rule=\"evenodd\" fill-opacity=\"1\" /><path clip-path=\"url(#clip220)\" d=\"M 0 0 M2299.94 1449.29 L2318.3 1449.29 L2318.3 1453.23 L2304.23 1453.23 L2304.23 1461.7 Q2305.24 1461.35 2306.26 1461.19 Q2307.28 1461 2308.3 1461 Q2314.09 1461 2317.47 1464.18 Q2320.85 1467.35 2320.85 1472.76 Q2320.85 1478.34 2317.37 1481.44 Q2313.9 1484.52 2307.58 1484.52 Q2305.41 1484.52 2303.14 1484.15 Q2300.89 1483.78 2298.49 1483.04 L2298.49 1478.34 Q2300.57 1479.48 2302.79 1480.03 Q2305.01 1480.59 2307.49 1480.59 Q2311.49 1480.59 2313.83 1478.48 Q2316.17 1476.38 2316.17 1472.76 Q2316.17 1469.15 2313.83 1467.05 Q2311.49 1464.94 2307.49 1464.94 Q2305.62 1464.94 2303.74 1465.36 Q2301.89 1465.77 2299.94 1466.65 L2299.94 1449.29 Z\" fill=\"#000000\" fill-rule=\"evenodd\" fill-opacity=\"1\" /><path clip-path=\"url(#clip220)\" d=\"M 0 0 M1240.84 1522.27 L1240.84 1532.4 L1252.91 1532.4 L1252.91 1536.95 L1240.84 1536.95 L1240.84 1556.3 Q1240.84 1560.66 1242.02 1561.9 Q1243.23 1563.14 1246.89 1563.14 L1252.91 1563.14 L1252.91 1568.04 L1246.89 1568.04 Q1240.11 1568.04 1237.53 1565.53 Q1234.96 1562.98 1234.96 1556.3 L1234.96 1536.95 L1230.66 1536.95 L1230.66 1532.4 L1234.96 1532.4 L1234.96 1522.27 L1240.84 1522.27 Z\" fill=\"#000000\" fill-rule=\"evenodd\" fill-opacity=\"1\" /><path clip-path=\"url(#clip220)\" d=\"M 0 0 M1279.23 1518.52 L1292.72 1518.52 L1292.72 1523.07 L1285.09 1523.07 L1285.09 1572.09 L1292.72 1572.09 L1292.72 1576.64 L1279.23 1576.64 L1279.23 1518.52 Z\" fill=\"#000000\" fill-rule=\"evenodd\" fill-opacity=\"1\" /><path clip-path=\"url(#clip220)\" d=\"M 0 0 M1328.5 1546.53 L1328.5 1568.04 L1322.64 1568.04 L1322.64 1546.72 Q1322.64 1541.66 1320.67 1539.14 Q1318.7 1536.63 1314.75 1536.63 Q1310.01 1536.63 1307.27 1539.65 Q1304.53 1542.68 1304.53 1547.9 L1304.53 1568.04 L1298.64 1568.04 L1298.64 1518.52 L1304.53 1518.52 L1304.53 1537.93 Q1306.63 1534.72 1309.47 1533.13 Q1312.33 1531.54 1316.05 1531.54 Q1322.2 1531.54 1325.35 1535.36 Q1328.5 1539.14 1328.5 1546.53 Z\" fill=\"#000000\" fill-rule=\"evenodd\" fill-opacity=\"1\" /><path clip-path=\"url(#clip220)\" d=\"M 0 0 M1348.33 1518.52 L1348.33 1576.64 L1334.83 1576.64 L1334.83 1572.09 L1342.44 1572.09 L1342.44 1523.07 L1334.83 1523.07 L1334.83 1518.52 L1348.33 1518.52 Z\" fill=\"#000000\" fill-rule=\"evenodd\" fill-opacity=\"1\" /><polyline clip-path=\"url(#clip222)\" style=\"stroke:#000000; stroke-width:2; stroke-opacity:0.1; fill:none\" points=\"\n",
       "  226.232,1418.52 2352.76,1418.52 \n",
       "  \"/>\n",
       "<polyline clip-path=\"url(#clip222)\" style=\"stroke:#000000; stroke-width:2; stroke-opacity:0.1; fill:none\" points=\"\n",
       "  226.232,1152.06 2352.76,1152.06 \n",
       "  \"/>\n",
       "<polyline clip-path=\"url(#clip222)\" style=\"stroke:#000000; stroke-width:2; stroke-opacity:0.1; fill:none\" points=\"\n",
       "  226.232,885.588 2352.76,885.588 \n",
       "  \"/>\n",
       "<polyline clip-path=\"url(#clip222)\" style=\"stroke:#000000; stroke-width:2; stroke-opacity:0.1; fill:none\" points=\"\n",
       "  226.232,619.12 2352.76,619.12 \n",
       "  \"/>\n",
       "<polyline clip-path=\"url(#clip222)\" style=\"stroke:#000000; stroke-width:2; stroke-opacity:0.1; fill:none\" points=\"\n",
       "  226.232,352.653 2352.76,352.653 \n",
       "  \"/>\n",
       "<polyline clip-path=\"url(#clip222)\" style=\"stroke:#000000; stroke-width:2; stroke-opacity:0.1; fill:none\" points=\"\n",
       "  226.232,86.1857 2352.76,86.1857 \n",
       "  \"/>\n",
       "<polyline clip-path=\"url(#clip220)\" style=\"stroke:#000000; stroke-width:4; stroke-opacity:1; fill:none\" points=\"\n",
       "  226.232,1423.18 226.232,47.2441 \n",
       "  \"/>\n",
       "<polyline clip-path=\"url(#clip220)\" style=\"stroke:#000000; stroke-width:4; stroke-opacity:1; fill:none\" points=\"\n",
       "  226.232,1418.52 251.75,1418.52 \n",
       "  \"/>\n",
       "<polyline clip-path=\"url(#clip220)\" style=\"stroke:#000000; stroke-width:4; stroke-opacity:1; fill:none\" points=\"\n",
       "  226.232,1152.06 251.75,1152.06 \n",
       "  \"/>\n",
       "<polyline clip-path=\"url(#clip220)\" style=\"stroke:#000000; stroke-width:4; stroke-opacity:1; fill:none\" points=\"\n",
       "  226.232,885.588 251.75,885.588 \n",
       "  \"/>\n",
       "<polyline clip-path=\"url(#clip220)\" style=\"stroke:#000000; stroke-width:4; stroke-opacity:1; fill:none\" points=\"\n",
       "  226.232,619.12 251.75,619.12 \n",
       "  \"/>\n",
       "<polyline clip-path=\"url(#clip220)\" style=\"stroke:#000000; stroke-width:4; stroke-opacity:1; fill:none\" points=\"\n",
       "  226.232,352.653 251.75,352.653 \n",
       "  \"/>\n",
       "<polyline clip-path=\"url(#clip220)\" style=\"stroke:#000000; stroke-width:4; stroke-opacity:1; fill:none\" points=\"\n",
       "  226.232,86.1857 251.75,86.1857 \n",
       "  \"/>\n",
       "<path clip-path=\"url(#clip220)\" d=\"M 0 0 M178.288 1404.32 Q174.677 1404.32 172.848 1407.89 Q171.042 1411.43 171.042 1418.56 Q171.042 1425.66 172.848 1429.23 Q174.677 1432.77 178.288 1432.77 Q181.922 1432.77 183.727 1429.23 Q185.556 1425.66 185.556 1418.56 Q185.556 1411.43 183.727 1407.89 Q181.922 1404.32 178.288 1404.32 M178.288 1400.62 Q184.098 1400.62 187.153 1405.22 Q190.232 1409.81 190.232 1418.56 Q190.232 1427.28 187.153 1431.89 Q184.098 1436.47 178.288 1436.47 Q172.477 1436.47 169.399 1431.89 Q166.343 1427.28 166.343 1418.56 Q166.343 1409.81 169.399 1405.22 Q172.477 1400.62 178.288 1400.62 Z\" fill=\"#000000\" fill-rule=\"evenodd\" fill-opacity=\"1\" /><path clip-path=\"url(#clip220)\" d=\"M 0 0 M142.316 1134.78 L160.672 1134.78 L160.672 1138.71 L146.598 1138.71 L146.598 1147.18 Q147.616 1146.84 148.635 1146.67 Q149.653 1146.49 150.672 1146.49 Q156.459 1146.49 159.839 1149.66 Q163.218 1152.83 163.218 1158.25 Q163.218 1163.83 159.746 1166.93 Q156.274 1170.01 149.954 1170.01 Q147.778 1170.01 145.51 1169.64 Q143.265 1169.27 140.857 1168.53 L140.857 1163.83 Q142.941 1164.96 145.163 1165.52 Q147.385 1166.07 149.862 1166.07 Q153.866 1166.07 156.204 1163.96 Q158.542 1161.86 158.542 1158.25 Q158.542 1154.64 156.204 1152.53 Q153.866 1150.42 149.862 1150.42 Q147.987 1150.42 146.112 1150.84 Q144.26 1151.26 142.316 1152.14 L142.316 1134.78 Z\" fill=\"#000000\" fill-rule=\"evenodd\" fill-opacity=\"1\" /><path clip-path=\"url(#clip220)\" d=\"M 0 0 M178.288 1137.85 Q174.677 1137.85 172.848 1141.42 Q171.042 1144.96 171.042 1152.09 Q171.042 1159.2 172.848 1162.76 Q174.677 1166.3 178.288 1166.3 Q181.922 1166.3 183.727 1162.76 Q185.556 1159.2 185.556 1152.09 Q185.556 1144.96 183.727 1141.42 Q181.922 1137.85 178.288 1137.85 M178.288 1134.15 Q184.098 1134.15 187.153 1138.76 Q190.232 1143.34 190.232 1152.09 Q190.232 1160.82 187.153 1165.42 Q184.098 1170.01 178.288 1170.01 Q172.477 1170.01 169.399 1165.42 Q166.343 1160.82 166.343 1152.09 Q166.343 1143.34 169.399 1138.76 Q172.477 1134.15 178.288 1134.15 Z\" fill=\"#000000\" fill-rule=\"evenodd\" fill-opacity=\"1\" /><path clip-path=\"url(#clip220)\" d=\"M 0 0 M116.297 898.933 L123.936 898.933 L123.936 872.567 L115.626 874.234 L115.626 869.975 L123.89 868.308 L128.566 868.308 L128.566 898.933 L136.204 898.933 L136.204 902.868 L116.297 902.868 L116.297 898.933 Z\" fill=\"#000000\" fill-rule=\"evenodd\" fill-opacity=\"1\" /><path clip-path=\"url(#clip220)\" d=\"M 0 0 M151.274 871.387 Q147.663 871.387 145.834 874.951 Q144.029 878.493 144.029 885.623 Q144.029 892.729 145.834 896.294 Q147.663 899.835 151.274 899.835 Q154.908 899.835 156.714 896.294 Q158.542 892.729 158.542 885.623 Q158.542 878.493 156.714 874.951 Q154.908 871.387 151.274 871.387 M151.274 867.683 Q157.084 867.683 160.14 872.289 Q163.218 876.873 163.218 885.623 Q163.218 894.349 160.14 898.956 Q157.084 903.539 151.274 903.539 Q145.464 903.539 142.385 898.956 Q139.329 894.349 139.329 885.623 Q139.329 876.873 142.385 872.289 Q145.464 867.683 151.274 867.683 Z\" fill=\"#000000\" fill-rule=\"evenodd\" fill-opacity=\"1\" /><path clip-path=\"url(#clip220)\" d=\"M 0 0 M178.288 871.387 Q174.677 871.387 172.848 874.951 Q171.042 878.493 171.042 885.623 Q171.042 892.729 172.848 896.294 Q174.677 899.835 178.288 899.835 Q181.922 899.835 183.727 896.294 Q185.556 892.729 185.556 885.623 Q185.556 878.493 183.727 874.951 Q181.922 871.387 178.288 871.387 M178.288 867.683 Q184.098 867.683 187.153 872.289 Q190.232 876.873 190.232 885.623 Q190.232 894.349 187.153 898.956 Q184.098 903.539 178.288 903.539 Q172.477 903.539 169.399 898.956 Q166.343 894.349 166.343 885.623 Q166.343 876.873 169.399 872.289 Q172.477 867.683 178.288 867.683 Z\" fill=\"#000000\" fill-rule=\"evenodd\" fill-opacity=\"1\" /><path clip-path=\"url(#clip220)\" d=\"M 0 0 M117.293 632.465 L124.931 632.465 L124.931 606.1 L116.621 607.766 L116.621 603.507 L124.885 601.84 L129.561 601.84 L129.561 632.465 L137.2 632.465 L137.2 636.4 L117.293 636.4 L117.293 632.465 Z\" fill=\"#000000\" fill-rule=\"evenodd\" fill-opacity=\"1\" /><path clip-path=\"url(#clip220)\" d=\"M 0 0 M142.316 601.84 L160.672 601.84 L160.672 605.776 L146.598 605.776 L146.598 614.248 Q147.616 613.901 148.635 613.739 Q149.653 613.553 150.672 613.553 Q156.459 613.553 159.839 616.725 Q163.218 619.896 163.218 625.313 Q163.218 630.891 159.746 633.993 Q156.274 637.072 149.954 637.072 Q147.778 637.072 145.51 636.701 Q143.265 636.331 140.857 635.59 L140.857 630.891 Q142.941 632.025 145.163 632.581 Q147.385 633.137 149.862 633.137 Q153.866 633.137 156.204 631.03 Q158.542 628.924 158.542 625.313 Q158.542 621.701 156.204 619.595 Q153.866 617.489 149.862 617.489 Q147.987 617.489 146.112 617.905 Q144.26 618.322 142.316 619.201 L142.316 601.84 Z\" fill=\"#000000\" fill-rule=\"evenodd\" fill-opacity=\"1\" /><path clip-path=\"url(#clip220)\" d=\"M 0 0 M178.288 604.919 Q174.677 604.919 172.848 608.484 Q171.042 612.026 171.042 619.155 Q171.042 626.262 172.848 629.826 Q174.677 633.368 178.288 633.368 Q181.922 633.368 183.727 629.826 Q185.556 626.262 185.556 619.155 Q185.556 612.026 183.727 608.484 Q181.922 604.919 178.288 604.919 M178.288 601.215 Q184.098 601.215 187.153 605.822 Q190.232 610.405 190.232 619.155 Q190.232 627.882 187.153 632.488 Q184.098 637.072 178.288 637.072 Q172.477 637.072 169.399 632.488 Q166.343 627.882 166.343 619.155 Q166.343 610.405 169.399 605.822 Q172.477 601.215 178.288 601.215 Z\" fill=\"#000000\" fill-rule=\"evenodd\" fill-opacity=\"1\" /><path clip-path=\"url(#clip220)\" d=\"M 0 0 M119.885 365.998 L136.204 365.998 L136.204 369.933 L114.26 369.933 L114.26 365.998 Q116.922 363.243 121.505 358.614 Q126.112 353.961 127.292 352.618 Q129.538 350.095 130.417 348.359 Q131.32 346.6 131.32 344.91 Q131.32 342.155 129.376 340.419 Q127.455 338.683 124.353 338.683 Q122.154 338.683 119.7 339.447 Q117.269 340.211 114.492 341.762 L114.492 337.04 Q117.316 335.905 119.769 335.327 Q122.223 334.748 124.26 334.748 Q129.63 334.748 132.825 337.433 Q136.019 340.118 136.019 344.609 Q136.019 346.739 135.209 348.66 Q134.422 350.558 132.316 353.151 Q131.737 353.822 128.635 357.04 Q125.533 360.234 119.885 365.998 Z\" fill=\"#000000\" fill-rule=\"evenodd\" fill-opacity=\"1\" /><path clip-path=\"url(#clip220)\" d=\"M 0 0 M151.274 338.452 Q147.663 338.452 145.834 342.017 Q144.029 345.558 144.029 352.688 Q144.029 359.794 145.834 363.359 Q147.663 366.901 151.274 366.901 Q154.908 366.901 156.714 363.359 Q158.542 359.794 158.542 352.688 Q158.542 345.558 156.714 342.017 Q154.908 338.452 151.274 338.452 M151.274 334.748 Q157.084 334.748 160.14 339.355 Q163.218 343.938 163.218 352.688 Q163.218 361.415 160.14 366.021 Q157.084 370.604 151.274 370.604 Q145.464 370.604 142.385 366.021 Q139.329 361.415 139.329 352.688 Q139.329 343.938 142.385 339.355 Q145.464 334.748 151.274 334.748 Z\" fill=\"#000000\" fill-rule=\"evenodd\" fill-opacity=\"1\" /><path clip-path=\"url(#clip220)\" d=\"M 0 0 M178.288 338.452 Q174.677 338.452 172.848 342.017 Q171.042 345.558 171.042 352.688 Q171.042 359.794 172.848 363.359 Q174.677 366.901 178.288 366.901 Q181.922 366.901 183.727 363.359 Q185.556 359.794 185.556 352.688 Q185.556 345.558 183.727 342.017 Q181.922 338.452 178.288 338.452 M178.288 334.748 Q184.098 334.748 187.153 339.355 Q190.232 343.938 190.232 352.688 Q190.232 361.415 187.153 366.021 Q184.098 370.604 178.288 370.604 Q172.477 370.604 169.399 366.021 Q166.343 361.415 166.343 352.688 Q166.343 343.938 169.399 339.355 Q172.477 334.748 178.288 334.748 Z\" fill=\"#000000\" fill-rule=\"evenodd\" fill-opacity=\"1\" /><path clip-path=\"url(#clip220)\" d=\"M 0 0 M120.88 99.5305 L137.2 99.5305 L137.2 103.466 L115.256 103.466 L115.256 99.5305 Q117.918 96.7759 122.501 92.1463 Q127.107 87.4935 128.288 86.151 Q130.533 83.6278 131.413 81.8917 Q132.316 80.1325 132.316 78.4427 Q132.316 75.688 130.371 73.9519 Q128.45 72.2158 125.348 72.2158 Q123.149 72.2158 120.695 72.9797 Q118.265 73.7436 115.487 75.2945 L115.487 70.5723 Q118.311 69.4381 120.765 68.8594 Q123.218 68.2807 125.255 68.2807 Q130.626 68.2807 133.82 70.9658 Q137.015 73.651 137.015 78.1417 Q137.015 80.2714 136.204 82.1926 Q135.417 84.0908 133.311 86.6834 Q132.732 87.3546 129.63 90.5722 Q126.529 93.7667 120.88 99.5305 Z\" fill=\"#000000\" fill-rule=\"evenodd\" fill-opacity=\"1\" /><path clip-path=\"url(#clip220)\" d=\"M 0 0 M142.316 68.9057 L160.672 68.9057 L160.672 72.8408 L146.598 72.8408 L146.598 81.313 Q147.616 80.9658 148.635 80.8038 Q149.653 80.6186 150.672 80.6186 Q156.459 80.6186 159.839 83.7899 Q163.218 86.9611 163.218 92.3778 Q163.218 97.9564 159.746 101.058 Q156.274 104.137 149.954 104.137 Q147.778 104.137 145.51 103.767 Q143.265 103.396 140.857 102.655 L140.857 97.9564 Q142.941 99.0907 145.163 99.6462 Q147.385 100.202 149.862 100.202 Q153.866 100.202 156.204 98.0953 Q158.542 95.9889 158.542 92.3778 Q158.542 88.7667 156.204 86.6602 Q153.866 84.5537 149.862 84.5537 Q147.987 84.5537 146.112 84.9704 Q144.26 85.3871 142.316 86.2667 L142.316 68.9057 Z\" fill=\"#000000\" fill-rule=\"evenodd\" fill-opacity=\"1\" /><path clip-path=\"url(#clip220)\" d=\"M 0 0 M178.288 71.9844 Q174.677 71.9844 172.848 75.5492 Q171.042 79.0908 171.042 86.2204 Q171.042 93.3268 172.848 96.8916 Q174.677 100.433 178.288 100.433 Q181.922 100.433 183.727 96.8916 Q185.556 93.3268 185.556 86.2204 Q185.556 79.0908 183.727 75.5492 Q181.922 71.9844 178.288 71.9844 M178.288 68.2807 Q184.098 68.2807 187.153 72.8871 Q190.232 77.4704 190.232 86.2204 Q190.232 94.9472 187.153 99.5537 Q184.098 104.137 178.288 104.137 Q172.477 104.137 169.399 99.5537 Q166.343 94.9472 166.343 86.2204 Q166.343 77.4704 169.399 72.8871 Q172.477 68.2807 178.288 68.2807 Z\" fill=\"#000000\" fill-rule=\"evenodd\" fill-opacity=\"1\" /><path clip-path=\"url(#clip220)\" d=\"M 0 0 M20.1444 809.563 L26.9239 809.563 Q23.9002 812.81 22.4043 816.502 Q20.9083 820.162 20.9083 824.3 Q20.9083 832.448 25.9054 836.777 Q30.8707 841.105 40.2919 841.105 Q49.6813 841.105 54.6784 836.777 Q59.6436 832.448 59.6436 824.3 Q59.6436 820.162 58.1477 816.502 Q56.6518 812.81 53.6281 809.563 L60.3439 809.563 Q62.6355 812.937 63.7814 816.725 Q64.9272 820.481 64.9272 824.682 Q64.9272 835.472 58.3387 841.678 Q51.7183 847.885 40.2919 847.885 Q28.8336 847.885 22.2451 841.678 Q15.6248 835.472 15.6248 824.682 Q15.6248 820.417 16.7706 816.661 Q17.8846 812.874 20.1444 809.563 Z\" fill=\"#000000\" fill-rule=\"evenodd\" fill-opacity=\"1\" /><path clip-path=\"url(#clip220)\" d=\"M 0 0 M14.479 783.241 L14.479 769.746 L19.0304 769.746 L19.0304 777.385 L68.0464 777.385 L68.0464 769.746 L72.5979 769.746 L72.5979 783.241 L14.479 783.241 Z\" fill=\"#000000\" fill-rule=\"evenodd\" fill-opacity=\"1\" /><path clip-path=\"url(#clip220)\" d=\"M 0 0 M35.1993 735.849 Q31.2526 733.652 29.3747 730.597 Q27.4968 727.541 27.4968 723.404 Q27.4968 717.834 31.4117 714.81 Q35.2948 711.786 42.4881 711.786 L64.0042 711.786 L64.0042 717.674 L42.679 717.674 Q37.5546 717.674 35.072 719.489 Q32.5894 721.303 32.5894 725.027 Q32.5894 729.578 35.6131 732.22 Q38.6368 734.862 43.8567 734.862 L64.0042 734.862 L64.0042 740.75 L42.679 740.75 Q37.5228 740.75 35.072 742.564 Q32.5894 744.379 32.5894 748.166 Q32.5894 752.654 35.6449 755.296 Q38.6686 757.938 43.8567 757.938 L64.0042 757.938 L64.0042 763.826 L28.3562 763.826 L28.3562 757.938 L33.8944 757.938 Q30.616 755.932 29.0564 753.131 Q27.4968 750.331 27.4968 746.479 Q27.4968 742.596 29.4702 739.891 Q31.4436 737.154 35.1993 735.849 Z\" fill=\"#000000\" fill-rule=\"evenodd\" fill-opacity=\"1\" /><path clip-path=\"url(#clip220)\" d=\"M 0 0 M45.7664 682.186 Q39.4007 682.186 35.8996 684.827 Q32.3984 687.437 32.3984 692.18 Q32.3984 696.89 35.8996 699.532 Q39.4007 702.142 45.7664 702.142 Q52.1003 702.142 55.6014 699.532 Q59.1026 696.89 59.1026 692.18 Q59.1026 687.437 55.6014 684.827 Q52.1003 682.186 45.7664 682.186 M59.58 676.329 Q68.683 676.329 73.1071 680.371 Q77.5631 684.414 77.5631 692.753 Q77.5631 695.84 77.0857 698.577 Q76.6401 701.315 75.6852 703.893 L69.9879 703.893 Q71.3884 701.315 72.0568 698.8 Q72.7252 696.286 72.7252 693.676 Q72.7252 687.915 69.7015 685.05 Q66.7096 682.186 60.6303 682.186 L57.7339 682.186 Q60.885 684 62.4446 686.833 Q64.0042 689.665 64.0042 693.612 Q64.0042 700.169 59.0071 704.179 Q54.01 708.19 45.7664 708.19 Q37.491 708.19 32.4939 704.179 Q27.4968 700.169 27.4968 693.612 Q27.4968 689.665 29.0564 686.833 Q30.616 684 33.7671 682.186 L28.3562 682.186 L28.3562 676.329 L59.58 676.329 Z\" fill=\"#000000\" fill-rule=\"evenodd\" fill-opacity=\"1\" /><path clip-path=\"url(#clip220)\" d=\"M 0 0 M16.4842 659.778 L16.4842 654.367 L70.0516 670.918 L70.0516 676.329 L16.4842 659.778 Z\" fill=\"#000000\" fill-rule=\"evenodd\" fill-opacity=\"1\" /><path clip-path=\"url(#clip220)\" d=\"M 0 0 M14.479 648.225 L14.479 642.368 L64.0042 642.368 L64.0042 648.225 L14.479 648.225 Z\" fill=\"#000000\" fill-rule=\"evenodd\" fill-opacity=\"1\" /><path clip-path=\"url(#clip220)\" d=\"M 0 0 M14.479 622.539 L72.5979 622.539 L72.5979 636.034 L68.0464 636.034 L68.0464 628.427 L19.0304 628.427 L19.0304 636.034 L14.479 636.034 L14.479 622.539 Z\" fill=\"#000000\" fill-rule=\"evenodd\" fill-opacity=\"1\" /><circle clip-path=\"url(#clip222)\" cx=\"286.417\" cy=\"86.1857\" r=\"14\" fill=\"#da70d6\" fill-rule=\"evenodd\" fill-opacity=\"1\" stroke=\"#000000\" stroke-opacity=\"1\" stroke-width=\"3.2\"/>\n",
       "<circle clip-path=\"url(#clip222)\" cx=\"397.424\" cy=\"257.258\" r=\"14\" fill=\"#da70d6\" fill-rule=\"evenodd\" fill-opacity=\"1\" stroke=\"#000000\" stroke-opacity=\"1\" stroke-width=\"3.2\"/>\n",
       "<circle clip-path=\"url(#clip222)\" cx=\"509.768\" cy=\"516.264\" r=\"14\" fill=\"#da70d6\" fill-rule=\"evenodd\" fill-opacity=\"1\" stroke=\"#000000\" stroke-opacity=\"1\" stroke-width=\"3.2\"/>\n",
       "<circle clip-path=\"url(#clip222)\" cx=\"620.776\" cy=\"784.863\" r=\"14\" fill=\"#da70d6\" fill-rule=\"evenodd\" fill-opacity=\"1\" stroke=\"#000000\" stroke-opacity=\"1\" stroke-width=\"3.2\"/>\n",
       "<circle clip-path=\"url(#clip222)\" cx=\"777.256\" cy=\"870.133\" r=\"14\" fill=\"#da70d6\" fill-rule=\"evenodd\" fill-opacity=\"1\" stroke=\"#000000\" stroke-opacity=\"1\" stroke-width=\"3.2\"/>\n",
       "<circle clip-path=\"url(#clip222)\" cx=\"999.27\" cy=\"1020.42\" r=\"14\" fill=\"#da70d6\" fill-rule=\"evenodd\" fill-opacity=\"1\" stroke=\"#000000\" stroke-opacity=\"1\" stroke-width=\"3.2\"/>\n",
       "<circle clip-path=\"url(#clip222)\" cx=\"1178.49\" cy=\"1124.88\" r=\"14\" fill=\"#da70d6\" fill-rule=\"evenodd\" fill-opacity=\"1\" stroke=\"#000000\" stroke-opacity=\"1\" stroke-width=\"3.2\"/>\n",
       "<circle clip-path=\"url(#clip222)\" cx=\"1400.5\" cy=\"1225.6\" r=\"14\" fill=\"#da70d6\" fill-rule=\"evenodd\" fill-opacity=\"1\" stroke=\"#000000\" stroke-opacity=\"1\" stroke-width=\"3.2\"/>\n",
       "<circle clip-path=\"url(#clip222)\" cx=\"1623.85\" cy=\"1297.01\" r=\"14\" fill=\"#da70d6\" fill-rule=\"evenodd\" fill-opacity=\"1\" stroke=\"#000000\" stroke-opacity=\"1\" stroke-width=\"3.2\"/>\n",
       "<circle clip-path=\"url(#clip222)\" cx=\"2065.21\" cy=\"1332.72\" r=\"14\" fill=\"#da70d6\" fill-rule=\"evenodd\" fill-opacity=\"1\" stroke=\"#000000\" stroke-opacity=\"1\" stroke-width=\"3.2\"/>\n",
       "<circle clip-path=\"url(#clip222)\" cx=\"2185.58\" cy=\"1370.03\" r=\"14\" fill=\"#da70d6\" fill-rule=\"evenodd\" fill-opacity=\"1\" stroke=\"#000000\" stroke-opacity=\"1\" stroke-width=\"3.2\"/>\n",
       "<circle clip-path=\"url(#clip222)\" cx=\"2292.57\" cy=\"1379.62\" r=\"14\" fill=\"#da70d6\" fill-rule=\"evenodd\" fill-opacity=\"1\" stroke=\"#000000\" stroke-opacity=\"1\" stroke-width=\"3.2\"/>\n",
       "<polyline clip-path=\"url(#clip222)\" style=\"stroke:#e26f46; stroke-width:4; stroke-opacity:1; fill:none\" points=\"\n",
       "  286.417,86.1857 420.16,374.653 553.904,600.664 687.648,777.74 821.391,916.478 955.135,1025.18 1088.88,1110.34 1222.62,1177.07 1356.37,1229.34 1490.11,1270.3 \n",
       "  1623.85,1302.4 1757.6,1327.54 1891.34,1347.24 2025.08,1362.67 2158.83,1374.76 2292.57,1384.24 \n",
       "  \"/>\n",
       "<polyline clip-path=\"url(#clip222)\" style=\"stroke:#3da44d; stroke-width:4; stroke-opacity:1; fill:none\" points=\"\n",
       "  286.417,86.1857 420.16,374.644 553.904,600.649 687.648,777.723 821.391,916.46 955.135,1025.16 1088.88,1110.32 1222.62,1177.05 1356.37,1229.33 1490.11,1270.29 \n",
       "  1623.85,1302.38 1757.6,1327.53 1891.34,1347.23 2025.08,1362.67 2158.83,1374.76 2292.57,1384.23 \n",
       "  \"/>\n",
       "<path clip-path=\"url(#clip220)\" d=\"\n",
       "M1588.07 335.029 L2281.87 335.029 L2281.87 93.1086 L1588.07 93.1086  Z\n",
       "  \" fill=\"#ffffff\" fill-rule=\"evenodd\" fill-opacity=\"1\"/>\n",
       "<polyline clip-path=\"url(#clip220)\" style=\"stroke:#000000; stroke-width:4; stroke-opacity:1; fill:none\" points=\"\n",
       "  1588.07,335.029 2281.87,335.029 2281.87,93.1086 1588.07,93.1086 1588.07,335.029 \n",
       "  \"/>\n",
       "<circle clip-path=\"url(#clip220)\" cx=\"1682.58\" cy=\"153.589\" r=\"23\" fill=\"#da70d6\" fill-rule=\"evenodd\" fill-opacity=\"1\" stroke=\"#000000\" stroke-opacity=\"1\" stroke-width=\"5.12\"/>\n",
       "<path clip-path=\"url(#clip220)\" d=\"M 0 0 M1777.09 144.943 L1781.35 144.943 L1786.68 165.174 L1791.98 144.943 L1797 144.943 L1802.33 165.174 L1807.63 144.943 L1811.89 144.943 L1805.1 170.869 L1800.08 170.869 L1794.5 149.619 L1788.9 170.869 L1783.88 170.869 L1777.09 144.943 Z\" fill=\"#000000\" fill-rule=\"evenodd\" fill-opacity=\"1\" /><path clip-path=\"url(#clip220)\" d=\"M 0 0 M1828.14 157.836 Q1822.97 157.836 1820.98 159.017 Q1818.99 160.197 1818.99 163.045 Q1818.99 165.313 1820.47 166.656 Q1821.98 167.975 1824.55 167.975 Q1828.09 167.975 1830.22 165.475 Q1832.37 162.952 1832.37 158.785 L1832.37 157.836 L1828.14 157.836 M1836.63 156.077 L1836.63 170.869 L1832.37 170.869 L1832.37 166.933 Q1830.91 169.295 1828.74 170.429 Q1826.56 171.54 1823.41 171.54 Q1819.43 171.54 1817.07 169.318 Q1814.73 167.072 1814.73 163.322 Q1814.73 158.947 1817.65 156.725 Q1820.59 154.503 1826.4 154.503 L1832.37 154.503 L1832.37 154.086 Q1832.37 151.147 1830.43 149.549 Q1828.51 147.929 1825.01 147.929 Q1822.79 147.929 1820.68 148.461 Q1818.58 148.994 1816.63 150.059 L1816.63 146.123 Q1818.97 145.221 1821.17 144.781 Q1823.37 144.318 1825.45 144.318 Q1831.08 144.318 1833.85 147.234 Q1836.63 150.151 1836.63 156.077 Z\" fill=\"#000000\" fill-rule=\"evenodd\" fill-opacity=\"1\" /><path clip-path=\"url(#clip220)\" d=\"M 0 0 M1856.12 148.924 Q1855.4 148.508 1854.55 148.322 Q1853.71 148.114 1852.7 148.114 Q1849.09 148.114 1847.14 150.475 Q1845.22 152.813 1845.22 157.211 L1845.22 170.869 L1840.94 170.869 L1840.94 144.943 L1845.22 144.943 L1845.22 148.971 Q1846.56 146.609 1848.71 145.475 Q1850.87 144.318 1853.95 144.318 Q1854.39 144.318 1854.92 144.387 Q1855.45 144.434 1856.1 144.549 L1856.12 148.924 Z\" fill=\"#000000\" fill-rule=\"evenodd\" fill-opacity=\"1\" /><path clip-path=\"url(#clip220)\" d=\"M 0 0 M1864.8 137.582 L1864.8 144.943 L1873.58 144.943 L1873.58 148.253 L1864.8 148.253 L1864.8 162.327 Q1864.8 165.498 1865.66 166.401 Q1866.54 167.304 1869.2 167.304 L1873.58 167.304 L1873.58 170.869 L1869.2 170.869 Q1864.27 170.869 1862.4 169.04 Q1860.52 167.188 1860.52 162.327 L1860.52 148.253 L1857.4 148.253 L1857.4 144.943 L1860.52 144.943 L1860.52 137.582 L1864.8 137.582 Z\" fill=\"#000000\" fill-rule=\"evenodd\" fill-opacity=\"1\" /><path clip-path=\"url(#clip220)\" d=\"M 0 0 M1888.09 147.929 Q1884.66 147.929 1882.67 150.614 Q1880.68 153.276 1880.68 157.929 Q1880.68 162.582 1882.65 165.267 Q1884.64 167.929 1888.09 167.929 Q1891.49 167.929 1893.48 165.244 Q1895.47 162.558 1895.47 157.929 Q1895.47 153.322 1893.48 150.637 Q1891.49 147.929 1888.09 147.929 M1888.09 144.318 Q1893.65 144.318 1896.82 147.929 Q1899.99 151.54 1899.99 157.929 Q1899.99 164.295 1896.82 167.929 Q1893.65 171.54 1888.09 171.54 Q1882.51 171.54 1879.34 167.929 Q1876.19 164.295 1876.19 157.929 Q1876.19 151.54 1879.34 147.929 Q1882.51 144.318 1888.09 144.318 Z\" fill=\"#000000\" fill-rule=\"evenodd\" fill-opacity=\"1\" /><path clip-path=\"url(#clip220)\" d=\"M 0 0 M1916.58 132.79 L1921.19 132.79 L1913.65 141.494 L1910.1 141.494 L1916.58 132.79 M1920.98 145.707 L1920.98 149.734 Q1919.18 148.809 1917.23 148.346 Q1915.29 147.883 1913.21 147.883 Q1910.03 147.883 1908.44 148.855 Q1906.86 149.827 1906.86 151.771 Q1906.86 153.253 1908 154.109 Q1909.13 154.943 1912.56 155.707 L1914.02 156.031 Q1918.55 157.003 1920.45 158.785 Q1922.37 160.545 1922.37 163.716 Q1922.37 167.327 1919.5 169.433 Q1916.65 171.54 1911.65 171.54 Q1909.57 171.54 1907.3 171.123 Q1905.06 170.73 1902.56 169.92 L1902.56 165.521 Q1904.92 166.748 1907.21 167.373 Q1909.5 167.975 1911.75 167.975 Q1914.76 167.975 1916.38 166.957 Q1918 165.915 1918 164.04 Q1918 162.304 1916.82 161.378 Q1915.66 160.452 1911.7 159.596 L1910.22 159.248 Q1906.26 158.415 1904.5 156.702 Q1902.74 154.966 1902.74 151.957 Q1902.74 148.299 1905.34 146.309 Q1907.93 144.318 1912.7 144.318 Q1915.06 144.318 1917.14 144.665 Q1919.22 145.012 1920.98 145.707 Z\" fill=\"#000000\" fill-rule=\"evenodd\" fill-opacity=\"1\" /><path clip-path=\"url(#clip220)\" d=\"M 0 0 M1945.5 145.938 L1945.5 149.92 Q1943.69 148.924 1941.86 148.438 Q1940.06 147.929 1938.21 147.929 Q1934.06 147.929 1931.77 150.568 Q1929.48 153.184 1929.48 157.929 Q1929.48 162.674 1931.77 165.313 Q1934.06 167.929 1938.21 167.929 Q1940.06 167.929 1941.86 167.443 Q1943.69 166.933 1945.5 165.938 L1945.5 169.873 Q1943.71 170.707 1941.79 171.123 Q1939.9 171.54 1937.74 171.54 Q1931.89 171.54 1928.44 167.859 Q1924.99 164.179 1924.99 157.929 Q1924.99 151.586 1928.46 147.952 Q1931.96 144.318 1938.02 144.318 Q1939.99 144.318 1941.86 144.735 Q1943.74 145.128 1945.5 145.938 Z\" fill=\"#000000\" fill-rule=\"evenodd\" fill-opacity=\"1\" /><path clip-path=\"url(#clip220)\" d=\"M 0 0 M1949.96 144.943 L1954.22 144.943 L1954.22 170.869 L1949.96 170.869 L1949.96 144.943 M1949.96 134.85 L1954.22 134.85 L1954.22 140.244 L1949.96 140.244 L1949.96 134.85 Z\" fill=\"#000000\" fill-rule=\"evenodd\" fill-opacity=\"1\" /><path clip-path=\"url(#clip220)\" d=\"M 0 0 M1993.95 149.92 Q1995.54 147.049 1997.77 145.684 Q1999.99 144.318 2003 144.318 Q2007.05 144.318 2009.25 147.165 Q2011.45 149.989 2011.45 155.221 L2011.45 170.869 L2007.16 170.869 L2007.16 155.359 Q2007.16 151.633 2005.84 149.827 Q2004.52 148.022 2001.82 148.022 Q1998.51 148.022 1996.58 150.221 Q1994.66 152.42 1994.66 156.216 L1994.66 170.869 L1990.38 170.869 L1990.38 155.359 Q1990.38 151.609 1989.06 149.827 Q1987.74 148.022 1984.99 148.022 Q1981.72 148.022 1979.8 150.244 Q1977.88 152.443 1977.88 156.216 L1977.88 170.869 L1973.6 170.869 L1973.6 144.943 L1977.88 144.943 L1977.88 148.971 Q1979.34 146.586 1981.38 145.452 Q1983.41 144.318 1986.21 144.318 Q1989.04 144.318 1991.01 145.753 Q1993 147.188 1993.95 149.92 Z\" fill=\"#000000\" fill-rule=\"evenodd\" fill-opacity=\"1\" /><path clip-path=\"url(#clip220)\" d=\"M 0 0 M2015.91 144.943 L2020.17 144.943 L2020.17 170.869 L2015.91 170.869 L2015.91 144.943 M2015.91 134.85 L2020.17 134.85 L2020.17 140.244 L2015.91 140.244 L2015.91 134.85 Z\" fill=\"#000000\" fill-rule=\"evenodd\" fill-opacity=\"1\" /><path clip-path=\"url(#clip220)\" d=\"M 0 0 M2046.82 156.841 L2046.82 158.924 L2027.23 158.924 Q2027.51 163.322 2029.87 165.637 Q2032.26 167.929 2036.49 167.929 Q2038.95 167.929 2041.24 167.327 Q2043.55 166.725 2045.82 165.521 L2045.82 169.549 Q2043.53 170.521 2041.12 171.031 Q2038.71 171.54 2036.24 171.54 Q2030.03 171.54 2026.4 167.929 Q2022.79 164.318 2022.79 158.16 Q2022.79 151.795 2026.21 148.068 Q2029.66 144.318 2035.5 144.318 Q2040.73 144.318 2043.76 147.697 Q2046.82 151.054 2046.82 156.841 M2042.56 155.591 Q2042.51 152.096 2040.59 150.012 Q2038.69 147.929 2035.54 147.929 Q2031.98 147.929 2029.83 149.943 Q2027.7 151.957 2027.37 155.614 L2042.56 155.591 Z\" fill=\"#000000\" fill-rule=\"evenodd\" fill-opacity=\"1\" /><path clip-path=\"url(#clip220)\" d=\"M 0 0 M2066.31 148.924 Q2065.59 148.508 2064.73 148.322 Q2063.9 148.114 2062.88 148.114 Q2059.27 148.114 2057.32 150.475 Q2055.4 152.813 2055.4 157.211 L2055.4 170.869 L2051.12 170.869 L2051.12 144.943 L2055.4 144.943 L2055.4 148.971 Q2056.75 146.609 2058.9 145.475 Q2061.05 144.318 2064.13 144.318 Q2064.57 144.318 2065.1 144.387 Q2065.64 144.434 2066.28 144.549 L2066.31 148.924 Z\" fill=\"#000000\" fill-rule=\"evenodd\" fill-opacity=\"1\" /><path clip-path=\"url(#clip220)\" d=\"M 0 0 M2068.92 144.943 L2089.15 144.943 L2089.15 148.832 L2073.14 167.466 L2089.15 167.466 L2089.15 170.869 L2068.34 170.869 L2068.34 166.98 L2084.36 148.346 L2068.92 148.346 L2068.92 144.943 Z\" fill=\"#000000\" fill-rule=\"evenodd\" fill-opacity=\"1\" /><path clip-path=\"url(#clip220)\" d=\"M 0 0 M2103.67 147.929 Q2100.24 147.929 2098.25 150.614 Q2096.26 153.276 2096.26 157.929 Q2096.26 162.582 2098.23 165.267 Q2100.22 167.929 2103.67 167.929 Q2107.07 167.929 2109.06 165.244 Q2111.05 162.558 2111.05 157.929 Q2111.05 153.322 2109.06 150.637 Q2107.07 147.929 2103.67 147.929 M2103.67 144.318 Q2109.22 144.318 2112.39 147.929 Q2115.57 151.54 2115.57 157.929 Q2115.57 164.295 2112.39 167.929 Q2109.22 171.54 2103.67 171.54 Q2098.09 171.54 2094.92 167.929 Q2091.77 164.295 2091.77 157.929 Q2091.77 151.54 2094.92 147.929 Q2098.09 144.318 2103.67 144.318 Z\" fill=\"#000000\" fill-rule=\"evenodd\" fill-opacity=\"1\" /><path clip-path=\"url(#clip220)\" d=\"M 0 0 M2141.58 155.221 L2141.58 170.869 L2137.32 170.869 L2137.32 155.359 Q2137.32 151.679 2135.89 149.85 Q2134.45 148.022 2131.58 148.022 Q2128.13 148.022 2126.14 150.221 Q2124.15 152.42 2124.15 156.216 L2124.15 170.869 L2119.87 170.869 L2119.87 144.943 L2124.15 144.943 L2124.15 148.971 Q2125.68 146.633 2127.74 145.475 Q2129.82 144.318 2132.53 144.318 Q2137 144.318 2139.29 147.096 Q2141.58 149.85 2141.58 155.221 Z\" fill=\"#000000\" fill-rule=\"evenodd\" fill-opacity=\"1\" /><path clip-path=\"url(#clip220)\" d=\"M 0 0 M2168.23 156.841 L2168.23 158.924 L2148.64 158.924 Q2148.92 163.322 2151.28 165.637 Q2153.67 167.929 2157.9 167.929 Q2160.36 167.929 2162.65 167.327 Q2164.96 166.725 2167.23 165.521 L2167.23 169.549 Q2164.94 170.521 2162.53 171.031 Q2160.13 171.54 2157.65 171.54 Q2151.44 171.54 2147.81 167.929 Q2144.2 164.318 2144.2 158.16 Q2144.2 151.795 2147.63 148.068 Q2151.07 144.318 2156.91 144.318 Q2162.14 144.318 2165.17 147.697 Q2168.23 151.054 2168.23 156.841 M2163.97 155.591 Q2163.92 152.096 2162 150.012 Q2160.1 147.929 2156.95 147.929 Q2153.39 147.929 2151.24 149.943 Q2149.11 151.957 2148.78 155.614 L2163.97 155.591 Z\" fill=\"#000000\" fill-rule=\"evenodd\" fill-opacity=\"1\" /><polyline clip-path=\"url(#clip220)\" style=\"stroke:#e26f46; stroke-width:4; stroke-opacity:1; fill:none\" points=\"\n",
       "  1611.7,214.069 1753.47,214.069 \n",
       "  \"/>\n",
       "<path clip-path=\"url(#clip220)\" d=\"M 0 0 M1777.09 205.423 L1781.35 205.423 L1786.68 225.654 L1791.98 205.423 L1797 205.423 L1802.33 225.654 L1807.63 205.423 L1811.89 205.423 L1805.1 231.349 L1800.08 231.349 L1794.5 210.099 L1788.9 231.349 L1783.88 231.349 L1777.09 205.423 Z\" fill=\"#000000\" fill-rule=\"evenodd\" fill-opacity=\"1\" /><path clip-path=\"url(#clip220)\" d=\"M 0 0 M1828.14 218.316 Q1822.97 218.316 1820.98 219.497 Q1818.99 220.677 1818.99 223.525 Q1818.99 225.793 1820.47 227.136 Q1821.98 228.455 1824.55 228.455 Q1828.09 228.455 1830.22 225.955 Q1832.37 223.432 1832.37 219.265 L1832.37 218.316 L1828.14 218.316 M1836.63 216.557 L1836.63 231.349 L1832.37 231.349 L1832.37 227.413 Q1830.91 229.775 1828.74 230.909 Q1826.56 232.02 1823.41 232.02 Q1819.43 232.02 1817.07 229.798 Q1814.73 227.552 1814.73 223.802 Q1814.73 219.427 1817.65 217.205 Q1820.59 214.983 1826.4 214.983 L1832.37 214.983 L1832.37 214.566 Q1832.37 211.627 1830.43 210.029 Q1828.51 208.409 1825.01 208.409 Q1822.79 208.409 1820.68 208.941 Q1818.58 209.474 1816.63 210.539 L1816.63 206.603 Q1818.97 205.701 1821.17 205.261 Q1823.37 204.798 1825.45 204.798 Q1831.08 204.798 1833.85 207.714 Q1836.63 210.631 1836.63 216.557 Z\" fill=\"#000000\" fill-rule=\"evenodd\" fill-opacity=\"1\" /><path clip-path=\"url(#clip220)\" d=\"M 0 0 M1856.12 209.404 Q1855.4 208.988 1854.55 208.802 Q1853.71 208.594 1852.7 208.594 Q1849.09 208.594 1847.14 210.955 Q1845.22 213.293 1845.22 217.691 L1845.22 231.349 L1840.94 231.349 L1840.94 205.423 L1845.22 205.423 L1845.22 209.451 Q1846.56 207.089 1848.71 205.955 Q1850.87 204.798 1853.95 204.798 Q1854.39 204.798 1854.92 204.867 Q1855.45 204.914 1856.1 205.029 L1856.12 209.404 Z\" fill=\"#000000\" fill-rule=\"evenodd\" fill-opacity=\"1\" /><path clip-path=\"url(#clip220)\" d=\"M 0 0 M1864.8 198.062 L1864.8 205.423 L1873.58 205.423 L1873.58 208.733 L1864.8 208.733 L1864.8 222.807 Q1864.8 225.978 1865.66 226.881 Q1866.54 227.784 1869.2 227.784 L1873.58 227.784 L1873.58 231.349 L1869.2 231.349 Q1864.27 231.349 1862.4 229.52 Q1860.52 227.668 1860.52 222.807 L1860.52 208.733 L1857.4 208.733 L1857.4 205.423 L1860.52 205.423 L1860.52 198.062 L1864.8 198.062 Z\" fill=\"#000000\" fill-rule=\"evenodd\" fill-opacity=\"1\" /><path clip-path=\"url(#clip220)\" d=\"M 0 0 M1888.09 208.409 Q1884.66 208.409 1882.67 211.094 Q1880.68 213.756 1880.68 218.409 Q1880.68 223.062 1882.65 225.747 Q1884.64 228.409 1888.09 228.409 Q1891.49 228.409 1893.48 225.724 Q1895.47 223.038 1895.47 218.409 Q1895.47 213.802 1893.48 211.117 Q1891.49 208.409 1888.09 208.409 M1888.09 204.798 Q1893.65 204.798 1896.82 208.409 Q1899.99 212.02 1899.99 218.409 Q1899.99 224.775 1896.82 228.409 Q1893.65 232.02 1888.09 232.02 Q1882.51 232.02 1879.34 228.409 Q1876.19 224.775 1876.19 218.409 Q1876.19 212.02 1879.34 208.409 Q1882.51 204.798 1888.09 204.798 Z\" fill=\"#000000\" fill-rule=\"evenodd\" fill-opacity=\"1\" /><path clip-path=\"url(#clip220)\" d=\"M 0 0 M1916.58 193.27 L1921.19 193.27 L1913.65 201.974 L1910.1 201.974 L1916.58 193.27 M1920.98 206.187 L1920.98 210.214 Q1919.18 209.289 1917.23 208.826 Q1915.29 208.363 1913.21 208.363 Q1910.03 208.363 1908.44 209.335 Q1906.86 210.307 1906.86 212.251 Q1906.86 213.733 1908 214.589 Q1909.13 215.423 1912.56 216.187 L1914.02 216.511 Q1918.55 217.483 1920.45 219.265 Q1922.37 221.025 1922.37 224.196 Q1922.37 227.807 1919.5 229.913 Q1916.65 232.02 1911.65 232.02 Q1909.57 232.02 1907.3 231.603 Q1905.06 231.21 1902.56 230.4 L1902.56 226.001 Q1904.92 227.228 1907.21 227.853 Q1909.5 228.455 1911.75 228.455 Q1914.76 228.455 1916.38 227.437 Q1918 226.395 1918 224.52 Q1918 222.784 1916.82 221.858 Q1915.66 220.932 1911.7 220.076 L1910.22 219.728 Q1906.26 218.895 1904.5 217.182 Q1902.74 215.446 1902.74 212.437 Q1902.74 208.779 1905.34 206.789 Q1907.93 204.798 1912.7 204.798 Q1915.06 204.798 1917.14 205.145 Q1919.22 205.492 1920.98 206.187 Z\" fill=\"#000000\" fill-rule=\"evenodd\" fill-opacity=\"1\" /><path clip-path=\"url(#clip220)\" d=\"M 0 0 M1945.5 206.418 L1945.5 210.4 Q1943.69 209.404 1941.86 208.918 Q1940.06 208.409 1938.21 208.409 Q1934.06 208.409 1931.77 211.048 Q1929.48 213.664 1929.48 218.409 Q1929.48 223.154 1931.77 225.793 Q1934.06 228.409 1938.21 228.409 Q1940.06 228.409 1941.86 227.923 Q1943.69 227.413 1945.5 226.418 L1945.5 230.353 Q1943.71 231.187 1941.79 231.603 Q1939.9 232.02 1937.74 232.02 Q1931.89 232.02 1928.44 228.339 Q1924.99 224.659 1924.99 218.409 Q1924.99 212.066 1928.46 208.432 Q1931.96 204.798 1938.02 204.798 Q1939.99 204.798 1941.86 205.215 Q1943.74 205.608 1945.5 206.418 Z\" fill=\"#000000\" fill-rule=\"evenodd\" fill-opacity=\"1\" /><path clip-path=\"url(#clip220)\" d=\"M 0 0 M1949.96 205.423 L1954.22 205.423 L1954.22 231.349 L1949.96 231.349 L1949.96 205.423 M1949.96 195.33 L1954.22 195.33 L1954.22 200.724 L1949.96 200.724 L1949.96 195.33 Z\" fill=\"#000000\" fill-rule=\"evenodd\" fill-opacity=\"1\" /><path clip-path=\"url(#clip220)\" d=\"M 0 0 M1985.54 218.316 Q1980.38 218.316 1978.39 219.497 Q1976.4 220.677 1976.4 223.525 Q1976.4 225.793 1977.88 227.136 Q1979.39 228.455 1981.96 228.455 Q1985.5 228.455 1987.63 225.955 Q1989.78 223.432 1989.78 219.265 L1989.78 218.316 L1985.54 218.316 M1994.04 216.557 L1994.04 231.349 L1989.78 231.349 L1989.78 227.413 Q1988.32 229.775 1986.14 230.909 Q1983.97 232.02 1980.82 232.02 Q1976.84 232.02 1974.48 229.798 Q1972.14 227.552 1972.14 223.802 Q1972.14 219.427 1975.06 217.205 Q1978 214.983 1983.81 214.983 L1989.78 214.983 L1989.78 214.566 Q1989.78 211.627 1987.83 210.029 Q1985.91 208.409 1982.42 208.409 Q1980.2 208.409 1978.09 208.941 Q1975.98 209.474 1974.04 210.539 L1974.04 206.603 Q1976.38 205.701 1978.58 205.261 Q1980.77 204.798 1982.86 204.798 Q1988.48 204.798 1991.26 207.714 Q1994.04 210.631 1994.04 216.557 Z\" fill=\"#000000\" fill-rule=\"evenodd\" fill-opacity=\"1\" /><path clip-path=\"url(#clip220)\" d=\"M 0 0 M2020.06 215.701 L2020.06 231.349 L2015.8 231.349 L2015.8 215.839 Q2015.8 212.159 2014.36 210.33 Q2012.93 208.502 2010.06 208.502 Q2006.61 208.502 2004.62 210.701 Q2002.63 212.9 2002.63 216.696 L2002.63 231.349 L1998.34 231.349 L1998.34 205.423 L2002.63 205.423 L2002.63 209.451 Q2004.15 207.113 2006.21 205.955 Q2008.3 204.798 2011.01 204.798 Q2015.47 204.798 2017.76 207.576 Q2020.06 210.33 2020.06 215.701 Z\" fill=\"#000000\" fill-rule=\"evenodd\" fill-opacity=\"1\" /><path clip-path=\"url(#clip220)\" d=\"M 0 0 M2036.31 218.316 Q2031.14 218.316 2029.15 219.497 Q2027.16 220.677 2027.16 223.525 Q2027.16 225.793 2028.64 227.136 Q2030.15 228.455 2032.72 228.455 Q2036.26 228.455 2038.39 225.955 Q2040.54 223.432 2040.54 219.265 L2040.54 218.316 L2036.31 218.316 M2044.8 216.557 L2044.8 231.349 L2040.54 231.349 L2040.54 227.413 Q2039.08 229.775 2036.91 230.909 Q2034.73 232.02 2031.58 232.02 Q2027.6 232.02 2025.24 229.798 Q2022.9 227.552 2022.9 223.802 Q2022.9 219.427 2025.82 217.205 Q2028.76 214.983 2034.57 214.983 L2040.54 214.983 L2040.54 214.566 Q2040.54 211.627 2038.6 210.029 Q2036.68 208.409 2033.18 208.409 Q2030.96 208.409 2028.85 208.941 Q2026.75 209.474 2024.8 210.539 L2024.8 206.603 Q2027.14 205.701 2029.34 205.261 Q2031.54 204.798 2033.62 204.798 Q2039.25 204.798 2042.02 207.714 Q2044.8 210.631 2044.8 216.557 Z\" fill=\"#000000\" fill-rule=\"evenodd\" fill-opacity=\"1\" /><path clip-path=\"url(#clip220)\" d=\"M 0 0 M2049.27 195.33 L2053.53 195.33 L2053.53 231.349 L2049.27 231.349 L2049.27 195.33 Z\" fill=\"#000000\" fill-rule=\"evenodd\" fill-opacity=\"1\" /><path clip-path=\"url(#clip220)\" d=\"M 0 0 M2058 205.423 L2062.26 205.423 L2062.26 231.349 L2058 231.349 L2058 205.423 M2058 195.33 L2062.26 195.33 L2062.26 200.724 L2058 200.724 L2058 195.33 Z\" fill=\"#000000\" fill-rule=\"evenodd\" fill-opacity=\"1\" /><path clip-path=\"url(#clip220)\" d=\"M 0 0 M2070.94 198.062 L2070.94 205.423 L2079.71 205.423 L2079.71 208.733 L2070.94 208.733 L2070.94 222.807 Q2070.94 225.978 2071.79 226.881 Q2072.67 227.784 2075.33 227.784 L2079.71 227.784 L2079.71 231.349 L2075.33 231.349 Q2070.4 231.349 2068.53 229.52 Q2066.65 227.668 2066.65 222.807 L2066.65 208.733 L2063.53 208.733 L2063.53 205.423 L2066.65 205.423 L2066.65 198.062 L2070.94 198.062 Z\" fill=\"#000000\" fill-rule=\"evenodd\" fill-opacity=\"1\" /><path clip-path=\"url(#clip220)\" d=\"M 0 0 M2094.96 233.756 Q2093.16 238.386 2091.45 239.798 Q2089.73 241.21 2086.86 241.21 L2083.46 241.21 L2083.46 237.645 L2085.96 237.645 Q2087.72 237.645 2088.69 236.812 Q2089.66 235.978 2090.84 232.876 L2091.61 230.932 L2081.12 205.423 L2085.64 205.423 L2093.74 225.701 L2101.84 205.423 L2106.35 205.423 L2094.96 233.756 Z\" fill=\"#000000\" fill-rule=\"evenodd\" fill-opacity=\"1\" /><path clip-path=\"url(#clip220)\" d=\"M 0 0 M2129.48 206.418 L2129.48 210.4 Q2127.67 209.404 2125.84 208.918 Q2124.04 208.409 2122.19 208.409 Q2118.04 208.409 2115.75 211.048 Q2113.46 213.664 2113.46 218.409 Q2113.46 223.154 2115.75 225.793 Q2118.04 228.409 2122.19 228.409 Q2124.04 228.409 2125.84 227.923 Q2127.67 227.413 2129.48 226.418 L2129.48 230.353 Q2127.69 231.187 2125.77 231.603 Q2123.88 232.02 2121.72 232.02 Q2115.87 232.02 2112.42 228.339 Q2108.97 224.659 2108.97 218.409 Q2108.97 212.066 2112.44 208.432 Q2115.94 204.798 2122 204.798 Q2123.97 204.798 2125.84 205.215 Q2127.72 205.608 2129.48 206.418 Z\" fill=\"#000000\" fill-rule=\"evenodd\" fill-opacity=\"1\" /><path clip-path=\"url(#clip220)\" d=\"M 0 0 M2132.09 205.423 L2152.32 205.423 L2152.32 209.312 L2136.31 227.946 L2152.32 227.946 L2152.32 231.349 L2131.51 231.349 L2131.51 227.46 L2147.53 208.826 L2132.09 208.826 L2132.09 205.423 Z\" fill=\"#000000\" fill-rule=\"evenodd\" fill-opacity=\"1\" /><path clip-path=\"url(#clip220)\" d=\"M 0 0 M2178.34 215.701 L2178.34 231.349 L2174.08 231.349 L2174.08 215.839 Q2174.08 212.159 2172.65 210.33 Q2171.21 208.502 2168.34 208.502 Q2164.89 208.502 2162.9 210.701 Q2160.91 212.9 2160.91 216.696 L2160.91 231.349 L2156.63 231.349 L2156.63 205.423 L2160.91 205.423 L2160.91 209.451 Q2162.44 207.113 2164.5 205.955 Q2166.58 204.798 2169.29 204.798 Q2173.76 204.798 2176.05 207.576 Q2178.34 210.33 2178.34 215.701 Z\" fill=\"#000000\" fill-rule=\"evenodd\" fill-opacity=\"1\" /><path clip-path=\"url(#clip220)\" d=\"M 0 0 M2204.99 217.321 L2204.99 219.404 L2185.4 219.404 Q2185.68 223.802 2188.04 226.117 Q2190.43 228.409 2194.66 228.409 Q2197.12 228.409 2199.41 227.807 Q2201.72 227.205 2203.99 226.001 L2203.99 230.029 Q2201.7 231.001 2199.29 231.511 Q2196.88 232.02 2194.41 232.02 Q2188.2 232.02 2184.57 228.409 Q2180.96 224.798 2180.96 218.64 Q2180.96 212.275 2184.38 208.548 Q2187.83 204.798 2193.67 204.798 Q2198.9 204.798 2201.93 208.177 Q2204.99 211.534 2204.99 217.321 M2200.73 216.071 Q2200.68 212.576 2198.76 210.492 Q2196.86 208.409 2193.71 208.409 Q2190.15 208.409 2188 210.423 Q2185.87 212.437 2185.54 216.094 L2200.73 216.071 Z\" fill=\"#000000\" fill-rule=\"evenodd\" fill-opacity=\"1\" /><polyline clip-path=\"url(#clip220)\" style=\"stroke:#3da44d; stroke-width:4; stroke-opacity:1; fill:none\" points=\"\n",
       "  1611.7,274.549 1753.47,274.549 \n",
       "  \"/>\n",
       "<path clip-path=\"url(#clip220)\" d=\"M 0 0 M1777.09 265.903 L1781.35 265.903 L1786.68 286.134 L1791.98 265.903 L1797 265.903 L1802.33 286.134 L1807.63 265.903 L1811.89 265.903 L1805.1 291.829 L1800.08 291.829 L1794.5 270.579 L1788.9 291.829 L1783.88 291.829 L1777.09 265.903 Z\" fill=\"#000000\" fill-rule=\"evenodd\" fill-opacity=\"1\" /><path clip-path=\"url(#clip220)\" d=\"M 0 0 M1828.14 278.796 Q1822.97 278.796 1820.98 279.977 Q1818.99 281.157 1818.99 284.005 Q1818.99 286.273 1820.47 287.616 Q1821.98 288.935 1824.55 288.935 Q1828.09 288.935 1830.22 286.435 Q1832.37 283.912 1832.37 279.745 L1832.37 278.796 L1828.14 278.796 M1836.63 277.037 L1836.63 291.829 L1832.37 291.829 L1832.37 287.893 Q1830.91 290.255 1828.74 291.389 Q1826.56 292.5 1823.41 292.5 Q1819.43 292.5 1817.07 290.278 Q1814.73 288.032 1814.73 284.282 Q1814.73 279.907 1817.65 277.685 Q1820.59 275.463 1826.4 275.463 L1832.37 275.463 L1832.37 275.046 Q1832.37 272.107 1830.43 270.509 Q1828.51 268.889 1825.01 268.889 Q1822.79 268.889 1820.68 269.421 Q1818.58 269.954 1816.63 271.019 L1816.63 267.083 Q1818.97 266.181 1821.17 265.741 Q1823.37 265.278 1825.45 265.278 Q1831.08 265.278 1833.85 268.194 Q1836.63 271.111 1836.63 277.037 Z\" fill=\"#000000\" fill-rule=\"evenodd\" fill-opacity=\"1\" /><path clip-path=\"url(#clip220)\" d=\"M 0 0 M1856.12 269.884 Q1855.4 269.468 1854.55 269.282 Q1853.71 269.074 1852.7 269.074 Q1849.09 269.074 1847.14 271.435 Q1845.22 273.773 1845.22 278.171 L1845.22 291.829 L1840.94 291.829 L1840.94 265.903 L1845.22 265.903 L1845.22 269.931 Q1846.56 267.569 1848.71 266.435 Q1850.87 265.278 1853.95 265.278 Q1854.39 265.278 1854.92 265.347 Q1855.45 265.394 1856.1 265.509 L1856.12 269.884 Z\" fill=\"#000000\" fill-rule=\"evenodd\" fill-opacity=\"1\" /><path clip-path=\"url(#clip220)\" d=\"M 0 0 M1864.8 258.542 L1864.8 265.903 L1873.58 265.903 L1873.58 269.213 L1864.8 269.213 L1864.8 283.287 Q1864.8 286.458 1865.66 287.361 Q1866.54 288.264 1869.2 288.264 L1873.58 288.264 L1873.58 291.829 L1869.2 291.829 Q1864.27 291.829 1862.4 290 Q1860.52 288.148 1860.52 283.287 L1860.52 269.213 L1857.4 269.213 L1857.4 265.903 L1860.52 265.903 L1860.52 258.542 L1864.8 258.542 Z\" fill=\"#000000\" fill-rule=\"evenodd\" fill-opacity=\"1\" /><path clip-path=\"url(#clip220)\" d=\"M 0 0 M1888.09 268.889 Q1884.66 268.889 1882.67 271.574 Q1880.68 274.236 1880.68 278.889 Q1880.68 283.542 1882.65 286.227 Q1884.64 288.889 1888.09 288.889 Q1891.49 288.889 1893.48 286.204 Q1895.47 283.518 1895.47 278.889 Q1895.47 274.282 1893.48 271.597 Q1891.49 268.889 1888.09 268.889 M1888.09 265.278 Q1893.65 265.278 1896.82 268.889 Q1899.99 272.5 1899.99 278.889 Q1899.99 285.255 1896.82 288.889 Q1893.65 292.5 1888.09 292.5 Q1882.51 292.5 1879.34 288.889 Q1876.19 285.255 1876.19 278.889 Q1876.19 272.5 1879.34 268.889 Q1882.51 265.278 1888.09 265.278 Z\" fill=\"#000000\" fill-rule=\"evenodd\" fill-opacity=\"1\" /><path clip-path=\"url(#clip220)\" d=\"M 0 0 M1916.58 253.75 L1921.19 253.75 L1913.65 262.454 L1910.1 262.454 L1916.58 253.75 M1920.98 266.667 L1920.98 270.694 Q1919.18 269.769 1917.23 269.306 Q1915.29 268.843 1913.21 268.843 Q1910.03 268.843 1908.44 269.815 Q1906.86 270.787 1906.86 272.731 Q1906.86 274.213 1908 275.069 Q1909.13 275.903 1912.56 276.667 L1914.02 276.991 Q1918.55 277.963 1920.45 279.745 Q1922.37 281.505 1922.37 284.676 Q1922.37 288.287 1919.5 290.393 Q1916.65 292.5 1911.65 292.5 Q1909.57 292.5 1907.3 292.083 Q1905.06 291.69 1902.56 290.88 L1902.56 286.481 Q1904.92 287.708 1907.21 288.333 Q1909.5 288.935 1911.75 288.935 Q1914.76 288.935 1916.38 287.917 Q1918 286.875 1918 285 Q1918 283.264 1916.82 282.338 Q1915.66 281.412 1911.7 280.556 L1910.22 280.208 Q1906.26 279.375 1904.5 277.662 Q1902.74 275.926 1902.74 272.917 Q1902.74 269.259 1905.34 267.269 Q1907.93 265.278 1912.7 265.278 Q1915.06 265.278 1917.14 265.625 Q1919.22 265.972 1920.98 266.667 Z\" fill=\"#000000\" fill-rule=\"evenodd\" fill-opacity=\"1\" /><path clip-path=\"url(#clip220)\" d=\"M 0 0 M1945.5 266.898 L1945.5 270.88 Q1943.69 269.884 1941.86 269.398 Q1940.06 268.889 1938.21 268.889 Q1934.06 268.889 1931.77 271.528 Q1929.48 274.144 1929.48 278.889 Q1929.48 283.634 1931.77 286.273 Q1934.06 288.889 1938.21 288.889 Q1940.06 288.889 1941.86 288.403 Q1943.69 287.893 1945.5 286.898 L1945.5 290.833 Q1943.71 291.667 1941.79 292.083 Q1939.9 292.5 1937.74 292.5 Q1931.89 292.5 1928.44 288.819 Q1924.99 285.139 1924.99 278.889 Q1924.99 272.546 1928.46 268.912 Q1931.96 265.278 1938.02 265.278 Q1939.99 265.278 1941.86 265.695 Q1943.74 266.088 1945.5 266.898 Z\" fill=\"#000000\" fill-rule=\"evenodd\" fill-opacity=\"1\" /><path clip-path=\"url(#clip220)\" d=\"M 0 0 M1949.96 265.903 L1954.22 265.903 L1954.22 291.829 L1949.96 291.829 L1949.96 265.903 M1949.96 255.81 L1954.22 255.81 L1954.22 261.204 L1949.96 261.204 L1949.96 255.81 Z\" fill=\"#000000\" fill-rule=\"evenodd\" fill-opacity=\"1\" /><path clip-path=\"url(#clip220)\" d=\"M 0 0 M1995.31 276.181 L1995.31 291.829 L1991.05 291.829 L1991.05 276.319 Q1991.05 272.639 1989.62 270.81 Q1988.18 268.982 1985.31 268.982 Q1981.86 268.982 1979.87 271.181 Q1977.88 273.38 1977.88 277.176 L1977.88 291.829 L1973.6 291.829 L1973.6 265.903 L1977.88 265.903 L1977.88 269.931 Q1979.41 267.593 1981.47 266.435 Q1983.55 265.278 1986.26 265.278 Q1990.73 265.278 1993.02 268.056 Q1995.31 270.81 1995.31 276.181 Z\" fill=\"#000000\" fill-rule=\"evenodd\" fill-opacity=\"1\" /><path clip-path=\"url(#clip220)\" d=\"M 0 0 M1999.34 281.597 L1999.34 265.903 L2003.6 265.903 L2003.6 281.435 Q2003.6 285.116 2005.03 286.968 Q2006.47 288.796 2009.34 288.796 Q2012.79 288.796 2014.78 286.597 Q2016.79 284.398 2016.79 280.602 L2016.79 265.903 L2021.05 265.903 L2021.05 291.829 L2016.79 291.829 L2016.79 287.847 Q2015.24 290.208 2013.18 291.366 Q2011.14 292.5 2008.44 292.5 Q2003.97 292.5 2001.65 289.722 Q1999.34 286.944 1999.34 281.597 M2010.06 265.278 L2010.06 265.278 Z\" fill=\"#000000\" fill-rule=\"evenodd\" fill-opacity=\"1\" /><path clip-path=\"url(#clip220)\" d=\"M 0 0 M2045.7 270.88 Q2047.3 268.009 2049.52 266.644 Q2051.75 265.278 2054.76 265.278 Q2058.81 265.278 2061.01 268.125 Q2063.2 270.949 2063.2 276.181 L2063.2 291.829 L2058.92 291.829 L2058.92 276.319 Q2058.92 272.593 2057.6 270.787 Q2056.28 268.982 2053.57 268.982 Q2050.26 268.982 2048.34 271.181 Q2046.42 273.38 2046.42 277.176 L2046.42 291.829 L2042.14 291.829 L2042.14 276.319 Q2042.14 272.569 2040.82 270.787 Q2039.5 268.982 2036.75 268.982 Q2033.48 268.982 2031.56 271.204 Q2029.64 273.403 2029.64 277.176 L2029.64 291.829 L2025.36 291.829 L2025.36 265.903 L2029.64 265.903 L2029.64 269.931 Q2031.1 267.546 2033.14 266.412 Q2035.17 265.278 2037.97 265.278 Q2040.8 265.278 2042.76 266.713 Q2044.76 268.148 2045.7 270.88 Z\" fill=\"#000000\" fill-rule=\"evenodd\" fill-opacity=\"1\" /><path clip-path=\"url(#clip220)\" d=\"M 0 0 M2089.85 277.801 L2089.85 279.884 L2070.26 279.884 Q2070.54 284.282 2072.9 286.597 Q2075.29 288.889 2079.52 288.889 Q2081.98 288.889 2084.27 288.287 Q2086.58 287.685 2088.85 286.481 L2088.85 290.509 Q2086.56 291.481 2084.15 291.991 Q2081.75 292.5 2079.27 292.5 Q2073.07 292.5 2069.43 288.889 Q2065.82 285.278 2065.82 279.12 Q2065.82 272.755 2069.25 269.028 Q2072.7 265.278 2078.53 265.278 Q2083.76 265.278 2086.79 268.657 Q2089.85 272.014 2089.85 277.801 M2085.59 276.551 Q2085.54 273.056 2083.62 270.972 Q2081.72 268.889 2078.57 268.889 Q2075.01 268.889 2072.86 270.903 Q2070.73 272.917 2070.4 276.574 L2085.59 276.551 Z\" fill=\"#000000\" fill-rule=\"evenodd\" fill-opacity=\"1\" /><path clip-path=\"url(#clip220)\" d=\"M 0 0 M2109.34 269.884 Q2108.62 269.468 2107.76 269.282 Q2106.93 269.074 2105.91 269.074 Q2102.3 269.074 2100.36 271.435 Q2098.44 273.773 2098.44 278.171 L2098.44 291.829 L2094.15 291.829 L2094.15 265.903 L2098.44 265.903 L2098.44 269.931 Q2099.78 267.569 2101.93 266.435 Q2104.08 265.278 2107.16 265.278 Q2107.6 265.278 2108.13 265.347 Q2108.67 265.394 2109.32 265.509 L2109.34 269.884 Z\" fill=\"#000000\" fill-rule=\"evenodd\" fill-opacity=\"1\" /><path clip-path=\"url(#clip220)\" d=\"M 0 0 M2124.59 294.236 Q2122.79 298.866 2121.07 300.278 Q2119.36 301.69 2116.49 301.69 L2113.09 301.69 L2113.09 298.125 L2115.59 298.125 Q2117.35 298.125 2118.32 297.292 Q2119.29 296.458 2120.47 293.356 L2121.24 291.412 L2110.75 265.903 L2115.26 265.903 L2123.37 286.181 L2131.47 265.903 L2135.98 265.903 L2124.59 294.236 Z\" fill=\"#000000\" fill-rule=\"evenodd\" fill-opacity=\"1\" /><path clip-path=\"url(#clip220)\" d=\"M 0 0 M2159.11 266.898 L2159.11 270.88 Q2157.3 269.884 2155.47 269.398 Q2153.67 268.889 2151.82 268.889 Q2147.67 268.889 2145.38 271.528 Q2143.09 274.144 2143.09 278.889 Q2143.09 283.634 2145.38 286.273 Q2147.67 288.889 2151.82 288.889 Q2153.67 288.889 2155.47 288.403 Q2157.3 287.893 2159.11 286.898 L2159.11 290.833 Q2157.32 291.667 2155.4 292.083 Q2153.51 292.5 2151.35 292.5 Q2145.5 292.5 2142.05 288.819 Q2138.6 285.139 2138.6 278.889 Q2138.6 272.546 2142.07 268.912 Q2145.57 265.278 2151.63 265.278 Q2153.6 265.278 2155.47 265.695 Q2157.35 266.088 2159.11 266.898 Z\" fill=\"#000000\" fill-rule=\"evenodd\" fill-opacity=\"1\" /><path clip-path=\"url(#clip220)\" d=\"M 0 0 M2161.72 265.903 L2181.95 265.903 L2181.95 269.792 L2165.94 288.426 L2181.95 288.426 L2181.95 291.829 L2161.14 291.829 L2161.14 287.94 L2177.16 269.306 L2161.72 269.306 L2161.72 265.903 Z\" fill=\"#000000\" fill-rule=\"evenodd\" fill-opacity=\"1\" /><path clip-path=\"url(#clip220)\" d=\"M 0 0 M2207.97 276.181 L2207.97 291.829 L2203.71 291.829 L2203.71 276.319 Q2203.71 272.639 2202.28 270.81 Q2200.84 268.982 2197.97 268.982 Q2194.52 268.982 2192.53 271.181 Q2190.54 273.38 2190.54 277.176 L2190.54 291.829 L2186.26 291.829 L2186.26 265.903 L2190.54 265.903 L2190.54 269.931 Q2192.07 267.593 2194.13 266.435 Q2196.21 265.278 2198.92 265.278 Q2203.39 265.278 2205.68 268.056 Q2207.97 270.81 2207.97 276.181 Z\" fill=\"#000000\" fill-rule=\"evenodd\" fill-opacity=\"1\" /><path clip-path=\"url(#clip220)\" d=\"M 0 0 M2234.62 277.801 L2234.62 279.884 L2215.03 279.884 Q2215.31 284.282 2217.67 286.597 Q2220.06 288.889 2224.29 288.889 Q2226.75 288.889 2229.04 288.287 Q2231.35 287.685 2233.62 286.481 L2233.62 290.509 Q2231.33 291.481 2228.92 291.991 Q2226.51 292.5 2224.04 292.5 Q2217.83 292.5 2214.2 288.889 Q2210.59 285.278 2210.59 279.12 Q2210.59 272.755 2214.01 269.028 Q2217.46 265.278 2223.3 265.278 Q2228.53 265.278 2231.56 268.657 Q2234.62 272.014 2234.62 277.801 M2230.36 276.551 Q2230.31 273.056 2228.39 270.972 Q2226.49 268.889 2223.34 268.889 Q2219.78 268.889 2217.63 270.903 Q2215.5 272.917 2215.17 276.574 L2230.36 276.551 Z\" fill=\"#000000\" fill-rule=\"evenodd\" fill-opacity=\"1\" /></svg>\n"
      ]
     },
     "execution_count": 222,
     "metadata": {},
     "output_type": "execute_result"
    }
   ],
   "source": [
    "plot!(t_step, numeric, label = \"wartości numeryczne\")"
   ]
  },
  {
   "cell_type": "markdown",
   "metadata": {},
   "source": [
    "Nasz model stanowi dobre dopasowanie w stosunku to wartości mierzalnych, zarówno wyliczając jego wartości w sposób analityczny jak i numeryczny "
   ]
  },
  {
   "cell_type": "markdown",
   "metadata": {},
   "source": [
    "### B. Dawka pozanaczyniowa"
   ]
  },
  {
   "cell_type": "markdown",
   "metadata": {},
   "source": [
    "Poniższa tabela przedstawia stężenie nimesulidu w surowicy krwi ochotnika ($C$) [mg/l] oznaczone w różnym czasie t [h], po podaniu jednorazowej dawki doustnej."
   ]
  },
  {
   "cell_type": "markdown",
   "metadata": {},
   "source": [
    "<table>\n",
    "  <tr>\n",
    "    <th>Czas ($t$)</th>\n",
    "    <td>0,5</td>\n",
    "    <td>1,0</td>\n",
    "    <td>1,5</td>\n",
    "    <td>2</td>\n",
    "    <td>3</td>\n",
    "    <td>6</td>\n",
    "    <td>9</td>\n",
    "    <td>12</td>\n",
    "    <td>24</td>\n",
    "  </tr>\n",
    "  <tr>\n",
    "    <th>Stężenie ($C$)</th>\n",
    "    <td>2,6</td>\n",
    "    <td>3,95</td>\n",
    "    <td>3,88</td>\n",
    "    <td>3,55</td>\n",
    "    <td>2,83</td>\n",
    "    <td>1,27</td>\n",
    "    <td>0,44</td>\n",
    "    <td>0,17</td>\n",
    "    <td>0,05</td>\n",
    "  </tr>\n",
    "</table>"
   ]
  },
  {
   "cell_type": "code",
   "execution_count": 224,
   "metadata": {},
   "outputs": [],
   "source": [
    "t_2 = [0.5, 1.0, 1.5, 2, 3, 6, 9, 12, 24]\n",
    "C_2 = [2.6, 3.95, 3.88, 3.55, 2.83, 1.27, 0.44, 0.17, 0.05];"
   ]
  },
  {
   "cell_type": "code",
   "execution_count": 231,
   "metadata": {},
   "outputs": [
    {
     "data": {
      "image/svg+xml": [
       "<?xml version=\"1.0\" encoding=\"utf-8\"?>\n",
       "<svg xmlns=\"http://www.w3.org/2000/svg\" xmlns:xlink=\"http://www.w3.org/1999/xlink\" width=\"600\" height=\"400\" viewBox=\"0 0 2400 1600\">\n",
       "<defs>\n",
       "  <clipPath id=\"clip380\">\n",
       "    <rect x=\"0\" y=\"0\" width=\"2400\" height=\"1600\"/>\n",
       "  </clipPath>\n",
       "</defs>\n",
       "<path clip-path=\"url(#clip380)\" d=\"\n",
       "M0 1600 L2400 1600 L2400 0 L0 0  Z\n",
       "  \" fill=\"#ffffff\" fill-rule=\"evenodd\" fill-opacity=\"1\"/>\n",
       "<defs>\n",
       "  <clipPath id=\"clip381\">\n",
       "    <rect x=\"480\" y=\"0\" width=\"1681\" height=\"1600\"/>\n",
       "  </clipPath>\n",
       "</defs>\n",
       "<path clip-path=\"url(#clip380)\" d=\"\n",
       "M175.445 1423.18 L2352.76 1423.18 L2352.76 47.2441 L175.445 47.2441  Z\n",
       "  \" fill=\"#ffffff\" fill-rule=\"evenodd\" fill-opacity=\"1\"/>\n",
       "<defs>\n",
       "  <clipPath id=\"clip382\">\n",
       "    <rect x=\"175\" y=\"47\" width=\"2178\" height=\"1377\"/>\n",
       "  </clipPath>\n",
       "</defs>\n",
       "<polyline clip-path=\"url(#clip382)\" style=\"stroke:#000000; stroke-width:2; stroke-opacity:0.1; fill:none\" points=\"\n",
       "  193.364,1423.18 193.364,47.2441 \n",
       "  \"/>\n",
       "<polyline clip-path=\"url(#clip382)\" style=\"stroke:#000000; stroke-width:2; stroke-opacity:0.1; fill:none\" points=\"\n",
       "  630.399,1423.18 630.399,47.2441 \n",
       "  \"/>\n",
       "<polyline clip-path=\"url(#clip382)\" style=\"stroke:#000000; stroke-width:2; stroke-opacity:0.1; fill:none\" points=\"\n",
       "  1067.43,1423.18 1067.43,47.2441 \n",
       "  \"/>\n",
       "<polyline clip-path=\"url(#clip382)\" style=\"stroke:#000000; stroke-width:2; stroke-opacity:0.1; fill:none\" points=\"\n",
       "  1504.47,1423.18 1504.47,47.2441 \n",
       "  \"/>\n",
       "<polyline clip-path=\"url(#clip382)\" style=\"stroke:#000000; stroke-width:2; stroke-opacity:0.1; fill:none\" points=\"\n",
       "  1941.51,1423.18 1941.51,47.2441 \n",
       "  \"/>\n",
       "<polyline clip-path=\"url(#clip380)\" style=\"stroke:#000000; stroke-width:4; stroke-opacity:1; fill:none\" points=\"\n",
       "  175.445,1423.18 2352.76,1423.18 \n",
       "  \"/>\n",
       "<polyline clip-path=\"url(#clip380)\" style=\"stroke:#000000; stroke-width:4; stroke-opacity:1; fill:none\" points=\"\n",
       "  193.364,1423.18 193.364,1406.67 \n",
       "  \"/>\n",
       "<polyline clip-path=\"url(#clip380)\" style=\"stroke:#000000; stroke-width:4; stroke-opacity:1; fill:none\" points=\"\n",
       "  630.399,1423.18 630.399,1406.67 \n",
       "  \"/>\n",
       "<polyline clip-path=\"url(#clip380)\" style=\"stroke:#000000; stroke-width:4; stroke-opacity:1; fill:none\" points=\"\n",
       "  1067.43,1423.18 1067.43,1406.67 \n",
       "  \"/>\n",
       "<polyline clip-path=\"url(#clip380)\" style=\"stroke:#000000; stroke-width:4; stroke-opacity:1; fill:none\" points=\"\n",
       "  1504.47,1423.18 1504.47,1406.67 \n",
       "  \"/>\n",
       "<polyline clip-path=\"url(#clip380)\" style=\"stroke:#000000; stroke-width:4; stroke-opacity:1; fill:none\" points=\"\n",
       "  1941.51,1423.18 1941.51,1406.67 \n",
       "  \"/>\n",
       "<path clip-path=\"url(#clip380)\" d=\"M 0 0 M193.364 1452.37 Q189.753 1452.37 187.924 1455.94 Q186.118 1459.48 186.118 1466.61 Q186.118 1473.71 187.924 1477.28 Q189.753 1480.82 193.364 1480.82 Q196.998 1480.82 198.803 1477.28 Q200.632 1473.71 200.632 1466.61 Q200.632 1459.48 198.803 1455.94 Q196.998 1452.37 193.364 1452.37 M193.364 1448.67 Q199.174 1448.67 202.229 1453.27 Q205.308 1457.86 205.308 1466.61 Q205.308 1475.33 202.229 1479.94 Q199.174 1484.52 193.364 1484.52 Q187.554 1484.52 184.475 1479.94 Q181.419 1475.33 181.419 1466.61 Q181.419 1457.86 184.475 1453.27 Q187.554 1448.67 193.364 1448.67 Z\" fill=\"#000000\" fill-rule=\"evenodd\" fill-opacity=\"1\" /><path clip-path=\"url(#clip380)\" d=\"M 0 0 M620.677 1449.29 L639.033 1449.29 L639.033 1453.23 L624.959 1453.23 L624.959 1461.7 Q625.978 1461.35 626.996 1461.19 Q628.015 1461 629.033 1461 Q634.82 1461 638.2 1464.18 Q641.58 1467.35 641.58 1472.76 Q641.58 1478.34 638.107 1481.44 Q634.635 1484.52 628.316 1484.52 Q626.14 1484.52 623.871 1484.15 Q621.626 1483.78 619.219 1483.04 L619.219 1478.34 Q621.302 1479.48 623.524 1480.03 Q625.746 1480.59 628.223 1480.59 Q632.228 1480.59 634.566 1478.48 Q636.904 1476.38 636.904 1472.76 Q636.904 1469.15 634.566 1467.05 Q632.228 1464.94 628.223 1464.94 Q626.348 1464.94 624.473 1465.36 Q622.621 1465.77 620.677 1466.65 L620.677 1449.29 Z\" fill=\"#000000\" fill-rule=\"evenodd\" fill-opacity=\"1\" /><path clip-path=\"url(#clip380)\" d=\"M 0 0 M1044.31 1479.92 L1051.95 1479.92 L1051.95 1453.55 L1043.64 1455.22 L1043.64 1450.96 L1051.9 1449.29 L1056.58 1449.29 L1056.58 1479.92 L1064.22 1479.92 L1064.22 1483.85 L1044.31 1483.85 L1044.31 1479.92 Z\" fill=\"#000000\" fill-rule=\"evenodd\" fill-opacity=\"1\" /><path clip-path=\"url(#clip380)\" d=\"M 0 0 M1079.29 1452.37 Q1075.68 1452.37 1073.85 1455.94 Q1072.04 1459.48 1072.04 1466.61 Q1072.04 1473.71 1073.85 1477.28 Q1075.68 1480.82 1079.29 1480.82 Q1082.92 1480.82 1084.73 1477.28 Q1086.55 1473.71 1086.55 1466.61 Q1086.55 1459.48 1084.73 1455.94 Q1082.92 1452.37 1079.29 1452.37 M1079.29 1448.67 Q1085.1 1448.67 1088.15 1453.27 Q1091.23 1457.86 1091.23 1466.61 Q1091.23 1475.33 1088.15 1479.94 Q1085.1 1484.52 1079.29 1484.52 Q1073.48 1484.52 1070.4 1479.94 Q1067.34 1475.33 1067.34 1466.61 Q1067.34 1457.86 1070.4 1453.27 Q1073.48 1448.67 1079.29 1448.67 Z\" fill=\"#000000\" fill-rule=\"evenodd\" fill-opacity=\"1\" /><path clip-path=\"url(#clip380)\" d=\"M 0 0 M1481.84 1479.92 L1489.48 1479.92 L1489.48 1453.55 L1481.17 1455.22 L1481.17 1450.96 L1489.44 1449.29 L1494.11 1449.29 L1494.11 1479.92 L1501.75 1479.92 L1501.75 1483.85 L1481.84 1483.85 L1481.84 1479.92 Z\" fill=\"#000000\" fill-rule=\"evenodd\" fill-opacity=\"1\" /><path clip-path=\"url(#clip380)\" d=\"M 0 0 M1506.87 1449.29 L1525.22 1449.29 L1525.22 1453.23 L1511.15 1453.23 L1511.15 1461.7 Q1512.17 1461.35 1513.19 1461.19 Q1514.2 1461 1515.22 1461 Q1521.01 1461 1524.39 1464.18 Q1527.77 1467.35 1527.77 1472.76 Q1527.77 1478.34 1524.3 1481.44 Q1520.82 1484.52 1514.5 1484.52 Q1512.33 1484.52 1510.06 1484.15 Q1507.81 1483.78 1505.41 1483.04 L1505.41 1478.34 Q1507.49 1479.48 1509.71 1480.03 Q1511.94 1480.59 1514.41 1480.59 Q1518.42 1480.59 1520.75 1478.48 Q1523.09 1476.38 1523.09 1472.76 Q1523.09 1469.15 1520.75 1467.05 Q1518.42 1464.94 1514.41 1464.94 Q1512.54 1464.94 1510.66 1465.36 Q1508.81 1465.77 1506.87 1466.65 L1506.87 1449.29 Z\" fill=\"#000000\" fill-rule=\"evenodd\" fill-opacity=\"1\" /><path clip-path=\"url(#clip380)\" d=\"M 0 0 M1922.65 1479.92 L1938.97 1479.92 L1938.97 1483.85 L1917.03 1483.85 L1917.03 1479.92 Q1919.69 1477.16 1924.27 1472.53 Q1928.88 1467.88 1930.06 1466.54 Q1932.3 1464.01 1933.18 1462.28 Q1934.09 1460.52 1934.09 1458.83 Q1934.09 1456.07 1932.14 1454.34 Q1930.22 1452.6 1927.12 1452.6 Q1924.92 1452.6 1922.47 1453.37 Q1920.04 1454.13 1917.26 1455.68 L1917.26 1450.96 Q1920.08 1449.82 1922.54 1449.25 Q1924.99 1448.67 1927.03 1448.67 Q1932.4 1448.67 1935.59 1451.35 Q1938.79 1454.04 1938.79 1458.53 Q1938.79 1460.66 1937.98 1462.58 Q1937.19 1464.48 1935.08 1467.07 Q1934.5 1467.74 1931.4 1470.96 Q1928.3 1474.15 1922.65 1479.92 Z\" fill=\"#000000\" fill-rule=\"evenodd\" fill-opacity=\"1\" /><path clip-path=\"url(#clip380)\" d=\"M 0 0 M1954.04 1452.37 Q1950.43 1452.37 1948.6 1455.94 Q1946.79 1459.48 1946.79 1466.61 Q1946.79 1473.71 1948.6 1477.28 Q1950.43 1480.82 1954.04 1480.82 Q1957.67 1480.82 1959.48 1477.28 Q1961.31 1473.71 1961.31 1466.61 Q1961.31 1459.48 1959.48 1455.94 Q1957.67 1452.37 1954.04 1452.37 M1954.04 1448.67 Q1959.85 1448.67 1962.91 1453.27 Q1965.98 1457.86 1965.98 1466.61 Q1965.98 1475.33 1962.91 1479.94 Q1959.85 1484.52 1954.04 1484.52 Q1948.23 1484.52 1945.15 1479.94 Q1942.1 1475.33 1942.1 1466.61 Q1942.1 1457.86 1945.15 1453.27 Q1948.23 1448.67 1954.04 1448.67 Z\" fill=\"#000000\" fill-rule=\"evenodd\" fill-opacity=\"1\" /><path clip-path=\"url(#clip380)\" d=\"M 0 0 M1215.45 1522.27 L1215.45 1532.4 L1227.51 1532.4 L1227.51 1536.95 L1215.45 1536.95 L1215.45 1556.3 Q1215.45 1560.66 1216.63 1561.9 Q1217.84 1563.14 1221.5 1563.14 L1227.51 1563.14 L1227.51 1568.04 L1221.5 1568.04 Q1214.72 1568.04 1212.14 1565.53 Q1209.56 1562.98 1209.56 1556.3 L1209.56 1536.95 L1205.27 1536.95 L1205.27 1532.4 L1209.56 1532.4 L1209.56 1522.27 L1215.45 1522.27 Z\" fill=\"#000000\" fill-rule=\"evenodd\" fill-opacity=\"1\" /><path clip-path=\"url(#clip380)\" d=\"M 0 0 M1253.84 1518.52 L1267.33 1518.52 L1267.33 1523.07 L1259.69 1523.07 L1259.69 1572.09 L1267.33 1572.09 L1267.33 1576.64 L1253.84 1576.64 L1253.84 1518.52 Z\" fill=\"#000000\" fill-rule=\"evenodd\" fill-opacity=\"1\" /><path clip-path=\"url(#clip380)\" d=\"M 0 0 M1303.11 1546.53 L1303.11 1568.04 L1297.25 1568.04 L1297.25 1546.72 Q1297.25 1541.66 1295.28 1539.14 Q1293.3 1536.63 1289.36 1536.63 Q1284.61 1536.63 1281.88 1539.65 Q1279.14 1542.68 1279.14 1547.9 L1279.14 1568.04 L1273.25 1568.04 L1273.25 1518.52 L1279.14 1518.52 L1279.14 1537.93 Q1281.24 1534.72 1284.07 1533.13 Q1286.94 1531.54 1290.66 1531.54 Q1296.8 1531.54 1299.96 1535.36 Q1303.11 1539.14 1303.11 1546.53 Z\" fill=\"#000000\" fill-rule=\"evenodd\" fill-opacity=\"1\" /><path clip-path=\"url(#clip380)\" d=\"M 0 0 M1322.94 1518.52 L1322.94 1576.64 L1309.44 1576.64 L1309.44 1572.09 L1317.05 1572.09 L1317.05 1523.07 L1309.44 1523.07 L1309.44 1518.52 L1322.94 1518.52 Z\" fill=\"#000000\" fill-rule=\"evenodd\" fill-opacity=\"1\" /><polyline clip-path=\"url(#clip382)\" style=\"stroke:#000000; stroke-width:2; stroke-opacity:0.1; fill:none\" points=\"\n",
       "  175.445,1400.88 2352.76,1400.88 \n",
       "  \"/>\n",
       "<polyline clip-path=\"url(#clip382)\" style=\"stroke:#000000; stroke-width:2; stroke-opacity:0.1; fill:none\" points=\"\n",
       "  175.445,1068.05 2352.76,1068.05 \n",
       "  \"/>\n",
       "<polyline clip-path=\"url(#clip382)\" style=\"stroke:#000000; stroke-width:2; stroke-opacity:0.1; fill:none\" points=\"\n",
       "  175.445,735.212 2352.76,735.212 \n",
       "  \"/>\n",
       "<polyline clip-path=\"url(#clip382)\" style=\"stroke:#000000; stroke-width:2; stroke-opacity:0.1; fill:none\" points=\"\n",
       "  175.445,402.378 2352.76,402.378 \n",
       "  \"/>\n",
       "<polyline clip-path=\"url(#clip382)\" style=\"stroke:#000000; stroke-width:2; stroke-opacity:0.1; fill:none\" points=\"\n",
       "  175.445,69.544 2352.76,69.544 \n",
       "  \"/>\n",
       "<polyline clip-path=\"url(#clip380)\" style=\"stroke:#000000; stroke-width:4; stroke-opacity:1; fill:none\" points=\"\n",
       "  175.445,1423.18 175.445,47.2441 \n",
       "  \"/>\n",
       "<polyline clip-path=\"url(#clip380)\" style=\"stroke:#000000; stroke-width:4; stroke-opacity:1; fill:none\" points=\"\n",
       "  175.445,1400.88 201.573,1400.88 \n",
       "  \"/>\n",
       "<polyline clip-path=\"url(#clip380)\" style=\"stroke:#000000; stroke-width:4; stroke-opacity:1; fill:none\" points=\"\n",
       "  175.445,1068.05 201.573,1068.05 \n",
       "  \"/>\n",
       "<polyline clip-path=\"url(#clip380)\" style=\"stroke:#000000; stroke-width:4; stroke-opacity:1; fill:none\" points=\"\n",
       "  175.445,735.212 201.573,735.212 \n",
       "  \"/>\n",
       "<polyline clip-path=\"url(#clip380)\" style=\"stroke:#000000; stroke-width:4; stroke-opacity:1; fill:none\" points=\"\n",
       "  175.445,402.378 201.573,402.378 \n",
       "  \"/>\n",
       "<polyline clip-path=\"url(#clip380)\" style=\"stroke:#000000; stroke-width:4; stroke-opacity:1; fill:none\" points=\"\n",
       "  175.445,69.544 201.573,69.544 \n",
       "  \"/>\n",
       "<path clip-path=\"url(#clip380)\" d=\"M 0 0 M127.501 1386.68 Q123.89 1386.68 122.061 1390.24 Q120.255 1393.79 120.255 1400.91 Q120.255 1408.02 122.061 1411.59 Q123.89 1415.13 127.501 1415.13 Q131.135 1415.13 132.941 1411.59 Q134.769 1408.02 134.769 1400.91 Q134.769 1393.79 132.941 1390.24 Q131.135 1386.68 127.501 1386.68 M127.501 1382.97 Q133.311 1382.97 136.367 1387.58 Q139.445 1392.16 139.445 1400.91 Q139.445 1409.64 136.367 1414.25 Q133.311 1418.83 127.501 1418.83 Q121.691 1418.83 118.612 1414.25 Q115.556 1409.64 115.556 1400.91 Q115.556 1392.16 118.612 1387.58 Q121.691 1382.97 127.501 1382.97 Z\" fill=\"#000000\" fill-rule=\"evenodd\" fill-opacity=\"1\" /><path clip-path=\"url(#clip380)\" d=\"M 0 0 M119.538 1081.39 L127.177 1081.39 L127.177 1055.03 L118.867 1056.69 L118.867 1052.43 L127.13 1050.77 L131.806 1050.77 L131.806 1081.39 L139.445 1081.39 L139.445 1085.33 L119.538 1085.33 L119.538 1081.39 Z\" fill=\"#000000\" fill-rule=\"evenodd\" fill-opacity=\"1\" /><path clip-path=\"url(#clip380)\" d=\"M 0 0 M123.126 748.557 L139.445 748.557 L139.445 752.492 L117.501 752.492 L117.501 748.557 Q120.163 745.802 124.746 741.173 Q129.353 736.52 130.533 735.177 Q132.779 732.654 133.658 730.918 Q134.561 729.159 134.561 727.469 Q134.561 724.714 132.617 722.978 Q130.695 721.242 127.593 721.242 Q125.394 721.242 122.941 722.006 Q120.51 722.77 117.732 724.321 L117.732 719.599 Q120.556 718.464 123.01 717.886 Q125.464 717.307 127.501 717.307 Q132.871 717.307 136.066 719.992 Q139.26 722.677 139.26 727.168 Q139.26 729.298 138.45 731.219 Q137.663 733.117 135.556 735.71 Q134.978 736.381 131.876 739.599 Q128.774 742.793 123.126 748.557 Z\" fill=\"#000000\" fill-rule=\"evenodd\" fill-opacity=\"1\" /><path clip-path=\"url(#clip380)\" d=\"M 0 0 M132.316 401.024 Q135.672 401.741 137.547 404.01 Q139.445 406.278 139.445 409.612 Q139.445 414.727 135.927 417.528 Q132.408 420.329 125.927 420.329 Q123.751 420.329 121.436 419.889 Q119.144 419.473 116.691 418.616 L116.691 414.102 Q118.635 415.237 120.95 415.815 Q123.265 416.394 125.788 416.394 Q130.186 416.394 132.478 414.658 Q134.792 412.922 134.792 409.612 Q134.792 406.556 132.64 404.843 Q130.51 403.107 126.691 403.107 L122.663 403.107 L122.663 399.265 L126.876 399.265 Q130.325 399.265 132.154 397.899 Q133.982 396.51 133.982 393.917 Q133.982 391.255 132.084 389.843 Q130.209 388.408 126.691 388.408 Q124.769 388.408 122.57 388.825 Q120.371 389.241 117.732 390.121 L117.732 385.954 Q120.394 385.214 122.709 384.843 Q125.047 384.473 127.107 384.473 Q132.431 384.473 135.533 386.904 Q138.635 389.311 138.635 393.431 Q138.635 396.302 136.992 398.292 Q135.348 400.26 132.316 401.024 Z\" fill=\"#000000\" fill-rule=\"evenodd\" fill-opacity=\"1\" /><path clip-path=\"url(#clip380)\" d=\"M 0 0 M129.862 56.338 L118.056 74.787 L129.862 74.787 L129.862 56.338 M128.635 52.264 L134.515 52.264 L134.515 74.787 L139.445 74.787 L139.445 78.6759 L134.515 78.6759 L134.515 86.824 L129.862 86.824 L129.862 78.6759 L114.26 78.6759 L114.26 74.162 L128.635 52.264 Z\" fill=\"#000000\" fill-rule=\"evenodd\" fill-opacity=\"1\" /><path clip-path=\"url(#clip380)\" d=\"M 0 0 M20.1444 809.563 L26.9239 809.563 Q23.9002 812.81 22.4043 816.502 Q20.9083 820.162 20.9083 824.3 Q20.9083 832.448 25.9054 836.777 Q30.8707 841.105 40.2919 841.105 Q49.6813 841.105 54.6784 836.777 Q59.6436 832.448 59.6436 824.3 Q59.6436 820.162 58.1477 816.502 Q56.6518 812.81 53.6281 809.563 L60.3439 809.563 Q62.6355 812.937 63.7814 816.725 Q64.9272 820.481 64.9272 824.682 Q64.9272 835.472 58.3387 841.678 Q51.7183 847.885 40.2919 847.885 Q28.8336 847.885 22.2451 841.678 Q15.6248 835.472 15.6248 824.682 Q15.6248 820.417 16.7706 816.661 Q17.8846 812.874 20.1444 809.563 Z\" fill=\"#000000\" fill-rule=\"evenodd\" fill-opacity=\"1\" /><path clip-path=\"url(#clip380)\" d=\"M 0 0 M14.479 783.241 L14.479 769.746 L19.0304 769.746 L19.0304 777.385 L68.0464 777.385 L68.0464 769.746 L72.5979 769.746 L72.5979 783.241 L14.479 783.241 Z\" fill=\"#000000\" fill-rule=\"evenodd\" fill-opacity=\"1\" /><path clip-path=\"url(#clip380)\" d=\"M 0 0 M35.1993 735.849 Q31.2526 733.652 29.3747 730.597 Q27.4968 727.541 27.4968 723.404 Q27.4968 717.834 31.4117 714.81 Q35.2948 711.786 42.4881 711.786 L64.0042 711.786 L64.0042 717.674 L42.679 717.674 Q37.5546 717.674 35.072 719.489 Q32.5894 721.303 32.5894 725.027 Q32.5894 729.578 35.6131 732.22 Q38.6368 734.862 43.8567 734.862 L64.0042 734.862 L64.0042 740.75 L42.679 740.75 Q37.5228 740.75 35.072 742.564 Q32.5894 744.379 32.5894 748.166 Q32.5894 752.654 35.6449 755.296 Q38.6686 757.938 43.8567 757.938 L64.0042 757.938 L64.0042 763.826 L28.3562 763.826 L28.3562 757.938 L33.8944 757.938 Q30.616 755.932 29.0564 753.131 Q27.4968 750.331 27.4968 746.479 Q27.4968 742.596 29.4702 739.891 Q31.4436 737.154 35.1993 735.849 Z\" fill=\"#000000\" fill-rule=\"evenodd\" fill-opacity=\"1\" /><path clip-path=\"url(#clip380)\" d=\"M 0 0 M45.7664 682.186 Q39.4007 682.186 35.8996 684.827 Q32.3984 687.437 32.3984 692.18 Q32.3984 696.89 35.8996 699.532 Q39.4007 702.142 45.7664 702.142 Q52.1003 702.142 55.6014 699.532 Q59.1026 696.89 59.1026 692.18 Q59.1026 687.437 55.6014 684.827 Q52.1003 682.186 45.7664 682.186 M59.58 676.329 Q68.683 676.329 73.1071 680.371 Q77.5631 684.414 77.5631 692.753 Q77.5631 695.84 77.0857 698.577 Q76.6401 701.315 75.6852 703.893 L69.9879 703.893 Q71.3884 701.315 72.0568 698.8 Q72.7252 696.286 72.7252 693.676 Q72.7252 687.915 69.7015 685.05 Q66.7096 682.186 60.6303 682.186 L57.7339 682.186 Q60.885 684 62.4446 686.833 Q64.0042 689.665 64.0042 693.612 Q64.0042 700.169 59.0071 704.179 Q54.01 708.19 45.7664 708.19 Q37.491 708.19 32.4939 704.179 Q27.4968 700.169 27.4968 693.612 Q27.4968 689.665 29.0564 686.833 Q30.616 684 33.7671 682.186 L28.3562 682.186 L28.3562 676.329 L59.58 676.329 Z\" fill=\"#000000\" fill-rule=\"evenodd\" fill-opacity=\"1\" /><path clip-path=\"url(#clip380)\" d=\"M 0 0 M16.4842 659.778 L16.4842 654.367 L70.0516 670.918 L70.0516 676.329 L16.4842 659.778 Z\" fill=\"#000000\" fill-rule=\"evenodd\" fill-opacity=\"1\" /><path clip-path=\"url(#clip380)\" d=\"M 0 0 M14.479 648.225 L14.479 642.368 L64.0042 642.368 L64.0042 648.225 L14.479 648.225 Z\" fill=\"#000000\" fill-rule=\"evenodd\" fill-opacity=\"1\" /><path clip-path=\"url(#clip380)\" d=\"M 0 0 M14.479 622.539 L72.5979 622.539 L72.5979 636.034 L68.0464 636.034 L68.0464 628.427 L19.0304 628.427 L19.0304 636.034 L14.479 636.034 L14.479 622.539 Z\" fill=\"#000000\" fill-rule=\"evenodd\" fill-opacity=\"1\" /><circle clip-path=\"url(#clip382)\" cx=\"237.067\" cy=\"535.512\" r=\"14\" fill=\"#009af9\" fill-rule=\"evenodd\" fill-opacity=\"1\" stroke=\"#000000\" stroke-opacity=\"1\" stroke-width=\"3.2\"/>\n",
       "<circle clip-path=\"url(#clip382)\" cx=\"280.771\" cy=\"86.1857\" r=\"14\" fill=\"#009af9\" fill-rule=\"evenodd\" fill-opacity=\"1\" stroke=\"#000000\" stroke-opacity=\"1\" stroke-width=\"3.2\"/>\n",
       "<circle clip-path=\"url(#clip382)\" cx=\"324.474\" cy=\"109.484\" r=\"14\" fill=\"#009af9\" fill-rule=\"evenodd\" fill-opacity=\"1\" stroke=\"#000000\" stroke-opacity=\"1\" stroke-width=\"3.2\"/>\n",
       "<circle clip-path=\"url(#clip382)\" cx=\"368.178\" cy=\"219.319\" r=\"14\" fill=\"#009af9\" fill-rule=\"evenodd\" fill-opacity=\"1\" stroke=\"#000000\" stroke-opacity=\"1\" stroke-width=\"3.2\"/>\n",
       "<circle clip-path=\"url(#clip382)\" cx=\"455.585\" cy=\"458.96\" r=\"14\" fill=\"#009af9\" fill-rule=\"evenodd\" fill-opacity=\"1\" stroke=\"#000000\" stroke-opacity=\"1\" stroke-width=\"3.2\"/>\n",
       "<circle clip-path=\"url(#clip382)\" cx=\"717.806\" cy=\"978.181\" r=\"14\" fill=\"#009af9\" fill-rule=\"evenodd\" fill-opacity=\"1\" stroke=\"#000000\" stroke-opacity=\"1\" stroke-width=\"3.2\"/>\n",
       "<circle clip-path=\"url(#clip382)\" cx=\"980.028\" cy=\"1254.43\" r=\"14\" fill=\"#009af9\" fill-rule=\"evenodd\" fill-opacity=\"1\" stroke=\"#000000\" stroke-opacity=\"1\" stroke-width=\"3.2\"/>\n",
       "<circle clip-path=\"url(#clip382)\" cx=\"1242.25\" cy=\"1344.3\" r=\"14\" fill=\"#009af9\" fill-rule=\"evenodd\" fill-opacity=\"1\" stroke=\"#000000\" stroke-opacity=\"1\" stroke-width=\"3.2\"/>\n",
       "<circle clip-path=\"url(#clip382)\" cx=\"2291.13\" cy=\"1384.24\" r=\"14\" fill=\"#009af9\" fill-rule=\"evenodd\" fill-opacity=\"1\" stroke=\"#000000\" stroke-opacity=\"1\" stroke-width=\"3.2\"/>\n",
       "<path clip-path=\"url(#clip380)\" d=\"\n",
       "M1647.12 214.069 L2280.18 214.069 L2280.18 93.1086 L1647.12 93.1086  Z\n",
       "  \" fill=\"#ffffff\" fill-rule=\"evenodd\" fill-opacity=\"1\"/>\n",
       "<polyline clip-path=\"url(#clip380)\" style=\"stroke:#000000; stroke-width:4; stroke-opacity:1; fill:none\" points=\"\n",
       "  1647.12,214.069 2280.18,214.069 2280.18,93.1086 1647.12,93.1086 1647.12,214.069 \n",
       "  \"/>\n",
       "<circle clip-path=\"url(#clip380)\" cx=\"1743.89\" cy=\"153.589\" r=\"23\" fill=\"#009af9\" fill-rule=\"evenodd\" fill-opacity=\"1\" stroke=\"#000000\" stroke-opacity=\"1\" stroke-width=\"5.12\"/>\n",
       "<path clip-path=\"url(#clip380)\" d=\"M 0 0 M1840.66 144.943 L1844.92 144.943 L1850.25 165.174 L1855.55 144.943 L1860.57 144.943 L1865.89 165.174 L1871.19 144.943 L1875.45 144.943 L1868.67 170.869 L1863.65 170.869 L1858.07 149.619 L1852.47 170.869 L1847.44 170.869 L1840.66 144.943 Z\" fill=\"#000000\" fill-rule=\"evenodd\" fill-opacity=\"1\" /><path clip-path=\"url(#clip380)\" d=\"M 0 0 M1891.7 157.836 Q1886.54 157.836 1884.55 159.017 Q1882.56 160.197 1882.56 163.045 Q1882.56 165.313 1884.04 166.656 Q1885.55 167.975 1888.12 167.975 Q1891.66 167.975 1893.79 165.475 Q1895.94 162.952 1895.94 158.785 L1895.94 157.836 L1891.7 157.836 M1900.2 156.077 L1900.2 170.869 L1895.94 170.869 L1895.94 166.933 Q1894.48 169.295 1892.31 170.429 Q1890.13 171.54 1886.98 171.54 Q1883 171.54 1880.64 169.318 Q1878.3 167.072 1878.3 163.322 Q1878.3 158.947 1881.22 156.725 Q1884.16 154.503 1889.97 154.503 L1895.94 154.503 L1895.94 154.086 Q1895.94 151.147 1894 149.549 Q1892.07 147.929 1888.58 147.929 Q1886.36 147.929 1884.25 148.461 Q1882.14 148.994 1880.2 150.059 L1880.2 146.123 Q1882.54 145.221 1884.74 144.781 Q1886.93 144.318 1889.02 144.318 Q1894.64 144.318 1897.42 147.234 Q1900.2 150.151 1900.2 156.077 Z\" fill=\"#000000\" fill-rule=\"evenodd\" fill-opacity=\"1\" /><path clip-path=\"url(#clip380)\" d=\"M 0 0 M1919.69 148.924 Q1918.97 148.508 1918.12 148.322 Q1917.28 148.114 1916.26 148.114 Q1912.65 148.114 1910.71 150.475 Q1908.79 152.813 1908.79 157.211 L1908.79 170.869 L1904.5 170.869 L1904.5 144.943 L1908.79 144.943 L1908.79 148.971 Q1910.13 146.609 1912.28 145.475 Q1914.43 144.318 1917.51 144.318 Q1917.95 144.318 1918.49 144.387 Q1919.02 144.434 1919.67 144.549 L1919.69 148.924 Z\" fill=\"#000000\" fill-rule=\"evenodd\" fill-opacity=\"1\" /><path clip-path=\"url(#clip380)\" d=\"M 0 0 M1928.37 137.582 L1928.37 144.943 L1937.14 144.943 L1937.14 148.253 L1928.37 148.253 L1928.37 162.327 Q1928.37 165.498 1929.23 166.401 Q1930.11 167.304 1932.77 167.304 L1937.14 167.304 L1937.14 170.869 L1932.77 170.869 Q1927.84 170.869 1925.96 169.04 Q1924.09 167.188 1924.09 162.327 L1924.09 148.253 L1920.96 148.253 L1920.96 144.943 L1924.09 144.943 L1924.09 137.582 L1928.37 137.582 Z\" fill=\"#000000\" fill-rule=\"evenodd\" fill-opacity=\"1\" /><path clip-path=\"url(#clip380)\" d=\"M 0 0 M1951.66 147.929 Q1948.23 147.929 1946.24 150.614 Q1944.25 153.276 1944.25 157.929 Q1944.25 162.582 1946.22 165.267 Q1948.21 167.929 1951.66 167.929 Q1955.06 167.929 1957.05 165.244 Q1959.04 162.558 1959.04 157.929 Q1959.04 153.322 1957.05 150.637 Q1955.06 147.929 1951.66 147.929 M1951.66 144.318 Q1957.21 144.318 1960.38 147.929 Q1963.55 151.54 1963.55 157.929 Q1963.55 164.295 1960.38 167.929 Q1957.21 171.54 1951.66 171.54 Q1946.08 171.54 1942.91 167.929 Q1939.76 164.295 1939.76 157.929 Q1939.76 151.54 1942.91 147.929 Q1946.08 144.318 1951.66 144.318 Z\" fill=\"#000000\" fill-rule=\"evenodd\" fill-opacity=\"1\" /><path clip-path=\"url(#clip380)\" d=\"M 0 0 M1980.15 132.79 L1984.76 132.79 L1977.21 141.494 L1973.67 141.494 L1980.15 132.79 M1984.55 145.707 L1984.55 149.734 Q1982.74 148.809 1980.8 148.346 Q1978.86 147.883 1976.77 147.883 Q1973.6 147.883 1972 148.855 Q1970.43 149.827 1970.43 151.771 Q1970.43 153.253 1971.56 154.109 Q1972.7 154.943 1976.12 155.707 L1977.58 156.031 Q1982.12 157.003 1984.02 158.785 Q1985.94 160.545 1985.94 163.716 Q1985.94 167.327 1983.07 169.433 Q1980.22 171.54 1975.22 171.54 Q1973.14 171.54 1970.87 171.123 Q1968.62 170.73 1966.12 169.92 L1966.12 165.521 Q1968.49 166.748 1970.78 167.373 Q1973.07 167.975 1975.31 167.975 Q1978.32 167.975 1979.94 166.957 Q1981.56 165.915 1981.56 164.04 Q1981.56 162.304 1980.38 161.378 Q1979.23 160.452 1975.27 159.596 L1973.79 159.248 Q1969.83 158.415 1968.07 156.702 Q1966.31 154.966 1966.31 151.957 Q1966.31 148.299 1968.9 146.309 Q1971.49 144.318 1976.26 144.318 Q1978.62 144.318 1980.71 144.665 Q1982.79 145.012 1984.55 145.707 Z\" fill=\"#000000\" fill-rule=\"evenodd\" fill-opacity=\"1\" /><path clip-path=\"url(#clip380)\" d=\"M 0 0 M2009.06 145.938 L2009.06 149.92 Q2007.26 148.924 2005.43 148.438 Q2003.62 147.929 2001.77 147.929 Q1997.63 147.929 1995.34 150.568 Q1993.05 153.184 1993.05 157.929 Q1993.05 162.674 1995.34 165.313 Q1997.63 167.929 2001.77 167.929 Q2003.62 167.929 2005.43 167.443 Q2007.26 166.933 2009.06 165.938 L2009.06 169.873 Q2007.28 170.707 2005.36 171.123 Q2003.46 171.54 2001.31 171.54 Q1995.45 171.54 1992 167.859 Q1988.55 164.179 1988.55 157.929 Q1988.55 151.586 1992.03 147.952 Q1995.52 144.318 2001.59 144.318 Q2003.55 144.318 2005.43 144.735 Q2007.3 145.128 2009.06 145.938 Z\" fill=\"#000000\" fill-rule=\"evenodd\" fill-opacity=\"1\" /><path clip-path=\"url(#clip380)\" d=\"M 0 0 M2013.53 144.943 L2017.79 144.943 L2017.79 170.869 L2013.53 170.869 L2013.53 144.943 M2013.53 134.85 L2017.79 134.85 L2017.79 140.244 L2013.53 140.244 L2013.53 134.85 Z\" fill=\"#000000\" fill-rule=\"evenodd\" fill-opacity=\"1\" /><path clip-path=\"url(#clip380)\" d=\"M 0 0 M2057.51 149.92 Q2059.11 147.049 2061.33 145.684 Q2063.55 144.318 2066.56 144.318 Q2070.61 144.318 2072.81 147.165 Q2075.01 149.989 2075.01 155.221 L2075.01 170.869 L2070.73 170.869 L2070.73 155.359 Q2070.73 151.633 2069.41 149.827 Q2068.09 148.022 2065.38 148.022 Q2062.07 148.022 2060.15 150.221 Q2058.23 152.42 2058.23 156.216 L2058.23 170.869 L2053.95 170.869 L2053.95 155.359 Q2053.95 151.609 2052.63 149.827 Q2051.31 148.022 2048.55 148.022 Q2045.29 148.022 2043.37 150.244 Q2041.45 152.443 2041.45 156.216 L2041.45 170.869 L2037.17 170.869 L2037.17 144.943 L2041.45 144.943 L2041.45 148.971 Q2042.91 146.586 2044.94 145.452 Q2046.98 144.318 2049.78 144.318 Q2052.61 144.318 2054.57 145.753 Q2056.56 147.188 2057.51 149.92 Z\" fill=\"#000000\" fill-rule=\"evenodd\" fill-opacity=\"1\" /><path clip-path=\"url(#clip380)\" d=\"M 0 0 M2079.48 144.943 L2083.74 144.943 L2083.74 170.869 L2079.48 170.869 L2079.48 144.943 M2079.48 134.85 L2083.74 134.85 L2083.74 140.244 L2079.48 140.244 L2079.48 134.85 Z\" fill=\"#000000\" fill-rule=\"evenodd\" fill-opacity=\"1\" /><path clip-path=\"url(#clip380)\" d=\"M 0 0 M2110.38 156.841 L2110.38 158.924 L2090.8 158.924 Q2091.08 163.322 2093.44 165.637 Q2095.82 167.929 2100.06 167.929 Q2102.51 167.929 2104.8 167.327 Q2107.12 166.725 2109.39 165.521 L2109.39 169.549 Q2107.1 170.521 2104.69 171.031 Q2102.28 171.54 2099.8 171.54 Q2093.6 171.54 2089.97 167.929 Q2086.36 164.318 2086.36 158.16 Q2086.36 151.795 2089.78 148.068 Q2093.23 144.318 2099.06 144.318 Q2104.29 144.318 2107.33 147.697 Q2110.38 151.054 2110.38 156.841 M2106.12 155.591 Q2106.08 152.096 2104.16 150.012 Q2102.26 147.929 2099.11 147.929 Q2095.54 147.929 2093.39 149.943 Q2091.26 151.957 2090.94 155.614 L2106.12 155.591 Z\" fill=\"#000000\" fill-rule=\"evenodd\" fill-opacity=\"1\" /><path clip-path=\"url(#clip380)\" d=\"M 0 0 M2129.87 148.924 Q2129.16 148.508 2128.3 148.322 Q2127.47 148.114 2126.45 148.114 Q2122.84 148.114 2120.89 150.475 Q2118.97 152.813 2118.97 157.211 L2118.97 170.869 L2114.69 170.869 L2114.69 144.943 L2118.97 144.943 L2118.97 148.971 Q2120.31 146.609 2122.47 145.475 Q2124.62 144.318 2127.7 144.318 Q2128.14 144.318 2128.67 144.387 Q2129.2 144.434 2129.85 144.549 L2129.87 148.924 Z\" fill=\"#000000\" fill-rule=\"evenodd\" fill-opacity=\"1\" /><path clip-path=\"url(#clip380)\" d=\"M 0 0 M2132.49 144.943 L2152.72 144.943 L2152.72 148.832 L2136.7 167.466 L2152.72 167.466 L2152.72 170.869 L2131.91 170.869 L2131.91 166.98 L2147.93 148.346 L2132.49 148.346 L2132.49 144.943 Z\" fill=\"#000000\" fill-rule=\"evenodd\" fill-opacity=\"1\" /><path clip-path=\"url(#clip380)\" d=\"M 0 0 M2167.23 147.929 Q2163.81 147.929 2161.82 150.614 Q2159.83 153.276 2159.83 157.929 Q2159.83 162.582 2161.79 165.267 Q2163.79 167.929 2167.23 167.929 Q2170.64 167.929 2172.63 165.244 Q2174.62 162.558 2174.62 157.929 Q2174.62 153.322 2172.63 150.637 Q2170.64 147.929 2167.23 147.929 M2167.23 144.318 Q2172.79 144.318 2175.96 147.929 Q2179.13 151.54 2179.13 157.929 Q2179.13 164.295 2175.96 167.929 Q2172.79 171.54 2167.23 171.54 Q2161.66 171.54 2158.48 167.929 Q2155.34 164.295 2155.34 157.929 Q2155.34 151.54 2158.48 147.929 Q2161.66 144.318 2167.23 144.318 Z\" fill=\"#000000\" fill-rule=\"evenodd\" fill-opacity=\"1\" /><path clip-path=\"url(#clip380)\" d=\"M 0 0 M2205.15 155.221 L2205.15 170.869 L2200.89 170.869 L2200.89 155.359 Q2200.89 151.679 2199.46 149.85 Q2198.02 148.022 2195.15 148.022 Q2191.7 148.022 2189.71 150.221 Q2187.72 152.42 2187.72 156.216 L2187.72 170.869 L2183.44 170.869 L2183.44 144.943 L2187.72 144.943 L2187.72 148.971 Q2189.25 146.633 2191.31 145.475 Q2193.39 144.318 2196.1 144.318 Q2200.57 144.318 2202.86 147.096 Q2205.15 149.85 2205.15 155.221 Z\" fill=\"#000000\" fill-rule=\"evenodd\" fill-opacity=\"1\" /><path clip-path=\"url(#clip380)\" d=\"M 0 0 M2231.79 156.841 L2231.79 158.924 L2212.21 158.924 Q2212.49 163.322 2214.85 165.637 Q2217.23 167.929 2221.47 167.929 Q2223.92 167.929 2226.22 167.327 Q2228.53 166.725 2230.8 165.521 L2230.8 169.549 Q2228.51 170.521 2226.1 171.031 Q2223.69 171.54 2221.22 171.54 Q2215.01 171.54 2211.38 167.929 Q2207.77 164.318 2207.77 158.16 Q2207.77 151.795 2211.19 148.068 Q2214.64 144.318 2220.47 144.318 Q2225.71 144.318 2228.74 147.697 Q2231.79 151.054 2231.79 156.841 M2227.53 155.591 Q2227.49 152.096 2225.57 150.012 Q2223.67 147.929 2220.52 147.929 Q2216.96 147.929 2214.8 149.943 Q2212.67 151.957 2212.35 155.614 L2227.53 155.591 Z\" fill=\"#000000\" fill-rule=\"evenodd\" fill-opacity=\"1\" /></svg>\n"
      ]
     },
     "execution_count": 231,
     "metadata": {},
     "output_type": "execute_result"
    }
   ],
   "source": [
    "scatter(t_2, C_2, xlabel=\"t [h]\", ylabel=\"C [mg/l]\", label = \"wartości mierzone\")"
   ]
  },
  {
   "cell_type": "markdown",
   "metadata": {},
   "source": [
    "W naszych analitycznych rozważaniach doszliśmy do wzoru $$ C(t) = \\frac{\\mathrm{k}_a \\cdot X_{D_0}}{V_d \\cdot \\left(\\mathrm{k}_a - \\mathrm{k}_e\\right)} \\cdot \\left(\\mathrm{e}^{-\\mathrm{k}_e \\cdot t} - \\mathrm{e}^{-\\mathrm{k}_a \\cdot t}\\right)$$"
   ]
  },
  {
   "cell_type": "markdown",
   "metadata": {},
   "source": [
    "W przypadku naszych danych $V_d = 18,7l$, $\\mathrm{k}_e = 0,279/h$, $\\mathrm{k}_a = 2,29/h$, $X_{D_0} = 100mg$"
   ]
  },
  {
   "cell_type": "markdown",
   "metadata": {},
   "source": [
    "Wykorzystując analityczne rozwiązanie możemy wyliczyć wartość stężenia w kolejnych okresach czasu"
   ]
  },
  {
   "cell_type": "code",
   "execution_count": 229,
   "metadata": {},
   "outputs": [
    {
     "data": {
      "text/plain": [
       "one_analyt2 (generic function with 1 method)"
      ]
     },
     "execution_count": 229,
     "metadata": {},
     "output_type": "execute_result"
    }
   ],
   "source": [
    "function one_analyt2(t)\n",
    "    x = fill(NaN, length(t))\n",
    "    for i in 1:(length(t))\n",
    "        x[i] = ((2.29*100)/(18.7*(2.29-0.279))*(ℯ^(-0.279*t[i])-ℯ^(-2.29*t[i])))\n",
    "    end\n",
    "    return x\n",
    "end"
   ]
  },
  {
   "cell_type": "code",
   "execution_count": 232,
   "metadata": {},
   "outputs": [
    {
     "data": {
      "image/svg+xml": [
       "<?xml version=\"1.0\" encoding=\"utf-8\"?>\n",
       "<svg xmlns=\"http://www.w3.org/2000/svg\" xmlns:xlink=\"http://www.w3.org/1999/xlink\" width=\"600\" height=\"400\" viewBox=\"0 0 2400 1600\">\n",
       "<defs>\n",
       "  <clipPath id=\"clip420\">\n",
       "    <rect x=\"0\" y=\"0\" width=\"2400\" height=\"1600\"/>\n",
       "  </clipPath>\n",
       "</defs>\n",
       "<path clip-path=\"url(#clip420)\" d=\"\n",
       "M0 1600 L2400 1600 L2400 0 L0 0  Z\n",
       "  \" fill=\"#ffffff\" fill-rule=\"evenodd\" fill-opacity=\"1\"/>\n",
       "<defs>\n",
       "  <clipPath id=\"clip421\">\n",
       "    <rect x=\"480\" y=\"0\" width=\"1681\" height=\"1600\"/>\n",
       "  </clipPath>\n",
       "</defs>\n",
       "<path clip-path=\"url(#clip420)\" d=\"\n",
       "M175.445 1423.18 L2352.76 1423.18 L2352.76 47.2441 L175.445 47.2441  Z\n",
       "  \" fill=\"#ffffff\" fill-rule=\"evenodd\" fill-opacity=\"1\"/>\n",
       "<defs>\n",
       "  <clipPath id=\"clip422\">\n",
       "    <rect x=\"175\" y=\"47\" width=\"2178\" height=\"1377\"/>\n",
       "  </clipPath>\n",
       "</defs>\n",
       "<polyline clip-path=\"url(#clip422)\" style=\"stroke:#000000; stroke-width:2; stroke-opacity:0.1; fill:none\" points=\"\n",
       "  237.067,1423.18 237.067,47.2441 \n",
       "  \"/>\n",
       "<polyline clip-path=\"url(#clip422)\" style=\"stroke:#000000; stroke-width:2; stroke-opacity:0.1; fill:none\" points=\"\n",
       "  664.998,1423.18 664.998,47.2441 \n",
       "  \"/>\n",
       "<polyline clip-path=\"url(#clip422)\" style=\"stroke:#000000; stroke-width:2; stroke-opacity:0.1; fill:none\" points=\"\n",
       "  1092.93,1423.18 1092.93,47.2441 \n",
       "  \"/>\n",
       "<polyline clip-path=\"url(#clip422)\" style=\"stroke:#000000; stroke-width:2; stroke-opacity:0.1; fill:none\" points=\"\n",
       "  1520.86,1423.18 1520.86,47.2441 \n",
       "  \"/>\n",
       "<polyline clip-path=\"url(#clip422)\" style=\"stroke:#000000; stroke-width:2; stroke-opacity:0.1; fill:none\" points=\"\n",
       "  1948.79,1423.18 1948.79,47.2441 \n",
       "  \"/>\n",
       "<polyline clip-path=\"url(#clip420)\" style=\"stroke:#000000; stroke-width:4; stroke-opacity:1; fill:none\" points=\"\n",
       "  175.445,1423.18 2352.76,1423.18 \n",
       "  \"/>\n",
       "<polyline clip-path=\"url(#clip420)\" style=\"stroke:#000000; stroke-width:4; stroke-opacity:1; fill:none\" points=\"\n",
       "  237.067,1423.18 237.067,1406.67 \n",
       "  \"/>\n",
       "<polyline clip-path=\"url(#clip420)\" style=\"stroke:#000000; stroke-width:4; stroke-opacity:1; fill:none\" points=\"\n",
       "  664.998,1423.18 664.998,1406.67 \n",
       "  \"/>\n",
       "<polyline clip-path=\"url(#clip420)\" style=\"stroke:#000000; stroke-width:4; stroke-opacity:1; fill:none\" points=\"\n",
       "  1092.93,1423.18 1092.93,1406.67 \n",
       "  \"/>\n",
       "<polyline clip-path=\"url(#clip420)\" style=\"stroke:#000000; stroke-width:4; stroke-opacity:1; fill:none\" points=\"\n",
       "  1520.86,1423.18 1520.86,1406.67 \n",
       "  \"/>\n",
       "<polyline clip-path=\"url(#clip420)\" style=\"stroke:#000000; stroke-width:4; stroke-opacity:1; fill:none\" points=\"\n",
       "  1948.79,1423.18 1948.79,1406.67 \n",
       "  \"/>\n",
       "<path clip-path=\"url(#clip420)\" d=\"M 0 0 M237.067 1452.37 Q233.456 1452.37 231.627 1455.94 Q229.822 1459.48 229.822 1466.61 Q229.822 1473.71 231.627 1477.28 Q233.456 1480.82 237.067 1480.82 Q240.701 1480.82 242.507 1477.28 Q244.336 1473.71 244.336 1466.61 Q244.336 1459.48 242.507 1455.94 Q240.701 1452.37 237.067 1452.37 M237.067 1448.67 Q242.877 1448.67 245.933 1453.27 Q249.012 1457.86 249.012 1466.61 Q249.012 1475.33 245.933 1479.94 Q242.877 1484.52 237.067 1484.52 Q231.257 1484.52 228.178 1479.94 Q225.123 1475.33 225.123 1466.61 Q225.123 1457.86 228.178 1453.27 Q231.257 1448.67 237.067 1448.67 Z\" fill=\"#000000\" fill-rule=\"evenodd\" fill-opacity=\"1\" /><path clip-path=\"url(#clip420)\" d=\"M 0 0 M655.276 1449.29 L673.632 1449.29 L673.632 1453.23 L659.558 1453.23 L659.558 1461.7 Q660.576 1461.35 661.595 1461.19 Q662.614 1461 663.632 1461 Q669.419 1461 672.799 1464.18 Q676.178 1467.35 676.178 1472.76 Q676.178 1478.34 672.706 1481.44 Q669.234 1484.52 662.914 1484.52 Q660.739 1484.52 658.47 1484.15 Q656.225 1483.78 653.817 1483.04 L653.817 1478.34 Q655.901 1479.48 658.123 1480.03 Q660.345 1480.59 662.822 1480.59 Q666.826 1480.59 669.164 1478.48 Q671.502 1476.38 671.502 1472.76 Q671.502 1469.15 669.164 1467.05 Q666.826 1464.94 662.822 1464.94 Q660.947 1464.94 659.072 1465.36 Q657.22 1465.77 655.276 1466.65 L655.276 1449.29 Z\" fill=\"#000000\" fill-rule=\"evenodd\" fill-opacity=\"1\" /><path clip-path=\"url(#clip420)\" d=\"M 0 0 M1069.8 1479.92 L1077.44 1479.92 L1077.44 1453.55 L1069.13 1455.22 L1069.13 1450.96 L1077.4 1449.29 L1082.07 1449.29 L1082.07 1479.92 L1089.71 1479.92 L1089.71 1483.85 L1069.8 1483.85 L1069.8 1479.92 Z\" fill=\"#000000\" fill-rule=\"evenodd\" fill-opacity=\"1\" /><path clip-path=\"url(#clip420)\" d=\"M 0 0 M1104.78 1452.37 Q1101.17 1452.37 1099.34 1455.94 Q1097.53 1459.48 1097.53 1466.61 Q1097.53 1473.71 1099.34 1477.28 Q1101.17 1480.82 1104.78 1480.82 Q1108.41 1480.82 1110.22 1477.28 Q1112.05 1473.71 1112.05 1466.61 Q1112.05 1459.48 1110.22 1455.94 Q1108.41 1452.37 1104.78 1452.37 M1104.78 1448.67 Q1110.59 1448.67 1113.65 1453.27 Q1116.72 1457.86 1116.72 1466.61 Q1116.72 1475.33 1113.65 1479.94 Q1110.59 1484.52 1104.78 1484.52 Q1098.97 1484.52 1095.89 1479.94 Q1092.84 1475.33 1092.84 1466.61 Q1092.84 1457.86 1095.89 1453.27 Q1098.97 1448.67 1104.78 1448.67 Z\" fill=\"#000000\" fill-rule=\"evenodd\" fill-opacity=\"1\" /><path clip-path=\"url(#clip420)\" d=\"M 0 0 M1498.23 1479.92 L1505.87 1479.92 L1505.87 1453.55 L1497.56 1455.22 L1497.56 1450.96 L1505.82 1449.29 L1510.5 1449.29 L1510.5 1479.92 L1518.14 1479.92 L1518.14 1483.85 L1498.23 1483.85 L1498.23 1479.92 Z\" fill=\"#000000\" fill-rule=\"evenodd\" fill-opacity=\"1\" /><path clip-path=\"url(#clip420)\" d=\"M 0 0 M1523.25 1449.29 L1541.61 1449.29 L1541.61 1453.23 L1527.54 1453.23 L1527.54 1461.7 Q1528.56 1461.35 1529.57 1461.19 Q1530.59 1461 1531.61 1461 Q1537.4 1461 1540.78 1464.18 Q1544.16 1467.35 1544.16 1472.76 Q1544.16 1478.34 1540.69 1481.44 Q1537.21 1484.52 1530.89 1484.52 Q1528.72 1484.52 1526.45 1484.15 Q1524.2 1483.78 1521.8 1483.04 L1521.8 1478.34 Q1523.88 1479.48 1526.1 1480.03 Q1528.32 1480.59 1530.8 1480.59 Q1534.81 1480.59 1537.14 1478.48 Q1539.48 1476.38 1539.48 1472.76 Q1539.48 1469.15 1537.14 1467.05 Q1534.81 1464.94 1530.8 1464.94 Q1528.93 1464.94 1527.05 1465.36 Q1525.2 1465.77 1523.25 1466.65 L1523.25 1449.29 Z\" fill=\"#000000\" fill-rule=\"evenodd\" fill-opacity=\"1\" /><path clip-path=\"url(#clip420)\" d=\"M 0 0 M1929.94 1479.92 L1946.25 1479.92 L1946.25 1483.85 L1924.31 1483.85 L1924.31 1479.92 Q1926.97 1477.16 1931.56 1472.53 Q1936.16 1467.88 1937.34 1466.54 Q1939.59 1464.01 1940.47 1462.28 Q1941.37 1460.52 1941.37 1458.83 Q1941.37 1456.07 1939.43 1454.34 Q1937.5 1452.6 1934.4 1452.6 Q1932.2 1452.6 1929.75 1453.37 Q1927.32 1454.13 1924.54 1455.68 L1924.54 1450.96 Q1927.37 1449.82 1929.82 1449.25 Q1932.27 1448.67 1934.31 1448.67 Q1939.68 1448.67 1942.88 1451.35 Q1946.07 1454.04 1946.07 1458.53 Q1946.07 1460.66 1945.26 1462.58 Q1944.47 1464.48 1942.37 1467.07 Q1941.79 1467.74 1938.69 1470.96 Q1935.58 1474.15 1929.94 1479.92 Z\" fill=\"#000000\" fill-rule=\"evenodd\" fill-opacity=\"1\" /><path clip-path=\"url(#clip420)\" d=\"M 0 0 M1961.32 1452.37 Q1957.71 1452.37 1955.88 1455.94 Q1954.08 1459.48 1954.08 1466.61 Q1954.08 1473.71 1955.88 1477.28 Q1957.71 1480.82 1961.32 1480.82 Q1964.96 1480.82 1966.76 1477.28 Q1968.59 1473.71 1968.59 1466.61 Q1968.59 1459.48 1966.76 1455.94 Q1964.96 1452.37 1961.32 1452.37 M1961.32 1448.67 Q1967.13 1448.67 1970.19 1453.27 Q1973.27 1457.86 1973.27 1466.61 Q1973.27 1475.33 1970.19 1479.94 Q1967.13 1484.52 1961.32 1484.52 Q1955.51 1484.52 1952.44 1479.94 Q1949.38 1475.33 1949.38 1466.61 Q1949.38 1457.86 1952.44 1453.27 Q1955.51 1448.67 1961.32 1448.67 Z\" fill=\"#000000\" fill-rule=\"evenodd\" fill-opacity=\"1\" /><path clip-path=\"url(#clip420)\" d=\"M 0 0 M1215.45 1522.27 L1215.45 1532.4 L1227.51 1532.4 L1227.51 1536.95 L1215.45 1536.95 L1215.45 1556.3 Q1215.45 1560.66 1216.63 1561.9 Q1217.84 1563.14 1221.5 1563.14 L1227.51 1563.14 L1227.51 1568.04 L1221.5 1568.04 Q1214.72 1568.04 1212.14 1565.53 Q1209.56 1562.98 1209.56 1556.3 L1209.56 1536.95 L1205.27 1536.95 L1205.27 1532.4 L1209.56 1532.4 L1209.56 1522.27 L1215.45 1522.27 Z\" fill=\"#000000\" fill-rule=\"evenodd\" fill-opacity=\"1\" /><path clip-path=\"url(#clip420)\" d=\"M 0 0 M1253.84 1518.52 L1267.33 1518.52 L1267.33 1523.07 L1259.69 1523.07 L1259.69 1572.09 L1267.33 1572.09 L1267.33 1576.64 L1253.84 1576.64 L1253.84 1518.52 Z\" fill=\"#000000\" fill-rule=\"evenodd\" fill-opacity=\"1\" /><path clip-path=\"url(#clip420)\" d=\"M 0 0 M1303.11 1546.53 L1303.11 1568.04 L1297.25 1568.04 L1297.25 1546.72 Q1297.25 1541.66 1295.28 1539.14 Q1293.3 1536.63 1289.36 1536.63 Q1284.61 1536.63 1281.88 1539.65 Q1279.14 1542.68 1279.14 1547.9 L1279.14 1568.04 L1273.25 1568.04 L1273.25 1518.52 L1279.14 1518.52 L1279.14 1537.93 Q1281.24 1534.72 1284.07 1533.13 Q1286.94 1531.54 1290.66 1531.54 Q1296.8 1531.54 1299.96 1535.36 Q1303.11 1539.14 1303.11 1546.53 Z\" fill=\"#000000\" fill-rule=\"evenodd\" fill-opacity=\"1\" /><path clip-path=\"url(#clip420)\" d=\"M 0 0 M1322.94 1518.52 L1322.94 1576.64 L1309.44 1576.64 L1309.44 1572.09 L1317.05 1572.09 L1317.05 1523.07 L1309.44 1523.07 L1309.44 1518.52 L1322.94 1518.52 Z\" fill=\"#000000\" fill-rule=\"evenodd\" fill-opacity=\"1\" /><polyline clip-path=\"url(#clip422)\" style=\"stroke:#000000; stroke-width:2; stroke-opacity:0.1; fill:none\" points=\"\n",
       "  175.445,1384.24 2352.76,1384.24 \n",
       "  \"/>\n",
       "<polyline clip-path=\"url(#clip422)\" style=\"stroke:#000000; stroke-width:2; stroke-opacity:0.1; fill:none\" points=\"\n",
       "  175.445,1058.94 2352.76,1058.94 \n",
       "  \"/>\n",
       "<polyline clip-path=\"url(#clip422)\" style=\"stroke:#000000; stroke-width:2; stroke-opacity:0.1; fill:none\" points=\"\n",
       "  175.445,733.632 2352.76,733.632 \n",
       "  \"/>\n",
       "<polyline clip-path=\"url(#clip422)\" style=\"stroke:#000000; stroke-width:2; stroke-opacity:0.1; fill:none\" points=\"\n",
       "  175.445,408.33 2352.76,408.33 \n",
       "  \"/>\n",
       "<polyline clip-path=\"url(#clip422)\" style=\"stroke:#000000; stroke-width:2; stroke-opacity:0.1; fill:none\" points=\"\n",
       "  175.445,83.0267 2352.76,83.0267 \n",
       "  \"/>\n",
       "<polyline clip-path=\"url(#clip420)\" style=\"stroke:#000000; stroke-width:4; stroke-opacity:1; fill:none\" points=\"\n",
       "  175.445,1423.18 175.445,47.2441 \n",
       "  \"/>\n",
       "<polyline clip-path=\"url(#clip420)\" style=\"stroke:#000000; stroke-width:4; stroke-opacity:1; fill:none\" points=\"\n",
       "  175.445,1384.24 201.573,1384.24 \n",
       "  \"/>\n",
       "<polyline clip-path=\"url(#clip420)\" style=\"stroke:#000000; stroke-width:4; stroke-opacity:1; fill:none\" points=\"\n",
       "  175.445,1058.94 201.573,1058.94 \n",
       "  \"/>\n",
       "<polyline clip-path=\"url(#clip420)\" style=\"stroke:#000000; stroke-width:4; stroke-opacity:1; fill:none\" points=\"\n",
       "  175.445,733.632 201.573,733.632 \n",
       "  \"/>\n",
       "<polyline clip-path=\"url(#clip420)\" style=\"stroke:#000000; stroke-width:4; stroke-opacity:1; fill:none\" points=\"\n",
       "  175.445,408.33 201.573,408.33 \n",
       "  \"/>\n",
       "<polyline clip-path=\"url(#clip420)\" style=\"stroke:#000000; stroke-width:4; stroke-opacity:1; fill:none\" points=\"\n",
       "  175.445,83.0267 201.573,83.0267 \n",
       "  \"/>\n",
       "<path clip-path=\"url(#clip420)\" d=\"M 0 0 M127.501 1370.04 Q123.89 1370.04 122.061 1373.6 Q120.255 1377.14 120.255 1384.27 Q120.255 1391.38 122.061 1394.94 Q123.89 1398.49 127.501 1398.49 Q131.135 1398.49 132.941 1394.94 Q134.769 1391.38 134.769 1384.27 Q134.769 1377.14 132.941 1373.6 Q131.135 1370.04 127.501 1370.04 M127.501 1366.33 Q133.311 1366.33 136.367 1370.94 Q139.445 1375.52 139.445 1384.27 Q139.445 1393 136.367 1397.61 Q133.311 1402.19 127.501 1402.19 Q121.691 1402.19 118.612 1397.61 Q115.556 1393 115.556 1384.27 Q115.556 1375.52 118.612 1370.94 Q121.691 1366.33 127.501 1366.33 Z\" fill=\"#000000\" fill-rule=\"evenodd\" fill-opacity=\"1\" /><path clip-path=\"url(#clip420)\" d=\"M 0 0 M119.538 1072.28 L127.177 1072.28 L127.177 1045.91 L118.867 1047.58 L118.867 1043.32 L127.13 1041.66 L131.806 1041.66 L131.806 1072.28 L139.445 1072.28 L139.445 1076.22 L119.538 1076.22 L119.538 1072.28 Z\" fill=\"#000000\" fill-rule=\"evenodd\" fill-opacity=\"1\" /><path clip-path=\"url(#clip420)\" d=\"M 0 0 M123.126 746.977 L139.445 746.977 L139.445 750.912 L117.501 750.912 L117.501 746.977 Q120.163 744.223 124.746 739.593 Q129.353 734.94 130.533 733.598 Q132.779 731.075 133.658 729.339 Q134.561 727.579 134.561 725.889 Q134.561 723.135 132.617 721.399 Q130.695 719.663 127.593 719.663 Q125.394 719.663 122.941 720.427 Q120.51 721.19 117.732 722.741 L117.732 718.019 Q120.556 716.885 123.01 716.306 Q125.464 715.727 127.501 715.727 Q132.871 715.727 136.066 718.413 Q139.26 721.098 139.26 725.589 Q139.26 727.718 138.45 729.639 Q137.663 731.538 135.556 734.13 Q134.978 734.801 131.876 738.019 Q128.774 741.213 123.126 746.977 Z\" fill=\"#000000\" fill-rule=\"evenodd\" fill-opacity=\"1\" /><path clip-path=\"url(#clip420)\" d=\"M 0 0 M132.316 406.975 Q135.672 407.693 137.547 409.962 Q139.445 412.23 139.445 415.563 Q139.445 420.679 135.927 423.48 Q132.408 426.281 125.927 426.281 Q123.751 426.281 121.436 425.841 Q119.144 425.424 116.691 424.568 L116.691 420.054 Q118.635 421.188 120.95 421.767 Q123.265 422.346 125.788 422.346 Q130.186 422.346 132.478 420.61 Q134.792 418.874 134.792 415.563 Q134.792 412.508 132.64 410.795 Q130.51 409.059 126.691 409.059 L122.663 409.059 L122.663 405.216 L126.876 405.216 Q130.325 405.216 132.154 403.85 Q133.982 402.462 133.982 399.869 Q133.982 397.207 132.084 395.795 Q130.209 394.36 126.691 394.36 Q124.769 394.36 122.57 394.776 Q120.371 395.193 117.732 396.073 L117.732 391.906 Q120.394 391.165 122.709 390.795 Q125.047 390.425 127.107 390.425 Q132.431 390.425 135.533 392.855 Q138.635 395.263 138.635 399.383 Q138.635 402.253 136.992 404.244 Q135.348 406.212 132.316 406.975 Z\" fill=\"#000000\" fill-rule=\"evenodd\" fill-opacity=\"1\" /><path clip-path=\"url(#clip420)\" d=\"M 0 0 M129.862 69.8208 L118.056 88.2697 L129.862 88.2697 L129.862 69.8208 M128.635 65.7467 L134.515 65.7467 L134.515 88.2697 L139.445 88.2697 L139.445 92.1586 L134.515 92.1586 L134.515 100.307 L129.862 100.307 L129.862 92.1586 L114.26 92.1586 L114.26 87.6447 L128.635 65.7467 Z\" fill=\"#000000\" fill-rule=\"evenodd\" fill-opacity=\"1\" /><path clip-path=\"url(#clip420)\" d=\"M 0 0 M20.1444 809.563 L26.9239 809.563 Q23.9002 812.81 22.4043 816.502 Q20.9083 820.162 20.9083 824.3 Q20.9083 832.448 25.9054 836.777 Q30.8707 841.105 40.2919 841.105 Q49.6813 841.105 54.6784 836.777 Q59.6436 832.448 59.6436 824.3 Q59.6436 820.162 58.1477 816.502 Q56.6518 812.81 53.6281 809.563 L60.3439 809.563 Q62.6355 812.937 63.7814 816.725 Q64.9272 820.481 64.9272 824.682 Q64.9272 835.472 58.3387 841.678 Q51.7183 847.885 40.2919 847.885 Q28.8336 847.885 22.2451 841.678 Q15.6248 835.472 15.6248 824.682 Q15.6248 820.417 16.7706 816.661 Q17.8846 812.874 20.1444 809.563 Z\" fill=\"#000000\" fill-rule=\"evenodd\" fill-opacity=\"1\" /><path clip-path=\"url(#clip420)\" d=\"M 0 0 M14.479 783.241 L14.479 769.746 L19.0304 769.746 L19.0304 777.385 L68.0464 777.385 L68.0464 769.746 L72.5979 769.746 L72.5979 783.241 L14.479 783.241 Z\" fill=\"#000000\" fill-rule=\"evenodd\" fill-opacity=\"1\" /><path clip-path=\"url(#clip420)\" d=\"M 0 0 M35.1993 735.849 Q31.2526 733.652 29.3747 730.597 Q27.4968 727.541 27.4968 723.404 Q27.4968 717.834 31.4117 714.81 Q35.2948 711.786 42.4881 711.786 L64.0042 711.786 L64.0042 717.674 L42.679 717.674 Q37.5546 717.674 35.072 719.489 Q32.5894 721.303 32.5894 725.027 Q32.5894 729.578 35.6131 732.22 Q38.6368 734.862 43.8567 734.862 L64.0042 734.862 L64.0042 740.75 L42.679 740.75 Q37.5228 740.75 35.072 742.564 Q32.5894 744.379 32.5894 748.166 Q32.5894 752.654 35.6449 755.296 Q38.6686 757.938 43.8567 757.938 L64.0042 757.938 L64.0042 763.826 L28.3562 763.826 L28.3562 757.938 L33.8944 757.938 Q30.616 755.932 29.0564 753.131 Q27.4968 750.331 27.4968 746.479 Q27.4968 742.596 29.4702 739.891 Q31.4436 737.154 35.1993 735.849 Z\" fill=\"#000000\" fill-rule=\"evenodd\" fill-opacity=\"1\" /><path clip-path=\"url(#clip420)\" d=\"M 0 0 M45.7664 682.186 Q39.4007 682.186 35.8996 684.827 Q32.3984 687.437 32.3984 692.18 Q32.3984 696.89 35.8996 699.532 Q39.4007 702.142 45.7664 702.142 Q52.1003 702.142 55.6014 699.532 Q59.1026 696.89 59.1026 692.18 Q59.1026 687.437 55.6014 684.827 Q52.1003 682.186 45.7664 682.186 M59.58 676.329 Q68.683 676.329 73.1071 680.371 Q77.5631 684.414 77.5631 692.753 Q77.5631 695.84 77.0857 698.577 Q76.6401 701.315 75.6852 703.893 L69.9879 703.893 Q71.3884 701.315 72.0568 698.8 Q72.7252 696.286 72.7252 693.676 Q72.7252 687.915 69.7015 685.05 Q66.7096 682.186 60.6303 682.186 L57.7339 682.186 Q60.885 684 62.4446 686.833 Q64.0042 689.665 64.0042 693.612 Q64.0042 700.169 59.0071 704.179 Q54.01 708.19 45.7664 708.19 Q37.491 708.19 32.4939 704.179 Q27.4968 700.169 27.4968 693.612 Q27.4968 689.665 29.0564 686.833 Q30.616 684 33.7671 682.186 L28.3562 682.186 L28.3562 676.329 L59.58 676.329 Z\" fill=\"#000000\" fill-rule=\"evenodd\" fill-opacity=\"1\" /><path clip-path=\"url(#clip420)\" d=\"M 0 0 M16.4842 659.778 L16.4842 654.367 L70.0516 670.918 L70.0516 676.329 L16.4842 659.778 Z\" fill=\"#000000\" fill-rule=\"evenodd\" fill-opacity=\"1\" /><path clip-path=\"url(#clip420)\" d=\"M 0 0 M14.479 648.225 L14.479 642.368 L64.0042 642.368 L64.0042 648.225 L14.479 648.225 Z\" fill=\"#000000\" fill-rule=\"evenodd\" fill-opacity=\"1\" /><path clip-path=\"url(#clip420)\" d=\"M 0 0 M14.479 622.539 L72.5979 622.539 L72.5979 636.034 L68.0464 636.034 L68.0464 628.427 L19.0304 628.427 L19.0304 636.034 L14.479 636.034 L14.479 622.539 Z\" fill=\"#000000\" fill-rule=\"evenodd\" fill-opacity=\"1\" /><circle clip-path=\"url(#clip422)\" cx=\"279.86\" cy=\"538.451\" r=\"14\" fill=\"#009af9\" fill-rule=\"evenodd\" fill-opacity=\"1\" stroke=\"#000000\" stroke-opacity=\"1\" stroke-width=\"3.2\"/>\n",
       "<circle clip-path=\"url(#clip422)\" cx=\"322.653\" cy=\"99.2919\" r=\"14\" fill=\"#009af9\" fill-rule=\"evenodd\" fill-opacity=\"1\" stroke=\"#000000\" stroke-opacity=\"1\" stroke-width=\"3.2\"/>\n",
       "<circle clip-path=\"url(#clip422)\" cx=\"365.446\" cy=\"122.063\" r=\"14\" fill=\"#009af9\" fill-rule=\"evenodd\" fill-opacity=\"1\" stroke=\"#000000\" stroke-opacity=\"1\" stroke-width=\"3.2\"/>\n",
       "<circle clip-path=\"url(#clip422)\" cx=\"408.239\" cy=\"229.413\" r=\"14\" fill=\"#009af9\" fill-rule=\"evenodd\" fill-opacity=\"1\" stroke=\"#000000\" stroke-opacity=\"1\" stroke-width=\"3.2\"/>\n",
       "<circle clip-path=\"url(#clip422)\" cx=\"493.826\" cy=\"463.631\" r=\"14\" fill=\"#009af9\" fill-rule=\"evenodd\" fill-opacity=\"1\" stroke=\"#000000\" stroke-opacity=\"1\" stroke-width=\"3.2\"/>\n",
       "<circle clip-path=\"url(#clip422)\" cx=\"750.584\" cy=\"971.104\" r=\"14\" fill=\"#009af9\" fill-rule=\"evenodd\" fill-opacity=\"1\" stroke=\"#000000\" stroke-opacity=\"1\" stroke-width=\"3.2\"/>\n",
       "<circle clip-path=\"url(#clip422)\" cx=\"1007.34\" cy=\"1241.1\" r=\"14\" fill=\"#009af9\" fill-rule=\"evenodd\" fill-opacity=\"1\" stroke=\"#000000\" stroke-opacity=\"1\" stroke-width=\"3.2\"/>\n",
       "<circle clip-path=\"url(#clip422)\" cx=\"1264.1\" cy=\"1328.94\" r=\"14\" fill=\"#009af9\" fill-rule=\"evenodd\" fill-opacity=\"1\" stroke=\"#000000\" stroke-opacity=\"1\" stroke-width=\"3.2\"/>\n",
       "<circle clip-path=\"url(#clip422)\" cx=\"2291.13\" cy=\"1367.97\" r=\"14\" fill=\"#009af9\" fill-rule=\"evenodd\" fill-opacity=\"1\" stroke=\"#000000\" stroke-opacity=\"1\" stroke-width=\"3.2\"/>\n",
       "<polyline clip-path=\"url(#clip422)\" style=\"stroke:#e26f46; stroke-width:4; stroke-opacity:1; fill:none\" points=\"\n",
       "  237.067,1384.24 245.626,1033.3 254.184,763.848 262.743,558.934 271.302,405.092 279.86,291.617 288.419,210.003 296.977,153.492 305.536,116.715 314.095,95.4078 \n",
       "  322.653,86.1857 331.212,86.3627 339.771,93.8085 348.329,106.834 356.888,124.103 365.446,144.555 374.005,167.355 382.564,191.843 391.122,217.497 399.681,243.91 \n",
       "  408.239,270.76 416.798,297.798 425.357,324.829 433.915,351.701 442.474,378.301 451.032,404.538 459.591,430.349 468.15,455.684 476.708,480.508 485.267,504.797 \n",
       "  493.826,528.537 502.384,551.716 510.943,574.333 519.501,596.386 528.06,617.88 536.619,638.82 545.177,659.214 553.736,679.07 562.294,698.399 570.853,717.211 \n",
       "  579.412,735.518 587.97,753.33 596.529,770.66 605.087,787.519 613.646,803.918 622.205,819.871 630.763,835.387 639.322,850.479 647.881,865.158 656.439,879.434 \n",
       "  664.998,893.319 673.556,906.822 682.115,919.955 690.674,932.727 699.232,945.149 707.791,957.228 716.349,968.976 724.908,980.401 733.467,991.511 742.025,1002.32 \n",
       "  750.584,1012.82 759.142,1023.04 767.701,1032.98 776.26,1042.65 784.818,1052.04 793.377,1061.18 801.936,1070.07 810.494,1078.72 819.053,1087.12 827.611,1095.3 \n",
       "  836.17,1103.25 844.729,1110.98 853.287,1118.5 861.846,1125.81 870.404,1132.92 878.963,1139.83 887.522,1146.56 896.08,1153.1 904.639,1159.46 913.197,1165.64 \n",
       "  921.756,1171.66 930.315,1177.51 938.873,1183.19 947.432,1188.73 955.991,1194.11 964.549,1199.34 973.108,1204.42 981.666,1209.37 990.225,1214.18 998.784,1218.86 \n",
       "  1007.34,1223.41 1015.9,1227.84 1024.46,1232.14 1033.02,1236.33 1041.58,1240.4 1050.14,1244.35 1058.69,1248.2 1067.25,1251.94 1075.81,1255.58 1084.37,1259.12 \n",
       "  1092.93,1262.57 1101.49,1265.91 1110.05,1269.17 1118.6,1272.34 1127.16,1275.42 1135.72,1278.41 1144.28,1281.32 1152.84,1284.15 1161.4,1286.91 1169.96,1289.58 \n",
       "  1178.51,1292.19 1187.07,1294.72 1195.63,1297.18 1204.19,1299.58 1212.75,1301.91 1221.31,1304.17 1229.87,1306.38 1238.42,1308.52 1246.98,1310.6 1255.54,1312.63 \n",
       "  1264.1,1314.6 1272.66,1316.52 1281.22,1318.38 1289.78,1320.19 1298.34,1321.95 1306.89,1323.67 1315.45,1325.33 1324.01,1326.95 1332.57,1328.53 1341.13,1330.06 \n",
       "  1349.69,1331.55 1358.25,1333 1366.8,1334.41 1375.36,1335.78 1383.92,1337.12 1392.48,1338.41 1401.04,1339.67 1409.6,1340.9 1418.16,1342.09 1426.71,1343.25 \n",
       "  1435.27,1344.38 1443.83,1345.48 1452.39,1346.54 1460.95,1347.58 1469.51,1348.59 1478.07,1349.57 1486.62,1350.52 1495.18,1351.45 1503.74,1352.35 1512.3,1353.23 \n",
       "  1520.86,1354.08 1529.42,1354.91 1537.98,1355.72 1546.53,1356.51 1555.09,1357.27 1563.65,1358.01 1572.21,1358.73 1580.77,1359.43 1589.33,1360.12 1597.89,1360.78 \n",
       "  1606.45,1361.43 1615,1362.05 1623.56,1362.66 1632.12,1363.26 1640.68,1363.83 1649.24,1364.4 1657.8,1364.94 1666.36,1365.47 1674.91,1365.99 1683.47,1366.49 \n",
       "  1692.03,1366.98 1700.59,1367.45 1709.15,1367.92 1717.71,1368.37 1726.27,1368.8 1734.82,1369.23 1743.38,1369.64 1751.94,1370.04 1760.5,1370.43 1769.06,1370.81 \n",
       "  1777.62,1371.18 1786.18,1371.54 1794.73,1371.89 1803.29,1372.23 1811.85,1372.56 1820.41,1372.88 1828.97,1373.19 1837.53,1373.5 1846.09,1373.79 1854.64,1374.08 \n",
       "  1863.2,1374.36 1871.76,1374.63 1880.32,1374.9 1888.88,1375.15 1897.44,1375.4 1906,1375.65 1914.56,1375.88 1923.11,1376.11 1931.67,1376.34 1940.23,1376.55 \n",
       "  1948.79,1376.77 1957.35,1376.97 1965.91,1377.17 1974.47,1377.37 1983.02,1377.55 1991.58,1377.74 2000.14,1377.92 2008.7,1378.09 2017.26,1378.26 2025.82,1378.42 \n",
       "  2034.38,1378.58 2042.93,1378.74 2051.49,1378.89 2060.05,1379.04 2068.61,1379.18 2077.17,1379.32 2085.73,1379.46 2094.29,1379.59 2102.84,1379.72 2111.4,1379.84 \n",
       "  2119.96,1379.96 2128.52,1380.08 2137.08,1380.19 2145.64,1380.3 2154.2,1380.41 2162.75,1380.52 2171.31,1380.62 2179.87,1380.72 2188.43,1380.82 2196.99,1380.91 \n",
       "  2205.55,1381 2214.11,1381.09 2222.67,1381.18 2231.22,1381.26 2239.78,1381.34 2248.34,1381.42 2256.9,1381.5 2265.46,1381.58 2274.02,1381.65 2282.58,1381.72 \n",
       "  2291.13,1381.79 \n",
       "  \"/>\n",
       "<path clip-path=\"url(#clip420)\" d=\"\n",
       "M1647.12 274.549 L2280.18 274.549 L2280.18 93.1086 L1647.12 93.1086  Z\n",
       "  \" fill=\"#ffffff\" fill-rule=\"evenodd\" fill-opacity=\"1\"/>\n",
       "<polyline clip-path=\"url(#clip420)\" style=\"stroke:#000000; stroke-width:4; stroke-opacity:1; fill:none\" points=\"\n",
       "  1647.12,274.549 2280.18,274.549 2280.18,93.1086 1647.12,93.1086 1647.12,274.549 \n",
       "  \"/>\n",
       "<circle clip-path=\"url(#clip420)\" cx=\"1743.89\" cy=\"153.589\" r=\"23\" fill=\"#009af9\" fill-rule=\"evenodd\" fill-opacity=\"1\" stroke=\"#000000\" stroke-opacity=\"1\" stroke-width=\"5.12\"/>\n",
       "<path clip-path=\"url(#clip420)\" d=\"M 0 0 M1840.66 144.943 L1844.92 144.943 L1850.25 165.174 L1855.55 144.943 L1860.57 144.943 L1865.89 165.174 L1871.19 144.943 L1875.45 144.943 L1868.67 170.869 L1863.65 170.869 L1858.07 149.619 L1852.47 170.869 L1847.44 170.869 L1840.66 144.943 Z\" fill=\"#000000\" fill-rule=\"evenodd\" fill-opacity=\"1\" /><path clip-path=\"url(#clip420)\" d=\"M 0 0 M1891.7 157.836 Q1886.54 157.836 1884.55 159.017 Q1882.56 160.197 1882.56 163.045 Q1882.56 165.313 1884.04 166.656 Q1885.55 167.975 1888.12 167.975 Q1891.66 167.975 1893.79 165.475 Q1895.94 162.952 1895.94 158.785 L1895.94 157.836 L1891.7 157.836 M1900.2 156.077 L1900.2 170.869 L1895.94 170.869 L1895.94 166.933 Q1894.48 169.295 1892.31 170.429 Q1890.13 171.54 1886.98 171.54 Q1883 171.54 1880.64 169.318 Q1878.3 167.072 1878.3 163.322 Q1878.3 158.947 1881.22 156.725 Q1884.16 154.503 1889.97 154.503 L1895.94 154.503 L1895.94 154.086 Q1895.94 151.147 1894 149.549 Q1892.07 147.929 1888.58 147.929 Q1886.36 147.929 1884.25 148.461 Q1882.14 148.994 1880.2 150.059 L1880.2 146.123 Q1882.54 145.221 1884.74 144.781 Q1886.93 144.318 1889.02 144.318 Q1894.64 144.318 1897.42 147.234 Q1900.2 150.151 1900.2 156.077 Z\" fill=\"#000000\" fill-rule=\"evenodd\" fill-opacity=\"1\" /><path clip-path=\"url(#clip420)\" d=\"M 0 0 M1919.69 148.924 Q1918.97 148.508 1918.12 148.322 Q1917.28 148.114 1916.26 148.114 Q1912.65 148.114 1910.71 150.475 Q1908.79 152.813 1908.79 157.211 L1908.79 170.869 L1904.5 170.869 L1904.5 144.943 L1908.79 144.943 L1908.79 148.971 Q1910.13 146.609 1912.28 145.475 Q1914.43 144.318 1917.51 144.318 Q1917.95 144.318 1918.49 144.387 Q1919.02 144.434 1919.67 144.549 L1919.69 148.924 Z\" fill=\"#000000\" fill-rule=\"evenodd\" fill-opacity=\"1\" /><path clip-path=\"url(#clip420)\" d=\"M 0 0 M1928.37 137.582 L1928.37 144.943 L1937.14 144.943 L1937.14 148.253 L1928.37 148.253 L1928.37 162.327 Q1928.37 165.498 1929.23 166.401 Q1930.11 167.304 1932.77 167.304 L1937.14 167.304 L1937.14 170.869 L1932.77 170.869 Q1927.84 170.869 1925.96 169.04 Q1924.09 167.188 1924.09 162.327 L1924.09 148.253 L1920.96 148.253 L1920.96 144.943 L1924.09 144.943 L1924.09 137.582 L1928.37 137.582 Z\" fill=\"#000000\" fill-rule=\"evenodd\" fill-opacity=\"1\" /><path clip-path=\"url(#clip420)\" d=\"M 0 0 M1951.66 147.929 Q1948.23 147.929 1946.24 150.614 Q1944.25 153.276 1944.25 157.929 Q1944.25 162.582 1946.22 165.267 Q1948.21 167.929 1951.66 167.929 Q1955.06 167.929 1957.05 165.244 Q1959.04 162.558 1959.04 157.929 Q1959.04 153.322 1957.05 150.637 Q1955.06 147.929 1951.66 147.929 M1951.66 144.318 Q1957.21 144.318 1960.38 147.929 Q1963.55 151.54 1963.55 157.929 Q1963.55 164.295 1960.38 167.929 Q1957.21 171.54 1951.66 171.54 Q1946.08 171.54 1942.91 167.929 Q1939.76 164.295 1939.76 157.929 Q1939.76 151.54 1942.91 147.929 Q1946.08 144.318 1951.66 144.318 Z\" fill=\"#000000\" fill-rule=\"evenodd\" fill-opacity=\"1\" /><path clip-path=\"url(#clip420)\" d=\"M 0 0 M1980.15 132.79 L1984.76 132.79 L1977.21 141.494 L1973.67 141.494 L1980.15 132.79 M1984.55 145.707 L1984.55 149.734 Q1982.74 148.809 1980.8 148.346 Q1978.86 147.883 1976.77 147.883 Q1973.6 147.883 1972 148.855 Q1970.43 149.827 1970.43 151.771 Q1970.43 153.253 1971.56 154.109 Q1972.7 154.943 1976.12 155.707 L1977.58 156.031 Q1982.12 157.003 1984.02 158.785 Q1985.94 160.545 1985.94 163.716 Q1985.94 167.327 1983.07 169.433 Q1980.22 171.54 1975.22 171.54 Q1973.14 171.54 1970.87 171.123 Q1968.62 170.73 1966.12 169.92 L1966.12 165.521 Q1968.49 166.748 1970.78 167.373 Q1973.07 167.975 1975.31 167.975 Q1978.32 167.975 1979.94 166.957 Q1981.56 165.915 1981.56 164.04 Q1981.56 162.304 1980.38 161.378 Q1979.23 160.452 1975.27 159.596 L1973.79 159.248 Q1969.83 158.415 1968.07 156.702 Q1966.31 154.966 1966.31 151.957 Q1966.31 148.299 1968.9 146.309 Q1971.49 144.318 1976.26 144.318 Q1978.62 144.318 1980.71 144.665 Q1982.79 145.012 1984.55 145.707 Z\" fill=\"#000000\" fill-rule=\"evenodd\" fill-opacity=\"1\" /><path clip-path=\"url(#clip420)\" d=\"M 0 0 M2009.06 145.938 L2009.06 149.92 Q2007.26 148.924 2005.43 148.438 Q2003.62 147.929 2001.77 147.929 Q1997.63 147.929 1995.34 150.568 Q1993.05 153.184 1993.05 157.929 Q1993.05 162.674 1995.34 165.313 Q1997.63 167.929 2001.77 167.929 Q2003.62 167.929 2005.43 167.443 Q2007.26 166.933 2009.06 165.938 L2009.06 169.873 Q2007.28 170.707 2005.36 171.123 Q2003.46 171.54 2001.31 171.54 Q1995.45 171.54 1992 167.859 Q1988.55 164.179 1988.55 157.929 Q1988.55 151.586 1992.03 147.952 Q1995.52 144.318 2001.59 144.318 Q2003.55 144.318 2005.43 144.735 Q2007.3 145.128 2009.06 145.938 Z\" fill=\"#000000\" fill-rule=\"evenodd\" fill-opacity=\"1\" /><path clip-path=\"url(#clip420)\" d=\"M 0 0 M2013.53 144.943 L2017.79 144.943 L2017.79 170.869 L2013.53 170.869 L2013.53 144.943 M2013.53 134.85 L2017.79 134.85 L2017.79 140.244 L2013.53 140.244 L2013.53 134.85 Z\" fill=\"#000000\" fill-rule=\"evenodd\" fill-opacity=\"1\" /><path clip-path=\"url(#clip420)\" d=\"M 0 0 M2057.51 149.92 Q2059.11 147.049 2061.33 145.684 Q2063.55 144.318 2066.56 144.318 Q2070.61 144.318 2072.81 147.165 Q2075.01 149.989 2075.01 155.221 L2075.01 170.869 L2070.73 170.869 L2070.73 155.359 Q2070.73 151.633 2069.41 149.827 Q2068.09 148.022 2065.38 148.022 Q2062.07 148.022 2060.15 150.221 Q2058.23 152.42 2058.23 156.216 L2058.23 170.869 L2053.95 170.869 L2053.95 155.359 Q2053.95 151.609 2052.63 149.827 Q2051.31 148.022 2048.55 148.022 Q2045.29 148.022 2043.37 150.244 Q2041.45 152.443 2041.45 156.216 L2041.45 170.869 L2037.17 170.869 L2037.17 144.943 L2041.45 144.943 L2041.45 148.971 Q2042.91 146.586 2044.94 145.452 Q2046.98 144.318 2049.78 144.318 Q2052.61 144.318 2054.57 145.753 Q2056.56 147.188 2057.51 149.92 Z\" fill=\"#000000\" fill-rule=\"evenodd\" fill-opacity=\"1\" /><path clip-path=\"url(#clip420)\" d=\"M 0 0 M2079.48 144.943 L2083.74 144.943 L2083.74 170.869 L2079.48 170.869 L2079.48 144.943 M2079.48 134.85 L2083.74 134.85 L2083.74 140.244 L2079.48 140.244 L2079.48 134.85 Z\" fill=\"#000000\" fill-rule=\"evenodd\" fill-opacity=\"1\" /><path clip-path=\"url(#clip420)\" d=\"M 0 0 M2110.38 156.841 L2110.38 158.924 L2090.8 158.924 Q2091.08 163.322 2093.44 165.637 Q2095.82 167.929 2100.06 167.929 Q2102.51 167.929 2104.8 167.327 Q2107.12 166.725 2109.39 165.521 L2109.39 169.549 Q2107.1 170.521 2104.69 171.031 Q2102.28 171.54 2099.8 171.54 Q2093.6 171.54 2089.97 167.929 Q2086.36 164.318 2086.36 158.16 Q2086.36 151.795 2089.78 148.068 Q2093.23 144.318 2099.06 144.318 Q2104.29 144.318 2107.33 147.697 Q2110.38 151.054 2110.38 156.841 M2106.12 155.591 Q2106.08 152.096 2104.16 150.012 Q2102.26 147.929 2099.11 147.929 Q2095.54 147.929 2093.39 149.943 Q2091.26 151.957 2090.94 155.614 L2106.12 155.591 Z\" fill=\"#000000\" fill-rule=\"evenodd\" fill-opacity=\"1\" /><path clip-path=\"url(#clip420)\" d=\"M 0 0 M2129.87 148.924 Q2129.16 148.508 2128.3 148.322 Q2127.47 148.114 2126.45 148.114 Q2122.84 148.114 2120.89 150.475 Q2118.97 152.813 2118.97 157.211 L2118.97 170.869 L2114.69 170.869 L2114.69 144.943 L2118.97 144.943 L2118.97 148.971 Q2120.31 146.609 2122.47 145.475 Q2124.62 144.318 2127.7 144.318 Q2128.14 144.318 2128.67 144.387 Q2129.2 144.434 2129.85 144.549 L2129.87 148.924 Z\" fill=\"#000000\" fill-rule=\"evenodd\" fill-opacity=\"1\" /><path clip-path=\"url(#clip420)\" d=\"M 0 0 M2132.49 144.943 L2152.72 144.943 L2152.72 148.832 L2136.7 167.466 L2152.72 167.466 L2152.72 170.869 L2131.91 170.869 L2131.91 166.98 L2147.93 148.346 L2132.49 148.346 L2132.49 144.943 Z\" fill=\"#000000\" fill-rule=\"evenodd\" fill-opacity=\"1\" /><path clip-path=\"url(#clip420)\" d=\"M 0 0 M2167.23 147.929 Q2163.81 147.929 2161.82 150.614 Q2159.83 153.276 2159.83 157.929 Q2159.83 162.582 2161.79 165.267 Q2163.79 167.929 2167.23 167.929 Q2170.64 167.929 2172.63 165.244 Q2174.62 162.558 2174.62 157.929 Q2174.62 153.322 2172.63 150.637 Q2170.64 147.929 2167.23 147.929 M2167.23 144.318 Q2172.79 144.318 2175.96 147.929 Q2179.13 151.54 2179.13 157.929 Q2179.13 164.295 2175.96 167.929 Q2172.79 171.54 2167.23 171.54 Q2161.66 171.54 2158.48 167.929 Q2155.34 164.295 2155.34 157.929 Q2155.34 151.54 2158.48 147.929 Q2161.66 144.318 2167.23 144.318 Z\" fill=\"#000000\" fill-rule=\"evenodd\" fill-opacity=\"1\" /><path clip-path=\"url(#clip420)\" d=\"M 0 0 M2205.15 155.221 L2205.15 170.869 L2200.89 170.869 L2200.89 155.359 Q2200.89 151.679 2199.46 149.85 Q2198.02 148.022 2195.15 148.022 Q2191.7 148.022 2189.71 150.221 Q2187.72 152.42 2187.72 156.216 L2187.72 170.869 L2183.44 170.869 L2183.44 144.943 L2187.72 144.943 L2187.72 148.971 Q2189.25 146.633 2191.31 145.475 Q2193.39 144.318 2196.1 144.318 Q2200.57 144.318 2202.86 147.096 Q2205.15 149.85 2205.15 155.221 Z\" fill=\"#000000\" fill-rule=\"evenodd\" fill-opacity=\"1\" /><path clip-path=\"url(#clip420)\" d=\"M 0 0 M2231.79 156.841 L2231.79 158.924 L2212.21 158.924 Q2212.49 163.322 2214.85 165.637 Q2217.23 167.929 2221.47 167.929 Q2223.92 167.929 2226.22 167.327 Q2228.53 166.725 2230.8 165.521 L2230.8 169.549 Q2228.51 170.521 2226.1 171.031 Q2223.69 171.54 2221.22 171.54 Q2215.01 171.54 2211.38 167.929 Q2207.77 164.318 2207.77 158.16 Q2207.77 151.795 2211.19 148.068 Q2214.64 144.318 2220.47 144.318 Q2225.71 144.318 2228.74 147.697 Q2231.79 151.054 2231.79 156.841 M2227.53 155.591 Q2227.49 152.096 2225.57 150.012 Q2223.67 147.929 2220.52 147.929 Q2216.96 147.929 2214.8 149.943 Q2212.67 151.957 2212.35 155.614 L2227.53 155.591 Z\" fill=\"#000000\" fill-rule=\"evenodd\" fill-opacity=\"1\" /><polyline clip-path=\"url(#clip420)\" style=\"stroke:#e26f46; stroke-width:4; stroke-opacity:1; fill:none\" points=\"\n",
       "  1671.32,214.069 1816.47,214.069 \n",
       "  \"/>\n",
       "<path clip-path=\"url(#clip420)\" d=\"M 0 0 M1854.5 233.756 Q1852.7 238.386 1850.99 239.798 Q1849.27 241.21 1846.4 241.21 L1843 241.21 L1843 237.645 L1845.5 237.645 Q1847.26 237.645 1848.23 236.812 Q1849.2 235.978 1850.38 232.876 L1851.15 230.932 L1840.66 205.423 L1845.18 205.423 L1853.28 225.701 L1861.38 205.423 L1865.89 205.423 L1854.5 233.756 Z\" fill=\"#000000\" fill-rule=\"evenodd\" fill-opacity=\"1\" /><path clip-path=\"url(#clip420)\" d=\"M 0 0 M1874.99 227.413 L1891.31 227.413 L1891.31 231.349 L1869.37 231.349 L1869.37 227.413 Q1872.03 224.659 1876.61 220.029 Q1881.22 215.376 1882.4 214.034 Q1884.64 211.511 1885.52 209.775 Q1886.43 208.015 1886.43 206.326 Q1886.43 203.571 1884.48 201.835 Q1882.56 200.099 1879.46 200.099 Q1877.26 200.099 1874.81 200.863 Q1872.37 201.627 1869.6 203.177 L1869.6 198.455 Q1872.42 197.321 1874.87 196.742 Q1877.33 196.164 1879.37 196.164 Q1884.74 196.164 1887.93 198.849 Q1891.12 201.534 1891.12 206.025 Q1891.12 208.154 1890.31 210.076 Q1889.53 211.974 1887.42 214.566 Q1886.84 215.238 1883.74 218.455 Q1880.64 221.65 1874.99 227.413 Z\" fill=\"#000000\" fill-rule=\"evenodd\" fill-opacity=\"1\" /></svg>\n"
      ]
     },
     "execution_count": 232,
     "metadata": {},
     "output_type": "execute_result"
    }
   ],
   "source": [
    "t_step = Array(0:0.1:24)\n",
    "plot!(t_step, one_analyt2(t_step), label=\"wartości obliczone\")"
   ]
  },
  {
   "cell_type": "markdown",
   "metadata": {},
   "source": [
    "Jak widać rozwiązanie analityczne dobrze dopasowuje się do zmierzonych danych"
   ]
  },
  {
   "cell_type": "markdown",
   "metadata": {},
   "source": [
    "## 9. Bibliografia<a name=\"9\"></a>"
   ]
  },
  {
   "cell_type": "markdown",
   "metadata": {},
   "source": [
    "1. Orzechowska-Juzwenko K. (red.), *Podstawy farmakologii klinicznej*, VOLUMED, Wrocław 1997\n",
    "2. Grabowski T., *Farmakokinetyka i biofarmacja*, www.biokinetica.pl, wydanie04122015\n",
    "3. Herman T.W., *Farmakokinetyka. Teoria i Praktyka*, Wydawnictwo Lekarskie PZWL, Warszawa 2002"
   ]
  },
  {
   "cell_type": "markdown",
   "metadata": {},
   "source": []
  }
 ],
 "metadata": {
  "kernelspec": {
   "display_name": "Julia 1.5.3",
   "language": "julia",
   "name": "julia-1.5"
  },
  "language_info": {
   "file_extension": ".jl",
   "mimetype": "application/julia",
   "name": "julia",
   "version": "1.5.3"
  }
 },
 "nbformat": 4,
 "nbformat_minor": 4
}
