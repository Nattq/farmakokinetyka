{
 "cells": [
  {
   "cell_type": "markdown",
   "metadata": {},
   "source": [
    "# Dynamika wchłaniania się leków - farmakokinetyka"
   ]
  },
  {
   "cell_type": "markdown",
   "metadata": {},
   "source": [
    "### Równania różniczkowe w technice"
   ]
  },
  {
   "cell_type": "markdown",
   "metadata": {},
   "source": [
    "#### Urszula Spik i Natalia Jelito\n",
    "---"
   ]
  },
  {
   "cell_type": "markdown",
   "metadata": {},
   "source": [
    "## Spis treści:"
   ]
  },
  {
   "cell_type": "markdown",
   "metadata": {},
   "source": [
    "1. [Czym jest farmakokinetyka i jej zastosowania](#1)\n",
    "2. [Nota historyczna](#2)\n",
    "3. [Model jednokompartmentowy](#3)\n",
    "    1. [definicja kompartmentu](#3.1)\n",
    "    2. [otwarty model jednokompartmentowy](#3.2)\n",
    "    3. [założenia dla modelu kompartmentowego](#3.3)\n",
    "4. [Wprowadzenie parametrów farmakokinetycznych](#6)\n",
    "    1. [Dawka jednorazowa dożylna](#6.1)\n",
    "    2. [Dawka jednorazowa doustna](#6.2)\n",
    "5. [LADME - procesy farmakinetyczne](#5)\n",
    "6. [Parametry farmakokinetyczne](#6)\n",
    "7. [Zastosowanie modelu na przykładach](#7)\n",
    "    1. [Dawka jednorazowa dożylna](#7.1)\n",
    "    2. [Dawka jednorazowa doustna](#7.2)\n",
    "---"
   ]
  },
  {
   "cell_type": "markdown",
   "metadata": {},
   "source": [
    "## 1. Czym jest farmakokinetyka i jej zastosowania <a name=\"1\"></a>"
   ]
  },
  {
   "cell_type": "markdown",
   "metadata": {},
   "source": [
    "**Farmakokinetyka** to dziedzina farmakologii opisująca przebieg procesów dotyczących losów leków i ich metabolitów w czasie.\n",
    "\n",
    "Celem nowoczesnej farmakometrii jest  jest kontrola właściwości leku na każdym etapie jego tworzenia, czyli zaczynając od szukania kandydatów na leki, poprzez projekt i formulację postaci aż do zastosowania u pacjenta i późniejszym zakończeniu terapii i kontroli jej skutków. Obiektywne kontrolowanie właściwości leku jest możliwe dzięki złożonemu opisowi fizykochemicznemu oraz matematycznemu zarówno samego leku jak i zmian jakim ulega na przestrzeni czasu w żywym organizmu.\n",
    "\n",
    "Obecnie analiza parametrów farmakokinetycznych i toksykokinetycznych rozwija się w czterech podstawowych środowiskach badawczych: *in silico*, *in vivo*, *in vitro*, *in situ*.\n"
   ]
  },
  {
   "cell_type": "markdown",
   "metadata": {},
   "source": [
    "## 2. Nota historyczna <a name=\"2\"></a>"
   ]
  },
  {
   "cell_type": "markdown",
   "metadata": {},
   "source": [
    "Termin farmakokinetyka został wprowadzony dopiero 1953 przez Friedricha Hartmuta Dosta, a jej gwałtowny rozwój przypada na okres powojenny, głównie w Stanach Zjednoczonych i Europie Zachodniej. Było to uwarunkowane szerokim zstosowaniem cydrowych i analogowych maszyn matematycznych.\n",
    "\n",
    "Jednym z początkowych, przełomowych wydarzeń było wykazanie przez Erika Widmarka w latach 1920-1932, że jest możliwe przedstawienie zamiany stęzenia we krwi acetonu i alkoholu etylowego w sposób matematyczny za pomocą prostych równań i wykresów.\n",
    "\n",
    "Pierwasza publikacja z zakresu farmakokinetyki miała miejsce w 1937 przez Torstena i Teorell pt. *„Kinetics of distribution of substances administered to the body”.*"
   ]
  },
  {
   "cell_type": "markdown",
   "metadata": {},
   "source": [
    "## 3. Model jednokompartmentowy  <a name=\"3\"></a>"
   ]
  },
  {
   "cell_type": "markdown",
   "metadata": {},
   "source": [
    "### A. Definicja kompartmentu <a name=\"3.1\"></a>"
   ]
  },
  {
   "cell_type": "code",
   "execution_count": null,
   "metadata": {},
   "outputs": [],
   "source": []
  },
  {
   "cell_type": "markdown",
   "metadata": {},
   "source": [
    "### B. Otwarty model jednokompartmentowy <a name=\"3.2\"></a>"
   ]
  },
  {
   "cell_type": "markdown",
   "metadata": {},
   "source": [
    "### C. Założenia dla modelu kompartmentowego <a name=\"3.3\"></a>"
   ]
  },
  {
   "cell_type": "markdown",
   "metadata": {},
   "source": [
    "## 6. Wprowadzenie parametrów farmakokinetycznych <a name=\"6\"></a>"
   ]
  },
  {
   "cell_type": "markdown",
   "metadata": {},
   "source": [
    "### 6. 1 Dawka jednorazowa dożylna w modelu jednokompartowym<a name=\"6.1\"></a>"
   ]
  },
  {
   "cell_type": "markdown",
   "metadata": {},
   "source": [
    "#### 6.1.1 Masa (stężenie) leku we krwi jako funkcja czasu"
   ]
  },
  {
   "cell_type": "markdown",
   "metadata": {},
   "source": [
    "Ten model można zobrazować za pomocą poniższego schematu:"
   ]
  },
  {
   "cell_type": "markdown",
   "metadata": {},
   "source": [
    "![Dawka jednorazowa dożyln](obrazy/dozylnaschemat.png)"
   ]
  },
  {
   "cell_type": "markdown",
   "metadata": {},
   "source": [
    "gdzie:\n",
    "\n",
    "$X_0$ - masa leku podana dożylnie (dawka) w postaci jednorazowego wstrzyknięcia,\n",
    "\n",
    "$X$ - masa leku we krwi (reprezentującej cały komparment) w czasie t,\n",
    "\n",
    "$X_u$ - masa leku we krwi (reprezentującej cały kompartment) w czasie t,\n",
    "\n",
    "$X_{nr}$ - masa leku wydalona drogami pozanerkowymi w czasie t, \n",
    "\n",
    "$\\mathrm{k_e}$ - stała szybkości wydalania leku przez nerki zgodnie z procesem pierwszego rzędu, \n",
    "\n",
    "$\\mathrm{k_{nr}}$ - stała szybkości pierwszego rzędu wydalania leku drogami pozanerkowymi, np. z żółcią po metabolizmie w wątrobie"
   ]
  },
  {
   "cell_type": "markdown",
   "metadata": {},
   "source": [
    "Sumę wszystkich stałych szybkości wydalania leku z organizmu określamy jako $K$ - stałą szybkość eliminacji leku z organizmu."
   ]
  },
  {
   "cell_type": "markdown",
   "metadata": {},
   "source": [
    "W przypadku powyższego schematu można ją zapisać jako: \n",
    "$$ \\mathrm{K} = \\mathrm{k_e} + \\mathrm{k_{nr}} $$"
   ]
  },
  {
   "cell_type": "markdown",
   "metadata": {},
   "source": [
    "W ten sposób nasz model ulega uproszczeniu, przy założeniu, że dystrybucja dawki dożylnej będzie zachodziła natychmiastowo w całym organizmie (kompartmencie):"
   ]
  },
  {
   "cell_type": "markdown",
   "metadata": {},
   "source": [
    "![Dawka dożylna schemat uproszczony](obrazy/dozylnaschematupr.png)"
   ]
  },
  {
   "cell_type": "markdown",
   "metadata": {},
   "source": [
    "W celu wyprowadzenia równania na ilość leku we krwi będącego funkcją czasu należy rozwiązać równanie różniczkowe pierwszego rzędu w postaci:\n",
    "$$ \\frac{dX}{dt} = -\\mathrm{K} \\cdot X $$"
   ]
  },
  {
   "cell_type": "markdown",
   "metadata": {},
   "source": [
    "Korzystając z metody rozdzielenia zmiennych uzyskujemy równanie\n",
    "$$ \\int_{X}^{X_0} \\frac{dX}{X} = -\\mathrm{K} \\cdot \\int_{0}^{t} dt $$\n",
    "\n",
    "Które po scałkowaniu przyjmuje postać\n",
    "$$ \\mathrm{ln}X - \\mathrm{ln}X_0 = -\\mathrm{K} \\cdot t$$\n"
   ]
  },
  {
   "cell_type": "markdown",
   "metadata": {},
   "source": [
    "Następnie można sprowadzić je do równania:\n",
    "\n",
    "$$X = X_0 \\cdot \\mathrm{e}^{-\\mathrm{K} \\cdot t} \\tag{1}$$"
   ]
  },
  {
   "cell_type": "markdown",
   "metadata": {},
   "source": [
    "Z czego widać, że masa leku we krwi jest malejącą funkcją wykładniczą czasu."
   ]
  },
  {
   "cell_type": "markdown",
   "metadata": {},
   "source": [
    "Za pomocą doświadczeń w praktyce wyznacza się stężenie leku we krwi ($C$), a nie jego masę. Zatem powyższe równanie jest niepraktyczne. \n",
    "\n",
    "Wprowadżmy jednak pojęcie objętości dystrybucji ($V_d$), czyli hipotetycznej objętości płynów ustrojowych, których po homogenicznym rozmieszczeniu wprowadzanej dawki dożylnej lek miałby takie stężenie jak we krwi. W tym momencie można zapisać, że $$X = V_d \\cdot C \\tag{2}$$."
   ]
  },
  {
   "cell_type": "markdown",
   "metadata": {},
   "source": [
    "Używrając tej równości doprowadzamy nasze równanie do postaci \n",
    "\n",
    "$$ C = C_0 \\cdot \\mathrm{e}^{-\\mathrm{K} \\cdot t} \\tag{3}$$"
   ]
  },
  {
   "cell_type": "markdown",
   "metadata": {},
   "source": [
    "### 6.2 Jednorazowa dawka pozanaczyniowa"
   ]
  },
  {
   "cell_type": "markdown",
   "metadata": {},
   "source": [
    "#### 6.2.1 Masa (stężenie) leku we krwi jako funkcja czasu"
   ]
  },
  {
   "cell_type": "code",
   "execution_count": null,
   "metadata": {},
   "outputs": [],
   "source": []
  }
 ],
 "metadata": {
  "kernelspec": {
   "display_name": "Python 3",
   "language": "python",
   "name": "python3"
  },
  "language_info": {
   "codemirror_mode": {
    "name": "ipython",
    "version": 3
   },
   "file_extension": ".py",
   "mimetype": "text/x-python",
   "name": "python",
   "nbconvert_exporter": "python",
   "pygments_lexer": "ipython3",
   "version": "3.8.5"
  }
 },
 "nbformat": 4,
 "nbformat_minor": 4
}
